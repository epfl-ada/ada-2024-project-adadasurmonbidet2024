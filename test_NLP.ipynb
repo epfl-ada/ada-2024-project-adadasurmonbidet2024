{
 "cells": [
  {
   "cell_type": "code",
   "execution_count": 4,
   "metadata": {},
   "outputs": [],
   "source": [
    "import numpy as np\n",
    "import pandas as pd\n",
    "import json\n",
    "import pandasql as psql\n",
    "import eng_to_ipa as ipa\n",
    "import matplotlib.pyplot as plt\n",
    "import seaborn as sns"
   ]
  },
  {
   "cell_type": "code",
   "execution_count": 10,
   "metadata": {},
   "outputs": [],
   "source": [
    "movies_df = pd.read_csv('MovieSummaries/movie.metadata.tsv',sep='\\t',names=['Wikipedia_ID','Freebase_ID','Name','Release_date','Box_office_revenues','Runtime','Languages','Country','Genres'])\n",
    "#movies_df.head()\n",
    "\n",
    "character_df = pd.read_csv('MovieSummaries/character.metadata.tsv',sep='\\t', names=['Wikipedia_ID','Freebase_ID','Release_date','Character_name','Actor_DOB',\n",
    "                                                                                    'Sex','Height','Ethnicity','Actor_name','Actor_age','Freebase_character_map'\n",
    "                                                                                    ,'?','??'])"
   ]
  },
  {
   "cell_type": "code",
   "execution_count": null,
   "metadata": {},
   "outputs": [],
   "source": []
  }
 ],
 "metadata": {
  "kernelspec": {
   "display_name": "Python 3",
   "language": "python",
   "name": "python3"
  },
  "language_info": {
   "codemirror_mode": {
    "name": "ipython",
    "version": 3
   },
   "file_extension": ".py",
   "mimetype": "text/x-python",
   "name": "python",
   "nbconvert_exporter": "python",
   "pygments_lexer": "ipython3",
   "version": "3.12.6"
  }
 },
 "nbformat": 4,
 "nbformat_minor": 2
}
