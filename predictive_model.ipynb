{
 "cells": [
  {
   "cell_type": "code",
   "execution_count": 21,
   "metadata": {},
<<<<<<< HEAD
   "outputs": [],
=======
   "outputs": [
    {
     "name": "stderr",
     "output_type": "stream",
     "text": [
      "[nltk_data] Downloading package words to\n",
      "[nltk_data]     C:\\Users\\amaur\\AppData\\Roaming\\nltk_data...\n",
      "[nltk_data]   Package words is already up-to-date!\n",
      "[nltk_data] Downloading package names to\n",
      "[nltk_data]     C:\\Users\\amaur\\AppData\\Roaming\\nltk_data...\n",
      "[nltk_data]   Package names is already up-to-date!\n"
     ]
    }
   ],
>>>>>>> momo_script
   "source": [
    "#from src.utils.results_utils import *\n",
    "from src.utils.data_utils import str_dict_to_values\n",
    "from src.utils.results_utils import *\n",
    "from src.utils.ml_utils import *\n",
    "import pandas as pd\n",
    "import seaborn as sns\n",
    "import matplotlib.pyplot as plt\n",
    "from collections import Counter\n",
    "from sklearn.feature_extraction.text import HashingVectorizer\n",
    "from sklearn.neural_network import MLPClassifier\n",
    "from sklearn.model_selection import train_test_split\n",
    "from sklearn.metrics import accuracy_score\n",
    "from sklearn.model_selection import GridSearchCV\n",
    "from sklearn.preprocessing import StandardScaler\n",
    "\n",
    "import pickle"
   ]
  },
  {
   "cell_type": "markdown",
   "metadata": {},
   "source": [
    "## Load and clean the dataset"
   ]
  },
  {
   "cell_type": "code",
   "execution_count": 22,
   "metadata": {},
   "outputs": [
    {
     "data": {
      "text/html": [
       "<div>\n",
       "<style scoped>\n",
       "    .dataframe tbody tr th:only-of-type {\n",
       "        vertical-align: middle;\n",
       "    }\n",
       "\n",
       "    .dataframe tbody tr th {\n",
       "        vertical-align: top;\n",
       "    }\n",
       "\n",
       "    .dataframe thead th {\n",
       "        text-align: right;\n",
       "    }\n",
       "</style>\n",
       "<table border=\"1\" class=\"dataframe\">\n",
       "  <thead>\n",
       "    <tr style=\"text-align: right;\">\n",
       "      <th></th>\n",
       "      <th>Character_Name</th>\n",
       "      <th>Wikipedia_id</th>\n",
       "      <th>Polarity</th>\n",
       "      <th>Subjectivity</th>\n",
       "    </tr>\n",
       "  </thead>\n",
       "  <tbody>\n",
       "    <tr>\n",
       "      <th>0</th>\n",
       "      <td>Williams</td>\n",
       "      <td>3217</td>\n",
       "      <td>0.196667</td>\n",
       "      <td>0.450000</td>\n",
       "    </tr>\n",
       "    <tr>\n",
       "      <th>1</th>\n",
       "      <td>Sheila</td>\n",
       "      <td>3217</td>\n",
       "      <td>0.042172</td>\n",
       "      <td>0.308838</td>\n",
       "    </tr>\n",
       "    <tr>\n",
       "      <th>2</th>\n",
       "      <td>Arthur</td>\n",
       "      <td>3217</td>\n",
       "      <td>0.040338</td>\n",
       "      <td>0.295411</td>\n",
       "    </tr>\n",
       "    <tr>\n",
       "      <th>3</th>\n",
       "      <td>Ash</td>\n",
       "      <td>3217</td>\n",
       "      <td>0.040338</td>\n",
       "      <td>0.295411</td>\n",
       "    </tr>\n",
       "    <tr>\n",
       "      <th>4</th>\n",
       "      <td>Duke</td>\n",
       "      <td>3217</td>\n",
       "      <td>0.044180</td>\n",
       "      <td>0.323545</td>\n",
       "    </tr>\n",
       "  </tbody>\n",
       "</table>\n",
       "</div>"
      ],
      "text/plain": [
       "  Character_Name  Wikipedia_id  Polarity  Subjectivity\n",
       "0       Williams          3217  0.196667      0.450000\n",
       "1         Sheila          3217  0.042172      0.308838\n",
       "2         Arthur          3217  0.040338      0.295411\n",
       "3            Ash          3217  0.040338      0.295411\n",
       "4           Duke          3217  0.044180      0.323545"
      ]
     },
     "execution_count": 22,
     "metadata": {},
     "output_type": "execute_result"
    }
   ],
   "source": [
    "df_sentiment_analysis_textblob = pd.read_csv('data/sentimental_analysis.csv')\n",
    "df_sentiment_analysis_textblob.head()"
   ]
  },
  {
   "cell_type": "code",
   "execution_count": 23,
   "metadata": {},
   "outputs": [
    {
     "data": {
      "text/html": [
       "<div>\n",
       "<style scoped>\n",
       "    .dataframe tbody tr th:only-of-type {\n",
       "        vertical-align: middle;\n",
       "    }\n",
       "\n",
       "    .dataframe tbody tr th {\n",
       "        vertical-align: top;\n",
       "    }\n",
       "\n",
       "    .dataframe thead th {\n",
       "        text-align: right;\n",
       "    }\n",
       "</style>\n",
       "<table border=\"1\" class=\"dataframe\">\n",
       "  <thead>\n",
       "    <tr style=\"text-align: right;\">\n",
       "      <th></th>\n",
       "      <th>Wikipedia_ID</th>\n",
       "      <th>Name</th>\n",
       "      <th>Languages</th>\n",
       "      <th>Country</th>\n",
       "      <th>Character_name</th>\n",
       "      <th>Sex</th>\n",
       "      <th>Actor_age</th>\n",
       "      <th>Release_date</th>\n",
       "      <th>Genre_Category</th>\n",
       "    </tr>\n",
       "  </thead>\n",
       "  <tbody>\n",
       "    <tr>\n",
       "      <th>0</th>\n",
       "      <td>975900</td>\n",
       "      <td>Ghosts of Mars</td>\n",
       "      <td>{\"/m/02h40lc\": \"English Language\"}</td>\n",
       "      <td>[United States of America]</td>\n",
       "      <td>Akooshay</td>\n",
       "      <td>F</td>\n",
       "      <td>42.0</td>\n",
       "      <td>2001-08-24</td>\n",
       "      <td>['Action &amp; Adventure', 'Horror &amp; Thriller', 'F...</td>\n",
       "    </tr>\n",
       "    <tr>\n",
       "      <th>1</th>\n",
       "      <td>975900</td>\n",
       "      <td>Ghosts of Mars</td>\n",
       "      <td>{\"/m/02h40lc\": \"English Language\"}</td>\n",
       "      <td>[United States of America]</td>\n",
       "      <td>Melanie</td>\n",
       "      <td>F</td>\n",
       "      <td>27.0</td>\n",
       "      <td>2001-08-24</td>\n",
       "      <td>['Action &amp; Adventure', 'Horror &amp; Thriller', 'F...</td>\n",
       "    </tr>\n",
       "    <tr>\n",
       "      <th>2</th>\n",
       "      <td>975900</td>\n",
       "      <td>Ghosts of Mars</td>\n",
       "      <td>{\"/m/02h40lc\": \"English Language\"}</td>\n",
       "      <td>[United States of America]</td>\n",
       "      <td>Williams</td>\n",
       "      <td>M</td>\n",
       "      <td>32.0</td>\n",
       "      <td>2001-08-24</td>\n",
       "      <td>['Action &amp; Adventure', 'Horror &amp; Thriller', 'F...</td>\n",
       "    </tr>\n",
       "    <tr>\n",
       "      <th>3</th>\n",
       "      <td>975900</td>\n",
       "      <td>Ghosts of Mars</td>\n",
       "      <td>{\"/m/02h40lc\": \"English Language\"}</td>\n",
       "      <td>[United States of America]</td>\n",
       "      <td>Jericho</td>\n",
       "      <td>M</td>\n",
       "      <td>33.0</td>\n",
       "      <td>2001-08-24</td>\n",
       "      <td>['Action &amp; Adventure', 'Horror &amp; Thriller', 'F...</td>\n",
       "    </tr>\n",
       "    <tr>\n",
       "      <th>4</th>\n",
       "      <td>975900</td>\n",
       "      <td>Ghosts of Mars</td>\n",
       "      <td>{\"/m/02h40lc\": \"English Language\"}</td>\n",
       "      <td>[United States of America]</td>\n",
       "      <td>Bashira</td>\n",
       "      <td>F</td>\n",
       "      <td>23.0</td>\n",
       "      <td>2001-08-24</td>\n",
       "      <td>['Action &amp; Adventure', 'Horror &amp; Thriller', 'F...</td>\n",
       "    </tr>\n",
       "  </tbody>\n",
       "</table>\n",
       "</div>"
      ],
      "text/plain": [
       "   Wikipedia_ID            Name                           Languages  \\\n",
       "0        975900  Ghosts of Mars  {\"/m/02h40lc\": \"English Language\"}   \n",
       "1        975900  Ghosts of Mars  {\"/m/02h40lc\": \"English Language\"}   \n",
       "2        975900  Ghosts of Mars  {\"/m/02h40lc\": \"English Language\"}   \n",
       "3        975900  Ghosts of Mars  {\"/m/02h40lc\": \"English Language\"}   \n",
       "4        975900  Ghosts of Mars  {\"/m/02h40lc\": \"English Language\"}   \n",
       "\n",
       "                      Country Character_name Sex  Actor_age Release_date  \\\n",
       "0  [United States of America]       Akooshay   F       42.0   2001-08-24   \n",
       "1  [United States of America]        Melanie   F       27.0   2001-08-24   \n",
       "2  [United States of America]       Williams   M       32.0   2001-08-24   \n",
       "3  [United States of America]        Jericho   M       33.0   2001-08-24   \n",
       "4  [United States of America]        Bashira   F       23.0   2001-08-24   \n",
       "\n",
       "                                      Genre_Category  \n",
       "0  ['Action & Adventure', 'Horror & Thriller', 'F...  \n",
       "1  ['Action & Adventure', 'Horror & Thriller', 'F...  \n",
       "2  ['Action & Adventure', 'Horror & Thriller', 'F...  \n",
       "3  ['Action & Adventure', 'Horror & Thriller', 'F...  \n",
       "4  ['Action & Adventure', 'Horror & Thriller', 'F...  "
      ]
     },
     "execution_count": 23,
     "metadata": {},
     "output_type": "execute_result"
    }
   ],
   "source": [
    "df_ml = pd.read_csv('data/cleaned.csv')\n",
    "df_ml['Country'] = df_ml['Country'].apply(str_dict_to_values)\n",
    "\n",
    "df_ml.head()"
   ]
  },
  {
   "cell_type": "code",
   "execution_count": 24,
   "metadata": {},
   "outputs": [
    {
     "data": {
      "text/html": [
       "<div>\n",
       "<style scoped>\n",
       "    .dataframe tbody tr th:only-of-type {\n",
       "        vertical-align: middle;\n",
       "    }\n",
       "\n",
       "    .dataframe tbody tr th {\n",
       "        vertical-align: top;\n",
       "    }\n",
       "\n",
       "    .dataframe thead th {\n",
       "        text-align: right;\n",
       "    }\n",
       "</style>\n",
       "<table border=\"1\" class=\"dataframe\">\n",
       "  <thead>\n",
       "    <tr style=\"text-align: right;\">\n",
       "      <th></th>\n",
       "      <th>Wikipedia_ID</th>\n",
       "      <th>Name</th>\n",
       "      <th>Languages</th>\n",
       "      <th>Country</th>\n",
       "      <th>Character_name</th>\n",
       "      <th>Sex</th>\n",
       "      <th>Actor_age</th>\n",
       "      <th>Release_date</th>\n",
       "      <th>Genre_Category</th>\n",
       "      <th>Character_Name</th>\n",
       "      <th>Wikipedia_id</th>\n",
       "      <th>Polarity</th>\n",
       "      <th>Subjectivity</th>\n",
       "      <th>kindness</th>\n",
       "    </tr>\n",
       "  </thead>\n",
       "  <tbody>\n",
       "    <tr>\n",
       "      <th>0</th>\n",
       "      <td>975900</td>\n",
       "      <td>Ghosts of Mars</td>\n",
       "      <td>{\"/m/02h40lc\": \"English Language\"}</td>\n",
       "      <td>[United States of America]</td>\n",
       "      <td>Melanie</td>\n",
       "      <td>F</td>\n",
       "      <td>27.0</td>\n",
       "      <td>2001-08-24</td>\n",
       "      <td>['Action &amp; Adventure', 'Horror &amp; Thriller', 'F...</td>\n",
       "      <td>Melanie</td>\n",
       "      <td>975900</td>\n",
       "      <td>-0.021759</td>\n",
       "      <td>0.169599</td>\n",
       "      <td>Not significant</td>\n",
       "    </tr>\n",
       "    <tr>\n",
       "      <th>1</th>\n",
       "      <td>975900</td>\n",
       "      <td>Ghosts of Mars</td>\n",
       "      <td>{\"/m/02h40lc\": \"English Language\"}</td>\n",
       "      <td>[United States of America]</td>\n",
       "      <td>Williams</td>\n",
       "      <td>M</td>\n",
       "      <td>32.0</td>\n",
       "      <td>2001-08-24</td>\n",
       "      <td>['Action &amp; Adventure', 'Horror &amp; Thriller', 'F...</td>\n",
       "      <td>Williams</td>\n",
       "      <td>975900</td>\n",
       "      <td>-0.021759</td>\n",
       "      <td>0.169599</td>\n",
       "      <td>Not significant</td>\n",
       "    </tr>\n",
       "    <tr>\n",
       "      <th>2</th>\n",
       "      <td>975900</td>\n",
       "      <td>Ghosts of Mars</td>\n",
       "      <td>{\"/m/02h40lc\": \"English Language\"}</td>\n",
       "      <td>[United States of America]</td>\n",
       "      <td>Jericho</td>\n",
       "      <td>M</td>\n",
       "      <td>33.0</td>\n",
       "      <td>2001-08-24</td>\n",
       "      <td>['Action &amp; Adventure', 'Horror &amp; Thriller', 'F...</td>\n",
       "      <td>Jericho</td>\n",
       "      <td>975900</td>\n",
       "      <td>-0.021759</td>\n",
       "      <td>0.169599</td>\n",
       "      <td>Not significant</td>\n",
       "    </tr>\n",
       "    <tr>\n",
       "      <th>3</th>\n",
       "      <td>975900</td>\n",
       "      <td>Ghosts of Mars</td>\n",
       "      <td>{\"/m/02h40lc\": \"English Language\"}</td>\n",
       "      <td>[United States of America]</td>\n",
       "      <td>Helena</td>\n",
       "      <td>F</td>\n",
       "      <td>52.0</td>\n",
       "      <td>2001-08-24</td>\n",
       "      <td>['Action &amp; Adventure', 'Horror &amp; Thriller', 'F...</td>\n",
       "      <td>Helena</td>\n",
       "      <td>975900</td>\n",
       "      <td>-0.096875</td>\n",
       "      <td>0.352014</td>\n",
       "      <td>Not significant</td>\n",
       "    </tr>\n",
       "    <tr>\n",
       "      <th>4</th>\n",
       "      <td>975900</td>\n",
       "      <td>Ghosts of Mars</td>\n",
       "      <td>{\"/m/02h40lc\": \"English Language\"}</td>\n",
       "      <td>[United States of America]</td>\n",
       "      <td>Mars</td>\n",
       "      <td>M</td>\n",
       "      <td>NaN</td>\n",
       "      <td>2001-08-24</td>\n",
       "      <td>['Action &amp; Adventure', 'Horror &amp; Thriller', 'F...</td>\n",
       "      <td>Mars</td>\n",
       "      <td>975900</td>\n",
       "      <td>0.041667</td>\n",
       "      <td>0.208333</td>\n",
       "      <td>Not significant</td>\n",
       "    </tr>\n",
       "  </tbody>\n",
       "</table>\n",
       "</div>"
      ],
      "text/plain": [
       "   Wikipedia_ID            Name                           Languages  \\\n",
       "0        975900  Ghosts of Mars  {\"/m/02h40lc\": \"English Language\"}   \n",
       "1        975900  Ghosts of Mars  {\"/m/02h40lc\": \"English Language\"}   \n",
       "2        975900  Ghosts of Mars  {\"/m/02h40lc\": \"English Language\"}   \n",
       "3        975900  Ghosts of Mars  {\"/m/02h40lc\": \"English Language\"}   \n",
       "4        975900  Ghosts of Mars  {\"/m/02h40lc\": \"English Language\"}   \n",
       "\n",
       "                      Country Character_name Sex  Actor_age Release_date  \\\n",
       "0  [United States of America]        Melanie   F       27.0   2001-08-24   \n",
       "1  [United States of America]       Williams   M       32.0   2001-08-24   \n",
       "2  [United States of America]        Jericho   M       33.0   2001-08-24   \n",
       "3  [United States of America]         Helena   F       52.0   2001-08-24   \n",
       "4  [United States of America]           Mars   M        NaN   2001-08-24   \n",
       "\n",
       "                                      Genre_Category Character_Name  \\\n",
       "0  ['Action & Adventure', 'Horror & Thriller', 'F...        Melanie   \n",
       "1  ['Action & Adventure', 'Horror & Thriller', 'F...       Williams   \n",
       "2  ['Action & Adventure', 'Horror & Thriller', 'F...        Jericho   \n",
       "3  ['Action & Adventure', 'Horror & Thriller', 'F...         Helena   \n",
       "4  ['Action & Adventure', 'Horror & Thriller', 'F...           Mars   \n",
       "\n",
       "   Wikipedia_id  Polarity  Subjectivity         kindness  \n",
       "0        975900 -0.021759      0.169599  Not significant  \n",
       "1        975900 -0.021759      0.169599  Not significant  \n",
       "2        975900 -0.021759      0.169599  Not significant  \n",
       "3        975900 -0.096875      0.352014  Not significant  \n",
       "4        975900  0.041667      0.208333  Not significant  "
      ]
     },
     "execution_count": 24,
     "metadata": {},
     "output_type": "execute_result"
    }
   ],
   "source": [
    "df_ml = pd.merge(df_ml, df_sentiment_analysis_textblob, left_on=['Wikipedia_ID', 'Character_name'], right_on=['Wikipedia_id', 'Character_Name'], how='inner')\n",
    "df_ml['kindness'] = df_ml['Polarity'].apply(good_guy_detector)\n",
    "df_ml.head()"
   ]
  },
  {
   "cell_type": "code",
   "execution_count": 25,
   "metadata": {},
   "outputs": [
    {
     "data": {
      "text/html": [
       "<div>\n",
       "<style scoped>\n",
       "    .dataframe tbody tr th:only-of-type {\n",
       "        vertical-align: middle;\n",
       "    }\n",
       "\n",
       "    .dataframe tbody tr th {\n",
       "        vertical-align: top;\n",
       "    }\n",
       "\n",
       "    .dataframe thead th {\n",
       "        text-align: right;\n",
       "    }\n",
       "</style>\n",
       "<table border=\"1\" class=\"dataframe\">\n",
       "  <thead>\n",
       "    <tr style=\"text-align: right;\">\n",
       "      <th></th>\n",
       "      <th>Country</th>\n",
       "      <th>Character_name</th>\n",
       "      <th>Sex</th>\n",
       "      <th>Actor_age</th>\n",
       "      <th>Genre_Category</th>\n",
       "      <th>kindness</th>\n",
       "    </tr>\n",
       "  </thead>\n",
       "  <tbody>\n",
       "    <tr>\n",
       "      <th>0</th>\n",
       "      <td>[United States of America]</td>\n",
       "      <td>Melanie</td>\n",
       "      <td>F</td>\n",
       "      <td>27.0</td>\n",
       "      <td>['Action &amp; Adventure', 'Horror &amp; Thriller', 'F...</td>\n",
       "      <td>Not significant</td>\n",
       "    </tr>\n",
       "    <tr>\n",
       "      <th>1</th>\n",
       "      <td>[United States of America]</td>\n",
       "      <td>Williams</td>\n",
       "      <td>M</td>\n",
       "      <td>32.0</td>\n",
       "      <td>['Action &amp; Adventure', 'Horror &amp; Thriller', 'F...</td>\n",
       "      <td>Not significant</td>\n",
       "    </tr>\n",
       "    <tr>\n",
       "      <th>2</th>\n",
       "      <td>[United States of America]</td>\n",
       "      <td>Jericho</td>\n",
       "      <td>M</td>\n",
       "      <td>33.0</td>\n",
       "      <td>['Action &amp; Adventure', 'Horror &amp; Thriller', 'F...</td>\n",
       "      <td>Not significant</td>\n",
       "    </tr>\n",
       "    <tr>\n",
       "      <th>3</th>\n",
       "      <td>[United States of America]</td>\n",
       "      <td>Helena</td>\n",
       "      <td>F</td>\n",
       "      <td>52.0</td>\n",
       "      <td>['Action &amp; Adventure', 'Horror &amp; Thriller', 'F...</td>\n",
       "      <td>Not significant</td>\n",
       "    </tr>\n",
       "    <tr>\n",
       "      <th>4</th>\n",
       "      <td>[United States of America]</td>\n",
       "      <td>Mars</td>\n",
       "      <td>M</td>\n",
       "      <td>NaN</td>\n",
       "      <td>['Action &amp; Adventure', 'Horror &amp; Thriller', 'F...</td>\n",
       "      <td>Not significant</td>\n",
       "    </tr>\n",
       "  </tbody>\n",
       "</table>\n",
       "</div>"
      ],
      "text/plain": [
       "                      Country Character_name Sex  Actor_age  \\\n",
       "0  [United States of America]        Melanie   F       27.0   \n",
       "1  [United States of America]       Williams   M       32.0   \n",
       "2  [United States of America]        Jericho   M       33.0   \n",
       "3  [United States of America]         Helena   F       52.0   \n",
       "4  [United States of America]           Mars   M        NaN   \n",
       "\n",
       "                                      Genre_Category         kindness  \n",
       "0  ['Action & Adventure', 'Horror & Thriller', 'F...  Not significant  \n",
       "1  ['Action & Adventure', 'Horror & Thriller', 'F...  Not significant  \n",
       "2  ['Action & Adventure', 'Horror & Thriller', 'F...  Not significant  \n",
       "3  ['Action & Adventure', 'Horror & Thriller', 'F...  Not significant  \n",
       "4  ['Action & Adventure', 'Horror & Thriller', 'F...  Not significant  "
      ]
     },
     "execution_count": 25,
     "metadata": {},
     "output_type": "execute_result"
    }
   ],
   "source": [
    "df_ml.drop(columns=['Wikipedia_ID','Wikipedia_id','Name','Languages','Release_date','Subjectivity','Character_Name','Polarity'],inplace=True)\n",
    "df_ml.head()"
   ]
  },
  {
   "cell_type": "code",
   "execution_count": 26,
   "metadata": {},
   "outputs": [],
   "source": [
    "#Replace Actor_age column by ages groups for simplicity\n",
    "\n",
    "age_bins = [0,17, 34, 54, 74, 100]\n",
    "age_labels = [\n",
    "            '<17y', '18y-34y', '34y-54y', '55y-74y', '>75y']\n",
    "\n",
    "df_ml['age_category'] = pd.cut(df_ml['Actor_age'], bins=age_bins, labels=age_labels, right=False)\n",
    "df_ml.drop(columns=['Actor_age'],inplace=True)"
   ]
  },
  {
   "cell_type": "code",
   "execution_count": 27,
   "metadata": {},
   "outputs": [
    {
<<<<<<< HEAD
     "data": {
      "text/html": [
       "<div>\n",
       "<style scoped>\n",
       "    .dataframe tbody tr th:only-of-type {\n",
       "        vertical-align: middle;\n",
       "    }\n",
       "\n",
       "    .dataframe tbody tr th {\n",
       "        vertical-align: top;\n",
       "    }\n",
       "\n",
       "    .dataframe thead th {\n",
       "        text-align: right;\n",
       "    }\n",
       "</style>\n",
       "<table border=\"1\" class=\"dataframe\">\n",
       "  <thead>\n",
       "    <tr style=\"text-align: right;\">\n",
       "      <th></th>\n",
       "      <th>Country</th>\n",
       "      <th>Character_name</th>\n",
       "      <th>Sex</th>\n",
       "      <th>Genre_Category</th>\n",
       "      <th>kindness</th>\n",
       "      <th>age_category</th>\n",
       "      <th>vowel_count</th>\n",
       "      <th>consonant_count</th>\n",
       "      <th>name_length</th>\n",
       "    </tr>\n",
       "  </thead>\n",
       "  <tbody>\n",
       "    <tr>\n",
       "      <th>0</th>\n",
       "      <td>[United States of America]</td>\n",
       "      <td>Melanie</td>\n",
       "      <td>F</td>\n",
       "      <td>['Action &amp; Adventure', 'Horror &amp; Thriller', 'F...</td>\n",
       "      <td>Not significant</td>\n",
       "      <td>18y-34y</td>\n",
       "      <td>4</td>\n",
       "      <td>3</td>\n",
       "      <td>7</td>\n",
       "    </tr>\n",
       "    <tr>\n",
       "      <th>1</th>\n",
       "      <td>[United States of America]</td>\n",
       "      <td>Williams</td>\n",
       "      <td>M</td>\n",
       "      <td>['Action &amp; Adventure', 'Horror &amp; Thriller', 'F...</td>\n",
       "      <td>Not significant</td>\n",
       "      <td>18y-34y</td>\n",
       "      <td>3</td>\n",
       "      <td>5</td>\n",
       "      <td>8</td>\n",
       "    </tr>\n",
       "    <tr>\n",
       "      <th>2</th>\n",
       "      <td>[United States of America]</td>\n",
       "      <td>Jericho</td>\n",
       "      <td>M</td>\n",
       "      <td>['Action &amp; Adventure', 'Horror &amp; Thriller', 'F...</td>\n",
       "      <td>Not significant</td>\n",
       "      <td>18y-34y</td>\n",
       "      <td>3</td>\n",
       "      <td>4</td>\n",
       "      <td>7</td>\n",
       "    </tr>\n",
       "    <tr>\n",
       "      <th>3</th>\n",
       "      <td>[United States of America]</td>\n",
       "      <td>Helena</td>\n",
       "      <td>F</td>\n",
       "      <td>['Action &amp; Adventure', 'Horror &amp; Thriller', 'F...</td>\n",
       "      <td>Not significant</td>\n",
       "      <td>34y-54y</td>\n",
       "      <td>3</td>\n",
       "      <td>3</td>\n",
       "      <td>6</td>\n",
       "    </tr>\n",
       "    <tr>\n",
       "      <th>4</th>\n",
       "      <td>[United States of America]</td>\n",
       "      <td>Mars</td>\n",
       "      <td>M</td>\n",
       "      <td>['Action &amp; Adventure', 'Horror &amp; Thriller', 'F...</td>\n",
       "      <td>Not significant</td>\n",
       "      <td>NaN</td>\n",
       "      <td>1</td>\n",
       "      <td>3</td>\n",
       "      <td>4</td>\n",
       "    </tr>\n",
       "  </tbody>\n",
       "</table>\n",
       "</div>"
      ],
      "text/plain": [
       "                      Country Character_name Sex  \\\n",
       "0  [United States of America]        Melanie   F   \n",
       "1  [United States of America]       Williams   M   \n",
       "2  [United States of America]        Jericho   M   \n",
       "3  [United States of America]         Helena   F   \n",
       "4  [United States of America]           Mars   M   \n",
       "\n",
       "                                      Genre_Category         kindness  \\\n",
       "0  ['Action & Adventure', 'Horror & Thriller', 'F...  Not significant   \n",
       "1  ['Action & Adventure', 'Horror & Thriller', 'F...  Not significant   \n",
       "2  ['Action & Adventure', 'Horror & Thriller', 'F...  Not significant   \n",
       "3  ['Action & Adventure', 'Horror & Thriller', 'F...  Not significant   \n",
       "4  ['Action & Adventure', 'Horror & Thriller', 'F...  Not significant   \n",
       "\n",
       "  age_category  vowel_count  consonant_count  name_length  \n",
       "0      18y-34y            4                3            7  \n",
       "1      18y-34y            3                5            8  \n",
       "2      18y-34y            3                4            7  \n",
       "3      34y-54y            3                3            6  \n",
       "4          NaN            1                3            4  "
      ]
     },
     "execution_count": 27,
     "metadata": {},
     "output_type": "execute_result"
    }
   ],
   "source": [
    "get_vowel_stats(df_ml, 'Character_name')\n",
    "df_ml.head()"
   ]
  },
  {
   "cell_type": "code",
   "execution_count": 28,
   "metadata": {},
   "outputs": [
    {
=======
>>>>>>> momo_script
     "name": "stdout",
     "output_type": "stream",
     "text": [
      "Number of rows containing special characters: 7\n",
      "Unusual Characters Found: {'-'}\n"
     ]
    }
   ],
   "source": [
    "find_unusual_characters(df_ml,'Character_name')"
   ]
  },
  {
   "cell_type": "code",
<<<<<<< HEAD
   "execution_count": 29,
=======
   "execution_count": 8,
>>>>>>> momo_script
   "metadata": {},
   "outputs": [],
   "source": [
    "def plot_special_character_distribution(df, column_name, allowed_chars='abcdefghijklmnopqrstuvwxyzABCDEFGHIJKLMNOPQRSTUVWXYZ'):\n",
    "    \"\"\"\n",
    "    Generate a Seaborn barplot showing the number of rows containing each type of special character.\n",
    "\n",
    "    Parameters:\n",
    "        df (pd.DataFrame): The dataset containing the column.\n",
    "        column_name (str): The name of the column to analyze.\n",
    "        allowed_chars (str): A string of allowed characters.\n",
    "    \"\"\"\n",
    "    allowed_set = set(allowed_chars)\n",
    "    \n",
    "    # Initialize a counter for special characters\n",
    "    special_char_counts = Counter()\n",
    "    \n",
    "    # Count special characters per row\n",
    "    for value in df[column_name].dropna().astype(str):\n",
    "        special_chars = set(value) - allowed_set\n",
    "        special_char_counts.update(special_chars)\n",
    "    \n",
    "    # Convert to a DataFrame for plotting\n",
    "    special_char_df = pd.DataFrame.from_dict(special_char_counts, orient='index', columns=['Count']).reset_index()\n",
    "    special_char_df.columns = ['Special Character', 'Count']\n",
    "    \n",
    "    # Plot the distribution using Seaborn\n",
    "    plt.figure(figsize=(10, 6))\n",
    "    sns.barplot(data=special_char_df, x='Special Character', y='Count')\n",
    "    plt.title('Distribution of Special Characters')\n",
    "    plt.xlabel('Special Character')\n",
    "    plt.ylabel('Number of Rows Containing Character')\n",
    "    plt.show()"
   ]
  },
  {
   "cell_type": "code",
<<<<<<< HEAD
   "execution_count": 30,
=======
   "execution_count": 9,
>>>>>>> momo_script
   "metadata": {},
   "outputs": [
    {
     "data": {
      "image/png": "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",
      "text/plain": [
       "<Figure size 1000x600 with 1 Axes>"
      ]
     },
     "metadata": {},
     "output_type": "display_data"
    }
   ],
   "source": [
    "plot_special_character_distribution(df_ml,'Character_name')"
   ]
  },
  {
   "cell_type": "markdown",
   "metadata": {},
   "source": [
    "We will add the most frequent special character to the alphabet: 'é', 'è', 'á' and 'í'"
   ]
  },
  {
   "cell_type": "code",
<<<<<<< HEAD
   "execution_count": 31,
=======
   "execution_count": 10,
>>>>>>> momo_script
   "metadata": {},
   "outputs": [],
   "source": [
    "augmented_alphabet = 'abcdefghijklmnopqrstuvwxyzéèíá'"
   ]
  },
  {
   "cell_type": "code",
<<<<<<< HEAD
   "execution_count": 32,
=======
   "execution_count": 11,
   "metadata": {},
   "outputs": [
    {
     "data": {
      "text/html": [
       "<div>\n",
       "<style scoped>\n",
       "    .dataframe tbody tr th:only-of-type {\n",
       "        vertical-align: middle;\n",
       "    }\n",
       "\n",
       "    .dataframe tbody tr th {\n",
       "        vertical-align: top;\n",
       "    }\n",
       "\n",
       "    .dataframe thead th {\n",
       "        text-align: right;\n",
       "    }\n",
       "</style>\n",
       "<table border=\"1\" class=\"dataframe\">\n",
       "  <thead>\n",
       "    <tr style=\"text-align: right;\">\n",
       "      <th></th>\n",
       "      <th>Country</th>\n",
       "      <th>Character_name</th>\n",
       "      <th>Sex</th>\n",
       "      <th>Genre_Category</th>\n",
       "      <th>kindness</th>\n",
       "      <th>age_category</th>\n",
       "    </tr>\n",
       "  </thead>\n",
       "  <tbody>\n",
       "    <tr>\n",
       "      <th>0</th>\n",
       "      <td>[United States of America]</td>\n",
       "      <td>Melanie</td>\n",
       "      <td>F</td>\n",
       "      <td>['Action &amp; Adventure', 'Horror &amp; Thriller', 'F...</td>\n",
       "      <td>Not significant</td>\n",
       "      <td>18y-34y</td>\n",
       "    </tr>\n",
       "    <tr>\n",
       "      <th>1</th>\n",
       "      <td>[United States of America]</td>\n",
       "      <td>Williams</td>\n",
       "      <td>M</td>\n",
       "      <td>['Action &amp; Adventure', 'Horror &amp; Thriller', 'F...</td>\n",
       "      <td>Not significant</td>\n",
       "      <td>18y-34y</td>\n",
       "    </tr>\n",
       "    <tr>\n",
       "      <th>2</th>\n",
       "      <td>[United States of America]</td>\n",
       "      <td>Jericho</td>\n",
       "      <td>M</td>\n",
       "      <td>['Action &amp; Adventure', 'Horror &amp; Thriller', 'F...</td>\n",
       "      <td>Not significant</td>\n",
       "      <td>18y-34y</td>\n",
       "    </tr>\n",
       "    <tr>\n",
       "      <th>3</th>\n",
       "      <td>[United States of America]</td>\n",
       "      <td>Helena</td>\n",
       "      <td>F</td>\n",
       "      <td>['Action &amp; Adventure', 'Horror &amp; Thriller', 'F...</td>\n",
       "      <td>Not significant</td>\n",
       "      <td>34y-54y</td>\n",
       "    </tr>\n",
       "    <tr>\n",
       "      <th>4</th>\n",
       "      <td>[United States of America]</td>\n",
       "      <td>Mars</td>\n",
       "      <td>M</td>\n",
       "      <td>['Action &amp; Adventure', 'Horror &amp; Thriller', 'F...</td>\n",
       "      <td>Not significant</td>\n",
       "      <td>NaN</td>\n",
       "    </tr>\n",
       "  </tbody>\n",
       "</table>\n",
       "</div>"
      ],
      "text/plain": [
       "                      Country Character_name Sex  \\\n",
       "0  [United States of America]        Melanie   F   \n",
       "1  [United States of America]       Williams   M   \n",
       "2  [United States of America]        Jericho   M   \n",
       "3  [United States of America]         Helena   F   \n",
       "4  [United States of America]           Mars   M   \n",
       "\n",
       "                                      Genre_Category         kindness  \\\n",
       "0  ['Action & Adventure', 'Horror & Thriller', 'F...  Not significant   \n",
       "1  ['Action & Adventure', 'Horror & Thriller', 'F...  Not significant   \n",
       "2  ['Action & Adventure', 'Horror & Thriller', 'F...  Not significant   \n",
       "3  ['Action & Adventure', 'Horror & Thriller', 'F...  Not significant   \n",
       "4  ['Action & Adventure', 'Horror & Thriller', 'F...  Not significant   \n",
       "\n",
       "  age_category  \n",
       "0      18y-34y  \n",
       "1      18y-34y  \n",
       "2      18y-34y  \n",
       "3      34y-54y  \n",
       "4          NaN  "
      ]
     },
     "execution_count": 11,
     "metadata": {},
     "output_type": "execute_result"
    }
   ],
   "source": [
    "df_ml.head()"
   ]
  },
  {
   "cell_type": "code",
   "execution_count": 12,
>>>>>>> momo_script
   "metadata": {},
   "outputs": [
    {
     "data": {
      "text/html": [
       "<div>\n",
       "<style scoped>\n",
       "    .dataframe tbody tr th:only-of-type {\n",
       "        vertical-align: middle;\n",
       "    }\n",
       "\n",
       "    .dataframe tbody tr th {\n",
       "        vertical-align: top;\n",
       "    }\n",
       "\n",
       "    .dataframe thead th {\n",
       "        text-align: right;\n",
       "    }\n",
       "</style>\n",
       "<table border=\"1\" class=\"dataframe\">\n",
       "  <thead>\n",
       "    <tr style=\"text-align: right;\">\n",
       "      <th></th>\n",
       "      <th>Country</th>\n",
       "      <th>Character_name</th>\n",
       "      <th>Sex</th>\n",
       "      <th>Genre_Category</th>\n",
       "      <th>kindness</th>\n",
       "      <th>age_category</th>\n",
       "      <th>name_length</th>\n",
       "      <th>vowel_count</th>\n",
       "      <th>consonant_count</th>\n",
       "      <th>a_f</th>\n",
       "      <th>...</th>\n",
       "      <th>u_l</th>\n",
       "      <th>v_l</th>\n",
       "      <th>w_l</th>\n",
       "      <th>x_l</th>\n",
       "      <th>y_l</th>\n",
       "      <th>z_l</th>\n",
       "      <th>é_l</th>\n",
       "      <th>è_l</th>\n",
       "      <th>í_l</th>\n",
       "      <th>á_l</th>\n",
       "    </tr>\n",
       "  </thead>\n",
       "  <tbody>\n",
       "    <tr>\n",
       "      <th>0</th>\n",
       "      <td>[United States of America]</td>\n",
       "      <td>Melanie</td>\n",
       "      <td>F</td>\n",
       "      <td>['Action &amp; Adventure', 'Horror &amp; Thriller', 'F...</td>\n",
       "      <td>Not significant</td>\n",
       "      <td>18y-34y</td>\n",
       "      <td>7</td>\n",
       "      <td>4</td>\n",
       "      <td>3</td>\n",
       "      <td>0</td>\n",
       "      <td>...</td>\n",
       "      <td>0</td>\n",
       "      <td>0</td>\n",
       "      <td>0</td>\n",
       "      <td>0</td>\n",
       "      <td>0</td>\n",
       "      <td>0</td>\n",
       "      <td>0</td>\n",
       "      <td>0</td>\n",
       "      <td>0</td>\n",
       "      <td>0</td>\n",
       "    </tr>\n",
       "    <tr>\n",
       "      <th>1</th>\n",
       "      <td>[United States of America]</td>\n",
       "      <td>Williams</td>\n",
       "      <td>M</td>\n",
       "      <td>['Action &amp; Adventure', 'Horror &amp; Thriller', 'F...</td>\n",
       "      <td>Not significant</td>\n",
       "      <td>18y-34y</td>\n",
       "      <td>8</td>\n",
       "      <td>3</td>\n",
       "      <td>5</td>\n",
       "      <td>0</td>\n",
       "      <td>...</td>\n",
       "      <td>0</td>\n",
       "      <td>0</td>\n",
       "      <td>0</td>\n",
       "      <td>0</td>\n",
       "      <td>0</td>\n",
       "      <td>0</td>\n",
       "      <td>0</td>\n",
       "      <td>0</td>\n",
       "      <td>0</td>\n",
       "      <td>0</td>\n",
       "    </tr>\n",
       "    <tr>\n",
       "      <th>2</th>\n",
       "      <td>[United States of America]</td>\n",
       "      <td>Jericho</td>\n",
       "      <td>M</td>\n",
       "      <td>['Action &amp; Adventure', 'Horror &amp; Thriller', 'F...</td>\n",
       "      <td>Not significant</td>\n",
       "      <td>18y-34y</td>\n",
       "      <td>7</td>\n",
       "      <td>3</td>\n",
       "      <td>4</td>\n",
       "      <td>0</td>\n",
       "      <td>...</td>\n",
       "      <td>0</td>\n",
       "      <td>0</td>\n",
       "      <td>0</td>\n",
       "      <td>0</td>\n",
       "      <td>0</td>\n",
       "      <td>0</td>\n",
       "      <td>0</td>\n",
       "      <td>0</td>\n",
       "      <td>0</td>\n",
       "      <td>0</td>\n",
       "    </tr>\n",
       "    <tr>\n",
       "      <th>3</th>\n",
       "      <td>[United States of America]</td>\n",
       "      <td>Helena</td>\n",
       "      <td>F</td>\n",
       "      <td>['Action &amp; Adventure', 'Horror &amp; Thriller', 'F...</td>\n",
       "      <td>Not significant</td>\n",
       "      <td>34y-54y</td>\n",
       "      <td>6</td>\n",
       "      <td>3</td>\n",
       "      <td>3</td>\n",
       "      <td>0</td>\n",
       "      <td>...</td>\n",
       "      <td>0</td>\n",
       "      <td>0</td>\n",
       "      <td>0</td>\n",
       "      <td>0</td>\n",
       "      <td>0</td>\n",
       "      <td>0</td>\n",
       "      <td>0</td>\n",
       "      <td>0</td>\n",
       "      <td>0</td>\n",
       "      <td>0</td>\n",
       "    </tr>\n",
       "    <tr>\n",
       "      <th>4</th>\n",
       "      <td>[United States of America]</td>\n",
       "      <td>Mars</td>\n",
       "      <td>M</td>\n",
       "      <td>['Action &amp; Adventure', 'Horror &amp; Thriller', 'F...</td>\n",
       "      <td>Not significant</td>\n",
       "      <td>NaN</td>\n",
       "      <td>4</td>\n",
       "      <td>1</td>\n",
       "      <td>3</td>\n",
       "      <td>0</td>\n",
       "      <td>...</td>\n",
       "      <td>0</td>\n",
       "      <td>0</td>\n",
       "      <td>0</td>\n",
       "      <td>0</td>\n",
       "      <td>0</td>\n",
       "      <td>0</td>\n",
       "      <td>0</td>\n",
       "      <td>0</td>\n",
       "      <td>0</td>\n",
       "      <td>0</td>\n",
       "    </tr>\n",
       "  </tbody>\n",
       "</table>\n",
       "<p>5 rows × 69 columns</p>\n",
       "</div>"
      ],
      "text/plain": [
       "                      Country Character_name Sex  \\\n",
       "0  [United States of America]        Melanie   F   \n",
       "1  [United States of America]       Williams   M   \n",
       "2  [United States of America]        Jericho   M   \n",
       "3  [United States of America]         Helena   F   \n",
       "4  [United States of America]           Mars   M   \n",
       "\n",
       "                                      Genre_Category         kindness  \\\n",
       "0  ['Action & Adventure', 'Horror & Thriller', 'F...  Not significant   \n",
       "1  ['Action & Adventure', 'Horror & Thriller', 'F...  Not significant   \n",
       "2  ['Action & Adventure', 'Horror & Thriller', 'F...  Not significant   \n",
       "3  ['Action & Adventure', 'Horror & Thriller', 'F...  Not significant   \n",
       "4  ['Action & Adventure', 'Horror & Thriller', 'F...  Not significant   \n",
       "\n",
       "  age_category  name_length  vowel_count  consonant_count  a_f  ...  u_l  v_l  \\\n",
       "0      18y-34y            7            4                3    0  ...    0    0   \n",
       "1      18y-34y            8            3                5    0  ...    0    0   \n",
       "2      18y-34y            7            3                4    0  ...    0    0   \n",
       "3      34y-54y            6            3                3    0  ...    0    0   \n",
       "4          NaN            4            1                3    0  ...    0    0   \n",
       "\n",
       "   w_l  x_l  y_l  z_l  é_l  è_l  í_l  á_l  \n",
       "0    0    0    0    0    0    0    0    0  \n",
       "1    0    0    0    0    0    0    0    0  \n",
       "2    0    0    0    0    0    0    0    0  \n",
       "3    0    0    0    0    0    0    0    0  \n",
       "4    0    0    0    0    0    0    0    0  \n",
       "\n",
       "[5 rows x 69 columns]"
      ]
     },
     "execution_count": 32,
     "metadata": {},
     "output_type": "execute_result"
    }
   ],
   "source": [
    "character_processor = NameFeatureProcessor('Character_name', ngram_range = (2,2))\n",
    "\n",
    "df_ml = character_processor.process(df_ml,alphabet = augmented_alphabet,analyze_name = True, diacritic = False, phonetics = False, first_last = True, ngram=False)\n",
    "df_ml.head()"
   ]
  },
  {
   "cell_type": "code",
   "execution_count": 33,
   "metadata": {},
   "outputs": [],
   "source": [
    "vectorizer = HashingVectorizer(analyzer='char', ngram_range=(2, 3), n_features=100)  \n",
    "ngram_features = vectorizer.fit_transform(df_ml['Character_name'])\n",
    "n_gram_df = pd.DataFrame(ngram_features.toarray())\n",
    "df_ml = pd.concat([df_ml, n_gram_df], axis=1)\n"
   ]
  },
  {
   "cell_type": "code",
   "execution_count": 34,
   "metadata": {},
   "outputs": [],
   "source": [
    "with open('hashing_vectorizer.pkl', 'wb') as f:\n",
    "        pickle.dump(vectorizer, f)"
   ]
  },
  {
   "cell_type": "markdown",
   "metadata": {},
   "source": [
    "## Gender Predictions"
   ]
  },
  {
   "cell_type": "code",
   "execution_count": 15,
   "metadata": {},
   "outputs": [],
   "source": [
    "gender_predictor = PredictorModel(df_ml,'Sex')\n",
    "\n",
    "df_gender = gender_predictor.clean_df()"
   ]
  },
  {
   "cell_type": "code",
   "execution_count": 16,
   "metadata": {},
   "outputs": [
    {
     "name": "stdout",
     "output_type": "stream",
     "text": [
      "1201\n"
     ]
    }
   ],
   "source": [
    "rows_with_nans = df_gender.isna().any(axis=1).sum()\n",
    "print(rows_with_nans)"
   ]
  },
  {
   "cell_type": "markdown",
   "metadata": {},
   "source": [
    "We drop the rows with NaNs"
   ]
  },
  {
   "cell_type": "code",
   "execution_count": 17,
   "metadata": {},
   "outputs": [],
   "source": [
    "df_gender = df_gender.dropna()"
   ]
  },
  {
   "cell_type": "code",
   "execution_count": 18,
   "metadata": {},
   "outputs": [
    {
     "name": "stdout",
     "output_type": "stream",
     "text": [
      "51996    M\n",
      "36941    M\n",
      "26146    M\n",
      "23625    M\n",
      "34211    F\n",
      "        ..\n",
      "55485    M\n",
      "38990    M\n",
      "881      F\n",
      "16124    M\n",
      "57602    M\n",
      "Name: Sex, Length: 51825, dtype: object\n",
      "              precision    recall  f1-score   support\n",
      "\n",
      "           F       0.79      0.78      0.78      2114\n",
      "           M       0.87      0.88      0.88      3645\n",
      "\n",
      "    accuracy                           0.84      5759\n",
      "   macro avg       0.83      0.83      0.83      5759\n",
      "weighted avg       0.84      0.84      0.84      5759\n",
      "\n"
     ]
    }
   ],
   "source": [
    "gender_predictor.train(df_gender, balancing=False)"
   ]
  },
  {
   "cell_type": "code",
   "execution_count": 19,
   "metadata": {},
   "outputs": [
    {
     "name": "stdout",
     "output_type": "stream",
     "text": [
      "Prediction:  ['M']\n"
     ]
    }
   ],
   "source": [
    "gender_predictor.create_and_predict('Louis')\n",
    "    "
   ]
  },
  {
   "cell_type": "markdown",
   "metadata": {},
   "source": [
    "## Age Prediction"
   ]
  },
  {
   "cell_type": "code",
   "execution_count": 20,
   "metadata": {},
   "outputs": [],
   "source": [
    "age_predictor = PredictorModel(df_ml,'age_category')\n",
    "\n",
    "df_age = age_predictor.clean_df()"
   ]
  },
  {
   "cell_type": "code",
   "execution_count": 21,
   "metadata": {},
   "outputs": [],
   "source": [
    "df_age = df_age.dropna()"
   ]
  },
  {
   "cell_type": "markdown",
   "metadata": {},
   "source": [
    "Train"
   ]
  },
  {
   "cell_type": "code",
   "execution_count": 22,
   "metadata": {},
   "outputs": [
    {
     "name": "stdout",
     "output_type": "stream",
     "text": [
      "6714     34y-54y\n",
      "41040       <17y\n",
      "34858    55y-74y\n",
      "51860    18y-34y\n",
      "32916    18y-34y\n",
      "          ...   \n",
      "13252    18y-34y\n",
      "52701    18y-34y\n",
      "44977    18y-34y\n",
      "1049     34y-54y\n",
      "18593    34y-54y\n",
      "Name: age_category, Length: 45011, dtype: category\n",
      "Categories (5, object): ['<17y' < '18y-34y' < '34y-54y' < '55y-74y' < '>75y']\n",
      "              precision    recall  f1-score   support\n",
      "\n",
      "     18y-34y       0.47      0.34      0.40      2068\n",
      "     34y-54y       0.44      0.33      0.38      2041\n",
      "     55y-74y       0.14      0.25      0.18       597\n",
      "        <17y       0.09      0.27      0.13       254\n",
      "        >75y       0.01      0.05      0.02        42\n",
      "\n",
      "    accuracy                           0.32      5002\n",
      "   macro avg       0.23      0.25      0.22      5002\n",
      "weighted avg       0.39      0.32      0.35      5002\n",
      "\n"
     ]
    },
    {
     "name": "stderr",
     "output_type": "stream",
     "text": [
      "c:\\Users\\amaur\\anaconda3\\envs\\ada\\Lib\\site-packages\\sklearn\\neural_network\\_multilayer_perceptron.py:690: ConvergenceWarning: Stochastic Optimizer: Maximum iterations (300) reached and the optimization hasn't converged yet.\n",
      "  warnings.warn(\n"
     ]
    }
   ],
   "source": [
    "age_predictor.train(df_age, balancing=True)"
   ]
  },
  {
   "cell_type": "code",
   "execution_count": 23,
   "metadata": {},
   "outputs": [
    {
     "name": "stdout",
     "output_type": "stream",
     "text": [
      "Prediction:  ['55y-74y']\n"
     ]
    }
   ],
   "source": [
    "age_predictor.create_and_predict('Pierre')"
   ]
  },
  {
   "cell_type": "markdown",
   "metadata": {},
   "source": [
    "## Sentimental analysis model"
   ]
  },
  {
   "cell_type": "code",
<<<<<<< HEAD
   "execution_count": 35,
=======
   "execution_count": 24,
>>>>>>> momo_script
   "metadata": {},
   "outputs": [],
   "source": [
    "df_ml_SA = df_ml[df_ml['kindness'] != \"Not significant\"]\n",
    "#df_ml_SA.head(100)"
   ]
  },
  {
   "cell_type": "code",
<<<<<<< HEAD
   "execution_count": 36,
=======
   "execution_count": 25,
>>>>>>> momo_script
   "metadata": {},
   "outputs": [],
   "source": [
    "SA_predictor = PredictorModel(df_ml_SA,'kindness')\n",
    "\n",
    "df_ml_SA = SA_predictor.clean_df()"
   ]
  },
  {
   "cell_type": "code",
<<<<<<< HEAD
   "execution_count": 37,
=======
   "execution_count": 26,
>>>>>>> momo_script
   "metadata": {},
   "outputs": [
    {
     "data": {
      "text/html": [
       "<div>\n",
       "<style scoped>\n",
       "    .dataframe tbody tr th:only-of-type {\n",
       "        vertical-align: middle;\n",
       "    }\n",
       "\n",
       "    .dataframe tbody tr th {\n",
       "        vertical-align: top;\n",
       "    }\n",
       "\n",
       "    .dataframe thead th {\n",
       "        text-align: right;\n",
       "    }\n",
       "</style>\n",
       "<table border=\"1\" class=\"dataframe\">\n",
       "  <thead>\n",
       "    <tr style=\"text-align: right;\">\n",
       "      <th></th>\n",
       "      <th>kindness</th>\n",
       "      <th>name_length</th>\n",
       "      <th>vowel_count</th>\n",
       "      <th>consonant_count</th>\n",
       "      <th>a_f</th>\n",
       "      <th>b_f</th>\n",
       "      <th>c_f</th>\n",
       "      <th>d_f</th>\n",
       "      <th>e_f</th>\n",
       "      <th>f_f</th>\n",
       "      <th>...</th>\n",
       "      <th>90</th>\n",
       "      <th>91</th>\n",
       "      <th>92</th>\n",
       "      <th>93</th>\n",
       "      <th>94</th>\n",
       "      <th>95</th>\n",
       "      <th>96</th>\n",
       "      <th>97</th>\n",
       "      <th>98</th>\n",
       "      <th>99</th>\n",
       "    </tr>\n",
       "  </thead>\n",
       "  <tbody>\n",
       "    <tr>\n",
       "      <th>5</th>\n",
       "      <td>Bad</td>\n",
       "      <td>7</td>\n",
       "      <td>3</td>\n",
       "      <td>4</td>\n",
       "      <td>0</td>\n",
       "      <td>0</td>\n",
       "      <td>0</td>\n",
       "      <td>0</td>\n",
       "      <td>0</td>\n",
       "      <td>0</td>\n",
       "      <td>...</td>\n",
       "      <td>0.0</td>\n",
       "      <td>0.000000</td>\n",
       "      <td>0.0</td>\n",
       "      <td>0.27735</td>\n",
       "      <td>0.000000</td>\n",
       "      <td>0.000000</td>\n",
       "      <td>0.0</td>\n",
       "      <td>0.0</td>\n",
       "      <td>0.000000</td>\n",
       "      <td>0.0</td>\n",
       "    </tr>\n",
       "    <tr>\n",
       "      <th>16</th>\n",
       "      <td>Kind</td>\n",
       "      <td>5</td>\n",
       "      <td>2</td>\n",
       "      <td>3</td>\n",
       "      <td>0</td>\n",
       "      <td>0</td>\n",
       "      <td>0</td>\n",
       "      <td>0</td>\n",
       "      <td>1</td>\n",
       "      <td>0</td>\n",
       "      <td>...</td>\n",
       "      <td>0.0</td>\n",
       "      <td>0.377964</td>\n",
       "      <td>0.0</td>\n",
       "      <td>0.00000</td>\n",
       "      <td>0.000000</td>\n",
       "      <td>-0.377964</td>\n",
       "      <td>0.0</td>\n",
       "      <td>0.0</td>\n",
       "      <td>0.000000</td>\n",
       "      <td>0.0</td>\n",
       "    </tr>\n",
       "    <tr>\n",
       "      <th>38</th>\n",
       "      <td>Bad</td>\n",
       "      <td>10</td>\n",
       "      <td>4</td>\n",
       "      <td>6</td>\n",
       "      <td>0</td>\n",
       "      <td>0</td>\n",
       "      <td>0</td>\n",
       "      <td>0</td>\n",
       "      <td>0</td>\n",
       "      <td>0</td>\n",
       "      <td>...</td>\n",
       "      <td>0.0</td>\n",
       "      <td>-0.258199</td>\n",
       "      <td>0.0</td>\n",
       "      <td>0.00000</td>\n",
       "      <td>0.000000</td>\n",
       "      <td>0.000000</td>\n",
       "      <td>0.0</td>\n",
       "      <td>0.0</td>\n",
       "      <td>-0.258199</td>\n",
       "      <td>0.0</td>\n",
       "    </tr>\n",
       "    <tr>\n",
       "      <th>39</th>\n",
       "      <td>Bad</td>\n",
       "      <td>6</td>\n",
       "      <td>3</td>\n",
       "      <td>3</td>\n",
       "      <td>0</td>\n",
       "      <td>0</td>\n",
       "      <td>1</td>\n",
       "      <td>0</td>\n",
       "      <td>0</td>\n",
       "      <td>0</td>\n",
       "      <td>...</td>\n",
       "      <td>0.0</td>\n",
       "      <td>0.000000</td>\n",
       "      <td>0.0</td>\n",
       "      <td>0.00000</td>\n",
       "      <td>0.333333</td>\n",
       "      <td>0.000000</td>\n",
       "      <td>0.0</td>\n",
       "      <td>0.0</td>\n",
       "      <td>0.000000</td>\n",
       "      <td>0.0</td>\n",
       "    </tr>\n",
       "    <tr>\n",
       "      <th>40</th>\n",
       "      <td>Bad</td>\n",
       "      <td>10</td>\n",
       "      <td>4</td>\n",
       "      <td>6</td>\n",
       "      <td>0</td>\n",
       "      <td>0</td>\n",
       "      <td>0</td>\n",
       "      <td>0</td>\n",
       "      <td>0</td>\n",
       "      <td>0</td>\n",
       "      <td>...</td>\n",
       "      <td>0.0</td>\n",
       "      <td>-0.258199</td>\n",
       "      <td>0.0</td>\n",
       "      <td>0.00000</td>\n",
       "      <td>0.000000</td>\n",
       "      <td>0.000000</td>\n",
       "      <td>0.0</td>\n",
       "      <td>0.0</td>\n",
       "      <td>-0.258199</td>\n",
       "      <td>0.0</td>\n",
       "    </tr>\n",
       "  </tbody>\n",
       "</table>\n",
       "<p>5 rows × 164 columns</p>\n",
       "</div>"
      ],
      "text/plain": [
       "   kindness  name_length  vowel_count  consonant_count  a_f  b_f  c_f  d_f  \\\n",
       "5       Bad            7            3                4    0    0    0    0   \n",
       "16     Kind            5            2                3    0    0    0    0   \n",
       "38      Bad           10            4                6    0    0    0    0   \n",
       "39      Bad            6            3                3    0    0    1    0   \n",
       "40      Bad           10            4                6    0    0    0    0   \n",
       "\n",
       "    e_f  f_f  ...   90        91   92       93        94        95   96   97  \\\n",
       "5     0    0  ...  0.0  0.000000  0.0  0.27735  0.000000  0.000000  0.0  0.0   \n",
       "16    1    0  ...  0.0  0.377964  0.0  0.00000  0.000000 -0.377964  0.0  0.0   \n",
       "38    0    0  ...  0.0 -0.258199  0.0  0.00000  0.000000  0.000000  0.0  0.0   \n",
       "39    0    0  ...  0.0  0.000000  0.0  0.00000  0.333333  0.000000  0.0  0.0   \n",
       "40    0    0  ...  0.0 -0.258199  0.0  0.00000  0.000000  0.000000  0.0  0.0   \n",
       "\n",
       "          98   99  \n",
       "5   0.000000  0.0  \n",
       "16  0.000000  0.0  \n",
       "38 -0.258199  0.0  \n",
       "39  0.000000  0.0  \n",
       "40 -0.258199  0.0  \n",
       "\n",
       "[5 rows x 164 columns]"
      ]
     },
<<<<<<< HEAD
     "execution_count": 37,
=======
     "execution_count": 26,
>>>>>>> momo_script
     "metadata": {},
     "output_type": "execute_result"
    }
   ],
   "source": [
    "df_ml_SA = df_ml_SA.dropna()\n",
    "df_ml_SA.head()"
   ]
  },
  {
   "cell_type": "code",
<<<<<<< HEAD
   "execution_count": 38,
=======
   "execution_count": 27,
>>>>>>> momo_script
   "metadata": {},
   "outputs": [
    {
     "name": "stdout",
     "output_type": "stream",
     "text": [
      "kindness\n",
      "Bad     2069\n",
      "Kind    1827\n",
      "Name: count, dtype: int64\n"
     ]
    }
   ],
   "source": [
    "print(df_ml_SA['kindness'].value_counts())\n"
   ]
  },
  {
   "cell_type": "code",
<<<<<<< HEAD
   "execution_count": 39,
=======
   "execution_count": 28,
>>>>>>> momo_script
   "metadata": {},
   "outputs": [
    {
     "name": "stdout",
     "output_type": "stream",
     "text": [
      "25467    Kind\n",
      "28936    Kind\n",
      "38043     Bad\n",
      "30408     Bad\n",
      "4151     Kind\n",
      "         ... \n",
      "17225     Bad\n",
      "19588    Kind\n",
      "13404    Kind\n",
      "52787    Kind\n",
      "48183    Kind\n",
      "Name: kindness, Length: 3506, dtype: object\n",
      "              precision    recall  f1-score   support\n",
      "\n",
      "         Bad       0.55      0.88      0.68       210\n",
      "        Kind       0.54      0.16      0.25       180\n",
      "\n",
      "    accuracy                           0.55       390\n",
      "   macro avg       0.54      0.52      0.46       390\n",
      "weighted avg       0.54      0.55      0.48       390\n",
      "\n"
     ]
    }
   ],
   "source": [
    "SA_predictor.train(df_ml_SA, balancing=True)"
   ]
  },
  {
   "cell_type": "code",
<<<<<<< HEAD
   "execution_count": 80,
=======
   "execution_count": 29,
>>>>>>> momo_script
   "metadata": {},
   "outputs": [
    {
     "name": "stdout",
     "output_type": "stream",
     "text": [
      "Prediction:  ['Bad']\n"
     ]
    }
   ],
   "source": [
    "SA_predictor.create_and_predict('Joker')"
   ]
  }
 ],
 "metadata": {
  "kernelspec": {
   "display_name": "ada",
   "language": "python",
   "name": "python3"
  },
  "language_info": {
   "codemirror_mode": {
    "name": "ipython",
    "version": 3
   },
   "file_extension": ".py",
   "mimetype": "text/x-python",
   "name": "python",
   "nbconvert_exporter": "python",
   "pygments_lexer": "ipython3",
   "version": "3.11.9"
  }
 },
 "nbformat": 4,
 "nbformat_minor": 2
}
