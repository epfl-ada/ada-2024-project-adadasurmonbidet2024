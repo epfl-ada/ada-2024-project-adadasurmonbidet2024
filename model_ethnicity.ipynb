{
 "cells": [
  {
   "cell_type": "code",
   "execution_count": 121,
   "metadata": {},
   "outputs": [],
   "source": [
    "from src.utils.results_utils import *\n",
    "import pandas as pd\n",
    "from jellyfish import soundex\n",
    "from scipy import stats\n",
    "import matplotlib.pyplot as plt\n",
    "import statsmodels.api as sm\n",
    "from sklearn.feature_extraction.text import CountVectorizer\n",
    "from sklearn.decomposition import PCA\n",
    "from sklearn.preprocessing import StandardScaler\n",
    "from sklearn.model_selection import train_test_split\n",
    "from sklearn.preprocessing import StandardScaler\n",
    "from sklearn.ensemble import RandomForestClassifier\n",
    "from sklearn.metrics import accuracy_score, classification_report\n"
   ]
  },
  {
   "cell_type": "markdown",
   "metadata": {},
   "source": [
    "# Analysis of the differences in respect to theirs origins"
   ]
  },
  {
   "cell_type": "code",
   "execution_count": 122,
   "metadata": {},
   "outputs": [
    {
     "data": {
      "text/plain": [
       "Country\n",
       "Slavic              3035\n",
       "English-Speaking    2812\n",
       "Germanic            2359\n",
       "Romance             1847\n",
       "Hispanic             891\n",
       "Nordic               882\n",
       "East Asian           673\n",
       "Name: count, dtype: int64"
      ]
     },
     "execution_count": 122,
     "metadata": {},
     "output_type": "execute_result"
    }
   ],
   "source": [
    "# Read and present the data\n",
    "df_ethnicity = pd.read_csv('data/name_ethnicity.csv')\n",
    "df_ethnicity['Country'].value_counts()"
   ]
  },
  {
   "cell_type": "code",
   "execution_count": 123,
   "metadata": {},
   "outputs": [
    {
     "data": {
      "text/html": [
       "<div>\n",
       "<style scoped>\n",
       "    .dataframe tbody tr th:only-of-type {\n",
       "        vertical-align: middle;\n",
       "    }\n",
       "\n",
       "    .dataframe tbody tr th {\n",
       "        vertical-align: top;\n",
       "    }\n",
       "\n",
       "    .dataframe thead th {\n",
       "        text-align: right;\n",
       "    }\n",
       "</style>\n",
       "<table border=\"1\" class=\"dataframe\">\n",
       "  <thead>\n",
       "    <tr style=\"text-align: right;\">\n",
       "      <th></th>\n",
       "      <th>Category</th>\n",
       "      <th>Count</th>\n",
       "    </tr>\n",
       "  </thead>\n",
       "  <tbody>\n",
       "    <tr>\n",
       "      <th>0</th>\n",
       "      <td>Total Names</td>\n",
       "      <td>12499</td>\n",
       "    </tr>\n",
       "    <tr>\n",
       "      <th>1</th>\n",
       "      <td>Unique Names</td>\n",
       "      <td>3951</td>\n",
       "    </tr>\n",
       "    <tr>\n",
       "      <th>2</th>\n",
       "      <td>Unique Regions</td>\n",
       "      <td>7</td>\n",
       "    </tr>\n",
       "  </tbody>\n",
       "</table>\n",
       "</div>"
      ],
      "text/plain": [
       "         Category  Count\n",
       "0     Total Names  12499\n",
       "1    Unique Names   3951\n",
       "2  Unique Regions      7"
      ]
     },
     "execution_count": 123,
     "metadata": {},
     "output_type": "execute_result"
    }
   ],
   "source": [
    "total_count = len(df_ethnicity['Name'])\n",
    "name_count = df_ethnicity['Name'].nunique()\n",
    "country_count = df_ethnicity['Country'].nunique()\n",
    "\n",
    "summary_df = pd.DataFrame({\n",
    "    'Category': ['Total Names','Unique Names', 'Unique Regions'],\n",
    "    'Count': [total_count, name_count, country_count]\n",
    "})\n",
    "\n",
    "summary_df.head()"
   ]
  },
  {
   "cell_type": "code",
   "execution_count": 124,
   "metadata": {},
   "outputs": [
    {
     "data": {
      "text/html": [
       "<div>\n",
       "<style scoped>\n",
       "    .dataframe tbody tr th:only-of-type {\n",
       "        vertical-align: middle;\n",
       "    }\n",
       "\n",
       "    .dataframe tbody tr th {\n",
       "        vertical-align: top;\n",
       "    }\n",
       "\n",
       "    .dataframe thead th {\n",
       "        text-align: right;\n",
       "    }\n",
       "</style>\n",
       "<table border=\"1\" class=\"dataframe\">\n",
       "  <thead>\n",
       "    <tr style=\"text-align: right;\">\n",
       "      <th></th>\n",
       "      <th>Name</th>\n",
       "      <th>Country</th>\n",
       "      <th>vowel_count</th>\n",
       "      <th>consonant_count</th>\n",
       "      <th>name_length</th>\n",
       "    </tr>\n",
       "  </thead>\n",
       "  <tbody>\n",
       "    <tr>\n",
       "      <th>0</th>\n",
       "      <td>Vaclav</td>\n",
       "      <td>Slavic</td>\n",
       "      <td>2</td>\n",
       "      <td>4</td>\n",
       "      <td>6</td>\n",
       "    </tr>\n",
       "    <tr>\n",
       "      <th>1</th>\n",
       "      <td>Allan</td>\n",
       "      <td>Slavic</td>\n",
       "      <td>2</td>\n",
       "      <td>3</td>\n",
       "      <td>5</td>\n",
       "    </tr>\n",
       "    <tr>\n",
       "      <th>2</th>\n",
       "      <td>Kristine</td>\n",
       "      <td>Nordic</td>\n",
       "      <td>3</td>\n",
       "      <td>5</td>\n",
       "      <td>8</td>\n",
       "    </tr>\n",
       "    <tr>\n",
       "      <th>3</th>\n",
       "      <td>Matteo</td>\n",
       "      <td>Romance</td>\n",
       "      <td>3</td>\n",
       "      <td>3</td>\n",
       "      <td>6</td>\n",
       "    </tr>\n",
       "    <tr>\n",
       "      <th>4</th>\n",
       "      <td>Isao</td>\n",
       "      <td>East Asian</td>\n",
       "      <td>3</td>\n",
       "      <td>1</td>\n",
       "      <td>4</td>\n",
       "    </tr>\n",
       "  </tbody>\n",
       "</table>\n",
       "</div>"
      ],
      "text/plain": [
       "       Name     Country  vowel_count  consonant_count  name_length\n",
       "0    Vaclav      Slavic            2                4            6\n",
       "1     Allan      Slavic            2                3            5\n",
       "2  Kristine      Nordic            3                5            8\n",
       "3    Matteo     Romance            3                3            6\n",
       "4      Isao  East Asian            3                1            4"
      ]
     },
     "execution_count": 124,
     "metadata": {},
     "output_type": "execute_result"
    }
   ],
   "source": [
    "def get_vowel_stats(df: pd.DataFrame) -> tuple:\n",
    "    vowels = set('aeiouy')\n",
    "\n",
    "    # Count vowels in a name\n",
    "    def count_vowels(name):\n",
    "        return sum(1 for char in name.lower() if char in vowels)\n",
    "\n",
    "    # Count consonants in a name (alphabetic characters excluding vowels)\n",
    "    def count_consonants(name):\n",
    "        return sum(1 for char in name.lower() if char.isalpha() and char not in vowels)\n",
    "\n",
    "    # Add counts to the DataFrame\n",
    "    df['vowel_count'] = df['Name'].apply(count_vowels)\n",
    "    df['consonant_count'] = df['Name'].apply(count_consonants)\n",
    "    df['name_length'] = df['vowel_count'] + df['consonant_count']\n",
    "\n",
    "get_vowel_stats(df_ethnicity)\n",
    "\n",
    "df_ethnicity.head()"
   ]
  },
  {
   "cell_type": "code",
   "execution_count": 125,
   "metadata": {},
   "outputs": [
    {
     "data": {
      "image/png": "[encoded data removed]",
      "text/plain": [
       "<Figure size 1400x600 with 2 Axes>"
      ]
     },
     "metadata": {},
     "output_type": "display_data"
    }
   ],
   "source": [
    "fig, axes = plt.subplots(1, 2, figsize=(14, 6))\n",
    "\n",
    "# Boxplot for vowel count by sex\n",
    "sns.boxenplot(data=df_ethnicity, x='Country', y='vowel_count', ax=axes[0])\n",
    "axes[0].set_title('Vowel Count by Ethnicity')\n",
    "axes[0].set_xlabel('Ethnicity')\n",
    "axes[0].set_ylabel('Vowel Count')\n",
    "\n",
    "# Boxplot for consonant count by Country\n",
    "sns.boxenplot(data=df_ethnicity, x='Country', y='consonant_count', ax=axes[1])\n",
    "axes[1].set_title('Consonant Count by Ethnicity')\n",
    "axes[1].set_xlabel('Ethnicity')\n",
    "axes[1].set_ylabel('Consonant Count')\n",
    "\n",
    "plt.tight_layout()"
   ]
  },
  {
   "cell_type": "code",
   "execution_count": null,
   "metadata": {},
   "outputs": [],
   "source": []
  },
  {
   "cell_type": "code",
   "execution_count": 126,
   "metadata": {},
   "outputs": [
    {
     "data": {
      "image/png": "[encoded data removed]",
      "text/plain": [
       "<Figure size 1200x600 with 1 Axes>"
      ]
     },
     "metadata": {},
     "output_type": "display_data"
    }
   ],
   "source": [
    "def create_boxenplot_by_Country(data: pd.DataFrame, column_name, abcisse):\n",
    "    data['name_length'] = data[column_name].apply(lambda name: len(name))\n",
    "    plt.figure(figsize=(12, 6))\n",
    "    fig = sns.boxenplot(data, x=abcisse, y='name_length')\n",
    "    fig.set_xlabel('Ethnicity')\n",
    "    fig.set_ylabel('Name Length')\n",
    "    fig.set_title('Name Length per Ethnicity')\n",
    "\n",
    "\n",
    "create_boxenplot_by_Country(df_ethnicity, column_name='Name', abcisse='Country')"
   ]
  },
  {
   "cell_type": "code",
   "execution_count": 127,
   "metadata": {},
   "outputs": [
    {
     "data": {
      "application/vnd.plotly.v1+json": {
       "config": {
        "plotlyServerURL": "https://plot.ly"
       },
       "data": [
        {
         "hoverinfo": "text",
         "hovertext": [
          "Top names: Vladimir, Viktor, Valeri",
          "Top names: Aleksandr, Anatoli, Aleksei",
          "Top names: Mikhail, Marina, Marek",
          "Top names: Sergei, Svetlana, Sergey",
          "Top names: Jan, Jiri, Josef",
          "Top names: Igor, Ivan, Irina",
          "Top names: Nikolai, Natalia, Natalya",
          "Top names: Leonid, Lyudmila, Ladislav",
          "Top names: Yuri, Yevgeni, Yulia",
          "Top names: Elena, Evgeni, Ekaterina",
          "Top names: Dmitri, David, Diana",
          "Top names: Galina, Georgi, Gennadi",
          "Top names: Boris, Bohumil, Branko",
          "Top names: Tatiana, Tatyana, Tamara",
          "Top names: Olga, Oleg, Olena",
          "Top names: Ryszard, Robert, Roman",
          "Top names: Zoran, Zdenek, Zeljko",
          "Top names: Pavel, Petr, Petar",
          "Top names: Kazimierz, Karel, Krzysztof",
          "Top names: Frantisek, Franjo, Filip",
          "Top names: Henryk, Helena, Hana",
          "Top names: Wladyslaw, Wojciech, Wieslaw",
          "Top names: Czeslawa, Chasame, Celina",
          "Top names: Urska, Urszula, Uros"
         ],
         "marker": {
          "color": "salmon"
         },
         "name": "Slavic",
         "type": "bar",
         "x": [
          "v",
          "a",
          "m",
          "s",
          "j",
          "i",
          "n",
          "l",
          "y",
          "e",
          "d",
          "g",
          "b",
          "t",
          "o",
          "r",
          "z",
          "p",
          "k",
          "f",
          "h",
          "w",
          "c",
          "u"
         ],
         "y": [
          12.883031301482703,
          12.355848434925864,
          7.57825370675453,
          6.457990115321252,
          5.634266886326195,
          5.4695222405271835,
          5.403624382207578,
          4.711696869851729,
          4.2833607907743,
          3.9538714991762767,
          3.756177924217463,
          3.6902800658978587,
          3.459637561779242,
          3.3937397034596377,
          3.2619439868204285,
          3.0642504118616145,
          2.7347611202635917,
          2.273476112026359,
          2.2075782537067545,
          1.2191103789126854,
          1.0214168039538716,
          0.9225700164744647,
          0.13179571663920922,
          0.13179571663920922
         ]
        },
        {
         "hoverinfo": "text",
         "hovertext": [
          "Top names: Victoria, Valerie, Virginia",
          "Top names: Arthur, Andrew, Anthony",
          "Top names: Michael, Michelle, Mark",
          "Top names: Stephen, Steven, Simon",
          "Top names: John, James, Joseph",
          "Top names: Ian, Irene, Isabelle",
          "Top names: Norman, Neil, Nathan",
          "Top names: Lisa, Laura, Leonard",
          "Top names: Yvette, Yolane, Yvonne",
          "Top names: Edward, Eric, Ernest",
          "Top names: David, Donald, Daniel",
          "Top names: George, Gordon, Gary",
          "Top names: Brian, Brett, Ben",
          "Top names: Thomas, Terence, Tim",
          "Top names: Olivia, Olivier, Oswald",
          "Top names: Robert, Richard, Ryan",
          "Top names: Zach, Zara, Zac",
          "Top names: Peter, Paul, Philip",
          "Top names: Kevin, Karen, Kenneth",
          "Top names: Frederick, Frank, Francis",
          "Top names: Henry, Harold, Harry",
          "Top names: William, Walter, Wendy",
          "Top names: Charles, Christopher, Chris",
          "Top names: "
         ],
         "marker": {
          "color": "skyblue"
         },
         "name": "English-Speaking",
         "type": "bar",
         "x": [
          "v",
          "a",
          "m",
          "s",
          "j",
          "i",
          "n",
          "l",
          "y",
          "e",
          "d",
          "g",
          "b",
          "t",
          "o",
          "r",
          "z",
          "p",
          "k",
          "f",
          "h",
          "w",
          "c",
          "u"
         ],
         "y": [
          0.7467994310099573,
          8.321479374110954,
          7.112375533428166,
          6.116642958748222,
          11.450924608819346,
          1.3157894736842104,
          2.5604551920341394,
          4.267425320056899,
          0.1422475106685633,
          4.018492176386913,
          6.792318634423898,
          5.761024182076813,
          4.054054054054054,
          3.982930298719772,
          0.24893314366998576,
          6.614509246088193,
          0.17780938833570412,
          4.018492176386913,
          4.480796586059744,
          2.631578947368421,
          4.30298719772404,
          3.627311522048364,
          7.254623044096728,
          null
         ]
        }
       ],
       "layout": {
        "barmode": "group",
        "legend": {
         "title": {
          "text": "Origin:"
         }
        },
        "template": {
         "data": {
          "bar": [
           {
            "error_x": {
             "color": "#2a3f5f"
            },
            "error_y": {
             "color": "#2a3f5f"
            },
            "marker": {
             "line": {
              "color": "#E5ECF6",
              "width": 0.5
             },
             "pattern": {
              "fillmode": "overlay",
              "size": 10,
              "solidity": 0.2
             }
            },
            "type": "bar"
           }
          ],
          "barpolar": [
           {
            "marker": {
             "line": {
              "color": "#E5ECF6",
              "width": 0.5
             },
             "pattern": {
              "fillmode": "overlay",
              "size": 10,
              "solidity": 0.2
             }
            },
            "type": "barpolar"
           }
          ],
          "carpet": [
           {
            "aaxis": {
             "endlinecolor": "#2a3f5f",
             "gridcolor": "white",
             "linecolor": "white",
             "minorgridcolor": "white",
             "startlinecolor": "#2a3f5f"
            },
            "baxis": {
             "endlinecolor": "#2a3f5f",
             "gridcolor": "white",
             "linecolor": "white",
             "minorgridcolor": "white",
             "startlinecolor": "#2a3f5f"
            },
            "type": "carpet"
           }
          ],
          "choropleth": [
           {
            "colorbar": {
             "outlinewidth": 0,
             "ticks": ""
            },
            "type": "choropleth"
           }
          ],
          "contour": [
           {
            "colorbar": {
             "outlinewidth": 0,
             "ticks": ""
            },
            "colorscale": [
             [
              0,
              "#0d0887"
             ],
             [
              0.1111111111111111,
              "#46039f"
             ],
             [
              0.2222222222222222,
              "#7201a8"
             ],
             [
              0.3333333333333333,
              "#9c179e"
             ],
             [
              0.4444444444444444,
              "#bd3786"
             ],
             [
              0.5555555555555556,
              "#d8576b"
             ],
             [
              0.6666666666666666,
              "#ed7953"
             ],
             [
              0.7777777777777778,
              "#fb9f3a"
             ],
             [
              0.8888888888888888,
              "#fdca26"
             ],
             [
              1,
              "#f0f921"
             ]
            ],
            "type": "contour"
           }
          ],
          "contourcarpet": [
           {
            "colorbar": {
             "outlinewidth": 0,
             "ticks": ""
            },
            "type": "contourcarpet"
           }
          ],
          "heatmap": [
           {
            "colorbar": {
             "outlinewidth": 0,
             "ticks": ""
            },
            "colorscale": [
             [
              0,
              "#0d0887"
             ],
             [
              0.1111111111111111,
              "#46039f"
             ],
             [
              0.2222222222222222,
              "#7201a8"
             ],
             [
              0.3333333333333333,
              "#9c179e"
             ],
             [
              0.4444444444444444,
              "#bd3786"
             ],
             [
              0.5555555555555556,
              "#d8576b"
             ],
             [
              0.6666666666666666,
              "#ed7953"
             ],
             [
              0.7777777777777778,
              "#fb9f3a"
             ],
             [
              0.8888888888888888,
              "#fdca26"
             ],
             [
              1,
              "#f0f921"
             ]
            ],
            "type": "heatmap"
           }
          ],
          "heatmapgl": [
           {
            "colorbar": {
             "outlinewidth": 0,
             "ticks": ""
            },
            "colorscale": [
             [
              0,
              "#0d0887"
             ],
             [
              0.1111111111111111,
              "#46039f"
             ],
             [
              0.2222222222222222,
              "#7201a8"
             ],
             [
              0.3333333333333333,
              "#9c179e"
             ],
             [
              0.4444444444444444,
              "#bd3786"
             ],
             [
              0.5555555555555556,
              "#d8576b"
             ],
             [
              0.6666666666666666,
              "#ed7953"
             ],
             [
              0.7777777777777778,
              "#fb9f3a"
             ],
             [
              0.8888888888888888,
              "#fdca26"
             ],
             [
              1,
              "#f0f921"
             ]
            ],
            "type": "heatmapgl"
           }
          ],
          "histogram": [
           {
            "marker": {
             "pattern": {
              "fillmode": "overlay",
              "size": 10,
              "solidity": 0.2
             }
            },
            "type": "histogram"
           }
          ],
          "histogram2d": [
           {
            "colorbar": {
             "outlinewidth": 0,
             "ticks": ""
            },
            "colorscale": [
             [
              0,
              "#0d0887"
             ],
             [
              0.1111111111111111,
              "#46039f"
             ],
             [
              0.2222222222222222,
              "#7201a8"
             ],
             [
              0.3333333333333333,
              "#9c179e"
             ],
             [
              0.4444444444444444,
              "#bd3786"
             ],
             [
              0.5555555555555556,
              "#d8576b"
             ],
             [
              0.6666666666666666,
              "#ed7953"
             ],
             [
              0.7777777777777778,
              "#fb9f3a"
             ],
             [
              0.8888888888888888,
              "#fdca26"
             ],
             [
              1,
              "#f0f921"
             ]
            ],
            "type": "histogram2d"
           }
          ],
          "histogram2dcontour": [
           {
            "colorbar": {
             "outlinewidth": 0,
             "ticks": ""
            },
            "colorscale": [
             [
              0,
              "#0d0887"
             ],
             [
              0.1111111111111111,
              "#46039f"
             ],
             [
              0.2222222222222222,
              "#7201a8"
             ],
             [
              0.3333333333333333,
              "#9c179e"
             ],
             [
              0.4444444444444444,
              "#bd3786"
             ],
             [
              0.5555555555555556,
              "#d8576b"
             ],
             [
              0.6666666666666666,
              "#ed7953"
             ],
             [
              0.7777777777777778,
              "#fb9f3a"
             ],
             [
              0.8888888888888888,
              "#fdca26"
             ],
             [
              1,
              "#f0f921"
             ]
            ],
            "type": "histogram2dcontour"
           }
          ],
          "mesh3d": [
           {
            "colorbar": {
             "outlinewidth": 0,
             "ticks": ""
            },
            "type": "mesh3d"
           }
          ],
          "parcoords": [
           {
            "line": {
             "colorbar": {
              "outlinewidth": 0,
              "ticks": ""
             }
            },
            "type": "parcoords"
           }
          ],
          "pie": [
           {
            "automargin": true,
            "type": "pie"
           }
          ],
          "scatter": [
           {
            "fillpattern": {
             "fillmode": "overlay",
             "size": 10,
             "solidity": 0.2
            },
            "type": "scatter"
           }
          ],
          "scatter3d": [
           {
            "line": {
             "colorbar": {
              "outlinewidth": 0,
              "ticks": ""
             }
            },
            "marker": {
             "colorbar": {
              "outlinewidth": 0,
              "ticks": ""
             }
            },
            "type": "scatter3d"
           }
          ],
          "scattercarpet": [
           {
            "marker": {
             "colorbar": {
              "outlinewidth": 0,
              "ticks": ""
             }
            },
            "type": "scattercarpet"
           }
          ],
          "scattergeo": [
           {
            "marker": {
             "colorbar": {
              "outlinewidth": 0,
              "ticks": ""
             }
            },
            "type": "scattergeo"
           }
          ],
          "scattergl": [
           {
            "marker": {
             "colorbar": {
              "outlinewidth": 0,
              "ticks": ""
             }
            },
            "type": "scattergl"
           }
          ],
          "scattermapbox": [
           {
            "marker": {
             "colorbar": {
              "outlinewidth": 0,
              "ticks": ""
             }
            },
            "type": "scattermapbox"
           }
          ],
          "scatterpolar": [
           {
            "marker": {
             "colorbar": {
              "outlinewidth": 0,
              "ticks": ""
             }
            },
            "type": "scatterpolar"
           }
          ],
          "scatterpolargl": [
           {
            "marker": {
             "colorbar": {
              "outlinewidth": 0,
              "ticks": ""
             }
            },
            "type": "scatterpolargl"
           }
          ],
          "scatterternary": [
           {
            "marker": {
             "colorbar": {
              "outlinewidth": 0,
              "ticks": ""
             }
            },
            "type": "scatterternary"
           }
          ],
          "surface": [
           {
            "colorbar": {
             "outlinewidth": 0,
             "ticks": ""
            },
            "colorscale": [
             [
              0,
              "#0d0887"
             ],
             [
              0.1111111111111111,
              "#46039f"
             ],
             [
              0.2222222222222222,
              "#7201a8"
             ],
             [
              0.3333333333333333,
              "#9c179e"
             ],
             [
              0.4444444444444444,
              "#bd3786"
             ],
             [
              0.5555555555555556,
              "#d8576b"
             ],
             [
              0.6666666666666666,
              "#ed7953"
             ],
             [
              0.7777777777777778,
              "#fb9f3a"
             ],
             [
              0.8888888888888888,
              "#fdca26"
             ],
             [
              1,
              "#f0f921"
             ]
            ],
            "type": "surface"
           }
          ],
          "table": [
           {
            "cells": {
             "fill": {
              "color": "#EBF0F8"
             },
             "line": {
              "color": "white"
             }
            },
            "header": {
             "fill": {
              "color": "#C8D4E3"
             },
             "line": {
              "color": "white"
             }
            },
            "type": "table"
           }
          ]
         },
         "layout": {
          "annotationdefaults": {
           "arrowcolor": "#2a3f5f",
           "arrowhead": 0,
           "arrowwidth": 1
          },
          "autotypenumbers": "strict",
          "coloraxis": {
           "colorbar": {
            "outlinewidth": 0,
            "ticks": ""
           }
          },
          "colorscale": {
           "diverging": [
            [
             0,
             "#8e0152"
            ],
            [
             0.1,
             "#c51b7d"
            ],
            [
             0.2,
             "#de77ae"
            ],
            [
             0.3,
             "#f1b6da"
            ],
            [
             0.4,
             "#fde0ef"
            ],
            [
             0.5,
             "#f7f7f7"
            ],
            [
             0.6,
             "#e6f5d0"
            ],
            [
             0.7,
             "#b8e186"
            ],
            [
             0.8,
             "#7fbc41"
            ],
            [
             0.9,
             "#4d9221"
            ],
            [
             1,
             "#276419"
            ]
           ],
           "sequential": [
            [
             0,
             "#0d0887"
            ],
            [
             0.1111111111111111,
             "#46039f"
            ],
            [
             0.2222222222222222,
             "#7201a8"
            ],
            [
             0.3333333333333333,
             "#9c179e"
            ],
            [
             0.4444444444444444,
             "#bd3786"
            ],
            [
             0.5555555555555556,
             "#d8576b"
            ],
            [
             0.6666666666666666,
             "#ed7953"
            ],
            [
             0.7777777777777778,
             "#fb9f3a"
            ],
            [
             0.8888888888888888,
             "#fdca26"
            ],
            [
             1,
             "#f0f921"
            ]
           ],
           "sequentialminus": [
            [
             0,
             "#0d0887"
            ],
            [
             0.1111111111111111,
             "#46039f"
            ],
            [
             0.2222222222222222,
             "#7201a8"
            ],
            [
             0.3333333333333333,
             "#9c179e"
            ],
            [
             0.4444444444444444,
             "#bd3786"
            ],
            [
             0.5555555555555556,
             "#d8576b"
            ],
            [
             0.6666666666666666,
             "#ed7953"
            ],
            [
             0.7777777777777778,
             "#fb9f3a"
            ],
            [
             0.8888888888888888,
             "#fdca26"
            ],
            [
             1,
             "#f0f921"
            ]
           ]
          },
          "colorway": [
           "#636efa",
           "#EF553B",
           "#00cc96",
           "#ab63fa",
           "#FFA15A",
           "#19d3f3",
           "#FF6692",
           "#B6E880",
           "#FF97FF",
           "#FECB52"
          ],
          "font": {
           "color": "#2a3f5f"
          },
          "geo": {
           "bgcolor": "white",
           "lakecolor": "white",
           "landcolor": "#E5ECF6",
           "showlakes": true,
           "showland": true,
           "subunitcolor": "white"
          },
          "hoverlabel": {
           "align": "left"
          },
          "hovermode": "closest",
          "mapbox": {
           "style": "light"
          },
          "paper_bgcolor": "white",
          "plot_bgcolor": "#E5ECF6",
          "polar": {
           "angularaxis": {
            "gridcolor": "white",
            "linecolor": "white",
            "ticks": ""
           },
           "bgcolor": "#E5ECF6",
           "radialaxis": {
            "gridcolor": "white",
            "linecolor": "white",
            "ticks": ""
           }
          },
          "scene": {
           "xaxis": {
            "backgroundcolor": "#E5ECF6",
            "gridcolor": "white",
            "gridwidth": 2,
            "linecolor": "white",
            "showbackground": true,
            "ticks": "",
            "zerolinecolor": "white"
           },
           "yaxis": {
            "backgroundcolor": "#E5ECF6",
            "gridcolor": "white",
            "gridwidth": 2,
            "linecolor": "white",
            "showbackground": true,
            "ticks": "",
            "zerolinecolor": "white"
           },
           "zaxis": {
            "backgroundcolor": "#E5ECF6",
            "gridcolor": "white",
            "gridwidth": 2,
            "linecolor": "white",
            "showbackground": true,
            "ticks": "",
            "zerolinecolor": "white"
           }
          },
          "shapedefaults": {
           "line": {
            "color": "#2a3f5f"
           }
          },
          "ternary": {
           "aaxis": {
            "gridcolor": "white",
            "linecolor": "white",
            "ticks": ""
           },
           "baxis": {
            "gridcolor": "white",
            "linecolor": "white",
            "ticks": ""
           },
           "bgcolor": "#E5ECF6",
           "caxis": {
            "gridcolor": "white",
            "linecolor": "white",
            "ticks": ""
           }
          },
          "title": {
           "x": 0.05
          },
          "xaxis": {
           "automargin": true,
           "gridcolor": "white",
           "linecolor": "white",
           "ticks": "",
           "title": {
            "standoff": 15
           },
           "zerolinecolor": "white",
           "zerolinewidth": 2
          },
          "yaxis": {
           "automargin": true,
           "gridcolor": "white",
           "linecolor": "white",
           "ticks": "",
           "title": {
            "standoff": 15
           },
           "zerolinecolor": "white",
           "zerolinewidth": 2
          }
         }
        },
        "title": {
         "text": "Percentage of Names Starting by Each Letter by Country"
        },
        "xaxis": {
         "title": {
          "text": "Letter of the Name"
         }
        },
        "yaxis": {
         "ticksuffix": "%",
         "title": {
          "text": "% of Total Names by Origin"
         }
        }
       }
      }
     },
     "metadata": {},
     "output_type": "display_data"
    },
    {
     "data": {
      "application/vnd.plotly.v1+json": {
       "config": {
        "plotlyServerURL": "https://plot.ly"
       },
       "data": [
        {
         "hoverinfo": "text",
         "hovertext": [
          "Top names: Elena, Olga, Svetlana",
          "Top names: Vladimir, Aleksandr, Viktor",
          "Top names: Yuri, Sergei, Anatoli",
          "Top names: Jan, Ivan, Valentin",
          "Top names: Vaclav, Ladislav, Stanislav",
          "Top names: Ivo, Zeljko, Branko",
          "Top names: Boris, Denis, Tomas",
          "Top names: Mikhail, Pavel, Karel",
          "Top names: Jerzy, Sergey, Nikolay",
          "Top names: Frantisek, Marek, Henryk",
          "Top names: Leonid, David, Ryszard",
          "Top names: Kazimierz, Janusz, Tadeusz",
          "Top names: Josef, Jozef, Rudolf",
          "Top names: Robert, Zygmunt, Albert",
          "Top names: Wladyslaw, Zbigniew, Wieslaw",
          "Top names: Adam, Vadim, Joachim",
          "Top names: Alexandre, Mate, Marie",
          "Top names: Andrzej, Bartlomiej, Ondrej",
          "Top names: Oleg, Predrag, Vakhtang",
          "Top names: Wojciech, Oldrich, Jindrich",
          "Top names: Nikolaï",
          "Top names: Filip, Josip",
          "Top names: Zurab, Jakub, Gleb",
          "Top names: Tanyu, Enyu, Tonu",
          "Top names: ",
          "Top names: "
         ],
         "marker": {
          "color": "salmon"
         },
         "name": "Slavic",
         "type": "bar",
         "x": [
          "a",
          "r",
          "i",
          "n",
          "v",
          "o",
          "s",
          "l",
          "y",
          "k",
          "d",
          "z",
          "f",
          "t",
          "w",
          "m",
          "e",
          "j",
          "g",
          "h",
          "ï",
          "p",
          "b",
          "u",
          "c",
          "x"
         ],
         "y": [
          26.655683690280064,
          14.827018121911037,
          13.772652388797363,
          9.588138385502472,
          4.118616144975288,
          3.9538714991762767,
          3.9209225700164745,
          3.4925864909390447,
          2.9654036243822075,
          2.7347611202635917,
          2.701812191103789,
          1.9769357495881383,
          1.5485996705107083,
          1.4168039538714992,
          1.2191103789126854,
          1.1532125205930808,
          1.0543657331136738,
          0.8896210873146623,
          0.8237232289950577,
          0.6260296540362438,
          0.19769357495881384,
          0.13179571663920922,
          0.13179571663920922,
          0.09884678747940692,
          null,
          null
         ]
        },
        {
         "hoverinfo": "text",
         "hovertext": [
          "Top names: Angela, Lisa, Laura",
          "Top names: Arthur, Peter, Christopher",
          "Top names: Lori, Kerri, Shani",
          "Top names: John, Stephen, Ian",
          "Top names: ",
          "Top names: Angelo, Jo, Apolo",
          "Top names: Charles, James, Thomas",
          "Top names: Michael, Paul, Daniel",
          "Top names: Henry, Anthony, Harry",
          "Top names: Frederick, Frank, Patrick",
          "Top names: David, Richard, Edward",
          "Top names: Liz",
          "Top names: Jeff, Geoff, Duff",
          "Top names: Robert, Albert, Ernest",
          "Top names: Andrew, Matthew, Mathew",
          "Top names: William, Graham, Tim",
          "Top names: George, Michelle, Mike",
          "Top names: Raj",
          "Top names: Craig, Greg, Irving",
          "Top names: Kenneth, Joseph, Hugh",
          "Top names: ",
          "Top names: Philip, Phillip, Philipp",
          "Top names: Rob, Jacob",
          "Top names: Mathieu, Montagu, Beau",
          "Top names: Eric, Marc, Mac",
          "Top names: Alex, Beatrix, Max"
         ],
         "marker": {
          "color": "skyblue"
         },
         "name": "English-Speaking",
         "type": "bar",
         "x": [
          "a",
          "r",
          "i",
          "n",
          "v",
          "o",
          "s",
          "l",
          "y",
          "k",
          "d",
          "z",
          "f",
          "t",
          "w",
          "m",
          "e",
          "j",
          "g",
          "h",
          "ï",
          "p",
          "b",
          "u",
          "c",
          "x"
         ],
         "y": [
          7.681365576102419,
          5.476529160739687,
          0.9601706970128023,
          20.234708392603128,
          null,
          0.42674253200568996,
          7.539118065433854,
          5.120910384068279,
          9.566145092460882,
          2.844950213371266,
          9.103840682788052,
          0.03556187766714083,
          0.24893314366998576,
          5.085348506401138,
          1.1735419630156472,
          3.698435277382646,
          15.007112375533428,
          0.03556187766714083,
          0.39118065433854904,
          3.1294452347083923,
          null,
          0.6756756756756757,
          0.21337126600284498,
          0.21337126600284498,
          0.8534850640113799,
          0.2844950213371266
         ]
        }
       ],
       "layout": {
        "barmode": "group",
        "legend": {
         "title": {
          "text": "Origin:"
         }
        },
        "template": {
         "data": {
          "bar": [
           {
            "error_x": {
             "color": "#2a3f5f"
            },
            "error_y": {
             "color": "#2a3f5f"
            },
            "marker": {
             "line": {
              "color": "#E5ECF6",
              "width": 0.5
             },
             "pattern": {
              "fillmode": "overlay",
              "size": 10,
              "solidity": 0.2
             }
            },
            "type": "bar"
           }
          ],
          "barpolar": [
           {
            "marker": {
             "line": {
              "color": "#E5ECF6",
              "width": 0.5
             },
             "pattern": {
              "fillmode": "overlay",
              "size": 10,
              "solidity": 0.2
             }
            },
            "type": "barpolar"
           }
          ],
          "carpet": [
           {
            "aaxis": {
             "endlinecolor": "#2a3f5f",
             "gridcolor": "white",
             "linecolor": "white",
             "minorgridcolor": "white",
             "startlinecolor": "#2a3f5f"
            },
            "baxis": {
             "endlinecolor": "#2a3f5f",
             "gridcolor": "white",
             "linecolor": "white",
             "minorgridcolor": "white",
             "startlinecolor": "#2a3f5f"
            },
            "type": "carpet"
           }
          ],
          "choropleth": [
           {
            "colorbar": {
             "outlinewidth": 0,
             "ticks": ""
            },
            "type": "choropleth"
           }
          ],
          "contour": [
           {
            "colorbar": {
             "outlinewidth": 0,
             "ticks": ""
            },
            "colorscale": [
             [
              0,
              "#0d0887"
             ],
             [
              0.1111111111111111,
              "#46039f"
             ],
             [
              0.2222222222222222,
              "#7201a8"
             ],
             [
              0.3333333333333333,
              "#9c179e"
             ],
             [
              0.4444444444444444,
              "#bd3786"
             ],
             [
              0.5555555555555556,
              "#d8576b"
             ],
             [
              0.6666666666666666,
              "#ed7953"
             ],
             [
              0.7777777777777778,
              "#fb9f3a"
             ],
             [
              0.8888888888888888,
              "#fdca26"
             ],
             [
              1,
              "#f0f921"
             ]
            ],
            "type": "contour"
           }
          ],
          "contourcarpet": [
           {
            "colorbar": {
             "outlinewidth": 0,
             "ticks": ""
            },
            "type": "contourcarpet"
           }
          ],
          "heatmap": [
           {
            "colorbar": {
             "outlinewidth": 0,
             "ticks": ""
            },
            "colorscale": [
             [
              0,
              "#0d0887"
             ],
             [
              0.1111111111111111,
              "#46039f"
             ],
             [
              0.2222222222222222,
              "#7201a8"
             ],
             [
              0.3333333333333333,
              "#9c179e"
             ],
             [
              0.4444444444444444,
              "#bd3786"
             ],
             [
              0.5555555555555556,
              "#d8576b"
             ],
             [
              0.6666666666666666,
              "#ed7953"
             ],
             [
              0.7777777777777778,
              "#fb9f3a"
             ],
             [
              0.8888888888888888,
              "#fdca26"
             ],
             [
              1,
              "#f0f921"
             ]
            ],
            "type": "heatmap"
           }
          ],
          "heatmapgl": [
           {
            "colorbar": {
             "outlinewidth": 0,
             "ticks": ""
            },
            "colorscale": [
             [
              0,
              "#0d0887"
             ],
             [
              0.1111111111111111,
              "#46039f"
             ],
             [
              0.2222222222222222,
              "#7201a8"
             ],
             [
              0.3333333333333333,
              "#9c179e"
             ],
             [
              0.4444444444444444,
              "#bd3786"
             ],
             [
              0.5555555555555556,
              "#d8576b"
             ],
             [
              0.6666666666666666,
              "#ed7953"
             ],
             [
              0.7777777777777778,
              "#fb9f3a"
             ],
             [
              0.8888888888888888,
              "#fdca26"
             ],
             [
              1,
              "#f0f921"
             ]
            ],
            "type": "heatmapgl"
           }
          ],
          "histogram": [
           {
            "marker": {
             "pattern": {
              "fillmode": "overlay",
              "size": 10,
              "solidity": 0.2
             }
            },
            "type": "histogram"
           }
          ],
          "histogram2d": [
           {
            "colorbar": {
             "outlinewidth": 0,
             "ticks": ""
            },
            "colorscale": [
             [
              0,
              "#0d0887"
             ],
             [
              0.1111111111111111,
              "#46039f"
             ],
             [
              0.2222222222222222,
              "#7201a8"
             ],
             [
              0.3333333333333333,
              "#9c179e"
             ],
             [
              0.4444444444444444,
              "#bd3786"
             ],
             [
              0.5555555555555556,
              "#d8576b"
             ],
             [
              0.6666666666666666,
              "#ed7953"
             ],
             [
              0.7777777777777778,
              "#fb9f3a"
             ],
             [
              0.8888888888888888,
              "#fdca26"
             ],
             [
              1,
              "#f0f921"
             ]
            ],
            "type": "histogram2d"
           }
          ],
          "histogram2dcontour": [
           {
            "colorbar": {
             "outlinewidth": 0,
             "ticks": ""
            },
            "colorscale": [
             [
              0,
              "#0d0887"
             ],
             [
              0.1111111111111111,
              "#46039f"
             ],
             [
              0.2222222222222222,
              "#7201a8"
             ],
             [
              0.3333333333333333,
              "#9c179e"
             ],
             [
              0.4444444444444444,
              "#bd3786"
             ],
             [
              0.5555555555555556,
              "#d8576b"
             ],
             [
              0.6666666666666666,
              "#ed7953"
             ],
             [
              0.7777777777777778,
              "#fb9f3a"
             ],
             [
              0.8888888888888888,
              "#fdca26"
             ],
             [
              1,
              "#f0f921"
             ]
            ],
            "type": "histogram2dcontour"
           }
          ],
          "mesh3d": [
           {
            "colorbar": {
             "outlinewidth": 0,
             "ticks": ""
            },
            "type": "mesh3d"
           }
          ],
          "parcoords": [
           {
            "line": {
             "colorbar": {
              "outlinewidth": 0,
              "ticks": ""
             }
            },
            "type": "parcoords"
           }
          ],
          "pie": [
           {
            "automargin": true,
            "type": "pie"
           }
          ],
          "scatter": [
           {
            "fillpattern": {
             "fillmode": "overlay",
             "size": 10,
             "solidity": 0.2
            },
            "type": "scatter"
           }
          ],
          "scatter3d": [
           {
            "line": {
             "colorbar": {
              "outlinewidth": 0,
              "ticks": ""
             }
            },
            "marker": {
             "colorbar": {
              "outlinewidth": 0,
              "ticks": ""
             }
            },
            "type": "scatter3d"
           }
          ],
          "scattercarpet": [
           {
            "marker": {
             "colorbar": {
              "outlinewidth": 0,
              "ticks": ""
             }
            },
            "type": "scattercarpet"
           }
          ],
          "scattergeo": [
           {
            "marker": {
             "colorbar": {
              "outlinewidth": 0,
              "ticks": ""
             }
            },
            "type": "scattergeo"
           }
          ],
          "scattergl": [
           {
            "marker": {
             "colorbar": {
              "outlinewidth": 0,
              "ticks": ""
             }
            },
            "type": "scattergl"
           }
          ],
          "scattermapbox": [
           {
            "marker": {
             "colorbar": {
              "outlinewidth": 0,
              "ticks": ""
             }
            },
            "type": "scattermapbox"
           }
          ],
          "scatterpolar": [
           {
            "marker": {
             "colorbar": {
              "outlinewidth": 0,
              "ticks": ""
             }
            },
            "type": "scatterpolar"
           }
          ],
          "scatterpolargl": [
           {
            "marker": {
             "colorbar": {
              "outlinewidth": 0,
              "ticks": ""
             }
            },
            "type": "scatterpolargl"
           }
          ],
          "scatterternary": [
           {
            "marker": {
             "colorbar": {
              "outlinewidth": 0,
              "ticks": ""
             }
            },
            "type": "scatterternary"
           }
          ],
          "surface": [
           {
            "colorbar": {
             "outlinewidth": 0,
             "ticks": ""
            },
            "colorscale": [
             [
              0,
              "#0d0887"
             ],
             [
              0.1111111111111111,
              "#46039f"
             ],
             [
              0.2222222222222222,
              "#7201a8"
             ],
             [
              0.3333333333333333,
              "#9c179e"
             ],
             [
              0.4444444444444444,
              "#bd3786"
             ],
             [
              0.5555555555555556,
              "#d8576b"
             ],
             [
              0.6666666666666666,
              "#ed7953"
             ],
             [
              0.7777777777777778,
              "#fb9f3a"
             ],
             [
              0.8888888888888888,
              "#fdca26"
             ],
             [
              1,
              "#f0f921"
             ]
            ],
            "type": "surface"
           }
          ],
          "table": [
           {
            "cells": {
             "fill": {
              "color": "#EBF0F8"
             },
             "line": {
              "color": "white"
             }
            },
            "header": {
             "fill": {
              "color": "#C8D4E3"
             },
             "line": {
              "color": "white"
             }
            },
            "type": "table"
           }
          ]
         },
         "layout": {
          "annotationdefaults": {
           "arrowcolor": "#2a3f5f",
           "arrowhead": 0,
           "arrowwidth": 1
          },
          "autotypenumbers": "strict",
          "coloraxis": {
           "colorbar": {
            "outlinewidth": 0,
            "ticks": ""
           }
          },
          "colorscale": {
           "diverging": [
            [
             0,
             "#8e0152"
            ],
            [
             0.1,
             "#c51b7d"
            ],
            [
             0.2,
             "#de77ae"
            ],
            [
             0.3,
             "#f1b6da"
            ],
            [
             0.4,
             "#fde0ef"
            ],
            [
             0.5,
             "#f7f7f7"
            ],
            [
             0.6,
             "#e6f5d0"
            ],
            [
             0.7,
             "#b8e186"
            ],
            [
             0.8,
             "#7fbc41"
            ],
            [
             0.9,
             "#4d9221"
            ],
            [
             1,
             "#276419"
            ]
           ],
           "sequential": [
            [
             0,
             "#0d0887"
            ],
            [
             0.1111111111111111,
             "#46039f"
            ],
            [
             0.2222222222222222,
             "#7201a8"
            ],
            [
             0.3333333333333333,
             "#9c179e"
            ],
            [
             0.4444444444444444,
             "#bd3786"
            ],
            [
             0.5555555555555556,
             "#d8576b"
            ],
            [
             0.6666666666666666,
             "#ed7953"
            ],
            [
             0.7777777777777778,
             "#fb9f3a"
            ],
            [
             0.8888888888888888,
             "#fdca26"
            ],
            [
             1,
             "#f0f921"
            ]
           ],
           "sequentialminus": [
            [
             0,
             "#0d0887"
            ],
            [
             0.1111111111111111,
             "#46039f"
            ],
            [
             0.2222222222222222,
             "#7201a8"
            ],
            [
             0.3333333333333333,
             "#9c179e"
            ],
            [
             0.4444444444444444,
             "#bd3786"
            ],
            [
             0.5555555555555556,
             "#d8576b"
            ],
            [
             0.6666666666666666,
             "#ed7953"
            ],
            [
             0.7777777777777778,
             "#fb9f3a"
            ],
            [
             0.8888888888888888,
             "#fdca26"
            ],
            [
             1,
             "#f0f921"
            ]
           ]
          },
          "colorway": [
           "#636efa",
           "#EF553B",
           "#00cc96",
           "#ab63fa",
           "#FFA15A",
           "#19d3f3",
           "#FF6692",
           "#B6E880",
           "#FF97FF",
           "#FECB52"
          ],
          "font": {
           "color": "#2a3f5f"
          },
          "geo": {
           "bgcolor": "white",
           "lakecolor": "white",
           "landcolor": "#E5ECF6",
           "showlakes": true,
           "showland": true,
           "subunitcolor": "white"
          },
          "hoverlabel": {
           "align": "left"
          },
          "hovermode": "closest",
          "mapbox": {
           "style": "light"
          },
          "paper_bgcolor": "white",
          "plot_bgcolor": "#E5ECF6",
          "polar": {
           "angularaxis": {
            "gridcolor": "white",
            "linecolor": "white",
            "ticks": ""
           },
           "bgcolor": "#E5ECF6",
           "radialaxis": {
            "gridcolor": "white",
            "linecolor": "white",
            "ticks": ""
           }
          },
          "scene": {
           "xaxis": {
            "backgroundcolor": "#E5ECF6",
            "gridcolor": "white",
            "gridwidth": 2,
            "linecolor": "white",
            "showbackground": true,
            "ticks": "",
            "zerolinecolor": "white"
           },
           "yaxis": {
            "backgroundcolor": "#E5ECF6",
            "gridcolor": "white",
            "gridwidth": 2,
            "linecolor": "white",
            "showbackground": true,
            "ticks": "",
            "zerolinecolor": "white"
           },
           "zaxis": {
            "backgroundcolor": "#E5ECF6",
            "gridcolor": "white",
            "gridwidth": 2,
            "linecolor": "white",
            "showbackground": true,
            "ticks": "",
            "zerolinecolor": "white"
           }
          },
          "shapedefaults": {
           "line": {
            "color": "#2a3f5f"
           }
          },
          "ternary": {
           "aaxis": {
            "gridcolor": "white",
            "linecolor": "white",
            "ticks": ""
           },
           "baxis": {
            "gridcolor": "white",
            "linecolor": "white",
            "ticks": ""
           },
           "bgcolor": "#E5ECF6",
           "caxis": {
            "gridcolor": "white",
            "linecolor": "white",
            "ticks": ""
           }
          },
          "title": {
           "x": 0.05
          },
          "xaxis": {
           "automargin": true,
           "gridcolor": "white",
           "linecolor": "white",
           "ticks": "",
           "title": {
            "standoff": 15
           },
           "zerolinecolor": "white",
           "zerolinewidth": 2
          },
          "yaxis": {
           "automargin": true,
           "gridcolor": "white",
           "linecolor": "white",
           "ticks": "",
           "title": {
            "standoff": 15
           },
           "zerolinecolor": "white",
           "zerolinewidth": 2
          }
         }
        },
        "title": {
         "text": "Percentage of Names Ending by Each Letter by Country"
        },
        "xaxis": {
         "title": {
          "text": "Letter of the Name"
         }
        },
        "yaxis": {
         "ticksuffix": "%",
         "title": {
          "text": "% of Total Names by Origin"
         }
        }
       }
      }
     },
     "metadata": {},
     "output_type": "display_data"
    }
   ],
   "source": [
    "def create_letter_count_df(df, letter_position):\n",
    "\n",
    "    df_letter = df.copy()\n",
    "    df_letter['letter'] = df_letter['Name'].apply(lambda name: name[letter_position].lower())\n",
    "    \n",
    "    letter_counts_H = df_letter[df_letter['Country'] == 'Slavic']['letter'].value_counts()\n",
    "    letter_counts_F = df_letter[df_letter['Country'] == 'English-Speaking']['letter'].value_counts()\n",
    "\n",
    "    male_count = df_letter[df_letter['Country'] == 'Slavic'].shape[0]\n",
    "    female_count = df_letter[df_letter['Country'] == 'English-Speaking'].shape[0]\n",
    "    letter_counts_H_percentage = letter_counts_H / male_count*100\n",
    "    letter_counts_F_percentage = letter_counts_F / female_count*100\n",
    "    letter_counts = pd.concat([letter_counts_H_percentage, letter_counts_F_percentage], axis=1)\n",
    "    letter_counts.columns = ['letter_men', 'letter_women']\n",
    "    letter_counts = letter_counts.head(26)  # Limit to top 26 letters\n",
    "\n",
    "    top_letter_names = (\n",
    "        df_letter.groupby(['letter', 'Country'])['Name']\n",
    "        .apply(lambda x: x.value_counts().head(3).index.tolist())\n",
    "        .unstack(fill_value=[])\n",
    "    )\n",
    "\n",
    "    return letter_counts, top_letter_names\n",
    "\n",
    "def plot_letter_name_percentage(df, letter_position, comparison):\n",
    "\n",
    "    letter_counts, top_letter_names = create_letter_count_df(df, letter_position)\n",
    "\n",
    "    if letter_position == 0:\n",
    "        title = f'Percentage of Names Starting by Each Letter by {comparison}'\n",
    "    else:\n",
    "        title = f'Percentage of Names Ending by Each Letter by {comparison}'\n",
    "\n",
    "    fig = go.Figure()\n",
    "\n",
    "    fig.add_trace(go.Bar(\n",
    "        x=letter_counts.index,\n",
    "        y=letter_counts['letter_men'],\n",
    "        name='Slavic',\n",
    "        marker_color='salmon',\n",
    "        hovertext=[f\"Top names: {', '.join(top_letter_names.loc[letter, 'Slavic'])}\" if 'Slavic' in top_letter_names.columns else \"\" for letter in letter_counts.index],\n",
    "        hoverinfo=\"text\"\n",
    "    ))\n",
    "\n",
    "    fig.add_trace(go.Bar(\n",
    "        x=letter_counts.index,\n",
    "        y=letter_counts['letter_women'],\n",
    "        name='English-Speaking',\n",
    "        marker_color='skyblue',\n",
    "        hovertext=[f\"Top names: {', '.join(top_letter_names.loc[letter, 'English-Speaking'])}\" if 'English-Speaking' in top_letter_names.columns else \"\" for letter in letter_counts.index],\n",
    "        hoverinfo=\"text\"\n",
    "    ))\n",
    "\n",
    "    fig.update_layout(\n",
    "        title=title,\n",
    "        xaxis_title='Letter of the Name',\n",
    "        yaxis_title='% of Total Names by Origin',\n",
    "        barmode='group',\n",
    "        yaxis=dict(ticksuffix='%'),\n",
    "        legend_title=\"Origin:\"\n",
    "    )\n",
    "\n",
    "    fig.show()\n",
    "\n",
    "plot_letter_name_percentage(df_ethnicity, 0, comparison='Country')\n",
    "plot_letter_name_percentage(df_ethnicity, -1, comparison='Country')"
   ]
  },
  {
   "cell_type": "code",
   "execution_count": 128,
   "metadata": {},
   "outputs": [
    {
     "name": "stdout",
     "output_type": "stream",
     "text": [
      "Chi-Square Statistic: 58198.75\n",
      "p-value: 0.0\n"
     ]
    }
   ],
   "source": [
    "df_ethn_stats = df_ethnicity.explode('Country')\n",
    "\n",
    "contingency_table = create_contingency_table(df_ethn_stats,'Name','Country')\n",
    "chi2, p_value, dof, expected = stats.chi2_contingency(contingency_table)\n",
    "\n",
    "print(f\"Chi-Square Statistic: {chi2:.2f}\")\n",
    "print(f\"p-value: {p_value}\")"
   ]
  },
  {
   "cell_type": "markdown",
   "metadata": {},
   "source": [
    "The p-value is very close to zero, hence we can say that there is an association between character names and genres. We will now try to quantify this association using Cramér's V."
   ]
  },
  {
   "cell_type": "code",
   "execution_count": 129,
   "metadata": {},
   "outputs": [
    {
     "name": "stdout",
     "output_type": "stream",
     "text": [
      "Cramér's V: 0.881\n"
     ]
    }
   ],
   "source": [
    "\n",
    "n = contingency_table.sum().sum()\n",
    "k = min(contingency_table.shape)\n",
    "cramers_v = np.sqrt(chi2 / (n * (k - 1)))\n",
    "\n",
    "print(f\"Cramér's V: {cramers_v:.3f}\")"
   ]
  },
  {
   "cell_type": "markdown",
   "metadata": {},
   "source": [
    "The Cramér's V is superior to 0.80 meaning that there is a strong association between the country and the name."
   ]
  },
  {
   "cell_type": "markdown",
   "metadata": {},
   "source": [
    "# Creation of the model"
   ]
  },
  {
   "cell_type": "code",
   "execution_count": 130,
   "metadata": {},
   "outputs": [],
   "source": [
    "def find_unusual_characters(df, column_name, allowed_chars='abcdefghijklmnopqrstuvwxyzABCDEFGHIJKLMNOPQRSTUVWXYZ'):\n",
    "    \"\"\"\n",
    "    Identify all unique characters in a column that are not in the allowed characters.\n",
    "\n",
    "    Parameters:\n",
    "        df (pd.DataFrame): The dataset containing the column.\n",
    "        column_name (str): The name of the column to analyze.\n",
    "        allowed_chars (str): A string of allowed characters.\n",
    "\n",
    "    Returns:\n",
    "        set: A set of unique unusual characters.\n",
    "    \"\"\"\n",
    "    # Create a set of allowed characters\n",
    "    allowed_set = set(allowed_chars)\n",
    "    \n",
    "    # Combine all characters in the specified column\n",
    "    all_characters = ''.join(df[column_name].dropna().astype(str))\n",
    "    \n",
    "    # Find unusual characters\n",
    "    unusual_characters = set(all_characters) - allowed_set\n",
    "    \n",
    "    # Print and return the unusual characters\n",
    "    print(\"Unusual Characters Found:\", unusual_characters)"
   ]
  },
  {
   "cell_type": "code",
   "execution_count": 131,
   "metadata": {},
   "outputs": [
    {
     "name": "stdout",
     "output_type": "stream",
     "text": [
      "Unusual Characters Found: {'Ö', 'ç', '¶', 'ü', 'é', 'ö', 'Ã', 'è', 'á', 'ë', 'ä', 'ï', '©'}\n"
     ]
    }
   ],
   "source": [
    "find_unusual_characters(df_ethnicity, 'Name')"
   ]
  },
  {
   "cell_type": "markdown",
   "metadata": {},
   "source": [
    "Encode the Coutries as numbers :"
   ]
  },
  {
   "cell_type": "code",
   "execution_count": 132,
   "metadata": {},
   "outputs": [],
   "source": [
    "class ColumnEncoder:\n",
    "    def __init__(self, column_name):\n",
    "        \"\"\"\n",
    "        Initialize the encoder for a specific column.\n",
    "        \"\"\"\n",
    "        self.column_name = column_name\n",
    "        self.legend = None  # To store the legend of encoded values\n",
    "\n",
    "    def fit_transform(self, df):\n",
    "        \"\"\"\n",
    "        Encodes the column in the DataFrame as integers and stores the legend.\n",
    "        \"\"\"\n",
    "        if self.column_name not in df.columns:\n",
    "            raise ValueError(f\"Column '{self.column_name}' not found in DataFrame.\")\n",
    "        \n",
    "        # Factorize the column and store the legend\n",
    "        df[self.column_name], self.legend = pd.factorize(df[self.column_name])\n",
    "        return df\n",
    "\n",
    "    def get_legend(self):\n",
    "        \"\"\"\n",
    "        Generates a DataFrame containing the legend of encoded values.\n",
    "        \"\"\"\n",
    "        if self.legend is None:\n",
    "            raise ValueError(\"The encoder has not been fitted. Call `fit_transform` first.\")\n",
    "        \n",
    "        legend_df = pd.DataFrame({\n",
    "            'Encoded Value': range(len(self.legend)),\n",
    "            self.column_name: self.legend\n",
    "        })\n",
    "        return legend_df"
   ]
  },
  {
   "cell_type": "code",
   "execution_count": 133,
   "metadata": {},
   "outputs": [
    {
     "name": "stdout",
     "output_type": "stream",
     "text": [
      "Legend:\n"
     ]
    },
    {
     "data": {
      "text/html": [
       "<div>\n",
       "<style scoped>\n",
       "    .dataframe tbody tr th:only-of-type {\n",
       "        vertical-align: middle;\n",
       "    }\n",
       "\n",
       "    .dataframe tbody tr th {\n",
       "        vertical-align: top;\n",
       "    }\n",
       "\n",
       "    .dataframe thead th {\n",
       "        text-align: right;\n",
       "    }\n",
       "</style>\n",
       "<table border=\"1\" class=\"dataframe\">\n",
       "  <thead>\n",
       "    <tr style=\"text-align: right;\">\n",
       "      <th></th>\n",
       "      <th>Encoded Value</th>\n",
       "      <th>Country</th>\n",
       "    </tr>\n",
       "  </thead>\n",
       "  <tbody>\n",
       "    <tr>\n",
       "      <th>0</th>\n",
       "      <td>0</td>\n",
       "      <td>Slavic</td>\n",
       "    </tr>\n",
       "    <tr>\n",
       "      <th>1</th>\n",
       "      <td>1</td>\n",
       "      <td>Nordic</td>\n",
       "    </tr>\n",
       "    <tr>\n",
       "      <th>2</th>\n",
       "      <td>2</td>\n",
       "      <td>Romance</td>\n",
       "    </tr>\n",
       "    <tr>\n",
       "      <th>3</th>\n",
       "      <td>3</td>\n",
       "      <td>East Asian</td>\n",
       "    </tr>\n",
       "    <tr>\n",
       "      <th>4</th>\n",
       "      <td>4</td>\n",
       "      <td>Germanic</td>\n",
       "    </tr>\n",
       "    <tr>\n",
       "      <th>5</th>\n",
       "      <td>5</td>\n",
       "      <td>English-Speaking</td>\n",
       "    </tr>\n",
       "    <tr>\n",
       "      <th>6</th>\n",
       "      <td>6</td>\n",
       "      <td>Hispanic</td>\n",
       "    </tr>\n",
       "  </tbody>\n",
       "</table>\n",
       "</div>"
      ],
      "text/plain": [
       "   Encoded Value           Country\n",
       "0              0            Slavic\n",
       "1              1            Nordic\n",
       "2              2           Romance\n",
       "3              3        East Asian\n",
       "4              4          Germanic\n",
       "5              5  English-Speaking\n",
       "6              6          Hispanic"
      ]
     },
     "execution_count": 133,
     "metadata": {},
     "output_type": "execute_result"
    }
   ],
   "source": [
    "# Encode the column in the DataFrame\n",
    "encoder = ColumnEncoder(column_name='Country')\n",
    "df_ethnicity = encoder.fit_transform(df_ethnicity)\n",
    "\n",
    "# Get the legend \n",
    "legend_df = encoder.get_legend()\n",
    "print(\"Legend:\")\n",
    "legend_df.head(14)\n"
   ]
  },
  {
   "cell_type": "code",
   "execution_count": 134,
   "metadata": {},
   "outputs": [
    {
     "data": {
      "text/html": [
       "<div>\n",
       "<style scoped>\n",
       "    .dataframe tbody tr th:only-of-type {\n",
       "        vertical-align: middle;\n",
       "    }\n",
       "\n",
       "    .dataframe tbody tr th {\n",
       "        vertical-align: top;\n",
       "    }\n",
       "\n",
       "    .dataframe thead th {\n",
       "        text-align: right;\n",
       "    }\n",
       "</style>\n",
       "<table border=\"1\" class=\"dataframe\">\n",
       "  <thead>\n",
       "    <tr style=\"text-align: right;\">\n",
       "      <th></th>\n",
       "      <th>Name</th>\n",
       "      <th>Country</th>\n",
       "      <th>vowel_count</th>\n",
       "      <th>consonant_count</th>\n",
       "      <th>name_length</th>\n",
       "    </tr>\n",
       "  </thead>\n",
       "  <tbody>\n",
       "    <tr>\n",
       "      <th>6313</th>\n",
       "      <td>Daniel</td>\n",
       "      <td>1</td>\n",
       "      <td>3</td>\n",
       "      <td>3</td>\n",
       "      <td>6</td>\n",
       "    </tr>\n",
       "    <tr>\n",
       "      <th>2922</th>\n",
       "      <td>Ronald</td>\n",
       "      <td>5</td>\n",
       "      <td>2</td>\n",
       "      <td>4</td>\n",
       "      <td>6</td>\n",
       "    </tr>\n",
       "    <tr>\n",
       "      <th>1633</th>\n",
       "      <td>Charles</td>\n",
       "      <td>5</td>\n",
       "      <td>2</td>\n",
       "      <td>5</td>\n",
       "      <td>7</td>\n",
       "    </tr>\n",
       "    <tr>\n",
       "      <th>9395</th>\n",
       "      <td>Rune</td>\n",
       "      <td>1</td>\n",
       "      <td>2</td>\n",
       "      <td>2</td>\n",
       "      <td>4</td>\n",
       "    </tr>\n",
       "    <tr>\n",
       "      <th>8047</th>\n",
       "      <td>Boris</td>\n",
       "      <td>0</td>\n",
       "      <td>2</td>\n",
       "      <td>3</td>\n",
       "      <td>5</td>\n",
       "    </tr>\n",
       "  </tbody>\n",
       "</table>\n",
       "</div>"
      ],
      "text/plain": [
       "         Name  Country  vowel_count  consonant_count  name_length\n",
       "6313   Daniel        1            3                3            6\n",
       "2922   Ronald        5            2                4            6\n",
       "1633  Charles        5            2                5            7\n",
       "9395     Rune        1            2                2            4\n",
       "8047    Boris        0            2                3            5"
      ]
     },
     "execution_count": 134,
     "metadata": {},
     "output_type": "execute_result"
    }
   ],
   "source": [
    "df_ethnicity.sample(5)"
   ]
  },
  {
   "cell_type": "markdown",
   "metadata": {},
   "source": [
    "## 1. Name Lenght, Vowel/Consonant Count and Ratio, Soundex and N-Gram"
   ]
  },
  {
   "cell_type": "code",
   "execution_count": 135,
   "metadata": {},
   "outputs": [],
   "source": [
    "class EthnicityDataProcessor:\n",
    "    def __init__(self, ngram_range = (2, 3)):\n",
    "        \"\"\"\n",
    "        Initialize the processor with optional n-gram range for text vectorization.\n",
    "        \"\"\"\n",
    "        self.ngram_range = ngram_range\n",
    "        self.vectorizer = None\n",
    "\n",
    "    @staticmethod\n",
    "    def analyze_name(name):\n",
    "        if not isinstance(name, str) or not name.strip():  # Handle empty or invalid names\n",
    "            return pd.Series({\n",
    "                'Length': 0,  \n",
    "                'Vowel Count': 0,\n",
    "                'Consonant Count': 0,\n",
    "                'Vowel/Consonant Ratio': 0,\n",
    "            })\n",
    "\n",
    "        vowels = set('aeiouyüéèäöÃëçÖïá')\n",
    "        consonants = set('bcdfghjklmnpqrstvwxzç')\n",
    "        length = len(name)\n",
    "        vowel_count = sum(1 for char in name.lower() if char in vowels)\n",
    "        consonant_count = sum(1 for char in name.lower() if char in consonants)\n",
    "        return pd.Series({\n",
    "            'Length': length,\n",
    "            'Vowel Count': vowel_count,\n",
    "            'Consonant Count': consonant_count,\n",
    "            'Vowel/Consonant Ratio': vowel_count / consonant_count if consonant_count > 0 else 0,\n",
    "        })\n",
    "\n",
    "    @staticmethod\n",
    "    def first_last_letter(name):\n",
    "        \"\"\"\n",
    "        Create columns for the first and last letter of the name for an extended alphabet.\n",
    "        Each column corresponds to a letter of the alphabet plus additional diacritic letters.\n",
    "    \"\"\"\n",
    "        # Define the extended alphabet\n",
    "        alphabet = 'abcdefghijklmnopqrstuvwxyzüéèäöÃëçÖïáéäÔþçÁøõãæšáàÂùðìôêÖØÀûßýÉïåÓúśíłÅÞūžâÍÈëōîñüèóöÕò'\n",
    "\n",
    "        # Initialize all columns to 0\n",
    "        columns = {f\"{letter}_f\": 0 for letter in alphabet}\n",
    "        columns.update({f\"{letter}_l\": 0 for letter in alphabet})\n",
    "\n",
    "        # Validate the input name\n",
    "        if not isinstance(name, str) or not name.strip():\n",
    "            return pd.Series(columns)\n",
    "    \n",
    "        # Get the first and last letter\n",
    "        name = name.strip().lower()\n",
    "        first_letter = name[0] if name else None\n",
    "        last_letter = name[-1] if name else None\n",
    "\n",
    "        # Set 1 for the corresponding first and last letter columns\n",
    "        if first_letter in alphabet:\n",
    "            columns[f\"{first_letter}_f\"] = 1\n",
    "        if last_letter in alphabet:\n",
    "            columns[f\"{last_letter}_l\"] = 1\n",
    "\n",
    "        return pd.Series(columns)\n",
    "        \n",
    "\n",
    "    @staticmethod\n",
    "    def add_diacritic_columns(names, diacritics=\"üéèäöÃëçÖïáéäÔþçÁøõãæšáàÂùðìôêÖØÀûßýÉïåÓúśíłÅÞūžâÍÈëōîñüèóöÕò\"):\n",
    "        \"\"\"\n",
    "        Add binary columns for each diacritic in the names.\n",
    "        \"\"\"\n",
    "        diacritic_set = set(diacritics)\n",
    "        diacritic_columns = {\n",
    "            f\"{diacritic}\": names.apply(lambda name: 1 if diacritic in name.lower() else 0)\n",
    "            for diacritic in diacritic_set\n",
    "        }\n",
    "        diacritic_df = pd.DataFrame(diacritic_columns)\n",
    "        # Drop columns where no diacritics are found\n",
    "        diacritic_df = diacritic_df.loc[:, (diacritic_df.sum(axis=0) > 0)]\n",
    "        return diacritic_df\n",
    "\n",
    "    @staticmethod\n",
    "    def add_soundex_encoding(names):\n",
    "        \"\"\"\n",
    "        Add Soundex encoding to the names.\n",
    "        \"\"\"\n",
    "        soundex_series = names.apply(soundex)\n",
    "        return pd.get_dummies(soundex_series, prefix='Soundex')\n",
    "\n",
    "    def add_ngram_features(self, names):\n",
    "        \"\"\"\n",
    "        Add n-gram features for the names using character-based n-grams.\n",
    "        \"\"\"\n",
    "        if self.ngram_range is not None:\n",
    "            self.vectorizer = CountVectorizer(analyzer='char', ngram_range=self.ngram_range)\n",
    "            ngram_features = self.vectorizer.fit_transform(names)\n",
    "            return pd.DataFrame(ngram_features.toarray(), columns=self.vectorizer.get_feature_names_out())\n",
    "        return pd.DataFrame()\n",
    "\n",
    "    def process(self, df):\n",
    "        \"\"\"\n",
    "        Process the input DataFrame to add all the features.\n",
    "        \"\"\"\n",
    "        # Analyze names\n",
    "        df = df.join(df['Name'].apply(self.analyze_name))\n",
    "\n",
    "        # Add diacritic columns\n",
    "        diacritic_df = self.add_diacritic_columns(df['Name'])\n",
    "        df = df.join(diacritic_df)\n",
    "\n",
    "        # Add Soundex encoding\n",
    "        soundex_df = self.add_soundex_encoding(df['Name'])\n",
    "        df = pd.concat([df, soundex_df], axis=1)\n",
    "\n",
    "        # Add first and last letter columns for the extended alphabet\n",
    "        letter_df = df['Name'].apply(self.first_last_letter)\n",
    "        df = pd.concat([df, letter_df], axis=1)\n",
    "\n",
    "        # Add n-gram features\n",
    "        ngram_df = self.add_ngram_features(df['Name'])\n",
    "        df = pd.concat([df, ngram_df], axis=1)\n",
    "        \n",
    "        return df"
   ]
  },
  {
   "cell_type": "code",
   "execution_count": 136,
   "metadata": {},
   "outputs": [
    {
     "data": {
      "text/html": [
       "<div>\n",
       "<style scoped>\n",
       "    .dataframe tbody tr th:only-of-type {\n",
       "        vertical-align: middle;\n",
       "    }\n",
       "\n",
       "    .dataframe tbody tr th {\n",
       "        vertical-align: top;\n",
       "    }\n",
       "\n",
       "    .dataframe thead th {\n",
       "        text-align: right;\n",
       "    }\n",
       "</style>\n",
       "<table border=\"1\" class=\"dataframe\">\n",
       "  <thead>\n",
       "    <tr style=\"text-align: right;\">\n",
       "      <th></th>\n",
       "      <th>Name</th>\n",
       "      <th>Country</th>\n",
       "      <th>vowel_count</th>\n",
       "      <th>consonant_count</th>\n",
       "      <th>name_length</th>\n",
       "      <th>Length</th>\n",
       "      <th>Vowel Count</th>\n",
       "      <th>Consonant Count</th>\n",
       "      <th>Vowel/Consonant Ratio</th>\n",
       "      <th>ü</th>\n",
       "      <th>...</th>\n",
       "      <th>öt</th>\n",
       "      <th>öta</th>\n",
       "      <th>öte</th>\n",
       "      <th>öth</th>\n",
       "      <th>üd</th>\n",
       "      <th>üdi</th>\n",
       "      <th>ün</th>\n",
       "      <th>ünt</th>\n",
       "      <th>ür</th>\n",
       "      <th>ürg</th>\n",
       "    </tr>\n",
       "  </thead>\n",
       "  <tbody>\n",
       "    <tr>\n",
       "      <th>0</th>\n",
       "      <td>Vaclav</td>\n",
       "      <td>0</td>\n",
       "      <td>2</td>\n",
       "      <td>4</td>\n",
       "      <td>6</td>\n",
       "      <td>6.0</td>\n",
       "      <td>2.0</td>\n",
       "      <td>4.0</td>\n",
       "      <td>0.500000</td>\n",
       "      <td>0</td>\n",
       "      <td>...</td>\n",
       "      <td>0</td>\n",
       "      <td>0</td>\n",
       "      <td>0</td>\n",
       "      <td>0</td>\n",
       "      <td>0</td>\n",
       "      <td>0</td>\n",
       "      <td>0</td>\n",
       "      <td>0</td>\n",
       "      <td>0</td>\n",
       "      <td>0</td>\n",
       "    </tr>\n",
       "    <tr>\n",
       "      <th>1</th>\n",
       "      <td>Allan</td>\n",
       "      <td>0</td>\n",
       "      <td>2</td>\n",
       "      <td>3</td>\n",
       "      <td>5</td>\n",
       "      <td>5.0</td>\n",
       "      <td>2.0</td>\n",
       "      <td>3.0</td>\n",
       "      <td>0.666667</td>\n",
       "      <td>0</td>\n",
       "      <td>...</td>\n",
       "      <td>0</td>\n",
       "      <td>0</td>\n",
       "      <td>0</td>\n",
       "      <td>0</td>\n",
       "      <td>0</td>\n",
       "      <td>0</td>\n",
       "      <td>0</td>\n",
       "      <td>0</td>\n",
       "      <td>0</td>\n",
       "      <td>0</td>\n",
       "    </tr>\n",
       "    <tr>\n",
       "      <th>2</th>\n",
       "      <td>Kristine</td>\n",
       "      <td>1</td>\n",
       "      <td>3</td>\n",
       "      <td>5</td>\n",
       "      <td>8</td>\n",
       "      <td>8.0</td>\n",
       "      <td>3.0</td>\n",
       "      <td>5.0</td>\n",
       "      <td>0.600000</td>\n",
       "      <td>0</td>\n",
       "      <td>...</td>\n",
       "      <td>0</td>\n",
       "      <td>0</td>\n",
       "      <td>0</td>\n",
       "      <td>0</td>\n",
       "      <td>0</td>\n",
       "      <td>0</td>\n",
       "      <td>0</td>\n",
       "      <td>0</td>\n",
       "      <td>0</td>\n",
       "      <td>0</td>\n",
       "    </tr>\n",
       "    <tr>\n",
       "      <th>3</th>\n",
       "      <td>Matteo</td>\n",
       "      <td>2</td>\n",
       "      <td>3</td>\n",
       "      <td>3</td>\n",
       "      <td>6</td>\n",
       "      <td>6.0</td>\n",
       "      <td>3.0</td>\n",
       "      <td>3.0</td>\n",
       "      <td>1.000000</td>\n",
       "      <td>0</td>\n",
       "      <td>...</td>\n",
       "      <td>0</td>\n",
       "      <td>0</td>\n",
       "      <td>0</td>\n",
       "      <td>0</td>\n",
       "      <td>0</td>\n",
       "      <td>0</td>\n",
       "      <td>0</td>\n",
       "      <td>0</td>\n",
       "      <td>0</td>\n",
       "      <td>0</td>\n",
       "    </tr>\n",
       "    <tr>\n",
       "      <th>4</th>\n",
       "      <td>Isao</td>\n",
       "      <td>3</td>\n",
       "      <td>3</td>\n",
       "      <td>1</td>\n",
       "      <td>4</td>\n",
       "      <td>4.0</td>\n",
       "      <td>3.0</td>\n",
       "      <td>1.0</td>\n",
       "      <td>3.000000</td>\n",
       "      <td>0</td>\n",
       "      <td>...</td>\n",
       "      <td>0</td>\n",
       "      <td>0</td>\n",
       "      <td>0</td>\n",
       "      <td>0</td>\n",
       "      <td>0</td>\n",
       "      <td>0</td>\n",
       "      <td>0</td>\n",
       "      <td>0</td>\n",
       "      <td>0</td>\n",
       "      <td>0</td>\n",
       "    </tr>\n",
       "  </tbody>\n",
       "</table>\n",
       "<p>5 rows × 5325 columns</p>\n",
       "</div>"
      ],
      "text/plain": [
       "       Name  Country  vowel_count  consonant_count  name_length  Length  \\\n",
       "0    Vaclav        0            2                4            6     6.0   \n",
       "1     Allan        0            2                3            5     5.0   \n",
       "2  Kristine        1            3                5            8     8.0   \n",
       "3    Matteo        2            3                3            6     6.0   \n",
       "4      Isao        3            3                1            4     4.0   \n",
       "\n",
       "   Vowel Count  Consonant Count  Vowel/Consonant Ratio  ü  ...  öt  öta  öte  \\\n",
       "0          2.0              4.0               0.500000  0  ...   0    0    0   \n",
       "1          2.0              3.0               0.666667  0  ...   0    0    0   \n",
       "2          3.0              5.0               0.600000  0  ...   0    0    0   \n",
       "3          3.0              3.0               1.000000  0  ...   0    0    0   \n",
       "4          3.0              1.0               3.000000  0  ...   0    0    0   \n",
       "\n",
       "   öth  üd  üdi  ün  ünt  ür  ürg  \n",
       "0    0   0    0   0    0   0    0  \n",
       "1    0   0    0   0    0   0    0  \n",
       "2    0   0    0   0    0   0    0  \n",
       "3    0   0    0   0    0   0    0  \n",
       "4    0   0    0   0    0   0    0  \n",
       "\n",
       "[5 rows x 5325 columns]"
      ]
     },
     "execution_count": 136,
     "metadata": {},
     "output_type": "execute_result"
    }
   ],
   "source": [
    "# Process df_ethnicity\n",
    "processor = EthnicityDataProcessor(ngram_range=(2, 3))\n",
    "df_ethnicity_processed = processor.process(df_ethnicity)\n",
    "\n",
    "df_ethnicity_processed.head()"
   ]
  },
  {
   "cell_type": "markdown",
   "metadata": {},
   "source": [
    "**Par rapport à Soundex :** Phonetic algorithm designed to index words (particularly names) based on their pronunciation rather than their spelling. This is especially useful when trying to find names that sound similar but are spelled differently."
   ]
  },
  {
   "cell_type": "markdown",
   "metadata": {},
   "source": [
    "## 2. Scaling features and PCA"
   ]
  },
  {
   "cell_type": "code",
   "execution_count": 137,
   "metadata": {},
   "outputs": [],
   "source": [
    "class PCAProcessor:\n",
    "    def __init__(self, n_components=100):\n",
    "        \"\"\"\n",
    "        Initialize the PCAProcessor with a specified number of components.\n",
    "        \"\"\"\n",
    "        self.n_components = n_components\n",
    "        self.scaler = StandardScaler()\n",
    "        self.pca = PCA(n_components=n_components)\n",
    "        self.pca_features = None\n",
    "        self.explained_variance_ratio_ = None\n",
    "\n",
    "    def fit_transform(self, df, drop_columns=None):\n",
    "        \"\"\"\n",
    "        Fit the PCA model and transform the input DataFrame.\n",
    "        \"\"\"\n",
    "        # Drop specified columns if provided\n",
    "        if drop_columns:\n",
    "            df_features = df.drop(columns=drop_columns)\n",
    "        else:\n",
    "            df_features = df.copy()\n",
    "\n",
    "        # Standardize the data\n",
    "        features_scaled = self.scaler.fit_transform(df_features)\n",
    "\n",
    "        # Apply PCA\n",
    "        self.pca_features = self.pca.fit_transform(features_scaled)\n",
    "        self.explained_variance_ratio_ = self.pca.explained_variance_ratio_\n",
    "\n",
    "        # Create a DataFrame for the PCA-transformed data\n",
    "        pca_columns = [f'PC{i+1}' for i in range(self.n_components)]\n",
    "        return pd.DataFrame(self.pca_features, columns=pca_columns, index=df.index)\n",
    "\n",
    "    def plot_explained_variance(self):\n",
    "        \"\"\"\n",
    "        Plot the cumulative explained variance by PCA components.\n",
    "        \"\"\"\n",
    "        if self.explained_variance_ratio_ is None:\n",
    "            raise ValueError(\"PCA has not been fitted. Run `fit_transform` first.\")\n",
    "        \n",
    "        plt.figure(figsize=(8, 5))\n",
    "        plt.plot(self.pca.explained_variance_ratio_.cumsum())\n",
    "        plt.title(\"Cumulative Explained Variance by PCA Components\")\n",
    "        plt.xlabel(\"Number of Components\")\n",
    "        plt.ylabel(\"Cumulative Explained Variance\")\n",
    "        plt.grid()\n",
    "        plt.show()\n",
    "\n",
    "    def merge_with_original(self, original_df, pca_df, keep_columns):\n",
    "        \"\"\"\n",
    "        Merge the PCA-transformed DataFrame with the original DataFrame.\n",
    "        \"\"\"\n",
    "        # Retain only specified columns and merge with PCA DataFrame\n",
    "        merged_df = pd.concat([original_df[keep_columns], pca_df], axis=1)\n",
    "        return merged_df"
   ]
  },
  {
   "cell_type": "markdown",
   "metadata": {},
   "source": [
    "### Tunning of the number of PCA kept components"
   ]
  },
  {
   "cell_type": "code",
   "execution_count": 138,
   "metadata": {},
   "outputs": [],
   "source": [
    "# from sklearn.decomposition import PCA\n",
    "# from sklearn.model_selection import cross_val_score\n",
    "# from sklearn.ensemble import RandomForestClassifier\n",
    "# import matplotlib.pyplot as plt\n",
    "# import numpy as np\n",
    "\n",
    "# # List to store results\n",
    "# results = []\n",
    "\n",
    "# # Get the number of features in X (ensure it's not less than n_components)\n",
    "# n_features = X.shape[1]\n",
    "\n",
    "# # Iterate over the number of PCA components, from 50 to the number of features (n_features), in steps of 10\n",
    "# for n in range(10, 200, 5):  # Ensure n <= n_features\n",
    "#     # Apply PCA with n components\n",
    "#     pca = PCA(n_components=n)\n",
    "#     X_reduced = pca.fit_transform(X)\n",
    "\n",
    "#     # Train and evaluate the model with cross-validation\n",
    "#     model = RandomForestClassifier()\n",
    "#     scores = cross_val_score(\n",
    "#         model, X_reduced, y, cv=5, scoring='neg_mean_squared_error'\n",
    "#     )\n",
    "#     # Store the mean of absolute MSE scores\n",
    "#     mean_mse = -np.mean(scores)\n",
    "#     results.append((n, mean_mse))\n",
    "\n",
    "# # Find the best number of components\n",
    "# best_n, best_score = min(results, key=lambda x: x[1])  # Minimize error\n",
    "# print(f\"Best number of components: {best_n}, Lowest MSE: {best_score}\")\n",
    "\n",
    "# # Plot results\n",
    "# plt.plot([r[0] for r in results], [r[1] for r in results])\n",
    "# plt.xlabel('Number of Components')\n",
    "# plt.ylabel('Mean Squared Error (MSE)')\n",
    "# plt.title('Model Performance vs Number of Components')\n",
    "# plt.show()"
   ]
  },
  {
   "cell_type": "code",
   "execution_count": 139,
   "metadata": {},
   "outputs": [
    {
     "data": {
      "image/png": "[encoded data removed]",
      "text/plain": [
       "<Figure size 640x480 with 1 Axes>"
      ]
     },
     "metadata": {},
     "output_type": "display_data"
    }
   ],
   "source": [
    "import matplotlib.image as mpimg\n",
    "# Load and display the evolution of the MSE in respect of n:\n",
    "img = mpimg.imread('data/Image/best_n.png')\n",
    "plt.imshow(img)\n",
    "plt.axis('off')\n",
    "plt.show()"
   ]
  },
  {
   "cell_type": "code",
   "execution_count": 140,
   "metadata": {},
   "outputs": [
    {
     "data": {
      "image/png": "[encoded data removed]",
      "text/plain": [
       "<Figure size 800x500 with 1 Axes>"
      ]
     },
     "metadata": {},
     "output_type": "display_data"
    },
    {
     "data": {
      "text/html": [
       "<div>\n",
       "<style scoped>\n",
       "    .dataframe tbody tr th:only-of-type {\n",
       "        vertical-align: middle;\n",
       "    }\n",
       "\n",
       "    .dataframe tbody tr th {\n",
       "        vertical-align: top;\n",
       "    }\n",
       "\n",
       "    .dataframe thead th {\n",
       "        text-align: right;\n",
       "    }\n",
       "</style>\n",
       "<table border=\"1\" class=\"dataframe\">\n",
       "  <thead>\n",
       "    <tr style=\"text-align: right;\">\n",
       "      <th></th>\n",
       "      <th>Name</th>\n",
       "      <th>Country</th>\n",
       "      <th>PC1</th>\n",
       "      <th>PC2</th>\n",
       "      <th>PC3</th>\n",
       "      <th>PC4</th>\n",
       "      <th>PC5</th>\n",
       "      <th>PC6</th>\n",
       "      <th>PC7</th>\n",
       "      <th>PC8</th>\n",
       "      <th>...</th>\n",
       "      <th>PC131</th>\n",
       "      <th>PC132</th>\n",
       "      <th>PC133</th>\n",
       "      <th>PC134</th>\n",
       "      <th>PC135</th>\n",
       "      <th>PC136</th>\n",
       "      <th>PC137</th>\n",
       "      <th>PC138</th>\n",
       "      <th>PC139</th>\n",
       "      <th>PC140</th>\n",
       "    </tr>\n",
       "  </thead>\n",
       "  <tbody>\n",
       "    <tr>\n",
       "      <th>0</th>\n",
       "      <td>Vaclav</td>\n",
       "      <td>0</td>\n",
       "      <td>3.356386</td>\n",
       "      <td>5.957945</td>\n",
       "      <td>-0.851811</td>\n",
       "      <td>-0.100831</td>\n",
       "      <td>0.099880</td>\n",
       "      <td>-0.856530</td>\n",
       "      <td>1.136303</td>\n",
       "      <td>-2.854930</td>\n",
       "      <td>...</td>\n",
       "      <td>2.868686</td>\n",
       "      <td>-0.365955</td>\n",
       "      <td>-3.964937</td>\n",
       "      <td>-1.835236</td>\n",
       "      <td>2.503371</td>\n",
       "      <td>-1.782305</td>\n",
       "      <td>0.018409</td>\n",
       "      <td>0.514944</td>\n",
       "      <td>0.835237</td>\n",
       "      <td>-1.896774</td>\n",
       "    </tr>\n",
       "    <tr>\n",
       "      <th>1</th>\n",
       "      <td>Allan</td>\n",
       "      <td>0</td>\n",
       "      <td>0.072478</td>\n",
       "      <td>-0.659966</td>\n",
       "      <td>-1.234727</td>\n",
       "      <td>-0.106570</td>\n",
       "      <td>0.105220</td>\n",
       "      <td>-0.665151</td>\n",
       "      <td>0.262332</td>\n",
       "      <td>-0.796471</td>\n",
       "      <td>...</td>\n",
       "      <td>0.568431</td>\n",
       "      <td>0.280673</td>\n",
       "      <td>-0.130288</td>\n",
       "      <td>0.622419</td>\n",
       "      <td>0.147164</td>\n",
       "      <td>-0.086528</td>\n",
       "      <td>0.398157</td>\n",
       "      <td>-0.492194</td>\n",
       "      <td>0.472964</td>\n",
       "      <td>-0.344902</td>\n",
       "    </tr>\n",
       "    <tr>\n",
       "      <th>2</th>\n",
       "      <td>Kristine</td>\n",
       "      <td>1</td>\n",
       "      <td>4.811981</td>\n",
       "      <td>1.003031</td>\n",
       "      <td>11.405363</td>\n",
       "      <td>-0.274610</td>\n",
       "      <td>3.458667</td>\n",
       "      <td>-2.694903</td>\n",
       "      <td>-5.284432</td>\n",
       "      <td>1.339493</td>\n",
       "      <td>...</td>\n",
       "      <td>-0.581977</td>\n",
       "      <td>-0.155116</td>\n",
       "      <td>-0.682107</td>\n",
       "      <td>-1.682391</td>\n",
       "      <td>0.404164</td>\n",
       "      <td>0.206621</td>\n",
       "      <td>-1.661069</td>\n",
       "      <td>-0.942621</td>\n",
       "      <td>-2.720998</td>\n",
       "      <td>0.685638</td>\n",
       "    </tr>\n",
       "    <tr>\n",
       "      <th>3</th>\n",
       "      <td>Matteo</td>\n",
       "      <td>2</td>\n",
       "      <td>-1.359794</td>\n",
       "      <td>0.096057</td>\n",
       "      <td>0.251899</td>\n",
       "      <td>-0.118115</td>\n",
       "      <td>1.346785</td>\n",
       "      <td>0.689981</td>\n",
       "      <td>-0.596636</td>\n",
       "      <td>0.304657</td>\n",
       "      <td>...</td>\n",
       "      <td>-2.224606</td>\n",
       "      <td>1.438994</td>\n",
       "      <td>-3.429900</td>\n",
       "      <td>-2.538575</td>\n",
       "      <td>0.585341</td>\n",
       "      <td>0.248199</td>\n",
       "      <td>-0.643174</td>\n",
       "      <td>-1.469545</td>\n",
       "      <td>3.198195</td>\n",
       "      <td>-2.435495</td>\n",
       "    </tr>\n",
       "    <tr>\n",
       "      <th>4</th>\n",
       "      <td>Isao</td>\n",
       "      <td>3</td>\n",
       "      <td>-2.460080</td>\n",
       "      <td>-0.443865</td>\n",
       "      <td>-1.557867</td>\n",
       "      <td>-0.056344</td>\n",
       "      <td>2.126083</td>\n",
       "      <td>-0.713613</td>\n",
       "      <td>-0.729418</td>\n",
       "      <td>-0.227634</td>\n",
       "      <td>...</td>\n",
       "      <td>0.563920</td>\n",
       "      <td>-0.671153</td>\n",
       "      <td>-1.128021</td>\n",
       "      <td>1.625264</td>\n",
       "      <td>-0.518867</td>\n",
       "      <td>0.022160</td>\n",
       "      <td>-0.423817</td>\n",
       "      <td>-1.339516</td>\n",
       "      <td>-0.238945</td>\n",
       "      <td>-1.496668</td>\n",
       "    </tr>\n",
       "  </tbody>\n",
       "</table>\n",
       "<p>5 rows × 142 columns</p>\n",
       "</div>"
      ],
      "text/plain": [
       "       Name  Country       PC1       PC2        PC3       PC4       PC5  \\\n",
       "0    Vaclav        0  3.356386  5.957945  -0.851811 -0.100831  0.099880   \n",
       "1     Allan        0  0.072478 -0.659966  -1.234727 -0.106570  0.105220   \n",
       "2  Kristine        1  4.811981  1.003031  11.405363 -0.274610  3.458667   \n",
       "3    Matteo        2 -1.359794  0.096057   0.251899 -0.118115  1.346785   \n",
       "4      Isao        3 -2.460080 -0.443865  -1.557867 -0.056344  2.126083   \n",
       "\n",
       "        PC6       PC7       PC8  ...     PC131     PC132     PC133     PC134  \\\n",
       "0 -0.856530  1.136303 -2.854930  ...  2.868686 -0.365955 -3.964937 -1.835236   \n",
       "1 -0.665151  0.262332 -0.796471  ...  0.568431  0.280673 -0.130288  0.622419   \n",
       "2 -2.694903 -5.284432  1.339493  ... -0.581977 -0.155116 -0.682107 -1.682391   \n",
       "3  0.689981 -0.596636  0.304657  ... -2.224606  1.438994 -3.429900 -2.538575   \n",
       "4 -0.713613 -0.729418 -0.227634  ...  0.563920 -0.671153 -1.128021  1.625264   \n",
       "\n",
       "      PC135     PC136     PC137     PC138     PC139     PC140  \n",
       "0  2.503371 -1.782305  0.018409  0.514944  0.835237 -1.896774  \n",
       "1  0.147164 -0.086528  0.398157 -0.492194  0.472964 -0.344902  \n",
       "2  0.404164  0.206621 -1.661069 -0.942621 -2.720998  0.685638  \n",
       "3  0.585341  0.248199 -0.643174 -1.469545  3.198195 -2.435495  \n",
       "4 -0.518867  0.022160 -0.423817 -1.339516 -0.238945 -1.496668  \n",
       "\n",
       "[5 rows x 142 columns]"
      ]
     },
     "execution_count": 140,
     "metadata": {},
     "output_type": "execute_result"
    }
   ],
   "source": [
    "# Choice of number of PCA kept cmponents\n",
    "n=140\n",
    "\n",
    "# PCAProcessor\n",
    "pca_processor = PCAProcessor(n_components=n)\n",
    "pca_df = pca_processor.fit_transform(df_ethnicity_processed, drop_columns=['Name', 'Country']) # Fit PCA and transform the data\n",
    "pca_processor.plot_explained_variance() # Plot explained variance\n",
    "df_ethnicity_pca = pca_processor.merge_with_original(df_ethnicity_processed, pca_df, keep_columns=['Name', 'Country']) # Merge PCA components with original columns ('Name' and 'Country')\n",
    "\n",
    "df_ethnicity_pca.head()"
   ]
  },
  {
   "cell_type": "code",
   "execution_count": 141,
   "metadata": {},
   "outputs": [
    {
     "name": "stdout",
     "output_type": "stream",
     "text": [
      "There are 9999 samples in the training set.\n",
      "There are 2500 samples in the testing set.\n"
     ]
    }
   ],
   "source": [
    "# Define features and targets\n",
    "X = df_ethnicity_pca.drop(columns=['Name','Country'])\n",
    "y = df_ethnicity_pca['Country']\n",
    "\n",
    "# Train-test split\n",
    "X_train, X_test, y_train, y_test = train_test_split(X, y, test_size=0.2)\n",
    "\n",
    "print(f\"There are {X_train.shape[0]} samples in the training set.\")\n",
    "print(f\"There are {X_test.shape[0]} samples in the testing set.\")"
   ]
  },
  {
   "cell_type": "code",
   "execution_count": 142,
   "metadata": {},
   "outputs": [],
   "source": [
    "scaler = StandardScaler()\n",
    "X_train = scaler.fit_transform(X_train)\n",
    "X_test = scaler.fit_transform(X_test)\n",
    "\n",
    "X_train = sm.add_constant(X_train)\n",
    "X_test = sm.add_constant(X_test)\n",
    "\n",
    "# columns = [\"Constant\"] + list(df_ethnicity_pca.drop(columns=['Name','Country']).columns) \n",
    "# df_X_train = pd.DataFrame(X_train, columns=columns)"
   ]
  },
  {
   "cell_type": "code",
   "execution_count": 143,
   "metadata": {},
   "outputs": [
    {
     "name": "stdout",
     "output_type": "stream",
     "text": [
      "Accuracy: 0.7116\n",
      "Classification Report:\n",
      "              precision    recall  f1-score   support\n",
      "\n",
      "           0       0.80      0.83      0.82       606\n",
      "           1       0.85      0.43      0.57       174\n",
      "           2       0.70      0.69      0.70       363\n",
      "           3       0.93      0.76      0.84       140\n",
      "           4       0.67      0.66      0.67       490\n",
      "           5       0.63      0.80      0.70       558\n",
      "           6       0.65      0.42      0.51       169\n",
      "\n",
      "    accuracy                           0.71      2500\n",
      "   macro avg       0.75      0.66      0.69      2500\n",
      "weighted avg       0.72      0.71      0.71      2500\n",
      "\n"
     ]
    }
   ],
   "source": [
    "# Initialize the classifier\n",
    "model = RandomForestClassifier(random_state=42)\n",
    "\n",
    "# Train the classifier\n",
    "model.fit(X_train, y_train)\n",
    "\n",
    "# Predict on the test set\n",
    "y_pred = model.predict(X_test)\n",
    "\n",
    "# Evaluate Accuracy\n",
    "accuracy = accuracy_score(y_test, y_pred)\n",
    "print(f\"Accuracy: {accuracy}\")\n",
    "\n",
    "# Detailed classification report\n",
    "report = classification_report(y_test, y_pred)\n",
    "print(\"Classification Report:\")\n",
    "print(report)"
   ]
  },
  {
   "cell_type": "markdown",
   "metadata": {},
   "source": [
    "# 4 Predict ethnicities of the character dataset"
   ]
  },
  {
   "cell_type": "code",
   "execution_count": 144,
   "metadata": {},
   "outputs": [
    {
     "name": "stdout",
     "output_type": "stream",
     "text": [
      "Unusual Characters Found: {'ô', 'ý', 'À', 'í', 'ò', 'ü', 'û', 'ë', 'ä', 'ï', 'ś', 'Ø', 'å', 'š', 'Õ', 'Å', 'Ö', 'Í', 'ç', 'î', 'â', 'Á', 'é', 'ž', 'ð', 'á', 'ã', 'ù', 'ł', 'þ', 'ø', 'È', 'ú', 'ê', 'Ó', 'è', 'ó', 'ß', 'ì', 'Â', 'Ô', '-', 'Þ', 'ū', 'à', 'É', 'ñ', 'ō', 'ö', 'æ', 'õ'}\n"
     ]
    }
   ],
   "source": [
    "df_character = pd.read_csv('data/cleaned.csv', usecols=['Character_name'])\n",
    "find_unusual_characters(df_character, 'Character_name')"
   ]
  },
  {
   "cell_type": "code",
   "execution_count": 145,
   "metadata": {},
   "outputs": [
    {
     "data": {
      "text/plain": [
       "(37883, 1)"
      ]
     },
     "execution_count": 145,
     "metadata": {},
     "output_type": "execute_result"
    }
   ],
   "source": [
    "df_names = pd.DataFrame(df_character[['Character_name']].rename(columns={'Character_name': 'Name'})).drop_duplicates()\n",
    "\n",
    "df_names_1000 = df_names.head(10000).reset_index(drop=True)\n",
    "df_names.shape"
   ]
  },
  {
   "cell_type": "code",
   "execution_count": 146,
   "metadata": {},
   "outputs": [],
   "source": [
    "# Process character_names\n",
    "processor = EthnicityDataProcessor(ngram_range=(2, 3))\n",
    "character_names_processed = processor.process(df_names_1000)"
   ]
  },
  {
   "cell_type": "code",
   "execution_count": 147,
   "metadata": {},
   "outputs": [
    {
     "data": {
      "text/html": [
       "<div>\n",
       "<style scoped>\n",
       "    .dataframe tbody tr th:only-of-type {\n",
       "        vertical-align: middle;\n",
       "    }\n",
       "\n",
       "    .dataframe tbody tr th {\n",
       "        vertical-align: top;\n",
       "    }\n",
       "\n",
       "    .dataframe thead th {\n",
       "        text-align: right;\n",
       "    }\n",
       "</style>\n",
       "<table border=\"1\" class=\"dataframe\">\n",
       "  <thead>\n",
       "    <tr style=\"text-align: right;\">\n",
       "      <th></th>\n",
       "      <th>Name</th>\n",
       "      <th>Length</th>\n",
       "      <th>Vowel Count</th>\n",
       "      <th>Consonant Count</th>\n",
       "      <th>Vowel/Consonant Ratio</th>\n",
       "      <th>ô</th>\n",
       "      <th>ý</th>\n",
       "      <th>í</th>\n",
       "      <th>ü</th>\n",
       "      <th>û</th>\n",
       "      <th>...</th>\n",
       "      <th>ür</th>\n",
       "      <th>ürg</th>\n",
       "      <th>ürr</th>\n",
       "      <th>ürs</th>\n",
       "      <th>üt</th>\n",
       "      <th>ütt</th>\n",
       "      <th>üz</th>\n",
       "      <th>üzi</th>\n",
       "      <th>ūs</th>\n",
       "      <th>ūsa</th>\n",
       "    </tr>\n",
       "  </thead>\n",
       "  <tbody>\n",
       "    <tr>\n",
       "      <th>8752</th>\n",
       "      <td>Lynette</td>\n",
       "      <td>7.0</td>\n",
       "      <td>3.0</td>\n",
       "      <td>4.0</td>\n",
       "      <td>0.750000</td>\n",
       "      <td>0</td>\n",
       "      <td>0</td>\n",
       "      <td>0</td>\n",
       "      <td>0</td>\n",
       "      <td>0</td>\n",
       "      <td>...</td>\n",
       "      <td>0</td>\n",
       "      <td>0</td>\n",
       "      <td>0</td>\n",
       "      <td>0</td>\n",
       "      <td>0</td>\n",
       "      <td>0</td>\n",
       "      <td>0</td>\n",
       "      <td>0</td>\n",
       "      <td>0</td>\n",
       "      <td>0</td>\n",
       "    </tr>\n",
       "    <tr>\n",
       "      <th>390</th>\n",
       "      <td>Cassandra</td>\n",
       "      <td>9.0</td>\n",
       "      <td>3.0</td>\n",
       "      <td>6.0</td>\n",
       "      <td>0.500000</td>\n",
       "      <td>0</td>\n",
       "      <td>0</td>\n",
       "      <td>0</td>\n",
       "      <td>0</td>\n",
       "      <td>0</td>\n",
       "      <td>...</td>\n",
       "      <td>0</td>\n",
       "      <td>0</td>\n",
       "      <td>0</td>\n",
       "      <td>0</td>\n",
       "      <td>0</td>\n",
       "      <td>0</td>\n",
       "      <td>0</td>\n",
       "      <td>0</td>\n",
       "      <td>0</td>\n",
       "      <td>0</td>\n",
       "    </tr>\n",
       "    <tr>\n",
       "      <th>910</th>\n",
       "      <td>Sakthivel</td>\n",
       "      <td>9.0</td>\n",
       "      <td>3.0</td>\n",
       "      <td>6.0</td>\n",
       "      <td>0.500000</td>\n",
       "      <td>0</td>\n",
       "      <td>0</td>\n",
       "      <td>0</td>\n",
       "      <td>0</td>\n",
       "      <td>0</td>\n",
       "      <td>...</td>\n",
       "      <td>0</td>\n",
       "      <td>0</td>\n",
       "      <td>0</td>\n",
       "      <td>0</td>\n",
       "      <td>0</td>\n",
       "      <td>0</td>\n",
       "      <td>0</td>\n",
       "      <td>0</td>\n",
       "      <td>0</td>\n",
       "      <td>0</td>\n",
       "    </tr>\n",
       "    <tr>\n",
       "      <th>6002</th>\n",
       "      <td>Salvatore</td>\n",
       "      <td>9.0</td>\n",
       "      <td>4.0</td>\n",
       "      <td>5.0</td>\n",
       "      <td>0.800000</td>\n",
       "      <td>0</td>\n",
       "      <td>0</td>\n",
       "      <td>0</td>\n",
       "      <td>0</td>\n",
       "      <td>0</td>\n",
       "      <td>...</td>\n",
       "      <td>0</td>\n",
       "      <td>0</td>\n",
       "      <td>0</td>\n",
       "      <td>0</td>\n",
       "      <td>0</td>\n",
       "      <td>0</td>\n",
       "      <td>0</td>\n",
       "      <td>0</td>\n",
       "      <td>0</td>\n",
       "      <td>0</td>\n",
       "    </tr>\n",
       "    <tr>\n",
       "      <th>4709</th>\n",
       "      <td>Frederiksen</td>\n",
       "      <td>11.0</td>\n",
       "      <td>4.0</td>\n",
       "      <td>7.0</td>\n",
       "      <td>0.571429</td>\n",
       "      <td>0</td>\n",
       "      <td>0</td>\n",
       "      <td>0</td>\n",
       "      <td>0</td>\n",
       "      <td>0</td>\n",
       "      <td>...</td>\n",
       "      <td>0</td>\n",
       "      <td>0</td>\n",
       "      <td>0</td>\n",
       "      <td>0</td>\n",
       "      <td>0</td>\n",
       "      <td>0</td>\n",
       "      <td>0</td>\n",
       "      <td>0</td>\n",
       "      <td>0</td>\n",
       "      <td>0</td>\n",
       "    </tr>\n",
       "    <tr>\n",
       "      <th>8486</th>\n",
       "      <td>Heaney</td>\n",
       "      <td>6.0</td>\n",
       "      <td>4.0</td>\n",
       "      <td>2.0</td>\n",
       "      <td>2.000000</td>\n",
       "      <td>0</td>\n",
       "      <td>0</td>\n",
       "      <td>0</td>\n",
       "      <td>0</td>\n",
       "      <td>0</td>\n",
       "      <td>...</td>\n",
       "      <td>0</td>\n",
       "      <td>0</td>\n",
       "      <td>0</td>\n",
       "      <td>0</td>\n",
       "      <td>0</td>\n",
       "      <td>0</td>\n",
       "      <td>0</td>\n",
       "      <td>0</td>\n",
       "      <td>0</td>\n",
       "      <td>0</td>\n",
       "    </tr>\n",
       "    <tr>\n",
       "      <th>1148</th>\n",
       "      <td>Axelle</td>\n",
       "      <td>6.0</td>\n",
       "      <td>3.0</td>\n",
       "      <td>3.0</td>\n",
       "      <td>1.000000</td>\n",
       "      <td>0</td>\n",
       "      <td>0</td>\n",
       "      <td>0</td>\n",
       "      <td>0</td>\n",
       "      <td>0</td>\n",
       "      <td>...</td>\n",
       "      <td>0</td>\n",
       "      <td>0</td>\n",
       "      <td>0</td>\n",
       "      <td>0</td>\n",
       "      <td>0</td>\n",
       "      <td>0</td>\n",
       "      <td>0</td>\n",
       "      <td>0</td>\n",
       "      <td>0</td>\n",
       "      <td>0</td>\n",
       "    </tr>\n",
       "    <tr>\n",
       "      <th>1100</th>\n",
       "      <td>Jeff</td>\n",
       "      <td>4.0</td>\n",
       "      <td>1.0</td>\n",
       "      <td>3.0</td>\n",
       "      <td>0.333333</td>\n",
       "      <td>0</td>\n",
       "      <td>0</td>\n",
       "      <td>0</td>\n",
       "      <td>0</td>\n",
       "      <td>0</td>\n",
       "      <td>...</td>\n",
       "      <td>0</td>\n",
       "      <td>0</td>\n",
       "      <td>0</td>\n",
       "      <td>0</td>\n",
       "      <td>0</td>\n",
       "      <td>0</td>\n",
       "      <td>0</td>\n",
       "      <td>0</td>\n",
       "      <td>0</td>\n",
       "      <td>0</td>\n",
       "    </tr>\n",
       "    <tr>\n",
       "      <th>1842</th>\n",
       "      <td>Silverman</td>\n",
       "      <td>9.0</td>\n",
       "      <td>3.0</td>\n",
       "      <td>6.0</td>\n",
       "      <td>0.500000</td>\n",
       "      <td>0</td>\n",
       "      <td>0</td>\n",
       "      <td>0</td>\n",
       "      <td>0</td>\n",
       "      <td>0</td>\n",
       "      <td>...</td>\n",
       "      <td>0</td>\n",
       "      <td>0</td>\n",
       "      <td>0</td>\n",
       "      <td>0</td>\n",
       "      <td>0</td>\n",
       "      <td>0</td>\n",
       "      <td>0</td>\n",
       "      <td>0</td>\n",
       "      <td>0</td>\n",
       "      <td>0</td>\n",
       "    </tr>\n",
       "    <tr>\n",
       "      <th>1946</th>\n",
       "      <td>Carey</td>\n",
       "      <td>5.0</td>\n",
       "      <td>3.0</td>\n",
       "      <td>2.0</td>\n",
       "      <td>1.500000</td>\n",
       "      <td>0</td>\n",
       "      <td>0</td>\n",
       "      <td>0</td>\n",
       "      <td>0</td>\n",
       "      <td>0</td>\n",
       "      <td>...</td>\n",
       "      <td>0</td>\n",
       "      <td>0</td>\n",
       "      <td>0</td>\n",
       "      <td>0</td>\n",
       "      <td>0</td>\n",
       "      <td>0</td>\n",
       "      <td>0</td>\n",
       "      <td>0</td>\n",
       "      <td>0</td>\n",
       "      <td>0</td>\n",
       "    </tr>\n",
       "  </tbody>\n",
       "</table>\n",
       "<p>10 rows × 8896 columns</p>\n",
       "</div>"
      ],
      "text/plain": [
       "             Name  Length  Vowel Count  Consonant Count  \\\n",
       "8752      Lynette     7.0          3.0              4.0   \n",
       "390     Cassandra     9.0          3.0              6.0   \n",
       "910     Sakthivel     9.0          3.0              6.0   \n",
       "6002    Salvatore     9.0          4.0              5.0   \n",
       "4709  Frederiksen    11.0          4.0              7.0   \n",
       "8486       Heaney     6.0          4.0              2.0   \n",
       "1148       Axelle     6.0          3.0              3.0   \n",
       "1100         Jeff     4.0          1.0              3.0   \n",
       "1842    Silverman     9.0          3.0              6.0   \n",
       "1946        Carey     5.0          3.0              2.0   \n",
       "\n",
       "      Vowel/Consonant Ratio  ô  ý  í  ü  û  ...  ür  ürg  ürr  ürs  üt  ütt  \\\n",
       "8752               0.750000  0  0  0  0  0  ...   0    0    0    0   0    0   \n",
       "390                0.500000  0  0  0  0  0  ...   0    0    0    0   0    0   \n",
       "910                0.500000  0  0  0  0  0  ...   0    0    0    0   0    0   \n",
       "6002               0.800000  0  0  0  0  0  ...   0    0    0    0   0    0   \n",
       "4709               0.571429  0  0  0  0  0  ...   0    0    0    0   0    0   \n",
       "8486               2.000000  0  0  0  0  0  ...   0    0    0    0   0    0   \n",
       "1148               1.000000  0  0  0  0  0  ...   0    0    0    0   0    0   \n",
       "1100               0.333333  0  0  0  0  0  ...   0    0    0    0   0    0   \n",
       "1842               0.500000  0  0  0  0  0  ...   0    0    0    0   0    0   \n",
       "1946               1.500000  0  0  0  0  0  ...   0    0    0    0   0    0   \n",
       "\n",
       "      üz  üzi  ūs  ūsa  \n",
       "8752   0    0   0    0  \n",
       "390    0    0   0    0  \n",
       "910    0    0   0    0  \n",
       "6002   0    0   0    0  \n",
       "4709   0    0   0    0  \n",
       "8486   0    0   0    0  \n",
       "1148   0    0   0    0  \n",
       "1100   0    0   0    0  \n",
       "1842   0    0   0    0  \n",
       "1946   0    0   0    0  \n",
       "\n",
       "[10 rows x 8896 columns]"
      ]
     },
     "execution_count": 147,
     "metadata": {},
     "output_type": "execute_result"
    }
   ],
   "source": [
    "character_names_processed.sample(10)"
   ]
  },
  {
   "cell_type": "code",
   "execution_count": 148,
   "metadata": {},
   "outputs": [
    {
     "data": {
      "text/plain": [
       "Name                     0\n",
       "Length                   0\n",
       "Vowel Count              0\n",
       "Consonant Count          0\n",
       "Vowel/Consonant Ratio    0\n",
       "                        ..\n",
       "ütt                      0\n",
       "üz                       0\n",
       "üzi                      0\n",
       "ūs                       0\n",
       "ūsa                      0\n",
       "Length: 8896, dtype: int64"
      ]
     },
     "execution_count": 148,
     "metadata": {},
     "output_type": "execute_result"
    }
   ],
   "source": [
    "character_names_processed.isna().sum()  # Check for NaN values"
   ]
  },
  {
   "cell_type": "code",
   "execution_count": 149,
   "metadata": {},
   "outputs": [
    {
     "name": "stdout",
     "output_type": "stream",
     "text": [
      "Empty DataFrame\n",
      "Columns: [Name, Length, Vowel Count, Consonant Count, Vowel/Consonant Ratio, ô, ý, í, ü, û, ë, ä, ï, å, ç, î, é, á, ã, ø, ú, ê, è, ó, ß, ū, à, ñ, æ, ö, Soundex_A000, Soundex_A100, Soundex_A122, Soundex_A123, Soundex_A124, Soundex_A125, Soundex_A126, Soundex_A130, Soundex_A131, Soundex_A133, Soundex_A134, Soundex_A136, Soundex_A140, Soundex_A141, Soundex_A142, Soundex_A145, Soundex_A146, Soundex_A152, Soundex_A153, Soundex_A156, Soundex_A160, Soundex_A162, Soundex_A164, Soundex_A165, Soundex_A200, Soundex_A210, Soundex_A212, Soundex_A216, Soundex_A220, Soundex_A223, Soundex_A224, Soundex_A225, Soundex_A230, Soundex_A232, Soundex_A235, Soundex_A236, Soundex_A240, Soundex_A242, Soundex_A243, Soundex_A245, Soundex_A250, Soundex_A251, Soundex_A252, Soundex_A253, Soundex_A255, Soundex_A260, Soundex_A261, Soundex_A262, Soundex_A263, Soundex_A264, Soundex_A265, Soundex_A300, Soundex_A310, Soundex_A312, Soundex_A320, Soundex_A322, Soundex_A323, Soundex_A325, Soundex_A330, Soundex_A335, Soundex_A336, Soundex_A340, Soundex_A341, Soundex_A343, Soundex_A345, Soundex_A346, Soundex_A350, Soundex_A352, Soundex_A353, Soundex_A360, ...]\n",
      "Index: []\n",
      "\n",
      "[0 rows x 8896 columns]\n"
     ]
    }
   ],
   "source": [
    "print(character_names_processed[character_names_processed['Name'].isna()])  # Inspect rows with NaN in 'Name'"
   ]
  },
  {
   "cell_type": "code",
   "execution_count": 150,
   "metadata": {},
   "outputs": [
    {
     "data": {
      "image/png": "[encoded data removed]",
      "text/plain": [
       "<Figure size 800x500 with 1 Axes>"
      ]
     },
     "metadata": {},
     "output_type": "display_data"
    },
    {
     "data": {
      "text/html": [
       "<div>\n",
       "<style scoped>\n",
       "    .dataframe tbody tr th:only-of-type {\n",
       "        vertical-align: middle;\n",
       "    }\n",
       "\n",
       "    .dataframe tbody tr th {\n",
       "        vertical-align: top;\n",
       "    }\n",
       "\n",
       "    .dataframe thead th {\n",
       "        text-align: right;\n",
       "    }\n",
       "</style>\n",
       "<table border=\"1\" class=\"dataframe\">\n",
       "  <thead>\n",
       "    <tr style=\"text-align: right;\">\n",
       "      <th></th>\n",
       "      <th>Name</th>\n",
       "      <th>PC1</th>\n",
       "      <th>PC2</th>\n",
       "      <th>PC3</th>\n",
       "      <th>PC4</th>\n",
       "      <th>PC5</th>\n",
       "      <th>PC6</th>\n",
       "      <th>PC7</th>\n",
       "      <th>PC8</th>\n",
       "      <th>PC9</th>\n",
       "      <th>...</th>\n",
       "      <th>PC131</th>\n",
       "      <th>PC132</th>\n",
       "      <th>PC133</th>\n",
       "      <th>PC134</th>\n",
       "      <th>PC135</th>\n",
       "      <th>PC136</th>\n",
       "      <th>PC137</th>\n",
       "      <th>PC138</th>\n",
       "      <th>PC139</th>\n",
       "      <th>PC140</th>\n",
       "    </tr>\n",
       "  </thead>\n",
       "  <tbody>\n",
       "    <tr>\n",
       "      <th>0</th>\n",
       "      <td>Akooshay</td>\n",
       "      <td>-0.596345</td>\n",
       "      <td>0.109807</td>\n",
       "      <td>-0.341156</td>\n",
       "      <td>0.013997</td>\n",
       "      <td>-1.010009</td>\n",
       "      <td>-0.984673</td>\n",
       "      <td>1.883757</td>\n",
       "      <td>2.980924</td>\n",
       "      <td>-0.824332</td>\n",
       "      <td>...</td>\n",
       "      <td>0.555905</td>\n",
       "      <td>-1.272092</td>\n",
       "      <td>-1.208293</td>\n",
       "      <td>1.822945</td>\n",
       "      <td>0.540426</td>\n",
       "      <td>1.768778</td>\n",
       "      <td>0.519286</td>\n",
       "      <td>0.924887</td>\n",
       "      <td>1.804908</td>\n",
       "      <td>-0.162809</td>\n",
       "    </tr>\n",
       "    <tr>\n",
       "      <th>1</th>\n",
       "      <td>Melanie</td>\n",
       "      <td>-0.374458</td>\n",
       "      <td>0.040778</td>\n",
       "      <td>-0.511164</td>\n",
       "      <td>-0.141142</td>\n",
       "      <td>-0.709672</td>\n",
       "      <td>-0.921950</td>\n",
       "      <td>0.965422</td>\n",
       "      <td>-0.673132</td>\n",
       "      <td>0.366687</td>\n",
       "      <td>...</td>\n",
       "      <td>0.126576</td>\n",
       "      <td>0.925061</td>\n",
       "      <td>0.815802</td>\n",
       "      <td>0.158798</td>\n",
       "      <td>-0.388595</td>\n",
       "      <td>0.648823</td>\n",
       "      <td>0.203054</td>\n",
       "      <td>-0.517380</td>\n",
       "      <td>-0.330298</td>\n",
       "      <td>0.369441</td>\n",
       "    </tr>\n",
       "    <tr>\n",
       "      <th>2</th>\n",
       "      <td>Williams</td>\n",
       "      <td>-0.281317</td>\n",
       "      <td>0.046280</td>\n",
       "      <td>-0.304786</td>\n",
       "      <td>-0.148976</td>\n",
       "      <td>-0.067540</td>\n",
       "      <td>0.032611</td>\n",
       "      <td>-0.311551</td>\n",
       "      <td>-1.314709</td>\n",
       "      <td>0.438544</td>\n",
       "      <td>...</td>\n",
       "      <td>0.321311</td>\n",
       "      <td>0.423136</td>\n",
       "      <td>-0.866169</td>\n",
       "      <td>-2.260970</td>\n",
       "      <td>-0.237280</td>\n",
       "      <td>-0.679222</td>\n",
       "      <td>-0.785881</td>\n",
       "      <td>0.463442</td>\n",
       "      <td>-1.475748</td>\n",
       "      <td>0.951977</td>\n",
       "    </tr>\n",
       "    <tr>\n",
       "      <th>3</th>\n",
       "      <td>Jericho</td>\n",
       "      <td>0.191355</td>\n",
       "      <td>-0.107864</td>\n",
       "      <td>0.643432</td>\n",
       "      <td>-0.102086</td>\n",
       "      <td>0.165672</td>\n",
       "      <td>0.419008</td>\n",
       "      <td>-0.944803</td>\n",
       "      <td>-0.833959</td>\n",
       "      <td>0.765754</td>\n",
       "      <td>...</td>\n",
       "      <td>0.102601</td>\n",
       "      <td>0.490811</td>\n",
       "      <td>-0.812532</td>\n",
       "      <td>0.197986</td>\n",
       "      <td>-1.462850</td>\n",
       "      <td>-0.297136</td>\n",
       "      <td>-0.170809</td>\n",
       "      <td>0.551800</td>\n",
       "      <td>-0.151933</td>\n",
       "      <td>0.217743</td>\n",
       "    </tr>\n",
       "    <tr>\n",
       "      <th>4</th>\n",
       "      <td>Bashira</td>\n",
       "      <td>-0.365468</td>\n",
       "      <td>0.096354</td>\n",
       "      <td>-0.231435</td>\n",
       "      <td>-0.157247</td>\n",
       "      <td>-0.349612</td>\n",
       "      <td>-0.092318</td>\n",
       "      <td>0.966796</td>\n",
       "      <td>3.427986</td>\n",
       "      <td>-1.506346</td>\n",
       "      <td>...</td>\n",
       "      <td>-0.835074</td>\n",
       "      <td>-0.572589</td>\n",
       "      <td>1.332275</td>\n",
       "      <td>0.970038</td>\n",
       "      <td>-0.427725</td>\n",
       "      <td>-0.476952</td>\n",
       "      <td>0.305110</td>\n",
       "      <td>0.146951</td>\n",
       "      <td>-0.574268</td>\n",
       "      <td>-0.492642</td>\n",
       "    </tr>\n",
       "  </tbody>\n",
       "</table>\n",
       "<p>5 rows × 141 columns</p>\n",
       "</div>"
      ],
      "text/plain": [
       "       Name       PC1       PC2       PC3       PC4       PC5       PC6  \\\n",
       "0  Akooshay -0.596345  0.109807 -0.341156  0.013997 -1.010009 -0.984673   \n",
       "1   Melanie -0.374458  0.040778 -0.511164 -0.141142 -0.709672 -0.921950   \n",
       "2  Williams -0.281317  0.046280 -0.304786 -0.148976 -0.067540  0.032611   \n",
       "3   Jericho  0.191355 -0.107864  0.643432 -0.102086  0.165672  0.419008   \n",
       "4   Bashira -0.365468  0.096354 -0.231435 -0.157247 -0.349612 -0.092318   \n",
       "\n",
       "        PC7       PC8       PC9  ...     PC131     PC132     PC133     PC134  \\\n",
       "0  1.883757  2.980924 -0.824332  ...  0.555905 -1.272092 -1.208293  1.822945   \n",
       "1  0.965422 -0.673132  0.366687  ...  0.126576  0.925061  0.815802  0.158798   \n",
       "2 -0.311551 -1.314709  0.438544  ...  0.321311  0.423136 -0.866169 -2.260970   \n",
       "3 -0.944803 -0.833959  0.765754  ...  0.102601  0.490811 -0.812532  0.197986   \n",
       "4  0.966796  3.427986 -1.506346  ... -0.835074 -0.572589  1.332275  0.970038   \n",
       "\n",
       "      PC135     PC136     PC137     PC138     PC139     PC140  \n",
       "0  0.540426  1.768778  0.519286  0.924887  1.804908 -0.162809  \n",
       "1 -0.388595  0.648823  0.203054 -0.517380 -0.330298  0.369441  \n",
       "2 -0.237280 -0.679222 -0.785881  0.463442 -1.475748  0.951977  \n",
       "3 -1.462850 -0.297136 -0.170809  0.551800 -0.151933  0.217743  \n",
       "4 -0.427725 -0.476952  0.305110  0.146951 -0.574268 -0.492642  \n",
       "\n",
       "[5 rows x 141 columns]"
      ]
     },
     "execution_count": 150,
     "metadata": {},
     "output_type": "execute_result"
    }
   ],
   "source": [
    "# PCA Processor\n",
    "character_names_pca = pca_processor.fit_transform(character_names_processed, drop_columns=['Name']) # Fit PCA and transform the data\n",
    "pca_processor.plot_explained_variance() # Plot explained variance\n",
    "character_names_pca = pca_processor.merge_with_original(character_names_processed, character_names_pca, keep_columns=['Name']) # Merge PCA components with original columns \n",
    "\n",
    "character_names_pca.head()"
   ]
  },
  {
   "cell_type": "code",
   "execution_count": 151,
   "metadata": {},
   "outputs": [],
   "source": [
    "scaler = StandardScaler()\n",
    "character_names_pca = scaler.fit_transform(character_names_pca.drop(columns='Name'))\n",
    "character_names_pca = sm.add_constant(character_names_pca)\n",
    "\n",
    "df_names_1000['Country'] = model.predict(character_names_pca)"
   ]
  },
  {
   "cell_type": "code",
   "execution_count": 152,
   "metadata": {},
   "outputs": [],
   "source": [
    "# Create a mapping dictionary from the legend DataFrame\n",
    "country_mapping = dict(zip(legend_df['Encoded Value'], legend_df['Country']))\n",
    "\n",
    "# Replace the numeric values in the 'Country' column with the corresponding names\n",
    "df_names_1000['Country'] = df_names_1000['Country'].map(country_mapping)"
   ]
  },
  {
   "cell_type": "code",
   "execution_count": 153,
   "metadata": {},
   "outputs": [
    {
     "data": {
      "text/html": [
       "<div>\n",
       "<style scoped>\n",
       "    .dataframe tbody tr th:only-of-type {\n",
       "        vertical-align: middle;\n",
       "    }\n",
       "\n",
       "    .dataframe tbody tr th {\n",
       "        vertical-align: top;\n",
       "    }\n",
       "\n",
       "    .dataframe thead th {\n",
       "        text-align: right;\n",
       "    }\n",
       "</style>\n",
       "<table border=\"1\" class=\"dataframe\">\n",
       "  <thead>\n",
       "    <tr style=\"text-align: right;\">\n",
       "      <th></th>\n",
       "      <th>Name</th>\n",
       "      <th>Country</th>\n",
       "    </tr>\n",
       "  </thead>\n",
       "  <tbody>\n",
       "    <tr>\n",
       "      <th>5320</th>\n",
       "      <td>Ninja</td>\n",
       "      <td>Slavic</td>\n",
       "    </tr>\n",
       "    <tr>\n",
       "      <th>9484</th>\n",
       "      <td>Arpita</td>\n",
       "      <td>English-Speaking</td>\n",
       "    </tr>\n",
       "    <tr>\n",
       "      <th>9667</th>\n",
       "      <td>Komiker</td>\n",
       "      <td>Slavic</td>\n",
       "    </tr>\n",
       "    <tr>\n",
       "      <th>8963</th>\n",
       "      <td>Kunz</td>\n",
       "      <td>English-Speaking</td>\n",
       "    </tr>\n",
       "    <tr>\n",
       "      <th>7246</th>\n",
       "      <td>Koldo</td>\n",
       "      <td>Slavic</td>\n",
       "    </tr>\n",
       "    <tr>\n",
       "      <th>1718</th>\n",
       "      <td>Flower</td>\n",
       "      <td>English-Speaking</td>\n",
       "    </tr>\n",
       "    <tr>\n",
       "      <th>1181</th>\n",
       "      <td>Jaggu</td>\n",
       "      <td>Slavic</td>\n",
       "    </tr>\n",
       "    <tr>\n",
       "      <th>3238</th>\n",
       "      <td>Venetian</td>\n",
       "      <td>Romance</td>\n",
       "    </tr>\n",
       "    <tr>\n",
       "      <th>9879</th>\n",
       "      <td>Kimble</td>\n",
       "      <td>English-Speaking</td>\n",
       "    </tr>\n",
       "    <tr>\n",
       "      <th>4478</th>\n",
       "      <td>Bo</td>\n",
       "      <td>English-Speaking</td>\n",
       "    </tr>\n",
       "    <tr>\n",
       "      <th>5314</th>\n",
       "      <td>Thoko</td>\n",
       "      <td>English-Speaking</td>\n",
       "    </tr>\n",
       "    <tr>\n",
       "      <th>2910</th>\n",
       "      <td>Kalicharan</td>\n",
       "      <td>English-Speaking</td>\n",
       "    </tr>\n",
       "    <tr>\n",
       "      <th>3031</th>\n",
       "      <td>Charan</td>\n",
       "      <td>English-Speaking</td>\n",
       "    </tr>\n",
       "    <tr>\n",
       "      <th>4533</th>\n",
       "      <td>Yegorov</td>\n",
       "      <td>Slavic</td>\n",
       "    </tr>\n",
       "    <tr>\n",
       "      <th>6</th>\n",
       "      <td>Whitlock</td>\n",
       "      <td>East Asian</td>\n",
       "    </tr>\n",
       "  </tbody>\n",
       "</table>\n",
       "</div>"
      ],
      "text/plain": [
       "            Name           Country\n",
       "5320       Ninja            Slavic\n",
       "9484      Arpita  English-Speaking\n",
       "9667     Komiker            Slavic\n",
       "8963        Kunz  English-Speaking\n",
       "7246       Koldo            Slavic\n",
       "1718      Flower  English-Speaking\n",
       "1181       Jaggu            Slavic\n",
       "3238    Venetian           Romance\n",
       "9879      Kimble  English-Speaking\n",
       "4478          Bo  English-Speaking\n",
       "5314       Thoko  English-Speaking\n",
       "2910  Kalicharan  English-Speaking\n",
       "3031      Charan  English-Speaking\n",
       "4533     Yegorov            Slavic\n",
       "6       Whitlock        East Asian"
      ]
     },
     "execution_count": 153,
     "metadata": {},
     "output_type": "execute_result"
    }
   ],
   "source": [
    "df_names_1000.sample(15)"
   ]
  }
 ],
 "metadata": {
  "kernelspec": {
   "display_name": "ada",
   "language": "python",
   "name": "python3"
  },
  "language_info": {
   "codemirror_mode": {
    "name": "ipython",
    "version": 3
   },
   "file_extension": ".py",
   "mimetype": "text/x-python",
   "name": "python",
   "nbconvert_exporter": "python",
   "pygments_lexer": "ipython3",
   "version": "3.11.9"
  }
 },
 "nbformat": 4,
 "nbformat_minor": 2
}
