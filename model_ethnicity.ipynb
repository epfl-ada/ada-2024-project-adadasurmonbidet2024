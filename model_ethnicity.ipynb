{
 "cells": [
  {
   "cell_type": "code",
   "execution_count": 1,
   "metadata": {},
   "outputs": [],
   "source": [
    "from src.utils.results_utils import *\n",
    "import pandas as pd\n",
    "from jellyfish import soundex\n",
    "from scipy import stats\n",
    "import matplotlib.pyplot as plt\n",
    "import statsmodels.api as sm\n",
    "from sklearn.feature_extraction.text import CountVectorizer\n",
    "from sklearn.decomposition import PCA\n",
    "from sklearn.preprocessing import StandardScaler\n",
    "from sklearn.model_selection import train_test_split\n",
    "from sklearn.preprocessing import StandardScaler\n",
    "from sklearn.ensemble import RandomForestClassifier\n",
    "from sklearn.metrics import accuracy_score, classification_report\n"
   ]
  },
  {
   "cell_type": "markdown",
   "metadata": {},
   "source": [
    "# Analysis of the differences in respect to theirs origins"
   ]
  },
  {
   "cell_type": "code",
   "execution_count": 2,
   "metadata": {},
   "outputs": [
    {
     "data": {
      "text/plain": [
       "Country\n",
       "Slavic              3035\n",
       "English-Speaking    2812\n",
       "Germanic            2359\n",
       "Romance             1847\n",
       "Hispanic             891\n",
       "Nordic               882\n",
       "East Asian           673\n",
       "Name: count, dtype: int64"
      ]
     },
     "execution_count": 2,
     "metadata": {},
     "output_type": "execute_result"
    }
   ],
   "source": [
    "# Read and present the data\n",
    "df_ethnicity = pd.read_csv('data/name_ethnicity.csv')\n",
    "df_ethnicity['Country'].value_counts()"
   ]
  },
  {
   "cell_type": "code",
   "execution_count": 3,
   "metadata": {},
   "outputs": [
    {
     "data": {
      "text/html": [
       "<div>\n",
       "<style scoped>\n",
       "    .dataframe tbody tr th:only-of-type {\n",
       "        vertical-align: middle;\n",
       "    }\n",
       "\n",
       "    .dataframe tbody tr th {\n",
       "        vertical-align: top;\n",
       "    }\n",
       "\n",
       "    .dataframe thead th {\n",
       "        text-align: right;\n",
       "    }\n",
       "</style>\n",
       "<table border=\"1\" class=\"dataframe\">\n",
       "  <thead>\n",
       "    <tr style=\"text-align: right;\">\n",
       "      <th></th>\n",
       "      <th>Category</th>\n",
       "      <th>Count</th>\n",
       "    </tr>\n",
       "  </thead>\n",
       "  <tbody>\n",
       "    <tr>\n",
       "      <th>0</th>\n",
       "      <td>Total Names</td>\n",
       "      <td>12499</td>\n",
       "    </tr>\n",
       "    <tr>\n",
       "      <th>1</th>\n",
       "      <td>Unique Names</td>\n",
       "      <td>3951</td>\n",
       "    </tr>\n",
       "    <tr>\n",
       "      <th>2</th>\n",
       "      <td>Unique Regions</td>\n",
       "      <td>7</td>\n",
       "    </tr>\n",
       "  </tbody>\n",
       "</table>\n",
       "</div>"
      ],
      "text/plain": [
       "         Category  Count\n",
       "0     Total Names  12499\n",
       "1    Unique Names   3951\n",
       "2  Unique Regions      7"
      ]
     },
     "execution_count": 3,
     "metadata": {},
     "output_type": "execute_result"
    }
   ],
   "source": [
    "total_count = len(df_ethnicity['Name'])\n",
    "name_count = df_ethnicity['Name'].nunique()\n",
    "country_count = df_ethnicity['Country'].nunique()\n",
    "\n",
    "summary_df = pd.DataFrame({\n",
    "    'Category': ['Total Names','Unique Names', 'Unique Regions'],\n",
    "    'Count': [total_count, name_count, country_count]\n",
    "})\n",
    "\n",
    "summary_df.head()"
   ]
  },
  {
   "cell_type": "code",
   "execution_count": 4,
   "metadata": {},
   "outputs": [
    {
     "data": {
      "text/html": [
       "<div>\n",
       "<style scoped>\n",
       "    .dataframe tbody tr th:only-of-type {\n",
       "        vertical-align: middle;\n",
       "    }\n",
       "\n",
       "    .dataframe tbody tr th {\n",
       "        vertical-align: top;\n",
       "    }\n",
       "\n",
       "    .dataframe thead th {\n",
       "        text-align: right;\n",
       "    }\n",
       "</style>\n",
       "<table border=\"1\" class=\"dataframe\">\n",
       "  <thead>\n",
       "    <tr style=\"text-align: right;\">\n",
       "      <th></th>\n",
       "      <th>Name</th>\n",
       "      <th>Country</th>\n",
       "      <th>vowel_count</th>\n",
       "      <th>consonant_count</th>\n",
       "      <th>name_length</th>\n",
       "    </tr>\n",
       "  </thead>\n",
       "  <tbody>\n",
       "    <tr>\n",
       "      <th>0</th>\n",
       "      <td>Vaclav</td>\n",
       "      <td>Slavic</td>\n",
       "      <td>2</td>\n",
       "      <td>4</td>\n",
       "      <td>6</td>\n",
       "    </tr>\n",
       "    <tr>\n",
       "      <th>1</th>\n",
       "      <td>Allan</td>\n",
       "      <td>Slavic</td>\n",
       "      <td>2</td>\n",
       "      <td>3</td>\n",
       "      <td>5</td>\n",
       "    </tr>\n",
       "    <tr>\n",
       "      <th>2</th>\n",
       "      <td>Kristine</td>\n",
       "      <td>Nordic</td>\n",
       "      <td>3</td>\n",
       "      <td>5</td>\n",
       "      <td>8</td>\n",
       "    </tr>\n",
       "    <tr>\n",
       "      <th>3</th>\n",
       "      <td>Matteo</td>\n",
       "      <td>Romance</td>\n",
       "      <td>3</td>\n",
       "      <td>3</td>\n",
       "      <td>6</td>\n",
       "    </tr>\n",
       "    <tr>\n",
       "      <th>4</th>\n",
       "      <td>Isao</td>\n",
       "      <td>East Asian</td>\n",
       "      <td>3</td>\n",
       "      <td>1</td>\n",
       "      <td>4</td>\n",
       "    </tr>\n",
       "  </tbody>\n",
       "</table>\n",
       "</div>"
      ],
      "text/plain": [
       "       Name     Country  vowel_count  consonant_count  name_length\n",
       "0    Vaclav      Slavic            2                4            6\n",
       "1     Allan      Slavic            2                3            5\n",
       "2  Kristine      Nordic            3                5            8\n",
       "3    Matteo     Romance            3                3            6\n",
       "4      Isao  East Asian            3                1            4"
      ]
     },
     "execution_count": 4,
     "metadata": {},
     "output_type": "execute_result"
    }
   ],
   "source": [
    "def get_vowel_stats(df: pd.DataFrame) -> tuple:\n",
    "    vowels = set('aeiouy')\n",
    "\n",
    "    # Count vowels in a name\n",
    "    def count_vowels(name):\n",
    "        return sum(1 for char in name.lower() if char in vowels)\n",
    "\n",
    "    # Count consonants in a name (alphabetic characters excluding vowels)\n",
    "    def count_consonants(name):\n",
    "        return sum(1 for char in name.lower() if char.isalpha() and char not in vowels)\n",
    "\n",
    "    # Add counts to the DataFrame\n",
    "    df['vowel_count'] = df['Name'].apply(count_vowels)\n",
    "    df['consonant_count'] = df['Name'].apply(count_consonants)\n",
    "    df['name_length'] = df['vowel_count'] + df['consonant_count']\n",
    "\n",
    "get_vowel_stats(df_ethnicity)\n",
    "\n",
    "df_ethnicity.head()"
   ]
  },
  {
   "cell_type": "code",
   "execution_count": 5,
   "metadata": {},
   "outputs": [
    {
     "data": {
      "image/png": "[encoded data removed]",
      "text/plain": [
       "<Figure size 1400x600 with 2 Axes>"
      ]
     },
     "metadata": {},
     "output_type": "display_data"
    }
   ],
   "source": [
    "fig, axes = plt.subplots(1, 2, figsize=(14, 6))\n",
    "\n",
    "# Boxplot for vowel count by sex\n",
    "sns.boxenplot(data=df_ethnicity, x='Country', y='vowel_count', ax=axes[0])\n",
    "axes[0].set_title('Vowel Count by Ethnicity')\n",
    "axes[0].set_xlabel('Ethnicity')\n",
    "axes[0].set_ylabel('Vowel Count')\n",
    "\n",
    "# Boxplot for consonant count by Country\n",
    "sns.boxenplot(data=df_ethnicity, x='Country', y='consonant_count', ax=axes[1])\n",
    "axes[1].set_title('Consonant Count by Ethnicity')\n",
    "axes[1].set_xlabel('Ethnicity')\n",
    "axes[1].set_ylabel('Consonant Count')\n",
    "\n",
    "plt.tight_layout()"
   ]
  },
  {
   "cell_type": "code",
   "execution_count": null,
   "metadata": {},
   "outputs": [],
   "source": []
  },
  {
   "cell_type": "code",
   "execution_count": 6,
   "metadata": {},
   "outputs": [
    {
     "data": {
      "image/png": "[encoded data removed]",
      "text/plain": [
       "<Figure size 1200x600 with 1 Axes>"
      ]
     },
     "metadata": {},
     "output_type": "display_data"
    }
   ],
   "source": [
    "def create_boxenplot_by_Country(data: pd.DataFrame, column_name, abcisse):\n",
    "    data['name_length'] = data[column_name].apply(lambda name: len(name))\n",
    "    plt.figure(figsize=(12, 6))\n",
    "    fig = sns.boxenplot(data, x=abcisse, y='name_length')\n",
    "    fig.set_xlabel('Ethnicity')\n",
    "    fig.set_ylabel('Name Length')\n",
    "    fig.set_title('Name Length per Ethnicity')\n",
    "\n",
    "\n",
    "create_boxenplot_by_Country(df_ethnicity, column_name='Name', abcisse='Country')"
   ]
  },
  {
   "cell_type": "code",
   "execution_count": 7,
   "metadata": {},
   "outputs": [
    {
     "data": {
      "application/vnd.plotly.v1+json": {
       "config": {
        "plotlyServerURL": "https://plot.ly"
       },
       "data": [
        {
         "hoverinfo": "text",
         "hovertext": [
          "Top names: Vladimir, Viktor, Valeri",
          "Top names: Aleksandr, Anatoli, Aleksei",
          "Top names: Mikhail, Marina, Marek",
          "Top names: Sergei, Svetlana, Sergey",
          "Top names: Jan, Jiri, Josef",
          "Top names: Igor, Ivan, Irina",
          "Top names: Nikolai, Natalia, Natalya",
          "Top names: Leonid, Lyudmila, Ladislav",
          "Top names: Yuri, Yevgeni, Yulia",
          "Top names: Elena, Evgeni, Ekaterina",
          "Top names: Dmitri, David, Diana",
          "Top names: Galina, Georgi, Gennadi",
          "Top names: Boris, Bohumil, Branko",
          "Top names: Tatiana, Tatyana, Tamara",
          "Top names: Olga, Oleg, Olena",
          "Top names: Ryszard, Robert, Roman",
          "Top names: Zoran, Zdenek, Zeljko",
          "Top names: Pavel, Petr, Petar",
          "Top names: Kazimierz, Karel, Krzysztof",
          "Top names: Frantisek, Franjo, Filip",
          "Top names: Henryk, Helena, Hana",
          "Top names: Wladyslaw, Wojciech, Wieslaw",
          "Top names: Czeslawa, Chasame, Celina",
          "Top names: Urska, Urszula, Uros"
         ],
         "marker": {
          "color": "salmon"
         },
         "name": "Slavic",
         "type": "bar",
         "x": [
          "v",
          "a",
          "m",
          "s",
          "j",
          "i",
          "n",
          "l",
          "y",
          "e",
          "d",
          "g",
          "b",
          "t",
          "o",
          "r",
          "z",
          "p",
          "k",
          "f",
          "h",
          "w",
          "c",
          "u"
         ],
         "y": [
          12.883031301482703,
          12.355848434925864,
          7.57825370675453,
          6.457990115321252,
          5.634266886326195,
          5.4695222405271835,
          5.403624382207578,
          4.711696869851729,
          4.2833607907743,
          3.9538714991762767,
          3.756177924217463,
          3.6902800658978587,
          3.459637561779242,
          3.3937397034596377,
          3.2619439868204285,
          3.0642504118616145,
          2.7347611202635917,
          2.273476112026359,
          2.2075782537067545,
          1.2191103789126854,
          1.0214168039538716,
          0.9225700164744647,
          0.13179571663920922,
          0.13179571663920922
         ]
        },
        {
         "hoverinfo": "text",
         "hovertext": [
          "Top names: Victoria, Valerie, Virginia",
          "Top names: Arthur, Andrew, Anthony",
          "Top names: Michael, Michelle, Mark",
          "Top names: Stephen, Steven, Simon",
          "Top names: John, James, Joseph",
          "Top names: Ian, Irene, Isabelle",
          "Top names: Norman, Neil, Nathan",
          "Top names: Lisa, Laura, Leonard",
          "Top names: Yvette, Yolane, Yvonne",
          "Top names: Edward, Eric, Ernest",
          "Top names: David, Donald, Daniel",
          "Top names: George, Gordon, Gary",
          "Top names: Brian, Brett, Ben",
          "Top names: Thomas, Terence, Tim",
          "Top names: Olivia, Olivier, Oswald",
          "Top names: Robert, Richard, Ryan",
          "Top names: Zach, Zara, Zac",
          "Top names: Peter, Paul, Philip",
          "Top names: Kevin, Karen, Kenneth",
          "Top names: Frederick, Frank, Francis",
          "Top names: Henry, Harold, Harry",
          "Top names: William, Walter, Wendy",
          "Top names: Charles, Christopher, Chris",
          "Top names: "
         ],
         "marker": {
          "color": "skyblue"
         },
         "name": "English-Speaking",
         "type": "bar",
         "x": [
          "v",
          "a",
          "m",
          "s",
          "j",
          "i",
          "n",
          "l",
          "y",
          "e",
          "d",
          "g",
          "b",
          "t",
          "o",
          "r",
          "z",
          "p",
          "k",
          "f",
          "h",
          "w",
          "c",
          "u"
         ],
         "y": [
          0.7467994310099573,
          8.321479374110954,
          7.112375533428166,
          6.116642958748222,
          11.450924608819346,
          1.3157894736842104,
          2.5604551920341394,
          4.267425320056899,
          0.1422475106685633,
          4.018492176386913,
          6.792318634423898,
          5.761024182076813,
          4.054054054054054,
          3.982930298719772,
          0.24893314366998576,
          6.614509246088193,
          0.17780938833570412,
          4.018492176386913,
          4.480796586059744,
          2.631578947368421,
          4.30298719772404,
          3.627311522048364,
          7.254623044096728,
          null
         ]
        }
       ],
       "layout": {
        "barmode": "group",
        "legend": {
         "title": {
          "text": "Origin:"
         }
        },
        "template": {
         "data": {
          "bar": [
           {
            "error_x": {
             "color": "#2a3f5f"
            },
            "error_y": {
             "color": "#2a3f5f"
            },
            "marker": {
             "line": {
              "color": "#E5ECF6",
              "width": 0.5
             },
             "pattern": {
              "fillmode": "overlay",
              "size": 10,
              "solidity": 0.2
             }
            },
            "type": "bar"
           }
          ],
          "barpolar": [
           {
            "marker": {
             "line": {
              "color": "#E5ECF6",
              "width": 0.5
             },
             "pattern": {
              "fillmode": "overlay",
              "size": 10,
              "solidity": 0.2
             }
            },
            "type": "barpolar"
           }
          ],
          "carpet": [
           {
            "aaxis": {
             "endlinecolor": "#2a3f5f",
             "gridcolor": "white",
             "linecolor": "white",
             "minorgridcolor": "white",
             "startlinecolor": "#2a3f5f"
            },
            "baxis": {
             "endlinecolor": "#2a3f5f",
             "gridcolor": "white",
             "linecolor": "white",
             "minorgridcolor": "white",
             "startlinecolor": "#2a3f5f"
            },
            "type": "carpet"
           }
          ],
          "choropleth": [
           {
            "colorbar": {
             "outlinewidth": 0,
             "ticks": ""
            },
            "type": "choropleth"
           }
          ],
          "contour": [
           {
            "colorbar": {
             "outlinewidth": 0,
             "ticks": ""
            },
            "colorscale": [
             [
              0,
              "#0d0887"
             ],
             [
              0.1111111111111111,
              "#46039f"
             ],
             [
              0.2222222222222222,
              "#7201a8"
             ],
             [
              0.3333333333333333,
              "#9c179e"
             ],
             [
              0.4444444444444444,
              "#bd3786"
             ],
             [
              0.5555555555555556,
              "#d8576b"
             ],
             [
              0.6666666666666666,
              "#ed7953"
             ],
             [
              0.7777777777777778,
              "#fb9f3a"
             ],
             [
              0.8888888888888888,
              "#fdca26"
             ],
             [
              1,
              "#f0f921"
             ]
            ],
            "type": "contour"
           }
          ],
          "contourcarpet": [
           {
            "colorbar": {
             "outlinewidth": 0,
             "ticks": ""
            },
            "type": "contourcarpet"
           }
          ],
          "heatmap": [
           {
            "colorbar": {
             "outlinewidth": 0,
             "ticks": ""
            },
            "colorscale": [
             [
              0,
              "#0d0887"
             ],
             [
              0.1111111111111111,
              "#46039f"
             ],
             [
              0.2222222222222222,
              "#7201a8"
             ],
             [
              0.3333333333333333,
              "#9c179e"
             ],
             [
              0.4444444444444444,
              "#bd3786"
             ],
             [
              0.5555555555555556,
              "#d8576b"
             ],
             [
              0.6666666666666666,
              "#ed7953"
             ],
             [
              0.7777777777777778,
              "#fb9f3a"
             ],
             [
              0.8888888888888888,
              "#fdca26"
             ],
             [
              1,
              "#f0f921"
             ]
            ],
            "type": "heatmap"
           }
          ],
          "heatmapgl": [
           {
            "colorbar": {
             "outlinewidth": 0,
             "ticks": ""
            },
            "colorscale": [
             [
              0,
              "#0d0887"
             ],
             [
              0.1111111111111111,
              "#46039f"
             ],
             [
              0.2222222222222222,
              "#7201a8"
             ],
             [
              0.3333333333333333,
              "#9c179e"
             ],
             [
              0.4444444444444444,
              "#bd3786"
             ],
             [
              0.5555555555555556,
              "#d8576b"
             ],
             [
              0.6666666666666666,
              "#ed7953"
             ],
             [
              0.7777777777777778,
              "#fb9f3a"
             ],
             [
              0.8888888888888888,
              "#fdca26"
             ],
             [
              1,
              "#f0f921"
             ]
            ],
            "type": "heatmapgl"
           }
          ],
          "histogram": [
           {
            "marker": {
             "pattern": {
              "fillmode": "overlay",
              "size": 10,
              "solidity": 0.2
             }
            },
            "type": "histogram"
           }
          ],
          "histogram2d": [
           {
            "colorbar": {
             "outlinewidth": 0,
             "ticks": ""
            },
            "colorscale": [
             [
              0,
              "#0d0887"
             ],
             [
              0.1111111111111111,
              "#46039f"
             ],
             [
              0.2222222222222222,
              "#7201a8"
             ],
             [
              0.3333333333333333,
              "#9c179e"
             ],
             [
              0.4444444444444444,
              "#bd3786"
             ],
             [
              0.5555555555555556,
              "#d8576b"
             ],
             [
              0.6666666666666666,
              "#ed7953"
             ],
             [
              0.7777777777777778,
              "#fb9f3a"
             ],
             [
              0.8888888888888888,
              "#fdca26"
             ],
             [
              1,
              "#f0f921"
             ]
            ],
            "type": "histogram2d"
           }
          ],
          "histogram2dcontour": [
           {
            "colorbar": {
             "outlinewidth": 0,
             "ticks": ""
            },
            "colorscale": [
             [
              0,
              "#0d0887"
             ],
             [
              0.1111111111111111,
              "#46039f"
             ],
             [
              0.2222222222222222,
              "#7201a8"
             ],
             [
              0.3333333333333333,
              "#9c179e"
             ],
             [
              0.4444444444444444,
              "#bd3786"
             ],
             [
              0.5555555555555556,
              "#d8576b"
             ],
             [
              0.6666666666666666,
              "#ed7953"
             ],
             [
              0.7777777777777778,
              "#fb9f3a"
             ],
             [
              0.8888888888888888,
              "#fdca26"
             ],
             [
              1,
              "#f0f921"
             ]
            ],
            "type": "histogram2dcontour"
           }
          ],
          "mesh3d": [
           {
            "colorbar": {
             "outlinewidth": 0,
             "ticks": ""
            },
            "type": "mesh3d"
           }
          ],
          "parcoords": [
           {
            "line": {
             "colorbar": {
              "outlinewidth": 0,
              "ticks": ""
             }
            },
            "type": "parcoords"
           }
          ],
          "pie": [
           {
            "automargin": true,
            "type": "pie"
           }
          ],
          "scatter": [
           {
            "fillpattern": {
             "fillmode": "overlay",
             "size": 10,
             "solidity": 0.2
            },
            "type": "scatter"
           }
          ],
          "scatter3d": [
           {
            "line": {
             "colorbar": {
              "outlinewidth": 0,
              "ticks": ""
             }
            },
            "marker": {
             "colorbar": {
              "outlinewidth": 0,
              "ticks": ""
             }
            },
            "type": "scatter3d"
           }
          ],
          "scattercarpet": [
           {
            "marker": {
             "colorbar": {
              "outlinewidth": 0,
              "ticks": ""
             }
            },
            "type": "scattercarpet"
           }
          ],
          "scattergeo": [
           {
            "marker": {
             "colorbar": {
              "outlinewidth": 0,
              "ticks": ""
             }
            },
            "type": "scattergeo"
           }
          ],
          "scattergl": [
           {
            "marker": {
             "colorbar": {
              "outlinewidth": 0,
              "ticks": ""
             }
            },
            "type": "scattergl"
           }
          ],
          "scattermapbox": [
           {
            "marker": {
             "colorbar": {
              "outlinewidth": 0,
              "ticks": ""
             }
            },
            "type": "scattermapbox"
           }
          ],
          "scatterpolar": [
           {
            "marker": {
             "colorbar": {
              "outlinewidth": 0,
              "ticks": ""
             }
            },
            "type": "scatterpolar"
           }
          ],
          "scatterpolargl": [
           {
            "marker": {
             "colorbar": {
              "outlinewidth": 0,
              "ticks": ""
             }
            },
            "type": "scatterpolargl"
           }
          ],
          "scatterternary": [
           {
            "marker": {
             "colorbar": {
              "outlinewidth": 0,
              "ticks": ""
             }
            },
            "type": "scatterternary"
           }
          ],
          "surface": [
           {
            "colorbar": {
             "outlinewidth": 0,
             "ticks": ""
            },
            "colorscale": [
             [
              0,
              "#0d0887"
             ],
             [
              0.1111111111111111,
              "#46039f"
             ],
             [
              0.2222222222222222,
              "#7201a8"
             ],
             [
              0.3333333333333333,
              "#9c179e"
             ],
             [
              0.4444444444444444,
              "#bd3786"
             ],
             [
              0.5555555555555556,
              "#d8576b"
             ],
             [
              0.6666666666666666,
              "#ed7953"
             ],
             [
              0.7777777777777778,
              "#fb9f3a"
             ],
             [
              0.8888888888888888,
              "#fdca26"
             ],
             [
              1,
              "#f0f921"
             ]
            ],
            "type": "surface"
           }
          ],
          "table": [
           {
            "cells": {
             "fill": {
              "color": "#EBF0F8"
             },
             "line": {
              "color": "white"
             }
            },
            "header": {
             "fill": {
              "color": "#C8D4E3"
             },
             "line": {
              "color": "white"
             }
            },
            "type": "table"
           }
          ]
         },
         "layout": {
          "annotationdefaults": {
           "arrowcolor": "#2a3f5f",
           "arrowhead": 0,
           "arrowwidth": 1
          },
          "autotypenumbers": "strict",
          "coloraxis": {
           "colorbar": {
            "outlinewidth": 0,
            "ticks": ""
           }
          },
          "colorscale": {
           "diverging": [
            [
             0,
             "#8e0152"
            ],
            [
             0.1,
             "#c51b7d"
            ],
            [
             0.2,
             "#de77ae"
            ],
            [
             0.3,
             "#f1b6da"
            ],
            [
             0.4,
             "#fde0ef"
            ],
            [
             0.5,
             "#f7f7f7"
            ],
            [
             0.6,
             "#e6f5d0"
            ],
            [
             0.7,
             "#b8e186"
            ],
            [
             0.8,
             "#7fbc41"
            ],
            [
             0.9,
             "#4d9221"
            ],
            [
             1,
             "#276419"
            ]
           ],
           "sequential": [
            [
             0,
             "#0d0887"
            ],
            [
             0.1111111111111111,
             "#46039f"
            ],
            [
             0.2222222222222222,
             "#7201a8"
            ],
            [
             0.3333333333333333,
             "#9c179e"
            ],
            [
             0.4444444444444444,
             "#bd3786"
            ],
            [
             0.5555555555555556,
             "#d8576b"
            ],
            [
             0.6666666666666666,
             "#ed7953"
            ],
            [
             0.7777777777777778,
             "#fb9f3a"
            ],
            [
             0.8888888888888888,
             "#fdca26"
            ],
            [
             1,
             "#f0f921"
            ]
           ],
           "sequentialminus": [
            [
             0,
             "#0d0887"
            ],
            [
             0.1111111111111111,
             "#46039f"
            ],
            [
             0.2222222222222222,
             "#7201a8"
            ],
            [
             0.3333333333333333,
             "#9c179e"
            ],
            [
             0.4444444444444444,
             "#bd3786"
            ],
            [
             0.5555555555555556,
             "#d8576b"
            ],
            [
             0.6666666666666666,
             "#ed7953"
            ],
            [
             0.7777777777777778,
             "#fb9f3a"
            ],
            [
             0.8888888888888888,
             "#fdca26"
            ],
            [
             1,
             "#f0f921"
            ]
           ]
          },
          "colorway": [
           "#636efa",
           "#EF553B",
           "#00cc96",
           "#ab63fa",
           "#FFA15A",
           "#19d3f3",
           "#FF6692",
           "#B6E880",
           "#FF97FF",
           "#FECB52"
          ],
          "font": {
           "color": "#2a3f5f"
          },
          "geo": {
           "bgcolor": "white",
           "lakecolor": "white",
           "landcolor": "#E5ECF6",
           "showlakes": true,
           "showland": true,
           "subunitcolor": "white"
          },
          "hoverlabel": {
           "align": "left"
          },
          "hovermode": "closest",
          "mapbox": {
           "style": "light"
          },
          "paper_bgcolor": "white",
          "plot_bgcolor": "#E5ECF6",
          "polar": {
           "angularaxis": {
            "gridcolor": "white",
            "linecolor": "white",
            "ticks": ""
           },
           "bgcolor": "#E5ECF6",
           "radialaxis": {
            "gridcolor": "white",
            "linecolor": "white",
            "ticks": ""
           }
          },
          "scene": {
           "xaxis": {
            "backgroundcolor": "#E5ECF6",
            "gridcolor": "white",
            "gridwidth": 2,
            "linecolor": "white",
            "showbackground": true,
            "ticks": "",
            "zerolinecolor": "white"
           },
           "yaxis": {
            "backgroundcolor": "#E5ECF6",
            "gridcolor": "white",
            "gridwidth": 2,
            "linecolor": "white",
            "showbackground": true,
            "ticks": "",
            "zerolinecolor": "white"
           },
           "zaxis": {
            "backgroundcolor": "#E5ECF6",
            "gridcolor": "white",
            "gridwidth": 2,
            "linecolor": "white",
            "showbackground": true,
            "ticks": "",
            "zerolinecolor": "white"
           }
          },
          "shapedefaults": {
           "line": {
            "color": "#2a3f5f"
           }
          },
          "ternary": {
           "aaxis": {
            "gridcolor": "white",
            "linecolor": "white",
            "ticks": ""
           },
           "baxis": {
            "gridcolor": "white",
            "linecolor": "white",
            "ticks": ""
           },
           "bgcolor": "#E5ECF6",
           "caxis": {
            "gridcolor": "white",
            "linecolor": "white",
            "ticks": ""
           }
          },
          "title": {
           "x": 0.05
          },
          "xaxis": {
           "automargin": true,
           "gridcolor": "white",
           "linecolor": "white",
           "ticks": "",
           "title": {
            "standoff": 15
           },
           "zerolinecolor": "white",
           "zerolinewidth": 2
          },
          "yaxis": {
           "automargin": true,
           "gridcolor": "white",
           "linecolor": "white",
           "ticks": "",
           "title": {
            "standoff": 15
           },
           "zerolinecolor": "white",
           "zerolinewidth": 2
          }
         }
        },
        "title": {
         "text": "Percentage of Names Starting by Each Letter by Country"
        },
        "xaxis": {
         "title": {
          "text": "Letter of the Name"
         }
        },
        "yaxis": {
         "ticksuffix": "%",
         "title": {
          "text": "% of Total Names by Origin"
         }
        }
       }
      }
     },
     "metadata": {},
     "output_type": "display_data"
    },
    {
     "data": {
      "application/vnd.plotly.v1+json": {
       "config": {
        "plotlyServerURL": "https://plot.ly"
       },
       "data": [
        {
         "hoverinfo": "text",
         "hovertext": [
          "Top names: Elena, Olga, Svetlana",
          "Top names: Vladimir, Aleksandr, Viktor",
          "Top names: Yuri, Sergei, Anatoli",
          "Top names: Jan, Ivan, Valentin",
          "Top names: Vaclav, Ladislav, Stanislav",
          "Top names: Ivo, Zeljko, Branko",
          "Top names: Boris, Denis, Tomas",
          "Top names: Mikhail, Pavel, Karel",
          "Top names: Jerzy, Sergey, Nikolay",
          "Top names: Frantisek, Marek, Henryk",
          "Top names: Leonid, David, Ryszard",
          "Top names: Kazimierz, Janusz, Tadeusz",
          "Top names: Josef, Jozef, Rudolf",
          "Top names: Robert, Zygmunt, Albert",
          "Top names: Wladyslaw, Zbigniew, Wieslaw",
          "Top names: Adam, Vadim, Joachim",
          "Top names: Alexandre, Mate, Marie",
          "Top names: Andrzej, Bartlomiej, Ondrej",
          "Top names: Oleg, Predrag, Vakhtang",
          "Top names: Wojciech, Oldrich, Jindrich",
          "Top names: Nikolaï",
          "Top names: Filip, Josip",
          "Top names: Zurab, Jakub, Gleb",
          "Top names: Tanyu, Enyu, Tonu",
          "Top names: ",
          "Top names: "
         ],
         "marker": {
          "color": "salmon"
         },
         "name": "Slavic",
         "type": "bar",
         "x": [
          "a",
          "r",
          "i",
          "n",
          "v",
          "o",
          "s",
          "l",
          "y",
          "k",
          "d",
          "z",
          "f",
          "t",
          "w",
          "m",
          "e",
          "j",
          "g",
          "h",
          "ï",
          "p",
          "b",
          "u",
          "c",
          "x"
         ],
         "y": [
          26.655683690280064,
          14.827018121911037,
          13.772652388797363,
          9.588138385502472,
          4.118616144975288,
          3.9538714991762767,
          3.9209225700164745,
          3.4925864909390447,
          2.9654036243822075,
          2.7347611202635917,
          2.701812191103789,
          1.9769357495881383,
          1.5485996705107083,
          1.4168039538714992,
          1.2191103789126854,
          1.1532125205930808,
          1.0543657331136738,
          0.8896210873146623,
          0.8237232289950577,
          0.6260296540362438,
          0.19769357495881384,
          0.13179571663920922,
          0.13179571663920922,
          0.09884678747940692,
          null,
          null
         ]
        },
        {
         "hoverinfo": "text",
         "hovertext": [
          "Top names: Angela, Lisa, Laura",
          "Top names: Arthur, Peter, Christopher",
          "Top names: Lori, Kerri, Shani",
          "Top names: John, Stephen, Ian",
          "Top names: ",
          "Top names: Angelo, Jo, Apolo",
          "Top names: Charles, James, Thomas",
          "Top names: Michael, Paul, Daniel",
          "Top names: Henry, Anthony, Harry",
          "Top names: Frederick, Frank, Patrick",
          "Top names: David, Richard, Edward",
          "Top names: Liz",
          "Top names: Jeff, Geoff, Duff",
          "Top names: Robert, Albert, Ernest",
          "Top names: Andrew, Matthew, Mathew",
          "Top names: William, Graham, Tim",
          "Top names: George, Michelle, Mike",
          "Top names: Raj",
          "Top names: Craig, Greg, Irving",
          "Top names: Kenneth, Joseph, Hugh",
          "Top names: ",
          "Top names: Philip, Phillip, Philipp",
          "Top names: Rob, Jacob",
          "Top names: Mathieu, Montagu, Beau",
          "Top names: Eric, Marc, Mac",
          "Top names: Alex, Beatrix, Max"
         ],
         "marker": {
          "color": "skyblue"
         },
         "name": "English-Speaking",
         "type": "bar",
         "x": [
          "a",
          "r",
          "i",
          "n",
          "v",
          "o",
          "s",
          "l",
          "y",
          "k",
          "d",
          "z",
          "f",
          "t",
          "w",
          "m",
          "e",
          "j",
          "g",
          "h",
          "ï",
          "p",
          "b",
          "u",
          "c",
          "x"
         ],
         "y": [
          7.681365576102419,
          5.476529160739687,
          0.9601706970128023,
          20.234708392603128,
          null,
          0.42674253200568996,
          7.539118065433854,
          5.120910384068279,
          9.566145092460882,
          2.844950213371266,
          9.103840682788052,
          0.03556187766714083,
          0.24893314366998576,
          5.085348506401138,
          1.1735419630156472,
          3.698435277382646,
          15.007112375533428,
          0.03556187766714083,
          0.39118065433854904,
          3.1294452347083923,
          null,
          0.6756756756756757,
          0.21337126600284498,
          0.21337126600284498,
          0.8534850640113799,
          0.2844950213371266
         ]
        }
       ],
       "layout": {
        "barmode": "group",
        "legend": {
         "title": {
          "text": "Origin:"
         }
        },
        "template": {
         "data": {
          "bar": [
           {
            "error_x": {
             "color": "#2a3f5f"
            },
            "error_y": {
             "color": "#2a3f5f"
            },
            "marker": {
             "line": {
              "color": "#E5ECF6",
              "width": 0.5
             },
             "pattern": {
              "fillmode": "overlay",
              "size": 10,
              "solidity": 0.2
             }
            },
            "type": "bar"
           }
          ],
          "barpolar": [
           {
            "marker": {
             "line": {
              "color": "#E5ECF6",
              "width": 0.5
             },
             "pattern": {
              "fillmode": "overlay",
              "size": 10,
              "solidity": 0.2
             }
            },
            "type": "barpolar"
           }
          ],
          "carpet": [
           {
            "aaxis": {
             "endlinecolor": "#2a3f5f",
             "gridcolor": "white",
             "linecolor": "white",
             "minorgridcolor": "white",
             "startlinecolor": "#2a3f5f"
            },
            "baxis": {
             "endlinecolor": "#2a3f5f",
             "gridcolor": "white",
             "linecolor": "white",
             "minorgridcolor": "white",
             "startlinecolor": "#2a3f5f"
            },
            "type": "carpet"
           }
          ],
          "choropleth": [
           {
            "colorbar": {
             "outlinewidth": 0,
             "ticks": ""
            },
            "type": "choropleth"
           }
          ],
          "contour": [
           {
            "colorbar": {
             "outlinewidth": 0,
             "ticks": ""
            },
            "colorscale": [
             [
              0,
              "#0d0887"
             ],
             [
              0.1111111111111111,
              "#46039f"
             ],
             [
              0.2222222222222222,
              "#7201a8"
             ],
             [
              0.3333333333333333,
              "#9c179e"
             ],
             [
              0.4444444444444444,
              "#bd3786"
             ],
             [
              0.5555555555555556,
              "#d8576b"
             ],
             [
              0.6666666666666666,
              "#ed7953"
             ],
             [
              0.7777777777777778,
              "#fb9f3a"
             ],
             [
              0.8888888888888888,
              "#fdca26"
             ],
             [
              1,
              "#f0f921"
             ]
            ],
            "type": "contour"
           }
          ],
          "contourcarpet": [
           {
            "colorbar": {
             "outlinewidth": 0,
             "ticks": ""
            },
            "type": "contourcarpet"
           }
          ],
          "heatmap": [
           {
            "colorbar": {
             "outlinewidth": 0,
             "ticks": ""
            },
            "colorscale": [
             [
              0,
              "#0d0887"
             ],
             [
              0.1111111111111111,
              "#46039f"
             ],
             [
              0.2222222222222222,
              "#7201a8"
             ],
             [
              0.3333333333333333,
              "#9c179e"
             ],
             [
              0.4444444444444444,
              "#bd3786"
             ],
             [
              0.5555555555555556,
              "#d8576b"
             ],
             [
              0.6666666666666666,
              "#ed7953"
             ],
             [
              0.7777777777777778,
              "#fb9f3a"
             ],
             [
              0.8888888888888888,
              "#fdca26"
             ],
             [
              1,
              "#f0f921"
             ]
            ],
            "type": "heatmap"
           }
          ],
          "heatmapgl": [
           {
            "colorbar": {
             "outlinewidth": 0,
             "ticks": ""
            },
            "colorscale": [
             [
              0,
              "#0d0887"
             ],
             [
              0.1111111111111111,
              "#46039f"
             ],
             [
              0.2222222222222222,
              "#7201a8"
             ],
             [
              0.3333333333333333,
              "#9c179e"
             ],
             [
              0.4444444444444444,
              "#bd3786"
             ],
             [
              0.5555555555555556,
              "#d8576b"
             ],
             [
              0.6666666666666666,
              "#ed7953"
             ],
             [
              0.7777777777777778,
              "#fb9f3a"
             ],
             [
              0.8888888888888888,
              "#fdca26"
             ],
             [
              1,
              "#f0f921"
             ]
            ],
            "type": "heatmapgl"
           }
          ],
          "histogram": [
           {
            "marker": {
             "pattern": {
              "fillmode": "overlay",
              "size": 10,
              "solidity": 0.2
             }
            },
            "type": "histogram"
           }
          ],
          "histogram2d": [
           {
            "colorbar": {
             "outlinewidth": 0,
             "ticks": ""
            },
            "colorscale": [
             [
              0,
              "#0d0887"
             ],
             [
              0.1111111111111111,
              "#46039f"
             ],
             [
              0.2222222222222222,
              "#7201a8"
             ],
             [
              0.3333333333333333,
              "#9c179e"
             ],
             [
              0.4444444444444444,
              "#bd3786"
             ],
             [
              0.5555555555555556,
              "#d8576b"
             ],
             [
              0.6666666666666666,
              "#ed7953"
             ],
             [
              0.7777777777777778,
              "#fb9f3a"
             ],
             [
              0.8888888888888888,
              "#fdca26"
             ],
             [
              1,
              "#f0f921"
             ]
            ],
            "type": "histogram2d"
           }
          ],
          "histogram2dcontour": [
           {
            "colorbar": {
             "outlinewidth": 0,
             "ticks": ""
            },
            "colorscale": [
             [
              0,
              "#0d0887"
             ],
             [
              0.1111111111111111,
              "#46039f"
             ],
             [
              0.2222222222222222,
              "#7201a8"
             ],
             [
              0.3333333333333333,
              "#9c179e"
             ],
             [
              0.4444444444444444,
              "#bd3786"
             ],
             [
              0.5555555555555556,
              "#d8576b"
             ],
             [
              0.6666666666666666,
              "#ed7953"
             ],
             [
              0.7777777777777778,
              "#fb9f3a"
             ],
             [
              0.8888888888888888,
              "#fdca26"
             ],
             [
              1,
              "#f0f921"
             ]
            ],
            "type": "histogram2dcontour"
           }
          ],
          "mesh3d": [
           {
            "colorbar": {
             "outlinewidth": 0,
             "ticks": ""
            },
            "type": "mesh3d"
           }
          ],
          "parcoords": [
           {
            "line": {
             "colorbar": {
              "outlinewidth": 0,
              "ticks": ""
             }
            },
            "type": "parcoords"
           }
          ],
          "pie": [
           {
            "automargin": true,
            "type": "pie"
           }
          ],
          "scatter": [
           {
            "fillpattern": {
             "fillmode": "overlay",
             "size": 10,
             "solidity": 0.2
            },
            "type": "scatter"
           }
          ],
          "scatter3d": [
           {
            "line": {
             "colorbar": {
              "outlinewidth": 0,
              "ticks": ""
             }
            },
            "marker": {
             "colorbar": {
              "outlinewidth": 0,
              "ticks": ""
             }
            },
            "type": "scatter3d"
           }
          ],
          "scattercarpet": [
           {
            "marker": {
             "colorbar": {
              "outlinewidth": 0,
              "ticks": ""
             }
            },
            "type": "scattercarpet"
           }
          ],
          "scattergeo": [
           {
            "marker": {
             "colorbar": {
              "outlinewidth": 0,
              "ticks": ""
             }
            },
            "type": "scattergeo"
           }
          ],
          "scattergl": [
           {
            "marker": {
             "colorbar": {
              "outlinewidth": 0,
              "ticks": ""
             }
            },
            "type": "scattergl"
           }
          ],
          "scattermapbox": [
           {
            "marker": {
             "colorbar": {
              "outlinewidth": 0,
              "ticks": ""
             }
            },
            "type": "scattermapbox"
           }
          ],
          "scatterpolar": [
           {
            "marker": {
             "colorbar": {
              "outlinewidth": 0,
              "ticks": ""
             }
            },
            "type": "scatterpolar"
           }
          ],
          "scatterpolargl": [
           {
            "marker": {
             "colorbar": {
              "outlinewidth": 0,
              "ticks": ""
             }
            },
            "type": "scatterpolargl"
           }
          ],
          "scatterternary": [
           {
            "marker": {
             "colorbar": {
              "outlinewidth": 0,
              "ticks": ""
             }
            },
            "type": "scatterternary"
           }
          ],
          "surface": [
           {
            "colorbar": {
             "outlinewidth": 0,
             "ticks": ""
            },
            "colorscale": [
             [
              0,
              "#0d0887"
             ],
             [
              0.1111111111111111,
              "#46039f"
             ],
             [
              0.2222222222222222,
              "#7201a8"
             ],
             [
              0.3333333333333333,
              "#9c179e"
             ],
             [
              0.4444444444444444,
              "#bd3786"
             ],
             [
              0.5555555555555556,
              "#d8576b"
             ],
             [
              0.6666666666666666,
              "#ed7953"
             ],
             [
              0.7777777777777778,
              "#fb9f3a"
             ],
             [
              0.8888888888888888,
              "#fdca26"
             ],
             [
              1,
              "#f0f921"
             ]
            ],
            "type": "surface"
           }
          ],
          "table": [
           {
            "cells": {
             "fill": {
              "color": "#EBF0F8"
             },
             "line": {
              "color": "white"
             }
            },
            "header": {
             "fill": {
              "color": "#C8D4E3"
             },
             "line": {
              "color": "white"
             }
            },
            "type": "table"
           }
          ]
         },
         "layout": {
          "annotationdefaults": {
           "arrowcolor": "#2a3f5f",
           "arrowhead": 0,
           "arrowwidth": 1
          },
          "autotypenumbers": "strict",
          "coloraxis": {
           "colorbar": {
            "outlinewidth": 0,
            "ticks": ""
           }
          },
          "colorscale": {
           "diverging": [
            [
             0,
             "#8e0152"
            ],
            [
             0.1,
             "#c51b7d"
            ],
            [
             0.2,
             "#de77ae"
            ],
            [
             0.3,
             "#f1b6da"
            ],
            [
             0.4,
             "#fde0ef"
            ],
            [
             0.5,
             "#f7f7f7"
            ],
            [
             0.6,
             "#e6f5d0"
            ],
            [
             0.7,
             "#b8e186"
            ],
            [
             0.8,
             "#7fbc41"
            ],
            [
             0.9,
             "#4d9221"
            ],
            [
             1,
             "#276419"
            ]
           ],
           "sequential": [
            [
             0,
             "#0d0887"
            ],
            [
             0.1111111111111111,
             "#46039f"
            ],
            [
             0.2222222222222222,
             "#7201a8"
            ],
            [
             0.3333333333333333,
             "#9c179e"
            ],
            [
             0.4444444444444444,
             "#bd3786"
            ],
            [
             0.5555555555555556,
             "#d8576b"
            ],
            [
             0.6666666666666666,
             "#ed7953"
            ],
            [
             0.7777777777777778,
             "#fb9f3a"
            ],
            [
             0.8888888888888888,
             "#fdca26"
            ],
            [
             1,
             "#f0f921"
            ]
           ],
           "sequentialminus": [
            [
             0,
             "#0d0887"
            ],
            [
             0.1111111111111111,
             "#46039f"
            ],
            [
             0.2222222222222222,
             "#7201a8"
            ],
            [
             0.3333333333333333,
             "#9c179e"
            ],
            [
             0.4444444444444444,
             "#bd3786"
            ],
            [
             0.5555555555555556,
             "#d8576b"
            ],
            [
             0.6666666666666666,
             "#ed7953"
            ],
            [
             0.7777777777777778,
             "#fb9f3a"
            ],
            [
             0.8888888888888888,
             "#fdca26"
            ],
            [
             1,
             "#f0f921"
            ]
           ]
          },
          "colorway": [
           "#636efa",
           "#EF553B",
           "#00cc96",
           "#ab63fa",
           "#FFA15A",
           "#19d3f3",
           "#FF6692",
           "#B6E880",
           "#FF97FF",
           "#FECB52"
          ],
          "font": {
           "color": "#2a3f5f"
          },
          "geo": {
           "bgcolor": "white",
           "lakecolor": "white",
           "landcolor": "#E5ECF6",
           "showlakes": true,
           "showland": true,
           "subunitcolor": "white"
          },
          "hoverlabel": {
           "align": "left"
          },
          "hovermode": "closest",
          "mapbox": {
           "style": "light"
          },
          "paper_bgcolor": "white",
          "plot_bgcolor": "#E5ECF6",
          "polar": {
           "angularaxis": {
            "gridcolor": "white",
            "linecolor": "white",
            "ticks": ""
           },
           "bgcolor": "#E5ECF6",
           "radialaxis": {
            "gridcolor": "white",
            "linecolor": "white",
            "ticks": ""
           }
          },
          "scene": {
           "xaxis": {
            "backgroundcolor": "#E5ECF6",
            "gridcolor": "white",
            "gridwidth": 2,
            "linecolor": "white",
            "showbackground": true,
            "ticks": "",
            "zerolinecolor": "white"
           },
           "yaxis": {
            "backgroundcolor": "#E5ECF6",
            "gridcolor": "white",
            "gridwidth": 2,
            "linecolor": "white",
            "showbackground": true,
            "ticks": "",
            "zerolinecolor": "white"
           },
           "zaxis": {
            "backgroundcolor": "#E5ECF6",
            "gridcolor": "white",
            "gridwidth": 2,
            "linecolor": "white",
            "showbackground": true,
            "ticks": "",
            "zerolinecolor": "white"
           }
          },
          "shapedefaults": {
           "line": {
            "color": "#2a3f5f"
           }
          },
          "ternary": {
           "aaxis": {
            "gridcolor": "white",
            "linecolor": "white",
            "ticks": ""
           },
           "baxis": {
            "gridcolor": "white",
            "linecolor": "white",
            "ticks": ""
           },
           "bgcolor": "#E5ECF6",
           "caxis": {
            "gridcolor": "white",
            "linecolor": "white",
            "ticks": ""
           }
          },
          "title": {
           "x": 0.05
          },
          "xaxis": {
           "automargin": true,
           "gridcolor": "white",
           "linecolor": "white",
           "ticks": "",
           "title": {
            "standoff": 15
           },
           "zerolinecolor": "white",
           "zerolinewidth": 2
          },
          "yaxis": {
           "automargin": true,
           "gridcolor": "white",
           "linecolor": "white",
           "ticks": "",
           "title": {
            "standoff": 15
           },
           "zerolinecolor": "white",
           "zerolinewidth": 2
          }
         }
        },
        "title": {
         "text": "Percentage of Names Ending by Each Letter by Country"
        },
        "xaxis": {
         "title": {
          "text": "Letter of the Name"
         }
        },
        "yaxis": {
         "ticksuffix": "%",
         "title": {
          "text": "% of Total Names by Origin"
         }
        }
       }
      }
     },
     "metadata": {},
     "output_type": "display_data"
    }
   ],
   "source": [
    "def create_letter_count_df(df, letter_position):\n",
    "\n",
    "    df_letter = df.copy()\n",
    "    df_letter['letter'] = df_letter['Name'].apply(lambda name: name[letter_position].lower())\n",
    "    \n",
    "    letter_counts_H = df_letter[df_letter['Country'] == 'Slavic']['letter'].value_counts()\n",
    "    letter_counts_F = df_letter[df_letter['Country'] == 'English-Speaking']['letter'].value_counts()\n",
    "\n",
    "    male_count = df_letter[df_letter['Country'] == 'Slavic'].shape[0]\n",
    "    female_count = df_letter[df_letter['Country'] == 'English-Speaking'].shape[0]\n",
    "    letter_counts_H_percentage = letter_counts_H / male_count*100\n",
    "    letter_counts_F_percentage = letter_counts_F / female_count*100\n",
    "    letter_counts = pd.concat([letter_counts_H_percentage, letter_counts_F_percentage], axis=1)\n",
    "    letter_counts.columns = ['letter_men', 'letter_women']\n",
    "    letter_counts = letter_counts.head(26)  # Limit to top 26 letters\n",
    "\n",
    "    top_letter_names = (\n",
    "        df_letter.groupby(['letter', 'Country'])['Name']\n",
    "        .apply(lambda x: x.value_counts().head(3).index.tolist())\n",
    "        .unstack(fill_value=[])\n",
    "    )\n",
    "\n",
    "    return letter_counts, top_letter_names\n",
    "\n",
    "def plot_letter_name_percentage(df, letter_position, comparison):\n",
    "\n",
    "    letter_counts, top_letter_names = create_letter_count_df(df, letter_position)\n",
    "\n",
    "    if letter_position == 0:\n",
    "        title = f'Percentage of Names Starting by Each Letter by {comparison}'\n",
    "    else:\n",
    "        title = f'Percentage of Names Ending by Each Letter by {comparison}'\n",
    "\n",
    "    fig = go.Figure()\n",
    "\n",
    "    fig.add_trace(go.Bar(\n",
    "        x=letter_counts.index,\n",
    "        y=letter_counts['letter_men'],\n",
    "        name='Slavic',\n",
    "        marker_color='salmon',\n",
    "        hovertext=[f\"Top names: {', '.join(top_letter_names.loc[letter, 'Slavic'])}\" if 'Slavic' in top_letter_names.columns else \"\" for letter in letter_counts.index],\n",
    "        hoverinfo=\"text\"\n",
    "    ))\n",
    "\n",
    "    fig.add_trace(go.Bar(\n",
    "        x=letter_counts.index,\n",
    "        y=letter_counts['letter_women'],\n",
    "        name='English-Speaking',\n",
    "        marker_color='skyblue',\n",
    "        hovertext=[f\"Top names: {', '.join(top_letter_names.loc[letter, 'English-Speaking'])}\" if 'English-Speaking' in top_letter_names.columns else \"\" for letter in letter_counts.index],\n",
    "        hoverinfo=\"text\"\n",
    "    ))\n",
    "\n",
    "    fig.update_layout(\n",
    "        title=title,\n",
    "        xaxis_title='Letter of the Name',\n",
    "        yaxis_title='% of Total Names by Origin',\n",
    "        barmode='group',\n",
    "        yaxis=dict(ticksuffix='%'),\n",
    "        legend_title=\"Origin:\"\n",
    "    )\n",
    "\n",
    "    fig.show()\n",
    "\n",
    "plot_letter_name_percentage(df_ethnicity, 0, comparison='Country')\n",
    "plot_letter_name_percentage(df_ethnicity, -1, comparison='Country')"
   ]
  },
  {
   "cell_type": "code",
   "execution_count": 8,
   "metadata": {},
   "outputs": [
    {
     "name": "stdout",
     "output_type": "stream",
     "text": [
      "Chi-Square Statistic: 58198.75\n",
      "p-value: 0.0\n"
     ]
    }
   ],
   "source": [
    "df_ethn_stats = df_ethnicity.explode('Country')\n",
    "\n",
    "contingency_table = create_contingency_table(df_ethn_stats,'Name','Country')\n",
    "chi2, p_value, dof, expected = stats.chi2_contingency(contingency_table)\n",
    "\n",
    "print(f\"Chi-Square Statistic: {chi2:.2f}\")\n",
    "print(f\"p-value: {p_value}\")"
   ]
  },
  {
   "cell_type": "markdown",
   "metadata": {},
   "source": [
    "The p-value is very close to zero, hence we can say that there is an association between character names and genres. We will now try to quantify this association using Cramér's V."
   ]
  },
  {
   "cell_type": "code",
   "execution_count": 9,
   "metadata": {},
   "outputs": [
    {
     "name": "stdout",
     "output_type": "stream",
     "text": [
      "Cramér's V: 0.881\n"
     ]
    }
   ],
   "source": [
    "\n",
    "n = contingency_table.sum().sum()\n",
    "k = min(contingency_table.shape)\n",
    "cramers_v = np.sqrt(chi2 / (n * (k - 1)))\n",
    "\n",
    "print(f\"Cramér's V: {cramers_v:.3f}\")"
   ]
  },
  {
   "cell_type": "markdown",
   "metadata": {},
   "source": [
    "The Cramér's V is superior to 0.80 meaning that there is a strong association between the country and the name."
   ]
  },
  {
   "cell_type": "markdown",
   "metadata": {},
   "source": [
    "# Creation of the model"
   ]
  },
  {
   "cell_type": "code",
   "execution_count": 10,
   "metadata": {},
   "outputs": [],
   "source": [
    "def find_unusual_characters(df, column_name, allowed_chars='abcdefghijklmnopqrstuvwxyzABCDEFGHIJKLMNOPQRSTUVWXYZ'):\n",
    "    \"\"\"\n",
    "    Identify all unique characters in a column that are not in the allowed characters.\n",
    "\n",
    "    Parameters:\n",
    "        df (pd.DataFrame): The dataset containing the column.\n",
    "        column_name (str): The name of the column to analyze.\n",
    "        allowed_chars (str): A string of allowed characters.\n",
    "\n",
    "    Returns:\n",
    "        set: A set of unique unusual characters.\n",
    "    \"\"\"\n",
    "    # Create a set of allowed characters\n",
    "    allowed_set = set(allowed_chars)\n",
    "    \n",
    "    # Combine all characters in the specified column\n",
    "    all_characters = ''.join(df[column_name].dropna().astype(str))\n",
    "    \n",
    "    # Find unusual characters\n",
    "    unusual_characters = set(all_characters) - allowed_set\n",
    "    \n",
    "    # Print and return the unusual characters\n",
    "    print(\"Unusual Characters Found:\", unusual_characters)"
   ]
  },
  {
   "cell_type": "code",
   "execution_count": 11,
   "metadata": {},
   "outputs": [
    {
     "name": "stdout",
     "output_type": "stream",
     "text": [
      "Unusual Characters Found: {'è', 'ï', 'ü', 'Ã', 'é', '¶', 'ë', 'ç', 'á', 'ö', 'Ö', 'ä', '©'}\n"
     ]
    }
   ],
   "source": [
    "find_unusual_characters(df_ethnicity, 'Name')"
   ]
  },
  {
   "cell_type": "markdown",
   "metadata": {},
   "source": [
    "Encode the Coutries as numbers :"
   ]
  },
  {
   "cell_type": "code",
   "execution_count": 12,
   "metadata": {},
   "outputs": [],
   "source": [
    "class ColumnEncoder:\n",
    "    def __init__(self, column_name):\n",
    "        \"\"\"\n",
    "        Initialize the encoder for a specific column.\n",
    "        \"\"\"\n",
    "        self.column_name = column_name\n",
    "        self.legend = None  # To store the legend of encoded values\n",
    "\n",
    "    def fit_transform(self, df):\n",
    "        \"\"\"\n",
    "        Encodes the column in the DataFrame as integers and stores the legend.\n",
    "        \"\"\"\n",
    "        if self.column_name not in df.columns:\n",
    "            raise ValueError(f\"Column '{self.column_name}' not found in DataFrame.\")\n",
    "        \n",
    "        # Factorize the column and store the legend\n",
    "        df[self.column_name], self.legend = pd.factorize(df[self.column_name])\n",
    "        return df\n",
    "\n",
    "    def get_legend(self):\n",
    "        \"\"\"\n",
    "        Generates a DataFrame containing the legend of encoded values.\n",
    "        \"\"\"\n",
    "        if self.legend is None:\n",
    "            raise ValueError(\"The encoder has not been fitted. Call `fit_transform` first.\")\n",
    "        \n",
    "        legend_df = pd.DataFrame({\n",
    "            'Encoded Value': range(len(self.legend)),\n",
    "            self.column_name: self.legend\n",
    "        })\n",
    "        return legend_df"
   ]
  },
  {
   "cell_type": "code",
   "execution_count": 13,
   "metadata": {},
   "outputs": [
    {
     "name": "stdout",
     "output_type": "stream",
     "text": [
      "Legend:\n"
     ]
    },
    {
     "data": {
      "text/html": [
       "<div>\n",
       "<style scoped>\n",
       "    .dataframe tbody tr th:only-of-type {\n",
       "        vertical-align: middle;\n",
       "    }\n",
       "\n",
       "    .dataframe tbody tr th {\n",
       "        vertical-align: top;\n",
       "    }\n",
       "\n",
       "    .dataframe thead th {\n",
       "        text-align: right;\n",
       "    }\n",
       "</style>\n",
       "<table border=\"1\" class=\"dataframe\">\n",
       "  <thead>\n",
       "    <tr style=\"text-align: right;\">\n",
       "      <th></th>\n",
       "      <th>Encoded Value</th>\n",
       "      <th>Country</th>\n",
       "    </tr>\n",
       "  </thead>\n",
       "  <tbody>\n",
       "    <tr>\n",
       "      <th>0</th>\n",
       "      <td>0</td>\n",
       "      <td>Slavic</td>\n",
       "    </tr>\n",
       "    <tr>\n",
       "      <th>1</th>\n",
       "      <td>1</td>\n",
       "      <td>Nordic</td>\n",
       "    </tr>\n",
       "    <tr>\n",
       "      <th>2</th>\n",
       "      <td>2</td>\n",
       "      <td>Romance</td>\n",
       "    </tr>\n",
       "    <tr>\n",
       "      <th>3</th>\n",
       "      <td>3</td>\n",
       "      <td>East Asian</td>\n",
       "    </tr>\n",
       "    <tr>\n",
       "      <th>4</th>\n",
       "      <td>4</td>\n",
       "      <td>Germanic</td>\n",
       "    </tr>\n",
       "    <tr>\n",
       "      <th>5</th>\n",
       "      <td>5</td>\n",
       "      <td>English-Speaking</td>\n",
       "    </tr>\n",
       "    <tr>\n",
       "      <th>6</th>\n",
       "      <td>6</td>\n",
       "      <td>Hispanic</td>\n",
       "    </tr>\n",
       "  </tbody>\n",
       "</table>\n",
       "</div>"
      ],
      "text/plain": [
       "   Encoded Value           Country\n",
       "0              0            Slavic\n",
       "1              1            Nordic\n",
       "2              2           Romance\n",
       "3              3        East Asian\n",
       "4              4          Germanic\n",
       "5              5  English-Speaking\n",
       "6              6          Hispanic"
      ]
     },
     "execution_count": 13,
     "metadata": {},
     "output_type": "execute_result"
    }
   ],
   "source": [
    "# Encode the column in the DataFrame\n",
    "encoder = ColumnEncoder(column_name='Country')\n",
    "df_ethnicity = encoder.fit_transform(df_ethnicity)\n",
    "\n",
    "# Get the legend \n",
    "legend_df = encoder.get_legend()\n",
    "print(\"Legend:\")\n",
    "legend_df.head(14)\n"
   ]
  },
  {
   "cell_type": "code",
   "execution_count": 14,
   "metadata": {},
   "outputs": [
    {
     "data": {
      "text/html": [
       "<div>\n",
       "<style scoped>\n",
       "    .dataframe tbody tr th:only-of-type {\n",
       "        vertical-align: middle;\n",
       "    }\n",
       "\n",
       "    .dataframe tbody tr th {\n",
       "        vertical-align: top;\n",
       "    }\n",
       "\n",
       "    .dataframe thead th {\n",
       "        text-align: right;\n",
       "    }\n",
       "</style>\n",
       "<table border=\"1\" class=\"dataframe\">\n",
       "  <thead>\n",
       "    <tr style=\"text-align: right;\">\n",
       "      <th></th>\n",
       "      <th>Name</th>\n",
       "      <th>Country</th>\n",
       "      <th>vowel_count</th>\n",
       "      <th>consonant_count</th>\n",
       "      <th>name_length</th>\n",
       "    </tr>\n",
       "  </thead>\n",
       "  <tbody>\n",
       "    <tr>\n",
       "      <th>94</th>\n",
       "      <td>Edwin</td>\n",
       "      <td>5</td>\n",
       "      <td>2</td>\n",
       "      <td>3</td>\n",
       "      <td>5</td>\n",
       "    </tr>\n",
       "    <tr>\n",
       "      <th>11779</th>\n",
       "      <td>Catherine</td>\n",
       "      <td>5</td>\n",
       "      <td>4</td>\n",
       "      <td>5</td>\n",
       "      <td>9</td>\n",
       "    </tr>\n",
       "    <tr>\n",
       "      <th>9744</th>\n",
       "      <td>Lisa</td>\n",
       "      <td>5</td>\n",
       "      <td>2</td>\n",
       "      <td>2</td>\n",
       "      <td>4</td>\n",
       "    </tr>\n",
       "    <tr>\n",
       "      <th>12283</th>\n",
       "      <td>Fritz</td>\n",
       "      <td>4</td>\n",
       "      <td>1</td>\n",
       "      <td>4</td>\n",
       "      <td>5</td>\n",
       "    </tr>\n",
       "    <tr>\n",
       "      <th>5471</th>\n",
       "      <td>Henri</td>\n",
       "      <td>2</td>\n",
       "      <td>2</td>\n",
       "      <td>3</td>\n",
       "      <td>5</td>\n",
       "    </tr>\n",
       "  </tbody>\n",
       "</table>\n",
       "</div>"
      ],
      "text/plain": [
       "            Name  Country  vowel_count  consonant_count  name_length\n",
       "94         Edwin        5            2                3            5\n",
       "11779  Catherine        5            4                5            9\n",
       "9744        Lisa        5            2                2            4\n",
       "12283      Fritz        4            1                4            5\n",
       "5471       Henri        2            2                3            5"
      ]
     },
     "execution_count": 14,
     "metadata": {},
     "output_type": "execute_result"
    }
   ],
   "source": [
    "df_ethnicity.sample(5)"
   ]
  },
  {
   "cell_type": "markdown",
   "metadata": {},
   "source": [
    "## 1. Name Lenght, Vowel/Consonant Count and Ratio, Soundex and N-Gram"
   ]
  },
  {
   "cell_type": "code",
   "execution_count": 15,
   "metadata": {},
   "outputs": [],
   "source": [
    "class EthnicityDataProcessor:\n",
    "    def __init__(self, ngram_range = (2, 3)):\n",
    "        \"\"\"\n",
    "        Initialize the processor with optional n-gram range for text vectorization.\n",
    "        \"\"\"\n",
    "        self.ngram_range = ngram_range\n",
    "        self.vectorizer = None\n",
    "\n",
    "    @staticmethod\n",
    "    def analyze_name(name):\n",
    "        if not isinstance(name, str) or not name.strip():  # Handle empty or invalid names\n",
    "            return pd.Series({\n",
    "                'Length': 0,  \n",
    "                'Vowel Count': 0,\n",
    "                'Consonant Count': 0,\n",
    "                'Vowel/Consonant Ratio': 0,\n",
    "            })\n",
    "\n",
    "        vowels = set('aeiouyüéèäöÃëçÖïá')\n",
    "        consonants = set('bcdfghjklmnpqrstvwxzç')\n",
    "        length = len(name)\n",
    "        vowel_count = sum(1 for char in name.lower() if char in vowels)\n",
    "        consonant_count = sum(1 for char in name.lower() if char in consonants)\n",
    "        return pd.Series({\n",
    "            'Length': length,\n",
    "            'Vowel Count': vowel_count,\n",
    "            'Consonant Count': consonant_count,\n",
    "            'Vowel/Consonant Ratio': vowel_count / consonant_count if consonant_count > 0 else 0,\n",
    "        })\n",
    "\n",
    "    @staticmethod\n",
    "    def first_last_letter(name):\n",
    "        \"\"\"\n",
    "        Create columns for the first and last letter of the name for an extended alphabet.\n",
    "        Each column corresponds to a letter of the alphabet plus additional diacritic letters.\n",
    "    \"\"\"\n",
    "        # Define the extended alphabet\n",
    "        alphabet = 'abcdefghijklmnopqrstuvwxyzüéèäöÃëçÖïáéäÔþçÁøõãæšáàÂùðìôêÖØÀûßýÉïåÓúśíłÅÞūžâÍÈëōîñüèóöÕò'\n",
    "\n",
    "        # Initialize all columns to 0\n",
    "        columns = {f\"{letter}_f\": 0 for letter in alphabet}\n",
    "        columns.update({f\"{letter}_l\": 0 for letter in alphabet})\n",
    "\n",
    "        # Validate the input name\n",
    "        if not isinstance(name, str) or not name.strip():\n",
    "            return pd.Series(columns)\n",
    "    \n",
    "        # Get the first and last letter\n",
    "        name = name.strip().lower()\n",
    "        first_letter = name[0] if name else None\n",
    "        last_letter = name[-1] if name else None\n",
    "\n",
    "        # Set 1 for the corresponding first and last letter columns\n",
    "        if first_letter in alphabet:\n",
    "            columns[f\"{first_letter}_f\"] = 1\n",
    "        if last_letter in alphabet:\n",
    "            columns[f\"{last_letter}_l\"] = 1\n",
    "\n",
    "        return pd.Series(columns)\n",
    "        \n",
    "\n",
    "    @staticmethod\n",
    "    def add_diacritic_columns(names, diacritics=\"üéèäöÃëçÖïáéäÔþçÁøõãæšáàÂùðìôêÖØÀûßýÉïåÓúśíłÅÞūžâÍÈëōîñüèóöÕò\"):\n",
    "        \"\"\"\n",
    "        Add binary columns for each diacritic in the names.\n",
    "        \"\"\"\n",
    "        diacritic_set = set(diacritics)\n",
    "        diacritic_columns = {\n",
    "            f\"{diacritic}\": names.apply(lambda name: 1 if diacritic in name.lower() else 0)\n",
    "            for diacritic in diacritic_set\n",
    "        }\n",
    "        diacritic_df = pd.DataFrame(diacritic_columns)\n",
    "        # Drop columns where no diacritics are found\n",
    "        diacritic_df = diacritic_df.loc[:, (diacritic_df.sum(axis=0) > 0)]\n",
    "        return diacritic_df\n",
    "\n",
    "    @staticmethod\n",
    "    def add_soundex_encoding(names):\n",
    "        \"\"\"\n",
    "        Add Soundex encoding to the names.\n",
    "        \"\"\"\n",
    "        soundex_series = names.apply(soundex)\n",
    "        return pd.get_dummies(soundex_series, prefix='Soundex')\n",
    "\n",
    "    def add_ngram_features(self, names):\n",
    "        \"\"\"\n",
    "        Add n-gram features for the names using character-based n-grams.\n",
    "        \"\"\"\n",
    "        if self.ngram_range is not None:\n",
    "            self.vectorizer = CountVectorizer(analyzer='char', ngram_range=self.ngram_range)\n",
    "            ngram_features = self.vectorizer.fit_transform(names)\n",
    "            return pd.DataFrame(ngram_features.toarray(), columns=self.vectorizer.get_feature_names_out())\n",
    "        return pd.DataFrame()\n",
    "\n",
    "    def process(self, df):\n",
    "        \"\"\"\n",
    "        Process the input DataFrame to add all the features.\n",
    "        \"\"\"\n",
    "        # Analyze names\n",
    "        df = df.join(df['Name'].apply(self.analyze_name))\n",
    "\n",
    "        # Add diacritic columns\n",
    "        diacritic_df = self.add_diacritic_columns(df['Name'])\n",
    "        df = df.join(diacritic_df)\n",
    "\n",
    "        # Add Soundex encoding\n",
    "        soundex_df = self.add_soundex_encoding(df['Name'])\n",
    "        df = pd.concat([df, soundex_df], axis=1)\n",
    "\n",
    "        # Add first and last letter columns for the extended alphabet\n",
    "        letter_df = df['Name'].apply(self.first_last_letter)\n",
    "        df = pd.concat([df, letter_df], axis=1)\n",
    "\n",
    "        # Add n-gram features\n",
    "        ngram_df = self.add_ngram_features(df['Name'])\n",
    "        df = pd.concat([df, ngram_df], axis=1)\n",
    "\n",
    "        return df"
   ]
  },
  {
   "cell_type": "code",
   "execution_count": 16,
   "metadata": {},
   "outputs": [
    {
     "data": {
      "text/html": [
       "<div>\n",
       "<style scoped>\n",
       "    .dataframe tbody tr th:only-of-type {\n",
       "        vertical-align: middle;\n",
       "    }\n",
       "\n",
       "    .dataframe tbody tr th {\n",
       "        vertical-align: top;\n",
       "    }\n",
       "\n",
       "    .dataframe thead th {\n",
       "        text-align: right;\n",
       "    }\n",
       "</style>\n",
       "<table border=\"1\" class=\"dataframe\">\n",
       "  <thead>\n",
       "    <tr style=\"text-align: right;\">\n",
       "      <th></th>\n",
       "      <th>Name</th>\n",
       "      <th>Country</th>\n",
       "      <th>vowel_count</th>\n",
       "      <th>consonant_count</th>\n",
       "      <th>name_length</th>\n",
       "      <th>Length</th>\n",
       "      <th>Vowel Count</th>\n",
       "      <th>Consonant Count</th>\n",
       "      <th>Vowel/Consonant Ratio</th>\n",
       "      <th>è</th>\n",
       "      <th>...</th>\n",
       "      <th>öt</th>\n",
       "      <th>öta</th>\n",
       "      <th>öte</th>\n",
       "      <th>öth</th>\n",
       "      <th>üd</th>\n",
       "      <th>üdi</th>\n",
       "      <th>ün</th>\n",
       "      <th>ünt</th>\n",
       "      <th>ür</th>\n",
       "      <th>ürg</th>\n",
       "    </tr>\n",
       "  </thead>\n",
       "  <tbody>\n",
       "    <tr>\n",
       "      <th>0</th>\n",
       "      <td>Vaclav</td>\n",
       "      <td>0</td>\n",
       "      <td>2</td>\n",
       "      <td>4</td>\n",
       "      <td>6</td>\n",
       "      <td>6.0</td>\n",
       "      <td>2.0</td>\n",
       "      <td>4.0</td>\n",
       "      <td>0.500000</td>\n",
       "      <td>0</td>\n",
       "      <td>...</td>\n",
       "      <td>0</td>\n",
       "      <td>0</td>\n",
       "      <td>0</td>\n",
       "      <td>0</td>\n",
       "      <td>0</td>\n",
       "      <td>0</td>\n",
       "      <td>0</td>\n",
       "      <td>0</td>\n",
       "      <td>0</td>\n",
       "      <td>0</td>\n",
       "    </tr>\n",
       "    <tr>\n",
       "      <th>1</th>\n",
       "      <td>Allan</td>\n",
       "      <td>0</td>\n",
       "      <td>2</td>\n",
       "      <td>3</td>\n",
       "      <td>5</td>\n",
       "      <td>5.0</td>\n",
       "      <td>2.0</td>\n",
       "      <td>3.0</td>\n",
       "      <td>0.666667</td>\n",
       "      <td>0</td>\n",
       "      <td>...</td>\n",
       "      <td>0</td>\n",
       "      <td>0</td>\n",
       "      <td>0</td>\n",
       "      <td>0</td>\n",
       "      <td>0</td>\n",
       "      <td>0</td>\n",
       "      <td>0</td>\n",
       "      <td>0</td>\n",
       "      <td>0</td>\n",
       "      <td>0</td>\n",
       "    </tr>\n",
       "    <tr>\n",
       "      <th>2</th>\n",
       "      <td>Kristine</td>\n",
       "      <td>1</td>\n",
       "      <td>3</td>\n",
       "      <td>5</td>\n",
       "      <td>8</td>\n",
       "      <td>8.0</td>\n",
       "      <td>3.0</td>\n",
       "      <td>5.0</td>\n",
       "      <td>0.600000</td>\n",
       "      <td>0</td>\n",
       "      <td>...</td>\n",
       "      <td>0</td>\n",
       "      <td>0</td>\n",
       "      <td>0</td>\n",
       "      <td>0</td>\n",
       "      <td>0</td>\n",
       "      <td>0</td>\n",
       "      <td>0</td>\n",
       "      <td>0</td>\n",
       "      <td>0</td>\n",
       "      <td>0</td>\n",
       "    </tr>\n",
       "    <tr>\n",
       "      <th>3</th>\n",
       "      <td>Matteo</td>\n",
       "      <td>2</td>\n",
       "      <td>3</td>\n",
       "      <td>3</td>\n",
       "      <td>6</td>\n",
       "      <td>6.0</td>\n",
       "      <td>3.0</td>\n",
       "      <td>3.0</td>\n",
       "      <td>1.000000</td>\n",
       "      <td>0</td>\n",
       "      <td>...</td>\n",
       "      <td>0</td>\n",
       "      <td>0</td>\n",
       "      <td>0</td>\n",
       "      <td>0</td>\n",
       "      <td>0</td>\n",
       "      <td>0</td>\n",
       "      <td>0</td>\n",
       "      <td>0</td>\n",
       "      <td>0</td>\n",
       "      <td>0</td>\n",
       "    </tr>\n",
       "    <tr>\n",
       "      <th>4</th>\n",
       "      <td>Isao</td>\n",
       "      <td>3</td>\n",
       "      <td>3</td>\n",
       "      <td>1</td>\n",
       "      <td>4</td>\n",
       "      <td>4.0</td>\n",
       "      <td>3.0</td>\n",
       "      <td>1.0</td>\n",
       "      <td>3.000000</td>\n",
       "      <td>0</td>\n",
       "      <td>...</td>\n",
       "      <td>0</td>\n",
       "      <td>0</td>\n",
       "      <td>0</td>\n",
       "      <td>0</td>\n",
       "      <td>0</td>\n",
       "      <td>0</td>\n",
       "      <td>0</td>\n",
       "      <td>0</td>\n",
       "      <td>0</td>\n",
       "      <td>0</td>\n",
       "    </tr>\n",
       "  </tbody>\n",
       "</table>\n",
       "<p>5 rows × 5325 columns</p>\n",
       "</div>"
      ],
      "text/plain": [
       "       Name  Country  vowel_count  consonant_count  name_length  Length  \\\n",
       "0    Vaclav        0            2                4            6     6.0   \n",
       "1     Allan        0            2                3            5     5.0   \n",
       "2  Kristine        1            3                5            8     8.0   \n",
       "3    Matteo        2            3                3            6     6.0   \n",
       "4      Isao        3            3                1            4     4.0   \n",
       "\n",
       "   Vowel Count  Consonant Count  Vowel/Consonant Ratio  è  ...  öt  öta  öte  \\\n",
       "0          2.0              4.0               0.500000  0  ...   0    0    0   \n",
       "1          2.0              3.0               0.666667  0  ...   0    0    0   \n",
       "2          3.0              5.0               0.600000  0  ...   0    0    0   \n",
       "3          3.0              3.0               1.000000  0  ...   0    0    0   \n",
       "4          3.0              1.0               3.000000  0  ...   0    0    0   \n",
       "\n",
       "   öth  üd  üdi  ün  ünt  ür  ürg  \n",
       "0    0   0    0   0    0   0    0  \n",
       "1    0   0    0   0    0   0    0  \n",
       "2    0   0    0   0    0   0    0  \n",
       "3    0   0    0   0    0   0    0  \n",
       "4    0   0    0   0    0   0    0  \n",
       "\n",
       "[5 rows x 5325 columns]"
      ]
     },
     "execution_count": 16,
     "metadata": {},
     "output_type": "execute_result"
    }
   ],
   "source": [
    "# Process df_ethnicity\n",
    "processor = EthnicityDataProcessor(ngram_range=(2, 3))\n",
    "df_ethnicity_processed = processor.process(df_ethnicity)\n",
    "\n",
    "df_ethnicity_processed.head()"
   ]
  },
  {
   "cell_type": "markdown",
   "metadata": {},
   "source": [
    "**Par rapport à Soundex :** Phonetic algorithm designed to index words (particularly names) based on their pronunciation rather than their spelling. This is especially useful when trying to find names that sound similar but are spelled differently."
   ]
  },
  {
   "cell_type": "markdown",
   "metadata": {},
   "source": [
    "## 2. Scaling features and PCA"
   ]
  },
  {
   "cell_type": "code",
   "execution_count": 17,
   "metadata": {},
   "outputs": [],
   "source": [
    "class PCAProcessor:\n",
    "    def __init__(self, n_components=100):\n",
    "        \"\"\"\n",
    "        Initialize the PCAProcessor with a specified number of components.\n",
    "        \"\"\"\n",
    "        self.n_components = n_components\n",
    "        self.scaler = StandardScaler()\n",
    "        self.pca = PCA(n_components=n_components)\n",
    "        self.pca_features = None\n",
    "        self.explained_variance_ratio_ = None\n",
    "\n",
    "    def fit_transform(self, df, drop_columns=None):\n",
    "        \"\"\"\n",
    "        Fit the PCA model and transform the input DataFrame.\n",
    "        \"\"\"\n",
    "        # Drop specified columns if provided\n",
    "        if drop_columns:\n",
    "            df_features = df.drop(columns=drop_columns)\n",
    "        else:\n",
    "            df_features = df.copy()\n",
    "\n",
    "        # Standardize the data\n",
    "        features_scaled = self.scaler.fit_transform(df_features)\n",
    "\n",
    "        # Apply PCA\n",
    "        self.pca_features = self.pca.fit_transform(features_scaled)\n",
    "        self.explained_variance_ratio_ = self.pca.explained_variance_ratio_\n",
    "\n",
    "        # Create a DataFrame for the PCA-transformed data\n",
    "        pca_columns = [f'PC{i+1}' for i in range(self.n_components)]\n",
    "        return pd.DataFrame(self.pca_features, columns=pca_columns, index=df.index)\n",
    "\n",
    "    def plot_explained_variance(self):\n",
    "        \"\"\"\n",
    "        Plot the cumulative explained variance by PCA components.\n",
    "        \"\"\"\n",
    "        if self.explained_variance_ratio_ is None:\n",
    "            raise ValueError(\"PCA has not been fitted. Run `fit_transform` first.\")\n",
    "        \n",
    "        plt.figure(figsize=(8, 5))\n",
    "        plt.plot(self.pca.explained_variance_ratio_.cumsum())\n",
    "        plt.title(\"Cumulative Explained Variance by PCA Components\")\n",
    "        plt.xlabel(\"Number of Components\")\n",
    "        plt.ylabel(\"Cumulative Explained Variance\")\n",
    "        plt.grid()\n",
    "        plt.show()\n",
    "\n",
    "    def merge_with_original(self, original_df, pca_df, keep_columns):\n",
    "        \"\"\"\n",
    "        Merge the PCA-transformed DataFrame with the original DataFrame.\n",
    "        \"\"\"\n",
    "        # Retain only specified columns and merge with PCA DataFrame\n",
    "        merged_df = pd.concat([original_df[keep_columns], pca_df], axis=1)\n",
    "        return merged_df"
   ]
  },
  {
   "cell_type": "code",
   "execution_count": 18,
   "metadata": {},
   "outputs": [
    {
     "data": {
      "image/png": "[encoded data removed]",
      "text/plain": [
       "<Figure size 800x500 with 1 Axes>"
      ]
     },
     "metadata": {},
     "output_type": "display_data"
    },
    {
     "data": {
      "text/html": [
       "<div>\n",
       "<style scoped>\n",
       "    .dataframe tbody tr th:only-of-type {\n",
       "        vertical-align: middle;\n",
       "    }\n",
       "\n",
       "    .dataframe tbody tr th {\n",
       "        vertical-align: top;\n",
       "    }\n",
       "\n",
       "    .dataframe thead th {\n",
       "        text-align: right;\n",
       "    }\n",
       "</style>\n",
       "<table border=\"1\" class=\"dataframe\">\n",
       "  <thead>\n",
       "    <tr style=\"text-align: right;\">\n",
       "      <th></th>\n",
       "      <th>Name</th>\n",
       "      <th>Country</th>\n",
       "      <th>PC1</th>\n",
       "      <th>PC2</th>\n",
       "      <th>PC3</th>\n",
       "      <th>PC4</th>\n",
       "      <th>PC5</th>\n",
       "      <th>PC6</th>\n",
       "      <th>PC7</th>\n",
       "      <th>PC8</th>\n",
       "      <th>...</th>\n",
       "      <th>PC71</th>\n",
       "      <th>PC72</th>\n",
       "      <th>PC73</th>\n",
       "      <th>PC74</th>\n",
       "      <th>PC75</th>\n",
       "      <th>PC76</th>\n",
       "      <th>PC77</th>\n",
       "      <th>PC78</th>\n",
       "      <th>PC79</th>\n",
       "      <th>PC80</th>\n",
       "    </tr>\n",
       "  </thead>\n",
       "  <tbody>\n",
       "    <tr>\n",
       "      <th>0</th>\n",
       "      <td>Vaclav</td>\n",
       "      <td>0</td>\n",
       "      <td>3.375457</td>\n",
       "      <td>5.933314</td>\n",
       "      <td>-0.800449</td>\n",
       "      <td>-0.142647</td>\n",
       "      <td>0.106128</td>\n",
       "      <td>-0.940419</td>\n",
       "      <td>1.260163</td>\n",
       "      <td>-2.876233</td>\n",
       "      <td>...</td>\n",
       "      <td>3.441870</td>\n",
       "      <td>5.262892</td>\n",
       "      <td>0.117860</td>\n",
       "      <td>0.276800</td>\n",
       "      <td>1.680026</td>\n",
       "      <td>-0.058108</td>\n",
       "      <td>-3.972486</td>\n",
       "      <td>-5.483624</td>\n",
       "      <td>-3.233124</td>\n",
       "      <td>-0.192921</td>\n",
       "    </tr>\n",
       "    <tr>\n",
       "      <th>1</th>\n",
       "      <td>Allan</td>\n",
       "      <td>0</td>\n",
       "      <td>0.072302</td>\n",
       "      <td>-0.662401</td>\n",
       "      <td>-1.221378</td>\n",
       "      <td>-0.108184</td>\n",
       "      <td>0.094427</td>\n",
       "      <td>-0.619220</td>\n",
       "      <td>0.222262</td>\n",
       "      <td>-0.818850</td>\n",
       "      <td>...</td>\n",
       "      <td>0.744281</td>\n",
       "      <td>0.852214</td>\n",
       "      <td>-0.402074</td>\n",
       "      <td>0.136730</td>\n",
       "      <td>0.101293</td>\n",
       "      <td>-0.894125</td>\n",
       "      <td>0.212701</td>\n",
       "      <td>0.702109</td>\n",
       "      <td>-0.423014</td>\n",
       "      <td>-0.436861</td>\n",
       "    </tr>\n",
       "    <tr>\n",
       "      <th>2</th>\n",
       "      <td>Kristine</td>\n",
       "      <td>1</td>\n",
       "      <td>4.832942</td>\n",
       "      <td>0.997434</td>\n",
       "      <td>11.448029</td>\n",
       "      <td>-0.291063</td>\n",
       "      <td>3.450899</td>\n",
       "      <td>-2.620453</td>\n",
       "      <td>-5.209369</td>\n",
       "      <td>1.330247</td>\n",
       "      <td>...</td>\n",
       "      <td>-2.336824</td>\n",
       "      <td>0.109955</td>\n",
       "      <td>-1.339495</td>\n",
       "      <td>-0.012012</td>\n",
       "      <td>1.101556</td>\n",
       "      <td>0.993812</td>\n",
       "      <td>-0.375707</td>\n",
       "      <td>-2.666031</td>\n",
       "      <td>-1.081179</td>\n",
       "      <td>1.156881</td>\n",
       "    </tr>\n",
       "    <tr>\n",
       "      <th>3</th>\n",
       "      <td>Matteo</td>\n",
       "      <td>2</td>\n",
       "      <td>-1.388654</td>\n",
       "      <td>0.087257</td>\n",
       "      <td>0.276795</td>\n",
       "      <td>-0.093901</td>\n",
       "      <td>1.343206</td>\n",
       "      <td>0.575072</td>\n",
       "      <td>-0.725777</td>\n",
       "      <td>0.457460</td>\n",
       "      <td>...</td>\n",
       "      <td>-4.729189</td>\n",
       "      <td>-1.069945</td>\n",
       "      <td>0.705029</td>\n",
       "      <td>-0.382351</td>\n",
       "      <td>-0.472382</td>\n",
       "      <td>0.212272</td>\n",
       "      <td>-0.637468</td>\n",
       "      <td>1.407488</td>\n",
       "      <td>-0.017055</td>\n",
       "      <td>1.338887</td>\n",
       "    </tr>\n",
       "    <tr>\n",
       "      <th>4</th>\n",
       "      <td>Isao</td>\n",
       "      <td>3</td>\n",
       "      <td>-2.459071</td>\n",
       "      <td>-0.431267</td>\n",
       "      <td>-1.578985</td>\n",
       "      <td>-0.041988</td>\n",
       "      <td>2.093049</td>\n",
       "      <td>-0.716848</td>\n",
       "      <td>-0.775903</td>\n",
       "      <td>-0.182706</td>\n",
       "      <td>...</td>\n",
       "      <td>1.852388</td>\n",
       "      <td>0.262499</td>\n",
       "      <td>-0.724565</td>\n",
       "      <td>0.652475</td>\n",
       "      <td>0.180927</td>\n",
       "      <td>0.859043</td>\n",
       "      <td>0.736041</td>\n",
       "      <td>-0.981006</td>\n",
       "      <td>-0.075532</td>\n",
       "      <td>0.741036</td>\n",
       "    </tr>\n",
       "  </tbody>\n",
       "</table>\n",
       "<p>5 rows × 82 columns</p>\n",
       "</div>"
      ],
      "text/plain": [
       "       Name  Country       PC1       PC2        PC3       PC4       PC5  \\\n",
       "0    Vaclav        0  3.375457  5.933314  -0.800449 -0.142647  0.106128   \n",
       "1     Allan        0  0.072302 -0.662401  -1.221378 -0.108184  0.094427   \n",
       "2  Kristine        1  4.832942  0.997434  11.448029 -0.291063  3.450899   \n",
       "3    Matteo        2 -1.388654  0.087257   0.276795 -0.093901  1.343206   \n",
       "4      Isao        3 -2.459071 -0.431267  -1.578985 -0.041988  2.093049   \n",
       "\n",
       "        PC6       PC7       PC8  ...      PC71      PC72      PC73      PC74  \\\n",
       "0 -0.940419  1.260163 -2.876233  ...  3.441870  5.262892  0.117860  0.276800   \n",
       "1 -0.619220  0.222262 -0.818850  ...  0.744281  0.852214 -0.402074  0.136730   \n",
       "2 -2.620453 -5.209369  1.330247  ... -2.336824  0.109955 -1.339495 -0.012012   \n",
       "3  0.575072 -0.725777  0.457460  ... -4.729189 -1.069945  0.705029 -0.382351   \n",
       "4 -0.716848 -0.775903 -0.182706  ...  1.852388  0.262499 -0.724565  0.652475   \n",
       "\n",
       "       PC75      PC76      PC77      PC78      PC79      PC80  \n",
       "0  1.680026 -0.058108 -3.972486 -5.483624 -3.233124 -0.192921  \n",
       "1  0.101293 -0.894125  0.212701  0.702109 -0.423014 -0.436861  \n",
       "2  1.101556  0.993812 -0.375707 -2.666031 -1.081179  1.156881  \n",
       "3 -0.472382  0.212272 -0.637468  1.407488 -0.017055  1.338887  \n",
       "4  0.180927  0.859043  0.736041 -0.981006 -0.075532  0.741036  \n",
       "\n",
       "[5 rows x 82 columns]"
      ]
     },
     "execution_count": 18,
     "metadata": {},
     "output_type": "execute_result"
    }
   ],
   "source": [
    "# Choice of number of PCA kept cmponents\n",
    "n=80\n",
    "\n",
    "# PCAProcessor\n",
    "pca_processor = PCAProcessor(n_components=n)\n",
    "pca_df = pca_processor.fit_transform(df_ethnicity_processed, drop_columns=['Name', 'Country']) # Fit PCA and transform the data\n",
    "pca_processor.plot_explained_variance() # Plot explained variance\n",
    "df_ethnicity_pca = pca_processor.merge_with_original(df_ethnicity_processed, pca_df, keep_columns=['Name', 'Country']) # Merge PCA components with original columns ('Name' and 'Country')\n",
    "\n",
    "df_ethnicity_pca.head()"
   ]
  },
  {
   "cell_type": "code",
   "execution_count": 19,
   "metadata": {},
   "outputs": [
    {
     "name": "stdout",
     "output_type": "stream",
     "text": [
      "There are 9999 samples in the training set.\n",
      "There are 2500 samples in the testing set.\n"
     ]
    }
   ],
   "source": [
    "# Define features and targets\n",
    "X = df_ethnicity_pca.drop(columns=['Name','Country'])\n",
    "y = df_ethnicity_pca['Country']\n",
    "\n",
    "# Train-test split\n",
    "X_train, X_test, y_train, y_test = train_test_split(X, y, test_size=0.2)\n",
    "\n",
    "print(f\"There are {X_train.shape[0]} samples in the training set.\")\n",
    "print(f\"There are {X_test.shape[0]} samples in the testing set.\")"
   ]
  },
  {
   "cell_type": "code",
   "execution_count": 20,
   "metadata": {},
   "outputs": [],
   "source": [
    "scaler = StandardScaler()\n",
    "X_train = scaler.fit_transform(X_train)\n",
    "X_test = scaler.fit_transform(X_test)\n",
    "\n",
    "X_train = sm.add_constant(X_train)\n",
    "X_test = sm.add_constant(X_test)\n",
    "\n",
    "# columns = [\"Constant\"] + list(df_ethnicity_pca.drop(columns=['Name','Country']).columns) \n",
    "# df_X_train = pd.DataFrame(X_train, columns=columns)"
   ]
  },
  {
   "cell_type": "code",
   "execution_count": 21,
   "metadata": {},
   "outputs": [
    {
     "name": "stdout",
     "output_type": "stream",
     "text": [
      "Accuracy: 0.7108\n",
      "Classification Report:\n",
      "              precision    recall  f1-score   support\n",
      "\n",
      "           0       0.79      0.86      0.82       585\n",
      "           1       0.82      0.37      0.51       177\n",
      "           2       0.69      0.68      0.69       348\n",
      "           3       0.91      0.83      0.87       151\n",
      "           4       0.65      0.65      0.65       483\n",
      "           5       0.65      0.80      0.71       579\n",
      "           6       0.68      0.43      0.53       177\n",
      "\n",
      "    accuracy                           0.71      2500\n",
      "   macro avg       0.74      0.66      0.68      2500\n",
      "weighted avg       0.72      0.71      0.70      2500\n",
      "\n"
     ]
    }
   ],
   "source": [
    "# Initialize the classifier\n",
    "model = RandomForestClassifier(random_state=42)\n",
    "\n",
    "# Train the classifier\n",
    "model.fit(X_train, y_train)\n",
    "\n",
    "# Predict on the test set\n",
    "y_pred = model.predict(X_test)\n",
    "\n",
    "# Evaluate Accuracy\n",
    "accuracy = accuracy_score(y_test, y_pred)\n",
    "print(f\"Accuracy: {accuracy}\")\n",
    "\n",
    "# Detailed classification report\n",
    "report = classification_report(y_test, y_pred)\n",
    "print(\"Classification Report:\")\n",
    "print(report)"
   ]
  },
  {
   "cell_type": "markdown",
   "metadata": {},
   "source": [
    "Ça run pas, dans l'idée c'est une cross validation pour tuner n (le nombre de principal componants qu'on va prendre)"
   ]
  },
  {
   "cell_type": "code",
   "execution_count": 22,
   "metadata": {},
   "outputs": [],
   "source": [
    "# from sklearn.decomposition import PCA\n",
    "# from sklearn.model_selection import cross_val_score\n",
    "# from sklearn.ensemble import RandomForestClassifier\n",
    "# import matplotlib.pyplot as plt\n",
    "# import numpy as np\n",
    "\n",
    "# # List to store results\n",
    "# results = []\n",
    "\n",
    "# # Get the number of features in X (ensure it's not less than n_components)\n",
    "# n_features = X.shape[1]\n",
    "\n",
    "# # Iterate over the number of PCA components, from 50 to the number of features (n_features), in steps of 10\n",
    "# for n in range(10, 100, 5):  # Ensure n <= n_features\n",
    "#     # Apply PCA with n components\n",
    "#     pca = PCA(n_components=n)\n",
    "#     X_reduced = pca.fit_transform(X)\n",
    "\n",
    "#     # Train and evaluate the model with cross-validation\n",
    "#     model = RandomForestClassifier()\n",
    "#     scores = cross_val_score(\n",
    "#         model, X_reduced, y, cv=5, scoring='neg_mean_squared_error'\n",
    "#     )\n",
    "#     # Store the mean of absolute MSE scores\n",
    "#     mean_mse = -np.mean(scores)\n",
    "#     results.append((n, mean_mse))\n",
    "\n",
    "# # Find the best number of components\n",
    "# best_n, best_score = min(results, key=lambda x: x[1])  # Minimize error\n",
    "# print(f\"Best number of components: {best_n}, Lowest MSE: {best_score}\")\n",
    "\n",
    "# # Plot results\n",
    "# plt.plot([r[0] for r in results], [r[1] for r in results])\n",
    "# plt.xlabel('Number of Components')\n",
    "# plt.ylabel('Mean Squared Error (MSE)')\n",
    "# plt.title('Model Performance vs Number of Components')\n",
    "# plt.show()"
   ]
  },
  {
   "cell_type": "markdown",
   "metadata": {},
   "source": [
    "# 4 Predict ethnicities of the character dataset"
   ]
  },
  {
   "cell_type": "code",
   "execution_count": 23,
   "metadata": {},
   "outputs": [
    {
     "name": "stdout",
     "output_type": "stream",
     "text": [
      "Unusual Characters Found: {'â', 'ú', 'ū', 'è', 'ü', 'ì', 'Þ', 'þ', 'ô', 'š', 'í', 'û', 'ß', 'å', 'Í', 'ç', 'á', 'ō', 'Ô', 'ð', 'ý', 'ž', 'æ', 'É', 'ï', 'Á', 'ù', 'ë', 'ñ', 'Ó', 'Ø', 'ê', 'ö', 'Ö', 'È', 'Â', 'õ', 'Å', 'ł', '-', 'î', 'ó', 'ø', 'é', 'À', 'à', 'Õ', 'ã', 'ä', 'ś', 'ò', 'с'}\n"
     ]
    }
   ],
   "source": [
    "df_character = pd.read_csv('data/cleaned.csv', usecols=['Character_name'])\n",
    "find_unusual_characters(df_character, 'Character_name')"
   ]
  },
  {
   "cell_type": "code",
   "execution_count": 24,
   "metadata": {},
   "outputs": [],
   "source": [
    "df_names = pd.DataFrame(df_character[['Character_name']].rename(columns={'Character_name': 'Name'})).drop_duplicates()\n",
    "\n",
    "df_names_1000 = df_names.head(10000).reset_index(drop=True)"
   ]
  },
  {
   "cell_type": "code",
   "execution_count": 25,
   "metadata": {},
   "outputs": [],
   "source": [
    "# Process character_names\n",
    "processor = EthnicityDataProcessor(ngram_range=(2, 3))\n",
    "character_names_processed = processor.process(df_names_1000)"
   ]
  },
  {
   "cell_type": "code",
   "execution_count": 26,
   "metadata": {},
   "outputs": [
    {
     "data": {
      "text/html": [
       "<div>\n",
       "<style scoped>\n",
       "    .dataframe tbody tr th:only-of-type {\n",
       "        vertical-align: middle;\n",
       "    }\n",
       "\n",
       "    .dataframe tbody tr th {\n",
       "        vertical-align: top;\n",
       "    }\n",
       "\n",
       "    .dataframe thead th {\n",
       "        text-align: right;\n",
       "    }\n",
       "</style>\n",
       "<table border=\"1\" class=\"dataframe\">\n",
       "  <thead>\n",
       "    <tr style=\"text-align: right;\">\n",
       "      <th></th>\n",
       "      <th>Name</th>\n",
       "      <th>Length</th>\n",
       "      <th>Vowel Count</th>\n",
       "      <th>Consonant Count</th>\n",
       "      <th>Vowel/Consonant Ratio</th>\n",
       "      <th>â</th>\n",
       "      <th>ú</th>\n",
       "      <th>ū</th>\n",
       "      <th>è</th>\n",
       "      <th>ü</th>\n",
       "      <th>...</th>\n",
       "      <th>ür</th>\n",
       "      <th>ürg</th>\n",
       "      <th>ürr</th>\n",
       "      <th>ürs</th>\n",
       "      <th>üt</th>\n",
       "      <th>ütt</th>\n",
       "      <th>üz</th>\n",
       "      <th>üzi</th>\n",
       "      <th>ūs</th>\n",
       "      <th>ūsa</th>\n",
       "    </tr>\n",
       "  </thead>\n",
       "  <tbody>\n",
       "    <tr>\n",
       "      <th>5266</th>\n",
       "      <td>Busty</td>\n",
       "      <td>5.0</td>\n",
       "      <td>2.0</td>\n",
       "      <td>3.0</td>\n",
       "      <td>0.666667</td>\n",
       "      <td>0</td>\n",
       "      <td>0</td>\n",
       "      <td>0</td>\n",
       "      <td>0</td>\n",
       "      <td>0</td>\n",
       "      <td>...</td>\n",
       "      <td>0</td>\n",
       "      <td>0</td>\n",
       "      <td>0</td>\n",
       "      <td>0</td>\n",
       "      <td>0</td>\n",
       "      <td>0</td>\n",
       "      <td>0</td>\n",
       "      <td>0</td>\n",
       "      <td>0</td>\n",
       "      <td>0</td>\n",
       "    </tr>\n",
       "    <tr>\n",
       "      <th>2632</th>\n",
       "      <td>Rosalinda</td>\n",
       "      <td>9.0</td>\n",
       "      <td>4.0</td>\n",
       "      <td>5.0</td>\n",
       "      <td>0.800000</td>\n",
       "      <td>0</td>\n",
       "      <td>0</td>\n",
       "      <td>0</td>\n",
       "      <td>0</td>\n",
       "      <td>0</td>\n",
       "      <td>...</td>\n",
       "      <td>0</td>\n",
       "      <td>0</td>\n",
       "      <td>0</td>\n",
       "      <td>0</td>\n",
       "      <td>0</td>\n",
       "      <td>0</td>\n",
       "      <td>0</td>\n",
       "      <td>0</td>\n",
       "      <td>0</td>\n",
       "      <td>0</td>\n",
       "    </tr>\n",
       "    <tr>\n",
       "      <th>610</th>\n",
       "      <td>Linda</td>\n",
       "      <td>5.0</td>\n",
       "      <td>2.0</td>\n",
       "      <td>3.0</td>\n",
       "      <td>0.666667</td>\n",
       "      <td>0</td>\n",
       "      <td>0</td>\n",
       "      <td>0</td>\n",
       "      <td>0</td>\n",
       "      <td>0</td>\n",
       "      <td>...</td>\n",
       "      <td>0</td>\n",
       "      <td>0</td>\n",
       "      <td>0</td>\n",
       "      <td>0</td>\n",
       "      <td>0</td>\n",
       "      <td>0</td>\n",
       "      <td>0</td>\n",
       "      <td>0</td>\n",
       "      <td>0</td>\n",
       "      <td>0</td>\n",
       "    </tr>\n",
       "    <tr>\n",
       "      <th>9093</th>\n",
       "      <td>Wade</td>\n",
       "      <td>4.0</td>\n",
       "      <td>2.0</td>\n",
       "      <td>2.0</td>\n",
       "      <td>1.000000</td>\n",
       "      <td>0</td>\n",
       "      <td>0</td>\n",
       "      <td>0</td>\n",
       "      <td>0</td>\n",
       "      <td>0</td>\n",
       "      <td>...</td>\n",
       "      <td>0</td>\n",
       "      <td>0</td>\n",
       "      <td>0</td>\n",
       "      <td>0</td>\n",
       "      <td>0</td>\n",
       "      <td>0</td>\n",
       "      <td>0</td>\n",
       "      <td>0</td>\n",
       "      <td>0</td>\n",
       "      <td>0</td>\n",
       "    </tr>\n",
       "    <tr>\n",
       "      <th>8031</th>\n",
       "      <td>Rajdharbhau</td>\n",
       "      <td>11.0</td>\n",
       "      <td>4.0</td>\n",
       "      <td>7.0</td>\n",
       "      <td>0.571429</td>\n",
       "      <td>0</td>\n",
       "      <td>0</td>\n",
       "      <td>0</td>\n",
       "      <td>0</td>\n",
       "      <td>0</td>\n",
       "      <td>...</td>\n",
       "      <td>0</td>\n",
       "      <td>0</td>\n",
       "      <td>0</td>\n",
       "      <td>0</td>\n",
       "      <td>0</td>\n",
       "      <td>0</td>\n",
       "      <td>0</td>\n",
       "      <td>0</td>\n",
       "      <td>0</td>\n",
       "      <td>0</td>\n",
       "    </tr>\n",
       "    <tr>\n",
       "      <th>159</th>\n",
       "      <td>Manjit</td>\n",
       "      <td>6.0</td>\n",
       "      <td>2.0</td>\n",
       "      <td>4.0</td>\n",
       "      <td>0.500000</td>\n",
       "      <td>0</td>\n",
       "      <td>0</td>\n",
       "      <td>0</td>\n",
       "      <td>0</td>\n",
       "      <td>0</td>\n",
       "      <td>...</td>\n",
       "      <td>0</td>\n",
       "      <td>0</td>\n",
       "      <td>0</td>\n",
       "      <td>0</td>\n",
       "      <td>0</td>\n",
       "      <td>0</td>\n",
       "      <td>0</td>\n",
       "      <td>0</td>\n",
       "      <td>0</td>\n",
       "      <td>0</td>\n",
       "    </tr>\n",
       "    <tr>\n",
       "      <th>4980</th>\n",
       "      <td>Gonzales</td>\n",
       "      <td>8.0</td>\n",
       "      <td>3.0</td>\n",
       "      <td>5.0</td>\n",
       "      <td>0.600000</td>\n",
       "      <td>0</td>\n",
       "      <td>0</td>\n",
       "      <td>0</td>\n",
       "      <td>0</td>\n",
       "      <td>0</td>\n",
       "      <td>...</td>\n",
       "      <td>0</td>\n",
       "      <td>0</td>\n",
       "      <td>0</td>\n",
       "      <td>0</td>\n",
       "      <td>0</td>\n",
       "      <td>0</td>\n",
       "      <td>0</td>\n",
       "      <td>0</td>\n",
       "      <td>0</td>\n",
       "      <td>0</td>\n",
       "    </tr>\n",
       "    <tr>\n",
       "      <th>3302</th>\n",
       "      <td>Tia</td>\n",
       "      <td>3.0</td>\n",
       "      <td>2.0</td>\n",
       "      <td>1.0</td>\n",
       "      <td>2.000000</td>\n",
       "      <td>0</td>\n",
       "      <td>0</td>\n",
       "      <td>0</td>\n",
       "      <td>0</td>\n",
       "      <td>0</td>\n",
       "      <td>...</td>\n",
       "      <td>0</td>\n",
       "      <td>0</td>\n",
       "      <td>0</td>\n",
       "      <td>0</td>\n",
       "      <td>0</td>\n",
       "      <td>0</td>\n",
       "      <td>0</td>\n",
       "      <td>0</td>\n",
       "      <td>0</td>\n",
       "      <td>0</td>\n",
       "    </tr>\n",
       "    <tr>\n",
       "      <th>9520</th>\n",
       "      <td>Ari</td>\n",
       "      <td>3.0</td>\n",
       "      <td>2.0</td>\n",
       "      <td>1.0</td>\n",
       "      <td>2.000000</td>\n",
       "      <td>0</td>\n",
       "      <td>0</td>\n",
       "      <td>0</td>\n",
       "      <td>0</td>\n",
       "      <td>0</td>\n",
       "      <td>...</td>\n",
       "      <td>0</td>\n",
       "      <td>0</td>\n",
       "      <td>0</td>\n",
       "      <td>0</td>\n",
       "      <td>0</td>\n",
       "      <td>0</td>\n",
       "      <td>0</td>\n",
       "      <td>0</td>\n",
       "      <td>0</td>\n",
       "      <td>0</td>\n",
       "    </tr>\n",
       "    <tr>\n",
       "      <th>5627</th>\n",
       "      <td>Andra</td>\n",
       "      <td>5.0</td>\n",
       "      <td>2.0</td>\n",
       "      <td>3.0</td>\n",
       "      <td>0.666667</td>\n",
       "      <td>0</td>\n",
       "      <td>0</td>\n",
       "      <td>0</td>\n",
       "      <td>0</td>\n",
       "      <td>0</td>\n",
       "      <td>...</td>\n",
       "      <td>0</td>\n",
       "      <td>0</td>\n",
       "      <td>0</td>\n",
       "      <td>0</td>\n",
       "      <td>0</td>\n",
       "      <td>0</td>\n",
       "      <td>0</td>\n",
       "      <td>0</td>\n",
       "      <td>0</td>\n",
       "      <td>0</td>\n",
       "    </tr>\n",
       "  </tbody>\n",
       "</table>\n",
       "<p>10 rows × 8919 columns</p>\n",
       "</div>"
      ],
      "text/plain": [
       "             Name  Length  Vowel Count  Consonant Count  \\\n",
       "5266        Busty     5.0          2.0              3.0   \n",
       "2632    Rosalinda     9.0          4.0              5.0   \n",
       "610         Linda     5.0          2.0              3.0   \n",
       "9093         Wade     4.0          2.0              2.0   \n",
       "8031  Rajdharbhau    11.0          4.0              7.0   \n",
       "159        Manjit     6.0          2.0              4.0   \n",
       "4980     Gonzales     8.0          3.0              5.0   \n",
       "3302          Tia     3.0          2.0              1.0   \n",
       "9520          Ari     3.0          2.0              1.0   \n",
       "5627        Andra     5.0          2.0              3.0   \n",
       "\n",
       "      Vowel/Consonant Ratio  â  ú  ū  è  ü  ...  ür  ürg  ürr  ürs  üt  ütt  \\\n",
       "5266               0.666667  0  0  0  0  0  ...   0    0    0    0   0    0   \n",
       "2632               0.800000  0  0  0  0  0  ...   0    0    0    0   0    0   \n",
       "610                0.666667  0  0  0  0  0  ...   0    0    0    0   0    0   \n",
       "9093               1.000000  0  0  0  0  0  ...   0    0    0    0   0    0   \n",
       "8031               0.571429  0  0  0  0  0  ...   0    0    0    0   0    0   \n",
       "159                0.500000  0  0  0  0  0  ...   0    0    0    0   0    0   \n",
       "4980               0.600000  0  0  0  0  0  ...   0    0    0    0   0    0   \n",
       "3302               2.000000  0  0  0  0  0  ...   0    0    0    0   0    0   \n",
       "9520               2.000000  0  0  0  0  0  ...   0    0    0    0   0    0   \n",
       "5627               0.666667  0  0  0  0  0  ...   0    0    0    0   0    0   \n",
       "\n",
       "      üz  üzi  ūs  ūsa  \n",
       "5266   0    0   0    0  \n",
       "2632   0    0   0    0  \n",
       "610    0    0   0    0  \n",
       "9093   0    0   0    0  \n",
       "8031   0    0   0    0  \n",
       "159    0    0   0    0  \n",
       "4980   0    0   0    0  \n",
       "3302   0    0   0    0  \n",
       "9520   0    0   0    0  \n",
       "5627   0    0   0    0  \n",
       "\n",
       "[10 rows x 8919 columns]"
      ]
     },
     "execution_count": 26,
     "metadata": {},
     "output_type": "execute_result"
    }
   ],
   "source": [
    "character_names_processed.sample(10)"
   ]
  },
  {
   "cell_type": "code",
   "execution_count": 27,
   "metadata": {},
   "outputs": [
    {
     "data": {
      "text/plain": [
       "Name                     0\n",
       "Length                   0\n",
       "Vowel Count              0\n",
       "Consonant Count          0\n",
       "Vowel/Consonant Ratio    0\n",
       "                        ..\n",
       "ütt                      0\n",
       "üz                       0\n",
       "üzi                      0\n",
       "ūs                       0\n",
       "ūsa                      0\n",
       "Length: 8919, dtype: int64"
      ]
     },
     "execution_count": 27,
     "metadata": {},
     "output_type": "execute_result"
    }
   ],
   "source": [
    "character_names_processed.isna().sum()  # Check for NaN values"
   ]
  },
  {
   "cell_type": "code",
   "execution_count": 28,
   "metadata": {},
   "outputs": [
    {
     "name": "stdout",
     "output_type": "stream",
     "text": [
      "Empty DataFrame\n",
      "Columns: [Name, Length, Vowel Count, Consonant Count, Vowel/Consonant Ratio, â, ú, ū, è, ü, ô, í, û, ß, å, ç, á, ý, æ, ï, ë, ñ, ö, ê, î, ó, ø, é, à, ã, ä, Soundex_A000, Soundex_A100, Soundex_A122, Soundex_A123, Soundex_A124, Soundex_A125, Soundex_A126, Soundex_A130, Soundex_A131, Soundex_A133, Soundex_A134, Soundex_A136, Soundex_A140, Soundex_A141, Soundex_A142, Soundex_A145, Soundex_A146, Soundex_A152, Soundex_A153, Soundex_A156, Soundex_A160, Soundex_A162, Soundex_A164, Soundex_A165, Soundex_A200, Soundex_A210, Soundex_A212, Soundex_A216, Soundex_A220, Soundex_A223, Soundex_A224, Soundex_A225, Soundex_A230, Soundex_A232, Soundex_A235, Soundex_A236, Soundex_A240, Soundex_A242, Soundex_A243, Soundex_A245, Soundex_A250, Soundex_A251, Soundex_A252, Soundex_A253, Soundex_A255, Soundex_A260, Soundex_A261, Soundex_A262, Soundex_A263, Soundex_A264, Soundex_A265, Soundex_A300, Soundex_A310, Soundex_A312, Soundex_A320, Soundex_A322, Soundex_A323, Soundex_A325, Soundex_A330, Soundex_A335, Soundex_A336, Soundex_A340, Soundex_A341, Soundex_A343, Soundex_A345, Soundex_A346, Soundex_A350, Soundex_A352, Soundex_A353, ...]\n",
      "Index: []\n",
      "\n",
      "[0 rows x 8919 columns]\n"
     ]
    }
   ],
   "source": [
    "print(character_names_processed[character_names_processed['Name'].isna()])  # Inspect rows with NaN in 'Name'"
   ]
  },
  {
   "cell_type": "code",
   "execution_count": 29,
   "metadata": {},
   "outputs": [
    {
     "data": {
      "image/png": "[encoded data removed]",
      "text/plain": [
       "<Figure size 800x500 with 1 Axes>"
      ]
     },
     "metadata": {},
     "output_type": "display_data"
    },
    {
     "data": {
      "text/html": [
       "<div>\n",
       "<style scoped>\n",
       "    .dataframe tbody tr th:only-of-type {\n",
       "        vertical-align: middle;\n",
       "    }\n",
       "\n",
       "    .dataframe tbody tr th {\n",
       "        vertical-align: top;\n",
       "    }\n",
       "\n",
       "    .dataframe thead th {\n",
       "        text-align: right;\n",
       "    }\n",
       "</style>\n",
       "<table border=\"1\" class=\"dataframe\">\n",
       "  <thead>\n",
       "    <tr style=\"text-align: right;\">\n",
       "      <th></th>\n",
       "      <th>Name</th>\n",
       "      <th>PC1</th>\n",
       "      <th>PC2</th>\n",
       "      <th>PC3</th>\n",
       "      <th>PC4</th>\n",
       "      <th>PC5</th>\n",
       "      <th>PC6</th>\n",
       "      <th>PC7</th>\n",
       "      <th>PC8</th>\n",
       "      <th>PC9</th>\n",
       "      <th>...</th>\n",
       "      <th>PC71</th>\n",
       "      <th>PC72</th>\n",
       "      <th>PC73</th>\n",
       "      <th>PC74</th>\n",
       "      <th>PC75</th>\n",
       "      <th>PC76</th>\n",
       "      <th>PC77</th>\n",
       "      <th>PC78</th>\n",
       "      <th>PC79</th>\n",
       "      <th>PC80</th>\n",
       "    </tr>\n",
       "  </thead>\n",
       "  <tbody>\n",
       "    <tr>\n",
       "      <th>0</th>\n",
       "      <td>Akooshay</td>\n",
       "      <td>-0.567194</td>\n",
       "      <td>0.187206</td>\n",
       "      <td>-0.356369</td>\n",
       "      <td>-0.266558</td>\n",
       "      <td>0.009756</td>\n",
       "      <td>-0.465318</td>\n",
       "      <td>-2.130915</td>\n",
       "      <td>2.722023</td>\n",
       "      <td>-1.110190</td>\n",
       "      <td>...</td>\n",
       "      <td>-0.480959</td>\n",
       "      <td>-1.944943</td>\n",
       "      <td>-1.325341</td>\n",
       "      <td>-0.219634</td>\n",
       "      <td>-0.713543</td>\n",
       "      <td>0.497254</td>\n",
       "      <td>-1.350825</td>\n",
       "      <td>-1.019163</td>\n",
       "      <td>-0.490050</td>\n",
       "      <td>1.503446</td>\n",
       "    </tr>\n",
       "    <tr>\n",
       "      <th>1</th>\n",
       "      <td>Melanie</td>\n",
       "      <td>-0.356841</td>\n",
       "      <td>0.084950</td>\n",
       "      <td>-0.500081</td>\n",
       "      <td>0.151834</td>\n",
       "      <td>-0.164802</td>\n",
       "      <td>-0.188571</td>\n",
       "      <td>-1.461496</td>\n",
       "      <td>-0.561091</td>\n",
       "      <td>0.386188</td>\n",
       "      <td>...</td>\n",
       "      <td>0.147304</td>\n",
       "      <td>-1.298767</td>\n",
       "      <td>0.287434</td>\n",
       "      <td>-0.276892</td>\n",
       "      <td>-0.110165</td>\n",
       "      <td>0.342084</td>\n",
       "      <td>1.129713</td>\n",
       "      <td>-1.031607</td>\n",
       "      <td>-0.098117</td>\n",
       "      <td>-0.617347</td>\n",
       "    </tr>\n",
       "    <tr>\n",
       "      <th>2</th>\n",
       "      <td>Williams</td>\n",
       "      <td>-0.273818</td>\n",
       "      <td>0.094751</td>\n",
       "      <td>-0.311389</td>\n",
       "      <td>-0.206904</td>\n",
       "      <td>-0.249199</td>\n",
       "      <td>-0.131653</td>\n",
       "      <td>0.195034</td>\n",
       "      <td>-1.068606</td>\n",
       "      <td>0.312294</td>\n",
       "      <td>...</td>\n",
       "      <td>2.326849</td>\n",
       "      <td>1.602386</td>\n",
       "      <td>-0.864185</td>\n",
       "      <td>-0.062153</td>\n",
       "      <td>-0.417385</td>\n",
       "      <td>0.251591</td>\n",
       "      <td>-1.514471</td>\n",
       "      <td>2.379940</td>\n",
       "      <td>1.831126</td>\n",
       "      <td>-1.048524</td>\n",
       "    </tr>\n",
       "    <tr>\n",
       "      <th>3</th>\n",
       "      <td>Jericho</td>\n",
       "      <td>0.153131</td>\n",
       "      <td>-0.115527</td>\n",
       "      <td>0.641447</td>\n",
       "      <td>-0.024547</td>\n",
       "      <td>-0.073700</td>\n",
       "      <td>0.021544</td>\n",
       "      <td>0.865642</td>\n",
       "      <td>-0.922663</td>\n",
       "      <td>0.088807</td>\n",
       "      <td>...</td>\n",
       "      <td>0.528531</td>\n",
       "      <td>0.711565</td>\n",
       "      <td>-0.382130</td>\n",
       "      <td>-0.777844</td>\n",
       "      <td>0.490499</td>\n",
       "      <td>2.240765</td>\n",
       "      <td>-0.160576</td>\n",
       "      <td>0.038307</td>\n",
       "      <td>1.093319</td>\n",
       "      <td>0.388859</td>\n",
       "    </tr>\n",
       "    <tr>\n",
       "      <th>4</th>\n",
       "      <td>Bashira</td>\n",
       "      <td>-0.350049</td>\n",
       "      <td>0.149310</td>\n",
       "      <td>-0.255362</td>\n",
       "      <td>-0.193049</td>\n",
       "      <td>-0.126521</td>\n",
       "      <td>-0.210176</td>\n",
       "      <td>-0.589755</td>\n",
       "      <td>2.692318</td>\n",
       "      <td>-1.477474</td>\n",
       "      <td>...</td>\n",
       "      <td>0.047712</td>\n",
       "      <td>-2.436061</td>\n",
       "      <td>-0.361543</td>\n",
       "      <td>-0.057574</td>\n",
       "      <td>0.238475</td>\n",
       "      <td>0.923741</td>\n",
       "      <td>-0.328523</td>\n",
       "      <td>-0.019762</td>\n",
       "      <td>0.057023</td>\n",
       "      <td>-0.709021</td>\n",
       "    </tr>\n",
       "  </tbody>\n",
       "</table>\n",
       "<p>5 rows × 81 columns</p>\n",
       "</div>"
      ],
      "text/plain": [
       "       Name       PC1       PC2       PC3       PC4       PC5       PC6  \\\n",
       "0  Akooshay -0.567194  0.187206 -0.356369 -0.266558  0.009756 -0.465318   \n",
       "1   Melanie -0.356841  0.084950 -0.500081  0.151834 -0.164802 -0.188571   \n",
       "2  Williams -0.273818  0.094751 -0.311389 -0.206904 -0.249199 -0.131653   \n",
       "3   Jericho  0.153131 -0.115527  0.641447 -0.024547 -0.073700  0.021544   \n",
       "4   Bashira -0.350049  0.149310 -0.255362 -0.193049 -0.126521 -0.210176   \n",
       "\n",
       "        PC7       PC8       PC9  ...      PC71      PC72      PC73      PC74  \\\n",
       "0 -2.130915  2.722023 -1.110190  ... -0.480959 -1.944943 -1.325341 -0.219634   \n",
       "1 -1.461496 -0.561091  0.386188  ...  0.147304 -1.298767  0.287434 -0.276892   \n",
       "2  0.195034 -1.068606  0.312294  ...  2.326849  1.602386 -0.864185 -0.062153   \n",
       "3  0.865642 -0.922663  0.088807  ...  0.528531  0.711565 -0.382130 -0.777844   \n",
       "4 -0.589755  2.692318 -1.477474  ...  0.047712 -2.436061 -0.361543 -0.057574   \n",
       "\n",
       "       PC75      PC76      PC77      PC78      PC79      PC80  \n",
       "0 -0.713543  0.497254 -1.350825 -1.019163 -0.490050  1.503446  \n",
       "1 -0.110165  0.342084  1.129713 -1.031607 -0.098117 -0.617347  \n",
       "2 -0.417385  0.251591 -1.514471  2.379940  1.831126 -1.048524  \n",
       "3  0.490499  2.240765 -0.160576  0.038307  1.093319  0.388859  \n",
       "4  0.238475  0.923741 -0.328523 -0.019762  0.057023 -0.709021  \n",
       "\n",
       "[5 rows x 81 columns]"
      ]
     },
     "execution_count": 29,
     "metadata": {},
     "output_type": "execute_result"
    }
   ],
   "source": [
    "# PCA Processor\n",
    "character_names_pca = pca_processor.fit_transform(character_names_processed, drop_columns=['Name']) # Fit PCA and transform the data\n",
    "pca_processor.plot_explained_variance() # Plot explained variance\n",
    "character_names_pca = pca_processor.merge_with_original(character_names_processed, character_names_pca, keep_columns=['Name']) # Merge PCA components with original columns \n",
    "\n",
    "character_names_pca.head()"
   ]
  },
  {
   "cell_type": "code",
   "execution_count": 30,
   "metadata": {},
   "outputs": [],
   "source": [
    "scaler = StandardScaler()\n",
    "character_names_pca = scaler.fit_transform(character_names_pca.drop(columns='Name'))\n",
    "character_names_pca = sm.add_constant(character_names_pca)\n",
    "\n",
    "df_names_1000['Country'] = model.predict(character_names_pca)"
   ]
  },
  {
   "cell_type": "code",
   "execution_count": 31,
   "metadata": {},
   "outputs": [],
   "source": [
    "# Create a mapping dictionary from the legend DataFrame\n",
    "country_mapping = dict(zip(legend_df['Encoded Value'], legend_df['Country']))\n",
    "\n",
    "# Replace the numeric values in the 'Country' column with the corresponding names\n",
    "df_names_1000['Country'] = df_names_1000['Country'].map(country_mapping)"
   ]
  },
  {
   "cell_type": "code",
   "execution_count": 32,
   "metadata": {},
   "outputs": [
    {
     "data": {
      "text/html": [
       "<div>\n",
       "<style scoped>\n",
       "    .dataframe tbody tr th:only-of-type {\n",
       "        vertical-align: middle;\n",
       "    }\n",
       "\n",
       "    .dataframe tbody tr th {\n",
       "        vertical-align: top;\n",
       "    }\n",
       "\n",
       "    .dataframe thead th {\n",
       "        text-align: right;\n",
       "    }\n",
       "</style>\n",
       "<table border=\"1\" class=\"dataframe\">\n",
       "  <thead>\n",
       "    <tr style=\"text-align: right;\">\n",
       "      <th></th>\n",
       "      <th>Name</th>\n",
       "      <th>Country</th>\n",
       "    </tr>\n",
       "  </thead>\n",
       "  <tbody>\n",
       "    <tr>\n",
       "      <th>5464</th>\n",
       "      <td>Arachchi</td>\n",
       "      <td>English-Speaking</td>\n",
       "    </tr>\n",
       "    <tr>\n",
       "      <th>8401</th>\n",
       "      <td>Papy</td>\n",
       "      <td>Slavic</td>\n",
       "    </tr>\n",
       "    <tr>\n",
       "      <th>9286</th>\n",
       "      <td>Fagerdal</td>\n",
       "      <td>English-Speaking</td>\n",
       "    </tr>\n",
       "    <tr>\n",
       "      <th>2608</th>\n",
       "      <td>Stacy</td>\n",
       "      <td>English-Speaking</td>\n",
       "    </tr>\n",
       "    <tr>\n",
       "      <th>5959</th>\n",
       "      <td>Gloansy</td>\n",
       "      <td>English-Speaking</td>\n",
       "    </tr>\n",
       "  </tbody>\n",
       "</table>\n",
       "</div>"
      ],
      "text/plain": [
       "          Name           Country\n",
       "5464  Arachchi  English-Speaking\n",
       "8401      Papy            Slavic\n",
       "9286  Fagerdal  English-Speaking\n",
       "2608     Stacy  English-Speaking\n",
       "5959   Gloansy  English-Speaking"
      ]
     },
     "execution_count": 32,
     "metadata": {},
     "output_type": "execute_result"
    }
   ],
   "source": [
    "df_names_1000.sample(5)"
   ]
  }
 ],
 "metadata": {
  "kernelspec": {
   "display_name": "ada",
   "language": "python",
   "name": "python3"
  },
  "language_info": {
   "codemirror_mode": {
    "name": "ipython",
    "version": 3
   },
   "file_extension": ".py",
   "mimetype": "text/x-python",
   "name": "python",
   "nbconvert_exporter": "python",
   "pygments_lexer": "ipython3",
   "version": "3.11.9"
  }
 },
 "nbformat": 4,
 "nbformat_minor": 2
}
