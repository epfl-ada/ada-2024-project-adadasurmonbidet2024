{
 "cells": [
  {
   "cell_type": "code",
   "execution_count": null,
   "metadata": {},
   "outputs": [],
   "source": [
    "import pandas as pd\n",
    "import matplotlib.pyplot as plt\n",
    "import seaborn as sns\n",
    "import sys\n",
    "import os\n",
    "from textblob import TextBlob\n",
    "from transformers import pipeline"
   ]
  },
  {
   "cell_type": "code",
   "execution_count": null,
   "metadata": {},
   "outputs": [],
   "source": [
    "\n",
    "def get_sentiment_with_textblob(sentence):\n",
    "    analysis = TextBlob(sentence)\n",
    "    return analysis.sentiment.polarity"
   ]
  },
  {
   "cell_type": "code",
   "execution_count": null,
   "metadata": {},
   "outputs": [],
   "source": [
    "def get_sentiment_with_roberta(sentence):\n",
    "    sentiment_pipeline = pipeline('sentiment-analysis', model='roberta-large-mnli')\n",
    "    result = sentiment_pipeline(sentence)\n",
    "    return result[0][\"score\"]"
   ]
  },
  {
   "cell_type": "code",
   "execution_count": null,
   "metadata": {},
   "outputs": [],
   "source": [
    "def get_textblob_sentiment(sentence):\n",
    "    return get_sentiment_with_textblob(sentence)\n",
    "\n",
    "def get_roberta_sentiment(sentence):\n",
    "    return get_sentiment_with_roberta(sentence)"
   ]
  },
  {
   "cell_type": "code",
   "execution_count": null,
   "metadata": {},
   "outputs": [],
   "source": [
    "def process_character_sentiments(character_name, sentences):\n",
    "    sentences_textblob = []\n",
    "    sentences_roberta = []\n",
    "    \n",
    "    for sentence in sentences:\n",
    "        sentiment_with_textblob = get_sentiment_with_textblob(sentence)  \n",
    "        sentences_textblob.append(sentiment_with_textblob)\n",
    "\n",
    "        sentiment_with_roberta = get_sentiment_with_roberta(sentence)\n",
    "        sentences_roberta.append(sentiment_with_roberta)\n",
    "    \n",
    "    mean_sentiment_textblob = np.mean(sentences_textblob) if sentences_textblob else None\n",
    "    mean_sentiment_roberta = np.mean(sentences_roberta) if sentences_roberta else None\n",
    "    \n",
    "    return mean_sentiment_textblob, mean_sentiment_roberta\n",
    "\n",
    "data_textblob = []  \n",
    "data_roberta = []\n",
    "list_charatcter = df_cleaned[\"Character_Name\"]\n",
    "\n",
    "for index, character_name in enumerate(list_characters):\n",
    "    movie_id = df_cleaned[\"Movie_ID\"].iloc[index]\n",
    "    list_sentences_by_character = df_cleaned[\"Sentences\"].iloc[index]\n",
    "    \n",
    "    mean_sentiment_textblob, mean_sentiment_roberta = process_character_sentiments(character_name, list_sentences_by_character)\n",
    "\n",
    "    data_textblob.append({\n",
    "        \"Movie_ID\": movie_id,\n",
    "        \"Character_Name\": character_name,\n",
    "        \"Sentiment\": mean_sentiment_textblob\n",
    "    })\n",
    "\n",
    "    data_roberta.append({\n",
    "        \"Movie_ID\": movie_id,\n",
    "        \"Character_Name\": character_name,\n",
    "        \"Sentiment\": mean_sentiment_roberta\n",
    "    })\n",
    "\n",
    "df_sentiment_analysis_textblob = pd.DataFrame(data_textblob)\n",
    "df_sentiment_analysis_roberta = pd.DataFrame(data_roberta)"
   ]
  },
  {
   "cell_type": "code",
   "execution_count": null,
   "metadata": {},
   "outputs": [],
   "source": [
    "df_sentiment_analysis = pd.merge(df_sentiment_analysis_textblob, df_sentiment_analysis_roberta, \n",
    "                     on=[\"Character_Name\", \"Movie_ID\"], \n",
    "                     suffixes=('_textblob', '_roberta'))"
   ]
  }
 ],
 "metadata": {
  "language_info": {
   "name": "python"
  }
 },
 "nbformat": 4,
 "nbformat_minor": 2
}
