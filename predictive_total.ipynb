{
 "cells": [
  {
   "cell_type": "code",
   "execution_count": 1,
   "metadata": {},
   "outputs": [],
   "source": [
    "import pickle\n",
    "from src.utils.ml_utils import *\n",
    "from sklearn.preprocessing import MultiLabelBinarizer"
   ]
  },
  {
   "cell_type": "markdown",
   "metadata": {},
   "source": [
    "### Loading of the predictive models"
   ]
  },
  {
   "cell_type": "code",
   "execution_count": 2,
   "metadata": {},
   "outputs": [],
   "source": [
    "# Path to the models\n",
    "path_genre = 'model_genres.pkl'\n",
    "path_gender = 'model_Sex.pkl'\n",
    "path_age = 'model_age_category.pkl'\n",
    "path_kindness = 'model_kindness.pkl'\n",
    "path_origin = 'model_Country.pkl'\n",
    "\n",
    "# Load the models\n",
    "with open(path_genre, 'rb') as file:\n",
    "    predict_genres = pickle.load(file)\n",
    "\n",
    "with open(path_gender, 'rb') as file:\n",
    "    predict_gender = pickle.load(file)\n",
    "\n",
    "with open(path_age, 'rb') as file:\n",
    "    predict_age = pickle.load(file)\n",
    "\n",
    "with open(path_kindness, 'rb') as file:\n",
    "    predict_kindness = pickle.load(file)\n",
    "\n",
    "with open(path_origin, 'rb') as file:\n",
    "    predict_origin = pickle.load(file)\n",
    "\n",
    "augmented_alphabet = 'abcdefghijklmnopqrstuvwxyzéèíá'"
   ]
  },
  {
   "cell_type": "markdown",
   "metadata": {},
   "source": [
    "### Prediction of the movie genre"
   ]
  },
  {
   "cell_type": "code",
   "execution_count": 3,
   "metadata": {},
   "outputs": [],
   "source": [
    "# Multi-Hot Encoding\n",
    "genres_list = ['Action & Adventure', 'Drama', 'Comedy', 'Horror & Thriller', \n",
    "              'Fantasy & Sci-Fi', 'Historical & War', 'Romance', 'Documentary', \n",
    "              'Music & Performance', 'Cult & B-Movies', 'Other']\n",
    "\n",
    "# Apply MultiLabelBinarizer to encode the genres\n",
    "mlb = MultiLabelBinarizer(classes=genres_list)\n",
    "mlb.fit([genres_list])  # Fit the encoder with all possible genres\n",
    "\n",
    "def feature_creation_g(name):\n",
    "    df_pred = pd.DataFrame([name], columns=['Name'])\n",
    "    pred_processor = NameFeatureProcessor('Name', ngram_range=(2,2))\n",
    "    df_pred = pred_processor.process(df_pred, alphabet=augmented_alphabet, analyze_name=True, diacritic=False, phonetics=False, first_last=True, ngram=False)\n",
    "    \n",
    "    # Load pre-trained HashingVectorizer\n",
    "    with open('hashing_vectorizer.pkl', 'rb') as f:\n",
    "        vectorizer = pickle.load(f)\n",
    "    \n",
    "    # Transform the name using the vectorizer\n",
    "    ngram_name = vectorizer.transform(df_pred['Name'])\n",
    "    ngram_name_df = pd.DataFrame(ngram_name.toarray())\n",
    "    df_pred = pd.concat([df_pred, ngram_name_df], axis=1)\n",
    "    \n",
    "    return df_pred\n",
    "\n",
    "# Function for prediction using the trained model\n",
    "def predict(df, pred_model):\n",
    "    df.drop(columns=['Name'], inplace=True)  # Remove 'Name' column\n",
    "    df.columns = df.columns.astype(str)  # Ensure column names are strings to match model features\n",
    "    return pred_model.predict(df)\n",
    "\n",
    "# Function to process the name, extract features, and predict genres\n",
    "def create_and_predict_genre(name, model):\n",
    "    df = feature_creation_g(name)  # Feature creation step\n",
    "    pred = predict(df, model)  # Make prediction with the model\n",
    "    \n",
    "    # Decode the binary prediction results to genre names\n",
    "    decoded_genres = mlb.inverse_transform(pred)\n",
    "    \n",
    "    # Display the decoded genre labels\n",
    "    print(decoded_genres)\n",
    "    return decoded_genres"
   ]
  },
  {
   "cell_type": "markdown",
   "metadata": {},
   "source": [
    "### Prediction of the gender/ age/ kindness"
   ]
  },
  {
   "cell_type": "code",
   "execution_count": 4,
   "metadata": {},
   "outputs": [],
   "source": [
    "def feature_creation(name):\n",
    "    augmented_alphabet = 'abcdefghijklmnopqrstuvwxyzéèíá'\n",
    "\n",
    "    df_pred = pd.DataFrame([name], columns=['Name'])\n",
    "    pred_processor = NameFeatureProcessor('Name',ngram_range=(2,2))\n",
    "    df_pred =pred_processor.process(df_pred,alphabet = augmented_alphabet, analyze_name = True, diacritic = False, phonetics = False, first_last = True, ngram=False)\n",
    "\n",
    "    with open(f'hashing_vectorizer.pkl', 'rb') as f:\n",
    "        vectorizer = pickle.load(f)\n",
    "\n",
    "    ngram_name = vectorizer.transform(df_pred['Name'])\n",
    "    ngram_name_df = pd.DataFrame(ngram_name.toarray())\n",
    "    df_pred = pd.concat([df_pred, ngram_name_df], axis=1)\n",
    "    return df_pred\n",
    "\n",
    "def create_and_predict(name, model):\n",
    "    df = feature_creation(name)  # Feature creation step\n",
    "    pred = predict(df, model)  # Make prediction with the model\n",
    "\n",
    "    print(pred)\n",
    "    return pred"
   ]
  },
  {
   "cell_type": "markdown",
   "metadata": {},
   "source": [
    "### Prediction of the origin"
   ]
  },
  {
   "cell_type": "code",
   "execution_count": 5,
   "metadata": {},
   "outputs": [],
   "source": [
    "def feature_creation_o(name):\n",
    "    augmented_alphabet = 'abcdefghijklmnopqrstuvwxyzéèíá'\n",
    "\n",
    "    df_pred = pd.DataFrame([name], columns=['Name'])\n",
    "    pred_processor = NameFeatureProcessor('Name',ngram_range=(2,3))\n",
    "    df_pred =pred_processor.process(df_pred,alphabet = augmented_alphabet,analyze_name = True, diacritic = False, phonetics = False, first_last = True, ngram=False)\n",
    "\n",
    "    with open(f'hashing_vectorizer_origin.pkl', 'rb') as f:\n",
    "        vectorizer = pickle.load(f)\n",
    "\n",
    "    ngram_name = vectorizer.transform(df_pred['Name'])\n",
    "    ngram_name_df = pd.DataFrame(ngram_name.toarray())\n",
    "    df_pred = pd.concat([df_pred, ngram_name_df], axis=1)\n",
    "    return df_pred\n",
    "\n",
    "def predict_one_o(df, model):\n",
    "    df.drop(columns=['Name'],inplace=True)\n",
    "    df.columns = df.columns.astype(str)\n",
    "    return model.predict(df)\n",
    "    \n",
    "def create_and_predict_origin(name, model):\n",
    "    df = feature_creation_o(name)\n",
    "    pred = predict_one_o(df, model)\n",
    "    print(pred)\n",
    "    return pred"
   ]
  },
  {
   "cell_type": "markdown",
   "metadata": {},
   "source": [
    "### Print all the predictions"
   ]
  },
  {
   "cell_type": "code",
   "execution_count": 8,
   "metadata": {},
   "outputs": [
    {
     "name": "stdout",
     "output_type": "stream",
     "text": [
      "[('Romance', 'Cult & B-Movies')]\n",
      "['F']\n",
      "['<17y']\n",
      "['Bad']\n",
      "['Romance']\n"
     ]
    }
   ],
   "source": [
    "name_prediction = 'Luca'\n",
    "genres = create_and_predict_genre(name_prediction, predict_genres)\n",
    "gender = create_and_predict(name_prediction, predict_gender)\n",
    "age = create_and_predict(name_prediction, predict_age)\n",
    "kindness = create_and_predict(name_prediction, predict_kindness)\n",
    "origin = create_and_predict_origin(name_prediction, predict_origin)"
   ]
  }
 ],
 "metadata": {
  "kernelspec": {
   "display_name": "ada",
   "language": "python",
   "name": "python3"
  },
  "language_info": {
   "codemirror_mode": {
    "name": "ipython",
    "version": 3
   },
   "file_extension": ".py",
   "mimetype": "text/x-python",
   "name": "python",
   "nbconvert_exporter": "python",
   "pygments_lexer": "ipython3",
   "version": "3.11.9"
  }
 },
 "nbformat": 4,
 "nbformat_minor": 2
}
