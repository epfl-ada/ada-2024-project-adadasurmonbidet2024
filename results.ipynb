{
 "cells": [
  {
   "cell_type": "code",
   "execution_count": 1,
   "metadata": {},
   "outputs": [],
   "source": [
    "from src.utils.results_utils import *\n",
    "from src.utils.data_utils import str_dict_to_values\n",
    "\n",
    "import plotly.graph_objects as go\n",
    "import matplotlib.pyplot as plt\n",
    "import matplotlib.ticker as ticker\n",
    "import seaborn as sns"
   ]
  },
  {
   "cell_type": "markdown",
   "metadata": {},
   "source": [
    "## Gender Analysis"
   ]
  },
  {
   "cell_type": "code",
   "execution_count": null,
   "metadata": {},
   "outputs": [],
   "source": [
    "df_vowels, df_consonants = get_gender_stats(df_char_cleaned)\n",
    "\n",
    "print('Stats for vowels in character names by sex:')\n",
    "print(df_vowels)\n",
    "\n",
    "print('Stats for consonants in character names by sex:')\n",
    "print(df_consonants)"
   ]
  },
  {
   "cell_type": "code",
   "execution_count": null,
   "metadata": {},
   "outputs": [],
   "source": [
    "fig, axes = plt.subplots(1, 2, figsize=(14, 6))\n",
    "\n",
    "# Boxplot for vowel count by sex\n",
    "sns.boxenplot(data=df_char_cleaned, x='Sex', y='vowel_count', ax=axes[0])\n",
    "axes[0].set_title('Vowel Count by Sex')\n",
    "axes[0].set_xlabel('Gender')\n",
    "axes[0].set_ylabel('Vowel Count')\n",
    "\n",
    "# Boxplot for consonant count by sex\n",
    "sns.boxenplot(data=df_char_cleaned, x='Sex', y='consonant_count', ax=axes[1])\n",
    "axes[1].set_title('Consonant Count by Sex')\n",
    "axes[1].set_xlabel('Gender')\n",
    "axes[1].set_ylabel('Consonant Count')\n",
    "\n",
    "plt.tight_layout()"
   ]
  },
  {
   "cell_type": "code",
   "execution_count": null,
   "metadata": {},
   "outputs": [],
   "source": [
    "df_length = get_length_stats(df_char_cleaned)\n",
    "\n",
    "print('Length stats for character names by sex:')\n",
    "print(df_length)"
   ]
  },
  {
   "cell_type": "code",
   "execution_count": null,
   "metadata": {},
   "outputs": [],
   "source": [
    "df_percent_vowel = get_vowel_percentage(df_char_cleaned)\n",
    "\n",
    "print('Vowel percentage stats for character names by sex:')\n",
    "print(df_percent_vowel)"
   ]
  },
  {
   "cell_type": "code",
   "execution_count": null,
   "metadata": {},
   "outputs": [],
   "source": [
    "first_letter_counts = create_letter_count_df(df_char_cleaned,0)\n",
    "last_letter_counts = create_letter_count_df(df_char_cleaned,-1)"
   ]
  },
  {
   "cell_type": "code",
   "execution_count": null,
   "metadata": {},
   "outputs": [],
   "source": [
    "fig, ax = plt.subplots(figsize=(20, 7))\n",
    "\n",
    "first_letter_counts.plot(kind='bar', ax=ax, color=['skyblue', 'salmon'], width=0.8)\n",
    "\n",
    "ax.set_title('Percentage of names that starts with all of the letters by sex', fontsize=16)\n",
    "ax.set_xlabel('First letter of the name', fontsize=12)\n",
    "ax.set_ylabel('% of the total names by sex', fontsize=12)\n",
    "ax.yaxis.set_major_formatter(ticker.FuncFormatter(lambda y, _: f'{y*100:.0f}%'))\n",
    "\n",
    "ax.legend(['Male', 'Female'])\n",
    "\n",
    "plt.xticks(rotation=0)\n",
    "plt.tight_layout()\n",
    "plt.show()"
   ]
  },
  {
   "cell_type": "code",
   "execution_count": null,
   "metadata": {},
   "outputs": [],
   "source": [
    "fig, ax = plt.subplots(figsize=(20, 7))\n",
    "\n",
    "last_letter_counts.plot(kind='bar', ax=ax, color=['skyblue', 'salmon'], width=0.8)\n",
    "\n",
    "ax.set_title('Percentage of names finishing by each letter per sex', fontsize=16)\n",
    "ax.set_xlabel('Last letter of the name', fontsize=12)\n",
    "ax.set_ylabel('% of the total names by sex', fontsize=12)\n",
    "ax.yaxis.set_major_formatter(ticker.FuncFormatter(lambda y, _: f'{y*100:.0f}%'))\n",
    "\n",
    "ax.legend(['Hommes', 'Femmes'])\n",
    "\n",
    "plt.xticks(rotation=0)\n",
    "plt.tight_layout()\n",
    "plt.show()"
   ]
  },
  {
   "cell_type": "code",
   "execution_count": null,
   "metadata": {},
   "outputs": [],
   "source": [
    "age_sex_percentage, age_labels = get_age_sex_percentage(df_char_cleaned)\n",
    "\n",
    "top_names = (\n",
    "    df_char_cleaned.groupby(['age_category', 'Sex'])['Character_name']\n",
    "    .apply(lambda x: x.value_counts().head(3).index.tolist())\n",
    "    .unstack(fill_value=[])\n",
    ")"
   ]
  },
  {
   "cell_type": "code",
   "execution_count": null,
   "metadata": {},
   "outputs": [],
   "source": [
    "fig = go.Figure()\n",
    "\n",
    "for sex in ['M', 'F']:\n",
    "    fig.add_trace(go.Bar(\n",
    "        x=age_labels,\n",
    "        y=age_sex_percentage[sex],\n",
    "        name='Male' if sex == 'M' else 'Female',\n",
    "        marker_color='skyblue' if sex == 'M' else 'salmon',\n",
    "        hovertext=[f\"Top names: {', '.join(top_names.loc[age, sex])}\" for age in age_labels],\n",
    "        hoverinfo=\"text\"\n",
    "    ))\n",
    "\n",
    "fig.update_layout(\n",
    "    title='Percentage of Males and Females in Each Age Category',\n",
    "    xaxis_title='Age Category',\n",
    "    yaxis_title='% of Total Males/Females',\n",
    "    barmode='group',\n",
    "    xaxis=dict(tickvals=age_labels, tickangle=0),\n",
    "    yaxis=dict(ticksuffix='%'),\n",
    "    legend=dict(title=\"Sex\")\n",
    ")\n",
    "\n",
    "fig.show()"
   ]
  },
  {
   "cell_type": "markdown",
   "metadata": {},
   "source": [
    "## Country Analysis"
   ]
  },
  {
   "cell_type": "code",
   "execution_count": null,
   "metadata": {},
   "outputs": [],
   "source": [
    "countries_code = []\n",
    "\n",
    "df_continent = create_continent_df(df_char_cleaned)\n",
    "print(df_continent)"
   ]
  },
  {
   "cell_type": "markdown",
   "metadata": {},
   "source": [
    "In this table we see the most recurrent character names for each continent. For Asia, we see that the most common names are indian names. Is it because other nearby countries are influenced by the bollywood industry or because India's movies are predominent in this dataset? \n",
    "We will try to answer the question by plotting the most common character names per country and reting it with the number of movies from this country in the dataset."
   ]
  },
  {
   "cell_type": "code",
   "execution_count": null,
   "metadata": {},
   "outputs": [],
   "source": [
    "df_top_names = create_top_names_df(df_char_cleaned)\n",
    "df_nb_movies = create_nb_movie_df(df_char_cleaned)"
   ]
  },
  {
   "cell_type": "code",
   "execution_count": null,
   "metadata": {},
   "outputs": [],
   "source": [
    "df_map_names = pd.merge(df_nb_movies,df_top_names,on='primary_country',how='inner')"
   ]
  },
  {
   "cell_type": "code",
   "execution_count": null,
   "metadata": {},
   "outputs": [],
   "source": [
    "fig = go.Figure(go.Scattergeo(\n",
    "))\n",
    "fig.add_trace(go.Choropleth(\n",
    "    locations= df_map_names['primary_country'],\n",
    "    locationmode='country names',\n",
    "    showscale= True,\n",
    "    colorscale='YlOrRd',\n",
    "    z=np.log10(df_map_names['Number_of_movies']),\n",
    "    colorbar=dict(title=\"Number of movies (Log Scale)\", tickvals=np.arange(0, 5), ticktext=[f\"10^{i}\" for i in range(0, 5)]),\n",
    "    text= [f\"Top female name: {female}<br>Top male name: {male}<br>Movies: {movies:,}\" \n",
    "           for female, male, movies in zip(df_map_names['Female_name'], df_map_names['Male_name'], df_map_names['Number_of_movies'])],\n",
    "    hovertemplate=\"%{location}<br>%{text}\"\n",
    "))\n",
    "fig.update_geos(\n",
    "    projection_scale=1,center={'lat': 30},\n",
    "    visible=False,\n",
    "    showcountries=True, countrycolor=\"RebeccaPurple\"\n",
    ")\n",
    "fig.update_layout(\n",
    "    geo=dict(\n",
    "        projection_type=\"mercator\",\n",
    "        lakecolor=\"aqua\"\n",
    "    ),\n",
    "    height=500,\n",
    "    margin={\"r\":0,\"t\":5,\"l\":0,\"b\":0},\n",
    "    title=\"Most Common Male and Female Names by Continent\"\n",
    ")\n",
    "fig.show()"
   ]
  },
  {
   "cell_type": "markdown",
   "metadata": {},
   "source": [
    "## Ngram Analysis"
   ]
  },
  {
   "cell_type": "code",
   "execution_count": null,
   "metadata": {},
   "outputs": [],
   "source": [
    "df_ngram = create_ngram(df_char_cleaned)\n",
    "kmeans_clustering(df_ngram,df_char_cleaned)\n",
    "pca_result,loading = ipca_reduction(df_ngram)"
   ]
  },
  {
   "cell_type": "code",
   "execution_count": null,
   "metadata": {},
   "outputs": [],
   "source": [
    "country_df = create_continent_df(df_char_cleaned)"
   ]
  },
  {
   "cell_type": "code",
   "execution_count": null,
   "metadata": {},
   "outputs": [],
   "source": [
    "palette = ['#de324c','#f4895f','#f8e16f','#95cf92','#369acc','#9656a2']\n",
    "fig,axs = plt.subplots(1,3,figsize=(18, 6))\n",
    "fig.suptitle(\"PCA of Character N-grams in Names by Continent\", fontsize=16)\n",
    "\n",
    "sns.scatterplot(x=\"pca_one\", y=\"pca_two\", hue=\"continent\", data=country_df, palette=palette, size=2,linewidth=0.3, ax=axs[0])\n",
    "sns.scatterplot(x=\"pca_one\", y=\"pca_three\", hue=\"continent\", data=country_df, palette=palette, size=2,linewidth=0.3, ax=axs[1])\n",
    "sns.scatterplot(x=\"pca_two\", y=\"pca_three\", hue=\"continent\", data=country_df, palette=palette, size=2,linewidth=0.3, ax=axs[2])\n",
    "plt.title(\"PCA of Character N-grams in Names by Continent\")\n",
    "plt.tight_layout(rect=[0, 0, 1, 0.95])\n",
    "plt.show()\n"
   ]
  }
 ],
 "metadata": {
  "kernelspec": {
   "display_name": "ada",
   "language": "python",
   "name": "python3"
  },
  "language_info": {
   "codemirror_mode": {
    "name": "ipython",
    "version": 3
   },
   "file_extension": ".py",
   "mimetype": "text/x-python",
   "name": "python",
   "nbconvert_exporter": "python",
   "pygments_lexer": "ipython3",
   "version": "3.11.9"
  }
 },
 "nbformat": 4,
 "nbformat_minor": 2
}
