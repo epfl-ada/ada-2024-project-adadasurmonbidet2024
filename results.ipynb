{
 "cells": [
  {
   "cell_type": "code",
   "execution_count": 7,
   "metadata": {},
   "outputs": [],
   "source": [
    "from src.utils.results_utils import *\n",
    "\n",
    "from src.utils.data_utils import str_dict_to_values\n",
    "\n",
    "import plotly.graph_objects as go\n",
    "from plotly.subplots import make_subplots\n",
    "import matplotlib.pyplot as plt\n",
    "import seaborn as sns\n",
    "import matplotlib.ticker as ticker"
   ]
  },
  {
   "cell_type": "code",
   "execution_count": 9,
   "metadata": {},
   "outputs": [],
   "source": [
    "df_char_cleaned = pd.read_csv('data/cleaned.csv')\n",
    "\n",
    "df_char_cleaned['Languages'] = df_char_cleaned['Languages'].apply(str_dict_to_values)\n",
    "df_char_cleaned['Country'] = df_char_cleaned['Country'].apply(str_dict_to_values)\n",
    "df_char_cleaned['Genres'] = df_char_cleaned['Genres'].apply(str_dict_to_values)"
   ]
  },
  {
   "cell_type": "markdown",
   "metadata": {},
   "source": [
    "## Presenting the Data"
   ]
  },
  {
   "cell_type": "code",
   "execution_count": 10,
   "metadata": {},
   "outputs": [
    {
     "data": {
      "text/html": [
       "<div>\n",
       "<style scoped>\n",
       "    .dataframe tbody tr th:only-of-type {\n",
       "        vertical-align: middle;\n",
       "    }\n",
       "\n",
       "    .dataframe tbody tr th {\n",
       "        vertical-align: top;\n",
       "    }\n",
       "\n",
       "    .dataframe thead th {\n",
       "        text-align: right;\n",
       "    }\n",
       "</style>\n",
       "<table border=\"1\" class=\"dataframe\">\n",
       "  <thead>\n",
       "    <tr style=\"text-align: right;\">\n",
       "      <th></th>\n",
       "      <th>Wikipedia_ID</th>\n",
       "      <th>Name</th>\n",
       "      <th>Languages</th>\n",
       "      <th>Country</th>\n",
       "      <th>Genres</th>\n",
       "      <th>Character_name</th>\n",
       "      <th>Sex</th>\n",
       "      <th>Actor_age</th>\n",
       "      <th>Release_date</th>\n",
       "    </tr>\n",
       "  </thead>\n",
       "  <tbody>\n",
       "    <tr>\n",
       "      <th>0</th>\n",
       "      <td>975900</td>\n",
       "      <td>Ghosts of Mars</td>\n",
       "      <td>[English Language]</td>\n",
       "      <td>[United States of America]</td>\n",
       "      <td>[Thriller, Science Fiction, Horror, Adventure,...</td>\n",
       "      <td>Akooshay</td>\n",
       "      <td>F</td>\n",
       "      <td>42.0</td>\n",
       "      <td>2001-08-24</td>\n",
       "    </tr>\n",
       "    <tr>\n",
       "      <th>1</th>\n",
       "      <td>975900</td>\n",
       "      <td>Ghosts of Mars</td>\n",
       "      <td>[English Language]</td>\n",
       "      <td>[United States of America]</td>\n",
       "      <td>[Thriller, Science Fiction, Horror, Adventure,...</td>\n",
       "      <td>Melanie</td>\n",
       "      <td>F</td>\n",
       "      <td>27.0</td>\n",
       "      <td>2001-08-24</td>\n",
       "    </tr>\n",
       "    <tr>\n",
       "      <th>2</th>\n",
       "      <td>975900</td>\n",
       "      <td>Ghosts of Mars</td>\n",
       "      <td>[English Language]</td>\n",
       "      <td>[United States of America]</td>\n",
       "      <td>[Thriller, Science Fiction, Horror, Adventure,...</td>\n",
       "      <td>Williams</td>\n",
       "      <td>M</td>\n",
       "      <td>32.0</td>\n",
       "      <td>2001-08-24</td>\n",
       "    </tr>\n",
       "    <tr>\n",
       "      <th>3</th>\n",
       "      <td>975900</td>\n",
       "      <td>Ghosts of Mars</td>\n",
       "      <td>[English Language]</td>\n",
       "      <td>[United States of America]</td>\n",
       "      <td>[Thriller, Science Fiction, Horror, Adventure,...</td>\n",
       "      <td>Jericho</td>\n",
       "      <td>M</td>\n",
       "      <td>33.0</td>\n",
       "      <td>2001-08-24</td>\n",
       "    </tr>\n",
       "    <tr>\n",
       "      <th>4</th>\n",
       "      <td>975900</td>\n",
       "      <td>Ghosts of Mars</td>\n",
       "      <td>[English Language]</td>\n",
       "      <td>[United States of America]</td>\n",
       "      <td>[Thriller, Science Fiction, Horror, Adventure,...</td>\n",
       "      <td>Bashira</td>\n",
       "      <td>F</td>\n",
       "      <td>23.0</td>\n",
       "      <td>2001-08-24</td>\n",
       "    </tr>\n",
       "  </tbody>\n",
       "</table>\n",
       "</div>"
      ],
      "text/plain": [
       "   Wikipedia_ID            Name           Languages  \\\n",
       "0        975900  Ghosts of Mars  [English Language]   \n",
       "1        975900  Ghosts of Mars  [English Language]   \n",
       "2        975900  Ghosts of Mars  [English Language]   \n",
       "3        975900  Ghosts of Mars  [English Language]   \n",
       "4        975900  Ghosts of Mars  [English Language]   \n",
       "\n",
       "                      Country  \\\n",
       "0  [United States of America]   \n",
       "1  [United States of America]   \n",
       "2  [United States of America]   \n",
       "3  [United States of America]   \n",
       "4  [United States of America]   \n",
       "\n",
       "                                              Genres Character_name Sex  \\\n",
       "0  [Thriller, Science Fiction, Horror, Adventure,...       Akooshay   F   \n",
       "1  [Thriller, Science Fiction, Horror, Adventure,...        Melanie   F   \n",
       "2  [Thriller, Science Fiction, Horror, Adventure,...       Williams   M   \n",
       "3  [Thriller, Science Fiction, Horror, Adventure,...        Jericho   M   \n",
       "4  [Thriller, Science Fiction, Horror, Adventure,...        Bashira   F   \n",
       "\n",
       "   Actor_age Release_date  \n",
       "0       42.0   2001-08-24  \n",
       "1       27.0   2001-08-24  \n",
       "2       32.0   2001-08-24  \n",
       "3       33.0   2001-08-24  \n",
       "4       23.0   2001-08-24  "
      ]
     },
     "execution_count": 10,
     "metadata": {},
     "output_type": "execute_result"
    }
   ],
   "source": [
    "df_char_cleaned.head()"
   ]
  },
  {
   "cell_type": "code",
   "execution_count": 11,
   "metadata": {},
   "outputs": [
    {
     "data": {
      "text/html": [
       "<div>\n",
       "<style scoped>\n",
       "    .dataframe tbody tr th:only-of-type {\n",
       "        vertical-align: middle;\n",
       "    }\n",
       "\n",
       "    .dataframe tbody tr th {\n",
       "        vertical-align: top;\n",
       "    }\n",
       "\n",
       "    .dataframe thead th {\n",
       "        text-align: right;\n",
       "    }\n",
       "</style>\n",
       "<table border=\"1\" class=\"dataframe\">\n",
       "  <thead>\n",
       "    <tr style=\"text-align: right;\">\n",
       "      <th></th>\n",
       "      <th></th>\n",
       "      <th>Count</th>\n",
       "    </tr>\n",
       "  </thead>\n",
       "  <tbody>\n",
       "    <tr>\n",
       "      <th>0</th>\n",
       "      <td>Unique Character Names</td>\n",
       "      <td>38401</td>\n",
       "    </tr>\n",
       "    <tr>\n",
       "      <th>1</th>\n",
       "      <td>Unique Movies</td>\n",
       "      <td>31103</td>\n",
       "    </tr>\n",
       "  </tbody>\n",
       "</table>\n",
       "</div>"
      ],
      "text/plain": [
       "                           Count\n",
       "0  Unique Character Names  38401\n",
       "1           Unique Movies  31103"
      ]
     },
     "execution_count": 11,
     "metadata": {},
     "output_type": "execute_result"
    }
   ],
   "source": [
    "name_count = df_char_cleaned['Character_name'].nunique()\n",
    "movie_count = df_char_cleaned['Wikipedia_ID'].nunique()\n",
    "\n",
    "summary_df = pd.DataFrame({\n",
    "    '': ['Unique Character Names', 'Unique Movies'],\n",
    "    'Count': [name_count, movie_count]\n",
    "})\n",
    "\n",
    "summary_df.head()"
   ]
  },
  {
   "cell_type": "code",
   "execution_count": null,
   "metadata": {},
   "outputs": [
    {
     "data": {
      "application/vnd.plotly.v1+json": {
       "config": {
        "plotlyServerURL": "https://plot.ly"
       },
       "data": [
        {
         "hoverinfo": "text",
         "hovertext": [
          "Name: John<br>Count: 1305",
          "Name: George<br>Count: 621",
          "Name: Tom<br>Count: 591",
          "Name: David<br>Count: 567",
          "Name: Paul<br>Count: 531",
          "Name: James<br>Count: 513",
          "Name: Michael<br>Count: 505",
          "Name: Robert<br>Count: 451",
          "Name: Jack<br>Count: 440",
          "Name: Jim<br>Count: 428",
          "Name: Charlie<br>Count: 422",
          "Name: Richard<br>Count: 401",
          "Name: Charles<br>Count: 396",
          "Name: William<br>Count: 384",
          "Name: Sarah<br>Count: 371",
          "Name: Mary<br>Count: 338",
          "Name: Joe<br>Count: 336",
          "Name: Thomas<br>Count: 331",
          "Name: Steve<br>Count: 317",
          "Name: Frank<br>Count: 314",
          "Name: Eddie<br>Count: 307",
          "Name: Alex<br>Count: 305",
          "Name: Max<br>Count: 300",
          "Name: Helen<br>Count: 294",
          "Name: Alice<br>Count: 292",
          "Name: Sam<br>Count: 285",
          "Name: Susan<br>Count: 283",
          "Name: Johnny<br>Count: 280",
          "Name: Kate<br>Count: 268",
          "Name: Danny<br>Count: 262",
          "Name: Julie<br>Count: 260",
          "Name: Arthur<br>Count: 259",
          "Name: Elizabeth<br>Count: 259",
          "Name: Peter<br>Count: 252",
          "Name: Rachel<br>Count: 248",
          "Name: Harry<br>Count: 243",
          "Name: Bob<br>Count: 239",
          "Name: Mike<br>Count: 236",
          "Name: Dave<br>Count: 229",
          "Name: Lisa<br>Count: 229",
          "Name: Chris<br>Count: 229",
          "Name: Jimmy<br>Count: 225",
          "Name: Simon<br>Count: 220",
          "Name: Billy<br>Count: 218",
          "Name: Bill<br>Count: 214",
          "Name: Joseph<br>Count: 213",
          "Name: Anna<br>Count: 211",
          "Name: Daniel<br>Count: 207",
          "Name: Ben<br>Count: 206",
          "Name: Claire<br>Count: 205",
          "Name: Barbara<br>Count: 204",
          "Name: Karen<br>Count: 203",
          "Name: Jason<br>Count: 201",
          "Name: Kevin<br>Count: 201",
          "Name: Tony<br>Count: 200",
          "Name: Fred<br>Count: 199",
          "Name: Marie<br>Count: 199",
          "Name: Linda<br>Count: 197",
          "Name: Annie<br>Count: 196",
          "Name: Brian<br>Count: 196",
          "Name: Anne<br>Count: 196",
          "Name: Ed<br>Count: 194",
          "Name: Maria<br>Count: 193",
          "Name: Phil<br>Count: 192",
          "Name: Adam<br>Count: 191",
          "Name: Henry<br>Count: 191",
          "Name: Maggie<br>Count: 191",
          "Name: Andy<br>Count: 186",
          "Name: Margaret<br>Count: 184",
          "Name: Guy<br>Count: 184",
          "Name: Emily<br>Count: 182",
          "Name: Jones<br>Count: 176",
          "Name: Tim<br>Count: 174",
          "Name: Roy<br>Count: 174",
          "Name: Moe<br>Count: 174",
          "Name: Matt<br>Count: 173",
          "Name: Scott<br>Count: 167",
          "Name: Edward<br>Count: 167",
          "Name: Louis<br>Count: 167",
          "Name: Howard<br>Count: 165",
          "Name: Jane<br>Count: 164",
          "Name: Nick<br>Count: 164",
          "Name: Bobby<br>Count: 159",
          "Name: Mark<br>Count: 158",
          "Name: Kim<br>Count: 156",
          "Name: Jennifer<br>Count: 154",
          "Name: Laura<br>Count: 153",
          "Name: Ellen<br>Count: 152",
          "Name: Martin<br>Count: 152",
          "Name: Sara<br>Count: 151",
          "Name: Tommy<br>Count: 150",
          "Name: Angela<br>Count: 149",
          "Name: Johnson<br>Count: 148",
          "Name: Mickey<br>Count: 147",
          "Name: Charlotte<br>Count: 147",
          "Name: Lee<br>Count: 147",
          "Name: Martha<br>Count: 146",
          "Name: Vijay<br>Count: 146",
          "Name: Julia<br>Count: 146",
          "Name: Philip<br>Count: 145",
          "Name: Ryan<br>Count: 143",
          "Name: Jerry<br>Count: 143",
          "Name: Louise<br>Count: 143",
          "Name: Amy<br>Count: 142",
          "Name: Andrew<br>Count: 141",
          "Name: Lucy<br>Count: 140",
          "Name: Gloria<br>Count: 140",
          "Name: Albert<br>Count: 139",
          "Name: Pete<br>Count: 138",
          "Name: Jake<br>Count: 137",
          "Name: Wilson<br>Count: 137",
          "Name: Samantha<br>Count: 136",
          "Name: Jessica<br>Count: 136",
          "Name: Gary<br>Count: 134",
          "Name: Harold<br>Count: 133",
          "Name: Amanda<br>Count: 133",
          "Name: Taylor<br>Count: 133",
          "Name: Catherine<br>Count: 132",
          "Name: Kelly<br>Count: 132",
          "Name: Dan<br>Count: 131",
          "Name: Jonathan<br>Count: 131",
          "Name: Diane<br>Count: 131",
          "Name: Kid<br>Count: 129",
          "Name: Anthony<br>Count: 128",
          "Name: Jenny<br>Count: 128",
          "Name: Ray<br>Count: 128",
          "Name: Tina<br>Count: 127",
          "Name: Lou<br>Count: 127",
          "Name: Larry<br>Count: 126",
          "Name: Bugs<br>Count: 125",
          "Name: Rose<br>Count: 122",
          "Name: Jackson<br>Count: 122",
          "Name: Alexander<br>Count: 121",
          "Name: Sean<br>Count: 121",
          "Name: Gordon<br>Count: 121",
          "Name: Red<br>Count: 121",
          "Name: Leo<br>Count: 120",
          "Name: Sophie<br>Count: 119",
          "Name: Karl<br>Count: 119",
          "Name: Walter<br>Count: 118",
          "Name: Dennis<br>Count: 118",
          "Name: Sergeant<br>Count: 118",
          "Name: Betty<br>Count: 117",
          "Name: Jackie<br>Count: 117",
          "Name: Donald<br>Count: 116",
          "Name: Patrick<br>Count: 116",
          "Name: Carol<br>Count: 116",
          "Name: Rebecca<br>Count: 116",
          "Name: Katie<br>Count: 116",
          "Name: Sally<br>Count: 115",
          "Name: Priya<br>Count: 115",
          "Name: Wendy<br>Count: 114",
          "Name: Jill<br>Count: 114",
          "Name: Frankie<br>Count: 113",
          "Name: Joan<br>Count: 113",
          "Name: Stephen<br>Count: 112",
          "Name: Marty<br>Count: 112",
          "Name: Stanley<br>Count: 112",
          "Name: Francis<br>Count: 112",
          "Name: Ravi<br>Count: 112",
          "Name: Nicole<br>Count: 111",
          "Name: Nina<br>Count: 111",
          "Name: Judy<br>Count: 111",
          "Name: Eva<br>Count: 111",
          "Name: Doug<br>Count: 111",
          "Name: Carl<br>Count: 111",
          "Name: Carlos<br>Count: 110",
          "Name: Christine<br>Count: 110",
          "Name: Roger<br>Count: 109",
          "Name: Norman<br>Count: 108",
          "Name: Williams<br>Count: 106",
          "Name: Raymond<br>Count: 105",
          "Name: Terry<br>Count: 105",
          "Name: Connie<br>Count: 105",
          "Name: Radha<br>Count: 105",
          "Name: Grace<br>Count: 105",
          "Name: Oliver<br>Count: 104",
          "Name: Marcus<br>Count: 104",
          "Name: Ron<br>Count: 104",
          "Name: King<br>Count: 104",
          "Name: Samuel<br>Count: 103",
          "Name: Jacob<br>Count: 102",
          "Name: Stan<br>Count: 102",
          "Name: Michelle<br>Count: 102",
          "Name: Gus<br>Count: 102",
          "Name: Eric<br>Count: 101",
          "Name: Diana<br>Count: 101",
          "Name: Pooja<br>Count: 101",
          "Name: Pierre<br>Count: 101",
          "Name: Davis<br>Count: 101",
          "Name: Matthew<br>Count: 101",
          "Name: Nancy<br>Count: 100",
          "Name: Monica<br>Count: 100",
          "Name: Vikram<br>Count: 99",
          "Name: Rita<br>Count: 99",
          "Name: Sonia<br>Count: 99",
          "Name: Ivan<br>Count: 98",
          "Name: Molly<br>Count: 98",
          "Name: Cindy<br>Count: 98",
          "Name: Russell<br>Count: 97",
          "Name: Jamie<br>Count: 96",
          "Name: Katherine<br>Count: 96",
          "Name: Gina<br>Count: 96",
          "Name: Janet<br>Count: 96",
          "Name: Greg<br>Count: 95",
          "Name: Todd<br>Count: 95",
          "Name: Beth<br>Count: 95",
          "Name: Lily<br>Count: 95",
          "Name: Bruce<br>Count: 95",
          "Name: Dorothy<br>Count: 94",
          "Name: Jesse<br>Count: 94",
          "Name: Juan<br>Count: 94",
          "Name: Sharon<br>Count: 93",
          "Name: Ted<br>Count: 93",
          "Name: Nora<br>Count: 93",
          "Name: Christopher<br>Count: 92",
          "Name: Hannah<br>Count: 92",
          "Name: Liz<br>Count: 92",
          "Name: Jan<br>Count: 92",
          "Name: Leslie<br>Count: 92",
          "Name: Waiter<br>Count: 92",
          "Name: Lawrence<br>Count: 92",
          "Name: Victoria<br>Count: 91",
          "Name: Ajay<br>Count: 91",
          "Name: Carla<br>Count: 90",
          "Name: Ali<br>Count: 90",
          "Name: Debbie<br>Count: 89",
          "Name: Derek<br>Count: 89",
          "Name: Jeff<br>Count: 89",
          "Name: Sandra<br>Count: 88",
          "Name: Neil<br>Count: 88",
          "Name: Tracy<br>Count: 88",
          "Name: Anjali<br>Count: 88",
          "Name: Jean<br>Count: 87",
          "Name: Emma<br>Count: 87",
          "Name: Harris<br>Count: 87",
          "Name: Tanya<br>Count: 87",
          "Name: Miles<br>Count: 87",
          "Name: Sylvia<br>Count: 87",
          "Name: Felix<br>Count: 86",
          "Name: Smith<br>Count: 86",
          "Name: Wayne<br>Count: 86",
          "Name: Luke<br>Count: 85",
          "Name: Gwen<br>Count: 85",
          "Name: Buddy<br>Count: 85",
          "Name: Daffy<br>Count: 84",
          "Name: Lola<br>Count: 84",
          "Name: Paula<br>Count: 84",
          "Name: Anita<br>Count: 84",
          "Name: Don<br>Count: 84",
          "Name: Stephanie<br>Count: 83",
          "Name: Kenny<br>Count: 83",
          "Name: Nicholas<br>Count: 83",
          "Name: Douglas<br>Count: 83",
          "Name: Cynthia<br>Count: 83",
          "Name: Sheila<br>Count: 83",
          "Name: Harvey<br>Count: 83",
          "Name: Bernard<br>Count: 82",
          "Name: Nathan<br>Count: 82",
          "Name: Victor<br>Count: 82",
          "Name: Josh<br>Count: 82",
          "Name: Evelyn<br>Count: 82",
          "Name: Natalie<br>Count: 82",
          "Name: Mitch<br>Count: 81",
          "Name: Shankar<br>Count: 81",
          "Name: Maya<br>Count: 81",
          "Name: Ned<br>Count: 81",
          "Name: Justin<br>Count: 81",
          "Name: Craig<br>Count: 81",
          "Name: Alan<br>Count: 81",
          "Name: Ricky<br>Count: 81",
          "Name: Marshall<br>Count: 80",
          "Name: Il<br>Count: 80",
          "Name: Maurice<br>Count: 80",
          "Name: Brenda<br>Count: 80",
          "Name: Kyle<br>Count: 79",
          "Name: Will<br>Count: 79",
          "Name: Jay<br>Count: 79",
          "Name: Vicky<br>Count: 79",
          "Name: Denise<br>Count: 79",
          "Name: Robin<br>Count: 79",
          "Name: Ashley<br>Count: 79",
          "Name: Angel<br>Count: 79",
          "Name: Tyler<br>Count: 78",
          "Name: Kumar<br>Count: 78",
          "Name: Kathy<br>Count: 78",
          "Name: Alfred<br>Count: 78",
          "Name: Casey<br>Count: 77",
          "Name: Ian<br>Count: 77",
          "Name: Anderson<br>Count: 77",
          "Name: Hans<br>Count: 77",
          "Name: Al<br>Count: 77",
          "Name: Patricia<br>Count: 77",
          "Name: Rick<br>Count: 77",
          "Name: Vanessa<br>Count: 77",
          "Name: Park<br>Count: 76",
          "Name: Lynn<br>Count: 76",
          "Name: Prince<br>Count: 75",
          "Name: Chuck<br>Count: 75",
          "Name: Rosa<br>Count: 75",
          "Name: Oscar<br>Count: 75",
          "Name: Sandy<br>Count: 75",
          "Name: Antonio<br>Count: 75",
          "Name: Arnold<br>Count: 74",
          "Name: Karan<br>Count: 74",
          "Name: Freddy<br>Count: 74",
          "Name: Lloyd<br>Count: 74",
          "Name: Rahul<br>Count: 74",
          "Name: Barry<br>Count: 73",
          "Name: Lauren<br>Count: 73",
          "Name: Teresa<br>Count: 73",
          "Name: Joyce<br>Count: 73",
          "Name: Leonard<br>Count: 72",
          "Name: Jeremy<br>Count: 72",
          "Name: Teddy<br>Count: 72",
          "Name: Leon<br>Count: 72",
          "Name: Andrea<br>Count: 72",
          "Name: Frau<br>Count: 71",
          "Name: Ronnie<br>Count: 71",
          "Name: Doris<br>Count: 71",
          "Name: Morgan<br>Count: 71",
          "Name: Allen<br>Count: 71",
          "Name: Mama<br>Count: 71",
          "Name: Thompson<br>Count: 71",
          "Name: Melissa<br>Count: 71",
          "Name: Valerie<br>Count: 70",
          "Name: Marion<br>Count: 70",
          "Name: Pamela<br>Count: 70",
          "Name: Audrey<br>Count: 70",
          "Name: Randy<br>Count: 70",
          "Name: Veronica<br>Count: 70",
          "Name: Jessie<br>Count: 70",
          "Name: Gabriel<br>Count: 69",
          "Name: Bruno<br>Count: 69",
          "Name: Becky<br>Count: 69",
          "Name: Heather<br>Count: 69",
          "Name: Mitchell<br>Count: 69",
          "Name: Keith<br>Count: 68",
          "Name: Suzanne<br>Count: 68",
          "Name: Girlfriend<br>Count: 68",
          "Name: Ann<br>Count: 68",
          "Name: Allison<br>Count: 68",
          "Name: Carmen<br>Count: 68",
          "Name: Elena<br>Count: 68",
          "Name: Raju<br>Count: 68",
          "Name: Abby<br>Count: 68",
          "Name: Ernie<br>Count: 67",
          "Name: Lenny<br>Count: 67",
          "Name: Megan<br>Count: 67",
          "Name: Clara<br>Count: 67",
          "Name: Ashok<br>Count: 67",
          "Name: Rosie<br>Count: 67",
          "Name: Ruth<br>Count: 66",
          "Name: Eugene<br>Count: 66",
          "Name: Carrie<br>Count: 65",
          "Name: Vincent<br>Count: 65",
          "Name: Evans<br>Count: 65",
          "Name: Ralph<br>Count: 65",
          "Name: Bonnie<br>Count: 65",
          "Name: Angie<br>Count: 65",
          "Name: Chloe<br>Count: 65",
          "Name: Lester<br>Count: 65",
          "Name: Julian<br>Count: 65",
          "Name: Eve<br>Count: 65",
          "Name: Donna<br>Count: 64",
          "Name: Mohan<br>Count: 64",
          "Name: Abraham<br>Count: 64",
          "Name: Olivia<br>Count: 64",
          "Name: Janice<br>Count: 64",
          "Name: Malcolm<br>Count: 64",
          "Name: Vic<br>Count: 64",
          "Name: Vince<br>Count: 64",
          "Name: Nikki<br>Count: 63",
          "Name: Herbert<br>Count: 63",
          "Name: Caroline<br>Count: 63",
          "Name: Hunter<br>Count: 63",
          "Name: Virginia<br>Count: 63",
          "Name: Marvin<br>Count: 63",
          "Name: Santa<br>Count: 63",
          "Name: Eleanor<br>Count: 63",
          "Name: Aaron<br>Count: 63",
          "Name: Willie<br>Count: 63",
          "Name: Brooke<br>Count: 62",
          "Name: Christian<br>Count: 62",
          "Name: Ethan<br>Count: 62",
          "Name: Vivian<br>Count: 62",
          "Name: Anand<br>Count: 62",
          "Name: Claude<br>Count: 62",
          "Name: Edgar<br>Count: 62",
          "Name: Krishna<br>Count: 62",
          "Name: Natasha<br>Count: 61",
          "Name: Mario<br>Count: 61",
          "Name: Steven<br>Count: 61",
          "Name: Shekhar<br>Count: 61",
          "Name: Shanti<br>Count: 61",
          "Name: Claudia<br>Count: 61",
          "Name: Brad<br>Count: 60",
          "Name: Lena<br>Count: 60",
          "Name: Dick<br>Count: 60",
          "Name: Curtis<br>Count: 60",
          "Name: Mona<br>Count: 60",
          "Name: Wallace<br>Count: 60",
          "Name: Cathy<br>Count: 60",
          "Name: Anton<br>Count: 60",
          "Name: Sebastian<br>Count: 60",
          "Name: Ellie<br>Count: 60",
          "Name: Ram<br>Count: 60",
          "Name: Adams<br>Count: 59",
          "Name: Polly<br>Count: 59",
          "Name: Joey<br>Count: 58",
          "Name: Prem<br>Count: 58",
          "Name: Miguel<br>Count: 58",
          "Name: Ken<br>Count: 58",
          "Name: Olga<br>Count: 58",
          "Name: Duke<br>Count: 58",
          "Name: Nigel<br>Count: 58",
          "Name: Mac<br>Count: 58",
          "Name: Wolf<br>Count: 57",
          "Name: Herman<br>Count: 57",
          "Name: Watson<br>Count: 57",
          "Name: Zoe<br>Count: 57",
          "Name: Mayor<br>Count: 57",
          "Name: Gail<br>Count: 57",
          "Name: Lucas<br>Count: 56",
          "Name: Bernie<br>Count: 56",
          "Name: Noah<br>Count: 56",
          "Name: Gregory<br>Count: 56",
          "Name: Kenneth<br>Count: 56",
          "Name: Hal<br>Count: 56",
          "Name: Shirley<br>Count: 56",
          "Name: Stella<br>Count: 56",
          "Name: Hank<br>Count: 56",
          "Name: Elliot<br>Count: 56",
          "Name: Winston<br>Count: 56",
          "Name: Miranda<br>Count: 56",
          "Name: Geeta<br>Count: 55",
          "Name: Nisha<br>Count: 55",
          "Name: Sue<br>Count: 55",
          "Name: von<br>Count: 55",
          "Name: Daisy<br>Count: 55",
          "Name: Jai<br>Count: 55",
          "Name: Boris<br>Count: 55",
          "Name: Holly<br>Count: 55",
          "Name: Randall<br>Count: 55",
          "Name: Seema<br>Count: 55",
          "Name: Laurie<br>Count: 55",
          "Name: Owen<br>Count: 55",
          "Name: Frances<br>Count: 54",
          "Name: Cheryl<br>Count: 54",
          "Name: Hugo<br>Count: 54",
          "Name: Alicia<br>Count: 54",
          "Name: Henri<br>Count: 54",
          "Name: Ronald<br>Count: 54",
          "Name: Phillip<br>Count: 54",
          "Name: Sid<br>Count: 54",
          "Name: Sapna<br>Count: 54",
          "Name: Earl<br>Count: 54",
          "Name: Bert<br>Count: 54",
          "Name: Lydia<br>Count: 53",
          "Name: Shyam<br>Count: 53",
          "Name: Joanna<br>Count: 53",
          "Name: Ernest<br>Count: 53",
          "Name: Cameron<br>Count: 53",
          "Name: Lakshmi<br>Count: 53",
          "Name: Butler<br>Count: 53",
          "Name: April<br>Count: 53",
          "Name: La<br>Count: 53",
          "Name: Carson<br>Count: 52",
          "Name: Suraj<br>Count: 52",
          "Name: Marianne<br>Count: 52",
          "Name: Asha<br>Count: 52",
          "Name: Dana<br>Count: 52",
          "Name: Rudy<br>Count: 52",
          "Name: Kitty<br>Count: 52",
          "Name: Son<br>Count: 52",
          "Name: Roberts<br>Count: 52",
          "Name: Jesus<br>Count: 52",
          "Name: Jacques<br>Count: 52",
          "Name: Kapoor<br>Count: 52",
          "Name: Duncan<br>Count: 52",
          "Name: Freddie<br>Count: 52",
          "Name: Esther<br>Count: 51",
          "Name: Dean<br>Count: 51",
          "Name: Sullivan<br>Count: 51",
          "Name: Lewis<br>Count: 51",
          "Name: Calvin<br>Count: 51",
          "Name: Frederick<br>Count: 51",
          "Name: Pat<br>Count: 51",
          "Name: Judith<br>Count: 51",
          "Name: Lillian<br>Count: 51",
          "Name: Rocky<br>Count: 51",
          "Name: Sasha<br>Count: 50",
          "Name: Susie<br>Count: 50",
          "Name: Hugh<br>Count: 50",
          "Name: Clyde<br>Count: 50",
          "Name: Sidney<br>Count: 50",
          "Name: Von<br>Count: 50",
          "Name: Harrison<br>Count: 50",
          "Name: Gerald<br>Count: 50",
          "Name: Andre<br>Count: 50",
          "Name: Agnes<br>Count: 50",
          "Name: Isabel<br>Count: 50",
          "Name: mère<br>Count: 50",
          "Name: Luther<br>Count: 50",
          "Name: Dylan<br>Count: 50",
          "Name: Joel<br>Count: 50",
          "Name: Stuart<br>Count: 49",
          "Name: Major<br>Count: 49",
          "Name: Ruby<br>Count: 49",
          "Name: Penny<br>Count: 49",
          "Name: Beatrice<br>Count: 49",
          "Name: Bennett<br>Count: 49",
          "Name: Wanda<br>Count: 49",
          "Name: Theresa<br>Count: 49",
          "Name: Angelo<br>Count: 49",
          "Name: Jose<br>Count: 49",
          "Name: Fan<br>Count: 49",
          "Name: Mandy<br>Count: 49",
          "Name: Percy<br>Count: 49",
          "Name: Chen<br>Count: 48",
          "Name: Franz<br>Count: 48",
          "Name: Miriam<br>Count: 48",
          "Name: Irene<br>Count: 48",
          "Name: Rob<br>Count: 48",
          "Name: Mia<br>Count: 48",
          "Name: Jo<br>Count: 48",
          "Name: Malhotra<br>Count: 48",
          "Name: Fiona<br>Count: 48",
          "Name: Kurt<br>Count: 48",
          "Name: Hamilton<br>Count: 48",
          "Name: Mabel<br>Count: 47",
          "Name: Porter<br>Count: 47",
          "Name: Preston<br>Count: 47",
          "Name: Isabelle<br>Count: 47",
          "Name: Candy<br>Count: 47",
          "Name: Melanie<br>Count: 47",
          "Name: Yvonne<br>Count: 47",
          "Name: Murphy<br>Count: 47",
          "Name: Constance<br>Count: 47",
          "Name: Gopal<br>Count: 47",
          "Name: Phyllis<br>Count: 47",
          "Name: Meena<br>Count: 47",
          "Name: Richie<br>Count: 47",
          "Name: Raj<br>Count: 47",
          "Name: Omar<br>Count: 47",
          "Name: Der<br>Count: 47",
          "Name: Peggy<br>Count: 47",
          "Name: Lois<br>Count: 47",
          "Name: Adrian<br>Count: 47",
          "Name: Bear<br>Count: 46",
          "Name: Antoine<br>Count: 46",
          "Name: Campbell<br>Count: 46",
          "Name: Woody<br>Count: 46",
          "Name: Lucky<br>Count: 46",
          "Name: Jeffrey<br>Count: 46",
          "Name: Zack<br>Count: 46",
          "Name: Trevor<br>Count: 46",
          "Name: Simone<br>Count: 46",
          "Name: Erica<br>Count: 46",
          "Name: Lilly<br>Count: 46",
          "Name: Harriet<br>Count: 46",
          "Name: Helena<br>Count: 46",
          "Name: Edith<br>Count: 46",
          "Name: Carlo<br>Count: 45",
          "Name: Mimi<br>Count: 45",
          "Name: Rani<br>Count: 45",
          "Name: Marilyn<br>Count: 45",
          "Name: Iris<br>Count: 45",
          "Name: Jeanne<br>Count: 45",
          "Name: Roland<br>Count: 45",
          "Name: Amber<br>Count: 45",
          "Name: Moore<br>Count: 45",
          "Name: Rajesh<br>Count: 45",
          "Name: Stevens<br>Count: 45",
          "Name: Dolores<br>Count: 45",
          "Name: Patty<br>Count: 45",
          "Name: Rogers<br>Count: 45",
          "Name: Tara<br>Count: 45",
          "Name: Maureen<br>Count: 45",
          "Name: François<br>Count: 45",
          "Name: Barney<br>Count: 45",
          "Name: Sadie<br>Count: 44",
          "Name: Parvati<br>Count: 44",
          "Name: Julius<br>Count: 44",
          "Name: Luis<br>Count: 44",
          "Name: Brandon<br>Count: 44",
          "Name: Holmes<br>Count: 44",
          "Name: Colin<br>Count: 44",
          "Name: Vernon<br>Count: 44",
          "Name: Warden<br>Count: 44",
          "Name: Christmas<br>Count: 44",
          "Name: Manuel<br>Count: 44",
          "Name: Daphne<br>Count: 44",
          "Name: Madeleine<br>Count: 44",
          "Name: Kathleen<br>Count: 44",
          "Name: Philippe<br>Count: 44",
          "Name: Mme<br>Count: 44",
          "Name: Stewart<br>Count: 44",
          "Name: Elsa<br>Count: 43",
          "Name: Elmer<br>Count: 43",
          "Name: Celia<br>Count: 43",
          "Name: Carter<br>Count: 43",
          "Name: Cat<br>Count: 43",
          "Name: French<br>Count: 43",
          "Name: Clarence<br>Count: 43",
          "Name: Seth<br>Count: 43",
          "Name: Boyfriend<br>Count: 43",
          "Name: Evan<br>Count: 43",
          "Name: Charley<br>Count: 43",
          "Name: Meg<br>Count: 43",
          "Name: Pauline<br>Count: 43",
          "Name: Deborah<br>Count: 43",
          "Name: Joshua<br>Count: 43",
          "Name: Alexandra<br>Count: 43",
          "Name: Eli<br>Count: 43",
          "Name: Jonas<br>Count: 42",
          "Name: Abdul<br>Count: 42",
          "Name: Ella<br>Count: 42",
          "Name: Gauri<br>Count: 42",
          "Name: Madhu<br>Count: 42",
          "Name: Murray<br>Count: 42",
          "Name: Phillips<br>Count: 42",
          "Name: June<br>Count: 42",
          "Name: Sanjay<br>Count: 42",
          "Name: Prakash<br>Count: 42",
          "Name: Hector<br>Count: 42",
          "Name: Theodore<br>Count: 42",
          "Name: Riley<br>Count: 42",
          "Name: Lance<br>Count: 42",
          "Name: Marjorie<br>Count: 42",
          "Name: Carolyn<br>Count: 42",
          "Name: Floyd<br>Count: 42",
          "Name: Beverly<br>Count: 42",
          "Name: Laxmi<br>Count: 42",
          "Name: Benny<br>Count: 42",
          "Name: Sammy<br>Count: 42",
          "Name: Virgil<br>Count: 42",
          "Name: Fanny<br>Count: 41",
          "Name: Tiffany<br>Count: 41",
          "Name: Nelson<br>Count: 41",
          "Name: Kiran<br>Count: 41",
          "Name: Toby<br>Count: 41",
          "Name: Han<br>Count: 41",
          "Name: Reggie<br>Count: 41",
          "Name: Ramesh<br>Count: 41",
          "Name: Robinson<br>Count: 41",
          "Name: Jules<br>Count: 41",
          "Name: Logan<br>Count: 41",
          "Name: Nandini<br>Count: 41",
          "Name: Graham<br>Count: 41",
          "Name: Jordan<br>Count: 41",
          "Name: Danielle<br>Count: 41",
          "Name: Elaine<br>Count: 41",
          "Name: Stacy<br>Count: 41",
          "Name: Eileen<br>Count: 41",
          "Name: Bridget<br>Count: 41",
          "Name: Pratap<br>Count: 41",
          "Name: Pedro<br>Count: 41",
          "Name: Trish<br>Count: 40",
          "Name: Deepak<br>Count: 40",
          "Name: Arun<br>Count: 40",
          "Name: Quinn<br>Count: 40",
          "Name: Jenkins<br>Count: 40",
          "Name: Art<br>Count: 40",
          "Name: Rohit<br>Count: 40",
          "Name: Neha<br>Count: 40",
          "Name: Archie<br>Count: 40",
          "Name: Isabella<br>Count: 40",
          "Name: Courtney<br>Count: 40",
          "Name: Blake<br>Count: 40",
          "Name: Betsy<br>Count: 40",
          "Name: Darcy<br>Count: 40",
          "Name: Raoul<br>Count: 40",
          "Name: Penelope<br>Count: 40",
          "Name: Troy<br>Count: 39",
          "Name: Sylvester<br>Count: 39",
          "Name: Robbie<br>Count: 39",
          "Name: Brady<br>Count: 39",
          "Name: Sonny<br>Count: 39",
          "Name: Sandhya<br>Count: 39",
          "Name: Parker<br>Count: 39",
          "Name: Vera<br>Count: 39",
          "Name: Bud<br>Count: 39",
          "Name: Benson<br>Count: 39",
          "Name: Mason<br>Count: 39",
          "Name: Brooks<br>Count: 38",
          "Name: Benjamin<br>Count: 38",
          "Name: Clayton<br>Count: 38",
          "Name: Sharma<br>Count: 38",
          "Name: Bart<br>Count: 38",
          "Name: Michel<br>Count: 38",
          "Name: Darren<br>Count: 38",
          "Name: Jorge<br>Count: 38",
          "Name: Del<br>Count: 38",
          "Name: Travis<br>Count: 38",
          "Name: Ingrid<br>Count: 38",
          "Name: Isaac<br>Count: 38",
          "Name: Wyatt<br>Count: 38",
          "Name: Shane<br>Count: 38",
          "Name: Edna<br>Count: 38",
          "Name: Dracula<br>Count: 38",
          "Name: Doyle<br>Count: 38",
          "Name: Christina<br>Count: 38",
          "Name: Voices<br>Count: 38",
          "Name: Gertrude<br>Count: 38",
          "Name: Cooper<br>Count: 37",
          "Name: Leah<br>Count: 37",
          "Name: Stu<br>Count: 37",
          "Name: Joy<br>Count: 37",
          "Name: Barnes<br>Count: 37",
          "Name: Aarti<br>Count: 37",
          "Name: Lyle<br>Count: 37",
          "Name: Billie<br>Count: 37",
          "Name: Horace<br>Count: 37",
          "Name: Aditya<br>Count: 37",
          "Name: Cody<br>Count: 37",
          "Name: Hayes<br>Count: 37",
          "Name: Pam<br>Count: 37",
          "Name: Ida<br>Count: 37",
          "Name: Vinod<br>Count: 37",
          "Name: May<br>Count: 37",
          "Name: Violet<br>Count: 37",
          "Name: Nate<br>Count: 37",
          "Name: Dora<br>Count: 37",
          "Name: Rhonda<br>Count: 36",
          "Name: père<br>Count: 36",
          "Name: Lila<br>Count: 36",
          "Name: Nolan<br>Count: 36",
          "Name: Trent<br>Count: 36",
          "Name: Kane<br>Count: 36",
          "Name: Conrad<br>Count: 36",
          "Name: Gladys<br>Count: 36",
          "Name: Vicki<br>Count: 36",
          "Name: Fox<br>Count: 36",
          "Name: Annette<br>Count: 36",
          "Name: Greta<br>Count: 36",
          "Name: Sameer<br>Count: 36",
          "Name: Dale<br>Count: 36",
          "Name: Dominic<br>Count: 36",
          "Name: Roberto<br>Count: 36",
          "Name: Shiva<br>Count: 36",
          "Name: Hudson<br>Count: 36",
          "Name: Madison<br>Count: 36",
          "Name: Lucille<br>Count: 36",
          "Name: Henderson<br>Count: 35",
          "Name: Luigi<br>Count: 35",
          "Name: Stanton<br>Count: 35",
          "Name: Clark<br>Count: 35",
          "Name: Biker<br>Count: 35",
          "Name: Diego<br>Count: 35",
          "Name: Devi<br>Count: 35",
          "Name: Fran<br>Count: 35",
          "Name: Jamal<br>Count: 35",
          "Name: Sunil<br>Count: 35",
          "Name: Sydney<br>Count: 35",
          "Name: Ahmed<br>Count: 35",
          "Name: Toni<br>Count: 35",
          "Name: Bradley<br>Count: 35",
          "Name: Sofia<br>Count: 35",
          "Name: Herr<br>Count: 35",
          "Name: Peterson<br>Count: 35",
          "Name: Chandra<br>Count: 35",
          "Name: Rekha<br>Count: 35",
          "Name: Bride<br>Count: 35",
          "Name: Joanne<br>Count: 35",
          "Name: Raghu<br>Count: 35",
          "Name: Rupert<br>Count: 35",
          "Name: Fritz<br>Count: 35",
          "Name: Rex<br>Count: 35",
          "Name: Georgia<br>Count: 35",
          "Name: Stefan<br>Count: 35",
          "Name: Naomi<br>Count: 34",
          "Name: Meredith<br>Count: 34",
          "Name: Franklin<br>Count: 34",
          "Name: Blanche<br>Count: 34",
          "Name: Ana<br>Count: 34",
          "Name: Meenakshi<br>Count: 34",
          "Name: Gil<br>Count: 34",
          "Name: Walker<br>Count: 34",
          "Name: Wade<br>Count: 34",
          "Name: Burns<br>Count: 34",
          "Name: Dolly<br>Count: 34",
          "Name: Glenn<br>Count: 34",
          "Name: Margo<br>Count: 34",
          "Name: Wells<br>Count: 34",
          "Name: Erik<br>Count: 34",
          "Name: Cole<br>Count: 34",
          "Name: Wally<br>Count: 34",
          "Name: Choi<br>Count: 34",
          "Name: Jerome<br>Count: 34",
          "Name: Lorraine<br>Count: 33",
          "Name: Louie<br>Count: 33",
          "Name: Igor<br>Count: 33",
          "Name: Millie<br>Count: 33",
          "Name: Kay<br>Count: 33",
          "Name: Meera<br>Count: 33",
          "Name: Marcia<br>Count: 33",
          "Name: Marta<br>Count: 33",
          "Name: Javier<br>Count: 33",
          "Name: Kamini<br>Count: 33",
          "Name: Yu<br>Count: 33",
          "Name: Van<br>Count: 33",
          "Name: Verma<br>Count: 33",
          "Name: Austin<br>Count: 33",
          "Name: Crawford<br>Count: 33",
          "Name: Marco<br>Count: 33",
          "Name: Warren<br>Count: 33",
          "Name: Grant<br>Count: 33",
          "Name: Buck<br>Count: 33",
          "Name: Roberta<br>Count: 33",
          "Name: Montgomery<br>Count: 33",
          "Name: Jensen<br>Count: 33",
          "Name: Geoffrey<br>Count: 33",
          "Name: Finn<br>Count: 33",
          "Name: Gypsy<br>Count: 33",
          "Name: Moses<br>Count: 33",
          "Name: Morris<br>Count: 33",
          "Name: Elisabeth<br>Count: 32",
          "Name: Ross<br>Count: 32",
          "Name: Mildred<br>Count: 32",
          "Name: Dwight<br>Count: 32",
          "Name: Sal<br>Count: 32",
          "Name: Milton<br>Count: 32",
          "Name: Ellis<br>Count: 32",
          "Name: Briggs<br>Count: 32",
          "Name: Hari<br>Count: 32",
          "Name: Francesca<br>Count: 32",
          "Name: Rico<br>Count: 32",
          "Name: Regina<br>Count: 32",
          "Name: Suzie<br>Count: 32",
          "Name: Divya<br>Count: 32",
          "Name: Anu<br>Count: 32",
          "Name: Savitri<br>Count: 32",
          "Name: Georgie<br>Count: 32",
          "Name: Saxena<br>Count: 32",
          "Name: Alison<br>Count: 32",
          "Name: Wesley<br>Count: 32",
          "Name: Nicky<br>Count: 32",
          "Name: Dee<br>Count: 32",
          "Name: Preeti<br>Count: 32",
          "Name: Quentin<br>Count: 32",
          "Name: Sherman<br>Count: 32",
          "Name: Renee<br>Count: 32",
          "Name: Reynolds<br>Count: 32",
          "Name: Ajit<br>Count: 32",
          "Name: Siddharth<br>Count: 32",
          "Name: Jen<br>Count: 31",
          "Name: Roman<br>Count: 31",
          "Name: Randolph<br>Count: 31",
          "Name: Rai<br>Count: 31",
          "Name: Spencer<br>Count: 31",
          "Name: Wes<br>Count: 31",
          "Name: Dante<br>Count: 31",
          "Name: Fernando<br>Count: 31",
          "Name: Tess<br>Count: 31",
          "Name: Jared<br>Count: 31",
          "Name: Camille<br>Count: 31",
          "Name: Bunny<br>Count: 31",
          "Name: Damien<br>Count: 31",
          "Name: Alexis<br>Count: 31",
          "Name: Elise<br>Count: 31",
          "Name: Butch<br>Count: 31",
          "Name: Theo<br>Count: 31",
          "Name: Serena<br>Count: 31",
          "Name: Tarzan<br>Count: 31",
          "Name: Lara<br>Count: 31",
          "Name: Nadia<br>Count: 31",
          "Name: Angus<br>Count: 31",
          "Name: Harlan<br>Count: 31",
          "Name: Matthews<br>Count: 31",
          "Name: Agatha<br>Count: 31",
          "Name: Shelly<br>Count: 31",
          "Name: Yuri<br>Count: 31",
          "Name: Monty<br>Count: 31",
          "Name: Otto<br>Count: 31",
          "Name: Gabrielle<br>Count: 31",
          "Name: Ira<br>Count: 31",
          "Name: Stevie<br>Count: 30",
          "Name: Shannon<br>Count: 30",
          "Name: Cecil<br>Count: 30",
          "Name: Francisco<br>Count: 30",
          "Name: Connor<br>Count: 30",
          "Name: Perry<br>Count: 30",
          "Name: Gilbert<br>Count: 30",
          "Name: Havaldar<br>Count: 30",
          "Name: Janine<br>Count: 30",
          "Name: Cassandra<br>Count: 30",
          "Name: Sanjana<br>Count: 30",
          "Name: Wu<br>Count: 30",
          "Name: Gopi<br>Count: 30",
          "Name: Romeo<br>Count: 30",
          "Name: Belle<br>Count: 30",
          "Name: Morton<br>Count: 30",
          "Name: Werner<br>Count: 30",
          "Name: Flynn<br>Count: 30",
          "Name: Madge<br>Count: 30",
          "Name: Gretchen<br>Count: 30",
          "Name: Monique<br>Count: 30",
          "Name: Wang<br>Count: 30",
          "Name: Josef<br>Count: 30",
          "Name: Rama<br>Count: 30",
          "Name: Timmy<br>Count: 30",
          "Name: Alberto<br>Count: 30",
          "Name: Willis<br>Count: 30",
          "Name: Abel<br>Count: 30",
          "Name: Margot<br>Count: 30",
          "Name: Khanna<br>Count: 30",
          "Name: Amos<br>Count: 30",
          "Name: Simpson<br>Count: 30",
          "Name: Alvin<br>Count: 30",
          "Name: Bates<br>Count: 30",
          "Name: Mala<br>Count: 30",
          "Name: Cookie<br>Count: 30",
          "Name: Chan<br>Count: 30",
          "Name: Roopa<br>Count: 30",
          "Name: Kirby<br>Count: 30",
          "Name: Adele<br>Count: 30",
          "Name: Artie<br>Count: 30",
          "Name: Gavin<br>Count: 29",
          "Name: Vishal<br>Count: 29",
          "Name: Stacey<br>Count: 29",
          "Name: English<br>Count: 29",
          "Name: Dwayne<br>Count: 29",
          "Name: Gerry<br>Count: 29",
          "Name: Durga<br>Count: 29",
          "Name: Salim<br>Count: 29",
          "Name: Peters<br>Count: 29",
          "Name: Mallory<br>Count: 29",
          "Name: Rich<br>Count: 29",
          "Name: Jennings<br>Count: 29",
          "Name: Powell<br>Count: 29",
          "Name: Pearl<br>Count: 29",
          "Name: Klaus<br>Count: 29",
          "Name: Marian<br>Count: 29",
          "Name: Monroe<br>Count: 29",
          "Name: Mikey<br>Count: 29",
          "Name: Rene<br>Count: 29",
          "Name: Vinnie<br>Count: 29",
          "Name: Dawn<br>Count: 29",
          "Name: Sunita<br>Count: 29",
          "Name: Emmett<br>Count: 29",
          "Name: Edwards<br>Count: 29",
          "Name: Chad<br>Count: 29",
          "Name: Manny<br>Count: 29",
          "Name: Jasmine<br>Count: 29",
          "Name: Bella<br>Count: 29",
          "Name: Gupta<br>Count: 28",
          "Name: Jasper<br>Count: 28",
          "Name: Kennedy<br>Count: 28",
          "Name: Mahesh<br>Count: 28",
          "Name: Bryan<br>Count: 28",
          "Name: Kimberly<br>Count: 28",
          "Name: Star<br>Count: 28",
          "Name: Roxanne<br>Count: 28",
          "Name: Erin<br>Count: 28",
          "Name: Nadine<br>Count: 28",
          "Name: Juliet<br>Count: 28",
          "Name: Sherry<br>Count: 28",
          "Name: Bailey<br>Count: 28",
          "Name: Suman<br>Count: 28",
          "Name: Morrison<br>Count: 28",
          "Name: Darryl<br>Count: 28",
          "Name: Milo<br>Count: 28",
          "Name: Edwin<br>Count: 28",
          "Name: Jon<br>Count: 28",
          "Name: Spike<br>Count: 28",
          "Name: Chelsea<br>Count: 28",
          "Name: Georges<br>Count: 28",
          "Name: Clifford<br>Count: 28",
          "Name: Andrews<br>Count: 28",
          "Name: Perkins<br>Count: 28",
          "Name: Turner<br>Count: 28",
          "Name: Hélène<br>Count: 28",
          "Name: Lincoln<br>Count: 28",
          "Name: Trudy<br>Count: 28",
          "Name: Bishop<br>Count: 28",
          "Name: Shobha<br>Count: 28",
          "Name: Zach<br>Count: 27",
          "Name: Donnie<br>Count: 27",
          "Name: Madre<br>Count: 27",
          "Name: Byron<br>Count: 27",
          "Name: Chet<br>Count: 27",
          "Name: Burke<br>Count: 27",
          "Name: Norma<br>Count: 27",
          "Name: Foster<br>Count: 27",
          "Name: Melvin<br>Count: 27",
          "Name: Lorna<br>Count: 27",
          "Name: Banks<br>Count: 27",
          "Name: Willy<br>Count: 27",
          "Name: Marcel<br>Count: 27",
          "Name: Rajiv<br>Count: 27",
          "Name: Manu<br>Count: 27",
          "Name: Jess<br>Count: 27",
          "Name: Liu<br>Count: 27",
          "Name: Robby<br>Count: 27",
          "Name: Godzilla<br>Count: 27",
          "Name: Suzy<br>Count: 27",
          "Name: Alma<br>Count: 27",
          "Name: Simmons<br>Count: 27",
          "Name: Juliette<br>Count: 27"
         ],
         "line": {
          "color": "skyblue"
         },
         "mode": "lines+markers",
         "name": "Character Count",
         "type": "scatter",
         "x": [
          "John",
          "George",
          "Tom",
          "David",
          "Paul",
          "James",
          "Michael",
          "Robert",
          "Jack",
          "Jim",
          "Charlie",
          "Richard",
          "Charles",
          "William",
          "Sarah",
          "Mary",
          "Joe",
          "Thomas",
          "Steve",
          "Frank",
          "Eddie",
          "Alex",
          "Max",
          "Helen",
          "Alice",
          "Sam",
          "Susan",
          "Johnny",
          "Kate",
          "Danny",
          "Julie",
          "Arthur",
          "Elizabeth",
          "Peter",
          "Rachel",
          "Harry",
          "Bob",
          "Mike",
          "Dave",
          "Lisa",
          "Chris",
          "Jimmy",
          "Simon",
          "Billy",
          "Bill",
          "Joseph",
          "Anna",
          "Daniel",
          "Ben",
          "Claire",
          "Barbara",
          "Karen",
          "Jason",
          "Kevin",
          "Tony",
          "Fred",
          "Marie",
          "Linda",
          "Annie",
          "Brian",
          "Anne",
          "Ed",
          "Maria",
          "Phil",
          "Adam",
          "Henry",
          "Maggie",
          "Andy",
          "Margaret",
          "Guy",
          "Emily",
          "Jones",
          "Tim",
          "Roy",
          "Moe",
          "Matt",
          "Scott",
          "Edward",
          "Louis",
          "Howard",
          "Jane",
          "Nick",
          "Bobby",
          "Mark",
          "Kim",
          "Jennifer",
          "Laura",
          "Ellen",
          "Martin",
          "Sara",
          "Tommy",
          "Angela",
          "Johnson",
          "Mickey",
          "Charlotte",
          "Lee",
          "Martha",
          "Vijay",
          "Julia",
          "Philip",
          "Ryan",
          "Jerry",
          "Louise",
          "Amy",
          "Andrew",
          "Lucy",
          "Gloria",
          "Albert",
          "Pete",
          "Jake",
          "Wilson",
          "Samantha",
          "Jessica",
          "Gary",
          "Harold",
          "Amanda",
          "Taylor",
          "Catherine",
          "Kelly",
          "Dan",
          "Jonathan",
          "Diane",
          "Kid",
          "Anthony",
          "Jenny",
          "Ray",
          "Tina",
          "Lou",
          "Larry",
          "Bugs",
          "Rose",
          "Jackson",
          "Alexander",
          "Sean",
          "Gordon",
          "Red",
          "Leo",
          "Sophie",
          "Karl",
          "Walter",
          "Dennis",
          "Sergeant",
          "Betty",
          "Jackie",
          "Donald",
          "Patrick",
          "Carol",
          "Rebecca",
          "Katie",
          "Sally",
          "Priya",
          "Wendy",
          "Jill",
          "Frankie",
          "Joan",
          "Stephen",
          "Marty",
          "Stanley",
          "Francis",
          "Ravi",
          "Nicole",
          "Nina",
          "Judy",
          "Eva",
          "Doug",
          "Carl",
          "Carlos",
          "Christine",
          "Roger",
          "Norman",
          "Williams",
          "Raymond",
          "Terry",
          "Connie",
          "Radha",
          "Grace",
          "Oliver",
          "Marcus",
          "Ron",
          "King",
          "Samuel",
          "Jacob",
          "Stan",
          "Michelle",
          "Gus",
          "Eric",
          "Diana",
          "Pooja",
          "Pierre",
          "Davis",
          "Matthew",
          "Nancy",
          "Monica",
          "Vikram",
          "Rita",
          "Sonia",
          "Ivan",
          "Molly",
          "Cindy",
          "Russell",
          "Jamie",
          "Katherine",
          "Gina",
          "Janet",
          "Greg",
          "Todd",
          "Beth",
          "Lily",
          "Bruce",
          "Dorothy",
          "Jesse",
          "Juan",
          "Sharon",
          "Ted",
          "Nora",
          "Christopher",
          "Hannah",
          "Liz",
          "Jan",
          "Leslie",
          "Waiter",
          "Lawrence",
          "Victoria",
          "Ajay",
          "Carla",
          "Ali",
          "Debbie",
          "Derek",
          "Jeff",
          "Sandra",
          "Neil",
          "Tracy",
          "Anjali",
          "Jean",
          "Emma",
          "Harris",
          "Tanya",
          "Miles",
          "Sylvia",
          "Felix",
          "Smith",
          "Wayne",
          "Luke",
          "Gwen",
          "Buddy",
          "Daffy",
          "Lola",
          "Paula",
          "Anita",
          "Don",
          "Stephanie",
          "Kenny",
          "Nicholas",
          "Douglas",
          "Cynthia",
          "Sheila",
          "Harvey",
          "Bernard",
          "Nathan",
          "Victor",
          "Josh",
          "Evelyn",
          "Natalie",
          "Mitch",
          "Shankar",
          "Maya",
          "Ned",
          "Justin",
          "Craig",
          "Alan",
          "Ricky",
          "Marshall",
          "Il",
          "Maurice",
          "Brenda",
          "Kyle",
          "Will",
          "Jay",
          "Vicky",
          "Denise",
          "Robin",
          "Ashley",
          "Angel",
          "Tyler",
          "Kumar",
          "Kathy",
          "Alfred",
          "Casey",
          "Ian",
          "Anderson",
          "Hans",
          "Al",
          "Patricia",
          "Rick",
          "Vanessa",
          "Park",
          "Lynn",
          "Prince",
          "Chuck",
          "Rosa",
          "Oscar",
          "Sandy",
          "Antonio",
          "Arnold",
          "Karan",
          "Freddy",
          "Lloyd",
          "Rahul",
          "Barry",
          "Lauren",
          "Teresa",
          "Joyce",
          "Leonard",
          "Jeremy",
          "Teddy",
          "Leon",
          "Andrea",
          "Frau",
          "Ronnie",
          "Doris",
          "Morgan",
          "Allen",
          "Mama",
          "Thompson",
          "Melissa",
          "Valerie",
          "Marion",
          "Pamela",
          "Audrey",
          "Randy",
          "Veronica",
          "Jessie",
          "Gabriel",
          "Bruno",
          "Becky",
          "Heather",
          "Mitchell",
          "Keith",
          "Suzanne",
          "Girlfriend",
          "Ann",
          "Allison",
          "Carmen",
          "Elena",
          "Raju",
          "Abby",
          "Ernie",
          "Lenny",
          "Megan",
          "Clara",
          "Ashok",
          "Rosie",
          "Ruth",
          "Eugene",
          "Carrie",
          "Vincent",
          "Evans",
          "Ralph",
          "Bonnie",
          "Angie",
          "Chloe",
          "Lester",
          "Julian",
          "Eve",
          "Donna",
          "Mohan",
          "Abraham",
          "Olivia",
          "Janice",
          "Malcolm",
          "Vic",
          "Vince",
          "Nikki",
          "Herbert",
          "Caroline",
          "Hunter",
          "Virginia",
          "Marvin",
          "Santa",
          "Eleanor",
          "Aaron",
          "Willie",
          "Brooke",
          "Christian",
          "Ethan",
          "Vivian",
          "Anand",
          "Claude",
          "Edgar",
          "Krishna",
          "Natasha",
          "Mario",
          "Steven",
          "Shekhar",
          "Shanti",
          "Claudia",
          "Brad",
          "Lena",
          "Dick",
          "Curtis",
          "Mona",
          "Wallace",
          "Cathy",
          "Anton",
          "Sebastian",
          "Ellie",
          "Ram",
          "Adams",
          "Polly",
          "Joey",
          "Prem",
          "Miguel",
          "Ken",
          "Olga",
          "Duke",
          "Nigel",
          "Mac",
          "Wolf",
          "Herman",
          "Watson",
          "Zoe",
          "Mayor",
          "Gail",
          "Lucas",
          "Bernie",
          "Noah",
          "Gregory",
          "Kenneth",
          "Hal",
          "Shirley",
          "Stella",
          "Hank",
          "Elliot",
          "Winston",
          "Miranda",
          "Geeta",
          "Nisha",
          "Sue",
          "von",
          "Daisy",
          "Jai",
          "Boris",
          "Holly",
          "Randall",
          "Seema",
          "Laurie",
          "Owen",
          "Frances",
          "Cheryl",
          "Hugo",
          "Alicia",
          "Henri",
          "Ronald",
          "Phillip",
          "Sid",
          "Sapna",
          "Earl",
          "Bert",
          "Lydia",
          "Shyam",
          "Joanna",
          "Ernest",
          "Cameron",
          "Lakshmi",
          "Butler",
          "April",
          "La",
          "Carson",
          "Suraj",
          "Marianne",
          "Asha",
          "Dana",
          "Rudy",
          "Kitty",
          "Son",
          "Roberts",
          "Jesus",
          "Jacques",
          "Kapoor",
          "Duncan",
          "Freddie",
          "Esther",
          "Dean",
          "Sullivan",
          "Lewis",
          "Calvin",
          "Frederick",
          "Pat",
          "Judith",
          "Lillian",
          "Rocky",
          "Sasha",
          "Susie",
          "Hugh",
          "Clyde",
          "Sidney",
          "Von",
          "Harrison",
          "Gerald",
          "Andre",
          "Agnes",
          "Isabel",
          "mère",
          "Luther",
          "Dylan",
          "Joel",
          "Stuart",
          "Major",
          "Ruby",
          "Penny",
          "Beatrice",
          "Bennett",
          "Wanda",
          "Theresa",
          "Angelo",
          "Jose",
          "Fan",
          "Mandy",
          "Percy",
          "Chen",
          "Franz",
          "Miriam",
          "Irene",
          "Rob",
          "Mia",
          "Jo",
          "Malhotra",
          "Fiona",
          "Kurt",
          "Hamilton",
          "Mabel",
          "Porter",
          "Preston",
          "Isabelle",
          "Candy",
          "Melanie",
          "Yvonne",
          "Murphy",
          "Constance",
          "Gopal",
          "Phyllis",
          "Meena",
          "Richie",
          "Raj",
          "Omar",
          "Der",
          "Peggy",
          "Lois",
          "Adrian",
          "Bear",
          "Antoine",
          "Campbell",
          "Woody",
          "Lucky",
          "Jeffrey",
          "Zack",
          "Trevor",
          "Simone",
          "Erica",
          "Lilly",
          "Harriet",
          "Helena",
          "Edith",
          "Carlo",
          "Mimi",
          "Rani",
          "Marilyn",
          "Iris",
          "Jeanne",
          "Roland",
          "Amber",
          "Moore",
          "Rajesh",
          "Stevens",
          "Dolores",
          "Patty",
          "Rogers",
          "Tara",
          "Maureen",
          "François",
          "Barney",
          "Sadie",
          "Parvati",
          "Julius",
          "Luis",
          "Brandon",
          "Holmes",
          "Colin",
          "Vernon",
          "Warden",
          "Christmas",
          "Manuel",
          "Daphne",
          "Madeleine",
          "Kathleen",
          "Philippe",
          "Mme",
          "Stewart",
          "Elsa",
          "Elmer",
          "Celia",
          "Carter",
          "Cat",
          "French",
          "Clarence",
          "Seth",
          "Boyfriend",
          "Evan",
          "Charley",
          "Meg",
          "Pauline",
          "Deborah",
          "Joshua",
          "Alexandra",
          "Eli",
          "Jonas",
          "Abdul",
          "Ella",
          "Gauri",
          "Madhu",
          "Murray",
          "Phillips",
          "June",
          "Sanjay",
          "Prakash",
          "Hector",
          "Theodore",
          "Riley",
          "Lance",
          "Marjorie",
          "Carolyn",
          "Floyd",
          "Beverly",
          "Laxmi",
          "Benny",
          "Sammy",
          "Virgil",
          "Fanny",
          "Tiffany",
          "Nelson",
          "Kiran",
          "Toby",
          "Han",
          "Reggie",
          "Ramesh",
          "Robinson",
          "Jules",
          "Logan",
          "Nandini",
          "Graham",
          "Jordan",
          "Danielle",
          "Elaine",
          "Stacy",
          "Eileen",
          "Bridget",
          "Pratap",
          "Pedro",
          "Trish",
          "Deepak",
          "Arun",
          "Quinn",
          "Jenkins",
          "Art",
          "Rohit",
          "Neha",
          "Archie",
          "Isabella",
          "Courtney",
          "Blake",
          "Betsy",
          "Darcy",
          "Raoul",
          "Penelope",
          "Troy",
          "Sylvester",
          "Robbie",
          "Brady",
          "Sonny",
          "Sandhya",
          "Parker",
          "Vera",
          "Bud",
          "Benson",
          "Mason",
          "Brooks",
          "Benjamin",
          "Clayton",
          "Sharma",
          "Bart",
          "Michel",
          "Darren",
          "Jorge",
          "Del",
          "Travis",
          "Ingrid",
          "Isaac",
          "Wyatt",
          "Shane",
          "Edna",
          "Dracula",
          "Doyle",
          "Christina",
          "Voices",
          "Gertrude",
          "Cooper",
          "Leah",
          "Stu",
          "Joy",
          "Barnes",
          "Aarti",
          "Lyle",
          "Billie",
          "Horace",
          "Aditya",
          "Cody",
          "Hayes",
          "Pam",
          "Ida",
          "Vinod",
          "May",
          "Violet",
          "Nate",
          "Dora",
          "Rhonda",
          "père",
          "Lila",
          "Nolan",
          "Trent",
          "Kane",
          "Conrad",
          "Gladys",
          "Vicki",
          "Fox",
          "Annette",
          "Greta",
          "Sameer",
          "Dale",
          "Dominic",
          "Roberto",
          "Shiva",
          "Hudson",
          "Madison",
          "Lucille",
          "Henderson",
          "Luigi",
          "Stanton",
          "Clark",
          "Biker",
          "Diego",
          "Devi",
          "Fran",
          "Jamal",
          "Sunil",
          "Sydney",
          "Ahmed",
          "Toni",
          "Bradley",
          "Sofia",
          "Herr",
          "Peterson",
          "Chandra",
          "Rekha",
          "Bride",
          "Joanne",
          "Raghu",
          "Rupert",
          "Fritz",
          "Rex",
          "Georgia",
          "Stefan",
          "Naomi",
          "Meredith",
          "Franklin",
          "Blanche",
          "Ana",
          "Meenakshi",
          "Gil",
          "Walker",
          "Wade",
          "Burns",
          "Dolly",
          "Glenn",
          "Margo",
          "Wells",
          "Erik",
          "Cole",
          "Wally",
          "Choi",
          "Jerome",
          "Lorraine",
          "Louie",
          "Igor",
          "Millie",
          "Kay",
          "Meera",
          "Marcia",
          "Marta",
          "Javier",
          "Kamini",
          "Yu",
          "Van",
          "Verma",
          "Austin",
          "Crawford",
          "Marco",
          "Warren",
          "Grant",
          "Buck",
          "Roberta",
          "Montgomery",
          "Jensen",
          "Geoffrey",
          "Finn",
          "Gypsy",
          "Moses",
          "Morris",
          "Elisabeth",
          "Ross",
          "Mildred",
          "Dwight",
          "Sal",
          "Milton",
          "Ellis",
          "Briggs",
          "Hari",
          "Francesca",
          "Rico",
          "Regina",
          "Suzie",
          "Divya",
          "Anu",
          "Savitri",
          "Georgie",
          "Saxena",
          "Alison",
          "Wesley",
          "Nicky",
          "Dee",
          "Preeti",
          "Quentin",
          "Sherman",
          "Renee",
          "Reynolds",
          "Ajit",
          "Siddharth",
          "Jen",
          "Roman",
          "Randolph",
          "Rai",
          "Spencer",
          "Wes",
          "Dante",
          "Fernando",
          "Tess",
          "Jared",
          "Camille",
          "Bunny",
          "Damien",
          "Alexis",
          "Elise",
          "Butch",
          "Theo",
          "Serena",
          "Tarzan",
          "Lara",
          "Nadia",
          "Angus",
          "Harlan",
          "Matthews",
          "Agatha",
          "Shelly",
          "Yuri",
          "Monty",
          "Otto",
          "Gabrielle",
          "Ira",
          "Stevie",
          "Shannon",
          "Cecil",
          "Francisco",
          "Connor",
          "Perry",
          "Gilbert",
          "Havaldar",
          "Janine",
          "Cassandra",
          "Sanjana",
          "Wu",
          "Gopi",
          "Romeo",
          "Belle",
          "Morton",
          "Werner",
          "Flynn",
          "Madge",
          "Gretchen",
          "Monique",
          "Wang",
          "Josef",
          "Rama",
          "Timmy",
          "Alberto",
          "Willis",
          "Abel",
          "Margot",
          "Khanna",
          "Amos",
          "Simpson",
          "Alvin",
          "Bates",
          "Mala",
          "Cookie",
          "Chan",
          "Roopa",
          "Kirby",
          "Adele",
          "Artie",
          "Gavin",
          "Vishal",
          "Stacey",
          "English",
          "Dwayne",
          "Gerry",
          "Durga",
          "Salim",
          "Peters",
          "Mallory",
          "Rich",
          "Jennings",
          "Powell",
          "Pearl",
          "Klaus",
          "Marian",
          "Monroe",
          "Mikey",
          "Rene",
          "Vinnie",
          "Dawn",
          "Sunita",
          "Emmett",
          "Edwards",
          "Chad",
          "Manny",
          "Jasmine",
          "Bella",
          "Gupta",
          "Jasper",
          "Kennedy",
          "Mahesh",
          "Bryan",
          "Kimberly",
          "Star",
          "Roxanne",
          "Erin",
          "Nadine",
          "Juliet",
          "Sherry",
          "Bailey",
          "Suman",
          "Morrison",
          "Darryl",
          "Milo",
          "Edwin",
          "Jon",
          "Spike",
          "Chelsea",
          "Georges",
          "Clifford",
          "Andrews",
          "Perkins",
          "Turner",
          "Hélène",
          "Lincoln",
          "Trudy",
          "Bishop",
          "Shobha",
          "Zach",
          "Donnie",
          "Madre",
          "Byron",
          "Chet",
          "Burke",
          "Norma",
          "Foster",
          "Melvin",
          "Lorna",
          "Banks",
          "Willy",
          "Marcel",
          "Rajiv",
          "Manu",
          "Jess",
          "Liu",
          "Robby",
          "Godzilla",
          "Suzy",
          "Alma",
          "Simmons",
          "Juliette"
         ],
         "y": [
          1305,
          621,
          591,
          567,
          531,
          513,
          505,
          451,
          440,
          428,
          422,
          401,
          396,
          384,
          371,
          338,
          336,
          331,
          317,
          314,
          307,
          305,
          300,
          294,
          292,
          285,
          283,
          280,
          268,
          262,
          260,
          259,
          259,
          252,
          248,
          243,
          239,
          236,
          229,
          229,
          229,
          225,
          220,
          218,
          214,
          213,
          211,
          207,
          206,
          205,
          204,
          203,
          201,
          201,
          200,
          199,
          199,
          197,
          196,
          196,
          196,
          194,
          193,
          192,
          191,
          191,
          191,
          186,
          184,
          184,
          182,
          176,
          174,
          174,
          174,
          173,
          167,
          167,
          167,
          165,
          164,
          164,
          159,
          158,
          156,
          154,
          153,
          152,
          152,
          151,
          150,
          149,
          148,
          147,
          147,
          147,
          146,
          146,
          146,
          145,
          143,
          143,
          143,
          142,
          141,
          140,
          140,
          139,
          138,
          137,
          137,
          136,
          136,
          134,
          133,
          133,
          133,
          132,
          132,
          131,
          131,
          131,
          129,
          128,
          128,
          128,
          127,
          127,
          126,
          125,
          122,
          122,
          121,
          121,
          121,
          121,
          120,
          119,
          119,
          118,
          118,
          118,
          117,
          117,
          116,
          116,
          116,
          116,
          116,
          115,
          115,
          114,
          114,
          113,
          113,
          112,
          112,
          112,
          112,
          112,
          111,
          111,
          111,
          111,
          111,
          111,
          110,
          110,
          109,
          108,
          106,
          105,
          105,
          105,
          105,
          105,
          104,
          104,
          104,
          104,
          103,
          102,
          102,
          102,
          102,
          101,
          101,
          101,
          101,
          101,
          101,
          100,
          100,
          99,
          99,
          99,
          98,
          98,
          98,
          97,
          96,
          96,
          96,
          96,
          95,
          95,
          95,
          95,
          95,
          94,
          94,
          94,
          93,
          93,
          93,
          92,
          92,
          92,
          92,
          92,
          92,
          92,
          91,
          91,
          90,
          90,
          89,
          89,
          89,
          88,
          88,
          88,
          88,
          87,
          87,
          87,
          87,
          87,
          87,
          86,
          86,
          86,
          85,
          85,
          85,
          84,
          84,
          84,
          84,
          84,
          83,
          83,
          83,
          83,
          83,
          83,
          83,
          82,
          82,
          82,
          82,
          82,
          82,
          81,
          81,
          81,
          81,
          81,
          81,
          81,
          81,
          80,
          80,
          80,
          80,
          79,
          79,
          79,
          79,
          79,
          79,
          79,
          79,
          78,
          78,
          78,
          78,
          77,
          77,
          77,
          77,
          77,
          77,
          77,
          77,
          76,
          76,
          75,
          75,
          75,
          75,
          75,
          75,
          74,
          74,
          74,
          74,
          74,
          73,
          73,
          73,
          73,
          72,
          72,
          72,
          72,
          72,
          71,
          71,
          71,
          71,
          71,
          71,
          71,
          71,
          70,
          70,
          70,
          70,
          70,
          70,
          70,
          69,
          69,
          69,
          69,
          69,
          68,
          68,
          68,
          68,
          68,
          68,
          68,
          68,
          68,
          67,
          67,
          67,
          67,
          67,
          67,
          66,
          66,
          65,
          65,
          65,
          65,
          65,
          65,
          65,
          65,
          65,
          65,
          64,
          64,
          64,
          64,
          64,
          64,
          64,
          64,
          63,
          63,
          63,
          63,
          63,
          63,
          63,
          63,
          63,
          63,
          62,
          62,
          62,
          62,
          62,
          62,
          62,
          62,
          61,
          61,
          61,
          61,
          61,
          61,
          60,
          60,
          60,
          60,
          60,
          60,
          60,
          60,
          60,
          60,
          60,
          59,
          59,
          58,
          58,
          58,
          58,
          58,
          58,
          58,
          58,
          57,
          57,
          57,
          57,
          57,
          57,
          56,
          56,
          56,
          56,
          56,
          56,
          56,
          56,
          56,
          56,
          56,
          56,
          55,
          55,
          55,
          55,
          55,
          55,
          55,
          55,
          55,
          55,
          55,
          55,
          54,
          54,
          54,
          54,
          54,
          54,
          54,
          54,
          54,
          54,
          54,
          53,
          53,
          53,
          53,
          53,
          53,
          53,
          53,
          53,
          52,
          52,
          52,
          52,
          52,
          52,
          52,
          52,
          52,
          52,
          52,
          52,
          52,
          52,
          51,
          51,
          51,
          51,
          51,
          51,
          51,
          51,
          51,
          51,
          50,
          50,
          50,
          50,
          50,
          50,
          50,
          50,
          50,
          50,
          50,
          50,
          50,
          50,
          50,
          49,
          49,
          49,
          49,
          49,
          49,
          49,
          49,
          49,
          49,
          49,
          49,
          49,
          48,
          48,
          48,
          48,
          48,
          48,
          48,
          48,
          48,
          48,
          48,
          47,
          47,
          47,
          47,
          47,
          47,
          47,
          47,
          47,
          47,
          47,
          47,
          47,
          47,
          47,
          47,
          47,
          47,
          47,
          46,
          46,
          46,
          46,
          46,
          46,
          46,
          46,
          46,
          46,
          46,
          46,
          46,
          46,
          45,
          45,
          45,
          45,
          45,
          45,
          45,
          45,
          45,
          45,
          45,
          45,
          45,
          45,
          45,
          45,
          45,
          45,
          44,
          44,
          44,
          44,
          44,
          44,
          44,
          44,
          44,
          44,
          44,
          44,
          44,
          44,
          44,
          44,
          44,
          43,
          43,
          43,
          43,
          43,
          43,
          43,
          43,
          43,
          43,
          43,
          43,
          43,
          43,
          43,
          43,
          43,
          42,
          42,
          42,
          42,
          42,
          42,
          42,
          42,
          42,
          42,
          42,
          42,
          42,
          42,
          42,
          42,
          42,
          42,
          42,
          42,
          42,
          42,
          41,
          41,
          41,
          41,
          41,
          41,
          41,
          41,
          41,
          41,
          41,
          41,
          41,
          41,
          41,
          41,
          41,
          41,
          41,
          41,
          41,
          40,
          40,
          40,
          40,
          40,
          40,
          40,
          40,
          40,
          40,
          40,
          40,
          40,
          40,
          40,
          40,
          39,
          39,
          39,
          39,
          39,
          39,
          39,
          39,
          39,
          39,
          39,
          38,
          38,
          38,
          38,
          38,
          38,
          38,
          38,
          38,
          38,
          38,
          38,
          38,
          38,
          38,
          38,
          38,
          38,
          38,
          38,
          37,
          37,
          37,
          37,
          37,
          37,
          37,
          37,
          37,
          37,
          37,
          37,
          37,
          37,
          37,
          37,
          37,
          37,
          37,
          36,
          36,
          36,
          36,
          36,
          36,
          36,
          36,
          36,
          36,
          36,
          36,
          36,
          36,
          36,
          36,
          36,
          36,
          36,
          36,
          35,
          35,
          35,
          35,
          35,
          35,
          35,
          35,
          35,
          35,
          35,
          35,
          35,
          35,
          35,
          35,
          35,
          35,
          35,
          35,
          35,
          35,
          35,
          35,
          35,
          35,
          35,
          34,
          34,
          34,
          34,
          34,
          34,
          34,
          34,
          34,
          34,
          34,
          34,
          34,
          34,
          34,
          34,
          34,
          34,
          34,
          33,
          33,
          33,
          33,
          33,
          33,
          33,
          33,
          33,
          33,
          33,
          33,
          33,
          33,
          33,
          33,
          33,
          33,
          33,
          33,
          33,
          33,
          33,
          33,
          33,
          33,
          33,
          32,
          32,
          32,
          32,
          32,
          32,
          32,
          32,
          32,
          32,
          32,
          32,
          32,
          32,
          32,
          32,
          32,
          32,
          32,
          32,
          32,
          32,
          32,
          32,
          32,
          32,
          32,
          32,
          32,
          31,
          31,
          31,
          31,
          31,
          31,
          31,
          31,
          31,
          31,
          31,
          31,
          31,
          31,
          31,
          31,
          31,
          31,
          31,
          31,
          31,
          31,
          31,
          31,
          31,
          31,
          31,
          31,
          31,
          31,
          31,
          30,
          30,
          30,
          30,
          30,
          30,
          30,
          30,
          30,
          30,
          30,
          30,
          30,
          30,
          30,
          30,
          30,
          30,
          30,
          30,
          30,
          30,
          30,
          30,
          30,
          30,
          30,
          30,
          30,
          30,
          30,
          30,
          30,
          30,
          30,
          30,
          30,
          30,
          30,
          30,
          30,
          29,
          29,
          29,
          29,
          29,
          29,
          29,
          29,
          29,
          29,
          29,
          29,
          29,
          29,
          29,
          29,
          29,
          29,
          29,
          29,
          29,
          29,
          29,
          29,
          29,
          29,
          29,
          29,
          28,
          28,
          28,
          28,
          28,
          28,
          28,
          28,
          28,
          28,
          28,
          28,
          28,
          28,
          28,
          28,
          28,
          28,
          28,
          28,
          28,
          28,
          28,
          28,
          28,
          28,
          28,
          28,
          28,
          28,
          28,
          27,
          27,
          27,
          27,
          27,
          27,
          27,
          27,
          27,
          27,
          27,
          27,
          27,
          27,
          27,
          27,
          27,
          27,
          27,
          27,
          27,
          27,
          27
         ]
        }
       ],
       "layout": {
        "template": {
         "data": {
          "bar": [
           {
            "error_x": {
             "color": "#2a3f5f"
            },
            "error_y": {
             "color": "#2a3f5f"
            },
            "marker": {
             "line": {
              "color": "#E5ECF6",
              "width": 0.5
             },
             "pattern": {
              "fillmode": "overlay",
              "size": 10,
              "solidity": 0.2
             }
            },
            "type": "bar"
           }
          ],
          "barpolar": [
           {
            "marker": {
             "line": {
              "color": "#E5ECF6",
              "width": 0.5
             },
             "pattern": {
              "fillmode": "overlay",
              "size": 10,
              "solidity": 0.2
             }
            },
            "type": "barpolar"
           }
          ],
          "carpet": [
           {
            "aaxis": {
             "endlinecolor": "#2a3f5f",
             "gridcolor": "white",
             "linecolor": "white",
             "minorgridcolor": "white",
             "startlinecolor": "#2a3f5f"
            },
            "baxis": {
             "endlinecolor": "#2a3f5f",
             "gridcolor": "white",
             "linecolor": "white",
             "minorgridcolor": "white",
             "startlinecolor": "#2a3f5f"
            },
            "type": "carpet"
           }
          ],
          "choropleth": [
           {
            "colorbar": {
             "outlinewidth": 0,
             "ticks": ""
            },
            "type": "choropleth"
           }
          ],
          "contour": [
           {
            "colorbar": {
             "outlinewidth": 0,
             "ticks": ""
            },
            "colorscale": [
             [
              0,
              "#0d0887"
             ],
             [
              0.1111111111111111,
              "#46039f"
             ],
             [
              0.2222222222222222,
              "#7201a8"
             ],
             [
              0.3333333333333333,
              "#9c179e"
             ],
             [
              0.4444444444444444,
              "#bd3786"
             ],
             [
              0.5555555555555556,
              "#d8576b"
             ],
             [
              0.6666666666666666,
              "#ed7953"
             ],
             [
              0.7777777777777778,
              "#fb9f3a"
             ],
             [
              0.8888888888888888,
              "#fdca26"
             ],
             [
              1,
              "#f0f921"
             ]
            ],
            "type": "contour"
           }
          ],
          "contourcarpet": [
           {
            "colorbar": {
             "outlinewidth": 0,
             "ticks": ""
            },
            "type": "contourcarpet"
           }
          ],
          "heatmap": [
           {
            "colorbar": {
             "outlinewidth": 0,
             "ticks": ""
            },
            "colorscale": [
             [
              0,
              "#0d0887"
             ],
             [
              0.1111111111111111,
              "#46039f"
             ],
             [
              0.2222222222222222,
              "#7201a8"
             ],
             [
              0.3333333333333333,
              "#9c179e"
             ],
             [
              0.4444444444444444,
              "#bd3786"
             ],
             [
              0.5555555555555556,
              "#d8576b"
             ],
             [
              0.6666666666666666,
              "#ed7953"
             ],
             [
              0.7777777777777778,
              "#fb9f3a"
             ],
             [
              0.8888888888888888,
              "#fdca26"
             ],
             [
              1,
              "#f0f921"
             ]
            ],
            "type": "heatmap"
           }
          ],
          "heatmapgl": [
           {
            "colorbar": {
             "outlinewidth": 0,
             "ticks": ""
            },
            "colorscale": [
             [
              0,
              "#0d0887"
             ],
             [
              0.1111111111111111,
              "#46039f"
             ],
             [
              0.2222222222222222,
              "#7201a8"
             ],
             [
              0.3333333333333333,
              "#9c179e"
             ],
             [
              0.4444444444444444,
              "#bd3786"
             ],
             [
              0.5555555555555556,
              "#d8576b"
             ],
             [
              0.6666666666666666,
              "#ed7953"
             ],
             [
              0.7777777777777778,
              "#fb9f3a"
             ],
             [
              0.8888888888888888,
              "#fdca26"
             ],
             [
              1,
              "#f0f921"
             ]
            ],
            "type": "heatmapgl"
           }
          ],
          "histogram": [
           {
            "marker": {
             "pattern": {
              "fillmode": "overlay",
              "size": 10,
              "solidity": 0.2
             }
            },
            "type": "histogram"
           }
          ],
          "histogram2d": [
           {
            "colorbar": {
             "outlinewidth": 0,
             "ticks": ""
            },
            "colorscale": [
             [
              0,
              "#0d0887"
             ],
             [
              0.1111111111111111,
              "#46039f"
             ],
             [
              0.2222222222222222,
              "#7201a8"
             ],
             [
              0.3333333333333333,
              "#9c179e"
             ],
             [
              0.4444444444444444,
              "#bd3786"
             ],
             [
              0.5555555555555556,
              "#d8576b"
             ],
             [
              0.6666666666666666,
              "#ed7953"
             ],
             [
              0.7777777777777778,
              "#fb9f3a"
             ],
             [
              0.8888888888888888,
              "#fdca26"
             ],
             [
              1,
              "#f0f921"
             ]
            ],
            "type": "histogram2d"
           }
          ],
          "histogram2dcontour": [
           {
            "colorbar": {
             "outlinewidth": 0,
             "ticks": ""
            },
            "colorscale": [
             [
              0,
              "#0d0887"
             ],
             [
              0.1111111111111111,
              "#46039f"
             ],
             [
              0.2222222222222222,
              "#7201a8"
             ],
             [
              0.3333333333333333,
              "#9c179e"
             ],
             [
              0.4444444444444444,
              "#bd3786"
             ],
             [
              0.5555555555555556,
              "#d8576b"
             ],
             [
              0.6666666666666666,
              "#ed7953"
             ],
             [
              0.7777777777777778,
              "#fb9f3a"
             ],
             [
              0.8888888888888888,
              "#fdca26"
             ],
             [
              1,
              "#f0f921"
             ]
            ],
            "type": "histogram2dcontour"
           }
          ],
          "mesh3d": [
           {
            "colorbar": {
             "outlinewidth": 0,
             "ticks": ""
            },
            "type": "mesh3d"
           }
          ],
          "parcoords": [
           {
            "line": {
             "colorbar": {
              "outlinewidth": 0,
              "ticks": ""
             }
            },
            "type": "parcoords"
           }
          ],
          "pie": [
           {
            "automargin": true,
            "type": "pie"
           }
          ],
          "scatter": [
           {
            "fillpattern": {
             "fillmode": "overlay",
             "size": 10,
             "solidity": 0.2
            },
            "type": "scatter"
           }
          ],
          "scatter3d": [
           {
            "line": {
             "colorbar": {
              "outlinewidth": 0,
              "ticks": ""
             }
            },
            "marker": {
             "colorbar": {
              "outlinewidth": 0,
              "ticks": ""
             }
            },
            "type": "scatter3d"
           }
          ],
          "scattercarpet": [
           {
            "marker": {
             "colorbar": {
              "outlinewidth": 0,
              "ticks": ""
             }
            },
            "type": "scattercarpet"
           }
          ],
          "scattergeo": [
           {
            "marker": {
             "colorbar": {
              "outlinewidth": 0,
              "ticks": ""
             }
            },
            "type": "scattergeo"
           }
          ],
          "scattergl": [
           {
            "marker": {
             "colorbar": {
              "outlinewidth": 0,
              "ticks": ""
             }
            },
            "type": "scattergl"
           }
          ],
          "scattermapbox": [
           {
            "marker": {
             "colorbar": {
              "outlinewidth": 0,
              "ticks": ""
             }
            },
            "type": "scattermapbox"
           }
          ],
          "scatterpolar": [
           {
            "marker": {
             "colorbar": {
              "outlinewidth": 0,
              "ticks": ""
             }
            },
            "type": "scatterpolar"
           }
          ],
          "scatterpolargl": [
           {
            "marker": {
             "colorbar": {
              "outlinewidth": 0,
              "ticks": ""
             }
            },
            "type": "scatterpolargl"
           }
          ],
          "scatterternary": [
           {
            "marker": {
             "colorbar": {
              "outlinewidth": 0,
              "ticks": ""
             }
            },
            "type": "scatterternary"
           }
          ],
          "surface": [
           {
            "colorbar": {
             "outlinewidth": 0,
             "ticks": ""
            },
            "colorscale": [
             [
              0,
              "#0d0887"
             ],
             [
              0.1111111111111111,
              "#46039f"
             ],
             [
              0.2222222222222222,
              "#7201a8"
             ],
             [
              0.3333333333333333,
              "#9c179e"
             ],
             [
              0.4444444444444444,
              "#bd3786"
             ],
             [
              0.5555555555555556,
              "#d8576b"
             ],
             [
              0.6666666666666666,
              "#ed7953"
             ],
             [
              0.7777777777777778,
              "#fb9f3a"
             ],
             [
              0.8888888888888888,
              "#fdca26"
             ],
             [
              1,
              "#f0f921"
             ]
            ],
            "type": "surface"
           }
          ],
          "table": [
           {
            "cells": {
             "fill": {
              "color": "#EBF0F8"
             },
             "line": {
              "color": "white"
             }
            },
            "header": {
             "fill": {
              "color": "#C8D4E3"
             },
             "line": {
              "color": "white"
             }
            },
            "type": "table"
           }
          ]
         },
         "layout": {
          "annotationdefaults": {
           "arrowcolor": "#2a3f5f",
           "arrowhead": 0,
           "arrowwidth": 1
          },
          "autotypenumbers": "strict",
          "coloraxis": {
           "colorbar": {
            "outlinewidth": 0,
            "ticks": ""
           }
          },
          "colorscale": {
           "diverging": [
            [
             0,
             "#8e0152"
            ],
            [
             0.1,
             "#c51b7d"
            ],
            [
             0.2,
             "#de77ae"
            ],
            [
             0.3,
             "#f1b6da"
            ],
            [
             0.4,
             "#fde0ef"
            ],
            [
             0.5,
             "#f7f7f7"
            ],
            [
             0.6,
             "#e6f5d0"
            ],
            [
             0.7,
             "#b8e186"
            ],
            [
             0.8,
             "#7fbc41"
            ],
            [
             0.9,
             "#4d9221"
            ],
            [
             1,
             "#276419"
            ]
           ],
           "sequential": [
            [
             0,
             "#0d0887"
            ],
            [
             0.1111111111111111,
             "#46039f"
            ],
            [
             0.2222222222222222,
             "#7201a8"
            ],
            [
             0.3333333333333333,
             "#9c179e"
            ],
            [
             0.4444444444444444,
             "#bd3786"
            ],
            [
             0.5555555555555556,
             "#d8576b"
            ],
            [
             0.6666666666666666,
             "#ed7953"
            ],
            [
             0.7777777777777778,
             "#fb9f3a"
            ],
            [
             0.8888888888888888,
             "#fdca26"
            ],
            [
             1,
             "#f0f921"
            ]
           ],
           "sequentialminus": [
            [
             0,
             "#0d0887"
            ],
            [
             0.1111111111111111,
             "#46039f"
            ],
            [
             0.2222222222222222,
             "#7201a8"
            ],
            [
             0.3333333333333333,
             "#9c179e"
            ],
            [
             0.4444444444444444,
             "#bd3786"
            ],
            [
             0.5555555555555556,
             "#d8576b"
            ],
            [
             0.6666666666666666,
             "#ed7953"
            ],
            [
             0.7777777777777778,
             "#fb9f3a"
            ],
            [
             0.8888888888888888,
             "#fdca26"
            ],
            [
             1,
             "#f0f921"
            ]
           ]
          },
          "colorway": [
           "#636efa",
           "#EF553B",
           "#00cc96",
           "#ab63fa",
           "#FFA15A",
           "#19d3f3",
           "#FF6692",
           "#B6E880",
           "#FF97FF",
           "#FECB52"
          ],
          "font": {
           "color": "#2a3f5f"
          },
          "geo": {
           "bgcolor": "white",
           "lakecolor": "white",
           "landcolor": "#E5ECF6",
           "showlakes": true,
           "showland": true,
           "subunitcolor": "white"
          },
          "hoverlabel": {
           "align": "left"
          },
          "hovermode": "closest",
          "mapbox": {
           "style": "light"
          },
          "paper_bgcolor": "white",
          "plot_bgcolor": "#E5ECF6",
          "polar": {
           "angularaxis": {
            "gridcolor": "white",
            "linecolor": "white",
            "ticks": ""
           },
           "bgcolor": "#E5ECF6",
           "radialaxis": {
            "gridcolor": "white",
            "linecolor": "white",
            "ticks": ""
           }
          },
          "scene": {
           "xaxis": {
            "backgroundcolor": "#E5ECF6",
            "gridcolor": "white",
            "gridwidth": 2,
            "linecolor": "white",
            "showbackground": true,
            "ticks": "",
            "zerolinecolor": "white"
           },
           "yaxis": {
            "backgroundcolor": "#E5ECF6",
            "gridcolor": "white",
            "gridwidth": 2,
            "linecolor": "white",
            "showbackground": true,
            "ticks": "",
            "zerolinecolor": "white"
           },
           "zaxis": {
            "backgroundcolor": "#E5ECF6",
            "gridcolor": "white",
            "gridwidth": 2,
            "linecolor": "white",
            "showbackground": true,
            "ticks": "",
            "zerolinecolor": "white"
           }
          },
          "shapedefaults": {
           "line": {
            "color": "#2a3f5f"
           }
          },
          "ternary": {
           "aaxis": {
            "gridcolor": "white",
            "linecolor": "white",
            "ticks": ""
           },
           "baxis": {
            "gridcolor": "white",
            "linecolor": "white",
            "ticks": ""
           },
           "bgcolor": "#E5ECF6",
           "caxis": {
            "gridcolor": "white",
            "linecolor": "white",
            "ticks": ""
           }
          },
          "title": {
           "x": 0.05
          },
          "xaxis": {
           "automargin": true,
           "gridcolor": "white",
           "linecolor": "white",
           "ticks": "",
           "title": {
            "standoff": 15
           },
           "zerolinecolor": "white",
           "zerolinewidth": 2
          },
          "yaxis": {
           "automargin": true,
           "gridcolor": "white",
           "linecolor": "white",
           "ticks": "",
           "title": {
            "standoff": 15
           },
           "zerolinecolor": "white",
           "zerolinewidth": 2
          }
         }
        },
        "title": {
         "text": "Count of Most Popular Character Names"
        },
        "xaxis": {
         "tickangle": 45,
         "title": {
          "text": "Character Name"
         }
        },
        "yaxis": {
         "title": {
          "text": "Count"
         }
        }
       }
      }
     },
     "metadata": {},
     "output_type": "display_data"
    }
   ],
   "source": [
    "name_counts = df_char_cleaned['Character_name'].value_counts()\n",
    "top_100_names = name_counts.head(1000)\n",
    "\n",
    "# Creating the interactive line plot with hover information\n",
    "fig = go.Figure()\n",
    "\n",
    "# Adding trace for the line plot with hover text\n",
    "fig.add_trace(go.Scatter(\n",
    "    x=top_100_names.index,\n",
    "    y=top_100_names.values,\n",
    "    mode='lines+markers',\n",
    "    name='Character Count',\n",
    "    line=dict(color='skyblue'),\n",
    "    hovertext=[f\"Name: {name}<br>Count: {count}\" for name, count in zip(top_100_names.index, top_100_names.values)],\n",
    "    hoverinfo=\"text\"\n",
    "))\n",
    "\n",
    "# Setting up layout for the figure\n",
    "fig.update_layout(\n",
    "    title='Count of Most Popular Character Names',\n",
    "    xaxis_title='Character Name',\n",
    "    yaxis_title='Count',\n",
    "    xaxis=dict(tickangle=45)\n",
    ")\n",
    "\n",
    "fig.show()"
   ]
  },
  {
   "cell_type": "markdown",
   "metadata": {},
   "source": [
    "## Movie Genre Analysis"
   ]
  },
  {
   "cell_type": "code",
   "execution_count": null,
   "metadata": {},
   "outputs": [],
   "source": [
    "#Let's make a list of the genres we are interested in and assign one of them to each character\n",
    "genres_list = ['Action & Adventure', 'Drama', 'Comedy', 'Horror & Thriller', \n",
    "              'Fantasy & Sci-Fi', 'Historical & War', 'Romance', 'Documentary', \n",
    "              'Music & Performance', 'Cult & B-Movies', 'Other']\n",
    "df_char_cleaned['Genre_Category'] = df_char_cleaned['Genres'].apply(lambda x: categorize_genre(x))"
   ]
  },
  {
   "cell_type": "code",
   "execution_count": null,
   "metadata": {},
   "outputs": [],
   "source": [
    "#Let's see the most frequent names in each genre and for each gender\n",
    "frequent_names_m, frequent_names_f = get_top_names_by_genre(df_char_cleaned,5)"
   ]
  },
  {
   "cell_type": "code",
   "execution_count": null,
   "metadata": {},
   "outputs": [],
   "source": [
    "data_f = create_sunburst_data(frequent_names_f)\n",
    "data_m = create_sunburst_data(frequent_names_m)"
   ]
  },
  {
   "cell_type": "code",
   "execution_count": null,
   "metadata": {},
   "outputs": [
    {
     "data": {
      "application/vnd.plotly.v1+json": {
       "config": {
        "plotlyServerURL": "https://plot.ly"
       },
       "data": [
        {
         "domain": {
          "column": 1,
          "x": [
           0,
           0.45
          ],
          "y": [
           0,
           1
          ]
         },
         "labels": [
          "Film",
          "Action & Adventure",
          "Drama",
          "Comedy",
          "Horror & Thriller",
          "Fantasy & Sci-Fi",
          "Historical & War",
          "Romance",
          "Documentary",
          "Music & Performance",
          "Cult & B-Movies",
          "Other",
          "Sarah",
          "Susan",
          "Alice",
          "Mary",
          "Rachel",
          "Sarah",
          "Mary",
          "Helen",
          "Alice",
          "Susan",
          "Mary",
          "Sarah",
          "Kate",
          "Julie",
          "Alice",
          "Sarah",
          "Rachel",
          "Susan",
          "Alice",
          "Karen",
          "Susan",
          "Alice",
          "Sarah",
          "Elizabeth",
          "Mary",
          "Elizabeth",
          "Sarah",
          "Mary",
          "Anne",
          "Helen",
          "Sarah",
          "Helen",
          "Elizabeth",
          "Julie",
          "Mary",
          "Elizabeth",
          "Margaret",
          "Helen",
          "Barbara",
          "Marie",
          "Pooja",
          "Priya",
          "Tina",
          "Anjali",
          "Mary",
          "Mary",
          "Sarah",
          "Helen",
          "Kate",
          "Rachel",
          "Radha",
          "Rachel",
          "Anna",
          "Pooja",
          "Priya"
         ],
         "maxdepth": 2,
         "parents": [
          "",
          "Film",
          "Film",
          "Film",
          "Film",
          "Film",
          "Film",
          "Film",
          "Film",
          "Film",
          "Film",
          "Film",
          "Action & Adventure",
          "Action & Adventure",
          "Action & Adventure",
          "Action & Adventure",
          "Action & Adventure",
          "Drama",
          "Drama",
          "Drama",
          "Drama",
          "Drama",
          "Comedy",
          "Comedy",
          "Comedy",
          "Comedy",
          "Comedy",
          "Horror & Thriller",
          "Horror & Thriller",
          "Horror & Thriller",
          "Horror & Thriller",
          "Horror & Thriller",
          "Fantasy & Sci-Fi",
          "Fantasy & Sci-Fi",
          "Fantasy & Sci-Fi",
          "Fantasy & Sci-Fi",
          "Fantasy & Sci-Fi",
          "Historical & War",
          "Historical & War",
          "Historical & War",
          "Historical & War",
          "Historical & War",
          "Romance",
          "Romance",
          "Romance",
          "Romance",
          "Romance",
          "Documentary",
          "Documentary",
          "Documentary",
          "Documentary",
          "Documentary",
          "Music & Performance",
          "Music & Performance",
          "Music & Performance",
          "Music & Performance",
          "Music & Performance",
          "Cult & B-Movies",
          "Cult & B-Movies",
          "Cult & B-Movies",
          "Cult & B-Movies",
          "Cult & B-Movies",
          "Other",
          "Other",
          "Other",
          "Other",
          "Other"
         ],
         "type": "sunburst"
        },
        {
         "domain": {
          "column": 1,
          "x": [
           0.55,
           1
          ],
          "y": [
           0,
           1
          ]
         },
         "labels": [
          "Film",
          "Action & Adventure",
          "Drama",
          "Comedy",
          "Horror & Thriller",
          "Fantasy & Sci-Fi",
          "Historical & War",
          "Romance",
          "Documentary",
          "Music & Performance",
          "Cult & B-Movies",
          "Other",
          "John",
          "Tom",
          "James",
          "David",
          "George",
          "John",
          "David",
          "George",
          "Tom",
          "Paul",
          "John",
          "George",
          "Tom",
          "Paul",
          "Charlie",
          "John",
          "Michael",
          "David",
          "Tom",
          "Paul",
          "John",
          "George",
          "David",
          "Tom",
          "James",
          "John",
          "William",
          "George",
          "Robert",
          "Charles",
          "John",
          "Paul",
          "David",
          "George",
          "Tom",
          "John",
          "George",
          "Robert",
          "William",
          "Charles",
          "John",
          "George",
          "Paul",
          "Vijay",
          "Joe",
          "John",
          "Jack",
          "Tom",
          "David",
          "George",
          "John",
          "George",
          "Christmas",
          "Mickey",
          "James"
         ],
         "maxdepth": 2,
         "parents": [
          "",
          "Film",
          "Film",
          "Film",
          "Film",
          "Film",
          "Film",
          "Film",
          "Film",
          "Film",
          "Film",
          "Film",
          "Action & Adventure",
          "Action & Adventure",
          "Action & Adventure",
          "Action & Adventure",
          "Action & Adventure",
          "Drama",
          "Drama",
          "Drama",
          "Drama",
          "Drama",
          "Comedy",
          "Comedy",
          "Comedy",
          "Comedy",
          "Comedy",
          "Horror & Thriller",
          "Horror & Thriller",
          "Horror & Thriller",
          "Horror & Thriller",
          "Horror & Thriller",
          "Fantasy & Sci-Fi",
          "Fantasy & Sci-Fi",
          "Fantasy & Sci-Fi",
          "Fantasy & Sci-Fi",
          "Fantasy & Sci-Fi",
          "Historical & War",
          "Historical & War",
          "Historical & War",
          "Historical & War",
          "Historical & War",
          "Romance",
          "Romance",
          "Romance",
          "Romance",
          "Romance",
          "Documentary",
          "Documentary",
          "Documentary",
          "Documentary",
          "Documentary",
          "Music & Performance",
          "Music & Performance",
          "Music & Performance",
          "Music & Performance",
          "Music & Performance",
          "Cult & B-Movies",
          "Cult & B-Movies",
          "Cult & B-Movies",
          "Cult & B-Movies",
          "Cult & B-Movies",
          "Other",
          "Other",
          "Other",
          "Other",
          "Other"
         ],
         "type": "sunburst"
        }
       ],
       "layout": {
        "annotations": [
         {
          "font": {
           "size": 16
          },
          "showarrow": false,
          "text": "Females",
          "x": 0.225,
          "xanchor": "center",
          "xref": "paper",
          "y": 1,
          "yanchor": "bottom",
          "yref": "paper"
         },
         {
          "font": {
           "size": 16
          },
          "showarrow": false,
          "text": "Males",
          "x": 0.775,
          "xanchor": "center",
          "xref": "paper",
          "y": 1,
          "yanchor": "bottom",
          "yref": "paper"
         }
        ],
        "font": {
         "size": 13
        },
        "height": 800,
        "showlegend": false,
        "template": {
         "data": {
          "bar": [
           {
            "error_x": {
             "color": "#2a3f5f"
            },
            "error_y": {
             "color": "#2a3f5f"
            },
            "marker": {
             "line": {
              "color": "#E5ECF6",
              "width": 0.5
             },
             "pattern": {
              "fillmode": "overlay",
              "size": 10,
              "solidity": 0.2
             }
            },
            "type": "bar"
           }
          ],
          "barpolar": [
           {
            "marker": {
             "line": {
              "color": "#E5ECF6",
              "width": 0.5
             },
             "pattern": {
              "fillmode": "overlay",
              "size": 10,
              "solidity": 0.2
             }
            },
            "type": "barpolar"
           }
          ],
          "carpet": [
           {
            "aaxis": {
             "endlinecolor": "#2a3f5f",
             "gridcolor": "white",
             "linecolor": "white",
             "minorgridcolor": "white",
             "startlinecolor": "#2a3f5f"
            },
            "baxis": {
             "endlinecolor": "#2a3f5f",
             "gridcolor": "white",
             "linecolor": "white",
             "minorgridcolor": "white",
             "startlinecolor": "#2a3f5f"
            },
            "type": "carpet"
           }
          ],
          "choropleth": [
           {
            "colorbar": {
             "outlinewidth": 0,
             "ticks": ""
            },
            "type": "choropleth"
           }
          ],
          "contour": [
           {
            "colorbar": {
             "outlinewidth": 0,
             "ticks": ""
            },
            "colorscale": [
             [
              0,
              "#0d0887"
             ],
             [
              0.1111111111111111,
              "#46039f"
             ],
             [
              0.2222222222222222,
              "#7201a8"
             ],
             [
              0.3333333333333333,
              "#9c179e"
             ],
             [
              0.4444444444444444,
              "#bd3786"
             ],
             [
              0.5555555555555556,
              "#d8576b"
             ],
             [
              0.6666666666666666,
              "#ed7953"
             ],
             [
              0.7777777777777778,
              "#fb9f3a"
             ],
             [
              0.8888888888888888,
              "#fdca26"
             ],
             [
              1,
              "#f0f921"
             ]
            ],
            "type": "contour"
           }
          ],
          "contourcarpet": [
           {
            "colorbar": {
             "outlinewidth": 0,
             "ticks": ""
            },
            "type": "contourcarpet"
           }
          ],
          "heatmap": [
           {
            "colorbar": {
             "outlinewidth": 0,
             "ticks": ""
            },
            "colorscale": [
             [
              0,
              "#0d0887"
             ],
             [
              0.1111111111111111,
              "#46039f"
             ],
             [
              0.2222222222222222,
              "#7201a8"
             ],
             [
              0.3333333333333333,
              "#9c179e"
             ],
             [
              0.4444444444444444,
              "#bd3786"
             ],
             [
              0.5555555555555556,
              "#d8576b"
             ],
             [
              0.6666666666666666,
              "#ed7953"
             ],
             [
              0.7777777777777778,
              "#fb9f3a"
             ],
             [
              0.8888888888888888,
              "#fdca26"
             ],
             [
              1,
              "#f0f921"
             ]
            ],
            "type": "heatmap"
           }
          ],
          "heatmapgl": [
           {
            "colorbar": {
             "outlinewidth": 0,
             "ticks": ""
            },
            "colorscale": [
             [
              0,
              "#0d0887"
             ],
             [
              0.1111111111111111,
              "#46039f"
             ],
             [
              0.2222222222222222,
              "#7201a8"
             ],
             [
              0.3333333333333333,
              "#9c179e"
             ],
             [
              0.4444444444444444,
              "#bd3786"
             ],
             [
              0.5555555555555556,
              "#d8576b"
             ],
             [
              0.6666666666666666,
              "#ed7953"
             ],
             [
              0.7777777777777778,
              "#fb9f3a"
             ],
             [
              0.8888888888888888,
              "#fdca26"
             ],
             [
              1,
              "#f0f921"
             ]
            ],
            "type": "heatmapgl"
           }
          ],
          "histogram": [
           {
            "marker": {
             "pattern": {
              "fillmode": "overlay",
              "size": 10,
              "solidity": 0.2
             }
            },
            "type": "histogram"
           }
          ],
          "histogram2d": [
           {
            "colorbar": {
             "outlinewidth": 0,
             "ticks": ""
            },
            "colorscale": [
             [
              0,
              "#0d0887"
             ],
             [
              0.1111111111111111,
              "#46039f"
             ],
             [
              0.2222222222222222,
              "#7201a8"
             ],
             [
              0.3333333333333333,
              "#9c179e"
             ],
             [
              0.4444444444444444,
              "#bd3786"
             ],
             [
              0.5555555555555556,
              "#d8576b"
             ],
             [
              0.6666666666666666,
              "#ed7953"
             ],
             [
              0.7777777777777778,
              "#fb9f3a"
             ],
             [
              0.8888888888888888,
              "#fdca26"
             ],
             [
              1,
              "#f0f921"
             ]
            ],
            "type": "histogram2d"
           }
          ],
          "histogram2dcontour": [
           {
            "colorbar": {
             "outlinewidth": 0,
             "ticks": ""
            },
            "colorscale": [
             [
              0,
              "#0d0887"
             ],
             [
              0.1111111111111111,
              "#46039f"
             ],
             [
              0.2222222222222222,
              "#7201a8"
             ],
             [
              0.3333333333333333,
              "#9c179e"
             ],
             [
              0.4444444444444444,
              "#bd3786"
             ],
             [
              0.5555555555555556,
              "#d8576b"
             ],
             [
              0.6666666666666666,
              "#ed7953"
             ],
             [
              0.7777777777777778,
              "#fb9f3a"
             ],
             [
              0.8888888888888888,
              "#fdca26"
             ],
             [
              1,
              "#f0f921"
             ]
            ],
            "type": "histogram2dcontour"
           }
          ],
          "mesh3d": [
           {
            "colorbar": {
             "outlinewidth": 0,
             "ticks": ""
            },
            "type": "mesh3d"
           }
          ],
          "parcoords": [
           {
            "line": {
             "colorbar": {
              "outlinewidth": 0,
              "ticks": ""
             }
            },
            "type": "parcoords"
           }
          ],
          "pie": [
           {
            "automargin": true,
            "type": "pie"
           }
          ],
          "scatter": [
           {
            "fillpattern": {
             "fillmode": "overlay",
             "size": 10,
             "solidity": 0.2
            },
            "type": "scatter"
           }
          ],
          "scatter3d": [
           {
            "line": {
             "colorbar": {
              "outlinewidth": 0,
              "ticks": ""
             }
            },
            "marker": {
             "colorbar": {
              "outlinewidth": 0,
              "ticks": ""
             }
            },
            "type": "scatter3d"
           }
          ],
          "scattercarpet": [
           {
            "marker": {
             "colorbar": {
              "outlinewidth": 0,
              "ticks": ""
             }
            },
            "type": "scattercarpet"
           }
          ],
          "scattergeo": [
           {
            "marker": {
             "colorbar": {
              "outlinewidth": 0,
              "ticks": ""
             }
            },
            "type": "scattergeo"
           }
          ],
          "scattergl": [
           {
            "marker": {
             "colorbar": {
              "outlinewidth": 0,
              "ticks": ""
             }
            },
            "type": "scattergl"
           }
          ],
          "scattermapbox": [
           {
            "marker": {
             "colorbar": {
              "outlinewidth": 0,
              "ticks": ""
             }
            },
            "type": "scattermapbox"
           }
          ],
          "scatterpolar": [
           {
            "marker": {
             "colorbar": {
              "outlinewidth": 0,
              "ticks": ""
             }
            },
            "type": "scatterpolar"
           }
          ],
          "scatterpolargl": [
           {
            "marker": {
             "colorbar": {
              "outlinewidth": 0,
              "ticks": ""
             }
            },
            "type": "scatterpolargl"
           }
          ],
          "scatterternary": [
           {
            "marker": {
             "colorbar": {
              "outlinewidth": 0,
              "ticks": ""
             }
            },
            "type": "scatterternary"
           }
          ],
          "surface": [
           {
            "colorbar": {
             "outlinewidth": 0,
             "ticks": ""
            },
            "colorscale": [
             [
              0,
              "#0d0887"
             ],
             [
              0.1111111111111111,
              "#46039f"
             ],
             [
              0.2222222222222222,
              "#7201a8"
             ],
             [
              0.3333333333333333,
              "#9c179e"
             ],
             [
              0.4444444444444444,
              "#bd3786"
             ],
             [
              0.5555555555555556,
              "#d8576b"
             ],
             [
              0.6666666666666666,
              "#ed7953"
             ],
             [
              0.7777777777777778,
              "#fb9f3a"
             ],
             [
              0.8888888888888888,
              "#fdca26"
             ],
             [
              1,
              "#f0f921"
             ]
            ],
            "type": "surface"
           }
          ],
          "table": [
           {
            "cells": {
             "fill": {
              "color": "#EBF0F8"
             },
             "line": {
              "color": "white"
             }
            },
            "header": {
             "fill": {
              "color": "#C8D4E3"
             },
             "line": {
              "color": "white"
             }
            },
            "type": "table"
           }
          ]
         },
         "layout": {
          "annotationdefaults": {
           "arrowcolor": "#2a3f5f",
           "arrowhead": 0,
           "arrowwidth": 1
          },
          "autotypenumbers": "strict",
          "coloraxis": {
           "colorbar": {
            "outlinewidth": 0,
            "ticks": ""
           }
          },
          "colorscale": {
           "diverging": [
            [
             0,
             "#8e0152"
            ],
            [
             0.1,
             "#c51b7d"
            ],
            [
             0.2,
             "#de77ae"
            ],
            [
             0.3,
             "#f1b6da"
            ],
            [
             0.4,
             "#fde0ef"
            ],
            [
             0.5,
             "#f7f7f7"
            ],
            [
             0.6,
             "#e6f5d0"
            ],
            [
             0.7,
             "#b8e186"
            ],
            [
             0.8,
             "#7fbc41"
            ],
            [
             0.9,
             "#4d9221"
            ],
            [
             1,
             "#276419"
            ]
           ],
           "sequential": [
            [
             0,
             "#0d0887"
            ],
            [
             0.1111111111111111,
             "#46039f"
            ],
            [
             0.2222222222222222,
             "#7201a8"
            ],
            [
             0.3333333333333333,
             "#9c179e"
            ],
            [
             0.4444444444444444,
             "#bd3786"
            ],
            [
             0.5555555555555556,
             "#d8576b"
            ],
            [
             0.6666666666666666,
             "#ed7953"
            ],
            [
             0.7777777777777778,
             "#fb9f3a"
            ],
            [
             0.8888888888888888,
             "#fdca26"
            ],
            [
             1,
             "#f0f921"
            ]
           ],
           "sequentialminus": [
            [
             0,
             "#0d0887"
            ],
            [
             0.1111111111111111,
             "#46039f"
            ],
            [
             0.2222222222222222,
             "#7201a8"
            ],
            [
             0.3333333333333333,
             "#9c179e"
            ],
            [
             0.4444444444444444,
             "#bd3786"
            ],
            [
             0.5555555555555556,
             "#d8576b"
            ],
            [
             0.6666666666666666,
             "#ed7953"
            ],
            [
             0.7777777777777778,
             "#fb9f3a"
            ],
            [
             0.8888888888888888,
             "#fdca26"
            ],
            [
             1,
             "#f0f921"
            ]
           ]
          },
          "colorway": [
           "#636efa",
           "#EF553B",
           "#00cc96",
           "#ab63fa",
           "#FFA15A",
           "#19d3f3",
           "#FF6692",
           "#B6E880",
           "#FF97FF",
           "#FECB52"
          ],
          "font": {
           "color": "#2a3f5f"
          },
          "geo": {
           "bgcolor": "white",
           "lakecolor": "white",
           "landcolor": "#E5ECF6",
           "showlakes": true,
           "showland": true,
           "subunitcolor": "white"
          },
          "hoverlabel": {
           "align": "left"
          },
          "hovermode": "closest",
          "mapbox": {
           "style": "light"
          },
          "paper_bgcolor": "white",
          "plot_bgcolor": "#E5ECF6",
          "polar": {
           "angularaxis": {
            "gridcolor": "white",
            "linecolor": "white",
            "ticks": ""
           },
           "bgcolor": "#E5ECF6",
           "radialaxis": {
            "gridcolor": "white",
            "linecolor": "white",
            "ticks": ""
           }
          },
          "scene": {
           "xaxis": {
            "backgroundcolor": "#E5ECF6",
            "gridcolor": "white",
            "gridwidth": 2,
            "linecolor": "white",
            "showbackground": true,
            "ticks": "",
            "zerolinecolor": "white"
           },
           "yaxis": {
            "backgroundcolor": "#E5ECF6",
            "gridcolor": "white",
            "gridwidth": 2,
            "linecolor": "white",
            "showbackground": true,
            "ticks": "",
            "zerolinecolor": "white"
           },
           "zaxis": {
            "backgroundcolor": "#E5ECF6",
            "gridcolor": "white",
            "gridwidth": 2,
            "linecolor": "white",
            "showbackground": true,
            "ticks": "",
            "zerolinecolor": "white"
           }
          },
          "shapedefaults": {
           "line": {
            "color": "#2a3f5f"
           }
          },
          "ternary": {
           "aaxis": {
            "gridcolor": "white",
            "linecolor": "white",
            "ticks": ""
           },
           "baxis": {
            "gridcolor": "white",
            "linecolor": "white",
            "ticks": ""
           },
           "bgcolor": "#E5ECF6",
           "caxis": {
            "gridcolor": "white",
            "linecolor": "white",
            "ticks": ""
           }
          },
          "title": {
           "x": 0.05
          },
          "xaxis": {
           "automargin": true,
           "gridcolor": "white",
           "linecolor": "white",
           "ticks": "",
           "title": {
            "standoff": 15
           },
           "zerolinecolor": "white",
           "zerolinewidth": 2
          },
          "yaxis": {
           "automargin": true,
           "gridcolor": "white",
           "linecolor": "white",
           "ticks": "",
           "title": {
            "standoff": 15
           },
           "zerolinecolor": "white",
           "zerolinewidth": 2
          }
         }
        },
        "title": {
         "text": "Comparison of Names by Gender"
        },
        "width": 1600
       }
      }
     },
     "metadata": {},
     "output_type": "display_data"
    }
   ],
   "source": [
    "# Create the sunburst plots for females and males\n",
    "fig_females = go.Figure(go.Sunburst(\n",
    "    labels=data_f['character'],\n",
    "    parents=data_f['parent'],\n",
    "    domain=dict(column=1),\n",
    "    maxdepth=2\n",
    "))\n",
    "\n",
    "fig_males = go.Figure(go.Sunburst(\n",
    "    labels=data_m['character'],\n",
    "    parents=data_m['parent'],\n",
    "    domain=dict(column=1),\n",
    "    maxdepth=2\n",
    "))\n",
    "\n",
    "# Create a subplot with 1 row and 2 columns\n",
    "fig = make_subplots(\n",
    "    rows=1, cols=2,\n",
    "    subplot_titles=[\"Females\", \"Males\"],\n",
    "    specs=[[{\"type\": \"sunburst\"}, {\"type\": \"sunburst\"}]]\n",
    ")\n",
    "\n",
    "# Add the sunburst charts to the subplots\n",
    "fig.add_trace(fig_females['data'][0], row=1, col=1)\n",
    "fig.add_trace(fig_males['data'][0], row=1, col=2)\n",
    "\n",
    "# Update the layout for the subplot\n",
    "fig.update_layout(\n",
    "    title_text=\"Comparison of Names by Gender\",\n",
    "    showlegend=False,\n",
    "    width=1600,  # Width of the figure in pixels\n",
    "    height=800,  # Height of the figure in pixels\n",
    "    font=dict(size=13),  # Global font size, will affect other texts like titles\n",
    ")\n",
    "\n",
    "# Display the plot\n",
    "fig.show()"
   ]
  },
  {
   "cell_type": "code",
   "execution_count": null,
   "metadata": {},
   "outputs": [
    {
     "data": {
      "text/html": [
       "<div>\n",
       "<style scoped>\n",
       "    .dataframe tbody tr th:only-of-type {\n",
       "        vertical-align: middle;\n",
       "    }\n",
       "\n",
       "    .dataframe tbody tr th {\n",
       "        vertical-align: top;\n",
       "    }\n",
       "\n",
       "    .dataframe thead th {\n",
       "        text-align: right;\n",
       "    }\n",
       "</style>\n",
       "<table border=\"1\" class=\"dataframe\">\n",
       "  <thead>\n",
       "    <tr style=\"text-align: right;\">\n",
       "      <th></th>\n",
       "      <th>Genre_Category</th>\n",
       "      <th>Count</th>\n",
       "    </tr>\n",
       "  </thead>\n",
       "  <tbody>\n",
       "    <tr>\n",
       "      <th>0</th>\n",
       "      <td>Action &amp; Adventure</td>\n",
       "      <td>166</td>\n",
       "    </tr>\n",
       "    <tr>\n",
       "      <th>1</th>\n",
       "      <td>Drama</td>\n",
       "      <td>250</td>\n",
       "    </tr>\n",
       "    <tr>\n",
       "      <th>2</th>\n",
       "      <td>Comedy</td>\n",
       "      <td>142</td>\n",
       "    </tr>\n",
       "    <tr>\n",
       "      <th>3</th>\n",
       "      <td>Horror &amp; Thriller</td>\n",
       "      <td>111</td>\n",
       "    </tr>\n",
       "    <tr>\n",
       "      <th>4</th>\n",
       "      <td>Fantasy &amp; Sci-Fi</td>\n",
       "      <td>66</td>\n",
       "    </tr>\n",
       "    <tr>\n",
       "      <th>5</th>\n",
       "      <td>Historical &amp; War</td>\n",
       "      <td>56</td>\n",
       "    </tr>\n",
       "    <tr>\n",
       "      <th>6</th>\n",
       "      <td>Romance</td>\n",
       "      <td>84</td>\n",
       "    </tr>\n",
       "    <tr>\n",
       "      <th>7</th>\n",
       "      <td>Documentary</td>\n",
       "      <td>21</td>\n",
       "    </tr>\n",
       "    <tr>\n",
       "      <th>8</th>\n",
       "      <td>Music &amp; Performance</td>\n",
       "      <td>15</td>\n",
       "    </tr>\n",
       "    <tr>\n",
       "      <th>9</th>\n",
       "      <td>Cult &amp; B-Movies</td>\n",
       "      <td>49</td>\n",
       "    </tr>\n",
       "    <tr>\n",
       "      <th>10</th>\n",
       "      <td>Other</td>\n",
       "      <td>3</td>\n",
       "    </tr>\n",
       "    <tr>\n",
       "      <th>11</th>\n",
       "      <td>Total different movies</td>\n",
       "      <td>370</td>\n",
       "    </tr>\n",
       "  </tbody>\n",
       "</table>\n",
       "</div>"
      ],
      "text/plain": [
       "            Genre_Category  Count\n",
       "0       Action & Adventure    166\n",
       "1                    Drama    250\n",
       "2                   Comedy    142\n",
       "3        Horror & Thriller    111\n",
       "4         Fantasy & Sci-Fi     66\n",
       "5         Historical & War     56\n",
       "6                  Romance     84\n",
       "7              Documentary     21\n",
       "8      Music & Performance     15\n",
       "9          Cult & B-Movies     49\n",
       "10                   Other      3\n",
       "11  Total different movies    370"
      ]
     },
     "execution_count": 10,
     "metadata": {},
     "output_type": "execute_result"
    }
   ],
   "source": [
    "# Looking for the appearance of all the character with a name starting by the selected string\n",
    "\n",
    "genre_counts_result, movies_with_name = count_name_appearance_by_genre(df_char_cleaned, genres_list, 'Leo')\n",
    "genre_counts_result.head(15)"
   ]
  },
  {
   "cell_type": "code",
   "execution_count": null,
   "metadata": {},
   "outputs": [
    {
     "data": {
      "text/html": [
       "<div>\n",
       "<style scoped>\n",
       "    .dataframe tbody tr th:only-of-type {\n",
       "        vertical-align: middle;\n",
       "    }\n",
       "\n",
       "    .dataframe tbody tr th {\n",
       "        vertical-align: top;\n",
       "    }\n",
       "\n",
       "    .dataframe thead th {\n",
       "        text-align: right;\n",
       "    }\n",
       "</style>\n",
       "<table border=\"1\" class=\"dataframe\">\n",
       "  <thead>\n",
       "    <tr style=\"text-align: right;\">\n",
       "      <th></th>\n",
       "      <th>Wikipedia_ID</th>\n",
       "      <th>Name</th>\n",
       "      <th>Languages</th>\n",
       "      <th>Country</th>\n",
       "      <th>Genres</th>\n",
       "      <th>Character_name</th>\n",
       "      <th>Sex</th>\n",
       "      <th>Actor_age</th>\n",
       "      <th>Release_date</th>\n",
       "      <th>Genre_Category</th>\n",
       "    </tr>\n",
       "  </thead>\n",
       "  <tbody>\n",
       "    <tr>\n",
       "      <th>83</th>\n",
       "      <td>27611999</td>\n",
       "      <td>Special Effects</td>\n",
       "      <td>[]</td>\n",
       "      <td>[United States of America, United Kingdom]</td>\n",
       "      <td>[Thriller, Horror, Psychological thriller, Sus...</td>\n",
       "      <td>Leon</td>\n",
       "      <td>NaN</td>\n",
       "      <td>NaN</td>\n",
       "      <td>1984</td>\n",
       "      <td>[Action &amp; Adventure, Horror &amp; Thriller, Drama,...</td>\n",
       "    </tr>\n",
       "    <tr>\n",
       "      <th>466</th>\n",
       "      <td>21271533</td>\n",
       "      <td>Bleeder</td>\n",
       "      <td>[Danish Language]</td>\n",
       "      <td>[Denmark]</td>\n",
       "      <td>[Thriller, Drama]</td>\n",
       "      <td>Leo</td>\n",
       "      <td>M</td>\n",
       "      <td>34.0</td>\n",
       "      <td>1999-08-06</td>\n",
       "      <td>[Action &amp; Adventure, Horror &amp; Thriller, Drama]</td>\n",
       "    </tr>\n",
       "    <tr>\n",
       "      <th>573</th>\n",
       "      <td>17379289</td>\n",
       "      <td>Without Warning</td>\n",
       "      <td>[English Language]</td>\n",
       "      <td>[United States of America]</td>\n",
       "      <td>[Science Fiction, Horror]</td>\n",
       "      <td>Leo</td>\n",
       "      <td>M</td>\n",
       "      <td>60.0</td>\n",
       "      <td>1980-11-26</td>\n",
       "      <td>[Fantasy &amp; Sci-Fi, Horror &amp; Thriller]</td>\n",
       "    </tr>\n",
       "    <tr>\n",
       "      <th>637</th>\n",
       "      <td>13911991</td>\n",
       "      <td>A Sereia de Pedra</td>\n",
       "      <td>[French Language]</td>\n",
       "      <td>[France, Portugal]</td>\n",
       "      <td>[Silent film, Drama]</td>\n",
       "      <td>Leonor</td>\n",
       "      <td>F</td>\n",
       "      <td>NaN</td>\n",
       "      <td>1923-04-02</td>\n",
       "      <td>[Drama]</td>\n",
       "    </tr>\n",
       "    <tr>\n",
       "      <th>1799</th>\n",
       "      <td>20927265</td>\n",
       "      <td>Camões</td>\n",
       "      <td>[Portuguese Language]</td>\n",
       "      <td>[Portugal]</td>\n",
       "      <td>[Biography, Drama]</td>\n",
       "      <td>Leonor</td>\n",
       "      <td>F</td>\n",
       "      <td>24.0</td>\n",
       "      <td>1946-09-20</td>\n",
       "      <td>[Documentary, Drama]</td>\n",
       "    </tr>\n",
       "  </tbody>\n",
       "</table>\n",
       "</div>"
      ],
      "text/plain": [
       "      Wikipedia_ID               Name              Languages  \\\n",
       "83        27611999    Special Effects                     []   \n",
       "466       21271533            Bleeder      [Danish Language]   \n",
       "487       17379289    Without Warning     [English Language]   \n",
       "637       13911991  A Sereia de Pedra      [French Language]   \n",
       "1799      20927265             Camões  [Portuguese Language]   \n",
       "\n",
       "                                         Country  \\\n",
       "83    [United States of America, United Kingdom]   \n",
       "466                                    [Denmark]   \n",
       "487                   [United States of America]   \n",
       "637                           [France, Portugal]   \n",
       "1799                                  [Portugal]   \n",
       "\n",
       "                                                 Genres Character_name  Sex  \\\n",
       "83    [Thriller, Horror, Psychological thriller, Sus...           Leon  NaN   \n",
       "466                                   [Thriller, Drama]            Leo    M   \n",
       "487                           [Science Fiction, Horror]            Leo    M   \n",
       "637                                [Silent film, Drama]         Leonor    F   \n",
       "1799                                 [Biography, Drama]         Leonor    F   \n",
       "\n",
       "      Actor_age Release_date  \\\n",
       "83          NaN         1984   \n",
       "466        34.0   1999-08-06   \n",
       "487        60.0   1980-11-26   \n",
       "637         NaN   1923-04-02   \n",
       "1799       24.0   1946-09-20   \n",
       "\n",
       "                                         Genre_Category  \n",
       "83    [Action & Adventure, Horror & Thriller, Drama,...  \n",
       "466      [Action & Adventure, Horror & Thriller, Drama]  \n",
       "487               [Fantasy & Sci-Fi, Horror & Thriller]  \n",
       "637                                             [Drama]  \n",
       "1799                               [Documentary, Drama]  "
      ]
     },
     "execution_count": 11,
     "metadata": {},
     "output_type": "execute_result"
    }
   ],
   "source": [
    "movies_with_name.head(5)"
   ]
  },
  {
   "cell_type": "markdown",
   "metadata": {},
   "source": [
    "On va "
   ]
  },
  {
   "cell_type": "code",
   "execution_count": null,
   "metadata": {},
   "outputs": [],
   "source": [
    "def calculate_column_freq(df, column_name='Character_name'):\n",
    "    \"\"\"\n",
    "    Calculate the count and frequency (percentage) of unique values in a specified column.\n",
    "    \"\"\"\n",
    "    # Calculating the total number of entries in the specified column\n",
    "    total_entries = df[column_name].count()\n",
    "    \n",
    "    # Counting occurrences of each unique value\n",
    "    counts_df = df[column_name].value_counts().reset_index()\n",
    "    counts_df.columns = [column_name, 'Count']\n",
    "    \n",
    "    # Adding a frequency column with the count divided by the total number of names, expressed as a percentage\n",
    "    counts_df['Frequency (%)'] = counts_df['Count'] / total_entries * 100\n",
    "    \n",
    "    return counts_df"
   ]
  },
  {
   "cell_type": "code",
   "execution_count": null,
   "metadata": {},
   "outputs": [
    {
     "name": "stdout",
     "output_type": "stream",
     "text": [
      "Chi2 Stat: 11363.347871189899\n",
      "P-Value: 1.0\n",
      "Degrees of Freedom: 20830\n",
      "Expected Frequencies:\n",
      "[[0.61553661 0.38446339]\n",
      " [0.61553661 0.38446339]\n",
      " [0.61553661 0.38446339]\n",
      " ...\n",
      " [0.61553661 0.38446339]\n",
      " [0.61553661 0.38446339]\n",
      " [1.23107321 0.76892679]]\n"
     ]
    }
   ],
   "source": [
    "df_char_cleaned.head()"
   ]
  },
  {
   "cell_type": "code",
   "execution_count": null,
   "metadata": {},
   "outputs": [
    {
     "name": "stdout",
     "output_type": "stream",
     "text": [
      "Chi-Square Statistic: 407882.06544038316\n",
      "p-value: 1.7570105040794593e-295\n"
     ]
    }
   ],
   "source": [
    "df_expanded = df_char_cleaned.explode('Genre_Category')\n",
    "\n",
    "\n",
    "contingency_table = create_contingency_table(df_expanded,'Character_name','Genre_Category')\n",
    "chi2, p_value, dof, expected = stats.chi2_contingency(contingency_table)\n",
    "\n",
    "print(f\"Chi-Square Statistic: {chi2}\")\n",
    "print(f\"p-value: {p_value}\")"
   ]
  },
  {
   "cell_type": "markdown",
   "metadata": {},
   "source": [
    "The p-value is very close to zero, hence we can say taht there is an association between character names and genres. We will now try to quantify this association using Cramér's V."
   ]
  },
  {
   "cell_type": "code",
   "execution_count": null,
   "metadata": {},
   "outputs": [
    {
     "name": "stdout",
     "output_type": "stream",
     "text": [
      "Cramér's V: 0.35238075183530704\n"
     ]
    }
   ],
   "source": [
    "n = contingency_table.sum().sum()\n",
    "k = min(contingency_table.shape)\n",
    "cramers_v = np.sqrt(chi2 / (n * (k - 1)))\n",
    "\n",
    "print(f\"Cramér's V: {cramers_v}\")"
   ]
  },
  {
   "cell_type": "markdown",
   "metadata": {},
   "source": [
    "The Cramér's V is close to 0.35, meaning there is a moderate association between genres and character names."
   ]
  },
  {
   "cell_type": "markdown",
   "metadata": {},
   "source": [
    "## Gender Analysis"
   ]
  },
  {
   "cell_type": "code",
   "execution_count": null,
   "metadata": {},
   "outputs": [
    {
     "name": "stdout",
     "output_type": "stream",
     "text": [
      "Stats for vowels in character names by sex:\n"
     ]
    },
    {
     "data": {
      "text/html": [
       "<div>\n",
       "<style scoped>\n",
       "    .dataframe tbody tr th:only-of-type {\n",
       "        vertical-align: middle;\n",
       "    }\n",
       "\n",
       "    .dataframe tbody tr th {\n",
       "        vertical-align: top;\n",
       "    }\n",
       "\n",
       "    .dataframe thead th {\n",
       "        text-align: right;\n",
       "    }\n",
       "</style>\n",
       "<table border=\"1\" class=\"dataframe\">\n",
       "  <thead>\n",
       "    <tr style=\"text-align: right;\">\n",
       "      <th></th>\n",
       "      <th>mean</th>\n",
       "      <th>std</th>\n",
       "    </tr>\n",
       "    <tr>\n",
       "      <th>Sex</th>\n",
       "      <th></th>\n",
       "      <th></th>\n",
       "    </tr>\n",
       "  </thead>\n",
       "  <tbody>\n",
       "    <tr>\n",
       "      <th>F</th>\n",
       "      <td>2.633991</td>\n",
       "      <td>0.827407</td>\n",
       "    </tr>\n",
       "    <tr>\n",
       "      <th>M</th>\n",
       "      <td>2.305355</td>\n",
       "      <td>0.890816</td>\n",
       "    </tr>\n",
       "  </tbody>\n",
       "</table>\n",
       "</div>"
      ],
      "text/plain": [
       "         mean       std\n",
       "Sex                    \n",
       "F    2.633991  0.827407\n",
       "M    2.305355  0.890816"
      ]
     },
     "execution_count": 13,
     "metadata": {},
     "output_type": "execute_result"
    }
   ],
   "source": [
    "df_vowels, df_consonants = get_vowel_stats(df_char_cleaned)"
   ]
  },
  {
   "cell_type": "code",
   "execution_count": null,
   "metadata": {},
   "outputs": [
    {
     "data": {
      "image/png": "[encoded data removed]",
      "text/plain": [
       "<Figure size 1400x600 with 2 Axes>"
      ]
     },
     "metadata": {},
     "output_type": "display_data"
    }
   ],
   "source": [
    "fig, axes = plt.subplots(1, 2, figsize=(14, 6))\n",
    "\n",
    "# Boxplot for vowel count by sex\n",
    "sns.boxenplot(data=df_char_cleaned, x='Sex', y='vowel_count', ax=axes[0])\n",
    "axes[0].set_title('Vowel Count by Gender')\n",
    "axes[0].set_xlabel('Gender')\n",
    "axes[0].set_ylabel('Vowel Count')\n",
    "\n",
    "# Boxplot for consonant count by sex\n",
    "sns.boxenplot(data=df_char_cleaned, x='Sex', y='consonant_count', ax=axes[1])\n",
    "axes[1].set_title('Consonant Count by Genger')\n",
    "axes[1].set_xlabel('Gender')\n",
    "axes[1].set_ylabel('Consonant Count')\n",
    "\n",
    "plt.tight_layout()"
   ]
  },
  {
   "cell_type": "code",
   "execution_count": null,
   "metadata": {},
   "outputs": [
    {
     "name": "stdout",
     "output_type": "stream",
     "text": [
      "Length stats for character names by sex:\n"
     ]
    },
    {
     "data": {
      "text/html": [
       "<div>\n",
       "<style scoped>\n",
       "    .dataframe tbody tr th:only-of-type {\n",
       "        vertical-align: middle;\n",
       "    }\n",
       "\n",
       "    .dataframe tbody tr th {\n",
       "        vertical-align: top;\n",
       "    }\n",
       "\n",
       "    .dataframe thead th {\n",
       "        text-align: right;\n",
       "    }\n",
       "</style>\n",
       "<table border=\"1\" class=\"dataframe\">\n",
       "  <thead>\n",
       "    <tr style=\"text-align: right;\">\n",
       "      <th></th>\n",
       "      <th>mean</th>\n",
       "      <th>std</th>\n",
       "    </tr>\n",
       "    <tr>\n",
       "      <th>Sex</th>\n",
       "      <th></th>\n",
       "      <th></th>\n",
       "    </tr>\n",
       "  </thead>\n",
       "  <tbody>\n",
       "    <tr>\n",
       "      <th>F</th>\n",
       "      <td>6.060847</td>\n",
       "      <td>1.653263</td>\n",
       "    </tr>\n",
       "    <tr>\n",
       "      <th>M</th>\n",
       "      <td>6.078445</td>\n",
       "      <td>1.849723</td>\n",
       "    </tr>\n",
       "  </tbody>\n",
       "</table>\n",
       "</div>"
      ],
      "text/plain": [
       "         mean       std\n",
       "Sex                    \n",
       "F    6.060847  1.653263\n",
       "M    6.078445  1.849723"
      ]
     },
     "execution_count": 16,
     "metadata": {},
     "output_type": "execute_result"
    }
   ],
   "source": [
    "df_length = get_length_stats(df_char_cleaned)\n",
    "\n",
    "print('Length stats for character names by sex:')\n",
    "df_length.head()"
   ]
  },
  {
   "cell_type": "code",
   "execution_count": null,
   "metadata": {},
   "outputs": [
    {
     "data": {
      "image/png": "[encoded data removed]",
      "text/plain": [
       "<Figure size 640x480 with 1 Axes>"
      ]
     },
     "metadata": {},
     "output_type": "display_data"
    }
   ],
   "source": [
    "create_boxenplot_by_sex(df_char_cleaned)"
   ]
  },
  {
   "cell_type": "code",
   "execution_count": null,
   "metadata": {},
   "outputs": [
    {
     "data": {
      "application/vnd.plotly.v1+json": {
       "config": {
        "plotlyServerURL": "https://plot.ly"
       },
       "data": [
        {
         "hoverinfo": "text",
         "hovertext": [
          "Top names: Steve, Sam, Simon",
          "Top names: John, James, Jack",
          "Top names: Michael, Max, Mike",
          "Top names: Robert, Richard, Roy",
          "Top names: Bob, Bill, Billy",
          "Top names: Arthur, Alex, Adam",
          "Top names: Charlie, Charles, Chris",
          "Top names: David, Danny, Dave",
          "Top names: Paul, Peter, Phil",
          "Top names: George, Guy, Gary",
          "Top names: Tom, Thomas, Tony",
          "Top names: Harry, Henry, Howard",
          "Top names: Kevin, Karl, Kid",
          "Top names: Louis, Larry, Leo",
          "Top names: Frank, Fred, Francis",
          "Top names: William, Walter, Wilson",
          "Top names: Eddie, Ed, Edward",
          "Top names: Nick, Norman, Neil",
          "Top names: Vijay, Vikram, Victor",
          "Top names: Oliver, Oscar, Owen",
          "Top names: Ivan, Il, Ian",
          "Top names: Yosemite, Yuri, Yu",
          "Top names: Zack, Zach, Zeke",
          "Top names: Uday, Ulysses, Usman",
          "Top names: Quentin, Quinn, Quincy",
          "Top names: Xavier, Xiao, Xander"
         ],
         "marker": {
          "color": "skyblue"
         },
         "name": "Male",
         "type": "bar",
         "x": [
          "s",
          "j",
          "m",
          "r",
          "b",
          "a",
          "c",
          "d",
          "p",
          "g",
          "t",
          "h",
          "k",
          "l",
          "f",
          "w",
          "e",
          "n",
          "v",
          "o",
          "i",
          "y",
          "z",
          "u",
          "q",
          "x"
         ],
         "y": [
          8.48366825165468,
          7.707103772908653,
          7.536259587584526,
          6.81584669422475,
          6.7322166734367155,
          6.278225132015962,
          6.158753673747342,
          5.557812238656186,
          4.897135074430718,
          4.713149028697044,
          4.449117105923395,
          4.432391101765789,
          4.3392033643162655,
          3.856538672911042,
          3.0417433275190557,
          2.9987336025423525,
          2.6331509402403768,
          2.4384124632625266,
          2.4181023153568613,
          1.2329454493321546,
          1.144536570213376,
          0.6917397433753076,
          0.6642613079735251,
          0.3560249456404865,
          0.24133234570261164,
          0.09199302286683711
         ]
        },
        {
         "hoverinfo": "text",
         "hovertext": [
          "Top names: Sarah, Susan, Sara",
          "Top names: Julie, Jane, Jennifer",
          "Top names: Mary, Marie, Maggie",
          "Top names: Rachel, Rose, Rebecca",
          "Top names: Barbara, Betty, Beth",
          "Top names: Alice, Anna, Anne",
          "Top names: Claire, Charlotte, Catherine",
          "Top names: Diane, Diana, Dorothy",
          "Top names: Priya, Pooja, Paula",
          "Top names: Gloria, Grace, Gina",
          "Top names: Tina, Tanya, Tracy",
          "Top names: Helen, Hannah, Heather",
          "Top names: Kate, Karen, Katie",
          "Top names: Lisa, Linda, Laura",
          "Top names: Frau, Frances, Fiona",
          "Top names: Wendy, Wanda, Williams",
          "Top names: Elizabeth, Emily, Ellen",
          "Top names: Nina, Nicole, Nancy",
          "Top names: Victoria, Vanessa, Valerie",
          "Top names: Olivia, Olga, Ophelia",
          "Top names: Isabelle, Isabel, Irene",
          "Top names: Yvonne, Yvette, Yolanda",
          "Top names: Zoe, Zoey, Zora",
          "Top names: Ursula, Usha, Uma",
          "Top names: Queenie, Quinn, Qiu",
          "Top names: Xiao, Xu, Ximena"
         ],
         "marker": {
          "color": "salmon"
         },
         "name": "Female",
         "type": "bar",
         "x": [
          "s",
          "j",
          "m",
          "r",
          "b",
          "a",
          "c",
          "d",
          "p",
          "g",
          "t",
          "h",
          "k",
          "l",
          "f",
          "w",
          "e",
          "n",
          "v",
          "o",
          "i",
          "y",
          "z",
          "u",
          "q",
          "x"
         ],
         "y": [
          10.863028726991995,
          10.716752671569624,
          5.8713583357035475,
          7.777010279956118,
          4.595506074519524,
          7.742472877981391,
          4.412661005241559,
          4.7397505180610295,
          3.7869245459347445,
          3.6548697736784366,
          3.435455690544878,
          3.24854739750518,
          4.662549266588111,
          6.407703872252244,
          2.1941408313355817,
          4.4959570923570755,
          1.5298037462923084,
          2.2733736946893663,
          3.4293608549022796,
          0.8349924830360409,
          1.2860103205883548,
          0.7232538295883955,
          0.6744951444476047,
          0.36365852667506404,
          0.10970704156677909,
          0.09954898216244767
         ]
        }
       ],
       "layout": {
        "barmode": "group",
        "legend": {
         "title": {
          "text": "Gender"
         }
        },
        "template": {
         "data": {
          "bar": [
           {
            "error_x": {
             "color": "#2a3f5f"
            },
            "error_y": {
             "color": "#2a3f5f"
            },
            "marker": {
             "line": {
              "color": "#E5ECF6",
              "width": 0.5
             },
             "pattern": {
              "fillmode": "overlay",
              "size": 10,
              "solidity": 0.2
             }
            },
            "type": "bar"
           }
          ],
          "barpolar": [
           {
            "marker": {
             "line": {
              "color": "#E5ECF6",
              "width": 0.5
             },
             "pattern": {
              "fillmode": "overlay",
              "size": 10,
              "solidity": 0.2
             }
            },
            "type": "barpolar"
           }
          ],
          "carpet": [
           {
            "aaxis": {
             "endlinecolor": "#2a3f5f",
             "gridcolor": "white",
             "linecolor": "white",
             "minorgridcolor": "white",
             "startlinecolor": "#2a3f5f"
            },
            "baxis": {
             "endlinecolor": "#2a3f5f",
             "gridcolor": "white",
             "linecolor": "white",
             "minorgridcolor": "white",
             "startlinecolor": "#2a3f5f"
            },
            "type": "carpet"
           }
          ],
          "choropleth": [
           {
            "colorbar": {
             "outlinewidth": 0,
             "ticks": ""
            },
            "type": "choropleth"
           }
          ],
          "contour": [
           {
            "colorbar": {
             "outlinewidth": 0,
             "ticks": ""
            },
            "colorscale": [
             [
              0,
              "#0d0887"
             ],
             [
              0.1111111111111111,
              "#46039f"
             ],
             [
              0.2222222222222222,
              "#7201a8"
             ],
             [
              0.3333333333333333,
              "#9c179e"
             ],
             [
              0.4444444444444444,
              "#bd3786"
             ],
             [
              0.5555555555555556,
              "#d8576b"
             ],
             [
              0.6666666666666666,
              "#ed7953"
             ],
             [
              0.7777777777777778,
              "#fb9f3a"
             ],
             [
              0.8888888888888888,
              "#fdca26"
             ],
             [
              1,
              "#f0f921"
             ]
            ],
            "type": "contour"
           }
          ],
          "contourcarpet": [
           {
            "colorbar": {
             "outlinewidth": 0,
             "ticks": ""
            },
            "type": "contourcarpet"
           }
          ],
          "heatmap": [
           {
            "colorbar": {
             "outlinewidth": 0,
             "ticks": ""
            },
            "colorscale": [
             [
              0,
              "#0d0887"
             ],
             [
              0.1111111111111111,
              "#46039f"
             ],
             [
              0.2222222222222222,
              "#7201a8"
             ],
             [
              0.3333333333333333,
              "#9c179e"
             ],
             [
              0.4444444444444444,
              "#bd3786"
             ],
             [
              0.5555555555555556,
              "#d8576b"
             ],
             [
              0.6666666666666666,
              "#ed7953"
             ],
             [
              0.7777777777777778,
              "#fb9f3a"
             ],
             [
              0.8888888888888888,
              "#fdca26"
             ],
             [
              1,
              "#f0f921"
             ]
            ],
            "type": "heatmap"
           }
          ],
          "heatmapgl": [
           {
            "colorbar": {
             "outlinewidth": 0,
             "ticks": ""
            },
            "colorscale": [
             [
              0,
              "#0d0887"
             ],
             [
              0.1111111111111111,
              "#46039f"
             ],
             [
              0.2222222222222222,
              "#7201a8"
             ],
             [
              0.3333333333333333,
              "#9c179e"
             ],
             [
              0.4444444444444444,
              "#bd3786"
             ],
             [
              0.5555555555555556,
              "#d8576b"
             ],
             [
              0.6666666666666666,
              "#ed7953"
             ],
             [
              0.7777777777777778,
              "#fb9f3a"
             ],
             [
              0.8888888888888888,
              "#fdca26"
             ],
             [
              1,
              "#f0f921"
             ]
            ],
            "type": "heatmapgl"
           }
          ],
          "histogram": [
           {
            "marker": {
             "pattern": {
              "fillmode": "overlay",
              "size": 10,
              "solidity": 0.2
             }
            },
            "type": "histogram"
           }
          ],
          "histogram2d": [
           {
            "colorbar": {
             "outlinewidth": 0,
             "ticks": ""
            },
            "colorscale": [
             [
              0,
              "#0d0887"
             ],
             [
              0.1111111111111111,
              "#46039f"
             ],
             [
              0.2222222222222222,
              "#7201a8"
             ],
             [
              0.3333333333333333,
              "#9c179e"
             ],
             [
              0.4444444444444444,
              "#bd3786"
             ],
             [
              0.5555555555555556,
              "#d8576b"
             ],
             [
              0.6666666666666666,
              "#ed7953"
             ],
             [
              0.7777777777777778,
              "#fb9f3a"
             ],
             [
              0.8888888888888888,
              "#fdca26"
             ],
             [
              1,
              "#f0f921"
             ]
            ],
            "type": "histogram2d"
           }
          ],
          "histogram2dcontour": [
           {
            "colorbar": {
             "outlinewidth": 0,
             "ticks": ""
            },
            "colorscale": [
             [
              0,
              "#0d0887"
             ],
             [
              0.1111111111111111,
              "#46039f"
             ],
             [
              0.2222222222222222,
              "#7201a8"
             ],
             [
              0.3333333333333333,
              "#9c179e"
             ],
             [
              0.4444444444444444,
              "#bd3786"
             ],
             [
              0.5555555555555556,
              "#d8576b"
             ],
             [
              0.6666666666666666,
              "#ed7953"
             ],
             [
              0.7777777777777778,
              "#fb9f3a"
             ],
             [
              0.8888888888888888,
              "#fdca26"
             ],
             [
              1,
              "#f0f921"
             ]
            ],
            "type": "histogram2dcontour"
           }
          ],
          "mesh3d": [
           {
            "colorbar": {
             "outlinewidth": 0,
             "ticks": ""
            },
            "type": "mesh3d"
           }
          ],
          "parcoords": [
           {
            "line": {
             "colorbar": {
              "outlinewidth": 0,
              "ticks": ""
             }
            },
            "type": "parcoords"
           }
          ],
          "pie": [
           {
            "automargin": true,
            "type": "pie"
           }
          ],
          "scatter": [
           {
            "fillpattern": {
             "fillmode": "overlay",
             "size": 10,
             "solidity": 0.2
            },
            "type": "scatter"
           }
          ],
          "scatter3d": [
           {
            "line": {
             "colorbar": {
              "outlinewidth": 0,
              "ticks": ""
             }
            },
            "marker": {
             "colorbar": {
              "outlinewidth": 0,
              "ticks": ""
             }
            },
            "type": "scatter3d"
           }
          ],
          "scattercarpet": [
           {
            "marker": {
             "colorbar": {
              "outlinewidth": 0,
              "ticks": ""
             }
            },
            "type": "scattercarpet"
           }
          ],
          "scattergeo": [
           {
            "marker": {
             "colorbar": {
              "outlinewidth": 0,
              "ticks": ""
             }
            },
            "type": "scattergeo"
           }
          ],
          "scattergl": [
           {
            "marker": {
             "colorbar": {
              "outlinewidth": 0,
              "ticks": ""
             }
            },
            "type": "scattergl"
           }
          ],
          "scattermapbox": [
           {
            "marker": {
             "colorbar": {
              "outlinewidth": 0,
              "ticks": ""
             }
            },
            "type": "scattermapbox"
           }
          ],
          "scatterpolar": [
           {
            "marker": {
             "colorbar": {
              "outlinewidth": 0,
              "ticks": ""
             }
            },
            "type": "scatterpolar"
           }
          ],
          "scatterpolargl": [
           {
            "marker": {
             "colorbar": {
              "outlinewidth": 0,
              "ticks": ""
             }
            },
            "type": "scatterpolargl"
           }
          ],
          "scatterternary": [
           {
            "marker": {
             "colorbar": {
              "outlinewidth": 0,
              "ticks": ""
             }
            },
            "type": "scatterternary"
           }
          ],
          "surface": [
           {
            "colorbar": {
             "outlinewidth": 0,
             "ticks": ""
            },
            "colorscale": [
             [
              0,
              "#0d0887"
             ],
             [
              0.1111111111111111,
              "#46039f"
             ],
             [
              0.2222222222222222,
              "#7201a8"
             ],
             [
              0.3333333333333333,
              "#9c179e"
             ],
             [
              0.4444444444444444,
              "#bd3786"
             ],
             [
              0.5555555555555556,
              "#d8576b"
             ],
             [
              0.6666666666666666,
              "#ed7953"
             ],
             [
              0.7777777777777778,
              "#fb9f3a"
             ],
             [
              0.8888888888888888,
              "#fdca26"
             ],
             [
              1,
              "#f0f921"
             ]
            ],
            "type": "surface"
           }
          ],
          "table": [
           {
            "cells": {
             "fill": {
              "color": "#EBF0F8"
             },
             "line": {
              "color": "white"
             }
            },
            "header": {
             "fill": {
              "color": "#C8D4E3"
             },
             "line": {
              "color": "white"
             }
            },
            "type": "table"
           }
          ]
         },
         "layout": {
          "annotationdefaults": {
           "arrowcolor": "#2a3f5f",
           "arrowhead": 0,
           "arrowwidth": 1
          },
          "autotypenumbers": "strict",
          "coloraxis": {
           "colorbar": {
            "outlinewidth": 0,
            "ticks": ""
           }
          },
          "colorscale": {
           "diverging": [
            [
             0,
             "#8e0152"
            ],
            [
             0.1,
             "#c51b7d"
            ],
            [
             0.2,
             "#de77ae"
            ],
            [
             0.3,
             "#f1b6da"
            ],
            [
             0.4,
             "#fde0ef"
            ],
            [
             0.5,
             "#f7f7f7"
            ],
            [
             0.6,
             "#e6f5d0"
            ],
            [
             0.7,
             "#b8e186"
            ],
            [
             0.8,
             "#7fbc41"
            ],
            [
             0.9,
             "#4d9221"
            ],
            [
             1,
             "#276419"
            ]
           ],
           "sequential": [
            [
             0,
             "#0d0887"
            ],
            [
             0.1111111111111111,
             "#46039f"
            ],
            [
             0.2222222222222222,
             "#7201a8"
            ],
            [
             0.3333333333333333,
             "#9c179e"
            ],
            [
             0.4444444444444444,
             "#bd3786"
            ],
            [
             0.5555555555555556,
             "#d8576b"
            ],
            [
             0.6666666666666666,
             "#ed7953"
            ],
            [
             0.7777777777777778,
             "#fb9f3a"
            ],
            [
             0.8888888888888888,
             "#fdca26"
            ],
            [
             1,
             "#f0f921"
            ]
           ],
           "sequentialminus": [
            [
             0,
             "#0d0887"
            ],
            [
             0.1111111111111111,
             "#46039f"
            ],
            [
             0.2222222222222222,
             "#7201a8"
            ],
            [
             0.3333333333333333,
             "#9c179e"
            ],
            [
             0.4444444444444444,
             "#bd3786"
            ],
            [
             0.5555555555555556,
             "#d8576b"
            ],
            [
             0.6666666666666666,
             "#ed7953"
            ],
            [
             0.7777777777777778,
             "#fb9f3a"
            ],
            [
             0.8888888888888888,
             "#fdca26"
            ],
            [
             1,
             "#f0f921"
            ]
           ]
          },
          "colorway": [
           "#636efa",
           "#EF553B",
           "#00cc96",
           "#ab63fa",
           "#FFA15A",
           "#19d3f3",
           "#FF6692",
           "#B6E880",
           "#FF97FF",
           "#FECB52"
          ],
          "font": {
           "color": "#2a3f5f"
          },
          "geo": {
           "bgcolor": "white",
           "lakecolor": "white",
           "landcolor": "#E5ECF6",
           "showlakes": true,
           "showland": true,
           "subunitcolor": "white"
          },
          "hoverlabel": {
           "align": "left"
          },
          "hovermode": "closest",
          "mapbox": {
           "style": "light"
          },
          "paper_bgcolor": "white",
          "plot_bgcolor": "#E5ECF6",
          "polar": {
           "angularaxis": {
            "gridcolor": "white",
            "linecolor": "white",
            "ticks": ""
           },
           "bgcolor": "#E5ECF6",
           "radialaxis": {
            "gridcolor": "white",
            "linecolor": "white",
            "ticks": ""
           }
          },
          "scene": {
           "xaxis": {
            "backgroundcolor": "#E5ECF6",
            "gridcolor": "white",
            "gridwidth": 2,
            "linecolor": "white",
            "showbackground": true,
            "ticks": "",
            "zerolinecolor": "white"
           },
           "yaxis": {
            "backgroundcolor": "#E5ECF6",
            "gridcolor": "white",
            "gridwidth": 2,
            "linecolor": "white",
            "showbackground": true,
            "ticks": "",
            "zerolinecolor": "white"
           },
           "zaxis": {
            "backgroundcolor": "#E5ECF6",
            "gridcolor": "white",
            "gridwidth": 2,
            "linecolor": "white",
            "showbackground": true,
            "ticks": "",
            "zerolinecolor": "white"
           }
          },
          "shapedefaults": {
           "line": {
            "color": "#2a3f5f"
           }
          },
          "ternary": {
           "aaxis": {
            "gridcolor": "white",
            "linecolor": "white",
            "ticks": ""
           },
           "baxis": {
            "gridcolor": "white",
            "linecolor": "white",
            "ticks": ""
           },
           "bgcolor": "#E5ECF6",
           "caxis": {
            "gridcolor": "white",
            "linecolor": "white",
            "ticks": ""
           }
          },
          "title": {
           "x": 0.05
          },
          "xaxis": {
           "automargin": true,
           "gridcolor": "white",
           "linecolor": "white",
           "ticks": "",
           "title": {
            "standoff": 15
           },
           "zerolinecolor": "white",
           "zerolinewidth": 2
          },
          "yaxis": {
           "automargin": true,
           "gridcolor": "white",
           "linecolor": "white",
           "ticks": "",
           "title": {
            "standoff": 15
           },
           "zerolinecolor": "white",
           "zerolinewidth": 2
          }
         }
        },
        "title": {
         "text": "Percentage of Names Starting by Each Letter by Gender"
        },
        "xaxis": {
         "title": {
          "text": "Letter of the Name"
         }
        },
        "yaxis": {
         "ticksuffix": "%",
         "title": {
          "text": "% of Total Names by Gender"
         }
        }
       }
      }
     },
     "metadata": {},
     "output_type": "display_data"
    },
    {
     "data": {
      "application/vnd.plotly.v1+json": {
       "config": {
        "plotlyServerURL": "https://plot.ly"
       },
       "data": [
        {
         "hoverinfo": "text",
         "hovertext": [
          "Top names: John, Simon, Kevin",
          "Top names: George, Charlie, Joe",
          "Top names: Johnny, Danny, Harry",
          "Top names: James, Charles, Thomas",
          "Top names: Arthur, Peter, Walter",
          "Top names: Paul, Michael, Bill",
          "Top names: David, Richard, Ed",
          "Top names: Leo, Antonio, Bruno",
          "Top names: Robert, Matt, Scott",
          "Top names: Krishna, Santa, Joshua",
          "Top names: Tom, Jim, William",
          "Top names: Ravi, Ali, Jai",
          "Top names: Jack, Frank, Nick",
          "Top names: Joseph, Josh, Mitch",
          "Top names: Lou, Raju, Stu",
          "Top names: Doug, King, Greg",
          "Top names: Max, Alex, Felix",
          "Top names: Franz, Fritz, Heinz",
          "Top names: Bob, Jacob, Rob",
          "Top names: Eric, Vic, Mac",
          "Top names: Philip, Phillip, Pratap",
          "Top names: Jeff, Wolf, Josef",
          "Top names: Andrew, Matthew, Drew",
          "Top names: Rajiv, Gustav, Yadav",
          "Top names: Suraj, Raj, Manoj",
          "Top names: André, José, René"
         ],
         "marker": {
          "color": "skyblue"
         },
         "name": "Male",
         "type": "bar",
         "x": [
          "n",
          "e",
          "y",
          "s",
          "r",
          "l",
          "d",
          "o",
          "t",
          "a",
          "m",
          "i",
          "k",
          "h",
          "u",
          "g",
          "x",
          "z",
          "b",
          "c",
          "p",
          "f",
          "w",
          "v",
          "j",
          "é"
         ],
         "y": [
          16.77618217007957,
          10.538577333874938,
          10.129984946596258,
          7.225633796086115,
          6.981912021218132,
          6.244773123700748,
          5.975962342596354,
          5.821844161429834,
          4.353539939308499,
          4.3427875080643235,
          4.327256218489403,
          3.8493703854149244,
          2.7836849776588375,
          1.9557477718573035,
          1.765788153210198,
          1.4133473513177703,
          0.9701082411411913,
          0.8637786432821198,
          0.6069150080045876,
          0.5364268476261022,
          0.5101431268070058,
          0.505364268476261,
          0.49222240806671286,
          0.40500824353062054,
          0.29748393108886284,
          0.14575517908771593
         ]
        },
        {
         "hoverinfo": "text",
         "hovertext": [
          "Top names: Helen, Susan, Karen",
          "Top names: Alice, Kate, Julie",
          "Top names: Mary, Emily, Amy",
          "Top names: Doris, Frances, Agnes",
          "Top names: Jennifer, Heather, Eleanor",
          "Top names: Rachel, Carol, Jill",
          "Top names: Girlfriend, Ingrid, Red",
          "Top names: Margo, Jo, Flo",
          "Top names: Margaret, Janet, Harriet",
          "Top names: Lisa, Barbara, Anna",
          "Top names: Kim, Miriam, Sam",
          "Top names: Anjali, Shanti, Nikki",
          "Top names: Park, Jack, Mak",
          "Top names: Sarah, Elizabeth, Beth",
          "Top names: Frau, Madhu, Lou",
          "Top names: Meg, Peg, Ying",
          "Top names: Alex, Max, Beatrix",
          "Top names: Liz, Inez, Roz",
          "Top names: Barb, Deb, Nightclub",
          "Top names: Mac, Vic, Isaac",
          "Top names: Boop, Miep, Lemp",
          "Top names: Sif, Elif, Wolff",
          "Top names: Willow, Vrouw, Mevrouw",
          "Top names: Bev, Viv, Liv",
          "Top names: Saroj, Asajj, Yuvraj",
          "Top names: Chloé, Zoé, Padmé"
         ],
         "marker": {
          "color": "salmon"
         },
         "name": "Female",
         "type": "bar",
         "x": [
          "n",
          "e",
          "y",
          "s",
          "r",
          "l",
          "d",
          "o",
          "t",
          "a",
          "m",
          "i",
          "k",
          "h",
          "u",
          "g",
          "x",
          "z",
          "b",
          "c",
          "p",
          "f",
          "w",
          "v",
          "j",
          "é"
         ],
         "y": [
          9.971151111291698,
          4.189183698346268,
          21.297387347121205,
          6.935922961277477,
          2.486692942180326,
          1.3327373938482792,
          2.968184957945634,
          1.832513916541384,
          7.472268497826175,
          31.896306529600587,
          1.9726951363211571,
          0.5729145504042907,
          2.8869204827109827,
          1.4383812116533259,
          0.40835398805412215,
          0.5871358335703547,
          0.3047417821299419,
          0.5810409979277559,
          0.10970704156677909,
          0.08329608711551745,
          0.06907480394945349,
          0.17065539799276747,
          0.09954898216244767,
          0.08939092275811629,
          0.03047417821299419,
          0.09142253463898257
         ]
        }
       ],
       "layout": {
        "barmode": "group",
        "legend": {
         "title": {
          "text": "Gender"
         }
        },
        "template": {
         "data": {
          "bar": [
           {
            "error_x": {
             "color": "#2a3f5f"
            },
            "error_y": {
             "color": "#2a3f5f"
            },
            "marker": {
             "line": {
              "color": "#E5ECF6",
              "width": 0.5
             },
             "pattern": {
              "fillmode": "overlay",
              "size": 10,
              "solidity": 0.2
             }
            },
            "type": "bar"
           }
          ],
          "barpolar": [
           {
            "marker": {
             "line": {
              "color": "#E5ECF6",
              "width": 0.5
             },
             "pattern": {
              "fillmode": "overlay",
              "size": 10,
              "solidity": 0.2
             }
            },
            "type": "barpolar"
           }
          ],
          "carpet": [
           {
            "aaxis": {
             "endlinecolor": "#2a3f5f",
             "gridcolor": "white",
             "linecolor": "white",
             "minorgridcolor": "white",
             "startlinecolor": "#2a3f5f"
            },
            "baxis": {
             "endlinecolor": "#2a3f5f",
             "gridcolor": "white",
             "linecolor": "white",
             "minorgridcolor": "white",
             "startlinecolor": "#2a3f5f"
            },
            "type": "carpet"
           }
          ],
          "choropleth": [
           {
            "colorbar": {
             "outlinewidth": 0,
             "ticks": ""
            },
            "type": "choropleth"
           }
          ],
          "contour": [
           {
            "colorbar": {
             "outlinewidth": 0,
             "ticks": ""
            },
            "colorscale": [
             [
              0,
              "#0d0887"
             ],
             [
              0.1111111111111111,
              "#46039f"
             ],
             [
              0.2222222222222222,
              "#7201a8"
             ],
             [
              0.3333333333333333,
              "#9c179e"
             ],
             [
              0.4444444444444444,
              "#bd3786"
             ],
             [
              0.5555555555555556,
              "#d8576b"
             ],
             [
              0.6666666666666666,
              "#ed7953"
             ],
             [
              0.7777777777777778,
              "#fb9f3a"
             ],
             [
              0.8888888888888888,
              "#fdca26"
             ],
             [
              1,
              "#f0f921"
             ]
            ],
            "type": "contour"
           }
          ],
          "contourcarpet": [
           {
            "colorbar": {
             "outlinewidth": 0,
             "ticks": ""
            },
            "type": "contourcarpet"
           }
          ],
          "heatmap": [
           {
            "colorbar": {
             "outlinewidth": 0,
             "ticks": ""
            },
            "colorscale": [
             [
              0,
              "#0d0887"
             ],
             [
              0.1111111111111111,
              "#46039f"
             ],
             [
              0.2222222222222222,
              "#7201a8"
             ],
             [
              0.3333333333333333,
              "#9c179e"
             ],
             [
              0.4444444444444444,
              "#bd3786"
             ],
             [
              0.5555555555555556,
              "#d8576b"
             ],
             [
              0.6666666666666666,
              "#ed7953"
             ],
             [
              0.7777777777777778,
              "#fb9f3a"
             ],
             [
              0.8888888888888888,
              "#fdca26"
             ],
             [
              1,
              "#f0f921"
             ]
            ],
            "type": "heatmap"
           }
          ],
          "heatmapgl": [
           {
            "colorbar": {
             "outlinewidth": 0,
             "ticks": ""
            },
            "colorscale": [
             [
              0,
              "#0d0887"
             ],
             [
              0.1111111111111111,
              "#46039f"
             ],
             [
              0.2222222222222222,
              "#7201a8"
             ],
             [
              0.3333333333333333,
              "#9c179e"
             ],
             [
              0.4444444444444444,
              "#bd3786"
             ],
             [
              0.5555555555555556,
              "#d8576b"
             ],
             [
              0.6666666666666666,
              "#ed7953"
             ],
             [
              0.7777777777777778,
              "#fb9f3a"
             ],
             [
              0.8888888888888888,
              "#fdca26"
             ],
             [
              1,
              "#f0f921"
             ]
            ],
            "type": "heatmapgl"
           }
          ],
          "histogram": [
           {
            "marker": {
             "pattern": {
              "fillmode": "overlay",
              "size": 10,
              "solidity": 0.2
             }
            },
            "type": "histogram"
           }
          ],
          "histogram2d": [
           {
            "colorbar": {
             "outlinewidth": 0,
             "ticks": ""
            },
            "colorscale": [
             [
              0,
              "#0d0887"
             ],
             [
              0.1111111111111111,
              "#46039f"
             ],
             [
              0.2222222222222222,
              "#7201a8"
             ],
             [
              0.3333333333333333,
              "#9c179e"
             ],
             [
              0.4444444444444444,
              "#bd3786"
             ],
             [
              0.5555555555555556,
              "#d8576b"
             ],
             [
              0.6666666666666666,
              "#ed7953"
             ],
             [
              0.7777777777777778,
              "#fb9f3a"
             ],
             [
              0.8888888888888888,
              "#fdca26"
             ],
             [
              1,
              "#f0f921"
             ]
            ],
            "type": "histogram2d"
           }
          ],
          "histogram2dcontour": [
           {
            "colorbar": {
             "outlinewidth": 0,
             "ticks": ""
            },
            "colorscale": [
             [
              0,
              "#0d0887"
             ],
             [
              0.1111111111111111,
              "#46039f"
             ],
             [
              0.2222222222222222,
              "#7201a8"
             ],
             [
              0.3333333333333333,
              "#9c179e"
             ],
             [
              0.4444444444444444,
              "#bd3786"
             ],
             [
              0.5555555555555556,
              "#d8576b"
             ],
             [
              0.6666666666666666,
              "#ed7953"
             ],
             [
              0.7777777777777778,
              "#fb9f3a"
             ],
             [
              0.8888888888888888,
              "#fdca26"
             ],
             [
              1,
              "#f0f921"
             ]
            ],
            "type": "histogram2dcontour"
           }
          ],
          "mesh3d": [
           {
            "colorbar": {
             "outlinewidth": 0,
             "ticks": ""
            },
            "type": "mesh3d"
           }
          ],
          "parcoords": [
           {
            "line": {
             "colorbar": {
              "outlinewidth": 0,
              "ticks": ""
             }
            },
            "type": "parcoords"
           }
          ],
          "pie": [
           {
            "automargin": true,
            "type": "pie"
           }
          ],
          "scatter": [
           {
            "fillpattern": {
             "fillmode": "overlay",
             "size": 10,
             "solidity": 0.2
            },
            "type": "scatter"
           }
          ],
          "scatter3d": [
           {
            "line": {
             "colorbar": {
              "outlinewidth": 0,
              "ticks": ""
             }
            },
            "marker": {
             "colorbar": {
              "outlinewidth": 0,
              "ticks": ""
             }
            },
            "type": "scatter3d"
           }
          ],
          "scattercarpet": [
           {
            "marker": {
             "colorbar": {
              "outlinewidth": 0,
              "ticks": ""
             }
            },
            "type": "scattercarpet"
           }
          ],
          "scattergeo": [
           {
            "marker": {
             "colorbar": {
              "outlinewidth": 0,
              "ticks": ""
             }
            },
            "type": "scattergeo"
           }
          ],
          "scattergl": [
           {
            "marker": {
             "colorbar": {
              "outlinewidth": 0,
              "ticks": ""
             }
            },
            "type": "scattergl"
           }
          ],
          "scattermapbox": [
           {
            "marker": {
             "colorbar": {
              "outlinewidth": 0,
              "ticks": ""
             }
            },
            "type": "scattermapbox"
           }
          ],
          "scatterpolar": [
           {
            "marker": {
             "colorbar": {
              "outlinewidth": 0,
              "ticks": ""
             }
            },
            "type": "scatterpolar"
           }
          ],
          "scatterpolargl": [
           {
            "marker": {
             "colorbar": {
              "outlinewidth": 0,
              "ticks": ""
             }
            },
            "type": "scatterpolargl"
           }
          ],
          "scatterternary": [
           {
            "marker": {
             "colorbar": {
              "outlinewidth": 0,
              "ticks": ""
             }
            },
            "type": "scatterternary"
           }
          ],
          "surface": [
           {
            "colorbar": {
             "outlinewidth": 0,
             "ticks": ""
            },
            "colorscale": [
             [
              0,
              "#0d0887"
             ],
             [
              0.1111111111111111,
              "#46039f"
             ],
             [
              0.2222222222222222,
              "#7201a8"
             ],
             [
              0.3333333333333333,
              "#9c179e"
             ],
             [
              0.4444444444444444,
              "#bd3786"
             ],
             [
              0.5555555555555556,
              "#d8576b"
             ],
             [
              0.6666666666666666,
              "#ed7953"
             ],
             [
              0.7777777777777778,
              "#fb9f3a"
             ],
             [
              0.8888888888888888,
              "#fdca26"
             ],
             [
              1,
              "#f0f921"
             ]
            ],
            "type": "surface"
           }
          ],
          "table": [
           {
            "cells": {
             "fill": {
              "color": "#EBF0F8"
             },
             "line": {
              "color": "white"
             }
            },
            "header": {
             "fill": {
              "color": "#C8D4E3"
             },
             "line": {
              "color": "white"
             }
            },
            "type": "table"
           }
          ]
         },
         "layout": {
          "annotationdefaults": {
           "arrowcolor": "#2a3f5f",
           "arrowhead": 0,
           "arrowwidth": 1
          },
          "autotypenumbers": "strict",
          "coloraxis": {
           "colorbar": {
            "outlinewidth": 0,
            "ticks": ""
           }
          },
          "colorscale": {
           "diverging": [
            [
             0,
             "#8e0152"
            ],
            [
             0.1,
             "#c51b7d"
            ],
            [
             0.2,
             "#de77ae"
            ],
            [
             0.3,
             "#f1b6da"
            ],
            [
             0.4,
             "#fde0ef"
            ],
            [
             0.5,
             "#f7f7f7"
            ],
            [
             0.6,
             "#e6f5d0"
            ],
            [
             0.7,
             "#b8e186"
            ],
            [
             0.8,
             "#7fbc41"
            ],
            [
             0.9,
             "#4d9221"
            ],
            [
             1,
             "#276419"
            ]
           ],
           "sequential": [
            [
             0,
             "#0d0887"
            ],
            [
             0.1111111111111111,
             "#46039f"
            ],
            [
             0.2222222222222222,
             "#7201a8"
            ],
            [
             0.3333333333333333,
             "#9c179e"
            ],
            [
             0.4444444444444444,
             "#bd3786"
            ],
            [
             0.5555555555555556,
             "#d8576b"
            ],
            [
             0.6666666666666666,
             "#ed7953"
            ],
            [
             0.7777777777777778,
             "#fb9f3a"
            ],
            [
             0.8888888888888888,
             "#fdca26"
            ],
            [
             1,
             "#f0f921"
            ]
           ],
           "sequentialminus": [
            [
             0,
             "#0d0887"
            ],
            [
             0.1111111111111111,
             "#46039f"
            ],
            [
             0.2222222222222222,
             "#7201a8"
            ],
            [
             0.3333333333333333,
             "#9c179e"
            ],
            [
             0.4444444444444444,
             "#bd3786"
            ],
            [
             0.5555555555555556,
             "#d8576b"
            ],
            [
             0.6666666666666666,
             "#ed7953"
            ],
            [
             0.7777777777777778,
             "#fb9f3a"
            ],
            [
             0.8888888888888888,
             "#fdca26"
            ],
            [
             1,
             "#f0f921"
            ]
           ]
          },
          "colorway": [
           "#636efa",
           "#EF553B",
           "#00cc96",
           "#ab63fa",
           "#FFA15A",
           "#19d3f3",
           "#FF6692",
           "#B6E880",
           "#FF97FF",
           "#FECB52"
          ],
          "font": {
           "color": "#2a3f5f"
          },
          "geo": {
           "bgcolor": "white",
           "lakecolor": "white",
           "landcolor": "#E5ECF6",
           "showlakes": true,
           "showland": true,
           "subunitcolor": "white"
          },
          "hoverlabel": {
           "align": "left"
          },
          "hovermode": "closest",
          "mapbox": {
           "style": "light"
          },
          "paper_bgcolor": "white",
          "plot_bgcolor": "#E5ECF6",
          "polar": {
           "angularaxis": {
            "gridcolor": "white",
            "linecolor": "white",
            "ticks": ""
           },
           "bgcolor": "#E5ECF6",
           "radialaxis": {
            "gridcolor": "white",
            "linecolor": "white",
            "ticks": ""
           }
          },
          "scene": {
           "xaxis": {
            "backgroundcolor": "#E5ECF6",
            "gridcolor": "white",
            "gridwidth": 2,
            "linecolor": "white",
            "showbackground": true,
            "ticks": "",
            "zerolinecolor": "white"
           },
           "yaxis": {
            "backgroundcolor": "#E5ECF6",
            "gridcolor": "white",
            "gridwidth": 2,
            "linecolor": "white",
            "showbackground": true,
            "ticks": "",
            "zerolinecolor": "white"
           },
           "zaxis": {
            "backgroundcolor": "#E5ECF6",
            "gridcolor": "white",
            "gridwidth": 2,
            "linecolor": "white",
            "showbackground": true,
            "ticks": "",
            "zerolinecolor": "white"
           }
          },
          "shapedefaults": {
           "line": {
            "color": "#2a3f5f"
           }
          },
          "ternary": {
           "aaxis": {
            "gridcolor": "white",
            "linecolor": "white",
            "ticks": ""
           },
           "baxis": {
            "gridcolor": "white",
            "linecolor": "white",
            "ticks": ""
           },
           "bgcolor": "#E5ECF6",
           "caxis": {
            "gridcolor": "white",
            "linecolor": "white",
            "ticks": ""
           }
          },
          "title": {
           "x": 0.05
          },
          "xaxis": {
           "automargin": true,
           "gridcolor": "white",
           "linecolor": "white",
           "ticks": "",
           "title": {
            "standoff": 15
           },
           "zerolinecolor": "white",
           "zerolinewidth": 2
          },
          "yaxis": {
           "automargin": true,
           "gridcolor": "white",
           "linecolor": "white",
           "ticks": "",
           "title": {
            "standoff": 15
           },
           "zerolinecolor": "white",
           "zerolinewidth": 2
          }
         }
        },
        "title": {
         "text": "Percentage of Names Ending by Each Letter by Gender"
        },
        "xaxis": {
         "title": {
          "text": "Letter of the Name"
         }
        },
        "yaxis": {
         "ticksuffix": "%",
         "title": {
          "text": "% of Total Names by Gender"
         }
        }
       }
      }
     },
     "metadata": {},
     "output_type": "display_data"
    }
   ],
   "source": [
    "plot_letter_name_percentage(df_char_cleaned, 0)\n",
    "plot_letter_name_percentage(df_char_cleaned, -1)"
   ]
  },
  {
   "cell_type": "markdown",
   "metadata": {},
   "source": [
    "#### Analysis of the age distribution of the female and male names, with the most frequent names for each category"
   ]
  },
  {
   "cell_type": "code",
   "execution_count": null,
   "metadata": {},
   "outputs": [
    {
     "data": {
      "application/vnd.plotly.v1+json": {
       "config": {
        "plotlyServerURL": "https://plot.ly"
       },
       "data": [
        {
         "hoverinfo": "text",
         "hovertext": [
          "Top names: Michael, Mickey, Kid",
          "Top names: Kid, Charlie, Tom",
          "Top names: Paul, Danny, Michael",
          "Top names: John, David, Tom",
          "Top names: John, David, Tom",
          "Top names: John, George, Robert",
          "Top names: John, George, James",
          "Top names: John, George, Charles",
          "Top names: John, Max, George",
          "Top names: Donald, Wallace, Gus"
         ],
         "marker": {
          "color": "skyblue"
         },
         "name": "Male",
         "type": "bar",
         "x": [
          "<12y",
          "13y-17y",
          "18y-24y",
          "25y-34y",
          "35y-44y",
          "45y-54y",
          "55y-64y",
          "65y-74y",
          "75y-84y",
          ">85y"
         ],
         "y": [
          0.9436175747498138,
          1.4893855774429494,
          4.537525375661808,
          18.62956124333092,
          20.862619482387508,
          14.539871668009836,
          8.049823007946792,
          3.2042192457180168,
          0.9038326175441459,
          0.13873728666591859
         ]
        },
        {
         "hoverinfo": "text",
         "hovertext": [
          "Top names: Susan, Samantha, Katie",
          "Top names: Sarah, Alice, Samantha",
          "Top names: Priya, Mary, Julie",
          "Top names: Sarah, Lisa, Kate",
          "Top names: Sarah, Susan, Kate",
          "Top names: Helen, Sarah, Martha",
          "Top names: Helen, Margaret, Barbara",
          "Top names: Martha, Helen, Grace",
          "Top names: Mary, Helen, Gloria",
          "Top names: Mme, Annie, Barbara"
         ],
         "marker": {
          "color": "salmon"
         },
         "name": "Female",
         "type": "bar",
         "x": [
          "<12y",
          "13y-17y",
          "18y-24y",
          "25y-34y",
          "35y-44y",
          "45y-54y",
          "55y-64y",
          "65y-74y",
          "75y-84y",
          ">85y"
         ],
         "y": [
          1.6789567237465022,
          2.5641928160363245,
          14.15145808767885,
          28.79569173369001,
          15.332359514968058,
          7.4549902324844695,
          3.7556537195755095,
          1.6279192552049417,
          0.6247690114570317,
          0.14079301666637337
         ]
        }
       ],
       "layout": {
        "barmode": "group",
        "legend": {
         "title": {
          "text": "Gender"
         }
        },
        "template": {
         "data": {
          "bar": [
           {
            "error_x": {
             "color": "#2a3f5f"
            },
            "error_y": {
             "color": "#2a3f5f"
            },
            "marker": {
             "line": {
              "color": "#E5ECF6",
              "width": 0.5
             },
             "pattern": {
              "fillmode": "overlay",
              "size": 10,
              "solidity": 0.2
             }
            },
            "type": "bar"
           }
          ],
          "barpolar": [
           {
            "marker": {
             "line": {
              "color": "#E5ECF6",
              "width": 0.5
             },
             "pattern": {
              "fillmode": "overlay",
              "size": 10,
              "solidity": 0.2
             }
            },
            "type": "barpolar"
           }
          ],
          "carpet": [
           {
            "aaxis": {
             "endlinecolor": "#2a3f5f",
             "gridcolor": "white",
             "linecolor": "white",
             "minorgridcolor": "white",
             "startlinecolor": "#2a3f5f"
            },
            "baxis": {
             "endlinecolor": "#2a3f5f",
             "gridcolor": "white",
             "linecolor": "white",
             "minorgridcolor": "white",
             "startlinecolor": "#2a3f5f"
            },
            "type": "carpet"
           }
          ],
          "choropleth": [
           {
            "colorbar": {
             "outlinewidth": 0,
             "ticks": ""
            },
            "type": "choropleth"
           }
          ],
          "contour": [
           {
            "colorbar": {
             "outlinewidth": 0,
             "ticks": ""
            },
            "colorscale": [
             [
              0,
              "#0d0887"
             ],
             [
              0.1111111111111111,
              "#46039f"
             ],
             [
              0.2222222222222222,
              "#7201a8"
             ],
             [
              0.3333333333333333,
              "#9c179e"
             ],
             [
              0.4444444444444444,
              "#bd3786"
             ],
             [
              0.5555555555555556,
              "#d8576b"
             ],
             [
              0.6666666666666666,
              "#ed7953"
             ],
             [
              0.7777777777777778,
              "#fb9f3a"
             ],
             [
              0.8888888888888888,
              "#fdca26"
             ],
             [
              1,
              "#f0f921"
             ]
            ],
            "type": "contour"
           }
          ],
          "contourcarpet": [
           {
            "colorbar": {
             "outlinewidth": 0,
             "ticks": ""
            },
            "type": "contourcarpet"
           }
          ],
          "heatmap": [
           {
            "colorbar": {
             "outlinewidth": 0,
             "ticks": ""
            },
            "colorscale": [
             [
              0,
              "#0d0887"
             ],
             [
              0.1111111111111111,
              "#46039f"
             ],
             [
              0.2222222222222222,
              "#7201a8"
             ],
             [
              0.3333333333333333,
              "#9c179e"
             ],
             [
              0.4444444444444444,
              "#bd3786"
             ],
             [
              0.5555555555555556,
              "#d8576b"
             ],
             [
              0.6666666666666666,
              "#ed7953"
             ],
             [
              0.7777777777777778,
              "#fb9f3a"
             ],
             [
              0.8888888888888888,
              "#fdca26"
             ],
             [
              1,
              "#f0f921"
             ]
            ],
            "type": "heatmap"
           }
          ],
          "heatmapgl": [
           {
            "colorbar": {
             "outlinewidth": 0,
             "ticks": ""
            },
            "colorscale": [
             [
              0,
              "#0d0887"
             ],
             [
              0.1111111111111111,
              "#46039f"
             ],
             [
              0.2222222222222222,
              "#7201a8"
             ],
             [
              0.3333333333333333,
              "#9c179e"
             ],
             [
              0.4444444444444444,
              "#bd3786"
             ],
             [
              0.5555555555555556,
              "#d8576b"
             ],
             [
              0.6666666666666666,
              "#ed7953"
             ],
             [
              0.7777777777777778,
              "#fb9f3a"
             ],
             [
              0.8888888888888888,
              "#fdca26"
             ],
             [
              1,
              "#f0f921"
             ]
            ],
            "type": "heatmapgl"
           }
          ],
          "histogram": [
           {
            "marker": {
             "pattern": {
              "fillmode": "overlay",
              "size": 10,
              "solidity": 0.2
             }
            },
            "type": "histogram"
           }
          ],
          "histogram2d": [
           {
            "colorbar": {
             "outlinewidth": 0,
             "ticks": ""
            },
            "colorscale": [
             [
              0,
              "#0d0887"
             ],
             [
              0.1111111111111111,
              "#46039f"
             ],
             [
              0.2222222222222222,
              "#7201a8"
             ],
             [
              0.3333333333333333,
              "#9c179e"
             ],
             [
              0.4444444444444444,
              "#bd3786"
             ],
             [
              0.5555555555555556,
              "#d8576b"
             ],
             [
              0.6666666666666666,
              "#ed7953"
             ],
             [
              0.7777777777777778,
              "#fb9f3a"
             ],
             [
              0.8888888888888888,
              "#fdca26"
             ],
             [
              1,
              "#f0f921"
             ]
            ],
            "type": "histogram2d"
           }
          ],
          "histogram2dcontour": [
           {
            "colorbar": {
             "outlinewidth": 0,
             "ticks": ""
            },
            "colorscale": [
             [
              0,
              "#0d0887"
             ],
             [
              0.1111111111111111,
              "#46039f"
             ],
             [
              0.2222222222222222,
              "#7201a8"
             ],
             [
              0.3333333333333333,
              "#9c179e"
             ],
             [
              0.4444444444444444,
              "#bd3786"
             ],
             [
              0.5555555555555556,
              "#d8576b"
             ],
             [
              0.6666666666666666,
              "#ed7953"
             ],
             [
              0.7777777777777778,
              "#fb9f3a"
             ],
             [
              0.8888888888888888,
              "#fdca26"
             ],
             [
              1,
              "#f0f921"
             ]
            ],
            "type": "histogram2dcontour"
           }
          ],
          "mesh3d": [
           {
            "colorbar": {
             "outlinewidth": 0,
             "ticks": ""
            },
            "type": "mesh3d"
           }
          ],
          "parcoords": [
           {
            "line": {
             "colorbar": {
              "outlinewidth": 0,
              "ticks": ""
             }
            },
            "type": "parcoords"
           }
          ],
          "pie": [
           {
            "automargin": true,
            "type": "pie"
           }
          ],
          "scatter": [
           {
            "fillpattern": {
             "fillmode": "overlay",
             "size": 10,
             "solidity": 0.2
            },
            "type": "scatter"
           }
          ],
          "scatter3d": [
           {
            "line": {
             "colorbar": {
              "outlinewidth": 0,
              "ticks": ""
             }
            },
            "marker": {
             "colorbar": {
              "outlinewidth": 0,
              "ticks": ""
             }
            },
            "type": "scatter3d"
           }
          ],
          "scattercarpet": [
           {
            "marker": {
             "colorbar": {
              "outlinewidth": 0,
              "ticks": ""
             }
            },
            "type": "scattercarpet"
           }
          ],
          "scattergeo": [
           {
            "marker": {
             "colorbar": {
              "outlinewidth": 0,
              "ticks": ""
             }
            },
            "type": "scattergeo"
           }
          ],
          "scattergl": [
           {
            "marker": {
             "colorbar": {
              "outlinewidth": 0,
              "ticks": ""
             }
            },
            "type": "scattergl"
           }
          ],
          "scattermapbox": [
           {
            "marker": {
             "colorbar": {
              "outlinewidth": 0,
              "ticks": ""
             }
            },
            "type": "scattermapbox"
           }
          ],
          "scatterpolar": [
           {
            "marker": {
             "colorbar": {
              "outlinewidth": 0,
              "ticks": ""
             }
            },
            "type": "scatterpolar"
           }
          ],
          "scatterpolargl": [
           {
            "marker": {
             "colorbar": {
              "outlinewidth": 0,
              "ticks": ""
             }
            },
            "type": "scatterpolargl"
           }
          ],
          "scatterternary": [
           {
            "marker": {
             "colorbar": {
              "outlinewidth": 0,
              "ticks": ""
             }
            },
            "type": "scatterternary"
           }
          ],
          "surface": [
           {
            "colorbar": {
             "outlinewidth": 0,
             "ticks": ""
            },
            "colorscale": [
             [
              0,
              "#0d0887"
             ],
             [
              0.1111111111111111,
              "#46039f"
             ],
             [
              0.2222222222222222,
              "#7201a8"
             ],
             [
              0.3333333333333333,
              "#9c179e"
             ],
             [
              0.4444444444444444,
              "#bd3786"
             ],
             [
              0.5555555555555556,
              "#d8576b"
             ],
             [
              0.6666666666666666,
              "#ed7953"
             ],
             [
              0.7777777777777778,
              "#fb9f3a"
             ],
             [
              0.8888888888888888,
              "#fdca26"
             ],
             [
              1,
              "#f0f921"
             ]
            ],
            "type": "surface"
           }
          ],
          "table": [
           {
            "cells": {
             "fill": {
              "color": "#EBF0F8"
             },
             "line": {
              "color": "white"
             }
            },
            "header": {
             "fill": {
              "color": "#C8D4E3"
             },
             "line": {
              "color": "white"
             }
            },
            "type": "table"
           }
          ]
         },
         "layout": {
          "annotationdefaults": {
           "arrowcolor": "#2a3f5f",
           "arrowhead": 0,
           "arrowwidth": 1
          },
          "autotypenumbers": "strict",
          "coloraxis": {
           "colorbar": {
            "outlinewidth": 0,
            "ticks": ""
           }
          },
          "colorscale": {
           "diverging": [
            [
             0,
             "#8e0152"
            ],
            [
             0.1,
             "#c51b7d"
            ],
            [
             0.2,
             "#de77ae"
            ],
            [
             0.3,
             "#f1b6da"
            ],
            [
             0.4,
             "#fde0ef"
            ],
            [
             0.5,
             "#f7f7f7"
            ],
            [
             0.6,
             "#e6f5d0"
            ],
            [
             0.7,
             "#b8e186"
            ],
            [
             0.8,
             "#7fbc41"
            ],
            [
             0.9,
             "#4d9221"
            ],
            [
             1,
             "#276419"
            ]
           ],
           "sequential": [
            [
             0,
             "#0d0887"
            ],
            [
             0.1111111111111111,
             "#46039f"
            ],
            [
             0.2222222222222222,
             "#7201a8"
            ],
            [
             0.3333333333333333,
             "#9c179e"
            ],
            [
             0.4444444444444444,
             "#bd3786"
            ],
            [
             0.5555555555555556,
             "#d8576b"
            ],
            [
             0.6666666666666666,
             "#ed7953"
            ],
            [
             0.7777777777777778,
             "#fb9f3a"
            ],
            [
             0.8888888888888888,
             "#fdca26"
            ],
            [
             1,
             "#f0f921"
            ]
           ],
           "sequentialminus": [
            [
             0,
             "#0d0887"
            ],
            [
             0.1111111111111111,
             "#46039f"
            ],
            [
             0.2222222222222222,
             "#7201a8"
            ],
            [
             0.3333333333333333,
             "#9c179e"
            ],
            [
             0.4444444444444444,
             "#bd3786"
            ],
            [
             0.5555555555555556,
             "#d8576b"
            ],
            [
             0.6666666666666666,
             "#ed7953"
            ],
            [
             0.7777777777777778,
             "#fb9f3a"
            ],
            [
             0.8888888888888888,
             "#fdca26"
            ],
            [
             1,
             "#f0f921"
            ]
           ]
          },
          "colorway": [
           "#636efa",
           "#EF553B",
           "#00cc96",
           "#ab63fa",
           "#FFA15A",
           "#19d3f3",
           "#FF6692",
           "#B6E880",
           "#FF97FF",
           "#FECB52"
          ],
          "font": {
           "color": "#2a3f5f"
          },
          "geo": {
           "bgcolor": "white",
           "lakecolor": "white",
           "landcolor": "#E5ECF6",
           "showlakes": true,
           "showland": true,
           "subunitcolor": "white"
          },
          "hoverlabel": {
           "align": "left"
          },
          "hovermode": "closest",
          "mapbox": {
           "style": "light"
          },
          "paper_bgcolor": "white",
          "plot_bgcolor": "#E5ECF6",
          "polar": {
           "angularaxis": {
            "gridcolor": "white",
            "linecolor": "white",
            "ticks": ""
           },
           "bgcolor": "#E5ECF6",
           "radialaxis": {
            "gridcolor": "white",
            "linecolor": "white",
            "ticks": ""
           }
          },
          "scene": {
           "xaxis": {
            "backgroundcolor": "#E5ECF6",
            "gridcolor": "white",
            "gridwidth": 2,
            "linecolor": "white",
            "showbackground": true,
            "ticks": "",
            "zerolinecolor": "white"
           },
           "yaxis": {
            "backgroundcolor": "#E5ECF6",
            "gridcolor": "white",
            "gridwidth": 2,
            "linecolor": "white",
            "showbackground": true,
            "ticks": "",
            "zerolinecolor": "white"
           },
           "zaxis": {
            "backgroundcolor": "#E5ECF6",
            "gridcolor": "white",
            "gridwidth": 2,
            "linecolor": "white",
            "showbackground": true,
            "ticks": "",
            "zerolinecolor": "white"
           }
          },
          "shapedefaults": {
           "line": {
            "color": "#2a3f5f"
           }
          },
          "ternary": {
           "aaxis": {
            "gridcolor": "white",
            "linecolor": "white",
            "ticks": ""
           },
           "baxis": {
            "gridcolor": "white",
            "linecolor": "white",
            "ticks": ""
           },
           "bgcolor": "#E5ECF6",
           "caxis": {
            "gridcolor": "white",
            "linecolor": "white",
            "ticks": ""
           }
          },
          "title": {
           "x": 0.05
          },
          "xaxis": {
           "automargin": true,
           "gridcolor": "white",
           "linecolor": "white",
           "ticks": "",
           "title": {
            "standoff": 15
           },
           "zerolinecolor": "white",
           "zerolinewidth": 2
          },
          "yaxis": {
           "automargin": true,
           "gridcolor": "white",
           "linecolor": "white",
           "ticks": "",
           "title": {
            "standoff": 15
           },
           "zerolinecolor": "white",
           "zerolinewidth": 2
          }
         }
        },
        "title": {
         "text": "Percentage of Males and Females in Each Age Category"
        },
        "xaxis": {
         "tickangle": 0,
         "tickvals": [
          "<12y",
          "13y-17y",
          "18y-24y",
          "25y-34y",
          "35y-44y",
          "45y-54y",
          "55y-64y",
          "65y-74y",
          "75y-84y",
          ">85y"
         ],
         "title": {
          "text": "Age Category"
         }
        },
        "yaxis": {
         "ticksuffix": "%",
         "title": {
          "text": "% of Total Males/Females"
         }
        }
       }
      }
     },
     "metadata": {},
     "output_type": "display_data"
    }
   ],
   "source": [
    "plot_age_sex_distribution_with_top_names(df_char_cleaned)"
   ]
  },
  {
   "cell_type": "markdown",
   "metadata": {},
   "source": [
    "## Country Analysis"
   ]
  },
  {
   "cell_type": "code",
   "execution_count": null,
   "metadata": {},
   "outputs": [
    {
     "name": "stdout",
     "output_type": "stream",
     "text": [
      "       Continent Female_name Male_name\n",
      "0         Africa      Amina*     Omar*\n",
      "1           Asia       Priya     Vijay\n",
      "2         Europe        Anna      John\n",
      "3  North America       Sarah      John\n",
      "4        Oceania       Angie      John\n",
      "5  South America       Maria      João\n"
     ]
    }
   ],
   "source": [
    "countries_code = []\n",
    "\n",
    "df_continent = create_continent_df(df_char_cleaned,countries_code)\n",
    "print(df_continent)"
   ]
  },
  {
   "cell_type": "markdown",
   "metadata": {},
   "source": [
    "\\* 3 other names are in a tie for this category. We choose to display only one name for readability"
   ]
  },
  {
   "cell_type": "markdown",
   "metadata": {},
   "source": [
    "In this table we see the most recurrent character names for each continent. For Asia, we see that the most common names are indian names. Is it because other nearby countries are influenced by the bollywood industry or because India's movies are predominent in this dataset? \n",
    "We will try to answer the question by plotting the most common character names per country and reting it with the number of movies from this country in the dataset."
   ]
  },
  {
   "cell_type": "code",
   "execution_count": null,
   "metadata": {},
   "outputs": [],
   "source": [
    "df_top_names = create_top_names_df(df_char_cleaned)\n",
    "add_movie_count(df_char_cleaned,df_top_names)"
   ]
  },
  {
   "cell_type": "code",
   "execution_count": null,
   "metadata": {},
   "outputs": [],
   "source": [
    "df_top_names = cleaning_non_countries(df_top_names)"
   ]
  },
  {
   "cell_type": "code",
   "execution_count": null,
   "metadata": {},
   "outputs": [
    {
     "data": {
      "application/vnd.plotly.v1+json": {
       "config": {
        "plotlyServerURL": "https://plot.ly"
       },
       "data": [
        {
         "type": "scattergeo"
        },
        {
         "colorbar": {
          "ticktext": [
           "10^0",
           "10^1",
           "10^2",
           "10^3",
           "10^4"
          ],
          "tickvals": [
           0,
           1,
           2,
           3,
           4
          ],
          "title": {
           "text": "Number of movies (Log Scale)"
          }
         },
         "colorscale": [
          [
           0,
           "rgb(255,255,204)"
          ],
          [
           0.125,
           "rgb(255,237,160)"
          ],
          [
           0.25,
           "rgb(254,217,118)"
          ],
          [
           0.375,
           "rgb(254,178,76)"
          ],
          [
           0.5,
           "rgb(253,141,60)"
          ],
          [
           0.625,
           "rgb(252,78,42)"
          ],
          [
           0.75,
           "rgb(227,26,28)"
          ],
          [
           0.875,
           "rgb(189,0,38)"
          ],
          [
           1,
           "rgb(128,0,38)"
          ]
         ],
         "hovertemplate": "%{location}<br>%{text}",
         "locationmode": "country names",
         "locations": [
          "Afghanistan",
          "Albania",
          "Algeria",
          "Argentina",
          "Australia",
          "Austria",
          "Bahamas",
          "Bangladesh",
          "Belgium",
          "Bolivia",
          "Bosnia and Herzegovina",
          "Brazil",
          "Bulgaria",
          "Burma",
          "Cambodia",
          "Canada",
          "Chile",
          "China",
          "Colombia",
          "Costa Rica",
          "Croatia",
          "Cyprus",
          "Czech Republic",
          "Czechoslovakia",
          "Denmark",
          "Egypt",
          "Estonia",
          "Finland",
          "France",
          "Georgia",
          "Germany",
          "Greece",
          "Hong Kong",
          "Hungary",
          "Iceland",
          "India",
          "Indonesia",
          "Iran",
          "Ireland",
          "Isle of Man",
          "Israel",
          "Italy",
          "Jamaica",
          "Japan",
          "Korea",
          "Lebanon",
          "Lithuania",
          "Luxembourg",
          "Malayalam Language",
          "Malaysia",
          "Malta",
          "Mexico",
          "Mongolia",
          "Nazi Germany",
          "Nepal",
          "Netherlands",
          "New Zealand",
          "Norway",
          "Pakistan",
          "Palestinian territories",
          "Peru",
          "Philippines",
          "Poland",
          "Portugal",
          "Puerto Rico",
          "Republic of Macedonia",
          "Romania",
          "Russia",
          "Senegal",
          "Serbia",
          "Serbia and Montenegro",
          "Singapore",
          "Slovak Republic",
          "Slovakia",
          "Slovenia",
          "South Africa",
          "South Korea",
          "Spain",
          "Sri Lanka",
          "Sweden",
          "Switzerland",
          "Taiwan",
          "Thailand",
          "Turkey",
          "Ukraine",
          "Ukrainian SSR",
          "Ukranian SSR",
          "United Arab Emirates",
          "United Kingdom",
          "United States of America",
          "Uruguay",
          "Uzbekistan",
          "Venezuela",
          "Vietnam",
          "Yugoslavia",
          "Zambia",
          "Zimbabwe"
         ],
         "showscale": true,
         "text": [
          "Top female name: Benazir<br>Top male name: Baadshah<br>Movies: 3",
          "Top female name: Agnes<br>Top male name: Apotheker<br>Movies: 2",
          "Top female name: Khadidja<br>Top male name: Adel<br>Movies: 1",
          "Top female name: Susana<br>Top male name: Pedro<br>Movies: 31",
          "Top female name: Angie<br>Top male name: John<br>Movies: 301",
          "Top female name: Frau<br>Top male name: Ein<br>Movies: 49",
          "Top female name: None<br>Top male name: Clyde<br>Movies: 1",
          "Top female name: Meher<br>Top male name: Abdul<br>Movies: 8",
          "Top female name: Christine<br>Top male name: Johan<br>Movies: 39",
          "Top female name: Actriz<br>Top male name: Amigo<br>Movies: 2",
          "Top female name: Cemile<br>Top male name: Vojnik<br>Movies: 2",
          "Top female name: Dona<br>Top male name: João<br>Movies: 55",
          "Top female name: Ave<br>Top male name: Maystor<br>Movies: 10",
          "Top female name: None<br>Top male name: Okkar<br>Movies: 1",
          "Top female name: Kaly<br>Top male name: Chalawan<br>Movies: 6",
          "Top female name: Sarah<br>Top male name: John<br>Movies: 544",
          "Top female name: Carmen<br>Top male name: Marciano<br>Movies: 5",
          "Top female name: Xiao<br>Top male name: Chen<br>Movies: 73",
          "Top female name: Adela<br>Top male name: Jairo<br>Movies: 8",
          "Top female name: Alejandra<br>Top male name: Bernardo<br>Movies: 1",
          "Top female name: Begovica<br>Top male name: Taksist<br>Movies: 9",
          "Top female name: Aphrodite<br>Top male name: Andreas<br>Movies: 1",
          "Top female name: Deti<br>Top male name: Frantisek<br>Movies: 23",
          "Top female name: Alena<br>Top male name: Jan<br>Movies: 17",
          "Top female name: Fru<br>Top male name: Christian<br>Movies: 71",
          "Top female name: Amina<br>Top male name: Ahmed<br>Movies: 24",
          "Top female name: Mari<br>Top male name: Margus<br>Movies: 4",
          "Top female name: Shemeikan<br>Top male name: Poliisi<br>Movies: 40",
          "Top female name: mère<br>Top male name: Pierre<br>Movies: 1,410",
          "Top female name: Jenna<br>Top male name: Beau<br>Movies: 1",
          "Top female name: Frau<br>Top male name: Der<br>Movies: 130",
          "Top female name: Liza<br>Top male name: Alexis<br>Movies: 28",
          "Top female name: May<br>Top male name: Cheung<br>Movies: 343",
          "Top female name: Lány<br>Top male name: Gielgud<br>Movies: 40",
          "Top female name: Anna<br>Top male name: Albert<br>Movies: 10",
          "Top female name: Priya<br>Top male name: Vijay<br>Movies: 4,574",
          "Top female name: Nenek<br>Top male name: Jin<br>Movies: 14",
          "Top female name: Mina<br>Top male name: Nader<br>Movies: 16",
          "Top female name: Mary<br>Top male name: John<br>Movies: 92",
          "Top female name: Annie<br>Top male name: Brendy<br>Movies: 2",
          "Top female name: Dikla<br>Top male name: James<br>Movies: 15",
          "Top female name: Maria<br>Top male name: Il<br>Movies: 364",
          "Top female name: None<br>Top male name: Aaron<br>Movies: 1",
          "Top female name: Rachel<br>Top male name: Godzilla<br>Movies: 450",
          "Top female name: Lee<br>Top male name: Lee<br>Movies: 2",
          "Top female name: Randa<br>Top male name: Bruno<br>Movies: 4",
          "Top female name: Grace<br>Top male name: Thomas<br>Movies: 2",
          "Top female name: Bernadette<br>Top male name: Gothic<br>Movies: 6",
          "Top female name: None<br>Top male name: Ali<br>Movies: 1",
          "Top female name: Maria<br>Top male name: Ahmad<br>Movies: 21",
          "Top female name: Grace<br>Top male name: None<br>Movies: 1",
          "Top female name: Carmen<br>Top male name: Fernando<br>Movies: 118",
          "Top female name: Börte<br>Top male name: Altan<br>Movies: 1",
          "Top female name: Dorothea<br>Top male name: Aktuarius<br>Movies: 1",
          "Top female name: Anjali<br>Top male name: Bhaire<br>Movies: 4",
          "Top female name: Mevrouw<br>Top male name: Willem<br>Movies: 146",
          "Top female name: Alice<br>Top male name: Doug<br>Movies: 28",
          "Top female name: Wenche<br>Top male name: Mann<br>Movies: 36",
          "Top female name: Pinki<br>Top male name: Aslam<br>Movies: 23",
          "Top female name: Suha<br>Top male name: Barhoum<br>Movies: 1",
          "Top female name: Anita<br>Top male name: Enrique<br>Movies: 2",
          "Top female name: Sanchez<br>Top male name: Dennis<br>Movies: 96",
          "Top female name: Hanka<br>Top male name: Andrzej<br>Movies: 49",
          "Top female name: Freira<br>Top male name: João<br>Movies: 16",
          "Top female name: America<br>Top male name: Beepers<br>Movies: 5",
          "Top female name: Mimi<br>Top male name: Gzim<br>Movies: 3",
          "Top female name: Eva<br>Top male name: Cristi<br>Movies: 17",
          "Top female name: Olga<br>Top male name: Anton<br>Movies: 158",
          "Top female name: Amasatou<br>Top male name: Abdou<br>Movies: 2",
          "Top female name: Boginja<br>Top male name: Bosko<br>Movies: 10",
          "Top female name: Biljarica<br>Top male name: Agim<br>Movies: 1",
          "Top female name: Wendy<br>Top male name: Chan<br>Movies: 25",
          "Top female name: Bertha<br>Top male name: Wachek<br>Movies: 1",
          "Top female name: Anezka<br>Top male name: Jan<br>Movies: 8",
          "Top female name: Ana<br>Top male name: Ivan<br>Movies: 7",
          "Top female name: Elsa<br>Top male name: Abraham<br>Movies: 47",
          "Top female name: Kim<br>Top male name: Kim<br>Movies: 191",
          "Top female name: Chica<br>Top male name: Juan<br>Movies: 195",
          "Top female name: Haminey<br>Top male name: Kumar<br>Movies: 14",
          "Top female name: Marianne<br>Top male name: Anders<br>Movies: 90",
          "Top female name: Liz<br>Top male name: Rekrut<br>Movies: 39",
          "Top female name: Obing<br>Top male name: Crippled<br>Movies: 13",
          "Top female name: Marisa<br>Top male name: Kham<br>Movies: 35",
          "Top female name: Ayla<br>Top male name: Ali<br>Movies: 39",
          "Top female name: Tatar<br>Top male name: Tatar<br>Movies: 6",
          "Top female name: None<br>Top male name: Cossack<br>Movies: 1",
          "Top female name: Oksana<br>Top male name: Boris<br>Movies: 1",
          "Top female name: Amber<br>Top male name: Ahmed<br>Movies: 5",
          "Top female name: Mary<br>Top male name: John<br>Movies: 1,715",
          "Top female name: Sarah<br>Top male name: John<br>Movies: 16,726",
          "Top female name: Ana<br>Top male name: Rodolfo<br>Movies: 1",
          "Top female name: None<br>Top male name: Abdul<br>Movies: 1",
          "Top female name: Angela<br>Top male name: Arcadio<br>Movies: 4",
          "Top female name: Hanh<br>Top male name: Cuoi<br>Movies: 2",
          "Top female name: Eva<br>Top male name: Ivan<br>Movies: 35",
          "Top female name: None<br>Top male name: Dick<br>Movies: 1",
          "Top female name: Ambuya<br>Top male name: Chigwanzi<br>Movies: 1"
         ],
         "type": "choropleth",
         "z": [
          0.47712125471966244,
          0.3010299956639812,
          0,
          1.4913616938342726,
          2.4785664955938436,
          1.6901960800285136,
          0,
          0.9030899869919435,
          1.591064607026499,
          0.3010299956639812,
          0.3010299956639812,
          1.7403626894942439,
          1,
          0,
          0.7781512503836436,
          2.73559889969818,
          0.6989700043360189,
          1.863322860120456,
          0.9030899869919435,
          0,
          0.9542425094393249,
          0,
          1.3617278360175928,
          1.2304489213782739,
          1.8512583487190752,
          1.380211241711606,
          0.6020599913279624,
          1.6020599913279623,
          3.1492191126553797,
          0,
          2.113943352306837,
          1.4471580313422192,
          2.5352941200427703,
          1.6020599913279623,
          1,
          3.66029616027073,
          1.146128035678238,
          1.2041199826559248,
          1.9637878273455553,
          0.3010299956639812,
          1.1760912590556813,
          2.561101383649056,
          0,
          2.6532125137753435,
          0.3010299956639812,
          0.6020599913279624,
          0.3010299956639812,
          0.7781512503836436,
          0,
          1.3222192947339193,
          0,
          2.0718820073061255,
          0,
          0,
          0.6020599913279624,
          2.164352855784437,
          1.4471580313422192,
          1.5563025007672873,
          1.3617278360175928,
          0,
          0.3010299956639812,
          1.9822712330395684,
          1.6901960800285136,
          1.2041199826559248,
          0.6989700043360189,
          0.47712125471966244,
          1.2304489213782739,
          2.1986570869544226,
          0.3010299956639812,
          1,
          0,
          1.3979400086720377,
          0,
          0.9030899869919435,
          0.8450980400142568,
          1.6720978579357175,
          2.2810333672477277,
          2.290034611362518,
          1.146128035678238,
          1.954242509439325,
          1.591064607026499,
          1.1139433523068367,
          1.5440680443502757,
          1.591064607026499,
          0.7781512503836436,
          0,
          0,
          0.6989700043360189,
          3.2342641243787895,
          4.223392092448771,
          0,
          0,
          0.6020599913279624,
          0.3010299956639812,
          1.5440680443502757,
          0,
          0
         ]
        }
       ],
       "layout": {
        "geo": {
         "center": {
          "lat": 30
         },
         "countrycolor": "RebeccaPurple",
         "lakecolor": "aqua",
         "projection": {
          "scale": 1,
          "type": "mercator"
         },
         "showcountries": true,
         "visible": false
        },
        "height": 500,
        "margin": {
         "b": 0,
         "l": 0,
         "r": 0,
         "t": 5
        },
        "template": {
         "data": {
          "bar": [
           {
            "error_x": {
             "color": "#2a3f5f"
            },
            "error_y": {
             "color": "#2a3f5f"
            },
            "marker": {
             "line": {
              "color": "#E5ECF6",
              "width": 0.5
             },
             "pattern": {
              "fillmode": "overlay",
              "size": 10,
              "solidity": 0.2
             }
            },
            "type": "bar"
           }
          ],
          "barpolar": [
           {
            "marker": {
             "line": {
              "color": "#E5ECF6",
              "width": 0.5
             },
             "pattern": {
              "fillmode": "overlay",
              "size": 10,
              "solidity": 0.2
             }
            },
            "type": "barpolar"
           }
          ],
          "carpet": [
           {
            "aaxis": {
             "endlinecolor": "#2a3f5f",
             "gridcolor": "white",
             "linecolor": "white",
             "minorgridcolor": "white",
             "startlinecolor": "#2a3f5f"
            },
            "baxis": {
             "endlinecolor": "#2a3f5f",
             "gridcolor": "white",
             "linecolor": "white",
             "minorgridcolor": "white",
             "startlinecolor": "#2a3f5f"
            },
            "type": "carpet"
           }
          ],
          "choropleth": [
           {
            "colorbar": {
             "outlinewidth": 0,
             "ticks": ""
            },
            "type": "choropleth"
           }
          ],
          "contour": [
           {
            "colorbar": {
             "outlinewidth": 0,
             "ticks": ""
            },
            "colorscale": [
             [
              0,
              "#0d0887"
             ],
             [
              0.1111111111111111,
              "#46039f"
             ],
             [
              0.2222222222222222,
              "#7201a8"
             ],
             [
              0.3333333333333333,
              "#9c179e"
             ],
             [
              0.4444444444444444,
              "#bd3786"
             ],
             [
              0.5555555555555556,
              "#d8576b"
             ],
             [
              0.6666666666666666,
              "#ed7953"
             ],
             [
              0.7777777777777778,
              "#fb9f3a"
             ],
             [
              0.8888888888888888,
              "#fdca26"
             ],
             [
              1,
              "#f0f921"
             ]
            ],
            "type": "contour"
           }
          ],
          "contourcarpet": [
           {
            "colorbar": {
             "outlinewidth": 0,
             "ticks": ""
            },
            "type": "contourcarpet"
           }
          ],
          "heatmap": [
           {
            "colorbar": {
             "outlinewidth": 0,
             "ticks": ""
            },
            "colorscale": [
             [
              0,
              "#0d0887"
             ],
             [
              0.1111111111111111,
              "#46039f"
             ],
             [
              0.2222222222222222,
              "#7201a8"
             ],
             [
              0.3333333333333333,
              "#9c179e"
             ],
             [
              0.4444444444444444,
              "#bd3786"
             ],
             [
              0.5555555555555556,
              "#d8576b"
             ],
             [
              0.6666666666666666,
              "#ed7953"
             ],
             [
              0.7777777777777778,
              "#fb9f3a"
             ],
             [
              0.8888888888888888,
              "#fdca26"
             ],
             [
              1,
              "#f0f921"
             ]
            ],
            "type": "heatmap"
           }
          ],
          "heatmapgl": [
           {
            "colorbar": {
             "outlinewidth": 0,
             "ticks": ""
            },
            "colorscale": [
             [
              0,
              "#0d0887"
             ],
             [
              0.1111111111111111,
              "#46039f"
             ],
             [
              0.2222222222222222,
              "#7201a8"
             ],
             [
              0.3333333333333333,
              "#9c179e"
             ],
             [
              0.4444444444444444,
              "#bd3786"
             ],
             [
              0.5555555555555556,
              "#d8576b"
             ],
             [
              0.6666666666666666,
              "#ed7953"
             ],
             [
              0.7777777777777778,
              "#fb9f3a"
             ],
             [
              0.8888888888888888,
              "#fdca26"
             ],
             [
              1,
              "#f0f921"
             ]
            ],
            "type": "heatmapgl"
           }
          ],
          "histogram": [
           {
            "marker": {
             "pattern": {
              "fillmode": "overlay",
              "size": 10,
              "solidity": 0.2
             }
            },
            "type": "histogram"
           }
          ],
          "histogram2d": [
           {
            "colorbar": {
             "outlinewidth": 0,
             "ticks": ""
            },
            "colorscale": [
             [
              0,
              "#0d0887"
             ],
             [
              0.1111111111111111,
              "#46039f"
             ],
             [
              0.2222222222222222,
              "#7201a8"
             ],
             [
              0.3333333333333333,
              "#9c179e"
             ],
             [
              0.4444444444444444,
              "#bd3786"
             ],
             [
              0.5555555555555556,
              "#d8576b"
             ],
             [
              0.6666666666666666,
              "#ed7953"
             ],
             [
              0.7777777777777778,
              "#fb9f3a"
             ],
             [
              0.8888888888888888,
              "#fdca26"
             ],
             [
              1,
              "#f0f921"
             ]
            ],
            "type": "histogram2d"
           }
          ],
          "histogram2dcontour": [
           {
            "colorbar": {
             "outlinewidth": 0,
             "ticks": ""
            },
            "colorscale": [
             [
              0,
              "#0d0887"
             ],
             [
              0.1111111111111111,
              "#46039f"
             ],
             [
              0.2222222222222222,
              "#7201a8"
             ],
             [
              0.3333333333333333,
              "#9c179e"
             ],
             [
              0.4444444444444444,
              "#bd3786"
             ],
             [
              0.5555555555555556,
              "#d8576b"
             ],
             [
              0.6666666666666666,
              "#ed7953"
             ],
             [
              0.7777777777777778,
              "#fb9f3a"
             ],
             [
              0.8888888888888888,
              "#fdca26"
             ],
             [
              1,
              "#f0f921"
             ]
            ],
            "type": "histogram2dcontour"
           }
          ],
          "mesh3d": [
           {
            "colorbar": {
             "outlinewidth": 0,
             "ticks": ""
            },
            "type": "mesh3d"
           }
          ],
          "parcoords": [
           {
            "line": {
             "colorbar": {
              "outlinewidth": 0,
              "ticks": ""
             }
            },
            "type": "parcoords"
           }
          ],
          "pie": [
           {
            "automargin": true,
            "type": "pie"
           }
          ],
          "scatter": [
           {
            "fillpattern": {
             "fillmode": "overlay",
             "size": 10,
             "solidity": 0.2
            },
            "type": "scatter"
           }
          ],
          "scatter3d": [
           {
            "line": {
             "colorbar": {
              "outlinewidth": 0,
              "ticks": ""
             }
            },
            "marker": {
             "colorbar": {
              "outlinewidth": 0,
              "ticks": ""
             }
            },
            "type": "scatter3d"
           }
          ],
          "scattercarpet": [
           {
            "marker": {
             "colorbar": {
              "outlinewidth": 0,
              "ticks": ""
             }
            },
            "type": "scattercarpet"
           }
          ],
          "scattergeo": [
           {
            "marker": {
             "colorbar": {
              "outlinewidth": 0,
              "ticks": ""
             }
            },
            "type": "scattergeo"
           }
          ],
          "scattergl": [
           {
            "marker": {
             "colorbar": {
              "outlinewidth": 0,
              "ticks": ""
             }
            },
            "type": "scattergl"
           }
          ],
          "scattermapbox": [
           {
            "marker": {
             "colorbar": {
              "outlinewidth": 0,
              "ticks": ""
             }
            },
            "type": "scattermapbox"
           }
          ],
          "scatterpolar": [
           {
            "marker": {
             "colorbar": {
              "outlinewidth": 0,
              "ticks": ""
             }
            },
            "type": "scatterpolar"
           }
          ],
          "scatterpolargl": [
           {
            "marker": {
             "colorbar": {
              "outlinewidth": 0,
              "ticks": ""
             }
            },
            "type": "scatterpolargl"
           }
          ],
          "scatterternary": [
           {
            "marker": {
             "colorbar": {
              "outlinewidth": 0,
              "ticks": ""
             }
            },
            "type": "scatterternary"
           }
          ],
          "surface": [
           {
            "colorbar": {
             "outlinewidth": 0,
             "ticks": ""
            },
            "colorscale": [
             [
              0,
              "#0d0887"
             ],
             [
              0.1111111111111111,
              "#46039f"
             ],
             [
              0.2222222222222222,
              "#7201a8"
             ],
             [
              0.3333333333333333,
              "#9c179e"
             ],
             [
              0.4444444444444444,
              "#bd3786"
             ],
             [
              0.5555555555555556,
              "#d8576b"
             ],
             [
              0.6666666666666666,
              "#ed7953"
             ],
             [
              0.7777777777777778,
              "#fb9f3a"
             ],
             [
              0.8888888888888888,
              "#fdca26"
             ],
             [
              1,
              "#f0f921"
             ]
            ],
            "type": "surface"
           }
          ],
          "table": [
           {
            "cells": {
             "fill": {
              "color": "#EBF0F8"
             },
             "line": {
              "color": "white"
             }
            },
            "header": {
             "fill": {
              "color": "#C8D4E3"
             },
             "line": {
              "color": "white"
             }
            },
            "type": "table"
           }
          ]
         },
         "layout": {
          "annotationdefaults": {
           "arrowcolor": "#2a3f5f",
           "arrowhead": 0,
           "arrowwidth": 1
          },
          "autotypenumbers": "strict",
          "coloraxis": {
           "colorbar": {
            "outlinewidth": 0,
            "ticks": ""
           }
          },
          "colorscale": {
           "diverging": [
            [
             0,
             "#8e0152"
            ],
            [
             0.1,
             "#c51b7d"
            ],
            [
             0.2,
             "#de77ae"
            ],
            [
             0.3,
             "#f1b6da"
            ],
            [
             0.4,
             "#fde0ef"
            ],
            [
             0.5,
             "#f7f7f7"
            ],
            [
             0.6,
             "#e6f5d0"
            ],
            [
             0.7,
             "#b8e186"
            ],
            [
             0.8,
             "#7fbc41"
            ],
            [
             0.9,
             "#4d9221"
            ],
            [
             1,
             "#276419"
            ]
           ],
           "sequential": [
            [
             0,
             "#0d0887"
            ],
            [
             0.1111111111111111,
             "#46039f"
            ],
            [
             0.2222222222222222,
             "#7201a8"
            ],
            [
             0.3333333333333333,
             "#9c179e"
            ],
            [
             0.4444444444444444,
             "#bd3786"
            ],
            [
             0.5555555555555556,
             "#d8576b"
            ],
            [
             0.6666666666666666,
             "#ed7953"
            ],
            [
             0.7777777777777778,
             "#fb9f3a"
            ],
            [
             0.8888888888888888,
             "#fdca26"
            ],
            [
             1,
             "#f0f921"
            ]
           ],
           "sequentialminus": [
            [
             0,
             "#0d0887"
            ],
            [
             0.1111111111111111,
             "#46039f"
            ],
            [
             0.2222222222222222,
             "#7201a8"
            ],
            [
             0.3333333333333333,
             "#9c179e"
            ],
            [
             0.4444444444444444,
             "#bd3786"
            ],
            [
             0.5555555555555556,
             "#d8576b"
            ],
            [
             0.6666666666666666,
             "#ed7953"
            ],
            [
             0.7777777777777778,
             "#fb9f3a"
            ],
            [
             0.8888888888888888,
             "#fdca26"
            ],
            [
             1,
             "#f0f921"
            ]
           ]
          },
          "colorway": [
           "#636efa",
           "#EF553B",
           "#00cc96",
           "#ab63fa",
           "#FFA15A",
           "#19d3f3",
           "#FF6692",
           "#B6E880",
           "#FF97FF",
           "#FECB52"
          ],
          "font": {
           "color": "#2a3f5f"
          },
          "geo": {
           "bgcolor": "white",
           "lakecolor": "white",
           "landcolor": "#E5ECF6",
           "showlakes": true,
           "showland": true,
           "subunitcolor": "white"
          },
          "hoverlabel": {
           "align": "left"
          },
          "hovermode": "closest",
          "mapbox": {
           "style": "light"
          },
          "paper_bgcolor": "white",
          "plot_bgcolor": "#E5ECF6",
          "polar": {
           "angularaxis": {
            "gridcolor": "white",
            "linecolor": "white",
            "ticks": ""
           },
           "bgcolor": "#E5ECF6",
           "radialaxis": {
            "gridcolor": "white",
            "linecolor": "white",
            "ticks": ""
           }
          },
          "scene": {
           "xaxis": {
            "backgroundcolor": "#E5ECF6",
            "gridcolor": "white",
            "gridwidth": 2,
            "linecolor": "white",
            "showbackground": true,
            "ticks": "",
            "zerolinecolor": "white"
           },
           "yaxis": {
            "backgroundcolor": "#E5ECF6",
            "gridcolor": "white",
            "gridwidth": 2,
            "linecolor": "white",
            "showbackground": true,
            "ticks": "",
            "zerolinecolor": "white"
           },
           "zaxis": {
            "backgroundcolor": "#E5ECF6",
            "gridcolor": "white",
            "gridwidth": 2,
            "linecolor": "white",
            "showbackground": true,
            "ticks": "",
            "zerolinecolor": "white"
           }
          },
          "shapedefaults": {
           "line": {
            "color": "#2a3f5f"
           }
          },
          "ternary": {
           "aaxis": {
            "gridcolor": "white",
            "linecolor": "white",
            "ticks": ""
           },
           "baxis": {
            "gridcolor": "white",
            "linecolor": "white",
            "ticks": ""
           },
           "bgcolor": "#E5ECF6",
           "caxis": {
            "gridcolor": "white",
            "linecolor": "white",
            "ticks": ""
           }
          },
          "title": {
           "x": 0.05
          },
          "xaxis": {
           "automargin": true,
           "gridcolor": "white",
           "linecolor": "white",
           "ticks": "",
           "title": {
            "standoff": 15
           },
           "zerolinecolor": "white",
           "zerolinewidth": 2
          },
          "yaxis": {
           "automargin": true,
           "gridcolor": "white",
           "linecolor": "white",
           "ticks": "",
           "title": {
            "standoff": 15
           },
           "zerolinecolor": "white",
           "zerolinewidth": 2
          }
         }
        },
        "title": {
         "text": "Most Common Male and Female Character Names by Country",
         "x": 0.4,
         "y": 0.9
        }
       }
      }
     },
     "metadata": {},
     "output_type": "display_data"
    }
   ],
   "source": [
    "\n",
    "\n",
    "fig = go.Figure(go.Scattergeo(\n",
    "))\n",
    "fig.add_trace(go.Choropleth(\n",
    "    locations= df_top_names['primary_country'],\n",
    "    locationmode='country names',\n",
    "    showscale= True,\n",
    "    colorscale='YlOrRd',\n",
    "    z=np.log10(df_top_names['Number_of_movies']),\n",
    "    colorbar=dict(title=\"Number of movies (Log Scale)\", tickvals=np.arange(0, 5), ticktext=[f\"10^{i}\" for i in range(0, 5)]),\n",
    "    text= [f\"Top female name: {female}<br>Top male name: {male}<br>Movies: {movies:,}\" \n",
    "           for female, male, movies in zip(df_top_names['Female_name'], df_top_names['Male_name'], df_top_names['Number_of_movies'])],\n",
    "    hovertemplate=\"%{location}<br>%{text}\"\n",
    "))\n",
    "fig.update_geos(\n",
    "    projection_scale=1,center={'lat': 30},\n",
    "    visible=False,\n",
    "    showcountries=True, countrycolor=\"RebeccaPurple\"\n",
    ")\n",
    "fig.update_layout(\n",
    "    geo=dict(\n",
    "        projection_type=\"mercator\",\n",
    "        lakecolor=\"aqua\"\n",
    "    ),\n",
    "    height=500,\n",
    "    margin={\"r\":0,\"t\":5,\"l\":0,\"b\":0},\n",
    "    title_text=\"Most Common Male and Female Character Names by Country\",\n",
    "    title_x=0.4,\n",
    "    title_y=0.90\n",
    ")\n",
    "fig.show()"
   ]
  },
  {
   "cell_type": "code",
   "execution_count": null,
   "metadata": {},
   "outputs": [
    {
     "name": "stdout",
     "output_type": "stream",
     "text": [
      "Chi-Square Statistic: 7181854.659529755\n",
      "p-value: 0.0\n"
     ]
    }
   ],
   "source": [
    "# Chi2\n",
    "contingency_table = create_contingency_table(df_char_cleaned,'Character_name','primary_country')\n",
    "chi2, p_value, dof, expected = stats.chi2_contingency(contingency_table)\n",
    "\n",
    "print(f\"Chi-Square Statistic: {chi2}\")\n",
    "print(f\"p-value: {p_value}\")"
   ]
  },
  {
   "cell_type": "markdown",
   "metadata": {},
   "source": [
    "We see that we have a p-value equal to 0, meaning that there is a statistically significant association between the country of movie production and the character names in the movie. We will now investigate the strength of this association using Cramér's V."
   ]
  },
  {
   "cell_type": "code",
   "execution_count": null,
   "metadata": {},
   "outputs": [
    {
     "name": "stdout",
     "output_type": "stream",
     "text": [
      "Cramér's V: 0.7202848738656566\n"
     ]
    }
   ],
   "source": [
    "n = contingency_table.sum().sum()\n",
    "k = min(contingency_table.shape)\n",
    "cramers_v = np.sqrt(chi2 / (n * (k - 1)))\n",
    "\n",
    "print(f\"Cramér's V: {cramers_v}\")"
   ]
  },
  {
   "cell_type": "markdown",
   "metadata": {},
   "source": [
    "The Cramér's V is superior to 0.5 meaning that there is a strong association between the country of production of the movie and the name of the characters in the movies."
   ]
  }
 ],
 "metadata": {
  "kernelspec": {
   "display_name": "ada",
   "language": "python",
   "name": "python3"
  },
  "language_info": {
   "codemirror_mode": {
    "name": "ipython",
    "version": 3
   },
   "file_extension": ".py",
   "mimetype": "text/x-python",
   "name": "python",
   "nbconvert_exporter": "python",
   "pygments_lexer": "ipython3",
   "version": "3.11.9"
  }
 },
 "nbformat": 4,
 "nbformat_minor": 2
}
