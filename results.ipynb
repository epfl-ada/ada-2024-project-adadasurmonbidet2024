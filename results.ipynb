{
 "cells": [
  {
   "cell_type": "code",
   "execution_count": 50,
   "metadata": {},
   "outputs": [],
   "source": [
    "from src.utils.results_utils import *\n",
    "\n",
    "from src.utils.data_utils import str_dict_to_values\n",
    "\n",
    "import plotly.graph_objects as go\n",
    "import plotly.express as px\n",
    "from plotly.subplots import make_subplots\n",
    "import matplotlib.pyplot as plt\n",
    "import seaborn as sns\n",
    "from scipy import stats\n",
    "import pandas as pd\n",
    "import nbformat\n",
    "import os"
   ]
  },
  {
   "cell_type": "markdown",
   "metadata": {},
   "source": [
    "# 0. Loading the cleaned dataset"
   ]
  },
  {
   "cell_type": "code",
   "execution_count": 51,
   "metadata": {},
   "outputs": [],
   "source": [
    "df_char_cleaned = pd.read_csv('data/cleaned.csv')\n",
    "\n",
    "df_char_cleaned['Languages'] = df_char_cleaned['Languages'].apply(str_dict_to_values)\n",
    "df_char_cleaned['Country'] = df_char_cleaned['Country'].apply(str_dict_to_values)\n",
    "df_char_cleaned['Genres'] = df_char_cleaned['Genres'].apply(str_dict_to_values)"
   ]
  },
  {
   "cell_type": "markdown",
   "metadata": {},
   "source": [
    "# 1. Presenting the Data"
   ]
  },
  {
   "cell_type": "markdown",
   "metadata": {},
   "source": [
    "The cleaned dataset looks like this : "
   ]
  },
  {
   "cell_type": "code",
   "execution_count": 52,
   "metadata": {},
   "outputs": [
    {
     "data": {
      "text/html": [
       "<div>\n",
       "<style scoped>\n",
       "    .dataframe tbody tr th:only-of-type {\n",
       "        vertical-align: middle;\n",
       "    }\n",
       "\n",
       "    .dataframe tbody tr th {\n",
       "        vertical-align: top;\n",
       "    }\n",
       "\n",
       "    .dataframe thead th {\n",
       "        text-align: right;\n",
       "    }\n",
       "</style>\n",
       "<table border=\"1\" class=\"dataframe\">\n",
       "  <thead>\n",
       "    <tr style=\"text-align: right;\">\n",
       "      <th></th>\n",
       "      <th>Wikipedia ID</th>\n",
       "      <th>Movie Name</th>\n",
       "      <th>Languages</th>\n",
       "      <th>Production Country</th>\n",
       "      <th>Movie Genre</th>\n",
       "      <th>Character Name</th>\n",
       "      <th>Gender</th>\n",
       "      <th>Actor Age</th>\n",
       "      <th>Release Date</th>\n",
       "    </tr>\n",
       "  </thead>\n",
       "  <tbody>\n",
       "    <tr>\n",
       "      <th>49862</th>\n",
       "      <td>886698</td>\n",
       "      <td>PT 109</td>\n",
       "      <td>[English Language]</td>\n",
       "      <td>[United States of America]</td>\n",
       "      <td>[Biopic [feature], Drama, Docudrama, War film]</td>\n",
       "      <td>John</td>\n",
       "      <td>M</td>\n",
       "      <td>39.0</td>\n",
       "      <td>1963</td>\n",
       "    </tr>\n",
       "    <tr>\n",
       "      <th>145876</th>\n",
       "      <td>25728672</td>\n",
       "      <td>All Under the Moon</td>\n",
       "      <td>[Japanese Language]</td>\n",
       "      <td>[Japan]</td>\n",
       "      <td>[Romance Film, Japanese Movies]</td>\n",
       "      <td>Connie</td>\n",
       "      <td>F</td>\n",
       "      <td>NaN</td>\n",
       "      <td>1993-11-06</td>\n",
       "    </tr>\n",
       "    <tr>\n",
       "      <th>70803</th>\n",
       "      <td>330874</td>\n",
       "      <td>L'avventura</td>\n",
       "      <td>[Italian Language, English Language]</td>\n",
       "      <td>[France, Italy]</td>\n",
       "      <td>[Mystery, Drama, World cinema, Black-and-white...</td>\n",
       "      <td>Claudia</td>\n",
       "      <td>F</td>\n",
       "      <td>28.0</td>\n",
       "      <td>1960</td>\n",
       "    </tr>\n",
       "    <tr>\n",
       "      <th>65001</th>\n",
       "      <td>3820793</td>\n",
       "      <td>He Ran All the Way</td>\n",
       "      <td>[English Language]</td>\n",
       "      <td>[United States of America]</td>\n",
       "      <td>[Crime Fiction, Thriller, Drama, Film noir, Cr...</td>\n",
       "      <td>Dobbs</td>\n",
       "      <td>F</td>\n",
       "      <td>30.0</td>\n",
       "      <td>1951-06-19</td>\n",
       "    </tr>\n",
       "    <tr>\n",
       "      <th>115634</th>\n",
       "      <td>4524978</td>\n",
       "      <td>Moscow Square</td>\n",
       "      <td>[Hungarian language]</td>\n",
       "      <td>[Hungary]</td>\n",
       "      <td>[Comedy film, Drama, Romance Film]</td>\n",
       "      <td>Házigazda</td>\n",
       "      <td>M</td>\n",
       "      <td>NaN</td>\n",
       "      <td>2001-02-01</td>\n",
       "    </tr>\n",
       "  </tbody>\n",
       "</table>\n",
       "</div>"
      ],
      "text/plain": [
       "        Wikipedia ID          Movie Name  \\\n",
       "49862         886698              PT 109   \n",
       "145876      25728672  All Under the Moon   \n",
       "70803         330874         L'avventura   \n",
       "65001        3820793  He Ran All the Way   \n",
       "115634       4524978       Moscow Square   \n",
       "\n",
       "                                   Languages          Production Country  \\\n",
       "49862                     [English Language]  [United States of America]   \n",
       "145876                   [Japanese Language]                     [Japan]   \n",
       "70803   [Italian Language, English Language]             [France, Italy]   \n",
       "65001                     [English Language]  [United States of America]   \n",
       "115634                  [Hungarian language]                   [Hungary]   \n",
       "\n",
       "                                              Movie Genre Character Name  \\\n",
       "49862      [Biopic [feature], Drama, Docudrama, War film]           John   \n",
       "145876                    [Romance Film, Japanese Movies]         Connie   \n",
       "70803   [Mystery, Drama, World cinema, Black-and-white...        Claudia   \n",
       "65001   [Crime Fiction, Thriller, Drama, Film noir, Cr...          Dobbs   \n",
       "115634                 [Comedy film, Drama, Romance Film]      Házigazda   \n",
       "\n",
       "       Gender  Actor Age Release Date  \n",
       "49862       M       39.0         1963  \n",
       "145876      F        NaN   1993-11-06  \n",
       "70803       F       28.0         1960  \n",
       "65001       F       30.0   1951-06-19  \n",
       "115634      M        NaN   2001-02-01  "
      ]
     },
     "execution_count": 52,
     "metadata": {},
     "output_type": "execute_result"
    }
   ],
   "source": [
    "# Create a copy of the original DataFrame to rename columns\n",
    "df_char_cleaned_column = df_char_cleaned.copy()\n",
    "\n",
    "# Rename columns to be clearer\n",
    "df_char_cleaned_column.columns = [\n",
    "    'Wikipedia ID', 'Movie Name', 'Languages', 'Production Country', \n",
    "    'Movie Genre', 'Character Name', 'Gender', 'Actor Age', 'Release Date'\n",
    "]\n",
    "\n",
    "# Display a random sample of 5 rows from the new DataFrame\n",
    "df_char_cleaned_column.sample(5)"
   ]
  },
  {
   "cell_type": "code",
   "execution_count": 53,
   "metadata": {},
   "outputs": [
    {
     "data": {
      "application/vnd.plotly.v1+json": {
       "config": {
        "plotlyServerURL": "https://plot.ly"
       },
       "data": [
        {
         "hoverinfo": "text",
         "marker": {
          "color": "skyblue"
         },
         "text": [
          "159691",
          "159691",
          "159691",
          "159691",
          "159691",
          "159691",
          "154185",
          "115076",
          "158166"
         ],
         "textposition": "none",
         "type": "bar",
         "x": [
          "Wikipedia ID",
          "Movie Name",
          "Languages",
          "Production Country",
          "Movie Genre",
          "Character Name",
          "Gender",
          "Actor Age",
          "Release Date"
         ],
         "y": [
          159691,
          159691,
          159691,
          159691,
          159691,
          159691,
          154185,
          115076,
          158166
         ]
        }
       ],
       "layout": {
        "barmode": "group",
        "template": {
         "data": {
          "bar": [
           {
            "error_x": {
             "color": "#2a3f5f"
            },
            "error_y": {
             "color": "#2a3f5f"
            },
            "marker": {
             "line": {
              "color": "#E5ECF6",
              "width": 0.5
             },
             "pattern": {
              "fillmode": "overlay",
              "size": 10,
              "solidity": 0.2
             }
            },
            "type": "bar"
           }
          ],
          "barpolar": [
           {
            "marker": {
             "line": {
              "color": "#E5ECF6",
              "width": 0.5
             },
             "pattern": {
              "fillmode": "overlay",
              "size": 10,
              "solidity": 0.2
             }
            },
            "type": "barpolar"
           }
          ],
          "carpet": [
           {
            "aaxis": {
             "endlinecolor": "#2a3f5f",
             "gridcolor": "white",
             "linecolor": "white",
             "minorgridcolor": "white",
             "startlinecolor": "#2a3f5f"
            },
            "baxis": {
             "endlinecolor": "#2a3f5f",
             "gridcolor": "white",
             "linecolor": "white",
             "minorgridcolor": "white",
             "startlinecolor": "#2a3f5f"
            },
            "type": "carpet"
           }
          ],
          "choropleth": [
           {
            "colorbar": {
             "outlinewidth": 0,
             "ticks": ""
            },
            "type": "choropleth"
           }
          ],
          "contour": [
           {
            "colorbar": {
             "outlinewidth": 0,
             "ticks": ""
            },
            "colorscale": [
             [
              0,
              "#0d0887"
             ],
             [
              0.1111111111111111,
              "#46039f"
             ],
             [
              0.2222222222222222,
              "#7201a8"
             ],
             [
              0.3333333333333333,
              "#9c179e"
             ],
             [
              0.4444444444444444,
              "#bd3786"
             ],
             [
              0.5555555555555556,
              "#d8576b"
             ],
             [
              0.6666666666666666,
              "#ed7953"
             ],
             [
              0.7777777777777778,
              "#fb9f3a"
             ],
             [
              0.8888888888888888,
              "#fdca26"
             ],
             [
              1,
              "#f0f921"
             ]
            ],
            "type": "contour"
           }
          ],
          "contourcarpet": [
           {
            "colorbar": {
             "outlinewidth": 0,
             "ticks": ""
            },
            "type": "contourcarpet"
           }
          ],
          "heatmap": [
           {
            "colorbar": {
             "outlinewidth": 0,
             "ticks": ""
            },
            "colorscale": [
             [
              0,
              "#0d0887"
             ],
             [
              0.1111111111111111,
              "#46039f"
             ],
             [
              0.2222222222222222,
              "#7201a8"
             ],
             [
              0.3333333333333333,
              "#9c179e"
             ],
             [
              0.4444444444444444,
              "#bd3786"
             ],
             [
              0.5555555555555556,
              "#d8576b"
             ],
             [
              0.6666666666666666,
              "#ed7953"
             ],
             [
              0.7777777777777778,
              "#fb9f3a"
             ],
             [
              0.8888888888888888,
              "#fdca26"
             ],
             [
              1,
              "#f0f921"
             ]
            ],
            "type": "heatmap"
           }
          ],
          "heatmapgl": [
           {
            "colorbar": {
             "outlinewidth": 0,
             "ticks": ""
            },
            "colorscale": [
             [
              0,
              "#0d0887"
             ],
             [
              0.1111111111111111,
              "#46039f"
             ],
             [
              0.2222222222222222,
              "#7201a8"
             ],
             [
              0.3333333333333333,
              "#9c179e"
             ],
             [
              0.4444444444444444,
              "#bd3786"
             ],
             [
              0.5555555555555556,
              "#d8576b"
             ],
             [
              0.6666666666666666,
              "#ed7953"
             ],
             [
              0.7777777777777778,
              "#fb9f3a"
             ],
             [
              0.8888888888888888,
              "#fdca26"
             ],
             [
              1,
              "#f0f921"
             ]
            ],
            "type": "heatmapgl"
           }
          ],
          "histogram": [
           {
            "marker": {
             "pattern": {
              "fillmode": "overlay",
              "size": 10,
              "solidity": 0.2
             }
            },
            "type": "histogram"
           }
          ],
          "histogram2d": [
           {
            "colorbar": {
             "outlinewidth": 0,
             "ticks": ""
            },
            "colorscale": [
             [
              0,
              "#0d0887"
             ],
             [
              0.1111111111111111,
              "#46039f"
             ],
             [
              0.2222222222222222,
              "#7201a8"
             ],
             [
              0.3333333333333333,
              "#9c179e"
             ],
             [
              0.4444444444444444,
              "#bd3786"
             ],
             [
              0.5555555555555556,
              "#d8576b"
             ],
             [
              0.6666666666666666,
              "#ed7953"
             ],
             [
              0.7777777777777778,
              "#fb9f3a"
             ],
             [
              0.8888888888888888,
              "#fdca26"
             ],
             [
              1,
              "#f0f921"
             ]
            ],
            "type": "histogram2d"
           }
          ],
          "histogram2dcontour": [
           {
            "colorbar": {
             "outlinewidth": 0,
             "ticks": ""
            },
            "colorscale": [
             [
              0,
              "#0d0887"
             ],
             [
              0.1111111111111111,
              "#46039f"
             ],
             [
              0.2222222222222222,
              "#7201a8"
             ],
             [
              0.3333333333333333,
              "#9c179e"
             ],
             [
              0.4444444444444444,
              "#bd3786"
             ],
             [
              0.5555555555555556,
              "#d8576b"
             ],
             [
              0.6666666666666666,
              "#ed7953"
             ],
             [
              0.7777777777777778,
              "#fb9f3a"
             ],
             [
              0.8888888888888888,
              "#fdca26"
             ],
             [
              1,
              "#f0f921"
             ]
            ],
            "type": "histogram2dcontour"
           }
          ],
          "mesh3d": [
           {
            "colorbar": {
             "outlinewidth": 0,
             "ticks": ""
            },
            "type": "mesh3d"
           }
          ],
          "parcoords": [
           {
            "line": {
             "colorbar": {
              "outlinewidth": 0,
              "ticks": ""
             }
            },
            "type": "parcoords"
           }
          ],
          "pie": [
           {
            "automargin": true,
            "type": "pie"
           }
          ],
          "scatter": [
           {
            "fillpattern": {
             "fillmode": "overlay",
             "size": 10,
             "solidity": 0.2
            },
            "type": "scatter"
           }
          ],
          "scatter3d": [
           {
            "line": {
             "colorbar": {
              "outlinewidth": 0,
              "ticks": ""
             }
            },
            "marker": {
             "colorbar": {
              "outlinewidth": 0,
              "ticks": ""
             }
            },
            "type": "scatter3d"
           }
          ],
          "scattercarpet": [
           {
            "marker": {
             "colorbar": {
              "outlinewidth": 0,
              "ticks": ""
             }
            },
            "type": "scattercarpet"
           }
          ],
          "scattergeo": [
           {
            "marker": {
             "colorbar": {
              "outlinewidth": 0,
              "ticks": ""
             }
            },
            "type": "scattergeo"
           }
          ],
          "scattergl": [
           {
            "marker": {
             "colorbar": {
              "outlinewidth": 0,
              "ticks": ""
             }
            },
            "type": "scattergl"
           }
          ],
          "scattermapbox": [
           {
            "marker": {
             "colorbar": {
              "outlinewidth": 0,
              "ticks": ""
             }
            },
            "type": "scattermapbox"
           }
          ],
          "scatterpolar": [
           {
            "marker": {
             "colorbar": {
              "outlinewidth": 0,
              "ticks": ""
             }
            },
            "type": "scatterpolar"
           }
          ],
          "scatterpolargl": [
           {
            "marker": {
             "colorbar": {
              "outlinewidth": 0,
              "ticks": ""
             }
            },
            "type": "scatterpolargl"
           }
          ],
          "scatterternary": [
           {
            "marker": {
             "colorbar": {
              "outlinewidth": 0,
              "ticks": ""
             }
            },
            "type": "scatterternary"
           }
          ],
          "surface": [
           {
            "colorbar": {
             "outlinewidth": 0,
             "ticks": ""
            },
            "colorscale": [
             [
              0,
              "#0d0887"
             ],
             [
              0.1111111111111111,
              "#46039f"
             ],
             [
              0.2222222222222222,
              "#7201a8"
             ],
             [
              0.3333333333333333,
              "#9c179e"
             ],
             [
              0.4444444444444444,
              "#bd3786"
             ],
             [
              0.5555555555555556,
              "#d8576b"
             ],
             [
              0.6666666666666666,
              "#ed7953"
             ],
             [
              0.7777777777777778,
              "#fb9f3a"
             ],
             [
              0.8888888888888888,
              "#fdca26"
             ],
             [
              1,
              "#f0f921"
             ]
            ],
            "type": "surface"
           }
          ],
          "table": [
           {
            "cells": {
             "fill": {
              "color": "#EBF0F8"
             },
             "line": {
              "color": "white"
             }
            },
            "header": {
             "fill": {
              "color": "#C8D4E3"
             },
             "line": {
              "color": "white"
             }
            },
            "type": "table"
           }
          ]
         },
         "layout": {
          "annotationdefaults": {
           "arrowcolor": "#2a3f5f",
           "arrowhead": 0,
           "arrowwidth": 1
          },
          "autotypenumbers": "strict",
          "coloraxis": {
           "colorbar": {
            "outlinewidth": 0,
            "ticks": ""
           }
          },
          "colorscale": {
           "diverging": [
            [
             0,
             "#8e0152"
            ],
            [
             0.1,
             "#c51b7d"
            ],
            [
             0.2,
             "#de77ae"
            ],
            [
             0.3,
             "#f1b6da"
            ],
            [
             0.4,
             "#fde0ef"
            ],
            [
             0.5,
             "#f7f7f7"
            ],
            [
             0.6,
             "#e6f5d0"
            ],
            [
             0.7,
             "#b8e186"
            ],
            [
             0.8,
             "#7fbc41"
            ],
            [
             0.9,
             "#4d9221"
            ],
            [
             1,
             "#276419"
            ]
           ],
           "sequential": [
            [
             0,
             "#0d0887"
            ],
            [
             0.1111111111111111,
             "#46039f"
            ],
            [
             0.2222222222222222,
             "#7201a8"
            ],
            [
             0.3333333333333333,
             "#9c179e"
            ],
            [
             0.4444444444444444,
             "#bd3786"
            ],
            [
             0.5555555555555556,
             "#d8576b"
            ],
            [
             0.6666666666666666,
             "#ed7953"
            ],
            [
             0.7777777777777778,
             "#fb9f3a"
            ],
            [
             0.8888888888888888,
             "#fdca26"
            ],
            [
             1,
             "#f0f921"
            ]
           ],
           "sequentialminus": [
            [
             0,
             "#0d0887"
            ],
            [
             0.1111111111111111,
             "#46039f"
            ],
            [
             0.2222222222222222,
             "#7201a8"
            ],
            [
             0.3333333333333333,
             "#9c179e"
            ],
            [
             0.4444444444444444,
             "#bd3786"
            ],
            [
             0.5555555555555556,
             "#d8576b"
            ],
            [
             0.6666666666666666,
             "#ed7953"
            ],
            [
             0.7777777777777778,
             "#fb9f3a"
            ],
            [
             0.8888888888888888,
             "#fdca26"
            ],
            [
             1,
             "#f0f921"
            ]
           ]
          },
          "colorway": [
           "#636efa",
           "#EF553B",
           "#00cc96",
           "#ab63fa",
           "#FFA15A",
           "#19d3f3",
           "#FF6692",
           "#B6E880",
           "#FF97FF",
           "#FECB52"
          ],
          "font": {
           "color": "#2a3f5f"
          },
          "geo": {
           "bgcolor": "white",
           "lakecolor": "white",
           "landcolor": "#E5ECF6",
           "showlakes": true,
           "showland": true,
           "subunitcolor": "white"
          },
          "hoverlabel": {
           "align": "left"
          },
          "hovermode": "closest",
          "mapbox": {
           "style": "light"
          },
          "paper_bgcolor": "white",
          "plot_bgcolor": "#E5ECF6",
          "polar": {
           "angularaxis": {
            "gridcolor": "white",
            "linecolor": "white",
            "ticks": ""
           },
           "bgcolor": "#E5ECF6",
           "radialaxis": {
            "gridcolor": "white",
            "linecolor": "white",
            "ticks": ""
           }
          },
          "scene": {
           "xaxis": {
            "backgroundcolor": "#E5ECF6",
            "gridcolor": "white",
            "gridwidth": 2,
            "linecolor": "white",
            "showbackground": true,
            "ticks": "",
            "zerolinecolor": "white"
           },
           "yaxis": {
            "backgroundcolor": "#E5ECF6",
            "gridcolor": "white",
            "gridwidth": 2,
            "linecolor": "white",
            "showbackground": true,
            "ticks": "",
            "zerolinecolor": "white"
           },
           "zaxis": {
            "backgroundcolor": "#E5ECF6",
            "gridcolor": "white",
            "gridwidth": 2,
            "linecolor": "white",
            "showbackground": true,
            "ticks": "",
            "zerolinecolor": "white"
           }
          },
          "shapedefaults": {
           "line": {
            "color": "#2a3f5f"
           }
          },
          "ternary": {
           "aaxis": {
            "gridcolor": "white",
            "linecolor": "white",
            "ticks": ""
           },
           "baxis": {
            "gridcolor": "white",
            "linecolor": "white",
            "ticks": ""
           },
           "bgcolor": "#E5ECF6",
           "caxis": {
            "gridcolor": "white",
            "linecolor": "white",
            "ticks": ""
           }
          },
          "title": {
           "x": 0.05
          },
          "xaxis": {
           "automargin": true,
           "gridcolor": "white",
           "linecolor": "white",
           "ticks": "",
           "title": {
            "standoff": 15
           },
           "zerolinecolor": "white",
           "zerolinewidth": 2
          },
          "yaxis": {
           "automargin": true,
           "gridcolor": "white",
           "linecolor": "white",
           "ticks": "",
           "title": {
            "standoff": 15
           },
           "zerolinecolor": "white",
           "zerolinewidth": 2
          }
         }
        },
        "title": {
         "text": "Number of Values in Each Category of the Cleaned Dataset"
        },
        "xaxis": {
         "title": {
          "text": "Dataset Columns"
         }
        },
        "yaxis": {
         "title": {
          "text": "Number of Values"
         }
        }
       }
      }
     },
     "metadata": {},
     "output_type": "display_data"
    }
   ],
   "source": [
    "value_count_per_column = df_char_cleaned.notnull().sum()\n",
    "\n",
    "# Define the data\n",
    "data = go.Bar(\n",
    "    x=df_char_cleaned_column.columns,  \n",
    "    y=value_count_per_column.values,  \n",
    "    marker=dict(\n",
    "        color='skyblue' \n",
    "    ),\n",
    "    text=[f\"{count}\" for count in value_count_per_column.values], \n",
    "    hoverinfo='text',  \n",
    "    textposition='none'  \n",
    ")\n",
    "\n",
    "# Create the layout\n",
    "layout = go.Layout(\n",
    "    title='Number of Values in Each Category of the Cleaned Dataset',  \n",
    "    xaxis=dict(title='Dataset Columns'),  \n",
    "    yaxis=dict(title='Number of Values'),  \n",
    "    barmode='group'  \n",
    "\n",
    ")\n",
    "\n",
    "fig = go.Figure(data=[data], layout=layout)\n",
    "\n",
    "# Plot the graph\n",
    "fig.show()"
   ]
  },
  {
   "cell_type": "markdown",
   "metadata": {},
   "source": [
    "We observe that the dataset contains 160,432 entries. Some values are missing in the columns Gender, Actor Age, and Release Date."
   ]
  },
  {
   "cell_type": "code",
   "execution_count": 54,
   "metadata": {},
   "outputs": [
    {
     "data": {
      "text/html": [
       "<div>\n",
       "<style scoped>\n",
       "    .dataframe tbody tr th:only-of-type {\n",
       "        vertical-align: middle;\n",
       "    }\n",
       "\n",
       "    .dataframe tbody tr th {\n",
       "        vertical-align: top;\n",
       "    }\n",
       "\n",
       "    .dataframe thead th {\n",
       "        text-align: right;\n",
       "    }\n",
       "</style>\n",
       "<table border=\"1\" class=\"dataframe\">\n",
       "  <thead>\n",
       "    <tr style=\"text-align: right;\">\n",
       "      <th></th>\n",
       "      <th>Category</th>\n",
       "      <th>Count</th>\n",
       "    </tr>\n",
       "  </thead>\n",
       "  <tbody>\n",
       "    <tr>\n",
       "      <th>0</th>\n",
       "      <td>Total Character Names</td>\n",
       "      <td>159691</td>\n",
       "    </tr>\n",
       "    <tr>\n",
       "      <th>1</th>\n",
       "      <td>Unique Character Names</td>\n",
       "      <td>37883</td>\n",
       "    </tr>\n",
       "    <tr>\n",
       "      <th>2</th>\n",
       "      <td>Unique Movies</td>\n",
       "      <td>31072</td>\n",
       "    </tr>\n",
       "  </tbody>\n",
       "</table>\n",
       "</div>"
      ],
      "text/plain": [
       "                 Category   Count\n",
       "0   Total Character Names  159691\n",
       "1  Unique Character Names   37883\n",
       "2           Unique Movies   31072"
      ]
     },
     "execution_count": 54,
     "metadata": {},
     "output_type": "execute_result"
    }
   ],
   "source": [
    "total_count = len(df_char_cleaned['Character_name'])\n",
    "name_count = df_char_cleaned['Character_name'].nunique()\n",
    "movie_count = df_char_cleaned['Wikipedia_ID'].nunique()\n",
    "\n",
    "summary_df = pd.DataFrame({\n",
    "    'Category': ['Total Character Names','Unique Character Names', 'Unique Movies'],\n",
    "    'Count': [total_count, name_count, movie_count]\n",
    "})\n",
    "\n",
    "summary_df.head()"
   ]
  },
  {
   "cell_type": "code",
   "execution_count": 55,
   "metadata": {},
   "outputs": [
    {
     "data": {
      "application/vnd.plotly.v1+json": {
       "config": {
        "plotlyServerURL": "https://plot.ly"
       },
       "data": [
        {
         "hoverinfo": "text",
         "hovertext": [
          "Total count: 97491<br>Top names: John, George, Tom"
         ],
         "marker": {
          "color": "skyblue"
         },
         "name": "Male",
         "type": "bar",
         "x": [
          "Male"
         ],
         "y": [
          97491
         ]
        },
        {
         "hoverinfo": "text",
         "hovertext": [
          "Total count: 56694<br>Top names: Sarah, Mary, Alice"
         ],
         "marker": {
          "color": "salmon"
         },
         "name": "Female",
         "type": "bar",
         "x": [
          "Female"
         ],
         "y": [
          56694
         ]
        }
       ],
       "layout": {
        "legend": {
         "title": {
          "text": "Gender"
         }
        },
        "template": {
         "data": {
          "bar": [
           {
            "error_x": {
             "color": "#2a3f5f"
            },
            "error_y": {
             "color": "#2a3f5f"
            },
            "marker": {
             "line": {
              "color": "#E5ECF6",
              "width": 0.5
             },
             "pattern": {
              "fillmode": "overlay",
              "size": 10,
              "solidity": 0.2
             }
            },
            "type": "bar"
           }
          ],
          "barpolar": [
           {
            "marker": {
             "line": {
              "color": "#E5ECF6",
              "width": 0.5
             },
             "pattern": {
              "fillmode": "overlay",
              "size": 10,
              "solidity": 0.2
             }
            },
            "type": "barpolar"
           }
          ],
          "carpet": [
           {
            "aaxis": {
             "endlinecolor": "#2a3f5f",
             "gridcolor": "white",
             "linecolor": "white",
             "minorgridcolor": "white",
             "startlinecolor": "#2a3f5f"
            },
            "baxis": {
             "endlinecolor": "#2a3f5f",
             "gridcolor": "white",
             "linecolor": "white",
             "minorgridcolor": "white",
             "startlinecolor": "#2a3f5f"
            },
            "type": "carpet"
           }
          ],
          "choropleth": [
           {
            "colorbar": {
             "outlinewidth": 0,
             "ticks": ""
            },
            "type": "choropleth"
           }
          ],
          "contour": [
           {
            "colorbar": {
             "outlinewidth": 0,
             "ticks": ""
            },
            "colorscale": [
             [
              0,
              "#0d0887"
             ],
             [
              0.1111111111111111,
              "#46039f"
             ],
             [
              0.2222222222222222,
              "#7201a8"
             ],
             [
              0.3333333333333333,
              "#9c179e"
             ],
             [
              0.4444444444444444,
              "#bd3786"
             ],
             [
              0.5555555555555556,
              "#d8576b"
             ],
             [
              0.6666666666666666,
              "#ed7953"
             ],
             [
              0.7777777777777778,
              "#fb9f3a"
             ],
             [
              0.8888888888888888,
              "#fdca26"
             ],
             [
              1,
              "#f0f921"
             ]
            ],
            "type": "contour"
           }
          ],
          "contourcarpet": [
           {
            "colorbar": {
             "outlinewidth": 0,
             "ticks": ""
            },
            "type": "contourcarpet"
           }
          ],
          "heatmap": [
           {
            "colorbar": {
             "outlinewidth": 0,
             "ticks": ""
            },
            "colorscale": [
             [
              0,
              "#0d0887"
             ],
             [
              0.1111111111111111,
              "#46039f"
             ],
             [
              0.2222222222222222,
              "#7201a8"
             ],
             [
              0.3333333333333333,
              "#9c179e"
             ],
             [
              0.4444444444444444,
              "#bd3786"
             ],
             [
              0.5555555555555556,
              "#d8576b"
             ],
             [
              0.6666666666666666,
              "#ed7953"
             ],
             [
              0.7777777777777778,
              "#fb9f3a"
             ],
             [
              0.8888888888888888,
              "#fdca26"
             ],
             [
              1,
              "#f0f921"
             ]
            ],
            "type": "heatmap"
           }
          ],
          "heatmapgl": [
           {
            "colorbar": {
             "outlinewidth": 0,
             "ticks": ""
            },
            "colorscale": [
             [
              0,
              "#0d0887"
             ],
             [
              0.1111111111111111,
              "#46039f"
             ],
             [
              0.2222222222222222,
              "#7201a8"
             ],
             [
              0.3333333333333333,
              "#9c179e"
             ],
             [
              0.4444444444444444,
              "#bd3786"
             ],
             [
              0.5555555555555556,
              "#d8576b"
             ],
             [
              0.6666666666666666,
              "#ed7953"
             ],
             [
              0.7777777777777778,
              "#fb9f3a"
             ],
             [
              0.8888888888888888,
              "#fdca26"
             ],
             [
              1,
              "#f0f921"
             ]
            ],
            "type": "heatmapgl"
           }
          ],
          "histogram": [
           {
            "marker": {
             "pattern": {
              "fillmode": "overlay",
              "size": 10,
              "solidity": 0.2
             }
            },
            "type": "histogram"
           }
          ],
          "histogram2d": [
           {
            "colorbar": {
             "outlinewidth": 0,
             "ticks": ""
            },
            "colorscale": [
             [
              0,
              "#0d0887"
             ],
             [
              0.1111111111111111,
              "#46039f"
             ],
             [
              0.2222222222222222,
              "#7201a8"
             ],
             [
              0.3333333333333333,
              "#9c179e"
             ],
             [
              0.4444444444444444,
              "#bd3786"
             ],
             [
              0.5555555555555556,
              "#d8576b"
             ],
             [
              0.6666666666666666,
              "#ed7953"
             ],
             [
              0.7777777777777778,
              "#fb9f3a"
             ],
             [
              0.8888888888888888,
              "#fdca26"
             ],
             [
              1,
              "#f0f921"
             ]
            ],
            "type": "histogram2d"
           }
          ],
          "histogram2dcontour": [
           {
            "colorbar": {
             "outlinewidth": 0,
             "ticks": ""
            },
            "colorscale": [
             [
              0,
              "#0d0887"
             ],
             [
              0.1111111111111111,
              "#46039f"
             ],
             [
              0.2222222222222222,
              "#7201a8"
             ],
             [
              0.3333333333333333,
              "#9c179e"
             ],
             [
              0.4444444444444444,
              "#bd3786"
             ],
             [
              0.5555555555555556,
              "#d8576b"
             ],
             [
              0.6666666666666666,
              "#ed7953"
             ],
             [
              0.7777777777777778,
              "#fb9f3a"
             ],
             [
              0.8888888888888888,
              "#fdca26"
             ],
             [
              1,
              "#f0f921"
             ]
            ],
            "type": "histogram2dcontour"
           }
          ],
          "mesh3d": [
           {
            "colorbar": {
             "outlinewidth": 0,
             "ticks": ""
            },
            "type": "mesh3d"
           }
          ],
          "parcoords": [
           {
            "line": {
             "colorbar": {
              "outlinewidth": 0,
              "ticks": ""
             }
            },
            "type": "parcoords"
           }
          ],
          "pie": [
           {
            "automargin": true,
            "type": "pie"
           }
          ],
          "scatter": [
           {
            "fillpattern": {
             "fillmode": "overlay",
             "size": 10,
             "solidity": 0.2
            },
            "type": "scatter"
           }
          ],
          "scatter3d": [
           {
            "line": {
             "colorbar": {
              "outlinewidth": 0,
              "ticks": ""
             }
            },
            "marker": {
             "colorbar": {
              "outlinewidth": 0,
              "ticks": ""
             }
            },
            "type": "scatter3d"
           }
          ],
          "scattercarpet": [
           {
            "marker": {
             "colorbar": {
              "outlinewidth": 0,
              "ticks": ""
             }
            },
            "type": "scattercarpet"
           }
          ],
          "scattergeo": [
           {
            "marker": {
             "colorbar": {
              "outlinewidth": 0,
              "ticks": ""
             }
            },
            "type": "scattergeo"
           }
          ],
          "scattergl": [
           {
            "marker": {
             "colorbar": {
              "outlinewidth": 0,
              "ticks": ""
             }
            },
            "type": "scattergl"
           }
          ],
          "scattermapbox": [
           {
            "marker": {
             "colorbar": {
              "outlinewidth": 0,
              "ticks": ""
             }
            },
            "type": "scattermapbox"
           }
          ],
          "scatterpolar": [
           {
            "marker": {
             "colorbar": {
              "outlinewidth": 0,
              "ticks": ""
             }
            },
            "type": "scatterpolar"
           }
          ],
          "scatterpolargl": [
           {
            "marker": {
             "colorbar": {
              "outlinewidth": 0,
              "ticks": ""
             }
            },
            "type": "scatterpolargl"
           }
          ],
          "scatterternary": [
           {
            "marker": {
             "colorbar": {
              "outlinewidth": 0,
              "ticks": ""
             }
            },
            "type": "scatterternary"
           }
          ],
          "surface": [
           {
            "colorbar": {
             "outlinewidth": 0,
             "ticks": ""
            },
            "colorscale": [
             [
              0,
              "#0d0887"
             ],
             [
              0.1111111111111111,
              "#46039f"
             ],
             [
              0.2222222222222222,
              "#7201a8"
             ],
             [
              0.3333333333333333,
              "#9c179e"
             ],
             [
              0.4444444444444444,
              "#bd3786"
             ],
             [
              0.5555555555555556,
              "#d8576b"
             ],
             [
              0.6666666666666666,
              "#ed7953"
             ],
             [
              0.7777777777777778,
              "#fb9f3a"
             ],
             [
              0.8888888888888888,
              "#fdca26"
             ],
             [
              1,
              "#f0f921"
             ]
            ],
            "type": "surface"
           }
          ],
          "table": [
           {
            "cells": {
             "fill": {
              "color": "#EBF0F8"
             },
             "line": {
              "color": "white"
             }
            },
            "header": {
             "fill": {
              "color": "#C8D4E3"
             },
             "line": {
              "color": "white"
             }
            },
            "type": "table"
           }
          ]
         },
         "layout": {
          "annotationdefaults": {
           "arrowcolor": "#2a3f5f",
           "arrowhead": 0,
           "arrowwidth": 1
          },
          "autotypenumbers": "strict",
          "coloraxis": {
           "colorbar": {
            "outlinewidth": 0,
            "ticks": ""
           }
          },
          "colorscale": {
           "diverging": [
            [
             0,
             "#8e0152"
            ],
            [
             0.1,
             "#c51b7d"
            ],
            [
             0.2,
             "#de77ae"
            ],
            [
             0.3,
             "#f1b6da"
            ],
            [
             0.4,
             "#fde0ef"
            ],
            [
             0.5,
             "#f7f7f7"
            ],
            [
             0.6,
             "#e6f5d0"
            ],
            [
             0.7,
             "#b8e186"
            ],
            [
             0.8,
             "#7fbc41"
            ],
            [
             0.9,
             "#4d9221"
            ],
            [
             1,
             "#276419"
            ]
           ],
           "sequential": [
            [
             0,
             "#0d0887"
            ],
            [
             0.1111111111111111,
             "#46039f"
            ],
            [
             0.2222222222222222,
             "#7201a8"
            ],
            [
             0.3333333333333333,
             "#9c179e"
            ],
            [
             0.4444444444444444,
             "#bd3786"
            ],
            [
             0.5555555555555556,
             "#d8576b"
            ],
            [
             0.6666666666666666,
             "#ed7953"
            ],
            [
             0.7777777777777778,
             "#fb9f3a"
            ],
            [
             0.8888888888888888,
             "#fdca26"
            ],
            [
             1,
             "#f0f921"
            ]
           ],
           "sequentialminus": [
            [
             0,
             "#0d0887"
            ],
            [
             0.1111111111111111,
             "#46039f"
            ],
            [
             0.2222222222222222,
             "#7201a8"
            ],
            [
             0.3333333333333333,
             "#9c179e"
            ],
            [
             0.4444444444444444,
             "#bd3786"
            ],
            [
             0.5555555555555556,
             "#d8576b"
            ],
            [
             0.6666666666666666,
             "#ed7953"
            ],
            [
             0.7777777777777778,
             "#fb9f3a"
            ],
            [
             0.8888888888888888,
             "#fdca26"
            ],
            [
             1,
             "#f0f921"
            ]
           ]
          },
          "colorway": [
           "#636efa",
           "#EF553B",
           "#00cc96",
           "#ab63fa",
           "#FFA15A",
           "#19d3f3",
           "#FF6692",
           "#B6E880",
           "#FF97FF",
           "#FECB52"
          ],
          "font": {
           "color": "#2a3f5f"
          },
          "geo": {
           "bgcolor": "white",
           "lakecolor": "white",
           "landcolor": "#E5ECF6",
           "showlakes": true,
           "showland": true,
           "subunitcolor": "white"
          },
          "hoverlabel": {
           "align": "left"
          },
          "hovermode": "closest",
          "mapbox": {
           "style": "light"
          },
          "paper_bgcolor": "white",
          "plot_bgcolor": "#E5ECF6",
          "polar": {
           "angularaxis": {
            "gridcolor": "white",
            "linecolor": "white",
            "ticks": ""
           },
           "bgcolor": "#E5ECF6",
           "radialaxis": {
            "gridcolor": "white",
            "linecolor": "white",
            "ticks": ""
           }
          },
          "scene": {
           "xaxis": {
            "backgroundcolor": "#E5ECF6",
            "gridcolor": "white",
            "gridwidth": 2,
            "linecolor": "white",
            "showbackground": true,
            "ticks": "",
            "zerolinecolor": "white"
           },
           "yaxis": {
            "backgroundcolor": "#E5ECF6",
            "gridcolor": "white",
            "gridwidth": 2,
            "linecolor": "white",
            "showbackground": true,
            "ticks": "",
            "zerolinecolor": "white"
           },
           "zaxis": {
            "backgroundcolor": "#E5ECF6",
            "gridcolor": "white",
            "gridwidth": 2,
            "linecolor": "white",
            "showbackground": true,
            "ticks": "",
            "zerolinecolor": "white"
           }
          },
          "shapedefaults": {
           "line": {
            "color": "#2a3f5f"
           }
          },
          "ternary": {
           "aaxis": {
            "gridcolor": "white",
            "linecolor": "white",
            "ticks": ""
           },
           "baxis": {
            "gridcolor": "white",
            "linecolor": "white",
            "ticks": ""
           },
           "bgcolor": "#E5ECF6",
           "caxis": {
            "gridcolor": "white",
            "linecolor": "white",
            "ticks": ""
           }
          },
          "title": {
           "x": 0.05
          },
          "xaxis": {
           "automargin": true,
           "gridcolor": "white",
           "linecolor": "white",
           "ticks": "",
           "title": {
            "standoff": 15
           },
           "zerolinecolor": "white",
           "zerolinewidth": 2
          },
          "yaxis": {
           "automargin": true,
           "gridcolor": "white",
           "linecolor": "white",
           "ticks": "",
           "title": {
            "standoff": 15
           },
           "zerolinecolor": "white",
           "zerolinewidth": 2
          }
         }
        },
        "title": {
         "text": "Total Names Count by Gender with Top 3 Names"
        },
        "xaxis": {
         "tickangle": 0,
         "title": {
          "text": "Gender"
         }
        },
        "yaxis": {
         "title": {
          "text": "Total Names Count"
         }
        }
       }
      }
     },
     "metadata": {},
     "output_type": "display_data"
    }
   ],
   "source": [
    "plot_sex_distribution_with_top_names(df_char_cleaned)"
   ]
  },
  {
   "cell_type": "code",
   "execution_count": 56,
   "metadata": {},
   "outputs": [
    {
     "data": {
      "text/html": [
       "<div>\n",
       "<style scoped>\n",
       "    .dataframe tbody tr th:only-of-type {\n",
       "        vertical-align: middle;\n",
       "    }\n",
       "\n",
       "    .dataframe tbody tr th {\n",
       "        vertical-align: top;\n",
       "    }\n",
       "\n",
       "    .dataframe thead th {\n",
       "        text-align: right;\n",
       "    }\n",
       "</style>\n",
       "<table border=\"1\" class=\"dataframe\">\n",
       "  <thead>\n",
       "    <tr style=\"text-align: right;\">\n",
       "      <th></th>\n",
       "      <th>Gender</th>\n",
       "      <th>Distribution (%)</th>\n",
       "    </tr>\n",
       "  </thead>\n",
       "  <tbody>\n",
       "    <tr>\n",
       "      <th>0</th>\n",
       "      <td>F</td>\n",
       "      <td>36.770114</td>\n",
       "    </tr>\n",
       "    <tr>\n",
       "      <th>1</th>\n",
       "      <td>M</td>\n",
       "      <td>63.229886</td>\n",
       "    </tr>\n",
       "  </tbody>\n",
       "</table>\n",
       "</div>"
      ],
      "text/plain": [
       "  Gender  Distribution (%)\n",
       "0      F         36.770114\n",
       "1      M         63.229886"
      ]
     },
     "execution_count": 56,
     "metadata": {},
     "output_type": "execute_result"
    }
   ],
   "source": [
    "# Create a df with the name count per gender\n",
    "df_count_gender = df_char_cleaned.groupby('Sex')['Character_name'].count()\n",
    "\n",
    "# Create a df that show the distribution \n",
    "summary_df = pd.DataFrame({\n",
    "    'Gender': df_count_gender.index,\n",
    "    'Distribution (%)': df_count_gender.values/value_count_per_column['Sex']*100\n",
    "})\n",
    "\n",
    "summary_df.head()"
   ]
  },
  {
   "cell_type": "markdown",
   "metadata": {},
   "source": [
    "The dataset shows a slight imbalance between genders, with about half as many female entries as male. However, since there is still a substantial amount of data, this imbalance is unlikely to significantly impact the results. \n",
    "\n",
    "Additionally, according to a 2022 study by the Center for the Study of Women in Television and Film at San Diego State University, 34 % of leading characters in the top 100 popular films were women, compared to 66 % men. This supports the dataset's gender distribution as representative of broader industry trends."
   ]
  },
  {
   "cell_type": "code",
   "execution_count": 57,
   "metadata": {},
   "outputs": [
    {
     "data": {
      "application/vnd.plotly.v1+json": {
       "config": {
        "plotlyServerURL": "https://plot.ly"
       },
       "data": [
        {
         "hoverinfo": "text",
         "hovertext": [
          "Name: John<br>Count: 1306",
          "Name: George<br>Count: 621",
          "Name: Tom<br>Count: 591",
          "Name: David<br>Count: 567",
          "Name: Paul<br>Count: 532",
          "Name: James<br>Count: 513",
          "Name: Michael<br>Count: 505",
          "Name: Robert<br>Count: 451",
          "Name: Jack<br>Count: 440",
          "Name: Jim<br>Count: 428",
          "Name: Charlie<br>Count: 422",
          "Name: Richard<br>Count: 401",
          "Name: Charles<br>Count: 396",
          "Name: William<br>Count: 384",
          "Name: Sarah<br>Count: 371",
          "Name: Mary<br>Count: 338",
          "Name: Joe<br>Count: 336",
          "Name: Thomas<br>Count: 331",
          "Name: Steve<br>Count: 317",
          "Name: Frank<br>Count: 314",
          "Name: Eddie<br>Count: 307",
          "Name: Alex<br>Count: 305",
          "Name: Max<br>Count: 300",
          "Name: Helen<br>Count: 294",
          "Name: Alice<br>Count: 292",
          "Name: Sam<br>Count: 285",
          "Name: Susan<br>Count: 283",
          "Name: Johnny<br>Count: 281",
          "Name: Kate<br>Count: 269",
          "Name: Danny<br>Count: 262",
          "Name: Julie<br>Count: 260",
          "Name: Elizabeth<br>Count: 259",
          "Name: Arthur<br>Count: 259",
          "Name: Peter<br>Count: 252",
          "Name: Rachel<br>Count: 250",
          "Name: Harry<br>Count: 244",
          "Name: Bob<br>Count: 239",
          "Name: Mike<br>Count: 236",
          "Name: Lisa<br>Count: 230",
          "Name: Chris<br>Count: 229",
          "Name: Dave<br>Count: 229",
          "Name: Jimmy<br>Count: 225",
          "Name: Simon<br>Count: 220",
          "Name: Billy<br>Count: 218",
          "Name: Bill<br>Count: 214",
          "Name: Joseph<br>Count: 213",
          "Name: Anna<br>Count: 211",
          "Name: La<br>Count: 207",
          "Name: Daniel<br>Count: 207",
          "Name: Ben<br>Count: 206",
          "Name: Claire<br>Count: 205",
          "Name: Barbara<br>Count: 204",
          "Name: Karen<br>Count: 203",
          "Name: Kevin<br>Count: 201",
          "Name: Jason<br>Count: 201",
          "Name: Marie<br>Count: 200",
          "Name: Tony<br>Count: 200",
          "Name: Fred<br>Count: 199",
          "Name: Linda<br>Count: 197",
          "Name: Brian<br>Count: 196",
          "Name: Anne<br>Count: 196",
          "Name: Annie<br>Count: 196",
          "Name: Ed<br>Count: 194",
          "Name: Maria<br>Count: 193",
          "Name: Phil<br>Count: 192",
          "Name: Maggie<br>Count: 191",
          "Name: Henry<br>Count: 191",
          "Name: Adam<br>Count: 191",
          "Name: Andy<br>Count: 186",
          "Name: Guy<br>Count: 185",
          "Name: Margaret<br>Count: 184",
          "Name: Emily<br>Count: 182",
          "Name: Jones<br>Count: 176",
          "Name: Moe<br>Count: 174",
          "Name: Tim<br>Count: 174",
          "Name: Roy<br>Count: 174",
          "Name: Matt<br>Count: 173",
          "Name: Louis<br>Count: 169",
          "Name: Scott<br>Count: 167",
          "Name: Edward<br>Count: 167",
          "Name: Howard<br>Count: 165",
          "Name: Jane<br>Count: 164",
          "Name: Nick<br>Count: 164",
          "Name: Bobby<br>Count: 159",
          "Name: Mark<br>Count: 159",
          "Name: Kim<br>Count: 157",
          "Name: Laura<br>Count: 154",
          "Name: Jennifer<br>Count: 154",
          "Name: Martin<br>Count: 153",
          "Name: Ellen<br>Count: 152",
          "Name: Sara<br>Count: 151",
          "Name: Tommy<br>Count: 150",
          "Name: Charlotte<br>Count: 150",
          "Name: Angela<br>Count: 149",
          "Name: Mickey<br>Count: 148",
          "Name: Johnson<br>Count: 148",
          "Name: Lee<br>Count: 147",
          "Name: Vijay<br>Count: 146",
          "Name: Martha<br>Count: 146",
          "Name: Julia<br>Count: 146",
          "Name: Philip<br>Count: 145",
          "Name: Jerry<br>Count: 143",
          "Name: Ryan<br>Count: 143",
          "Name: Louise<br>Count: 143",
          "Name: Amy<br>Count: 142",
          "Name: Andrew<br>Count: 141",
          "Name: Gloria<br>Count: 141",
          "Name: Lucy<br>Count: 140",
          "Name: Albert<br>Count: 139",
          "Name: Pete<br>Count: 138",
          "Name: Wilson<br>Count: 137",
          "Name: Jake<br>Count: 137",
          "Name: Jessica<br>Count: 137",
          "Name: Samantha<br>Count: 136",
          "Name: Gary<br>Count: 134",
          "Name: Harold<br>Count: 133",
          "Name: Taylor<br>Count: 133",
          "Name: Amanda<br>Count: 133",
          "Name: Kelly<br>Count: 132",
          "Name: Catherine<br>Count: 132",
          "Name: Jonathan<br>Count: 131",
          "Name: Dan<br>Count: 131",
          "Name: Diane<br>Count: 131",
          "Name: Kid<br>Count: 129",
          "Name: Ray<br>Count: 128",
          "Name: Jenny<br>Count: 128",
          "Name: Anthony<br>Count: 128",
          "Name: Lou<br>Count: 127",
          "Name: Tina<br>Count: 127",
          "Name: Larry<br>Count: 126",
          "Name: Bugs<br>Count: 125",
          "Name: Jackson<br>Count: 122",
          "Name: Rose<br>Count: 122",
          "Name: Gordon<br>Count: 121",
          "Name: Sean<br>Count: 121",
          "Name: Red<br>Count: 121",
          "Name: Alexander<br>Count: 121",
          "Name: Leo<br>Count: 120",
          "Name: Karl<br>Count: 119",
          "Name: Walter<br>Count: 119",
          "Name: Sophie<br>Count: 119",
          "Name: Sergeant<br>Count: 118",
          "Name: Dennis<br>Count: 118",
          "Name: Jackie<br>Count: 117",
          "Name: Betty<br>Count: 117",
          "Name: Patrick<br>Count: 116",
          "Name: Rebecca<br>Count: 116",
          "Name: Katie<br>Count: 116",
          "Name: Donald<br>Count: 116",
          "Name: Carol<br>Count: 116",
          "Name: Sally<br>Count: 115",
          "Name: Priya<br>Count: 115",
          "Name: Wendy<br>Count: 114",
          "Name: Jill<br>Count: 114",
          "Name: Frankie<br>Count: 113",
          "Name: Joan<br>Count: 113",
          "Name: Ravi<br>Count: 113",
          "Name: Marty<br>Count: 112",
          "Name: Stanley<br>Count: 112",
          "Name: Stephen<br>Count: 112",
          "Name: Francis<br>Count: 112",
          "Name: Carl<br>Count: 112",
          "Name: Nina<br>Count: 111",
          "Name: Judy<br>Count: 111",
          "Name: Eva<br>Count: 111",
          "Name: Doug<br>Count: 111",
          "Name: Nicole<br>Count: 111",
          "Name: Carlos<br>Count: 110",
          "Name: Christine<br>Count: 110",
          "Name: Roger<br>Count: 109",
          "Name: Norman<br>Count: 108",
          "Name: Radha<br>Count: 106",
          "Name: Williams<br>Count: 106",
          "Name: Raymond<br>Count: 105",
          "Name: Connie<br>Count: 105",
          "Name: Samuel<br>Count: 105",
          "Name: Terry<br>Count: 105",
          "Name: Grace<br>Count: 105",
          "Name: King<br>Count: 105",
          "Name: Marcus<br>Count: 104",
          "Name: Ron<br>Count: 104",
          "Name: Oliver<br>Count: 104",
          "Name: Gus<br>Count: 103",
          "Name: Pierre<br>Count: 103",
          "Name: Stan<br>Count: 102",
          "Name: Michelle<br>Count: 102",
          "Name: Jacob<br>Count: 102",
          "Name: Eric<br>Count: 101",
          "Name: Davis<br>Count: 101",
          "Name: Matthew<br>Count: 101",
          "Name: Pooja<br>Count: 101",
          "Name: Diana<br>Count: 101",
          "Name: Monica<br>Count: 100",
          "Name: Nancy<br>Count: 100",
          "Name: Rita<br>Count: 99",
          "Name: Vikram<br>Count: 99",
          "Name: Sonia<br>Count: 99",
          "Name: Ivan<br>Count: 98",
          "Name: Molly<br>Count: 98",
          "Name: Cindy<br>Count: 98",
          "Name: Russell<br>Count: 97",
          "Name: Gina<br>Count: 96",
          "Name: Katherine<br>Count: 96",
          "Name: Janet<br>Count: 96",
          "Name: Jamie<br>Count: 96",
          "Name: Todd<br>Count: 96",
          "Name: Beth<br>Count: 95",
          "Name: Lily<br>Count: 95",
          "Name: Bruce<br>Count: 95",
          "Name: Greg<br>Count: 95",
          "Name: Jesse<br>Count: 94",
          "Name: Dorothy<br>Count: 94",
          "Name: Nora<br>Count: 94",
          "Name: Juan<br>Count: 94",
          "Name: Sharon<br>Count: 93",
          "Name: Ted<br>Count: 93",
          "Name: Jan<br>Count: 92",
          "Name: Hannah<br>Count: 92",
          "Name: Christopher<br>Count: 92",
          "Name: Waiter<br>Count: 92",
          "Name: Leslie<br>Count: 92",
          "Name: Liz<br>Count: 92",
          "Name: Lawrence<br>Count: 92",
          "Name: Victoria<br>Count: 91",
          "Name: Ajay<br>Count: 91",
          "Name: Ali<br>Count: 90",
          "Name: Carla<br>Count: 90",
          "Name: Jeff<br>Count: 89",
          "Name: Derek<br>Count: 89",
          "Name: Debbie<br>Count: 89",
          "Name: Tracy<br>Count: 88",
          "Name: Neil<br>Count: 88",
          "Name: Sandra<br>Count: 88",
          "Name: Anjali<br>Count: 88",
          "Name: Buddy<br>Count: 87",
          "Name: Tanya<br>Count: 87",
          "Name: Jean<br>Count: 87",
          "Name: Emma<br>Count: 87",
          "Name: Miles<br>Count: 87",
          "Name: Harris<br>Count: 87",
          "Name: Sylvia<br>Count: 87",
          "Name: Felix<br>Count: 86",
          "Name: Wayne<br>Count: 86",
          "Name: Smith<br>Count: 86",
          "Name: Luke<br>Count: 85",
          "Name: Gwen<br>Count: 85",
          "Name: Don<br>Count: 85",
          "Name: Anita<br>Count: 84",
          "Name: Paula<br>Count: 84",
          "Name: Daffy<br>Count: 84",
          "Name: Lola<br>Count: 84",
          "Name: Harvey<br>Count: 83",
          "Name: Cynthia<br>Count: 83",
          "Name: Nicholas<br>Count: 83",
          "Name: Sheila<br>Count: 83",
          "Name: Victor<br>Count: 83",
          "Name: Kenny<br>Count: 83",
          "Name: Stephanie<br>Count: 83",
          "Name: Douglas<br>Count: 83",
          "Name: Bernard<br>Count: 82",
          "Name: Nathan<br>Count: 82",
          "Name: Josh<br>Count: 82",
          "Name: Evelyn<br>Count: 82",
          "Name: Natalie<br>Count: 82",
          "Name: Ned<br>Count: 81",
          "Name: Maya<br>Count: 81",
          "Name: Mitch<br>Count: 81",
          "Name: Shankar<br>Count: 81",
          "Name: Justin<br>Count: 81",
          "Name: Craig<br>Count: 81",
          "Name: Alan<br>Count: 81",
          "Name: Ricky<br>Count: 81",
          "Name: Il<br>Count: 80",
          "Name: Maurice<br>Count: 80",
          "Name: Marshall<br>Count: 80",
          "Name: Brenda<br>Count: 80",
          "Name: Jay<br>Count: 79",
          "Name: Angel<br>Count: 79",
          "Name: Robin<br>Count: 79",
          "Name: Ashley<br>Count: 79",
          "Name: Will<br>Count: 79",
          "Name: Kyle<br>Count: 79",
          "Name: Denise<br>Count: 79",
          "Name: Vicky<br>Count: 79",
          "Name: Alfred<br>Count: 78",
          "Name: Kathy<br>Count: 78",
          "Name: Kumar<br>Count: 78",
          "Name: Al<br>Count: 78",
          "Name: Tyler<br>Count: 78",
          "Name: Patricia<br>Count: 77",
          "Name: Anderson<br>Count: 77",
          "Name: Vanessa<br>Count: 77",
          "Name: Hans<br>Count: 77",
          "Name: Ian<br>Count: 77",
          "Name: Rick<br>Count: 77",
          "Name: Casey<br>Count: 77",
          "Name: Lynn<br>Count: 76",
          "Name: Park<br>Count: 76",
          "Name: Sandy<br>Count: 75",
          "Name: Chuck<br>Count: 75",
          "Name: Antonio<br>Count: 75",
          "Name: Oscar<br>Count: 75",
          "Name: Rosa<br>Count: 75",
          "Name: Prince<br>Count: 75",
          "Name: Freddy<br>Count: 74",
          "Name: Rahul<br>Count: 74",
          "Name: Lloyd<br>Count: 74",
          "Name: Karan<br>Count: 74",
          "Name: Arnold<br>Count: 74",
          "Name: Teresa<br>Count: 73",
          "Name: Joyce<br>Count: 73",
          "Name: Barry<br>Count: 73",
          "Name: Lauren<br>Count: 73",
          "Name: Andrea<br>Count: 72",
          "Name: Leonard<br>Count: 72",
          "Name: Leon<br>Count: 72",
          "Name: Teddy<br>Count: 72",
          "Name: Jeremy<br>Count: 72",
          "Name: Mama<br>Count: 71",
          "Name: Thompson<br>Count: 71",
          "Name: Doris<br>Count: 71",
          "Name: Frau<br>Count: 71",
          "Name: Morgan<br>Count: 71",
          "Name: Allen<br>Count: 71",
          "Name: Melissa<br>Count: 71",
          "Name: Ronnie<br>Count: 71",
          "Name: Jessie<br>Count: 70",
          "Name: Randy<br>Count: 70",
          "Name: Audrey<br>Count: 70",
          "Name: Marion<br>Count: 70",
          "Name: Pamela<br>Count: 70",
          "Name: Valerie<br>Count: 70",
          "Name: Veronica<br>Count: 70",
          "Name: Becky<br>Count: 69",
          "Name: Bruno<br>Count: 69",
          "Name: Gabriel<br>Count: 69",
          "Name: Heather<br>Count: 69",
          "Name: Mitchell<br>Count: 69",
          "Name: Raju<br>Count: 68",
          "Name: Allison<br>Count: 68",
          "Name: Elena<br>Count: 68",
          "Name: Lenny<br>Count: 68",
          "Name: Girlfriend<br>Count: 68",
          "Name: Abby<br>Count: 68",
          "Name: Keith<br>Count: 68",
          "Name: Ann<br>Count: 68",
          "Name: Suzanne<br>Count: 68",
          "Name: Donna<br>Count: 68",
          "Name: Carmen<br>Count: 68",
          "Name: Rosie<br>Count: 67",
          "Name: Ernie<br>Count: 67",
          "Name: Clara<br>Count: 67",
          "Name: Megan<br>Count: 67",
          "Name: Ashok<br>Count: 67",
          "Name: Ruth<br>Count: 66",
          "Name: Eugene<br>Count: 66",
          "Name: Evans<br>Count: 65",
          "Name: Bonnie<br>Count: 65",
          "Name: Carrie<br>Count: 65",
          "Name: Lester<br>Count: 65",
          "Name: Vincent<br>Count: 65",
          "Name: Angie<br>Count: 65",
          "Name: Julian<br>Count: 65",
          "Name: Ralph<br>Count: 65",
          "Name: Chloe<br>Count: 65",
          "Name: Eve<br>Count: 65",
          "Name: Caroline<br>Count: 64",
          "Name: Abraham<br>Count: 64",
          "Name: Janice<br>Count: 64",
          "Name: Mohan<br>Count: 64",
          "Name: Olivia<br>Count: 64",
          "Name: Vince<br>Count: 64",
          "Name: Malcolm<br>Count: 64",
          "Name: Vic<br>Count: 64",
          "Name: Aaron<br>Count: 63",
          "Name: Virginia<br>Count: 63",
          "Name: Herbert<br>Count: 63",
          "Name: Willie<br>Count: 63",
          "Name: Eleanor<br>Count: 63",
          "Name: Hunter<br>Count: 63",
          "Name: Nikki<br>Count: 63",
          "Name: Santa<br>Count: 63",
          "Name: Marvin<br>Count: 63",
          "Name: Claude<br>Count: 62",
          "Name: Edgar<br>Count: 62",
          "Name: Anand<br>Count: 62",
          "Name: Brooke<br>Count: 62",
          "Name: Christian<br>Count: 62",
          "Name: Vivian<br>Count: 62",
          "Name: Ethan<br>Count: 62",
          "Name: Krishna<br>Count: 62",
          "Name: Shekhar<br>Count: 61",
          "Name: Mario<br>Count: 61",
          "Name: Shanti<br>Count: 61",
          "Name: Steven<br>Count: 61",
          "Name: Lena<br>Count: 61",
          "Name: Natasha<br>Count: 61",
          "Name: Claudia<br>Count: 61",
          "Name: Mona<br>Count: 61",
          "Name: Anton<br>Count: 60",
          "Name: Brad<br>Count: 60",
          "Name: Cathy<br>Count: 60",
          "Name: Ellie<br>Count: 60",
          "Name: Sebastian<br>Count: 60",
          "Name: Curtis<br>Count: 60",
          "Name: Dick<br>Count: 60",
          "Name: Wallace<br>Count: 60",
          "Name: Ram<br>Count: 60",
          "Name: Adams<br>Count: 59",
          "Name: Polly<br>Count: 59",
          "Name: Olga<br>Count: 58",
          "Name: Ken<br>Count: 58",
          "Name: Prem<br>Count: 58",
          "Name: Joey<br>Count: 58",
          "Name: Miguel<br>Count: 58",
          "Name: Nigel<br>Count: 58",
          "Name: Duke<br>Count: 58",
          "Name: Mac<br>Count: 58",
          "Name: Herman<br>Count: 57",
          "Name: Zoe<br>Count: 57",
          "Name: Stella<br>Count: 57",
          "Name: Wolf<br>Count: 57",
          "Name: Mayor<br>Count: 57",
          "Name: Gail<br>Count: 57",
          "Name: Watson<br>Count: 57",
          "Name: Kenneth<br>Count: 56",
          "Name: Hank<br>Count: 56",
          "Name: Lucas<br>Count: 56",
          "Name: Bernie<br>Count: 56",
          "Name: Gregory<br>Count: 56",
          "Name: Miranda<br>Count: 56",
          "Name: Noah<br>Count: 56",
          "Name: Elliot<br>Count: 56",
          "Name: Geeta<br>Count: 56",
          "Name: Winston<br>Count: 56",
          "Name: Shirley<br>Count: 56",
          "Name: Hal<br>Count: 56",
          "Name: Randall<br>Count: 55",
          "Name: Laurie<br>Count: 55",
          "Name: Seema<br>Count: 55",
          "Name: Daisy<br>Count: 55",
          "Name: Sue<br>Count: 55",
          "Name: Jai<br>Count: 55",
          "Name: Owen<br>Count: 55",
          "Name: Nisha<br>Count: 55",
          "Name: Boris<br>Count: 55",
          "Name: Holly<br>Count: 55",
          "Name: Sid<br>Count: 54",
          "Name: Phillip<br>Count: 54",
          "Name: Henri<br>Count: 54",
          "Name: Frances<br>Count: 54",
          "Name: Hugo<br>Count: 54",
          "Name: Ronald<br>Count: 54",
          "Name: Cheryl<br>Count: 54",
          "Name: Earl<br>Count: 54",
          "Name: Sapna<br>Count: 54",
          "Name: Bert<br>Count: 54",
          "Name: Alicia<br>Count: 54",
          "Name: Lakshmi<br>Count: 53",
          "Name: Sullivan<br>Count: 53",
          "Name: Butler<br>Count: 53",
          "Name: April<br>Count: 53",
          "Name: Joanna<br>Count: 53",
          "Name: Cameron<br>Count: 53",
          "Name: Shyam<br>Count: 53",
          "Name: Ernest<br>Count: 53",
          "Name: Lydia<br>Count: 53",
          "Name: Son<br>Count: 53",
          "Name: Jesus<br>Count: 52",
          "Name: Roberts<br>Count: 52",
          "Name: Judith<br>Count: 52",
          "Name: Dana<br>Count: 52",
          "Name: Freddie<br>Count: 52",
          "Name: Marianne<br>Count: 52",
          "Name: Duncan<br>Count: 52",
          "Name: Suraj<br>Count: 52",
          "Name: Carson<br>Count: 52",
          "Name: Kitty<br>Count: 52",
          "Name: Kapoor<br>Count: 52",
          "Name: Jacques<br>Count: 52",
          "Name: Rudy<br>Count: 52",
          "Name: Asha<br>Count: 52",
          "Name: Lillian<br>Count: 51",
          "Name: Rocky<br>Count: 51",
          "Name: Dean<br>Count: 51",
          "Name: Frederick<br>Count: 51",
          "Name: Lewis<br>Count: 51",
          "Name: Calvin<br>Count: 51",
          "Name: Esther<br>Count: 51",
          "Name: Pat<br>Count: 51",
          "Name: Susie<br>Count: 51",
          "Name: Andre<br>Count: 50",
          "Name: Von<br>Count: 50",
          "Name: Sidney<br>Count: 50",
          "Name: Isabel<br>Count: 50",
          "Name: Harrison<br>Count: 50",
          "Name: Gerald<br>Count: 50",
          "Name: Agnes<br>Count: 50",
          "Name: Clyde<br>Count: 50",
          "Name: Dylan<br>Count: 50",
          "Name: Joel<br>Count: 50",
          "Name: Sasha<br>Count: 50",
          "Name: Hugh<br>Count: 50",
          "Name: Luther<br>Count: 50",
          "Name: Major<br>Count: 50",
          "Name: Bennett<br>Count: 49",
          "Name: Theresa<br>Count: 49",
          "Name: Ruby<br>Count: 49",
          "Name: Percy<br>Count: 49",
          "Name: Beatrice<br>Count: 49",
          "Name: Stuart<br>Count: 49",
          "Name: Wanda<br>Count: 49",
          "Name: Mandy<br>Count: 49",
          "Name: Fan<br>Count: 49",
          "Name: Penny<br>Count: 49",
          "Name: Jose<br>Count: 49",
          "Name: Angelo<br>Count: 49",
          "Name: Der<br>Count: 48",
          "Name: Fiona<br>Count: 48",
          "Name: Malhotra<br>Count: 48",
          "Name: Hamilton<br>Count: 48",
          "Name: Jo<br>Count: 48",
          "Name: Rob<br>Count: 48",
          "Name: Mia<br>Count: 48",
          "Name: Franz<br>Count: 48",
          "Name: Irene<br>Count: 48",
          "Name: Chen<br>Count: 48",
          "Name: Kurt<br>Count: 48",
          "Name: Miriam<br>Count: 48",
          "Name: Mabel<br>Count: 47",
          "Name: Isabelle<br>Count: 47",
          "Name: Candy<br>Count: 47",
          "Name: Melanie<br>Count: 47",
          "Name: Gopal<br>Count: 47",
          "Name: François<br>Count: 47",
          "Name: Meena<br>Count: 47",
          "Name: Yvonne<br>Count: 47",
          "Name: Richie<br>Count: 47",
          "Name: Peggy<br>Count: 47",
          "Name: Murphy<br>Count: 47",
          "Name: Constance<br>Count: 47",
          "Name: Adrian<br>Count: 47",
          "Name: Antoine<br>Count: 47",
          "Name: Omar<br>Count: 47",
          "Name: Phyllis<br>Count: 47",
          "Name: Porter<br>Count: 47",
          "Name: Lois<br>Count: 47",
          "Name: Philippe<br>Count: 47",
          "Name: Preston<br>Count: 47",
          "Name: Raj<br>Count: 47",
          "Name: Woody<br>Count: 46",
          "Name: Campbell<br>Count: 46",
          "Name: Lucky<br>Count: 46",
          "Name: Erica<br>Count: 46",
          "Name: Helena<br>Count: 46",
          "Name: Harriet<br>Count: 46",
          "Name: Iris<br>Count: 46",
          "Name: Edith<br>Count: 46",
          "Name: Bear<br>Count: 46",
          "Name: Rani<br>Count: 46",
          "Name: Lilly<br>Count: 46",
          "Name: Simone<br>Count: 46",
          "Name: Jeanne<br>Count: 46",
          "Name: Jeffrey<br>Count: 46",
          "Name: Zack<br>Count: 46",
          "Name: Trevor<br>Count: 46",
          "Name: Maureen<br>Count: 45",
          "Name: Dolores<br>Count: 45",
          "Name: Moore<br>Count: 45",
          "Name: Patty<br>Count: 45",
          "Name: Stevens<br>Count: 45",
          "Name: Rajesh<br>Count: 45",
          "Name: Tara<br>Count: 45",
          "Name: Rogers<br>Count: 45",
          "Name: Roland<br>Count: 45",
          "Name: Manuel<br>Count: 45",
          "Name: Carlo<br>Count: 45",
          "Name: Barney<br>Count: 45",
          "Name: Madeleine<br>Count: 45",
          "Name: Mimi<br>Count: 45",
          "Name: Marilyn<br>Count: 45",
          "Name: Amber<br>Count: 45",
          "Name: Brandon<br>Count: 44",
          "Name: Vernon<br>Count: 44",
          "Name: Kathleen<br>Count: 44",
          "Name: Sadie<br>Count: 44",
          "Name: Julius<br>Count: 44",
          "Name: Christmas<br>Count: 44",
          "Name: Daphne<br>Count: 44",
          "Name: Mme<br>Count: 44",
          "Name: Luis<br>Count: 44",
          "Name: Holmes<br>Count: 44",
          "Name: Parvati<br>Count: 44",
          "Name: Colin<br>Count: 44",
          "Name: Warden<br>Count: 44",
          "Name: Stewart<br>Count: 44",
          "Name: Elmer<br>Count: 43",
          "Name: Alexandra<br>Count: 43",
          "Name: Celia<br>Count: 43",
          "Name: Cat<br>Count: 43",
          "Name: Pauline<br>Count: 43",
          "Name: Charley<br>Count: 43",
          "Name: Meg<br>Count: 43",
          "Name: Carter<br>Count: 43",
          "Name: French<br>Count: 43",
          "Name: Seth<br>Count: 43",
          "Name: Benny<br>Count: 43",
          "Name: Boyfriend<br>Count: 43",
          "Name: Deborah<br>Count: 43",
          "Name: Evan<br>Count: 43",
          "Name: Clarence<br>Count: 43",
          "Name: Hector<br>Count: 43",
          "Name: Joshua<br>Count: 43",
          "Name: Elsa<br>Count: 43",
          "Name: Eli<br>Count: 43",
          "Name: Theodore<br>Count: 42",
          "Name: Riley<br>Count: 42",
          "Name: June<br>Count: 42",
          "Name: Prakash<br>Count: 42",
          "Name: Jonas<br>Count: 42",
          "Name: Virgil<br>Count: 42",
          "Name: Carolyn<br>Count: 42",
          "Name: Abdul<br>Count: 42",
          "Name: Madhu<br>Count: 42",
          "Name: Gauri<br>Count: 42",
          "Name: Sanjay<br>Count: 42",
          "Name: Floyd<br>Count: 42",
          "Name: Marjorie<br>Count: 42",
          "Name: Beverly<br>Count: 42",
          "Name: Murray<br>Count: 42",
          "Name: Lance<br>Count: 42",
          "Name: Phillips<br>Count: 42",
          "Name: Ella<br>Count: 42",
          "Name: Laxmi<br>Count: 42",
          "Name: Sammy<br>Count: 42",
          "Name: Eileen<br>Count: 41",
          "Name: Toby<br>Count: 41",
          "Name: Elaine<br>Count: 41",
          "Name: Jordan<br>Count: 41",
          "Name: Tiffany<br>Count: 41",
          "Name: Han<br>Count: 41",
          "Name: Reggie<br>Count: 41",
          "Name: Nandini<br>Count: 41",
          "Name: Nelson<br>Count: 41",
          "Name: Jules<br>Count: 41",
          "Name: Pratap<br>Count: 41",
          "Name: Kiran<br>Count: 41",
          "Name: Danielle<br>Count: 41",
          "Name: Ramesh<br>Count: 41",
          "Name: Stacy<br>Count: 41",
          "Name: Robinson<br>Count: 41",
          "Name: Pedro<br>Count: 41",
          "Name: Logan<br>Count: 41",
          "Name: Fanny<br>Count: 41",
          "Name: Graham<br>Count: 41",
          "Name: Bridget<br>Count: 41",
          "Name: Michel<br>Count: 40",
          "Name: Neha<br>Count: 40",
          "Name: Deepak<br>Count: 40",
          "Name: Archie<br>Count: 40",
          "Name: Isabella<br>Count: 40",
          "Name: Quinn<br>Count: 40",
          "Name: Raoul<br>Count: 40",
          "Name: Arun<br>Count: 40",
          "Name: Art<br>Count: 40",
          "Name: Jenkins<br>Count: 40",
          "Name: Courtney<br>Count: 40",
          "Name: Trish<br>Count: 40",
          "Name: Betsy<br>Count: 40",
          "Name: Penelope<br>Count: 40",
          "Name: Darcy<br>Count: 40",
          "Name: Rohit<br>Count: 40",
          "Name: Blake<br>Count: 40",
          "Name: Brady<br>Count: 39",
          "Name: Troy<br>Count: 39",
          "Name: Vera<br>Count: 39",
          "Name: Benson<br>Count: 39",
          "Name: Sonny<br>Count: 39",
          "Name: Sandhya<br>Count: 39",
          "Name: Parker<br>Count: 39",
          "Name: Mason<br>Count: 39",
          "Name: Bud<br>Count: 39",
          "Name: Robbie<br>Count: 39",
          "Name: Sylvester<br>Count: 39",
          "Name: Darren<br>Count: 38",
          "Name: Gertrude<br>Count: 38",
          "Name: Travis<br>Count: 38",
          "Name: Dracula<br>Count: 38",
          "Name: Clayton<br>Count: 38",
          "Name: Edna<br>Count: 38",
          "Name: Ingrid<br>Count: 38",
          "Name: Benjamin<br>Count: 38",
          "Name: Shane<br>Count: 38",
          "Name: Doyle<br>Count: 38",
          "Name: Voices<br>Count: 38",
          "Name: Bart<br>Count: 38",
          "Name: Sharma<br>Count: 38",
          "Name: Del<br>Count: 38",
          "Name: Brooks<br>Count: 38",
          "Name: Wyatt<br>Count: 38",
          "Name: Christina<br>Count: 38",
          "Name: Isaac<br>Count: 38",
          "Name: Jorge<br>Count: 38",
          "Name: Cooper<br>Count: 37",
          "Name: Joy<br>Count: 37",
          "Name: Vinod<br>Count: 37",
          "Name: Aarti<br>Count: 37",
          "Name: Nate<br>Count: 37",
          "Name: Stu<br>Count: 37",
          "Name: Dora<br>Count: 37",
          "Name: Billie<br>Count: 37",
          "Name: Pam<br>Count: 37",
          "Name: Barnes<br>Count: 37",
          "Name: Lyle<br>Count: 37",
          "Name: Hayes<br>Count: 37",
          "Name: Ida<br>Count: 37",
          "Name: Leah<br>Count: 37",
          "Name: Horace<br>Count: 37",
          "Name: Violet<br>Count: 37",
          "Name: Cody<br>Count: 37",
          "Name: Aditya<br>Count: 37",
          "Name: May<br>Count: 37",
          "Name: Gladys<br>Count: 36",
          "Name: Hudson<br>Count: 36",
          "Name: Greta<br>Count: 36",
          "Name: Dominic<br>Count: 36",
          "Name: Rhonda<br>Count: 36",
          "Name: Camille<br>Count: 36",
          "Name: Annette<br>Count: 36",
          "Name: Lila<br>Count: 36",
          "Name: Roberto<br>Count: 36",
          "Name: Dale<br>Count: 36",
          "Name: Fox<br>Count: 36",
          "Name: Vicki<br>Count: 36",
          "Name: Lucille<br>Count: 36",
          "Name: Kane<br>Count: 36",
          "Name: Trent<br>Count: 36",
          "Name: Sameer<br>Count: 36",
          "Name: Conrad<br>Count: 36",
          "Name: Madison<br>Count: 36",
          "Name: Shiva<br>Count: 36",
          "Name: Nolan<br>Count: 36",
          "Name: Luigi<br>Count: 36",
          "Name: Rex<br>Count: 35",
          "Name: Wells<br>Count: 35",
          "Name: Ahmed<br>Count: 35",
          "Name: Raghu<br>Count: 35",
          "Name: Sofia<br>Count: 35",
          "Name: Sunil<br>Count: 35",
          "Name: Rupert<br>Count: 35",
          "Name: Chandra<br>Count: 35",
          "Name: Georgia<br>Count: 35",
          "Name: Peterson<br>Count: 35",
          "Name: Joanne<br>Count: 35",
          "Name: Biker<br>Count: 35",
          "Name: Diego<br>Count: 35",
          "Name: Stanton<br>Count: 35",
          "Name: Rekha<br>Count: 35",
          "Name: Jamal<br>Count: 35",
          "Name: Devi<br>Count: 35",
          "Name: Bride<br>Count: 35",
          "Name: Bradley<br>Count: 35",
          "Name: Toni<br>Count: 35",
          "Name: Henderson<br>Count: 35",
          "Name: Clark<br>Count: 35",
          "Name: Fran<br>Count: 35",
          "Name: Herr<br>Count: 35",
          "Name: Fritz<br>Count: 35",
          "Name: Sydney<br>Count: 35",
          "Name: Stefan<br>Count: 35",
          "Name: Blanche<br>Count: 34",
          "Name: Franklin<br>Count: 34",
          "Name: Jerome<br>Count: 34",
          "Name: Erik<br>Count: 34",
          "Name: Wally<br>Count: 34",
          "Name: Glenn<br>Count: 34",
          "Name: Wade<br>Count: 34",
          "Name: Naomi<br>Count: 34",
          "Name: Meredith<br>Count: 34",
          "Name: Meenakshi<br>Count: 34",
          "Name: Van<br>Count: 34",
          "Name: Ana<br>Count: 34",
          "Name: Cole<br>Count: 34",
          "Name: Margo<br>Count: 34",
          "Name: Walker<br>Count: 34",
          "Name: Choi<br>Count: 34",
          "Name: Burns<br>Count: 34",
          "Name: Gil<br>Count: 34",
          "Name: Dolly<br>Count: 34",
          "Name: Yu<br>Count: 33",
          "Name: Grant<br>Count: 33",
          "Name: Montgomery<br>Count: 33",
          "Name: Lorraine<br>Count: 33",
          "Name: Elisabeth<br>Count: 33",
          "Name: Louie<br>Count: 33",
          "Name: Marcia<br>Count: 33",
          "Name: Crawford<br>Count: 33",
          "Name: Marta<br>Count: 33",
          "Name: Kamini<br>Count: 33",
          "Name: Kay<br>Count: 33",
          "Name: Marco<br>Count: 33",
          "Name: Millie<br>Count: 33",
          "Name: Warren<br>Count: 33",
          "Name: Buck<br>Count: 33",
          "Name: Geoffrey<br>Count: 33",
          "Name: Javier<br>Count: 33",
          "Name: Igor<br>Count: 33",
          "Name: Jensen<br>Count: 33",
          "Name: Finn<br>Count: 33",
          "Name: Meera<br>Count: 33",
          "Name: Morris<br>Count: 33",
          "Name: Roberta<br>Count: 33",
          "Name: Moses<br>Count: 33",
          "Name: Verma<br>Count: 33",
          "Name: Austin<br>Count: 33",
          "Name: Gypsy<br>Count: 33",
          "Name: Renee<br>Count: 32",
          "Name: Saxena<br>Count: 32",
          "Name: Quentin<br>Count: 32",
          "Name: Reynolds<br>Count: 32",
          "Name: Sal<br>Count: 32",
          "Name: Savitri<br>Count: 32",
          "Name: Mildred<br>Count: 32",
          "Name: Alison<br>Count: 32",
          "Name: Rico<br>Count: 32",
          "Name: Preeti<br>Count: 32",
          "Name: Ross<br>Count: 32",
          "Name: Divya<br>Count: 32",
          "Name: Anu<br>Count: 32",
          "Name: Regina<br>Count: 32",
          "Name: Briggs<br>Count: 32",
          "Name: Dwight<br>Count: 32",
          "Name: Nicky<br>Count: 32",
          "Name: Milton<br>Count: 32",
          "Name: Georgie<br>Count: 32",
          "Name: Ellis<br>Count: 32",
          "Name: Siddharth<br>Count: 32",
          "Name: Dee<br>Count: 32",
          "Name: Ajit<br>Count: 32",
          "Name: Francesca<br>Count: 32",
          "Name: Hari<br>Count: 32",
          "Name: Suzie<br>Count: 32",
          "Name: Sherman<br>Count: 32",
          "Name: Wesley<br>Count: 32",
          "Name: Agatha<br>Count: 31",
          "Name: Tess<br>Count: 31",
          "Name: Lara<br>Count: 31",
          "Name: Fernando<br>Count: 31",
          "Name: Spencer<br>Count: 31",
          "Name: Alberto<br>Count: 31",
          "Name: Tarzan<br>Count: 31",
          "Name: Gabrielle<br>Count: 31",
          "Name: Ira<br>Count: 31",
          "Name: Damien<br>Count: 31",
          "Name: Alexis<br>Count: 31",
          "Name: Bunny<br>Count: 31",
          "Name: Gilbert<br>Count: 31",
          "Name: Dante<br>Count: 31",
          "Name: Yuri<br>Count: 31",
          "Name: Roman<br>Count: 31",
          "Name: Monty<br>Count: 31",
          "Name: Angus<br>Count: 31",
          "Name: Harlan<br>Count: 31",
          "Name: Butch<br>Count: 31",
          "Name: Jen<br>Count: 31",
          "Name: Elise<br>Count: 31",
          "Name: Nadia<br>Count: 31",
          "Name: Serena<br>Count: 31",
          "Name: Jared<br>Count: 31",
          "Name: Theo<br>Count: 31",
          "Name: Randolph<br>Count: 31",
          "Name: Rai<br>Count: 31",
          "Name: Wes<br>Count: 31",
          "Name: Otto<br>Count: 31",
          "Name: Shelly<br>Count: 31",
          "Name: Matthews<br>Count: 31",
          "Name: Cecil<br>Count: 30",
          "Name: Gopi<br>Count: 30",
          "Name: Romeo<br>Count: 30",
          "Name: Alvin<br>Count: 30",
          "Name: Chan<br>Count: 30",
          "Name: Amos<br>Count: 30",
          "Name: Khanna<br>Count: 30",
          "Name: Simpson<br>Count: 30",
          "Name: Abel<br>Count: 30",
          "Name: Janine<br>Count: 30",
          "Name: Kirby<br>Count: 30",
          "Name: Rama<br>Count: 30",
          "Name: Madge<br>Count: 30",
          "Name: Margot<br>Count: 30",
          "Name: Stevie<br>Count: 30",
          "Name: Mala<br>Count: 30",
          "Name: Morton<br>Count: 30",
          "Name: Artie<br>Count: 30",
          "Name: Timmy<br>Count: 30",
          "Name: Josef<br>Count: 30",
          "Name: Flynn<br>Count: 30",
          "Name: Francisco<br>Count: 30",
          "Name: Manu<br>Count: 30",
          "Name: Cassandra<br>Count: 30",
          "Name: Cookie<br>Count: 30",
          "Name: Roopa<br>Count: 30",
          "Name: Wu<br>Count: 30",
          "Name: Shannon<br>Count: 30",
          "Name: Willis<br>Count: 30",
          "Name: Monique<br>Count: 30",
          "Name: Wang<br>Count: 30",
          "Name: Bates<br>Count: 30",
          "Name: Belle<br>Count: 30",
          "Name: Werner<br>Count: 30",
          "Name: Havaldar<br>Count: 30",
          "Name: Perry<br>Count: 30",
          "Name: Gretchen<br>Count: 30",
          "Name: Sanjana<br>Count: 30",
          "Name: Adele<br>Count: 30",
          "Name: Connor<br>Count: 30",
          "Name: Nadine<br>Count: 30",
          "Name: Peters<br>Count: 29",
          "Name: Rene<br>Count: 29",
          "Name: Vishal<br>Count: 29",
          "Name: Monroe<br>Count: 29",
          "Name: Powell<br>Count: 29",
          "Name: Manny<br>Count: 29",
          "Name: English<br>Count: 29",
          "Name: Bella<br>Count: 29",
          "Name: Marian<br>Count: 29",
          "Name: Jennings<br>Count: 29",
          "Name: Vinnie<br>Count: 29",
          "Name: Klaus<br>Count: 29",
          "Name: Sunita<br>Count: 29",
          "Name: Gerry<br>Count: 29",
          "Name: Pearl<br>Count: 29",
          "Name: Rich<br>Count: 29",
          "Name: Emmett<br>Count: 29",
          "Name: Mikey<br>Count: 29",
          "Name: Durga<br>Count: 29",
          "Name: Dawn<br>Count: 29",
          "Name: Chad<br>Count: 29",
          "Name: Gavin<br>Count: 29",
          "Name: Salim<br>Count: 29",
          "Name: Edwards<br>Count: 29",
          "Name: Dwayne<br>Count: 29",
          "Name: Jasmine<br>Count: 29",
          "Name: Mallory<br>Count: 29",
          "Name: Stacey<br>Count: 29",
          "Name: Suman<br>Count: 28",
          "Name: Erin<br>Count: 28",
          "Name: Bishop<br>Count: 28",
          "Name: Banks<br>Count: 28",
          "Name: Gupta<br>Count: 28",
          "Name: Juliet<br>Count: 28",
          "Name: Jon<br>Count: 28",
          "Name: Andrews<br>Count: 28",
          "Name: Spike<br>Count: 28",
          "Name: Kimberly<br>Count: 28",
          "Name: Perkins<br>Count: 28",
          "Name: Mahesh<br>Count: 28",
          "Name: Edwin<br>Count: 28",
          "Name: Bryan<br>Count: 28",
          "Name: Juliette<br>Count: 28",
          "Name: Jasper<br>Count: 28",
          "Name: Marcel<br>Count: 28",
          "Name: Lincoln<br>Count: 28",
          "Name: Turner<br>Count: 28",
          "Name: Sherry<br>Count: 28",
          "Name: Star<br>Count: 28",
          "Name: Darryl<br>Count: 28",
          "Name: Kennedy<br>Count: 28",
          "Name: Trudy<br>Count: 28",
          "Name: Milo<br>Count: 28",
          "Name: Georges<br>Count: 28",
          "Name: Morrison<br>Count: 28",
          "Name: Roxanne<br>Count: 28",
          "Name: Bailey<br>Count: 28",
          "Name: Clifford<br>Count: 28",
          "Name: Chelsea<br>Count: 28",
          "Name: Hélène<br>Count: 28",
          "Name: Shobha<br>Count: 28",
          "Name: Norma<br>Count: 27",
          "Name: Lorna<br>Count: 27",
          "Name: Melvin<br>Count: 27",
          "Name: Rusty<br>Count: 27",
          "Name: Eliza<br>Count: 27",
          "Name: Suzy<br>Count: 27",
          "Name: Simmons<br>Count: 27",
          "Name: Donny<br>Count: 27",
          "Name: Ricardo<br>Count: 27",
          "Name: Lala<br>Count: 27",
          "Name: Chet<br>Count: 27",
          "Name: Ginger<br>Count: 27",
          "Name: Rajiv<br>Count: 27",
          "Name: Alma<br>Count: 27",
          "Name: Tammy<br>Count: 27",
          "Name: Robby<br>Count: 27",
          "Name: Donnie<br>Count: 27",
          "Name: Willy<br>Count: 27",
          "Name: Burke<br>Count: 27",
          "Name: Jess<br>Count: 27",
          "Name: Muriel<br>Count: 27",
          "Name: Belinda<br>Count: 27"
         ],
         "line": {
          "color": "skyblue"
         },
         "mode": "lines+markers",
         "name": "Character Count",
         "type": "scatter",
         "x": [
          "John",
          "George",
          "Tom",
          "David",
          "Paul",
          "James",
          "Michael",
          "Robert",
          "Jack",
          "Jim",
          "Charlie",
          "Richard",
          "Charles",
          "William",
          "Sarah",
          "Mary",
          "Joe",
          "Thomas",
          "Steve",
          "Frank",
          "Eddie",
          "Alex",
          "Max",
          "Helen",
          "Alice",
          "Sam",
          "Susan",
          "Johnny",
          "Kate",
          "Danny",
          "Julie",
          "Elizabeth",
          "Arthur",
          "Peter",
          "Rachel",
          "Harry",
          "Bob",
          "Mike",
          "Lisa",
          "Chris",
          "Dave",
          "Jimmy",
          "Simon",
          "Billy",
          "Bill",
          "Joseph",
          "Anna",
          "La",
          "Daniel",
          "Ben",
          "Claire",
          "Barbara",
          "Karen",
          "Kevin",
          "Jason",
          "Marie",
          "Tony",
          "Fred",
          "Linda",
          "Brian",
          "Anne",
          "Annie",
          "Ed",
          "Maria",
          "Phil",
          "Maggie",
          "Henry",
          "Adam",
          "Andy",
          "Guy",
          "Margaret",
          "Emily",
          "Jones",
          "Moe",
          "Tim",
          "Roy",
          "Matt",
          "Louis",
          "Scott",
          "Edward",
          "Howard",
          "Jane",
          "Nick",
          "Bobby",
          "Mark",
          "Kim",
          "Laura",
          "Jennifer",
          "Martin",
          "Ellen",
          "Sara",
          "Tommy",
          "Charlotte",
          "Angela",
          "Mickey",
          "Johnson",
          "Lee",
          "Vijay",
          "Martha",
          "Julia",
          "Philip",
          "Jerry",
          "Ryan",
          "Louise",
          "Amy",
          "Andrew",
          "Gloria",
          "Lucy",
          "Albert",
          "Pete",
          "Wilson",
          "Jake",
          "Jessica",
          "Samantha",
          "Gary",
          "Harold",
          "Taylor",
          "Amanda",
          "Kelly",
          "Catherine",
          "Jonathan",
          "Dan",
          "Diane",
          "Kid",
          "Ray",
          "Jenny",
          "Anthony",
          "Lou",
          "Tina",
          "Larry",
          "Bugs",
          "Jackson",
          "Rose",
          "Gordon",
          "Sean",
          "Red",
          "Alexander",
          "Leo",
          "Karl",
          "Walter",
          "Sophie",
          "Sergeant",
          "Dennis",
          "Jackie",
          "Betty",
          "Patrick",
          "Rebecca",
          "Katie",
          "Donald",
          "Carol",
          "Sally",
          "Priya",
          "Wendy",
          "Jill",
          "Frankie",
          "Joan",
          "Ravi",
          "Marty",
          "Stanley",
          "Stephen",
          "Francis",
          "Carl",
          "Nina",
          "Judy",
          "Eva",
          "Doug",
          "Nicole",
          "Carlos",
          "Christine",
          "Roger",
          "Norman",
          "Radha",
          "Williams",
          "Raymond",
          "Connie",
          "Samuel",
          "Terry",
          "Grace",
          "King",
          "Marcus",
          "Ron",
          "Oliver",
          "Gus",
          "Pierre",
          "Stan",
          "Michelle",
          "Jacob",
          "Eric",
          "Davis",
          "Matthew",
          "Pooja",
          "Diana",
          "Monica",
          "Nancy",
          "Rita",
          "Vikram",
          "Sonia",
          "Ivan",
          "Molly",
          "Cindy",
          "Russell",
          "Gina",
          "Katherine",
          "Janet",
          "Jamie",
          "Todd",
          "Beth",
          "Lily",
          "Bruce",
          "Greg",
          "Jesse",
          "Dorothy",
          "Nora",
          "Juan",
          "Sharon",
          "Ted",
          "Jan",
          "Hannah",
          "Christopher",
          "Waiter",
          "Leslie",
          "Liz",
          "Lawrence",
          "Victoria",
          "Ajay",
          "Ali",
          "Carla",
          "Jeff",
          "Derek",
          "Debbie",
          "Tracy",
          "Neil",
          "Sandra",
          "Anjali",
          "Buddy",
          "Tanya",
          "Jean",
          "Emma",
          "Miles",
          "Harris",
          "Sylvia",
          "Felix",
          "Wayne",
          "Smith",
          "Luke",
          "Gwen",
          "Don",
          "Anita",
          "Paula",
          "Daffy",
          "Lola",
          "Harvey",
          "Cynthia",
          "Nicholas",
          "Sheila",
          "Victor",
          "Kenny",
          "Stephanie",
          "Douglas",
          "Bernard",
          "Nathan",
          "Josh",
          "Evelyn",
          "Natalie",
          "Ned",
          "Maya",
          "Mitch",
          "Shankar",
          "Justin",
          "Craig",
          "Alan",
          "Ricky",
          "Il",
          "Maurice",
          "Marshall",
          "Brenda",
          "Jay",
          "Angel",
          "Robin",
          "Ashley",
          "Will",
          "Kyle",
          "Denise",
          "Vicky",
          "Alfred",
          "Kathy",
          "Kumar",
          "Al",
          "Tyler",
          "Patricia",
          "Anderson",
          "Vanessa",
          "Hans",
          "Ian",
          "Rick",
          "Casey",
          "Lynn",
          "Park",
          "Sandy",
          "Chuck",
          "Antonio",
          "Oscar",
          "Rosa",
          "Prince",
          "Freddy",
          "Rahul",
          "Lloyd",
          "Karan",
          "Arnold",
          "Teresa",
          "Joyce",
          "Barry",
          "Lauren",
          "Andrea",
          "Leonard",
          "Leon",
          "Teddy",
          "Jeremy",
          "Mama",
          "Thompson",
          "Doris",
          "Frau",
          "Morgan",
          "Allen",
          "Melissa",
          "Ronnie",
          "Jessie",
          "Randy",
          "Audrey",
          "Marion",
          "Pamela",
          "Valerie",
          "Veronica",
          "Becky",
          "Bruno",
          "Gabriel",
          "Heather",
          "Mitchell",
          "Raju",
          "Allison",
          "Elena",
          "Lenny",
          "Girlfriend",
          "Abby",
          "Keith",
          "Ann",
          "Suzanne",
          "Donna",
          "Carmen",
          "Rosie",
          "Ernie",
          "Clara",
          "Megan",
          "Ashok",
          "Ruth",
          "Eugene",
          "Evans",
          "Bonnie",
          "Carrie",
          "Lester",
          "Vincent",
          "Angie",
          "Julian",
          "Ralph",
          "Chloe",
          "Eve",
          "Caroline",
          "Abraham",
          "Janice",
          "Mohan",
          "Olivia",
          "Vince",
          "Malcolm",
          "Vic",
          "Aaron",
          "Virginia",
          "Herbert",
          "Willie",
          "Eleanor",
          "Hunter",
          "Nikki",
          "Santa",
          "Marvin",
          "Claude",
          "Edgar",
          "Anand",
          "Brooke",
          "Christian",
          "Vivian",
          "Ethan",
          "Krishna",
          "Shekhar",
          "Mario",
          "Shanti",
          "Steven",
          "Lena",
          "Natasha",
          "Claudia",
          "Mona",
          "Anton",
          "Brad",
          "Cathy",
          "Ellie",
          "Sebastian",
          "Curtis",
          "Dick",
          "Wallace",
          "Ram",
          "Adams",
          "Polly",
          "Olga",
          "Ken",
          "Prem",
          "Joey",
          "Miguel",
          "Nigel",
          "Duke",
          "Mac",
          "Herman",
          "Zoe",
          "Stella",
          "Wolf",
          "Mayor",
          "Gail",
          "Watson",
          "Kenneth",
          "Hank",
          "Lucas",
          "Bernie",
          "Gregory",
          "Miranda",
          "Noah",
          "Elliot",
          "Geeta",
          "Winston",
          "Shirley",
          "Hal",
          "Randall",
          "Laurie",
          "Seema",
          "Daisy",
          "Sue",
          "Jai",
          "Owen",
          "Nisha",
          "Boris",
          "Holly",
          "Sid",
          "Phillip",
          "Henri",
          "Frances",
          "Hugo",
          "Ronald",
          "Cheryl",
          "Earl",
          "Sapna",
          "Bert",
          "Alicia",
          "Lakshmi",
          "Sullivan",
          "Butler",
          "April",
          "Joanna",
          "Cameron",
          "Shyam",
          "Ernest",
          "Lydia",
          "Son",
          "Jesus",
          "Roberts",
          "Judith",
          "Dana",
          "Freddie",
          "Marianne",
          "Duncan",
          "Suraj",
          "Carson",
          "Kitty",
          "Kapoor",
          "Jacques",
          "Rudy",
          "Asha",
          "Lillian",
          "Rocky",
          "Dean",
          "Frederick",
          "Lewis",
          "Calvin",
          "Esther",
          "Pat",
          "Susie",
          "Andre",
          "Von",
          "Sidney",
          "Isabel",
          "Harrison",
          "Gerald",
          "Agnes",
          "Clyde",
          "Dylan",
          "Joel",
          "Sasha",
          "Hugh",
          "Luther",
          "Major",
          "Bennett",
          "Theresa",
          "Ruby",
          "Percy",
          "Beatrice",
          "Stuart",
          "Wanda",
          "Mandy",
          "Fan",
          "Penny",
          "Jose",
          "Angelo",
          "Der",
          "Fiona",
          "Malhotra",
          "Hamilton",
          "Jo",
          "Rob",
          "Mia",
          "Franz",
          "Irene",
          "Chen",
          "Kurt",
          "Miriam",
          "Mabel",
          "Isabelle",
          "Candy",
          "Melanie",
          "Gopal",
          "François",
          "Meena",
          "Yvonne",
          "Richie",
          "Peggy",
          "Murphy",
          "Constance",
          "Adrian",
          "Antoine",
          "Omar",
          "Phyllis",
          "Porter",
          "Lois",
          "Philippe",
          "Preston",
          "Raj",
          "Woody",
          "Campbell",
          "Lucky",
          "Erica",
          "Helena",
          "Harriet",
          "Iris",
          "Edith",
          "Bear",
          "Rani",
          "Lilly",
          "Simone",
          "Jeanne",
          "Jeffrey",
          "Zack",
          "Trevor",
          "Maureen",
          "Dolores",
          "Moore",
          "Patty",
          "Stevens",
          "Rajesh",
          "Tara",
          "Rogers",
          "Roland",
          "Manuel",
          "Carlo",
          "Barney",
          "Madeleine",
          "Mimi",
          "Marilyn",
          "Amber",
          "Brandon",
          "Vernon",
          "Kathleen",
          "Sadie",
          "Julius",
          "Christmas",
          "Daphne",
          "Mme",
          "Luis",
          "Holmes",
          "Parvati",
          "Colin",
          "Warden",
          "Stewart",
          "Elmer",
          "Alexandra",
          "Celia",
          "Cat",
          "Pauline",
          "Charley",
          "Meg",
          "Carter",
          "French",
          "Seth",
          "Benny",
          "Boyfriend",
          "Deborah",
          "Evan",
          "Clarence",
          "Hector",
          "Joshua",
          "Elsa",
          "Eli",
          "Theodore",
          "Riley",
          "June",
          "Prakash",
          "Jonas",
          "Virgil",
          "Carolyn",
          "Abdul",
          "Madhu",
          "Gauri",
          "Sanjay",
          "Floyd",
          "Marjorie",
          "Beverly",
          "Murray",
          "Lance",
          "Phillips",
          "Ella",
          "Laxmi",
          "Sammy",
          "Eileen",
          "Toby",
          "Elaine",
          "Jordan",
          "Tiffany",
          "Han",
          "Reggie",
          "Nandini",
          "Nelson",
          "Jules",
          "Pratap",
          "Kiran",
          "Danielle",
          "Ramesh",
          "Stacy",
          "Robinson",
          "Pedro",
          "Logan",
          "Fanny",
          "Graham",
          "Bridget",
          "Michel",
          "Neha",
          "Deepak",
          "Archie",
          "Isabella",
          "Quinn",
          "Raoul",
          "Arun",
          "Art",
          "Jenkins",
          "Courtney",
          "Trish",
          "Betsy",
          "Penelope",
          "Darcy",
          "Rohit",
          "Blake",
          "Brady",
          "Troy",
          "Vera",
          "Benson",
          "Sonny",
          "Sandhya",
          "Parker",
          "Mason",
          "Bud",
          "Robbie",
          "Sylvester",
          "Darren",
          "Gertrude",
          "Travis",
          "Dracula",
          "Clayton",
          "Edna",
          "Ingrid",
          "Benjamin",
          "Shane",
          "Doyle",
          "Voices",
          "Bart",
          "Sharma",
          "Del",
          "Brooks",
          "Wyatt",
          "Christina",
          "Isaac",
          "Jorge",
          "Cooper",
          "Joy",
          "Vinod",
          "Aarti",
          "Nate",
          "Stu",
          "Dora",
          "Billie",
          "Pam",
          "Barnes",
          "Lyle",
          "Hayes",
          "Ida",
          "Leah",
          "Horace",
          "Violet",
          "Cody",
          "Aditya",
          "May",
          "Gladys",
          "Hudson",
          "Greta",
          "Dominic",
          "Rhonda",
          "Camille",
          "Annette",
          "Lila",
          "Roberto",
          "Dale",
          "Fox",
          "Vicki",
          "Lucille",
          "Kane",
          "Trent",
          "Sameer",
          "Conrad",
          "Madison",
          "Shiva",
          "Nolan",
          "Luigi",
          "Rex",
          "Wells",
          "Ahmed",
          "Raghu",
          "Sofia",
          "Sunil",
          "Rupert",
          "Chandra",
          "Georgia",
          "Peterson",
          "Joanne",
          "Biker",
          "Diego",
          "Stanton",
          "Rekha",
          "Jamal",
          "Devi",
          "Bride",
          "Bradley",
          "Toni",
          "Henderson",
          "Clark",
          "Fran",
          "Herr",
          "Fritz",
          "Sydney",
          "Stefan",
          "Blanche",
          "Franklin",
          "Jerome",
          "Erik",
          "Wally",
          "Glenn",
          "Wade",
          "Naomi",
          "Meredith",
          "Meenakshi",
          "Van",
          "Ana",
          "Cole",
          "Margo",
          "Walker",
          "Choi",
          "Burns",
          "Gil",
          "Dolly",
          "Yu",
          "Grant",
          "Montgomery",
          "Lorraine",
          "Elisabeth",
          "Louie",
          "Marcia",
          "Crawford",
          "Marta",
          "Kamini",
          "Kay",
          "Marco",
          "Millie",
          "Warren",
          "Buck",
          "Geoffrey",
          "Javier",
          "Igor",
          "Jensen",
          "Finn",
          "Meera",
          "Morris",
          "Roberta",
          "Moses",
          "Verma",
          "Austin",
          "Gypsy",
          "Renee",
          "Saxena",
          "Quentin",
          "Reynolds",
          "Sal",
          "Savitri",
          "Mildred",
          "Alison",
          "Rico",
          "Preeti",
          "Ross",
          "Divya",
          "Anu",
          "Regina",
          "Briggs",
          "Dwight",
          "Nicky",
          "Milton",
          "Georgie",
          "Ellis",
          "Siddharth",
          "Dee",
          "Ajit",
          "Francesca",
          "Hari",
          "Suzie",
          "Sherman",
          "Wesley",
          "Agatha",
          "Tess",
          "Lara",
          "Fernando",
          "Spencer",
          "Alberto",
          "Tarzan",
          "Gabrielle",
          "Ira",
          "Damien",
          "Alexis",
          "Bunny",
          "Gilbert",
          "Dante",
          "Yuri",
          "Roman",
          "Monty",
          "Angus",
          "Harlan",
          "Butch",
          "Jen",
          "Elise",
          "Nadia",
          "Serena",
          "Jared",
          "Theo",
          "Randolph",
          "Rai",
          "Wes",
          "Otto",
          "Shelly",
          "Matthews",
          "Cecil",
          "Gopi",
          "Romeo",
          "Alvin",
          "Chan",
          "Amos",
          "Khanna",
          "Simpson",
          "Abel",
          "Janine",
          "Kirby",
          "Rama",
          "Madge",
          "Margot",
          "Stevie",
          "Mala",
          "Morton",
          "Artie",
          "Timmy",
          "Josef",
          "Flynn",
          "Francisco",
          "Manu",
          "Cassandra",
          "Cookie",
          "Roopa",
          "Wu",
          "Shannon",
          "Willis",
          "Monique",
          "Wang",
          "Bates",
          "Belle",
          "Werner",
          "Havaldar",
          "Perry",
          "Gretchen",
          "Sanjana",
          "Adele",
          "Connor",
          "Nadine",
          "Peters",
          "Rene",
          "Vishal",
          "Monroe",
          "Powell",
          "Manny",
          "English",
          "Bella",
          "Marian",
          "Jennings",
          "Vinnie",
          "Klaus",
          "Sunita",
          "Gerry",
          "Pearl",
          "Rich",
          "Emmett",
          "Mikey",
          "Durga",
          "Dawn",
          "Chad",
          "Gavin",
          "Salim",
          "Edwards",
          "Dwayne",
          "Jasmine",
          "Mallory",
          "Stacey",
          "Suman",
          "Erin",
          "Bishop",
          "Banks",
          "Gupta",
          "Juliet",
          "Jon",
          "Andrews",
          "Spike",
          "Kimberly",
          "Perkins",
          "Mahesh",
          "Edwin",
          "Bryan",
          "Juliette",
          "Jasper",
          "Marcel",
          "Lincoln",
          "Turner",
          "Sherry",
          "Star",
          "Darryl",
          "Kennedy",
          "Trudy",
          "Milo",
          "Georges",
          "Morrison",
          "Roxanne",
          "Bailey",
          "Clifford",
          "Chelsea",
          "Hélène",
          "Shobha",
          "Norma",
          "Lorna",
          "Melvin",
          "Rusty",
          "Eliza",
          "Suzy",
          "Simmons",
          "Donny",
          "Ricardo",
          "Lala",
          "Chet",
          "Ginger",
          "Rajiv",
          "Alma",
          "Tammy",
          "Robby",
          "Donnie",
          "Willy",
          "Burke",
          "Jess",
          "Muriel",
          "Belinda"
         ],
         "y": [
          1306,
          621,
          591,
          567,
          532,
          513,
          505,
          451,
          440,
          428,
          422,
          401,
          396,
          384,
          371,
          338,
          336,
          331,
          317,
          314,
          307,
          305,
          300,
          294,
          292,
          285,
          283,
          281,
          269,
          262,
          260,
          259,
          259,
          252,
          250,
          244,
          239,
          236,
          230,
          229,
          229,
          225,
          220,
          218,
          214,
          213,
          211,
          207,
          207,
          206,
          205,
          204,
          203,
          201,
          201,
          200,
          200,
          199,
          197,
          196,
          196,
          196,
          194,
          193,
          192,
          191,
          191,
          191,
          186,
          185,
          184,
          182,
          176,
          174,
          174,
          174,
          173,
          169,
          167,
          167,
          165,
          164,
          164,
          159,
          159,
          157,
          154,
          154,
          153,
          152,
          151,
          150,
          150,
          149,
          148,
          148,
          147,
          146,
          146,
          146,
          145,
          143,
          143,
          143,
          142,
          141,
          141,
          140,
          139,
          138,
          137,
          137,
          137,
          136,
          134,
          133,
          133,
          133,
          132,
          132,
          131,
          131,
          131,
          129,
          128,
          128,
          128,
          127,
          127,
          126,
          125,
          122,
          122,
          121,
          121,
          121,
          121,
          120,
          119,
          119,
          119,
          118,
          118,
          117,
          117,
          116,
          116,
          116,
          116,
          116,
          115,
          115,
          114,
          114,
          113,
          113,
          113,
          112,
          112,
          112,
          112,
          112,
          111,
          111,
          111,
          111,
          111,
          110,
          110,
          109,
          108,
          106,
          106,
          105,
          105,
          105,
          105,
          105,
          105,
          104,
          104,
          104,
          103,
          103,
          102,
          102,
          102,
          101,
          101,
          101,
          101,
          101,
          100,
          100,
          99,
          99,
          99,
          98,
          98,
          98,
          97,
          96,
          96,
          96,
          96,
          96,
          95,
          95,
          95,
          95,
          94,
          94,
          94,
          94,
          93,
          93,
          92,
          92,
          92,
          92,
          92,
          92,
          92,
          91,
          91,
          90,
          90,
          89,
          89,
          89,
          88,
          88,
          88,
          88,
          87,
          87,
          87,
          87,
          87,
          87,
          87,
          86,
          86,
          86,
          85,
          85,
          85,
          84,
          84,
          84,
          84,
          83,
          83,
          83,
          83,
          83,
          83,
          83,
          83,
          82,
          82,
          82,
          82,
          82,
          81,
          81,
          81,
          81,
          81,
          81,
          81,
          81,
          80,
          80,
          80,
          80,
          79,
          79,
          79,
          79,
          79,
          79,
          79,
          79,
          78,
          78,
          78,
          78,
          78,
          77,
          77,
          77,
          77,
          77,
          77,
          77,
          76,
          76,
          75,
          75,
          75,
          75,
          75,
          75,
          74,
          74,
          74,
          74,
          74,
          73,
          73,
          73,
          73,
          72,
          72,
          72,
          72,
          72,
          71,
          71,
          71,
          71,
          71,
          71,
          71,
          71,
          70,
          70,
          70,
          70,
          70,
          70,
          70,
          69,
          69,
          69,
          69,
          69,
          68,
          68,
          68,
          68,
          68,
          68,
          68,
          68,
          68,
          68,
          68,
          67,
          67,
          67,
          67,
          67,
          66,
          66,
          65,
          65,
          65,
          65,
          65,
          65,
          65,
          65,
          65,
          65,
          64,
          64,
          64,
          64,
          64,
          64,
          64,
          64,
          63,
          63,
          63,
          63,
          63,
          63,
          63,
          63,
          63,
          62,
          62,
          62,
          62,
          62,
          62,
          62,
          62,
          61,
          61,
          61,
          61,
          61,
          61,
          61,
          61,
          60,
          60,
          60,
          60,
          60,
          60,
          60,
          60,
          60,
          59,
          59,
          58,
          58,
          58,
          58,
          58,
          58,
          58,
          58,
          57,
          57,
          57,
          57,
          57,
          57,
          57,
          56,
          56,
          56,
          56,
          56,
          56,
          56,
          56,
          56,
          56,
          56,
          56,
          55,
          55,
          55,
          55,
          55,
          55,
          55,
          55,
          55,
          55,
          54,
          54,
          54,
          54,
          54,
          54,
          54,
          54,
          54,
          54,
          54,
          53,
          53,
          53,
          53,
          53,
          53,
          53,
          53,
          53,
          53,
          52,
          52,
          52,
          52,
          52,
          52,
          52,
          52,
          52,
          52,
          52,
          52,
          52,
          52,
          51,
          51,
          51,
          51,
          51,
          51,
          51,
          51,
          51,
          50,
          50,
          50,
          50,
          50,
          50,
          50,
          50,
          50,
          50,
          50,
          50,
          50,
          50,
          49,
          49,
          49,
          49,
          49,
          49,
          49,
          49,
          49,
          49,
          49,
          49,
          48,
          48,
          48,
          48,
          48,
          48,
          48,
          48,
          48,
          48,
          48,
          48,
          47,
          47,
          47,
          47,
          47,
          47,
          47,
          47,
          47,
          47,
          47,
          47,
          47,
          47,
          47,
          47,
          47,
          47,
          47,
          47,
          47,
          46,
          46,
          46,
          46,
          46,
          46,
          46,
          46,
          46,
          46,
          46,
          46,
          46,
          46,
          46,
          46,
          45,
          45,
          45,
          45,
          45,
          45,
          45,
          45,
          45,
          45,
          45,
          45,
          45,
          45,
          45,
          45,
          44,
          44,
          44,
          44,
          44,
          44,
          44,
          44,
          44,
          44,
          44,
          44,
          44,
          44,
          43,
          43,
          43,
          43,
          43,
          43,
          43,
          43,
          43,
          43,
          43,
          43,
          43,
          43,
          43,
          43,
          43,
          43,
          43,
          42,
          42,
          42,
          42,
          42,
          42,
          42,
          42,
          42,
          42,
          42,
          42,
          42,
          42,
          42,
          42,
          42,
          42,
          42,
          42,
          41,
          41,
          41,
          41,
          41,
          41,
          41,
          41,
          41,
          41,
          41,
          41,
          41,
          41,
          41,
          41,
          41,
          41,
          41,
          41,
          41,
          40,
          40,
          40,
          40,
          40,
          40,
          40,
          40,
          40,
          40,
          40,
          40,
          40,
          40,
          40,
          40,
          40,
          39,
          39,
          39,
          39,
          39,
          39,
          39,
          39,
          39,
          39,
          39,
          38,
          38,
          38,
          38,
          38,
          38,
          38,
          38,
          38,
          38,
          38,
          38,
          38,
          38,
          38,
          38,
          38,
          38,
          38,
          37,
          37,
          37,
          37,
          37,
          37,
          37,
          37,
          37,
          37,
          37,
          37,
          37,
          37,
          37,
          37,
          37,
          37,
          37,
          36,
          36,
          36,
          36,
          36,
          36,
          36,
          36,
          36,
          36,
          36,
          36,
          36,
          36,
          36,
          36,
          36,
          36,
          36,
          36,
          36,
          35,
          35,
          35,
          35,
          35,
          35,
          35,
          35,
          35,
          35,
          35,
          35,
          35,
          35,
          35,
          35,
          35,
          35,
          35,
          35,
          35,
          35,
          35,
          35,
          35,
          35,
          35,
          34,
          34,
          34,
          34,
          34,
          34,
          34,
          34,
          34,
          34,
          34,
          34,
          34,
          34,
          34,
          34,
          34,
          34,
          34,
          33,
          33,
          33,
          33,
          33,
          33,
          33,
          33,
          33,
          33,
          33,
          33,
          33,
          33,
          33,
          33,
          33,
          33,
          33,
          33,
          33,
          33,
          33,
          33,
          33,
          33,
          33,
          32,
          32,
          32,
          32,
          32,
          32,
          32,
          32,
          32,
          32,
          32,
          32,
          32,
          32,
          32,
          32,
          32,
          32,
          32,
          32,
          32,
          32,
          32,
          32,
          32,
          32,
          32,
          32,
          31,
          31,
          31,
          31,
          31,
          31,
          31,
          31,
          31,
          31,
          31,
          31,
          31,
          31,
          31,
          31,
          31,
          31,
          31,
          31,
          31,
          31,
          31,
          31,
          31,
          31,
          31,
          31,
          31,
          31,
          31,
          31,
          30,
          30,
          30,
          30,
          30,
          30,
          30,
          30,
          30,
          30,
          30,
          30,
          30,
          30,
          30,
          30,
          30,
          30,
          30,
          30,
          30,
          30,
          30,
          30,
          30,
          30,
          30,
          30,
          30,
          30,
          30,
          30,
          30,
          30,
          30,
          30,
          30,
          30,
          30,
          30,
          30,
          29,
          29,
          29,
          29,
          29,
          29,
          29,
          29,
          29,
          29,
          29,
          29,
          29,
          29,
          29,
          29,
          29,
          29,
          29,
          29,
          29,
          29,
          29,
          29,
          29,
          29,
          29,
          29,
          28,
          28,
          28,
          28,
          28,
          28,
          28,
          28,
          28,
          28,
          28,
          28,
          28,
          28,
          28,
          28,
          28,
          28,
          28,
          28,
          28,
          28,
          28,
          28,
          28,
          28,
          28,
          28,
          28,
          28,
          28,
          28,
          28,
          27,
          27,
          27,
          27,
          27,
          27,
          27,
          27,
          27,
          27,
          27,
          27,
          27,
          27,
          27,
          27,
          27,
          27,
          27,
          27,
          27,
          27
         ]
        }
       ],
       "layout": {
        "template": {
         "data": {
          "bar": [
           {
            "error_x": {
             "color": "#2a3f5f"
            },
            "error_y": {
             "color": "#2a3f5f"
            },
            "marker": {
             "line": {
              "color": "#E5ECF6",
              "width": 0.5
             },
             "pattern": {
              "fillmode": "overlay",
              "size": 10,
              "solidity": 0.2
             }
            },
            "type": "bar"
           }
          ],
          "barpolar": [
           {
            "marker": {
             "line": {
              "color": "#E5ECF6",
              "width": 0.5
             },
             "pattern": {
              "fillmode": "overlay",
              "size": 10,
              "solidity": 0.2
             }
            },
            "type": "barpolar"
           }
          ],
          "carpet": [
           {
            "aaxis": {
             "endlinecolor": "#2a3f5f",
             "gridcolor": "white",
             "linecolor": "white",
             "minorgridcolor": "white",
             "startlinecolor": "#2a3f5f"
            },
            "baxis": {
             "endlinecolor": "#2a3f5f",
             "gridcolor": "white",
             "linecolor": "white",
             "minorgridcolor": "white",
             "startlinecolor": "#2a3f5f"
            },
            "type": "carpet"
           }
          ],
          "choropleth": [
           {
            "colorbar": {
             "outlinewidth": 0,
             "ticks": ""
            },
            "type": "choropleth"
           }
          ],
          "contour": [
           {
            "colorbar": {
             "outlinewidth": 0,
             "ticks": ""
            },
            "colorscale": [
             [
              0,
              "#0d0887"
             ],
             [
              0.1111111111111111,
              "#46039f"
             ],
             [
              0.2222222222222222,
              "#7201a8"
             ],
             [
              0.3333333333333333,
              "#9c179e"
             ],
             [
              0.4444444444444444,
              "#bd3786"
             ],
             [
              0.5555555555555556,
              "#d8576b"
             ],
             [
              0.6666666666666666,
              "#ed7953"
             ],
             [
              0.7777777777777778,
              "#fb9f3a"
             ],
             [
              0.8888888888888888,
              "#fdca26"
             ],
             [
              1,
              "#f0f921"
             ]
            ],
            "type": "contour"
           }
          ],
          "contourcarpet": [
           {
            "colorbar": {
             "outlinewidth": 0,
             "ticks": ""
            },
            "type": "contourcarpet"
           }
          ],
          "heatmap": [
           {
            "colorbar": {
             "outlinewidth": 0,
             "ticks": ""
            },
            "colorscale": [
             [
              0,
              "#0d0887"
             ],
             [
              0.1111111111111111,
              "#46039f"
             ],
             [
              0.2222222222222222,
              "#7201a8"
             ],
             [
              0.3333333333333333,
              "#9c179e"
             ],
             [
              0.4444444444444444,
              "#bd3786"
             ],
             [
              0.5555555555555556,
              "#d8576b"
             ],
             [
              0.6666666666666666,
              "#ed7953"
             ],
             [
              0.7777777777777778,
              "#fb9f3a"
             ],
             [
              0.8888888888888888,
              "#fdca26"
             ],
             [
              1,
              "#f0f921"
             ]
            ],
            "type": "heatmap"
           }
          ],
          "heatmapgl": [
           {
            "colorbar": {
             "outlinewidth": 0,
             "ticks": ""
            },
            "colorscale": [
             [
              0,
              "#0d0887"
             ],
             [
              0.1111111111111111,
              "#46039f"
             ],
             [
              0.2222222222222222,
              "#7201a8"
             ],
             [
              0.3333333333333333,
              "#9c179e"
             ],
             [
              0.4444444444444444,
              "#bd3786"
             ],
             [
              0.5555555555555556,
              "#d8576b"
             ],
             [
              0.6666666666666666,
              "#ed7953"
             ],
             [
              0.7777777777777778,
              "#fb9f3a"
             ],
             [
              0.8888888888888888,
              "#fdca26"
             ],
             [
              1,
              "#f0f921"
             ]
            ],
            "type": "heatmapgl"
           }
          ],
          "histogram": [
           {
            "marker": {
             "pattern": {
              "fillmode": "overlay",
              "size": 10,
              "solidity": 0.2
             }
            },
            "type": "histogram"
           }
          ],
          "histogram2d": [
           {
            "colorbar": {
             "outlinewidth": 0,
             "ticks": ""
            },
            "colorscale": [
             [
              0,
              "#0d0887"
             ],
             [
              0.1111111111111111,
              "#46039f"
             ],
             [
              0.2222222222222222,
              "#7201a8"
             ],
             [
              0.3333333333333333,
              "#9c179e"
             ],
             [
              0.4444444444444444,
              "#bd3786"
             ],
             [
              0.5555555555555556,
              "#d8576b"
             ],
             [
              0.6666666666666666,
              "#ed7953"
             ],
             [
              0.7777777777777778,
              "#fb9f3a"
             ],
             [
              0.8888888888888888,
              "#fdca26"
             ],
             [
              1,
              "#f0f921"
             ]
            ],
            "type": "histogram2d"
           }
          ],
          "histogram2dcontour": [
           {
            "colorbar": {
             "outlinewidth": 0,
             "ticks": ""
            },
            "colorscale": [
             [
              0,
              "#0d0887"
             ],
             [
              0.1111111111111111,
              "#46039f"
             ],
             [
              0.2222222222222222,
              "#7201a8"
             ],
             [
              0.3333333333333333,
              "#9c179e"
             ],
             [
              0.4444444444444444,
              "#bd3786"
             ],
             [
              0.5555555555555556,
              "#d8576b"
             ],
             [
              0.6666666666666666,
              "#ed7953"
             ],
             [
              0.7777777777777778,
              "#fb9f3a"
             ],
             [
              0.8888888888888888,
              "#fdca26"
             ],
             [
              1,
              "#f0f921"
             ]
            ],
            "type": "histogram2dcontour"
           }
          ],
          "mesh3d": [
           {
            "colorbar": {
             "outlinewidth": 0,
             "ticks": ""
            },
            "type": "mesh3d"
           }
          ],
          "parcoords": [
           {
            "line": {
             "colorbar": {
              "outlinewidth": 0,
              "ticks": ""
             }
            },
            "type": "parcoords"
           }
          ],
          "pie": [
           {
            "automargin": true,
            "type": "pie"
           }
          ],
          "scatter": [
           {
            "fillpattern": {
             "fillmode": "overlay",
             "size": 10,
             "solidity": 0.2
            },
            "type": "scatter"
           }
          ],
          "scatter3d": [
           {
            "line": {
             "colorbar": {
              "outlinewidth": 0,
              "ticks": ""
             }
            },
            "marker": {
             "colorbar": {
              "outlinewidth": 0,
              "ticks": ""
             }
            },
            "type": "scatter3d"
           }
          ],
          "scattercarpet": [
           {
            "marker": {
             "colorbar": {
              "outlinewidth": 0,
              "ticks": ""
             }
            },
            "type": "scattercarpet"
           }
          ],
          "scattergeo": [
           {
            "marker": {
             "colorbar": {
              "outlinewidth": 0,
              "ticks": ""
             }
            },
            "type": "scattergeo"
           }
          ],
          "scattergl": [
           {
            "marker": {
             "colorbar": {
              "outlinewidth": 0,
              "ticks": ""
             }
            },
            "type": "scattergl"
           }
          ],
          "scattermapbox": [
           {
            "marker": {
             "colorbar": {
              "outlinewidth": 0,
              "ticks": ""
             }
            },
            "type": "scattermapbox"
           }
          ],
          "scatterpolar": [
           {
            "marker": {
             "colorbar": {
              "outlinewidth": 0,
              "ticks": ""
             }
            },
            "type": "scatterpolar"
           }
          ],
          "scatterpolargl": [
           {
            "marker": {
             "colorbar": {
              "outlinewidth": 0,
              "ticks": ""
             }
            },
            "type": "scatterpolargl"
           }
          ],
          "scatterternary": [
           {
            "marker": {
             "colorbar": {
              "outlinewidth": 0,
              "ticks": ""
             }
            },
            "type": "scatterternary"
           }
          ],
          "surface": [
           {
            "colorbar": {
             "outlinewidth": 0,
             "ticks": ""
            },
            "colorscale": [
             [
              0,
              "#0d0887"
             ],
             [
              0.1111111111111111,
              "#46039f"
             ],
             [
              0.2222222222222222,
              "#7201a8"
             ],
             [
              0.3333333333333333,
              "#9c179e"
             ],
             [
              0.4444444444444444,
              "#bd3786"
             ],
             [
              0.5555555555555556,
              "#d8576b"
             ],
             [
              0.6666666666666666,
              "#ed7953"
             ],
             [
              0.7777777777777778,
              "#fb9f3a"
             ],
             [
              0.8888888888888888,
              "#fdca26"
             ],
             [
              1,
              "#f0f921"
             ]
            ],
            "type": "surface"
           }
          ],
          "table": [
           {
            "cells": {
             "fill": {
              "color": "#EBF0F8"
             },
             "line": {
              "color": "white"
             }
            },
            "header": {
             "fill": {
              "color": "#C8D4E3"
             },
             "line": {
              "color": "white"
             }
            },
            "type": "table"
           }
          ]
         },
         "layout": {
          "annotationdefaults": {
           "arrowcolor": "#2a3f5f",
           "arrowhead": 0,
           "arrowwidth": 1
          },
          "autotypenumbers": "strict",
          "coloraxis": {
           "colorbar": {
            "outlinewidth": 0,
            "ticks": ""
           }
          },
          "colorscale": {
           "diverging": [
            [
             0,
             "#8e0152"
            ],
            [
             0.1,
             "#c51b7d"
            ],
            [
             0.2,
             "#de77ae"
            ],
            [
             0.3,
             "#f1b6da"
            ],
            [
             0.4,
             "#fde0ef"
            ],
            [
             0.5,
             "#f7f7f7"
            ],
            [
             0.6,
             "#e6f5d0"
            ],
            [
             0.7,
             "#b8e186"
            ],
            [
             0.8,
             "#7fbc41"
            ],
            [
             0.9,
             "#4d9221"
            ],
            [
             1,
             "#276419"
            ]
           ],
           "sequential": [
            [
             0,
             "#0d0887"
            ],
            [
             0.1111111111111111,
             "#46039f"
            ],
            [
             0.2222222222222222,
             "#7201a8"
            ],
            [
             0.3333333333333333,
             "#9c179e"
            ],
            [
             0.4444444444444444,
             "#bd3786"
            ],
            [
             0.5555555555555556,
             "#d8576b"
            ],
            [
             0.6666666666666666,
             "#ed7953"
            ],
            [
             0.7777777777777778,
             "#fb9f3a"
            ],
            [
             0.8888888888888888,
             "#fdca26"
            ],
            [
             1,
             "#f0f921"
            ]
           ],
           "sequentialminus": [
            [
             0,
             "#0d0887"
            ],
            [
             0.1111111111111111,
             "#46039f"
            ],
            [
             0.2222222222222222,
             "#7201a8"
            ],
            [
             0.3333333333333333,
             "#9c179e"
            ],
            [
             0.4444444444444444,
             "#bd3786"
            ],
            [
             0.5555555555555556,
             "#d8576b"
            ],
            [
             0.6666666666666666,
             "#ed7953"
            ],
            [
             0.7777777777777778,
             "#fb9f3a"
            ],
            [
             0.8888888888888888,
             "#fdca26"
            ],
            [
             1,
             "#f0f921"
            ]
           ]
          },
          "colorway": [
           "#636efa",
           "#EF553B",
           "#00cc96",
           "#ab63fa",
           "#FFA15A",
           "#19d3f3",
           "#FF6692",
           "#B6E880",
           "#FF97FF",
           "#FECB52"
          ],
          "font": {
           "color": "#2a3f5f"
          },
          "geo": {
           "bgcolor": "white",
           "lakecolor": "white",
           "landcolor": "#E5ECF6",
           "showlakes": true,
           "showland": true,
           "subunitcolor": "white"
          },
          "hoverlabel": {
           "align": "left"
          },
          "hovermode": "closest",
          "mapbox": {
           "style": "light"
          },
          "paper_bgcolor": "white",
          "plot_bgcolor": "#E5ECF6",
          "polar": {
           "angularaxis": {
            "gridcolor": "white",
            "linecolor": "white",
            "ticks": ""
           },
           "bgcolor": "#E5ECF6",
           "radialaxis": {
            "gridcolor": "white",
            "linecolor": "white",
            "ticks": ""
           }
          },
          "scene": {
           "xaxis": {
            "backgroundcolor": "#E5ECF6",
            "gridcolor": "white",
            "gridwidth": 2,
            "linecolor": "white",
            "showbackground": true,
            "ticks": "",
            "zerolinecolor": "white"
           },
           "yaxis": {
            "backgroundcolor": "#E5ECF6",
            "gridcolor": "white",
            "gridwidth": 2,
            "linecolor": "white",
            "showbackground": true,
            "ticks": "",
            "zerolinecolor": "white"
           },
           "zaxis": {
            "backgroundcolor": "#E5ECF6",
            "gridcolor": "white",
            "gridwidth": 2,
            "linecolor": "white",
            "showbackground": true,
            "ticks": "",
            "zerolinecolor": "white"
           }
          },
          "shapedefaults": {
           "line": {
            "color": "#2a3f5f"
           }
          },
          "ternary": {
           "aaxis": {
            "gridcolor": "white",
            "linecolor": "white",
            "ticks": ""
           },
           "baxis": {
            "gridcolor": "white",
            "linecolor": "white",
            "ticks": ""
           },
           "bgcolor": "#E5ECF6",
           "caxis": {
            "gridcolor": "white",
            "linecolor": "white",
            "ticks": ""
           }
          },
          "title": {
           "x": 0.05
          },
          "xaxis": {
           "automargin": true,
           "gridcolor": "white",
           "linecolor": "white",
           "ticks": "",
           "title": {
            "standoff": 15
           },
           "zerolinecolor": "white",
           "zerolinewidth": 2
          },
          "yaxis": {
           "automargin": true,
           "gridcolor": "white",
           "linecolor": "white",
           "ticks": "",
           "title": {
            "standoff": 15
           },
           "zerolinecolor": "white",
           "zerolinewidth": 2
          }
         }
        },
        "title": {
         "text": "1000 Most Popular Character Names"
        },
        "xaxis": {
         "showticklabels": false,
         "title": {
          "text": "Character Name"
         }
        },
        "yaxis": {
         "title": {
          "text": "Count"
         }
        }
       }
      }
     },
     "metadata": {},
     "output_type": "display_data"
    }
   ],
   "source": [
    "# Creating the top 1000 most popular character names set\n",
    "name_counts = df_char_cleaned['Character_name'].value_counts()\n",
    "top_100_names = name_counts.head(1000)\n",
    "\n",
    "fig = go.Figure()\n",
    "\n",
    "fig.add_trace(go.Scatter(\n",
    "    x=top_100_names.index,\n",
    "    y=top_100_names.values,\n",
    "    mode='lines+markers',\n",
    "    name='Character Count',\n",
    "    line=dict(color='skyblue'),\n",
    "    hovertext=[f\"Name: {name}<br>Count: {count}\" for name, count in zip(top_100_names.index, top_100_names.values)],\n",
    "    hoverinfo=\"text\"\n",
    "))\n",
    "\n",
    "fig.update_layout(\n",
    "    title='1000 Most Popular Character Names',\n",
    "    xaxis_title='Character Name',\n",
    "    yaxis_title='Count',\n",
    "    xaxis=dict(showticklabels=False)\n",
    ")\n",
    "\n",
    "fig.show()"
   ]
  },
  {
   "cell_type": "markdown",
   "metadata": {},
   "source": [
    "We can clearly see that John is the most popular name given to characters, with 1305 appartitions. One possible explanation is that John Doe was used in North America to refer to “any man whose name is unknown”. This could explain its appearance in this many movies, far ahead of the second most common name, Georges, with 621 appearances.\n",
    "\n",
    "**P3 :**  Excluding the most common names, which may skew the predictive model due to their high frequency, could lead to more accurate results."
   ]
  },
  {
   "cell_type": "code",
   "execution_count": 58,
   "metadata": {},
   "outputs": [
    {
     "data": {
      "text/html": [
       "<div>\n",
       "<style scoped>\n",
       "    .dataframe tbody tr th:only-of-type {\n",
       "        vertical-align: middle;\n",
       "    }\n",
       "\n",
       "    .dataframe tbody tr th {\n",
       "        vertical-align: top;\n",
       "    }\n",
       "\n",
       "    .dataframe thead th {\n",
       "        text-align: right;\n",
       "    }\n",
       "</style>\n",
       "<table border=\"1\" class=\"dataframe\">\n",
       "  <thead>\n",
       "    <tr style=\"text-align: right;\">\n",
       "      <th></th>\n",
       "      <th>Wikipedia_ID</th>\n",
       "      <th>Name</th>\n",
       "      <th>Languages</th>\n",
       "      <th>Country</th>\n",
       "      <th>Genres</th>\n",
       "      <th>Character_name</th>\n",
       "      <th>Sex</th>\n",
       "      <th>Actor_age</th>\n",
       "      <th>Release_date</th>\n",
       "    </tr>\n",
       "  </thead>\n",
       "  <tbody>\n",
       "    <tr>\n",
       "      <th>0</th>\n",
       "      <td>975900</td>\n",
       "      <td>Ghosts of Mars</td>\n",
       "      <td>[English Language]</td>\n",
       "      <td>[United States of America]</td>\n",
       "      <td>[Thriller, Science Fiction, Horror, Adventure,...</td>\n",
       "      <td>Akooshay</td>\n",
       "      <td>F</td>\n",
       "      <td>42.0</td>\n",
       "      <td>2001-08-24</td>\n",
       "    </tr>\n",
       "    <tr>\n",
       "      <th>1</th>\n",
       "      <td>975900</td>\n",
       "      <td>Ghosts of Mars</td>\n",
       "      <td>[English Language]</td>\n",
       "      <td>[United States of America]</td>\n",
       "      <td>[Thriller, Science Fiction, Horror, Adventure,...</td>\n",
       "      <td>Melanie</td>\n",
       "      <td>F</td>\n",
       "      <td>27.0</td>\n",
       "      <td>2001-08-24</td>\n",
       "    </tr>\n",
       "    <tr>\n",
       "      <th>2</th>\n",
       "      <td>975900</td>\n",
       "      <td>Ghosts of Mars</td>\n",
       "      <td>[English Language]</td>\n",
       "      <td>[United States of America]</td>\n",
       "      <td>[Thriller, Science Fiction, Horror, Adventure,...</td>\n",
       "      <td>Williams</td>\n",
       "      <td>M</td>\n",
       "      <td>32.0</td>\n",
       "      <td>2001-08-24</td>\n",
       "    </tr>\n",
       "    <tr>\n",
       "      <th>3</th>\n",
       "      <td>975900</td>\n",
       "      <td>Ghosts of Mars</td>\n",
       "      <td>[English Language]</td>\n",
       "      <td>[United States of America]</td>\n",
       "      <td>[Thriller, Science Fiction, Horror, Adventure,...</td>\n",
       "      <td>Jericho</td>\n",
       "      <td>M</td>\n",
       "      <td>33.0</td>\n",
       "      <td>2001-08-24</td>\n",
       "    </tr>\n",
       "    <tr>\n",
       "      <th>4</th>\n",
       "      <td>975900</td>\n",
       "      <td>Ghosts of Mars</td>\n",
       "      <td>[English Language]</td>\n",
       "      <td>[United States of America]</td>\n",
       "      <td>[Thriller, Science Fiction, Horror, Adventure,...</td>\n",
       "      <td>Bashira</td>\n",
       "      <td>F</td>\n",
       "      <td>23.0</td>\n",
       "      <td>2001-08-24</td>\n",
       "    </tr>\n",
       "  </tbody>\n",
       "</table>\n",
       "</div>"
      ],
      "text/plain": [
       "   Wikipedia_ID            Name           Languages  \\\n",
       "0        975900  Ghosts of Mars  [English Language]   \n",
       "1        975900  Ghosts of Mars  [English Language]   \n",
       "2        975900  Ghosts of Mars  [English Language]   \n",
       "3        975900  Ghosts of Mars  [English Language]   \n",
       "4        975900  Ghosts of Mars  [English Language]   \n",
       "\n",
       "                      Country  \\\n",
       "0  [United States of America]   \n",
       "1  [United States of America]   \n",
       "2  [United States of America]   \n",
       "3  [United States of America]   \n",
       "4  [United States of America]   \n",
       "\n",
       "                                              Genres Character_name Sex  \\\n",
       "0  [Thriller, Science Fiction, Horror, Adventure,...       Akooshay   F   \n",
       "1  [Thriller, Science Fiction, Horror, Adventure,...        Melanie   F   \n",
       "2  [Thriller, Science Fiction, Horror, Adventure,...       Williams   M   \n",
       "3  [Thriller, Science Fiction, Horror, Adventure,...        Jericho   M   \n",
       "4  [Thriller, Science Fiction, Horror, Adventure,...        Bashira   F   \n",
       "\n",
       "   Actor_age Release_date  \n",
       "0       42.0   2001-08-24  \n",
       "1       27.0   2001-08-24  \n",
       "2       32.0   2001-08-24  \n",
       "3       33.0   2001-08-24  \n",
       "4       23.0   2001-08-24  "
      ]
     },
     "execution_count": 58,
     "metadata": {},
     "output_type": "execute_result"
    }
   ],
   "source": [
    "# df_char_cleaned.head()\n",
    "df_char_cleaned_SA = df_char_cleaned.copy()\n",
    "df_char_cleaned_SA.head()"
   ]
  },
  {
   "cell_type": "markdown",
   "metadata": {},
   "source": [
    "# 2. General Analysis"
   ]
  },
  {
   "cell_type": "markdown",
   "metadata": {},
   "source": [
    "## 2.1 Genre analysis"
   ]
  },
  {
   "cell_type": "markdown",
   "metadata": {},
   "source": [
    "### 2.1.a Top names depending on Movie's Genre"
   ]
  },
  {
   "cell_type": "markdown",
   "metadata": {},
   "source": [
    "*Interactive hover plot in this section*"
   ]
  },
  {
   "cell_type": "code",
   "execution_count": 59,
   "metadata": {},
   "outputs": [],
   "source": [
    "analyze_genre = GenreAnalyzer(df_char_cleaned)\n",
    "\n",
    "frequent_names_m, frequent_names_f = analyze_genre.get_top_names_by_genre(10)\n",
    "\n",
    "data_f = analyze_genre.create_sunburst_data(frequent_names_f)\n",
    "data_m = analyze_genre.create_sunburst_data(frequent_names_m)"
   ]
  },
  {
   "cell_type": "code",
   "execution_count": 60,
   "metadata": {},
   "outputs": [
    {
     "data": {
      "application/vnd.plotly.v1+json": {
       "config": {
        "plotlyServerURL": "https://plot.ly"
       },
       "data": [
        {
         "domain": {
          "column": 1,
          "x": [
           0,
           0.45
          ],
          "y": [
           0,
           1
          ]
         },
         "labels": [
          "Movies' Genres",
          "Action & Adventure",
          "Drama",
          "Comedy",
          "Horror & Thriller",
          "Fantasy & Sci-Fi",
          "Historical & War",
          "Romance",
          "Documentary",
          "Music & Performance",
          "Cult & B-Movies",
          "Other",
          "Sarah",
          "Susan",
          "Alice",
          "Rachel",
          "Mary",
          "Lisa",
          "Julie",
          "Kate",
          "Helen",
          "Elizabeth",
          "Sarah",
          "Mary",
          "Helen",
          "Alice",
          "Susan",
          "Elizabeth",
          "Kate",
          "Rachel",
          "Julie",
          "Marie",
          "Sarah",
          "Mary",
          "Kate",
          "Julie",
          "Alice",
          "Susan",
          "Helen",
          "Lisa",
          "Elizabeth",
          "Barbara",
          "Sarah",
          "Rachel",
          "Susan",
          "Alice",
          "Karen",
          "Helen",
          "Lisa",
          "Elizabeth",
          "Kate",
          "Claire",
          "Susan",
          "Alice",
          "Sarah",
          "Elizabeth",
          "Mary",
          "Claire",
          "Kate",
          "Jane",
          "Lisa",
          "Rachel",
          "Elizabeth",
          "Sarah",
          "Anne",
          "Mary",
          "Margaret",
          "Helen",
          "Marie",
          "Alice",
          "Catherine",
          "Charlotte",
          "Sarah",
          "Helen",
          "Elizabeth",
          "Julie",
          "Susan",
          "Mary",
          "Kate",
          "Alice",
          "Marie",
          "Maggie",
          "Elizabeth",
          "Margaret",
          "Helen",
          "Barbara",
          "Marie",
          "Mary",
          "Alice",
          "Dorothy",
          "Sarah",
          "Louise",
          "Pooja",
          "Priya",
          "Anjali",
          "Tina",
          "Mary",
          "Julie",
          "Sonia",
          "Radha",
          "Sarah",
          "Anita",
          "Mary",
          "Sarah",
          "Helen",
          "Kate",
          "Rachel",
          "Alice",
          "Linda",
          "Maggie",
          "Lisa",
          "Karen",
          "Radha",
          "Rachel",
          "Pooja",
          "Anna",
          "Priya",
          "Shanti",
          "Neha",
          "Frau",
          "Geeta",
          "Aarti"
         ],
         "maxdepth": 2,
         "parents": [
          "",
          "Movies' Genres",
          "Movies' Genres",
          "Movies' Genres",
          "Movies' Genres",
          "Movies' Genres",
          "Movies' Genres",
          "Movies' Genres",
          "Movies' Genres",
          "Movies' Genres",
          "Movies' Genres",
          "Movies' Genres",
          "Action & Adventure",
          "Action & Adventure",
          "Action & Adventure",
          "Action & Adventure",
          "Action & Adventure",
          "Action & Adventure",
          "Action & Adventure",
          "Action & Adventure",
          "Action & Adventure",
          "Action & Adventure",
          "Drama",
          "Drama",
          "Drama",
          "Drama",
          "Drama",
          "Drama",
          "Drama",
          "Drama",
          "Drama",
          "Drama",
          "Comedy",
          "Comedy",
          "Comedy",
          "Comedy",
          "Comedy",
          "Comedy",
          "Comedy",
          "Comedy",
          "Comedy",
          "Comedy",
          "Horror & Thriller",
          "Horror & Thriller",
          "Horror & Thriller",
          "Horror & Thriller",
          "Horror & Thriller",
          "Horror & Thriller",
          "Horror & Thriller",
          "Horror & Thriller",
          "Horror & Thriller",
          "Horror & Thriller",
          "Fantasy & Sci-Fi",
          "Fantasy & Sci-Fi",
          "Fantasy & Sci-Fi",
          "Fantasy & Sci-Fi",
          "Fantasy & Sci-Fi",
          "Fantasy & Sci-Fi",
          "Fantasy & Sci-Fi",
          "Fantasy & Sci-Fi",
          "Fantasy & Sci-Fi",
          "Fantasy & Sci-Fi",
          "Historical & War",
          "Historical & War",
          "Historical & War",
          "Historical & War",
          "Historical & War",
          "Historical & War",
          "Historical & War",
          "Historical & War",
          "Historical & War",
          "Historical & War",
          "Romance",
          "Romance",
          "Romance",
          "Romance",
          "Romance",
          "Romance",
          "Romance",
          "Romance",
          "Romance",
          "Romance",
          "Documentary",
          "Documentary",
          "Documentary",
          "Documentary",
          "Documentary",
          "Documentary",
          "Documentary",
          "Documentary",
          "Documentary",
          "Documentary",
          "Music & Performance",
          "Music & Performance",
          "Music & Performance",
          "Music & Performance",
          "Music & Performance",
          "Music & Performance",
          "Music & Performance",
          "Music & Performance",
          "Music & Performance",
          "Music & Performance",
          "Cult & B-Movies",
          "Cult & B-Movies",
          "Cult & B-Movies",
          "Cult & B-Movies",
          "Cult & B-Movies",
          "Cult & B-Movies",
          "Cult & B-Movies",
          "Cult & B-Movies",
          "Cult & B-Movies",
          "Cult & B-Movies",
          "Other",
          "Other",
          "Other",
          "Other",
          "Other",
          "Other",
          "Other",
          "Other",
          "Other",
          "Other"
         ],
         "type": "sunburst"
        },
        {
         "domain": {
          "column": 1,
          "x": [
           0.55,
           1
          ],
          "y": [
           0,
           1
          ]
         },
         "labels": [
          "Movies' Genres",
          "Action & Adventure",
          "Drama",
          "Comedy",
          "Horror & Thriller",
          "Fantasy & Sci-Fi",
          "Historical & War",
          "Romance",
          "Documentary",
          "Music & Performance",
          "Cult & B-Movies",
          "Other",
          "John",
          "Tom",
          "James",
          "David",
          "George",
          "Michael",
          "Robert",
          "William",
          "Jim",
          "Paul",
          "John",
          "David",
          "George",
          "Tom",
          "Paul",
          "James",
          "Michael",
          "Robert",
          "Charles",
          "Jack",
          "John",
          "George",
          "Tom",
          "Paul",
          "Charlie",
          "Jack",
          "Michael",
          "David",
          "Moe",
          "Joe",
          "John",
          "Michael",
          "David",
          "Tom",
          "Paul",
          "James",
          "Robert",
          "George",
          "Jack",
          "Richard",
          "John",
          "George",
          "David",
          "Tom",
          "James",
          "Michael",
          "Charlie",
          "Jack",
          "Robert",
          "William",
          "John",
          "William",
          "George",
          "Robert",
          "Charles",
          "Thomas",
          "James",
          "David",
          "Richard",
          "Tom",
          "John",
          "Paul",
          "David",
          "George",
          "Tom",
          "Michael",
          "Richard",
          "Charlie",
          "Robert",
          "James",
          "John",
          "George",
          "Robert",
          "William",
          "Charles",
          "David",
          "Richard",
          "James",
          "Paul",
          "Jim",
          "John",
          "George",
          "Paul",
          "Vijay",
          "Joe",
          "Charlie",
          "Johnny",
          "Rahul",
          "Shekhar",
          "David",
          "John",
          "Jack",
          "Tom",
          "David",
          "George",
          "Paul",
          "Michael",
          "Charlie",
          "Jim",
          "James",
          "John",
          "George",
          "Christmas",
          "James",
          "Mickey",
          "Tom",
          "Philip",
          "Richard",
          "Vijay",
          "Robert"
         ],
         "maxdepth": 2,
         "parents": [
          "",
          "Movies' Genres",
          "Movies' Genres",
          "Movies' Genres",
          "Movies' Genres",
          "Movies' Genres",
          "Movies' Genres",
          "Movies' Genres",
          "Movies' Genres",
          "Movies' Genres",
          "Movies' Genres",
          "Movies' Genres",
          "Action & Adventure",
          "Action & Adventure",
          "Action & Adventure",
          "Action & Adventure",
          "Action & Adventure",
          "Action & Adventure",
          "Action & Adventure",
          "Action & Adventure",
          "Action & Adventure",
          "Action & Adventure",
          "Drama",
          "Drama",
          "Drama",
          "Drama",
          "Drama",
          "Drama",
          "Drama",
          "Drama",
          "Drama",
          "Drama",
          "Comedy",
          "Comedy",
          "Comedy",
          "Comedy",
          "Comedy",
          "Comedy",
          "Comedy",
          "Comedy",
          "Comedy",
          "Comedy",
          "Horror & Thriller",
          "Horror & Thriller",
          "Horror & Thriller",
          "Horror & Thriller",
          "Horror & Thriller",
          "Horror & Thriller",
          "Horror & Thriller",
          "Horror & Thriller",
          "Horror & Thriller",
          "Horror & Thriller",
          "Fantasy & Sci-Fi",
          "Fantasy & Sci-Fi",
          "Fantasy & Sci-Fi",
          "Fantasy & Sci-Fi",
          "Fantasy & Sci-Fi",
          "Fantasy & Sci-Fi",
          "Fantasy & Sci-Fi",
          "Fantasy & Sci-Fi",
          "Fantasy & Sci-Fi",
          "Fantasy & Sci-Fi",
          "Historical & War",
          "Historical & War",
          "Historical & War",
          "Historical & War",
          "Historical & War",
          "Historical & War",
          "Historical & War",
          "Historical & War",
          "Historical & War",
          "Historical & War",
          "Romance",
          "Romance",
          "Romance",
          "Romance",
          "Romance",
          "Romance",
          "Romance",
          "Romance",
          "Romance",
          "Romance",
          "Documentary",
          "Documentary",
          "Documentary",
          "Documentary",
          "Documentary",
          "Documentary",
          "Documentary",
          "Documentary",
          "Documentary",
          "Documentary",
          "Music & Performance",
          "Music & Performance",
          "Music & Performance",
          "Music & Performance",
          "Music & Performance",
          "Music & Performance",
          "Music & Performance",
          "Music & Performance",
          "Music & Performance",
          "Music & Performance",
          "Cult & B-Movies",
          "Cult & B-Movies",
          "Cult & B-Movies",
          "Cult & B-Movies",
          "Cult & B-Movies",
          "Cult & B-Movies",
          "Cult & B-Movies",
          "Cult & B-Movies",
          "Cult & B-Movies",
          "Cult & B-Movies",
          "Other",
          "Other",
          "Other",
          "Other",
          "Other",
          "Other",
          "Other",
          "Other",
          "Other",
          "Other"
         ],
         "type": "sunburst"
        }
       ],
       "layout": {
        "annotations": [
         {
          "font": {
           "size": 16
          },
          "showarrow": false,
          "text": "Females",
          "x": 0.225,
          "xanchor": "center",
          "xref": "paper",
          "y": 1,
          "yanchor": "bottom",
          "yref": "paper"
         },
         {
          "font": {
           "size": 16
          },
          "showarrow": false,
          "text": "Males",
          "x": 0.775,
          "xanchor": "center",
          "xref": "paper",
          "y": 1,
          "yanchor": "bottom",
          "yref": "paper"
         }
        ],
        "font": {
         "size": 13
        },
        "height": 800,
        "showlegend": false,
        "template": {
         "data": {
          "bar": [
           {
            "error_x": {
             "color": "#2a3f5f"
            },
            "error_y": {
             "color": "#2a3f5f"
            },
            "marker": {
             "line": {
              "color": "#E5ECF6",
              "width": 0.5
             },
             "pattern": {
              "fillmode": "overlay",
              "size": 10,
              "solidity": 0.2
             }
            },
            "type": "bar"
           }
          ],
          "barpolar": [
           {
            "marker": {
             "line": {
              "color": "#E5ECF6",
              "width": 0.5
             },
             "pattern": {
              "fillmode": "overlay",
              "size": 10,
              "solidity": 0.2
             }
            },
            "type": "barpolar"
           }
          ],
          "carpet": [
           {
            "aaxis": {
             "endlinecolor": "#2a3f5f",
             "gridcolor": "white",
             "linecolor": "white",
             "minorgridcolor": "white",
             "startlinecolor": "#2a3f5f"
            },
            "baxis": {
             "endlinecolor": "#2a3f5f",
             "gridcolor": "white",
             "linecolor": "white",
             "minorgridcolor": "white",
             "startlinecolor": "#2a3f5f"
            },
            "type": "carpet"
           }
          ],
          "choropleth": [
           {
            "colorbar": {
             "outlinewidth": 0,
             "ticks": ""
            },
            "type": "choropleth"
           }
          ],
          "contour": [
           {
            "colorbar": {
             "outlinewidth": 0,
             "ticks": ""
            },
            "colorscale": [
             [
              0,
              "#0d0887"
             ],
             [
              0.1111111111111111,
              "#46039f"
             ],
             [
              0.2222222222222222,
              "#7201a8"
             ],
             [
              0.3333333333333333,
              "#9c179e"
             ],
             [
              0.4444444444444444,
              "#bd3786"
             ],
             [
              0.5555555555555556,
              "#d8576b"
             ],
             [
              0.6666666666666666,
              "#ed7953"
             ],
             [
              0.7777777777777778,
              "#fb9f3a"
             ],
             [
              0.8888888888888888,
              "#fdca26"
             ],
             [
              1,
              "#f0f921"
             ]
            ],
            "type": "contour"
           }
          ],
          "contourcarpet": [
           {
            "colorbar": {
             "outlinewidth": 0,
             "ticks": ""
            },
            "type": "contourcarpet"
           }
          ],
          "heatmap": [
           {
            "colorbar": {
             "outlinewidth": 0,
             "ticks": ""
            },
            "colorscale": [
             [
              0,
              "#0d0887"
             ],
             [
              0.1111111111111111,
              "#46039f"
             ],
             [
              0.2222222222222222,
              "#7201a8"
             ],
             [
              0.3333333333333333,
              "#9c179e"
             ],
             [
              0.4444444444444444,
              "#bd3786"
             ],
             [
              0.5555555555555556,
              "#d8576b"
             ],
             [
              0.6666666666666666,
              "#ed7953"
             ],
             [
              0.7777777777777778,
              "#fb9f3a"
             ],
             [
              0.8888888888888888,
              "#fdca26"
             ],
             [
              1,
              "#f0f921"
             ]
            ],
            "type": "heatmap"
           }
          ],
          "heatmapgl": [
           {
            "colorbar": {
             "outlinewidth": 0,
             "ticks": ""
            },
            "colorscale": [
             [
              0,
              "#0d0887"
             ],
             [
              0.1111111111111111,
              "#46039f"
             ],
             [
              0.2222222222222222,
              "#7201a8"
             ],
             [
              0.3333333333333333,
              "#9c179e"
             ],
             [
              0.4444444444444444,
              "#bd3786"
             ],
             [
              0.5555555555555556,
              "#d8576b"
             ],
             [
              0.6666666666666666,
              "#ed7953"
             ],
             [
              0.7777777777777778,
              "#fb9f3a"
             ],
             [
              0.8888888888888888,
              "#fdca26"
             ],
             [
              1,
              "#f0f921"
             ]
            ],
            "type": "heatmapgl"
           }
          ],
          "histogram": [
           {
            "marker": {
             "pattern": {
              "fillmode": "overlay",
              "size": 10,
              "solidity": 0.2
             }
            },
            "type": "histogram"
           }
          ],
          "histogram2d": [
           {
            "colorbar": {
             "outlinewidth": 0,
             "ticks": ""
            },
            "colorscale": [
             [
              0,
              "#0d0887"
             ],
             [
              0.1111111111111111,
              "#46039f"
             ],
             [
              0.2222222222222222,
              "#7201a8"
             ],
             [
              0.3333333333333333,
              "#9c179e"
             ],
             [
              0.4444444444444444,
              "#bd3786"
             ],
             [
              0.5555555555555556,
              "#d8576b"
             ],
             [
              0.6666666666666666,
              "#ed7953"
             ],
             [
              0.7777777777777778,
              "#fb9f3a"
             ],
             [
              0.8888888888888888,
              "#fdca26"
             ],
             [
              1,
              "#f0f921"
             ]
            ],
            "type": "histogram2d"
           }
          ],
          "histogram2dcontour": [
           {
            "colorbar": {
             "outlinewidth": 0,
             "ticks": ""
            },
            "colorscale": [
             [
              0,
              "#0d0887"
             ],
             [
              0.1111111111111111,
              "#46039f"
             ],
             [
              0.2222222222222222,
              "#7201a8"
             ],
             [
              0.3333333333333333,
              "#9c179e"
             ],
             [
              0.4444444444444444,
              "#bd3786"
             ],
             [
              0.5555555555555556,
              "#d8576b"
             ],
             [
              0.6666666666666666,
              "#ed7953"
             ],
             [
              0.7777777777777778,
              "#fb9f3a"
             ],
             [
              0.8888888888888888,
              "#fdca26"
             ],
             [
              1,
              "#f0f921"
             ]
            ],
            "type": "histogram2dcontour"
           }
          ],
          "mesh3d": [
           {
            "colorbar": {
             "outlinewidth": 0,
             "ticks": ""
            },
            "type": "mesh3d"
           }
          ],
          "parcoords": [
           {
            "line": {
             "colorbar": {
              "outlinewidth": 0,
              "ticks": ""
             }
            },
            "type": "parcoords"
           }
          ],
          "pie": [
           {
            "automargin": true,
            "type": "pie"
           }
          ],
          "scatter": [
           {
            "fillpattern": {
             "fillmode": "overlay",
             "size": 10,
             "solidity": 0.2
            },
            "type": "scatter"
           }
          ],
          "scatter3d": [
           {
            "line": {
             "colorbar": {
              "outlinewidth": 0,
              "ticks": ""
             }
            },
            "marker": {
             "colorbar": {
              "outlinewidth": 0,
              "ticks": ""
             }
            },
            "type": "scatter3d"
           }
          ],
          "scattercarpet": [
           {
            "marker": {
             "colorbar": {
              "outlinewidth": 0,
              "ticks": ""
             }
            },
            "type": "scattercarpet"
           }
          ],
          "scattergeo": [
           {
            "marker": {
             "colorbar": {
              "outlinewidth": 0,
              "ticks": ""
             }
            },
            "type": "scattergeo"
           }
          ],
          "scattergl": [
           {
            "marker": {
             "colorbar": {
              "outlinewidth": 0,
              "ticks": ""
             }
            },
            "type": "scattergl"
           }
          ],
          "scattermapbox": [
           {
            "marker": {
             "colorbar": {
              "outlinewidth": 0,
              "ticks": ""
             }
            },
            "type": "scattermapbox"
           }
          ],
          "scatterpolar": [
           {
            "marker": {
             "colorbar": {
              "outlinewidth": 0,
              "ticks": ""
             }
            },
            "type": "scatterpolar"
           }
          ],
          "scatterpolargl": [
           {
            "marker": {
             "colorbar": {
              "outlinewidth": 0,
              "ticks": ""
             }
            },
            "type": "scatterpolargl"
           }
          ],
          "scatterternary": [
           {
            "marker": {
             "colorbar": {
              "outlinewidth": 0,
              "ticks": ""
             }
            },
            "type": "scatterternary"
           }
          ],
          "surface": [
           {
            "colorbar": {
             "outlinewidth": 0,
             "ticks": ""
            },
            "colorscale": [
             [
              0,
              "#0d0887"
             ],
             [
              0.1111111111111111,
              "#46039f"
             ],
             [
              0.2222222222222222,
              "#7201a8"
             ],
             [
              0.3333333333333333,
              "#9c179e"
             ],
             [
              0.4444444444444444,
              "#bd3786"
             ],
             [
              0.5555555555555556,
              "#d8576b"
             ],
             [
              0.6666666666666666,
              "#ed7953"
             ],
             [
              0.7777777777777778,
              "#fb9f3a"
             ],
             [
              0.8888888888888888,
              "#fdca26"
             ],
             [
              1,
              "#f0f921"
             ]
            ],
            "type": "surface"
           }
          ],
          "table": [
           {
            "cells": {
             "fill": {
              "color": "#EBF0F8"
             },
             "line": {
              "color": "white"
             }
            },
            "header": {
             "fill": {
              "color": "#C8D4E3"
             },
             "line": {
              "color": "white"
             }
            },
            "type": "table"
           }
          ]
         },
         "layout": {
          "annotationdefaults": {
           "arrowcolor": "#2a3f5f",
           "arrowhead": 0,
           "arrowwidth": 1
          },
          "autotypenumbers": "strict",
          "coloraxis": {
           "colorbar": {
            "outlinewidth": 0,
            "ticks": ""
           }
          },
          "colorscale": {
           "diverging": [
            [
             0,
             "#8e0152"
            ],
            [
             0.1,
             "#c51b7d"
            ],
            [
             0.2,
             "#de77ae"
            ],
            [
             0.3,
             "#f1b6da"
            ],
            [
             0.4,
             "#fde0ef"
            ],
            [
             0.5,
             "#f7f7f7"
            ],
            [
             0.6,
             "#e6f5d0"
            ],
            [
             0.7,
             "#b8e186"
            ],
            [
             0.8,
             "#7fbc41"
            ],
            [
             0.9,
             "#4d9221"
            ],
            [
             1,
             "#276419"
            ]
           ],
           "sequential": [
            [
             0,
             "#0d0887"
            ],
            [
             0.1111111111111111,
             "#46039f"
            ],
            [
             0.2222222222222222,
             "#7201a8"
            ],
            [
             0.3333333333333333,
             "#9c179e"
            ],
            [
             0.4444444444444444,
             "#bd3786"
            ],
            [
             0.5555555555555556,
             "#d8576b"
            ],
            [
             0.6666666666666666,
             "#ed7953"
            ],
            [
             0.7777777777777778,
             "#fb9f3a"
            ],
            [
             0.8888888888888888,
             "#fdca26"
            ],
            [
             1,
             "#f0f921"
            ]
           ],
           "sequentialminus": [
            [
             0,
             "#0d0887"
            ],
            [
             0.1111111111111111,
             "#46039f"
            ],
            [
             0.2222222222222222,
             "#7201a8"
            ],
            [
             0.3333333333333333,
             "#9c179e"
            ],
            [
             0.4444444444444444,
             "#bd3786"
            ],
            [
             0.5555555555555556,
             "#d8576b"
            ],
            [
             0.6666666666666666,
             "#ed7953"
            ],
            [
             0.7777777777777778,
             "#fb9f3a"
            ],
            [
             0.8888888888888888,
             "#fdca26"
            ],
            [
             1,
             "#f0f921"
            ]
           ]
          },
          "colorway": [
           "#636efa",
           "#EF553B",
           "#00cc96",
           "#ab63fa",
           "#FFA15A",
           "#19d3f3",
           "#FF6692",
           "#B6E880",
           "#FF97FF",
           "#FECB52"
          ],
          "font": {
           "color": "#2a3f5f"
          },
          "geo": {
           "bgcolor": "white",
           "lakecolor": "white",
           "landcolor": "#E5ECF6",
           "showlakes": true,
           "showland": true,
           "subunitcolor": "white"
          },
          "hoverlabel": {
           "align": "left"
          },
          "hovermode": "closest",
          "mapbox": {
           "style": "light"
          },
          "paper_bgcolor": "white",
          "plot_bgcolor": "#E5ECF6",
          "polar": {
           "angularaxis": {
            "gridcolor": "white",
            "linecolor": "white",
            "ticks": ""
           },
           "bgcolor": "#E5ECF6",
           "radialaxis": {
            "gridcolor": "white",
            "linecolor": "white",
            "ticks": ""
           }
          },
          "scene": {
           "xaxis": {
            "backgroundcolor": "#E5ECF6",
            "gridcolor": "white",
            "gridwidth": 2,
            "linecolor": "white",
            "showbackground": true,
            "ticks": "",
            "zerolinecolor": "white"
           },
           "yaxis": {
            "backgroundcolor": "#E5ECF6",
            "gridcolor": "white",
            "gridwidth": 2,
            "linecolor": "white",
            "showbackground": true,
            "ticks": "",
            "zerolinecolor": "white"
           },
           "zaxis": {
            "backgroundcolor": "#E5ECF6",
            "gridcolor": "white",
            "gridwidth": 2,
            "linecolor": "white",
            "showbackground": true,
            "ticks": "",
            "zerolinecolor": "white"
           }
          },
          "shapedefaults": {
           "line": {
            "color": "#2a3f5f"
           }
          },
          "ternary": {
           "aaxis": {
            "gridcolor": "white",
            "linecolor": "white",
            "ticks": ""
           },
           "baxis": {
            "gridcolor": "white",
            "linecolor": "white",
            "ticks": ""
           },
           "bgcolor": "#E5ECF6",
           "caxis": {
            "gridcolor": "white",
            "linecolor": "white",
            "ticks": ""
           }
          },
          "title": {
           "x": 0.05
          },
          "xaxis": {
           "automargin": true,
           "gridcolor": "white",
           "linecolor": "white",
           "ticks": "",
           "title": {
            "standoff": 15
           },
           "zerolinecolor": "white",
           "zerolinewidth": 2
          },
          "yaxis": {
           "automargin": true,
           "gridcolor": "white",
           "linecolor": "white",
           "ticks": "",
           "title": {
            "standoff": 15
           },
           "zerolinecolor": "white",
           "zerolinewidth": 2
          }
         }
        },
        "title": {
         "text": "TOP 10 Names by Genre and Gender (Press on the Genre to see the names)"
        },
        "width": 1600
       }
      }
     },
     "metadata": {},
     "output_type": "display_data"
    }
   ],
   "source": [
    "# Create the sunburst plots for females and males\n",
    "fig_females = go.Figure(go.Sunburst(\n",
    "    labels=data_f['character'],\n",
    "    parents=data_f['parent'],\n",
    "    domain=dict(column=1),\n",
    "    maxdepth=2\n",
    "))\n",
    "\n",
    "fig_males = go.Figure(go.Sunburst(\n",
    "    labels=data_m['character'],\n",
    "    parents=data_m['parent'],\n",
    "    domain=dict(column=1),\n",
    "    maxdepth=2\n",
    "))\n",
    "\n",
    "fig = make_subplots(\n",
    "    rows=1, cols=2,\n",
    "    subplot_titles=[\"Females\", \"Males\"],\n",
    "    specs=[[{\"type\": \"sunburst\"}, {\"type\": \"sunburst\"}]]\n",
    ")\n",
    "\n",
    "fig.add_trace(fig_females['data'][0], row=1, col=1)\n",
    "fig.add_trace(fig_males['data'][0], row=1, col=2)\n",
    "\n",
    "fig.update_layout(\n",
    "    title_text=\"TOP 10 Names by Genre and Gender (Press on the Genre to see the names)\",\n",
    "    showlegend=False,\n",
    "    width=1600,\n",
    "    height=800,\n",
    "    font=dict(size=13),\n",
    ")\n",
    "\n",
    "fig.show()"
   ]
  },
  {
   "cell_type": "markdown",
   "metadata": {},
   "source": [
    "### 2.1.b Character Search Engine"
   ]
  },
  {
   "cell_type": "markdown",
   "metadata": {},
   "source": [
    "We created a movie finder where a specific string can be found in one of the characters name within our dataset."
   ]
  },
  {
   "cell_type": "code",
   "execution_count": 61,
   "metadata": {},
   "outputs": [
    {
     "data": {
      "text/html": [
       "<div>\n",
       "<style scoped>\n",
       "    .dataframe tbody tr th:only-of-type {\n",
       "        vertical-align: middle;\n",
       "    }\n",
       "\n",
       "    .dataframe tbody tr th {\n",
       "        vertical-align: top;\n",
       "    }\n",
       "\n",
       "    .dataframe thead th {\n",
       "        text-align: right;\n",
       "    }\n",
       "</style>\n",
       "<table border=\"1\" class=\"dataframe\">\n",
       "  <thead>\n",
       "    <tr style=\"text-align: right;\">\n",
       "      <th></th>\n",
       "      <th>Genre_Category</th>\n",
       "      <th>Count</th>\n",
       "    </tr>\n",
       "  </thead>\n",
       "  <tbody>\n",
       "    <tr>\n",
       "      <th>0</th>\n",
       "      <td>Action &amp; Adventure</td>\n",
       "      <td>166</td>\n",
       "    </tr>\n",
       "    <tr>\n",
       "      <th>1</th>\n",
       "      <td>Drama</td>\n",
       "      <td>250</td>\n",
       "    </tr>\n",
       "    <tr>\n",
       "      <th>2</th>\n",
       "      <td>Comedy</td>\n",
       "      <td>142</td>\n",
       "    </tr>\n",
       "    <tr>\n",
       "      <th>3</th>\n",
       "      <td>Horror &amp; Thriller</td>\n",
       "      <td>111</td>\n",
       "    </tr>\n",
       "    <tr>\n",
       "      <th>4</th>\n",
       "      <td>Fantasy &amp; Sci-Fi</td>\n",
       "      <td>66</td>\n",
       "    </tr>\n",
       "    <tr>\n",
       "      <th>5</th>\n",
       "      <td>Historical &amp; War</td>\n",
       "      <td>56</td>\n",
       "    </tr>\n",
       "    <tr>\n",
       "      <th>6</th>\n",
       "      <td>Romance</td>\n",
       "      <td>84</td>\n",
       "    </tr>\n",
       "    <tr>\n",
       "      <th>7</th>\n",
       "      <td>Documentary</td>\n",
       "      <td>21</td>\n",
       "    </tr>\n",
       "    <tr>\n",
       "      <th>8</th>\n",
       "      <td>Music &amp; Performance</td>\n",
       "      <td>15</td>\n",
       "    </tr>\n",
       "    <tr>\n",
       "      <th>9</th>\n",
       "      <td>Cult &amp; B-Movies</td>\n",
       "      <td>49</td>\n",
       "    </tr>\n",
       "    <tr>\n",
       "      <th>10</th>\n",
       "      <td>Other</td>\n",
       "      <td>3</td>\n",
       "    </tr>\n",
       "    <tr>\n",
       "      <th>11</th>\n",
       "      <td>Total different movies</td>\n",
       "      <td>370</td>\n",
       "    </tr>\n",
       "  </tbody>\n",
       "</table>\n",
       "</div>"
      ],
      "text/plain": [
       "            Genre_Category  Count\n",
       "0       Action & Adventure    166\n",
       "1                    Drama    250\n",
       "2                   Comedy    142\n",
       "3        Horror & Thriller    111\n",
       "4         Fantasy & Sci-Fi     66\n",
       "5         Historical & War     56\n",
       "6                  Romance     84\n",
       "7              Documentary     21\n",
       "8      Music & Performance     15\n",
       "9          Cult & B-Movies     49\n",
       "10                   Other      3\n",
       "11  Total different movies    370"
      ]
     },
     "execution_count": 61,
     "metadata": {},
     "output_type": "execute_result"
    }
   ],
   "source": [
    "# Looking for the appearance of all the character with a name starting by the selected string\n",
    "\n",
    "genre_counts_result, movies_with_name = analyze_genre.count_name_appearance_by_genre('Leo')\n",
    "genre_counts_result.head(15)    # Print the genre of the movies where this character exists"
   ]
  },
  {
   "cell_type": "code",
   "execution_count": 62,
   "metadata": {},
   "outputs": [
    {
     "data": {
      "text/html": [
       "<div>\n",
       "<style scoped>\n",
       "    .dataframe tbody tr th:only-of-type {\n",
       "        vertical-align: middle;\n",
       "    }\n",
       "\n",
       "    .dataframe tbody tr th {\n",
       "        vertical-align: top;\n",
       "    }\n",
       "\n",
       "    .dataframe thead th {\n",
       "        text-align: right;\n",
       "    }\n",
       "</style>\n",
       "<table border=\"1\" class=\"dataframe\">\n",
       "  <thead>\n",
       "    <tr style=\"text-align: right;\">\n",
       "      <th></th>\n",
       "      <th>Wikipedia_ID</th>\n",
       "      <th>Name</th>\n",
       "      <th>Languages</th>\n",
       "      <th>Country</th>\n",
       "      <th>Genres</th>\n",
       "      <th>Character_name</th>\n",
       "      <th>Sex</th>\n",
       "      <th>Actor_age</th>\n",
       "      <th>Release_date</th>\n",
       "      <th>Genre_Category</th>\n",
       "    </tr>\n",
       "  </thead>\n",
       "  <tbody>\n",
       "    <tr>\n",
       "      <th>99</th>\n",
       "      <td>27611999</td>\n",
       "      <td>Special Effects</td>\n",
       "      <td>[]</td>\n",
       "      <td>[United States of America, United Kingdom]</td>\n",
       "      <td>[Thriller, Horror, Psychological thriller, Sus...</td>\n",
       "      <td>Leon</td>\n",
       "      <td>NaN</td>\n",
       "      <td>NaN</td>\n",
       "      <td>1984</td>\n",
       "      <td>[Action &amp; Adventure, Horror &amp; Thriller, Drama,...</td>\n",
       "    </tr>\n",
       "    <tr>\n",
       "      <th>539</th>\n",
       "      <td>21271533</td>\n",
       "      <td>Bleeder</td>\n",
       "      <td>[Danish Language]</td>\n",
       "      <td>[Denmark]</td>\n",
       "      <td>[Thriller, Drama]</td>\n",
       "      <td>Leo</td>\n",
       "      <td>M</td>\n",
       "      <td>34.0</td>\n",
       "      <td>1999-08-06</td>\n",
       "      <td>[Action &amp; Adventure, Horror &amp; Thriller, Drama]</td>\n",
       "    </tr>\n",
       "    <tr>\n",
       "      <th>567</th>\n",
       "      <td>17379289</td>\n",
       "      <td>Without Warning</td>\n",
       "      <td>[English Language]</td>\n",
       "      <td>[United States of America]</td>\n",
       "      <td>[Science Fiction, Horror]</td>\n",
       "      <td>Leo</td>\n",
       "      <td>M</td>\n",
       "      <td>60.0</td>\n",
       "      <td>1980-11-26</td>\n",
       "      <td>[Fantasy &amp; Sci-Fi, Horror &amp; Thriller]</td>\n",
       "    </tr>\n",
       "    <tr>\n",
       "      <th>731</th>\n",
       "      <td>13911991</td>\n",
       "      <td>A Sereia de Pedra</td>\n",
       "      <td>[French Language]</td>\n",
       "      <td>[France, Portugal]</td>\n",
       "      <td>[Silent film, Drama]</td>\n",
       "      <td>Leonor</td>\n",
       "      <td>F</td>\n",
       "      <td>NaN</td>\n",
       "      <td>1923-04-02</td>\n",
       "      <td>[Drama]</td>\n",
       "    </tr>\n",
       "    <tr>\n",
       "      <th>2046</th>\n",
       "      <td>20927265</td>\n",
       "      <td>Camões</td>\n",
       "      <td>[Portuguese Language]</td>\n",
       "      <td>[Portugal]</td>\n",
       "      <td>[Biography, Drama]</td>\n",
       "      <td>Leonor</td>\n",
       "      <td>F</td>\n",
       "      <td>24.0</td>\n",
       "      <td>1946-09-20</td>\n",
       "      <td>[Documentary, Drama]</td>\n",
       "    </tr>\n",
       "  </tbody>\n",
       "</table>\n",
       "</div>"
      ],
      "text/plain": [
       "      Wikipedia_ID               Name              Languages  \\\n",
       "99        27611999    Special Effects                     []   \n",
       "539       21271533            Bleeder      [Danish Language]   \n",
       "567       17379289    Without Warning     [English Language]   \n",
       "731       13911991  A Sereia de Pedra      [French Language]   \n",
       "2046      20927265             Camões  [Portuguese Language]   \n",
       "\n",
       "                                         Country  \\\n",
       "99    [United States of America, United Kingdom]   \n",
       "539                                    [Denmark]   \n",
       "567                   [United States of America]   \n",
       "731                           [France, Portugal]   \n",
       "2046                                  [Portugal]   \n",
       "\n",
       "                                                 Genres Character_name  Sex  \\\n",
       "99    [Thriller, Horror, Psychological thriller, Sus...           Leon  NaN   \n",
       "539                                   [Thriller, Drama]            Leo    M   \n",
       "567                           [Science Fiction, Horror]            Leo    M   \n",
       "731                                [Silent film, Drama]         Leonor    F   \n",
       "2046                                 [Biography, Drama]         Leonor    F   \n",
       "\n",
       "      Actor_age Release_date  \\\n",
       "99          NaN         1984   \n",
       "539        34.0   1999-08-06   \n",
       "567        60.0   1980-11-26   \n",
       "731         NaN   1923-04-02   \n",
       "2046       24.0   1946-09-20   \n",
       "\n",
       "                                         Genre_Category  \n",
       "99    [Action & Adventure, Horror & Thriller, Drama,...  \n",
       "539      [Action & Adventure, Horror & Thriller, Drama]  \n",
       "567               [Fantasy & Sci-Fi, Horror & Thriller]  \n",
       "731                                             [Drama]  \n",
       "2046                               [Documentary, Drama]  "
      ]
     },
     "execution_count": 62,
     "metadata": {},
     "output_type": "execute_result"
    }
   ],
   "source": [
    "# General list of the movies where this character is\n",
    "movies_with_name.head(5)"
   ]
  },
  {
   "cell_type": "markdown",
   "metadata": {},
   "source": [
    "### 2.1.c Statistical analysis for Genre"
   ]
  },
  {
   "cell_type": "markdown",
   "metadata": {},
   "source": [
    "In order to compare the influence of genre on the characters' names, we decided to run chi2 tests and a Cramér's V test. This will allow us to highlight a possible influence."
   ]
  },
  {
   "cell_type": "code",
   "execution_count": 63,
   "metadata": {},
   "outputs": [
    {
     "name": "stdout",
     "output_type": "stream",
     "text": [
      "Chi-Square Statistic: 421199.3709942177\n",
      "p-value: 0.0\n"
     ]
    }
   ],
   "source": [
    "df_expanded = df_char_cleaned.explode('Genre_Category')\n",
    "\n",
    "contingency_table = create_contingency_table(df_expanded,'Character_name','Genre_Category')\n",
    "chi2, p_value, dof, expected = stats.chi2_contingency(contingency_table)\n",
    "\n",
    "print(f\"Chi-Square Statistic: {chi2}\")\n",
    "print(f\"p-value: {p_value}\")"
   ]
  },
  {
   "cell_type": "markdown",
   "metadata": {},
   "source": [
    "The p-value is very close to zero, hence we can say taht there is an association between character names and genres. We will now try to quantify this association using Cramér's V."
   ]
  },
  {
   "cell_type": "code",
   "execution_count": 64,
   "metadata": {},
   "outputs": [
    {
     "name": "stdout",
     "output_type": "stream",
     "text": [
      "Cramér's V: 0.3317263855364535\n"
     ]
    }
   ],
   "source": [
    "n = contingency_table.sum().sum()\n",
    "k = min(contingency_table.shape)\n",
    "cramers_v = np.sqrt(chi2 / (n * (k - 1)))\n",
    "\n",
    "print(f\"Cramér's V: {cramers_v}\")"
   ]
  },
  {
   "cell_type": "markdown",
   "metadata": {},
   "source": [
    "The Cramér's V is close to 0.35, meaning there is a moderate association between genres and character names."
   ]
  },
  {
   "cell_type": "markdown",
   "metadata": {},
   "source": [
    "## 2.2 Gender Analysis"
   ]
  },
  {
   "cell_type": "markdown",
   "metadata": {},
   "source": [
    "The purpose of this section is to conjecture if wether or not a correlation between characters' names and their gender can be found. For that, we analyzed length, vowels and consonants' counts distributions in the names and compared it depending on character's gender."
   ]
  },
  {
   "cell_type": "code",
   "execution_count": 65,
   "metadata": {},
   "outputs": [],
   "source": [
    "analyze_gender = GenderAnalyzer(df_char_cleaned)\n",
    "df_vowels, df_consonants = analyze_gender.get_vowel_stats()"
   ]
  },
  {
   "cell_type": "markdown",
   "metadata": {},
   "source": [
    "### 2.2.a Vowels and consonants count"
   ]
  },
  {
   "cell_type": "code",
   "execution_count": 66,
   "metadata": {},
   "outputs": [
    {
     "data": {
      "image/png": "[encoded data removed]",
      "text/plain": [
       "<Figure size 1400x600 with 2 Axes>"
      ]
     },
     "metadata": {},
     "output_type": "display_data"
    }
   ],
   "source": [
    "fig, axes = plt.subplots(1, 2, figsize=(14, 6))\n",
    "\n",
    "# Boxplot for vowel count by sex\n",
    "sns.boxenplot(data=df_char_cleaned, x='Sex', y='vowel_count', ax=axes[0])\n",
    "axes[0].set_title('Vowel Count by Gender')\n",
    "axes[0].set_xlabel('Gender')\n",
    "axes[0].set_ylabel('Vowel Count')\n",
    "\n",
    "# Boxplot for consonant count by sex\n",
    "sns.boxenplot(data=df_char_cleaned, x='Sex', y='consonant_count', ax=axes[1])\n",
    "axes[1].set_title('Consonant Count by Gender')\n",
    "axes[1].set_xlabel('Gender')\n",
    "axes[1].set_ylabel('Consonant Count')\n",
    "\n",
    "plt.tight_layout()"
   ]
  },
  {
   "cell_type": "markdown",
   "metadata": {},
   "source": [
    "### 2.2.b Name Length per gender"
   ]
  },
  {
   "cell_type": "code",
   "execution_count": 67,
   "metadata": {},
   "outputs": [
    {
     "name": "stdout",
     "output_type": "stream",
     "text": [
      "Length stats for character names by sex:\n"
     ]
    },
    {
     "data": {
      "text/html": [
       "<div>\n",
       "<style scoped>\n",
       "    .dataframe tbody tr th:only-of-type {\n",
       "        vertical-align: middle;\n",
       "    }\n",
       "\n",
       "    .dataframe tbody tr th {\n",
       "        vertical-align: top;\n",
       "    }\n",
       "\n",
       "    .dataframe thead th {\n",
       "        text-align: right;\n",
       "    }\n",
       "</style>\n",
       "<table border=\"1\" class=\"dataframe\">\n",
       "  <thead>\n",
       "    <tr style=\"text-align: right;\">\n",
       "      <th></th>\n",
       "      <th>mean</th>\n",
       "      <th>std</th>\n",
       "    </tr>\n",
       "    <tr>\n",
       "      <th>Sex</th>\n",
       "      <th></th>\n",
       "      <th></th>\n",
       "    </tr>\n",
       "  </thead>\n",
       "  <tbody>\n",
       "    <tr>\n",
       "      <th>F</th>\n",
       "      <td>5.862596</td>\n",
       "      <td>1.672915</td>\n",
       "    </tr>\n",
       "    <tr>\n",
       "      <th>M</th>\n",
       "      <td>5.847955</td>\n",
       "      <td>1.845403</td>\n",
       "    </tr>\n",
       "  </tbody>\n",
       "</table>\n",
       "</div>"
      ],
      "text/plain": [
       "         mean       std\n",
       "Sex                    \n",
       "F    5.862596  1.672915\n",
       "M    5.847955  1.845403"
      ]
     },
     "execution_count": 67,
     "metadata": {},
     "output_type": "execute_result"
    }
   ],
   "source": [
    "df_length = analyze_gender.get_length_stats()\n",
    "\n",
    "print('Length stats for character names by sex:')\n",
    "df_length.head()"
   ]
  },
  {
   "cell_type": "code",
   "execution_count": 68,
   "metadata": {},
   "outputs": [
    {
     "data": {
      "image/png": "[encoded data removed]",
      "text/plain": [
       "<Figure size 640x480 with 1 Axes>"
      ]
     },
     "metadata": {},
     "output_type": "display_data"
    }
   ],
   "source": [
    "analyze_gender.create_boxenplot_by_sex()"
   ]
  },
  {
   "cell_type": "markdown",
   "metadata": {},
   "source": [
    "### 2.2.c First and last letters of the characters' name depending on the gender"
   ]
  },
  {
   "cell_type": "markdown",
   "metadata": {},
   "source": [
    "*Interactive hover plot in this section*"
   ]
  },
  {
   "cell_type": "code",
   "execution_count": 69,
   "metadata": {},
   "outputs": [
    {
     "data": {
      "application/vnd.plotly.v1+json": {
       "config": {
        "plotlyServerURL": "https://plot.ly"
       },
       "data": [
        {
         "hoverinfo": "text",
         "hovertext": [
          "Top names: Steve, Sam, Simon",
          "Top names: John, James, Jack",
          "Top names: Michael, Max, Mike",
          "Top names: Robert, Richard, Roy",
          "Top names: Bob, Bill, Billy",
          "Top names: Arthur, Alex, Adam",
          "Top names: Charlie, Charles, Chris",
          "Top names: David, Danny, Dave",
          "Top names: Paul, Peter, Phil",
          "Top names: George, Guy, Gary",
          "Top names: Tom, Thomas, Tony",
          "Top names: Harry, Henry, Howard",
          "Top names: Kevin, Karl, Kid",
          "Top names: Louis, Larry, Leo",
          "Top names: Frank, Fred, Francis",
          "Top names: William, Walter, Wilson",
          "Top names: Eddie, Ed, Edward",
          "Top names: Nick, Norman, Neil",
          "Top names: Vijay, Vikram, Victor",
          "Top names: Oliver, Oscar, Owen",
          "Top names: Ivan, Il, Ian",
          "Top names: Yosemite, Yuri, Yu",
          "Top names: Zack, Zach, Zeke",
          "Top names: Uday, Ulysses, Usman",
          "Top names: Quentin, Quinn, Quincy",
          "Top names: Xavier, Xiao, Xander"
         ],
         "marker": {
          "color": "skyblue"
         },
         "name": "Male",
         "type": "bar",
         "x": [
          "s",
          "j",
          "m",
          "r",
          "b",
          "a",
          "c",
          "d",
          "p",
          "g",
          "t",
          "h",
          "k",
          "l",
          "f",
          "w",
          "e",
          "n",
          "v",
          "o",
          "i",
          "y",
          "z",
          "u",
          "q",
          "x"
         ],
         "y": [
          8.327948220861412,
          8.19152537157276,
          7.744304602476126,
          6.91551014965484,
          6.674462258054589,
          6.223138546122206,
          6.033377439968818,
          5.885671497881856,
          4.78608281790114,
          4.662994532828671,
          4.638376875814178,
          4.519391533577458,
          4.127560492763434,
          3.871126565529126,
          3.1192622908781322,
          3.024894605655907,
          2.7499974356607275,
          2.3735524304807623,
          2.214563395595491,
          1.0831769086377203,
          0.9713717163635618,
          0.6010811254372198,
          0.5990296540193454,
          0.30669497697223336,
          0.21950744171256834,
          0.07898164958816711
         ]
        },
        {
         "hoverinfo": "text",
         "hovertext": [
          "Top names: Sarah, Susan, Sara",
          "Top names: Julie, Jane, Jennifer",
          "Top names: Mary, Marie, Maggie",
          "Top names: Rachel, Rose, Rebecca",
          "Top names: Barbara, Betty, Beth",
          "Top names: Alice, Anna, Anne",
          "Top names: Claire, Charlotte, Catherine",
          "Top names: Diane, Diana, Dorothy",
          "Top names: Priya, Pooja, Paula",
          "Top names: Gloria, Grace, Gina",
          "Top names: Tina, Tanya, Tracy",
          "Top names: Helen, Hannah, Heather",
          "Top names: Kate, Karen, Katie",
          "Top names: Lisa, Linda, La",
          "Top names: Frau, Frances, Fiona",
          "Top names: Wendy, Wanda, Williams",
          "Top names: Elizabeth, Emily, Ellen",
          "Top names: Nina, Nicole, Nancy",
          "Top names: Victoria, Vanessa, Valerie",
          "Top names: Olivia, Olga, Ophelia",
          "Top names: Isabelle, Isabel, Irene",
          "Top names: Yvonne, Yvette, Yolanda",
          "Top names: Zoe, Zoey, Zora",
          "Top names: Ursula, Usha, Uma",
          "Top names: Quinn, Queenie, Qiu",
          "Top names: Xiao, Xu, Ximena"
         ],
         "marker": {
          "color": "salmon"
         },
         "name": "Female",
         "type": "bar",
         "x": [
          "s",
          "j",
          "m",
          "r",
          "b",
          "a",
          "c",
          "d",
          "p",
          "g",
          "t",
          "h",
          "k",
          "l",
          "f",
          "w",
          "e",
          "n",
          "v",
          "o",
          "i",
          "y",
          "z",
          "u",
          "q",
          "x"
         ],
         "y": [
          10.330899213320635,
          6.141743394362719,
          11.122870144988887,
          4.958196634564504,
          4.940558083747839,
          8.037887607154197,
          7.4364130243059225,
          4.321444950082901,
          3.83462094754295,
          3.637069178396303,
          3.3513246551663314,
          3.2349102197763435,
          4.59307863265954,
          6.826119166049318,
          2.146611634388119,
          1.4516527322115214,
          4.351430486471231,
          3.310755988288002,
          2.1342646488164534,
          0.7566938300349243,
          1.3105443256782023,
          0.6314601192366035,
          0.5820721769499418,
          0.31396620453663526,
          0.09701202949165696,
          0.08995660916499101
         ]
        }
       ],
       "layout": {
        "barmode": "group",
        "legend": {
         "title": {
          "text": "Gender"
         }
        },
        "template": {
         "data": {
          "bar": [
           {
            "error_x": {
             "color": "#2a3f5f"
            },
            "error_y": {
             "color": "#2a3f5f"
            },
            "marker": {
             "line": {
              "color": "#E5ECF6",
              "width": 0.5
             },
             "pattern": {
              "fillmode": "overlay",
              "size": 10,
              "solidity": 0.2
             }
            },
            "type": "bar"
           }
          ],
          "barpolar": [
           {
            "marker": {
             "line": {
              "color": "#E5ECF6",
              "width": 0.5
             },
             "pattern": {
              "fillmode": "overlay",
              "size": 10,
              "solidity": 0.2
             }
            },
            "type": "barpolar"
           }
          ],
          "carpet": [
           {
            "aaxis": {
             "endlinecolor": "#2a3f5f",
             "gridcolor": "white",
             "linecolor": "white",
             "minorgridcolor": "white",
             "startlinecolor": "#2a3f5f"
            },
            "baxis": {
             "endlinecolor": "#2a3f5f",
             "gridcolor": "white",
             "linecolor": "white",
             "minorgridcolor": "white",
             "startlinecolor": "#2a3f5f"
            },
            "type": "carpet"
           }
          ],
          "choropleth": [
           {
            "colorbar": {
             "outlinewidth": 0,
             "ticks": ""
            },
            "type": "choropleth"
           }
          ],
          "contour": [
           {
            "colorbar": {
             "outlinewidth": 0,
             "ticks": ""
            },
            "colorscale": [
             [
              0,
              "#0d0887"
             ],
             [
              0.1111111111111111,
              "#46039f"
             ],
             [
              0.2222222222222222,
              "#7201a8"
             ],
             [
              0.3333333333333333,
              "#9c179e"
             ],
             [
              0.4444444444444444,
              "#bd3786"
             ],
             [
              0.5555555555555556,
              "#d8576b"
             ],
             [
              0.6666666666666666,
              "#ed7953"
             ],
             [
              0.7777777777777778,
              "#fb9f3a"
             ],
             [
              0.8888888888888888,
              "#fdca26"
             ],
             [
              1,
              "#f0f921"
             ]
            ],
            "type": "contour"
           }
          ],
          "contourcarpet": [
           {
            "colorbar": {
             "outlinewidth": 0,
             "ticks": ""
            },
            "type": "contourcarpet"
           }
          ],
          "heatmap": [
           {
            "colorbar": {
             "outlinewidth": 0,
             "ticks": ""
            },
            "colorscale": [
             [
              0,
              "#0d0887"
             ],
             [
              0.1111111111111111,
              "#46039f"
             ],
             [
              0.2222222222222222,
              "#7201a8"
             ],
             [
              0.3333333333333333,
              "#9c179e"
             ],
             [
              0.4444444444444444,
              "#bd3786"
             ],
             [
              0.5555555555555556,
              "#d8576b"
             ],
             [
              0.6666666666666666,
              "#ed7953"
             ],
             [
              0.7777777777777778,
              "#fb9f3a"
             ],
             [
              0.8888888888888888,
              "#fdca26"
             ],
             [
              1,
              "#f0f921"
             ]
            ],
            "type": "heatmap"
           }
          ],
          "heatmapgl": [
           {
            "colorbar": {
             "outlinewidth": 0,
             "ticks": ""
            },
            "colorscale": [
             [
              0,
              "#0d0887"
             ],
             [
              0.1111111111111111,
              "#46039f"
             ],
             [
              0.2222222222222222,
              "#7201a8"
             ],
             [
              0.3333333333333333,
              "#9c179e"
             ],
             [
              0.4444444444444444,
              "#bd3786"
             ],
             [
              0.5555555555555556,
              "#d8576b"
             ],
             [
              0.6666666666666666,
              "#ed7953"
             ],
             [
              0.7777777777777778,
              "#fb9f3a"
             ],
             [
              0.8888888888888888,
              "#fdca26"
             ],
             [
              1,
              "#f0f921"
             ]
            ],
            "type": "heatmapgl"
           }
          ],
          "histogram": [
           {
            "marker": {
             "pattern": {
              "fillmode": "overlay",
              "size": 10,
              "solidity": 0.2
             }
            },
            "type": "histogram"
           }
          ],
          "histogram2d": [
           {
            "colorbar": {
             "outlinewidth": 0,
             "ticks": ""
            },
            "colorscale": [
             [
              0,
              "#0d0887"
             ],
             [
              0.1111111111111111,
              "#46039f"
             ],
             [
              0.2222222222222222,
              "#7201a8"
             ],
             [
              0.3333333333333333,
              "#9c179e"
             ],
             [
              0.4444444444444444,
              "#bd3786"
             ],
             [
              0.5555555555555556,
              "#d8576b"
             ],
             [
              0.6666666666666666,
              "#ed7953"
             ],
             [
              0.7777777777777778,
              "#fb9f3a"
             ],
             [
              0.8888888888888888,
              "#fdca26"
             ],
             [
              1,
              "#f0f921"
             ]
            ],
            "type": "histogram2d"
           }
          ],
          "histogram2dcontour": [
           {
            "colorbar": {
             "outlinewidth": 0,
             "ticks": ""
            },
            "colorscale": [
             [
              0,
              "#0d0887"
             ],
             [
              0.1111111111111111,
              "#46039f"
             ],
             [
              0.2222222222222222,
              "#7201a8"
             ],
             [
              0.3333333333333333,
              "#9c179e"
             ],
             [
              0.4444444444444444,
              "#bd3786"
             ],
             [
              0.5555555555555556,
              "#d8576b"
             ],
             [
              0.6666666666666666,
              "#ed7953"
             ],
             [
              0.7777777777777778,
              "#fb9f3a"
             ],
             [
              0.8888888888888888,
              "#fdca26"
             ],
             [
              1,
              "#f0f921"
             ]
            ],
            "type": "histogram2dcontour"
           }
          ],
          "mesh3d": [
           {
            "colorbar": {
             "outlinewidth": 0,
             "ticks": ""
            },
            "type": "mesh3d"
           }
          ],
          "parcoords": [
           {
            "line": {
             "colorbar": {
              "outlinewidth": 0,
              "ticks": ""
             }
            },
            "type": "parcoords"
           }
          ],
          "pie": [
           {
            "automargin": true,
            "type": "pie"
           }
          ],
          "scatter": [
           {
            "fillpattern": {
             "fillmode": "overlay",
             "size": 10,
             "solidity": 0.2
            },
            "type": "scatter"
           }
          ],
          "scatter3d": [
           {
            "line": {
             "colorbar": {
              "outlinewidth": 0,
              "ticks": ""
             }
            },
            "marker": {
             "colorbar": {
              "outlinewidth": 0,
              "ticks": ""
             }
            },
            "type": "scatter3d"
           }
          ],
          "scattercarpet": [
           {
            "marker": {
             "colorbar": {
              "outlinewidth": 0,
              "ticks": ""
             }
            },
            "type": "scattercarpet"
           }
          ],
          "scattergeo": [
           {
            "marker": {
             "colorbar": {
              "outlinewidth": 0,
              "ticks": ""
             }
            },
            "type": "scattergeo"
           }
          ],
          "scattergl": [
           {
            "marker": {
             "colorbar": {
              "outlinewidth": 0,
              "ticks": ""
             }
            },
            "type": "scattergl"
           }
          ],
          "scattermapbox": [
           {
            "marker": {
             "colorbar": {
              "outlinewidth": 0,
              "ticks": ""
             }
            },
            "type": "scattermapbox"
           }
          ],
          "scatterpolar": [
           {
            "marker": {
             "colorbar": {
              "outlinewidth": 0,
              "ticks": ""
             }
            },
            "type": "scatterpolar"
           }
          ],
          "scatterpolargl": [
           {
            "marker": {
             "colorbar": {
              "outlinewidth": 0,
              "ticks": ""
             }
            },
            "type": "scatterpolargl"
           }
          ],
          "scatterternary": [
           {
            "marker": {
             "colorbar": {
              "outlinewidth": 0,
              "ticks": ""
             }
            },
            "type": "scatterternary"
           }
          ],
          "surface": [
           {
            "colorbar": {
             "outlinewidth": 0,
             "ticks": ""
            },
            "colorscale": [
             [
              0,
              "#0d0887"
             ],
             [
              0.1111111111111111,
              "#46039f"
             ],
             [
              0.2222222222222222,
              "#7201a8"
             ],
             [
              0.3333333333333333,
              "#9c179e"
             ],
             [
              0.4444444444444444,
              "#bd3786"
             ],
             [
              0.5555555555555556,
              "#d8576b"
             ],
             [
              0.6666666666666666,
              "#ed7953"
             ],
             [
              0.7777777777777778,
              "#fb9f3a"
             ],
             [
              0.8888888888888888,
              "#fdca26"
             ],
             [
              1,
              "#f0f921"
             ]
            ],
            "type": "surface"
           }
          ],
          "table": [
           {
            "cells": {
             "fill": {
              "color": "#EBF0F8"
             },
             "line": {
              "color": "white"
             }
            },
            "header": {
             "fill": {
              "color": "#C8D4E3"
             },
             "line": {
              "color": "white"
             }
            },
            "type": "table"
           }
          ]
         },
         "layout": {
          "annotationdefaults": {
           "arrowcolor": "#2a3f5f",
           "arrowhead": 0,
           "arrowwidth": 1
          },
          "autotypenumbers": "strict",
          "coloraxis": {
           "colorbar": {
            "outlinewidth": 0,
            "ticks": ""
           }
          },
          "colorscale": {
           "diverging": [
            [
             0,
             "#8e0152"
            ],
            [
             0.1,
             "#c51b7d"
            ],
            [
             0.2,
             "#de77ae"
            ],
            [
             0.3,
             "#f1b6da"
            ],
            [
             0.4,
             "#fde0ef"
            ],
            [
             0.5,
             "#f7f7f7"
            ],
            [
             0.6,
             "#e6f5d0"
            ],
            [
             0.7,
             "#b8e186"
            ],
            [
             0.8,
             "#7fbc41"
            ],
            [
             0.9,
             "#4d9221"
            ],
            [
             1,
             "#276419"
            ]
           ],
           "sequential": [
            [
             0,
             "#0d0887"
            ],
            [
             0.1111111111111111,
             "#46039f"
            ],
            [
             0.2222222222222222,
             "#7201a8"
            ],
            [
             0.3333333333333333,
             "#9c179e"
            ],
            [
             0.4444444444444444,
             "#bd3786"
            ],
            [
             0.5555555555555556,
             "#d8576b"
            ],
            [
             0.6666666666666666,
             "#ed7953"
            ],
            [
             0.7777777777777778,
             "#fb9f3a"
            ],
            [
             0.8888888888888888,
             "#fdca26"
            ],
            [
             1,
             "#f0f921"
            ]
           ],
           "sequentialminus": [
            [
             0,
             "#0d0887"
            ],
            [
             0.1111111111111111,
             "#46039f"
            ],
            [
             0.2222222222222222,
             "#7201a8"
            ],
            [
             0.3333333333333333,
             "#9c179e"
            ],
            [
             0.4444444444444444,
             "#bd3786"
            ],
            [
             0.5555555555555556,
             "#d8576b"
            ],
            [
             0.6666666666666666,
             "#ed7953"
            ],
            [
             0.7777777777777778,
             "#fb9f3a"
            ],
            [
             0.8888888888888888,
             "#fdca26"
            ],
            [
             1,
             "#f0f921"
            ]
           ]
          },
          "colorway": [
           "#636efa",
           "#EF553B",
           "#00cc96",
           "#ab63fa",
           "#FFA15A",
           "#19d3f3",
           "#FF6692",
           "#B6E880",
           "#FF97FF",
           "#FECB52"
          ],
          "font": {
           "color": "#2a3f5f"
          },
          "geo": {
           "bgcolor": "white",
           "lakecolor": "white",
           "landcolor": "#E5ECF6",
           "showlakes": true,
           "showland": true,
           "subunitcolor": "white"
          },
          "hoverlabel": {
           "align": "left"
          },
          "hovermode": "closest",
          "mapbox": {
           "style": "light"
          },
          "paper_bgcolor": "white",
          "plot_bgcolor": "#E5ECF6",
          "polar": {
           "angularaxis": {
            "gridcolor": "white",
            "linecolor": "white",
            "ticks": ""
           },
           "bgcolor": "#E5ECF6",
           "radialaxis": {
            "gridcolor": "white",
            "linecolor": "white",
            "ticks": ""
           }
          },
          "scene": {
           "xaxis": {
            "backgroundcolor": "#E5ECF6",
            "gridcolor": "white",
            "gridwidth": 2,
            "linecolor": "white",
            "showbackground": true,
            "ticks": "",
            "zerolinecolor": "white"
           },
           "yaxis": {
            "backgroundcolor": "#E5ECF6",
            "gridcolor": "white",
            "gridwidth": 2,
            "linecolor": "white",
            "showbackground": true,
            "ticks": "",
            "zerolinecolor": "white"
           },
           "zaxis": {
            "backgroundcolor": "#E5ECF6",
            "gridcolor": "white",
            "gridwidth": 2,
            "linecolor": "white",
            "showbackground": true,
            "ticks": "",
            "zerolinecolor": "white"
           }
          },
          "shapedefaults": {
           "line": {
            "color": "#2a3f5f"
           }
          },
          "ternary": {
           "aaxis": {
            "gridcolor": "white",
            "linecolor": "white",
            "ticks": ""
           },
           "baxis": {
            "gridcolor": "white",
            "linecolor": "white",
            "ticks": ""
           },
           "bgcolor": "#E5ECF6",
           "caxis": {
            "gridcolor": "white",
            "linecolor": "white",
            "ticks": ""
           }
          },
          "title": {
           "x": 0.05
          },
          "xaxis": {
           "automargin": true,
           "gridcolor": "white",
           "linecolor": "white",
           "ticks": "",
           "title": {
            "standoff": 15
           },
           "zerolinecolor": "white",
           "zerolinewidth": 2
          },
          "yaxis": {
           "automargin": true,
           "gridcolor": "white",
           "linecolor": "white",
           "ticks": "",
           "title": {
            "standoff": 15
           },
           "zerolinecolor": "white",
           "zerolinewidth": 2
          }
         }
        },
        "title": {
         "text": "Percentage of Names Starting by Each Letter by Gender"
        },
        "xaxis": {
         "title": {
          "text": "Letter of the Name"
         }
        },
        "yaxis": {
         "ticksuffix": "%",
         "title": {
          "text": "% of Total Names by Gender"
         }
        }
       }
      }
     },
     "metadata": {},
     "output_type": "display_data"
    },
    {
     "data": {
      "application/vnd.plotly.v1+json": {
       "config": {
        "plotlyServerURL": "https://plot.ly"
       },
       "data": [
        {
         "hoverinfo": "text",
         "hovertext": [
          "Top names: John, Simon, Kevin",
          "Top names: George, Charlie, Joe",
          "Top names: Johnny, Danny, Harry",
          "Top names: James, Charles, Thomas",
          "Top names: Arthur, Peter, Walter",
          "Top names: Paul, Michael, Bill",
          "Top names: David, Richard, Ed",
          "Top names: Leo, Antonio, Bruno",
          "Top names: Robert, Matt, Scott",
          "Top names: Santa, Krishna, Joshua",
          "Top names: Tom, Jim, William",
          "Top names: Ravi, Ali, Jai",
          "Top names: Jack, Frank, Nick",
          "Top names: Joseph, Josh, Mitch",
          "Top names: Lou, Raju, Stu",
          "Top names: Doug, King, Greg",
          "Top names: Max, Alex, Felix",
          "Top names: Franz, Fritz, Heinz",
          "Top names: Bob, Jacob, Rob",
          "Top names: Philip, Phillip, Pratap",
          "Top names: Eric, Vic, Mac",
          "Top names: Jeff, Wolf, Josef",
          "Top names: Andrew, Matthew, Drew",
          "Top names: Rajiv, Gustav, Yadav",
          "Top names: Suraj, Raj, Manoj",
          "Top names: André, José, René"
         ],
         "marker": {
          "color": "skyblue"
         },
         "name": "Male",
         "type": "bar",
         "x": [
          "n",
          "e",
          "y",
          "s",
          "r",
          "l",
          "d",
          "o",
          "t",
          "a",
          "m",
          "i",
          "k",
          "h",
          "u",
          "g",
          "x",
          "z",
          "b",
          "p",
          "c",
          "f",
          "w",
          "v",
          "j",
          "é"
         ],
         "y": [
          15.987116759495748,
          10.437886574145306,
          9.667559056733442,
          9.27162507308367,
          7.326830168938671,
          5.97696197597727,
          5.836436183852869,
          5.248689622631832,
          4.316295863207886,
          3.812659630119703,
          3.7921449159409586,
          3.7757331445979627,
          3.1069534623708854,
          2.7807695069288445,
          1.6709234698587563,
          1.347816721543527,
          0.8944415381932691,
          0.7446841246884328,
          0.6544193823019561,
          0.6226215753249018,
          0.6174928967802156,
          0.6103127468176549,
          0.4800443117826261,
          0.46158106902175583,
          0.3046435055543589,
          0.11180519227415864
         ]
        },
        {
         "hoverinfo": "text",
         "hovertext": [
          "Top names: Helen, Susan, Karen",
          "Top names: Alice, Kate, Julie",
          "Top names: Mary, Emily, Amy",
          "Top names: Doris, Frances, Iris",
          "Top names: Jennifer, Heather, Eleanor",
          "Top names: Rachel, Carol, Jill",
          "Top names: Girlfriend, Ingrid, Red",
          "Top names: Margo, Jo, Flo",
          "Top names: Margaret, Janet, Harriet",
          "Top names: Lisa, Barbara, Anna",
          "Top names: Kim, Miriam, Pam",
          "Top names: Anjali, Shanti, Nikki",
          "Top names: Park, Jack, Chadwick",
          "Top names: Sarah, Elizabeth, Beth",
          "Top names: Frau, Madhu, Lou",
          "Top names: Meg, Peg, Ying",
          "Top names: Alex, Max, Beatrix",
          "Top names: Liz, Inez, Roz",
          "Top names: Barb, Deb, Nightclub",
          "Top names: Boop, Miep, Lemp",
          "Top names: Mac, Vic, Isaac",
          "Top names: Sif, Wolff, Lamonsoff",
          "Top names: Willow, Vrouw, Mevrouw",
          "Top names: Bev, Viv, Liv",
          "Top names: Saroj, Asajj, Yuvraj",
          "Top names: Chloé, Zoé, Padmé"
         ],
         "marker": {
          "color": "salmon"
         },
         "name": "Female",
         "type": "bar",
         "x": [
          "n",
          "e",
          "y",
          "s",
          "r",
          "l",
          "d",
          "o",
          "t",
          "a",
          "m",
          "i",
          "k",
          "h",
          "u",
          "g",
          "x",
          "z",
          "b",
          "p",
          "c",
          "f",
          "w",
          "v",
          "j",
          "é"
         ],
         "y": [
          9.366070483649064,
          20.483649063392953,
          10.524923272303948,
          3.7922884255829543,
          2.571700709069743,
          3.2331463646946763,
          1.2470455427382086,
          1.6756623275831657,
          2.0160863583447988,
          30.855116943591916,
          0.8237203231382508,
          6.644442092637669,
          0.4303806399266237,
          2.9050693195047095,
          1.2752672240448726,
          0.5520866405616115,
          0.27692524782163896,
          0.5062264084382827,
          0.11641443538998836,
          0.10759515998165592,
          0.061734927858327154,
          0.0917204642466575,
          0.17462165308498254,
          0.0723180583483261,
          0.026457826224997354,
          0.07760962359332557
         ]
        }
       ],
       "layout": {
        "barmode": "group",
        "legend": {
         "title": {
          "text": "Gender"
         }
        },
        "template": {
         "data": {
          "bar": [
           {
            "error_x": {
             "color": "#2a3f5f"
            },
            "error_y": {
             "color": "#2a3f5f"
            },
            "marker": {
             "line": {
              "color": "#E5ECF6",
              "width": 0.5
             },
             "pattern": {
              "fillmode": "overlay",
              "size": 10,
              "solidity": 0.2
             }
            },
            "type": "bar"
           }
          ],
          "barpolar": [
           {
            "marker": {
             "line": {
              "color": "#E5ECF6",
              "width": 0.5
             },
             "pattern": {
              "fillmode": "overlay",
              "size": 10,
              "solidity": 0.2
             }
            },
            "type": "barpolar"
           }
          ],
          "carpet": [
           {
            "aaxis": {
             "endlinecolor": "#2a3f5f",
             "gridcolor": "white",
             "linecolor": "white",
             "minorgridcolor": "white",
             "startlinecolor": "#2a3f5f"
            },
            "baxis": {
             "endlinecolor": "#2a3f5f",
             "gridcolor": "white",
             "linecolor": "white",
             "minorgridcolor": "white",
             "startlinecolor": "#2a3f5f"
            },
            "type": "carpet"
           }
          ],
          "choropleth": [
           {
            "colorbar": {
             "outlinewidth": 0,
             "ticks": ""
            },
            "type": "choropleth"
           }
          ],
          "contour": [
           {
            "colorbar": {
             "outlinewidth": 0,
             "ticks": ""
            },
            "colorscale": [
             [
              0,
              "#0d0887"
             ],
             [
              0.1111111111111111,
              "#46039f"
             ],
             [
              0.2222222222222222,
              "#7201a8"
             ],
             [
              0.3333333333333333,
              "#9c179e"
             ],
             [
              0.4444444444444444,
              "#bd3786"
             ],
             [
              0.5555555555555556,
              "#d8576b"
             ],
             [
              0.6666666666666666,
              "#ed7953"
             ],
             [
              0.7777777777777778,
              "#fb9f3a"
             ],
             [
              0.8888888888888888,
              "#fdca26"
             ],
             [
              1,
              "#f0f921"
             ]
            ],
            "type": "contour"
           }
          ],
          "contourcarpet": [
           {
            "colorbar": {
             "outlinewidth": 0,
             "ticks": ""
            },
            "type": "contourcarpet"
           }
          ],
          "heatmap": [
           {
            "colorbar": {
             "outlinewidth": 0,
             "ticks": ""
            },
            "colorscale": [
             [
              0,
              "#0d0887"
             ],
             [
              0.1111111111111111,
              "#46039f"
             ],
             [
              0.2222222222222222,
              "#7201a8"
             ],
             [
              0.3333333333333333,
              "#9c179e"
             ],
             [
              0.4444444444444444,
              "#bd3786"
             ],
             [
              0.5555555555555556,
              "#d8576b"
             ],
             [
              0.6666666666666666,
              "#ed7953"
             ],
             [
              0.7777777777777778,
              "#fb9f3a"
             ],
             [
              0.8888888888888888,
              "#fdca26"
             ],
             [
              1,
              "#f0f921"
             ]
            ],
            "type": "heatmap"
           }
          ],
          "heatmapgl": [
           {
            "colorbar": {
             "outlinewidth": 0,
             "ticks": ""
            },
            "colorscale": [
             [
              0,
              "#0d0887"
             ],
             [
              0.1111111111111111,
              "#46039f"
             ],
             [
              0.2222222222222222,
              "#7201a8"
             ],
             [
              0.3333333333333333,
              "#9c179e"
             ],
             [
              0.4444444444444444,
              "#bd3786"
             ],
             [
              0.5555555555555556,
              "#d8576b"
             ],
             [
              0.6666666666666666,
              "#ed7953"
             ],
             [
              0.7777777777777778,
              "#fb9f3a"
             ],
             [
              0.8888888888888888,
              "#fdca26"
             ],
             [
              1,
              "#f0f921"
             ]
            ],
            "type": "heatmapgl"
           }
          ],
          "histogram": [
           {
            "marker": {
             "pattern": {
              "fillmode": "overlay",
              "size": 10,
              "solidity": 0.2
             }
            },
            "type": "histogram"
           }
          ],
          "histogram2d": [
           {
            "colorbar": {
             "outlinewidth": 0,
             "ticks": ""
            },
            "colorscale": [
             [
              0,
              "#0d0887"
             ],
             [
              0.1111111111111111,
              "#46039f"
             ],
             [
              0.2222222222222222,
              "#7201a8"
             ],
             [
              0.3333333333333333,
              "#9c179e"
             ],
             [
              0.4444444444444444,
              "#bd3786"
             ],
             [
              0.5555555555555556,
              "#d8576b"
             ],
             [
              0.6666666666666666,
              "#ed7953"
             ],
             [
              0.7777777777777778,
              "#fb9f3a"
             ],
             [
              0.8888888888888888,
              "#fdca26"
             ],
             [
              1,
              "#f0f921"
             ]
            ],
            "type": "histogram2d"
           }
          ],
          "histogram2dcontour": [
           {
            "colorbar": {
             "outlinewidth": 0,
             "ticks": ""
            },
            "colorscale": [
             [
              0,
              "#0d0887"
             ],
             [
              0.1111111111111111,
              "#46039f"
             ],
             [
              0.2222222222222222,
              "#7201a8"
             ],
             [
              0.3333333333333333,
              "#9c179e"
             ],
             [
              0.4444444444444444,
              "#bd3786"
             ],
             [
              0.5555555555555556,
              "#d8576b"
             ],
             [
              0.6666666666666666,
              "#ed7953"
             ],
             [
              0.7777777777777778,
              "#fb9f3a"
             ],
             [
              0.8888888888888888,
              "#fdca26"
             ],
             [
              1,
              "#f0f921"
             ]
            ],
            "type": "histogram2dcontour"
           }
          ],
          "mesh3d": [
           {
            "colorbar": {
             "outlinewidth": 0,
             "ticks": ""
            },
            "type": "mesh3d"
           }
          ],
          "parcoords": [
           {
            "line": {
             "colorbar": {
              "outlinewidth": 0,
              "ticks": ""
             }
            },
            "type": "parcoords"
           }
          ],
          "pie": [
           {
            "automargin": true,
            "type": "pie"
           }
          ],
          "scatter": [
           {
            "fillpattern": {
             "fillmode": "overlay",
             "size": 10,
             "solidity": 0.2
            },
            "type": "scatter"
           }
          ],
          "scatter3d": [
           {
            "line": {
             "colorbar": {
              "outlinewidth": 0,
              "ticks": ""
             }
            },
            "marker": {
             "colorbar": {
              "outlinewidth": 0,
              "ticks": ""
             }
            },
            "type": "scatter3d"
           }
          ],
          "scattercarpet": [
           {
            "marker": {
             "colorbar": {
              "outlinewidth": 0,
              "ticks": ""
             }
            },
            "type": "scattercarpet"
           }
          ],
          "scattergeo": [
           {
            "marker": {
             "colorbar": {
              "outlinewidth": 0,
              "ticks": ""
             }
            },
            "type": "scattergeo"
           }
          ],
          "scattergl": [
           {
            "marker": {
             "colorbar": {
              "outlinewidth": 0,
              "ticks": ""
             }
            },
            "type": "scattergl"
           }
          ],
          "scattermapbox": [
           {
            "marker": {
             "colorbar": {
              "outlinewidth": 0,
              "ticks": ""
             }
            },
            "type": "scattermapbox"
           }
          ],
          "scatterpolar": [
           {
            "marker": {
             "colorbar": {
              "outlinewidth": 0,
              "ticks": ""
             }
            },
            "type": "scatterpolar"
           }
          ],
          "scatterpolargl": [
           {
            "marker": {
             "colorbar": {
              "outlinewidth": 0,
              "ticks": ""
             }
            },
            "type": "scatterpolargl"
           }
          ],
          "scatterternary": [
           {
            "marker": {
             "colorbar": {
              "outlinewidth": 0,
              "ticks": ""
             }
            },
            "type": "scatterternary"
           }
          ],
          "surface": [
           {
            "colorbar": {
             "outlinewidth": 0,
             "ticks": ""
            },
            "colorscale": [
             [
              0,
              "#0d0887"
             ],
             [
              0.1111111111111111,
              "#46039f"
             ],
             [
              0.2222222222222222,
              "#7201a8"
             ],
             [
              0.3333333333333333,
              "#9c179e"
             ],
             [
              0.4444444444444444,
              "#bd3786"
             ],
             [
              0.5555555555555556,
              "#d8576b"
             ],
             [
              0.6666666666666666,
              "#ed7953"
             ],
             [
              0.7777777777777778,
              "#fb9f3a"
             ],
             [
              0.8888888888888888,
              "#fdca26"
             ],
             [
              1,
              "#f0f921"
             ]
            ],
            "type": "surface"
           }
          ],
          "table": [
           {
            "cells": {
             "fill": {
              "color": "#EBF0F8"
             },
             "line": {
              "color": "white"
             }
            },
            "header": {
             "fill": {
              "color": "#C8D4E3"
             },
             "line": {
              "color": "white"
             }
            },
            "type": "table"
           }
          ]
         },
         "layout": {
          "annotationdefaults": {
           "arrowcolor": "#2a3f5f",
           "arrowhead": 0,
           "arrowwidth": 1
          },
          "autotypenumbers": "strict",
          "coloraxis": {
           "colorbar": {
            "outlinewidth": 0,
            "ticks": ""
           }
          },
          "colorscale": {
           "diverging": [
            [
             0,
             "#8e0152"
            ],
            [
             0.1,
             "#c51b7d"
            ],
            [
             0.2,
             "#de77ae"
            ],
            [
             0.3,
             "#f1b6da"
            ],
            [
             0.4,
             "#fde0ef"
            ],
            [
             0.5,
             "#f7f7f7"
            ],
            [
             0.6,
             "#e6f5d0"
            ],
            [
             0.7,
             "#b8e186"
            ],
            [
             0.8,
             "#7fbc41"
            ],
            [
             0.9,
             "#4d9221"
            ],
            [
             1,
             "#276419"
            ]
           ],
           "sequential": [
            [
             0,
             "#0d0887"
            ],
            [
             0.1111111111111111,
             "#46039f"
            ],
            [
             0.2222222222222222,
             "#7201a8"
            ],
            [
             0.3333333333333333,
             "#9c179e"
            ],
            [
             0.4444444444444444,
             "#bd3786"
            ],
            [
             0.5555555555555556,
             "#d8576b"
            ],
            [
             0.6666666666666666,
             "#ed7953"
            ],
            [
             0.7777777777777778,
             "#fb9f3a"
            ],
            [
             0.8888888888888888,
             "#fdca26"
            ],
            [
             1,
             "#f0f921"
            ]
           ],
           "sequentialminus": [
            [
             0,
             "#0d0887"
            ],
            [
             0.1111111111111111,
             "#46039f"
            ],
            [
             0.2222222222222222,
             "#7201a8"
            ],
            [
             0.3333333333333333,
             "#9c179e"
            ],
            [
             0.4444444444444444,
             "#bd3786"
            ],
            [
             0.5555555555555556,
             "#d8576b"
            ],
            [
             0.6666666666666666,
             "#ed7953"
            ],
            [
             0.7777777777777778,
             "#fb9f3a"
            ],
            [
             0.8888888888888888,
             "#fdca26"
            ],
            [
             1,
             "#f0f921"
            ]
           ]
          },
          "colorway": [
           "#636efa",
           "#EF553B",
           "#00cc96",
           "#ab63fa",
           "#FFA15A",
           "#19d3f3",
           "#FF6692",
           "#B6E880",
           "#FF97FF",
           "#FECB52"
          ],
          "font": {
           "color": "#2a3f5f"
          },
          "geo": {
           "bgcolor": "white",
           "lakecolor": "white",
           "landcolor": "#E5ECF6",
           "showlakes": true,
           "showland": true,
           "subunitcolor": "white"
          },
          "hoverlabel": {
           "align": "left"
          },
          "hovermode": "closest",
          "mapbox": {
           "style": "light"
          },
          "paper_bgcolor": "white",
          "plot_bgcolor": "#E5ECF6",
          "polar": {
           "angularaxis": {
            "gridcolor": "white",
            "linecolor": "white",
            "ticks": ""
           },
           "bgcolor": "#E5ECF6",
           "radialaxis": {
            "gridcolor": "white",
            "linecolor": "white",
            "ticks": ""
           }
          },
          "scene": {
           "xaxis": {
            "backgroundcolor": "#E5ECF6",
            "gridcolor": "white",
            "gridwidth": 2,
            "linecolor": "white",
            "showbackground": true,
            "ticks": "",
            "zerolinecolor": "white"
           },
           "yaxis": {
            "backgroundcolor": "#E5ECF6",
            "gridcolor": "white",
            "gridwidth": 2,
            "linecolor": "white",
            "showbackground": true,
            "ticks": "",
            "zerolinecolor": "white"
           },
           "zaxis": {
            "backgroundcolor": "#E5ECF6",
            "gridcolor": "white",
            "gridwidth": 2,
            "linecolor": "white",
            "showbackground": true,
            "ticks": "",
            "zerolinecolor": "white"
           }
          },
          "shapedefaults": {
           "line": {
            "color": "#2a3f5f"
           }
          },
          "ternary": {
           "aaxis": {
            "gridcolor": "white",
            "linecolor": "white",
            "ticks": ""
           },
           "baxis": {
            "gridcolor": "white",
            "linecolor": "white",
            "ticks": ""
           },
           "bgcolor": "#E5ECF6",
           "caxis": {
            "gridcolor": "white",
            "linecolor": "white",
            "ticks": ""
           }
          },
          "title": {
           "x": 0.05
          },
          "xaxis": {
           "automargin": true,
           "gridcolor": "white",
           "linecolor": "white",
           "ticks": "",
           "title": {
            "standoff": 15
           },
           "zerolinecolor": "white",
           "zerolinewidth": 2
          },
          "yaxis": {
           "automargin": true,
           "gridcolor": "white",
           "linecolor": "white",
           "ticks": "",
           "title": {
            "standoff": 15
           },
           "zerolinecolor": "white",
           "zerolinewidth": 2
          }
         }
        },
        "title": {
         "text": "Percentage of Names Ending by Each Letter by Gender"
        },
        "xaxis": {
         "title": {
          "text": "Letter of the Name"
         }
        },
        "yaxis": {
         "ticksuffix": "%",
         "title": {
          "text": "% of Total Names by Gender"
         }
        }
       }
      }
     },
     "metadata": {},
     "output_type": "display_data"
    }
   ],
   "source": [
    "analyze_gender.plot_letter_name_percentage(0)\n",
    "analyze_gender.plot_letter_name_percentage(-1)"
   ]
  },
  {
   "cell_type": "markdown",
   "metadata": {},
   "source": [
    "#### 2.2.d Top names of characters across Age and Gender"
   ]
  },
  {
   "cell_type": "markdown",
   "metadata": {},
   "source": [
    "*Interactive hover plot in this section*"
   ]
  },
  {
   "cell_type": "code",
   "execution_count": 70,
   "metadata": {},
   "outputs": [
    {
     "data": {
      "application/vnd.plotly.v1+json": {
       "config": {
        "plotlyServerURL": "https://plot.ly"
       },
       "data": [
        {
         "hoverinfo": "text",
         "hovertext": [
          "Top names: Michael, Mickey, Kid",
          "Top names: Kid, Charlie, Tom",
          "Top names: Paul, Danny, Michael",
          "Top names: John, David, Tom",
          "Top names: John, David, Tom",
          "Top names: John, George, Robert",
          "Top names: John, George, James",
          "Top names: John, George, Charles",
          "Top names: John, George, Arthur",
          "Top names: Donald, Wallace, Edward"
         ],
         "marker": {
          "color": "skyblue"
         },
         "name": "Male",
         "type": "bar",
         "x": [
          "<12y",
          "13y-17y",
          "18y-24y",
          "25y-34y",
          "35y-44y",
          "45y-54y",
          "55y-64y",
          "65y-74y",
          "75y-84y",
          ">85y"
         ],
         "y": [
          0.9436768522222564,
          1.495522663630489,
          4.556318019099199,
          18.681724466873863,
          20.901416541014044,
          14.534674995640623,
          8.065359879373482,
          3.191063790503739,
          0.8995702167379552,
          0.13847432070652677
         ]
        },
        {
         "hoverinfo": "text",
         "hovertext": [
          "Top names: Susan, Katie, Emily",
          "Top names: Sarah, Alice, Samantha",
          "Top names: Priya, Mary, Julie",
          "Top names: Sarah, Kate, Lisa",
          "Top names: Sarah, Susan, Kate",
          "Top names: Helen, Sarah, Martha",
          "Top names: Helen, Margaret, Barbara",
          "Top names: Martha, Helen, Grace",
          "Top names: La, Mary, Dorothy",
          "Top names: Mme, Annie, Barbara"
         ],
         "marker": {
          "color": "salmon"
         },
         "name": "Female",
         "type": "bar",
         "x": [
          "<12y",
          "13y-17y",
          "18y-24y",
          "25y-34y",
          "35y-44y",
          "45y-54y",
          "55y-64y",
          "65y-74y",
          "75y-84y",
          ">85y"
         ],
         "y": [
          1.6756623275831657,
          2.5664091438247434,
          14.163756305781916,
          28.82315588951212,
          15.343775355416799,
          7.46287085053092,
          3.751719758704625,
          1.6209828200515044,
          0.626168553991604,
          0.14110840653331921
         ]
        }
       ],
       "layout": {
        "barmode": "group",
        "legend": {
         "title": {
          "text": "Gender"
         }
        },
        "template": {
         "data": {
          "bar": [
           {
            "error_x": {
             "color": "#2a3f5f"
            },
            "error_y": {
             "color": "#2a3f5f"
            },
            "marker": {
             "line": {
              "color": "#E5ECF6",
              "width": 0.5
             },
             "pattern": {
              "fillmode": "overlay",
              "size": 10,
              "solidity": 0.2
             }
            },
            "type": "bar"
           }
          ],
          "barpolar": [
           {
            "marker": {
             "line": {
              "color": "#E5ECF6",
              "width": 0.5
             },
             "pattern": {
              "fillmode": "overlay",
              "size": 10,
              "solidity": 0.2
             }
            },
            "type": "barpolar"
           }
          ],
          "carpet": [
           {
            "aaxis": {
             "endlinecolor": "#2a3f5f",
             "gridcolor": "white",
             "linecolor": "white",
             "minorgridcolor": "white",
             "startlinecolor": "#2a3f5f"
            },
            "baxis": {
             "endlinecolor": "#2a3f5f",
             "gridcolor": "white",
             "linecolor": "white",
             "minorgridcolor": "white",
             "startlinecolor": "#2a3f5f"
            },
            "type": "carpet"
           }
          ],
          "choropleth": [
           {
            "colorbar": {
             "outlinewidth": 0,
             "ticks": ""
            },
            "type": "choropleth"
           }
          ],
          "contour": [
           {
            "colorbar": {
             "outlinewidth": 0,
             "ticks": ""
            },
            "colorscale": [
             [
              0,
              "#0d0887"
             ],
             [
              0.1111111111111111,
              "#46039f"
             ],
             [
              0.2222222222222222,
              "#7201a8"
             ],
             [
              0.3333333333333333,
              "#9c179e"
             ],
             [
              0.4444444444444444,
              "#bd3786"
             ],
             [
              0.5555555555555556,
              "#d8576b"
             ],
             [
              0.6666666666666666,
              "#ed7953"
             ],
             [
              0.7777777777777778,
              "#fb9f3a"
             ],
             [
              0.8888888888888888,
              "#fdca26"
             ],
             [
              1,
              "#f0f921"
             ]
            ],
            "type": "contour"
           }
          ],
          "contourcarpet": [
           {
            "colorbar": {
             "outlinewidth": 0,
             "ticks": ""
            },
            "type": "contourcarpet"
           }
          ],
          "heatmap": [
           {
            "colorbar": {
             "outlinewidth": 0,
             "ticks": ""
            },
            "colorscale": [
             [
              0,
              "#0d0887"
             ],
             [
              0.1111111111111111,
              "#46039f"
             ],
             [
              0.2222222222222222,
              "#7201a8"
             ],
             [
              0.3333333333333333,
              "#9c179e"
             ],
             [
              0.4444444444444444,
              "#bd3786"
             ],
             [
              0.5555555555555556,
              "#d8576b"
             ],
             [
              0.6666666666666666,
              "#ed7953"
             ],
             [
              0.7777777777777778,
              "#fb9f3a"
             ],
             [
              0.8888888888888888,
              "#fdca26"
             ],
             [
              1,
              "#f0f921"
             ]
            ],
            "type": "heatmap"
           }
          ],
          "heatmapgl": [
           {
            "colorbar": {
             "outlinewidth": 0,
             "ticks": ""
            },
            "colorscale": [
             [
              0,
              "#0d0887"
             ],
             [
              0.1111111111111111,
              "#46039f"
             ],
             [
              0.2222222222222222,
              "#7201a8"
             ],
             [
              0.3333333333333333,
              "#9c179e"
             ],
             [
              0.4444444444444444,
              "#bd3786"
             ],
             [
              0.5555555555555556,
              "#d8576b"
             ],
             [
              0.6666666666666666,
              "#ed7953"
             ],
             [
              0.7777777777777778,
              "#fb9f3a"
             ],
             [
              0.8888888888888888,
              "#fdca26"
             ],
             [
              1,
              "#f0f921"
             ]
            ],
            "type": "heatmapgl"
           }
          ],
          "histogram": [
           {
            "marker": {
             "pattern": {
              "fillmode": "overlay",
              "size": 10,
              "solidity": 0.2
             }
            },
            "type": "histogram"
           }
          ],
          "histogram2d": [
           {
            "colorbar": {
             "outlinewidth": 0,
             "ticks": ""
            },
            "colorscale": [
             [
              0,
              "#0d0887"
             ],
             [
              0.1111111111111111,
              "#46039f"
             ],
             [
              0.2222222222222222,
              "#7201a8"
             ],
             [
              0.3333333333333333,
              "#9c179e"
             ],
             [
              0.4444444444444444,
              "#bd3786"
             ],
             [
              0.5555555555555556,
              "#d8576b"
             ],
             [
              0.6666666666666666,
              "#ed7953"
             ],
             [
              0.7777777777777778,
              "#fb9f3a"
             ],
             [
              0.8888888888888888,
              "#fdca26"
             ],
             [
              1,
              "#f0f921"
             ]
            ],
            "type": "histogram2d"
           }
          ],
          "histogram2dcontour": [
           {
            "colorbar": {
             "outlinewidth": 0,
             "ticks": ""
            },
            "colorscale": [
             [
              0,
              "#0d0887"
             ],
             [
              0.1111111111111111,
              "#46039f"
             ],
             [
              0.2222222222222222,
              "#7201a8"
             ],
             [
              0.3333333333333333,
              "#9c179e"
             ],
             [
              0.4444444444444444,
              "#bd3786"
             ],
             [
              0.5555555555555556,
              "#d8576b"
             ],
             [
              0.6666666666666666,
              "#ed7953"
             ],
             [
              0.7777777777777778,
              "#fb9f3a"
             ],
             [
              0.8888888888888888,
              "#fdca26"
             ],
             [
              1,
              "#f0f921"
             ]
            ],
            "type": "histogram2dcontour"
           }
          ],
          "mesh3d": [
           {
            "colorbar": {
             "outlinewidth": 0,
             "ticks": ""
            },
            "type": "mesh3d"
           }
          ],
          "parcoords": [
           {
            "line": {
             "colorbar": {
              "outlinewidth": 0,
              "ticks": ""
             }
            },
            "type": "parcoords"
           }
          ],
          "pie": [
           {
            "automargin": true,
            "type": "pie"
           }
          ],
          "scatter": [
           {
            "fillpattern": {
             "fillmode": "overlay",
             "size": 10,
             "solidity": 0.2
            },
            "type": "scatter"
           }
          ],
          "scatter3d": [
           {
            "line": {
             "colorbar": {
              "outlinewidth": 0,
              "ticks": ""
             }
            },
            "marker": {
             "colorbar": {
              "outlinewidth": 0,
              "ticks": ""
             }
            },
            "type": "scatter3d"
           }
          ],
          "scattercarpet": [
           {
            "marker": {
             "colorbar": {
              "outlinewidth": 0,
              "ticks": ""
             }
            },
            "type": "scattercarpet"
           }
          ],
          "scattergeo": [
           {
            "marker": {
             "colorbar": {
              "outlinewidth": 0,
              "ticks": ""
             }
            },
            "type": "scattergeo"
           }
          ],
          "scattergl": [
           {
            "marker": {
             "colorbar": {
              "outlinewidth": 0,
              "ticks": ""
             }
            },
            "type": "scattergl"
           }
          ],
          "scattermapbox": [
           {
            "marker": {
             "colorbar": {
              "outlinewidth": 0,
              "ticks": ""
             }
            },
            "type": "scattermapbox"
           }
          ],
          "scatterpolar": [
           {
            "marker": {
             "colorbar": {
              "outlinewidth": 0,
              "ticks": ""
             }
            },
            "type": "scatterpolar"
           }
          ],
          "scatterpolargl": [
           {
            "marker": {
             "colorbar": {
              "outlinewidth": 0,
              "ticks": ""
             }
            },
            "type": "scatterpolargl"
           }
          ],
          "scatterternary": [
           {
            "marker": {
             "colorbar": {
              "outlinewidth": 0,
              "ticks": ""
             }
            },
            "type": "scatterternary"
           }
          ],
          "surface": [
           {
            "colorbar": {
             "outlinewidth": 0,
             "ticks": ""
            },
            "colorscale": [
             [
              0,
              "#0d0887"
             ],
             [
              0.1111111111111111,
              "#46039f"
             ],
             [
              0.2222222222222222,
              "#7201a8"
             ],
             [
              0.3333333333333333,
              "#9c179e"
             ],
             [
              0.4444444444444444,
              "#bd3786"
             ],
             [
              0.5555555555555556,
              "#d8576b"
             ],
             [
              0.6666666666666666,
              "#ed7953"
             ],
             [
              0.7777777777777778,
              "#fb9f3a"
             ],
             [
              0.8888888888888888,
              "#fdca26"
             ],
             [
              1,
              "#f0f921"
             ]
            ],
            "type": "surface"
           }
          ],
          "table": [
           {
            "cells": {
             "fill": {
              "color": "#EBF0F8"
             },
             "line": {
              "color": "white"
             }
            },
            "header": {
             "fill": {
              "color": "#C8D4E3"
             },
             "line": {
              "color": "white"
             }
            },
            "type": "table"
           }
          ]
         },
         "layout": {
          "annotationdefaults": {
           "arrowcolor": "#2a3f5f",
           "arrowhead": 0,
           "arrowwidth": 1
          },
          "autotypenumbers": "strict",
          "coloraxis": {
           "colorbar": {
            "outlinewidth": 0,
            "ticks": ""
           }
          },
          "colorscale": {
           "diverging": [
            [
             0,
             "#8e0152"
            ],
            [
             0.1,
             "#c51b7d"
            ],
            [
             0.2,
             "#de77ae"
            ],
            [
             0.3,
             "#f1b6da"
            ],
            [
             0.4,
             "#fde0ef"
            ],
            [
             0.5,
             "#f7f7f7"
            ],
            [
             0.6,
             "#e6f5d0"
            ],
            [
             0.7,
             "#b8e186"
            ],
            [
             0.8,
             "#7fbc41"
            ],
            [
             0.9,
             "#4d9221"
            ],
            [
             1,
             "#276419"
            ]
           ],
           "sequential": [
            [
             0,
             "#0d0887"
            ],
            [
             0.1111111111111111,
             "#46039f"
            ],
            [
             0.2222222222222222,
             "#7201a8"
            ],
            [
             0.3333333333333333,
             "#9c179e"
            ],
            [
             0.4444444444444444,
             "#bd3786"
            ],
            [
             0.5555555555555556,
             "#d8576b"
            ],
            [
             0.6666666666666666,
             "#ed7953"
            ],
            [
             0.7777777777777778,
             "#fb9f3a"
            ],
            [
             0.8888888888888888,
             "#fdca26"
            ],
            [
             1,
             "#f0f921"
            ]
           ],
           "sequentialminus": [
            [
             0,
             "#0d0887"
            ],
            [
             0.1111111111111111,
             "#46039f"
            ],
            [
             0.2222222222222222,
             "#7201a8"
            ],
            [
             0.3333333333333333,
             "#9c179e"
            ],
            [
             0.4444444444444444,
             "#bd3786"
            ],
            [
             0.5555555555555556,
             "#d8576b"
            ],
            [
             0.6666666666666666,
             "#ed7953"
            ],
            [
             0.7777777777777778,
             "#fb9f3a"
            ],
            [
             0.8888888888888888,
             "#fdca26"
            ],
            [
             1,
             "#f0f921"
            ]
           ]
          },
          "colorway": [
           "#636efa",
           "#EF553B",
           "#00cc96",
           "#ab63fa",
           "#FFA15A",
           "#19d3f3",
           "#FF6692",
           "#B6E880",
           "#FF97FF",
           "#FECB52"
          ],
          "font": {
           "color": "#2a3f5f"
          },
          "geo": {
           "bgcolor": "white",
           "lakecolor": "white",
           "landcolor": "#E5ECF6",
           "showlakes": true,
           "showland": true,
           "subunitcolor": "white"
          },
          "hoverlabel": {
           "align": "left"
          },
          "hovermode": "closest",
          "mapbox": {
           "style": "light"
          },
          "paper_bgcolor": "white",
          "plot_bgcolor": "#E5ECF6",
          "polar": {
           "angularaxis": {
            "gridcolor": "white",
            "linecolor": "white",
            "ticks": ""
           },
           "bgcolor": "#E5ECF6",
           "radialaxis": {
            "gridcolor": "white",
            "linecolor": "white",
            "ticks": ""
           }
          },
          "scene": {
           "xaxis": {
            "backgroundcolor": "#E5ECF6",
            "gridcolor": "white",
            "gridwidth": 2,
            "linecolor": "white",
            "showbackground": true,
            "ticks": "",
            "zerolinecolor": "white"
           },
           "yaxis": {
            "backgroundcolor": "#E5ECF6",
            "gridcolor": "white",
            "gridwidth": 2,
            "linecolor": "white",
            "showbackground": true,
            "ticks": "",
            "zerolinecolor": "white"
           },
           "zaxis": {
            "backgroundcolor": "#E5ECF6",
            "gridcolor": "white",
            "gridwidth": 2,
            "linecolor": "white",
            "showbackground": true,
            "ticks": "",
            "zerolinecolor": "white"
           }
          },
          "shapedefaults": {
           "line": {
            "color": "#2a3f5f"
           }
          },
          "ternary": {
           "aaxis": {
            "gridcolor": "white",
            "linecolor": "white",
            "ticks": ""
           },
           "baxis": {
            "gridcolor": "white",
            "linecolor": "white",
            "ticks": ""
           },
           "bgcolor": "#E5ECF6",
           "caxis": {
            "gridcolor": "white",
            "linecolor": "white",
            "ticks": ""
           }
          },
          "title": {
           "x": 0.05
          },
          "xaxis": {
           "automargin": true,
           "gridcolor": "white",
           "linecolor": "white",
           "ticks": "",
           "title": {
            "standoff": 15
           },
           "zerolinecolor": "white",
           "zerolinewidth": 2
          },
          "yaxis": {
           "automargin": true,
           "gridcolor": "white",
           "linecolor": "white",
           "ticks": "",
           "title": {
            "standoff": 15
           },
           "zerolinecolor": "white",
           "zerolinewidth": 2
          }
         }
        },
        "title": {
         "text": "Percentage of Males and Females in Each Age Category"
        },
        "xaxis": {
         "tickangle": 0,
         "tickvals": [
          "<12y",
          "13y-17y",
          "18y-24y",
          "25y-34y",
          "35y-44y",
          "45y-54y",
          "55y-64y",
          "65y-74y",
          "75y-84y",
          ">85y"
         ],
         "title": {
          "text": "Age Category"
         }
        },
        "yaxis": {
         "ticksuffix": "%",
         "title": {
          "text": "% of Total Males/Females"
         }
        }
       }
      }
     },
     "metadata": {},
     "output_type": "display_data"
    }
   ],
   "source": [
    "analyze_gender.plot_age_sex_distribution_with_top_names()"
   ]
  },
  {
   "cell_type": "markdown",
   "metadata": {},
   "source": [
    "## 2.3 Geographical Analysis"
   ]
  },
  {
   "cell_type": "markdown",
   "metadata": {},
   "source": [
    "The aim of this section is to present the distribution of top character names across continents and countries."
   ]
  },
  {
   "cell_type": "markdown",
   "metadata": {},
   "source": [
    "### 2.3.a Continent Analysis"
   ]
  },
  {
   "cell_type": "code",
   "execution_count": 71,
   "metadata": {},
   "outputs": [
    {
     "data": {
      "text/html": [
       "<div>\n",
       "<style scoped>\n",
       "    .dataframe tbody tr th:only-of-type {\n",
       "        vertical-align: middle;\n",
       "    }\n",
       "\n",
       "    .dataframe tbody tr th {\n",
       "        vertical-align: top;\n",
       "    }\n",
       "\n",
       "    .dataframe thead th {\n",
       "        text-align: right;\n",
       "    }\n",
       "</style>\n",
       "<table border=\"1\" class=\"dataframe\">\n",
       "  <thead>\n",
       "    <tr style=\"text-align: right;\">\n",
       "      <th></th>\n",
       "      <th>Continent</th>\n",
       "      <th>Female_name</th>\n",
       "      <th>Male_name</th>\n",
       "    </tr>\n",
       "  </thead>\n",
       "  <tbody>\n",
       "    <tr>\n",
       "      <th>0</th>\n",
       "      <td>Africa</td>\n",
       "      <td>Amina*</td>\n",
       "      <td>Omar*</td>\n",
       "    </tr>\n",
       "    <tr>\n",
       "      <th>1</th>\n",
       "      <td>Asia</td>\n",
       "      <td>Priya</td>\n",
       "      <td>Vijay</td>\n",
       "    </tr>\n",
       "    <tr>\n",
       "      <th>2</th>\n",
       "      <td>Europe</td>\n",
       "      <td>La</td>\n",
       "      <td>John</td>\n",
       "    </tr>\n",
       "    <tr>\n",
       "      <th>3</th>\n",
       "      <td>North America</td>\n",
       "      <td>Sarah</td>\n",
       "      <td>John</td>\n",
       "    </tr>\n",
       "    <tr>\n",
       "      <th>4</th>\n",
       "      <td>Oceania</td>\n",
       "      <td>Angie</td>\n",
       "      <td>John</td>\n",
       "    </tr>\n",
       "  </tbody>\n",
       "</table>\n",
       "</div>"
      ],
      "text/plain": [
       "       Continent Female_name Male_name\n",
       "0         Africa      Amina*     Omar*\n",
       "1           Asia       Priya     Vijay\n",
       "2         Europe          La      John\n",
       "3  North America       Sarah      John\n",
       "4        Oceania       Angie      John"
      ]
     },
     "execution_count": 71,
     "metadata": {},
     "output_type": "execute_result"
    }
   ],
   "source": [
    "# Let's generate a table containing the most recurrent names for each continent\n",
    "analyze_countries = CountryAnalyzer(df_char_cleaned)\n",
    "df_continent = analyze_countries.create_continent_df()\n",
    "df_continent.head()"
   ]
  },
  {
   "cell_type": "markdown",
   "metadata": {},
   "source": [
    "\\* 3 other names are in a tie for this category. We choose to display only one name for readability"
   ]
  },
  {
   "cell_type": "markdown",
   "metadata": {},
   "source": [
    "In the table above we see the most recurrent character names for each continent. For Asia, we see that the most common names are indian names. Is it because other nearby countries are influenced by the bollywood industry or because India's movies are predominent in this dataset? \n",
    "We will try to answer the question by plotting the most common character names per country and reting it with the number of movies from this country in the dataset."
   ]
  },
  {
   "cell_type": "markdown",
   "metadata": {},
   "source": [
    "### 2.3.b Country Analysis (Interractive World map)"
   ]
  },
  {
   "cell_type": "markdown",
   "metadata": {},
   "source": [
    "*Interactive hover plot in this section*"
   ]
  },
  {
   "cell_type": "code",
   "execution_count": 72,
   "metadata": {},
   "outputs": [],
   "source": [
    "df_top_names = analyze_countries.create_top_names_df()\n",
    "analyze_countries.add_movie_count(df_top_names)\n",
    "df_top_names = analyze_countries.cleaning_non_countries(df_top_names)"
   ]
  },
  {
   "cell_type": "code",
   "execution_count": 73,
   "metadata": {},
   "outputs": [
    {
     "data": {
      "application/vnd.plotly.v1+json": {
       "config": {
        "plotlyServerURL": "https://plot.ly"
       },
       "data": [
        {
         "type": "scattergeo"
        },
        {
         "colorbar": {
          "ticktext": [
           "10^0",
           "10^1",
           "10^2",
           "10^3",
           "10^4"
          ],
          "tickvals": [
           0,
           1,
           2,
           3,
           4
          ],
          "title": {
           "text": "Number of movies (Log Scale)"
          }
         },
         "colorscale": [
          [
           0,
           "rgb(255,255,204)"
          ],
          [
           0.125,
           "rgb(255,237,160)"
          ],
          [
           0.25,
           "rgb(254,217,118)"
          ],
          [
           0.375,
           "rgb(254,178,76)"
          ],
          [
           0.5,
           "rgb(253,141,60)"
          ],
          [
           0.625,
           "rgb(252,78,42)"
          ],
          [
           0.75,
           "rgb(227,26,28)"
          ],
          [
           0.875,
           "rgb(189,0,38)"
          ],
          [
           1,
           "rgb(128,0,38)"
          ]
         ],
         "hovertemplate": "%{location}<br>%{text}",
         "locationmode": "country names",
         "locations": [
          "Afghanistan",
          "Albania",
          "Algeria",
          "Argentina",
          "Australia",
          "Austria",
          "Bahamas",
          "Bangladesh",
          "Belgium",
          "Bolivia",
          "Bosnia and Herzegovina",
          "Brazil",
          "Bulgaria",
          "Burma",
          "Cambodia",
          "Canada",
          "Chile",
          "China",
          "Colombia",
          "Costa Rica",
          "Croatia",
          "Cyprus",
          "Czech Republic",
          "Czechoslovakia",
          "Denmark",
          "Egypt",
          "Estonia",
          "Finland",
          "France",
          "Georgia",
          "Germany",
          "Greece",
          "Hong Kong",
          "Hungary",
          "Iceland",
          "India",
          "Indonesia",
          "Iran",
          "Ireland",
          "Isle of Man",
          "Israel",
          "Italy",
          "Jamaica",
          "Japan",
          "Korea",
          "Lebanon",
          "Lithuania",
          "Luxembourg",
          "Malayalam Language",
          "Malaysia",
          "Malta",
          "Mexico",
          "Mongolia",
          "Nepal",
          "Netherlands",
          "New Zealand",
          "Norway",
          "Pakistan",
          "Palestinian territories",
          "Peru",
          "Philippines",
          "Poland",
          "Portugal",
          "Puerto Rico",
          "Republic of Macedonia",
          "Romania",
          "Russia",
          "Senegal",
          "Serbia",
          "Serbia and Montenegro",
          "Singapore",
          "Slovak Republic",
          "Slovakia",
          "Slovenia",
          "South Africa",
          "South Korea",
          "Spain",
          "Sri Lanka",
          "Sweden",
          "Switzerland",
          "Taiwan",
          "Thailand",
          "Turkey",
          "Ukraine",
          "Ukrainian SSR",
          "Ukranian SSR",
          "United Arab Emirates",
          "United Kingdom",
          "United States of America",
          "Uruguay",
          "Uzbekistan",
          "Venezuela",
          "Vietnam",
          "Yugoslavia",
          "Zambia",
          "Zimbabwe"
         ],
         "showscale": true,
         "text": [
          "Top female name: Benazir<br>Top male name: Baadshah<br>Nb Movies: 3",
          "Top female name: Agnes<br>Top male name: Apotheker<br>Nb Movies: 2",
          "Top female name: Khadidja<br>Top male name: Adel<br>Nb Movies: 1",
          "Top female name: Susana<br>Top male name: Pedro<br>Nb Movies: 31",
          "Top female name: Angie<br>Top male name: John<br>Nb Movies: 301",
          "Top female name: Frau<br>Top male name: Ein<br>Nb Movies: 49",
          "Top female name: None<br>Top male name: Clyde<br>Nb Movies: 1",
          "Top female name: Meher<br>Top male name: Abdul<br>Nb Movies: 8",
          "Top female name: Christine<br>Top male name: Johan<br>Nb Movies: 39",
          "Top female name: Actriz<br>Top male name: Amigo<br>Nb Movies: 2",
          "Top female name: Cemile<br>Top male name: Vojnik<br>Nb Movies: 2",
          "Top female name: Dona<br>Top male name: João<br>Nb Movies: 55",
          "Top female name: Ave<br>Top male name: Maystor<br>Nb Movies: 10",
          "Top female name: None<br>Top male name: Okkar<br>Nb Movies: 1",
          "Top female name: Kaly<br>Top male name: Chalawan<br>Nb Movies: 6",
          "Top female name: Sarah<br>Top male name: John<br>Nb Movies: 544",
          "Top female name: Carmen<br>Top male name: Marciano<br>Nb Movies: 5",
          "Top female name: Xiao<br>Top male name: Chen<br>Nb Movies: 73",
          "Top female name: Adela<br>Top male name: Jairo<br>Nb Movies: 8",
          "Top female name: Alejandra<br>Top male name: Bernardo<br>Nb Movies: 1",
          "Top female name: Begovica<br>Top male name: Taksist<br>Nb Movies: 9",
          "Top female name: Aphrodite<br>Top male name: Andreas<br>Nb Movies: 1",
          "Top female name: Deti<br>Top male name: Frantisek<br>Nb Movies: 23",
          "Top female name: Alena<br>Top male name: Jan<br>Nb Movies: 17",
          "Top female name: Fru<br>Top male name: Christian<br>Nb Movies: 71",
          "Top female name: Amina<br>Top male name: Ahmed<br>Nb Movies: 24",
          "Top female name: Mari<br>Top male name: Margus<br>Nb Movies: 4",
          "Top female name: Shemeikan<br>Top male name: Poliisi<br>Nb Movies: 40",
          "Top female name: La<br>Top male name: Pierre<br>Nb Movies: 1,402",
          "Top female name: Jenna<br>Top male name: Beau<br>Nb Movies: 1",
          "Top female name: Frau<br>Top male name: Der<br>Nb Movies: 130",
          "Top female name: Liza<br>Top male name: Alexis<br>Nb Movies: 28",
          "Top female name: May<br>Top male name: Cheung<br>Nb Movies: 342",
          "Top female name: Lány<br>Top male name: Gielgud<br>Nb Movies: 39",
          "Top female name: Anna<br>Top male name: Albert<br>Nb Movies: 10",
          "Top female name: Priya<br>Top male name: Vijay<br>Nb Movies: 4,568",
          "Top female name: Nenek<br>Top male name: Jin<br>Nb Movies: 14",
          "Top female name: Mina<br>Top male name: Nader<br>Nb Movies: 16",
          "Top female name: Mary<br>Top male name: John<br>Nb Movies: 92",
          "Top female name: Annie<br>Top male name: Brendy<br>Nb Movies: 2",
          "Top female name: Dikla<br>Top male name: James<br>Nb Movies: 15",
          "Top female name: La<br>Top male name: Il<br>Nb Movies: 362",
          "Top female name: None<br>Top male name: Aaron<br>Nb Movies: 1",
          "Top female name: Rachel<br>Top male name: Godzilla<br>Nb Movies: 450",
          "Top female name: Lee<br>Top male name: Lee<br>Nb Movies: 2",
          "Top female name: Nadine<br>Top male name: Bruno<br>Nb Movies: 4",
          "Top female name: Grace<br>Top male name: Thomas<br>Nb Movies: 2",
          "Top female name: Bernadette<br>Top male name: Gothic<br>Nb Movies: 6",
          "Top female name: None<br>Top male name: Ali<br>Nb Movies: 1",
          "Top female name: Maria<br>Top male name: Ahmad<br>Nb Movies: 21",
          "Top female name: Grace<br>Top male name: None<br>Nb Movies: 1",
          "Top female name: Carmen<br>Top male name: Fernando<br>Nb Movies: 118",
          "Top female name: Börte<br>Top male name: Altan<br>Nb Movies: 1",
          "Top female name: Anjali<br>Top male name: Bhaire<br>Nb Movies: 4",
          "Top female name: Mevrouw<br>Top male name: Willem<br>Nb Movies: 145",
          "Top female name: Alice<br>Top male name: Doug<br>Nb Movies: 27",
          "Top female name: Wenche<br>Top male name: Mann<br>Nb Movies: 36",
          "Top female name: Pinki<br>Top male name: Aslam<br>Nb Movies: 23",
          "Top female name: Suha<br>Top male name: Barhoum<br>Nb Movies: 1",
          "Top female name: Anita<br>Top male name: Enrique<br>Nb Movies: 2",
          "Top female name: Sanchez<br>Top male name: Dennis<br>Nb Movies: 96",
          "Top female name: Hanka<br>Top male name: Andrzej<br>Nb Movies: 49",
          "Top female name: Freira<br>Top male name: João<br>Nb Movies: 16",
          "Top female name: America<br>Top male name: Beepers<br>Nb Movies: 5",
          "Top female name: Mimi<br>Top male name: Gzim<br>Nb Movies: 3",
          "Top female name: Eva<br>Top male name: Cristi<br>Nb Movies: 17",
          "Top female name: Olga<br>Top male name: Anton<br>Nb Movies: 158",
          "Top female name: Amasatou<br>Top male name: Abdou<br>Nb Movies: 2",
          "Top female name: Boginja<br>Top male name: Bosko<br>Nb Movies: 10",
          "Top female name: Biljarica<br>Top male name: Agim<br>Nb Movies: 1",
          "Top female name: Wendy<br>Top male name: Chan<br>Nb Movies: 25",
          "Top female name: Bertha<br>Top male name: Wachek<br>Nb Movies: 1",
          "Top female name: Anezka<br>Top male name: Jan<br>Nb Movies: 8",
          "Top female name: Ana<br>Top male name: Ivan<br>Nb Movies: 7",
          "Top female name: Elsa<br>Top male name: Abraham<br>Nb Movies: 47",
          "Top female name: Kim<br>Top male name: Kim<br>Nb Movies: 191",
          "Top female name: Chica<br>Top male name: Juan<br>Nb Movies: 194",
          "Top female name: Haminey<br>Top male name: Kumar<br>Nb Movies: 14",
          "Top female name: Marianne<br>Top male name: Anders<br>Nb Movies: 90",
          "Top female name: La<br>Top male name: Rekrut<br>Nb Movies: 39",
          "Top female name: Obing<br>Top male name: Crippled<br>Nb Movies: 13",
          "Top female name: Marisa<br>Top male name: Kham<br>Nb Movies: 35",
          "Top female name: Ayla<br>Top male name: Ali<br>Nb Movies: 36",
          "Top female name: Tatar<br>Top male name: Tatar<br>Nb Movies: 6",
          "Top female name: None<br>Top male name: Cossack<br>Nb Movies: 1",
          "Top female name: Oksana<br>Top male name: Boris<br>Nb Movies: 1",
          "Top female name: Amber<br>Top male name: Ahmed<br>Nb Movies: 5",
          "Top female name: Mary<br>Top male name: John<br>Nb Movies: 1,715",
          "Top female name: Sarah<br>Top male name: John<br>Nb Movies: 16,720",
          "Top female name: Ana<br>Top male name: Rodolfo<br>Nb Movies: 1",
          "Top female name: None<br>Top male name: Abdul<br>Nb Movies: 1",
          "Top female name: Angela<br>Top male name: Arcadio<br>Nb Movies: 4",
          "Top female name: Hanh<br>Top male name: Cuoi<br>Nb Movies: 2",
          "Top female name: Eva<br>Top male name: Ivan<br>Nb Movies: 35",
          "Top female name: None<br>Top male name: Dick<br>Nb Movies: 1",
          "Top female name: Ambuya<br>Top male name: Chigwanzi<br>Nb Movies: 1"
         ],
         "type": "choropleth",
         "z": [
          0.47712125471966244,
          0.3010299956639812,
          0,
          1.4913616938342726,
          2.4785664955938436,
          1.6901960800285136,
          0,
          0.9030899869919435,
          1.591064607026499,
          0.3010299956639812,
          0.3010299956639812,
          1.7403626894942439,
          1,
          0,
          0.7781512503836436,
          2.73559889969818,
          0.6989700043360189,
          1.863322860120456,
          0.9030899869919435,
          0,
          0.9542425094393249,
          0,
          1.3617278360175928,
          1.2304489213782739,
          1.8512583487190752,
          1.380211241711606,
          0.6020599913279624,
          1.6020599913279623,
          3.14674801363064,
          0,
          2.113943352306837,
          1.4471580313422192,
          2.534026106056135,
          1.591064607026499,
          1,
          3.6597260952377915,
          1.146128035678238,
          1.2041199826559248,
          1.9637878273455553,
          0.3010299956639812,
          1.1760912590556813,
          2.558708570533166,
          0,
          2.6532125137753435,
          0.3010299956639812,
          0.6020599913279624,
          0.3010299956639812,
          0.7781512503836436,
          0,
          1.3222192947339193,
          0,
          2.0718820073061255,
          0,
          0.6020599913279624,
          2.161368002234975,
          1.4313637641589874,
          1.5563025007672873,
          1.3617278360175928,
          0,
          0.3010299956639812,
          1.9822712330395684,
          1.6901960800285136,
          1.2041199826559248,
          0.6989700043360189,
          0.47712125471966244,
          1.2304489213782739,
          2.1986570869544226,
          0.3010299956639812,
          1,
          0,
          1.3979400086720377,
          0,
          0.9030899869919435,
          0.8450980400142568,
          1.6720978579357175,
          2.2810333672477277,
          2.287801729930226,
          1.146128035678238,
          1.954242509439325,
          1.591064607026499,
          1.1139433523068367,
          1.5440680443502757,
          1.5563025007672873,
          0.7781512503836436,
          0,
          0,
          0.6989700043360189,
          3.2342641243787895,
          4.223236273102998,
          0,
          0,
          0.6020599913279624,
          0.3010299956639812,
          1.5440680443502757,
          0,
          0
         ]
        }
       ],
       "layout": {
        "geo": {
         "center": {
          "lat": 30
         },
         "countrycolor": "RebeccaPurple",
         "lakecolor": "aqua",
         "projection": {
          "scale": 1,
          "type": "mercator"
         },
         "showcountries": true,
         "visible": false
        },
        "height": 500,
        "margin": {
         "b": 0,
         "l": 0,
         "r": 0,
         "t": 5
        },
        "template": {
         "data": {
          "bar": [
           {
            "error_x": {
             "color": "#2a3f5f"
            },
            "error_y": {
             "color": "#2a3f5f"
            },
            "marker": {
             "line": {
              "color": "#E5ECF6",
              "width": 0.5
             },
             "pattern": {
              "fillmode": "overlay",
              "size": 10,
              "solidity": 0.2
             }
            },
            "type": "bar"
           }
          ],
          "barpolar": [
           {
            "marker": {
             "line": {
              "color": "#E5ECF6",
              "width": 0.5
             },
             "pattern": {
              "fillmode": "overlay",
              "size": 10,
              "solidity": 0.2
             }
            },
            "type": "barpolar"
           }
          ],
          "carpet": [
           {
            "aaxis": {
             "endlinecolor": "#2a3f5f",
             "gridcolor": "white",
             "linecolor": "white",
             "minorgridcolor": "white",
             "startlinecolor": "#2a3f5f"
            },
            "baxis": {
             "endlinecolor": "#2a3f5f",
             "gridcolor": "white",
             "linecolor": "white",
             "minorgridcolor": "white",
             "startlinecolor": "#2a3f5f"
            },
            "type": "carpet"
           }
          ],
          "choropleth": [
           {
            "colorbar": {
             "outlinewidth": 0,
             "ticks": ""
            },
            "type": "choropleth"
           }
          ],
          "contour": [
           {
            "colorbar": {
             "outlinewidth": 0,
             "ticks": ""
            },
            "colorscale": [
             [
              0,
              "#0d0887"
             ],
             [
              0.1111111111111111,
              "#46039f"
             ],
             [
              0.2222222222222222,
              "#7201a8"
             ],
             [
              0.3333333333333333,
              "#9c179e"
             ],
             [
              0.4444444444444444,
              "#bd3786"
             ],
             [
              0.5555555555555556,
              "#d8576b"
             ],
             [
              0.6666666666666666,
              "#ed7953"
             ],
             [
              0.7777777777777778,
              "#fb9f3a"
             ],
             [
              0.8888888888888888,
              "#fdca26"
             ],
             [
              1,
              "#f0f921"
             ]
            ],
            "type": "contour"
           }
          ],
          "contourcarpet": [
           {
            "colorbar": {
             "outlinewidth": 0,
             "ticks": ""
            },
            "type": "contourcarpet"
           }
          ],
          "heatmap": [
           {
            "colorbar": {
             "outlinewidth": 0,
             "ticks": ""
            },
            "colorscale": [
             [
              0,
              "#0d0887"
             ],
             [
              0.1111111111111111,
              "#46039f"
             ],
             [
              0.2222222222222222,
              "#7201a8"
             ],
             [
              0.3333333333333333,
              "#9c179e"
             ],
             [
              0.4444444444444444,
              "#bd3786"
             ],
             [
              0.5555555555555556,
              "#d8576b"
             ],
             [
              0.6666666666666666,
              "#ed7953"
             ],
             [
              0.7777777777777778,
              "#fb9f3a"
             ],
             [
              0.8888888888888888,
              "#fdca26"
             ],
             [
              1,
              "#f0f921"
             ]
            ],
            "type": "heatmap"
           }
          ],
          "heatmapgl": [
           {
            "colorbar": {
             "outlinewidth": 0,
             "ticks": ""
            },
            "colorscale": [
             [
              0,
              "#0d0887"
             ],
             [
              0.1111111111111111,
              "#46039f"
             ],
             [
              0.2222222222222222,
              "#7201a8"
             ],
             [
              0.3333333333333333,
              "#9c179e"
             ],
             [
              0.4444444444444444,
              "#bd3786"
             ],
             [
              0.5555555555555556,
              "#d8576b"
             ],
             [
              0.6666666666666666,
              "#ed7953"
             ],
             [
              0.7777777777777778,
              "#fb9f3a"
             ],
             [
              0.8888888888888888,
              "#fdca26"
             ],
             [
              1,
              "#f0f921"
             ]
            ],
            "type": "heatmapgl"
           }
          ],
          "histogram": [
           {
            "marker": {
             "pattern": {
              "fillmode": "overlay",
              "size": 10,
              "solidity": 0.2
             }
            },
            "type": "histogram"
           }
          ],
          "histogram2d": [
           {
            "colorbar": {
             "outlinewidth": 0,
             "ticks": ""
            },
            "colorscale": [
             [
              0,
              "#0d0887"
             ],
             [
              0.1111111111111111,
              "#46039f"
             ],
             [
              0.2222222222222222,
              "#7201a8"
             ],
             [
              0.3333333333333333,
              "#9c179e"
             ],
             [
              0.4444444444444444,
              "#bd3786"
             ],
             [
              0.5555555555555556,
              "#d8576b"
             ],
             [
              0.6666666666666666,
              "#ed7953"
             ],
             [
              0.7777777777777778,
              "#fb9f3a"
             ],
             [
              0.8888888888888888,
              "#fdca26"
             ],
             [
              1,
              "#f0f921"
             ]
            ],
            "type": "histogram2d"
           }
          ],
          "histogram2dcontour": [
           {
            "colorbar": {
             "outlinewidth": 0,
             "ticks": ""
            },
            "colorscale": [
             [
              0,
              "#0d0887"
             ],
             [
              0.1111111111111111,
              "#46039f"
             ],
             [
              0.2222222222222222,
              "#7201a8"
             ],
             [
              0.3333333333333333,
              "#9c179e"
             ],
             [
              0.4444444444444444,
              "#bd3786"
             ],
             [
              0.5555555555555556,
              "#d8576b"
             ],
             [
              0.6666666666666666,
              "#ed7953"
             ],
             [
              0.7777777777777778,
              "#fb9f3a"
             ],
             [
              0.8888888888888888,
              "#fdca26"
             ],
             [
              1,
              "#f0f921"
             ]
            ],
            "type": "histogram2dcontour"
           }
          ],
          "mesh3d": [
           {
            "colorbar": {
             "outlinewidth": 0,
             "ticks": ""
            },
            "type": "mesh3d"
           }
          ],
          "parcoords": [
           {
            "line": {
             "colorbar": {
              "outlinewidth": 0,
              "ticks": ""
             }
            },
            "type": "parcoords"
           }
          ],
          "pie": [
           {
            "automargin": true,
            "type": "pie"
           }
          ],
          "scatter": [
           {
            "fillpattern": {
             "fillmode": "overlay",
             "size": 10,
             "solidity": 0.2
            },
            "type": "scatter"
           }
          ],
          "scatter3d": [
           {
            "line": {
             "colorbar": {
              "outlinewidth": 0,
              "ticks": ""
             }
            },
            "marker": {
             "colorbar": {
              "outlinewidth": 0,
              "ticks": ""
             }
            },
            "type": "scatter3d"
           }
          ],
          "scattercarpet": [
           {
            "marker": {
             "colorbar": {
              "outlinewidth": 0,
              "ticks": ""
             }
            },
            "type": "scattercarpet"
           }
          ],
          "scattergeo": [
           {
            "marker": {
             "colorbar": {
              "outlinewidth": 0,
              "ticks": ""
             }
            },
            "type": "scattergeo"
           }
          ],
          "scattergl": [
           {
            "marker": {
             "colorbar": {
              "outlinewidth": 0,
              "ticks": ""
             }
            },
            "type": "scattergl"
           }
          ],
          "scattermapbox": [
           {
            "marker": {
             "colorbar": {
              "outlinewidth": 0,
              "ticks": ""
             }
            },
            "type": "scattermapbox"
           }
          ],
          "scatterpolar": [
           {
            "marker": {
             "colorbar": {
              "outlinewidth": 0,
              "ticks": ""
             }
            },
            "type": "scatterpolar"
           }
          ],
          "scatterpolargl": [
           {
            "marker": {
             "colorbar": {
              "outlinewidth": 0,
              "ticks": ""
             }
            },
            "type": "scatterpolargl"
           }
          ],
          "scatterternary": [
           {
            "marker": {
             "colorbar": {
              "outlinewidth": 0,
              "ticks": ""
             }
            },
            "type": "scatterternary"
           }
          ],
          "surface": [
           {
            "colorbar": {
             "outlinewidth": 0,
             "ticks": ""
            },
            "colorscale": [
             [
              0,
              "#0d0887"
             ],
             [
              0.1111111111111111,
              "#46039f"
             ],
             [
              0.2222222222222222,
              "#7201a8"
             ],
             [
              0.3333333333333333,
              "#9c179e"
             ],
             [
              0.4444444444444444,
              "#bd3786"
             ],
             [
              0.5555555555555556,
              "#d8576b"
             ],
             [
              0.6666666666666666,
              "#ed7953"
             ],
             [
              0.7777777777777778,
              "#fb9f3a"
             ],
             [
              0.8888888888888888,
              "#fdca26"
             ],
             [
              1,
              "#f0f921"
             ]
            ],
            "type": "surface"
           }
          ],
          "table": [
           {
            "cells": {
             "fill": {
              "color": "#EBF0F8"
             },
             "line": {
              "color": "white"
             }
            },
            "header": {
             "fill": {
              "color": "#C8D4E3"
             },
             "line": {
              "color": "white"
             }
            },
            "type": "table"
           }
          ]
         },
         "layout": {
          "annotationdefaults": {
           "arrowcolor": "#2a3f5f",
           "arrowhead": 0,
           "arrowwidth": 1
          },
          "autotypenumbers": "strict",
          "coloraxis": {
           "colorbar": {
            "outlinewidth": 0,
            "ticks": ""
           }
          },
          "colorscale": {
           "diverging": [
            [
             0,
             "#8e0152"
            ],
            [
             0.1,
             "#c51b7d"
            ],
            [
             0.2,
             "#de77ae"
            ],
            [
             0.3,
             "#f1b6da"
            ],
            [
             0.4,
             "#fde0ef"
            ],
            [
             0.5,
             "#f7f7f7"
            ],
            [
             0.6,
             "#e6f5d0"
            ],
            [
             0.7,
             "#b8e186"
            ],
            [
             0.8,
             "#7fbc41"
            ],
            [
             0.9,
             "#4d9221"
            ],
            [
             1,
             "#276419"
            ]
           ],
           "sequential": [
            [
             0,
             "#0d0887"
            ],
            [
             0.1111111111111111,
             "#46039f"
            ],
            [
             0.2222222222222222,
             "#7201a8"
            ],
            [
             0.3333333333333333,
             "#9c179e"
            ],
            [
             0.4444444444444444,
             "#bd3786"
            ],
            [
             0.5555555555555556,
             "#d8576b"
            ],
            [
             0.6666666666666666,
             "#ed7953"
            ],
            [
             0.7777777777777778,
             "#fb9f3a"
            ],
            [
             0.8888888888888888,
             "#fdca26"
            ],
            [
             1,
             "#f0f921"
            ]
           ],
           "sequentialminus": [
            [
             0,
             "#0d0887"
            ],
            [
             0.1111111111111111,
             "#46039f"
            ],
            [
             0.2222222222222222,
             "#7201a8"
            ],
            [
             0.3333333333333333,
             "#9c179e"
            ],
            [
             0.4444444444444444,
             "#bd3786"
            ],
            [
             0.5555555555555556,
             "#d8576b"
            ],
            [
             0.6666666666666666,
             "#ed7953"
            ],
            [
             0.7777777777777778,
             "#fb9f3a"
            ],
            [
             0.8888888888888888,
             "#fdca26"
            ],
            [
             1,
             "#f0f921"
            ]
           ]
          },
          "colorway": [
           "#636efa",
           "#EF553B",
           "#00cc96",
           "#ab63fa",
           "#FFA15A",
           "#19d3f3",
           "#FF6692",
           "#B6E880",
           "#FF97FF",
           "#FECB52"
          ],
          "font": {
           "color": "#2a3f5f"
          },
          "geo": {
           "bgcolor": "white",
           "lakecolor": "white",
           "landcolor": "#E5ECF6",
           "showlakes": true,
           "showland": true,
           "subunitcolor": "white"
          },
          "hoverlabel": {
           "align": "left"
          },
          "hovermode": "closest",
          "mapbox": {
           "style": "light"
          },
          "paper_bgcolor": "white",
          "plot_bgcolor": "#E5ECF6",
          "polar": {
           "angularaxis": {
            "gridcolor": "white",
            "linecolor": "white",
            "ticks": ""
           },
           "bgcolor": "#E5ECF6",
           "radialaxis": {
            "gridcolor": "white",
            "linecolor": "white",
            "ticks": ""
           }
          },
          "scene": {
           "xaxis": {
            "backgroundcolor": "#E5ECF6",
            "gridcolor": "white",
            "gridwidth": 2,
            "linecolor": "white",
            "showbackground": true,
            "ticks": "",
            "zerolinecolor": "white"
           },
           "yaxis": {
            "backgroundcolor": "#E5ECF6",
            "gridcolor": "white",
            "gridwidth": 2,
            "linecolor": "white",
            "showbackground": true,
            "ticks": "",
            "zerolinecolor": "white"
           },
           "zaxis": {
            "backgroundcolor": "#E5ECF6",
            "gridcolor": "white",
            "gridwidth": 2,
            "linecolor": "white",
            "showbackground": true,
            "ticks": "",
            "zerolinecolor": "white"
           }
          },
          "shapedefaults": {
           "line": {
            "color": "#2a3f5f"
           }
          },
          "ternary": {
           "aaxis": {
            "gridcolor": "white",
            "linecolor": "white",
            "ticks": ""
           },
           "baxis": {
            "gridcolor": "white",
            "linecolor": "white",
            "ticks": ""
           },
           "bgcolor": "#E5ECF6",
           "caxis": {
            "gridcolor": "white",
            "linecolor": "white",
            "ticks": ""
           }
          },
          "title": {
           "x": 0.05
          },
          "xaxis": {
           "automargin": true,
           "gridcolor": "white",
           "linecolor": "white",
           "ticks": "",
           "title": {
            "standoff": 15
           },
           "zerolinecolor": "white",
           "zerolinewidth": 2
          },
          "yaxis": {
           "automargin": true,
           "gridcolor": "white",
           "linecolor": "white",
           "ticks": "",
           "title": {
            "standoff": 15
           },
           "zerolinecolor": "white",
           "zerolinewidth": 2
          }
         }
        },
        "title": {
         "text": "Most Common Male and Female Character Names by Country",
         "x": 0.4,
         "y": 0.9
        }
       }
      }
     },
     "metadata": {},
     "output_type": "display_data"
    }
   ],
   "source": [
    "fig = go.Figure(go.Scattergeo(\n",
    "))\n",
    "fig.add_trace(go.Choropleth(\n",
    "    locations= df_top_names['primary_country'],\n",
    "    locationmode='country names',\n",
    "    showscale= True,\n",
    "    colorscale='YlOrRd',\n",
    "    z=np.log10(df_top_names['Number_of_movies']),\n",
    "    colorbar=dict(title=\"Number of movies (Log Scale)\", tickvals=np.arange(0, 5), ticktext=[f\"10^{i}\" for i in range(0, 5)]),\n",
    "    text= [f\"Top female name: {female}<br>Top male name: {male}<br>Nb Movies: {movies:,}\" \n",
    "           for female, male, movies in zip(df_top_names['Female_name'], df_top_names['Male_name'], df_top_names['Number_of_movies'])],\n",
    "    hovertemplate=\"%{location}<br>%{text}\"\n",
    "))\n",
    "fig.update_geos(\n",
    "    projection_scale=1,center={'lat': 30},\n",
    "    visible=False,\n",
    "    showcountries=True, countrycolor=\"RebeccaPurple\"\n",
    ")\n",
    "fig.update_layout(\n",
    "    geo=dict(\n",
    "        projection_type=\"mercator\",\n",
    "        lakecolor=\"aqua\"\n",
    "    ),\n",
    "    height=500,\n",
    "    margin={\"r\":0,\"t\":5,\"l\":0,\"b\":0},\n",
    "    title_text=\"Most Common Male and Female Character Names by Country\",\n",
    "    title_x=0.4,\n",
    "    title_y=0.90\n",
    ")\n",
    "fig.show()"
   ]
  },
  {
   "cell_type": "markdown",
   "metadata": {},
   "source": [
    "### 2.3.c Statistical analysis (Geography)"
   ]
  },
  {
   "cell_type": "code",
   "execution_count": null,
   "metadata": {},
   "outputs": [],
   "source": []
  },
  {
   "cell_type": "markdown",
   "metadata": {},
   "source": [
    "We are going to run a chi2 test in order to verify that there is noticeable correlation between geography and characters' names"
   ]
  },
  {
   "cell_type": "code",
   "execution_count": 74,
   "metadata": {},
   "outputs": [
    {
     "name": "stdout",
     "output_type": "stream",
     "text": [
      "Chi-Square Statistic: 7796708.1732684765\n",
      "p-value: 0.0\n"
     ]
    }
   ],
   "source": [
    "# Chi2 test\n",
    "contingency_table = create_contingency_table(df_char_cleaned,'Character_name','primary_country')\n",
    "chi2, p_value, dof, expected = stats.chi2_contingency(contingency_table)\n",
    "\n",
    "print(f\"Chi-Square Statistic: {chi2}\")\n",
    "print(f\"p-value: {p_value}\")"
   ]
  },
  {
   "cell_type": "markdown",
   "metadata": {},
   "source": [
    "Looking the results above, we see that we have a p-value equal to 0, meaning that there is a statistically significant association between the country of movie production and the character names in the movie. We will now investigate the strength of this association using Cramér's V."
   ]
  },
  {
   "cell_type": "code",
   "execution_count": 75,
   "metadata": {},
   "outputs": [
    {
     "name": "stdout",
     "output_type": "stream",
     "text": [
      "Cramér's V: 0.6900272760393569\n"
     ]
    }
   ],
   "source": [
    "n = contingency_table.sum().sum()\n",
    "k = min(contingency_table.shape)\n",
    "cramers_v = np.sqrt(chi2 / (n * (k - 1)))\n",
    "\n",
    "print(f\"Cramér's V: {cramers_v}\")"
   ]
  },
  {
   "cell_type": "markdown",
   "metadata": {},
   "source": [
    "The Cramér's V is superior to 0.5 meaning that there is a strong association between the country of production of the movie and the name of the characters in the movies."
   ]
  },
  {
   "cell_type": "markdown",
   "metadata": {},
   "source": [
    "## Phonetics"
   ]
  },
  {
   "cell_type": "code",
   "execution_count": 76,
   "metadata": {},
   "outputs": [],
   "source": [
    "# We will divide consonants by their manner of articulation\n",
    "plosive = ['P','T','B','K']\n",
    "fricative = ['F','X','0','S','H']\n",
    "affricate = ['J']\n",
    "nasal =['M','N']\n",
    "liquid = ['L','R']\n",
    "manner_groups = [plosive,fricative,affricate,nasal,liquid]\n",
    "manner_names = ['plosive','fricative','affricate','nasal','liquid']\n"
   ]
  },
  {
   "cell_type": "code",
   "execution_count": 77,
   "metadata": {},
   "outputs": [],
   "source": [
    "analyze_phonetics = PhoneticAnalyzer(df_char_cleaned,manner_groups,manner_names)\n"
   ]
  },
  {
   "cell_type": "markdown",
   "metadata": {},
   "source": [
    "### Gender"
   ]
  },
  {
   "cell_type": "code",
   "execution_count": 78,
   "metadata": {},
   "outputs": [
    {
     "name": "stderr",
     "output_type": "stream",
     "text": [
      "c:\\Users\\zacbo\\OneDrive\\Bureau\\ada-2024-project-adadasurmonbidet2024\\src\\utils\\results_utils.py:522: FutureWarning:\n",
      "\n",
      "Series.__getitem__ treating keys as positions is deprecated. In a future version, integer keys will always be treated as labels (consistent with DataFrame behavior). To access a value by position, use `ser.iloc[pos]`\n",
      "\n"
     ]
    }
   ],
   "source": [
    "manner_df = analyze_phonetics.phonetics_by_gender()"
   ]
  },
  {
   "cell_type": "code",
   "execution_count": 79,
   "metadata": {},
   "outputs": [
    {
     "data": {
      "image/png": "[encoded data removed]",
      "text/plain": [
       "<Figure size 1000x600 with 1 Axes>"
      ]
     },
     "metadata": {},
     "output_type": "display_data"
    }
   ],
   "source": [
    "# Create the barplot\n",
    "plt.figure(figsize=(10, 6))\n",
    "ax = sns.barplot(\n",
    "    data=manner_df,\n",
    "    x='Consonant_Group',\n",
    "    y='Percent',\n",
    "    hue='Sex',\n",
    "    palette='viridis',\n",
    "    order=[f'{manner}' for manner in manner_names]\n",
    ")\n",
    "x_positions = ax.get_xticks()\n",
    "bar_width = 0.4\n",
    "\n",
    "'''\n",
    "for _, row in manner_df.iterrows():\n",
    "        group_idx = manner_names.index(row['Consonant_Group'])\n",
    "        if row['Sex'] == 'M':\n",
    "                x = x_positions[group_idx] + bar_width / 2 \n",
    "        else:\n",
    "                x = x_positions[group_idx] - bar_width / 2\n",
    "        plt.errorbar(\n",
    "            x=x,\n",
    "            y=row['Percent'],\n",
    "            yerr=row['CI'],\n",
    "            fmt='none',\n",
    "            c='black',\n",
    "            capsize=4\n",
    "        )\n",
    "'''\n",
    "        \n",
    "# Customize the plot\n",
    "plt.title('Distribution of Phonetic Names by Consonant Groups and Sex')\n",
    "plt.xlabel('Consonant Groups')\n",
    "plt.ylabel('Percentage')\n",
    "plt.legend(title='Sex')\n",
    "plt.tight_layout()\n",
    "plt.show()\n"
   ]
  },
  {
   "cell_type": "markdown",
   "metadata": {},
   "source": [
    "The plot above show that plosives, fricatives and affricates sounds are more common in male character names while nasal and liquid names are more common for female character names. Although not formally defined on a linguistic point of view, we can regroup plosives, fricatives and affricates sounds as 'hard' sounds and nasal and liquid sounds as 'soft' sounds. From this we can deduce that male names are more likely to contain 'hard' sounds and female names 'soft' sounds. "
   ]
  },
  {
   "cell_type": "markdown",
   "metadata": {},
   "source": [
    "### Age"
   ]
  },
  {
   "cell_type": "code",
   "execution_count": 80,
   "metadata": {},
   "outputs": [],
   "source": [
    "manner_age_df = analyze_phonetics.phonetics_by_age()\n"
   ]
  },
  {
   "cell_type": "code",
   "execution_count": 81,
   "metadata": {},
   "outputs": [],
   "source": [
    "#let's place the age groups in the correct order\n",
    "\n",
    "age_order = ['<12y','13y-17y','18y-24y','25y-34y','35y-44y','45y-54y','55y-64y','65y-74y','75y-84y','>85y']\n",
    "manner_age_df['age_category'] = pd.Categorical(\n",
    "    manner_age_df['age_category'],\n",
    "    categories=age_order,\n",
    "    ordered=True\n",
    ")"
   ]
  },
  {
   "cell_type": "code",
   "execution_count": 82,
   "metadata": {},
   "outputs": [
    {
     "data": {
      "text/html": [
       "<div>\n",
       "<style scoped>\n",
       "    .dataframe tbody tr th:only-of-type {\n",
       "        vertical-align: middle;\n",
       "    }\n",
       "\n",
       "    .dataframe tbody tr th {\n",
       "        vertical-align: top;\n",
       "    }\n",
       "\n",
       "    .dataframe thead th {\n",
       "        text-align: right;\n",
       "    }\n",
       "</style>\n",
       "<table border=\"1\" class=\"dataframe\">\n",
       "  <thead>\n",
       "    <tr style=\"text-align: right;\">\n",
       "      <th></th>\n",
       "      <th>Consonant_Group</th>\n",
       "      <th>age_category</th>\n",
       "      <th>Count</th>\n",
       "      <th>Percent</th>\n",
       "    </tr>\n",
       "  </thead>\n",
       "  <tbody>\n",
       "    <tr>\n",
       "      <th>0</th>\n",
       "      <td>affricate</td>\n",
       "      <td>13y-17y</td>\n",
       "      <td>351</td>\n",
       "      <td>11.959114</td>\n",
       "    </tr>\n",
       "    <tr>\n",
       "      <th>1</th>\n",
       "      <td>affricate</td>\n",
       "      <td>18y-24y</td>\n",
       "      <td>1496</td>\n",
       "      <td>11.955566</td>\n",
       "    </tr>\n",
       "    <tr>\n",
       "      <th>2</th>\n",
       "      <td>affricate</td>\n",
       "      <td>25y-34y</td>\n",
       "      <td>4175</td>\n",
       "      <td>12.059852</td>\n",
       "    </tr>\n",
       "    <tr>\n",
       "      <th>3</th>\n",
       "      <td>affricate</td>\n",
       "      <td>35y-44y</td>\n",
       "      <td>3405</td>\n",
       "      <td>11.687376</td>\n",
       "    </tr>\n",
       "    <tr>\n",
       "      <th>4</th>\n",
       "      <td>affricate</td>\n",
       "      <td>45y-54y</td>\n",
       "      <td>2129</td>\n",
       "      <td>11.549938</td>\n",
       "    </tr>\n",
       "  </tbody>\n",
       "</table>\n",
       "</div>"
      ],
      "text/plain": [
       "  Consonant_Group age_category  Count    Percent\n",
       "0       affricate      13y-17y    351  11.959114\n",
       "1       affricate      18y-24y   1496  11.955566\n",
       "2       affricate      25y-34y   4175  12.059852\n",
       "3       affricate      35y-44y   3405  11.687376\n",
       "4       affricate      45y-54y   2129  11.549938"
      ]
     },
     "execution_count": 82,
     "metadata": {},
     "output_type": "execute_result"
    }
   ],
   "source": [
    "manner_age_df.head()"
   ]
  },
  {
   "cell_type": "code",
   "execution_count": 83,
   "metadata": {},
   "outputs": [
    {
     "data": {
      "image/png": "[encoded data removed]",
      "text/plain": [
       "<Figure size 1200x600 with 1 Axes>"
      ]
     },
     "metadata": {},
     "output_type": "display_data"
    }
   ],
   "source": [
    "plt.figure(figsize=(12, 6))\n",
    "sns.lineplot(\n",
    "    data=manner_age_df,\n",
    "    x='age_category',\n",
    "    y='Percent',\n",
    "    hue='Consonant_Group',\n",
    "    marker='o',\n",
    "    palette='viridis'\n",
    ")\n",
    "plt.title('Percentage of Names Containing Each Consonant Group Across Age Categories')\n",
    "plt.ylabel('Percentage')\n",
    "plt.xlabel('Age Category')\n",
    "plt.legend(title='Consonant Group', bbox_to_anchor=(1.05, 1), loc='upper left')\n",
    "plt.tight_layout()\n",
    "plt.show()"
   ]
  },
  {
   "cell_type": "markdown",
   "metadata": {},
   "source": [
    "# 3 Sentimental Analysis"
   ]
  },
  {
   "cell_type": "markdown",
   "metadata": {},
   "source": [
    "This section marks the beginning of the sentiment analysis, focusing particularly on the preprocessing of the movies synopsies dataset. For each character in every movie, the goal was to identify the sentences involving them directly in the summaries using natural language processing (NLP).\n",
    "\n",
    "To run this part, you will need to download the “corenlp_plot_summaries” locally, as we couldn't import it in the repository. You can find the result of our prepropccessing as \"sentences_by_characters.csv\" in the \"data\" folder. \n",
    "\n",
    "**P3 :**  Find a solution to import the \"corenlp_plot_summaries\" file directly on the github repository."
   ]
  },
  {
   "cell_type": "code",
   "execution_count": 84,
   "metadata": {},
   "outputs": [
    {
     "name": "stdout",
     "output_type": "stream",
     "text": [
      "(55863, 4)\n"
     ]
    }
   ],
   "source": [
    "\n",
    "df = pd.read_csv('data/sentences_by_character.csv')\n",
    "print(df.shape)"
   ]
  },
  {
   "cell_type": "markdown",
   "metadata": {},
   "source": [
    "### Fonctions pour TextBlob SA"
   ]
  },
  {
   "cell_type": "markdown",
   "metadata": {},
   "source": [
    "TextBlob uses two key metrics for sentiment analysis: Polarity and Subjectivity.\n",
    "\n",
    "- **Polarity (P):** Measures sentiment on a scale from **-1** (most negative) to **1** (most positive).\n",
    "- **Subjectivity (S):** Measures how subjective or objective the sentiment is, ranging from **0** (most objective) to **1** (most subjective).\n",
    "\n",
    "\n",
    "| Polarity (P)    | Subjectivity (S) | Interpretation                |\n",
    "|---------------------|------------------------|------------------------------------|\n",
    "| [-1; -0.5]      | [0.5; 1]           | Very Negative & Subjective        |\n",
    "| [-0.5; 0]       | [0; 0.5]           | Negative but Fairly Objective     |\n",
    "| 0               | [0; 1]             | Neutral                           |\n",
    "| [0; 0.5]        | [0; 0.5]           | Positive but Fairly Objective     |\n",
    "| [0.5; 1]        | [0.5; 1]           | Very Positive & Subjective        |\n"
   ]
  },
  {
   "cell_type": "code",
   "execution_count": 85,
   "metadata": {},
   "outputs": [
    {
     "data": {
      "text/html": [
       "<div>\n",
       "<style scoped>\n",
       "    .dataframe tbody tr th:only-of-type {\n",
       "        vertical-align: middle;\n",
       "    }\n",
       "\n",
       "    .dataframe tbody tr th {\n",
       "        vertical-align: top;\n",
       "    }\n",
       "\n",
       "    .dataframe thead th {\n",
       "        text-align: right;\n",
       "    }\n",
       "</style>\n",
       "<table border=\"1\" class=\"dataframe\">\n",
       "  <thead>\n",
       "    <tr style=\"text-align: right;\">\n",
       "      <th></th>\n",
       "      <th>Character_Name</th>\n",
       "      <th>Wikipedia_id</th>\n",
       "      <th>Polarity</th>\n",
       "      <th>Subjectivity</th>\n",
       "    </tr>\n",
       "  </thead>\n",
       "  <tbody>\n",
       "    <tr>\n",
       "      <th>0</th>\n",
       "      <td>Williams</td>\n",
       "      <td>3217</td>\n",
       "      <td>0.196667</td>\n",
       "      <td>0.450000</td>\n",
       "    </tr>\n",
       "    <tr>\n",
       "      <th>1</th>\n",
       "      <td>Sheila</td>\n",
       "      <td>3217</td>\n",
       "      <td>0.042172</td>\n",
       "      <td>0.308838</td>\n",
       "    </tr>\n",
       "    <tr>\n",
       "      <th>2</th>\n",
       "      <td>Arthur</td>\n",
       "      <td>3217</td>\n",
       "      <td>0.040338</td>\n",
       "      <td>0.295411</td>\n",
       "    </tr>\n",
       "    <tr>\n",
       "      <th>3</th>\n",
       "      <td>Ash</td>\n",
       "      <td>3217</td>\n",
       "      <td>0.040338</td>\n",
       "      <td>0.295411</td>\n",
       "    </tr>\n",
       "    <tr>\n",
       "      <th>4</th>\n",
       "      <td>Duke</td>\n",
       "      <td>3217</td>\n",
       "      <td>0.044180</td>\n",
       "      <td>0.323545</td>\n",
       "    </tr>\n",
       "  </tbody>\n",
       "</table>\n",
       "</div>"
      ],
      "text/plain": [
       "  Character_Name  Wikipedia_id  Polarity  Subjectivity\n",
       "0       Williams          3217  0.196667      0.450000\n",
       "1         Sheila          3217  0.042172      0.308838\n",
       "2         Arthur          3217  0.040338      0.295411\n",
       "3            Ash          3217  0.040338      0.295411\n",
       "4           Duke          3217  0.044180      0.323545"
      ]
     },
     "execution_count": 85,
     "metadata": {},
     "output_type": "execute_result"
    }
   ],
   "source": [
    "df_sentiment_analysis_textblob = pd.read_csv('data/sentimental_analysis.csv')\n",
    "df_sentiment_analysis_textblob.head()"
   ]
  },
  {
   "cell_type": "markdown",
   "metadata": {},
   "source": [
    "### Interpretation of the results"
   ]
  },
  {
   "cell_type": "code",
   "execution_count": 86,
   "metadata": {},
   "outputs": [
    {
     "data": {
      "image/png": "[encoded data removed]",
      "text/plain": [
       "<Figure size 1600x800 with 2 Axes>"
      ]
     },
     "metadata": {},
     "output_type": "display_data"
    }
   ],
   "source": [
    "sns.set_theme(style=\"whitegrid\")\n",
    "\n",
    "# Create the figure\n",
    "plt.figure(figsize=(16, 8))\n",
    "\n",
    "# Polarity Distribution Plot\n",
    "plt.subplot(1, 2, 1)\n",
    "sns.histplot(\n",
    "    df_sentiment_analysis_textblob['Polarity'], \n",
    "    kde=True, color='#4472C4', bins=30, stat='density', alpha=0.7\n",
    ")\n",
    "mean_pol = df_sentiment_analysis_textblob['Polarity'].mean()\n",
    "median_pol = df_sentiment_analysis_textblob['Polarity'].median()\n",
    "\n",
    "# Add statistical annotations\n",
    "plt.axvline(mean_pol, color='crimson', linestyle='--', linewidth=2, label=f'Mean: {mean_pol:.2f}')\n",
    "plt.axvline(median_pol, color='forestgreen', linestyle='--', linewidth=2, label=f'Median: {median_pol:.2f}')\n",
    "plt.title('Polarity Distribution of Movie Characters', fontsize=18, weight='bold')\n",
    "plt.xlabel('Polarity (TextBlob)', fontsize=14)\n",
    "plt.ylabel('Density', fontsize=14)\n",
    "plt.xticks(fontsize=12)\n",
    "plt.yticks(fontsize=12)\n",
    "plt.legend(fontsize=12, loc='upper left')\n",
    "\n",
    "# Subjectivity Distribution Plot\n",
    "plt.subplot(1, 2, 2)\n",
    "sns.histplot(\n",
    "    df_sentiment_analysis_textblob['Subjectivity'], \n",
    "    kde=True, color='#F28E2B', bins=30, stat='density', alpha=0.7\n",
    ")\n",
    "mean_sub = df_sentiment_analysis_textblob['Subjectivity'].mean()\n",
    "median_sub = df_sentiment_analysis_textblob['Subjectivity'].median()\n",
    "\n",
    "# Add statistical annotations\n",
    "plt.axvline(mean_sub, color='crimson', linestyle='--', linewidth=2, label=f'Mean: {mean_sub:.2f}')\n",
    "plt.axvline(median_sub, color='forestgreen', linestyle='--', linewidth=2, label=f'Median: {median_sub:.2f}')\n",
    "plt.title('Subjectivity Distribution of Movie Characters', fontsize=18, weight='bold')\n",
    "plt.xlabel('Subjectivity (TextBlob)', fontsize=14)\n",
    "plt.ylabel('Density', fontsize=14)\n",
    "plt.xticks(fontsize=12)\n",
    "plt.yticks(fontsize=12)\n",
    "plt.legend(fontsize=12, loc='upper left')\n",
    "\n",
    "# Adjust layout and show\n",
    "plt.tight_layout()\n",
    "plt.show()"
   ]
  },
  {
   "cell_type": "code",
   "execution_count": 87,
   "metadata": {},
   "outputs": [
    {
     "name": "stdout",
     "output_type": "stream",
     "text": [
      "Pearson Correlation: 0.19\n"
     ]
    }
   ],
   "source": [
    "from scipy.stats import pearsonr, shapiro\n",
    "\n",
    "# Calcul du coefficient de corrélation de Pearson\n",
    "correlation, _ = pearsonr(df_sentiment_analysis_textblob[\"Polarity\"], df_sentiment_analysis_textblob[\"Subjectivity\"])\n",
    "print(f\"Pearson Correlation: {correlation:.2f}\")"
   ]
  },
  {
   "cell_type": "markdown",
   "metadata": {},
   "source": [
    "The weak **Pearson correlation** of 0.19 between polarity and subjectivity indicates that these two variables are not strongly related. While there may be some minor associations, they largely function independently. Given this independence, we will now primarily focus on polarity in our analysis as follow:\n",
    "\n",
    "| Polarity (P)    | Interpretation                |\n",
    "|---------------------|------------------------|\n",
    "| [-1; -0.5]      | Very bad guy: You arch-nemesis, you'd rather fight a bear than run into him/her !        |\n",
    "| [-0.5; 0]       | Bad guy: That person you politely tolerate, but \"let's not get too close\".     |\n",
    "| 0               | Neutral, that random person in the elevator you nod at.                          |\n",
    "| [0; 0.5]        | Nice guy: Your chill buddy you'd grab coffee with :)      |\n",
    "| [0.5; 1]        | Very nice guy: Your ultimate-ride-or-die BFF, partner in crime !        |"
   ]
  },
  {
   "cell_type": "code",
   "execution_count": 88,
   "metadata": {},
   "outputs": [
    {
     "data": {
      "text/html": [
       "<div>\n",
       "<style scoped>\n",
       "    .dataframe tbody tr th:only-of-type {\n",
       "        vertical-align: middle;\n",
       "    }\n",
       "\n",
       "    .dataframe tbody tr th {\n",
       "        vertical-align: top;\n",
       "    }\n",
       "\n",
       "    .dataframe thead th {\n",
       "        text-align: right;\n",
       "    }\n",
       "</style>\n",
       "<table border=\"1\" class=\"dataframe\">\n",
       "  <thead>\n",
       "    <tr style=\"text-align: right;\">\n",
       "      <th></th>\n",
       "      <th>Character_Name</th>\n",
       "      <th>Wikipedia_id</th>\n",
       "      <th>Polarity</th>\n",
       "      <th>Subjectivity</th>\n",
       "      <th>Interpretation_SA</th>\n",
       "    </tr>\n",
       "  </thead>\n",
       "  <tbody>\n",
       "    <tr>\n",
       "      <th>0</th>\n",
       "      <td>Williams</td>\n",
       "      <td>3217</td>\n",
       "      <td>0.196667</td>\n",
       "      <td>0.450000</td>\n",
       "      <td>Nice guy</td>\n",
       "    </tr>\n",
       "    <tr>\n",
       "      <th>1</th>\n",
       "      <td>Sheila</td>\n",
       "      <td>3217</td>\n",
       "      <td>0.042172</td>\n",
       "      <td>0.308838</td>\n",
       "      <td>Nice guy</td>\n",
       "    </tr>\n",
       "    <tr>\n",
       "      <th>2</th>\n",
       "      <td>Arthur</td>\n",
       "      <td>3217</td>\n",
       "      <td>0.040338</td>\n",
       "      <td>0.295411</td>\n",
       "      <td>Nice guy</td>\n",
       "    </tr>\n",
       "    <tr>\n",
       "      <th>3</th>\n",
       "      <td>Ash</td>\n",
       "      <td>3217</td>\n",
       "      <td>0.040338</td>\n",
       "      <td>0.295411</td>\n",
       "      <td>Nice guy</td>\n",
       "    </tr>\n",
       "    <tr>\n",
       "      <th>4</th>\n",
       "      <td>Duke</td>\n",
       "      <td>3217</td>\n",
       "      <td>0.044180</td>\n",
       "      <td>0.323545</td>\n",
       "      <td>Nice guy</td>\n",
       "    </tr>\n",
       "  </tbody>\n",
       "</table>\n",
       "</div>"
      ],
      "text/plain": [
       "  Character_Name  Wikipedia_id  Polarity  Subjectivity Interpretation_SA\n",
       "0       Williams          3217  0.196667      0.450000          Nice guy\n",
       "1         Sheila          3217  0.042172      0.308838          Nice guy\n",
       "2         Arthur          3217  0.040338      0.295411          Nice guy\n",
       "3            Ash          3217  0.040338      0.295411          Nice guy\n",
       "4           Duke          3217  0.044180      0.323545          Nice guy"
      ]
     },
     "execution_count": 88,
     "metadata": {},
     "output_type": "execute_result"
    }
   ],
   "source": [
    "df_sentiment_analysis_textblob['Interpretation_SA'] = df_sentiment_analysis_textblob['Polarity'].apply(interpret_polarity)\n",
    "df_sentiment_analysis_textblob.head()"
   ]
  },
  {
   "cell_type": "markdown",
   "metadata": {},
   "source": [
    "#### Good/Bad guy distribution"
   ]
  },
  {
   "cell_type": "code",
   "execution_count": 89,
   "metadata": {},
   "outputs": [
    {
     "data": {
      "image/png": "[encoded data removed]",
      "text/plain": [
       "<Figure size 1200x800 with 1 Axes>"
      ]
     },
     "metadata": {},
     "output_type": "display_data"
    }
   ],
   "source": [
    "# Define the desired order of categories\n",
    "desired_order = [\"Very nice guy\", \"Nice guy\", \"Neutral\", \"Bad guy\", \"Very bad guy\"]\n",
    "\n",
    "# Count interpretations and reorder\n",
    "interpretation_counts = df_sentiment_analysis_textblob['Interpretation_SA'].value_counts()\n",
    "\n",
    "# Reindex interpretation_counts to match the desired order\n",
    "interpretation_counts = interpretation_counts.reindex(desired_order)\n",
    "\n",
    "# Create a prettier plot\n",
    "plt.figure(figsize=(12, 8))\n",
    "bars = plt.bar(\n",
    "    interpretation_counts.index, \n",
    "    interpretation_counts.values, \n",
    "    color=['#4575b4', '#91bfdb', '#fee08b', '#fc8d59', '#d73027']  # Colors reordered for consistency\n",
    ")\n",
    "\n",
    "# Add annotations\n",
    "for bar in bars:\n",
    "    height = bar.get_height()\n",
    "    plt.text(bar.get_x() + bar.get_width() / 2, height, f'{height:,}', \n",
    "             ha='center', va='bottom', fontsize=12, fontweight='bold')\n",
    "\n",
    "# Customize appearance\n",
    "plt.title('Distribution of Character Interpretations', fontsize=16, fontweight='bold')\n",
    "plt.xlabel('Interpretation', fontsize=14)\n",
    "plt.ylabel('Number of Names', fontsize=14)\n",
    "plt.xticks(rotation=25, ha='right', fontsize=12, fontweight='bold')\n",
    "plt.grid(axis='y', linestyle='--', alpha=0.6)\n",
    "\n",
    "plt.show()\n"
   ]
  },
  {
   "cell_type": "markdown",
   "metadata": {},
   "source": [
    "## Addition of sentimental analysis to the original cleaned dataset"
   ]
  },
  {
   "cell_type": "code",
   "execution_count": 90,
   "metadata": {},
   "outputs": [
    {
     "data": {
      "text/html": [
       "<div>\n",
       "<style scoped>\n",
       "    .dataframe tbody tr th:only-of-type {\n",
       "        vertical-align: middle;\n",
       "    }\n",
       "\n",
       "    .dataframe tbody tr th {\n",
       "        vertical-align: top;\n",
       "    }\n",
       "\n",
       "    .dataframe thead th {\n",
       "        text-align: right;\n",
       "    }\n",
       "</style>\n",
       "<table border=\"1\" class=\"dataframe\">\n",
       "  <thead>\n",
       "    <tr style=\"text-align: right;\">\n",
       "      <th></th>\n",
       "      <th>Wikipedia_id</th>\n",
       "      <th>Name</th>\n",
       "      <th>Languages</th>\n",
       "      <th>Country</th>\n",
       "      <th>Genres</th>\n",
       "      <th>Character_Name</th>\n",
       "      <th>Sex</th>\n",
       "      <th>Actor_age</th>\n",
       "      <th>Release_date</th>\n",
       "      <th>Polarity</th>\n",
       "      <th>Interpretation_SA</th>\n",
       "    </tr>\n",
       "  </thead>\n",
       "  <tbody>\n",
       "    <tr>\n",
       "      <th>0</th>\n",
       "      <td>975900</td>\n",
       "      <td>Ghosts of Mars</td>\n",
       "      <td>[English Language]</td>\n",
       "      <td>[United States of America]</td>\n",
       "      <td>[Thriller, Science Fiction, Horror, Adventure,...</td>\n",
       "      <td>Melanie</td>\n",
       "      <td>F</td>\n",
       "      <td>27.0</td>\n",
       "      <td>2001-08-24</td>\n",
       "      <td>-0.021759</td>\n",
       "      <td>Bad guy</td>\n",
       "    </tr>\n",
       "    <tr>\n",
       "      <th>1</th>\n",
       "      <td>975900</td>\n",
       "      <td>Ghosts of Mars</td>\n",
       "      <td>[English Language]</td>\n",
       "      <td>[United States of America]</td>\n",
       "      <td>[Thriller, Science Fiction, Horror, Adventure,...</td>\n",
       "      <td>Williams</td>\n",
       "      <td>M</td>\n",
       "      <td>32.0</td>\n",
       "      <td>2001-08-24</td>\n",
       "      <td>-0.021759</td>\n",
       "      <td>Bad guy</td>\n",
       "    </tr>\n",
       "    <tr>\n",
       "      <th>2</th>\n",
       "      <td>975900</td>\n",
       "      <td>Ghosts of Mars</td>\n",
       "      <td>[English Language]</td>\n",
       "      <td>[United States of America]</td>\n",
       "      <td>[Thriller, Science Fiction, Horror, Adventure,...</td>\n",
       "      <td>Jericho</td>\n",
       "      <td>M</td>\n",
       "      <td>33.0</td>\n",
       "      <td>2001-08-24</td>\n",
       "      <td>-0.021759</td>\n",
       "      <td>Bad guy</td>\n",
       "    </tr>\n",
       "    <tr>\n",
       "      <th>3</th>\n",
       "      <td>975900</td>\n",
       "      <td>Ghosts of Mars</td>\n",
       "      <td>[English Language]</td>\n",
       "      <td>[United States of America]</td>\n",
       "      <td>[Thriller, Science Fiction, Horror, Adventure,...</td>\n",
       "      <td>Helena</td>\n",
       "      <td>F</td>\n",
       "      <td>52.0</td>\n",
       "      <td>2001-08-24</td>\n",
       "      <td>-0.096875</td>\n",
       "      <td>Bad guy</td>\n",
       "    </tr>\n",
       "    <tr>\n",
       "      <th>4</th>\n",
       "      <td>975900</td>\n",
       "      <td>Ghosts of Mars</td>\n",
       "      <td>[English Language]</td>\n",
       "      <td>[United States of America]</td>\n",
       "      <td>[Thriller, Science Fiction, Horror, Adventure,...</td>\n",
       "      <td>Mars</td>\n",
       "      <td>M</td>\n",
       "      <td>NaN</td>\n",
       "      <td>2001-08-24</td>\n",
       "      <td>0.041667</td>\n",
       "      <td>Nice guy</td>\n",
       "    </tr>\n",
       "  </tbody>\n",
       "</table>\n",
       "</div>"
      ],
      "text/plain": [
       "   Wikipedia_id            Name           Languages  \\\n",
       "0        975900  Ghosts of Mars  [English Language]   \n",
       "1        975900  Ghosts of Mars  [English Language]   \n",
       "2        975900  Ghosts of Mars  [English Language]   \n",
       "3        975900  Ghosts of Mars  [English Language]   \n",
       "4        975900  Ghosts of Mars  [English Language]   \n",
       "\n",
       "                      Country  \\\n",
       "0  [United States of America]   \n",
       "1  [United States of America]   \n",
       "2  [United States of America]   \n",
       "3  [United States of America]   \n",
       "4  [United States of America]   \n",
       "\n",
       "                                              Genres Character_Name Sex  \\\n",
       "0  [Thriller, Science Fiction, Horror, Adventure,...        Melanie   F   \n",
       "1  [Thriller, Science Fiction, Horror, Adventure,...       Williams   M   \n",
       "2  [Thriller, Science Fiction, Horror, Adventure,...        Jericho   M   \n",
       "3  [Thriller, Science Fiction, Horror, Adventure,...         Helena   F   \n",
       "4  [Thriller, Science Fiction, Horror, Adventure,...           Mars   M   \n",
       "\n",
       "   Actor_age Release_date  Polarity Interpretation_SA  \n",
       "0       27.0   2001-08-24 -0.021759           Bad guy  \n",
       "1       32.0   2001-08-24 -0.021759           Bad guy  \n",
       "2       33.0   2001-08-24 -0.021759           Bad guy  \n",
       "3       52.0   2001-08-24 -0.096875           Bad guy  \n",
       "4        NaN   2001-08-24  0.041667          Nice guy  "
      ]
     },
     "execution_count": 90,
     "metadata": {},
     "output_type": "execute_result"
    }
   ],
   "source": [
    "df_char_cleaned_SA.rename(columns={'Character_name': 'Character_Name', 'Wikipedia_ID': 'Wikipedia_id'}, inplace=True)\n",
    "df_merged = pd.merge(df_char_cleaned_SA, df_sentiment_analysis_textblob, left_on=['Wikipedia_id', 'Character_Name'], right_on=['Wikipedia_id', 'Character_Name'], how='inner')\n",
    "df_merged.drop('Subjectivity', axis=1, inplace=True)\n",
    "df_merged.head()"
   ]
  },
  {
   "cell_type": "code",
   "execution_count": null,
   "metadata": {},
   "outputs": [],
   "source": []
  },
  {
   "cell_type": "markdown",
   "metadata": {},
   "source": [
    "## Results with Sentimental Analysis"
   ]
  },
  {
   "cell_type": "code",
   "execution_count": 91,
   "metadata": {},
   "outputs": [
    {
     "data": {
      "text/html": [
       "<div>\n",
       "<style scoped>\n",
       "    .dataframe tbody tr th:only-of-type {\n",
       "        vertical-align: middle;\n",
       "    }\n",
       "\n",
       "    .dataframe tbody tr th {\n",
       "        vertical-align: top;\n",
       "    }\n",
       "\n",
       "    .dataframe thead th {\n",
       "        text-align: right;\n",
       "    }\n",
       "</style>\n",
       "<table border=\"1\" class=\"dataframe\">\n",
       "  <thead>\n",
       "    <tr style=\"text-align: right;\">\n",
       "      <th></th>\n",
       "      <th>Wikipedia_id</th>\n",
       "      <th>Name</th>\n",
       "      <th>Languages</th>\n",
       "      <th>Country</th>\n",
       "      <th>Genres</th>\n",
       "      <th>Character_Name</th>\n",
       "      <th>Sex</th>\n",
       "      <th>Actor_age</th>\n",
       "      <th>Release_date</th>\n",
       "      <th>Polarity</th>\n",
       "      <th>Interpretation_SA</th>\n",
       "      <th>kindness</th>\n",
       "    </tr>\n",
       "  </thead>\n",
       "  <tbody>\n",
       "    <tr>\n",
       "      <th>56344</th>\n",
       "      <td>9825500</td>\n",
       "      <td>Fifty Pills</td>\n",
       "      <td>[English Language]</td>\n",
       "      <td>[United States of America]</td>\n",
       "      <td>[Black comedy, Indie, Comedy]</td>\n",
       "      <td>Gracie</td>\n",
       "      <td>F</td>\n",
       "      <td>26.0</td>\n",
       "      <td>2007</td>\n",
       "      <td>1.0</td>\n",
       "      <td>Very nice guy</td>\n",
       "      <td>1</td>\n",
       "    </tr>\n",
       "    <tr>\n",
       "      <th>45165</th>\n",
       "      <td>24436496</td>\n",
       "      <td>Equinox</td>\n",
       "      <td>[English Language]</td>\n",
       "      <td>[United States of America]</td>\n",
       "      <td>[Crime Fiction, Drama, Indie]</td>\n",
       "      <td>Beverly</td>\n",
       "      <td>F</td>\n",
       "      <td>22.0</td>\n",
       "      <td>1992-09-18</td>\n",
       "      <td>1.0</td>\n",
       "      <td>Very nice guy</td>\n",
       "      <td>1</td>\n",
       "    </tr>\n",
       "    <tr>\n",
       "      <th>18369</th>\n",
       "      <td>19136103</td>\n",
       "      <td>The Cold Room</td>\n",
       "      <td>[German Language, English Language]</td>\n",
       "      <td>[United Kingdom]</td>\n",
       "      <td>[Thriller, Mystery, Science Fiction, Drama, Ro...</td>\n",
       "      <td>Sophie</td>\n",
       "      <td>F</td>\n",
       "      <td>NaN</td>\n",
       "      <td>1984-03-24</td>\n",
       "      <td>1.0</td>\n",
       "      <td>Very nice guy</td>\n",
       "      <td>1</td>\n",
       "    </tr>\n",
       "    <tr>\n",
       "      <th>47424</th>\n",
       "      <td>11063492</td>\n",
       "      <td>Saving Shiloh</td>\n",
       "      <td>[English Language]</td>\n",
       "      <td>[United States of America]</td>\n",
       "      <td>[Children's/Family, Family Drama, Childhood Dr...</td>\n",
       "      <td>Samantha</td>\n",
       "      <td>F</td>\n",
       "      <td>12.0</td>\n",
       "      <td>2006-05-12</td>\n",
       "      <td>1.0</td>\n",
       "      <td>Very nice guy</td>\n",
       "      <td>1</td>\n",
       "    </tr>\n",
       "    <tr>\n",
       "      <th>35806</th>\n",
       "      <td>15513119</td>\n",
       "      <td>Who Loves the Sun</td>\n",
       "      <td>[English Language]</td>\n",
       "      <td>[Canada]</td>\n",
       "      <td>[Romance Film, Drama, Indie, Comedy]</td>\n",
       "      <td>Maggie</td>\n",
       "      <td>F</td>\n",
       "      <td>33.0</td>\n",
       "      <td>2006-06-06</td>\n",
       "      <td>1.0</td>\n",
       "      <td>Very nice guy</td>\n",
       "      <td>1</td>\n",
       "    </tr>\n",
       "  </tbody>\n",
       "</table>\n",
       "</div>"
      ],
      "text/plain": [
       "       Wikipedia_id               Name                            Languages  \\\n",
       "56344       9825500        Fifty Pills                   [English Language]   \n",
       "45165      24436496            Equinox                   [English Language]   \n",
       "18369      19136103      The Cold Room  [German Language, English Language]   \n",
       "47424      11063492      Saving Shiloh                   [English Language]   \n",
       "35806      15513119  Who Loves the Sun                   [English Language]   \n",
       "\n",
       "                          Country  \\\n",
       "56344  [United States of America]   \n",
       "45165  [United States of America]   \n",
       "18369            [United Kingdom]   \n",
       "47424  [United States of America]   \n",
       "35806                    [Canada]   \n",
       "\n",
       "                                                  Genres Character_Name Sex  \\\n",
       "56344                      [Black comedy, Indie, Comedy]         Gracie   F   \n",
       "45165                      [Crime Fiction, Drama, Indie]        Beverly   F   \n",
       "18369  [Thriller, Mystery, Science Fiction, Drama, Ro...         Sophie   F   \n",
       "47424  [Children's/Family, Family Drama, Childhood Dr...       Samantha   F   \n",
       "35806               [Romance Film, Drama, Indie, Comedy]         Maggie   F   \n",
       "\n",
       "       Actor_age Release_date  Polarity Interpretation_SA kindness  \n",
       "56344       26.0         2007       1.0     Very nice guy        1  \n",
       "45165       22.0   1992-09-18       1.0     Very nice guy        1  \n",
       "18369        NaN   1984-03-24       1.0     Very nice guy        1  \n",
       "47424       12.0   2006-05-12       1.0     Very nice guy        1  \n",
       "35806       33.0   2006-06-06       1.0     Very nice guy        1  "
      ]
     },
     "execution_count": 91,
     "metadata": {},
     "output_type": "execute_result"
    }
   ],
   "source": [
    "df_SA_analysis = df_merged.copy()\n",
    "df_SA_analysis['kindness'] = df_merged['Polarity'].apply(good_guy_detector)\n",
    "df_SA_analysis = df_SA_analysis[df_SA_analysis['kindness'] != 'Not significant']\n",
    "#df_SA_analysis.head(50)\n",
    "df_sorted = df_SA_analysis[df_SA_analysis['Sex']=='F'].sort_values(by='Polarity', ascending=False)\n",
    "df_sorted.head(5)\n"
   ]
  },
  {
   "cell_type": "code",
   "execution_count": 92,
   "metadata": {},
   "outputs": [],
   "source": [
    "df_SA_analysis = df_SA_analysis.rename(columns={'Character_Name': 'Character_name'})\n",
    "analyze_SA = GoodBadGuyAnalyzer(df_SA_analysis)\n",
    "\n",
    "bad_guys_names, bad_girls_names = analyze_SA.get_bad_guys_girls_names_SA(8)\n",
    "good_guys_names, good_girls_names = analyze_SA.get_good_guys_girls_names_SA(8)\n",
    "\n",
    "data_f_bad = analyze_SA.create_sunburst_data_SA(bad_girls_names)\n",
    "data_f_good = analyze_SA.create_sunburst_data_SA(good_girls_names)\n",
    "\n",
    "data_m_bad = analyze_SA.create_sunburst_data_SA(bad_guys_names)\n",
    "data_m_good = analyze_SA.create_sunburst_data_SA(good_guys_names)\n",
    "\n",
    "#df_sorted = df_SA_analysis[(df_SA_analysis['Sex']=='F')].nsmallest(30, 'Polarity')\n",
    "#df_sorted.head()"
   ]
  },
  {
   "cell_type": "code",
   "execution_count": 99,
   "metadata": {},
   "outputs": [
    {
     "name": "stdout",
     "output_type": "stream",
     "text": [
      "{'character': [\"Movies' Genres\", 'Action & Adventure', 'Drama', 'Comedy', 'Horror & Thriller', 'Fantasy & Sci-Fi', 'Historical & War', 'Romance', 'Documentary', 'Music & Performance', 'Cult & B-Movies', 'Other', 'Susan', 'Dee', 'Cates', 'Foley', 'Williams', 'Carla', 'Lucy', 'Macheeba', 'Farrell', 'Babyface', 'Watuna', 'Peiot', 'Ane', 'Cates', 'Denise', 'Roz', 'Fields', 'Farrell', 'Babyface', 'Becky', 'Foley', 'Macheeba', 'Frau', 'Rosie', 'Wolfe', 'Susan', 'Dee', 'Cates', 'Williams', 'Carla', 'Lucy', 'Margarita', 'Susan', 'Watuna', 'Peiot', 'Ane', 'Williams', 'Frau', 'Pascal', 'Mercury', 'Susan', 'Foley', 'Williams', 'Diana', 'Caroline', 'Abigail', 'Kathleen', 'Sonia', 'Norma', 'Dracula', 'Oyl', 'Mercury', 'Abigail', 'Kathleen', 'Mulford', 'Suzanne', 'Diana', 'Abigail', 'Carrie', 'Sharon', 'Marie', 'Marie', 'Gertrude', 'Margaret', 'Louise', 'Gauri', 'Morton', 'Hathaway', 'Bianca', 'Hadie', 'Spungen', 'Lila', 'Diana', 'Norma', 'Carol', 'Mulford', 'Lucy', 'Ellie', 'Spungen', 'Lila', 'Boop', 'Hannah', 'Seema', 'Lorrison', 'Lucy', 'Kajal', 'Rukmani', 'Susan'], 'parent': ['', \"Movies' Genres\", \"Movies' Genres\", \"Movies' Genres\", \"Movies' Genres\", \"Movies' Genres\", \"Movies' Genres\", \"Movies' Genres\", \"Movies' Genres\", \"Movies' Genres\", \"Movies' Genres\", \"Movies' Genres\", 'Action & Adventure', 'Action & Adventure', 'Action & Adventure', 'Action & Adventure', 'Action & Adventure', 'Action & Adventure', 'Action & Adventure', 'Action & Adventure', 'Drama', 'Drama', 'Drama', 'Drama', 'Drama', 'Drama', 'Drama', 'Drama', 'Comedy', 'Comedy', 'Comedy', 'Comedy', 'Comedy', 'Comedy', 'Comedy', 'Comedy', 'Horror & Thriller', 'Horror & Thriller', 'Horror & Thriller', 'Horror & Thriller', 'Horror & Thriller', 'Horror & Thriller', 'Horror & Thriller', 'Horror & Thriller', 'Fantasy & Sci-Fi', 'Fantasy & Sci-Fi', 'Fantasy & Sci-Fi', 'Fantasy & Sci-Fi', 'Fantasy & Sci-Fi', 'Fantasy & Sci-Fi', 'Fantasy & Sci-Fi', 'Fantasy & Sci-Fi', 'Historical & War', 'Historical & War', 'Historical & War', 'Historical & War', 'Historical & War', 'Historical & War', 'Historical & War', 'Historical & War', 'Romance', 'Romance', 'Romance', 'Romance', 'Romance', 'Romance', 'Romance', 'Romance', 'Documentary', 'Documentary', 'Documentary', 'Documentary', 'Documentary', 'Documentary', 'Documentary', 'Documentary', 'Music & Performance', 'Music & Performance', 'Music & Performance', 'Music & Performance', 'Music & Performance', 'Music & Performance', 'Music & Performance', 'Music & Performance', 'Cult & B-Movies', 'Cult & B-Movies', 'Cult & B-Movies', 'Cult & B-Movies', 'Cult & B-Movies', 'Cult & B-Movies', 'Cult & B-Movies', 'Cult & B-Movies', 'Other', 'Other', 'Other', 'Other', 'Other', 'Other', 'Other', 'Other'], 'color': ['rgba(0,0,0,0)', 'rgba(0,0,0,0)', 'rgba(0,0,0,0)', 'rgba(0,0,0,0)', 'rgba(0,0,0,0)', 'rgba(0,0,0,0)', 'rgba(0,0,0,0)', 'rgba(0,0,0,0)', 'rgba(0,0,0,0)', 'rgba(0,0,0,0)', 'rgba(0,0,0,0)', 'rgba(0,0,0,0)', '#2E91E5', '#2E91E5', '#2E91E5', '#2E91E5', '#2E91E5', '#2E91E5', '#2E91E5', '#2E91E5', '#E15F99', '#E15F99', '#E15F99', '#E15F99', '#E15F99', '#E15F99', '#E15F99', '#E15F99', '#1CA71C', '#1CA71C', '#1CA71C', '#1CA71C', '#1CA71C', '#1CA71C', '#1CA71C', '#1CA71C', '#FB0D0D', '#FB0D0D', '#FB0D0D', '#FB0D0D', '#FB0D0D', '#FB0D0D', '#FB0D0D', '#FB0D0D', '#DA16FF', '#DA16FF', '#DA16FF', '#DA16FF', '#DA16FF', '#DA16FF', '#DA16FF', '#DA16FF', '#222A2A', '#222A2A', '#222A2A', '#222A2A', '#222A2A', '#222A2A', '#222A2A', '#222A2A', '#B68100', '#B68100', '#B68100', '#B68100', '#B68100', '#B68100', '#B68100', '#B68100', '#750D86', '#750D86', '#750D86', '#750D86', '#750D86', '#750D86', '#750D86', '#750D86', '#EB663B', '#EB663B', '#EB663B', '#EB663B', '#EB663B', '#EB663B', '#EB663B', '#EB663B', '#511CFB', '#511CFB', '#511CFB', '#511CFB', '#511CFB', '#511CFB', '#511CFB', '#511CFB', '#00A08B', '#00A08B', '#00A08B', '#00A08B', '#00A08B', '#00A08B', '#00A08B', '#00A08B']}\n"
     ]
    }
   ],
   "source": [
    "print(data_f_bad)"
   ]
  },
  {
   "cell_type": "code",
   "execution_count": 103,
   "metadata": {},
   "outputs": [
    {
     "data": {
      "application/vnd.plotly.v1+json": {
       "config": {
        "plotlyServerURL": "https://plot.ly"
       },
       "data": [
        {
         "domain": {
          "column": 1,
          "x": [
           0,
           0.45
          ],
          "y": [
           0,
           1
          ]
         },
         "labels": [
          "Movies' Genres",
          "Action & Adventure",
          "Drama",
          "Comedy",
          "Horror & Thriller",
          "Fantasy & Sci-Fi",
          "Historical & War",
          "Romance",
          "Documentary",
          "Music & Performance",
          "Cult & B-Movies",
          "Other",
          "Sophie",
          "Marks",
          "Talleah",
          "Sheherazade",
          "Zafir",
          "Pet",
          "Izumi",
          "Fan",
          "Sophie",
          "Marks",
          "Maggie",
          "Beverly",
          "Samantha",
          "Brooke",
          "Grace",
          "Jill",
          "Casey",
          "Ayanda",
          "Maggie",
          "Michelle",
          "Carrie",
          "Erica",
          "Gussie",
          "Gracie",
          "Sophie",
          "Marks",
          "Sridevi",
          "Izumi",
          "Watson",
          "Sutton",
          "Watson",
          "Haley",
          "Sophie",
          "Talleah",
          "Sheherazade",
          "Zafir",
          "Fan",
          "Faye",
          "Faye",
          "Watson",
          "Alice",
          "Lol",
          "Eleanor",
          "Damon",
          "Annie",
          "Elizabeth",
          "Annie",
          "Austen",
          "Casey",
          "Sophie",
          "Ayanda",
          "Marks",
          "Maggie",
          "Michelle",
          "Carrie",
          "Gussie",
          "Alice",
          "Elizabeth",
          "Austen",
          "Austen",
          "Beulah",
          "Masha",
          "Fan",
          "Mariane",
          "Manjari",
          "Summers",
          "Roxy",
          "Ellen",
          "Eileen",
          "Carmen",
          "Minerva",
          "Dee",
          "Maggie",
          "Michelle",
          "Carrie",
          "Beverly",
          "Gracie",
          "Brooke",
          "Grace",
          "Talleah",
          "Murphy",
          "Dai",
          "Sharma",
          "Lakshmi",
          "Nami",
          "Selvi",
          "Dolores",
          "Narmada"
         ],
         "maxdepth": 2,
         "parents": [
          "",
          "Movies' Genres",
          "Movies' Genres",
          "Movies' Genres",
          "Movies' Genres",
          "Movies' Genres",
          "Movies' Genres",
          "Movies' Genres",
          "Movies' Genres",
          "Movies' Genres",
          "Movies' Genres",
          "Movies' Genres",
          "Action & Adventure",
          "Action & Adventure",
          "Action & Adventure",
          "Action & Adventure",
          "Action & Adventure",
          "Action & Adventure",
          "Action & Adventure",
          "Action & Adventure",
          "Drama",
          "Drama",
          "Drama",
          "Drama",
          "Drama",
          "Drama",
          "Drama",
          "Drama",
          "Comedy",
          "Comedy",
          "Comedy",
          "Comedy",
          "Comedy",
          "Comedy",
          "Comedy",
          "Comedy",
          "Horror & Thriller",
          "Horror & Thriller",
          "Horror & Thriller",
          "Horror & Thriller",
          "Horror & Thriller",
          "Horror & Thriller",
          "Horror & Thriller",
          "Horror & Thriller",
          "Fantasy & Sci-Fi",
          "Fantasy & Sci-Fi",
          "Fantasy & Sci-Fi",
          "Fantasy & Sci-Fi",
          "Fantasy & Sci-Fi",
          "Fantasy & Sci-Fi",
          "Fantasy & Sci-Fi",
          "Fantasy & Sci-Fi",
          "Historical & War",
          "Historical & War",
          "Historical & War",
          "Historical & War",
          "Historical & War",
          "Historical & War",
          "Historical & War",
          "Historical & War",
          "Romance",
          "Romance",
          "Romance",
          "Romance",
          "Romance",
          "Romance",
          "Romance",
          "Romance",
          "Documentary",
          "Documentary",
          "Documentary",
          "Documentary",
          "Documentary",
          "Documentary",
          "Documentary",
          "Documentary",
          "Music & Performance",
          "Music & Performance",
          "Music & Performance",
          "Music & Performance",
          "Music & Performance",
          "Music & Performance",
          "Music & Performance",
          "Music & Performance",
          "Cult & B-Movies",
          "Cult & B-Movies",
          "Cult & B-Movies",
          "Cult & B-Movies",
          "Cult & B-Movies",
          "Cult & B-Movies",
          "Cult & B-Movies",
          "Cult & B-Movies",
          "Other",
          "Other",
          "Other",
          "Other",
          "Other",
          "Other",
          "Other",
          "Other"
         ],
         "type": "sunburst"
        },
        {
         "domain": {
          "column": 1,
          "x": [
           0.55,
           1
          ],
          "y": [
           0,
           1
          ]
         },
         "labels": [
          "Movies' Genres",
          "Action & Adventure",
          "Drama",
          "Comedy",
          "Horror & Thriller",
          "Fantasy & Sci-Fi",
          "Historical & War",
          "Romance",
          "Documentary",
          "Music & Performance",
          "Cult & B-Movies",
          "Other",
          "Susan",
          "Dee",
          "Cates",
          "Foley",
          "Williams",
          "Carla",
          "Lucy",
          "Macheeba",
          "Farrell",
          "Babyface",
          "Watuna",
          "Peiot",
          "Ane",
          "Cates",
          "Denise",
          "Roz",
          "Fields",
          "Farrell",
          "Babyface",
          "Becky",
          "Foley",
          "Macheeba",
          "Frau",
          "Rosie",
          "Wolfe",
          "Susan",
          "Dee",
          "Cates",
          "Williams",
          "Carla",
          "Lucy",
          "Margarita",
          "Susan",
          "Watuna",
          "Peiot",
          "Ane",
          "Williams",
          "Frau",
          "Pascal",
          "Mercury",
          "Susan",
          "Foley",
          "Williams",
          "Diana",
          "Caroline",
          "Abigail",
          "Kathleen",
          "Sonia",
          "Norma",
          "Dracula",
          "Oyl",
          "Mercury",
          "Abigail",
          "Kathleen",
          "Mulford",
          "Suzanne",
          "Diana",
          "Abigail",
          "Carrie",
          "Sharon",
          "Marie",
          "Marie",
          "Gertrude",
          "Margaret",
          "Louise",
          "Gauri",
          "Morton",
          "Hathaway",
          "Bianca",
          "Hadie",
          "Spungen",
          "Lila",
          "Diana",
          "Norma",
          "Carol",
          "Mulford",
          "Lucy",
          "Ellie",
          "Spungen",
          "Lila",
          "Boop",
          "Hannah",
          "Seema",
          "Lorrison",
          "Lucy",
          "Kajal",
          "Rukmani",
          "Susan"
         ],
         "maxdepth": 2,
         "parents": [
          "",
          "Movies' Genres",
          "Movies' Genres",
          "Movies' Genres",
          "Movies' Genres",
          "Movies' Genres",
          "Movies' Genres",
          "Movies' Genres",
          "Movies' Genres",
          "Movies' Genres",
          "Movies' Genres",
          "Movies' Genres",
          "Action & Adventure",
          "Action & Adventure",
          "Action & Adventure",
          "Action & Adventure",
          "Action & Adventure",
          "Action & Adventure",
          "Action & Adventure",
          "Action & Adventure",
          "Drama",
          "Drama",
          "Drama",
          "Drama",
          "Drama",
          "Drama",
          "Drama",
          "Drama",
          "Comedy",
          "Comedy",
          "Comedy",
          "Comedy",
          "Comedy",
          "Comedy",
          "Comedy",
          "Comedy",
          "Horror & Thriller",
          "Horror & Thriller",
          "Horror & Thriller",
          "Horror & Thriller",
          "Horror & Thriller",
          "Horror & Thriller",
          "Horror & Thriller",
          "Horror & Thriller",
          "Fantasy & Sci-Fi",
          "Fantasy & Sci-Fi",
          "Fantasy & Sci-Fi",
          "Fantasy & Sci-Fi",
          "Fantasy & Sci-Fi",
          "Fantasy & Sci-Fi",
          "Fantasy & Sci-Fi",
          "Fantasy & Sci-Fi",
          "Historical & War",
          "Historical & War",
          "Historical & War",
          "Historical & War",
          "Historical & War",
          "Historical & War",
          "Historical & War",
          "Historical & War",
          "Romance",
          "Romance",
          "Romance",
          "Romance",
          "Romance",
          "Romance",
          "Romance",
          "Romance",
          "Documentary",
          "Documentary",
          "Documentary",
          "Documentary",
          "Documentary",
          "Documentary",
          "Documentary",
          "Documentary",
          "Music & Performance",
          "Music & Performance",
          "Music & Performance",
          "Music & Performance",
          "Music & Performance",
          "Music & Performance",
          "Music & Performance",
          "Music & Performance",
          "Cult & B-Movies",
          "Cult & B-Movies",
          "Cult & B-Movies",
          "Cult & B-Movies",
          "Cult & B-Movies",
          "Cult & B-Movies",
          "Cult & B-Movies",
          "Cult & B-Movies",
          "Other",
          "Other",
          "Other",
          "Other",
          "Other",
          "Other",
          "Other",
          "Other"
         ],
         "type": "sunburst"
        }
       ],
       "layout": {
        "annotations": [
         {
          "font": {
           "size": 16
          },
          "showarrow": false,
          "text": "BAD GIRLS",
          "x": 0.225,
          "xanchor": "center",
          "xref": "paper",
          "y": 1,
          "yanchor": "bottom",
          "yref": "paper"
         },
         {
          "font": {
           "size": 16
          },
          "showarrow": false,
          "text": "GOOD GIRLS",
          "x": 0.775,
          "xanchor": "center",
          "xref": "paper",
          "y": 1,
          "yanchor": "bottom",
          "yref": "paper"
         }
        ],
        "font": {
         "size": 13
        },
        "height": 800,
        "showlegend": false,
        "template": {
         "data": {
          "bar": [
           {
            "error_x": {
             "color": "#2a3f5f"
            },
            "error_y": {
             "color": "#2a3f5f"
            },
            "marker": {
             "line": {
              "color": "#E5ECF6",
              "width": 0.5
             },
             "pattern": {
              "fillmode": "overlay",
              "size": 10,
              "solidity": 0.2
             }
            },
            "type": "bar"
           }
          ],
          "barpolar": [
           {
            "marker": {
             "line": {
              "color": "#E5ECF6",
              "width": 0.5
             },
             "pattern": {
              "fillmode": "overlay",
              "size": 10,
              "solidity": 0.2
             }
            },
            "type": "barpolar"
           }
          ],
          "carpet": [
           {
            "aaxis": {
             "endlinecolor": "#2a3f5f",
             "gridcolor": "white",
             "linecolor": "white",
             "minorgridcolor": "white",
             "startlinecolor": "#2a3f5f"
            },
            "baxis": {
             "endlinecolor": "#2a3f5f",
             "gridcolor": "white",
             "linecolor": "white",
             "minorgridcolor": "white",
             "startlinecolor": "#2a3f5f"
            },
            "type": "carpet"
           }
          ],
          "choropleth": [
           {
            "colorbar": {
             "outlinewidth": 0,
             "ticks": ""
            },
            "type": "choropleth"
           }
          ],
          "contour": [
           {
            "colorbar": {
             "outlinewidth": 0,
             "ticks": ""
            },
            "colorscale": [
             [
              0,
              "#0d0887"
             ],
             [
              0.1111111111111111,
              "#46039f"
             ],
             [
              0.2222222222222222,
              "#7201a8"
             ],
             [
              0.3333333333333333,
              "#9c179e"
             ],
             [
              0.4444444444444444,
              "#bd3786"
             ],
             [
              0.5555555555555556,
              "#d8576b"
             ],
             [
              0.6666666666666666,
              "#ed7953"
             ],
             [
              0.7777777777777778,
              "#fb9f3a"
             ],
             [
              0.8888888888888888,
              "#fdca26"
             ],
             [
              1,
              "#f0f921"
             ]
            ],
            "type": "contour"
           }
          ],
          "contourcarpet": [
           {
            "colorbar": {
             "outlinewidth": 0,
             "ticks": ""
            },
            "type": "contourcarpet"
           }
          ],
          "heatmap": [
           {
            "colorbar": {
             "outlinewidth": 0,
             "ticks": ""
            },
            "colorscale": [
             [
              0,
              "#0d0887"
             ],
             [
              0.1111111111111111,
              "#46039f"
             ],
             [
              0.2222222222222222,
              "#7201a8"
             ],
             [
              0.3333333333333333,
              "#9c179e"
             ],
             [
              0.4444444444444444,
              "#bd3786"
             ],
             [
              0.5555555555555556,
              "#d8576b"
             ],
             [
              0.6666666666666666,
              "#ed7953"
             ],
             [
              0.7777777777777778,
              "#fb9f3a"
             ],
             [
              0.8888888888888888,
              "#fdca26"
             ],
             [
              1,
              "#f0f921"
             ]
            ],
            "type": "heatmap"
           }
          ],
          "heatmapgl": [
           {
            "colorbar": {
             "outlinewidth": 0,
             "ticks": ""
            },
            "colorscale": [
             [
              0,
              "#0d0887"
             ],
             [
              0.1111111111111111,
              "#46039f"
             ],
             [
              0.2222222222222222,
              "#7201a8"
             ],
             [
              0.3333333333333333,
              "#9c179e"
             ],
             [
              0.4444444444444444,
              "#bd3786"
             ],
             [
              0.5555555555555556,
              "#d8576b"
             ],
             [
              0.6666666666666666,
              "#ed7953"
             ],
             [
              0.7777777777777778,
              "#fb9f3a"
             ],
             [
              0.8888888888888888,
              "#fdca26"
             ],
             [
              1,
              "#f0f921"
             ]
            ],
            "type": "heatmapgl"
           }
          ],
          "histogram": [
           {
            "marker": {
             "pattern": {
              "fillmode": "overlay",
              "size": 10,
              "solidity": 0.2
             }
            },
            "type": "histogram"
           }
          ],
          "histogram2d": [
           {
            "colorbar": {
             "outlinewidth": 0,
             "ticks": ""
            },
            "colorscale": [
             [
              0,
              "#0d0887"
             ],
             [
              0.1111111111111111,
              "#46039f"
             ],
             [
              0.2222222222222222,
              "#7201a8"
             ],
             [
              0.3333333333333333,
              "#9c179e"
             ],
             [
              0.4444444444444444,
              "#bd3786"
             ],
             [
              0.5555555555555556,
              "#d8576b"
             ],
             [
              0.6666666666666666,
              "#ed7953"
             ],
             [
              0.7777777777777778,
              "#fb9f3a"
             ],
             [
              0.8888888888888888,
              "#fdca26"
             ],
             [
              1,
              "#f0f921"
             ]
            ],
            "type": "histogram2d"
           }
          ],
          "histogram2dcontour": [
           {
            "colorbar": {
             "outlinewidth": 0,
             "ticks": ""
            },
            "colorscale": [
             [
              0,
              "#0d0887"
             ],
             [
              0.1111111111111111,
              "#46039f"
             ],
             [
              0.2222222222222222,
              "#7201a8"
             ],
             [
              0.3333333333333333,
              "#9c179e"
             ],
             [
              0.4444444444444444,
              "#bd3786"
             ],
             [
              0.5555555555555556,
              "#d8576b"
             ],
             [
              0.6666666666666666,
              "#ed7953"
             ],
             [
              0.7777777777777778,
              "#fb9f3a"
             ],
             [
              0.8888888888888888,
              "#fdca26"
             ],
             [
              1,
              "#f0f921"
             ]
            ],
            "type": "histogram2dcontour"
           }
          ],
          "mesh3d": [
           {
            "colorbar": {
             "outlinewidth": 0,
             "ticks": ""
            },
            "type": "mesh3d"
           }
          ],
          "parcoords": [
           {
            "line": {
             "colorbar": {
              "outlinewidth": 0,
              "ticks": ""
             }
            },
            "type": "parcoords"
           }
          ],
          "pie": [
           {
            "automargin": true,
            "type": "pie"
           }
          ],
          "scatter": [
           {
            "fillpattern": {
             "fillmode": "overlay",
             "size": 10,
             "solidity": 0.2
            },
            "type": "scatter"
           }
          ],
          "scatter3d": [
           {
            "line": {
             "colorbar": {
              "outlinewidth": 0,
              "ticks": ""
             }
            },
            "marker": {
             "colorbar": {
              "outlinewidth": 0,
              "ticks": ""
             }
            },
            "type": "scatter3d"
           }
          ],
          "scattercarpet": [
           {
            "marker": {
             "colorbar": {
              "outlinewidth": 0,
              "ticks": ""
             }
            },
            "type": "scattercarpet"
           }
          ],
          "scattergeo": [
           {
            "marker": {
             "colorbar": {
              "outlinewidth": 0,
              "ticks": ""
             }
            },
            "type": "scattergeo"
           }
          ],
          "scattergl": [
           {
            "marker": {
             "colorbar": {
              "outlinewidth": 0,
              "ticks": ""
             }
            },
            "type": "scattergl"
           }
          ],
          "scattermapbox": [
           {
            "marker": {
             "colorbar": {
              "outlinewidth": 0,
              "ticks": ""
             }
            },
            "type": "scattermapbox"
           }
          ],
          "scatterpolar": [
           {
            "marker": {
             "colorbar": {
              "outlinewidth": 0,
              "ticks": ""
             }
            },
            "type": "scatterpolar"
           }
          ],
          "scatterpolargl": [
           {
            "marker": {
             "colorbar": {
              "outlinewidth": 0,
              "ticks": ""
             }
            },
            "type": "scatterpolargl"
           }
          ],
          "scatterternary": [
           {
            "marker": {
             "colorbar": {
              "outlinewidth": 0,
              "ticks": ""
             }
            },
            "type": "scatterternary"
           }
          ],
          "surface": [
           {
            "colorbar": {
             "outlinewidth": 0,
             "ticks": ""
            },
            "colorscale": [
             [
              0,
              "#0d0887"
             ],
             [
              0.1111111111111111,
              "#46039f"
             ],
             [
              0.2222222222222222,
              "#7201a8"
             ],
             [
              0.3333333333333333,
              "#9c179e"
             ],
             [
              0.4444444444444444,
              "#bd3786"
             ],
             [
              0.5555555555555556,
              "#d8576b"
             ],
             [
              0.6666666666666666,
              "#ed7953"
             ],
             [
              0.7777777777777778,
              "#fb9f3a"
             ],
             [
              0.8888888888888888,
              "#fdca26"
             ],
             [
              1,
              "#f0f921"
             ]
            ],
            "type": "surface"
           }
          ],
          "table": [
           {
            "cells": {
             "fill": {
              "color": "#EBF0F8"
             },
             "line": {
              "color": "white"
             }
            },
            "header": {
             "fill": {
              "color": "#C8D4E3"
             },
             "line": {
              "color": "white"
             }
            },
            "type": "table"
           }
          ]
         },
         "layout": {
          "annotationdefaults": {
           "arrowcolor": "#2a3f5f",
           "arrowhead": 0,
           "arrowwidth": 1
          },
          "autotypenumbers": "strict",
          "coloraxis": {
           "colorbar": {
            "outlinewidth": 0,
            "ticks": ""
           }
          },
          "colorscale": {
           "diverging": [
            [
             0,
             "#8e0152"
            ],
            [
             0.1,
             "#c51b7d"
            ],
            [
             0.2,
             "#de77ae"
            ],
            [
             0.3,
             "#f1b6da"
            ],
            [
             0.4,
             "#fde0ef"
            ],
            [
             0.5,
             "#f7f7f7"
            ],
            [
             0.6,
             "#e6f5d0"
            ],
            [
             0.7,
             "#b8e186"
            ],
            [
             0.8,
             "#7fbc41"
            ],
            [
             0.9,
             "#4d9221"
            ],
            [
             1,
             "#276419"
            ]
           ],
           "sequential": [
            [
             0,
             "#0d0887"
            ],
            [
             0.1111111111111111,
             "#46039f"
            ],
            [
             0.2222222222222222,
             "#7201a8"
            ],
            [
             0.3333333333333333,
             "#9c179e"
            ],
            [
             0.4444444444444444,
             "#bd3786"
            ],
            [
             0.5555555555555556,
             "#d8576b"
            ],
            [
             0.6666666666666666,
             "#ed7953"
            ],
            [
             0.7777777777777778,
             "#fb9f3a"
            ],
            [
             0.8888888888888888,
             "#fdca26"
            ],
            [
             1,
             "#f0f921"
            ]
           ],
           "sequentialminus": [
            [
             0,
             "#0d0887"
            ],
            [
             0.1111111111111111,
             "#46039f"
            ],
            [
             0.2222222222222222,
             "#7201a8"
            ],
            [
             0.3333333333333333,
             "#9c179e"
            ],
            [
             0.4444444444444444,
             "#bd3786"
            ],
            [
             0.5555555555555556,
             "#d8576b"
            ],
            [
             0.6666666666666666,
             "#ed7953"
            ],
            [
             0.7777777777777778,
             "#fb9f3a"
            ],
            [
             0.8888888888888888,
             "#fdca26"
            ],
            [
             1,
             "#f0f921"
            ]
           ]
          },
          "colorway": [
           "#636efa",
           "#EF553B",
           "#00cc96",
           "#ab63fa",
           "#FFA15A",
           "#19d3f3",
           "#FF6692",
           "#B6E880",
           "#FF97FF",
           "#FECB52"
          ],
          "font": {
           "color": "#2a3f5f"
          },
          "geo": {
           "bgcolor": "white",
           "lakecolor": "white",
           "landcolor": "#E5ECF6",
           "showlakes": true,
           "showland": true,
           "subunitcolor": "white"
          },
          "hoverlabel": {
           "align": "left"
          },
          "hovermode": "closest",
          "mapbox": {
           "style": "light"
          },
          "paper_bgcolor": "white",
          "plot_bgcolor": "#E5ECF6",
          "polar": {
           "angularaxis": {
            "gridcolor": "white",
            "linecolor": "white",
            "ticks": ""
           },
           "bgcolor": "#E5ECF6",
           "radialaxis": {
            "gridcolor": "white",
            "linecolor": "white",
            "ticks": ""
           }
          },
          "scene": {
           "xaxis": {
            "backgroundcolor": "#E5ECF6",
            "gridcolor": "white",
            "gridwidth": 2,
            "linecolor": "white",
            "showbackground": true,
            "ticks": "",
            "zerolinecolor": "white"
           },
           "yaxis": {
            "backgroundcolor": "#E5ECF6",
            "gridcolor": "white",
            "gridwidth": 2,
            "linecolor": "white",
            "showbackground": true,
            "ticks": "",
            "zerolinecolor": "white"
           },
           "zaxis": {
            "backgroundcolor": "#E5ECF6",
            "gridcolor": "white",
            "gridwidth": 2,
            "linecolor": "white",
            "showbackground": true,
            "ticks": "",
            "zerolinecolor": "white"
           }
          },
          "shapedefaults": {
           "line": {
            "color": "#2a3f5f"
           }
          },
          "ternary": {
           "aaxis": {
            "gridcolor": "white",
            "linecolor": "white",
            "ticks": ""
           },
           "baxis": {
            "gridcolor": "white",
            "linecolor": "white",
            "ticks": ""
           },
           "bgcolor": "#E5ECF6",
           "caxis": {
            "gridcolor": "white",
            "linecolor": "white",
            "ticks": ""
           }
          },
          "title": {
           "x": 0.05
          },
          "xaxis": {
           "automargin": true,
           "gridcolor": "white",
           "linecolor": "white",
           "ticks": "",
           "title": {
            "standoff": 15
           },
           "zerolinecolor": "white",
           "zerolinewidth": 2
          },
          "yaxis": {
           "automargin": true,
           "gridcolor": "white",
           "linecolor": "white",
           "ticks": "",
           "title": {
            "standoff": 15
           },
           "zerolinecolor": "white",
           "zerolinewidth": 2
          }
         }
        },
        "title": {
         "text": "Good Girls VS Bad Girls Names by Genre"
        },
        "width": 1600
       }
      }
     },
     "metadata": {},
     "output_type": "display_data"
    }
   ],
   "source": [
    "# Create the sunburst plots for females and males\n",
    "fig_bad_girls = go.Figure(go.Sunburst(\n",
    "    labels=data_f_bad['character'],\n",
    "    parents=data_f_bad['parent'],\n",
    "    domain=dict(column=1),\n",
    "    maxdepth=2\n",
    "))\n",
    "\n",
    "fig_good_girls = go.Figure(go.Sunburst(\n",
    "    labels=data_f_good['character'],\n",
    "    parents=data_f_good['parent'],\n",
    "    domain=dict(column=1),\n",
    "    maxdepth=2\n",
    "))\n",
    "\n",
    "fig = make_subplots(\n",
    "    rows=1, cols=2,\n",
    "    subplot_titles=[\"BAD GIRLS\", \"GOOD GIRLS\"],\n",
    "    specs=[[{\"type\": \"sunburst\"}, {\"type\": \"sunburst\"}]]\n",
    ")\n",
    "\n",
    "fig.add_trace(fig_good_girls['data'][0], row=1, col=1)\n",
    "fig.add_trace(fig_bad_girls['data'][0], row=1, col=2)\n",
    "\n",
    "fig.update_layout(\n",
    "    title_text=\"Good Girls VS Bad Girls Names by Genre\",\n",
    "    showlegend=False,\n",
    "    width=1600,\n",
    "    height=800,\n",
    "    font=dict(size=13),\n",
    ")\n",
    "\n",
    "fig.show()"
   ]
  },
  {
   "cell_type": "code",
   "execution_count": 105,
   "metadata": {},
   "outputs": [
    {
     "data": {
      "application/vnd.plotly.v1+json": {
       "config": {
        "plotlyServerURL": "https://plot.ly"
       },
       "data": [
        {
         "domain": {
          "column": 1,
          "x": [
           0,
           0.45
          ],
          "y": [
           0,
           1
          ]
         },
         "labels": [
          "Movies' Genres",
          "Action & Adventure",
          "Drama",
          "Comedy",
          "Horror & Thriller",
          "Fantasy & Sci-Fi",
          "Historical & War",
          "Romance",
          "Documentary",
          "Music & Performance",
          "Cult & B-Movies",
          "Other",
          "Werner",
          "Kitchell",
          "Frank",
          "Eeyore",
          "Montgomery",
          "Hagan",
          "Marks",
          "Kumar",
          "Dan",
          "Werner",
          "Kitchell",
          "Marlon",
          "Eeyore",
          "Hagan",
          "Marks",
          "Austin",
          "Dan",
          "Frank",
          "Tom",
          "Marlon",
          "Eeyore",
          "Elvis",
          "Tumi",
          "Nolan",
          "Montgomery",
          "Marks",
          "Joseph",
          "Dixon",
          "Goodall",
          "Freddy",
          "Starczek",
          "Otsuka",
          "Marlon",
          "Eeyore",
          "Pecos",
          "Sinbad",
          "Aladdin",
          "Norman",
          "Spike",
          "Spike",
          "Werner",
          "Kitchell",
          "Patrick",
          "Rustom",
          "Max",
          "Lowe",
          "Starczek",
          "Abraham",
          "Kitchell",
          "Frank",
          "Tom",
          "Elvis",
          "Tumi",
          "Marks",
          "Austin",
          "Ortega",
          "Werner",
          "Max",
          "Lowe",
          "Abraham",
          "Adolph",
          "Wilson",
          "Austen",
          "Austen",
          "Oliver",
          "Rico",
          "Dexter",
          "Happy",
          "Amit",
          "Chopra",
          "Wilson",
          "Cahill",
          "Dan",
          "Kitchell",
          "Frank",
          "Matt",
          "Sophie",
          "Oswaldo",
          "Sam",
          "Oz",
          "Philip",
          "Jasper",
          "Malhotra",
          "Anwar",
          "Raju",
          "Morpheus",
          "Lloyd",
          "Tatsuya"
         ],
         "maxdepth": 2,
         "parents": [
          "",
          "Movies' Genres",
          "Movies' Genres",
          "Movies' Genres",
          "Movies' Genres",
          "Movies' Genres",
          "Movies' Genres",
          "Movies' Genres",
          "Movies' Genres",
          "Movies' Genres",
          "Movies' Genres",
          "Movies' Genres",
          "Action & Adventure",
          "Action & Adventure",
          "Action & Adventure",
          "Action & Adventure",
          "Action & Adventure",
          "Action & Adventure",
          "Action & Adventure",
          "Action & Adventure",
          "Drama",
          "Drama",
          "Drama",
          "Drama",
          "Drama",
          "Drama",
          "Drama",
          "Drama",
          "Comedy",
          "Comedy",
          "Comedy",
          "Comedy",
          "Comedy",
          "Comedy",
          "Comedy",
          "Comedy",
          "Horror & Thriller",
          "Horror & Thriller",
          "Horror & Thriller",
          "Horror & Thriller",
          "Horror & Thriller",
          "Horror & Thriller",
          "Horror & Thriller",
          "Horror & Thriller",
          "Fantasy & Sci-Fi",
          "Fantasy & Sci-Fi",
          "Fantasy & Sci-Fi",
          "Fantasy & Sci-Fi",
          "Fantasy & Sci-Fi",
          "Fantasy & Sci-Fi",
          "Fantasy & Sci-Fi",
          "Fantasy & Sci-Fi",
          "Historical & War",
          "Historical & War",
          "Historical & War",
          "Historical & War",
          "Historical & War",
          "Historical & War",
          "Historical & War",
          "Historical & War",
          "Romance",
          "Romance",
          "Romance",
          "Romance",
          "Romance",
          "Romance",
          "Romance",
          "Romance",
          "Documentary",
          "Documentary",
          "Documentary",
          "Documentary",
          "Documentary",
          "Documentary",
          "Documentary",
          "Documentary",
          "Music & Performance",
          "Music & Performance",
          "Music & Performance",
          "Music & Performance",
          "Music & Performance",
          "Music & Performance",
          "Music & Performance",
          "Music & Performance",
          "Cult & B-Movies",
          "Cult & B-Movies",
          "Cult & B-Movies",
          "Cult & B-Movies",
          "Cult & B-Movies",
          "Cult & B-Movies",
          "Cult & B-Movies",
          "Cult & B-Movies",
          "Other",
          "Other",
          "Other",
          "Other",
          "Other",
          "Other",
          "Other",
          "Other"
         ],
         "type": "sunburst"
        },
        {
         "domain": {
          "column": 1,
          "x": [
           0.55,
           1
          ],
          "y": [
           0,
           1
          ]
         },
         "labels": [
          "Movies' Genres",
          "Action & Adventure",
          "Drama",
          "Comedy",
          "Horror & Thriller",
          "Fantasy & Sci-Fi",
          "Historical & War",
          "Romance",
          "Documentary",
          "Music & Performance",
          "Cult & B-Movies",
          "Other",
          "Tobor",
          "Vultura",
          "Dudley",
          "Matthew",
          "John",
          "Donkeys",
          "Ironhide",
          "Foley",
          "Hill",
          "Sikander",
          "Athanasius",
          "Paul",
          "Dudley",
          "Matthew",
          "John",
          "Donkeys",
          "Sikander",
          "Ronnie",
          "Mark",
          "Foley",
          "Guy",
          "Khalil",
          "Rajput",
          "Jim",
          "Legendre",
          "Ethan",
          "Dudley",
          "Matthew",
          "John",
          "Guy",
          "Mattelli",
          "George",
          "Tobor",
          "Vultura",
          "Athanasius",
          "Donkeys",
          "Ironhide",
          "Shadowseat",
          "Leonardo",
          "Tyler",
          "Paul",
          "Foley",
          "Hinrich",
          "Frenssen",
          "Cyfartha",
          "Jonas",
          "Lee",
          "Charles",
          "Sikander",
          "Sam",
          "Rajput",
          "Bluto",
          "Tem",
          "Jim",
          "Lazer",
          "Mark",
          "Charles",
          "John",
          "Albert",
          "David",
          "Ferguson",
          "Wayne",
          "Cahill",
          "Merrit",
          "Sikander",
          "Ronnie",
          "Donkeys",
          "Khalil",
          "Rajput",
          "Abdul",
          "Mozo",
          "Nolan",
          "Hill",
          "Ronnie",
          "Legendre",
          "Mark",
          "Guy",
          "Mattelli",
          "Anton",
          "Marshall",
          "Myron",
          "Vronsky",
          "Malaichami",
          "Santa",
          "Comsat",
          "Pasupathi",
          "Nick",
          "Ramesh"
         ],
         "maxdepth": 2,
         "parents": [
          "",
          "Movies' Genres",
          "Movies' Genres",
          "Movies' Genres",
          "Movies' Genres",
          "Movies' Genres",
          "Movies' Genres",
          "Movies' Genres",
          "Movies' Genres",
          "Movies' Genres",
          "Movies' Genres",
          "Movies' Genres",
          "Action & Adventure",
          "Action & Adventure",
          "Action & Adventure",
          "Action & Adventure",
          "Action & Adventure",
          "Action & Adventure",
          "Action & Adventure",
          "Action & Adventure",
          "Drama",
          "Drama",
          "Drama",
          "Drama",
          "Drama",
          "Drama",
          "Drama",
          "Drama",
          "Comedy",
          "Comedy",
          "Comedy",
          "Comedy",
          "Comedy",
          "Comedy",
          "Comedy",
          "Comedy",
          "Horror & Thriller",
          "Horror & Thriller",
          "Horror & Thriller",
          "Horror & Thriller",
          "Horror & Thriller",
          "Horror & Thriller",
          "Horror & Thriller",
          "Horror & Thriller",
          "Fantasy & Sci-Fi",
          "Fantasy & Sci-Fi",
          "Fantasy & Sci-Fi",
          "Fantasy & Sci-Fi",
          "Fantasy & Sci-Fi",
          "Fantasy & Sci-Fi",
          "Fantasy & Sci-Fi",
          "Fantasy & Sci-Fi",
          "Historical & War",
          "Historical & War",
          "Historical & War",
          "Historical & War",
          "Historical & War",
          "Historical & War",
          "Historical & War",
          "Historical & War",
          "Romance",
          "Romance",
          "Romance",
          "Romance",
          "Romance",
          "Romance",
          "Romance",
          "Romance",
          "Documentary",
          "Documentary",
          "Documentary",
          "Documentary",
          "Documentary",
          "Documentary",
          "Documentary",
          "Documentary",
          "Music & Performance",
          "Music & Performance",
          "Music & Performance",
          "Music & Performance",
          "Music & Performance",
          "Music & Performance",
          "Music & Performance",
          "Music & Performance",
          "Cult & B-Movies",
          "Cult & B-Movies",
          "Cult & B-Movies",
          "Cult & B-Movies",
          "Cult & B-Movies",
          "Cult & B-Movies",
          "Cult & B-Movies",
          "Cult & B-Movies",
          "Other",
          "Other",
          "Other",
          "Other",
          "Other",
          "Other",
          "Other",
          "Other"
         ],
         "type": "sunburst"
        }
       ],
       "layout": {
        "annotations": [
         {
          "font": {
           "size": 16
          },
          "showarrow": false,
          "text": "BAD GUYS",
          "x": 0.225,
          "xanchor": "center",
          "xref": "paper",
          "y": 1,
          "yanchor": "bottom",
          "yref": "paper"
         },
         {
          "font": {
           "size": 16
          },
          "showarrow": false,
          "text": "GOOD GUYS",
          "x": 0.775,
          "xanchor": "center",
          "xref": "paper",
          "y": 1,
          "yanchor": "bottom",
          "yref": "paper"
         }
        ],
        "font": {
         "size": 13
        },
        "height": 800,
        "showlegend": false,
        "template": {
         "data": {
          "bar": [
           {
            "error_x": {
             "color": "#2a3f5f"
            },
            "error_y": {
             "color": "#2a3f5f"
            },
            "marker": {
             "line": {
              "color": "#E5ECF6",
              "width": 0.5
             },
             "pattern": {
              "fillmode": "overlay",
              "size": 10,
              "solidity": 0.2
             }
            },
            "type": "bar"
           }
          ],
          "barpolar": [
           {
            "marker": {
             "line": {
              "color": "#E5ECF6",
              "width": 0.5
             },
             "pattern": {
              "fillmode": "overlay",
              "size": 10,
              "solidity": 0.2
             }
            },
            "type": "barpolar"
           }
          ],
          "carpet": [
           {
            "aaxis": {
             "endlinecolor": "#2a3f5f",
             "gridcolor": "white",
             "linecolor": "white",
             "minorgridcolor": "white",
             "startlinecolor": "#2a3f5f"
            },
            "baxis": {
             "endlinecolor": "#2a3f5f",
             "gridcolor": "white",
             "linecolor": "white",
             "minorgridcolor": "white",
             "startlinecolor": "#2a3f5f"
            },
            "type": "carpet"
           }
          ],
          "choropleth": [
           {
            "colorbar": {
             "outlinewidth": 0,
             "ticks": ""
            },
            "type": "choropleth"
           }
          ],
          "contour": [
           {
            "colorbar": {
             "outlinewidth": 0,
             "ticks": ""
            },
            "colorscale": [
             [
              0,
              "#0d0887"
             ],
             [
              0.1111111111111111,
              "#46039f"
             ],
             [
              0.2222222222222222,
              "#7201a8"
             ],
             [
              0.3333333333333333,
              "#9c179e"
             ],
             [
              0.4444444444444444,
              "#bd3786"
             ],
             [
              0.5555555555555556,
              "#d8576b"
             ],
             [
              0.6666666666666666,
              "#ed7953"
             ],
             [
              0.7777777777777778,
              "#fb9f3a"
             ],
             [
              0.8888888888888888,
              "#fdca26"
             ],
             [
              1,
              "#f0f921"
             ]
            ],
            "type": "contour"
           }
          ],
          "contourcarpet": [
           {
            "colorbar": {
             "outlinewidth": 0,
             "ticks": ""
            },
            "type": "contourcarpet"
           }
          ],
          "heatmap": [
           {
            "colorbar": {
             "outlinewidth": 0,
             "ticks": ""
            },
            "colorscale": [
             [
              0,
              "#0d0887"
             ],
             [
              0.1111111111111111,
              "#46039f"
             ],
             [
              0.2222222222222222,
              "#7201a8"
             ],
             [
              0.3333333333333333,
              "#9c179e"
             ],
             [
              0.4444444444444444,
              "#bd3786"
             ],
             [
              0.5555555555555556,
              "#d8576b"
             ],
             [
              0.6666666666666666,
              "#ed7953"
             ],
             [
              0.7777777777777778,
              "#fb9f3a"
             ],
             [
              0.8888888888888888,
              "#fdca26"
             ],
             [
              1,
              "#f0f921"
             ]
            ],
            "type": "heatmap"
           }
          ],
          "heatmapgl": [
           {
            "colorbar": {
             "outlinewidth": 0,
             "ticks": ""
            },
            "colorscale": [
             [
              0,
              "#0d0887"
             ],
             [
              0.1111111111111111,
              "#46039f"
             ],
             [
              0.2222222222222222,
              "#7201a8"
             ],
             [
              0.3333333333333333,
              "#9c179e"
             ],
             [
              0.4444444444444444,
              "#bd3786"
             ],
             [
              0.5555555555555556,
              "#d8576b"
             ],
             [
              0.6666666666666666,
              "#ed7953"
             ],
             [
              0.7777777777777778,
              "#fb9f3a"
             ],
             [
              0.8888888888888888,
              "#fdca26"
             ],
             [
              1,
              "#f0f921"
             ]
            ],
            "type": "heatmapgl"
           }
          ],
          "histogram": [
           {
            "marker": {
             "pattern": {
              "fillmode": "overlay",
              "size": 10,
              "solidity": 0.2
             }
            },
            "type": "histogram"
           }
          ],
          "histogram2d": [
           {
            "colorbar": {
             "outlinewidth": 0,
             "ticks": ""
            },
            "colorscale": [
             [
              0,
              "#0d0887"
             ],
             [
              0.1111111111111111,
              "#46039f"
             ],
             [
              0.2222222222222222,
              "#7201a8"
             ],
             [
              0.3333333333333333,
              "#9c179e"
             ],
             [
              0.4444444444444444,
              "#bd3786"
             ],
             [
              0.5555555555555556,
              "#d8576b"
             ],
             [
              0.6666666666666666,
              "#ed7953"
             ],
             [
              0.7777777777777778,
              "#fb9f3a"
             ],
             [
              0.8888888888888888,
              "#fdca26"
             ],
             [
              1,
              "#f0f921"
             ]
            ],
            "type": "histogram2d"
           }
          ],
          "histogram2dcontour": [
           {
            "colorbar": {
             "outlinewidth": 0,
             "ticks": ""
            },
            "colorscale": [
             [
              0,
              "#0d0887"
             ],
             [
              0.1111111111111111,
              "#46039f"
             ],
             [
              0.2222222222222222,
              "#7201a8"
             ],
             [
              0.3333333333333333,
              "#9c179e"
             ],
             [
              0.4444444444444444,
              "#bd3786"
             ],
             [
              0.5555555555555556,
              "#d8576b"
             ],
             [
              0.6666666666666666,
              "#ed7953"
             ],
             [
              0.7777777777777778,
              "#fb9f3a"
             ],
             [
              0.8888888888888888,
              "#fdca26"
             ],
             [
              1,
              "#f0f921"
             ]
            ],
            "type": "histogram2dcontour"
           }
          ],
          "mesh3d": [
           {
            "colorbar": {
             "outlinewidth": 0,
             "ticks": ""
            },
            "type": "mesh3d"
           }
          ],
          "parcoords": [
           {
            "line": {
             "colorbar": {
              "outlinewidth": 0,
              "ticks": ""
             }
            },
            "type": "parcoords"
           }
          ],
          "pie": [
           {
            "automargin": true,
            "type": "pie"
           }
          ],
          "scatter": [
           {
            "fillpattern": {
             "fillmode": "overlay",
             "size": 10,
             "solidity": 0.2
            },
            "type": "scatter"
           }
          ],
          "scatter3d": [
           {
            "line": {
             "colorbar": {
              "outlinewidth": 0,
              "ticks": ""
             }
            },
            "marker": {
             "colorbar": {
              "outlinewidth": 0,
              "ticks": ""
             }
            },
            "type": "scatter3d"
           }
          ],
          "scattercarpet": [
           {
            "marker": {
             "colorbar": {
              "outlinewidth": 0,
              "ticks": ""
             }
            },
            "type": "scattercarpet"
           }
          ],
          "scattergeo": [
           {
            "marker": {
             "colorbar": {
              "outlinewidth": 0,
              "ticks": ""
             }
            },
            "type": "scattergeo"
           }
          ],
          "scattergl": [
           {
            "marker": {
             "colorbar": {
              "outlinewidth": 0,
              "ticks": ""
             }
            },
            "type": "scattergl"
           }
          ],
          "scattermapbox": [
           {
            "marker": {
             "colorbar": {
              "outlinewidth": 0,
              "ticks": ""
             }
            },
            "type": "scattermapbox"
           }
          ],
          "scatterpolar": [
           {
            "marker": {
             "colorbar": {
              "outlinewidth": 0,
              "ticks": ""
             }
            },
            "type": "scatterpolar"
           }
          ],
          "scatterpolargl": [
           {
            "marker": {
             "colorbar": {
              "outlinewidth": 0,
              "ticks": ""
             }
            },
            "type": "scatterpolargl"
           }
          ],
          "scatterternary": [
           {
            "marker": {
             "colorbar": {
              "outlinewidth": 0,
              "ticks": ""
             }
            },
            "type": "scatterternary"
           }
          ],
          "surface": [
           {
            "colorbar": {
             "outlinewidth": 0,
             "ticks": ""
            },
            "colorscale": [
             [
              0,
              "#0d0887"
             ],
             [
              0.1111111111111111,
              "#46039f"
             ],
             [
              0.2222222222222222,
              "#7201a8"
             ],
             [
              0.3333333333333333,
              "#9c179e"
             ],
             [
              0.4444444444444444,
              "#bd3786"
             ],
             [
              0.5555555555555556,
              "#d8576b"
             ],
             [
              0.6666666666666666,
              "#ed7953"
             ],
             [
              0.7777777777777778,
              "#fb9f3a"
             ],
             [
              0.8888888888888888,
              "#fdca26"
             ],
             [
              1,
              "#f0f921"
             ]
            ],
            "type": "surface"
           }
          ],
          "table": [
           {
            "cells": {
             "fill": {
              "color": "#EBF0F8"
             },
             "line": {
              "color": "white"
             }
            },
            "header": {
             "fill": {
              "color": "#C8D4E3"
             },
             "line": {
              "color": "white"
             }
            },
            "type": "table"
           }
          ]
         },
         "layout": {
          "annotationdefaults": {
           "arrowcolor": "#2a3f5f",
           "arrowhead": 0,
           "arrowwidth": 1
          },
          "autotypenumbers": "strict",
          "coloraxis": {
           "colorbar": {
            "outlinewidth": 0,
            "ticks": ""
           }
          },
          "colorscale": {
           "diverging": [
            [
             0,
             "#8e0152"
            ],
            [
             0.1,
             "#c51b7d"
            ],
            [
             0.2,
             "#de77ae"
            ],
            [
             0.3,
             "#f1b6da"
            ],
            [
             0.4,
             "#fde0ef"
            ],
            [
             0.5,
             "#f7f7f7"
            ],
            [
             0.6,
             "#e6f5d0"
            ],
            [
             0.7,
             "#b8e186"
            ],
            [
             0.8,
             "#7fbc41"
            ],
            [
             0.9,
             "#4d9221"
            ],
            [
             1,
             "#276419"
            ]
           ],
           "sequential": [
            [
             0,
             "#0d0887"
            ],
            [
             0.1111111111111111,
             "#46039f"
            ],
            [
             0.2222222222222222,
             "#7201a8"
            ],
            [
             0.3333333333333333,
             "#9c179e"
            ],
            [
             0.4444444444444444,
             "#bd3786"
            ],
            [
             0.5555555555555556,
             "#d8576b"
            ],
            [
             0.6666666666666666,
             "#ed7953"
            ],
            [
             0.7777777777777778,
             "#fb9f3a"
            ],
            [
             0.8888888888888888,
             "#fdca26"
            ],
            [
             1,
             "#f0f921"
            ]
           ],
           "sequentialminus": [
            [
             0,
             "#0d0887"
            ],
            [
             0.1111111111111111,
             "#46039f"
            ],
            [
             0.2222222222222222,
             "#7201a8"
            ],
            [
             0.3333333333333333,
             "#9c179e"
            ],
            [
             0.4444444444444444,
             "#bd3786"
            ],
            [
             0.5555555555555556,
             "#d8576b"
            ],
            [
             0.6666666666666666,
             "#ed7953"
            ],
            [
             0.7777777777777778,
             "#fb9f3a"
            ],
            [
             0.8888888888888888,
             "#fdca26"
            ],
            [
             1,
             "#f0f921"
            ]
           ]
          },
          "colorway": [
           "#636efa",
           "#EF553B",
           "#00cc96",
           "#ab63fa",
           "#FFA15A",
           "#19d3f3",
           "#FF6692",
           "#B6E880",
           "#FF97FF",
           "#FECB52"
          ],
          "font": {
           "color": "#2a3f5f"
          },
          "geo": {
           "bgcolor": "white",
           "lakecolor": "white",
           "landcolor": "#E5ECF6",
           "showlakes": true,
           "showland": true,
           "subunitcolor": "white"
          },
          "hoverlabel": {
           "align": "left"
          },
          "hovermode": "closest",
          "mapbox": {
           "style": "light"
          },
          "paper_bgcolor": "white",
          "plot_bgcolor": "#E5ECF6",
          "polar": {
           "angularaxis": {
            "gridcolor": "white",
            "linecolor": "white",
            "ticks": ""
           },
           "bgcolor": "#E5ECF6",
           "radialaxis": {
            "gridcolor": "white",
            "linecolor": "white",
            "ticks": ""
           }
          },
          "scene": {
           "xaxis": {
            "backgroundcolor": "#E5ECF6",
            "gridcolor": "white",
            "gridwidth": 2,
            "linecolor": "white",
            "showbackground": true,
            "ticks": "",
            "zerolinecolor": "white"
           },
           "yaxis": {
            "backgroundcolor": "#E5ECF6",
            "gridcolor": "white",
            "gridwidth": 2,
            "linecolor": "white",
            "showbackground": true,
            "ticks": "",
            "zerolinecolor": "white"
           },
           "zaxis": {
            "backgroundcolor": "#E5ECF6",
            "gridcolor": "white",
            "gridwidth": 2,
            "linecolor": "white",
            "showbackground": true,
            "ticks": "",
            "zerolinecolor": "white"
           }
          },
          "shapedefaults": {
           "line": {
            "color": "#2a3f5f"
           }
          },
          "ternary": {
           "aaxis": {
            "gridcolor": "white",
            "linecolor": "white",
            "ticks": ""
           },
           "baxis": {
            "gridcolor": "white",
            "linecolor": "white",
            "ticks": ""
           },
           "bgcolor": "#E5ECF6",
           "caxis": {
            "gridcolor": "white",
            "linecolor": "white",
            "ticks": ""
           }
          },
          "title": {
           "x": 0.05
          },
          "xaxis": {
           "automargin": true,
           "gridcolor": "white",
           "linecolor": "white",
           "ticks": "",
           "title": {
            "standoff": 15
           },
           "zerolinecolor": "white",
           "zerolinewidth": 2
          },
          "yaxis": {
           "automargin": true,
           "gridcolor": "white",
           "linecolor": "white",
           "ticks": "",
           "title": {
            "standoff": 15
           },
           "zerolinecolor": "white",
           "zerolinewidth": 2
          }
         }
        },
        "title": {
         "text": "Good Guys VS Bad Guys Names by Genre"
        },
        "width": 1600
       }
      }
     },
     "metadata": {},
     "output_type": "display_data"
    }
   ],
   "source": [
    "# Create the sunburst plots for females and males\n",
    "fig_bad_guys = go.Figure(go.Sunburst(\n",
    "    labels=data_m_bad['character'],\n",
    "    parents=data_m_bad['parent'],\n",
    "    domain=dict(column=1),\n",
    "    maxdepth=2\n",
    "))\n",
    "\n",
    "fig_good_guys = go.Figure(go.Sunburst(\n",
    "    labels=data_m_good['character'],\n",
    "    parents=data_m_good['parent'],\n",
    "    domain=dict(column=1),\n",
    "    maxdepth=2\n",
    "))\n",
    "\n",
    "fig = make_subplots(\n",
    "    rows=1, cols=2,\n",
    "    subplot_titles=[\"BAD GUYS\", \"GOOD GUYS\"],\n",
    "    specs=[[{\"type\": \"sunburst\"}, {\"type\": \"sunburst\"}]]\n",
    ")\n",
    "\n",
    "fig.add_trace(fig_good_guys['data'][0], row=1, col=1)\n",
    "fig.add_trace(fig_bad_guys['data'][0], row=1, col=2)\n",
    "\n",
    "fig.update_layout(\n",
    "    title_text=\"Good Guys VS Bad Guys Names by Genre\",\n",
    "    showlegend=False,\n",
    "    width=1600,\n",
    "    height=800,\n",
    "    font=dict(size=13),\n",
    ")\n",
    "\n",
    "fig.show()"
   ]
  },
  {
   "cell_type": "markdown",
   "metadata": {},
   "source": [
    "### Pre processing pour Roberta"
   ]
  },
  {
   "cell_type": "markdown",
   "metadata": {},
   "source": [
    "La fonction ci-dessous permet de réduire aléatoirement le nombre de phrases affiliées à un prénom. La valeur \"MAX_SENTENCES\" peut être fixée manuellement pour plus ou moins de précision. "
   ]
  },
  {
   "cell_type": "code",
   "execution_count": 95,
   "metadata": {},
   "outputs": [],
   "source": [
    "# list_characters = df_sentences_by_names[\"Character_Name\"]\n",
    "# MAX_SENTENCES = 100  # À ajuster selon besoin\n",
    "\n",
    "# df_reduced = []\n",
    "\n",
    "# for idx, row in df_sentences_by_names.iterrows():\n",
    "#     if row[\"Sentence_Count\"] > MAX_SENTENCES:\n",
    "#         reduced_sentences = pd.Series(row[\"Sentences\"]).sample(MAX_SENTENCES, random_state=42).tolist()\n",
    "#     else:\n",
    "#         reduced_sentences = row[\"Sentences\"]\n",
    "    \n",
    "#     df_reduced.append({\n",
    "#         \"Character_Name\": row[\"Character_Name\"],\n",
    "#         \"Sentences\": reduced_sentences,\n",
    "#         \"Sentence_Count\": len(reduced_sentences)\n",
    "#     })\n",
    "\n",
    "# df_reduced = pd.DataFrame(df_reduced)"
   ]
  },
  {
   "cell_type": "markdown",
   "metadata": {},
   "source": [
    "### Fonctions pour Roberta SA"
   ]
  },
  {
   "cell_type": "code",
   "execution_count": 96,
   "metadata": {},
   "outputs": [],
   "source": [
    "# from transformers import pipeline\n",
    "\n",
    "# def get_sentiment_with_roberta(sentence):\n",
    "#     sentiment_pipeline = pipeline('sentiment-analysis', model='roberta-large-mnli')\n",
    "#     result = sentiment_pipeline(sentence)\n",
    "#     return result[0][\"score\"]\n",
    "\n",
    "# def process_character_sentiments_roberta(sentences):\n",
    "#     sentences_roberta = []\n",
    "    \n",
    "#     for sentence in sentences:\n",
    "#         sentiment_with_roberta = get_sentiment_with_roberta(sentence)\n",
    "#         sentences_roberta.append(sentiment_with_roberta)\n",
    "    \n",
    "#     mean_sentiment_roberta = np.mean(sentences_roberta) if sentences_roberta else None\n",
    "    \n",
    "#     return mean_sentiment_roberta"
   ]
  },
  {
   "cell_type": "code",
   "execution_count": 97,
   "metadata": {},
   "outputs": [],
   "source": [
    "# data_roberta = []\n",
    "\n",
    "# for index, character_name in enumerate(list_characters):\n",
    "#     list_sentences_by_character = df_reduced[\"Sentences\"].iloc[index]\n",
    "    \n",
    "#     mean_sentiment_roberta = process_character_sentiments_roberta(list_sentences_by_character)\n",
    "\n",
    "#     data_roberta.append({\n",
    "#         \"Character_Name\": character_name,\n",
    "#         \"Sentiment\": mean_sentiment_roberta\n",
    "#     })\n",
    "\n",
    "# df_sentiment_analysis_roberta = pd.DataFrame(data_roberta)\n",
    "# print(df_sentiment_analysis_roberta)"
   ]
  },
  {
   "cell_type": "markdown",
   "metadata": {},
   "source": [
    "### Regrouper les phrases par prénoms"
   ]
  },
  {
   "cell_type": "code",
   "execution_count": 98,
   "metadata": {},
   "outputs": [],
   "source": [
    "# # Rassemble les phrases par prénoms\n",
    "\n",
    "# df = pd.DataFrame(data)\n",
    "# df['Sentence_Count'] = df['Sentences'].apply(len)\n",
    "# df = df[df['Sentences'].apply(lambda x: len(x) > 0)]\n",
    "\n",
    "# grouped_sentences_by_names = {}\n",
    "\n",
    "# for index, row in df.iterrows():\n",
    "#     character_name = row['Character_Name']\n",
    "#     sentences = row['Sentences']\n",
    "    \n",
    "#     if character_name in grouped_sentences_by_names:\n",
    "#         grouped_sentences_by_names[character_name].extend(sentences)  \n",
    "#     else:\n",
    "#         grouped_sentences_by_names[character_name] = sentences \n",
    "\n",
    "# grouped_sentences_by_names_list = []\n",
    "\n",
    "# for character_name, sentences in grouped_sentences_by_names.items():\n",
    "#     grouped_sentences_by_names_list.append({\n",
    "#         'Character_Name': character_name,\n",
    "#         'Sentences': sentences,\n",
    "#         'Sentence_Count': len(sentences)\n",
    "#     })\n",
    "\n",
    "# df_sentences_by_names = pd.DataFrame(grouped_sentences_by_names_list)\n",
    "# print(df_sentences_by_names)"
   ]
  }
 ],
 "metadata": {
  "kernelspec": {
   "display_name": "ada",
   "language": "python",
   "name": "python3"
  },
  "language_info": {
   "codemirror_mode": {
    "name": "ipython",
    "version": 3
   },
   "file_extension": ".py",
   "mimetype": "text/x-python",
   "name": "python",
   "nbconvert_exporter": "python",
   "pygments_lexer": "ipython3",
   "version": "3.11.9"
  }
 },
 "nbformat": 4,
 "nbformat_minor": 2
}
