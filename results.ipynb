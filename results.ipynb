{
 "cells": [
  {
   "cell_type": "code",
   "execution_count": 36,
   "metadata": {},
   "outputs": [],
   "source": [
    "from src.utils.results_utils import *\n",
    "\n",
    "from src.utils.data_utils import str_dict_to_values\n",
    "\n",
    "import plotly.graph_objects as go\n",
    "from plotly.subplots import make_subplots\n",
    "import matplotlib.pyplot as plt\n",
    "import seaborn as sns\n",
    "from scipy import stats\n",
    "import pandas as pd\n",
    "import nbformat\n"
   ]
  },
  {
   "cell_type": "markdown",
   "metadata": {},
   "source": [
    "# 0. Loading the cleaned dataset"
   ]
  },
  {
   "cell_type": "code",
   "execution_count": 37,
   "metadata": {},
   "outputs": [],
   "source": [
    "df_char_cleaned = pd.read_csv('data/cleaned.csv')\n",
    "\n",
    "df_char_cleaned['Languages'] = df_char_cleaned['Languages'].apply(str_dict_to_values)\n",
    "df_char_cleaned['Country'] = df_char_cleaned['Country'].apply(str_dict_to_values)\n",
    "df_char_cleaned['Genres'] = df_char_cleaned['Genres'].apply(str_dict_to_values)"
   ]
  },
  {
   "cell_type": "markdown",
   "metadata": {},
   "source": [
    "# 1. Presenting the Data"
   ]
  },
  {
   "cell_type": "markdown",
   "metadata": {},
   "source": [
    "The cleaned dataset looks like this : "
   ]
  },
  {
   "cell_type": "code",
   "execution_count": 38,
   "metadata": {},
   "outputs": [
    {
     "data": {
      "text/html": [
       "<div>\n",
       "<style scoped>\n",
       "    .dataframe tbody tr th:only-of-type {\n",
       "        vertical-align: middle;\n",
       "    }\n",
       "\n",
       "    .dataframe tbody tr th {\n",
       "        vertical-align: top;\n",
       "    }\n",
       "\n",
       "    .dataframe thead th {\n",
       "        text-align: right;\n",
       "    }\n",
       "</style>\n",
       "<table border=\"1\" class=\"dataframe\">\n",
       "  <thead>\n",
       "    <tr style=\"text-align: right;\">\n",
       "      <th></th>\n",
       "      <th>Wikipedia ID</th>\n",
       "      <th>Movie Name</th>\n",
       "      <th>Languages</th>\n",
       "      <th>Production Country</th>\n",
       "      <th>Movie Genre</th>\n",
       "      <th>Character Name</th>\n",
       "      <th>Gender</th>\n",
       "      <th>Actor Age</th>\n",
       "      <th>Release Date</th>\n",
       "    </tr>\n",
       "  </thead>\n",
       "  <tbody>\n",
       "    <tr>\n",
       "      <th>30372</th>\n",
       "      <td>9366061</td>\n",
       "      <td>The Assam Garden</td>\n",
       "      <td>[English Language]</td>\n",
       "      <td>[United Kingdom]</td>\n",
       "      <td>[Drama]</td>\n",
       "      <td>Ruxmani</td>\n",
       "      <td>F</td>\n",
       "      <td>51.0</td>\n",
       "      <td>1985</td>\n",
       "    </tr>\n",
       "    <tr>\n",
       "      <th>125742</th>\n",
       "      <td>4280890</td>\n",
       "      <td>Repli-Kate</td>\n",
       "      <td>[English Language]</td>\n",
       "      <td>[United States of America]</td>\n",
       "      <td>[Sex comedy, Fantasy, Comedy]</td>\n",
       "      <td>Max</td>\n",
       "      <td>M</td>\n",
       "      <td>25.0</td>\n",
       "      <td>2002</td>\n",
       "    </tr>\n",
       "    <tr>\n",
       "      <th>19111</th>\n",
       "      <td>28157276</td>\n",
       "      <td>Fine Gold</td>\n",
       "      <td>[Spanish Language]</td>\n",
       "      <td>[Spain]</td>\n",
       "      <td>[Drama]</td>\n",
       "      <td>Miguel</td>\n",
       "      <td>M</td>\n",
       "      <td>75.0</td>\n",
       "      <td>1989</td>\n",
       "    </tr>\n",
       "    <tr>\n",
       "      <th>99837</th>\n",
       "      <td>35909212</td>\n",
       "      <td>The Fourth State</td>\n",
       "      <td>[Russian Language, German Language, English La...</td>\n",
       "      <td>[Germany]</td>\n",
       "      <td>[Thriller, Political thriller]</td>\n",
       "      <td>Onjegin</td>\n",
       "      <td>M</td>\n",
       "      <td>65.0</td>\n",
       "      <td>2012-03-08</td>\n",
       "    </tr>\n",
       "    <tr>\n",
       "      <th>76988</th>\n",
       "      <td>31889463</td>\n",
       "      <td>Secret Passage</td>\n",
       "      <td>[English Language]</td>\n",
       "      <td>[Italy, Luxembourg, Portugal]</td>\n",
       "      <td>[Romantic drama, Period piece, Family Drama, D...</td>\n",
       "      <td>Zane</td>\n",
       "      <td>M</td>\n",
       "      <td>46.0</td>\n",
       "      <td>2004</td>\n",
       "    </tr>\n",
       "  </tbody>\n",
       "</table>\n",
       "</div>"
      ],
      "text/plain": [
       "        Wikipedia ID        Movie Name  \\\n",
       "30372        9366061  The Assam Garden   \n",
       "125742       4280890        Repli-Kate   \n",
       "19111       28157276         Fine Gold   \n",
       "99837       35909212  The Fourth State   \n",
       "76988       31889463    Secret Passage   \n",
       "\n",
       "                                                Languages  \\\n",
       "30372                                  [English Language]   \n",
       "125742                                 [English Language]   \n",
       "19111                                  [Spanish Language]   \n",
       "99837   [Russian Language, German Language, English La...   \n",
       "76988                                  [English Language]   \n",
       "\n",
       "                   Production Country  \\\n",
       "30372                [United Kingdom]   \n",
       "125742     [United States of America]   \n",
       "19111                         [Spain]   \n",
       "99837                       [Germany]   \n",
       "76988   [Italy, Luxembourg, Portugal]   \n",
       "\n",
       "                                              Movie Genre Character Name  \\\n",
       "30372                                             [Drama]        Ruxmani   \n",
       "125742                      [Sex comedy, Fantasy, Comedy]            Max   \n",
       "19111                                             [Drama]         Miguel   \n",
       "99837                      [Thriller, Political thriller]        Onjegin   \n",
       "76988   [Romantic drama, Period piece, Family Drama, D...           Zane   \n",
       "\n",
       "       Gender  Actor Age Release Date  \n",
       "30372       F       51.0         1985  \n",
       "125742      M       25.0         2002  \n",
       "19111       M       75.0         1989  \n",
       "99837       M       65.0   2012-03-08  \n",
       "76988       M       46.0         2004  "
      ]
     },
     "execution_count": 38,
     "metadata": {},
     "output_type": "execute_result"
    }
   ],
   "source": [
    "# Create a copy of the original DataFrame to rename columns\n",
    "df_char_cleaned_column = df_char_cleaned.copy()\n",
    "\n",
    "# Rename columns to be clearer\n",
    "df_char_cleaned_column.columns = [\n",
    "    'Wikipedia ID', 'Movie Name', 'Languages', 'Production Country', \n",
    "    'Movie Genre', 'Character Name', 'Gender', 'Actor Age', 'Release Date'\n",
    "]\n",
    "\n",
    "# Display a random sample of 5 rows from the new DataFrame\n",
    "df_char_cleaned_column.sample(5)"
   ]
  },
  {
   "cell_type": "code",
   "execution_count": 39,
   "metadata": {},
   "outputs": [
    {
     "data": {
      "application/vnd.plotly.v1+json": {
       "config": {
        "plotlyServerURL": "https://plot.ly"
       },
       "data": [
        {
         "hoverinfo": "text",
         "marker": {
          "color": "skyblue"
         },
         "text": [
          "160432",
          "160432",
          "160432",
          "160432",
          "160432",
          "160432",
          "154848",
          "115433",
          "158903"
         ],
         "textposition": "none",
         "type": "bar",
         "x": [
          "Wikipedia ID",
          "Movie Name",
          "Languages",
          "Production Country",
          "Movie Genre",
          "Character Name",
          "Gender",
          "Actor Age",
          "Release Date"
         ],
         "y": [
          160432,
          160432,
          160432,
          160432,
          160432,
          160432,
          154848,
          115433,
          158903
         ]
        }
       ],
       "layout": {
        "barmode": "group",
        "template": {
         "data": {
          "bar": [
           {
            "error_x": {
             "color": "#2a3f5f"
            },
            "error_y": {
             "color": "#2a3f5f"
            },
            "marker": {
             "line": {
              "color": "#E5ECF6",
              "width": 0.5
             },
             "pattern": {
              "fillmode": "overlay",
              "size": 10,
              "solidity": 0.2
             }
            },
            "type": "bar"
           }
          ],
          "barpolar": [
           {
            "marker": {
             "line": {
              "color": "#E5ECF6",
              "width": 0.5
             },
             "pattern": {
              "fillmode": "overlay",
              "size": 10,
              "solidity": 0.2
             }
            },
            "type": "barpolar"
           }
          ],
          "carpet": [
           {
            "aaxis": {
             "endlinecolor": "#2a3f5f",
             "gridcolor": "white",
             "linecolor": "white",
             "minorgridcolor": "white",
             "startlinecolor": "#2a3f5f"
            },
            "baxis": {
             "endlinecolor": "#2a3f5f",
             "gridcolor": "white",
             "linecolor": "white",
             "minorgridcolor": "white",
             "startlinecolor": "#2a3f5f"
            },
            "type": "carpet"
           }
          ],
          "choropleth": [
           {
            "colorbar": {
             "outlinewidth": 0,
             "ticks": ""
            },
            "type": "choropleth"
           }
          ],
          "contour": [
           {
            "colorbar": {
             "outlinewidth": 0,
             "ticks": ""
            },
            "colorscale": [
             [
              0,
              "#0d0887"
             ],
             [
              0.1111111111111111,
              "#46039f"
             ],
             [
              0.2222222222222222,
              "#7201a8"
             ],
             [
              0.3333333333333333,
              "#9c179e"
             ],
             [
              0.4444444444444444,
              "#bd3786"
             ],
             [
              0.5555555555555556,
              "#d8576b"
             ],
             [
              0.6666666666666666,
              "#ed7953"
             ],
             [
              0.7777777777777778,
              "#fb9f3a"
             ],
             [
              0.8888888888888888,
              "#fdca26"
             ],
             [
              1,
              "#f0f921"
             ]
            ],
            "type": "contour"
           }
          ],
          "contourcarpet": [
           {
            "colorbar": {
             "outlinewidth": 0,
             "ticks": ""
            },
            "type": "contourcarpet"
           }
          ],
          "heatmap": [
           {
            "colorbar": {
             "outlinewidth": 0,
             "ticks": ""
            },
            "colorscale": [
             [
              0,
              "#0d0887"
             ],
             [
              0.1111111111111111,
              "#46039f"
             ],
             [
              0.2222222222222222,
              "#7201a8"
             ],
             [
              0.3333333333333333,
              "#9c179e"
             ],
             [
              0.4444444444444444,
              "#bd3786"
             ],
             [
              0.5555555555555556,
              "#d8576b"
             ],
             [
              0.6666666666666666,
              "#ed7953"
             ],
             [
              0.7777777777777778,
              "#fb9f3a"
             ],
             [
              0.8888888888888888,
              "#fdca26"
             ],
             [
              1,
              "#f0f921"
             ]
            ],
            "type": "heatmap"
           }
          ],
          "heatmapgl": [
           {
            "colorbar": {
             "outlinewidth": 0,
             "ticks": ""
            },
            "colorscale": [
             [
              0,
              "#0d0887"
             ],
             [
              0.1111111111111111,
              "#46039f"
             ],
             [
              0.2222222222222222,
              "#7201a8"
             ],
             [
              0.3333333333333333,
              "#9c179e"
             ],
             [
              0.4444444444444444,
              "#bd3786"
             ],
             [
              0.5555555555555556,
              "#d8576b"
             ],
             [
              0.6666666666666666,
              "#ed7953"
             ],
             [
              0.7777777777777778,
              "#fb9f3a"
             ],
             [
              0.8888888888888888,
              "#fdca26"
             ],
             [
              1,
              "#f0f921"
             ]
            ],
            "type": "heatmapgl"
           }
          ],
          "histogram": [
           {
            "marker": {
             "pattern": {
              "fillmode": "overlay",
              "size": 10,
              "solidity": 0.2
             }
            },
            "type": "histogram"
           }
          ],
          "histogram2d": [
           {
            "colorbar": {
             "outlinewidth": 0,
             "ticks": ""
            },
            "colorscale": [
             [
              0,
              "#0d0887"
             ],
             [
              0.1111111111111111,
              "#46039f"
             ],
             [
              0.2222222222222222,
              "#7201a8"
             ],
             [
              0.3333333333333333,
              "#9c179e"
             ],
             [
              0.4444444444444444,
              "#bd3786"
             ],
             [
              0.5555555555555556,
              "#d8576b"
             ],
             [
              0.6666666666666666,
              "#ed7953"
             ],
             [
              0.7777777777777778,
              "#fb9f3a"
             ],
             [
              0.8888888888888888,
              "#fdca26"
             ],
             [
              1,
              "#f0f921"
             ]
            ],
            "type": "histogram2d"
           }
          ],
          "histogram2dcontour": [
           {
            "colorbar": {
             "outlinewidth": 0,
             "ticks": ""
            },
            "colorscale": [
             [
              0,
              "#0d0887"
             ],
             [
              0.1111111111111111,
              "#46039f"
             ],
             [
              0.2222222222222222,
              "#7201a8"
             ],
             [
              0.3333333333333333,
              "#9c179e"
             ],
             [
              0.4444444444444444,
              "#bd3786"
             ],
             [
              0.5555555555555556,
              "#d8576b"
             ],
             [
              0.6666666666666666,
              "#ed7953"
             ],
             [
              0.7777777777777778,
              "#fb9f3a"
             ],
             [
              0.8888888888888888,
              "#fdca26"
             ],
             [
              1,
              "#f0f921"
             ]
            ],
            "type": "histogram2dcontour"
           }
          ],
          "mesh3d": [
           {
            "colorbar": {
             "outlinewidth": 0,
             "ticks": ""
            },
            "type": "mesh3d"
           }
          ],
          "parcoords": [
           {
            "line": {
             "colorbar": {
              "outlinewidth": 0,
              "ticks": ""
             }
            },
            "type": "parcoords"
           }
          ],
          "pie": [
           {
            "automargin": true,
            "type": "pie"
           }
          ],
          "scatter": [
           {
            "fillpattern": {
             "fillmode": "overlay",
             "size": 10,
             "solidity": 0.2
            },
            "type": "scatter"
           }
          ],
          "scatter3d": [
           {
            "line": {
             "colorbar": {
              "outlinewidth": 0,
              "ticks": ""
             }
            },
            "marker": {
             "colorbar": {
              "outlinewidth": 0,
              "ticks": ""
             }
            },
            "type": "scatter3d"
           }
          ],
          "scattercarpet": [
           {
            "marker": {
             "colorbar": {
              "outlinewidth": 0,
              "ticks": ""
             }
            },
            "type": "scattercarpet"
           }
          ],
          "scattergeo": [
           {
            "marker": {
             "colorbar": {
              "outlinewidth": 0,
              "ticks": ""
             }
            },
            "type": "scattergeo"
           }
          ],
          "scattergl": [
           {
            "marker": {
             "colorbar": {
              "outlinewidth": 0,
              "ticks": ""
             }
            },
            "type": "scattergl"
           }
          ],
          "scattermapbox": [
           {
            "marker": {
             "colorbar": {
              "outlinewidth": 0,
              "ticks": ""
             }
            },
            "type": "scattermapbox"
           }
          ],
          "scatterpolar": [
           {
            "marker": {
             "colorbar": {
              "outlinewidth": 0,
              "ticks": ""
             }
            },
            "type": "scatterpolar"
           }
          ],
          "scatterpolargl": [
           {
            "marker": {
             "colorbar": {
              "outlinewidth": 0,
              "ticks": ""
             }
            },
            "type": "scatterpolargl"
           }
          ],
          "scatterternary": [
           {
            "marker": {
             "colorbar": {
              "outlinewidth": 0,
              "ticks": ""
             }
            },
            "type": "scatterternary"
           }
          ],
          "surface": [
           {
            "colorbar": {
             "outlinewidth": 0,
             "ticks": ""
            },
            "colorscale": [
             [
              0,
              "#0d0887"
             ],
             [
              0.1111111111111111,
              "#46039f"
             ],
             [
              0.2222222222222222,
              "#7201a8"
             ],
             [
              0.3333333333333333,
              "#9c179e"
             ],
             [
              0.4444444444444444,
              "#bd3786"
             ],
             [
              0.5555555555555556,
              "#d8576b"
             ],
             [
              0.6666666666666666,
              "#ed7953"
             ],
             [
              0.7777777777777778,
              "#fb9f3a"
             ],
             [
              0.8888888888888888,
              "#fdca26"
             ],
             [
              1,
              "#f0f921"
             ]
            ],
            "type": "surface"
           }
          ],
          "table": [
           {
            "cells": {
             "fill": {
              "color": "#EBF0F8"
             },
             "line": {
              "color": "white"
             }
            },
            "header": {
             "fill": {
              "color": "#C8D4E3"
             },
             "line": {
              "color": "white"
             }
            },
            "type": "table"
           }
          ]
         },
         "layout": {
          "annotationdefaults": {
           "arrowcolor": "#2a3f5f",
           "arrowhead": 0,
           "arrowwidth": 1
          },
          "autotypenumbers": "strict",
          "coloraxis": {
           "colorbar": {
            "outlinewidth": 0,
            "ticks": ""
           }
          },
          "colorscale": {
           "diverging": [
            [
             0,
             "#8e0152"
            ],
            [
             0.1,
             "#c51b7d"
            ],
            [
             0.2,
             "#de77ae"
            ],
            [
             0.3,
             "#f1b6da"
            ],
            [
             0.4,
             "#fde0ef"
            ],
            [
             0.5,
             "#f7f7f7"
            ],
            [
             0.6,
             "#e6f5d0"
            ],
            [
             0.7,
             "#b8e186"
            ],
            [
             0.8,
             "#7fbc41"
            ],
            [
             0.9,
             "#4d9221"
            ],
            [
             1,
             "#276419"
            ]
           ],
           "sequential": [
            [
             0,
             "#0d0887"
            ],
            [
             0.1111111111111111,
             "#46039f"
            ],
            [
             0.2222222222222222,
             "#7201a8"
            ],
            [
             0.3333333333333333,
             "#9c179e"
            ],
            [
             0.4444444444444444,
             "#bd3786"
            ],
            [
             0.5555555555555556,
             "#d8576b"
            ],
            [
             0.6666666666666666,
             "#ed7953"
            ],
            [
             0.7777777777777778,
             "#fb9f3a"
            ],
            [
             0.8888888888888888,
             "#fdca26"
            ],
            [
             1,
             "#f0f921"
            ]
           ],
           "sequentialminus": [
            [
             0,
             "#0d0887"
            ],
            [
             0.1111111111111111,
             "#46039f"
            ],
            [
             0.2222222222222222,
             "#7201a8"
            ],
            [
             0.3333333333333333,
             "#9c179e"
            ],
            [
             0.4444444444444444,
             "#bd3786"
            ],
            [
             0.5555555555555556,
             "#d8576b"
            ],
            [
             0.6666666666666666,
             "#ed7953"
            ],
            [
             0.7777777777777778,
             "#fb9f3a"
            ],
            [
             0.8888888888888888,
             "#fdca26"
            ],
            [
             1,
             "#f0f921"
            ]
           ]
          },
          "colorway": [
           "#636efa",
           "#EF553B",
           "#00cc96",
           "#ab63fa",
           "#FFA15A",
           "#19d3f3",
           "#FF6692",
           "#B6E880",
           "#FF97FF",
           "#FECB52"
          ],
          "font": {
           "color": "#2a3f5f"
          },
          "geo": {
           "bgcolor": "white",
           "lakecolor": "white",
           "landcolor": "#E5ECF6",
           "showlakes": true,
           "showland": true,
           "subunitcolor": "white"
          },
          "hoverlabel": {
           "align": "left"
          },
          "hovermode": "closest",
          "mapbox": {
           "style": "light"
          },
          "paper_bgcolor": "white",
          "plot_bgcolor": "#E5ECF6",
          "polar": {
           "angularaxis": {
            "gridcolor": "white",
            "linecolor": "white",
            "ticks": ""
           },
           "bgcolor": "#E5ECF6",
           "radialaxis": {
            "gridcolor": "white",
            "linecolor": "white",
            "ticks": ""
           }
          },
          "scene": {
           "xaxis": {
            "backgroundcolor": "#E5ECF6",
            "gridcolor": "white",
            "gridwidth": 2,
            "linecolor": "white",
            "showbackground": true,
            "ticks": "",
            "zerolinecolor": "white"
           },
           "yaxis": {
            "backgroundcolor": "#E5ECF6",
            "gridcolor": "white",
            "gridwidth": 2,
            "linecolor": "white",
            "showbackground": true,
            "ticks": "",
            "zerolinecolor": "white"
           },
           "zaxis": {
            "backgroundcolor": "#E5ECF6",
            "gridcolor": "white",
            "gridwidth": 2,
            "linecolor": "white",
            "showbackground": true,
            "ticks": "",
            "zerolinecolor": "white"
           }
          },
          "shapedefaults": {
           "line": {
            "color": "#2a3f5f"
           }
          },
          "ternary": {
           "aaxis": {
            "gridcolor": "white",
            "linecolor": "white",
            "ticks": ""
           },
           "baxis": {
            "gridcolor": "white",
            "linecolor": "white",
            "ticks": ""
           },
           "bgcolor": "#E5ECF6",
           "caxis": {
            "gridcolor": "white",
            "linecolor": "white",
            "ticks": ""
           }
          },
          "title": {
           "x": 0.05
          },
          "xaxis": {
           "automargin": true,
           "gridcolor": "white",
           "linecolor": "white",
           "ticks": "",
           "title": {
            "standoff": 15
           },
           "zerolinecolor": "white",
           "zerolinewidth": 2
          },
          "yaxis": {
           "automargin": true,
           "gridcolor": "white",
           "linecolor": "white",
           "ticks": "",
           "title": {
            "standoff": 15
           },
           "zerolinecolor": "white",
           "zerolinewidth": 2
          }
         }
        },
        "title": {
         "text": "Number of Values in Each Category of the Cleaned Dataset"
        },
        "xaxis": {
         "title": {
          "text": "Dataset Columns"
         }
        },
        "yaxis": {
         "title": {
          "text": "Number of Values"
         }
        }
       }
      }
     },
     "metadata": {},
     "output_type": "display_data"
    }
   ],
   "source": [
    "value_count_per_column = df_char_cleaned.notnull().sum()\n",
    "\n",
    "# Define the data\n",
    "data = go.Bar(\n",
    "    x=df_char_cleaned_column.columns,  \n",
    "    y=value_count_per_column.values,  \n",
    "    marker=dict(\n",
    "        color='skyblue' \n",
    "    ),\n",
    "    text=[f\"{count}\" for count in value_count_per_column.values], \n",
    "    hoverinfo='text',  \n",
    "    textposition='none'  \n",
    ")\n",
    "\n",
    "# Create the layout\n",
    "layout = go.Layout(\n",
    "    title='Number of Values in Each Category of the Cleaned Dataset',  \n",
    "    xaxis=dict(title='Dataset Columns'),  \n",
    "    yaxis=dict(title='Number of Values'),  \n",
    "    barmode='group'  \n",
    "\n",
    ")\n",
    "\n",
    "fig = go.Figure(data=[data], layout=layout)\n",
    "\n",
    "# Plot the graph\n",
    "fig.show()"
   ]
  },
  {
   "cell_type": "markdown",
   "metadata": {},
   "source": [
    "We observe that the dataset contains 160,432 entries. Some values are missing in the columns Gender, Actor Age, and Release Date."
   ]
  },
  {
   "cell_type": "code",
   "execution_count": 40,
   "metadata": {},
   "outputs": [
    {
     "data": {
      "text/html": [
       "<div>\n",
       "<style scoped>\n",
       "    .dataframe tbody tr th:only-of-type {\n",
       "        vertical-align: middle;\n",
       "    }\n",
       "\n",
       "    .dataframe tbody tr th {\n",
       "        vertical-align: top;\n",
       "    }\n",
       "\n",
       "    .dataframe thead th {\n",
       "        text-align: right;\n",
       "    }\n",
       "</style>\n",
       "<table border=\"1\" class=\"dataframe\">\n",
       "  <thead>\n",
       "    <tr style=\"text-align: right;\">\n",
       "      <th></th>\n",
       "      <th>Category</th>\n",
       "      <th>Count</th>\n",
       "    </tr>\n",
       "  </thead>\n",
       "  <tbody>\n",
       "    <tr>\n",
       "      <th>0</th>\n",
       "      <td>Total Character Names</td>\n",
       "      <td>160432</td>\n",
       "    </tr>\n",
       "    <tr>\n",
       "      <th>1</th>\n",
       "      <td>Unique Character Names</td>\n",
       "      <td>38401</td>\n",
       "    </tr>\n",
       "    <tr>\n",
       "      <th>2</th>\n",
       "      <td>Unique Movies</td>\n",
       "      <td>31103</td>\n",
       "    </tr>\n",
       "  </tbody>\n",
       "</table>\n",
       "</div>"
      ],
      "text/plain": [
       "                 Category   Count\n",
       "0   Total Character Names  160432\n",
       "1  Unique Character Names   38401\n",
       "2           Unique Movies   31103"
      ]
     },
     "execution_count": 40,
     "metadata": {},
     "output_type": "execute_result"
    }
   ],
   "source": [
    "total_count = len(df_char_cleaned['Character_name'])\n",
    "name_count = df_char_cleaned['Character_name'].nunique()\n",
    "movie_count = df_char_cleaned['Wikipedia_ID'].nunique()\n",
    "\n",
    "summary_df = pd.DataFrame({\n",
    "    'Category': ['Total Character Names','Unique Character Names', 'Unique Movies'],\n",
    "    'Count': [total_count, name_count, movie_count]\n",
    "})\n",
    "\n",
    "summary_df.head()"
   ]
  },
  {
   "cell_type": "code",
   "execution_count": 41,
   "metadata": {},
   "outputs": [
    {
     "data": {
      "application/vnd.plotly.v1+json": {
       "config": {
        "plotlyServerURL": "https://plot.ly"
       },
       "data": [
        {
         "hoverinfo": "text",
         "hovertext": [
          "Total count: 98027<br>Top names: John, George, Tom"
         ],
         "marker": {
          "color": "skyblue"
         },
         "name": "Male",
         "type": "bar",
         "x": [
          "Male"
         ],
         "y": [
          98027
         ]
        },
        {
         "hoverinfo": "text",
         "hovertext": [
          "Total count: 56821<br>Top names: Sarah, Mary, Alice"
         ],
         "marker": {
          "color": "salmon"
         },
         "name": "Female",
         "type": "bar",
         "x": [
          "Female"
         ],
         "y": [
          56821
         ]
        }
       ],
       "layout": {
        "legend": {
         "title": {
          "text": "Gender"
         }
        },
        "template": {
         "data": {
          "bar": [
           {
            "error_x": {
             "color": "#2a3f5f"
            },
            "error_y": {
             "color": "#2a3f5f"
            },
            "marker": {
             "line": {
              "color": "#E5ECF6",
              "width": 0.5
             },
             "pattern": {
              "fillmode": "overlay",
              "size": 10,
              "solidity": 0.2
             }
            },
            "type": "bar"
           }
          ],
          "barpolar": [
           {
            "marker": {
             "line": {
              "color": "#E5ECF6",
              "width": 0.5
             },
             "pattern": {
              "fillmode": "overlay",
              "size": 10,
              "solidity": 0.2
             }
            },
            "type": "barpolar"
           }
          ],
          "carpet": [
           {
            "aaxis": {
             "endlinecolor": "#2a3f5f",
             "gridcolor": "white",
             "linecolor": "white",
             "minorgridcolor": "white",
             "startlinecolor": "#2a3f5f"
            },
            "baxis": {
             "endlinecolor": "#2a3f5f",
             "gridcolor": "white",
             "linecolor": "white",
             "minorgridcolor": "white",
             "startlinecolor": "#2a3f5f"
            },
            "type": "carpet"
           }
          ],
          "choropleth": [
           {
            "colorbar": {
             "outlinewidth": 0,
             "ticks": ""
            },
            "type": "choropleth"
           }
          ],
          "contour": [
           {
            "colorbar": {
             "outlinewidth": 0,
             "ticks": ""
            },
            "colorscale": [
             [
              0,
              "#0d0887"
             ],
             [
              0.1111111111111111,
              "#46039f"
             ],
             [
              0.2222222222222222,
              "#7201a8"
             ],
             [
              0.3333333333333333,
              "#9c179e"
             ],
             [
              0.4444444444444444,
              "#bd3786"
             ],
             [
              0.5555555555555556,
              "#d8576b"
             ],
             [
              0.6666666666666666,
              "#ed7953"
             ],
             [
              0.7777777777777778,
              "#fb9f3a"
             ],
             [
              0.8888888888888888,
              "#fdca26"
             ],
             [
              1,
              "#f0f921"
             ]
            ],
            "type": "contour"
           }
          ],
          "contourcarpet": [
           {
            "colorbar": {
             "outlinewidth": 0,
             "ticks": ""
            },
            "type": "contourcarpet"
           }
          ],
          "heatmap": [
           {
            "colorbar": {
             "outlinewidth": 0,
             "ticks": ""
            },
            "colorscale": [
             [
              0,
              "#0d0887"
             ],
             [
              0.1111111111111111,
              "#46039f"
             ],
             [
              0.2222222222222222,
              "#7201a8"
             ],
             [
              0.3333333333333333,
              "#9c179e"
             ],
             [
              0.4444444444444444,
              "#bd3786"
             ],
             [
              0.5555555555555556,
              "#d8576b"
             ],
             [
              0.6666666666666666,
              "#ed7953"
             ],
             [
              0.7777777777777778,
              "#fb9f3a"
             ],
             [
              0.8888888888888888,
              "#fdca26"
             ],
             [
              1,
              "#f0f921"
             ]
            ],
            "type": "heatmap"
           }
          ],
          "heatmapgl": [
           {
            "colorbar": {
             "outlinewidth": 0,
             "ticks": ""
            },
            "colorscale": [
             [
              0,
              "#0d0887"
             ],
             [
              0.1111111111111111,
              "#46039f"
             ],
             [
              0.2222222222222222,
              "#7201a8"
             ],
             [
              0.3333333333333333,
              "#9c179e"
             ],
             [
              0.4444444444444444,
              "#bd3786"
             ],
             [
              0.5555555555555556,
              "#d8576b"
             ],
             [
              0.6666666666666666,
              "#ed7953"
             ],
             [
              0.7777777777777778,
              "#fb9f3a"
             ],
             [
              0.8888888888888888,
              "#fdca26"
             ],
             [
              1,
              "#f0f921"
             ]
            ],
            "type": "heatmapgl"
           }
          ],
          "histogram": [
           {
            "marker": {
             "pattern": {
              "fillmode": "overlay",
              "size": 10,
              "solidity": 0.2
             }
            },
            "type": "histogram"
           }
          ],
          "histogram2d": [
           {
            "colorbar": {
             "outlinewidth": 0,
             "ticks": ""
            },
            "colorscale": [
             [
              0,
              "#0d0887"
             ],
             [
              0.1111111111111111,
              "#46039f"
             ],
             [
              0.2222222222222222,
              "#7201a8"
             ],
             [
              0.3333333333333333,
              "#9c179e"
             ],
             [
              0.4444444444444444,
              "#bd3786"
             ],
             [
              0.5555555555555556,
              "#d8576b"
             ],
             [
              0.6666666666666666,
              "#ed7953"
             ],
             [
              0.7777777777777778,
              "#fb9f3a"
             ],
             [
              0.8888888888888888,
              "#fdca26"
             ],
             [
              1,
              "#f0f921"
             ]
            ],
            "type": "histogram2d"
           }
          ],
          "histogram2dcontour": [
           {
            "colorbar": {
             "outlinewidth": 0,
             "ticks": ""
            },
            "colorscale": [
             [
              0,
              "#0d0887"
             ],
             [
              0.1111111111111111,
              "#46039f"
             ],
             [
              0.2222222222222222,
              "#7201a8"
             ],
             [
              0.3333333333333333,
              "#9c179e"
             ],
             [
              0.4444444444444444,
              "#bd3786"
             ],
             [
              0.5555555555555556,
              "#d8576b"
             ],
             [
              0.6666666666666666,
              "#ed7953"
             ],
             [
              0.7777777777777778,
              "#fb9f3a"
             ],
             [
              0.8888888888888888,
              "#fdca26"
             ],
             [
              1,
              "#f0f921"
             ]
            ],
            "type": "histogram2dcontour"
           }
          ],
          "mesh3d": [
           {
            "colorbar": {
             "outlinewidth": 0,
             "ticks": ""
            },
            "type": "mesh3d"
           }
          ],
          "parcoords": [
           {
            "line": {
             "colorbar": {
              "outlinewidth": 0,
              "ticks": ""
             }
            },
            "type": "parcoords"
           }
          ],
          "pie": [
           {
            "automargin": true,
            "type": "pie"
           }
          ],
          "scatter": [
           {
            "fillpattern": {
             "fillmode": "overlay",
             "size": 10,
             "solidity": 0.2
            },
            "type": "scatter"
           }
          ],
          "scatter3d": [
           {
            "line": {
             "colorbar": {
              "outlinewidth": 0,
              "ticks": ""
             }
            },
            "marker": {
             "colorbar": {
              "outlinewidth": 0,
              "ticks": ""
             }
            },
            "type": "scatter3d"
           }
          ],
          "scattercarpet": [
           {
            "marker": {
             "colorbar": {
              "outlinewidth": 0,
              "ticks": ""
             }
            },
            "type": "scattercarpet"
           }
          ],
          "scattergeo": [
           {
            "marker": {
             "colorbar": {
              "outlinewidth": 0,
              "ticks": ""
             }
            },
            "type": "scattergeo"
           }
          ],
          "scattergl": [
           {
            "marker": {
             "colorbar": {
              "outlinewidth": 0,
              "ticks": ""
             }
            },
            "type": "scattergl"
           }
          ],
          "scattermapbox": [
           {
            "marker": {
             "colorbar": {
              "outlinewidth": 0,
              "ticks": ""
             }
            },
            "type": "scattermapbox"
           }
          ],
          "scatterpolar": [
           {
            "marker": {
             "colorbar": {
              "outlinewidth": 0,
              "ticks": ""
             }
            },
            "type": "scatterpolar"
           }
          ],
          "scatterpolargl": [
           {
            "marker": {
             "colorbar": {
              "outlinewidth": 0,
              "ticks": ""
             }
            },
            "type": "scatterpolargl"
           }
          ],
          "scatterternary": [
           {
            "marker": {
             "colorbar": {
              "outlinewidth": 0,
              "ticks": ""
             }
            },
            "type": "scatterternary"
           }
          ],
          "surface": [
           {
            "colorbar": {
             "outlinewidth": 0,
             "ticks": ""
            },
            "colorscale": [
             [
              0,
              "#0d0887"
             ],
             [
              0.1111111111111111,
              "#46039f"
             ],
             [
              0.2222222222222222,
              "#7201a8"
             ],
             [
              0.3333333333333333,
              "#9c179e"
             ],
             [
              0.4444444444444444,
              "#bd3786"
             ],
             [
              0.5555555555555556,
              "#d8576b"
             ],
             [
              0.6666666666666666,
              "#ed7953"
             ],
             [
              0.7777777777777778,
              "#fb9f3a"
             ],
             [
              0.8888888888888888,
              "#fdca26"
             ],
             [
              1,
              "#f0f921"
             ]
            ],
            "type": "surface"
           }
          ],
          "table": [
           {
            "cells": {
             "fill": {
              "color": "#EBF0F8"
             },
             "line": {
              "color": "white"
             }
            },
            "header": {
             "fill": {
              "color": "#C8D4E3"
             },
             "line": {
              "color": "white"
             }
            },
            "type": "table"
           }
          ]
         },
         "layout": {
          "annotationdefaults": {
           "arrowcolor": "#2a3f5f",
           "arrowhead": 0,
           "arrowwidth": 1
          },
          "autotypenumbers": "strict",
          "coloraxis": {
           "colorbar": {
            "outlinewidth": 0,
            "ticks": ""
           }
          },
          "colorscale": {
           "diverging": [
            [
             0,
             "#8e0152"
            ],
            [
             0.1,
             "#c51b7d"
            ],
            [
             0.2,
             "#de77ae"
            ],
            [
             0.3,
             "#f1b6da"
            ],
            [
             0.4,
             "#fde0ef"
            ],
            [
             0.5,
             "#f7f7f7"
            ],
            [
             0.6,
             "#e6f5d0"
            ],
            [
             0.7,
             "#b8e186"
            ],
            [
             0.8,
             "#7fbc41"
            ],
            [
             0.9,
             "#4d9221"
            ],
            [
             1,
             "#276419"
            ]
           ],
           "sequential": [
            [
             0,
             "#0d0887"
            ],
            [
             0.1111111111111111,
             "#46039f"
            ],
            [
             0.2222222222222222,
             "#7201a8"
            ],
            [
             0.3333333333333333,
             "#9c179e"
            ],
            [
             0.4444444444444444,
             "#bd3786"
            ],
            [
             0.5555555555555556,
             "#d8576b"
            ],
            [
             0.6666666666666666,
             "#ed7953"
            ],
            [
             0.7777777777777778,
             "#fb9f3a"
            ],
            [
             0.8888888888888888,
             "#fdca26"
            ],
            [
             1,
             "#f0f921"
            ]
           ],
           "sequentialminus": [
            [
             0,
             "#0d0887"
            ],
            [
             0.1111111111111111,
             "#46039f"
            ],
            [
             0.2222222222222222,
             "#7201a8"
            ],
            [
             0.3333333333333333,
             "#9c179e"
            ],
            [
             0.4444444444444444,
             "#bd3786"
            ],
            [
             0.5555555555555556,
             "#d8576b"
            ],
            [
             0.6666666666666666,
             "#ed7953"
            ],
            [
             0.7777777777777778,
             "#fb9f3a"
            ],
            [
             0.8888888888888888,
             "#fdca26"
            ],
            [
             1,
             "#f0f921"
            ]
           ]
          },
          "colorway": [
           "#636efa",
           "#EF553B",
           "#00cc96",
           "#ab63fa",
           "#FFA15A",
           "#19d3f3",
           "#FF6692",
           "#B6E880",
           "#FF97FF",
           "#FECB52"
          ],
          "font": {
           "color": "#2a3f5f"
          },
          "geo": {
           "bgcolor": "white",
           "lakecolor": "white",
           "landcolor": "#E5ECF6",
           "showlakes": true,
           "showland": true,
           "subunitcolor": "white"
          },
          "hoverlabel": {
           "align": "left"
          },
          "hovermode": "closest",
          "mapbox": {
           "style": "light"
          },
          "paper_bgcolor": "white",
          "plot_bgcolor": "#E5ECF6",
          "polar": {
           "angularaxis": {
            "gridcolor": "white",
            "linecolor": "white",
            "ticks": ""
           },
           "bgcolor": "#E5ECF6",
           "radialaxis": {
            "gridcolor": "white",
            "linecolor": "white",
            "ticks": ""
           }
          },
          "scene": {
           "xaxis": {
            "backgroundcolor": "#E5ECF6",
            "gridcolor": "white",
            "gridwidth": 2,
            "linecolor": "white",
            "showbackground": true,
            "ticks": "",
            "zerolinecolor": "white"
           },
           "yaxis": {
            "backgroundcolor": "#E5ECF6",
            "gridcolor": "white",
            "gridwidth": 2,
            "linecolor": "white",
            "showbackground": true,
            "ticks": "",
            "zerolinecolor": "white"
           },
           "zaxis": {
            "backgroundcolor": "#E5ECF6",
            "gridcolor": "white",
            "gridwidth": 2,
            "linecolor": "white",
            "showbackground": true,
            "ticks": "",
            "zerolinecolor": "white"
           }
          },
          "shapedefaults": {
           "line": {
            "color": "#2a3f5f"
           }
          },
          "ternary": {
           "aaxis": {
            "gridcolor": "white",
            "linecolor": "white",
            "ticks": ""
           },
           "baxis": {
            "gridcolor": "white",
            "linecolor": "white",
            "ticks": ""
           },
           "bgcolor": "#E5ECF6",
           "caxis": {
            "gridcolor": "white",
            "linecolor": "white",
            "ticks": ""
           }
          },
          "title": {
           "x": 0.05
          },
          "xaxis": {
           "automargin": true,
           "gridcolor": "white",
           "linecolor": "white",
           "ticks": "",
           "title": {
            "standoff": 15
           },
           "zerolinecolor": "white",
           "zerolinewidth": 2
          },
          "yaxis": {
           "automargin": true,
           "gridcolor": "white",
           "linecolor": "white",
           "ticks": "",
           "title": {
            "standoff": 15
           },
           "zerolinecolor": "white",
           "zerolinewidth": 2
          }
         }
        },
        "title": {
         "text": "Total Names Count by Gender with Top 3 Names"
        },
        "xaxis": {
         "tickangle": 0,
         "title": {
          "text": "Gender"
         }
        },
        "yaxis": {
         "title": {
          "text": "Total Names Count"
         }
        }
       }
      }
     },
     "metadata": {},
     "output_type": "display_data"
    }
   ],
   "source": [
    "plot_sex_distribution_with_top_names(df_char_cleaned)"
   ]
  },
  {
   "cell_type": "code",
   "execution_count": 42,
   "metadata": {},
   "outputs": [
    {
     "data": {
      "text/html": [
       "<div>\n",
       "<style scoped>\n",
       "    .dataframe tbody tr th:only-of-type {\n",
       "        vertical-align: middle;\n",
       "    }\n",
       "\n",
       "    .dataframe tbody tr th {\n",
       "        vertical-align: top;\n",
       "    }\n",
       "\n",
       "    .dataframe thead th {\n",
       "        text-align: right;\n",
       "    }\n",
       "</style>\n",
       "<table border=\"1\" class=\"dataframe\">\n",
       "  <thead>\n",
       "    <tr style=\"text-align: right;\">\n",
       "      <th></th>\n",
       "      <th>Gender</th>\n",
       "      <th>Distribution (%)</th>\n",
       "    </tr>\n",
       "  </thead>\n",
       "  <tbody>\n",
       "    <tr>\n",
       "      <th>0</th>\n",
       "      <td>F</td>\n",
       "      <td>36.694694</td>\n",
       "    </tr>\n",
       "    <tr>\n",
       "      <th>1</th>\n",
       "      <td>M</td>\n",
       "      <td>63.305306</td>\n",
       "    </tr>\n",
       "  </tbody>\n",
       "</table>\n",
       "</div>"
      ],
      "text/plain": [
       "  Gender  Distribution (%)\n",
       "0      F         36.694694\n",
       "1      M         63.305306"
      ]
     },
     "execution_count": 42,
     "metadata": {},
     "output_type": "execute_result"
    }
   ],
   "source": [
    "# Create a df with the name count per gender\n",
    "df_count_gender = df_char_cleaned.groupby('Sex')['Character_name'].count()\n",
    "\n",
    "# Create a df that show the distribution \n",
    "summary_df = pd.DataFrame({\n",
    "    'Gender': df_count_gender.index,\n",
    "    'Distribution (%)': df_count_gender.values/value_count_per_column['Sex']*100\n",
    "})\n",
    "\n",
    "summary_df.head()"
   ]
  },
  {
   "cell_type": "markdown",
   "metadata": {},
   "source": [
    "The dataset shows a slight imbalance between genders, with about half as many female entries as male. However, since there is still a substantial amount of data, this imbalance is unlikely to significantly impact the results. \n",
    "\n",
    "Additionally, according to a 2022 study by the Center for the Study of Women in Television and Film at San Diego State University, 34 % of leading characters in the top 100 popular films were women, compared to 66 % men. This supports the dataset's gender distribution as representative of broader industry trends."
   ]
  },
  {
   "cell_type": "code",
   "execution_count": 43,
   "metadata": {},
   "outputs": [
    {
     "data": {
      "application/vnd.plotly.v1+json": {
       "config": {
        "plotlyServerURL": "https://plot.ly"
       },
       "data": [
        {
         "hoverinfo": "text",
         "hovertext": [
          "Name: John<br>Count: 1305",
          "Name: George<br>Count: 621",
          "Name: Tom<br>Count: 591",
          "Name: David<br>Count: 567",
          "Name: Paul<br>Count: 531",
          "Name: James<br>Count: 513",
          "Name: Michael<br>Count: 505",
          "Name: Robert<br>Count: 451",
          "Name: Jack<br>Count: 440",
          "Name: Jim<br>Count: 428",
          "Name: Charlie<br>Count: 422",
          "Name: Richard<br>Count: 401",
          "Name: Charles<br>Count: 396",
          "Name: William<br>Count: 384",
          "Name: Sarah<br>Count: 371",
          "Name: Mary<br>Count: 338",
          "Name: Joe<br>Count: 336",
          "Name: Thomas<br>Count: 331",
          "Name: Steve<br>Count: 317",
          "Name: Frank<br>Count: 314",
          "Name: Eddie<br>Count: 307",
          "Name: Alex<br>Count: 305",
          "Name: Max<br>Count: 300",
          "Name: Helen<br>Count: 294",
          "Name: Alice<br>Count: 292",
          "Name: Sam<br>Count: 285",
          "Name: Susan<br>Count: 283",
          "Name: Johnny<br>Count: 280",
          "Name: Kate<br>Count: 268",
          "Name: Danny<br>Count: 262",
          "Name: Julie<br>Count: 260",
          "Name: Arthur<br>Count: 259",
          "Name: Elizabeth<br>Count: 259",
          "Name: Peter<br>Count: 252",
          "Name: Rachel<br>Count: 248",
          "Name: Harry<br>Count: 243",
          "Name: Bob<br>Count: 239",
          "Name: Mike<br>Count: 236",
          "Name: Dave<br>Count: 229",
          "Name: Lisa<br>Count: 229",
          "Name: Chris<br>Count: 229",
          "Name: Jimmy<br>Count: 225",
          "Name: Simon<br>Count: 220",
          "Name: Billy<br>Count: 218",
          "Name: Bill<br>Count: 214",
          "Name: Joseph<br>Count: 213",
          "Name: Anna<br>Count: 211",
          "Name: Daniel<br>Count: 207",
          "Name: Ben<br>Count: 206",
          "Name: Claire<br>Count: 205",
          "Name: Barbara<br>Count: 204",
          "Name: Karen<br>Count: 203",
          "Name: Jason<br>Count: 201",
          "Name: Kevin<br>Count: 201",
          "Name: Tony<br>Count: 200",
          "Name: Fred<br>Count: 199",
          "Name: Marie<br>Count: 199",
          "Name: Linda<br>Count: 197",
          "Name: Annie<br>Count: 196",
          "Name: Brian<br>Count: 196",
          "Name: Anne<br>Count: 196",
          "Name: Ed<br>Count: 194",
          "Name: Maria<br>Count: 193",
          "Name: Phil<br>Count: 192",
          "Name: Adam<br>Count: 191",
          "Name: Henry<br>Count: 191",
          "Name: Maggie<br>Count: 191",
          "Name: Andy<br>Count: 186",
          "Name: Margaret<br>Count: 184",
          "Name: Guy<br>Count: 184",
          "Name: Emily<br>Count: 182",
          "Name: Jones<br>Count: 176",
          "Name: Tim<br>Count: 174",
          "Name: Roy<br>Count: 174",
          "Name: Moe<br>Count: 174",
          "Name: Matt<br>Count: 173",
          "Name: Scott<br>Count: 167",
          "Name: Edward<br>Count: 167",
          "Name: Louis<br>Count: 167",
          "Name: Howard<br>Count: 165",
          "Name: Jane<br>Count: 164",
          "Name: Nick<br>Count: 164",
          "Name: Bobby<br>Count: 159",
          "Name: Mark<br>Count: 158",
          "Name: Kim<br>Count: 156",
          "Name: Jennifer<br>Count: 154",
          "Name: Laura<br>Count: 153",
          "Name: Ellen<br>Count: 152",
          "Name: Martin<br>Count: 152",
          "Name: Sara<br>Count: 151",
          "Name: Tommy<br>Count: 150",
          "Name: Angela<br>Count: 149",
          "Name: Johnson<br>Count: 148",
          "Name: Mickey<br>Count: 147",
          "Name: Charlotte<br>Count: 147",
          "Name: Lee<br>Count: 147",
          "Name: Martha<br>Count: 146",
          "Name: Vijay<br>Count: 146",
          "Name: Julia<br>Count: 146",
          "Name: Philip<br>Count: 145",
          "Name: Ryan<br>Count: 143",
          "Name: Jerry<br>Count: 143",
          "Name: Louise<br>Count: 143",
          "Name: Amy<br>Count: 142",
          "Name: Andrew<br>Count: 141",
          "Name: Lucy<br>Count: 140",
          "Name: Gloria<br>Count: 140",
          "Name: Albert<br>Count: 139",
          "Name: Pete<br>Count: 138",
          "Name: Jake<br>Count: 137",
          "Name: Wilson<br>Count: 137",
          "Name: Samantha<br>Count: 136",
          "Name: Jessica<br>Count: 136",
          "Name: Gary<br>Count: 134",
          "Name: Harold<br>Count: 133",
          "Name: Amanda<br>Count: 133",
          "Name: Taylor<br>Count: 133",
          "Name: Catherine<br>Count: 132",
          "Name: Kelly<br>Count: 132",
          "Name: Dan<br>Count: 131",
          "Name: Jonathan<br>Count: 131",
          "Name: Diane<br>Count: 131",
          "Name: Kid<br>Count: 129",
          "Name: Anthony<br>Count: 128",
          "Name: Jenny<br>Count: 128",
          "Name: Ray<br>Count: 128",
          "Name: Tina<br>Count: 127",
          "Name: Lou<br>Count: 127",
          "Name: Larry<br>Count: 126",
          "Name: Bugs<br>Count: 125",
          "Name: Rose<br>Count: 122",
          "Name: Jackson<br>Count: 122",
          "Name: Alexander<br>Count: 121",
          "Name: Sean<br>Count: 121",
          "Name: Gordon<br>Count: 121",
          "Name: Red<br>Count: 121",
          "Name: Leo<br>Count: 120",
          "Name: Sophie<br>Count: 119",
          "Name: Karl<br>Count: 119",
          "Name: Walter<br>Count: 118",
          "Name: Dennis<br>Count: 118",
          "Name: Sergeant<br>Count: 118",
          "Name: Betty<br>Count: 117",
          "Name: Jackie<br>Count: 117",
          "Name: Donald<br>Count: 116",
          "Name: Patrick<br>Count: 116",
          "Name: Carol<br>Count: 116",
          "Name: Rebecca<br>Count: 116",
          "Name: Katie<br>Count: 116",
          "Name: Sally<br>Count: 115",
          "Name: Priya<br>Count: 115",
          "Name: Wendy<br>Count: 114",
          "Name: Jill<br>Count: 114",
          "Name: Frankie<br>Count: 113",
          "Name: Joan<br>Count: 113",
          "Name: Stephen<br>Count: 112",
          "Name: Marty<br>Count: 112",
          "Name: Stanley<br>Count: 112",
          "Name: Francis<br>Count: 112",
          "Name: Ravi<br>Count: 112",
          "Name: Nicole<br>Count: 111",
          "Name: Nina<br>Count: 111",
          "Name: Judy<br>Count: 111",
          "Name: Eva<br>Count: 111",
          "Name: Doug<br>Count: 111",
          "Name: Carl<br>Count: 111",
          "Name: Carlos<br>Count: 110",
          "Name: Christine<br>Count: 110",
          "Name: Roger<br>Count: 109",
          "Name: Norman<br>Count: 108",
          "Name: Williams<br>Count: 106",
          "Name: Raymond<br>Count: 105",
          "Name: Terry<br>Count: 105",
          "Name: Connie<br>Count: 105",
          "Name: Radha<br>Count: 105",
          "Name: Grace<br>Count: 105",
          "Name: Oliver<br>Count: 104",
          "Name: Marcus<br>Count: 104",
          "Name: Ron<br>Count: 104",
          "Name: King<br>Count: 104",
          "Name: Samuel<br>Count: 103",
          "Name: Jacob<br>Count: 102",
          "Name: Stan<br>Count: 102",
          "Name: Michelle<br>Count: 102",
          "Name: Gus<br>Count: 102",
          "Name: Eric<br>Count: 101",
          "Name: Diana<br>Count: 101",
          "Name: Pooja<br>Count: 101",
          "Name: Pierre<br>Count: 101",
          "Name: Davis<br>Count: 101",
          "Name: Matthew<br>Count: 101",
          "Name: Nancy<br>Count: 100",
          "Name: Monica<br>Count: 100",
          "Name: Vikram<br>Count: 99",
          "Name: Rita<br>Count: 99",
          "Name: Sonia<br>Count: 99",
          "Name: Ivan<br>Count: 98",
          "Name: Molly<br>Count: 98",
          "Name: Cindy<br>Count: 98",
          "Name: Russell<br>Count: 97",
          "Name: Jamie<br>Count: 96",
          "Name: Katherine<br>Count: 96",
          "Name: Gina<br>Count: 96",
          "Name: Janet<br>Count: 96",
          "Name: Greg<br>Count: 95",
          "Name: Todd<br>Count: 95",
          "Name: Beth<br>Count: 95",
          "Name: Lily<br>Count: 95",
          "Name: Bruce<br>Count: 95",
          "Name: Dorothy<br>Count: 94",
          "Name: Jesse<br>Count: 94",
          "Name: Juan<br>Count: 94",
          "Name: Sharon<br>Count: 93",
          "Name: Ted<br>Count: 93",
          "Name: Nora<br>Count: 93",
          "Name: Christopher<br>Count: 92",
          "Name: Hannah<br>Count: 92",
          "Name: Liz<br>Count: 92",
          "Name: Jan<br>Count: 92",
          "Name: Leslie<br>Count: 92",
          "Name: Waiter<br>Count: 92",
          "Name: Lawrence<br>Count: 92",
          "Name: Victoria<br>Count: 91",
          "Name: Ajay<br>Count: 91",
          "Name: Carla<br>Count: 90",
          "Name: Ali<br>Count: 90",
          "Name: Debbie<br>Count: 89",
          "Name: Derek<br>Count: 89",
          "Name: Jeff<br>Count: 89",
          "Name: Sandra<br>Count: 88",
          "Name: Neil<br>Count: 88",
          "Name: Tracy<br>Count: 88",
          "Name: Anjali<br>Count: 88",
          "Name: Jean<br>Count: 87",
          "Name: Emma<br>Count: 87",
          "Name: Harris<br>Count: 87",
          "Name: Tanya<br>Count: 87",
          "Name: Miles<br>Count: 87",
          "Name: Sylvia<br>Count: 87",
          "Name: Felix<br>Count: 86",
          "Name: Smith<br>Count: 86",
          "Name: Wayne<br>Count: 86",
          "Name: Luke<br>Count: 85",
          "Name: Gwen<br>Count: 85",
          "Name: Buddy<br>Count: 85",
          "Name: Daffy<br>Count: 84",
          "Name: Lola<br>Count: 84",
          "Name: Paula<br>Count: 84",
          "Name: Anita<br>Count: 84",
          "Name: Don<br>Count: 84",
          "Name: Stephanie<br>Count: 83",
          "Name: Kenny<br>Count: 83",
          "Name: Nicholas<br>Count: 83",
          "Name: Douglas<br>Count: 83",
          "Name: Cynthia<br>Count: 83",
          "Name: Sheila<br>Count: 83",
          "Name: Harvey<br>Count: 83",
          "Name: Bernard<br>Count: 82",
          "Name: Nathan<br>Count: 82",
          "Name: Victor<br>Count: 82",
          "Name: Josh<br>Count: 82",
          "Name: Evelyn<br>Count: 82",
          "Name: Natalie<br>Count: 82",
          "Name: Mitch<br>Count: 81",
          "Name: Shankar<br>Count: 81",
          "Name: Maya<br>Count: 81",
          "Name: Ned<br>Count: 81",
          "Name: Justin<br>Count: 81",
          "Name: Craig<br>Count: 81",
          "Name: Alan<br>Count: 81",
          "Name: Ricky<br>Count: 81",
          "Name: Marshall<br>Count: 80",
          "Name: Il<br>Count: 80",
          "Name: Maurice<br>Count: 80",
          "Name: Brenda<br>Count: 80",
          "Name: Kyle<br>Count: 79",
          "Name: Will<br>Count: 79",
          "Name: Jay<br>Count: 79",
          "Name: Vicky<br>Count: 79",
          "Name: Denise<br>Count: 79",
          "Name: Robin<br>Count: 79",
          "Name: Ashley<br>Count: 79",
          "Name: Angel<br>Count: 79",
          "Name: Tyler<br>Count: 78",
          "Name: Kumar<br>Count: 78",
          "Name: Kathy<br>Count: 78",
          "Name: Alfred<br>Count: 78",
          "Name: Casey<br>Count: 77",
          "Name: Ian<br>Count: 77",
          "Name: Anderson<br>Count: 77",
          "Name: Hans<br>Count: 77",
          "Name: Al<br>Count: 77",
          "Name: Patricia<br>Count: 77",
          "Name: Rick<br>Count: 77",
          "Name: Vanessa<br>Count: 77",
          "Name: Park<br>Count: 76",
          "Name: Lynn<br>Count: 76",
          "Name: Prince<br>Count: 75",
          "Name: Chuck<br>Count: 75",
          "Name: Rosa<br>Count: 75",
          "Name: Oscar<br>Count: 75",
          "Name: Sandy<br>Count: 75",
          "Name: Antonio<br>Count: 75",
          "Name: Arnold<br>Count: 74",
          "Name: Karan<br>Count: 74",
          "Name: Freddy<br>Count: 74",
          "Name: Lloyd<br>Count: 74",
          "Name: Rahul<br>Count: 74",
          "Name: Barry<br>Count: 73",
          "Name: Lauren<br>Count: 73",
          "Name: Teresa<br>Count: 73",
          "Name: Joyce<br>Count: 73",
          "Name: Leonard<br>Count: 72",
          "Name: Jeremy<br>Count: 72",
          "Name: Teddy<br>Count: 72",
          "Name: Leon<br>Count: 72",
          "Name: Andrea<br>Count: 72",
          "Name: Frau<br>Count: 71",
          "Name: Ronnie<br>Count: 71",
          "Name: Doris<br>Count: 71",
          "Name: Morgan<br>Count: 71",
          "Name: Allen<br>Count: 71",
          "Name: Mama<br>Count: 71",
          "Name: Thompson<br>Count: 71",
          "Name: Melissa<br>Count: 71",
          "Name: Valerie<br>Count: 70",
          "Name: Marion<br>Count: 70",
          "Name: Pamela<br>Count: 70",
          "Name: Audrey<br>Count: 70",
          "Name: Randy<br>Count: 70",
          "Name: Veronica<br>Count: 70",
          "Name: Jessie<br>Count: 70",
          "Name: Gabriel<br>Count: 69",
          "Name: Bruno<br>Count: 69",
          "Name: Becky<br>Count: 69",
          "Name: Heather<br>Count: 69",
          "Name: Mitchell<br>Count: 69",
          "Name: Keith<br>Count: 68",
          "Name: Suzanne<br>Count: 68",
          "Name: Girlfriend<br>Count: 68",
          "Name: Ann<br>Count: 68",
          "Name: Allison<br>Count: 68",
          "Name: Carmen<br>Count: 68",
          "Name: Elena<br>Count: 68",
          "Name: Raju<br>Count: 68",
          "Name: Abby<br>Count: 68",
          "Name: Ernie<br>Count: 67",
          "Name: Lenny<br>Count: 67",
          "Name: Megan<br>Count: 67",
          "Name: Clara<br>Count: 67",
          "Name: Ashok<br>Count: 67",
          "Name: Rosie<br>Count: 67",
          "Name: Ruth<br>Count: 66",
          "Name: Eugene<br>Count: 66",
          "Name: Carrie<br>Count: 65",
          "Name: Vincent<br>Count: 65",
          "Name: Evans<br>Count: 65",
          "Name: Ralph<br>Count: 65",
          "Name: Bonnie<br>Count: 65",
          "Name: Angie<br>Count: 65",
          "Name: Chloe<br>Count: 65",
          "Name: Lester<br>Count: 65",
          "Name: Julian<br>Count: 65",
          "Name: Eve<br>Count: 65",
          "Name: Donna<br>Count: 64",
          "Name: Mohan<br>Count: 64",
          "Name: Abraham<br>Count: 64",
          "Name: Olivia<br>Count: 64",
          "Name: Janice<br>Count: 64",
          "Name: Malcolm<br>Count: 64",
          "Name: Vic<br>Count: 64",
          "Name: Vince<br>Count: 64",
          "Name: Nikki<br>Count: 63",
          "Name: Herbert<br>Count: 63",
          "Name: Caroline<br>Count: 63",
          "Name: Hunter<br>Count: 63",
          "Name: Virginia<br>Count: 63",
          "Name: Marvin<br>Count: 63",
          "Name: Santa<br>Count: 63",
          "Name: Eleanor<br>Count: 63",
          "Name: Aaron<br>Count: 63",
          "Name: Willie<br>Count: 63",
          "Name: Brooke<br>Count: 62",
          "Name: Christian<br>Count: 62",
          "Name: Ethan<br>Count: 62",
          "Name: Vivian<br>Count: 62",
          "Name: Anand<br>Count: 62",
          "Name: Claude<br>Count: 62",
          "Name: Edgar<br>Count: 62",
          "Name: Krishna<br>Count: 62",
          "Name: Natasha<br>Count: 61",
          "Name: Mario<br>Count: 61",
          "Name: Steven<br>Count: 61",
          "Name: Shekhar<br>Count: 61",
          "Name: Shanti<br>Count: 61",
          "Name: Claudia<br>Count: 61",
          "Name: Brad<br>Count: 60",
          "Name: Lena<br>Count: 60",
          "Name: Dick<br>Count: 60",
          "Name: Curtis<br>Count: 60",
          "Name: Mona<br>Count: 60",
          "Name: Wallace<br>Count: 60",
          "Name: Cathy<br>Count: 60",
          "Name: Anton<br>Count: 60",
          "Name: Sebastian<br>Count: 60",
          "Name: Ellie<br>Count: 60",
          "Name: Ram<br>Count: 60",
          "Name: Adams<br>Count: 59",
          "Name: Polly<br>Count: 59",
          "Name: Joey<br>Count: 58",
          "Name: Prem<br>Count: 58",
          "Name: Miguel<br>Count: 58",
          "Name: Ken<br>Count: 58",
          "Name: Olga<br>Count: 58",
          "Name: Duke<br>Count: 58",
          "Name: Nigel<br>Count: 58",
          "Name: Mac<br>Count: 58",
          "Name: Wolf<br>Count: 57",
          "Name: Herman<br>Count: 57",
          "Name: Watson<br>Count: 57",
          "Name: Zoe<br>Count: 57",
          "Name: Mayor<br>Count: 57",
          "Name: Gail<br>Count: 57",
          "Name: Lucas<br>Count: 56",
          "Name: Bernie<br>Count: 56",
          "Name: Noah<br>Count: 56",
          "Name: Gregory<br>Count: 56",
          "Name: Kenneth<br>Count: 56",
          "Name: Hal<br>Count: 56",
          "Name: Shirley<br>Count: 56",
          "Name: Stella<br>Count: 56",
          "Name: Hank<br>Count: 56",
          "Name: Elliot<br>Count: 56",
          "Name: Winston<br>Count: 56",
          "Name: Miranda<br>Count: 56",
          "Name: Geeta<br>Count: 55",
          "Name: Nisha<br>Count: 55",
          "Name: Sue<br>Count: 55",
          "Name: von<br>Count: 55",
          "Name: Daisy<br>Count: 55",
          "Name: Jai<br>Count: 55",
          "Name: Boris<br>Count: 55",
          "Name: Holly<br>Count: 55",
          "Name: Randall<br>Count: 55",
          "Name: Seema<br>Count: 55",
          "Name: Laurie<br>Count: 55",
          "Name: Owen<br>Count: 55",
          "Name: Frances<br>Count: 54",
          "Name: Cheryl<br>Count: 54",
          "Name: Hugo<br>Count: 54",
          "Name: Alicia<br>Count: 54",
          "Name: Henri<br>Count: 54",
          "Name: Ronald<br>Count: 54",
          "Name: Phillip<br>Count: 54",
          "Name: Sid<br>Count: 54",
          "Name: Sapna<br>Count: 54",
          "Name: Earl<br>Count: 54",
          "Name: Bert<br>Count: 54",
          "Name: Lydia<br>Count: 53",
          "Name: Shyam<br>Count: 53",
          "Name: Joanna<br>Count: 53",
          "Name: Ernest<br>Count: 53",
          "Name: Cameron<br>Count: 53",
          "Name: Lakshmi<br>Count: 53",
          "Name: Butler<br>Count: 53",
          "Name: April<br>Count: 53",
          "Name: La<br>Count: 53",
          "Name: Carson<br>Count: 52",
          "Name: Suraj<br>Count: 52",
          "Name: Marianne<br>Count: 52",
          "Name: Asha<br>Count: 52",
          "Name: Dana<br>Count: 52",
          "Name: Rudy<br>Count: 52",
          "Name: Kitty<br>Count: 52",
          "Name: Son<br>Count: 52",
          "Name: Roberts<br>Count: 52",
          "Name: Jesus<br>Count: 52",
          "Name: Jacques<br>Count: 52",
          "Name: Kapoor<br>Count: 52",
          "Name: Duncan<br>Count: 52",
          "Name: Freddie<br>Count: 52",
          "Name: Esther<br>Count: 51",
          "Name: Dean<br>Count: 51",
          "Name: Sullivan<br>Count: 51",
          "Name: Lewis<br>Count: 51",
          "Name: Calvin<br>Count: 51",
          "Name: Frederick<br>Count: 51",
          "Name: Pat<br>Count: 51",
          "Name: Judith<br>Count: 51",
          "Name: Lillian<br>Count: 51",
          "Name: Rocky<br>Count: 51",
          "Name: Sasha<br>Count: 50",
          "Name: Susie<br>Count: 50",
          "Name: Hugh<br>Count: 50",
          "Name: Clyde<br>Count: 50",
          "Name: Sidney<br>Count: 50",
          "Name: Von<br>Count: 50",
          "Name: Harrison<br>Count: 50",
          "Name: Gerald<br>Count: 50",
          "Name: Andre<br>Count: 50",
          "Name: Agnes<br>Count: 50",
          "Name: Isabel<br>Count: 50",
          "Name: mère<br>Count: 50",
          "Name: Luther<br>Count: 50",
          "Name: Dylan<br>Count: 50",
          "Name: Joel<br>Count: 50",
          "Name: Stuart<br>Count: 49",
          "Name: Major<br>Count: 49",
          "Name: Ruby<br>Count: 49",
          "Name: Penny<br>Count: 49",
          "Name: Beatrice<br>Count: 49",
          "Name: Bennett<br>Count: 49",
          "Name: Wanda<br>Count: 49",
          "Name: Theresa<br>Count: 49",
          "Name: Angelo<br>Count: 49",
          "Name: Jose<br>Count: 49",
          "Name: Fan<br>Count: 49",
          "Name: Mandy<br>Count: 49",
          "Name: Percy<br>Count: 49",
          "Name: Chen<br>Count: 48",
          "Name: Franz<br>Count: 48",
          "Name: Miriam<br>Count: 48",
          "Name: Irene<br>Count: 48",
          "Name: Rob<br>Count: 48",
          "Name: Mia<br>Count: 48",
          "Name: Jo<br>Count: 48",
          "Name: Malhotra<br>Count: 48",
          "Name: Fiona<br>Count: 48",
          "Name: Kurt<br>Count: 48",
          "Name: Hamilton<br>Count: 48",
          "Name: Mabel<br>Count: 47",
          "Name: Porter<br>Count: 47",
          "Name: Preston<br>Count: 47",
          "Name: Isabelle<br>Count: 47",
          "Name: Candy<br>Count: 47",
          "Name: Melanie<br>Count: 47",
          "Name: Yvonne<br>Count: 47",
          "Name: Murphy<br>Count: 47",
          "Name: Constance<br>Count: 47",
          "Name: Gopal<br>Count: 47",
          "Name: Phyllis<br>Count: 47",
          "Name: Meena<br>Count: 47",
          "Name: Richie<br>Count: 47",
          "Name: Raj<br>Count: 47",
          "Name: Omar<br>Count: 47",
          "Name: Der<br>Count: 47",
          "Name: Peggy<br>Count: 47",
          "Name: Lois<br>Count: 47",
          "Name: Adrian<br>Count: 47",
          "Name: Bear<br>Count: 46",
          "Name: Antoine<br>Count: 46",
          "Name: Campbell<br>Count: 46",
          "Name: Woody<br>Count: 46",
          "Name: Lucky<br>Count: 46",
          "Name: Jeffrey<br>Count: 46",
          "Name: Zack<br>Count: 46",
          "Name: Trevor<br>Count: 46",
          "Name: Simone<br>Count: 46",
          "Name: Erica<br>Count: 46",
          "Name: Lilly<br>Count: 46",
          "Name: Harriet<br>Count: 46",
          "Name: Helena<br>Count: 46",
          "Name: Edith<br>Count: 46",
          "Name: Carlo<br>Count: 45",
          "Name: Mimi<br>Count: 45",
          "Name: Rani<br>Count: 45",
          "Name: Marilyn<br>Count: 45",
          "Name: Iris<br>Count: 45",
          "Name: Jeanne<br>Count: 45",
          "Name: Roland<br>Count: 45",
          "Name: Amber<br>Count: 45",
          "Name: Moore<br>Count: 45",
          "Name: Rajesh<br>Count: 45",
          "Name: Stevens<br>Count: 45",
          "Name: Dolores<br>Count: 45",
          "Name: Patty<br>Count: 45",
          "Name: Rogers<br>Count: 45",
          "Name: Tara<br>Count: 45",
          "Name: Maureen<br>Count: 45",
          "Name: François<br>Count: 45",
          "Name: Barney<br>Count: 45",
          "Name: Sadie<br>Count: 44",
          "Name: Parvati<br>Count: 44",
          "Name: Julius<br>Count: 44",
          "Name: Luis<br>Count: 44",
          "Name: Brandon<br>Count: 44",
          "Name: Holmes<br>Count: 44",
          "Name: Colin<br>Count: 44",
          "Name: Vernon<br>Count: 44",
          "Name: Warden<br>Count: 44",
          "Name: Christmas<br>Count: 44",
          "Name: Manuel<br>Count: 44",
          "Name: Daphne<br>Count: 44",
          "Name: Madeleine<br>Count: 44",
          "Name: Kathleen<br>Count: 44",
          "Name: Philippe<br>Count: 44",
          "Name: Mme<br>Count: 44",
          "Name: Stewart<br>Count: 44",
          "Name: Elsa<br>Count: 43",
          "Name: Elmer<br>Count: 43",
          "Name: Celia<br>Count: 43",
          "Name: Carter<br>Count: 43",
          "Name: Cat<br>Count: 43",
          "Name: French<br>Count: 43",
          "Name: Clarence<br>Count: 43",
          "Name: Seth<br>Count: 43",
          "Name: Boyfriend<br>Count: 43",
          "Name: Evan<br>Count: 43",
          "Name: Charley<br>Count: 43",
          "Name: Meg<br>Count: 43",
          "Name: Pauline<br>Count: 43",
          "Name: Deborah<br>Count: 43",
          "Name: Joshua<br>Count: 43",
          "Name: Alexandra<br>Count: 43",
          "Name: Eli<br>Count: 43",
          "Name: Jonas<br>Count: 42",
          "Name: Abdul<br>Count: 42",
          "Name: Ella<br>Count: 42",
          "Name: Gauri<br>Count: 42",
          "Name: Madhu<br>Count: 42",
          "Name: Murray<br>Count: 42",
          "Name: Phillips<br>Count: 42",
          "Name: June<br>Count: 42",
          "Name: Sanjay<br>Count: 42",
          "Name: Prakash<br>Count: 42",
          "Name: Hector<br>Count: 42",
          "Name: Theodore<br>Count: 42",
          "Name: Riley<br>Count: 42",
          "Name: Lance<br>Count: 42",
          "Name: Marjorie<br>Count: 42",
          "Name: Carolyn<br>Count: 42",
          "Name: Floyd<br>Count: 42",
          "Name: Beverly<br>Count: 42",
          "Name: Laxmi<br>Count: 42",
          "Name: Benny<br>Count: 42",
          "Name: Sammy<br>Count: 42",
          "Name: Virgil<br>Count: 42",
          "Name: Fanny<br>Count: 41",
          "Name: Tiffany<br>Count: 41",
          "Name: Nelson<br>Count: 41",
          "Name: Kiran<br>Count: 41",
          "Name: Toby<br>Count: 41",
          "Name: Han<br>Count: 41",
          "Name: Reggie<br>Count: 41",
          "Name: Ramesh<br>Count: 41",
          "Name: Robinson<br>Count: 41",
          "Name: Jules<br>Count: 41",
          "Name: Logan<br>Count: 41",
          "Name: Nandini<br>Count: 41",
          "Name: Graham<br>Count: 41",
          "Name: Jordan<br>Count: 41",
          "Name: Danielle<br>Count: 41",
          "Name: Elaine<br>Count: 41",
          "Name: Stacy<br>Count: 41",
          "Name: Eileen<br>Count: 41",
          "Name: Bridget<br>Count: 41",
          "Name: Pratap<br>Count: 41",
          "Name: Pedro<br>Count: 41",
          "Name: Trish<br>Count: 40",
          "Name: Deepak<br>Count: 40",
          "Name: Arun<br>Count: 40",
          "Name: Quinn<br>Count: 40",
          "Name: Jenkins<br>Count: 40",
          "Name: Art<br>Count: 40",
          "Name: Rohit<br>Count: 40",
          "Name: Neha<br>Count: 40",
          "Name: Archie<br>Count: 40",
          "Name: Isabella<br>Count: 40",
          "Name: Courtney<br>Count: 40",
          "Name: Blake<br>Count: 40",
          "Name: Betsy<br>Count: 40",
          "Name: Darcy<br>Count: 40",
          "Name: Raoul<br>Count: 40",
          "Name: Penelope<br>Count: 40",
          "Name: Troy<br>Count: 39",
          "Name: Sylvester<br>Count: 39",
          "Name: Robbie<br>Count: 39",
          "Name: Brady<br>Count: 39",
          "Name: Sonny<br>Count: 39",
          "Name: Sandhya<br>Count: 39",
          "Name: Parker<br>Count: 39",
          "Name: Vera<br>Count: 39",
          "Name: Bud<br>Count: 39",
          "Name: Benson<br>Count: 39",
          "Name: Mason<br>Count: 39",
          "Name: Brooks<br>Count: 38",
          "Name: Benjamin<br>Count: 38",
          "Name: Clayton<br>Count: 38",
          "Name: Sharma<br>Count: 38",
          "Name: Bart<br>Count: 38",
          "Name: Michel<br>Count: 38",
          "Name: Darren<br>Count: 38",
          "Name: Jorge<br>Count: 38",
          "Name: Del<br>Count: 38",
          "Name: Travis<br>Count: 38",
          "Name: Ingrid<br>Count: 38",
          "Name: Isaac<br>Count: 38",
          "Name: Wyatt<br>Count: 38",
          "Name: Shane<br>Count: 38",
          "Name: Edna<br>Count: 38",
          "Name: Dracula<br>Count: 38",
          "Name: Doyle<br>Count: 38",
          "Name: Christina<br>Count: 38",
          "Name: Voices<br>Count: 38",
          "Name: Gertrude<br>Count: 38",
          "Name: Cooper<br>Count: 37",
          "Name: Leah<br>Count: 37",
          "Name: Stu<br>Count: 37",
          "Name: Joy<br>Count: 37",
          "Name: Barnes<br>Count: 37",
          "Name: Aarti<br>Count: 37",
          "Name: Lyle<br>Count: 37",
          "Name: Billie<br>Count: 37",
          "Name: Horace<br>Count: 37",
          "Name: Aditya<br>Count: 37",
          "Name: Cody<br>Count: 37",
          "Name: Hayes<br>Count: 37",
          "Name: Pam<br>Count: 37",
          "Name: Ida<br>Count: 37",
          "Name: Vinod<br>Count: 37",
          "Name: May<br>Count: 37",
          "Name: Violet<br>Count: 37",
          "Name: Nate<br>Count: 37",
          "Name: Dora<br>Count: 37",
          "Name: Rhonda<br>Count: 36",
          "Name: père<br>Count: 36",
          "Name: Lila<br>Count: 36",
          "Name: Nolan<br>Count: 36",
          "Name: Trent<br>Count: 36",
          "Name: Kane<br>Count: 36",
          "Name: Conrad<br>Count: 36",
          "Name: Gladys<br>Count: 36",
          "Name: Vicki<br>Count: 36",
          "Name: Fox<br>Count: 36",
          "Name: Annette<br>Count: 36",
          "Name: Greta<br>Count: 36",
          "Name: Sameer<br>Count: 36",
          "Name: Dale<br>Count: 36",
          "Name: Dominic<br>Count: 36",
          "Name: Roberto<br>Count: 36",
          "Name: Shiva<br>Count: 36",
          "Name: Hudson<br>Count: 36",
          "Name: Madison<br>Count: 36",
          "Name: Lucille<br>Count: 36",
          "Name: Henderson<br>Count: 35",
          "Name: Luigi<br>Count: 35",
          "Name: Stanton<br>Count: 35",
          "Name: Clark<br>Count: 35",
          "Name: Biker<br>Count: 35",
          "Name: Diego<br>Count: 35",
          "Name: Devi<br>Count: 35",
          "Name: Fran<br>Count: 35",
          "Name: Jamal<br>Count: 35",
          "Name: Sunil<br>Count: 35",
          "Name: Sydney<br>Count: 35",
          "Name: Ahmed<br>Count: 35",
          "Name: Toni<br>Count: 35",
          "Name: Bradley<br>Count: 35",
          "Name: Sofia<br>Count: 35",
          "Name: Herr<br>Count: 35",
          "Name: Peterson<br>Count: 35",
          "Name: Chandra<br>Count: 35",
          "Name: Rekha<br>Count: 35",
          "Name: Bride<br>Count: 35",
          "Name: Joanne<br>Count: 35",
          "Name: Raghu<br>Count: 35",
          "Name: Rupert<br>Count: 35",
          "Name: Fritz<br>Count: 35",
          "Name: Rex<br>Count: 35",
          "Name: Georgia<br>Count: 35",
          "Name: Stefan<br>Count: 35",
          "Name: Naomi<br>Count: 34",
          "Name: Meredith<br>Count: 34",
          "Name: Franklin<br>Count: 34",
          "Name: Blanche<br>Count: 34",
          "Name: Ana<br>Count: 34",
          "Name: Meenakshi<br>Count: 34",
          "Name: Gil<br>Count: 34",
          "Name: Walker<br>Count: 34",
          "Name: Wade<br>Count: 34",
          "Name: Burns<br>Count: 34",
          "Name: Dolly<br>Count: 34",
          "Name: Glenn<br>Count: 34",
          "Name: Margo<br>Count: 34",
          "Name: Wells<br>Count: 34",
          "Name: Erik<br>Count: 34",
          "Name: Cole<br>Count: 34",
          "Name: Wally<br>Count: 34",
          "Name: Choi<br>Count: 34",
          "Name: Jerome<br>Count: 34",
          "Name: Lorraine<br>Count: 33",
          "Name: Louie<br>Count: 33",
          "Name: Igor<br>Count: 33",
          "Name: Millie<br>Count: 33",
          "Name: Kay<br>Count: 33",
          "Name: Meera<br>Count: 33",
          "Name: Marcia<br>Count: 33",
          "Name: Marta<br>Count: 33",
          "Name: Javier<br>Count: 33",
          "Name: Kamini<br>Count: 33",
          "Name: Yu<br>Count: 33",
          "Name: Van<br>Count: 33",
          "Name: Verma<br>Count: 33",
          "Name: Austin<br>Count: 33",
          "Name: Crawford<br>Count: 33",
          "Name: Marco<br>Count: 33",
          "Name: Warren<br>Count: 33",
          "Name: Grant<br>Count: 33",
          "Name: Buck<br>Count: 33",
          "Name: Roberta<br>Count: 33",
          "Name: Montgomery<br>Count: 33",
          "Name: Jensen<br>Count: 33",
          "Name: Geoffrey<br>Count: 33",
          "Name: Finn<br>Count: 33",
          "Name: Gypsy<br>Count: 33",
          "Name: Moses<br>Count: 33",
          "Name: Morris<br>Count: 33",
          "Name: Elisabeth<br>Count: 32",
          "Name: Ross<br>Count: 32",
          "Name: Mildred<br>Count: 32",
          "Name: Dwight<br>Count: 32",
          "Name: Sal<br>Count: 32",
          "Name: Milton<br>Count: 32",
          "Name: Ellis<br>Count: 32",
          "Name: Briggs<br>Count: 32",
          "Name: Hari<br>Count: 32",
          "Name: Francesca<br>Count: 32",
          "Name: Rico<br>Count: 32",
          "Name: Regina<br>Count: 32",
          "Name: Suzie<br>Count: 32",
          "Name: Divya<br>Count: 32",
          "Name: Anu<br>Count: 32",
          "Name: Savitri<br>Count: 32",
          "Name: Georgie<br>Count: 32",
          "Name: Saxena<br>Count: 32",
          "Name: Alison<br>Count: 32",
          "Name: Wesley<br>Count: 32",
          "Name: Nicky<br>Count: 32",
          "Name: Dee<br>Count: 32",
          "Name: Preeti<br>Count: 32",
          "Name: Quentin<br>Count: 32",
          "Name: Sherman<br>Count: 32",
          "Name: Renee<br>Count: 32",
          "Name: Reynolds<br>Count: 32",
          "Name: Ajit<br>Count: 32",
          "Name: Siddharth<br>Count: 32",
          "Name: Jen<br>Count: 31",
          "Name: Roman<br>Count: 31",
          "Name: Randolph<br>Count: 31",
          "Name: Rai<br>Count: 31",
          "Name: Spencer<br>Count: 31",
          "Name: Wes<br>Count: 31",
          "Name: Dante<br>Count: 31",
          "Name: Fernando<br>Count: 31",
          "Name: Tess<br>Count: 31",
          "Name: Jared<br>Count: 31",
          "Name: Camille<br>Count: 31",
          "Name: Bunny<br>Count: 31",
          "Name: Damien<br>Count: 31",
          "Name: Alexis<br>Count: 31",
          "Name: Elise<br>Count: 31",
          "Name: Butch<br>Count: 31",
          "Name: Theo<br>Count: 31",
          "Name: Serena<br>Count: 31",
          "Name: Tarzan<br>Count: 31",
          "Name: Lara<br>Count: 31",
          "Name: Nadia<br>Count: 31",
          "Name: Angus<br>Count: 31",
          "Name: Harlan<br>Count: 31",
          "Name: Matthews<br>Count: 31",
          "Name: Agatha<br>Count: 31",
          "Name: Shelly<br>Count: 31",
          "Name: Yuri<br>Count: 31",
          "Name: Monty<br>Count: 31",
          "Name: Otto<br>Count: 31",
          "Name: Gabrielle<br>Count: 31",
          "Name: Ira<br>Count: 31",
          "Name: Stevie<br>Count: 30",
          "Name: Shannon<br>Count: 30",
          "Name: Cecil<br>Count: 30",
          "Name: Francisco<br>Count: 30",
          "Name: Connor<br>Count: 30",
          "Name: Perry<br>Count: 30",
          "Name: Gilbert<br>Count: 30",
          "Name: Havaldar<br>Count: 30",
          "Name: Janine<br>Count: 30",
          "Name: Cassandra<br>Count: 30",
          "Name: Sanjana<br>Count: 30",
          "Name: Wu<br>Count: 30",
          "Name: Gopi<br>Count: 30",
          "Name: Romeo<br>Count: 30",
          "Name: Belle<br>Count: 30",
          "Name: Morton<br>Count: 30",
          "Name: Werner<br>Count: 30",
          "Name: Flynn<br>Count: 30",
          "Name: Madge<br>Count: 30",
          "Name: Gretchen<br>Count: 30",
          "Name: Monique<br>Count: 30",
          "Name: Wang<br>Count: 30",
          "Name: Josef<br>Count: 30",
          "Name: Rama<br>Count: 30",
          "Name: Timmy<br>Count: 30",
          "Name: Alberto<br>Count: 30",
          "Name: Willis<br>Count: 30",
          "Name: Abel<br>Count: 30",
          "Name: Margot<br>Count: 30",
          "Name: Khanna<br>Count: 30",
          "Name: Amos<br>Count: 30",
          "Name: Simpson<br>Count: 30",
          "Name: Alvin<br>Count: 30",
          "Name: Bates<br>Count: 30",
          "Name: Mala<br>Count: 30",
          "Name: Cookie<br>Count: 30",
          "Name: Chan<br>Count: 30",
          "Name: Roopa<br>Count: 30",
          "Name: Kirby<br>Count: 30",
          "Name: Adele<br>Count: 30",
          "Name: Artie<br>Count: 30",
          "Name: Gavin<br>Count: 29",
          "Name: Vishal<br>Count: 29",
          "Name: Stacey<br>Count: 29",
          "Name: English<br>Count: 29",
          "Name: Dwayne<br>Count: 29",
          "Name: Gerry<br>Count: 29",
          "Name: Durga<br>Count: 29",
          "Name: Salim<br>Count: 29",
          "Name: Peters<br>Count: 29",
          "Name: Mallory<br>Count: 29",
          "Name: Rich<br>Count: 29",
          "Name: Jennings<br>Count: 29",
          "Name: Powell<br>Count: 29",
          "Name: Pearl<br>Count: 29",
          "Name: Klaus<br>Count: 29",
          "Name: Marian<br>Count: 29",
          "Name: Monroe<br>Count: 29",
          "Name: Mikey<br>Count: 29",
          "Name: Rene<br>Count: 29",
          "Name: Vinnie<br>Count: 29",
          "Name: Dawn<br>Count: 29",
          "Name: Sunita<br>Count: 29",
          "Name: Emmett<br>Count: 29",
          "Name: Edwards<br>Count: 29",
          "Name: Chad<br>Count: 29",
          "Name: Manny<br>Count: 29",
          "Name: Jasmine<br>Count: 29",
          "Name: Bella<br>Count: 29",
          "Name: Gupta<br>Count: 28",
          "Name: Jasper<br>Count: 28",
          "Name: Kennedy<br>Count: 28",
          "Name: Mahesh<br>Count: 28",
          "Name: Bryan<br>Count: 28",
          "Name: Kimberly<br>Count: 28",
          "Name: Star<br>Count: 28",
          "Name: Roxanne<br>Count: 28",
          "Name: Erin<br>Count: 28",
          "Name: Nadine<br>Count: 28",
          "Name: Juliet<br>Count: 28",
          "Name: Sherry<br>Count: 28",
          "Name: Bailey<br>Count: 28",
          "Name: Suman<br>Count: 28",
          "Name: Morrison<br>Count: 28",
          "Name: Darryl<br>Count: 28",
          "Name: Milo<br>Count: 28",
          "Name: Edwin<br>Count: 28",
          "Name: Jon<br>Count: 28",
          "Name: Spike<br>Count: 28",
          "Name: Chelsea<br>Count: 28",
          "Name: Georges<br>Count: 28",
          "Name: Clifford<br>Count: 28",
          "Name: Andrews<br>Count: 28",
          "Name: Perkins<br>Count: 28",
          "Name: Turner<br>Count: 28",
          "Name: Hélène<br>Count: 28",
          "Name: Lincoln<br>Count: 28",
          "Name: Trudy<br>Count: 28",
          "Name: Bishop<br>Count: 28",
          "Name: Shobha<br>Count: 28",
          "Name: Zach<br>Count: 27",
          "Name: Donnie<br>Count: 27",
          "Name: Madre<br>Count: 27",
          "Name: Byron<br>Count: 27",
          "Name: Chet<br>Count: 27",
          "Name: Burke<br>Count: 27",
          "Name: Norma<br>Count: 27",
          "Name: Foster<br>Count: 27",
          "Name: Melvin<br>Count: 27",
          "Name: Lorna<br>Count: 27",
          "Name: Banks<br>Count: 27",
          "Name: Willy<br>Count: 27",
          "Name: Marcel<br>Count: 27",
          "Name: Rajiv<br>Count: 27",
          "Name: Manu<br>Count: 27",
          "Name: Jess<br>Count: 27",
          "Name: Liu<br>Count: 27",
          "Name: Robby<br>Count: 27",
          "Name: Godzilla<br>Count: 27",
          "Name: Suzy<br>Count: 27",
          "Name: Alma<br>Count: 27",
          "Name: Simmons<br>Count: 27",
          "Name: Juliette<br>Count: 27"
         ],
         "line": {
          "color": "skyblue"
         },
         "mode": "lines+markers",
         "name": "Character Count",
         "type": "scatter",
         "x": [
          "John",
          "George",
          "Tom",
          "David",
          "Paul",
          "James",
          "Michael",
          "Robert",
          "Jack",
          "Jim",
          "Charlie",
          "Richard",
          "Charles",
          "William",
          "Sarah",
          "Mary",
          "Joe",
          "Thomas",
          "Steve",
          "Frank",
          "Eddie",
          "Alex",
          "Max",
          "Helen",
          "Alice",
          "Sam",
          "Susan",
          "Johnny",
          "Kate",
          "Danny",
          "Julie",
          "Arthur",
          "Elizabeth",
          "Peter",
          "Rachel",
          "Harry",
          "Bob",
          "Mike",
          "Dave",
          "Lisa",
          "Chris",
          "Jimmy",
          "Simon",
          "Billy",
          "Bill",
          "Joseph",
          "Anna",
          "Daniel",
          "Ben",
          "Claire",
          "Barbara",
          "Karen",
          "Jason",
          "Kevin",
          "Tony",
          "Fred",
          "Marie",
          "Linda",
          "Annie",
          "Brian",
          "Anne",
          "Ed",
          "Maria",
          "Phil",
          "Adam",
          "Henry",
          "Maggie",
          "Andy",
          "Margaret",
          "Guy",
          "Emily",
          "Jones",
          "Tim",
          "Roy",
          "Moe",
          "Matt",
          "Scott",
          "Edward",
          "Louis",
          "Howard",
          "Jane",
          "Nick",
          "Bobby",
          "Mark",
          "Kim",
          "Jennifer",
          "Laura",
          "Ellen",
          "Martin",
          "Sara",
          "Tommy",
          "Angela",
          "Johnson",
          "Mickey",
          "Charlotte",
          "Lee",
          "Martha",
          "Vijay",
          "Julia",
          "Philip",
          "Ryan",
          "Jerry",
          "Louise",
          "Amy",
          "Andrew",
          "Lucy",
          "Gloria",
          "Albert",
          "Pete",
          "Jake",
          "Wilson",
          "Samantha",
          "Jessica",
          "Gary",
          "Harold",
          "Amanda",
          "Taylor",
          "Catherine",
          "Kelly",
          "Dan",
          "Jonathan",
          "Diane",
          "Kid",
          "Anthony",
          "Jenny",
          "Ray",
          "Tina",
          "Lou",
          "Larry",
          "Bugs",
          "Rose",
          "Jackson",
          "Alexander",
          "Sean",
          "Gordon",
          "Red",
          "Leo",
          "Sophie",
          "Karl",
          "Walter",
          "Dennis",
          "Sergeant",
          "Betty",
          "Jackie",
          "Donald",
          "Patrick",
          "Carol",
          "Rebecca",
          "Katie",
          "Sally",
          "Priya",
          "Wendy",
          "Jill",
          "Frankie",
          "Joan",
          "Stephen",
          "Marty",
          "Stanley",
          "Francis",
          "Ravi",
          "Nicole",
          "Nina",
          "Judy",
          "Eva",
          "Doug",
          "Carl",
          "Carlos",
          "Christine",
          "Roger",
          "Norman",
          "Williams",
          "Raymond",
          "Terry",
          "Connie",
          "Radha",
          "Grace",
          "Oliver",
          "Marcus",
          "Ron",
          "King",
          "Samuel",
          "Jacob",
          "Stan",
          "Michelle",
          "Gus",
          "Eric",
          "Diana",
          "Pooja",
          "Pierre",
          "Davis",
          "Matthew",
          "Nancy",
          "Monica",
          "Vikram",
          "Rita",
          "Sonia",
          "Ivan",
          "Molly",
          "Cindy",
          "Russell",
          "Jamie",
          "Katherine",
          "Gina",
          "Janet",
          "Greg",
          "Todd",
          "Beth",
          "Lily",
          "Bruce",
          "Dorothy",
          "Jesse",
          "Juan",
          "Sharon",
          "Ted",
          "Nora",
          "Christopher",
          "Hannah",
          "Liz",
          "Jan",
          "Leslie",
          "Waiter",
          "Lawrence",
          "Victoria",
          "Ajay",
          "Carla",
          "Ali",
          "Debbie",
          "Derek",
          "Jeff",
          "Sandra",
          "Neil",
          "Tracy",
          "Anjali",
          "Jean",
          "Emma",
          "Harris",
          "Tanya",
          "Miles",
          "Sylvia",
          "Felix",
          "Smith",
          "Wayne",
          "Luke",
          "Gwen",
          "Buddy",
          "Daffy",
          "Lola",
          "Paula",
          "Anita",
          "Don",
          "Stephanie",
          "Kenny",
          "Nicholas",
          "Douglas",
          "Cynthia",
          "Sheila",
          "Harvey",
          "Bernard",
          "Nathan",
          "Victor",
          "Josh",
          "Evelyn",
          "Natalie",
          "Mitch",
          "Shankar",
          "Maya",
          "Ned",
          "Justin",
          "Craig",
          "Alan",
          "Ricky",
          "Marshall",
          "Il",
          "Maurice",
          "Brenda",
          "Kyle",
          "Will",
          "Jay",
          "Vicky",
          "Denise",
          "Robin",
          "Ashley",
          "Angel",
          "Tyler",
          "Kumar",
          "Kathy",
          "Alfred",
          "Casey",
          "Ian",
          "Anderson",
          "Hans",
          "Al",
          "Patricia",
          "Rick",
          "Vanessa",
          "Park",
          "Lynn",
          "Prince",
          "Chuck",
          "Rosa",
          "Oscar",
          "Sandy",
          "Antonio",
          "Arnold",
          "Karan",
          "Freddy",
          "Lloyd",
          "Rahul",
          "Barry",
          "Lauren",
          "Teresa",
          "Joyce",
          "Leonard",
          "Jeremy",
          "Teddy",
          "Leon",
          "Andrea",
          "Frau",
          "Ronnie",
          "Doris",
          "Morgan",
          "Allen",
          "Mama",
          "Thompson",
          "Melissa",
          "Valerie",
          "Marion",
          "Pamela",
          "Audrey",
          "Randy",
          "Veronica",
          "Jessie",
          "Gabriel",
          "Bruno",
          "Becky",
          "Heather",
          "Mitchell",
          "Keith",
          "Suzanne",
          "Girlfriend",
          "Ann",
          "Allison",
          "Carmen",
          "Elena",
          "Raju",
          "Abby",
          "Ernie",
          "Lenny",
          "Megan",
          "Clara",
          "Ashok",
          "Rosie",
          "Ruth",
          "Eugene",
          "Carrie",
          "Vincent",
          "Evans",
          "Ralph",
          "Bonnie",
          "Angie",
          "Chloe",
          "Lester",
          "Julian",
          "Eve",
          "Donna",
          "Mohan",
          "Abraham",
          "Olivia",
          "Janice",
          "Malcolm",
          "Vic",
          "Vince",
          "Nikki",
          "Herbert",
          "Caroline",
          "Hunter",
          "Virginia",
          "Marvin",
          "Santa",
          "Eleanor",
          "Aaron",
          "Willie",
          "Brooke",
          "Christian",
          "Ethan",
          "Vivian",
          "Anand",
          "Claude",
          "Edgar",
          "Krishna",
          "Natasha",
          "Mario",
          "Steven",
          "Shekhar",
          "Shanti",
          "Claudia",
          "Brad",
          "Lena",
          "Dick",
          "Curtis",
          "Mona",
          "Wallace",
          "Cathy",
          "Anton",
          "Sebastian",
          "Ellie",
          "Ram",
          "Adams",
          "Polly",
          "Joey",
          "Prem",
          "Miguel",
          "Ken",
          "Olga",
          "Duke",
          "Nigel",
          "Mac",
          "Wolf",
          "Herman",
          "Watson",
          "Zoe",
          "Mayor",
          "Gail",
          "Lucas",
          "Bernie",
          "Noah",
          "Gregory",
          "Kenneth",
          "Hal",
          "Shirley",
          "Stella",
          "Hank",
          "Elliot",
          "Winston",
          "Miranda",
          "Geeta",
          "Nisha",
          "Sue",
          "von",
          "Daisy",
          "Jai",
          "Boris",
          "Holly",
          "Randall",
          "Seema",
          "Laurie",
          "Owen",
          "Frances",
          "Cheryl",
          "Hugo",
          "Alicia",
          "Henri",
          "Ronald",
          "Phillip",
          "Sid",
          "Sapna",
          "Earl",
          "Bert",
          "Lydia",
          "Shyam",
          "Joanna",
          "Ernest",
          "Cameron",
          "Lakshmi",
          "Butler",
          "April",
          "La",
          "Carson",
          "Suraj",
          "Marianne",
          "Asha",
          "Dana",
          "Rudy",
          "Kitty",
          "Son",
          "Roberts",
          "Jesus",
          "Jacques",
          "Kapoor",
          "Duncan",
          "Freddie",
          "Esther",
          "Dean",
          "Sullivan",
          "Lewis",
          "Calvin",
          "Frederick",
          "Pat",
          "Judith",
          "Lillian",
          "Rocky",
          "Sasha",
          "Susie",
          "Hugh",
          "Clyde",
          "Sidney",
          "Von",
          "Harrison",
          "Gerald",
          "Andre",
          "Agnes",
          "Isabel",
          "mère",
          "Luther",
          "Dylan",
          "Joel",
          "Stuart",
          "Major",
          "Ruby",
          "Penny",
          "Beatrice",
          "Bennett",
          "Wanda",
          "Theresa",
          "Angelo",
          "Jose",
          "Fan",
          "Mandy",
          "Percy",
          "Chen",
          "Franz",
          "Miriam",
          "Irene",
          "Rob",
          "Mia",
          "Jo",
          "Malhotra",
          "Fiona",
          "Kurt",
          "Hamilton",
          "Mabel",
          "Porter",
          "Preston",
          "Isabelle",
          "Candy",
          "Melanie",
          "Yvonne",
          "Murphy",
          "Constance",
          "Gopal",
          "Phyllis",
          "Meena",
          "Richie",
          "Raj",
          "Omar",
          "Der",
          "Peggy",
          "Lois",
          "Adrian",
          "Bear",
          "Antoine",
          "Campbell",
          "Woody",
          "Lucky",
          "Jeffrey",
          "Zack",
          "Trevor",
          "Simone",
          "Erica",
          "Lilly",
          "Harriet",
          "Helena",
          "Edith",
          "Carlo",
          "Mimi",
          "Rani",
          "Marilyn",
          "Iris",
          "Jeanne",
          "Roland",
          "Amber",
          "Moore",
          "Rajesh",
          "Stevens",
          "Dolores",
          "Patty",
          "Rogers",
          "Tara",
          "Maureen",
          "François",
          "Barney",
          "Sadie",
          "Parvati",
          "Julius",
          "Luis",
          "Brandon",
          "Holmes",
          "Colin",
          "Vernon",
          "Warden",
          "Christmas",
          "Manuel",
          "Daphne",
          "Madeleine",
          "Kathleen",
          "Philippe",
          "Mme",
          "Stewart",
          "Elsa",
          "Elmer",
          "Celia",
          "Carter",
          "Cat",
          "French",
          "Clarence",
          "Seth",
          "Boyfriend",
          "Evan",
          "Charley",
          "Meg",
          "Pauline",
          "Deborah",
          "Joshua",
          "Alexandra",
          "Eli",
          "Jonas",
          "Abdul",
          "Ella",
          "Gauri",
          "Madhu",
          "Murray",
          "Phillips",
          "June",
          "Sanjay",
          "Prakash",
          "Hector",
          "Theodore",
          "Riley",
          "Lance",
          "Marjorie",
          "Carolyn",
          "Floyd",
          "Beverly",
          "Laxmi",
          "Benny",
          "Sammy",
          "Virgil",
          "Fanny",
          "Tiffany",
          "Nelson",
          "Kiran",
          "Toby",
          "Han",
          "Reggie",
          "Ramesh",
          "Robinson",
          "Jules",
          "Logan",
          "Nandini",
          "Graham",
          "Jordan",
          "Danielle",
          "Elaine",
          "Stacy",
          "Eileen",
          "Bridget",
          "Pratap",
          "Pedro",
          "Trish",
          "Deepak",
          "Arun",
          "Quinn",
          "Jenkins",
          "Art",
          "Rohit",
          "Neha",
          "Archie",
          "Isabella",
          "Courtney",
          "Blake",
          "Betsy",
          "Darcy",
          "Raoul",
          "Penelope",
          "Troy",
          "Sylvester",
          "Robbie",
          "Brady",
          "Sonny",
          "Sandhya",
          "Parker",
          "Vera",
          "Bud",
          "Benson",
          "Mason",
          "Brooks",
          "Benjamin",
          "Clayton",
          "Sharma",
          "Bart",
          "Michel",
          "Darren",
          "Jorge",
          "Del",
          "Travis",
          "Ingrid",
          "Isaac",
          "Wyatt",
          "Shane",
          "Edna",
          "Dracula",
          "Doyle",
          "Christina",
          "Voices",
          "Gertrude",
          "Cooper",
          "Leah",
          "Stu",
          "Joy",
          "Barnes",
          "Aarti",
          "Lyle",
          "Billie",
          "Horace",
          "Aditya",
          "Cody",
          "Hayes",
          "Pam",
          "Ida",
          "Vinod",
          "May",
          "Violet",
          "Nate",
          "Dora",
          "Rhonda",
          "père",
          "Lila",
          "Nolan",
          "Trent",
          "Kane",
          "Conrad",
          "Gladys",
          "Vicki",
          "Fox",
          "Annette",
          "Greta",
          "Sameer",
          "Dale",
          "Dominic",
          "Roberto",
          "Shiva",
          "Hudson",
          "Madison",
          "Lucille",
          "Henderson",
          "Luigi",
          "Stanton",
          "Clark",
          "Biker",
          "Diego",
          "Devi",
          "Fran",
          "Jamal",
          "Sunil",
          "Sydney",
          "Ahmed",
          "Toni",
          "Bradley",
          "Sofia",
          "Herr",
          "Peterson",
          "Chandra",
          "Rekha",
          "Bride",
          "Joanne",
          "Raghu",
          "Rupert",
          "Fritz",
          "Rex",
          "Georgia",
          "Stefan",
          "Naomi",
          "Meredith",
          "Franklin",
          "Blanche",
          "Ana",
          "Meenakshi",
          "Gil",
          "Walker",
          "Wade",
          "Burns",
          "Dolly",
          "Glenn",
          "Margo",
          "Wells",
          "Erik",
          "Cole",
          "Wally",
          "Choi",
          "Jerome",
          "Lorraine",
          "Louie",
          "Igor",
          "Millie",
          "Kay",
          "Meera",
          "Marcia",
          "Marta",
          "Javier",
          "Kamini",
          "Yu",
          "Van",
          "Verma",
          "Austin",
          "Crawford",
          "Marco",
          "Warren",
          "Grant",
          "Buck",
          "Roberta",
          "Montgomery",
          "Jensen",
          "Geoffrey",
          "Finn",
          "Gypsy",
          "Moses",
          "Morris",
          "Elisabeth",
          "Ross",
          "Mildred",
          "Dwight",
          "Sal",
          "Milton",
          "Ellis",
          "Briggs",
          "Hari",
          "Francesca",
          "Rico",
          "Regina",
          "Suzie",
          "Divya",
          "Anu",
          "Savitri",
          "Georgie",
          "Saxena",
          "Alison",
          "Wesley",
          "Nicky",
          "Dee",
          "Preeti",
          "Quentin",
          "Sherman",
          "Renee",
          "Reynolds",
          "Ajit",
          "Siddharth",
          "Jen",
          "Roman",
          "Randolph",
          "Rai",
          "Spencer",
          "Wes",
          "Dante",
          "Fernando",
          "Tess",
          "Jared",
          "Camille",
          "Bunny",
          "Damien",
          "Alexis",
          "Elise",
          "Butch",
          "Theo",
          "Serena",
          "Tarzan",
          "Lara",
          "Nadia",
          "Angus",
          "Harlan",
          "Matthews",
          "Agatha",
          "Shelly",
          "Yuri",
          "Monty",
          "Otto",
          "Gabrielle",
          "Ira",
          "Stevie",
          "Shannon",
          "Cecil",
          "Francisco",
          "Connor",
          "Perry",
          "Gilbert",
          "Havaldar",
          "Janine",
          "Cassandra",
          "Sanjana",
          "Wu",
          "Gopi",
          "Romeo",
          "Belle",
          "Morton",
          "Werner",
          "Flynn",
          "Madge",
          "Gretchen",
          "Monique",
          "Wang",
          "Josef",
          "Rama",
          "Timmy",
          "Alberto",
          "Willis",
          "Abel",
          "Margot",
          "Khanna",
          "Amos",
          "Simpson",
          "Alvin",
          "Bates",
          "Mala",
          "Cookie",
          "Chan",
          "Roopa",
          "Kirby",
          "Adele",
          "Artie",
          "Gavin",
          "Vishal",
          "Stacey",
          "English",
          "Dwayne",
          "Gerry",
          "Durga",
          "Salim",
          "Peters",
          "Mallory",
          "Rich",
          "Jennings",
          "Powell",
          "Pearl",
          "Klaus",
          "Marian",
          "Monroe",
          "Mikey",
          "Rene",
          "Vinnie",
          "Dawn",
          "Sunita",
          "Emmett",
          "Edwards",
          "Chad",
          "Manny",
          "Jasmine",
          "Bella",
          "Gupta",
          "Jasper",
          "Kennedy",
          "Mahesh",
          "Bryan",
          "Kimberly",
          "Star",
          "Roxanne",
          "Erin",
          "Nadine",
          "Juliet",
          "Sherry",
          "Bailey",
          "Suman",
          "Morrison",
          "Darryl",
          "Milo",
          "Edwin",
          "Jon",
          "Spike",
          "Chelsea",
          "Georges",
          "Clifford",
          "Andrews",
          "Perkins",
          "Turner",
          "Hélène",
          "Lincoln",
          "Trudy",
          "Bishop",
          "Shobha",
          "Zach",
          "Donnie",
          "Madre",
          "Byron",
          "Chet",
          "Burke",
          "Norma",
          "Foster",
          "Melvin",
          "Lorna",
          "Banks",
          "Willy",
          "Marcel",
          "Rajiv",
          "Manu",
          "Jess",
          "Liu",
          "Robby",
          "Godzilla",
          "Suzy",
          "Alma",
          "Simmons",
          "Juliette"
         ],
         "y": [
          1305,
          621,
          591,
          567,
          531,
          513,
          505,
          451,
          440,
          428,
          422,
          401,
          396,
          384,
          371,
          338,
          336,
          331,
          317,
          314,
          307,
          305,
          300,
          294,
          292,
          285,
          283,
          280,
          268,
          262,
          260,
          259,
          259,
          252,
          248,
          243,
          239,
          236,
          229,
          229,
          229,
          225,
          220,
          218,
          214,
          213,
          211,
          207,
          206,
          205,
          204,
          203,
          201,
          201,
          200,
          199,
          199,
          197,
          196,
          196,
          196,
          194,
          193,
          192,
          191,
          191,
          191,
          186,
          184,
          184,
          182,
          176,
          174,
          174,
          174,
          173,
          167,
          167,
          167,
          165,
          164,
          164,
          159,
          158,
          156,
          154,
          153,
          152,
          152,
          151,
          150,
          149,
          148,
          147,
          147,
          147,
          146,
          146,
          146,
          145,
          143,
          143,
          143,
          142,
          141,
          140,
          140,
          139,
          138,
          137,
          137,
          136,
          136,
          134,
          133,
          133,
          133,
          132,
          132,
          131,
          131,
          131,
          129,
          128,
          128,
          128,
          127,
          127,
          126,
          125,
          122,
          122,
          121,
          121,
          121,
          121,
          120,
          119,
          119,
          118,
          118,
          118,
          117,
          117,
          116,
          116,
          116,
          116,
          116,
          115,
          115,
          114,
          114,
          113,
          113,
          112,
          112,
          112,
          112,
          112,
          111,
          111,
          111,
          111,
          111,
          111,
          110,
          110,
          109,
          108,
          106,
          105,
          105,
          105,
          105,
          105,
          104,
          104,
          104,
          104,
          103,
          102,
          102,
          102,
          102,
          101,
          101,
          101,
          101,
          101,
          101,
          100,
          100,
          99,
          99,
          99,
          98,
          98,
          98,
          97,
          96,
          96,
          96,
          96,
          95,
          95,
          95,
          95,
          95,
          94,
          94,
          94,
          93,
          93,
          93,
          92,
          92,
          92,
          92,
          92,
          92,
          92,
          91,
          91,
          90,
          90,
          89,
          89,
          89,
          88,
          88,
          88,
          88,
          87,
          87,
          87,
          87,
          87,
          87,
          86,
          86,
          86,
          85,
          85,
          85,
          84,
          84,
          84,
          84,
          84,
          83,
          83,
          83,
          83,
          83,
          83,
          83,
          82,
          82,
          82,
          82,
          82,
          82,
          81,
          81,
          81,
          81,
          81,
          81,
          81,
          81,
          80,
          80,
          80,
          80,
          79,
          79,
          79,
          79,
          79,
          79,
          79,
          79,
          78,
          78,
          78,
          78,
          77,
          77,
          77,
          77,
          77,
          77,
          77,
          77,
          76,
          76,
          75,
          75,
          75,
          75,
          75,
          75,
          74,
          74,
          74,
          74,
          74,
          73,
          73,
          73,
          73,
          72,
          72,
          72,
          72,
          72,
          71,
          71,
          71,
          71,
          71,
          71,
          71,
          71,
          70,
          70,
          70,
          70,
          70,
          70,
          70,
          69,
          69,
          69,
          69,
          69,
          68,
          68,
          68,
          68,
          68,
          68,
          68,
          68,
          68,
          67,
          67,
          67,
          67,
          67,
          67,
          66,
          66,
          65,
          65,
          65,
          65,
          65,
          65,
          65,
          65,
          65,
          65,
          64,
          64,
          64,
          64,
          64,
          64,
          64,
          64,
          63,
          63,
          63,
          63,
          63,
          63,
          63,
          63,
          63,
          63,
          62,
          62,
          62,
          62,
          62,
          62,
          62,
          62,
          61,
          61,
          61,
          61,
          61,
          61,
          60,
          60,
          60,
          60,
          60,
          60,
          60,
          60,
          60,
          60,
          60,
          59,
          59,
          58,
          58,
          58,
          58,
          58,
          58,
          58,
          58,
          57,
          57,
          57,
          57,
          57,
          57,
          56,
          56,
          56,
          56,
          56,
          56,
          56,
          56,
          56,
          56,
          56,
          56,
          55,
          55,
          55,
          55,
          55,
          55,
          55,
          55,
          55,
          55,
          55,
          55,
          54,
          54,
          54,
          54,
          54,
          54,
          54,
          54,
          54,
          54,
          54,
          53,
          53,
          53,
          53,
          53,
          53,
          53,
          53,
          53,
          52,
          52,
          52,
          52,
          52,
          52,
          52,
          52,
          52,
          52,
          52,
          52,
          52,
          52,
          51,
          51,
          51,
          51,
          51,
          51,
          51,
          51,
          51,
          51,
          50,
          50,
          50,
          50,
          50,
          50,
          50,
          50,
          50,
          50,
          50,
          50,
          50,
          50,
          50,
          49,
          49,
          49,
          49,
          49,
          49,
          49,
          49,
          49,
          49,
          49,
          49,
          49,
          48,
          48,
          48,
          48,
          48,
          48,
          48,
          48,
          48,
          48,
          48,
          47,
          47,
          47,
          47,
          47,
          47,
          47,
          47,
          47,
          47,
          47,
          47,
          47,
          47,
          47,
          47,
          47,
          47,
          47,
          46,
          46,
          46,
          46,
          46,
          46,
          46,
          46,
          46,
          46,
          46,
          46,
          46,
          46,
          45,
          45,
          45,
          45,
          45,
          45,
          45,
          45,
          45,
          45,
          45,
          45,
          45,
          45,
          45,
          45,
          45,
          45,
          44,
          44,
          44,
          44,
          44,
          44,
          44,
          44,
          44,
          44,
          44,
          44,
          44,
          44,
          44,
          44,
          44,
          43,
          43,
          43,
          43,
          43,
          43,
          43,
          43,
          43,
          43,
          43,
          43,
          43,
          43,
          43,
          43,
          43,
          42,
          42,
          42,
          42,
          42,
          42,
          42,
          42,
          42,
          42,
          42,
          42,
          42,
          42,
          42,
          42,
          42,
          42,
          42,
          42,
          42,
          42,
          41,
          41,
          41,
          41,
          41,
          41,
          41,
          41,
          41,
          41,
          41,
          41,
          41,
          41,
          41,
          41,
          41,
          41,
          41,
          41,
          41,
          40,
          40,
          40,
          40,
          40,
          40,
          40,
          40,
          40,
          40,
          40,
          40,
          40,
          40,
          40,
          40,
          39,
          39,
          39,
          39,
          39,
          39,
          39,
          39,
          39,
          39,
          39,
          38,
          38,
          38,
          38,
          38,
          38,
          38,
          38,
          38,
          38,
          38,
          38,
          38,
          38,
          38,
          38,
          38,
          38,
          38,
          38,
          37,
          37,
          37,
          37,
          37,
          37,
          37,
          37,
          37,
          37,
          37,
          37,
          37,
          37,
          37,
          37,
          37,
          37,
          37,
          36,
          36,
          36,
          36,
          36,
          36,
          36,
          36,
          36,
          36,
          36,
          36,
          36,
          36,
          36,
          36,
          36,
          36,
          36,
          36,
          35,
          35,
          35,
          35,
          35,
          35,
          35,
          35,
          35,
          35,
          35,
          35,
          35,
          35,
          35,
          35,
          35,
          35,
          35,
          35,
          35,
          35,
          35,
          35,
          35,
          35,
          35,
          34,
          34,
          34,
          34,
          34,
          34,
          34,
          34,
          34,
          34,
          34,
          34,
          34,
          34,
          34,
          34,
          34,
          34,
          34,
          33,
          33,
          33,
          33,
          33,
          33,
          33,
          33,
          33,
          33,
          33,
          33,
          33,
          33,
          33,
          33,
          33,
          33,
          33,
          33,
          33,
          33,
          33,
          33,
          33,
          33,
          33,
          32,
          32,
          32,
          32,
          32,
          32,
          32,
          32,
          32,
          32,
          32,
          32,
          32,
          32,
          32,
          32,
          32,
          32,
          32,
          32,
          32,
          32,
          32,
          32,
          32,
          32,
          32,
          32,
          32,
          31,
          31,
          31,
          31,
          31,
          31,
          31,
          31,
          31,
          31,
          31,
          31,
          31,
          31,
          31,
          31,
          31,
          31,
          31,
          31,
          31,
          31,
          31,
          31,
          31,
          31,
          31,
          31,
          31,
          31,
          31,
          30,
          30,
          30,
          30,
          30,
          30,
          30,
          30,
          30,
          30,
          30,
          30,
          30,
          30,
          30,
          30,
          30,
          30,
          30,
          30,
          30,
          30,
          30,
          30,
          30,
          30,
          30,
          30,
          30,
          30,
          30,
          30,
          30,
          30,
          30,
          30,
          30,
          30,
          30,
          30,
          30,
          29,
          29,
          29,
          29,
          29,
          29,
          29,
          29,
          29,
          29,
          29,
          29,
          29,
          29,
          29,
          29,
          29,
          29,
          29,
          29,
          29,
          29,
          29,
          29,
          29,
          29,
          29,
          29,
          28,
          28,
          28,
          28,
          28,
          28,
          28,
          28,
          28,
          28,
          28,
          28,
          28,
          28,
          28,
          28,
          28,
          28,
          28,
          28,
          28,
          28,
          28,
          28,
          28,
          28,
          28,
          28,
          28,
          28,
          28,
          27,
          27,
          27,
          27,
          27,
          27,
          27,
          27,
          27,
          27,
          27,
          27,
          27,
          27,
          27,
          27,
          27,
          27,
          27,
          27,
          27,
          27,
          27
         ]
        }
       ],
       "layout": {
        "template": {
         "data": {
          "bar": [
           {
            "error_x": {
             "color": "#2a3f5f"
            },
            "error_y": {
             "color": "#2a3f5f"
            },
            "marker": {
             "line": {
              "color": "#E5ECF6",
              "width": 0.5
             },
             "pattern": {
              "fillmode": "overlay",
              "size": 10,
              "solidity": 0.2
             }
            },
            "type": "bar"
           }
          ],
          "barpolar": [
           {
            "marker": {
             "line": {
              "color": "#E5ECF6",
              "width": 0.5
             },
             "pattern": {
              "fillmode": "overlay",
              "size": 10,
              "solidity": 0.2
             }
            },
            "type": "barpolar"
           }
          ],
          "carpet": [
           {
            "aaxis": {
             "endlinecolor": "#2a3f5f",
             "gridcolor": "white",
             "linecolor": "white",
             "minorgridcolor": "white",
             "startlinecolor": "#2a3f5f"
            },
            "baxis": {
             "endlinecolor": "#2a3f5f",
             "gridcolor": "white",
             "linecolor": "white",
             "minorgridcolor": "white",
             "startlinecolor": "#2a3f5f"
            },
            "type": "carpet"
           }
          ],
          "choropleth": [
           {
            "colorbar": {
             "outlinewidth": 0,
             "ticks": ""
            },
            "type": "choropleth"
           }
          ],
          "contour": [
           {
            "colorbar": {
             "outlinewidth": 0,
             "ticks": ""
            },
            "colorscale": [
             [
              0,
              "#0d0887"
             ],
             [
              0.1111111111111111,
              "#46039f"
             ],
             [
              0.2222222222222222,
              "#7201a8"
             ],
             [
              0.3333333333333333,
              "#9c179e"
             ],
             [
              0.4444444444444444,
              "#bd3786"
             ],
             [
              0.5555555555555556,
              "#d8576b"
             ],
             [
              0.6666666666666666,
              "#ed7953"
             ],
             [
              0.7777777777777778,
              "#fb9f3a"
             ],
             [
              0.8888888888888888,
              "#fdca26"
             ],
             [
              1,
              "#f0f921"
             ]
            ],
            "type": "contour"
           }
          ],
          "contourcarpet": [
           {
            "colorbar": {
             "outlinewidth": 0,
             "ticks": ""
            },
            "type": "contourcarpet"
           }
          ],
          "heatmap": [
           {
            "colorbar": {
             "outlinewidth": 0,
             "ticks": ""
            },
            "colorscale": [
             [
              0,
              "#0d0887"
             ],
             [
              0.1111111111111111,
              "#46039f"
             ],
             [
              0.2222222222222222,
              "#7201a8"
             ],
             [
              0.3333333333333333,
              "#9c179e"
             ],
             [
              0.4444444444444444,
              "#bd3786"
             ],
             [
              0.5555555555555556,
              "#d8576b"
             ],
             [
              0.6666666666666666,
              "#ed7953"
             ],
             [
              0.7777777777777778,
              "#fb9f3a"
             ],
             [
              0.8888888888888888,
              "#fdca26"
             ],
             [
              1,
              "#f0f921"
             ]
            ],
            "type": "heatmap"
           }
          ],
          "heatmapgl": [
           {
            "colorbar": {
             "outlinewidth": 0,
             "ticks": ""
            },
            "colorscale": [
             [
              0,
              "#0d0887"
             ],
             [
              0.1111111111111111,
              "#46039f"
             ],
             [
              0.2222222222222222,
              "#7201a8"
             ],
             [
              0.3333333333333333,
              "#9c179e"
             ],
             [
              0.4444444444444444,
              "#bd3786"
             ],
             [
              0.5555555555555556,
              "#d8576b"
             ],
             [
              0.6666666666666666,
              "#ed7953"
             ],
             [
              0.7777777777777778,
              "#fb9f3a"
             ],
             [
              0.8888888888888888,
              "#fdca26"
             ],
             [
              1,
              "#f0f921"
             ]
            ],
            "type": "heatmapgl"
           }
          ],
          "histogram": [
           {
            "marker": {
             "pattern": {
              "fillmode": "overlay",
              "size": 10,
              "solidity": 0.2
             }
            },
            "type": "histogram"
           }
          ],
          "histogram2d": [
           {
            "colorbar": {
             "outlinewidth": 0,
             "ticks": ""
            },
            "colorscale": [
             [
              0,
              "#0d0887"
             ],
             [
              0.1111111111111111,
              "#46039f"
             ],
             [
              0.2222222222222222,
              "#7201a8"
             ],
             [
              0.3333333333333333,
              "#9c179e"
             ],
             [
              0.4444444444444444,
              "#bd3786"
             ],
             [
              0.5555555555555556,
              "#d8576b"
             ],
             [
              0.6666666666666666,
              "#ed7953"
             ],
             [
              0.7777777777777778,
              "#fb9f3a"
             ],
             [
              0.8888888888888888,
              "#fdca26"
             ],
             [
              1,
              "#f0f921"
             ]
            ],
            "type": "histogram2d"
           }
          ],
          "histogram2dcontour": [
           {
            "colorbar": {
             "outlinewidth": 0,
             "ticks": ""
            },
            "colorscale": [
             [
              0,
              "#0d0887"
             ],
             [
              0.1111111111111111,
              "#46039f"
             ],
             [
              0.2222222222222222,
              "#7201a8"
             ],
             [
              0.3333333333333333,
              "#9c179e"
             ],
             [
              0.4444444444444444,
              "#bd3786"
             ],
             [
              0.5555555555555556,
              "#d8576b"
             ],
             [
              0.6666666666666666,
              "#ed7953"
             ],
             [
              0.7777777777777778,
              "#fb9f3a"
             ],
             [
              0.8888888888888888,
              "#fdca26"
             ],
             [
              1,
              "#f0f921"
             ]
            ],
            "type": "histogram2dcontour"
           }
          ],
          "mesh3d": [
           {
            "colorbar": {
             "outlinewidth": 0,
             "ticks": ""
            },
            "type": "mesh3d"
           }
          ],
          "parcoords": [
           {
            "line": {
             "colorbar": {
              "outlinewidth": 0,
              "ticks": ""
             }
            },
            "type": "parcoords"
           }
          ],
          "pie": [
           {
            "automargin": true,
            "type": "pie"
           }
          ],
          "scatter": [
           {
            "fillpattern": {
             "fillmode": "overlay",
             "size": 10,
             "solidity": 0.2
            },
            "type": "scatter"
           }
          ],
          "scatter3d": [
           {
            "line": {
             "colorbar": {
              "outlinewidth": 0,
              "ticks": ""
             }
            },
            "marker": {
             "colorbar": {
              "outlinewidth": 0,
              "ticks": ""
             }
            },
            "type": "scatter3d"
           }
          ],
          "scattercarpet": [
           {
            "marker": {
             "colorbar": {
              "outlinewidth": 0,
              "ticks": ""
             }
            },
            "type": "scattercarpet"
           }
          ],
          "scattergeo": [
           {
            "marker": {
             "colorbar": {
              "outlinewidth": 0,
              "ticks": ""
             }
            },
            "type": "scattergeo"
           }
          ],
          "scattergl": [
           {
            "marker": {
             "colorbar": {
              "outlinewidth": 0,
              "ticks": ""
             }
            },
            "type": "scattergl"
           }
          ],
          "scattermapbox": [
           {
            "marker": {
             "colorbar": {
              "outlinewidth": 0,
              "ticks": ""
             }
            },
            "type": "scattermapbox"
           }
          ],
          "scatterpolar": [
           {
            "marker": {
             "colorbar": {
              "outlinewidth": 0,
              "ticks": ""
             }
            },
            "type": "scatterpolar"
           }
          ],
          "scatterpolargl": [
           {
            "marker": {
             "colorbar": {
              "outlinewidth": 0,
              "ticks": ""
             }
            },
            "type": "scatterpolargl"
           }
          ],
          "scatterternary": [
           {
            "marker": {
             "colorbar": {
              "outlinewidth": 0,
              "ticks": ""
             }
            },
            "type": "scatterternary"
           }
          ],
          "surface": [
           {
            "colorbar": {
             "outlinewidth": 0,
             "ticks": ""
            },
            "colorscale": [
             [
              0,
              "#0d0887"
             ],
             [
              0.1111111111111111,
              "#46039f"
             ],
             [
              0.2222222222222222,
              "#7201a8"
             ],
             [
              0.3333333333333333,
              "#9c179e"
             ],
             [
              0.4444444444444444,
              "#bd3786"
             ],
             [
              0.5555555555555556,
              "#d8576b"
             ],
             [
              0.6666666666666666,
              "#ed7953"
             ],
             [
              0.7777777777777778,
              "#fb9f3a"
             ],
             [
              0.8888888888888888,
              "#fdca26"
             ],
             [
              1,
              "#f0f921"
             ]
            ],
            "type": "surface"
           }
          ],
          "table": [
           {
            "cells": {
             "fill": {
              "color": "#EBF0F8"
             },
             "line": {
              "color": "white"
             }
            },
            "header": {
             "fill": {
              "color": "#C8D4E3"
             },
             "line": {
              "color": "white"
             }
            },
            "type": "table"
           }
          ]
         },
         "layout": {
          "annotationdefaults": {
           "arrowcolor": "#2a3f5f",
           "arrowhead": 0,
           "arrowwidth": 1
          },
          "autotypenumbers": "strict",
          "coloraxis": {
           "colorbar": {
            "outlinewidth": 0,
            "ticks": ""
           }
          },
          "colorscale": {
           "diverging": [
            [
             0,
             "#8e0152"
            ],
            [
             0.1,
             "#c51b7d"
            ],
            [
             0.2,
             "#de77ae"
            ],
            [
             0.3,
             "#f1b6da"
            ],
            [
             0.4,
             "#fde0ef"
            ],
            [
             0.5,
             "#f7f7f7"
            ],
            [
             0.6,
             "#e6f5d0"
            ],
            [
             0.7,
             "#b8e186"
            ],
            [
             0.8,
             "#7fbc41"
            ],
            [
             0.9,
             "#4d9221"
            ],
            [
             1,
             "#276419"
            ]
           ],
           "sequential": [
            [
             0,
             "#0d0887"
            ],
            [
             0.1111111111111111,
             "#46039f"
            ],
            [
             0.2222222222222222,
             "#7201a8"
            ],
            [
             0.3333333333333333,
             "#9c179e"
            ],
            [
             0.4444444444444444,
             "#bd3786"
            ],
            [
             0.5555555555555556,
             "#d8576b"
            ],
            [
             0.6666666666666666,
             "#ed7953"
            ],
            [
             0.7777777777777778,
             "#fb9f3a"
            ],
            [
             0.8888888888888888,
             "#fdca26"
            ],
            [
             1,
             "#f0f921"
            ]
           ],
           "sequentialminus": [
            [
             0,
             "#0d0887"
            ],
            [
             0.1111111111111111,
             "#46039f"
            ],
            [
             0.2222222222222222,
             "#7201a8"
            ],
            [
             0.3333333333333333,
             "#9c179e"
            ],
            [
             0.4444444444444444,
             "#bd3786"
            ],
            [
             0.5555555555555556,
             "#d8576b"
            ],
            [
             0.6666666666666666,
             "#ed7953"
            ],
            [
             0.7777777777777778,
             "#fb9f3a"
            ],
            [
             0.8888888888888888,
             "#fdca26"
            ],
            [
             1,
             "#f0f921"
            ]
           ]
          },
          "colorway": [
           "#636efa",
           "#EF553B",
           "#00cc96",
           "#ab63fa",
           "#FFA15A",
           "#19d3f3",
           "#FF6692",
           "#B6E880",
           "#FF97FF",
           "#FECB52"
          ],
          "font": {
           "color": "#2a3f5f"
          },
          "geo": {
           "bgcolor": "white",
           "lakecolor": "white",
           "landcolor": "#E5ECF6",
           "showlakes": true,
           "showland": true,
           "subunitcolor": "white"
          },
          "hoverlabel": {
           "align": "left"
          },
          "hovermode": "closest",
          "mapbox": {
           "style": "light"
          },
          "paper_bgcolor": "white",
          "plot_bgcolor": "#E5ECF6",
          "polar": {
           "angularaxis": {
            "gridcolor": "white",
            "linecolor": "white",
            "ticks": ""
           },
           "bgcolor": "#E5ECF6",
           "radialaxis": {
            "gridcolor": "white",
            "linecolor": "white",
            "ticks": ""
           }
          },
          "scene": {
           "xaxis": {
            "backgroundcolor": "#E5ECF6",
            "gridcolor": "white",
            "gridwidth": 2,
            "linecolor": "white",
            "showbackground": true,
            "ticks": "",
            "zerolinecolor": "white"
           },
           "yaxis": {
            "backgroundcolor": "#E5ECF6",
            "gridcolor": "white",
            "gridwidth": 2,
            "linecolor": "white",
            "showbackground": true,
            "ticks": "",
            "zerolinecolor": "white"
           },
           "zaxis": {
            "backgroundcolor": "#E5ECF6",
            "gridcolor": "white",
            "gridwidth": 2,
            "linecolor": "white",
            "showbackground": true,
            "ticks": "",
            "zerolinecolor": "white"
           }
          },
          "shapedefaults": {
           "line": {
            "color": "#2a3f5f"
           }
          },
          "ternary": {
           "aaxis": {
            "gridcolor": "white",
            "linecolor": "white",
            "ticks": ""
           },
           "baxis": {
            "gridcolor": "white",
            "linecolor": "white",
            "ticks": ""
           },
           "bgcolor": "#E5ECF6",
           "caxis": {
            "gridcolor": "white",
            "linecolor": "white",
            "ticks": ""
           }
          },
          "title": {
           "x": 0.05
          },
          "xaxis": {
           "automargin": true,
           "gridcolor": "white",
           "linecolor": "white",
           "ticks": "",
           "title": {
            "standoff": 15
           },
           "zerolinecolor": "white",
           "zerolinewidth": 2
          },
          "yaxis": {
           "automargin": true,
           "gridcolor": "white",
           "linecolor": "white",
           "ticks": "",
           "title": {
            "standoff": 15
           },
           "zerolinecolor": "white",
           "zerolinewidth": 2
          }
         }
        },
        "title": {
         "text": "1000 Most Popular Character Names"
        },
        "xaxis": {
         "showticklabels": false,
         "title": {
          "text": "Character Name"
         }
        },
        "yaxis": {
         "title": {
          "text": "Count"
         }
        }
       }
      }
     },
     "metadata": {},
     "output_type": "display_data"
    }
   ],
   "source": [
    "# Creating the top 1000 most popular character names set\n",
    "name_counts = df_char_cleaned['Character_name'].value_counts()\n",
    "top_100_names = name_counts.head(1000)\n",
    "\n",
    "fig = go.Figure()\n",
    "\n",
    "fig.add_trace(go.Scatter(\n",
    "    x=top_100_names.index,\n",
    "    y=top_100_names.values,\n",
    "    mode='lines+markers',\n",
    "    name='Character Count',\n",
    "    line=dict(color='skyblue'),\n",
    "    hovertext=[f\"Name: {name}<br>Count: {count}\" for name, count in zip(top_100_names.index, top_100_names.values)],\n",
    "    hoverinfo=\"text\"\n",
    "))\n",
    "\n",
    "fig.update_layout(\n",
    "    title='1000 Most Popular Character Names',\n",
    "    xaxis_title='Character Name',\n",
    "    yaxis_title='Count',\n",
    "    xaxis=dict(showticklabels=False)\n",
    ")\n",
    "\n",
    "fig.show()"
   ]
  },
  {
   "cell_type": "markdown",
   "metadata": {},
   "source": [
    "We can clearly see that John is the most popular name given to characters, with 1305 appartitions. One possible explanation is that John Doe was used in North America to refer to “any man whose name is unknown”. This could explain its appearance in this many movies, far ahead of the second most common name, Georges, with 621 appearances.\n",
    "\n",
    "**P3 :**  Excluding the most common names, which may skew the predictive model due to their high frequency, could lead to more accurate results."
   ]
  },
  {
   "cell_type": "markdown",
   "metadata": {},
   "source": [
    "# 2. General Analysis"
   ]
  },
  {
   "cell_type": "markdown",
   "metadata": {},
   "source": [
    "## 2.1 Genre analysis"
   ]
  },
  {
   "cell_type": "markdown",
   "metadata": {},
   "source": [
    "### 2.1.a Top names depending on Movie's Genre"
   ]
  },
  {
   "cell_type": "markdown",
   "metadata": {},
   "source": [
    "*Interactive hover plot in this section*"
   ]
  },
  {
   "cell_type": "code",
   "execution_count": 44,
   "metadata": {},
   "outputs": [],
   "source": [
    "analyze_genre = GenreAnalyzer(df_char_cleaned)\n",
    "\n",
    "frequent_names_m, frequent_names_f = analyze_genre.get_top_names_by_genre(10)\n",
    "\n",
    "data_f = analyze_genre.create_sunburst_data(frequent_names_f)\n",
    "data_m = analyze_genre.create_sunburst_data(frequent_names_m)"
   ]
  },
  {
   "cell_type": "code",
   "execution_count": 45,
   "metadata": {},
   "outputs": [
    {
     "data": {
      "application/vnd.plotly.v1+json": {
       "config": {
        "plotlyServerURL": "https://plot.ly"
       },
       "data": [
        {
         "domain": {
          "column": 1,
          "x": [
           0,
           0.45
          ],
          "y": [
           0,
           1
          ]
         },
         "labels": [
          "Movies' Genres",
          "Action & Adventure",
          "Drama",
          "Comedy",
          "Horror & Thriller",
          "Fantasy & Sci-Fi",
          "Historical & War",
          "Romance",
          "Documentary",
          "Music & Performance",
          "Cult & B-Movies",
          "Other",
          "Sarah",
          "Susan",
          "Alice",
          "Mary",
          "Rachel",
          "Lisa",
          "Julie",
          "Kate",
          "Helen",
          "Elizabeth",
          "Sarah",
          "Mary",
          "Helen",
          "Alice",
          "Susan",
          "Elizabeth",
          "Kate",
          "Rachel",
          "Julie",
          "Marie",
          "Mary",
          "Sarah",
          "Kate",
          "Julie",
          "Alice",
          "Susan",
          "Helen",
          "Elizabeth",
          "Lisa",
          "Barbara",
          "Sarah",
          "Rachel",
          "Susan",
          "Alice",
          "Karen",
          "Helen",
          "Lisa",
          "Kate",
          "Elizabeth",
          "Claire",
          "Susan",
          "Alice",
          "Sarah",
          "Elizabeth",
          "Mary",
          "Claire",
          "Kate",
          "Jane",
          "Lisa",
          "Rachel",
          "Elizabeth",
          "Sarah",
          "Mary",
          "Anne",
          "Helen",
          "Margaret",
          "Marie",
          "Alice",
          "Charlotte",
          "Catherine",
          "Sarah",
          "Helen",
          "Elizabeth",
          "Julie",
          "Mary",
          "Susan",
          "Kate",
          "Alice",
          "Marie",
          "Maggie",
          "Elizabeth",
          "Margaret",
          "Helen",
          "Barbara",
          "Marie",
          "Mary",
          "Alice",
          "Sarah",
          "Dorothy",
          "Louise",
          "Pooja",
          "Priya",
          "Tina",
          "Anjali",
          "Mary",
          "Julie",
          "Sonia",
          "Radha",
          "Sarah",
          "Anita",
          "Mary",
          "Sarah",
          "Helen",
          "Kate",
          "Rachel",
          "Alice",
          "Linda",
          "Maggie",
          "Lisa",
          "Karen",
          "Radha",
          "Rachel",
          "Anna",
          "Pooja",
          "Priya",
          "Neha",
          "Shanti",
          "Madhu",
          "Nisha",
          "Geeta"
         ],
         "maxdepth": 2,
         "parents": [
          "",
          "Movies' Genres",
          "Movies' Genres",
          "Movies' Genres",
          "Movies' Genres",
          "Movies' Genres",
          "Movies' Genres",
          "Movies' Genres",
          "Movies' Genres",
          "Movies' Genres",
          "Movies' Genres",
          "Movies' Genres",
          "Action & Adventure",
          "Action & Adventure",
          "Action & Adventure",
          "Action & Adventure",
          "Action & Adventure",
          "Action & Adventure",
          "Action & Adventure",
          "Action & Adventure",
          "Action & Adventure",
          "Action & Adventure",
          "Drama",
          "Drama",
          "Drama",
          "Drama",
          "Drama",
          "Drama",
          "Drama",
          "Drama",
          "Drama",
          "Drama",
          "Comedy",
          "Comedy",
          "Comedy",
          "Comedy",
          "Comedy",
          "Comedy",
          "Comedy",
          "Comedy",
          "Comedy",
          "Comedy",
          "Horror & Thriller",
          "Horror & Thriller",
          "Horror & Thriller",
          "Horror & Thriller",
          "Horror & Thriller",
          "Horror & Thriller",
          "Horror & Thriller",
          "Horror & Thriller",
          "Horror & Thriller",
          "Horror & Thriller",
          "Fantasy & Sci-Fi",
          "Fantasy & Sci-Fi",
          "Fantasy & Sci-Fi",
          "Fantasy & Sci-Fi",
          "Fantasy & Sci-Fi",
          "Fantasy & Sci-Fi",
          "Fantasy & Sci-Fi",
          "Fantasy & Sci-Fi",
          "Fantasy & Sci-Fi",
          "Fantasy & Sci-Fi",
          "Historical & War",
          "Historical & War",
          "Historical & War",
          "Historical & War",
          "Historical & War",
          "Historical & War",
          "Historical & War",
          "Historical & War",
          "Historical & War",
          "Historical & War",
          "Romance",
          "Romance",
          "Romance",
          "Romance",
          "Romance",
          "Romance",
          "Romance",
          "Romance",
          "Romance",
          "Romance",
          "Documentary",
          "Documentary",
          "Documentary",
          "Documentary",
          "Documentary",
          "Documentary",
          "Documentary",
          "Documentary",
          "Documentary",
          "Documentary",
          "Music & Performance",
          "Music & Performance",
          "Music & Performance",
          "Music & Performance",
          "Music & Performance",
          "Music & Performance",
          "Music & Performance",
          "Music & Performance",
          "Music & Performance",
          "Music & Performance",
          "Cult & B-Movies",
          "Cult & B-Movies",
          "Cult & B-Movies",
          "Cult & B-Movies",
          "Cult & B-Movies",
          "Cult & B-Movies",
          "Cult & B-Movies",
          "Cult & B-Movies",
          "Cult & B-Movies",
          "Cult & B-Movies",
          "Other",
          "Other",
          "Other",
          "Other",
          "Other",
          "Other",
          "Other",
          "Other",
          "Other",
          "Other"
         ],
         "type": "sunburst"
        },
        {
         "domain": {
          "column": 1,
          "x": [
           0.55,
           1
          ],
          "y": [
           0,
           1
          ]
         },
         "labels": [
          "Movies' Genres",
          "Action & Adventure",
          "Drama",
          "Comedy",
          "Horror & Thriller",
          "Fantasy & Sci-Fi",
          "Historical & War",
          "Romance",
          "Documentary",
          "Music & Performance",
          "Cult & B-Movies",
          "Other",
          "John",
          "Tom",
          "James",
          "David",
          "George",
          "Michael",
          "Robert",
          "William",
          "Jim",
          "Paul",
          "John",
          "David",
          "George",
          "Tom",
          "Paul",
          "James",
          "Michael",
          "Robert",
          "Charles",
          "Jack",
          "John",
          "George",
          "Tom",
          "Paul",
          "Charlie",
          "Jack",
          "Michael",
          "David",
          "Moe",
          "Joe",
          "John",
          "Michael",
          "David",
          "Tom",
          "Paul",
          "James",
          "Robert",
          "George",
          "Jack",
          "Richard",
          "John",
          "George",
          "David",
          "Tom",
          "James",
          "Michael",
          "Robert",
          "Charlie",
          "Jack",
          "William",
          "John",
          "William",
          "George",
          "Robert",
          "Charles",
          "James",
          "Thomas",
          "David",
          "Richard",
          "Tom",
          "John",
          "Paul",
          "David",
          "George",
          "Tom",
          "Michael",
          "Richard",
          "Robert",
          "Charlie",
          "James",
          "John",
          "George",
          "Robert",
          "William",
          "Charles",
          "David",
          "Richard",
          "James",
          "Paul",
          "Tom",
          "John",
          "George",
          "Paul",
          "Vijay",
          "Joe",
          "Shekhar",
          "Charlie",
          "Johnny",
          "Rahul",
          "David",
          "John",
          "Jack",
          "Tom",
          "David",
          "George",
          "Paul",
          "Michael",
          "Jim",
          "Charlie",
          "James",
          "John",
          "George",
          "Christmas",
          "Mickey",
          "James",
          "Richard",
          "Philip",
          "Tom",
          "Vijay",
          "Max"
         ],
         "maxdepth": 2,
         "parents": [
          "",
          "Movies' Genres",
          "Movies' Genres",
          "Movies' Genres",
          "Movies' Genres",
          "Movies' Genres",
          "Movies' Genres",
          "Movies' Genres",
          "Movies' Genres",
          "Movies' Genres",
          "Movies' Genres",
          "Movies' Genres",
          "Action & Adventure",
          "Action & Adventure",
          "Action & Adventure",
          "Action & Adventure",
          "Action & Adventure",
          "Action & Adventure",
          "Action & Adventure",
          "Action & Adventure",
          "Action & Adventure",
          "Action & Adventure",
          "Drama",
          "Drama",
          "Drama",
          "Drama",
          "Drama",
          "Drama",
          "Drama",
          "Drama",
          "Drama",
          "Drama",
          "Comedy",
          "Comedy",
          "Comedy",
          "Comedy",
          "Comedy",
          "Comedy",
          "Comedy",
          "Comedy",
          "Comedy",
          "Comedy",
          "Horror & Thriller",
          "Horror & Thriller",
          "Horror & Thriller",
          "Horror & Thriller",
          "Horror & Thriller",
          "Horror & Thriller",
          "Horror & Thriller",
          "Horror & Thriller",
          "Horror & Thriller",
          "Horror & Thriller",
          "Fantasy & Sci-Fi",
          "Fantasy & Sci-Fi",
          "Fantasy & Sci-Fi",
          "Fantasy & Sci-Fi",
          "Fantasy & Sci-Fi",
          "Fantasy & Sci-Fi",
          "Fantasy & Sci-Fi",
          "Fantasy & Sci-Fi",
          "Fantasy & Sci-Fi",
          "Fantasy & Sci-Fi",
          "Historical & War",
          "Historical & War",
          "Historical & War",
          "Historical & War",
          "Historical & War",
          "Historical & War",
          "Historical & War",
          "Historical & War",
          "Historical & War",
          "Historical & War",
          "Romance",
          "Romance",
          "Romance",
          "Romance",
          "Romance",
          "Romance",
          "Romance",
          "Romance",
          "Romance",
          "Romance",
          "Documentary",
          "Documentary",
          "Documentary",
          "Documentary",
          "Documentary",
          "Documentary",
          "Documentary",
          "Documentary",
          "Documentary",
          "Documentary",
          "Music & Performance",
          "Music & Performance",
          "Music & Performance",
          "Music & Performance",
          "Music & Performance",
          "Music & Performance",
          "Music & Performance",
          "Music & Performance",
          "Music & Performance",
          "Music & Performance",
          "Cult & B-Movies",
          "Cult & B-Movies",
          "Cult & B-Movies",
          "Cult & B-Movies",
          "Cult & B-Movies",
          "Cult & B-Movies",
          "Cult & B-Movies",
          "Cult & B-Movies",
          "Cult & B-Movies",
          "Cult & B-Movies",
          "Other",
          "Other",
          "Other",
          "Other",
          "Other",
          "Other",
          "Other",
          "Other",
          "Other",
          "Other"
         ],
         "type": "sunburst"
        }
       ],
       "layout": {
        "annotations": [
         {
          "font": {
           "size": 16
          },
          "showarrow": false,
          "text": "Females",
          "x": 0.225,
          "xanchor": "center",
          "xref": "paper",
          "y": 1,
          "yanchor": "bottom",
          "yref": "paper"
         },
         {
          "font": {
           "size": 16
          },
          "showarrow": false,
          "text": "Males",
          "x": 0.775,
          "xanchor": "center",
          "xref": "paper",
          "y": 1,
          "yanchor": "bottom",
          "yref": "paper"
         }
        ],
        "font": {
         "size": 13
        },
        "height": 800,
        "showlegend": false,
        "template": {
         "data": {
          "bar": [
           {
            "error_x": {
             "color": "#2a3f5f"
            },
            "error_y": {
             "color": "#2a3f5f"
            },
            "marker": {
             "line": {
              "color": "#E5ECF6",
              "width": 0.5
             },
             "pattern": {
              "fillmode": "overlay",
              "size": 10,
              "solidity": 0.2
             }
            },
            "type": "bar"
           }
          ],
          "barpolar": [
           {
            "marker": {
             "line": {
              "color": "#E5ECF6",
              "width": 0.5
             },
             "pattern": {
              "fillmode": "overlay",
              "size": 10,
              "solidity": 0.2
             }
            },
            "type": "barpolar"
           }
          ],
          "carpet": [
           {
            "aaxis": {
             "endlinecolor": "#2a3f5f",
             "gridcolor": "white",
             "linecolor": "white",
             "minorgridcolor": "white",
             "startlinecolor": "#2a3f5f"
            },
            "baxis": {
             "endlinecolor": "#2a3f5f",
             "gridcolor": "white",
             "linecolor": "white",
             "minorgridcolor": "white",
             "startlinecolor": "#2a3f5f"
            },
            "type": "carpet"
           }
          ],
          "choropleth": [
           {
            "colorbar": {
             "outlinewidth": 0,
             "ticks": ""
            },
            "type": "choropleth"
           }
          ],
          "contour": [
           {
            "colorbar": {
             "outlinewidth": 0,
             "ticks": ""
            },
            "colorscale": [
             [
              0,
              "#0d0887"
             ],
             [
              0.1111111111111111,
              "#46039f"
             ],
             [
              0.2222222222222222,
              "#7201a8"
             ],
             [
              0.3333333333333333,
              "#9c179e"
             ],
             [
              0.4444444444444444,
              "#bd3786"
             ],
             [
              0.5555555555555556,
              "#d8576b"
             ],
             [
              0.6666666666666666,
              "#ed7953"
             ],
             [
              0.7777777777777778,
              "#fb9f3a"
             ],
             [
              0.8888888888888888,
              "#fdca26"
             ],
             [
              1,
              "#f0f921"
             ]
            ],
            "type": "contour"
           }
          ],
          "contourcarpet": [
           {
            "colorbar": {
             "outlinewidth": 0,
             "ticks": ""
            },
            "type": "contourcarpet"
           }
          ],
          "heatmap": [
           {
            "colorbar": {
             "outlinewidth": 0,
             "ticks": ""
            },
            "colorscale": [
             [
              0,
              "#0d0887"
             ],
             [
              0.1111111111111111,
              "#46039f"
             ],
             [
              0.2222222222222222,
              "#7201a8"
             ],
             [
              0.3333333333333333,
              "#9c179e"
             ],
             [
              0.4444444444444444,
              "#bd3786"
             ],
             [
              0.5555555555555556,
              "#d8576b"
             ],
             [
              0.6666666666666666,
              "#ed7953"
             ],
             [
              0.7777777777777778,
              "#fb9f3a"
             ],
             [
              0.8888888888888888,
              "#fdca26"
             ],
             [
              1,
              "#f0f921"
             ]
            ],
            "type": "heatmap"
           }
          ],
          "heatmapgl": [
           {
            "colorbar": {
             "outlinewidth": 0,
             "ticks": ""
            },
            "colorscale": [
             [
              0,
              "#0d0887"
             ],
             [
              0.1111111111111111,
              "#46039f"
             ],
             [
              0.2222222222222222,
              "#7201a8"
             ],
             [
              0.3333333333333333,
              "#9c179e"
             ],
             [
              0.4444444444444444,
              "#bd3786"
             ],
             [
              0.5555555555555556,
              "#d8576b"
             ],
             [
              0.6666666666666666,
              "#ed7953"
             ],
             [
              0.7777777777777778,
              "#fb9f3a"
             ],
             [
              0.8888888888888888,
              "#fdca26"
             ],
             [
              1,
              "#f0f921"
             ]
            ],
            "type": "heatmapgl"
           }
          ],
          "histogram": [
           {
            "marker": {
             "pattern": {
              "fillmode": "overlay",
              "size": 10,
              "solidity": 0.2
             }
            },
            "type": "histogram"
           }
          ],
          "histogram2d": [
           {
            "colorbar": {
             "outlinewidth": 0,
             "ticks": ""
            },
            "colorscale": [
             [
              0,
              "#0d0887"
             ],
             [
              0.1111111111111111,
              "#46039f"
             ],
             [
              0.2222222222222222,
              "#7201a8"
             ],
             [
              0.3333333333333333,
              "#9c179e"
             ],
             [
              0.4444444444444444,
              "#bd3786"
             ],
             [
              0.5555555555555556,
              "#d8576b"
             ],
             [
              0.6666666666666666,
              "#ed7953"
             ],
             [
              0.7777777777777778,
              "#fb9f3a"
             ],
             [
              0.8888888888888888,
              "#fdca26"
             ],
             [
              1,
              "#f0f921"
             ]
            ],
            "type": "histogram2d"
           }
          ],
          "histogram2dcontour": [
           {
            "colorbar": {
             "outlinewidth": 0,
             "ticks": ""
            },
            "colorscale": [
             [
              0,
              "#0d0887"
             ],
             [
              0.1111111111111111,
              "#46039f"
             ],
             [
              0.2222222222222222,
              "#7201a8"
             ],
             [
              0.3333333333333333,
              "#9c179e"
             ],
             [
              0.4444444444444444,
              "#bd3786"
             ],
             [
              0.5555555555555556,
              "#d8576b"
             ],
             [
              0.6666666666666666,
              "#ed7953"
             ],
             [
              0.7777777777777778,
              "#fb9f3a"
             ],
             [
              0.8888888888888888,
              "#fdca26"
             ],
             [
              1,
              "#f0f921"
             ]
            ],
            "type": "histogram2dcontour"
           }
          ],
          "mesh3d": [
           {
            "colorbar": {
             "outlinewidth": 0,
             "ticks": ""
            },
            "type": "mesh3d"
           }
          ],
          "parcoords": [
           {
            "line": {
             "colorbar": {
              "outlinewidth": 0,
              "ticks": ""
             }
            },
            "type": "parcoords"
           }
          ],
          "pie": [
           {
            "automargin": true,
            "type": "pie"
           }
          ],
          "scatter": [
           {
            "fillpattern": {
             "fillmode": "overlay",
             "size": 10,
             "solidity": 0.2
            },
            "type": "scatter"
           }
          ],
          "scatter3d": [
           {
            "line": {
             "colorbar": {
              "outlinewidth": 0,
              "ticks": ""
             }
            },
            "marker": {
             "colorbar": {
              "outlinewidth": 0,
              "ticks": ""
             }
            },
            "type": "scatter3d"
           }
          ],
          "scattercarpet": [
           {
            "marker": {
             "colorbar": {
              "outlinewidth": 0,
              "ticks": ""
             }
            },
            "type": "scattercarpet"
           }
          ],
          "scattergeo": [
           {
            "marker": {
             "colorbar": {
              "outlinewidth": 0,
              "ticks": ""
             }
            },
            "type": "scattergeo"
           }
          ],
          "scattergl": [
           {
            "marker": {
             "colorbar": {
              "outlinewidth": 0,
              "ticks": ""
             }
            },
            "type": "scattergl"
           }
          ],
          "scattermapbox": [
           {
            "marker": {
             "colorbar": {
              "outlinewidth": 0,
              "ticks": ""
             }
            },
            "type": "scattermapbox"
           }
          ],
          "scatterpolar": [
           {
            "marker": {
             "colorbar": {
              "outlinewidth": 0,
              "ticks": ""
             }
            },
            "type": "scatterpolar"
           }
          ],
          "scatterpolargl": [
           {
            "marker": {
             "colorbar": {
              "outlinewidth": 0,
              "ticks": ""
             }
            },
            "type": "scatterpolargl"
           }
          ],
          "scatterternary": [
           {
            "marker": {
             "colorbar": {
              "outlinewidth": 0,
              "ticks": ""
             }
            },
            "type": "scatterternary"
           }
          ],
          "surface": [
           {
            "colorbar": {
             "outlinewidth": 0,
             "ticks": ""
            },
            "colorscale": [
             [
              0,
              "#0d0887"
             ],
             [
              0.1111111111111111,
              "#46039f"
             ],
             [
              0.2222222222222222,
              "#7201a8"
             ],
             [
              0.3333333333333333,
              "#9c179e"
             ],
             [
              0.4444444444444444,
              "#bd3786"
             ],
             [
              0.5555555555555556,
              "#d8576b"
             ],
             [
              0.6666666666666666,
              "#ed7953"
             ],
             [
              0.7777777777777778,
              "#fb9f3a"
             ],
             [
              0.8888888888888888,
              "#fdca26"
             ],
             [
              1,
              "#f0f921"
             ]
            ],
            "type": "surface"
           }
          ],
          "table": [
           {
            "cells": {
             "fill": {
              "color": "#EBF0F8"
             },
             "line": {
              "color": "white"
             }
            },
            "header": {
             "fill": {
              "color": "#C8D4E3"
             },
             "line": {
              "color": "white"
             }
            },
            "type": "table"
           }
          ]
         },
         "layout": {
          "annotationdefaults": {
           "arrowcolor": "#2a3f5f",
           "arrowhead": 0,
           "arrowwidth": 1
          },
          "autotypenumbers": "strict",
          "coloraxis": {
           "colorbar": {
            "outlinewidth": 0,
            "ticks": ""
           }
          },
          "colorscale": {
           "diverging": [
            [
             0,
             "#8e0152"
            ],
            [
             0.1,
             "#c51b7d"
            ],
            [
             0.2,
             "#de77ae"
            ],
            [
             0.3,
             "#f1b6da"
            ],
            [
             0.4,
             "#fde0ef"
            ],
            [
             0.5,
             "#f7f7f7"
            ],
            [
             0.6,
             "#e6f5d0"
            ],
            [
             0.7,
             "#b8e186"
            ],
            [
             0.8,
             "#7fbc41"
            ],
            [
             0.9,
             "#4d9221"
            ],
            [
             1,
             "#276419"
            ]
           ],
           "sequential": [
            [
             0,
             "#0d0887"
            ],
            [
             0.1111111111111111,
             "#46039f"
            ],
            [
             0.2222222222222222,
             "#7201a8"
            ],
            [
             0.3333333333333333,
             "#9c179e"
            ],
            [
             0.4444444444444444,
             "#bd3786"
            ],
            [
             0.5555555555555556,
             "#d8576b"
            ],
            [
             0.6666666666666666,
             "#ed7953"
            ],
            [
             0.7777777777777778,
             "#fb9f3a"
            ],
            [
             0.8888888888888888,
             "#fdca26"
            ],
            [
             1,
             "#f0f921"
            ]
           ],
           "sequentialminus": [
            [
             0,
             "#0d0887"
            ],
            [
             0.1111111111111111,
             "#46039f"
            ],
            [
             0.2222222222222222,
             "#7201a8"
            ],
            [
             0.3333333333333333,
             "#9c179e"
            ],
            [
             0.4444444444444444,
             "#bd3786"
            ],
            [
             0.5555555555555556,
             "#d8576b"
            ],
            [
             0.6666666666666666,
             "#ed7953"
            ],
            [
             0.7777777777777778,
             "#fb9f3a"
            ],
            [
             0.8888888888888888,
             "#fdca26"
            ],
            [
             1,
             "#f0f921"
            ]
           ]
          },
          "colorway": [
           "#636efa",
           "#EF553B",
           "#00cc96",
           "#ab63fa",
           "#FFA15A",
           "#19d3f3",
           "#FF6692",
           "#B6E880",
           "#FF97FF",
           "#FECB52"
          ],
          "font": {
           "color": "#2a3f5f"
          },
          "geo": {
           "bgcolor": "white",
           "lakecolor": "white",
           "landcolor": "#E5ECF6",
           "showlakes": true,
           "showland": true,
           "subunitcolor": "white"
          },
          "hoverlabel": {
           "align": "left"
          },
          "hovermode": "closest",
          "mapbox": {
           "style": "light"
          },
          "paper_bgcolor": "white",
          "plot_bgcolor": "#E5ECF6",
          "polar": {
           "angularaxis": {
            "gridcolor": "white",
            "linecolor": "white",
            "ticks": ""
           },
           "bgcolor": "#E5ECF6",
           "radialaxis": {
            "gridcolor": "white",
            "linecolor": "white",
            "ticks": ""
           }
          },
          "scene": {
           "xaxis": {
            "backgroundcolor": "#E5ECF6",
            "gridcolor": "white",
            "gridwidth": 2,
            "linecolor": "white",
            "showbackground": true,
            "ticks": "",
            "zerolinecolor": "white"
           },
           "yaxis": {
            "backgroundcolor": "#E5ECF6",
            "gridcolor": "white",
            "gridwidth": 2,
            "linecolor": "white",
            "showbackground": true,
            "ticks": "",
            "zerolinecolor": "white"
           },
           "zaxis": {
            "backgroundcolor": "#E5ECF6",
            "gridcolor": "white",
            "gridwidth": 2,
            "linecolor": "white",
            "showbackground": true,
            "ticks": "",
            "zerolinecolor": "white"
           }
          },
          "shapedefaults": {
           "line": {
            "color": "#2a3f5f"
           }
          },
          "ternary": {
           "aaxis": {
            "gridcolor": "white",
            "linecolor": "white",
            "ticks": ""
           },
           "baxis": {
            "gridcolor": "white",
            "linecolor": "white",
            "ticks": ""
           },
           "bgcolor": "#E5ECF6",
           "caxis": {
            "gridcolor": "white",
            "linecolor": "white",
            "ticks": ""
           }
          },
          "title": {
           "x": 0.05
          },
          "xaxis": {
           "automargin": true,
           "gridcolor": "white",
           "linecolor": "white",
           "ticks": "",
           "title": {
            "standoff": 15
           },
           "zerolinecolor": "white",
           "zerolinewidth": 2
          },
          "yaxis": {
           "automargin": true,
           "gridcolor": "white",
           "linecolor": "white",
           "ticks": "",
           "title": {
            "standoff": 15
           },
           "zerolinecolor": "white",
           "zerolinewidth": 2
          }
         }
        },
        "title": {
         "text": "TOP 10 Names by Genre and Gender (Press on the Genre to see the names)"
        },
        "width": 1600
       }
      }
     },
     "metadata": {},
     "output_type": "display_data"
    }
   ],
   "source": [
    "# Create the sunburst plots for females and males\n",
    "fig_females = go.Figure(go.Sunburst(\n",
    "    labels=data_f['character'],\n",
    "    parents=data_f['parent'],\n",
    "    domain=dict(column=1),\n",
    "    maxdepth=2\n",
    "))\n",
    "\n",
    "fig_males = go.Figure(go.Sunburst(\n",
    "    labels=data_m['character'],\n",
    "    parents=data_m['parent'],\n",
    "    domain=dict(column=1),\n",
    "    maxdepth=2\n",
    "))\n",
    "\n",
    "fig = make_subplots(\n",
    "    rows=1, cols=2,\n",
    "    subplot_titles=[\"Females\", \"Males\"],\n",
    "    specs=[[{\"type\": \"sunburst\"}, {\"type\": \"sunburst\"}]]\n",
    ")\n",
    "\n",
    "fig.add_trace(fig_females['data'][0], row=1, col=1)\n",
    "fig.add_trace(fig_males['data'][0], row=1, col=2)\n",
    "\n",
    "fig.update_layout(\n",
    "    title_text=\"TOP 10 Names by Genre and Gender (Press on the Genre to see the names)\",\n",
    "    showlegend=False,\n",
    "    width=1600,\n",
    "    height=800,\n",
    "    font=dict(size=13),\n",
    ")\n",
    "\n",
    "fig.show()"
   ]
  },
  {
   "cell_type": "markdown",
   "metadata": {},
   "source": [
    "### 2.1.b Character Search Engine"
   ]
  },
  {
   "cell_type": "markdown",
   "metadata": {},
   "source": [
    "We created a movie finder where a specific string can be found in one of the characters name within our dataset."
   ]
  },
  {
   "cell_type": "code",
   "execution_count": 46,
   "metadata": {},
   "outputs": [
    {
     "data": {
      "text/html": [
       "<div>\n",
       "<style scoped>\n",
       "    .dataframe tbody tr th:only-of-type {\n",
       "        vertical-align: middle;\n",
       "    }\n",
       "\n",
       "    .dataframe tbody tr th {\n",
       "        vertical-align: top;\n",
       "    }\n",
       "\n",
       "    .dataframe thead th {\n",
       "        text-align: right;\n",
       "    }\n",
       "</style>\n",
       "<table border=\"1\" class=\"dataframe\">\n",
       "  <thead>\n",
       "    <tr style=\"text-align: right;\">\n",
       "      <th></th>\n",
       "      <th>Genre_Category</th>\n",
       "      <th>Count</th>\n",
       "    </tr>\n",
       "  </thead>\n",
       "  <tbody>\n",
       "    <tr>\n",
       "      <th>0</th>\n",
       "      <td>Action &amp; Adventure</td>\n",
       "      <td>166</td>\n",
       "    </tr>\n",
       "    <tr>\n",
       "      <th>1</th>\n",
       "      <td>Drama</td>\n",
       "      <td>250</td>\n",
       "    </tr>\n",
       "    <tr>\n",
       "      <th>2</th>\n",
       "      <td>Comedy</td>\n",
       "      <td>142</td>\n",
       "    </tr>\n",
       "    <tr>\n",
       "      <th>3</th>\n",
       "      <td>Horror &amp; Thriller</td>\n",
       "      <td>111</td>\n",
       "    </tr>\n",
       "    <tr>\n",
       "      <th>4</th>\n",
       "      <td>Fantasy &amp; Sci-Fi</td>\n",
       "      <td>66</td>\n",
       "    </tr>\n",
       "    <tr>\n",
       "      <th>5</th>\n",
       "      <td>Historical &amp; War</td>\n",
       "      <td>56</td>\n",
       "    </tr>\n",
       "    <tr>\n",
       "      <th>6</th>\n",
       "      <td>Romance</td>\n",
       "      <td>84</td>\n",
       "    </tr>\n",
       "    <tr>\n",
       "      <th>7</th>\n",
       "      <td>Documentary</td>\n",
       "      <td>21</td>\n",
       "    </tr>\n",
       "    <tr>\n",
       "      <th>8</th>\n",
       "      <td>Music &amp; Performance</td>\n",
       "      <td>15</td>\n",
       "    </tr>\n",
       "    <tr>\n",
       "      <th>9</th>\n",
       "      <td>Cult &amp; B-Movies</td>\n",
       "      <td>49</td>\n",
       "    </tr>\n",
       "    <tr>\n",
       "      <th>10</th>\n",
       "      <td>Other</td>\n",
       "      <td>3</td>\n",
       "    </tr>\n",
       "    <tr>\n",
       "      <th>11</th>\n",
       "      <td>Total different movies</td>\n",
       "      <td>370</td>\n",
       "    </tr>\n",
       "  </tbody>\n",
       "</table>\n",
       "</div>"
      ],
      "text/plain": [
       "            Genre_Category  Count\n",
       "0       Action & Adventure    166\n",
       "1                    Drama    250\n",
       "2                   Comedy    142\n",
       "3        Horror & Thriller    111\n",
       "4         Fantasy & Sci-Fi     66\n",
       "5         Historical & War     56\n",
       "6                  Romance     84\n",
       "7              Documentary     21\n",
       "8      Music & Performance     15\n",
       "9          Cult & B-Movies     49\n",
       "10                   Other      3\n",
       "11  Total different movies    370"
      ]
     },
     "execution_count": 46,
     "metadata": {},
     "output_type": "execute_result"
    }
   ],
   "source": [
    "# Looking for the appearance of all the character with a name starting by the selected string\n",
    "\n",
    "genre_counts_result, movies_with_name = analyze_genre.count_name_appearance_by_genre('Leo')\n",
    "genre_counts_result.head(15)    # Print the genre of the movies where this character exists"
   ]
  },
  {
   "cell_type": "code",
   "execution_count": 47,
   "metadata": {},
   "outputs": [
    {
     "data": {
      "text/html": [
       "<div>\n",
       "<style scoped>\n",
       "    .dataframe tbody tr th:only-of-type {\n",
       "        vertical-align: middle;\n",
       "    }\n",
       "\n",
       "    .dataframe tbody tr th {\n",
       "        vertical-align: top;\n",
       "    }\n",
       "\n",
       "    .dataframe thead th {\n",
       "        text-align: right;\n",
       "    }\n",
       "</style>\n",
       "<table border=\"1\" class=\"dataframe\">\n",
       "  <thead>\n",
       "    <tr style=\"text-align: right;\">\n",
       "      <th></th>\n",
       "      <th>Wikipedia_ID</th>\n",
       "      <th>Name</th>\n",
       "      <th>Languages</th>\n",
       "      <th>Country</th>\n",
       "      <th>Genres</th>\n",
       "      <th>Character_name</th>\n",
       "      <th>Sex</th>\n",
       "      <th>Actor_age</th>\n",
       "      <th>Release_date</th>\n",
       "      <th>Genre_Category</th>\n",
       "    </tr>\n",
       "  </thead>\n",
       "  <tbody>\n",
       "    <tr>\n",
       "      <th>99</th>\n",
       "      <td>27611999</td>\n",
       "      <td>Special Effects</td>\n",
       "      <td>[]</td>\n",
       "      <td>[United States of America, United Kingdom]</td>\n",
       "      <td>[Thriller, Horror, Psychological thriller, Sus...</td>\n",
       "      <td>Leon</td>\n",
       "      <td>NaN</td>\n",
       "      <td>NaN</td>\n",
       "      <td>1984</td>\n",
       "      <td>[Action &amp; Adventure, Horror &amp; Thriller, Drama,...</td>\n",
       "    </tr>\n",
       "    <tr>\n",
       "      <th>545</th>\n",
       "      <td>21271533</td>\n",
       "      <td>Bleeder</td>\n",
       "      <td>[Danish Language]</td>\n",
       "      <td>[Denmark]</td>\n",
       "      <td>[Thriller, Drama]</td>\n",
       "      <td>Leo</td>\n",
       "      <td>M</td>\n",
       "      <td>34.0</td>\n",
       "      <td>1999-08-06</td>\n",
       "      <td>[Action &amp; Adventure, Horror &amp; Thriller, Drama]</td>\n",
       "    </tr>\n",
       "    <tr>\n",
       "      <th>573</th>\n",
       "      <td>17379289</td>\n",
       "      <td>Without Warning</td>\n",
       "      <td>[English Language]</td>\n",
       "      <td>[United States of America]</td>\n",
       "      <td>[Science Fiction, Horror]</td>\n",
       "      <td>Leo</td>\n",
       "      <td>M</td>\n",
       "      <td>60.0</td>\n",
       "      <td>1980-11-26</td>\n",
       "      <td>[Fantasy &amp; Sci-Fi, Horror &amp; Thriller]</td>\n",
       "    </tr>\n",
       "    <tr>\n",
       "      <th>740</th>\n",
       "      <td>13911991</td>\n",
       "      <td>A Sereia de Pedra</td>\n",
       "      <td>[French Language]</td>\n",
       "      <td>[France, Portugal]</td>\n",
       "      <td>[Silent film, Drama]</td>\n",
       "      <td>Leonor</td>\n",
       "      <td>F</td>\n",
       "      <td>NaN</td>\n",
       "      <td>1923-04-02</td>\n",
       "      <td>[Drama]</td>\n",
       "    </tr>\n",
       "    <tr>\n",
       "      <th>2068</th>\n",
       "      <td>20927265</td>\n",
       "      <td>Camões</td>\n",
       "      <td>[Portuguese Language]</td>\n",
       "      <td>[Portugal]</td>\n",
       "      <td>[Biography, Drama]</td>\n",
       "      <td>Leonor</td>\n",
       "      <td>F</td>\n",
       "      <td>24.0</td>\n",
       "      <td>1946-09-20</td>\n",
       "      <td>[Documentary, Drama]</td>\n",
       "    </tr>\n",
       "  </tbody>\n",
       "</table>\n",
       "</div>"
      ],
      "text/plain": [
       "      Wikipedia_ID               Name              Languages  \\\n",
       "99        27611999    Special Effects                     []   \n",
       "545       21271533            Bleeder      [Danish Language]   \n",
       "573       17379289    Without Warning     [English Language]   \n",
       "740       13911991  A Sereia de Pedra      [French Language]   \n",
       "2068      20927265             Camões  [Portuguese Language]   \n",
       "\n",
       "                                         Country  \\\n",
       "99    [United States of America, United Kingdom]   \n",
       "545                                    [Denmark]   \n",
       "573                   [United States of America]   \n",
       "740                           [France, Portugal]   \n",
       "2068                                  [Portugal]   \n",
       "\n",
       "                                                 Genres Character_name  Sex  \\\n",
       "99    [Thriller, Horror, Psychological thriller, Sus...           Leon  NaN   \n",
       "545                                   [Thriller, Drama]            Leo    M   \n",
       "573                           [Science Fiction, Horror]            Leo    M   \n",
       "740                                [Silent film, Drama]         Leonor    F   \n",
       "2068                                 [Biography, Drama]         Leonor    F   \n",
       "\n",
       "      Actor_age Release_date  \\\n",
       "99          NaN         1984   \n",
       "545        34.0   1999-08-06   \n",
       "573        60.0   1980-11-26   \n",
       "740         NaN   1923-04-02   \n",
       "2068       24.0   1946-09-20   \n",
       "\n",
       "                                         Genre_Category  \n",
       "99    [Action & Adventure, Horror & Thriller, Drama,...  \n",
       "545      [Action & Adventure, Horror & Thriller, Drama]  \n",
       "573               [Fantasy & Sci-Fi, Horror & Thriller]  \n",
       "740                                             [Drama]  \n",
       "2068                               [Documentary, Drama]  "
      ]
     },
     "execution_count": 47,
     "metadata": {},
     "output_type": "execute_result"
    }
   ],
   "source": [
    "# General list of the movies where this character is\n",
    "movies_with_name.head(5)"
   ]
  },
  {
   "cell_type": "markdown",
   "metadata": {},
   "source": [
    "### 2.1.c Statistical analysis for Genre"
   ]
  },
  {
   "cell_type": "markdown",
   "metadata": {},
   "source": [
    "In order to compare the influence of genre on the characters' names, we decided to run chi2 tests and a Cramér's V test. This will allow us to highlight a possible influence."
   ]
  },
  {
   "cell_type": "code",
   "execution_count": 48,
   "metadata": {},
   "outputs": [
    {
     "name": "stdout",
     "output_type": "stream",
     "text": [
      "Chi-Square Statistic: 426409.91411217465\n",
      "p-value: 0.0\n"
     ]
    }
   ],
   "source": [
    "df_expanded = df_char_cleaned.explode('Genre_Category')\n",
    "\n",
    "contingency_table = create_contingency_table(df_expanded,'Character_name','Genre_Category')\n",
    "chi2, p_value, dof, expected = stats.chi2_contingency(contingency_table)\n",
    "\n",
    "print(f\"Chi-Square Statistic: {chi2}\")\n",
    "print(f\"p-value: {p_value}\")"
   ]
  },
  {
   "cell_type": "markdown",
   "metadata": {},
   "source": [
    "The p-value is very close to zero, hence we can say taht there is an association between character names and genres. We will now try to quantify this association using Cramér's V."
   ]
  },
  {
   "cell_type": "code",
   "execution_count": 49,
   "metadata": {},
   "outputs": [
    {
     "name": "stdout",
     "output_type": "stream",
     "text": [
      "Cramér's V: 0.3331818362051132\n"
     ]
    }
   ],
   "source": [
    "n = contingency_table.sum().sum()\n",
    "k = min(contingency_table.shape)\n",
    "cramers_v = np.sqrt(chi2 / (n * (k - 1)))\n",
    "\n",
    "print(f\"Cramér's V: {cramers_v}\")"
   ]
  },
  {
   "cell_type": "markdown",
   "metadata": {},
   "source": [
    "The Cramér's V is close to 0.35, meaning there is a moderate association between genres and character names."
   ]
  },
  {
   "cell_type": "markdown",
   "metadata": {},
   "source": [
    "## 2.2 Gender Analysis"
   ]
  },
  {
   "cell_type": "markdown",
   "metadata": {},
   "source": [
    "The purpose of this section is to conjecture if wether or not a correlation between characters' names and their gender can be found. For that, we analyzed length, vowels and consonants' counts distributions in the names and compared it depending on character's gender."
   ]
  },
  {
   "cell_type": "code",
   "execution_count": 50,
   "metadata": {},
   "outputs": [],
   "source": [
    "analyze_gender = GenderAnalyzer(df_char_cleaned)\n",
    "df_vowels, df_consonants = analyze_gender.get_vowel_stats()"
   ]
  },
  {
   "cell_type": "markdown",
   "metadata": {},
   "source": [
    "### 2.2.a Vowels and consonants count"
   ]
  },
  {
   "cell_type": "code",
   "execution_count": 51,
   "metadata": {},
   "outputs": [
    {
     "data": {
      "image/png": "[encoded data removed]",
      "text/plain": [
       "<Figure size 1400x600 with 2 Axes>"
      ]
     },
     "metadata": {},
     "output_type": "display_data"
    }
   ],
   "source": [
    "fig, axes = plt.subplots(1, 2, figsize=(14, 6))\n",
    "\n",
    "# Boxplot for vowel count by sex\n",
    "sns.boxenplot(data=df_char_cleaned, x='Sex', y='vowel_count', ax=axes[0])\n",
    "axes[0].set_title('Vowel Count by Gender')\n",
    "axes[0].set_xlabel('Gender')\n",
    "axes[0].set_ylabel('Vowel Count')\n",
    "\n",
    "# Boxplot for consonant count by sex\n",
    "sns.boxenplot(data=df_char_cleaned, x='Sex', y='consonant_count', ax=axes[1])\n",
    "axes[1].set_title('Consonant Count by Gender')\n",
    "axes[1].set_xlabel('Gender')\n",
    "axes[1].set_ylabel('Consonant Count')\n",
    "\n",
    "plt.tight_layout()"
   ]
  },
  {
   "cell_type": "markdown",
   "metadata": {},
   "source": [
    "### 2.2.b Name Length per gender"
   ]
  },
  {
   "cell_type": "code",
   "execution_count": 52,
   "metadata": {},
   "outputs": [
    {
     "name": "stdout",
     "output_type": "stream",
     "text": [
      "Length stats for character names by sex:\n"
     ]
    },
    {
     "data": {
      "text/html": [
       "<div>\n",
       "<style scoped>\n",
       "    .dataframe tbody tr th:only-of-type {\n",
       "        vertical-align: middle;\n",
       "    }\n",
       "\n",
       "    .dataframe tbody tr th {\n",
       "        vertical-align: top;\n",
       "    }\n",
       "\n",
       "    .dataframe thead th {\n",
       "        text-align: right;\n",
       "    }\n",
       "</style>\n",
       "<table border=\"1\" class=\"dataframe\">\n",
       "  <thead>\n",
       "    <tr style=\"text-align: right;\">\n",
       "      <th></th>\n",
       "      <th>mean</th>\n",
       "      <th>std</th>\n",
       "    </tr>\n",
       "    <tr>\n",
       "      <th>Sex</th>\n",
       "      <th></th>\n",
       "      <th></th>\n",
       "    </tr>\n",
       "  </thead>\n",
       "  <tbody>\n",
       "    <tr>\n",
       "      <th>F</th>\n",
       "      <td>5.875697</td>\n",
       "      <td>1.671052</td>\n",
       "    </tr>\n",
       "    <tr>\n",
       "      <th>M</th>\n",
       "      <td>5.852683</td>\n",
       "      <td>1.853283</td>\n",
       "    </tr>\n",
       "  </tbody>\n",
       "</table>\n",
       "</div>"
      ],
      "text/plain": [
       "         mean       std\n",
       "Sex                    \n",
       "F    5.875697  1.671052\n",
       "M    5.852683  1.853283"
      ]
     },
     "execution_count": 52,
     "metadata": {},
     "output_type": "execute_result"
    }
   ],
   "source": [
    "df_length = analyze_gender.get_length_stats()\n",
    "\n",
    "print('Length stats for character names by sex:')\n",
    "df_length.head()"
   ]
  },
  {
   "cell_type": "code",
   "execution_count": 53,
   "metadata": {},
   "outputs": [
    {
     "data": {
      "image/png": "[encoded data removed]",
      "text/plain": [
       "<Figure size 640x480 with 1 Axes>"
      ]
     },
     "metadata": {},
     "output_type": "display_data"
    }
   ],
   "source": [
    "analyze_gender.create_boxenplot_by_sex()"
   ]
  },
  {
   "cell_type": "markdown",
   "metadata": {},
   "source": [
    "### 2.2.c First and last letters of the characters' name depending on the gender"
   ]
  },
  {
   "cell_type": "markdown",
   "metadata": {},
   "source": [
    "*Interactive hover plot in this section*"
   ]
  },
  {
   "cell_type": "code",
   "execution_count": 54,
   "metadata": {},
   "outputs": [
    {
     "data": {
      "application/vnd.plotly.v1+json": {
       "config": {
        "plotlyServerURL": "https://plot.ly"
       },
       "data": [
        {
         "hoverinfo": "text",
         "hovertext": [
          "Top names: Steve, Sam, Simon",
          "Top names: John, James, Jack",
          "Top names: Michael, Max, Mike",
          "Top names: Robert, Richard, Roy",
          "Top names: Bob, Bill, Billy",
          "Top names: Arthur, Alex, Adam",
          "Top names: Charlie, Charles, Chris",
          "Top names: David, Danny, Dave",
          "Top names: Paul, Peter, Phil",
          "Top names: George, Guy, Gary",
          "Top names: Tom, Thomas, Tony",
          "Top names: Harry, Henry, Howard",
          "Top names: Kevin, Karl, Kid",
          "Top names: Louis, Larry, Leo",
          "Top names: Frank, Fred, Francis",
          "Top names: William, Walter, Wilson",
          "Top names: Eddie, Ed, Edward",
          "Top names: Nick, Norman, Neil",
          "Top names: Vijay, Vikram, Victor",
          "Top names: Oliver, Oscar, Owen",
          "Top names: Ivan, Il, Ian",
          "Top names: Yosemite, Yuri, Yu",
          "Top names: Zack, Zach, Zeke",
          "Top names: Uday, Ulysses, Usman",
          "Top names: Quentin, Quinn, Quincy",
          "Top names: Xavier, Xiao, Xander"
         ],
         "marker": {
          "color": "skyblue"
         },
         "name": "Male",
         "type": "bar",
         "x": [
          "s",
          "j",
          "m",
          "r",
          "b",
          "a",
          "c",
          "d",
          "p",
          "g",
          "t",
          "h",
          "k",
          "l",
          "f",
          "w",
          "e",
          "n",
          "v",
          "o",
          "i",
          "y",
          "z",
          "u",
          "q",
          "x"
         ],
         "y": [
          8.332398216817815,
          8.169177879563794,
          7.731543350301448,
          6.8827975965805335,
          6.665510522611118,
          6.199312434329317,
          6.057514766339886,
          5.940200148938557,
          4.849684270660124,
          4.6527997388474605,
          4.634437450906383,
          4.492639782916951,
          4.1060116090464875,
          3.850979832087078,
          3.110367551796954,
          3.006314586797515,
          2.7441419200832424,
          2.365674763075479,
          2.265702306507391,
          1.0854152427392454,
          0.9813622777398063,
          0.597794485192855,
          0.5967743580850173,
          0.30603813235129096,
          0.2203474552929295,
          0.07854978730349801
         ]
        },
        {
         "hoverinfo": "text",
         "hovertext": [
          "Top names: Sarah, Susan, Sara",
          "Top names: Julie, Jane, Jennifer",
          "Top names: Mary, Marie, Maggie",
          "Top names: Rachel, Rose, Rebecca",
          "Top names: Barbara, Betty, Beth",
          "Top names: Alice, Anna, Anne",
          "Top names: Claire, Charlotte, Catherine",
          "Top names: Diane, Diana, Dorothy",
          "Top names: Priya, Pooja, Paula",
          "Top names: Gloria, Grace, Gina",
          "Top names: Tina, Tanya, Tracy",
          "Top names: Helen, Hannah, Heather",
          "Top names: Kate, Karen, Katie",
          "Top names: Lisa, Linda, Laura",
          "Top names: Frau, Frances, Fiona",
          "Top names: Wendy, Wanda, Williams",
          "Top names: Elizabeth, Emily, Ellen",
          "Top names: Nina, Nicole, Nancy",
          "Top names: Victoria, Vanessa, Valerie",
          "Top names: Olivia, Olga, Ophelia",
          "Top names: Isabelle, Isabel, Irene",
          "Top names: Yvonne, Yvette, Yolanda",
          "Top names: Zoe, Zoey, Zora",
          "Top names: Ursula, Usha, Uma",
          "Top names: Queenie, Quinn, Qiu",
          "Top names: Xiao, Xu, Ximena"
         ],
         "marker": {
          "color": "salmon"
         },
         "name": "Female",
         "type": "bar",
         "x": [
          "s",
          "j",
          "m",
          "r",
          "b",
          "a",
          "c",
          "d",
          "p",
          "g",
          "t",
          "h",
          "k",
          "l",
          "f",
          "w",
          "e",
          "n",
          "v",
          "o",
          "i",
          "y",
          "z",
          "u",
          "q",
          "x"
         ],
         "y": [
          10.367645764770067,
          6.1420953520705375,
          11.228243079143274,
          4.9506344485313525,
          4.934795234156386,
          8.021682124566622,
          7.456750145192799,
          4.3434645641576175,
          3.8594885693669596,
          3.6553386952007183,
          3.354393622076345,
          3.231199732493268,
          4.577532954365463,
          6.55039510040302,
          2.1910913218704353,
          1.4572077224969642,
          4.348744302282607,
          3.315675542493093,
          2.1682124566621495,
          0.7550025518734271,
          1.304095316872283,
          0.6282888368736911,
          0.5842910191654495,
          0.3238239383326587,
          0.09855511166646135,
          0.08975554812481301
         ]
        }
       ],
       "layout": {
        "barmode": "group",
        "legend": {
         "title": {
          "text": "Gender"
         }
        },
        "template": {
         "data": {
          "bar": [
           {
            "error_x": {
             "color": "#2a3f5f"
            },
            "error_y": {
             "color": "#2a3f5f"
            },
            "marker": {
             "line": {
              "color": "#E5ECF6",
              "width": 0.5
             },
             "pattern": {
              "fillmode": "overlay",
              "size": 10,
              "solidity": 0.2
             }
            },
            "type": "bar"
           }
          ],
          "barpolar": [
           {
            "marker": {
             "line": {
              "color": "#E5ECF6",
              "width": 0.5
             },
             "pattern": {
              "fillmode": "overlay",
              "size": 10,
              "solidity": 0.2
             }
            },
            "type": "barpolar"
           }
          ],
          "carpet": [
           {
            "aaxis": {
             "endlinecolor": "#2a3f5f",
             "gridcolor": "white",
             "linecolor": "white",
             "minorgridcolor": "white",
             "startlinecolor": "#2a3f5f"
            },
            "baxis": {
             "endlinecolor": "#2a3f5f",
             "gridcolor": "white",
             "linecolor": "white",
             "minorgridcolor": "white",
             "startlinecolor": "#2a3f5f"
            },
            "type": "carpet"
           }
          ],
          "choropleth": [
           {
            "colorbar": {
             "outlinewidth": 0,
             "ticks": ""
            },
            "type": "choropleth"
           }
          ],
          "contour": [
           {
            "colorbar": {
             "outlinewidth": 0,
             "ticks": ""
            },
            "colorscale": [
             [
              0,
              "#0d0887"
             ],
             [
              0.1111111111111111,
              "#46039f"
             ],
             [
              0.2222222222222222,
              "#7201a8"
             ],
             [
              0.3333333333333333,
              "#9c179e"
             ],
             [
              0.4444444444444444,
              "#bd3786"
             ],
             [
              0.5555555555555556,
              "#d8576b"
             ],
             [
              0.6666666666666666,
              "#ed7953"
             ],
             [
              0.7777777777777778,
              "#fb9f3a"
             ],
             [
              0.8888888888888888,
              "#fdca26"
             ],
             [
              1,
              "#f0f921"
             ]
            ],
            "type": "contour"
           }
          ],
          "contourcarpet": [
           {
            "colorbar": {
             "outlinewidth": 0,
             "ticks": ""
            },
            "type": "contourcarpet"
           }
          ],
          "heatmap": [
           {
            "colorbar": {
             "outlinewidth": 0,
             "ticks": ""
            },
            "colorscale": [
             [
              0,
              "#0d0887"
             ],
             [
              0.1111111111111111,
              "#46039f"
             ],
             [
              0.2222222222222222,
              "#7201a8"
             ],
             [
              0.3333333333333333,
              "#9c179e"
             ],
             [
              0.4444444444444444,
              "#bd3786"
             ],
             [
              0.5555555555555556,
              "#d8576b"
             ],
             [
              0.6666666666666666,
              "#ed7953"
             ],
             [
              0.7777777777777778,
              "#fb9f3a"
             ],
             [
              0.8888888888888888,
              "#fdca26"
             ],
             [
              1,
              "#f0f921"
             ]
            ],
            "type": "heatmap"
           }
          ],
          "heatmapgl": [
           {
            "colorbar": {
             "outlinewidth": 0,
             "ticks": ""
            },
            "colorscale": [
             [
              0,
              "#0d0887"
             ],
             [
              0.1111111111111111,
              "#46039f"
             ],
             [
              0.2222222222222222,
              "#7201a8"
             ],
             [
              0.3333333333333333,
              "#9c179e"
             ],
             [
              0.4444444444444444,
              "#bd3786"
             ],
             [
              0.5555555555555556,
              "#d8576b"
             ],
             [
              0.6666666666666666,
              "#ed7953"
             ],
             [
              0.7777777777777778,
              "#fb9f3a"
             ],
             [
              0.8888888888888888,
              "#fdca26"
             ],
             [
              1,
              "#f0f921"
             ]
            ],
            "type": "heatmapgl"
           }
          ],
          "histogram": [
           {
            "marker": {
             "pattern": {
              "fillmode": "overlay",
              "size": 10,
              "solidity": 0.2
             }
            },
            "type": "histogram"
           }
          ],
          "histogram2d": [
           {
            "colorbar": {
             "outlinewidth": 0,
             "ticks": ""
            },
            "colorscale": [
             [
              0,
              "#0d0887"
             ],
             [
              0.1111111111111111,
              "#46039f"
             ],
             [
              0.2222222222222222,
              "#7201a8"
             ],
             [
              0.3333333333333333,
              "#9c179e"
             ],
             [
              0.4444444444444444,
              "#bd3786"
             ],
             [
              0.5555555555555556,
              "#d8576b"
             ],
             [
              0.6666666666666666,
              "#ed7953"
             ],
             [
              0.7777777777777778,
              "#fb9f3a"
             ],
             [
              0.8888888888888888,
              "#fdca26"
             ],
             [
              1,
              "#f0f921"
             ]
            ],
            "type": "histogram2d"
           }
          ],
          "histogram2dcontour": [
           {
            "colorbar": {
             "outlinewidth": 0,
             "ticks": ""
            },
            "colorscale": [
             [
              0,
              "#0d0887"
             ],
             [
              0.1111111111111111,
              "#46039f"
             ],
             [
              0.2222222222222222,
              "#7201a8"
             ],
             [
              0.3333333333333333,
              "#9c179e"
             ],
             [
              0.4444444444444444,
              "#bd3786"
             ],
             [
              0.5555555555555556,
              "#d8576b"
             ],
             [
              0.6666666666666666,
              "#ed7953"
             ],
             [
              0.7777777777777778,
              "#fb9f3a"
             ],
             [
              0.8888888888888888,
              "#fdca26"
             ],
             [
              1,
              "#f0f921"
             ]
            ],
            "type": "histogram2dcontour"
           }
          ],
          "mesh3d": [
           {
            "colorbar": {
             "outlinewidth": 0,
             "ticks": ""
            },
            "type": "mesh3d"
           }
          ],
          "parcoords": [
           {
            "line": {
             "colorbar": {
              "outlinewidth": 0,
              "ticks": ""
             }
            },
            "type": "parcoords"
           }
          ],
          "pie": [
           {
            "automargin": true,
            "type": "pie"
           }
          ],
          "scatter": [
           {
            "fillpattern": {
             "fillmode": "overlay",
             "size": 10,
             "solidity": 0.2
            },
            "type": "scatter"
           }
          ],
          "scatter3d": [
           {
            "line": {
             "colorbar": {
              "outlinewidth": 0,
              "ticks": ""
             }
            },
            "marker": {
             "colorbar": {
              "outlinewidth": 0,
              "ticks": ""
             }
            },
            "type": "scatter3d"
           }
          ],
          "scattercarpet": [
           {
            "marker": {
             "colorbar": {
              "outlinewidth": 0,
              "ticks": ""
             }
            },
            "type": "scattercarpet"
           }
          ],
          "scattergeo": [
           {
            "marker": {
             "colorbar": {
              "outlinewidth": 0,
              "ticks": ""
             }
            },
            "type": "scattergeo"
           }
          ],
          "scattergl": [
           {
            "marker": {
             "colorbar": {
              "outlinewidth": 0,
              "ticks": ""
             }
            },
            "type": "scattergl"
           }
          ],
          "scattermapbox": [
           {
            "marker": {
             "colorbar": {
              "outlinewidth": 0,
              "ticks": ""
             }
            },
            "type": "scattermapbox"
           }
          ],
          "scatterpolar": [
           {
            "marker": {
             "colorbar": {
              "outlinewidth": 0,
              "ticks": ""
             }
            },
            "type": "scatterpolar"
           }
          ],
          "scatterpolargl": [
           {
            "marker": {
             "colorbar": {
              "outlinewidth": 0,
              "ticks": ""
             }
            },
            "type": "scatterpolargl"
           }
          ],
          "scatterternary": [
           {
            "marker": {
             "colorbar": {
              "outlinewidth": 0,
              "ticks": ""
             }
            },
            "type": "scatterternary"
           }
          ],
          "surface": [
           {
            "colorbar": {
             "outlinewidth": 0,
             "ticks": ""
            },
            "colorscale": [
             [
              0,
              "#0d0887"
             ],
             [
              0.1111111111111111,
              "#46039f"
             ],
             [
              0.2222222222222222,
              "#7201a8"
             ],
             [
              0.3333333333333333,
              "#9c179e"
             ],
             [
              0.4444444444444444,
              "#bd3786"
             ],
             [
              0.5555555555555556,
              "#d8576b"
             ],
             [
              0.6666666666666666,
              "#ed7953"
             ],
             [
              0.7777777777777778,
              "#fb9f3a"
             ],
             [
              0.8888888888888888,
              "#fdca26"
             ],
             [
              1,
              "#f0f921"
             ]
            ],
            "type": "surface"
           }
          ],
          "table": [
           {
            "cells": {
             "fill": {
              "color": "#EBF0F8"
             },
             "line": {
              "color": "white"
             }
            },
            "header": {
             "fill": {
              "color": "#C8D4E3"
             },
             "line": {
              "color": "white"
             }
            },
            "type": "table"
           }
          ]
         },
         "layout": {
          "annotationdefaults": {
           "arrowcolor": "#2a3f5f",
           "arrowhead": 0,
           "arrowwidth": 1
          },
          "autotypenumbers": "strict",
          "coloraxis": {
           "colorbar": {
            "outlinewidth": 0,
            "ticks": ""
           }
          },
          "colorscale": {
           "diverging": [
            [
             0,
             "#8e0152"
            ],
            [
             0.1,
             "#c51b7d"
            ],
            [
             0.2,
             "#de77ae"
            ],
            [
             0.3,
             "#f1b6da"
            ],
            [
             0.4,
             "#fde0ef"
            ],
            [
             0.5,
             "#f7f7f7"
            ],
            [
             0.6,
             "#e6f5d0"
            ],
            [
             0.7,
             "#b8e186"
            ],
            [
             0.8,
             "#7fbc41"
            ],
            [
             0.9,
             "#4d9221"
            ],
            [
             1,
             "#276419"
            ]
           ],
           "sequential": [
            [
             0,
             "#0d0887"
            ],
            [
             0.1111111111111111,
             "#46039f"
            ],
            [
             0.2222222222222222,
             "#7201a8"
            ],
            [
             0.3333333333333333,
             "#9c179e"
            ],
            [
             0.4444444444444444,
             "#bd3786"
            ],
            [
             0.5555555555555556,
             "#d8576b"
            ],
            [
             0.6666666666666666,
             "#ed7953"
            ],
            [
             0.7777777777777778,
             "#fb9f3a"
            ],
            [
             0.8888888888888888,
             "#fdca26"
            ],
            [
             1,
             "#f0f921"
            ]
           ],
           "sequentialminus": [
            [
             0,
             "#0d0887"
            ],
            [
             0.1111111111111111,
             "#46039f"
            ],
            [
             0.2222222222222222,
             "#7201a8"
            ],
            [
             0.3333333333333333,
             "#9c179e"
            ],
            [
             0.4444444444444444,
             "#bd3786"
            ],
            [
             0.5555555555555556,
             "#d8576b"
            ],
            [
             0.6666666666666666,
             "#ed7953"
            ],
            [
             0.7777777777777778,
             "#fb9f3a"
            ],
            [
             0.8888888888888888,
             "#fdca26"
            ],
            [
             1,
             "#f0f921"
            ]
           ]
          },
          "colorway": [
           "#636efa",
           "#EF553B",
           "#00cc96",
           "#ab63fa",
           "#FFA15A",
           "#19d3f3",
           "#FF6692",
           "#B6E880",
           "#FF97FF",
           "#FECB52"
          ],
          "font": {
           "color": "#2a3f5f"
          },
          "geo": {
           "bgcolor": "white",
           "lakecolor": "white",
           "landcolor": "#E5ECF6",
           "showlakes": true,
           "showland": true,
           "subunitcolor": "white"
          },
          "hoverlabel": {
           "align": "left"
          },
          "hovermode": "closest",
          "mapbox": {
           "style": "light"
          },
          "paper_bgcolor": "white",
          "plot_bgcolor": "#E5ECF6",
          "polar": {
           "angularaxis": {
            "gridcolor": "white",
            "linecolor": "white",
            "ticks": ""
           },
           "bgcolor": "#E5ECF6",
           "radialaxis": {
            "gridcolor": "white",
            "linecolor": "white",
            "ticks": ""
           }
          },
          "scene": {
           "xaxis": {
            "backgroundcolor": "#E5ECF6",
            "gridcolor": "white",
            "gridwidth": 2,
            "linecolor": "white",
            "showbackground": true,
            "ticks": "",
            "zerolinecolor": "white"
           },
           "yaxis": {
            "backgroundcolor": "#E5ECF6",
            "gridcolor": "white",
            "gridwidth": 2,
            "linecolor": "white",
            "showbackground": true,
            "ticks": "",
            "zerolinecolor": "white"
           },
           "zaxis": {
            "backgroundcolor": "#E5ECF6",
            "gridcolor": "white",
            "gridwidth": 2,
            "linecolor": "white",
            "showbackground": true,
            "ticks": "",
            "zerolinecolor": "white"
           }
          },
          "shapedefaults": {
           "line": {
            "color": "#2a3f5f"
           }
          },
          "ternary": {
           "aaxis": {
            "gridcolor": "white",
            "linecolor": "white",
            "ticks": ""
           },
           "baxis": {
            "gridcolor": "white",
            "linecolor": "white",
            "ticks": ""
           },
           "bgcolor": "#E5ECF6",
           "caxis": {
            "gridcolor": "white",
            "linecolor": "white",
            "ticks": ""
           }
          },
          "title": {
           "x": 0.05
          },
          "xaxis": {
           "automargin": true,
           "gridcolor": "white",
           "linecolor": "white",
           "ticks": "",
           "title": {
            "standoff": 15
           },
           "zerolinecolor": "white",
           "zerolinewidth": 2
          },
          "yaxis": {
           "automargin": true,
           "gridcolor": "white",
           "linecolor": "white",
           "ticks": "",
           "title": {
            "standoff": 15
           },
           "zerolinecolor": "white",
           "zerolinewidth": 2
          }
         }
        },
        "title": {
         "text": "Percentage of Names Starting by Each Letter by Gender"
        },
        "xaxis": {
         "title": {
          "text": "Letter of the Name"
         }
        },
        "yaxis": {
         "ticksuffix": "%",
         "title": {
          "text": "% of Total Names by Gender"
         }
        }
       }
      }
     },
     "metadata": {},
     "output_type": "display_data"
    },
    {
     "data": {
      "application/vnd.plotly.v1+json": {
       "config": {
        "plotlyServerURL": "https://plot.ly"
       },
       "data": [
        {
         "hoverinfo": "text",
         "hovertext": [
          "Top names: John, Simon, Kevin",
          "Top names: George, Charlie, Joe",
          "Top names: Johnny, Danny, Harry",
          "Top names: James, Charles, Thomas",
          "Top names: Arthur, Peter, Walter",
          "Top names: Paul, Michael, Bill",
          "Top names: David, Richard, Ed",
          "Top names: Leo, Antonio, Bruno",
          "Top names: Robert, Matt, Scott",
          "Top names: Krishna, Santa, Joshua",
          "Top names: Tom, Jim, William",
          "Top names: Ravi, Ali, Jai",
          "Top names: Jack, Frank, Nick",
          "Top names: Joseph, Josh, Mitch",
          "Top names: Lou, Raju, Stu",
          "Top names: Doug, King, Greg",
          "Top names: Max, Alex, Felix",
          "Top names: Franz, Fritz, Heinz",
          "Top names: Bob, Jacob, Rob",
          "Top names: Eric, Vic, Mac",
          "Top names: Philip, Phillip, Pratap",
          "Top names: Jeff, Wolf, Josef",
          "Top names: Andrew, Matthew, Drew",
          "Top names: Rajiv, Gustav, Yadav",
          "Top names: Suraj, Raj, Manoj",
          "Top names: André, José, René"
         ],
         "marker": {
          "color": "skyblue"
         },
         "name": "Male",
         "type": "bar",
         "x": [
          "n",
          "e",
          "y",
          "s",
          "r",
          "l",
          "d",
          "o",
          "t",
          "a",
          "m",
          "i",
          "k",
          "h",
          "u",
          "g",
          "x",
          "z",
          "b",
          "c",
          "p",
          "f",
          "w",
          "v",
          "j",
          "é"
         ],
         "y": [
          15.977230762953065,
          10.513429973374683,
          9.60755710161486,
          9.260713884950064,
          7.448968141430422,
          5.953461801340447,
          5.827986167076418,
          5.234272190314913,
          4.327379191447254,
          3.798953349587358,
          3.7703897905679047,
          3.7561080110581777,
          3.0858845012088505,
          2.7635243351321575,
          1.6832097279321006,
          1.3435074010221675,
          0.8946514735736072,
          0.7375518989666112,
          0.6518612219082498,
          0.6212574086731206,
          0.6171769002417701,
          0.609015883379069,
          0.47639935936017624,
          0.45905719852693644,
          0.3019576239199404,
          0.12445550715619166
         ]
        },
        {
         "hoverinfo": "text",
         "hovertext": [
          "Top names: Helen, Susan, Karen",
          "Top names: Alice, Kate, Julie",
          "Top names: Mary, Emily, Amy",
          "Top names: Doris, Frances, Agnes",
          "Top names: Jennifer, Heather, Eleanor",
          "Top names: Rachel, Carol, Jill",
          "Top names: Girlfriend, Ingrid, Red",
          "Top names: Margo, Jo, Flo",
          "Top names: Margaret, Janet, Harriet",
          "Top names: Lisa, Barbara, Anna",
          "Top names: Kim, Miriam, Sam",
          "Top names: Anjali, Shanti, Nikki",
          "Top names: Park, Jack, Mak",
          "Top names: Sarah, Elizabeth, Beth",
          "Top names: Frau, Madhu, Lou",
          "Top names: Meg, Peg, Ying",
          "Top names: Alex, Max, Beatrix",
          "Top names: Liz, Inez, Roz",
          "Top names: Barb, Deb, Nightclub",
          "Top names: Mac, Vic, Isaac",
          "Top names: Boop, Miep, Lemp",
          "Top names: Sif, Elif, Wolff",
          "Top names: Willow, Vrouw, Mevrouw",
          "Top names: Bev, Viv, Liv",
          "Top names: Saroj, Asajj, Yuvraj",
          "Top names: Chloé, Zoé, Padmé"
         ],
         "marker": {
          "color": "salmon"
         },
         "name": "Female",
         "type": "bar",
         "x": [
          "n",
          "e",
          "y",
          "s",
          "r",
          "l",
          "d",
          "o",
          "t",
          "a",
          "m",
          "i",
          "k",
          "h",
          "u",
          "g",
          "x",
          "z",
          "b",
          "c",
          "p",
          "f",
          "w",
          "v",
          "j",
          "é"
         ],
         "y": [
          9.359215782897168,
          20.758170394748422,
          10.499639217894792,
          3.8031713627004105,
          2.613470371869555,
          3.2188803435349604,
          1.2776966262473382,
          1.6736769856215132,
          2.0098203129124794,
          30.566163918269655,
          0.823639147498284,
          6.622551521444536,
          0.42589887541577937,
          2.8968163179106314,
          1.2759367135390085,
          0.5596522412488341,
          0.27454638249942803,
          0.5033350345822848,
          0.116154238749758,
          0.06511677020819767,
          0.10735467520810967,
          0.08975554812481301,
          0.17599127083296667,
          0.07215642104151634,
          0.026398690624945,
          0.079196071874835
         ]
        }
       ],
       "layout": {
        "barmode": "group",
        "legend": {
         "title": {
          "text": "Gender"
         }
        },
        "template": {
         "data": {
          "bar": [
           {
            "error_x": {
             "color": "#2a3f5f"
            },
            "error_y": {
             "color": "#2a3f5f"
            },
            "marker": {
             "line": {
              "color": "#E5ECF6",
              "width": 0.5
             },
             "pattern": {
              "fillmode": "overlay",
              "size": 10,
              "solidity": 0.2
             }
            },
            "type": "bar"
           }
          ],
          "barpolar": [
           {
            "marker": {
             "line": {
              "color": "#E5ECF6",
              "width": 0.5
             },
             "pattern": {
              "fillmode": "overlay",
              "size": 10,
              "solidity": 0.2
             }
            },
            "type": "barpolar"
           }
          ],
          "carpet": [
           {
            "aaxis": {
             "endlinecolor": "#2a3f5f",
             "gridcolor": "white",
             "linecolor": "white",
             "minorgridcolor": "white",
             "startlinecolor": "#2a3f5f"
            },
            "baxis": {
             "endlinecolor": "#2a3f5f",
             "gridcolor": "white",
             "linecolor": "white",
             "minorgridcolor": "white",
             "startlinecolor": "#2a3f5f"
            },
            "type": "carpet"
           }
          ],
          "choropleth": [
           {
            "colorbar": {
             "outlinewidth": 0,
             "ticks": ""
            },
            "type": "choropleth"
           }
          ],
          "contour": [
           {
            "colorbar": {
             "outlinewidth": 0,
             "ticks": ""
            },
            "colorscale": [
             [
              0,
              "#0d0887"
             ],
             [
              0.1111111111111111,
              "#46039f"
             ],
             [
              0.2222222222222222,
              "#7201a8"
             ],
             [
              0.3333333333333333,
              "#9c179e"
             ],
             [
              0.4444444444444444,
              "#bd3786"
             ],
             [
              0.5555555555555556,
              "#d8576b"
             ],
             [
              0.6666666666666666,
              "#ed7953"
             ],
             [
              0.7777777777777778,
              "#fb9f3a"
             ],
             [
              0.8888888888888888,
              "#fdca26"
             ],
             [
              1,
              "#f0f921"
             ]
            ],
            "type": "contour"
           }
          ],
          "contourcarpet": [
           {
            "colorbar": {
             "outlinewidth": 0,
             "ticks": ""
            },
            "type": "contourcarpet"
           }
          ],
          "heatmap": [
           {
            "colorbar": {
             "outlinewidth": 0,
             "ticks": ""
            },
            "colorscale": [
             [
              0,
              "#0d0887"
             ],
             [
              0.1111111111111111,
              "#46039f"
             ],
             [
              0.2222222222222222,
              "#7201a8"
             ],
             [
              0.3333333333333333,
              "#9c179e"
             ],
             [
              0.4444444444444444,
              "#bd3786"
             ],
             [
              0.5555555555555556,
              "#d8576b"
             ],
             [
              0.6666666666666666,
              "#ed7953"
             ],
             [
              0.7777777777777778,
              "#fb9f3a"
             ],
             [
              0.8888888888888888,
              "#fdca26"
             ],
             [
              1,
              "#f0f921"
             ]
            ],
            "type": "heatmap"
           }
          ],
          "heatmapgl": [
           {
            "colorbar": {
             "outlinewidth": 0,
             "ticks": ""
            },
            "colorscale": [
             [
              0,
              "#0d0887"
             ],
             [
              0.1111111111111111,
              "#46039f"
             ],
             [
              0.2222222222222222,
              "#7201a8"
             ],
             [
              0.3333333333333333,
              "#9c179e"
             ],
             [
              0.4444444444444444,
              "#bd3786"
             ],
             [
              0.5555555555555556,
              "#d8576b"
             ],
             [
              0.6666666666666666,
              "#ed7953"
             ],
             [
              0.7777777777777778,
              "#fb9f3a"
             ],
             [
              0.8888888888888888,
              "#fdca26"
             ],
             [
              1,
              "#f0f921"
             ]
            ],
            "type": "heatmapgl"
           }
          ],
          "histogram": [
           {
            "marker": {
             "pattern": {
              "fillmode": "overlay",
              "size": 10,
              "solidity": 0.2
             }
            },
            "type": "histogram"
           }
          ],
          "histogram2d": [
           {
            "colorbar": {
             "outlinewidth": 0,
             "ticks": ""
            },
            "colorscale": [
             [
              0,
              "#0d0887"
             ],
             [
              0.1111111111111111,
              "#46039f"
             ],
             [
              0.2222222222222222,
              "#7201a8"
             ],
             [
              0.3333333333333333,
              "#9c179e"
             ],
             [
              0.4444444444444444,
              "#bd3786"
             ],
             [
              0.5555555555555556,
              "#d8576b"
             ],
             [
              0.6666666666666666,
              "#ed7953"
             ],
             [
              0.7777777777777778,
              "#fb9f3a"
             ],
             [
              0.8888888888888888,
              "#fdca26"
             ],
             [
              1,
              "#f0f921"
             ]
            ],
            "type": "histogram2d"
           }
          ],
          "histogram2dcontour": [
           {
            "colorbar": {
             "outlinewidth": 0,
             "ticks": ""
            },
            "colorscale": [
             [
              0,
              "#0d0887"
             ],
             [
              0.1111111111111111,
              "#46039f"
             ],
             [
              0.2222222222222222,
              "#7201a8"
             ],
             [
              0.3333333333333333,
              "#9c179e"
             ],
             [
              0.4444444444444444,
              "#bd3786"
             ],
             [
              0.5555555555555556,
              "#d8576b"
             ],
             [
              0.6666666666666666,
              "#ed7953"
             ],
             [
              0.7777777777777778,
              "#fb9f3a"
             ],
             [
              0.8888888888888888,
              "#fdca26"
             ],
             [
              1,
              "#f0f921"
             ]
            ],
            "type": "histogram2dcontour"
           }
          ],
          "mesh3d": [
           {
            "colorbar": {
             "outlinewidth": 0,
             "ticks": ""
            },
            "type": "mesh3d"
           }
          ],
          "parcoords": [
           {
            "line": {
             "colorbar": {
              "outlinewidth": 0,
              "ticks": ""
             }
            },
            "type": "parcoords"
           }
          ],
          "pie": [
           {
            "automargin": true,
            "type": "pie"
           }
          ],
          "scatter": [
           {
            "fillpattern": {
             "fillmode": "overlay",
             "size": 10,
             "solidity": 0.2
            },
            "type": "scatter"
           }
          ],
          "scatter3d": [
           {
            "line": {
             "colorbar": {
              "outlinewidth": 0,
              "ticks": ""
             }
            },
            "marker": {
             "colorbar": {
              "outlinewidth": 0,
              "ticks": ""
             }
            },
            "type": "scatter3d"
           }
          ],
          "scattercarpet": [
           {
            "marker": {
             "colorbar": {
              "outlinewidth": 0,
              "ticks": ""
             }
            },
            "type": "scattercarpet"
           }
          ],
          "scattergeo": [
           {
            "marker": {
             "colorbar": {
              "outlinewidth": 0,
              "ticks": ""
             }
            },
            "type": "scattergeo"
           }
          ],
          "scattergl": [
           {
            "marker": {
             "colorbar": {
              "outlinewidth": 0,
              "ticks": ""
             }
            },
            "type": "scattergl"
           }
          ],
          "scattermapbox": [
           {
            "marker": {
             "colorbar": {
              "outlinewidth": 0,
              "ticks": ""
             }
            },
            "type": "scattermapbox"
           }
          ],
          "scatterpolar": [
           {
            "marker": {
             "colorbar": {
              "outlinewidth": 0,
              "ticks": ""
             }
            },
            "type": "scatterpolar"
           }
          ],
          "scatterpolargl": [
           {
            "marker": {
             "colorbar": {
              "outlinewidth": 0,
              "ticks": ""
             }
            },
            "type": "scatterpolargl"
           }
          ],
          "scatterternary": [
           {
            "marker": {
             "colorbar": {
              "outlinewidth": 0,
              "ticks": ""
             }
            },
            "type": "scatterternary"
           }
          ],
          "surface": [
           {
            "colorbar": {
             "outlinewidth": 0,
             "ticks": ""
            },
            "colorscale": [
             [
              0,
              "#0d0887"
             ],
             [
              0.1111111111111111,
              "#46039f"
             ],
             [
              0.2222222222222222,
              "#7201a8"
             ],
             [
              0.3333333333333333,
              "#9c179e"
             ],
             [
              0.4444444444444444,
              "#bd3786"
             ],
             [
              0.5555555555555556,
              "#d8576b"
             ],
             [
              0.6666666666666666,
              "#ed7953"
             ],
             [
              0.7777777777777778,
              "#fb9f3a"
             ],
             [
              0.8888888888888888,
              "#fdca26"
             ],
             [
              1,
              "#f0f921"
             ]
            ],
            "type": "surface"
           }
          ],
          "table": [
           {
            "cells": {
             "fill": {
              "color": "#EBF0F8"
             },
             "line": {
              "color": "white"
             }
            },
            "header": {
             "fill": {
              "color": "#C8D4E3"
             },
             "line": {
              "color": "white"
             }
            },
            "type": "table"
           }
          ]
         },
         "layout": {
          "annotationdefaults": {
           "arrowcolor": "#2a3f5f",
           "arrowhead": 0,
           "arrowwidth": 1
          },
          "autotypenumbers": "strict",
          "coloraxis": {
           "colorbar": {
            "outlinewidth": 0,
            "ticks": ""
           }
          },
          "colorscale": {
           "diverging": [
            [
             0,
             "#8e0152"
            ],
            [
             0.1,
             "#c51b7d"
            ],
            [
             0.2,
             "#de77ae"
            ],
            [
             0.3,
             "#f1b6da"
            ],
            [
             0.4,
             "#fde0ef"
            ],
            [
             0.5,
             "#f7f7f7"
            ],
            [
             0.6,
             "#e6f5d0"
            ],
            [
             0.7,
             "#b8e186"
            ],
            [
             0.8,
             "#7fbc41"
            ],
            [
             0.9,
             "#4d9221"
            ],
            [
             1,
             "#276419"
            ]
           ],
           "sequential": [
            [
             0,
             "#0d0887"
            ],
            [
             0.1111111111111111,
             "#46039f"
            ],
            [
             0.2222222222222222,
             "#7201a8"
            ],
            [
             0.3333333333333333,
             "#9c179e"
            ],
            [
             0.4444444444444444,
             "#bd3786"
            ],
            [
             0.5555555555555556,
             "#d8576b"
            ],
            [
             0.6666666666666666,
             "#ed7953"
            ],
            [
             0.7777777777777778,
             "#fb9f3a"
            ],
            [
             0.8888888888888888,
             "#fdca26"
            ],
            [
             1,
             "#f0f921"
            ]
           ],
           "sequentialminus": [
            [
             0,
             "#0d0887"
            ],
            [
             0.1111111111111111,
             "#46039f"
            ],
            [
             0.2222222222222222,
             "#7201a8"
            ],
            [
             0.3333333333333333,
             "#9c179e"
            ],
            [
             0.4444444444444444,
             "#bd3786"
            ],
            [
             0.5555555555555556,
             "#d8576b"
            ],
            [
             0.6666666666666666,
             "#ed7953"
            ],
            [
             0.7777777777777778,
             "#fb9f3a"
            ],
            [
             0.8888888888888888,
             "#fdca26"
            ],
            [
             1,
             "#f0f921"
            ]
           ]
          },
          "colorway": [
           "#636efa",
           "#EF553B",
           "#00cc96",
           "#ab63fa",
           "#FFA15A",
           "#19d3f3",
           "#FF6692",
           "#B6E880",
           "#FF97FF",
           "#FECB52"
          ],
          "font": {
           "color": "#2a3f5f"
          },
          "geo": {
           "bgcolor": "white",
           "lakecolor": "white",
           "landcolor": "#E5ECF6",
           "showlakes": true,
           "showland": true,
           "subunitcolor": "white"
          },
          "hoverlabel": {
           "align": "left"
          },
          "hovermode": "closest",
          "mapbox": {
           "style": "light"
          },
          "paper_bgcolor": "white",
          "plot_bgcolor": "#E5ECF6",
          "polar": {
           "angularaxis": {
            "gridcolor": "white",
            "linecolor": "white",
            "ticks": ""
           },
           "bgcolor": "#E5ECF6",
           "radialaxis": {
            "gridcolor": "white",
            "linecolor": "white",
            "ticks": ""
           }
          },
          "scene": {
           "xaxis": {
            "backgroundcolor": "#E5ECF6",
            "gridcolor": "white",
            "gridwidth": 2,
            "linecolor": "white",
            "showbackground": true,
            "ticks": "",
            "zerolinecolor": "white"
           },
           "yaxis": {
            "backgroundcolor": "#E5ECF6",
            "gridcolor": "white",
            "gridwidth": 2,
            "linecolor": "white",
            "showbackground": true,
            "ticks": "",
            "zerolinecolor": "white"
           },
           "zaxis": {
            "backgroundcolor": "#E5ECF6",
            "gridcolor": "white",
            "gridwidth": 2,
            "linecolor": "white",
            "showbackground": true,
            "ticks": "",
            "zerolinecolor": "white"
           }
          },
          "shapedefaults": {
           "line": {
            "color": "#2a3f5f"
           }
          },
          "ternary": {
           "aaxis": {
            "gridcolor": "white",
            "linecolor": "white",
            "ticks": ""
           },
           "baxis": {
            "gridcolor": "white",
            "linecolor": "white",
            "ticks": ""
           },
           "bgcolor": "#E5ECF6",
           "caxis": {
            "gridcolor": "white",
            "linecolor": "white",
            "ticks": ""
           }
          },
          "title": {
           "x": 0.05
          },
          "xaxis": {
           "automargin": true,
           "gridcolor": "white",
           "linecolor": "white",
           "ticks": "",
           "title": {
            "standoff": 15
           },
           "zerolinecolor": "white",
           "zerolinewidth": 2
          },
          "yaxis": {
           "automargin": true,
           "gridcolor": "white",
           "linecolor": "white",
           "ticks": "",
           "title": {
            "standoff": 15
           },
           "zerolinecolor": "white",
           "zerolinewidth": 2
          }
         }
        },
        "title": {
         "text": "Percentage of Names Ending by Each Letter by Gender"
        },
        "xaxis": {
         "title": {
          "text": "Letter of the Name"
         }
        },
        "yaxis": {
         "ticksuffix": "%",
         "title": {
          "text": "% of Total Names by Gender"
         }
        }
       }
      }
     },
     "metadata": {},
     "output_type": "display_data"
    }
   ],
   "source": [
    "analyze_gender.plot_letter_name_percentage(0)\n",
    "analyze_gender.plot_letter_name_percentage(-1)"
   ]
  },
  {
   "cell_type": "markdown",
   "metadata": {},
   "source": [
    "#### 2.2.d Top names of characters across Age and Gender"
   ]
  },
  {
   "cell_type": "markdown",
   "metadata": {},
   "source": [
    "*Interactive hover plot in this section*"
   ]
  },
  {
   "cell_type": "code",
   "execution_count": 55,
   "metadata": {},
   "outputs": [
    {
     "data": {
      "application/vnd.plotly.v1+json": {
       "config": {
        "plotlyServerURL": "https://plot.ly"
       },
       "data": [
        {
         "hoverinfo": "text",
         "hovertext": [
          "Top names: Michael, Mickey, Kid",
          "Top names: Kid, Charlie, Tom",
          "Top names: Paul, Danny, Michael",
          "Top names: John, David, Tom",
          "Top names: John, David, Tom",
          "Top names: John, George, Robert",
          "Top names: John, George, James",
          "Top names: John, George, Charles",
          "Top names: John, Max, George",
          "Top names: Donald, Wallace, Gus"
         ],
         "marker": {
          "color": "skyblue"
         },
         "name": "Male",
         "type": "bar",
         "x": [
          "<12y",
          "13y-17y",
          "18y-24y",
          "25y-34y",
          "35y-44y",
          "45y-54y",
          "55y-64y",
          "65y-74y",
          "75y-84y",
          ">85y"
         ],
         "y": [
          0.9436175747498138,
          1.4893855774429494,
          4.537525375661808,
          18.62956124333092,
          20.862619482387508,
          14.539871668009836,
          8.049823007946792,
          3.2042192457180168,
          0.9038326175441459,
          0.13873728666591859
         ]
        },
        {
         "hoverinfo": "text",
         "hovertext": [
          "Top names: Susan, Samantha, Katie",
          "Top names: Sarah, Alice, Samantha",
          "Top names: Priya, Mary, Julie",
          "Top names: Sarah, Lisa, Kate",
          "Top names: Sarah, Susan, Kate",
          "Top names: Helen, Sarah, Martha",
          "Top names: Helen, Margaret, Barbara",
          "Top names: Martha, Helen, Grace",
          "Top names: Mary, Helen, Gloria",
          "Top names: Mme, Annie, Barbara"
         ],
         "marker": {
          "color": "salmon"
         },
         "name": "Female",
         "type": "bar",
         "x": [
          "<12y",
          "13y-17y",
          "18y-24y",
          "25y-34y",
          "35y-44y",
          "45y-54y",
          "55y-64y",
          "65y-74y",
          "75y-84y",
          ">85y"
         ],
         "y": [
          1.6789567237465022,
          2.5641928160363245,
          14.15145808767885,
          28.79569173369001,
          15.332359514968058,
          7.4549902324844695,
          3.7556537195755095,
          1.6279192552049417,
          0.6247690114570317,
          0.14079301666637337
         ]
        }
       ],
       "layout": {
        "barmode": "group",
        "legend": {
         "title": {
          "text": "Gender"
         }
        },
        "template": {
         "data": {
          "bar": [
           {
            "error_x": {
             "color": "#2a3f5f"
            },
            "error_y": {
             "color": "#2a3f5f"
            },
            "marker": {
             "line": {
              "color": "#E5ECF6",
              "width": 0.5
             },
             "pattern": {
              "fillmode": "overlay",
              "size": 10,
              "solidity": 0.2
             }
            },
            "type": "bar"
           }
          ],
          "barpolar": [
           {
            "marker": {
             "line": {
              "color": "#E5ECF6",
              "width": 0.5
             },
             "pattern": {
              "fillmode": "overlay",
              "size": 10,
              "solidity": 0.2
             }
            },
            "type": "barpolar"
           }
          ],
          "carpet": [
           {
            "aaxis": {
             "endlinecolor": "#2a3f5f",
             "gridcolor": "white",
             "linecolor": "white",
             "minorgridcolor": "white",
             "startlinecolor": "#2a3f5f"
            },
            "baxis": {
             "endlinecolor": "#2a3f5f",
             "gridcolor": "white",
             "linecolor": "white",
             "minorgridcolor": "white",
             "startlinecolor": "#2a3f5f"
            },
            "type": "carpet"
           }
          ],
          "choropleth": [
           {
            "colorbar": {
             "outlinewidth": 0,
             "ticks": ""
            },
            "type": "choropleth"
           }
          ],
          "contour": [
           {
            "colorbar": {
             "outlinewidth": 0,
             "ticks": ""
            },
            "colorscale": [
             [
              0,
              "#0d0887"
             ],
             [
              0.1111111111111111,
              "#46039f"
             ],
             [
              0.2222222222222222,
              "#7201a8"
             ],
             [
              0.3333333333333333,
              "#9c179e"
             ],
             [
              0.4444444444444444,
              "#bd3786"
             ],
             [
              0.5555555555555556,
              "#d8576b"
             ],
             [
              0.6666666666666666,
              "#ed7953"
             ],
             [
              0.7777777777777778,
              "#fb9f3a"
             ],
             [
              0.8888888888888888,
              "#fdca26"
             ],
             [
              1,
              "#f0f921"
             ]
            ],
            "type": "contour"
           }
          ],
          "contourcarpet": [
           {
            "colorbar": {
             "outlinewidth": 0,
             "ticks": ""
            },
            "type": "contourcarpet"
           }
          ],
          "heatmap": [
           {
            "colorbar": {
             "outlinewidth": 0,
             "ticks": ""
            },
            "colorscale": [
             [
              0,
              "#0d0887"
             ],
             [
              0.1111111111111111,
              "#46039f"
             ],
             [
              0.2222222222222222,
              "#7201a8"
             ],
             [
              0.3333333333333333,
              "#9c179e"
             ],
             [
              0.4444444444444444,
              "#bd3786"
             ],
             [
              0.5555555555555556,
              "#d8576b"
             ],
             [
              0.6666666666666666,
              "#ed7953"
             ],
             [
              0.7777777777777778,
              "#fb9f3a"
             ],
             [
              0.8888888888888888,
              "#fdca26"
             ],
             [
              1,
              "#f0f921"
             ]
            ],
            "type": "heatmap"
           }
          ],
          "heatmapgl": [
           {
            "colorbar": {
             "outlinewidth": 0,
             "ticks": ""
            },
            "colorscale": [
             [
              0,
              "#0d0887"
             ],
             [
              0.1111111111111111,
              "#46039f"
             ],
             [
              0.2222222222222222,
              "#7201a8"
             ],
             [
              0.3333333333333333,
              "#9c179e"
             ],
             [
              0.4444444444444444,
              "#bd3786"
             ],
             [
              0.5555555555555556,
              "#d8576b"
             ],
             [
              0.6666666666666666,
              "#ed7953"
             ],
             [
              0.7777777777777778,
              "#fb9f3a"
             ],
             [
              0.8888888888888888,
              "#fdca26"
             ],
             [
              1,
              "#f0f921"
             ]
            ],
            "type": "heatmapgl"
           }
          ],
          "histogram": [
           {
            "marker": {
             "pattern": {
              "fillmode": "overlay",
              "size": 10,
              "solidity": 0.2
             }
            },
            "type": "histogram"
           }
          ],
          "histogram2d": [
           {
            "colorbar": {
             "outlinewidth": 0,
             "ticks": ""
            },
            "colorscale": [
             [
              0,
              "#0d0887"
             ],
             [
              0.1111111111111111,
              "#46039f"
             ],
             [
              0.2222222222222222,
              "#7201a8"
             ],
             [
              0.3333333333333333,
              "#9c179e"
             ],
             [
              0.4444444444444444,
              "#bd3786"
             ],
             [
              0.5555555555555556,
              "#d8576b"
             ],
             [
              0.6666666666666666,
              "#ed7953"
             ],
             [
              0.7777777777777778,
              "#fb9f3a"
             ],
             [
              0.8888888888888888,
              "#fdca26"
             ],
             [
              1,
              "#f0f921"
             ]
            ],
            "type": "histogram2d"
           }
          ],
          "histogram2dcontour": [
           {
            "colorbar": {
             "outlinewidth": 0,
             "ticks": ""
            },
            "colorscale": [
             [
              0,
              "#0d0887"
             ],
             [
              0.1111111111111111,
              "#46039f"
             ],
             [
              0.2222222222222222,
              "#7201a8"
             ],
             [
              0.3333333333333333,
              "#9c179e"
             ],
             [
              0.4444444444444444,
              "#bd3786"
             ],
             [
              0.5555555555555556,
              "#d8576b"
             ],
             [
              0.6666666666666666,
              "#ed7953"
             ],
             [
              0.7777777777777778,
              "#fb9f3a"
             ],
             [
              0.8888888888888888,
              "#fdca26"
             ],
             [
              1,
              "#f0f921"
             ]
            ],
            "type": "histogram2dcontour"
           }
          ],
          "mesh3d": [
           {
            "colorbar": {
             "outlinewidth": 0,
             "ticks": ""
            },
            "type": "mesh3d"
           }
          ],
          "parcoords": [
           {
            "line": {
             "colorbar": {
              "outlinewidth": 0,
              "ticks": ""
             }
            },
            "type": "parcoords"
           }
          ],
          "pie": [
           {
            "automargin": true,
            "type": "pie"
           }
          ],
          "scatter": [
           {
            "fillpattern": {
             "fillmode": "overlay",
             "size": 10,
             "solidity": 0.2
            },
            "type": "scatter"
           }
          ],
          "scatter3d": [
           {
            "line": {
             "colorbar": {
              "outlinewidth": 0,
              "ticks": ""
             }
            },
            "marker": {
             "colorbar": {
              "outlinewidth": 0,
              "ticks": ""
             }
            },
            "type": "scatter3d"
           }
          ],
          "scattercarpet": [
           {
            "marker": {
             "colorbar": {
              "outlinewidth": 0,
              "ticks": ""
             }
            },
            "type": "scattercarpet"
           }
          ],
          "scattergeo": [
           {
            "marker": {
             "colorbar": {
              "outlinewidth": 0,
              "ticks": ""
             }
            },
            "type": "scattergeo"
           }
          ],
          "scattergl": [
           {
            "marker": {
             "colorbar": {
              "outlinewidth": 0,
              "ticks": ""
             }
            },
            "type": "scattergl"
           }
          ],
          "scattermapbox": [
           {
            "marker": {
             "colorbar": {
              "outlinewidth": 0,
              "ticks": ""
             }
            },
            "type": "scattermapbox"
           }
          ],
          "scatterpolar": [
           {
            "marker": {
             "colorbar": {
              "outlinewidth": 0,
              "ticks": ""
             }
            },
            "type": "scatterpolar"
           }
          ],
          "scatterpolargl": [
           {
            "marker": {
             "colorbar": {
              "outlinewidth": 0,
              "ticks": ""
             }
            },
            "type": "scatterpolargl"
           }
          ],
          "scatterternary": [
           {
            "marker": {
             "colorbar": {
              "outlinewidth": 0,
              "ticks": ""
             }
            },
            "type": "scatterternary"
           }
          ],
          "surface": [
           {
            "colorbar": {
             "outlinewidth": 0,
             "ticks": ""
            },
            "colorscale": [
             [
              0,
              "#0d0887"
             ],
             [
              0.1111111111111111,
              "#46039f"
             ],
             [
              0.2222222222222222,
              "#7201a8"
             ],
             [
              0.3333333333333333,
              "#9c179e"
             ],
             [
              0.4444444444444444,
              "#bd3786"
             ],
             [
              0.5555555555555556,
              "#d8576b"
             ],
             [
              0.6666666666666666,
              "#ed7953"
             ],
             [
              0.7777777777777778,
              "#fb9f3a"
             ],
             [
              0.8888888888888888,
              "#fdca26"
             ],
             [
              1,
              "#f0f921"
             ]
            ],
            "type": "surface"
           }
          ],
          "table": [
           {
            "cells": {
             "fill": {
              "color": "#EBF0F8"
             },
             "line": {
              "color": "white"
             }
            },
            "header": {
             "fill": {
              "color": "#C8D4E3"
             },
             "line": {
              "color": "white"
             }
            },
            "type": "table"
           }
          ]
         },
         "layout": {
          "annotationdefaults": {
           "arrowcolor": "#2a3f5f",
           "arrowhead": 0,
           "arrowwidth": 1
          },
          "autotypenumbers": "strict",
          "coloraxis": {
           "colorbar": {
            "outlinewidth": 0,
            "ticks": ""
           }
          },
          "colorscale": {
           "diverging": [
            [
             0,
             "#8e0152"
            ],
            [
             0.1,
             "#c51b7d"
            ],
            [
             0.2,
             "#de77ae"
            ],
            [
             0.3,
             "#f1b6da"
            ],
            [
             0.4,
             "#fde0ef"
            ],
            [
             0.5,
             "#f7f7f7"
            ],
            [
             0.6,
             "#e6f5d0"
            ],
            [
             0.7,
             "#b8e186"
            ],
            [
             0.8,
             "#7fbc41"
            ],
            [
             0.9,
             "#4d9221"
            ],
            [
             1,
             "#276419"
            ]
           ],
           "sequential": [
            [
             0,
             "#0d0887"
            ],
            [
             0.1111111111111111,
             "#46039f"
            ],
            [
             0.2222222222222222,
             "#7201a8"
            ],
            [
             0.3333333333333333,
             "#9c179e"
            ],
            [
             0.4444444444444444,
             "#bd3786"
            ],
            [
             0.5555555555555556,
             "#d8576b"
            ],
            [
             0.6666666666666666,
             "#ed7953"
            ],
            [
             0.7777777777777778,
             "#fb9f3a"
            ],
            [
             0.8888888888888888,
             "#fdca26"
            ],
            [
             1,
             "#f0f921"
            ]
           ],
           "sequentialminus": [
            [
             0,
             "#0d0887"
            ],
            [
             0.1111111111111111,
             "#46039f"
            ],
            [
             0.2222222222222222,
             "#7201a8"
            ],
            [
             0.3333333333333333,
             "#9c179e"
            ],
            [
             0.4444444444444444,
             "#bd3786"
            ],
            [
             0.5555555555555556,
             "#d8576b"
            ],
            [
             0.6666666666666666,
             "#ed7953"
            ],
            [
             0.7777777777777778,
             "#fb9f3a"
            ],
            [
             0.8888888888888888,
             "#fdca26"
            ],
            [
             1,
             "#f0f921"
            ]
           ]
          },
          "colorway": [
           "#636efa",
           "#EF553B",
           "#00cc96",
           "#ab63fa",
           "#FFA15A",
           "#19d3f3",
           "#FF6692",
           "#B6E880",
           "#FF97FF",
           "#FECB52"
          ],
          "font": {
           "color": "#2a3f5f"
          },
          "geo": {
           "bgcolor": "white",
           "lakecolor": "white",
           "landcolor": "#E5ECF6",
           "showlakes": true,
           "showland": true,
           "subunitcolor": "white"
          },
          "hoverlabel": {
           "align": "left"
          },
          "hovermode": "closest",
          "mapbox": {
           "style": "light"
          },
          "paper_bgcolor": "white",
          "plot_bgcolor": "#E5ECF6",
          "polar": {
           "angularaxis": {
            "gridcolor": "white",
            "linecolor": "white",
            "ticks": ""
           },
           "bgcolor": "#E5ECF6",
           "radialaxis": {
            "gridcolor": "white",
            "linecolor": "white",
            "ticks": ""
           }
          },
          "scene": {
           "xaxis": {
            "backgroundcolor": "#E5ECF6",
            "gridcolor": "white",
            "gridwidth": 2,
            "linecolor": "white",
            "showbackground": true,
            "ticks": "",
            "zerolinecolor": "white"
           },
           "yaxis": {
            "backgroundcolor": "#E5ECF6",
            "gridcolor": "white",
            "gridwidth": 2,
            "linecolor": "white",
            "showbackground": true,
            "ticks": "",
            "zerolinecolor": "white"
           },
           "zaxis": {
            "backgroundcolor": "#E5ECF6",
            "gridcolor": "white",
            "gridwidth": 2,
            "linecolor": "white",
            "showbackground": true,
            "ticks": "",
            "zerolinecolor": "white"
           }
          },
          "shapedefaults": {
           "line": {
            "color": "#2a3f5f"
           }
          },
          "ternary": {
           "aaxis": {
            "gridcolor": "white",
            "linecolor": "white",
            "ticks": ""
           },
           "baxis": {
            "gridcolor": "white",
            "linecolor": "white",
            "ticks": ""
           },
           "bgcolor": "#E5ECF6",
           "caxis": {
            "gridcolor": "white",
            "linecolor": "white",
            "ticks": ""
           }
          },
          "title": {
           "x": 0.05
          },
          "xaxis": {
           "automargin": true,
           "gridcolor": "white",
           "linecolor": "white",
           "ticks": "",
           "title": {
            "standoff": 15
           },
           "zerolinecolor": "white",
           "zerolinewidth": 2
          },
          "yaxis": {
           "automargin": true,
           "gridcolor": "white",
           "linecolor": "white",
           "ticks": "",
           "title": {
            "standoff": 15
           },
           "zerolinecolor": "white",
           "zerolinewidth": 2
          }
         }
        },
        "title": {
         "text": "Percentage of Males and Females in Each Age Category"
        },
        "xaxis": {
         "tickangle": 0,
         "tickvals": [
          "<12y",
          "13y-17y",
          "18y-24y",
          "25y-34y",
          "35y-44y",
          "45y-54y",
          "55y-64y",
          "65y-74y",
          "75y-84y",
          ">85y"
         ],
         "title": {
          "text": "Age Category"
         }
        },
        "yaxis": {
         "ticksuffix": "%",
         "title": {
          "text": "% of Total Males/Females"
         }
        }
       }
      }
     },
     "metadata": {},
     "output_type": "display_data"
    }
   ],
   "source": [
    "analyze_gender.plot_age_sex_distribution_with_top_names()"
   ]
  },
  {
   "cell_type": "markdown",
   "metadata": {},
   "source": [
    "## 2.3 Geographical Analysis"
   ]
  },
  {
   "cell_type": "markdown",
   "metadata": {},
   "source": [
    "The aim of this section is to present the distribution of top character names across continents and countries."
   ]
  },
  {
   "cell_type": "markdown",
   "metadata": {},
   "source": [
    "### 2.3.a Continent Analysis"
   ]
  },
  {
   "cell_type": "code",
   "execution_count": 56,
   "metadata": {},
   "outputs": [
    {
     "data": {
      "text/html": [
       "<div>\n",
       "<style scoped>\n",
       "    .dataframe tbody tr th:only-of-type {\n",
       "        vertical-align: middle;\n",
       "    }\n",
       "\n",
       "    .dataframe tbody tr th {\n",
       "        vertical-align: top;\n",
       "    }\n",
       "\n",
       "    .dataframe thead th {\n",
       "        text-align: right;\n",
       "    }\n",
       "</style>\n",
       "<table border=\"1\" class=\"dataframe\">\n",
       "  <thead>\n",
       "    <tr style=\"text-align: right;\">\n",
       "      <th></th>\n",
       "      <th>Continent</th>\n",
       "      <th>Female_name</th>\n",
       "      <th>Male_name</th>\n",
       "    </tr>\n",
       "  </thead>\n",
       "  <tbody>\n",
       "    <tr>\n",
       "      <th>0</th>\n",
       "      <td>Africa</td>\n",
       "      <td>Amina*</td>\n",
       "      <td>Omar*</td>\n",
       "    </tr>\n",
       "    <tr>\n",
       "      <th>1</th>\n",
       "      <td>Asia</td>\n",
       "      <td>Priya</td>\n",
       "      <td>Vijay</td>\n",
       "    </tr>\n",
       "    <tr>\n",
       "      <th>2</th>\n",
       "      <td>Europe</td>\n",
       "      <td>Anna</td>\n",
       "      <td>John</td>\n",
       "    </tr>\n",
       "    <tr>\n",
       "      <th>3</th>\n",
       "      <td>North America</td>\n",
       "      <td>Sarah</td>\n",
       "      <td>John</td>\n",
       "    </tr>\n",
       "    <tr>\n",
       "      <th>4</th>\n",
       "      <td>Oceania</td>\n",
       "      <td>Angie</td>\n",
       "      <td>John</td>\n",
       "    </tr>\n",
       "  </tbody>\n",
       "</table>\n",
       "</div>"
      ],
      "text/plain": [
       "       Continent Female_name Male_name\n",
       "0         Africa      Amina*     Omar*\n",
       "1           Asia       Priya     Vijay\n",
       "2         Europe        Anna      John\n",
       "3  North America       Sarah      John\n",
       "4        Oceania       Angie      John"
      ]
     },
     "execution_count": 56,
     "metadata": {},
     "output_type": "execute_result"
    }
   ],
   "source": [
    "# Let's generate a table containing the most recurrent names for each continent\n",
    "analyze_countries = CountryAnalyzer(df_char_cleaned)\n",
    "df_continent = analyze_countries.create_continent_df()\n",
    "df_continent.head()"
   ]
  },
  {
   "cell_type": "markdown",
   "metadata": {},
   "source": [
    "\\* 3 other names are in a tie for this category. We choose to display only one name for readability"
   ]
  },
  {
   "cell_type": "markdown",
   "metadata": {},
   "source": [
    "In the table above we see the most recurrent character names for each continent. For Asia, we see that the most common names are indian names. Is it because other nearby countries are influenced by the bollywood industry or because India's movies are predominent in this dataset? \n",
    "We will try to answer the question by plotting the most common character names per country and reting it with the number of movies from this country in the dataset."
   ]
  },
  {
   "cell_type": "markdown",
   "metadata": {},
   "source": [
    "### 2.3.b Country Analysis (Interractive World map)"
   ]
  },
  {
   "cell_type": "markdown",
   "metadata": {},
   "source": [
    "*Interactive hover plot in this section*"
   ]
  },
  {
   "cell_type": "code",
   "execution_count": 57,
   "metadata": {},
   "outputs": [],
   "source": [
    "df_top_names = analyze_countries.create_top_names_df()\n",
    "analyze_countries.add_movie_count(df_top_names)\n",
    "df_top_names = analyze_countries.cleaning_non_countries(df_top_names)"
   ]
  },
  {
   "cell_type": "code",
   "execution_count": 58,
   "metadata": {},
   "outputs": [
    {
     "data": {
      "application/vnd.plotly.v1+json": {
       "config": {
        "plotlyServerURL": "https://plot.ly"
       },
       "data": [
        {
         "type": "scattergeo"
        },
        {
         "colorbar": {
          "ticktext": [
           "10^0",
           "10^1",
           "10^2",
           "10^3",
           "10^4"
          ],
          "tickvals": [
           0,
           1,
           2,
           3,
           4
          ],
          "title": {
           "text": "Number of movies (Log Scale)"
          }
         },
         "colorscale": [
          [
           0,
           "rgb(255,255,204)"
          ],
          [
           0.125,
           "rgb(255,237,160)"
          ],
          [
           0.25,
           "rgb(254,217,118)"
          ],
          [
           0.375,
           "rgb(254,178,76)"
          ],
          [
           0.5,
           "rgb(253,141,60)"
          ],
          [
           0.625,
           "rgb(252,78,42)"
          ],
          [
           0.75,
           "rgb(227,26,28)"
          ],
          [
           0.875,
           "rgb(189,0,38)"
          ],
          [
           1,
           "rgb(128,0,38)"
          ]
         ],
         "hovertemplate": "%{location}<br>%{text}",
         "locationmode": "country names",
         "locations": [
          "Afghanistan",
          "Albania",
          "Algeria",
          "Argentina",
          "Australia",
          "Austria",
          "Bahamas",
          "Bangladesh",
          "Belgium",
          "Bolivia",
          "Bosnia and Herzegovina",
          "Brazil",
          "Bulgaria",
          "Burma",
          "Cambodia",
          "Canada",
          "Chile",
          "China",
          "Colombia",
          "Costa Rica",
          "Croatia",
          "Cyprus",
          "Czech Republic",
          "Czechoslovakia",
          "Denmark",
          "Egypt",
          "Estonia",
          "Finland",
          "France",
          "Georgia",
          "Germany",
          "Greece",
          "Hong Kong",
          "Hungary",
          "Iceland",
          "India",
          "Indonesia",
          "Iran",
          "Ireland",
          "Isle of Man",
          "Israel",
          "Italy",
          "Jamaica",
          "Japan",
          "Korea",
          "Lebanon",
          "Lithuania",
          "Luxembourg",
          "Malayalam Language",
          "Malaysia",
          "Malta",
          "Mexico",
          "Mongolia",
          "Nepal",
          "Netherlands",
          "New Zealand",
          "Norway",
          "Pakistan",
          "Palestinian territories",
          "Peru",
          "Philippines",
          "Poland",
          "Portugal",
          "Puerto Rico",
          "Republic of Macedonia",
          "Romania",
          "Russia",
          "Senegal",
          "Serbia",
          "Serbia and Montenegro",
          "Singapore",
          "Slovak Republic",
          "Slovakia",
          "Slovenia",
          "South Africa",
          "South Korea",
          "Spain",
          "Sri Lanka",
          "Sweden",
          "Switzerland",
          "Taiwan",
          "Thailand",
          "Turkey",
          "Ukraine",
          "Ukrainian SSR",
          "Ukranian SSR",
          "United Arab Emirates",
          "United Kingdom",
          "United States of America",
          "Uruguay",
          "Uzbekistan",
          "Venezuela",
          "Vietnam",
          "Yugoslavia",
          "Zambia",
          "Zimbabwe"
         ],
         "showscale": true,
         "text": [
          "Top female name: Benazir<br>Top male name: Baadshah<br>Nb Movies: 3",
          "Top female name: Agnes<br>Top male name: Apotheker<br>Nb Movies: 2",
          "Top female name: Khadidja<br>Top male name: Adel<br>Nb Movies: 1",
          "Top female name: Susana<br>Top male name: Pedro<br>Nb Movies: 31",
          "Top female name: Angie<br>Top male name: John<br>Nb Movies: 301",
          "Top female name: Frau<br>Top male name: Ein<br>Nb Movies: 49",
          "Top female name: None<br>Top male name: Clyde<br>Nb Movies: 1",
          "Top female name: Meher<br>Top male name: Abdul<br>Nb Movies: 8",
          "Top female name: Christine<br>Top male name: Johan<br>Nb Movies: 39",
          "Top female name: Actriz<br>Top male name: Amigo<br>Nb Movies: 2",
          "Top female name: Cemile<br>Top male name: Vojnik<br>Nb Movies: 2",
          "Top female name: Dona<br>Top male name: João<br>Nb Movies: 55",
          "Top female name: Ave<br>Top male name: Maystor<br>Nb Movies: 10",
          "Top female name: None<br>Top male name: Okkar<br>Nb Movies: 1",
          "Top female name: Kaly<br>Top male name: Chalawan<br>Nb Movies: 6",
          "Top female name: Sarah<br>Top male name: John<br>Nb Movies: 544",
          "Top female name: Carmen<br>Top male name: Marciano<br>Nb Movies: 5",
          "Top female name: Xiao<br>Top male name: Chen<br>Nb Movies: 73",
          "Top female name: Adela<br>Top male name: Jairo<br>Nb Movies: 8",
          "Top female name: Alejandra<br>Top male name: Bernardo<br>Nb Movies: 1",
          "Top female name: Begovica<br>Top male name: Taksist<br>Nb Movies: 9",
          "Top female name: Aphrodite<br>Top male name: Andreas<br>Nb Movies: 1",
          "Top female name: Deti<br>Top male name: Frantisek<br>Nb Movies: 23",
          "Top female name: Alena<br>Top male name: Jan<br>Nb Movies: 17",
          "Top female name: Fru<br>Top male name: Christian<br>Nb Movies: 71",
          "Top female name: Amina<br>Top male name: Ahmed<br>Nb Movies: 24",
          "Top female name: Mari<br>Top male name: Margus<br>Nb Movies: 4",
          "Top female name: Shemeikan<br>Top male name: Poliisi<br>Nb Movies: 40",
          "Top female name: mère<br>Top male name: Pierre<br>Nb Movies: 1,410",
          "Top female name: Jenna<br>Top male name: Beau<br>Nb Movies: 1",
          "Top female name: Frau<br>Top male name: Der<br>Nb Movies: 130",
          "Top female name: Liza<br>Top male name: Alexis<br>Nb Movies: 28",
          "Top female name: May<br>Top male name: Cheung<br>Nb Movies: 343",
          "Top female name: Lány<br>Top male name: Gielgud<br>Nb Movies: 40",
          "Top female name: Anna<br>Top male name: Albert<br>Nb Movies: 10",
          "Top female name: Priya<br>Top male name: Vijay<br>Nb Movies: 4,574",
          "Top female name: Nenek<br>Top male name: Jin<br>Nb Movies: 14",
          "Top female name: Mina<br>Top male name: Nader<br>Nb Movies: 16",
          "Top female name: Mary<br>Top male name: John<br>Nb Movies: 92",
          "Top female name: Annie<br>Top male name: Brendy<br>Nb Movies: 2",
          "Top female name: Dikla<br>Top male name: James<br>Nb Movies: 15",
          "Top female name: Maria<br>Top male name: Il<br>Nb Movies: 364",
          "Top female name: None<br>Top male name: Aaron<br>Nb Movies: 1",
          "Top female name: Rachel<br>Top male name: Godzilla<br>Nb Movies: 450",
          "Top female name: Lee<br>Top male name: Lee<br>Nb Movies: 2",
          "Top female name: Randa<br>Top male name: Bruno<br>Nb Movies: 4",
          "Top female name: Grace<br>Top male name: Thomas<br>Nb Movies: 2",
          "Top female name: Bernadette<br>Top male name: Gothic<br>Nb Movies: 6",
          "Top female name: None<br>Top male name: Ali<br>Nb Movies: 1",
          "Top female name: Maria<br>Top male name: Ahmad<br>Nb Movies: 21",
          "Top female name: Grace<br>Top male name: None<br>Nb Movies: 1",
          "Top female name: Carmen<br>Top male name: Fernando<br>Nb Movies: 118",
          "Top female name: Börte<br>Top male name: Altan<br>Nb Movies: 1",
          "Top female name: Anjali<br>Top male name: Bhaire<br>Nb Movies: 4",
          "Top female name: Mevrouw<br>Top male name: Willem<br>Nb Movies: 146",
          "Top female name: Alice<br>Top male name: Doug<br>Nb Movies: 28",
          "Top female name: Wenche<br>Top male name: Mann<br>Nb Movies: 36",
          "Top female name: Pinki<br>Top male name: Aslam<br>Nb Movies: 23",
          "Top female name: Suha<br>Top male name: Barhoum<br>Nb Movies: 1",
          "Top female name: Anita<br>Top male name: Enrique<br>Nb Movies: 2",
          "Top female name: Sanchez<br>Top male name: Dennis<br>Nb Movies: 96",
          "Top female name: Hanka<br>Top male name: Andrzej<br>Nb Movies: 49",
          "Top female name: Freira<br>Top male name: João<br>Nb Movies: 16",
          "Top female name: America<br>Top male name: Beepers<br>Nb Movies: 5",
          "Top female name: Mimi<br>Top male name: Gzim<br>Nb Movies: 3",
          "Top female name: Eva<br>Top male name: Cristi<br>Nb Movies: 17",
          "Top female name: Olga<br>Top male name: Anton<br>Nb Movies: 158",
          "Top female name: Amasatou<br>Top male name: Abdou<br>Nb Movies: 2",
          "Top female name: Boginja<br>Top male name: Bosko<br>Nb Movies: 10",
          "Top female name: Biljarica<br>Top male name: Agim<br>Nb Movies: 1",
          "Top female name: Wendy<br>Top male name: Chan<br>Nb Movies: 25",
          "Top female name: Bertha<br>Top male name: Wachek<br>Nb Movies: 1",
          "Top female name: Anezka<br>Top male name: Jan<br>Nb Movies: 8",
          "Top female name: Ana<br>Top male name: Ivan<br>Nb Movies: 7",
          "Top female name: Elsa<br>Top male name: Abraham<br>Nb Movies: 47",
          "Top female name: Kim<br>Top male name: Kim<br>Nb Movies: 191",
          "Top female name: Chica<br>Top male name: Juan<br>Nb Movies: 195",
          "Top female name: Haminey<br>Top male name: Kumar<br>Nb Movies: 14",
          "Top female name: Marianne<br>Top male name: Anders<br>Nb Movies: 90",
          "Top female name: Liz<br>Top male name: Rekrut<br>Nb Movies: 39",
          "Top female name: Obing<br>Top male name: Crippled<br>Nb Movies: 13",
          "Top female name: Marisa<br>Top male name: Kham<br>Nb Movies: 35",
          "Top female name: Ayla<br>Top male name: Ali<br>Nb Movies: 39",
          "Top female name: Tatar<br>Top male name: Tatar<br>Nb Movies: 6",
          "Top female name: None<br>Top male name: Cossack<br>Nb Movies: 1",
          "Top female name: Oksana<br>Top male name: Boris<br>Nb Movies: 1",
          "Top female name: Amber<br>Top male name: Ahmed<br>Nb Movies: 5",
          "Top female name: Mary<br>Top male name: John<br>Nb Movies: 1,715",
          "Top female name: Sarah<br>Top male name: John<br>Nb Movies: 16,726",
          "Top female name: Ana<br>Top male name: Rodolfo<br>Nb Movies: 1",
          "Top female name: None<br>Top male name: Abdul<br>Nb Movies: 1",
          "Top female name: Angela<br>Top male name: Arcadio<br>Nb Movies: 4",
          "Top female name: Hanh<br>Top male name: Cuoi<br>Nb Movies: 2",
          "Top female name: Eva<br>Top male name: Ivan<br>Nb Movies: 35",
          "Top female name: None<br>Top male name: Dick<br>Nb Movies: 1",
          "Top female name: Ambuya<br>Top male name: Chigwanzi<br>Nb Movies: 1"
         ],
         "type": "choropleth",
         "z": [
          0.47712125471966244,
          0.3010299956639812,
          0,
          1.4913616938342726,
          2.4785664955938436,
          1.6901960800285136,
          0,
          0.9030899869919435,
          1.591064607026499,
          0.3010299956639812,
          0.3010299956639812,
          1.7403626894942439,
          1,
          0,
          0.7781512503836436,
          2.73559889969818,
          0.6989700043360189,
          1.863322860120456,
          0.9030899869919435,
          0,
          0.9542425094393249,
          0,
          1.3617278360175928,
          1.2304489213782739,
          1.8512583487190752,
          1.380211241711606,
          0.6020599913279624,
          1.6020599913279623,
          3.1492191126553797,
          0,
          2.113943352306837,
          1.4471580313422192,
          2.5352941200427703,
          1.6020599913279623,
          1,
          3.66029616027073,
          1.146128035678238,
          1.2041199826559248,
          1.9637878273455553,
          0.3010299956639812,
          1.1760912590556813,
          2.561101383649056,
          0,
          2.6532125137753435,
          0.3010299956639812,
          0.6020599913279624,
          0.3010299956639812,
          0.7781512503836436,
          0,
          1.3222192947339193,
          0,
          2.0718820073061255,
          0,
          0.6020599913279624,
          2.164352855784437,
          1.4471580313422192,
          1.5563025007672873,
          1.3617278360175928,
          0,
          0.3010299956639812,
          1.9822712330395684,
          1.6901960800285136,
          1.2041199826559248,
          0.6989700043360189,
          0.47712125471966244,
          1.2304489213782739,
          2.1986570869544226,
          0.3010299956639812,
          1,
          0,
          1.3979400086720377,
          0,
          0.9030899869919435,
          0.8450980400142568,
          1.6720978579357175,
          2.2810333672477277,
          2.290034611362518,
          1.146128035678238,
          1.954242509439325,
          1.591064607026499,
          1.1139433523068367,
          1.5440680443502757,
          1.591064607026499,
          0.7781512503836436,
          0,
          0,
          0.6989700043360189,
          3.2342641243787895,
          4.223392092448771,
          0,
          0,
          0.6020599913279624,
          0.3010299956639812,
          1.5440680443502757,
          0,
          0
         ]
        }
       ],
       "layout": {
        "geo": {
         "center": {
          "lat": 30
         },
         "countrycolor": "RebeccaPurple",
         "lakecolor": "aqua",
         "projection": {
          "scale": 1,
          "type": "mercator"
         },
         "showcountries": true,
         "visible": false
        },
        "height": 500,
        "margin": {
         "b": 0,
         "l": 0,
         "r": 0,
         "t": 5
        },
        "template": {
         "data": {
          "bar": [
           {
            "error_x": {
             "color": "#2a3f5f"
            },
            "error_y": {
             "color": "#2a3f5f"
            },
            "marker": {
             "line": {
              "color": "#E5ECF6",
              "width": 0.5
             },
             "pattern": {
              "fillmode": "overlay",
              "size": 10,
              "solidity": 0.2
             }
            },
            "type": "bar"
           }
          ],
          "barpolar": [
           {
            "marker": {
             "line": {
              "color": "#E5ECF6",
              "width": 0.5
             },
             "pattern": {
              "fillmode": "overlay",
              "size": 10,
              "solidity": 0.2
             }
            },
            "type": "barpolar"
           }
          ],
          "carpet": [
           {
            "aaxis": {
             "endlinecolor": "#2a3f5f",
             "gridcolor": "white",
             "linecolor": "white",
             "minorgridcolor": "white",
             "startlinecolor": "#2a3f5f"
            },
            "baxis": {
             "endlinecolor": "#2a3f5f",
             "gridcolor": "white",
             "linecolor": "white",
             "minorgridcolor": "white",
             "startlinecolor": "#2a3f5f"
            },
            "type": "carpet"
           }
          ],
          "choropleth": [
           {
            "colorbar": {
             "outlinewidth": 0,
             "ticks": ""
            },
            "type": "choropleth"
           }
          ],
          "contour": [
           {
            "colorbar": {
             "outlinewidth": 0,
             "ticks": ""
            },
            "colorscale": [
             [
              0,
              "#0d0887"
             ],
             [
              0.1111111111111111,
              "#46039f"
             ],
             [
              0.2222222222222222,
              "#7201a8"
             ],
             [
              0.3333333333333333,
              "#9c179e"
             ],
             [
              0.4444444444444444,
              "#bd3786"
             ],
             [
              0.5555555555555556,
              "#d8576b"
             ],
             [
              0.6666666666666666,
              "#ed7953"
             ],
             [
              0.7777777777777778,
              "#fb9f3a"
             ],
             [
              0.8888888888888888,
              "#fdca26"
             ],
             [
              1,
              "#f0f921"
             ]
            ],
            "type": "contour"
           }
          ],
          "contourcarpet": [
           {
            "colorbar": {
             "outlinewidth": 0,
             "ticks": ""
            },
            "type": "contourcarpet"
           }
          ],
          "heatmap": [
           {
            "colorbar": {
             "outlinewidth": 0,
             "ticks": ""
            },
            "colorscale": [
             [
              0,
              "#0d0887"
             ],
             [
              0.1111111111111111,
              "#46039f"
             ],
             [
              0.2222222222222222,
              "#7201a8"
             ],
             [
              0.3333333333333333,
              "#9c179e"
             ],
             [
              0.4444444444444444,
              "#bd3786"
             ],
             [
              0.5555555555555556,
              "#d8576b"
             ],
             [
              0.6666666666666666,
              "#ed7953"
             ],
             [
              0.7777777777777778,
              "#fb9f3a"
             ],
             [
              0.8888888888888888,
              "#fdca26"
             ],
             [
              1,
              "#f0f921"
             ]
            ],
            "type": "heatmap"
           }
          ],
          "heatmapgl": [
           {
            "colorbar": {
             "outlinewidth": 0,
             "ticks": ""
            },
            "colorscale": [
             [
              0,
              "#0d0887"
             ],
             [
              0.1111111111111111,
              "#46039f"
             ],
             [
              0.2222222222222222,
              "#7201a8"
             ],
             [
              0.3333333333333333,
              "#9c179e"
             ],
             [
              0.4444444444444444,
              "#bd3786"
             ],
             [
              0.5555555555555556,
              "#d8576b"
             ],
             [
              0.6666666666666666,
              "#ed7953"
             ],
             [
              0.7777777777777778,
              "#fb9f3a"
             ],
             [
              0.8888888888888888,
              "#fdca26"
             ],
             [
              1,
              "#f0f921"
             ]
            ],
            "type": "heatmapgl"
           }
          ],
          "histogram": [
           {
            "marker": {
             "pattern": {
              "fillmode": "overlay",
              "size": 10,
              "solidity": 0.2
             }
            },
            "type": "histogram"
           }
          ],
          "histogram2d": [
           {
            "colorbar": {
             "outlinewidth": 0,
             "ticks": ""
            },
            "colorscale": [
             [
              0,
              "#0d0887"
             ],
             [
              0.1111111111111111,
              "#46039f"
             ],
             [
              0.2222222222222222,
              "#7201a8"
             ],
             [
              0.3333333333333333,
              "#9c179e"
             ],
             [
              0.4444444444444444,
              "#bd3786"
             ],
             [
              0.5555555555555556,
              "#d8576b"
             ],
             [
              0.6666666666666666,
              "#ed7953"
             ],
             [
              0.7777777777777778,
              "#fb9f3a"
             ],
             [
              0.8888888888888888,
              "#fdca26"
             ],
             [
              1,
              "#f0f921"
             ]
            ],
            "type": "histogram2d"
           }
          ],
          "histogram2dcontour": [
           {
            "colorbar": {
             "outlinewidth": 0,
             "ticks": ""
            },
            "colorscale": [
             [
              0,
              "#0d0887"
             ],
             [
              0.1111111111111111,
              "#46039f"
             ],
             [
              0.2222222222222222,
              "#7201a8"
             ],
             [
              0.3333333333333333,
              "#9c179e"
             ],
             [
              0.4444444444444444,
              "#bd3786"
             ],
             [
              0.5555555555555556,
              "#d8576b"
             ],
             [
              0.6666666666666666,
              "#ed7953"
             ],
             [
              0.7777777777777778,
              "#fb9f3a"
             ],
             [
              0.8888888888888888,
              "#fdca26"
             ],
             [
              1,
              "#f0f921"
             ]
            ],
            "type": "histogram2dcontour"
           }
          ],
          "mesh3d": [
           {
            "colorbar": {
             "outlinewidth": 0,
             "ticks": ""
            },
            "type": "mesh3d"
           }
          ],
          "parcoords": [
           {
            "line": {
             "colorbar": {
              "outlinewidth": 0,
              "ticks": ""
             }
            },
            "type": "parcoords"
           }
          ],
          "pie": [
           {
            "automargin": true,
            "type": "pie"
           }
          ],
          "scatter": [
           {
            "fillpattern": {
             "fillmode": "overlay",
             "size": 10,
             "solidity": 0.2
            },
            "type": "scatter"
           }
          ],
          "scatter3d": [
           {
            "line": {
             "colorbar": {
              "outlinewidth": 0,
              "ticks": ""
             }
            },
            "marker": {
             "colorbar": {
              "outlinewidth": 0,
              "ticks": ""
             }
            },
            "type": "scatter3d"
           }
          ],
          "scattercarpet": [
           {
            "marker": {
             "colorbar": {
              "outlinewidth": 0,
              "ticks": ""
             }
            },
            "type": "scattercarpet"
           }
          ],
          "scattergeo": [
           {
            "marker": {
             "colorbar": {
              "outlinewidth": 0,
              "ticks": ""
             }
            },
            "type": "scattergeo"
           }
          ],
          "scattergl": [
           {
            "marker": {
             "colorbar": {
              "outlinewidth": 0,
              "ticks": ""
             }
            },
            "type": "scattergl"
           }
          ],
          "scattermapbox": [
           {
            "marker": {
             "colorbar": {
              "outlinewidth": 0,
              "ticks": ""
             }
            },
            "type": "scattermapbox"
           }
          ],
          "scatterpolar": [
           {
            "marker": {
             "colorbar": {
              "outlinewidth": 0,
              "ticks": ""
             }
            },
            "type": "scatterpolar"
           }
          ],
          "scatterpolargl": [
           {
            "marker": {
             "colorbar": {
              "outlinewidth": 0,
              "ticks": ""
             }
            },
            "type": "scatterpolargl"
           }
          ],
          "scatterternary": [
           {
            "marker": {
             "colorbar": {
              "outlinewidth": 0,
              "ticks": ""
             }
            },
            "type": "scatterternary"
           }
          ],
          "surface": [
           {
            "colorbar": {
             "outlinewidth": 0,
             "ticks": ""
            },
            "colorscale": [
             [
              0,
              "#0d0887"
             ],
             [
              0.1111111111111111,
              "#46039f"
             ],
             [
              0.2222222222222222,
              "#7201a8"
             ],
             [
              0.3333333333333333,
              "#9c179e"
             ],
             [
              0.4444444444444444,
              "#bd3786"
             ],
             [
              0.5555555555555556,
              "#d8576b"
             ],
             [
              0.6666666666666666,
              "#ed7953"
             ],
             [
              0.7777777777777778,
              "#fb9f3a"
             ],
             [
              0.8888888888888888,
              "#fdca26"
             ],
             [
              1,
              "#f0f921"
             ]
            ],
            "type": "surface"
           }
          ],
          "table": [
           {
            "cells": {
             "fill": {
              "color": "#EBF0F8"
             },
             "line": {
              "color": "white"
             }
            },
            "header": {
             "fill": {
              "color": "#C8D4E3"
             },
             "line": {
              "color": "white"
             }
            },
            "type": "table"
           }
          ]
         },
         "layout": {
          "annotationdefaults": {
           "arrowcolor": "#2a3f5f",
           "arrowhead": 0,
           "arrowwidth": 1
          },
          "autotypenumbers": "strict",
          "coloraxis": {
           "colorbar": {
            "outlinewidth": 0,
            "ticks": ""
           }
          },
          "colorscale": {
           "diverging": [
            [
             0,
             "#8e0152"
            ],
            [
             0.1,
             "#c51b7d"
            ],
            [
             0.2,
             "#de77ae"
            ],
            [
             0.3,
             "#f1b6da"
            ],
            [
             0.4,
             "#fde0ef"
            ],
            [
             0.5,
             "#f7f7f7"
            ],
            [
             0.6,
             "#e6f5d0"
            ],
            [
             0.7,
             "#b8e186"
            ],
            [
             0.8,
             "#7fbc41"
            ],
            [
             0.9,
             "#4d9221"
            ],
            [
             1,
             "#276419"
            ]
           ],
           "sequential": [
            [
             0,
             "#0d0887"
            ],
            [
             0.1111111111111111,
             "#46039f"
            ],
            [
             0.2222222222222222,
             "#7201a8"
            ],
            [
             0.3333333333333333,
             "#9c179e"
            ],
            [
             0.4444444444444444,
             "#bd3786"
            ],
            [
             0.5555555555555556,
             "#d8576b"
            ],
            [
             0.6666666666666666,
             "#ed7953"
            ],
            [
             0.7777777777777778,
             "#fb9f3a"
            ],
            [
             0.8888888888888888,
             "#fdca26"
            ],
            [
             1,
             "#f0f921"
            ]
           ],
           "sequentialminus": [
            [
             0,
             "#0d0887"
            ],
            [
             0.1111111111111111,
             "#46039f"
            ],
            [
             0.2222222222222222,
             "#7201a8"
            ],
            [
             0.3333333333333333,
             "#9c179e"
            ],
            [
             0.4444444444444444,
             "#bd3786"
            ],
            [
             0.5555555555555556,
             "#d8576b"
            ],
            [
             0.6666666666666666,
             "#ed7953"
            ],
            [
             0.7777777777777778,
             "#fb9f3a"
            ],
            [
             0.8888888888888888,
             "#fdca26"
            ],
            [
             1,
             "#f0f921"
            ]
           ]
          },
          "colorway": [
           "#636efa",
           "#EF553B",
           "#00cc96",
           "#ab63fa",
           "#FFA15A",
           "#19d3f3",
           "#FF6692",
           "#B6E880",
           "#FF97FF",
           "#FECB52"
          ],
          "font": {
           "color": "#2a3f5f"
          },
          "geo": {
           "bgcolor": "white",
           "lakecolor": "white",
           "landcolor": "#E5ECF6",
           "showlakes": true,
           "showland": true,
           "subunitcolor": "white"
          },
          "hoverlabel": {
           "align": "left"
          },
          "hovermode": "closest",
          "mapbox": {
           "style": "light"
          },
          "paper_bgcolor": "white",
          "plot_bgcolor": "#E5ECF6",
          "polar": {
           "angularaxis": {
            "gridcolor": "white",
            "linecolor": "white",
            "ticks": ""
           },
           "bgcolor": "#E5ECF6",
           "radialaxis": {
            "gridcolor": "white",
            "linecolor": "white",
            "ticks": ""
           }
          },
          "scene": {
           "xaxis": {
            "backgroundcolor": "#E5ECF6",
            "gridcolor": "white",
            "gridwidth": 2,
            "linecolor": "white",
            "showbackground": true,
            "ticks": "",
            "zerolinecolor": "white"
           },
           "yaxis": {
            "backgroundcolor": "#E5ECF6",
            "gridcolor": "white",
            "gridwidth": 2,
            "linecolor": "white",
            "showbackground": true,
            "ticks": "",
            "zerolinecolor": "white"
           },
           "zaxis": {
            "backgroundcolor": "#E5ECF6",
            "gridcolor": "white",
            "gridwidth": 2,
            "linecolor": "white",
            "showbackground": true,
            "ticks": "",
            "zerolinecolor": "white"
           }
          },
          "shapedefaults": {
           "line": {
            "color": "#2a3f5f"
           }
          },
          "ternary": {
           "aaxis": {
            "gridcolor": "white",
            "linecolor": "white",
            "ticks": ""
           },
           "baxis": {
            "gridcolor": "white",
            "linecolor": "white",
            "ticks": ""
           },
           "bgcolor": "#E5ECF6",
           "caxis": {
            "gridcolor": "white",
            "linecolor": "white",
            "ticks": ""
           }
          },
          "title": {
           "x": 0.05
          },
          "xaxis": {
           "automargin": true,
           "gridcolor": "white",
           "linecolor": "white",
           "ticks": "",
           "title": {
            "standoff": 15
           },
           "zerolinecolor": "white",
           "zerolinewidth": 2
          },
          "yaxis": {
           "automargin": true,
           "gridcolor": "white",
           "linecolor": "white",
           "ticks": "",
           "title": {
            "standoff": 15
           },
           "zerolinecolor": "white",
           "zerolinewidth": 2
          }
         }
        },
        "title": {
         "text": "Most Common Male and Female Character Names by Country",
         "x": 0.4,
         "y": 0.9
        }
       }
      }
     },
     "metadata": {},
     "output_type": "display_data"
    }
   ],
   "source": [
    "fig = go.Figure(go.Scattergeo(\n",
    "))\n",
    "fig.add_trace(go.Choropleth(\n",
    "    locations= df_top_names['primary_country'],\n",
    "    locationmode='country names',\n",
    "    showscale= True,\n",
    "    colorscale='YlOrRd',\n",
    "    z=np.log10(df_top_names['Number_of_movies']),\n",
    "    colorbar=dict(title=\"Number of movies (Log Scale)\", tickvals=np.arange(0, 5), ticktext=[f\"10^{i}\" for i in range(0, 5)]),\n",
    "    text= [f\"Top female name: {female}<br>Top male name: {male}<br>Nb Movies: {movies:,}\" \n",
    "           for female, male, movies in zip(df_top_names['Female_name'], df_top_names['Male_name'], df_top_names['Number_of_movies'])],\n",
    "    hovertemplate=\"%{location}<br>%{text}\"\n",
    "))\n",
    "fig.update_geos(\n",
    "    projection_scale=1,center={'lat': 30},\n",
    "    visible=False,\n",
    "    showcountries=True, countrycolor=\"RebeccaPurple\"\n",
    ")\n",
    "fig.update_layout(\n",
    "    geo=dict(\n",
    "        projection_type=\"mercator\",\n",
    "        lakecolor=\"aqua\"\n",
    "    ),\n",
    "    height=500,\n",
    "    margin={\"r\":0,\"t\":5,\"l\":0,\"b\":0},\n",
    "    title_text=\"Most Common Male and Female Character Names by Country\",\n",
    "    title_x=0.4,\n",
    "    title_y=0.90\n",
    ")\n",
    "fig.show()"
   ]
  },
  {
   "cell_type": "markdown",
   "metadata": {},
   "source": [
    "### 2.3.c Statistical analysis (Geography)"
   ]
  },
  {
   "cell_type": "markdown",
   "metadata": {},
   "source": [
    "We are going to run a chi2 test in order to verify that there is noticeable correlation between geography and characters' names"
   ]
  },
  {
   "cell_type": "code",
   "execution_count": 59,
   "metadata": {},
   "outputs": [
    {
     "name": "stdout",
     "output_type": "stream",
     "text": [
      "Chi-Square Statistic: 7840572.4510334\n",
      "p-value: 0.0\n"
     ]
    }
   ],
   "source": [
    "# Chi2 test\n",
    "contingency_table = create_contingency_table(df_char_cleaned,'Character_name','primary_country')\n",
    "chi2, p_value, dof, expected = stats.chi2_contingency(contingency_table)\n",
    "\n",
    "print(f\"Chi-Square Statistic: {chi2}\")\n",
    "print(f\"p-value: {p_value}\")"
   ]
  },
  {
   "cell_type": "markdown",
   "metadata": {},
   "source": [
    "Looking the results above, we see that we have a p-value equal to 0, meaning that there is a statistically significant association between the country of movie production and the character names in the movie. We will now investigate the strength of this association using Cramér's V."
   ]
  },
  {
   "cell_type": "code",
   "execution_count": 60,
   "metadata": {},
   "outputs": [
    {
     "name": "stdout",
     "output_type": "stream",
     "text": [
      "Cramér's V: 0.6903495978065164\n"
     ]
    }
   ],
   "source": [
    "n = contingency_table.sum().sum()\n",
    "k = min(contingency_table.shape)\n",
    "cramers_v = np.sqrt(chi2 / (n * (k - 1)))\n",
    "\n",
    "print(f\"Cramér's V: {cramers_v}\")"
   ]
  },
  {
   "cell_type": "markdown",
   "metadata": {},
   "source": [
    "The Cramér's V is superior to 0.5 meaning that there is a strong association between the country of production of the movie and the name of the characters in the movies."
   ]
  },
  {
   "cell_type": "code",
   "execution_count": 78,
   "metadata": {},
   "outputs": [
    {
     "data": {
      "text/plain": [
       "'FL'"
      ]
     },
     "execution_count": 78,
     "metadata": {},
     "output_type": "execute_result"
    }
   ],
   "source": [
    "from metaphone import doublemetaphone\n",
    "\n",
    "doublemetaphone(\"vowel\")[0]\n"
   ]
  },
  {
   "cell_type": "code",
   "execution_count": 66,
   "metadata": {},
   "outputs": [
    {
     "data": {
      "text/html": [
       "<div>\n",
       "<style scoped>\n",
       "    .dataframe tbody tr th:only-of-type {\n",
       "        vertical-align: middle;\n",
       "    }\n",
       "\n",
       "    .dataframe tbody tr th {\n",
       "        vertical-align: top;\n",
       "    }\n",
       "\n",
       "    .dataframe thead th {\n",
       "        text-align: right;\n",
       "    }\n",
       "</style>\n",
       "<table border=\"1\" class=\"dataframe\">\n",
       "  <thead>\n",
       "    <tr style=\"text-align: right;\">\n",
       "      <th></th>\n",
       "      <th>Wikipedia_ID</th>\n",
       "      <th>Name</th>\n",
       "      <th>Languages</th>\n",
       "      <th>Country</th>\n",
       "      <th>Genres</th>\n",
       "      <th>Character_name</th>\n",
       "      <th>Sex</th>\n",
       "      <th>Actor_age</th>\n",
       "      <th>Release_date</th>\n",
       "      <th>Phonetic</th>\n",
       "    </tr>\n",
       "  </thead>\n",
       "  <tbody>\n",
       "    <tr>\n",
       "      <th>0</th>\n",
       "      <td>975900</td>\n",
       "      <td>Ghosts of Mars</td>\n",
       "      <td>{\"/m/02h40lc\": \"English Language\"}</td>\n",
       "      <td>{\"/m/09c7w0\": \"United States of America\"}</td>\n",
       "      <td>{\"/m/01jfsb\": \"Thriller\", \"/m/06n90\": \"Science...</td>\n",
       "      <td>Akooshay</td>\n",
       "      <td>F</td>\n",
       "      <td>42.0</td>\n",
       "      <td>2001-08-24</td>\n",
       "      <td>AKX</td>\n",
       "    </tr>\n",
       "    <tr>\n",
       "      <th>1</th>\n",
       "      <td>975900</td>\n",
       "      <td>Ghosts of Mars</td>\n",
       "      <td>{\"/m/02h40lc\": \"English Language\"}</td>\n",
       "      <td>{\"/m/09c7w0\": \"United States of America\"}</td>\n",
       "      <td>{\"/m/01jfsb\": \"Thriller\", \"/m/06n90\": \"Science...</td>\n",
       "      <td>Melanie</td>\n",
       "      <td>F</td>\n",
       "      <td>27.0</td>\n",
       "      <td>2001-08-24</td>\n",
       "      <td>MLN</td>\n",
       "    </tr>\n",
       "    <tr>\n",
       "      <th>2</th>\n",
       "      <td>975900</td>\n",
       "      <td>Ghosts of Mars</td>\n",
       "      <td>{\"/m/02h40lc\": \"English Language\"}</td>\n",
       "      <td>{\"/m/09c7w0\": \"United States of America\"}</td>\n",
       "      <td>{\"/m/01jfsb\": \"Thriller\", \"/m/06n90\": \"Science...</td>\n",
       "      <td>Williams</td>\n",
       "      <td>M</td>\n",
       "      <td>32.0</td>\n",
       "      <td>2001-08-24</td>\n",
       "      <td>ALMS</td>\n",
       "    </tr>\n",
       "    <tr>\n",
       "      <th>3</th>\n",
       "      <td>975900</td>\n",
       "      <td>Ghosts of Mars</td>\n",
       "      <td>{\"/m/02h40lc\": \"English Language\"}</td>\n",
       "      <td>{\"/m/09c7w0\": \"United States of America\"}</td>\n",
       "      <td>{\"/m/01jfsb\": \"Thriller\", \"/m/06n90\": \"Science...</td>\n",
       "      <td>Jericho</td>\n",
       "      <td>M</td>\n",
       "      <td>33.0</td>\n",
       "      <td>2001-08-24</td>\n",
       "      <td>JRX</td>\n",
       "    </tr>\n",
       "    <tr>\n",
       "      <th>4</th>\n",
       "      <td>975900</td>\n",
       "      <td>Ghosts of Mars</td>\n",
       "      <td>{\"/m/02h40lc\": \"English Language\"}</td>\n",
       "      <td>{\"/m/09c7w0\": \"United States of America\"}</td>\n",
       "      <td>{\"/m/01jfsb\": \"Thriller\", \"/m/06n90\": \"Science...</td>\n",
       "      <td>Bashira</td>\n",
       "      <td>F</td>\n",
       "      <td>23.0</td>\n",
       "      <td>2001-08-24</td>\n",
       "      <td>PXR</td>\n",
       "    </tr>\n",
       "  </tbody>\n",
       "</table>\n",
       "</div>"
      ],
      "text/plain": [
       "   Wikipedia_ID            Name                           Languages  \\\n",
       "0        975900  Ghosts of Mars  {\"/m/02h40lc\": \"English Language\"}   \n",
       "1        975900  Ghosts of Mars  {\"/m/02h40lc\": \"English Language\"}   \n",
       "2        975900  Ghosts of Mars  {\"/m/02h40lc\": \"English Language\"}   \n",
       "3        975900  Ghosts of Mars  {\"/m/02h40lc\": \"English Language\"}   \n",
       "4        975900  Ghosts of Mars  {\"/m/02h40lc\": \"English Language\"}   \n",
       "\n",
       "                                     Country  \\\n",
       "0  {\"/m/09c7w0\": \"United States of America\"}   \n",
       "1  {\"/m/09c7w0\": \"United States of America\"}   \n",
       "2  {\"/m/09c7w0\": \"United States of America\"}   \n",
       "3  {\"/m/09c7w0\": \"United States of America\"}   \n",
       "4  {\"/m/09c7w0\": \"United States of America\"}   \n",
       "\n",
       "                                              Genres Character_name Sex  \\\n",
       "0  {\"/m/01jfsb\": \"Thriller\", \"/m/06n90\": \"Science...       Akooshay   F   \n",
       "1  {\"/m/01jfsb\": \"Thriller\", \"/m/06n90\": \"Science...        Melanie   F   \n",
       "2  {\"/m/01jfsb\": \"Thriller\", \"/m/06n90\": \"Science...       Williams   M   \n",
       "3  {\"/m/01jfsb\": \"Thriller\", \"/m/06n90\": \"Science...        Jericho   M   \n",
       "4  {\"/m/01jfsb\": \"Thriller\", \"/m/06n90\": \"Science...        Bashira   F   \n",
       "\n",
       "   Actor_age Release_date Phonetic  \n",
       "0       42.0   2001-08-24      AKX  \n",
       "1       27.0   2001-08-24      MLN  \n",
       "2       32.0   2001-08-24     ALMS  \n",
       "3       33.0   2001-08-24      JRX  \n",
       "4       23.0   2001-08-24      PXR  "
      ]
     },
     "execution_count": 66,
     "metadata": {},
     "output_type": "execute_result"
    }
   ],
   "source": [
    "df_char_cleaned[\"Phonetic\"] = df_char_cleaned[\"Character_name\"].apply(lambda x: doublemetaphone(x)[0])\n",
    "df_char_cleaned.head()"
   ]
  },
  {
   "cell_type": "code",
   "execution_count": 128,
   "metadata": {},
   "outputs": [
    {
     "data": {
      "text/plain": [
       "\"\\npercentages_df = (\\n        results_df\\n        .groupby(['Sex', 'Consonant_Group'])\\n        .size()\\n        .reset_index(name='Count') \\n        .assign(\\n            Percentage=lambda x: 100 * x['Count'] / x.groupby('Sex')['Count'].transform('sum')\\n        )\\n    )\\n\""
      ]
     },
     "execution_count": 128,
     "metadata": {},
     "output_type": "execute_result"
    }
   ],
   "source": [
    "# We will divide consonants by their manner of articulation\n",
    "plosive = ['P','T','B','K']\n",
    "fricative = ['F','X','0','S','H']\n",
    "affricate = ['J']\n",
    "nasal =['M','N']\n",
    "liquid = ['L','R']\n",
    "glide = ['W','Y']\n",
    "\n",
    "consonant_groups = [plosive,fricative,affricate,nasal,liquid,glide]\n",
    "\n",
    "\n",
    "manner_groups = ['plosive','fricative','affricate','nasal','liquid','glide']\n",
    "results = []\n",
    "\n",
    "tot_nb_names = df_char_cleaned['Sex'].value_counts()\n",
    "\n",
    "# Iterate through each group of consonants\n",
    "for i, consonants in enumerate(consonant_groups):\n",
    "    # Iterate through each row in the dataframe\n",
    "    for _, row in df_char_cleaned.iterrows():\n",
    "        # Check if any of the consonants in the group are in the phonetics of the name\n",
    "        if any(consonant in row['Phonetic'] for consonant in consonants):\n",
    "            results.append({\n",
    "                'Sex': row['Sex'],\n",
    "                'Consonant_Group': manner_groups[i]\n",
    "            })\n",
    "\n",
    "# Convert results to a DataFrame\n",
    "results_df = pd.DataFrame(results)\n",
    "results_df.head()\n",
    "'''\n",
    "percentages_df = (\n",
    "        results_df\n",
    "        .groupby(['Sex', 'Consonant_Group'])\n",
    "        .size()\n",
    "        .reset_index(name='Count') \n",
    "        .assign(\n",
    "            Percentage=lambda x: 100 * x['Count'] / x.groupby('Sex')['Count'].transform('sum')\n",
    "        )\n",
    "    )\n",
    "'''\n",
    "\n"
   ]
  },
  {
   "cell_type": "code",
   "execution_count": 129,
   "metadata": {},
   "outputs": [],
   "source": [
    "results_df = results_df.groupby(['Consonant_Group','Sex'])['Sex'].size().reset_index(name='Count')"
   ]
  },
  {
   "cell_type": "code",
   "execution_count": 130,
   "metadata": {},
   "outputs": [
    {
     "name": "stdout",
     "output_type": "stream",
     "text": [
      "98027\n"
     ]
    },
    {
     "name": "stderr",
     "output_type": "stream",
     "text": [
      "/var/folders/5n/10j2bk_d6_5d_78gychkbs6m0000gn/T/ipykernel_77060/2111176480.py:1: FutureWarning:\n",
      "\n",
      "Series.__getitem__ treating keys as positions is deprecated. In a future version, integer keys will always be treated as labels (consistent with DataFrame behavior). To access a value by position, use `ser.iloc[pos]`\n",
      "\n",
      "/var/folders/5n/10j2bk_d6_5d_78gychkbs6m0000gn/T/ipykernel_77060/2111176480.py:3: FutureWarning:\n",
      "\n",
      "Series.__getitem__ treating keys as positions is deprecated. In a future version, integer keys will always be treated as labels (consistent with DataFrame behavior). To access a value by position, use `ser.iloc[pos]`\n",
      "\n"
     ]
    },
    {
     "data": {
      "text/html": [
       "<div>\n",
       "<style scoped>\n",
       "    .dataframe tbody tr th:only-of-type {\n",
       "        vertical-align: middle;\n",
       "    }\n",
       "\n",
       "    .dataframe tbody tr th {\n",
       "        vertical-align: top;\n",
       "    }\n",
       "\n",
       "    .dataframe thead th {\n",
       "        text-align: right;\n",
       "    }\n",
       "</style>\n",
       "<table border=\"1\" class=\"dataframe\">\n",
       "  <thead>\n",
       "    <tr style=\"text-align: right;\">\n",
       "      <th></th>\n",
       "      <th>Consonant_Group</th>\n",
       "      <th>Sex</th>\n",
       "      <th>Count</th>\n",
       "      <th>Percent</th>\n",
       "    </tr>\n",
       "  </thead>\n",
       "  <tbody>\n",
       "    <tr>\n",
       "      <th>0</th>\n",
       "      <td>affricate</td>\n",
       "      <td>F</td>\n",
       "      <td>5840</td>\n",
       "      <td>0.102779</td>\n",
       "    </tr>\n",
       "    <tr>\n",
       "      <th>1</th>\n",
       "      <td>affricate</td>\n",
       "      <td>M</td>\n",
       "      <td>12283</td>\n",
       "      <td>0.125302</td>\n",
       "    </tr>\n",
       "    <tr>\n",
       "      <th>2</th>\n",
       "      <td>fricative</td>\n",
       "      <td>F</td>\n",
       "      <td>27343</td>\n",
       "      <td>0.481213</td>\n",
       "    </tr>\n",
       "    <tr>\n",
       "      <th>3</th>\n",
       "      <td>fricative</td>\n",
       "      <td>M</td>\n",
       "      <td>50396</td>\n",
       "      <td>0.514103</td>\n",
       "    </tr>\n",
       "    <tr>\n",
       "      <th>4</th>\n",
       "      <td>liquid</td>\n",
       "      <td>F</td>\n",
       "      <td>35296</td>\n",
       "      <td>0.621179</td>\n",
       "    </tr>\n",
       "  </tbody>\n",
       "</table>\n",
       "</div>"
      ],
      "text/plain": [
       "  Consonant_Group Sex  Count   Percent\n",
       "0       affricate   F   5840  0.102779\n",
       "1       affricate   M  12283  0.125302\n",
       "2       fricative   F  27343  0.481213\n",
       "3       fricative   M  50396  0.514103\n",
       "4          liquid   F  35296  0.621179"
      ]
     },
     "execution_count": 130,
     "metadata": {},
     "output_type": "execute_result"
    }
   ],
   "source": [
    "\n",
    "\n",
    "print(tot_nb_names[0])\n",
    "results_df['Percent']=results_df.apply(\n",
    "    lambda row: row['Count'] / tot_nb_names[0] if row['Sex'] == 'M' else row['Count'] / tot_nb_names[1],\n",
    "    axis=1\n",
    ")\n",
    "results_df.head()\n"
   ]
  },
  {
   "cell_type": "code",
   "execution_count": 132,
   "metadata": {},
   "outputs": [
    {
     "data": {
      "image/png": "[encoded data removed]",
      "text/plain": [
       "<Figure size 1000x600 with 1 Axes>"
      ]
     },
     "metadata": {},
     "output_type": "display_data"
    }
   ],
   "source": [
    "# Create the barplot\n",
    "plt.figure(figsize=(10, 6))\n",
    "sns.barplot(\n",
    "    data=results_df,\n",
    "    x='Consonant_Group',\n",
    "    y='Percent',\n",
    "    hue='Sex',\n",
    "    palette='viridis',\n",
    "    order=[f'{manner}' for manner in manner_groups]\n",
    ")\n",
    "\n",
    "# Customize the plot\n",
    "plt.title('Distribution of Phonetic Names by Consonant Groups and Sex')\n",
    "plt.xlabel('Consonant Groups')\n",
    "plt.ylabel('Percentage')\n",
    "plt.legend(title='Sex')\n",
    "plt.tight_layout()\n",
    "plt.show()\n"
   ]
  },
  {
   "cell_type": "markdown",
   "metadata": {},
   "source": [
    "# 3 Sentimental Analysis"
   ]
  },
  {
   "cell_type": "markdown",
   "metadata": {},
   "source": [
    "This section marks the beginning of the sentiment analysis, focusing particularly on the preprocessing of the movies synopsies dataset. For each character in every movie, the goal was to identify the sentences involving them directly in the summaries using natural language processing (NLP).\n",
    "\n",
    "To run this part, you will need to download the “corenlp_plot_summaries” locally, as we couldn't import it in the repository. You can find the result of our prepropccessing as \"sentences_by_characters.csv\" in the \"data\" folder. \n",
    "\n",
    "**P3 :**  Find a solution to import the \"corenlp_plot_summaries\" file directly on the github repository."
   ]
  },
  {
   "cell_type": "code",
   "execution_count": 62,
   "metadata": {},
   "outputs": [
    {
     "ename": "FileNotFoundError",
     "evalue": "[Errno 2] No such file or directory: 'MovieSummaries/plot_summaries.txt'",
     "output_type": "error",
     "traceback": [
      "\u001b[0;31m---------------------------------------------------------------------------\u001b[0m",
      "\u001b[0;31mFileNotFoundError\u001b[0m                         Traceback (most recent call last)",
      "Cell \u001b[0;32mIn[62], line 3\u001b[0m\n\u001b[1;32m      1\u001b[0m df_char_cleaned \u001b[38;5;241m=\u001b[39m pd\u001b[38;5;241m.\u001b[39mread_csv(\u001b[38;5;124m'\u001b[39m\u001b[38;5;124mdata/cleaned.csv\u001b[39m\u001b[38;5;124m'\u001b[39m, sep\u001b[38;5;241m=\u001b[39m\u001b[38;5;124m'\u001b[39m\u001b[38;5;124m,\u001b[39m\u001b[38;5;124m'\u001b[39m, header\u001b[38;5;241m=\u001b[39m\u001b[38;5;241m0\u001b[39m)\n\u001b[0;32m----> 3\u001b[0m plot_summaries \u001b[38;5;241m=\u001b[39m \u001b[43mpd\u001b[49m\u001b[38;5;241;43m.\u001b[39;49m\u001b[43mread_csv\u001b[49m\u001b[43m(\u001b[49m\u001b[38;5;124;43m'\u001b[39;49m\u001b[38;5;124;43mMovieSummaries/plot_summaries.txt\u001b[39;49m\u001b[38;5;124;43m'\u001b[39;49m\u001b[43m,\u001b[49m\u001b[43m \u001b[49m\u001b[43msep\u001b[49m\u001b[38;5;241;43m=\u001b[39;49m\u001b[38;5;124;43m'\u001b[39;49m\u001b[38;5;130;43;01m\\t\u001b[39;49;00m\u001b[38;5;124;43m'\u001b[39;49m\u001b[43m,\u001b[49m\u001b[43m \u001b[49m\u001b[43mnames\u001b[49m\u001b[38;5;241;43m=\u001b[39;49m\u001b[43m[\u001b[49m\u001b[38;5;124;43m'\u001b[39;49m\u001b[38;5;124;43mWikipedia_ID\u001b[39;49m\u001b[38;5;124;43m'\u001b[39;49m\u001b[43m,\u001b[49m\u001b[43m \u001b[49m\u001b[38;5;124;43m'\u001b[39;49m\u001b[38;5;124;43mSynopses\u001b[39;49m\u001b[38;5;124;43m'\u001b[39;49m\u001b[43m]\u001b[49m\u001b[43m)\u001b[49m\n\u001b[1;32m      5\u001b[0m character_names_by_film \u001b[38;5;241m=\u001b[39m df_char_cleaned\u001b[38;5;241m.\u001b[39mgroupby(\u001b[38;5;124m\"\u001b[39m\u001b[38;5;124mWikipedia_ID\u001b[39m\u001b[38;5;124m\"\u001b[39m)[\u001b[38;5;124m\"\u001b[39m\u001b[38;5;124mCharacter_name\u001b[39m\u001b[38;5;124m\"\u001b[39m]\u001b[38;5;241m.\u001b[39munique()\u001b[38;5;241m.\u001b[39mreset_index()\n",
      "File \u001b[0;32m~/anaconda3/envs/ada/lib/python3.13/site-packages/pandas/io/parsers/readers.py:1026\u001b[0m, in \u001b[0;36mread_csv\u001b[0;34m(filepath_or_buffer, sep, delimiter, header, names, index_col, usecols, dtype, engine, converters, true_values, false_values, skipinitialspace, skiprows, skipfooter, nrows, na_values, keep_default_na, na_filter, verbose, skip_blank_lines, parse_dates, infer_datetime_format, keep_date_col, date_parser, date_format, dayfirst, cache_dates, iterator, chunksize, compression, thousands, decimal, lineterminator, quotechar, quoting, doublequote, escapechar, comment, encoding, encoding_errors, dialect, on_bad_lines, delim_whitespace, low_memory, memory_map, float_precision, storage_options, dtype_backend)\u001b[0m\n\u001b[1;32m   1013\u001b[0m kwds_defaults \u001b[38;5;241m=\u001b[39m _refine_defaults_read(\n\u001b[1;32m   1014\u001b[0m     dialect,\n\u001b[1;32m   1015\u001b[0m     delimiter,\n\u001b[0;32m   (...)\u001b[0m\n\u001b[1;32m   1022\u001b[0m     dtype_backend\u001b[38;5;241m=\u001b[39mdtype_backend,\n\u001b[1;32m   1023\u001b[0m )\n\u001b[1;32m   1024\u001b[0m kwds\u001b[38;5;241m.\u001b[39mupdate(kwds_defaults)\n\u001b[0;32m-> 1026\u001b[0m \u001b[38;5;28;01mreturn\u001b[39;00m \u001b[43m_read\u001b[49m\u001b[43m(\u001b[49m\u001b[43mfilepath_or_buffer\u001b[49m\u001b[43m,\u001b[49m\u001b[43m \u001b[49m\u001b[43mkwds\u001b[49m\u001b[43m)\u001b[49m\n",
      "File \u001b[0;32m~/anaconda3/envs/ada/lib/python3.13/site-packages/pandas/io/parsers/readers.py:620\u001b[0m, in \u001b[0;36m_read\u001b[0;34m(filepath_or_buffer, kwds)\u001b[0m\n\u001b[1;32m    617\u001b[0m _validate_names(kwds\u001b[38;5;241m.\u001b[39mget(\u001b[38;5;124m\"\u001b[39m\u001b[38;5;124mnames\u001b[39m\u001b[38;5;124m\"\u001b[39m, \u001b[38;5;28;01mNone\u001b[39;00m))\n\u001b[1;32m    619\u001b[0m \u001b[38;5;66;03m# Create the parser.\u001b[39;00m\n\u001b[0;32m--> 620\u001b[0m parser \u001b[38;5;241m=\u001b[39m \u001b[43mTextFileReader\u001b[49m\u001b[43m(\u001b[49m\u001b[43mfilepath_or_buffer\u001b[49m\u001b[43m,\u001b[49m\u001b[43m \u001b[49m\u001b[38;5;241;43m*\u001b[39;49m\u001b[38;5;241;43m*\u001b[39;49m\u001b[43mkwds\u001b[49m\u001b[43m)\u001b[49m\n\u001b[1;32m    622\u001b[0m \u001b[38;5;28;01mif\u001b[39;00m chunksize \u001b[38;5;129;01mor\u001b[39;00m iterator:\n\u001b[1;32m    623\u001b[0m     \u001b[38;5;28;01mreturn\u001b[39;00m parser\n",
      "File \u001b[0;32m~/anaconda3/envs/ada/lib/python3.13/site-packages/pandas/io/parsers/readers.py:1620\u001b[0m, in \u001b[0;36mTextFileReader.__init__\u001b[0;34m(self, f, engine, **kwds)\u001b[0m\n\u001b[1;32m   1617\u001b[0m     \u001b[38;5;28mself\u001b[39m\u001b[38;5;241m.\u001b[39moptions[\u001b[38;5;124m\"\u001b[39m\u001b[38;5;124mhas_index_names\u001b[39m\u001b[38;5;124m\"\u001b[39m] \u001b[38;5;241m=\u001b[39m kwds[\u001b[38;5;124m\"\u001b[39m\u001b[38;5;124mhas_index_names\u001b[39m\u001b[38;5;124m\"\u001b[39m]\n\u001b[1;32m   1619\u001b[0m \u001b[38;5;28mself\u001b[39m\u001b[38;5;241m.\u001b[39mhandles: IOHandles \u001b[38;5;241m|\u001b[39m \u001b[38;5;28;01mNone\u001b[39;00m \u001b[38;5;241m=\u001b[39m \u001b[38;5;28;01mNone\u001b[39;00m\n\u001b[0;32m-> 1620\u001b[0m \u001b[38;5;28mself\u001b[39m\u001b[38;5;241m.\u001b[39m_engine \u001b[38;5;241m=\u001b[39m \u001b[38;5;28;43mself\u001b[39;49m\u001b[38;5;241;43m.\u001b[39;49m\u001b[43m_make_engine\u001b[49m\u001b[43m(\u001b[49m\u001b[43mf\u001b[49m\u001b[43m,\u001b[49m\u001b[43m \u001b[49m\u001b[38;5;28;43mself\u001b[39;49m\u001b[38;5;241;43m.\u001b[39;49m\u001b[43mengine\u001b[49m\u001b[43m)\u001b[49m\n",
      "File \u001b[0;32m~/anaconda3/envs/ada/lib/python3.13/site-packages/pandas/io/parsers/readers.py:1880\u001b[0m, in \u001b[0;36mTextFileReader._make_engine\u001b[0;34m(self, f, engine)\u001b[0m\n\u001b[1;32m   1878\u001b[0m     \u001b[38;5;28;01mif\u001b[39;00m \u001b[38;5;124m\"\u001b[39m\u001b[38;5;124mb\u001b[39m\u001b[38;5;124m\"\u001b[39m \u001b[38;5;129;01mnot\u001b[39;00m \u001b[38;5;129;01min\u001b[39;00m mode:\n\u001b[1;32m   1879\u001b[0m         mode \u001b[38;5;241m+\u001b[39m\u001b[38;5;241m=\u001b[39m \u001b[38;5;124m\"\u001b[39m\u001b[38;5;124mb\u001b[39m\u001b[38;5;124m\"\u001b[39m\n\u001b[0;32m-> 1880\u001b[0m \u001b[38;5;28mself\u001b[39m\u001b[38;5;241m.\u001b[39mhandles \u001b[38;5;241m=\u001b[39m \u001b[43mget_handle\u001b[49m\u001b[43m(\u001b[49m\n\u001b[1;32m   1881\u001b[0m \u001b[43m    \u001b[49m\u001b[43mf\u001b[49m\u001b[43m,\u001b[49m\n\u001b[1;32m   1882\u001b[0m \u001b[43m    \u001b[49m\u001b[43mmode\u001b[49m\u001b[43m,\u001b[49m\n\u001b[1;32m   1883\u001b[0m \u001b[43m    \u001b[49m\u001b[43mencoding\u001b[49m\u001b[38;5;241;43m=\u001b[39;49m\u001b[38;5;28;43mself\u001b[39;49m\u001b[38;5;241;43m.\u001b[39;49m\u001b[43moptions\u001b[49m\u001b[38;5;241;43m.\u001b[39;49m\u001b[43mget\u001b[49m\u001b[43m(\u001b[49m\u001b[38;5;124;43m\"\u001b[39;49m\u001b[38;5;124;43mencoding\u001b[39;49m\u001b[38;5;124;43m\"\u001b[39;49m\u001b[43m,\u001b[49m\u001b[43m \u001b[49m\u001b[38;5;28;43;01mNone\u001b[39;49;00m\u001b[43m)\u001b[49m\u001b[43m,\u001b[49m\n\u001b[1;32m   1884\u001b[0m \u001b[43m    \u001b[49m\u001b[43mcompression\u001b[49m\u001b[38;5;241;43m=\u001b[39;49m\u001b[38;5;28;43mself\u001b[39;49m\u001b[38;5;241;43m.\u001b[39;49m\u001b[43moptions\u001b[49m\u001b[38;5;241;43m.\u001b[39;49m\u001b[43mget\u001b[49m\u001b[43m(\u001b[49m\u001b[38;5;124;43m\"\u001b[39;49m\u001b[38;5;124;43mcompression\u001b[39;49m\u001b[38;5;124;43m\"\u001b[39;49m\u001b[43m,\u001b[49m\u001b[43m \u001b[49m\u001b[38;5;28;43;01mNone\u001b[39;49;00m\u001b[43m)\u001b[49m\u001b[43m,\u001b[49m\n\u001b[1;32m   1885\u001b[0m \u001b[43m    \u001b[49m\u001b[43mmemory_map\u001b[49m\u001b[38;5;241;43m=\u001b[39;49m\u001b[38;5;28;43mself\u001b[39;49m\u001b[38;5;241;43m.\u001b[39;49m\u001b[43moptions\u001b[49m\u001b[38;5;241;43m.\u001b[39;49m\u001b[43mget\u001b[49m\u001b[43m(\u001b[49m\u001b[38;5;124;43m\"\u001b[39;49m\u001b[38;5;124;43mmemory_map\u001b[39;49m\u001b[38;5;124;43m\"\u001b[39;49m\u001b[43m,\u001b[49m\u001b[43m \u001b[49m\u001b[38;5;28;43;01mFalse\u001b[39;49;00m\u001b[43m)\u001b[49m\u001b[43m,\u001b[49m\n\u001b[1;32m   1886\u001b[0m \u001b[43m    \u001b[49m\u001b[43mis_text\u001b[49m\u001b[38;5;241;43m=\u001b[39;49m\u001b[43mis_text\u001b[49m\u001b[43m,\u001b[49m\n\u001b[1;32m   1887\u001b[0m \u001b[43m    \u001b[49m\u001b[43merrors\u001b[49m\u001b[38;5;241;43m=\u001b[39;49m\u001b[38;5;28;43mself\u001b[39;49m\u001b[38;5;241;43m.\u001b[39;49m\u001b[43moptions\u001b[49m\u001b[38;5;241;43m.\u001b[39;49m\u001b[43mget\u001b[49m\u001b[43m(\u001b[49m\u001b[38;5;124;43m\"\u001b[39;49m\u001b[38;5;124;43mencoding_errors\u001b[39;49m\u001b[38;5;124;43m\"\u001b[39;49m\u001b[43m,\u001b[49m\u001b[43m \u001b[49m\u001b[38;5;124;43m\"\u001b[39;49m\u001b[38;5;124;43mstrict\u001b[39;49m\u001b[38;5;124;43m\"\u001b[39;49m\u001b[43m)\u001b[49m\u001b[43m,\u001b[49m\n\u001b[1;32m   1888\u001b[0m \u001b[43m    \u001b[49m\u001b[43mstorage_options\u001b[49m\u001b[38;5;241;43m=\u001b[39;49m\u001b[38;5;28;43mself\u001b[39;49m\u001b[38;5;241;43m.\u001b[39;49m\u001b[43moptions\u001b[49m\u001b[38;5;241;43m.\u001b[39;49m\u001b[43mget\u001b[49m\u001b[43m(\u001b[49m\u001b[38;5;124;43m\"\u001b[39;49m\u001b[38;5;124;43mstorage_options\u001b[39;49m\u001b[38;5;124;43m\"\u001b[39;49m\u001b[43m,\u001b[49m\u001b[43m \u001b[49m\u001b[38;5;28;43;01mNone\u001b[39;49;00m\u001b[43m)\u001b[49m\u001b[43m,\u001b[49m\n\u001b[1;32m   1889\u001b[0m \u001b[43m\u001b[49m\u001b[43m)\u001b[49m\n\u001b[1;32m   1890\u001b[0m \u001b[38;5;28;01massert\u001b[39;00m \u001b[38;5;28mself\u001b[39m\u001b[38;5;241m.\u001b[39mhandles \u001b[38;5;129;01mis\u001b[39;00m \u001b[38;5;129;01mnot\u001b[39;00m \u001b[38;5;28;01mNone\u001b[39;00m\n\u001b[1;32m   1891\u001b[0m f \u001b[38;5;241m=\u001b[39m \u001b[38;5;28mself\u001b[39m\u001b[38;5;241m.\u001b[39mhandles\u001b[38;5;241m.\u001b[39mhandle\n",
      "File \u001b[0;32m~/anaconda3/envs/ada/lib/python3.13/site-packages/pandas/io/common.py:873\u001b[0m, in \u001b[0;36mget_handle\u001b[0;34m(path_or_buf, mode, encoding, compression, memory_map, is_text, errors, storage_options)\u001b[0m\n\u001b[1;32m    868\u001b[0m \u001b[38;5;28;01melif\u001b[39;00m \u001b[38;5;28misinstance\u001b[39m(handle, \u001b[38;5;28mstr\u001b[39m):\n\u001b[1;32m    869\u001b[0m     \u001b[38;5;66;03m# Check whether the filename is to be opened in binary mode.\u001b[39;00m\n\u001b[1;32m    870\u001b[0m     \u001b[38;5;66;03m# Binary mode does not support 'encoding' and 'newline'.\u001b[39;00m\n\u001b[1;32m    871\u001b[0m     \u001b[38;5;28;01mif\u001b[39;00m ioargs\u001b[38;5;241m.\u001b[39mencoding \u001b[38;5;129;01mand\u001b[39;00m \u001b[38;5;124m\"\u001b[39m\u001b[38;5;124mb\u001b[39m\u001b[38;5;124m\"\u001b[39m \u001b[38;5;129;01mnot\u001b[39;00m \u001b[38;5;129;01min\u001b[39;00m ioargs\u001b[38;5;241m.\u001b[39mmode:\n\u001b[1;32m    872\u001b[0m         \u001b[38;5;66;03m# Encoding\u001b[39;00m\n\u001b[0;32m--> 873\u001b[0m         handle \u001b[38;5;241m=\u001b[39m \u001b[38;5;28;43mopen\u001b[39;49m\u001b[43m(\u001b[49m\n\u001b[1;32m    874\u001b[0m \u001b[43m            \u001b[49m\u001b[43mhandle\u001b[49m\u001b[43m,\u001b[49m\n\u001b[1;32m    875\u001b[0m \u001b[43m            \u001b[49m\u001b[43mioargs\u001b[49m\u001b[38;5;241;43m.\u001b[39;49m\u001b[43mmode\u001b[49m\u001b[43m,\u001b[49m\n\u001b[1;32m    876\u001b[0m \u001b[43m            \u001b[49m\u001b[43mencoding\u001b[49m\u001b[38;5;241;43m=\u001b[39;49m\u001b[43mioargs\u001b[49m\u001b[38;5;241;43m.\u001b[39;49m\u001b[43mencoding\u001b[49m\u001b[43m,\u001b[49m\n\u001b[1;32m    877\u001b[0m \u001b[43m            \u001b[49m\u001b[43merrors\u001b[49m\u001b[38;5;241;43m=\u001b[39;49m\u001b[43merrors\u001b[49m\u001b[43m,\u001b[49m\n\u001b[1;32m    878\u001b[0m \u001b[43m            \u001b[49m\u001b[43mnewline\u001b[49m\u001b[38;5;241;43m=\u001b[39;49m\u001b[38;5;124;43m\"\u001b[39;49m\u001b[38;5;124;43m\"\u001b[39;49m\u001b[43m,\u001b[49m\n\u001b[1;32m    879\u001b[0m \u001b[43m        \u001b[49m\u001b[43m)\u001b[49m\n\u001b[1;32m    880\u001b[0m     \u001b[38;5;28;01melse\u001b[39;00m:\n\u001b[1;32m    881\u001b[0m         \u001b[38;5;66;03m# Binary mode\u001b[39;00m\n\u001b[1;32m    882\u001b[0m         handle \u001b[38;5;241m=\u001b[39m \u001b[38;5;28mopen\u001b[39m(handle, ioargs\u001b[38;5;241m.\u001b[39mmode)\n",
      "\u001b[0;31mFileNotFoundError\u001b[0m: [Errno 2] No such file or directory: 'MovieSummaries/plot_summaries.txt'"
     ]
    }
   ],
   "source": [
    "df_char_cleaned = pd.read_csv('data/cleaned.csv', sep=',', header=0)\n",
    "\n",
    "plot_summaries = pd.read_csv('MovieSummaries/plot_summaries.txt', sep='\\t', names=['Wikipedia_ID', 'Synopses'])\n",
    "\n",
    "character_names_by_film = df_char_cleaned.groupby(\"Wikipedia_ID\")[\"Character_name\"].unique().reset_index()"
   ]
  },
  {
   "cell_type": "code",
   "execution_count": null,
   "metadata": {},
   "outputs": [
    {
     "ename": "KeyError",
     "evalue": "'Sentences'",
     "output_type": "error",
     "traceback": [
      "\u001b[0;31m---------------------------------------------------------------------------\u001b[0m",
      "\u001b[0;31mKeyError\u001b[0m                                  Traceback (most recent call last)",
      "Cell \u001b[0;32mIn[27], line 25\u001b[0m\n\u001b[1;32m     18\u001b[0m             data\u001b[38;5;241m.\u001b[39mappend({\n\u001b[1;32m     19\u001b[0m                 \u001b[38;5;124m\"\u001b[39m\u001b[38;5;124mMovie_ID\u001b[39m\u001b[38;5;124m\"\u001b[39m: movie_id,\n\u001b[1;32m     20\u001b[0m                 \u001b[38;5;124m\"\u001b[39m\u001b[38;5;124mCharacter_Name\u001b[39m\u001b[38;5;124m\"\u001b[39m: character_name,\n\u001b[1;32m     21\u001b[0m                 \u001b[38;5;124m\"\u001b[39m\u001b[38;5;124mSentences\u001b[39m\u001b[38;5;124m\"\u001b[39m: character_sentences\n\u001b[1;32m     22\u001b[0m                 })\n\u001b[1;32m     24\u001b[0m df \u001b[38;5;241m=\u001b[39m pd\u001b[38;5;241m.\u001b[39mDataFrame(data)\n\u001b[0;32m---> 25\u001b[0m df \u001b[38;5;241m=\u001b[39m df[\u001b[43mdf\u001b[49m\u001b[43m[\u001b[49m\u001b[38;5;124;43m'\u001b[39;49m\u001b[38;5;124;43mSentences\u001b[39;49m\u001b[38;5;124;43m'\u001b[39;49m\u001b[43m]\u001b[49m\u001b[38;5;241m.\u001b[39mapply(\u001b[38;5;28;01mlambda\u001b[39;00m x: \u001b[38;5;28mlen\u001b[39m(x) \u001b[38;5;241m>\u001b[39m \u001b[38;5;241m0\u001b[39m)]\n\u001b[1;32m     26\u001b[0m df\u001b[38;5;241m.\u001b[39mto_csv(\u001b[38;5;124m'\u001b[39m\u001b[38;5;124mdata/sentences_by_character.csv\u001b[39m\u001b[38;5;124m'\u001b[39m, index\u001b[38;5;241m=\u001b[39m\u001b[38;5;28;01mFalse\u001b[39;00m)\n",
      "File \u001b[0;32m/Library/Frameworks/Python.framework/Versions/3.12/lib/python3.12/site-packages/pandas/core/frame.py:4102\u001b[0m, in \u001b[0;36mDataFrame.__getitem__\u001b[0;34m(self, key)\u001b[0m\n\u001b[1;32m   4100\u001b[0m \u001b[38;5;28;01mif\u001b[39;00m \u001b[38;5;28mself\u001b[39m\u001b[38;5;241m.\u001b[39mcolumns\u001b[38;5;241m.\u001b[39mnlevels \u001b[38;5;241m>\u001b[39m \u001b[38;5;241m1\u001b[39m:\n\u001b[1;32m   4101\u001b[0m     \u001b[38;5;28;01mreturn\u001b[39;00m \u001b[38;5;28mself\u001b[39m\u001b[38;5;241m.\u001b[39m_getitem_multilevel(key)\n\u001b[0;32m-> 4102\u001b[0m indexer \u001b[38;5;241m=\u001b[39m \u001b[38;5;28;43mself\u001b[39;49m\u001b[38;5;241;43m.\u001b[39;49m\u001b[43mcolumns\u001b[49m\u001b[38;5;241;43m.\u001b[39;49m\u001b[43mget_loc\u001b[49m\u001b[43m(\u001b[49m\u001b[43mkey\u001b[49m\u001b[43m)\u001b[49m\n\u001b[1;32m   4103\u001b[0m \u001b[38;5;28;01mif\u001b[39;00m is_integer(indexer):\n\u001b[1;32m   4104\u001b[0m     indexer \u001b[38;5;241m=\u001b[39m [indexer]\n",
      "File \u001b[0;32m/Library/Frameworks/Python.framework/Versions/3.12/lib/python3.12/site-packages/pandas/core/indexes/range.py:417\u001b[0m, in \u001b[0;36mRangeIndex.get_loc\u001b[0;34m(self, key)\u001b[0m\n\u001b[1;32m    415\u001b[0m         \u001b[38;5;28;01mraise\u001b[39;00m \u001b[38;5;167;01mKeyError\u001b[39;00m(key) \u001b[38;5;28;01mfrom\u001b[39;00m \u001b[38;5;21;01merr\u001b[39;00m\n\u001b[1;32m    416\u001b[0m \u001b[38;5;28;01mif\u001b[39;00m \u001b[38;5;28misinstance\u001b[39m(key, Hashable):\n\u001b[0;32m--> 417\u001b[0m     \u001b[38;5;28;01mraise\u001b[39;00m \u001b[38;5;167;01mKeyError\u001b[39;00m(key)\n\u001b[1;32m    418\u001b[0m \u001b[38;5;28mself\u001b[39m\u001b[38;5;241m.\u001b[39m_check_indexing_error(key)\n\u001b[1;32m    419\u001b[0m \u001b[38;5;28;01mraise\u001b[39;00m \u001b[38;5;167;01mKeyError\u001b[39;00m(key)\n",
      "\u001b[0;31mKeyError\u001b[0m: 'Sentences'"
     ]
    }
   ],
   "source": [
    "base_dir='data/corenlp_plot_summaries'\n",
    "movie_ids = character_names_by_film[\"Wikipedia_ID\"]\n",
    "\n",
    "data = []\n",
    "\n",
    "for index, movie_id in enumerate(movie_ids):\n",
    "    file_path = os.path.join(base_dir, f\"{movie_id}.xml.gz\") \n",
    "    if os.path.exists(file_path):\n",
    "        movie_nlp = parse_xml_gz(file_path)\n",
    "        list_characters = character_names_by_film[\"Character_name\"].iloc[index]\n",
    "        for character_name in list_characters:\n",
    "            filtered_sentences = filter_sentences_by_character(character_name, movie_nlp[\"sentences_data\"], movie_nlp[\"coreferences\"])\n",
    "            character_sentences = []\n",
    "\n",
    "            for sentence in filtered_sentences[\"character_sentences\"]:\n",
    "                character_sentences.append(sentence) \n",
    "\n",
    "            data.append({\n",
    "                \"Movie_ID\": movie_id,\n",
    "                \"Character_Name\": character_name,\n",
    "                \"Sentences\": character_sentences\n",
    "                })\n",
    "\n",
    "df = pd.DataFrame(data)\n",
    "df = df[df['Sentences'].apply(lambda x: len(x) > 0)]\n",
    "df.to_csv('data/sentences_by_character.csv', index=False)"
   ]
  }
 ],
 "metadata": {
  "kernelspec": {
   "display_name": "ada",
   "language": "python",
   "name": "python3"
  },
  "language_info": {
   "codemirror_mode": {
    "name": "ipython",
    "version": 3
   },
   "file_extension": ".py",
   "mimetype": "text/x-python",
   "name": "python",
   "nbconvert_exporter": "python",
   "pygments_lexer": "ipython3",
   "version": "3.13.0"
  }
 },
 "nbformat": 4,
 "nbformat_minor": 2
}
