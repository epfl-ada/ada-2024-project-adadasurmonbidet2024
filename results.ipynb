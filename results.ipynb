{
 "cells": [
  {
   "cell_type": "code",
   "execution_count": 103,
   "metadata": {},
   "outputs": [],
   "source": [
    "from src.utils.results_utils import *\n",
    "from src.utils.data_utils import str_dict_to_values\n",
    "\n",
    "import plotly.graph_objects as go\n",
    "import matplotlib.pyplot as plt\n",
    "import seaborn as sns\n",
    "import matplotlib.ticker as ticker\n"
   ]
  },
  {
   "cell_type": "markdown",
   "metadata": {},
   "source": [
    "## Loading the cleaned and conditionned dataset "
   ]
  },
  {
   "cell_type": "code",
   "execution_count": 104,
   "metadata": {},
   "outputs": [
    {
     "data": {
      "text/html": [
       "<div>\n",
       "<style scoped>\n",
       "    .dataframe tbody tr th:only-of-type {\n",
       "        vertical-align: middle;\n",
       "    }\n",
       "\n",
       "    .dataframe tbody tr th {\n",
       "        vertical-align: top;\n",
       "    }\n",
       "\n",
       "    .dataframe thead th {\n",
       "        text-align: right;\n",
       "    }\n",
       "</style>\n",
       "<table border=\"1\" class=\"dataframe\">\n",
       "  <thead>\n",
       "    <tr style=\"text-align: right;\">\n",
       "      <th></th>\n",
       "      <th>Wikipedia_ID</th>\n",
       "      <th>Name</th>\n",
       "      <th>Languages</th>\n",
       "      <th>Country</th>\n",
       "      <th>Genres</th>\n",
       "      <th>Character_name</th>\n",
       "      <th>Sex</th>\n",
       "      <th>Actor_age</th>\n",
       "    </tr>\n",
       "  </thead>\n",
       "  <tbody>\n",
       "    <tr>\n",
       "      <th>0</th>\n",
       "      <td>975900</td>\n",
       "      <td>Ghosts of Mars</td>\n",
       "      <td>[English Language]</td>\n",
       "      <td>[United States of America]</td>\n",
       "      <td>[Thriller, Science Fiction, Horror, Adventure,...</td>\n",
       "      <td>Akooshay</td>\n",
       "      <td>F</td>\n",
       "      <td>42.0</td>\n",
       "    </tr>\n",
       "    <tr>\n",
       "      <th>1</th>\n",
       "      <td>975900</td>\n",
       "      <td>Ghosts of Mars</td>\n",
       "      <td>[English Language]</td>\n",
       "      <td>[United States of America]</td>\n",
       "      <td>[Thriller, Science Fiction, Horror, Adventure,...</td>\n",
       "      <td>Melanie</td>\n",
       "      <td>F</td>\n",
       "      <td>27.0</td>\n",
       "    </tr>\n",
       "    <tr>\n",
       "      <th>2</th>\n",
       "      <td>975900</td>\n",
       "      <td>Ghosts of Mars</td>\n",
       "      <td>[English Language]</td>\n",
       "      <td>[United States of America]</td>\n",
       "      <td>[Thriller, Science Fiction, Horror, Adventure,...</td>\n",
       "      <td>Williams</td>\n",
       "      <td>M</td>\n",
       "      <td>32.0</td>\n",
       "    </tr>\n",
       "    <tr>\n",
       "      <th>3</th>\n",
       "      <td>975900</td>\n",
       "      <td>Ghosts of Mars</td>\n",
       "      <td>[English Language]</td>\n",
       "      <td>[United States of America]</td>\n",
       "      <td>[Thriller, Science Fiction, Horror, Adventure,...</td>\n",
       "      <td>Jericho</td>\n",
       "      <td>M</td>\n",
       "      <td>33.0</td>\n",
       "    </tr>\n",
       "    <tr>\n",
       "      <th>4</th>\n",
       "      <td>975900</td>\n",
       "      <td>Ghosts of Mars</td>\n",
       "      <td>[English Language]</td>\n",
       "      <td>[United States of America]</td>\n",
       "      <td>[Thriller, Science Fiction, Horror, Adventure,...</td>\n",
       "      <td>Bashira</td>\n",
       "      <td>F</td>\n",
       "      <td>23.0</td>\n",
       "    </tr>\n",
       "  </tbody>\n",
       "</table>\n",
       "</div>"
      ],
      "text/plain": [
       "   Wikipedia_ID            Name           Languages  \\\n",
       "0        975900  Ghosts of Mars  [English Language]   \n",
       "1        975900  Ghosts of Mars  [English Language]   \n",
       "2        975900  Ghosts of Mars  [English Language]   \n",
       "3        975900  Ghosts of Mars  [English Language]   \n",
       "4        975900  Ghosts of Mars  [English Language]   \n",
       "\n",
       "                      Country  \\\n",
       "0  [United States of America]   \n",
       "1  [United States of America]   \n",
       "2  [United States of America]   \n",
       "3  [United States of America]   \n",
       "4  [United States of America]   \n",
       "\n",
       "                                              Genres Character_name Sex  \\\n",
       "0  [Thriller, Science Fiction, Horror, Adventure,...       Akooshay   F   \n",
       "1  [Thriller, Science Fiction, Horror, Adventure,...        Melanie   F   \n",
       "2  [Thriller, Science Fiction, Horror, Adventure,...       Williams   M   \n",
       "3  [Thriller, Science Fiction, Horror, Adventure,...        Jericho   M   \n",
       "4  [Thriller, Science Fiction, Horror, Adventure,...        Bashira   F   \n",
       "\n",
       "   Actor_age  \n",
       "0       42.0  \n",
       "1       27.0  \n",
       "2       32.0  \n",
       "3       33.0  \n",
       "4       23.0  "
      ]
     },
     "execution_count": 104,
     "metadata": {},
     "output_type": "execute_result"
    }
   ],
   "source": [
    "df_char_cleaned = pd.read_csv('data/cleaned.csv')\n",
    "\n",
    "df_char_cleaned['Languages'] = df_char_cleaned['Languages'].apply(str_dict_to_values)\n",
    "df_char_cleaned['Country'] = df_char_cleaned['Country'].apply(str_dict_to_values)\n",
    "df_char_cleaned['Genres'] = df_char_cleaned['Genres'].apply(str_dict_to_values)\n",
    "\n",
    "df_char_cleaned.head()"
   ]
  },
  {
   "cell_type": "markdown",
   "metadata": {},
   "source": [
    "Ajouter une partie ou on présente notre dataset "
   ]
  },
  {
   "cell_type": "code",
   "execution_count": 105,
   "metadata": {},
   "outputs": [
    {
     "data": {
      "application/vnd.plotly.v1+json": {
       "config": {
        "plotlyServerURL": "https://plot.ly"
       },
       "data": [
        {
         "hoverinfo": "text",
         "hovertext": [
          "Name: John<br>Count: 1305",
          "Name: George<br>Count: 621",
          "Name: Tom<br>Count: 591",
          "Name: David<br>Count: 567",
          "Name: Paul<br>Count: 531",
          "Name: James<br>Count: 513",
          "Name: Michael<br>Count: 505",
          "Name: Robert<br>Count: 451",
          "Name: Jim<br>Count: 428",
          "Name: Charlie<br>Count: 422",
          "Name: Richard<br>Count: 401",
          "Name: Charles<br>Count: 396",
          "Name: William<br>Count: 384",
          "Name: Sarah<br>Count: 371",
          "Name: Thomas<br>Count: 331",
          "Name: Steve<br>Count: 317",
          "Name: Eddie<br>Count: 307",
          "Name: Alex<br>Count: 305",
          "Name: Max<br>Count: 300",
          "Name: Helen<br>Count: 294",
          "Name: Alice<br>Count: 292",
          "Name: Susan<br>Count: 283",
          "Name: Johnny<br>Count: 280",
          "Name: Kate<br>Count: 268",
          "Name: Danny<br>Count: 262",
          "Name: Julie<br>Count: 260",
          "Name: Arthur<br>Count: 259",
          "Name: Elizabeth<br>Count: 259",
          "Name: Rachel<br>Count: 248",
          "Name: Chris<br>Count: 229",
          "Name: Dave<br>Count: 229",
          "Name: Lisa<br>Count: 229",
          "Name: Simon<br>Count: 220",
          "Name: Joseph<br>Count: 213",
          "Name: Daniel<br>Count: 207",
          "Name: Claire<br>Count: 205",
          "Name: Barbara<br>Count: 204",
          "Name: Karen<br>Count: 203",
          "Name: Kevin<br>Count: 201",
          "Name: Jason<br>Count: 201",
          "Name: Fred<br>Count: 199",
          "Name: Marie<br>Count: 199",
          "Name: Linda<br>Count: 197",
          "Name: Annie<br>Count: 196",
          "Name: Anne<br>Count: 196",
          "Name: Brian<br>Count: 196",
          "Name: Ed<br>Count: 194",
          "Name: Phil<br>Count: 192",
          "Name: Adam<br>Count: 191",
          "Name: Maggie<br>Count: 191",
          "Name: Andy<br>Count: 186",
          "Name: Margaret<br>Count: 184",
          "Name: Emily<br>Count: 182",
          "Name: Jones<br>Count: 176",
          "Name: Roy<br>Count: 174",
          "Name: Moe<br>Count: 174",
          "Name: Tim<br>Count: 174",
          "Name: Matt<br>Count: 173",
          "Name: Louis<br>Count: 167",
          "Name: Edward<br>Count: 167",
          "Name: Scott<br>Count: 167",
          "Name: Howard<br>Count: 165",
          "Name: Jennifer<br>Count: 154",
          "Name: Ellen<br>Count: 152",
          "Name: Sara<br>Count: 151",
          "Name: Angela<br>Count: 149",
          "Name: Johnson<br>Count: 148",
          "Name: Mickey<br>Count: 147",
          "Name: Charlotte<br>Count: 147",
          "Name: Julia<br>Count: 146",
          "Name: Vijay<br>Count: 146",
          "Name: Martha<br>Count: 146",
          "Name: Philip<br>Count: 145",
          "Name: Ryan<br>Count: 143",
          "Name: Louise<br>Count: 143",
          "Name: Andrew<br>Count: 141",
          "Name: Gloria<br>Count: 140",
          "Name: Albert<br>Count: 139",
          "Name: Wilson<br>Count: 137",
          "Name: Samantha<br>Count: 136",
          "Name: Jessica<br>Count: 136",
          "Name: Gary<br>Count: 134",
          "Name: Harold<br>Count: 133",
          "Name: Amanda<br>Count: 133",
          "Name: Taylor<br>Count: 133",
          "Name: Catherine<br>Count: 132",
          "Name: Jonathan<br>Count: 131",
          "Name: Diane<br>Count: 131",
          "Name: Kid<br>Count: 129",
          "Name: Anthony<br>Count: 128",
          "Name: Tina<br>Count: 127",
          "Name: Lou<br>Count: 127",
          "Name: Bugs<br>Count: 125",
          "Name: Jackson<br>Count: 122",
          "Name: Gordon<br>Count: 121",
          "Name: Sean<br>Count: 121",
          "Name: Alexander<br>Count: 121",
          "Name: Leo<br>Count: 120",
          "Name: Karl<br>Count: 119",
          "Name: Sophie<br>Count: 119",
          "Name: Dennis<br>Count: 118",
          "Name: Jackie<br>Count: 117",
          "Name: Donald<br>Count: 116",
          "Name: Katie<br>Count: 116",
          "Name: Patrick<br>Count: 116",
          "Name: Rebecca<br>Count: 116",
          "Name: Priya<br>Count: 115",
          "Name: Jill<br>Count: 114",
          "Name: Wendy<br>Count: 114",
          "Name: Frankie<br>Count: 113",
          "Name: Joan<br>Count: 113",
          "Name: Francis<br>Count: 112",
          "Name: Stephen<br>Count: 112",
          "Name: Stanley<br>Count: 112",
          "Name: Ravi<br>Count: 112",
          "Name: Marty<br>Count: 112",
          "Name: Doug<br>Count: 111",
          "Name: Eva<br>Count: 111",
          "Name: Nicole<br>Count: 111",
          "Name: Nina<br>Count: 111",
          "Name: Judy<br>Count: 111",
          "Name: Carlos<br>Count: 110",
          "Name: Christine<br>Count: 110",
          "Name: Norman<br>Count: 108",
          "Name: Williams<br>Count: 106",
          "Name: Connie<br>Count: 105",
          "Name: Radha<br>Count: 105",
          "Name: Raymond<br>Count: 105",
          "Name: Oliver<br>Count: 104",
          "Name: Ron<br>Count: 104",
          "Name: Marcus<br>Count: 104",
          "Name: Samuel<br>Count: 103",
          "Name: Michelle<br>Count: 102",
          "Name: Gus<br>Count: 102",
          "Name: Jacob<br>Count: 102",
          "Name: Stan<br>Count: 102",
          "Name: Diana<br>Count: 101",
          "Name: Matthew<br>Count: 101",
          "Name: Pierre<br>Count: 101",
          "Name: Pooja<br>Count: 101",
          "Name: Davis<br>Count: 101",
          "Name: Monica<br>Count: 100",
          "Name: Vikram<br>Count: 99",
          "Name: Sonia<br>Count: 99",
          "Name: Cindy<br>Count: 98",
          "Name: Ivan<br>Count: 98",
          "Name: Russell<br>Count: 97",
          "Name: Janet<br>Count: 96",
          "Name: Jamie<br>Count: 96",
          "Name: Gina<br>Count: 96",
          "Name: Katherine<br>Count: 96",
          "Name: Todd<br>Count: 95",
          "Name: Bruce<br>Count: 95",
          "Name: Greg<br>Count: 95",
          "Name: Dorothy<br>Count: 94",
          "Name: Juan<br>Count: 94",
          "Name: Jesse<br>Count: 94",
          "Name: Sharon<br>Count: 93",
          "Name: Nora<br>Count: 93",
          "Name: Lawrence<br>Count: 92",
          "Name: Leslie<br>Count: 92",
          "Name: Christopher<br>Count: 92",
          "Name: Liz<br>Count: 92",
          "Name: Hannah<br>Count: 92",
          "Name: Jan<br>Count: 92",
          "Name: Victoria<br>Count: 91",
          "Name: Ajay<br>Count: 91",
          "Name: Carla<br>Count: 90",
          "Name: Ali<br>Count: 90",
          "Name: Derek<br>Count: 89",
          "Name: Debbie<br>Count: 89",
          "Name: Anjali<br>Count: 88",
          "Name: Tracy<br>Count: 88",
          "Name: Neil<br>Count: 88",
          "Name: Sandra<br>Count: 88",
          "Name: Miles<br>Count: 87",
          "Name: Harris<br>Count: 87",
          "Name: Tanya<br>Count: 87",
          "Name: Sylvia<br>Count: 87",
          "Name: Felix<br>Count: 86",
          "Name: Wayne<br>Count: 86",
          "Name: Gwen<br>Count: 85",
          "Name: Paula<br>Count: 84",
          "Name: Lola<br>Count: 84",
          "Name: Anita<br>Count: 84",
          "Name: Harvey<br>Count: 83",
          "Name: Sheila<br>Count: 83",
          "Name: Nicholas<br>Count: 83",
          "Name: Stephanie<br>Count: 83",
          "Name: Cynthia<br>Count: 83",
          "Name: Kenny<br>Count: 83",
          "Name: Douglas<br>Count: 83",
          "Name: Natalie<br>Count: 82",
          "Name: Nathan<br>Count: 82",
          "Name: Bernard<br>Count: 82",
          "Name: Evelyn<br>Count: 82",
          "Name: Ricky<br>Count: 81",
          "Name: Mitch<br>Count: 81",
          "Name: Justin<br>Count: 81",
          "Name: Shankar<br>Count: 81",
          "Name: Ned<br>Count: 81",
          "Name: Craig<br>Count: 81",
          "Name: Marshall<br>Count: 80",
          "Name: Il<br>Count: 80",
          "Name: Maurice<br>Count: 80",
          "Name: Brenda<br>Count: 80",
          "Name: Ashley<br>Count: 79",
          "Name: Vicky<br>Count: 79",
          "Name: Denise<br>Count: 79",
          "Name: Alfred<br>Count: 78",
          "Name: Kumar<br>Count: 78",
          "Name: Tyler<br>Count: 78",
          "Name: Kathy<br>Count: 78",
          "Name: Casey<br>Count: 77",
          "Name: Patricia<br>Count: 77",
          "Name: Ian<br>Count: 77",
          "Name: Vanessa<br>Count: 77",
          "Name: Hans<br>Count: 77",
          "Name: Anderson<br>Count: 77",
          "Name: Lynn<br>Count: 76",
          "Name: Antonio<br>Count: 75",
          "Name: Rosa<br>Count: 75",
          "Name: Oscar<br>Count: 75",
          "Name: Lloyd<br>Count: 74",
          "Name: Rahul<br>Count: 74",
          "Name: Arnold<br>Count: 74",
          "Name: Freddy<br>Count: 74",
          "Name: Karan<br>Count: 74",
          "Name: Teresa<br>Count: 73",
          "Name: Lauren<br>Count: 73",
          "Name: Joyce<br>Count: 73",
          "Name: Leon<br>Count: 72",
          "Name: Teddy<br>Count: 72",
          "Name: Leonard<br>Count: 72",
          "Name: Andrea<br>Count: 72",
          "Name: Jeremy<br>Count: 72",
          "Name: Melissa<br>Count: 71",
          "Name: Mama<br>Count: 71",
          "Name: Thompson<br>Count: 71",
          "Name: Allen<br>Count: 71",
          "Name: Frau<br>Count: 71",
          "Name: Doris<br>Count: 71",
          "Name: Ronnie<br>Count: 71",
          "Name: Marion<br>Count: 70",
          "Name: Jessie<br>Count: 70",
          "Name: Veronica<br>Count: 70",
          "Name: Pamela<br>Count: 70",
          "Name: Audrey<br>Count: 70",
          "Name: Valerie<br>Count: 70",
          "Name: Mitchell<br>Count: 69",
          "Name: Bruno<br>Count: 69",
          "Name: Becky<br>Count: 69",
          "Name: Gabriel<br>Count: 69",
          "Name: Keith<br>Count: 68",
          "Name: Suzanne<br>Count: 68",
          "Name: Raju<br>Count: 68",
          "Name: Allison<br>Count: 68",
          "Name: Abby<br>Count: 68",
          "Name: Elena<br>Count: 68",
          "Name: Carmen<br>Count: 68",
          "Name: Girlfriend<br>Count: 68",
          "Name: Clara<br>Count: 67",
          "Name: Ernie<br>Count: 67",
          "Name: Ashok<br>Count: 67",
          "Name: Rosie<br>Count: 67",
          "Name: Lenny<br>Count: 67",
          "Name: Megan<br>Count: 67",
          "Name: Eugene<br>Count: 66",
          "Name: Evans<br>Count: 65",
          "Name: Lester<br>Count: 65",
          "Name: Angie<br>Count: 65",
          "Name: Carrie<br>Count: 65",
          "Name: Julian<br>Count: 65",
          "Name: Bonnie<br>Count: 65",
          "Name: Chloe<br>Count: 65",
          "Name: Olivia<br>Count: 64",
          "Name: Janice<br>Count: 64",
          "Name: Vic<br>Count: 64",
          "Name: Abraham<br>Count: 64",
          "Name: Malcolm<br>Count: 64",
          "Name: Mohan<br>Count: 64",
          "Name: Vince<br>Count: 64",
          "Name: Nikki<br>Count: 63",
          "Name: Marvin<br>Count: 63",
          "Name: Hunter<br>Count: 63",
          "Name: Herbert<br>Count: 63",
          "Name: Virginia<br>Count: 63",
          "Name: Aaron<br>Count: 63",
          "Name: Eleanor<br>Count: 63",
          "Name: Santa<br>Count: 63",
          "Name: Vivian<br>Count: 62",
          "Name: Ethan<br>Count: 62",
          "Name: Brooke<br>Count: 62",
          "Name: Christian<br>Count: 62",
          "Name: Anand<br>Count: 62",
          "Name: Edgar<br>Count: 62",
          "Name: Krishna<br>Count: 62",
          "Name: Claude<br>Count: 62",
          "Name: Mario<br>Count: 61",
          "Name: Natasha<br>Count: 61",
          "Name: Shanti<br>Count: 61",
          "Name: Claudia<br>Count: 61",
          "Name: Shekhar<br>Count: 61",
          "Name: Lena<br>Count: 60",
          "Name: Wallace<br>Count: 60",
          "Name: Sebastian<br>Count: 60",
          "Name: Anton<br>Count: 60",
          "Name: Curtis<br>Count: 60",
          "Name: Ellie<br>Count: 60",
          "Name: Cathy<br>Count: 60",
          "Name: Adams<br>Count: 59",
          "Name: Polly<br>Count: 59",
          "Name: Olga<br>Count: 58",
          "Name: Miguel<br>Count: 58",
          "Name: Prem<br>Count: 58",
          "Name: Nigel<br>Count: 58",
          "Name: Herman<br>Count: 57",
          "Name: Watson<br>Count: 57",
          "Name: Gail<br>Count: 57",
          "Name: Zoe<br>Count: 57",
          "Name: Bernie<br>Count: 56",
          "Name: Shirley<br>Count: 56",
          "Name: Hal<br>Count: 56",
          "Name: Noah<br>Count: 56",
          "Name: Miranda<br>Count: 56",
          "Name: Gregory<br>Count: 56",
          "Name: Winston<br>Count: 56",
          "Name: Lucas<br>Count: 56",
          "Name: Kenneth<br>Count: 56",
          "Name: Elliot<br>Count: 56",
          "Name: von<br>Count: 55",
          "Name: Laurie<br>Count: 55",
          "Name: Boris<br>Count: 55",
          "Name: Randall<br>Count: 55",
          "Name: Jai<br>Count: 55",
          "Name: Owen<br>Count: 55",
          "Name: Geeta<br>Count: 55",
          "Name: Nisha<br>Count: 55",
          "Name: Seema<br>Count: 55",
          "Name: Sid<br>Count: 54",
          "Name: Henri<br>Count: 54",
          "Name: Ronald<br>Count: 54",
          "Name: Hugo<br>Count: 54",
          "Name: Alicia<br>Count: 54",
          "Name: Sapna<br>Count: 54",
          "Name: Phillip<br>Count: 54",
          "Name: Frances<br>Count: 54",
          "Name: Cheryl<br>Count: 54",
          "Name: Bert<br>Count: 54",
          "Name: April<br>Count: 53",
          "Name: Cameron<br>Count: 53",
          "Name: Lakshmi<br>Count: 53",
          "Name: Lydia<br>Count: 53",
          "Name: Joanna<br>Count: 53",
          "Name: Shyam<br>Count: 53",
          "Name: Ernest<br>Count: 53",
          "Name: Freddie<br>Count: 52",
          "Name: Dana<br>Count: 52",
          "Name: Duncan<br>Count: 52",
          "Name: Carson<br>Count: 52",
          "Name: Marianne<br>Count: 52",
          "Name: Roberts<br>Count: 52",
          "Name: Jesus<br>Count: 52",
          "Name: Rudy<br>Count: 52",
          "Name: Kapoor<br>Count: 52",
          "Name: Suraj<br>Count: 52",
          "Name: Asha<br>Count: 52",
          "Name: Jacques<br>Count: 52",
          "Name: Frederick<br>Count: 51",
          "Name: Esther<br>Count: 51",
          "Name: Sullivan<br>Count: 51",
          "Name: Lillian<br>Count: 51",
          "Name: Judith<br>Count: 51",
          "Name: Calvin<br>Count: 51",
          "Name: Hugh<br>Count: 50",
          "Name: Agnes<br>Count: 50",
          "Name: Susie<br>Count: 50",
          "Name: mère<br>Count: 50",
          "Name: Luther<br>Count: 50",
          "Name: Harrison<br>Count: 50",
          "Name: Andre<br>Count: 50",
          "Name: Dylan<br>Count: 50",
          "Name: Sidney<br>Count: 50",
          "Name: Isabel<br>Count: 50",
          "Name: Von<br>Count: 50",
          "Name: Joel<br>Count: 50",
          "Name: Sasha<br>Count: 50",
          "Name: Gerald<br>Count: 50",
          "Name: Clyde<br>Count: 50",
          "Name: Bennett<br>Count: 49",
          "Name: Mandy<br>Count: 49",
          "Name: Beatrice<br>Count: 49",
          "Name: Theresa<br>Count: 49",
          "Name: Jose<br>Count: 49",
          "Name: Wanda<br>Count: 49",
          "Name: Stuart<br>Count: 49",
          "Name: Percy<br>Count: 49",
          "Name: Angelo<br>Count: 49",
          "Name: Malhotra<br>Count: 48",
          "Name: Hamilton<br>Count: 48",
          "Name: Franz<br>Count: 48",
          "Name: Kurt<br>Count: 48",
          "Name: Miriam<br>Count: 48",
          "Name: Chen<br>Count: 48",
          "Name: Fiona<br>Count: 48",
          "Name: Mia<br>Count: 48",
          "Name: Isabelle<br>Count: 47",
          "Name: Der<br>Count: 47",
          "Name: Mabel<br>Count: 47",
          "Name: Meena<br>Count: 47",
          "Name: Phyllis<br>Count: 47",
          "Name: Preston<br>Count: 47",
          "Name: Constance<br>Count: 47",
          "Name: Yvonne<br>Count: 47",
          "Name: Adrian<br>Count: 47",
          "Name: Richie<br>Count: 47",
          "Name: Gopal<br>Count: 47",
          "Name: Melanie<br>Count: 47",
          "Name: Lois<br>Count: 47",
          "Name: Omar<br>Count: 47",
          "Name: Zack<br>Count: 46",
          "Name: Simone<br>Count: 46",
          "Name: Lilly<br>Count: 46",
          "Name: Edith<br>Count: 46",
          "Name: Jeffrey<br>Count: 46",
          "Name: Campbell<br>Count: 46",
          "Name: Antoine<br>Count: 46",
          "Name: Erica<br>Count: 46",
          "Name: Trevor<br>Count: 46",
          "Name: Harriet<br>Count: 46",
          "Name: Helena<br>Count: 46",
          "Name: Jeanne<br>Count: 45",
          "Name: Dolores<br>Count: 45",
          "Name: Moore<br>Count: 45",
          "Name: François<br>Count: 45",
          "Name: Marilyn<br>Count: 45",
          "Name: Rogers<br>Count: 45",
          "Name: Roland<br>Count: 45",
          "Name: Stevens<br>Count: 45",
          "Name: Rajesh<br>Count: 45",
          "Name: Maureen<br>Count: 45",
          "Name: Carlo<br>Count: 45",
          "Name: Mimi<br>Count: 45",
          "Name: Julius<br>Count: 44",
          "Name: Daphne<br>Count: 44",
          "Name: Philippe<br>Count: 44",
          "Name: Mme<br>Count: 44",
          "Name: Sadie<br>Count: 44",
          "Name: Parvati<br>Count: 44",
          "Name: Holmes<br>Count: 44",
          "Name: Christmas<br>Count: 44",
          "Name: Kathleen<br>Count: 44",
          "Name: Brandon<br>Count: 44",
          "Name: Luis<br>Count: 44",
          "Name: Manuel<br>Count: 44",
          "Name: Vernon<br>Count: 44",
          "Name: Stewart<br>Count: 44",
          "Name: Madeleine<br>Count: 44",
          "Name: Celia<br>Count: 43",
          "Name: Eli<br>Count: 43",
          "Name: Joshua<br>Count: 43",
          "Name: Elmer<br>Count: 43",
          "Name: Boyfriend<br>Count: 43",
          "Name: Deborah<br>Count: 43",
          "Name: Elsa<br>Count: 43",
          "Name: Charley<br>Count: 43",
          "Name: Evan<br>Count: 43",
          "Name: Clarence<br>Count: 43",
          "Name: Pauline<br>Count: 43",
          "Name: Alexandra<br>Count: 43",
          "Name: Meg<br>Count: 43",
          "Name: Prakash<br>Count: 42",
          "Name: Phillips<br>Count: 42",
          "Name: Laxmi<br>Count: 42",
          "Name: Sanjay<br>Count: 42",
          "Name: Gauri<br>Count: 42",
          "Name: Marjorie<br>Count: 42",
          "Name: Theodore<br>Count: 42",
          "Name: Beverly<br>Count: 42",
          "Name: Madhu<br>Count: 42",
          "Name: Murray<br>Count: 42",
          "Name: Virgil<br>Count: 42",
          "Name: Abdul<br>Count: 42",
          "Name: Floyd<br>Count: 42",
          "Name: Carolyn<br>Count: 42",
          "Name: Ella<br>Count: 42",
          "Name: Jonas<br>Count: 42",
          "Name: Danielle<br>Count: 41",
          "Name: Robinson<br>Count: 41",
          "Name: Ramesh<br>Count: 41",
          "Name: Stacy<br>Count: 41",
          "Name: Jules<br>Count: 41",
          "Name: Bridget<br>Count: 41",
          "Name: Fanny<br>Count: 41",
          "Name: Kiran<br>Count: 41",
          "Name: Eileen<br>Count: 41",
          "Name: Reggie<br>Count: 41",
          "Name: Pratap<br>Count: 41",
          "Name: Logan<br>Count: 41",
          "Name: Nandini<br>Count: 41",
          "Name: Rohit<br>Count: 40",
          "Name: Betsy<br>Count: 40",
          "Name: Isabella<br>Count: 40",
          "Name: Quinn<br>Count: 40",
          "Name: Jenkins<br>Count: 40",
          "Name: Darcy<br>Count: 40",
          "Name: Courtney<br>Count: 40",
          "Name: Trish<br>Count: 40",
          "Name: Archie<br>Count: 40",
          "Name: Raoul<br>Count: 40",
          "Name: Deepak<br>Count: 40",
          "Name: Neha<br>Count: 40",
          "Name: Arun<br>Count: 40",
          "Name: Penelope<br>Count: 40",
          "Name: Brady<br>Count: 39",
          "Name: Sandhya<br>Count: 39",
          "Name: Benson<br>Count: 39",
          "Name: Robbie<br>Count: 39",
          "Name: Isaac<br>Count: 38",
          "Name: Dracula<br>Count: 38",
          "Name: Brooks<br>Count: 38",
          "Name: Edna<br>Count: 38",
          "Name: Shane<br>Count: 38",
          "Name: Gertrude<br>Count: 38",
          "Name: Bart<br>Count: 38",
          "Name: Sharma<br>Count: 38",
          "Name: Christina<br>Count: 38",
          "Name: Voices<br>Count: 38",
          "Name: Wyatt<br>Count: 38",
          "Name: Del<br>Count: 38",
          "Name: Michel<br>Count: 38",
          "Name: Clayton<br>Count: 38",
          "Name: Ingrid<br>Count: 38",
          "Name: Doyle<br>Count: 38",
          "Name: Jorge<br>Count: 38",
          "Name: Darren<br>Count: 38",
          "Name: Dora<br>Count: 37",
          "Name: Leah<br>Count: 37",
          "Name: Stu<br>Count: 37",
          "Name: Horace<br>Count: 37",
          "Name: Vinod<br>Count: 37",
          "Name: Cody<br>Count: 37",
          "Name: Barnes<br>Count: 37",
          "Name: Ida<br>Count: 37",
          "Name: Billie<br>Count: 37",
          "Name: Lyle<br>Count: 37",
          "Name: Nate<br>Count: 37",
          "Name: Hayes<br>Count: 37",
          "Name: Aarti<br>Count: 37",
          "Name: Aditya<br>Count: 37",
          "Name: Kane<br>Count: 36",
          "Name: Hudson<br>Count: 36",
          "Name: Dominic<br>Count: 36",
          "Name: Annette<br>Count: 36",
          "Name: Lucille<br>Count: 36",
          "Name: Conrad<br>Count: 36",
          "Name: Vicki<br>Count: 36",
          "Name: père<br>Count: 36",
          "Name: Rhonda<br>Count: 36",
          "Name: Madison<br>Count: 36",
          "Name: Sameer<br>Count: 36",
          "Name: Roberto<br>Count: 36",
          "Name: Trent<br>Count: 36",
          "Name: Nolan<br>Count: 36",
          "Name: Shiva<br>Count: 36",
          "Name: Greta<br>Count: 36",
          "Name: Lila<br>Count: 36",
          "Name: Gladys<br>Count: 36",
          "Name: Rekha<br>Count: 35",
          "Name: Sunil<br>Count: 35",
          "Name: Herr<br>Count: 35",
          "Name: Jamal<br>Count: 35",
          "Name: Joanne<br>Count: 35",
          "Name: Toni<br>Count: 35",
          "Name: Stanton<br>Count: 35",
          "Name: Henderson<br>Count: 35",
          "Name: Diego<br>Count: 35",
          "Name: Raghu<br>Count: 35",
          "Name: Devi<br>Count: 35",
          "Name: Fran<br>Count: 35",
          "Name: Luigi<br>Count: 35",
          "Name: Chandra<br>Count: 35",
          "Name: Fritz<br>Count: 35",
          "Name: Biker<br>Count: 35",
          "Name: Sofia<br>Count: 35",
          "Name: Bradley<br>Count: 35",
          "Name: Georgia<br>Count: 35",
          "Name: Sydney<br>Count: 35",
          "Name: Stefan<br>Count: 35",
          "Name: Ahmed<br>Count: 35",
          "Name: Peterson<br>Count: 35",
          "Name: Rupert<br>Count: 35",
          "Name: Meenakshi<br>Count: 34",
          "Name: Margo<br>Count: 34",
          "Name: Gil<br>Count: 34",
          "Name: Naomi<br>Count: 34",
          "Name: Choi<br>Count: 34",
          "Name: Jerome<br>Count: 34",
          "Name: Meredith<br>Count: 34",
          "Name: Glenn<br>Count: 34",
          "Name: Wells<br>Count: 34",
          "Name: Blanche<br>Count: 34",
          "Name: Burns<br>Count: 34",
          "Name: Erik<br>Count: 34",
          "Name: Moses<br>Count: 33",
          "Name: Geoffrey<br>Count: 33",
          "Name: Millie<br>Count: 33",
          "Name: Roberta<br>Count: 33",
          "Name: Louie<br>Count: 33",
          "Name: Crawford<br>Count: 33",
          "Name: Verma<br>Count: 33",
          "Name: Marcia<br>Count: 33",
          "Name: Montgomery<br>Count: 33",
          "Name: Javier<br>Count: 33",
          "Name: Jensen<br>Count: 33",
          "Name: Kamini<br>Count: 33",
          "Name: Lorraine<br>Count: 33",
          "Name: Austin<br>Count: 33",
          "Name: Meera<br>Count: 33",
          "Name: Igor<br>Count: 33",
          "Name: Finn<br>Count: 33",
          "Name: Marta<br>Count: 33",
          "Name: Yu<br>Count: 33",
          "Name: Saxena<br>Count: 32",
          "Name: Ellis<br>Count: 32",
          "Name: Wesley<br>Count: 32",
          "Name: Divya<br>Count: 32",
          "Name: Sherman<br>Count: 32",
          "Name: Briggs<br>Count: 32",
          "Name: Milton<br>Count: 32",
          "Name: Dwight<br>Count: 32",
          "Name: Anu<br>Count: 32",
          "Name: Elisabeth<br>Count: 32",
          "Name: Renee<br>Count: 32",
          "Name: Georgie<br>Count: 32",
          "Name: Ajit<br>Count: 32",
          "Name: Savitri<br>Count: 32",
          "Name: Rico<br>Count: 32",
          "Name: Hari<br>Count: 32",
          "Name: Mildred<br>Count: 32",
          "Name: Preeti<br>Count: 32",
          "Name: Quentin<br>Count: 32",
          "Name: Regina<br>Count: 32",
          "Name: Suzie<br>Count: 32",
          "Name: Siddharth<br>Count: 32",
          "Name: Reynolds<br>Count: 32",
          "Name: Francesca<br>Count: 32",
          "Name: Harlan<br>Count: 31",
          "Name: Dante<br>Count: 31",
          "Name: Matthews<br>Count: 31",
          "Name: Damien<br>Count: 31",
          "Name: Lara<br>Count: 31",
          "Name: Fernando<br>Count: 31",
          "Name: Angus<br>Count: 31",
          "Name: Tarzan<br>Count: 31",
          "Name: Elise<br>Count: 31",
          "Name: Serena<br>Count: 31",
          "Name: Monty<br>Count: 31",
          "Name: Rai<br>Count: 31",
          "Name: Agatha<br>Count: 31",
          "Name: Nadia<br>Count: 31",
          "Name: Camille<br>Count: 31",
          "Name: Jen<br>Count: 31",
          "Name: Gabrielle<br>Count: 31",
          "Name: Tess<br>Count: 31",
          "Name: Wes<br>Count: 31",
          "Name: Randolph<br>Count: 31",
          "Name: Jared<br>Count: 31",
          "Name: Yuri<br>Count: 31",
          "Name: Ira<br>Count: 31",
          "Name: Alexis<br>Count: 31",
          "Name: Roman<br>Count: 31",
          "Name: Theo<br>Count: 31",
          "Name: Flynn<br>Count: 30",
          "Name: Adele<br>Count: 30",
          "Name: Alvin<br>Count: 30",
          "Name: Madge<br>Count: 30",
          "Name: Sanjana<br>Count: 30",
          "Name: Timmy<br>Count: 30",
          "Name: Monique<br>Count: 30",
          "Name: Francisco<br>Count: 30",
          "Name: Gretchen<br>Count: 30",
          "Name: Simpson<br>Count: 30",
          "Name: Morton<br>Count: 30",
          "Name: Havaldar<br>Count: 30",
          "Name: Cecil<br>Count: 30",
          "Name: Amos<br>Count: 30",
          "Name: Abel<br>Count: 30",
          "Name: Gopi<br>Count: 30",
          "Name: Alberto<br>Count: 30",
          "Name: Bates<br>Count: 30",
          "Name: Artie<br>Count: 30",
          "Name: Josef<br>Count: 30",
          "Name: Cassandra<br>Count: 30",
          "Name: Kirby<br>Count: 30",
          "Name: Khanna<br>Count: 30",
          "Name: Werner<br>Count: 30",
          "Name: Willis<br>Count: 30",
          "Name: Cookie<br>Count: 30",
          "Name: Wu<br>Count: 30",
          "Name: Stevie<br>Count: 30",
          "Name: Janine<br>Count: 30",
          "Name: Roopa<br>Count: 30",
          "Name: Romeo<br>Count: 30",
          "Name: Shannon<br>Count: 30",
          "Name: Margot<br>Count: 30",
          "Name: Rama<br>Count: 30",
          "Name: Connor<br>Count: 30",
          "Name: Chan<br>Count: 30",
          "Name: Marian<br>Count: 29",
          "Name: Dwayne<br>Count: 29",
          "Name: Powell<br>Count: 29",
          "Name: Salim<br>Count: 29",
          "Name: Vinnie<br>Count: 29",
          "Name: Vishal<br>Count: 29",
          "Name: Emmett<br>Count: 29",
          "Name: Bella<br>Count: 29",
          "Name: Stacey<br>Count: 29",
          "Name: Rene<br>Count: 29",
          "Name: Monroe<br>Count: 29",
          "Name: Mallory<br>Count: 29",
          "Name: English<br>Count: 29",
          "Name: Gavin<br>Count: 29",
          "Name: Klaus<br>Count: 29",
          "Name: Edwards<br>Count: 29",
          "Name: Gerry<br>Count: 29",
          "Name: Mikey<br>Count: 29",
          "Name: Sunita<br>Count: 29",
          "Name: Peters<br>Count: 29",
          "Name: Durga<br>Count: 29",
          "Name: Jennings<br>Count: 29",
          "Name: Shobha<br>Count: 28",
          "Name: Juliet<br>Count: 28",
          "Name: Bryan<br>Count: 28",
          "Name: Roxanne<br>Count: 28",
          "Name: Hélène<br>Count: 28",
          "Name: Kennedy<br>Count: 28",
          "Name: Gupta<br>Count: 28",
          "Name: Chelsea<br>Count: 28",
          "Name: Jon<br>Count: 28",
          "Name: Kimberly<br>Count: 28",
          "Name: Morrison<br>Count: 28",
          "Name: Darryl<br>Count: 28",
          "Name: Andrews<br>Count: 28",
          "Name: Clifford<br>Count: 28",
          "Name: Trudy<br>Count: 28",
          "Name: Georges<br>Count: 28",
          "Name: Lincoln<br>Count: 28",
          "Name: Erin<br>Count: 28",
          "Name: Mahesh<br>Count: 28",
          "Name: Suman<br>Count: 28",
          "Name: Perkins<br>Count: 28",
          "Name: Nadine<br>Count: 28",
          "Name: Edwin<br>Count: 28",
          "Name: Zach<br>Count: 27",
          "Name: Juliette<br>Count: 27",
          "Name: Manu<br>Count: 27",
          "Name: Suzy<br>Count: 27",
          "Name: Melvin<br>Count: 27",
          "Name: Lorenzo<br>Count: 27",
          "Name: Byron<br>Count: 27",
          "Name: Lala<br>Count: 27",
          "Name: Donnie<br>Count: 27",
          "Name: Liu<br>Count: 27",
          "Name: Simmons<br>Count: 27",
          "Name: Rajiv<br>Count: 27",
          "Name: Eliza<br>Count: 27",
          "Name: Rakesh<br>Count: 27",
          "Name: Ricardo<br>Count: 27",
          "Name: Robby<br>Count: 27",
          "Name: Donny<br>Count: 27",
          "Name: Madre<br>Count: 27",
          "Name: Lorna<br>Count: 27",
          "Name: Muriel<br>Count: 27",
          "Name: Banks<br>Count: 27",
          "Name: Godzilla<br>Count: 27",
          "Name: Chet<br>Count: 27",
          "Name: Belinda<br>Count: 27",
          "Name: Katrina<br>Count: 26",
          "Name: Nell<br>Count: 26",
          "Name: Prasad<br>Count: 26",
          "Name: Elsie<br>Count: 26",
          "Name: Doreen<br>Count: 26",
          "Name: Christy<br>Count: 26",
          "Name: Giovanni<br>Count: 26",
          "Name: Ferdinand<br>Count: 26",
          "Name: Abe<br>Count: 26",
          "Name: Ramon<br>Count: 26",
          "Name: Daniels<br>Count: 26",
          "Name: Josephine<br>Count: 26",
          "Name: Priscilla<br>Count: 26",
          "Name: Otis<br>Count: 26",
          "Name: Callahan<br>Count: 26",
          "Name: Libby<br>Count: 26",
          "Name: Yosemite<br>Count: 26",
          "Name: Reginald<br>Count: 26",
          "Name: Dawson<br>Count: 26",
          "Name: Armand<br>Count: 26",
          "Name: Dino<br>Count: 26",
          "Name: Hilary<br>Count: 26",
          "Name: Pandit<br>Count: 26",
          "Name: Bianca<br>Count: 26",
          "Name: Cassidy<br>Count: 26",
          "Name: Les<br>Count: 26",
          "Name: Suresh<br>Count: 26",
          "Name: Higgins<br>Count: 26",
          "Name: Francine<br>Count: 26",
          "Name: Gabe<br>Count: 26",
          "Name: Damon<br>Count: 26",
          "Name: Tex<br>Count: 25",
          "Name: Liza<br>Count: 25",
          "Name: Luca<br>Count: 25",
          "Name: Sheela<br>Count: 25",
          "Name: Corey<br>Count: 25",
          "Name: Adolf<br>Count: 25",
          "Name: Paris<br>Count: 25",
          "Name: Loretta<br>Count: 25",
          "Name: Whitney<br>Count: 25",
          "Name: Patterson<br>Count: 25",
          "Name: Kishan<br>Count: 25",
          "Name: Ada<br>Count: 25",
          "Name: Ranjit<br>Count: 25",
          "Name: Mann<br>Count: 25",
          "Name: Hilda<br>Count: 25",
          "Name: Lindsey<br>Count: 25",
          "Name: Bryce<br>Count: 25",
          "Name: Chambers<br>Count: 25",
          "Name: Cornelius<br>Count: 25",
          "Name: Barbie<br>Count: 25",
          "Name: Cafe<br>Count: 25",
          "Name: Sabrina<br>Count: 25",
          "Name: Tante<br>Count: 25",
          "Name: Zeke<br>Count: 25",
          "Name: Lucien<br>Count: 25",
          "Name: Boyd<br>Count: 25",
          "Name: Wilbur<br>Count: 25",
          "Name: Conway<br>Count: 25",
          "Name: Lindsay<br>Count: 25",
          "Name: Jonah<br>Count: 25",
          "Name: Emil<br>Count: 25",
          "Name: Shelby<br>Count: 25",
          "Name: Elliott<br>Count: 25",
          "Name: Xavier<br>Count: 25",
          "Name: Donovan<br>Count: 25",
          "Name: Viktor<br>Count: 25",
          "Name: Dominique<br>Count: 24",
          "Name: Ramu<br>Count: 24",
          "Name: Lucia<br>Count: 24",
          "Name: Brittany<br>Count: 24",
          "Name: Amit<br>Count: 24",
          "Name: Aubrey<br>Count: 24",
          "Name: Lu<br>Count: 24",
          "Name: Russ<br>Count: 24",
          "Name: Jeannie<br>Count: 24",
          "Name: Hawkins<br>Count: 24",
          "Name: Scotty<br>Count: 24",
          "Name: Sheetal<br>Count: 24",
          "Name: Salvatore<br>Count: 24",
          "Name: Akash<br>Count: 24",
          "Name: Leroy<br>Count: 24",
          "Name: Mara<br>Count: 24",
          "Name: Lana<br>Count: 24",
          "Name: Sinclair<br>Count: 24",
          "Name: Woods<br>Count: 24",
          "Name: Kara<br>Count: 24",
          "Name: Hanson<br>Count: 24",
          "Name: Coleman<br>Count: 24",
          "Name: Dallas<br>Count: 24",
          "Name: Patsy<br>Count: 24",
          "Name: Wilhelm<br>Count: 24",
          "Name: Luc<br>Count: 24",
          "Name: Gerard<br>Count: 24",
          "Name: Paige<br>Count: 24",
          "Name: Lars<br>Count: 24",
          "Name: Ernst<br>Count: 24",
          "Name: Neville<br>Count: 24",
          "Name: Bertha<br>Count: 24",
          "Name: Lucinda<br>Count: 24",
          "Name: Gillian<br>Count: 24",
          "Name: Aman<br>Count: 24",
          "Name: Vishnu<br>Count: 24",
          "Name: Roma<br>Count: 24",
          "Name: Kristen<br>Count: 24",
          "Name: Garrett<br>Count: 24",
          "Name: Malone<br>Count: 24",
          "Name: Manju<br>Count: 24",
          "Name: Pavel<br>Count: 24",
          "Name: Arnie<br>Count: 24",
          "Name: Rajan<br>Count: 23",
          "Name: Malloy<br>Count: 23",
          "Name: Wilma<br>Count: 23",
          "Name: Rodriguez<br>Count: 23",
          "Name: Willard<br>Count: 23",
          "Name: Dimitri<br>Count: 23",
          "Name: Shalini<br>Count: 23",
          "Name: Julien<br>Count: 23",
          "Name: Doña<br>Count: 23",
          "Name: Munna<br>Count: 23",
          "Name: Sergei<br>Count: 23",
          "Name: Janie<br>Count: 23",
          "Name: Dixon<br>Count: 23",
          "Name: Kabir<br>Count: 23",
          "Name: Val<br>Count: 23",
          "Name: Liam<br>Count: 23",
          "Name: Boyle<br>Count: 23",
          "Name: Gustav<br>Count: 23",
          "Name: Grady<br>Count: 23",
          "Name: Macbeth<br>Count: 23",
          "Name: Elvis<br>Count: 23",
          "Name: Maddy<br>Count: 23",
          "Name: Mills<br>Count: 23",
          "Name: Lili<br>Count: 23",
          "Name: Surya<br>Count: 23",
          "Name: Ranjeet<br>Count: 23",
          "Name: Hubert<br>Count: 23",
          "Name: Richards<br>Count: 23",
          "Name: Lizzie<br>Count: 23",
          "Name: Ganesh<br>Count: 23",
          "Name: Weston<br>Count: 23",
          "Name: Dilip<br>Count: 23",
          "Name: Moneypenny<br>Count: 23",
          "Name: Tracey<br>Count: 23",
          "Name: Ezra<br>Count: 23",
          "Name: Ratan<br>Count: 23",
          "Name: Jefferson<br>Count: 23",
          "Name: Enrique<br>Count: 23",
          "Name: Jude<br>Count: 23",
          "Name: Olsen<br>Count: 23",
          "Name: Felicia<br>Count: 22",
          "Name: Seymour<br>Count: 22",
          "Name: Lawson<br>Count: 22",
          "Name: Alain<br>Count: 22",
          "Name: Prescott<br>Count: 22",
          "Name: Gunther<br>Count: 22",
          "Name: Jyoti<br>Count: 22",
          "Name: Sylvie<br>Count: 22",
          "Name: Kendall<br>Count: 22",
          "Name: Nemo<br>Count: 22",
          "Name: Vance<br>Count: 22",
          "Name: Christie<br>Count: 22",
          "Name: Irma<br>Count: 22",
          "Name: Willem<br>Count: 22",
          "Name: Andreas<br>Count: 22",
          "Name: Helga<br>Count: 22",
          "Name: Gaston<br>Count: 22",
          "Name: Chandni<br>Count: 22",
          "Name: Malti<br>Count: 22",
          "Name: Solomon<br>Count: 22",
          "Name: Winters<br>Count: 22",
          "Name: Sharda<br>Count: 22",
          "Name: Brennan<br>Count: 22",
          "Name: Naina<br>Count: 22",
          "Name: Ernesto<br>Count: 22",
          "Name: Cecilia<br>Count: 22",
          "Name: Indu<br>Count: 22",
          "Name: Nellie<br>Count: 22",
          "Name: Terri<br>Count: 22",
          "Name: Ferguson<br>Count: 22",
          "Name: Sudha<br>Count: 22",
          "Name: Ursula<br>Count: 22",
          "Name: Nathalie<br>Count: 22",
          "Name: Farrell<br>Count: 22",
          "Name: Antony<br>Count: 22",
          "Name: Magda<br>Count: 22",
          "Name: Bea<br>Count: 22",
          "Name: Sita<br>Count: 22",
          "Name: Felipe<br>Count: 22",
          "Name: Shelley<br>Count: 22",
          "Name: Trixie<br>Count: 22",
          "Name: Annabelle<br>Count: 21",
          "Name: Padma<br>Count: 21",
          "Name: Thelma<br>Count: 21",
          "Name: Jaya<br>Count: 21",
          "Name: Harding<br>Count: 21",
          "Name: Thor<br>Count: 21",
          "Name: Jeanette<br>Count: 21",
          "Name: Mercedes<br>Count: 21",
          "Name: Sonja<br>Count: 21",
          "Name: Mathur<br>Count: 21",
          "Name: Renu<br>Count: 21",
          "Name: Xiao<br>Count: 21",
          "Name: Loomis<br>Count: 21",
          "Name: Anwar<br>Count: 21",
          "Name: Lucius<br>Count: 21",
          "Name: José<br>Count: 21",
          "Name: Johan<br>Count: 21",
          "Name: Huang<br>Count: 21",
          "Name: Hammond<br>Count: 21",
          "Name: Nino<br>Count: 21",
          "Name: Vincenzo<br>Count: 21",
          "Name: Esteban<br>Count: 21",
          "Name: André<br>Count: 21",
          "Name: Hansen<br>Count: 21",
          "Name: Leopold<br>Count: 21",
          "Name: Debra<br>Count: 21",
          "Name: Harley<br>Count: 21",
          "Name: Anju<br>Count: 21",
          "Name: Harmon<br>Count: 21",
          "Name: Lonnie<br>Count: 21",
          "Name: Zeus<br>Count: 21"
         ],
         "line": {
          "color": "skyblue"
         },
         "mode": "lines+markers",
         "name": "Character Count",
         "type": "scatter",
         "x": [
          "John",
          "George",
          "Tom",
          "David",
          "Paul",
          "James",
          "Michael",
          "Robert",
          "Jim",
          "Charlie",
          "Richard",
          "Charles",
          "William",
          "Sarah",
          "Thomas",
          "Steve",
          "Eddie",
          "Alex",
          "Max",
          "Helen",
          "Alice",
          "Susan",
          "Johnny",
          "Kate",
          "Danny",
          "Julie",
          "Arthur",
          "Elizabeth",
          "Rachel",
          "Chris",
          "Dave",
          "Lisa",
          "Simon",
          "Joseph",
          "Daniel",
          "Claire",
          "Barbara",
          "Karen",
          "Kevin",
          "Jason",
          "Fred",
          "Marie",
          "Linda",
          "Annie",
          "Anne",
          "Brian",
          "Ed",
          "Phil",
          "Adam",
          "Maggie",
          "Andy",
          "Margaret",
          "Emily",
          "Jones",
          "Roy",
          "Moe",
          "Tim",
          "Matt",
          "Louis",
          "Edward",
          "Scott",
          "Howard",
          "Jennifer",
          "Ellen",
          "Sara",
          "Angela",
          "Johnson",
          "Mickey",
          "Charlotte",
          "Julia",
          "Vijay",
          "Martha",
          "Philip",
          "Ryan",
          "Louise",
          "Andrew",
          "Gloria",
          "Albert",
          "Wilson",
          "Samantha",
          "Jessica",
          "Gary",
          "Harold",
          "Amanda",
          "Taylor",
          "Catherine",
          "Jonathan",
          "Diane",
          "Kid",
          "Anthony",
          "Tina",
          "Lou",
          "Bugs",
          "Jackson",
          "Gordon",
          "Sean",
          "Alexander",
          "Leo",
          "Karl",
          "Sophie",
          "Dennis",
          "Jackie",
          "Donald",
          "Katie",
          "Patrick",
          "Rebecca",
          "Priya",
          "Jill",
          "Wendy",
          "Frankie",
          "Joan",
          "Francis",
          "Stephen",
          "Stanley",
          "Ravi",
          "Marty",
          "Doug",
          "Eva",
          "Nicole",
          "Nina",
          "Judy",
          "Carlos",
          "Christine",
          "Norman",
          "Williams",
          "Connie",
          "Radha",
          "Raymond",
          "Oliver",
          "Ron",
          "Marcus",
          "Samuel",
          "Michelle",
          "Gus",
          "Jacob",
          "Stan",
          "Diana",
          "Matthew",
          "Pierre",
          "Pooja",
          "Davis",
          "Monica",
          "Vikram",
          "Sonia",
          "Cindy",
          "Ivan",
          "Russell",
          "Janet",
          "Jamie",
          "Gina",
          "Katherine",
          "Todd",
          "Bruce",
          "Greg",
          "Dorothy",
          "Juan",
          "Jesse",
          "Sharon",
          "Nora",
          "Lawrence",
          "Leslie",
          "Christopher",
          "Liz",
          "Hannah",
          "Jan",
          "Victoria",
          "Ajay",
          "Carla",
          "Ali",
          "Derek",
          "Debbie",
          "Anjali",
          "Tracy",
          "Neil",
          "Sandra",
          "Miles",
          "Harris",
          "Tanya",
          "Sylvia",
          "Felix",
          "Wayne",
          "Gwen",
          "Paula",
          "Lola",
          "Anita",
          "Harvey",
          "Sheila",
          "Nicholas",
          "Stephanie",
          "Cynthia",
          "Kenny",
          "Douglas",
          "Natalie",
          "Nathan",
          "Bernard",
          "Evelyn",
          "Ricky",
          "Mitch",
          "Justin",
          "Shankar",
          "Ned",
          "Craig",
          "Marshall",
          "Il",
          "Maurice",
          "Brenda",
          "Ashley",
          "Vicky",
          "Denise",
          "Alfred",
          "Kumar",
          "Tyler",
          "Kathy",
          "Casey",
          "Patricia",
          "Ian",
          "Vanessa",
          "Hans",
          "Anderson",
          "Lynn",
          "Antonio",
          "Rosa",
          "Oscar",
          "Lloyd",
          "Rahul",
          "Arnold",
          "Freddy",
          "Karan",
          "Teresa",
          "Lauren",
          "Joyce",
          "Leon",
          "Teddy",
          "Leonard",
          "Andrea",
          "Jeremy",
          "Melissa",
          "Mama",
          "Thompson",
          "Allen",
          "Frau",
          "Doris",
          "Ronnie",
          "Marion",
          "Jessie",
          "Veronica",
          "Pamela",
          "Audrey",
          "Valerie",
          "Mitchell",
          "Bruno",
          "Becky",
          "Gabriel",
          "Keith",
          "Suzanne",
          "Raju",
          "Allison",
          "Abby",
          "Elena",
          "Carmen",
          "Girlfriend",
          "Clara",
          "Ernie",
          "Ashok",
          "Rosie",
          "Lenny",
          "Megan",
          "Eugene",
          "Evans",
          "Lester",
          "Angie",
          "Carrie",
          "Julian",
          "Bonnie",
          "Chloe",
          "Olivia",
          "Janice",
          "Vic",
          "Abraham",
          "Malcolm",
          "Mohan",
          "Vince",
          "Nikki",
          "Marvin",
          "Hunter",
          "Herbert",
          "Virginia",
          "Aaron",
          "Eleanor",
          "Santa",
          "Vivian",
          "Ethan",
          "Brooke",
          "Christian",
          "Anand",
          "Edgar",
          "Krishna",
          "Claude",
          "Mario",
          "Natasha",
          "Shanti",
          "Claudia",
          "Shekhar",
          "Lena",
          "Wallace",
          "Sebastian",
          "Anton",
          "Curtis",
          "Ellie",
          "Cathy",
          "Adams",
          "Polly",
          "Olga",
          "Miguel",
          "Prem",
          "Nigel",
          "Herman",
          "Watson",
          "Gail",
          "Zoe",
          "Bernie",
          "Shirley",
          "Hal",
          "Noah",
          "Miranda",
          "Gregory",
          "Winston",
          "Lucas",
          "Kenneth",
          "Elliot",
          "von",
          "Laurie",
          "Boris",
          "Randall",
          "Jai",
          "Owen",
          "Geeta",
          "Nisha",
          "Seema",
          "Sid",
          "Henri",
          "Ronald",
          "Hugo",
          "Alicia",
          "Sapna",
          "Phillip",
          "Frances",
          "Cheryl",
          "Bert",
          "April",
          "Cameron",
          "Lakshmi",
          "Lydia",
          "Joanna",
          "Shyam",
          "Ernest",
          "Freddie",
          "Dana",
          "Duncan",
          "Carson",
          "Marianne",
          "Roberts",
          "Jesus",
          "Rudy",
          "Kapoor",
          "Suraj",
          "Asha",
          "Jacques",
          "Frederick",
          "Esther",
          "Sullivan",
          "Lillian",
          "Judith",
          "Calvin",
          "Hugh",
          "Agnes",
          "Susie",
          "mère",
          "Luther",
          "Harrison",
          "Andre",
          "Dylan",
          "Sidney",
          "Isabel",
          "Von",
          "Joel",
          "Sasha",
          "Gerald",
          "Clyde",
          "Bennett",
          "Mandy",
          "Beatrice",
          "Theresa",
          "Jose",
          "Wanda",
          "Stuart",
          "Percy",
          "Angelo",
          "Malhotra",
          "Hamilton",
          "Franz",
          "Kurt",
          "Miriam",
          "Chen",
          "Fiona",
          "Mia",
          "Isabelle",
          "Der",
          "Mabel",
          "Meena",
          "Phyllis",
          "Preston",
          "Constance",
          "Yvonne",
          "Adrian",
          "Richie",
          "Gopal",
          "Melanie",
          "Lois",
          "Omar",
          "Zack",
          "Simone",
          "Lilly",
          "Edith",
          "Jeffrey",
          "Campbell",
          "Antoine",
          "Erica",
          "Trevor",
          "Harriet",
          "Helena",
          "Jeanne",
          "Dolores",
          "Moore",
          "François",
          "Marilyn",
          "Rogers",
          "Roland",
          "Stevens",
          "Rajesh",
          "Maureen",
          "Carlo",
          "Mimi",
          "Julius",
          "Daphne",
          "Philippe",
          "Mme",
          "Sadie",
          "Parvati",
          "Holmes",
          "Christmas",
          "Kathleen",
          "Brandon",
          "Luis",
          "Manuel",
          "Vernon",
          "Stewart",
          "Madeleine",
          "Celia",
          "Eli",
          "Joshua",
          "Elmer",
          "Boyfriend",
          "Deborah",
          "Elsa",
          "Charley",
          "Evan",
          "Clarence",
          "Pauline",
          "Alexandra",
          "Meg",
          "Prakash",
          "Phillips",
          "Laxmi",
          "Sanjay",
          "Gauri",
          "Marjorie",
          "Theodore",
          "Beverly",
          "Madhu",
          "Murray",
          "Virgil",
          "Abdul",
          "Floyd",
          "Carolyn",
          "Ella",
          "Jonas",
          "Danielle",
          "Robinson",
          "Ramesh",
          "Stacy",
          "Jules",
          "Bridget",
          "Fanny",
          "Kiran",
          "Eileen",
          "Reggie",
          "Pratap",
          "Logan",
          "Nandini",
          "Rohit",
          "Betsy",
          "Isabella",
          "Quinn",
          "Jenkins",
          "Darcy",
          "Courtney",
          "Trish",
          "Archie",
          "Raoul",
          "Deepak",
          "Neha",
          "Arun",
          "Penelope",
          "Brady",
          "Sandhya",
          "Benson",
          "Robbie",
          "Isaac",
          "Dracula",
          "Brooks",
          "Edna",
          "Shane",
          "Gertrude",
          "Bart",
          "Sharma",
          "Christina",
          "Voices",
          "Wyatt",
          "Del",
          "Michel",
          "Clayton",
          "Ingrid",
          "Doyle",
          "Jorge",
          "Darren",
          "Dora",
          "Leah",
          "Stu",
          "Horace",
          "Vinod",
          "Cody",
          "Barnes",
          "Ida",
          "Billie",
          "Lyle",
          "Nate",
          "Hayes",
          "Aarti",
          "Aditya",
          "Kane",
          "Hudson",
          "Dominic",
          "Annette",
          "Lucille",
          "Conrad",
          "Vicki",
          "père",
          "Rhonda",
          "Madison",
          "Sameer",
          "Roberto",
          "Trent",
          "Nolan",
          "Shiva",
          "Greta",
          "Lila",
          "Gladys",
          "Rekha",
          "Sunil",
          "Herr",
          "Jamal",
          "Joanne",
          "Toni",
          "Stanton",
          "Henderson",
          "Diego",
          "Raghu",
          "Devi",
          "Fran",
          "Luigi",
          "Chandra",
          "Fritz",
          "Biker",
          "Sofia",
          "Bradley",
          "Georgia",
          "Sydney",
          "Stefan",
          "Ahmed",
          "Peterson",
          "Rupert",
          "Meenakshi",
          "Margo",
          "Gil",
          "Naomi",
          "Choi",
          "Jerome",
          "Meredith",
          "Glenn",
          "Wells",
          "Blanche",
          "Burns",
          "Erik",
          "Moses",
          "Geoffrey",
          "Millie",
          "Roberta",
          "Louie",
          "Crawford",
          "Verma",
          "Marcia",
          "Montgomery",
          "Javier",
          "Jensen",
          "Kamini",
          "Lorraine",
          "Austin",
          "Meera",
          "Igor",
          "Finn",
          "Marta",
          "Yu",
          "Saxena",
          "Ellis",
          "Wesley",
          "Divya",
          "Sherman",
          "Briggs",
          "Milton",
          "Dwight",
          "Anu",
          "Elisabeth",
          "Renee",
          "Georgie",
          "Ajit",
          "Savitri",
          "Rico",
          "Hari",
          "Mildred",
          "Preeti",
          "Quentin",
          "Regina",
          "Suzie",
          "Siddharth",
          "Reynolds",
          "Francesca",
          "Harlan",
          "Dante",
          "Matthews",
          "Damien",
          "Lara",
          "Fernando",
          "Angus",
          "Tarzan",
          "Elise",
          "Serena",
          "Monty",
          "Rai",
          "Agatha",
          "Nadia",
          "Camille",
          "Jen",
          "Gabrielle",
          "Tess",
          "Wes",
          "Randolph",
          "Jared",
          "Yuri",
          "Ira",
          "Alexis",
          "Roman",
          "Theo",
          "Flynn",
          "Adele",
          "Alvin",
          "Madge",
          "Sanjana",
          "Timmy",
          "Monique",
          "Francisco",
          "Gretchen",
          "Simpson",
          "Morton",
          "Havaldar",
          "Cecil",
          "Amos",
          "Abel",
          "Gopi",
          "Alberto",
          "Bates",
          "Artie",
          "Josef",
          "Cassandra",
          "Kirby",
          "Khanna",
          "Werner",
          "Willis",
          "Cookie",
          "Wu",
          "Stevie",
          "Janine",
          "Roopa",
          "Romeo",
          "Shannon",
          "Margot",
          "Rama",
          "Connor",
          "Chan",
          "Marian",
          "Dwayne",
          "Powell",
          "Salim",
          "Vinnie",
          "Vishal",
          "Emmett",
          "Bella",
          "Stacey",
          "Rene",
          "Monroe",
          "Mallory",
          "English",
          "Gavin",
          "Klaus",
          "Edwards",
          "Gerry",
          "Mikey",
          "Sunita",
          "Peters",
          "Durga",
          "Jennings",
          "Shobha",
          "Juliet",
          "Bryan",
          "Roxanne",
          "Hélène",
          "Kennedy",
          "Gupta",
          "Chelsea",
          "Jon",
          "Kimberly",
          "Morrison",
          "Darryl",
          "Andrews",
          "Clifford",
          "Trudy",
          "Georges",
          "Lincoln",
          "Erin",
          "Mahesh",
          "Suman",
          "Perkins",
          "Nadine",
          "Edwin",
          "Zach",
          "Juliette",
          "Manu",
          "Suzy",
          "Melvin",
          "Lorenzo",
          "Byron",
          "Lala",
          "Donnie",
          "Liu",
          "Simmons",
          "Rajiv",
          "Eliza",
          "Rakesh",
          "Ricardo",
          "Robby",
          "Donny",
          "Madre",
          "Lorna",
          "Muriel",
          "Banks",
          "Godzilla",
          "Chet",
          "Belinda",
          "Katrina",
          "Nell",
          "Prasad",
          "Elsie",
          "Doreen",
          "Christy",
          "Giovanni",
          "Ferdinand",
          "Abe",
          "Ramon",
          "Daniels",
          "Josephine",
          "Priscilla",
          "Otis",
          "Callahan",
          "Libby",
          "Yosemite",
          "Reginald",
          "Dawson",
          "Armand",
          "Dino",
          "Hilary",
          "Pandit",
          "Bianca",
          "Cassidy",
          "Les",
          "Suresh",
          "Higgins",
          "Francine",
          "Gabe",
          "Damon",
          "Tex",
          "Liza",
          "Luca",
          "Sheela",
          "Corey",
          "Adolf",
          "Paris",
          "Loretta",
          "Whitney",
          "Patterson",
          "Kishan",
          "Ada",
          "Ranjit",
          "Mann",
          "Hilda",
          "Lindsey",
          "Bryce",
          "Chambers",
          "Cornelius",
          "Barbie",
          "Cafe",
          "Sabrina",
          "Tante",
          "Zeke",
          "Lucien",
          "Boyd",
          "Wilbur",
          "Conway",
          "Lindsay",
          "Jonah",
          "Emil",
          "Shelby",
          "Elliott",
          "Xavier",
          "Donovan",
          "Viktor",
          "Dominique",
          "Ramu",
          "Lucia",
          "Brittany",
          "Amit",
          "Aubrey",
          "Lu",
          "Russ",
          "Jeannie",
          "Hawkins",
          "Scotty",
          "Sheetal",
          "Salvatore",
          "Akash",
          "Leroy",
          "Mara",
          "Lana",
          "Sinclair",
          "Woods",
          "Kara",
          "Hanson",
          "Coleman",
          "Dallas",
          "Patsy",
          "Wilhelm",
          "Luc",
          "Gerard",
          "Paige",
          "Lars",
          "Ernst",
          "Neville",
          "Bertha",
          "Lucinda",
          "Gillian",
          "Aman",
          "Vishnu",
          "Roma",
          "Kristen",
          "Garrett",
          "Malone",
          "Manju",
          "Pavel",
          "Arnie",
          "Rajan",
          "Malloy",
          "Wilma",
          "Rodriguez",
          "Willard",
          "Dimitri",
          "Shalini",
          "Julien",
          "Doña",
          "Munna",
          "Sergei",
          "Janie",
          "Dixon",
          "Kabir",
          "Val",
          "Liam",
          "Boyle",
          "Gustav",
          "Grady",
          "Macbeth",
          "Elvis",
          "Maddy",
          "Mills",
          "Lili",
          "Surya",
          "Ranjeet",
          "Hubert",
          "Richards",
          "Lizzie",
          "Ganesh",
          "Weston",
          "Dilip",
          "Moneypenny",
          "Tracey",
          "Ezra",
          "Ratan",
          "Jefferson",
          "Enrique",
          "Jude",
          "Olsen",
          "Felicia",
          "Seymour",
          "Lawson",
          "Alain",
          "Prescott",
          "Gunther",
          "Jyoti",
          "Sylvie",
          "Kendall",
          "Nemo",
          "Vance",
          "Christie",
          "Irma",
          "Willem",
          "Andreas",
          "Helga",
          "Gaston",
          "Chandni",
          "Malti",
          "Solomon",
          "Winters",
          "Sharda",
          "Brennan",
          "Naina",
          "Ernesto",
          "Cecilia",
          "Indu",
          "Nellie",
          "Terri",
          "Ferguson",
          "Sudha",
          "Ursula",
          "Nathalie",
          "Farrell",
          "Antony",
          "Magda",
          "Bea",
          "Sita",
          "Felipe",
          "Shelley",
          "Trixie",
          "Annabelle",
          "Padma",
          "Thelma",
          "Jaya",
          "Harding",
          "Thor",
          "Jeanette",
          "Mercedes",
          "Sonja",
          "Mathur",
          "Renu",
          "Xiao",
          "Loomis",
          "Anwar",
          "Lucius",
          "José",
          "Johan",
          "Huang",
          "Hammond",
          "Nino",
          "Vincenzo",
          "Esteban",
          "André",
          "Hansen",
          "Leopold",
          "Debra",
          "Harley",
          "Anju",
          "Harmon",
          "Lonnie",
          "Zeus"
         ],
         "y": [
          1305,
          621,
          591,
          567,
          531,
          513,
          505,
          451,
          428,
          422,
          401,
          396,
          384,
          371,
          331,
          317,
          307,
          305,
          300,
          294,
          292,
          283,
          280,
          268,
          262,
          260,
          259,
          259,
          248,
          229,
          229,
          229,
          220,
          213,
          207,
          205,
          204,
          203,
          201,
          201,
          199,
          199,
          197,
          196,
          196,
          196,
          194,
          192,
          191,
          191,
          186,
          184,
          182,
          176,
          174,
          174,
          174,
          173,
          167,
          167,
          167,
          165,
          154,
          152,
          151,
          149,
          148,
          147,
          147,
          146,
          146,
          146,
          145,
          143,
          143,
          141,
          140,
          139,
          137,
          136,
          136,
          134,
          133,
          133,
          133,
          132,
          131,
          131,
          129,
          128,
          127,
          127,
          125,
          122,
          121,
          121,
          121,
          120,
          119,
          119,
          118,
          117,
          116,
          116,
          116,
          116,
          115,
          114,
          114,
          113,
          113,
          112,
          112,
          112,
          112,
          112,
          111,
          111,
          111,
          111,
          111,
          110,
          110,
          108,
          106,
          105,
          105,
          105,
          104,
          104,
          104,
          103,
          102,
          102,
          102,
          102,
          101,
          101,
          101,
          101,
          101,
          100,
          99,
          99,
          98,
          98,
          97,
          96,
          96,
          96,
          96,
          95,
          95,
          95,
          94,
          94,
          94,
          93,
          93,
          92,
          92,
          92,
          92,
          92,
          92,
          91,
          91,
          90,
          90,
          89,
          89,
          88,
          88,
          88,
          88,
          87,
          87,
          87,
          87,
          86,
          86,
          85,
          84,
          84,
          84,
          83,
          83,
          83,
          83,
          83,
          83,
          83,
          82,
          82,
          82,
          82,
          81,
          81,
          81,
          81,
          81,
          81,
          80,
          80,
          80,
          80,
          79,
          79,
          79,
          78,
          78,
          78,
          78,
          77,
          77,
          77,
          77,
          77,
          77,
          76,
          75,
          75,
          75,
          74,
          74,
          74,
          74,
          74,
          73,
          73,
          73,
          72,
          72,
          72,
          72,
          72,
          71,
          71,
          71,
          71,
          71,
          71,
          71,
          70,
          70,
          70,
          70,
          70,
          70,
          69,
          69,
          69,
          69,
          68,
          68,
          68,
          68,
          68,
          68,
          68,
          68,
          67,
          67,
          67,
          67,
          67,
          67,
          66,
          65,
          65,
          65,
          65,
          65,
          65,
          65,
          64,
          64,
          64,
          64,
          64,
          64,
          64,
          63,
          63,
          63,
          63,
          63,
          63,
          63,
          63,
          62,
          62,
          62,
          62,
          62,
          62,
          62,
          62,
          61,
          61,
          61,
          61,
          61,
          60,
          60,
          60,
          60,
          60,
          60,
          60,
          59,
          59,
          58,
          58,
          58,
          58,
          57,
          57,
          57,
          57,
          56,
          56,
          56,
          56,
          56,
          56,
          56,
          56,
          56,
          56,
          55,
          55,
          55,
          55,
          55,
          55,
          55,
          55,
          55,
          54,
          54,
          54,
          54,
          54,
          54,
          54,
          54,
          54,
          54,
          53,
          53,
          53,
          53,
          53,
          53,
          53,
          52,
          52,
          52,
          52,
          52,
          52,
          52,
          52,
          52,
          52,
          52,
          52,
          51,
          51,
          51,
          51,
          51,
          51,
          50,
          50,
          50,
          50,
          50,
          50,
          50,
          50,
          50,
          50,
          50,
          50,
          50,
          50,
          50,
          49,
          49,
          49,
          49,
          49,
          49,
          49,
          49,
          49,
          48,
          48,
          48,
          48,
          48,
          48,
          48,
          48,
          47,
          47,
          47,
          47,
          47,
          47,
          47,
          47,
          47,
          47,
          47,
          47,
          47,
          47,
          46,
          46,
          46,
          46,
          46,
          46,
          46,
          46,
          46,
          46,
          46,
          45,
          45,
          45,
          45,
          45,
          45,
          45,
          45,
          45,
          45,
          45,
          45,
          44,
          44,
          44,
          44,
          44,
          44,
          44,
          44,
          44,
          44,
          44,
          44,
          44,
          44,
          44,
          43,
          43,
          43,
          43,
          43,
          43,
          43,
          43,
          43,
          43,
          43,
          43,
          43,
          42,
          42,
          42,
          42,
          42,
          42,
          42,
          42,
          42,
          42,
          42,
          42,
          42,
          42,
          42,
          42,
          41,
          41,
          41,
          41,
          41,
          41,
          41,
          41,
          41,
          41,
          41,
          41,
          41,
          40,
          40,
          40,
          40,
          40,
          40,
          40,
          40,
          40,
          40,
          40,
          40,
          40,
          40,
          39,
          39,
          39,
          39,
          38,
          38,
          38,
          38,
          38,
          38,
          38,
          38,
          38,
          38,
          38,
          38,
          38,
          38,
          38,
          38,
          38,
          38,
          37,
          37,
          37,
          37,
          37,
          37,
          37,
          37,
          37,
          37,
          37,
          37,
          37,
          37,
          36,
          36,
          36,
          36,
          36,
          36,
          36,
          36,
          36,
          36,
          36,
          36,
          36,
          36,
          36,
          36,
          36,
          36,
          35,
          35,
          35,
          35,
          35,
          35,
          35,
          35,
          35,
          35,
          35,
          35,
          35,
          35,
          35,
          35,
          35,
          35,
          35,
          35,
          35,
          35,
          35,
          35,
          34,
          34,
          34,
          34,
          34,
          34,
          34,
          34,
          34,
          34,
          34,
          34,
          33,
          33,
          33,
          33,
          33,
          33,
          33,
          33,
          33,
          33,
          33,
          33,
          33,
          33,
          33,
          33,
          33,
          33,
          33,
          32,
          32,
          32,
          32,
          32,
          32,
          32,
          32,
          32,
          32,
          32,
          32,
          32,
          32,
          32,
          32,
          32,
          32,
          32,
          32,
          32,
          32,
          32,
          32,
          31,
          31,
          31,
          31,
          31,
          31,
          31,
          31,
          31,
          31,
          31,
          31,
          31,
          31,
          31,
          31,
          31,
          31,
          31,
          31,
          31,
          31,
          31,
          31,
          31,
          31,
          30,
          30,
          30,
          30,
          30,
          30,
          30,
          30,
          30,
          30,
          30,
          30,
          30,
          30,
          30,
          30,
          30,
          30,
          30,
          30,
          30,
          30,
          30,
          30,
          30,
          30,
          30,
          30,
          30,
          30,
          30,
          30,
          30,
          30,
          30,
          30,
          29,
          29,
          29,
          29,
          29,
          29,
          29,
          29,
          29,
          29,
          29,
          29,
          29,
          29,
          29,
          29,
          29,
          29,
          29,
          29,
          29,
          29,
          28,
          28,
          28,
          28,
          28,
          28,
          28,
          28,
          28,
          28,
          28,
          28,
          28,
          28,
          28,
          28,
          28,
          28,
          28,
          28,
          28,
          28,
          28,
          27,
          27,
          27,
          27,
          27,
          27,
          27,
          27,
          27,
          27,
          27,
          27,
          27,
          27,
          27,
          27,
          27,
          27,
          27,
          27,
          27,
          27,
          27,
          27,
          26,
          26,
          26,
          26,
          26,
          26,
          26,
          26,
          26,
          26,
          26,
          26,
          26,
          26,
          26,
          26,
          26,
          26,
          26,
          26,
          26,
          26,
          26,
          26,
          26,
          26,
          26,
          26,
          26,
          26,
          26,
          25,
          25,
          25,
          25,
          25,
          25,
          25,
          25,
          25,
          25,
          25,
          25,
          25,
          25,
          25,
          25,
          25,
          25,
          25,
          25,
          25,
          25,
          25,
          25,
          25,
          25,
          25,
          25,
          25,
          25,
          25,
          25,
          25,
          25,
          25,
          25,
          24,
          24,
          24,
          24,
          24,
          24,
          24,
          24,
          24,
          24,
          24,
          24,
          24,
          24,
          24,
          24,
          24,
          24,
          24,
          24,
          24,
          24,
          24,
          24,
          24,
          24,
          24,
          24,
          24,
          24,
          24,
          24,
          24,
          24,
          24,
          24,
          24,
          24,
          24,
          24,
          24,
          24,
          24,
          23,
          23,
          23,
          23,
          23,
          23,
          23,
          23,
          23,
          23,
          23,
          23,
          23,
          23,
          23,
          23,
          23,
          23,
          23,
          23,
          23,
          23,
          23,
          23,
          23,
          23,
          23,
          23,
          23,
          23,
          23,
          23,
          23,
          23,
          23,
          23,
          23,
          23,
          23,
          23,
          22,
          22,
          22,
          22,
          22,
          22,
          22,
          22,
          22,
          22,
          22,
          22,
          22,
          22,
          22,
          22,
          22,
          22,
          22,
          22,
          22,
          22,
          22,
          22,
          22,
          22,
          22,
          22,
          22,
          22,
          22,
          22,
          22,
          22,
          22,
          22,
          22,
          22,
          22,
          22,
          22,
          21,
          21,
          21,
          21,
          21,
          21,
          21,
          21,
          21,
          21,
          21,
          21,
          21,
          21,
          21,
          21,
          21,
          21,
          21,
          21,
          21,
          21,
          21,
          21,
          21,
          21,
          21,
          21,
          21,
          21,
          21
         ]
        }
       ],
       "layout": {
        "template": {
         "data": {
          "bar": [
           {
            "error_x": {
             "color": "#2a3f5f"
            },
            "error_y": {
             "color": "#2a3f5f"
            },
            "marker": {
             "line": {
              "color": "#E5ECF6",
              "width": 0.5
             },
             "pattern": {
              "fillmode": "overlay",
              "size": 10,
              "solidity": 0.2
             }
            },
            "type": "bar"
           }
          ],
          "barpolar": [
           {
            "marker": {
             "line": {
              "color": "#E5ECF6",
              "width": 0.5
             },
             "pattern": {
              "fillmode": "overlay",
              "size": 10,
              "solidity": 0.2
             }
            },
            "type": "barpolar"
           }
          ],
          "carpet": [
           {
            "aaxis": {
             "endlinecolor": "#2a3f5f",
             "gridcolor": "white",
             "linecolor": "white",
             "minorgridcolor": "white",
             "startlinecolor": "#2a3f5f"
            },
            "baxis": {
             "endlinecolor": "#2a3f5f",
             "gridcolor": "white",
             "linecolor": "white",
             "minorgridcolor": "white",
             "startlinecolor": "#2a3f5f"
            },
            "type": "carpet"
           }
          ],
          "choropleth": [
           {
            "colorbar": {
             "outlinewidth": 0,
             "ticks": ""
            },
            "type": "choropleth"
           }
          ],
          "contour": [
           {
            "colorbar": {
             "outlinewidth": 0,
             "ticks": ""
            },
            "colorscale": [
             [
              0,
              "#0d0887"
             ],
             [
              0.1111111111111111,
              "#46039f"
             ],
             [
              0.2222222222222222,
              "#7201a8"
             ],
             [
              0.3333333333333333,
              "#9c179e"
             ],
             [
              0.4444444444444444,
              "#bd3786"
             ],
             [
              0.5555555555555556,
              "#d8576b"
             ],
             [
              0.6666666666666666,
              "#ed7953"
             ],
             [
              0.7777777777777778,
              "#fb9f3a"
             ],
             [
              0.8888888888888888,
              "#fdca26"
             ],
             [
              1,
              "#f0f921"
             ]
            ],
            "type": "contour"
           }
          ],
          "contourcarpet": [
           {
            "colorbar": {
             "outlinewidth": 0,
             "ticks": ""
            },
            "type": "contourcarpet"
           }
          ],
          "heatmap": [
           {
            "colorbar": {
             "outlinewidth": 0,
             "ticks": ""
            },
            "colorscale": [
             [
              0,
              "#0d0887"
             ],
             [
              0.1111111111111111,
              "#46039f"
             ],
             [
              0.2222222222222222,
              "#7201a8"
             ],
             [
              0.3333333333333333,
              "#9c179e"
             ],
             [
              0.4444444444444444,
              "#bd3786"
             ],
             [
              0.5555555555555556,
              "#d8576b"
             ],
             [
              0.6666666666666666,
              "#ed7953"
             ],
             [
              0.7777777777777778,
              "#fb9f3a"
             ],
             [
              0.8888888888888888,
              "#fdca26"
             ],
             [
              1,
              "#f0f921"
             ]
            ],
            "type": "heatmap"
           }
          ],
          "heatmapgl": [
           {
            "colorbar": {
             "outlinewidth": 0,
             "ticks": ""
            },
            "colorscale": [
             [
              0,
              "#0d0887"
             ],
             [
              0.1111111111111111,
              "#46039f"
             ],
             [
              0.2222222222222222,
              "#7201a8"
             ],
             [
              0.3333333333333333,
              "#9c179e"
             ],
             [
              0.4444444444444444,
              "#bd3786"
             ],
             [
              0.5555555555555556,
              "#d8576b"
             ],
             [
              0.6666666666666666,
              "#ed7953"
             ],
             [
              0.7777777777777778,
              "#fb9f3a"
             ],
             [
              0.8888888888888888,
              "#fdca26"
             ],
             [
              1,
              "#f0f921"
             ]
            ],
            "type": "heatmapgl"
           }
          ],
          "histogram": [
           {
            "marker": {
             "pattern": {
              "fillmode": "overlay",
              "size": 10,
              "solidity": 0.2
             }
            },
            "type": "histogram"
           }
          ],
          "histogram2d": [
           {
            "colorbar": {
             "outlinewidth": 0,
             "ticks": ""
            },
            "colorscale": [
             [
              0,
              "#0d0887"
             ],
             [
              0.1111111111111111,
              "#46039f"
             ],
             [
              0.2222222222222222,
              "#7201a8"
             ],
             [
              0.3333333333333333,
              "#9c179e"
             ],
             [
              0.4444444444444444,
              "#bd3786"
             ],
             [
              0.5555555555555556,
              "#d8576b"
             ],
             [
              0.6666666666666666,
              "#ed7953"
             ],
             [
              0.7777777777777778,
              "#fb9f3a"
             ],
             [
              0.8888888888888888,
              "#fdca26"
             ],
             [
              1,
              "#f0f921"
             ]
            ],
            "type": "histogram2d"
           }
          ],
          "histogram2dcontour": [
           {
            "colorbar": {
             "outlinewidth": 0,
             "ticks": ""
            },
            "colorscale": [
             [
              0,
              "#0d0887"
             ],
             [
              0.1111111111111111,
              "#46039f"
             ],
             [
              0.2222222222222222,
              "#7201a8"
             ],
             [
              0.3333333333333333,
              "#9c179e"
             ],
             [
              0.4444444444444444,
              "#bd3786"
             ],
             [
              0.5555555555555556,
              "#d8576b"
             ],
             [
              0.6666666666666666,
              "#ed7953"
             ],
             [
              0.7777777777777778,
              "#fb9f3a"
             ],
             [
              0.8888888888888888,
              "#fdca26"
             ],
             [
              1,
              "#f0f921"
             ]
            ],
            "type": "histogram2dcontour"
           }
          ],
          "mesh3d": [
           {
            "colorbar": {
             "outlinewidth": 0,
             "ticks": ""
            },
            "type": "mesh3d"
           }
          ],
          "parcoords": [
           {
            "line": {
             "colorbar": {
              "outlinewidth": 0,
              "ticks": ""
             }
            },
            "type": "parcoords"
           }
          ],
          "pie": [
           {
            "automargin": true,
            "type": "pie"
           }
          ],
          "scatter": [
           {
            "fillpattern": {
             "fillmode": "overlay",
             "size": 10,
             "solidity": 0.2
            },
            "type": "scatter"
           }
          ],
          "scatter3d": [
           {
            "line": {
             "colorbar": {
              "outlinewidth": 0,
              "ticks": ""
             }
            },
            "marker": {
             "colorbar": {
              "outlinewidth": 0,
              "ticks": ""
             }
            },
            "type": "scatter3d"
           }
          ],
          "scattercarpet": [
           {
            "marker": {
             "colorbar": {
              "outlinewidth": 0,
              "ticks": ""
             }
            },
            "type": "scattercarpet"
           }
          ],
          "scattergeo": [
           {
            "marker": {
             "colorbar": {
              "outlinewidth": 0,
              "ticks": ""
             }
            },
            "type": "scattergeo"
           }
          ],
          "scattergl": [
           {
            "marker": {
             "colorbar": {
              "outlinewidth": 0,
              "ticks": ""
             }
            },
            "type": "scattergl"
           }
          ],
          "scattermapbox": [
           {
            "marker": {
             "colorbar": {
              "outlinewidth": 0,
              "ticks": ""
             }
            },
            "type": "scattermapbox"
           }
          ],
          "scatterpolar": [
           {
            "marker": {
             "colorbar": {
              "outlinewidth": 0,
              "ticks": ""
             }
            },
            "type": "scatterpolar"
           }
          ],
          "scatterpolargl": [
           {
            "marker": {
             "colorbar": {
              "outlinewidth": 0,
              "ticks": ""
             }
            },
            "type": "scatterpolargl"
           }
          ],
          "scatterternary": [
           {
            "marker": {
             "colorbar": {
              "outlinewidth": 0,
              "ticks": ""
             }
            },
            "type": "scatterternary"
           }
          ],
          "surface": [
           {
            "colorbar": {
             "outlinewidth": 0,
             "ticks": ""
            },
            "colorscale": [
             [
              0,
              "#0d0887"
             ],
             [
              0.1111111111111111,
              "#46039f"
             ],
             [
              0.2222222222222222,
              "#7201a8"
             ],
             [
              0.3333333333333333,
              "#9c179e"
             ],
             [
              0.4444444444444444,
              "#bd3786"
             ],
             [
              0.5555555555555556,
              "#d8576b"
             ],
             [
              0.6666666666666666,
              "#ed7953"
             ],
             [
              0.7777777777777778,
              "#fb9f3a"
             ],
             [
              0.8888888888888888,
              "#fdca26"
             ],
             [
              1,
              "#f0f921"
             ]
            ],
            "type": "surface"
           }
          ],
          "table": [
           {
            "cells": {
             "fill": {
              "color": "#EBF0F8"
             },
             "line": {
              "color": "white"
             }
            },
            "header": {
             "fill": {
              "color": "#C8D4E3"
             },
             "line": {
              "color": "white"
             }
            },
            "type": "table"
           }
          ]
         },
         "layout": {
          "annotationdefaults": {
           "arrowcolor": "#2a3f5f",
           "arrowhead": 0,
           "arrowwidth": 1
          },
          "autotypenumbers": "strict",
          "coloraxis": {
           "colorbar": {
            "outlinewidth": 0,
            "ticks": ""
           }
          },
          "colorscale": {
           "diverging": [
            [
             0,
             "#8e0152"
            ],
            [
             0.1,
             "#c51b7d"
            ],
            [
             0.2,
             "#de77ae"
            ],
            [
             0.3,
             "#f1b6da"
            ],
            [
             0.4,
             "#fde0ef"
            ],
            [
             0.5,
             "#f7f7f7"
            ],
            [
             0.6,
             "#e6f5d0"
            ],
            [
             0.7,
             "#b8e186"
            ],
            [
             0.8,
             "#7fbc41"
            ],
            [
             0.9,
             "#4d9221"
            ],
            [
             1,
             "#276419"
            ]
           ],
           "sequential": [
            [
             0,
             "#0d0887"
            ],
            [
             0.1111111111111111,
             "#46039f"
            ],
            [
             0.2222222222222222,
             "#7201a8"
            ],
            [
             0.3333333333333333,
             "#9c179e"
            ],
            [
             0.4444444444444444,
             "#bd3786"
            ],
            [
             0.5555555555555556,
             "#d8576b"
            ],
            [
             0.6666666666666666,
             "#ed7953"
            ],
            [
             0.7777777777777778,
             "#fb9f3a"
            ],
            [
             0.8888888888888888,
             "#fdca26"
            ],
            [
             1,
             "#f0f921"
            ]
           ],
           "sequentialminus": [
            [
             0,
             "#0d0887"
            ],
            [
             0.1111111111111111,
             "#46039f"
            ],
            [
             0.2222222222222222,
             "#7201a8"
            ],
            [
             0.3333333333333333,
             "#9c179e"
            ],
            [
             0.4444444444444444,
             "#bd3786"
            ],
            [
             0.5555555555555556,
             "#d8576b"
            ],
            [
             0.6666666666666666,
             "#ed7953"
            ],
            [
             0.7777777777777778,
             "#fb9f3a"
            ],
            [
             0.8888888888888888,
             "#fdca26"
            ],
            [
             1,
             "#f0f921"
            ]
           ]
          },
          "colorway": [
           "#636efa",
           "#EF553B",
           "#00cc96",
           "#ab63fa",
           "#FFA15A",
           "#19d3f3",
           "#FF6692",
           "#B6E880",
           "#FF97FF",
           "#FECB52"
          ],
          "font": {
           "color": "#2a3f5f"
          },
          "geo": {
           "bgcolor": "white",
           "lakecolor": "white",
           "landcolor": "#E5ECF6",
           "showlakes": true,
           "showland": true,
           "subunitcolor": "white"
          },
          "hoverlabel": {
           "align": "left"
          },
          "hovermode": "closest",
          "mapbox": {
           "style": "light"
          },
          "paper_bgcolor": "white",
          "plot_bgcolor": "#E5ECF6",
          "polar": {
           "angularaxis": {
            "gridcolor": "white",
            "linecolor": "white",
            "ticks": ""
           },
           "bgcolor": "#E5ECF6",
           "radialaxis": {
            "gridcolor": "white",
            "linecolor": "white",
            "ticks": ""
           }
          },
          "scene": {
           "xaxis": {
            "backgroundcolor": "#E5ECF6",
            "gridcolor": "white",
            "gridwidth": 2,
            "linecolor": "white",
            "showbackground": true,
            "ticks": "",
            "zerolinecolor": "white"
           },
           "yaxis": {
            "backgroundcolor": "#E5ECF6",
            "gridcolor": "white",
            "gridwidth": 2,
            "linecolor": "white",
            "showbackground": true,
            "ticks": "",
            "zerolinecolor": "white"
           },
           "zaxis": {
            "backgroundcolor": "#E5ECF6",
            "gridcolor": "white",
            "gridwidth": 2,
            "linecolor": "white",
            "showbackground": true,
            "ticks": "",
            "zerolinecolor": "white"
           }
          },
          "shapedefaults": {
           "line": {
            "color": "#2a3f5f"
           }
          },
          "ternary": {
           "aaxis": {
            "gridcolor": "white",
            "linecolor": "white",
            "ticks": ""
           },
           "baxis": {
            "gridcolor": "white",
            "linecolor": "white",
            "ticks": ""
           },
           "bgcolor": "#E5ECF6",
           "caxis": {
            "gridcolor": "white",
            "linecolor": "white",
            "ticks": ""
           }
          },
          "title": {
           "x": 0.05
          },
          "xaxis": {
           "automargin": true,
           "gridcolor": "white",
           "linecolor": "white",
           "ticks": "",
           "title": {
            "standoff": 15
           },
           "zerolinecolor": "white",
           "zerolinewidth": 2
          },
          "yaxis": {
           "automargin": true,
           "gridcolor": "white",
           "linecolor": "white",
           "ticks": "",
           "title": {
            "standoff": 15
           },
           "zerolinecolor": "white",
           "zerolinewidth": 2
          }
         }
        },
        "title": {
         "text": "Count of Most Popular Character Names"
        },
        "xaxis": {
         "tickangle": 45,
         "title": {
          "text": "Character Name"
         }
        },
        "yaxis": {
         "title": {
          "text": "Count"
         }
        }
       }
      }
     },
     "metadata": {},
     "output_type": "display_data"
    }
   ],
   "source": [
    "name_counts = df_char_cleaned['Character_name'].value_counts()\n",
    "top_100_names = name_counts.head(1000)\n",
    "\n",
    "# Creating the interactive line plot with hover information\n",
    "fig = go.Figure()\n",
    "\n",
    "# Adding trace for the line plot with hover text\n",
    "fig.add_trace(go.Scatter(\n",
    "    x=top_100_names.index,\n",
    "    y=top_100_names.values,\n",
    "    mode='lines+markers',\n",
    "    name='Character Count',\n",
    "    line=dict(color='skyblue'),\n",
    "    hovertext=[f\"Name: {name}<br>Count: {count}\" for name, count in zip(top_100_names.index, top_100_names.values)],\n",
    "    hoverinfo=\"text\"\n",
    "))\n",
    "\n",
    "# Setting up layout for the figure\n",
    "fig.update_layout(\n",
    "    title='Count of Most Popular Character Names',\n",
    "    xaxis_title='Character Name',\n",
    "    yaxis_title='Count',\n",
    "    xaxis=dict(tickangle=45)\n",
    ")\n",
    "\n",
    "fig.show()"
   ]
  },
  {
   "cell_type": "markdown",
   "metadata": {},
   "source": [
    "## Movie Genre Analysis"
   ]
  },
  {
   "cell_type": "code",
   "execution_count": 106,
   "metadata": {},
   "outputs": [],
   "source": [
    "#Let's make a list of the genres we are interested in and assign one of them to each character\n",
    "genres_list = ['Action & Adventure', 'Drama', 'Comedy', 'Horror & Thriller', \n",
    "              'Fantasy & Sci-Fi', 'Historical & War', 'Romance', 'Documentary', \n",
    "              'Music & Performance', 'Cult & B-Movies', 'Other']\n",
    "df_char_cleaned['Genre_Category'] = df_char_cleaned['Genres'].apply(lambda x: categorize_genre(x))"
   ]
  },
  {
   "cell_type": "code",
   "execution_count": 107,
   "metadata": {},
   "outputs": [],
   "source": [
    "#Let's see the most frequent names in each genre and for each gender\n",
    "frequent_names_m, frequent_names_f = get_top_names_by_genre(df_char_cleaned)"
   ]
  },
  {
   "cell_type": "code",
   "execution_count": 108,
   "metadata": {},
   "outputs": [
    {
     "data": {
      "text/html": [
       "<div>\n",
       "<style scoped>\n",
       "    .dataframe tbody tr th:only-of-type {\n",
       "        vertical-align: middle;\n",
       "    }\n",
       "\n",
       "    .dataframe tbody tr th {\n",
       "        vertical-align: top;\n",
       "    }\n",
       "\n",
       "    .dataframe thead th {\n",
       "        text-align: right;\n",
       "    }\n",
       "</style>\n",
       "<table border=\"1\" class=\"dataframe\">\n",
       "  <thead>\n",
       "    <tr style=\"text-align: right;\">\n",
       "      <th></th>\n",
       "      <th>Action &amp; Adventure</th>\n",
       "      <th>Drama</th>\n",
       "      <th>Comedy</th>\n",
       "      <th>Horror &amp; Thriller</th>\n",
       "      <th>Fantasy &amp; Sci-Fi</th>\n",
       "      <th>Historical &amp; War</th>\n",
       "      <th>Romance</th>\n",
       "      <th>Documentary</th>\n",
       "      <th>Music &amp; Performance</th>\n",
       "      <th>Cult &amp; B-Movies</th>\n",
       "      <th>Other</th>\n",
       "    </tr>\n",
       "  </thead>\n",
       "  <tbody>\n",
       "    <tr>\n",
       "      <th>0</th>\n",
       "      <td>Sarah</td>\n",
       "      <td>Sarah</td>\n",
       "      <td>Sarah</td>\n",
       "      <td>Sarah</td>\n",
       "      <td>Susan</td>\n",
       "      <td>Elizabeth</td>\n",
       "      <td>Sarah</td>\n",
       "      <td>Elizabeth</td>\n",
       "      <td>Pooja</td>\n",
       "      <td>Sarah</td>\n",
       "      <td>Radha</td>\n",
       "    </tr>\n",
       "    <tr>\n",
       "      <th>1</th>\n",
       "      <td>Susan</td>\n",
       "      <td>Helen</td>\n",
       "      <td>Kate</td>\n",
       "      <td>Rachel</td>\n",
       "      <td>Alice</td>\n",
       "      <td>Sarah</td>\n",
       "      <td>Helen</td>\n",
       "      <td>Margaret</td>\n",
       "      <td>Priya</td>\n",
       "      <td>Helen</td>\n",
       "      <td>Rachel</td>\n",
       "    </tr>\n",
       "    <tr>\n",
       "      <th>2</th>\n",
       "      <td>Alice</td>\n",
       "      <td>Alice</td>\n",
       "      <td>Julie</td>\n",
       "      <td>Susan</td>\n",
       "      <td>Sarah</td>\n",
       "      <td>Anne</td>\n",
       "      <td>Elizabeth</td>\n",
       "      <td>Helen</td>\n",
       "      <td>Anjali</td>\n",
       "      <td>Kate</td>\n",
       "      <td>Pooja</td>\n",
       "    </tr>\n",
       "    <tr>\n",
       "      <th>3</th>\n",
       "      <td>Rachel</td>\n",
       "      <td>Susan</td>\n",
       "      <td>Alice</td>\n",
       "      <td>Alice</td>\n",
       "      <td>Elizabeth</td>\n",
       "      <td>Helen</td>\n",
       "      <td>Julie</td>\n",
       "      <td>Barbara</td>\n",
       "      <td>Tina</td>\n",
       "      <td>Rachel</td>\n",
       "      <td>Priya</td>\n",
       "    </tr>\n",
       "    <tr>\n",
       "      <th>4</th>\n",
       "      <td>Lisa</td>\n",
       "      <td>Elizabeth</td>\n",
       "      <td>Susan</td>\n",
       "      <td>Karen</td>\n",
       "      <td>Claire</td>\n",
       "      <td>Margaret</td>\n",
       "      <td>Susan</td>\n",
       "      <td>Marie</td>\n",
       "      <td>Julie</td>\n",
       "      <td>Alice</td>\n",
       "      <td>Shanti</td>\n",
       "    </tr>\n",
       "  </tbody>\n",
       "</table>\n",
       "</div>"
      ],
      "text/plain": [
       "  Action & Adventure      Drama Comedy Horror & Thriller Fantasy & Sci-Fi  \\\n",
       "0              Sarah      Sarah  Sarah             Sarah            Susan   \n",
       "1              Susan      Helen   Kate            Rachel            Alice   \n",
       "2              Alice      Alice  Julie             Susan            Sarah   \n",
       "3             Rachel      Susan  Alice             Alice        Elizabeth   \n",
       "4               Lisa  Elizabeth  Susan             Karen           Claire   \n",
       "\n",
       "  Historical & War    Romance Documentary Music & Performance Cult & B-Movies  \\\n",
       "0        Elizabeth      Sarah   Elizabeth               Pooja           Sarah   \n",
       "1            Sarah      Helen    Margaret               Priya           Helen   \n",
       "2             Anne  Elizabeth       Helen              Anjali            Kate   \n",
       "3            Helen      Julie     Barbara                Tina          Rachel   \n",
       "4         Margaret      Susan       Marie               Julie           Alice   \n",
       "\n",
       "    Other  \n",
       "0   Radha  \n",
       "1  Rachel  \n",
       "2   Pooja  \n",
       "3   Priya  \n",
       "4  Shanti  "
      ]
     },
     "execution_count": 108,
     "metadata": {},
     "output_type": "execute_result"
    }
   ],
   "source": [
    "frequent_names_f.head(5)"
   ]
  },
  {
   "cell_type": "code",
   "execution_count": 109,
   "metadata": {},
   "outputs": [
    {
     "data": {
      "text/html": [
       "<div>\n",
       "<style scoped>\n",
       "    .dataframe tbody tr th:only-of-type {\n",
       "        vertical-align: middle;\n",
       "    }\n",
       "\n",
       "    .dataframe tbody tr th {\n",
       "        vertical-align: top;\n",
       "    }\n",
       "\n",
       "    .dataframe thead th {\n",
       "        text-align: right;\n",
       "    }\n",
       "</style>\n",
       "<table border=\"1\" class=\"dataframe\">\n",
       "  <thead>\n",
       "    <tr style=\"text-align: right;\">\n",
       "      <th></th>\n",
       "      <th>Action &amp; Adventure</th>\n",
       "      <th>Drama</th>\n",
       "      <th>Comedy</th>\n",
       "      <th>Horror &amp; Thriller</th>\n",
       "      <th>Fantasy &amp; Sci-Fi</th>\n",
       "      <th>Historical &amp; War</th>\n",
       "      <th>Romance</th>\n",
       "      <th>Documentary</th>\n",
       "      <th>Music &amp; Performance</th>\n",
       "      <th>Cult &amp; B-Movies</th>\n",
       "      <th>Other</th>\n",
       "    </tr>\n",
       "  </thead>\n",
       "  <tbody>\n",
       "    <tr>\n",
       "      <th>0</th>\n",
       "      <td>John</td>\n",
       "      <td>John</td>\n",
       "      <td>John</td>\n",
       "      <td>John</td>\n",
       "      <td>John</td>\n",
       "      <td>John</td>\n",
       "      <td>John</td>\n",
       "      <td>John</td>\n",
       "      <td>John</td>\n",
       "      <td>John</td>\n",
       "      <td>John</td>\n",
       "    </tr>\n",
       "    <tr>\n",
       "      <th>1</th>\n",
       "      <td>Tom</td>\n",
       "      <td>David</td>\n",
       "      <td>George</td>\n",
       "      <td>Michael</td>\n",
       "      <td>George</td>\n",
       "      <td>William</td>\n",
       "      <td>Paul</td>\n",
       "      <td>George</td>\n",
       "      <td>George</td>\n",
       "      <td>Tom</td>\n",
       "      <td>George</td>\n",
       "    </tr>\n",
       "    <tr>\n",
       "      <th>2</th>\n",
       "      <td>James</td>\n",
       "      <td>George</td>\n",
       "      <td>Tom</td>\n",
       "      <td>David</td>\n",
       "      <td>David</td>\n",
       "      <td>George</td>\n",
       "      <td>David</td>\n",
       "      <td>Robert</td>\n",
       "      <td>Paul</td>\n",
       "      <td>David</td>\n",
       "      <td>Christmas</td>\n",
       "    </tr>\n",
       "    <tr>\n",
       "      <th>3</th>\n",
       "      <td>David</td>\n",
       "      <td>Tom</td>\n",
       "      <td>Paul</td>\n",
       "      <td>Tom</td>\n",
       "      <td>Tom</td>\n",
       "      <td>Robert</td>\n",
       "      <td>George</td>\n",
       "      <td>William</td>\n",
       "      <td>Vijay</td>\n",
       "      <td>George</td>\n",
       "      <td>Mickey</td>\n",
       "    </tr>\n",
       "    <tr>\n",
       "      <th>4</th>\n",
       "      <td>George</td>\n",
       "      <td>Paul</td>\n",
       "      <td>Charlie</td>\n",
       "      <td>Paul</td>\n",
       "      <td>James</td>\n",
       "      <td>Charles</td>\n",
       "      <td>Tom</td>\n",
       "      <td>Charles</td>\n",
       "      <td>Shekhar</td>\n",
       "      <td>Paul</td>\n",
       "      <td>James</td>\n",
       "    </tr>\n",
       "  </tbody>\n",
       "</table>\n",
       "</div>"
      ],
      "text/plain": [
       "  Action & Adventure   Drama   Comedy Horror & Thriller Fantasy & Sci-Fi  \\\n",
       "0               John    John     John              John             John   \n",
       "1                Tom   David   George           Michael           George   \n",
       "2              James  George      Tom             David            David   \n",
       "3              David     Tom     Paul               Tom              Tom   \n",
       "4             George    Paul  Charlie              Paul            James   \n",
       "\n",
       "  Historical & War Romance Documentary Music & Performance Cult & B-Movies  \\\n",
       "0             John    John        John                John            John   \n",
       "1          William    Paul      George              George             Tom   \n",
       "2           George   David      Robert                Paul           David   \n",
       "3           Robert  George     William               Vijay          George   \n",
       "4          Charles     Tom     Charles             Shekhar            Paul   \n",
       "\n",
       "       Other  \n",
       "0       John  \n",
       "1     George  \n",
       "2  Christmas  \n",
       "3     Mickey  \n",
       "4      James  "
      ]
     },
     "execution_count": 109,
     "metadata": {},
     "output_type": "execute_result"
    }
   ],
   "source": [
    "frequent_names_m.head(5)"
   ]
  },
  {
   "cell_type": "code",
   "execution_count": 110,
   "metadata": {},
   "outputs": [
    {
     "data": {
      "text/html": [
       "<div>\n",
       "<style scoped>\n",
       "    .dataframe tbody tr th:only-of-type {\n",
       "        vertical-align: middle;\n",
       "    }\n",
       "\n",
       "    .dataframe tbody tr th {\n",
       "        vertical-align: top;\n",
       "    }\n",
       "\n",
       "    .dataframe thead th {\n",
       "        text-align: right;\n",
       "    }\n",
       "</style>\n",
       "<table border=\"1\" class=\"dataframe\">\n",
       "  <thead>\n",
       "    <tr style=\"text-align: right;\">\n",
       "      <th></th>\n",
       "      <th>Action &amp; Adventure</th>\n",
       "      <th>Drama</th>\n",
       "      <th>Comedy</th>\n",
       "      <th>Horror &amp; Thriller</th>\n",
       "      <th>Fantasy &amp; Sci-Fi</th>\n",
       "      <th>Historical &amp; War</th>\n",
       "      <th>Romance</th>\n",
       "      <th>Documentary</th>\n",
       "      <th>Music &amp; Performance</th>\n",
       "      <th>Cult &amp; B-Movies</th>\n",
       "      <th>Other</th>\n",
       "    </tr>\n",
       "  </thead>\n",
       "  <tbody>\n",
       "    <tr>\n",
       "      <th>0</th>\n",
       "      <td>57</td>\n",
       "      <td>75</td>\n",
       "      <td>46</td>\n",
       "      <td>39</td>\n",
       "      <td>16</td>\n",
       "      <td>14</td>\n",
       "      <td>27</td>\n",
       "      <td>5</td>\n",
       "      <td>4</td>\n",
       "      <td>18</td>\n",
       "      <td>1</td>\n",
       "    </tr>\n",
       "  </tbody>\n",
       "</table>\n",
       "</div>"
      ],
      "text/plain": [
       "   Action & Adventure  Drama  Comedy  Horror & Thriller  Fantasy & Sci-Fi  \\\n",
       "0                  57     75      46                 39                16   \n",
       "\n",
       "   Historical & War  Romance  Documentary  Music & Performance  \\\n",
       "0                14       27            5                    4   \n",
       "\n",
       "   Cult & B-Movies  Other  \n",
       "0               18      1  "
      ]
     },
     "execution_count": 110,
     "metadata": {},
     "output_type": "execute_result"
    }
   ],
   "source": [
    "#Now, let's see the number of appearences of each name in our dataset, and in which genres they appear\n",
    "genre_counts_result, movies_with_name = count_name_appearance_by_genre(df_char_cleaned, genres_list, 'Leo')\n",
    "genre_counts_result.head()"
   ]
  },
  {
   "cell_type": "code",
   "execution_count": 111,
   "metadata": {},
   "outputs": [
    {
     "data": {
      "text/html": [
       "<div>\n",
       "<style scoped>\n",
       "    .dataframe tbody tr th:only-of-type {\n",
       "        vertical-align: middle;\n",
       "    }\n",
       "\n",
       "    .dataframe tbody tr th {\n",
       "        vertical-align: top;\n",
       "    }\n",
       "\n",
       "    .dataframe thead th {\n",
       "        text-align: right;\n",
       "    }\n",
       "</style>\n",
       "<table border=\"1\" class=\"dataframe\">\n",
       "  <thead>\n",
       "    <tr style=\"text-align: right;\">\n",
       "      <th></th>\n",
       "      <th>Wikipedia_ID</th>\n",
       "      <th>Name</th>\n",
       "      <th>Languages</th>\n",
       "      <th>Country</th>\n",
       "      <th>Genres</th>\n",
       "      <th>Character_name</th>\n",
       "      <th>Sex</th>\n",
       "      <th>Actor_age</th>\n",
       "      <th>Genre_Category</th>\n",
       "    </tr>\n",
       "  </thead>\n",
       "  <tbody>\n",
       "    <tr>\n",
       "      <th>466</th>\n",
       "      <td>21271533</td>\n",
       "      <td>Bleeder</td>\n",
       "      <td>[Danish Language]</td>\n",
       "      <td>[Denmark]</td>\n",
       "      <td>[Thriller, Drama]</td>\n",
       "      <td>Leo</td>\n",
       "      <td>M</td>\n",
       "      <td>34.0</td>\n",
       "      <td>[Action &amp; Adventure, Horror &amp; Thriller, Drama]</td>\n",
       "    </tr>\n",
       "    <tr>\n",
       "      <th>487</th>\n",
       "      <td>17379289</td>\n",
       "      <td>Without Warning</td>\n",
       "      <td>[English Language]</td>\n",
       "      <td>[United States of America]</td>\n",
       "      <td>[Science Fiction, Horror]</td>\n",
       "      <td>Leo</td>\n",
       "      <td>M</td>\n",
       "      <td>60.0</td>\n",
       "      <td>[Fantasy &amp; Sci-Fi, Horror &amp; Thriller]</td>\n",
       "    </tr>\n",
       "    <tr>\n",
       "      <th>2026</th>\n",
       "      <td>13934307</td>\n",
       "      <td>Mammoth</td>\n",
       "      <td>[Tagalog language, English Language, Thai Lang...</td>\n",
       "      <td>[Denmark, Sweden, Germany]</td>\n",
       "      <td>[Drama, Indie, World cinema]</td>\n",
       "      <td>Leo</td>\n",
       "      <td>M</td>\n",
       "      <td>30.0</td>\n",
       "      <td>[Drama, Cult &amp; B-Movies]</td>\n",
       "    </tr>\n",
       "    <tr>\n",
       "      <th>5098</th>\n",
       "      <td>277710</td>\n",
       "      <td>Heartbreakers</td>\n",
       "      <td>[Russian Language, English Language]</td>\n",
       "      <td>[United States of America]</td>\n",
       "      <td>[Crime Fiction, Romantic comedy, Romance Film,...</td>\n",
       "      <td>Leo</td>\n",
       "      <td>M</td>\n",
       "      <td>45.0</td>\n",
       "      <td>[Comedy, Romance]</td>\n",
       "    </tr>\n",
       "    <tr>\n",
       "      <th>5962</th>\n",
       "      <td>21845518</td>\n",
       "      <td>Seis días en la oscuridad</td>\n",
       "      <td>[Spanish Language]</td>\n",
       "      <td>[Mexico]</td>\n",
       "      <td>[Thriller, Crime Fiction, Drama]</td>\n",
       "      <td>Leo</td>\n",
       "      <td>M</td>\n",
       "      <td>NaN</td>\n",
       "      <td>[Action &amp; Adventure, Horror &amp; Thriller, Drama]</td>\n",
       "    </tr>\n",
       "  </tbody>\n",
       "</table>\n",
       "</div>"
      ],
      "text/plain": [
       "      Wikipedia_ID                       Name  \\\n",
       "466       21271533                    Bleeder   \n",
       "487       17379289            Without Warning   \n",
       "2026      13934307                    Mammoth   \n",
       "5098        277710              Heartbreakers   \n",
       "5962      21845518  Seis días en la oscuridad   \n",
       "\n",
       "                                              Languages  \\\n",
       "466                                   [Danish Language]   \n",
       "487                                  [English Language]   \n",
       "2026  [Tagalog language, English Language, Thai Lang...   \n",
       "5098               [Russian Language, English Language]   \n",
       "5962                                 [Spanish Language]   \n",
       "\n",
       "                         Country  \\\n",
       "466                    [Denmark]   \n",
       "487   [United States of America]   \n",
       "2026  [Denmark, Sweden, Germany]   \n",
       "5098  [United States of America]   \n",
       "5962                    [Mexico]   \n",
       "\n",
       "                                                 Genres Character_name Sex  \\\n",
       "466                                   [Thriller, Drama]            Leo   M   \n",
       "487                           [Science Fiction, Horror]            Leo   M   \n",
       "2026                       [Drama, Indie, World cinema]            Leo   M   \n",
       "5098  [Crime Fiction, Romantic comedy, Romance Film,...            Leo   M   \n",
       "5962                   [Thriller, Crime Fiction, Drama]            Leo   M   \n",
       "\n",
       "      Actor_age                                  Genre_Category  \n",
       "466        34.0  [Action & Adventure, Horror & Thriller, Drama]  \n",
       "487        60.0           [Fantasy & Sci-Fi, Horror & Thriller]  \n",
       "2026       30.0                        [Drama, Cult & B-Movies]  \n",
       "5098       45.0                               [Comedy, Romance]  \n",
       "5962        NaN  [Action & Adventure, Horror & Thriller, Drama]  "
      ]
     },
     "execution_count": 111,
     "metadata": {},
     "output_type": "execute_result"
    }
   ],
   "source": [
    "movies_with_name.head(5)"
   ]
  },
  {
   "cell_type": "markdown",
   "metadata": {},
   "source": [
    "On va "
   ]
  },
  {
   "cell_type": "code",
   "execution_count": 112,
   "metadata": {},
   "outputs": [
    {
     "name": "stdout",
     "output_type": "stream",
     "text": [
      "Chi2 Stat: 10929.588681328192\n",
      "P-Value: 1.0\n",
      "Degrees of Freedom: 20063\n",
      "Expected Frequencies:\n",
      "[[0.61837349 0.38162651]\n",
      " [0.61837349 0.38162651]\n",
      " [0.61837349 0.38162651]\n",
      " ...\n",
      " [0.61837349 0.38162651]\n",
      " [0.61837349 0.38162651]\n",
      " [1.23674697 0.76325303]]\n"
     ]
    }
   ],
   "source": [
    "# Filtrer les lignes où le genre inclut \"Thriller\"\n",
    "horror_thriller_df = df_char_cleaned[df_char_cleaned['Genre_Category'].apply(lambda genres: 'Horror & Thriller' in genres)]\n",
    "horror_thriller_merged_df = horror_thriller_df.groupby('Character_name').size().reset_index(name='Horror & Thriller Count')\n",
    "\n",
    "action_adventure_df = df_char_cleaned[df_char_cleaned['Genre_Category'].apply(lambda genres: 'Action & Adventure' in genres)]\n",
    "action_adventure_merged_df = action_adventure_df.groupby('Character_name').size().reset_index(name='Action & Adventure Count')\n",
    "\n",
    "\n",
    "# Grouper par 'Character_name' et compter le nombre d'occurrences\n",
    "merged_df = pd.merge(\n",
    "    action_adventure_merged_df, \n",
    "    horror_thriller_merged_df, \n",
    "    on='Character_name', \n",
    "    how='outer'  # Use outer join to include all names\n",
    ")\n",
    "\n",
    "merged_df = merged_df.fillna(0)\n",
    "\n",
    "from scipy.stats import chi2_contingency\n",
    "\n",
    "contingency_table = merged_df.drop(columns=['Character_name']).values\n",
    "\n",
    "chi2, p, dof, expected = chi2_contingency(contingency_table)\n",
    "\n",
    "print(f\"Chi2 Stat: {chi2}\")\n",
    "print(f\"P-Value: {p}\")\n",
    "print(f\"Degrees of Freedom: {dof}\")\n",
    "print(\"Expected Frequencies:\")\n",
    "print(expected)"
   ]
  },
  {
   "cell_type": "markdown",
   "metadata": {},
   "source": [
    "## Gender Analysis"
   ]
  },
  {
   "cell_type": "code",
   "execution_count": 113,
   "metadata": {},
   "outputs": [
    {
     "name": "stdout",
     "output_type": "stream",
     "text": [
      "Stats for vowels in character names by sex:\n"
     ]
    },
    {
     "data": {
      "text/html": [
       "<div>\n",
       "<style scoped>\n",
       "    .dataframe tbody tr th:only-of-type {\n",
       "        vertical-align: middle;\n",
       "    }\n",
       "\n",
       "    .dataframe tbody tr th {\n",
       "        vertical-align: top;\n",
       "    }\n",
       "\n",
       "    .dataframe thead th {\n",
       "        text-align: right;\n",
       "    }\n",
       "</style>\n",
       "<table border=\"1\" class=\"dataframe\">\n",
       "  <thead>\n",
       "    <tr style=\"text-align: right;\">\n",
       "      <th></th>\n",
       "      <th>mean</th>\n",
       "      <th>std</th>\n",
       "    </tr>\n",
       "    <tr>\n",
       "      <th>Sex</th>\n",
       "      <th></th>\n",
       "      <th></th>\n",
       "    </tr>\n",
       "  </thead>\n",
       "  <tbody>\n",
       "    <tr>\n",
       "      <th>F</th>\n",
       "      <td>2.712791</td>\n",
       "      <td>0.819139</td>\n",
       "    </tr>\n",
       "    <tr>\n",
       "      <th>M</th>\n",
       "      <td>2.408568</td>\n",
       "      <td>0.890082</td>\n",
       "    </tr>\n",
       "  </tbody>\n",
       "</table>\n",
       "</div>"
      ],
      "text/plain": [
       "         mean       std\n",
       "Sex                    \n",
       "F    2.712791  0.819139\n",
       "M    2.408568  0.890082"
      ]
     },
     "execution_count": 113,
     "metadata": {},
     "output_type": "execute_result"
    }
   ],
   "source": [
    "df_vowels, df_consonants = get_vowel_stats(df_char_cleaned)\n",
    "\n",
    "print('Stats for vowels in character names by sex:')\n",
    "df_vowels.head()"
   ]
  },
  {
   "cell_type": "code",
   "execution_count": 114,
   "metadata": {},
   "outputs": [
    {
     "name": "stdout",
     "output_type": "stream",
     "text": [
      "Stats for consonants in character names by sex:\n"
     ]
    },
    {
     "data": {
      "text/html": [
       "<div>\n",
       "<style scoped>\n",
       "    .dataframe tbody tr th:only-of-type {\n",
       "        vertical-align: middle;\n",
       "    }\n",
       "\n",
       "    .dataframe tbody tr th {\n",
       "        vertical-align: top;\n",
       "    }\n",
       "\n",
       "    .dataframe thead th {\n",
       "        text-align: right;\n",
       "    }\n",
       "</style>\n",
       "<table border=\"1\" class=\"dataframe\">\n",
       "  <thead>\n",
       "    <tr style=\"text-align: right;\">\n",
       "      <th></th>\n",
       "      <th>mean</th>\n",
       "      <th>std</th>\n",
       "    </tr>\n",
       "    <tr>\n",
       "      <th>Sex</th>\n",
       "      <th></th>\n",
       "      <th></th>\n",
       "    </tr>\n",
       "  </thead>\n",
       "  <tbody>\n",
       "    <tr>\n",
       "      <th>F</th>\n",
       "      <td>3.348056</td>\n",
       "      <td>1.253225</td>\n",
       "    </tr>\n",
       "    <tr>\n",
       "      <th>M</th>\n",
       "      <td>3.669876</td>\n",
       "      <td>1.356432</td>\n",
       "    </tr>\n",
       "  </tbody>\n",
       "</table>\n",
       "</div>"
      ],
      "text/plain": [
       "         mean       std\n",
       "Sex                    \n",
       "F    3.348056  1.253225\n",
       "M    3.669876  1.356432"
      ]
     },
     "execution_count": 114,
     "metadata": {},
     "output_type": "execute_result"
    }
   ],
   "source": [
    "print('Stats for consonants in character names by sex:')\n",
    "df_consonants.head()"
   ]
  },
  {
   "cell_type": "code",
   "execution_count": 115,
   "metadata": {},
   "outputs": [
    {
     "data": {
      "image/png": "[encoded data removed]",
      "text/plain": [
       "<Figure size 1400x600 with 2 Axes>"
      ]
     },
     "metadata": {},
     "output_type": "display_data"
    }
   ],
   "source": [
    "fig, axes = plt.subplots(1, 2, figsize=(14, 6))\n",
    "\n",
    "# Boxplot for vowel count by sex\n",
    "sns.boxenplot(data=df_char_cleaned, x='Sex', y='vowel_count', ax=axes[0])\n",
    "axes[0].set_title('Vowel Count by Sex')\n",
    "axes[0].set_xlabel('Gender')\n",
    "axes[0].set_ylabel('Vowel Count')\n",
    "\n",
    "# Boxplot for consonant count by sex\n",
    "sns.boxenplot(data=df_char_cleaned, x='Sex', y='consonant_count', ax=axes[1])\n",
    "axes[1].set_title('Consonant Count by Sex')\n",
    "axes[1].set_xlabel('Gender')\n",
    "axes[1].set_ylabel('Consonant Count')\n",
    "\n",
    "plt.tight_layout()"
   ]
  },
  {
   "cell_type": "code",
   "execution_count": 116,
   "metadata": {},
   "outputs": [
    {
     "name": "stdout",
     "output_type": "stream",
     "text": [
      "Length stats for character names by sex:\n",
      "         mean       std\n",
      "Sex                    \n",
      "F    6.060847  1.653263\n",
      "M    6.078445  1.849723\n"
     ]
    }
   ],
   "source": [
    "df_length = get_length_stats(df_char_cleaned)\n",
    "\n",
    "print('Length stats for character names by sex:')\n",
    "print(df_length)"
   ]
  },
  {
   "cell_type": "code",
   "execution_count": 117,
   "metadata": {},
   "outputs": [
    {
     "name": "stdout",
     "output_type": "stream",
     "text": [
      "Vowel percentage stats for character names by sex:\n",
      "         mean       std\n",
      "Sex                    \n",
      "F    0.455334  0.107061\n",
      "M    0.401031  0.107929\n"
     ]
    }
   ],
   "source": [
    "df_percent_vowel = get_vowel_percentage(df_char_cleaned)\n",
    "\n",
    "print('Vowel percentage stats for character names by sex:')\n",
    "print(df_percent_vowel)"
   ]
  },
  {
   "cell_type": "code",
   "execution_count": 118,
   "metadata": {},
   "outputs": [],
   "source": [
    "first_letter_counts = create_letter_count_df(df_char_cleaned,0)\n",
    "last_letter_counts = create_letter_count_df(df_char_cleaned,-1)"
   ]
  },
  {
   "cell_type": "code",
   "execution_count": 119,
   "metadata": {},
   "outputs": [
    {
     "data": {
      "image/png": "[encoded data removed]",
      "text/plain": [
       "<Figure size 2000x700 with 1 Axes>"
      ]
     },
     "metadata": {},
     "output_type": "display_data"
    }
   ],
   "source": [
    "fig, ax = plt.subplots(figsize=(20, 7))\n",
    "\n",
    "first_letter_counts.plot(kind='bar', ax=ax, color=['skyblue', 'salmon'], width=0.8)\n",
    "\n",
    "ax.set_title('Percentage of names that starts with all of the letters by Gender', fontsize=16)\n",
    "ax.set_xlabel('First letter of the name', fontsize=12)\n",
    "ax.set_ylabel('% of the total names by Gender', fontsize=12)\n",
    "ax.yaxis.set_major_formatter(ticker.FuncFormatter(lambda y, _: f'{y*100:.0f}%'))\n",
    "\n",
    "ax.legend(['Male', 'Female'])\n",
    "\n",
    "plt.xticks(rotation=0)\n",
    "plt.tight_layout()\n",
    "plt.show()"
   ]
  },
  {
   "cell_type": "code",
   "execution_count": 120,
   "metadata": {},
   "outputs": [
    {
     "data": {
      "image/png": "[encoded data removed]",
      "text/plain": [
       "<Figure size 2000x700 with 1 Axes>"
      ]
     },
     "metadata": {},
     "output_type": "display_data"
    }
   ],
   "source": [
    "fig, ax = plt.subplots(figsize=(20, 7))\n",
    "\n",
    "last_letter_counts.plot(kind='bar', ax=ax, color=['skyblue', 'salmon'], width=0.8)\n",
    "\n",
    "ax.set_title('Percentage of names finishing by each letter per Gender', fontsize=16)\n",
    "ax.set_xlabel('Last letter of the name', fontsize=12)\n",
    "ax.set_ylabel('% of the total names by Gender', fontsize=12)\n",
    "ax.yaxis.set_major_formatter(ticker.FuncFormatter(lambda y, _: f'{y*100:.0f}%'))\n",
    "\n",
    "ax.legend(['Hommes', 'Femmes'])\n",
    "\n",
    "plt.xticks(rotation=0)\n",
    "plt.tight_layout()\n",
    "plt.show()"
   ]
  },
  {
   "cell_type": "code",
   "execution_count": 121,
   "metadata": {},
   "outputs": [
    {
     "name": "stderr",
     "output_type": "stream",
     "text": [
      "/Users/ainhoavilanova/Desktop/ada-2024-project-adadasurmonbidet2024/src/utils/results_utils.py:178: FutureWarning:\n",
      "\n",
      "The default of observed=False is deprecated and will be changed to True in a future version of pandas. Pass observed=False to retain current behavior or observed=True to adopt the future default and silence this warning.\n",
      "\n",
      "/var/folders/qy/f2gycl5x4rz0443jgmxn93_80000gn/T/ipykernel_46319/1270236452.py:4: FutureWarning:\n",
      "\n",
      "The default of observed=False is deprecated and will be changed to True in a future version of pandas. Pass observed=False to retain current behavior or observed=True to adopt the future default and silence this warning.\n",
      "\n"
     ]
    }
   ],
   "source": [
    "age_sex_percentage, age_labels = get_age_sex_percentage(df_char_cleaned)\n",
    "\n",
    "top_names = (\n",
    "    df_char_cleaned.groupby(['age_category', 'Sex'])['Character_name']\n",
    "    .apply(lambda x: x.value_counts().head(3).index.tolist())\n",
    "    .unstack(fill_value=[])\n",
    ")"
   ]
  },
  {
   "cell_type": "code",
   "execution_count": 122,
   "metadata": {},
   "outputs": [
    {
     "data": {
      "application/vnd.plotly.v1+json": {
       "config": {
        "plotlyServerURL": "https://plot.ly"
       },
       "data": [
        {
         "hoverinfo": "text",
         "hovertext": [
          "Top names: Michael, Mickey, Kid",
          "Top names: Kid, Charlie, Michael",
          "Top names: Paul, Danny, Michael",
          "Top names: John, David, Tom",
          "Top names: John, David, Tom",
          "Top names: John, George, Robert",
          "Top names: John, George, James",
          "Top names: John, George, Charles",
          "Top names: John, Arthur, Max",
          "Top names: Donald, Smurf, Gus"
         ],
         "marker": {
          "color": "skyblue"
         },
         "name": "Male",
         "type": "bar",
         "x": [
          "<12y",
          "13y-17y",
          "18y-24y",
          "25y-34y",
          "35y-44y",
          "45y-54y",
          "55y-64y",
          "65y-74y",
          "75y-84y",
          ">85y"
         ],
         "y": [
          0.9139566557549401,
          1.4109579221523978,
          4.367876514300733,
          18.28032782968149,
          20.962462067811998,
          14.797734821151225,
          8.287735060094144,
          3.2579866669852575,
          0.9223196578337435,
          0.13739217700891257
         ]
        },
        {
         "hoverinfo": "text",
         "hovertext": [
          "Top names: Susan, Katie, Samantha",
          "Top names: Sarah, Alice, Samantha",
          "Top names: Priya, Julie, Pooja",
          "Top names: Sarah, Kate, Lisa",
          "Top names: Sarah, Susan, Kate",
          "Top names: Helen, Sarah, Martha",
          "Top names: Helen, Margaret, Barbara",
          "Top names: Martha, Helen, mère",
          "Top names: Jessica, Helen, Gloria",
          "Top names: Annie, Mme, Chopra"
         ],
         "marker": {
          "color": "salmon"
         },
         "name": "Female",
         "type": "bar",
         "x": [
          "<12y",
          "13y-17y",
          "18y-24y",
          "25y-34y",
          "35y-44y",
          "45y-54y",
          "55y-64y",
          "65y-74y",
          "75y-84y",
          ">85y"
         ],
         "y": [
          1.6496688472634187,
          2.5720206411767097,
          14.243630896753483,
          28.86920482710983,
          15.395554833204663,
          7.492584616634838,
          3.788956157815611,
          1.6334159522164886,
          0.6460525781154769,
          0.14424444354150584
         ]
        }
       ],
       "layout": {
        "barmode": "group",
        "legend": {
         "title": {
          "text": "Sex"
         }
        },
        "template": {
         "data": {
          "bar": [
           {
            "error_x": {
             "color": "#2a3f5f"
            },
            "error_y": {
             "color": "#2a3f5f"
            },
            "marker": {
             "line": {
              "color": "#E5ECF6",
              "width": 0.5
             },
             "pattern": {
              "fillmode": "overlay",
              "size": 10,
              "solidity": 0.2
             }
            },
            "type": "bar"
           }
          ],
          "barpolar": [
           {
            "marker": {
             "line": {
              "color": "#E5ECF6",
              "width": 0.5
             },
             "pattern": {
              "fillmode": "overlay",
              "size": 10,
              "solidity": 0.2
             }
            },
            "type": "barpolar"
           }
          ],
          "carpet": [
           {
            "aaxis": {
             "endlinecolor": "#2a3f5f",
             "gridcolor": "white",
             "linecolor": "white",
             "minorgridcolor": "white",
             "startlinecolor": "#2a3f5f"
            },
            "baxis": {
             "endlinecolor": "#2a3f5f",
             "gridcolor": "white",
             "linecolor": "white",
             "minorgridcolor": "white",
             "startlinecolor": "#2a3f5f"
            },
            "type": "carpet"
           }
          ],
          "choropleth": [
           {
            "colorbar": {
             "outlinewidth": 0,
             "ticks": ""
            },
            "type": "choropleth"
           }
          ],
          "contour": [
           {
            "colorbar": {
             "outlinewidth": 0,
             "ticks": ""
            },
            "colorscale": [
             [
              0,
              "#0d0887"
             ],
             [
              0.1111111111111111,
              "#46039f"
             ],
             [
              0.2222222222222222,
              "#7201a8"
             ],
             [
              0.3333333333333333,
              "#9c179e"
             ],
             [
              0.4444444444444444,
              "#bd3786"
             ],
             [
              0.5555555555555556,
              "#d8576b"
             ],
             [
              0.6666666666666666,
              "#ed7953"
             ],
             [
              0.7777777777777778,
              "#fb9f3a"
             ],
             [
              0.8888888888888888,
              "#fdca26"
             ],
             [
              1,
              "#f0f921"
             ]
            ],
            "type": "contour"
           }
          ],
          "contourcarpet": [
           {
            "colorbar": {
             "outlinewidth": 0,
             "ticks": ""
            },
            "type": "contourcarpet"
           }
          ],
          "heatmap": [
           {
            "colorbar": {
             "outlinewidth": 0,
             "ticks": ""
            },
            "colorscale": [
             [
              0,
              "#0d0887"
             ],
             [
              0.1111111111111111,
              "#46039f"
             ],
             [
              0.2222222222222222,
              "#7201a8"
             ],
             [
              0.3333333333333333,
              "#9c179e"
             ],
             [
              0.4444444444444444,
              "#bd3786"
             ],
             [
              0.5555555555555556,
              "#d8576b"
             ],
             [
              0.6666666666666666,
              "#ed7953"
             ],
             [
              0.7777777777777778,
              "#fb9f3a"
             ],
             [
              0.8888888888888888,
              "#fdca26"
             ],
             [
              1,
              "#f0f921"
             ]
            ],
            "type": "heatmap"
           }
          ],
          "heatmapgl": [
           {
            "colorbar": {
             "outlinewidth": 0,
             "ticks": ""
            },
            "colorscale": [
             [
              0,
              "#0d0887"
             ],
             [
              0.1111111111111111,
              "#46039f"
             ],
             [
              0.2222222222222222,
              "#7201a8"
             ],
             [
              0.3333333333333333,
              "#9c179e"
             ],
             [
              0.4444444444444444,
              "#bd3786"
             ],
             [
              0.5555555555555556,
              "#d8576b"
             ],
             [
              0.6666666666666666,
              "#ed7953"
             ],
             [
              0.7777777777777778,
              "#fb9f3a"
             ],
             [
              0.8888888888888888,
              "#fdca26"
             ],
             [
              1,
              "#f0f921"
             ]
            ],
            "type": "heatmapgl"
           }
          ],
          "histogram": [
           {
            "marker": {
             "pattern": {
              "fillmode": "overlay",
              "size": 10,
              "solidity": 0.2
             }
            },
            "type": "histogram"
           }
          ],
          "histogram2d": [
           {
            "colorbar": {
             "outlinewidth": 0,
             "ticks": ""
            },
            "colorscale": [
             [
              0,
              "#0d0887"
             ],
             [
              0.1111111111111111,
              "#46039f"
             ],
             [
              0.2222222222222222,
              "#7201a8"
             ],
             [
              0.3333333333333333,
              "#9c179e"
             ],
             [
              0.4444444444444444,
              "#bd3786"
             ],
             [
              0.5555555555555556,
              "#d8576b"
             ],
             [
              0.6666666666666666,
              "#ed7953"
             ],
             [
              0.7777777777777778,
              "#fb9f3a"
             ],
             [
              0.8888888888888888,
              "#fdca26"
             ],
             [
              1,
              "#f0f921"
             ]
            ],
            "type": "histogram2d"
           }
          ],
          "histogram2dcontour": [
           {
            "colorbar": {
             "outlinewidth": 0,
             "ticks": ""
            },
            "colorscale": [
             [
              0,
              "#0d0887"
             ],
             [
              0.1111111111111111,
              "#46039f"
             ],
             [
              0.2222222222222222,
              "#7201a8"
             ],
             [
              0.3333333333333333,
              "#9c179e"
             ],
             [
              0.4444444444444444,
              "#bd3786"
             ],
             [
              0.5555555555555556,
              "#d8576b"
             ],
             [
              0.6666666666666666,
              "#ed7953"
             ],
             [
              0.7777777777777778,
              "#fb9f3a"
             ],
             [
              0.8888888888888888,
              "#fdca26"
             ],
             [
              1,
              "#f0f921"
             ]
            ],
            "type": "histogram2dcontour"
           }
          ],
          "mesh3d": [
           {
            "colorbar": {
             "outlinewidth": 0,
             "ticks": ""
            },
            "type": "mesh3d"
           }
          ],
          "parcoords": [
           {
            "line": {
             "colorbar": {
              "outlinewidth": 0,
              "ticks": ""
             }
            },
            "type": "parcoords"
           }
          ],
          "pie": [
           {
            "automargin": true,
            "type": "pie"
           }
          ],
          "scatter": [
           {
            "fillpattern": {
             "fillmode": "overlay",
             "size": 10,
             "solidity": 0.2
            },
            "type": "scatter"
           }
          ],
          "scatter3d": [
           {
            "line": {
             "colorbar": {
              "outlinewidth": 0,
              "ticks": ""
             }
            },
            "marker": {
             "colorbar": {
              "outlinewidth": 0,
              "ticks": ""
             }
            },
            "type": "scatter3d"
           }
          ],
          "scattercarpet": [
           {
            "marker": {
             "colorbar": {
              "outlinewidth": 0,
              "ticks": ""
             }
            },
            "type": "scattercarpet"
           }
          ],
          "scattergeo": [
           {
            "marker": {
             "colorbar": {
              "outlinewidth": 0,
              "ticks": ""
             }
            },
            "type": "scattergeo"
           }
          ],
          "scattergl": [
           {
            "marker": {
             "colorbar": {
              "outlinewidth": 0,
              "ticks": ""
             }
            },
            "type": "scattergl"
           }
          ],
          "scattermapbox": [
           {
            "marker": {
             "colorbar": {
              "outlinewidth": 0,
              "ticks": ""
             }
            },
            "type": "scattermapbox"
           }
          ],
          "scatterpolar": [
           {
            "marker": {
             "colorbar": {
              "outlinewidth": 0,
              "ticks": ""
             }
            },
            "type": "scatterpolar"
           }
          ],
          "scatterpolargl": [
           {
            "marker": {
             "colorbar": {
              "outlinewidth": 0,
              "ticks": ""
             }
            },
            "type": "scatterpolargl"
           }
          ],
          "scatterternary": [
           {
            "marker": {
             "colorbar": {
              "outlinewidth": 0,
              "ticks": ""
             }
            },
            "type": "scatterternary"
           }
          ],
          "surface": [
           {
            "colorbar": {
             "outlinewidth": 0,
             "ticks": ""
            },
            "colorscale": [
             [
              0,
              "#0d0887"
             ],
             [
              0.1111111111111111,
              "#46039f"
             ],
             [
              0.2222222222222222,
              "#7201a8"
             ],
             [
              0.3333333333333333,
              "#9c179e"
             ],
             [
              0.4444444444444444,
              "#bd3786"
             ],
             [
              0.5555555555555556,
              "#d8576b"
             ],
             [
              0.6666666666666666,
              "#ed7953"
             ],
             [
              0.7777777777777778,
              "#fb9f3a"
             ],
             [
              0.8888888888888888,
              "#fdca26"
             ],
             [
              1,
              "#f0f921"
             ]
            ],
            "type": "surface"
           }
          ],
          "table": [
           {
            "cells": {
             "fill": {
              "color": "#EBF0F8"
             },
             "line": {
              "color": "white"
             }
            },
            "header": {
             "fill": {
              "color": "#C8D4E3"
             },
             "line": {
              "color": "white"
             }
            },
            "type": "table"
           }
          ]
         },
         "layout": {
          "annotationdefaults": {
           "arrowcolor": "#2a3f5f",
           "arrowhead": 0,
           "arrowwidth": 1
          },
          "autotypenumbers": "strict",
          "coloraxis": {
           "colorbar": {
            "outlinewidth": 0,
            "ticks": ""
           }
          },
          "colorscale": {
           "diverging": [
            [
             0,
             "#8e0152"
            ],
            [
             0.1,
             "#c51b7d"
            ],
            [
             0.2,
             "#de77ae"
            ],
            [
             0.3,
             "#f1b6da"
            ],
            [
             0.4,
             "#fde0ef"
            ],
            [
             0.5,
             "#f7f7f7"
            ],
            [
             0.6,
             "#e6f5d0"
            ],
            [
             0.7,
             "#b8e186"
            ],
            [
             0.8,
             "#7fbc41"
            ],
            [
             0.9,
             "#4d9221"
            ],
            [
             1,
             "#276419"
            ]
           ],
           "sequential": [
            [
             0,
             "#0d0887"
            ],
            [
             0.1111111111111111,
             "#46039f"
            ],
            [
             0.2222222222222222,
             "#7201a8"
            ],
            [
             0.3333333333333333,
             "#9c179e"
            ],
            [
             0.4444444444444444,
             "#bd3786"
            ],
            [
             0.5555555555555556,
             "#d8576b"
            ],
            [
             0.6666666666666666,
             "#ed7953"
            ],
            [
             0.7777777777777778,
             "#fb9f3a"
            ],
            [
             0.8888888888888888,
             "#fdca26"
            ],
            [
             1,
             "#f0f921"
            ]
           ],
           "sequentialminus": [
            [
             0,
             "#0d0887"
            ],
            [
             0.1111111111111111,
             "#46039f"
            ],
            [
             0.2222222222222222,
             "#7201a8"
            ],
            [
             0.3333333333333333,
             "#9c179e"
            ],
            [
             0.4444444444444444,
             "#bd3786"
            ],
            [
             0.5555555555555556,
             "#d8576b"
            ],
            [
             0.6666666666666666,
             "#ed7953"
            ],
            [
             0.7777777777777778,
             "#fb9f3a"
            ],
            [
             0.8888888888888888,
             "#fdca26"
            ],
            [
             1,
             "#f0f921"
            ]
           ]
          },
          "colorway": [
           "#636efa",
           "#EF553B",
           "#00cc96",
           "#ab63fa",
           "#FFA15A",
           "#19d3f3",
           "#FF6692",
           "#B6E880",
           "#FF97FF",
           "#FECB52"
          ],
          "font": {
           "color": "#2a3f5f"
          },
          "geo": {
           "bgcolor": "white",
           "lakecolor": "white",
           "landcolor": "#E5ECF6",
           "showlakes": true,
           "showland": true,
           "subunitcolor": "white"
          },
          "hoverlabel": {
           "align": "left"
          },
          "hovermode": "closest",
          "mapbox": {
           "style": "light"
          },
          "paper_bgcolor": "white",
          "plot_bgcolor": "#E5ECF6",
          "polar": {
           "angularaxis": {
            "gridcolor": "white",
            "linecolor": "white",
            "ticks": ""
           },
           "bgcolor": "#E5ECF6",
           "radialaxis": {
            "gridcolor": "white",
            "linecolor": "white",
            "ticks": ""
           }
          },
          "scene": {
           "xaxis": {
            "backgroundcolor": "#E5ECF6",
            "gridcolor": "white",
            "gridwidth": 2,
            "linecolor": "white",
            "showbackground": true,
            "ticks": "",
            "zerolinecolor": "white"
           },
           "yaxis": {
            "backgroundcolor": "#E5ECF6",
            "gridcolor": "white",
            "gridwidth": 2,
            "linecolor": "white",
            "showbackground": true,
            "ticks": "",
            "zerolinecolor": "white"
           },
           "zaxis": {
            "backgroundcolor": "#E5ECF6",
            "gridcolor": "white",
            "gridwidth": 2,
            "linecolor": "white",
            "showbackground": true,
            "ticks": "",
            "zerolinecolor": "white"
           }
          },
          "shapedefaults": {
           "line": {
            "color": "#2a3f5f"
           }
          },
          "ternary": {
           "aaxis": {
            "gridcolor": "white",
            "linecolor": "white",
            "ticks": ""
           },
           "baxis": {
            "gridcolor": "white",
            "linecolor": "white",
            "ticks": ""
           },
           "bgcolor": "#E5ECF6",
           "caxis": {
            "gridcolor": "white",
            "linecolor": "white",
            "ticks": ""
           }
          },
          "title": {
           "x": 0.05
          },
          "xaxis": {
           "automargin": true,
           "gridcolor": "white",
           "linecolor": "white",
           "ticks": "",
           "title": {
            "standoff": 15
           },
           "zerolinecolor": "white",
           "zerolinewidth": 2
          },
          "yaxis": {
           "automargin": true,
           "gridcolor": "white",
           "linecolor": "white",
           "ticks": "",
           "title": {
            "standoff": 15
           },
           "zerolinecolor": "white",
           "zerolinewidth": 2
          }
         }
        },
        "title": {
         "text": "Percentage of Males and Females in Each Age Category"
        },
        "xaxis": {
         "tickangle": 0,
         "tickvals": [
          "<12y",
          "13y-17y",
          "18y-24y",
          "25y-34y",
          "35y-44y",
          "45y-54y",
          "55y-64y",
          "65y-74y",
          "75y-84y",
          ">85y"
         ],
         "title": {
          "text": "Age Category"
         }
        },
        "yaxis": {
         "ticksuffix": "%",
         "title": {
          "text": "% of Total Males/Females"
         }
        }
       }
      }
     },
     "metadata": {},
     "output_type": "display_data"
    }
   ],
   "source": [
    "fig = go.Figure()\n",
    "\n",
    "for sex in ['M', 'F']:\n",
    "    fig.add_trace(go.Bar(\n",
    "        x=age_labels,\n",
    "        y=age_sex_percentage[sex],\n",
    "        name='Male' if sex == 'M' else 'Female',\n",
    "        marker_color='skyblue' if sex == 'M' else 'salmon',\n",
    "        hovertext=[f\"Top names: {', '.join(top_names.loc[age, sex])}\" for age in age_labels],\n",
    "        hoverinfo=\"text\"\n",
    "    ))\n",
    "\n",
    "fig.update_layout(\n",
    "    title='Percentage of Males and Females in Each Age Category',\n",
    "    xaxis_title='Age Category',\n",
    "    yaxis_title='% of Total Males/Females',\n",
    "    barmode='group',\n",
    "    xaxis=dict(tickvals=age_labels, tickangle=0),\n",
    "    yaxis=dict(ticksuffix='%'),\n",
    "    legend=dict(title=\"Sex\")\n",
    ")\n",
    "\n",
    "fig.show()"
   ]
  },
  {
   "cell_type": "markdown",
   "metadata": {},
   "source": [
    "## Country Analysis"
   ]
  },
  {
   "cell_type": "code",
   "execution_count": 123,
   "metadata": {},
   "outputs": [
    {
     "name": "stdout",
     "output_type": "stream",
     "text": [
      "       Continent Female_name Male_name\n",
      "0         Africa      Amina*     Omar*\n",
      "1           Asia       Priya     Vijay\n",
      "2         Europe       Marie      John\n",
      "3  North America       Sarah      John\n",
      "4        Oceania       Angie      John\n",
      "5  South America        Dona      João\n"
     ]
    }
   ],
   "source": [
    "countries_code = []\n",
    "\n",
    "df_continent = create_continent_df(df_char_cleaned,countries_code)\n",
    "print(df_continent)"
   ]
  },
  {
   "cell_type": "markdown",
   "metadata": {},
   "source": [
    "In this table we see the most recurrent character names for each continent. For Asia, we see that the most common names are indian names. Is it because other nearby countries are influenced by the bollywood industry or because India's movies are predominent in this dataset? \n",
    "We will try to answer the question by plotting the most common character names per country and reting it with the number of movies from this country in the dataset."
   ]
  },
  {
   "cell_type": "code",
   "execution_count": 124,
   "metadata": {},
   "outputs": [
    {
     "ename": "TypeError",
     "evalue": "country_to_continent() missing 1 required positional argument: 'countries_code'",
     "output_type": "error",
     "traceback": [
      "\u001b[0;31m---------------------------------------------------------------------------\u001b[0m",
      "\u001b[0;31mTypeError\u001b[0m                                 Traceback (most recent call last)",
      "Cell \u001b[0;32mIn[124], line 2\u001b[0m\n\u001b[1;32m      1\u001b[0m df_top_names \u001b[38;5;241m=\u001b[39m create_top_names_df(df_char_cleaned)\n\u001b[0;32m----> 2\u001b[0m df_nb_movies \u001b[38;5;241m=\u001b[39m create_nb_movie_df(df_char_cleaned)\n",
      "File \u001b[0;32m~/Desktop/ada-2024-project-adadasurmonbidet2024/src/utils/results_utils.py:239\u001b[0m, in \u001b[0;36mcreate_nb_movie_df\u001b[0;34m(movies_df)\u001b[0m\n\u001b[1;32m    237\u001b[0m \u001b[38;5;28;01mdef\u001b[39;00m \u001b[38;5;21mcreate_nb_movie_df\u001b[39m(movies_df:pd\u001b[38;5;241m.\u001b[39mDataFrame)\u001b[38;5;241m-\u001b[39m\u001b[38;5;241m>\u001b[39mpd\u001b[38;5;241m.\u001b[39mDataFrame:\n\u001b[1;32m    238\u001b[0m     movies_df[\u001b[38;5;124m'\u001b[39m\u001b[38;5;124mprimary_country\u001b[39m\u001b[38;5;124m'\u001b[39m] \u001b[38;5;241m=\u001b[39m movies_df[\u001b[38;5;124m'\u001b[39m\u001b[38;5;124mCountry\u001b[39m\u001b[38;5;124m'\u001b[39m]\u001b[38;5;241m.\u001b[39mstr[\u001b[38;5;241m0\u001b[39m]\n\u001b[0;32m--> 239\u001b[0m     movies_df[\u001b[38;5;124m'\u001b[39m\u001b[38;5;124mContinent\u001b[39m\u001b[38;5;124m'\u001b[39m] \u001b[38;5;241m=\u001b[39m movies_df[\u001b[38;5;124m'\u001b[39m\u001b[38;5;124mprimary_country\u001b[39m\u001b[38;5;124m'\u001b[39m]\u001b[38;5;241m.\u001b[39mapply(country_to_continent)\n\u001b[1;32m    240\u001b[0m     proportion_country \u001b[38;5;241m=\u001b[39m movies_df\u001b[38;5;241m.\u001b[39mgroupby([\u001b[38;5;124m'\u001b[39m\u001b[38;5;124mContinent\u001b[39m\u001b[38;5;124m'\u001b[39m, \u001b[38;5;124m'\u001b[39m\u001b[38;5;124mprimary_country\u001b[39m\u001b[38;5;124m'\u001b[39m])[\u001b[38;5;124m'\u001b[39m\u001b[38;5;124mprimary_country\u001b[39m\u001b[38;5;124m'\u001b[39m]\u001b[38;5;241m.\u001b[39mcount()\n\u001b[1;32m    241\u001b[0m     df_nb_movie \u001b[38;5;241m=\u001b[39m proportion_country\u001b[38;5;241m.\u001b[39mto_frame()\n",
      "File \u001b[0;32m/opt/anaconda3/envs/ada/lib/python3.11/site-packages/pandas/core/series.py:4924\u001b[0m, in \u001b[0;36mSeries.apply\u001b[0;34m(self, func, convert_dtype, args, by_row, **kwargs)\u001b[0m\n\u001b[1;32m   4789\u001b[0m \u001b[38;5;28;01mdef\u001b[39;00m \u001b[38;5;21mapply\u001b[39m(\n\u001b[1;32m   4790\u001b[0m     \u001b[38;5;28mself\u001b[39m,\n\u001b[1;32m   4791\u001b[0m     func: AggFuncType,\n\u001b[0;32m   (...)\u001b[0m\n\u001b[1;32m   4796\u001b[0m     \u001b[38;5;241m*\u001b[39m\u001b[38;5;241m*\u001b[39mkwargs,\n\u001b[1;32m   4797\u001b[0m ) \u001b[38;5;241m-\u001b[39m\u001b[38;5;241m>\u001b[39m DataFrame \u001b[38;5;241m|\u001b[39m Series:\n\u001b[1;32m   4798\u001b[0m \u001b[38;5;250m    \u001b[39m\u001b[38;5;124;03m\"\"\"\u001b[39;00m\n\u001b[1;32m   4799\u001b[0m \u001b[38;5;124;03m    Invoke function on values of Series.\u001b[39;00m\n\u001b[1;32m   4800\u001b[0m \n\u001b[0;32m   (...)\u001b[0m\n\u001b[1;32m   4915\u001b[0m \u001b[38;5;124;03m    dtype: float64\u001b[39;00m\n\u001b[1;32m   4916\u001b[0m \u001b[38;5;124;03m    \"\"\"\u001b[39;00m\n\u001b[1;32m   4917\u001b[0m     \u001b[38;5;28;01mreturn\u001b[39;00m SeriesApply(\n\u001b[1;32m   4918\u001b[0m         \u001b[38;5;28mself\u001b[39m,\n\u001b[1;32m   4919\u001b[0m         func,\n\u001b[1;32m   4920\u001b[0m         convert_dtype\u001b[38;5;241m=\u001b[39mconvert_dtype,\n\u001b[1;32m   4921\u001b[0m         by_row\u001b[38;5;241m=\u001b[39mby_row,\n\u001b[1;32m   4922\u001b[0m         args\u001b[38;5;241m=\u001b[39margs,\n\u001b[1;32m   4923\u001b[0m         kwargs\u001b[38;5;241m=\u001b[39mkwargs,\n\u001b[0;32m-> 4924\u001b[0m     )\u001b[38;5;241m.\u001b[39mapply()\n",
      "File \u001b[0;32m/opt/anaconda3/envs/ada/lib/python3.11/site-packages/pandas/core/apply.py:1427\u001b[0m, in \u001b[0;36mSeriesApply.apply\u001b[0;34m(self)\u001b[0m\n\u001b[1;32m   1424\u001b[0m     \u001b[38;5;28;01mreturn\u001b[39;00m \u001b[38;5;28mself\u001b[39m\u001b[38;5;241m.\u001b[39mapply_compat()\n\u001b[1;32m   1426\u001b[0m \u001b[38;5;66;03m# self.func is Callable\u001b[39;00m\n\u001b[0;32m-> 1427\u001b[0m \u001b[38;5;28;01mreturn\u001b[39;00m \u001b[38;5;28mself\u001b[39m\u001b[38;5;241m.\u001b[39mapply_standard()\n",
      "File \u001b[0;32m/opt/anaconda3/envs/ada/lib/python3.11/site-packages/pandas/core/apply.py:1507\u001b[0m, in \u001b[0;36mSeriesApply.apply_standard\u001b[0;34m(self)\u001b[0m\n\u001b[1;32m   1501\u001b[0m \u001b[38;5;66;03m# row-wise access\u001b[39;00m\n\u001b[1;32m   1502\u001b[0m \u001b[38;5;66;03m# apply doesn't have a `na_action` keyword and for backward compat reasons\u001b[39;00m\n\u001b[1;32m   1503\u001b[0m \u001b[38;5;66;03m# we need to give `na_action=\"ignore\"` for categorical data.\u001b[39;00m\n\u001b[1;32m   1504\u001b[0m \u001b[38;5;66;03m# TODO: remove the `na_action=\"ignore\"` when that default has been changed in\u001b[39;00m\n\u001b[1;32m   1505\u001b[0m \u001b[38;5;66;03m#  Categorical (GH51645).\u001b[39;00m\n\u001b[1;32m   1506\u001b[0m action \u001b[38;5;241m=\u001b[39m \u001b[38;5;124m\"\u001b[39m\u001b[38;5;124mignore\u001b[39m\u001b[38;5;124m\"\u001b[39m \u001b[38;5;28;01mif\u001b[39;00m \u001b[38;5;28misinstance\u001b[39m(obj\u001b[38;5;241m.\u001b[39mdtype, CategoricalDtype) \u001b[38;5;28;01melse\u001b[39;00m \u001b[38;5;28;01mNone\u001b[39;00m\n\u001b[0;32m-> 1507\u001b[0m mapped \u001b[38;5;241m=\u001b[39m obj\u001b[38;5;241m.\u001b[39m_map_values(\n\u001b[1;32m   1508\u001b[0m     mapper\u001b[38;5;241m=\u001b[39mcurried, na_action\u001b[38;5;241m=\u001b[39maction, convert\u001b[38;5;241m=\u001b[39m\u001b[38;5;28mself\u001b[39m\u001b[38;5;241m.\u001b[39mconvert_dtype\n\u001b[1;32m   1509\u001b[0m )\n\u001b[1;32m   1511\u001b[0m \u001b[38;5;28;01mif\u001b[39;00m \u001b[38;5;28mlen\u001b[39m(mapped) \u001b[38;5;129;01mand\u001b[39;00m \u001b[38;5;28misinstance\u001b[39m(mapped[\u001b[38;5;241m0\u001b[39m], ABCSeries):\n\u001b[1;32m   1512\u001b[0m     \u001b[38;5;66;03m# GH#43986 Need to do list(mapped) in order to get treated as nested\u001b[39;00m\n\u001b[1;32m   1513\u001b[0m     \u001b[38;5;66;03m#  See also GH#25959 regarding EA support\u001b[39;00m\n\u001b[1;32m   1514\u001b[0m     \u001b[38;5;28;01mreturn\u001b[39;00m obj\u001b[38;5;241m.\u001b[39m_constructor_expanddim(\u001b[38;5;28mlist\u001b[39m(mapped), index\u001b[38;5;241m=\u001b[39mobj\u001b[38;5;241m.\u001b[39mindex)\n",
      "File \u001b[0;32m/opt/anaconda3/envs/ada/lib/python3.11/site-packages/pandas/core/base.py:921\u001b[0m, in \u001b[0;36mIndexOpsMixin._map_values\u001b[0;34m(self, mapper, na_action, convert)\u001b[0m\n\u001b[1;32m    918\u001b[0m \u001b[38;5;28;01mif\u001b[39;00m \u001b[38;5;28misinstance\u001b[39m(arr, ExtensionArray):\n\u001b[1;32m    919\u001b[0m     \u001b[38;5;28;01mreturn\u001b[39;00m arr\u001b[38;5;241m.\u001b[39mmap(mapper, na_action\u001b[38;5;241m=\u001b[39mna_action)\n\u001b[0;32m--> 921\u001b[0m \u001b[38;5;28;01mreturn\u001b[39;00m algorithms\u001b[38;5;241m.\u001b[39mmap_array(arr, mapper, na_action\u001b[38;5;241m=\u001b[39mna_action, convert\u001b[38;5;241m=\u001b[39mconvert)\n",
      "File \u001b[0;32m/opt/anaconda3/envs/ada/lib/python3.11/site-packages/pandas/core/algorithms.py:1743\u001b[0m, in \u001b[0;36mmap_array\u001b[0;34m(arr, mapper, na_action, convert)\u001b[0m\n\u001b[1;32m   1741\u001b[0m values \u001b[38;5;241m=\u001b[39m arr\u001b[38;5;241m.\u001b[39mastype(\u001b[38;5;28mobject\u001b[39m, copy\u001b[38;5;241m=\u001b[39m\u001b[38;5;28;01mFalse\u001b[39;00m)\n\u001b[1;32m   1742\u001b[0m \u001b[38;5;28;01mif\u001b[39;00m na_action \u001b[38;5;129;01mis\u001b[39;00m \u001b[38;5;28;01mNone\u001b[39;00m:\n\u001b[0;32m-> 1743\u001b[0m     \u001b[38;5;28;01mreturn\u001b[39;00m lib\u001b[38;5;241m.\u001b[39mmap_infer(values, mapper, convert\u001b[38;5;241m=\u001b[39mconvert)\n\u001b[1;32m   1744\u001b[0m \u001b[38;5;28;01melse\u001b[39;00m:\n\u001b[1;32m   1745\u001b[0m     \u001b[38;5;28;01mreturn\u001b[39;00m lib\u001b[38;5;241m.\u001b[39mmap_infer_mask(\n\u001b[1;32m   1746\u001b[0m         values, mapper, mask\u001b[38;5;241m=\u001b[39misna(values)\u001b[38;5;241m.\u001b[39mview(np\u001b[38;5;241m.\u001b[39muint8), convert\u001b[38;5;241m=\u001b[39mconvert\n\u001b[1;32m   1747\u001b[0m     )\n",
      "File \u001b[0;32mlib.pyx:2972\u001b[0m, in \u001b[0;36mpandas._libs.lib.map_infer\u001b[0;34m()\u001b[0m\n",
      "\u001b[0;31mTypeError\u001b[0m: country_to_continent() missing 1 required positional argument: 'countries_code'"
     ]
    }
   ],
   "source": [
    "df_top_names = create_top_names_df(df_char_cleaned)\n",
    "df_nb_movies = create_nb_movie_df(df_char_cleaned)"
   ]
  },
  {
   "cell_type": "code",
   "execution_count": null,
   "metadata": {},
   "outputs": [],
   "source": [
    "df_map_names = pd.merge(df_nb_movies,df_top_names,on='primary_country',how='inner')"
   ]
  },
  {
   "cell_type": "code",
   "execution_count": null,
   "metadata": {},
   "outputs": [],
   "source": [
    "fig = go.Figure(go.Scattergeo(\n",
    "))\n",
    "fig.add_trace(go.Choropleth(\n",
    "    locations= df_map_names['primary_country'],\n",
    "    locationmode='country names',\n",
    "    showscale= True,\n",
    "    colorscale='YlOrRd',\n",
    "    z=np.log10(df_map_names['Number_of_movies']),\n",
    "    colorbar=dict(title=\"Number of movies (Log Scale)\", tickvals=np.arange(0, 5), ticktext=[f\"10^{i}\" for i in range(0, 5)]),\n",
    "    text= [f\"Top female name: {female}<br>Top male name: {male}<br>Movies: {movies:,}\" \n",
    "           for female, male, movies in zip(df_map_names['Female_name'], df_map_names['Male_name'], df_map_names['Number_of_movies'])],\n",
    "    hovertemplate=\"%{location}<br>%{text}\"\n",
    "))\n",
    "fig.update_geos(\n",
    "    projection_scale=1,center={'lat': 30},\n",
    "    visible=False,\n",
    "    showcountries=True, countrycolor=\"RebeccaPurple\"\n",
    ")\n",
    "fig.update_layout(\n",
    "    geo=dict(\n",
    "        projection_type=\"mercator\",\n",
    "        lakecolor=\"aqua\"\n",
    "    ),\n",
    "    height=500,\n",
    "    margin={\"r\":0,\"t\":5,\"l\":0,\"b\":0},\n",
    "    title=\"Most Common Male and Female Names by Continent\"\n",
    ")\n",
    "fig.show()"
   ]
  },
  {
   "cell_type": "markdown",
   "metadata": {},
   "source": [
    "## 5.c) N-Gram for genres"
   ]
  },
  {
   "cell_type": "code",
   "execution_count": null,
   "metadata": {},
   "outputs": [],
   "source": [
    "#Let's compute the two first principal components of the phonetic features\n",
    "df_genre = df_char_cleaned.copy()\n",
    "df_genre['pca_one'] = pca_result[:, 0]\n",
    "df_genre['pca_two'] = pca_result[:, 1]"
   ]
  },
  {
   "cell_type": "code",
   "execution_count": null,
   "metadata": {},
   "outputs": [],
   "source": [
    "#Lets create a df with the 10 top genres\n",
    "top_genres=df_genre['Genres'].explode().value_counts().head(11)\n",
    "df_genre['top_genre'] = df_genre['Genres'].apply(top_genre_search)"
   ]
  },
  {
   "cell_type": "code",
   "execution_count": null,
   "metadata": {},
   "outputs": [],
   "source": [
    "#Let's plot the projection of the phonetic features in the two first principal components\n",
    "plt.figure(figsize=(12, 8))\n",
    "sns.scatterplot(x=\"pca_one\", y=\"pca_two\", hue=\"top_genre\", data=df_genre, palette=\"viridis\", size=2,linewidth=0.3)\n",
    "plt.title(\"PCA of Character N-grams in Names by Genre\")\n",
    "plt.show()"
   ]
  }
 ],
 "metadata": {
  "kernelspec": {
   "display_name": "ada",
   "language": "python",
   "name": "python3"
  },
  "language_info": {
   "codemirror_mode": {
    "name": "ipython",
    "version": 3
   },
   "file_extension": ".py",
   "mimetype": "text/x-python",
   "name": "python",
   "nbconvert_exporter": "python",
   "pygments_lexer": "ipython3",
   "version": "3.11.9"
  }
 },
 "nbformat": 4,
 "nbformat_minor": 2
}
