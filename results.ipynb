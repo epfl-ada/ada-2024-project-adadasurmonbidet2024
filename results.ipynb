{
 "cells": [
  {
   "cell_type": "code",
   "execution_count": 29,
   "metadata": {},
   "outputs": [
    {
     "name": "stderr",
     "output_type": "stream",
     "text": [
      "[nltk_data] Downloading package words to\n",
      "[nltk_data]     C:\\Users\\amaur\\AppData\\Roaming\\nltk_data...\n",
      "[nltk_data]   Package words is already up-to-date!\n",
      "[nltk_data] Downloading package names to\n",
      "[nltk_data]     C:\\Users\\amaur\\AppData\\Roaming\\nltk_data...\n",
      "[nltk_data]   Package names is already up-to-date!\n"
     ]
    }
   ],
   "source": [
    "from src.utils.results_utils import *\n",
    "\n",
    "from src.utils.data_utils import str_dict_to_values\n",
    "\n",
    "import plotly.graph_objects as go\n",
    "import matplotlib.pyplot as plt\n",
    "import seaborn as sns\n",
    "import matplotlib.ticker as ticker\n"
   ]
  },
  {
   "cell_type": "markdown",
   "metadata": {},
   "source": [
    "## Loading the cleaned and conditionned dataset "
   ]
  },
  {
   "cell_type": "code",
   "execution_count": 30,
   "metadata": {},
   "outputs": [],
   "source": [
    "df_char_cleaned = pd.read_csv('data/cleaned.csv')\n",
    "\n",
    "df_char_cleaned['Languages'] = df_char_cleaned['Languages'].apply(str_dict_to_values)\n",
    "df_char_cleaned['Country'] = df_char_cleaned['Country'].apply(str_dict_to_values)\n",
    "df_char_cleaned['Genres'] = df_char_cleaned['Genres'].apply(str_dict_to_values)"
   ]
  },
  {
   "cell_type": "markdown",
   "metadata": {},
   "source": [
    "## Presenting the dataset"
   ]
  },
  {
   "cell_type": "code",
   "execution_count": 31,
   "metadata": {},
   "outputs": [
    {
     "data": {
      "text/html": [
       "<div>\n",
       "<style scoped>\n",
       "    .dataframe tbody tr th:only-of-type {\n",
       "        vertical-align: middle;\n",
       "    }\n",
       "\n",
       "    .dataframe tbody tr th {\n",
       "        vertical-align: top;\n",
       "    }\n",
       "\n",
       "    .dataframe thead th {\n",
       "        text-align: right;\n",
       "    }\n",
       "</style>\n",
       "<table border=\"1\" class=\"dataframe\">\n",
       "  <thead>\n",
       "    <tr style=\"text-align: right;\">\n",
       "      <th></th>\n",
       "      <th>Wikipedia_ID</th>\n",
       "      <th>Name</th>\n",
       "      <th>Languages</th>\n",
       "      <th>Country</th>\n",
       "      <th>Genres</th>\n",
       "      <th>Character_name</th>\n",
       "      <th>Sex</th>\n",
       "      <th>Actor_age</th>\n",
       "    </tr>\n",
       "  </thead>\n",
       "  <tbody>\n",
       "    <tr>\n",
       "      <th>0</th>\n",
       "      <td>975900</td>\n",
       "      <td>Ghosts of Mars</td>\n",
       "      <td>[English Language]</td>\n",
       "      <td>[United States of America]</td>\n",
       "      <td>[Thriller, Science Fiction, Horror, Adventure,...</td>\n",
       "      <td>Akooshay</td>\n",
       "      <td>F</td>\n",
       "      <td>42.0</td>\n",
       "    </tr>\n",
       "    <tr>\n",
       "      <th>1</th>\n",
       "      <td>975900</td>\n",
       "      <td>Ghosts of Mars</td>\n",
       "      <td>[English Language]</td>\n",
       "      <td>[United States of America]</td>\n",
       "      <td>[Thriller, Science Fiction, Horror, Adventure,...</td>\n",
       "      <td>Melanie</td>\n",
       "      <td>F</td>\n",
       "      <td>27.0</td>\n",
       "    </tr>\n",
       "    <tr>\n",
       "      <th>2</th>\n",
       "      <td>975900</td>\n",
       "      <td>Ghosts of Mars</td>\n",
       "      <td>[English Language]</td>\n",
       "      <td>[United States of America]</td>\n",
       "      <td>[Thriller, Science Fiction, Horror, Adventure,...</td>\n",
       "      <td>Williams</td>\n",
       "      <td>M</td>\n",
       "      <td>32.0</td>\n",
       "    </tr>\n",
       "    <tr>\n",
       "      <th>3</th>\n",
       "      <td>975900</td>\n",
       "      <td>Ghosts of Mars</td>\n",
       "      <td>[English Language]</td>\n",
       "      <td>[United States of America]</td>\n",
       "      <td>[Thriller, Science Fiction, Horror, Adventure,...</td>\n",
       "      <td>Jericho</td>\n",
       "      <td>M</td>\n",
       "      <td>33.0</td>\n",
       "    </tr>\n",
       "    <tr>\n",
       "      <th>4</th>\n",
       "      <td>975900</td>\n",
       "      <td>Ghosts of Mars</td>\n",
       "      <td>[English Language]</td>\n",
       "      <td>[United States of America]</td>\n",
       "      <td>[Thriller, Science Fiction, Horror, Adventure,...</td>\n",
       "      <td>Bashira</td>\n",
       "      <td>F</td>\n",
       "      <td>23.0</td>\n",
       "    </tr>\n",
       "  </tbody>\n",
       "</table>\n",
       "</div>"
      ],
      "text/plain": [
       "   Wikipedia_ID            Name           Languages  \\\n",
       "0        975900  Ghosts of Mars  [English Language]   \n",
       "1        975900  Ghosts of Mars  [English Language]   \n",
       "2        975900  Ghosts of Mars  [English Language]   \n",
       "3        975900  Ghosts of Mars  [English Language]   \n",
       "4        975900  Ghosts of Mars  [English Language]   \n",
       "\n",
       "                      Country  \\\n",
       "0  [United States of America]   \n",
       "1  [United States of America]   \n",
       "2  [United States of America]   \n",
       "3  [United States of America]   \n",
       "4  [United States of America]   \n",
       "\n",
       "                                              Genres Character_name Sex  \\\n",
       "0  [Thriller, Science Fiction, Horror, Adventure,...       Akooshay   F   \n",
       "1  [Thriller, Science Fiction, Horror, Adventure,...        Melanie   F   \n",
       "2  [Thriller, Science Fiction, Horror, Adventure,...       Williams   M   \n",
       "3  [Thriller, Science Fiction, Horror, Adventure,...        Jericho   M   \n",
       "4  [Thriller, Science Fiction, Horror, Adventure,...        Bashira   F   \n",
       "\n",
       "   Actor_age  \n",
       "0       42.0  \n",
       "1       27.0  \n",
       "2       32.0  \n",
       "3       33.0  \n",
       "4       23.0  "
      ]
     },
     "execution_count": 31,
     "metadata": {},
     "output_type": "execute_result"
    }
   ],
   "source": [
    "df_char_cleaned.head()"
   ]
  },
  {
   "cell_type": "code",
   "execution_count": 32,
   "metadata": {},
   "outputs": [
    {
     "data": {
      "application/vnd.plotly.v1+json": {
       "config": {
        "plotlyServerURL": "https://plot.ly"
       },
       "data": [
        {
         "hoverinfo": "text",
         "hovertext": [
          "Name: John <br>Position: 0 <br>Count: 1305",
          "Name: George <br>Position: 1 <br>Count: 621",
          "Name: Tom <br>Position: 2 <br>Count: 591",
          "Name: David <br>Position: 3 <br>Count: 567",
          "Name: Paul <br>Position: 4 <br>Count: 531",
          "Name: James <br>Position: 5 <br>Count: 513",
          "Name: Michael <br>Position: 6 <br>Count: 505",
          "Name: Robert <br>Position: 7 <br>Count: 451",
          "Name: Jim <br>Position: 8 <br>Count: 428",
          "Name: Charlie <br>Position: 9 <br>Count: 422",
          "Name: Richard <br>Position: 10 <br>Count: 401",
          "Name: Charles <br>Position: 11 <br>Count: 396",
          "Name: William <br>Position: 12 <br>Count: 384",
          "Name: Sarah <br>Position: 13 <br>Count: 371",
          "Name: Thomas <br>Position: 14 <br>Count: 331",
          "Name: Steve <br>Position: 15 <br>Count: 317",
          "Name: Eddie <br>Position: 16 <br>Count: 307",
          "Name: Alex <br>Position: 17 <br>Count: 305",
          "Name: Max <br>Position: 18 <br>Count: 300",
          "Name: Helen <br>Position: 19 <br>Count: 294",
          "Name: Alice <br>Position: 20 <br>Count: 292",
          "Name: Susan <br>Position: 21 <br>Count: 283",
          "Name: Johnny <br>Position: 22 <br>Count: 280",
          "Name: Kate <br>Position: 23 <br>Count: 268",
          "Name: Danny <br>Position: 24 <br>Count: 262",
          "Name: Julie <br>Position: 25 <br>Count: 260",
          "Name: Arthur <br>Position: 26 <br>Count: 259",
          "Name: Elizabeth <br>Position: 27 <br>Count: 259",
          "Name: Rachel <br>Position: 28 <br>Count: 248",
          "Name: Chris <br>Position: 29 <br>Count: 229",
          "Name: Dave <br>Position: 30 <br>Count: 229",
          "Name: Lisa <br>Position: 31 <br>Count: 229",
          "Name: Simon <br>Position: 32 <br>Count: 220",
          "Name: Joseph <br>Position: 33 <br>Count: 213",
          "Name: Daniel <br>Position: 34 <br>Count: 207",
          "Name: Claire <br>Position: 35 <br>Count: 205",
          "Name: Barbara <br>Position: 36 <br>Count: 204",
          "Name: Karen <br>Position: 37 <br>Count: 203",
          "Name: Kevin <br>Position: 38 <br>Count: 201",
          "Name: Jason <br>Position: 39 <br>Count: 201",
          "Name: Fred <br>Position: 40 <br>Count: 199",
          "Name: Marie <br>Position: 41 <br>Count: 199",
          "Name: Linda <br>Position: 42 <br>Count: 197",
          "Name: Annie <br>Position: 43 <br>Count: 196",
          "Name: Anne <br>Position: 44 <br>Count: 196",
          "Name: Brian <br>Position: 45 <br>Count: 196",
          "Name: Ed <br>Position: 46 <br>Count: 194",
          "Name: Phil <br>Position: 47 <br>Count: 192",
          "Name: Adam <br>Position: 48 <br>Count: 191",
          "Name: Maggie <br>Position: 49 <br>Count: 191",
          "Name: Andy <br>Position: 50 <br>Count: 186",
          "Name: Margaret <br>Position: 51 <br>Count: 184",
          "Name: Emily <br>Position: 52 <br>Count: 182",
          "Name: Jones <br>Position: 53 <br>Count: 176",
          "Name: Roy <br>Position: 54 <br>Count: 174",
          "Name: Moe <br>Position: 55 <br>Count: 174",
          "Name: Tim <br>Position: 56 <br>Count: 174",
          "Name: Matt <br>Position: 57 <br>Count: 173",
          "Name: Louis <br>Position: 58 <br>Count: 167",
          "Name: Edward <br>Position: 59 <br>Count: 167",
          "Name: Scott <br>Position: 60 <br>Count: 167",
          "Name: Howard <br>Position: 61 <br>Count: 165",
          "Name: Jennifer <br>Position: 62 <br>Count: 154",
          "Name: Ellen <br>Position: 63 <br>Count: 152",
          "Name: Sara <br>Position: 64 <br>Count: 151",
          "Name: Angela <br>Position: 65 <br>Count: 149",
          "Name: Johnson <br>Position: 66 <br>Count: 148",
          "Name: Mickey <br>Position: 67 <br>Count: 147",
          "Name: Charlotte <br>Position: 68 <br>Count: 147",
          "Name: Julia <br>Position: 69 <br>Count: 146",
          "Name: Vijay <br>Position: 70 <br>Count: 146",
          "Name: Martha <br>Position: 71 <br>Count: 146",
          "Name: Philip <br>Position: 72 <br>Count: 145",
          "Name: Ryan <br>Position: 73 <br>Count: 143",
          "Name: Louise <br>Position: 74 <br>Count: 143",
          "Name: Andrew <br>Position: 75 <br>Count: 141",
          "Name: Gloria <br>Position: 76 <br>Count: 140",
          "Name: Albert <br>Position: 77 <br>Count: 139",
          "Name: Wilson <br>Position: 78 <br>Count: 137",
          "Name: Samantha <br>Position: 79 <br>Count: 136",
          "Name: Jessica <br>Position: 80 <br>Count: 136",
          "Name: Gary <br>Position: 81 <br>Count: 134",
          "Name: Harold <br>Position: 82 <br>Count: 133",
          "Name: Amanda <br>Position: 83 <br>Count: 133",
          "Name: Taylor <br>Position: 84 <br>Count: 133",
          "Name: Catherine <br>Position: 85 <br>Count: 132",
          "Name: Jonathan <br>Position: 86 <br>Count: 131",
          "Name: Diane <br>Position: 87 <br>Count: 131",
          "Name: Kid <br>Position: 88 <br>Count: 129",
          "Name: Anthony <br>Position: 89 <br>Count: 128",
          "Name: Tina <br>Position: 90 <br>Count: 127",
          "Name: Lou <br>Position: 91 <br>Count: 127",
          "Name: Bugs <br>Position: 92 <br>Count: 125",
          "Name: Jackson <br>Position: 93 <br>Count: 122",
          "Name: Gordon <br>Position: 94 <br>Count: 121",
          "Name: Sean <br>Position: 95 <br>Count: 121",
          "Name: Alexander <br>Position: 96 <br>Count: 121",
          "Name: Leo <br>Position: 97 <br>Count: 120",
          "Name: Karl <br>Position: 98 <br>Count: 119",
          "Name: Sophie <br>Position: 99 <br>Count: 119",
          "Name: Dennis <br>Position: 100 <br>Count: 118",
          "Name: Jackie <br>Position: 101 <br>Count: 117",
          "Name: Donald <br>Position: 102 <br>Count: 116",
          "Name: Katie <br>Position: 103 <br>Count: 116",
          "Name: Patrick <br>Position: 104 <br>Count: 116",
          "Name: Rebecca <br>Position: 105 <br>Count: 116",
          "Name: Priya <br>Position: 106 <br>Count: 115",
          "Name: Jill <br>Position: 107 <br>Count: 114",
          "Name: Wendy <br>Position: 108 <br>Count: 114",
          "Name: Frankie <br>Position: 109 <br>Count: 113",
          "Name: Joan <br>Position: 110 <br>Count: 113",
          "Name: Francis <br>Position: 111 <br>Count: 112",
          "Name: Stephen <br>Position: 112 <br>Count: 112",
          "Name: Stanley <br>Position: 113 <br>Count: 112",
          "Name: Ravi <br>Position: 114 <br>Count: 112",
          "Name: Marty <br>Position: 115 <br>Count: 112",
          "Name: Doug <br>Position: 116 <br>Count: 111",
          "Name: Eva <br>Position: 117 <br>Count: 111",
          "Name: Nicole <br>Position: 118 <br>Count: 111",
          "Name: Nina <br>Position: 119 <br>Count: 111",
          "Name: Judy <br>Position: 120 <br>Count: 111",
          "Name: Carlos <br>Position: 121 <br>Count: 110",
          "Name: Christine <br>Position: 122 <br>Count: 110",
          "Name: Norman <br>Position: 123 <br>Count: 108",
          "Name: Williams <br>Position: 124 <br>Count: 106",
          "Name: Connie <br>Position: 125 <br>Count: 105",
          "Name: Radha <br>Position: 126 <br>Count: 105",
          "Name: Raymond <br>Position: 127 <br>Count: 105",
          "Name: Oliver <br>Position: 128 <br>Count: 104",
          "Name: Ron <br>Position: 129 <br>Count: 104",
          "Name: Marcus <br>Position: 130 <br>Count: 104",
          "Name: Samuel <br>Position: 131 <br>Count: 103",
          "Name: Michelle <br>Position: 132 <br>Count: 102",
          "Name: Gus <br>Position: 133 <br>Count: 102",
          "Name: Jacob <br>Position: 134 <br>Count: 102",
          "Name: Stan <br>Position: 135 <br>Count: 102",
          "Name: Diana <br>Position: 136 <br>Count: 101",
          "Name: Matthew <br>Position: 137 <br>Count: 101",
          "Name: Pierre <br>Position: 138 <br>Count: 101",
          "Name: Pooja <br>Position: 139 <br>Count: 101",
          "Name: Davis <br>Position: 140 <br>Count: 101",
          "Name: Monica <br>Position: 141 <br>Count: 100",
          "Name: Vikram <br>Position: 142 <br>Count: 99",
          "Name: Sonia <br>Position: 143 <br>Count: 99",
          "Name: Cindy <br>Position: 144 <br>Count: 98",
          "Name: Ivan <br>Position: 145 <br>Count: 98",
          "Name: Russell <br>Position: 146 <br>Count: 97",
          "Name: Janet <br>Position: 147 <br>Count: 96",
          "Name: Jamie <br>Position: 148 <br>Count: 96",
          "Name: Gina <br>Position: 149 <br>Count: 96",
          "Name: Katherine <br>Position: 150 <br>Count: 96",
          "Name: Todd <br>Position: 151 <br>Count: 95",
          "Name: Bruce <br>Position: 152 <br>Count: 95",
          "Name: Greg <br>Position: 153 <br>Count: 95",
          "Name: Dorothy <br>Position: 154 <br>Count: 94",
          "Name: Juan <br>Position: 155 <br>Count: 94",
          "Name: Jesse <br>Position: 156 <br>Count: 94",
          "Name: Sharon <br>Position: 157 <br>Count: 93",
          "Name: Nora <br>Position: 158 <br>Count: 93",
          "Name: Lawrence <br>Position: 159 <br>Count: 92",
          "Name: Leslie <br>Position: 160 <br>Count: 92",
          "Name: Christopher <br>Position: 161 <br>Count: 92",
          "Name: Liz <br>Position: 162 <br>Count: 92",
          "Name: Hannah <br>Position: 163 <br>Count: 92",
          "Name: Jan <br>Position: 164 <br>Count: 92",
          "Name: Victoria <br>Position: 165 <br>Count: 91",
          "Name: Ajay <br>Position: 166 <br>Count: 91",
          "Name: Carla <br>Position: 167 <br>Count: 90",
          "Name: Ali <br>Position: 168 <br>Count: 90",
          "Name: Derek <br>Position: 169 <br>Count: 89",
          "Name: Debbie <br>Position: 170 <br>Count: 89",
          "Name: Anjali <br>Position: 171 <br>Count: 88",
          "Name: Tracy <br>Position: 172 <br>Count: 88",
          "Name: Neil <br>Position: 173 <br>Count: 88",
          "Name: Sandra <br>Position: 174 <br>Count: 88",
          "Name: Miles <br>Position: 175 <br>Count: 87",
          "Name: Harris <br>Position: 176 <br>Count: 87",
          "Name: Tanya <br>Position: 177 <br>Count: 87",
          "Name: Sylvia <br>Position: 178 <br>Count: 87",
          "Name: Felix <br>Position: 179 <br>Count: 86",
          "Name: Wayne <br>Position: 180 <br>Count: 86",
          "Name: Gwen <br>Position: 181 <br>Count: 85",
          "Name: Paula <br>Position: 182 <br>Count: 84",
          "Name: Lola <br>Position: 183 <br>Count: 84",
          "Name: Anita <br>Position: 184 <br>Count: 84",
          "Name: Harvey <br>Position: 185 <br>Count: 83",
          "Name: Sheila <br>Position: 186 <br>Count: 83",
          "Name: Nicholas <br>Position: 187 <br>Count: 83",
          "Name: Stephanie <br>Position: 188 <br>Count: 83",
          "Name: Cynthia <br>Position: 189 <br>Count: 83",
          "Name: Kenny <br>Position: 190 <br>Count: 83",
          "Name: Douglas <br>Position: 191 <br>Count: 83",
          "Name: Natalie <br>Position: 192 <br>Count: 82",
          "Name: Nathan <br>Position: 193 <br>Count: 82",
          "Name: Bernard <br>Position: 194 <br>Count: 82",
          "Name: Evelyn <br>Position: 195 <br>Count: 82",
          "Name: Ricky <br>Position: 196 <br>Count: 81",
          "Name: Mitch <br>Position: 197 <br>Count: 81",
          "Name: Justin <br>Position: 198 <br>Count: 81",
          "Name: Shankar <br>Position: 199 <br>Count: 81",
          "Name: Ned <br>Position: 200 <br>Count: 81",
          "Name: Craig <br>Position: 201 <br>Count: 81",
          "Name: Marshall <br>Position: 202 <br>Count: 80",
          "Name: Il <br>Position: 203 <br>Count: 80",
          "Name: Maurice <br>Position: 204 <br>Count: 80",
          "Name: Brenda <br>Position: 205 <br>Count: 80",
          "Name: Ashley <br>Position: 206 <br>Count: 79",
          "Name: Vicky <br>Position: 207 <br>Count: 79",
          "Name: Denise <br>Position: 208 <br>Count: 79",
          "Name: Alfred <br>Position: 209 <br>Count: 78",
          "Name: Kumar <br>Position: 210 <br>Count: 78",
          "Name: Tyler <br>Position: 211 <br>Count: 78",
          "Name: Kathy <br>Position: 212 <br>Count: 78",
          "Name: Casey <br>Position: 213 <br>Count: 77",
          "Name: Patricia <br>Position: 214 <br>Count: 77",
          "Name: Ian <br>Position: 215 <br>Count: 77",
          "Name: Vanessa <br>Position: 216 <br>Count: 77",
          "Name: Hans <br>Position: 217 <br>Count: 77",
          "Name: Anderson <br>Position: 218 <br>Count: 77",
          "Name: Lynn <br>Position: 219 <br>Count: 76",
          "Name: Antonio <br>Position: 220 <br>Count: 75",
          "Name: Rosa <br>Position: 221 <br>Count: 75",
          "Name: Oscar <br>Position: 222 <br>Count: 75",
          "Name: Lloyd <br>Position: 223 <br>Count: 74",
          "Name: Rahul <br>Position: 224 <br>Count: 74",
          "Name: Arnold <br>Position: 225 <br>Count: 74",
          "Name: Freddy <br>Position: 226 <br>Count: 74",
          "Name: Karan <br>Position: 227 <br>Count: 74",
          "Name: Teresa <br>Position: 228 <br>Count: 73",
          "Name: Lauren <br>Position: 229 <br>Count: 73",
          "Name: Joyce <br>Position: 230 <br>Count: 73",
          "Name: Leon <br>Position: 231 <br>Count: 72",
          "Name: Teddy <br>Position: 232 <br>Count: 72",
          "Name: Leonard <br>Position: 233 <br>Count: 72",
          "Name: Andrea <br>Position: 234 <br>Count: 72",
          "Name: Jeremy <br>Position: 235 <br>Count: 72",
          "Name: Melissa <br>Position: 236 <br>Count: 71",
          "Name: Mama <br>Position: 237 <br>Count: 71",
          "Name: Thompson <br>Position: 238 <br>Count: 71",
          "Name: Allen <br>Position: 239 <br>Count: 71",
          "Name: Frau <br>Position: 240 <br>Count: 71",
          "Name: Doris <br>Position: 241 <br>Count: 71",
          "Name: Ronnie <br>Position: 242 <br>Count: 71",
          "Name: Marion <br>Position: 243 <br>Count: 70",
          "Name: Jessie <br>Position: 244 <br>Count: 70",
          "Name: Veronica <br>Position: 245 <br>Count: 70",
          "Name: Pamela <br>Position: 246 <br>Count: 70",
          "Name: Audrey <br>Position: 247 <br>Count: 70",
          "Name: Valerie <br>Position: 248 <br>Count: 70",
          "Name: Mitchell <br>Position: 249 <br>Count: 69",
          "Name: Bruno <br>Position: 250 <br>Count: 69",
          "Name: Becky <br>Position: 251 <br>Count: 69",
          "Name: Gabriel <br>Position: 252 <br>Count: 69",
          "Name: Keith <br>Position: 253 <br>Count: 68",
          "Name: Suzanne <br>Position: 254 <br>Count: 68",
          "Name: Raju <br>Position: 255 <br>Count: 68",
          "Name: Allison <br>Position: 256 <br>Count: 68",
          "Name: Abby <br>Position: 257 <br>Count: 68",
          "Name: Elena <br>Position: 258 <br>Count: 68",
          "Name: Carmen <br>Position: 259 <br>Count: 68",
          "Name: Girlfriend <br>Position: 260 <br>Count: 68",
          "Name: Clara <br>Position: 261 <br>Count: 67",
          "Name: Ernie <br>Position: 262 <br>Count: 67",
          "Name: Ashok <br>Position: 263 <br>Count: 67",
          "Name: Rosie <br>Position: 264 <br>Count: 67",
          "Name: Lenny <br>Position: 265 <br>Count: 67",
          "Name: Megan <br>Position: 266 <br>Count: 67",
          "Name: Eugene <br>Position: 267 <br>Count: 66",
          "Name: Evans <br>Position: 268 <br>Count: 65",
          "Name: Lester <br>Position: 269 <br>Count: 65",
          "Name: Angie <br>Position: 270 <br>Count: 65",
          "Name: Carrie <br>Position: 271 <br>Count: 65",
          "Name: Julian <br>Position: 272 <br>Count: 65",
          "Name: Bonnie <br>Position: 273 <br>Count: 65",
          "Name: Chloe <br>Position: 274 <br>Count: 65",
          "Name: Olivia <br>Position: 275 <br>Count: 64",
          "Name: Janice <br>Position: 276 <br>Count: 64",
          "Name: Vic <br>Position: 277 <br>Count: 64",
          "Name: Abraham <br>Position: 278 <br>Count: 64",
          "Name: Malcolm <br>Position: 279 <br>Count: 64",
          "Name: Mohan <br>Position: 280 <br>Count: 64",
          "Name: Vince <br>Position: 281 <br>Count: 64",
          "Name: Nikki <br>Position: 282 <br>Count: 63",
          "Name: Marvin <br>Position: 283 <br>Count: 63",
          "Name: Hunter <br>Position: 284 <br>Count: 63",
          "Name: Herbert <br>Position: 285 <br>Count: 63",
          "Name: Virginia <br>Position: 286 <br>Count: 63",
          "Name: Aaron <br>Position: 287 <br>Count: 63",
          "Name: Eleanor <br>Position: 288 <br>Count: 63",
          "Name: Santa <br>Position: 289 <br>Count: 63",
          "Name: Vivian <br>Position: 290 <br>Count: 62",
          "Name: Ethan <br>Position: 291 <br>Count: 62",
          "Name: Brooke <br>Position: 292 <br>Count: 62",
          "Name: Christian <br>Position: 293 <br>Count: 62",
          "Name: Anand <br>Position: 294 <br>Count: 62",
          "Name: Edgar <br>Position: 295 <br>Count: 62",
          "Name: Krishna <br>Position: 296 <br>Count: 62",
          "Name: Claude <br>Position: 297 <br>Count: 62",
          "Name: Mario <br>Position: 298 <br>Count: 61",
          "Name: Natasha <br>Position: 299 <br>Count: 61",
          "Name: Shanti <br>Position: 300 <br>Count: 61",
          "Name: Claudia <br>Position: 301 <br>Count: 61",
          "Name: Shekhar <br>Position: 302 <br>Count: 61",
          "Name: Lena <br>Position: 303 <br>Count: 60",
          "Name: Wallace <br>Position: 304 <br>Count: 60",
          "Name: Sebastian <br>Position: 305 <br>Count: 60",
          "Name: Anton <br>Position: 306 <br>Count: 60",
          "Name: Curtis <br>Position: 307 <br>Count: 60",
          "Name: Ellie <br>Position: 308 <br>Count: 60",
          "Name: Cathy <br>Position: 309 <br>Count: 60",
          "Name: Adams <br>Position: 310 <br>Count: 59",
          "Name: Polly <br>Position: 311 <br>Count: 59",
          "Name: Olga <br>Position: 312 <br>Count: 58",
          "Name: Miguel <br>Position: 313 <br>Count: 58",
          "Name: Prem <br>Position: 314 <br>Count: 58",
          "Name: Nigel <br>Position: 315 <br>Count: 58",
          "Name: Herman <br>Position: 316 <br>Count: 57",
          "Name: Watson <br>Position: 317 <br>Count: 57",
          "Name: Gail <br>Position: 318 <br>Count: 57",
          "Name: Zoe <br>Position: 319 <br>Count: 57",
          "Name: Bernie <br>Position: 320 <br>Count: 56",
          "Name: Shirley <br>Position: 321 <br>Count: 56",
          "Name: Hal <br>Position: 322 <br>Count: 56",
          "Name: Noah <br>Position: 323 <br>Count: 56",
          "Name: Miranda <br>Position: 324 <br>Count: 56",
          "Name: Gregory <br>Position: 325 <br>Count: 56",
          "Name: Winston <br>Position: 326 <br>Count: 56",
          "Name: Lucas <br>Position: 327 <br>Count: 56",
          "Name: Kenneth <br>Position: 328 <br>Count: 56",
          "Name: Elliot <br>Position: 329 <br>Count: 56",
          "Name: von <br>Position: 330 <br>Count: 55",
          "Name: Laurie <br>Position: 331 <br>Count: 55",
          "Name: Boris <br>Position: 332 <br>Count: 55",
          "Name: Randall <br>Position: 333 <br>Count: 55",
          "Name: Jai <br>Position: 334 <br>Count: 55",
          "Name: Owen <br>Position: 335 <br>Count: 55",
          "Name: Geeta <br>Position: 336 <br>Count: 55",
          "Name: Nisha <br>Position: 337 <br>Count: 55",
          "Name: Seema <br>Position: 338 <br>Count: 55",
          "Name: Sid <br>Position: 339 <br>Count: 54",
          "Name: Henri <br>Position: 340 <br>Count: 54",
          "Name: Ronald <br>Position: 341 <br>Count: 54",
          "Name: Hugo <br>Position: 342 <br>Count: 54",
          "Name: Alicia <br>Position: 343 <br>Count: 54",
          "Name: Sapna <br>Position: 344 <br>Count: 54",
          "Name: Phillip <br>Position: 345 <br>Count: 54",
          "Name: Frances <br>Position: 346 <br>Count: 54",
          "Name: Cheryl <br>Position: 347 <br>Count: 54",
          "Name: Bert <br>Position: 348 <br>Count: 54",
          "Name: April <br>Position: 349 <br>Count: 53",
          "Name: Cameron <br>Position: 350 <br>Count: 53",
          "Name: Lakshmi <br>Position: 351 <br>Count: 53",
          "Name: Lydia <br>Position: 352 <br>Count: 53",
          "Name: Joanna <br>Position: 353 <br>Count: 53",
          "Name: Shyam <br>Position: 354 <br>Count: 53",
          "Name: Ernest <br>Position: 355 <br>Count: 53",
          "Name: Freddie <br>Position: 356 <br>Count: 52",
          "Name: Dana <br>Position: 357 <br>Count: 52",
          "Name: Duncan <br>Position: 358 <br>Count: 52",
          "Name: Carson <br>Position: 359 <br>Count: 52",
          "Name: Marianne <br>Position: 360 <br>Count: 52",
          "Name: Roberts <br>Position: 361 <br>Count: 52",
          "Name: Jesus <br>Position: 362 <br>Count: 52",
          "Name: Rudy <br>Position: 363 <br>Count: 52",
          "Name: Kapoor <br>Position: 364 <br>Count: 52",
          "Name: Suraj <br>Position: 365 <br>Count: 52",
          "Name: Asha <br>Position: 366 <br>Count: 52",
          "Name: Jacques <br>Position: 367 <br>Count: 52",
          "Name: Frederick <br>Position: 368 <br>Count: 51",
          "Name: Esther <br>Position: 369 <br>Count: 51",
          "Name: Sullivan <br>Position: 370 <br>Count: 51",
          "Name: Lillian <br>Position: 371 <br>Count: 51",
          "Name: Judith <br>Position: 372 <br>Count: 51",
          "Name: Calvin <br>Position: 373 <br>Count: 51",
          "Name: Hugh <br>Position: 374 <br>Count: 50",
          "Name: Agnes <br>Position: 375 <br>Count: 50",
          "Name: Susie <br>Position: 376 <br>Count: 50",
          "Name: mère <br>Position: 377 <br>Count: 50",
          "Name: Luther <br>Position: 378 <br>Count: 50",
          "Name: Harrison <br>Position: 379 <br>Count: 50",
          "Name: Andre <br>Position: 380 <br>Count: 50",
          "Name: Dylan <br>Position: 381 <br>Count: 50",
          "Name: Sidney <br>Position: 382 <br>Count: 50",
          "Name: Isabel <br>Position: 383 <br>Count: 50",
          "Name: Von <br>Position: 384 <br>Count: 50",
          "Name: Joel <br>Position: 385 <br>Count: 50",
          "Name: Sasha <br>Position: 386 <br>Count: 50",
          "Name: Gerald <br>Position: 387 <br>Count: 50",
          "Name: Clyde <br>Position: 388 <br>Count: 50",
          "Name: Bennett <br>Position: 389 <br>Count: 49",
          "Name: Mandy <br>Position: 390 <br>Count: 49",
          "Name: Beatrice <br>Position: 391 <br>Count: 49",
          "Name: Theresa <br>Position: 392 <br>Count: 49",
          "Name: Jose <br>Position: 393 <br>Count: 49",
          "Name: Wanda <br>Position: 394 <br>Count: 49",
          "Name: Stuart <br>Position: 395 <br>Count: 49",
          "Name: Percy <br>Position: 396 <br>Count: 49",
          "Name: Angelo <br>Position: 397 <br>Count: 49",
          "Name: Malhotra <br>Position: 398 <br>Count: 48",
          "Name: Hamilton <br>Position: 399 <br>Count: 48",
          "Name: Franz <br>Position: 400 <br>Count: 48",
          "Name: Kurt <br>Position: 401 <br>Count: 48",
          "Name: Miriam <br>Position: 402 <br>Count: 48",
          "Name: Chen <br>Position: 403 <br>Count: 48",
          "Name: Fiona <br>Position: 404 <br>Count: 48",
          "Name: Mia <br>Position: 405 <br>Count: 48",
          "Name: Isabelle <br>Position: 406 <br>Count: 47",
          "Name: Der <br>Position: 407 <br>Count: 47",
          "Name: Mabel <br>Position: 408 <br>Count: 47",
          "Name: Meena <br>Position: 409 <br>Count: 47",
          "Name: Phyllis <br>Position: 410 <br>Count: 47",
          "Name: Preston <br>Position: 411 <br>Count: 47",
          "Name: Constance <br>Position: 412 <br>Count: 47",
          "Name: Yvonne <br>Position: 413 <br>Count: 47",
          "Name: Adrian <br>Position: 414 <br>Count: 47",
          "Name: Richie <br>Position: 415 <br>Count: 47",
          "Name: Gopal <br>Position: 416 <br>Count: 47",
          "Name: Melanie <br>Position: 417 <br>Count: 47",
          "Name: Lois <br>Position: 418 <br>Count: 47",
          "Name: Omar <br>Position: 419 <br>Count: 47",
          "Name: Zack <br>Position: 420 <br>Count: 46",
          "Name: Simone <br>Position: 421 <br>Count: 46",
          "Name: Lilly <br>Position: 422 <br>Count: 46",
          "Name: Edith <br>Position: 423 <br>Count: 46",
          "Name: Jeffrey <br>Position: 424 <br>Count: 46",
          "Name: Campbell <br>Position: 425 <br>Count: 46",
          "Name: Antoine <br>Position: 426 <br>Count: 46",
          "Name: Erica <br>Position: 427 <br>Count: 46",
          "Name: Trevor <br>Position: 428 <br>Count: 46",
          "Name: Harriet <br>Position: 429 <br>Count: 46",
          "Name: Helena <br>Position: 430 <br>Count: 46",
          "Name: Jeanne <br>Position: 431 <br>Count: 45",
          "Name: Dolores <br>Position: 432 <br>Count: 45",
          "Name: Moore <br>Position: 433 <br>Count: 45",
          "Name: François <br>Position: 434 <br>Count: 45",
          "Name: Marilyn <br>Position: 435 <br>Count: 45",
          "Name: Rogers <br>Position: 436 <br>Count: 45",
          "Name: Roland <br>Position: 437 <br>Count: 45",
          "Name: Stevens <br>Position: 438 <br>Count: 45",
          "Name: Rajesh <br>Position: 439 <br>Count: 45",
          "Name: Maureen <br>Position: 440 <br>Count: 45",
          "Name: Carlo <br>Position: 441 <br>Count: 45",
          "Name: Mimi <br>Position: 442 <br>Count: 45",
          "Name: Julius <br>Position: 443 <br>Count: 44",
          "Name: Daphne <br>Position: 444 <br>Count: 44",
          "Name: Philippe <br>Position: 445 <br>Count: 44",
          "Name: Mme <br>Position: 446 <br>Count: 44",
          "Name: Sadie <br>Position: 447 <br>Count: 44",
          "Name: Parvati <br>Position: 448 <br>Count: 44",
          "Name: Holmes <br>Position: 449 <br>Count: 44",
          "Name: Christmas <br>Position: 450 <br>Count: 44",
          "Name: Kathleen <br>Position: 451 <br>Count: 44",
          "Name: Brandon <br>Position: 452 <br>Count: 44",
          "Name: Luis <br>Position: 453 <br>Count: 44",
          "Name: Manuel <br>Position: 454 <br>Count: 44",
          "Name: Vernon <br>Position: 455 <br>Count: 44",
          "Name: Stewart <br>Position: 456 <br>Count: 44",
          "Name: Madeleine <br>Position: 457 <br>Count: 44",
          "Name: Celia <br>Position: 458 <br>Count: 43",
          "Name: Eli <br>Position: 459 <br>Count: 43",
          "Name: Joshua <br>Position: 460 <br>Count: 43",
          "Name: Elmer <br>Position: 461 <br>Count: 43",
          "Name: Boyfriend <br>Position: 462 <br>Count: 43",
          "Name: Deborah <br>Position: 463 <br>Count: 43",
          "Name: Elsa <br>Position: 464 <br>Count: 43",
          "Name: Charley <br>Position: 465 <br>Count: 43",
          "Name: Evan <br>Position: 466 <br>Count: 43",
          "Name: Clarence <br>Position: 467 <br>Count: 43",
          "Name: Pauline <br>Position: 468 <br>Count: 43",
          "Name: Alexandra <br>Position: 469 <br>Count: 43",
          "Name: Meg <br>Position: 470 <br>Count: 43",
          "Name: Prakash <br>Position: 471 <br>Count: 42",
          "Name: Phillips <br>Position: 472 <br>Count: 42",
          "Name: Laxmi <br>Position: 473 <br>Count: 42",
          "Name: Sanjay <br>Position: 474 <br>Count: 42",
          "Name: Gauri <br>Position: 475 <br>Count: 42",
          "Name: Marjorie <br>Position: 476 <br>Count: 42",
          "Name: Theodore <br>Position: 477 <br>Count: 42",
          "Name: Beverly <br>Position: 478 <br>Count: 42",
          "Name: Madhu <br>Position: 479 <br>Count: 42",
          "Name: Murray <br>Position: 480 <br>Count: 42",
          "Name: Virgil <br>Position: 481 <br>Count: 42",
          "Name: Abdul <br>Position: 482 <br>Count: 42",
          "Name: Floyd <br>Position: 483 <br>Count: 42",
          "Name: Carolyn <br>Position: 484 <br>Count: 42",
          "Name: Ella <br>Position: 485 <br>Count: 42",
          "Name: Jonas <br>Position: 486 <br>Count: 42",
          "Name: Danielle <br>Position: 487 <br>Count: 41",
          "Name: Robinson <br>Position: 488 <br>Count: 41",
          "Name: Ramesh <br>Position: 489 <br>Count: 41",
          "Name: Stacy <br>Position: 490 <br>Count: 41",
          "Name: Jules <br>Position: 491 <br>Count: 41",
          "Name: Bridget <br>Position: 492 <br>Count: 41",
          "Name: Fanny <br>Position: 493 <br>Count: 41",
          "Name: Kiran <br>Position: 494 <br>Count: 41",
          "Name: Eileen <br>Position: 495 <br>Count: 41",
          "Name: Reggie <br>Position: 496 <br>Count: 41",
          "Name: Pratap <br>Position: 497 <br>Count: 41",
          "Name: Logan <br>Position: 498 <br>Count: 41",
          "Name: Nandini <br>Position: 499 <br>Count: 41",
          "Name: Rohit <br>Position: 500 <br>Count: 40",
          "Name: Betsy <br>Position: 501 <br>Count: 40",
          "Name: Isabella <br>Position: 502 <br>Count: 40",
          "Name: Quinn <br>Position: 503 <br>Count: 40",
          "Name: Jenkins <br>Position: 504 <br>Count: 40",
          "Name: Darcy <br>Position: 505 <br>Count: 40",
          "Name: Courtney <br>Position: 506 <br>Count: 40",
          "Name: Trish <br>Position: 507 <br>Count: 40",
          "Name: Archie <br>Position: 508 <br>Count: 40",
          "Name: Raoul <br>Position: 509 <br>Count: 40",
          "Name: Deepak <br>Position: 510 <br>Count: 40",
          "Name: Neha <br>Position: 511 <br>Count: 40",
          "Name: Arun <br>Position: 512 <br>Count: 40",
          "Name: Penelope <br>Position: 513 <br>Count: 40",
          "Name: Brady <br>Position: 514 <br>Count: 39",
          "Name: Sandhya <br>Position: 515 <br>Count: 39",
          "Name: Benson <br>Position: 516 <br>Count: 39",
          "Name: Robbie <br>Position: 517 <br>Count: 39",
          "Name: Isaac <br>Position: 518 <br>Count: 38",
          "Name: Dracula <br>Position: 519 <br>Count: 38",
          "Name: Brooks <br>Position: 520 <br>Count: 38",
          "Name: Edna <br>Position: 521 <br>Count: 38",
          "Name: Shane <br>Position: 522 <br>Count: 38",
          "Name: Gertrude <br>Position: 523 <br>Count: 38",
          "Name: Bart <br>Position: 524 <br>Count: 38",
          "Name: Sharma <br>Position: 525 <br>Count: 38",
          "Name: Christina <br>Position: 526 <br>Count: 38",
          "Name: Voices <br>Position: 527 <br>Count: 38",
          "Name: Wyatt <br>Position: 528 <br>Count: 38",
          "Name: Del <br>Position: 529 <br>Count: 38",
          "Name: Michel <br>Position: 530 <br>Count: 38",
          "Name: Clayton <br>Position: 531 <br>Count: 38",
          "Name: Ingrid <br>Position: 532 <br>Count: 38",
          "Name: Doyle <br>Position: 533 <br>Count: 38",
          "Name: Jorge <br>Position: 534 <br>Count: 38",
          "Name: Darren <br>Position: 535 <br>Count: 38",
          "Name: Dora <br>Position: 536 <br>Count: 37",
          "Name: Leah <br>Position: 537 <br>Count: 37",
          "Name: Stu <br>Position: 538 <br>Count: 37",
          "Name: Horace <br>Position: 539 <br>Count: 37",
          "Name: Vinod <br>Position: 540 <br>Count: 37",
          "Name: Cody <br>Position: 541 <br>Count: 37",
          "Name: Barnes <br>Position: 542 <br>Count: 37",
          "Name: Ida <br>Position: 543 <br>Count: 37",
          "Name: Billie <br>Position: 544 <br>Count: 37",
          "Name: Lyle <br>Position: 545 <br>Count: 37",
          "Name: Nate <br>Position: 546 <br>Count: 37",
          "Name: Hayes <br>Position: 547 <br>Count: 37",
          "Name: Aarti <br>Position: 548 <br>Count: 37",
          "Name: Aditya <br>Position: 549 <br>Count: 37",
          "Name: Kane <br>Position: 550 <br>Count: 36",
          "Name: Hudson <br>Position: 551 <br>Count: 36",
          "Name: Dominic <br>Position: 552 <br>Count: 36",
          "Name: Annette <br>Position: 553 <br>Count: 36",
          "Name: Lucille <br>Position: 554 <br>Count: 36",
          "Name: Conrad <br>Position: 555 <br>Count: 36",
          "Name: Vicki <br>Position: 556 <br>Count: 36",
          "Name: père <br>Position: 557 <br>Count: 36",
          "Name: Rhonda <br>Position: 558 <br>Count: 36",
          "Name: Madison <br>Position: 559 <br>Count: 36",
          "Name: Sameer <br>Position: 560 <br>Count: 36",
          "Name: Roberto <br>Position: 561 <br>Count: 36",
          "Name: Trent <br>Position: 562 <br>Count: 36",
          "Name: Nolan <br>Position: 563 <br>Count: 36",
          "Name: Shiva <br>Position: 564 <br>Count: 36",
          "Name: Greta <br>Position: 565 <br>Count: 36",
          "Name: Lila <br>Position: 566 <br>Count: 36",
          "Name: Gladys <br>Position: 567 <br>Count: 36",
          "Name: Rekha <br>Position: 568 <br>Count: 35",
          "Name: Sunil <br>Position: 569 <br>Count: 35",
          "Name: Herr <br>Position: 570 <br>Count: 35",
          "Name: Jamal <br>Position: 571 <br>Count: 35",
          "Name: Joanne <br>Position: 572 <br>Count: 35",
          "Name: Toni <br>Position: 573 <br>Count: 35",
          "Name: Stanton <br>Position: 574 <br>Count: 35",
          "Name: Henderson <br>Position: 575 <br>Count: 35",
          "Name: Diego <br>Position: 576 <br>Count: 35",
          "Name: Raghu <br>Position: 577 <br>Count: 35",
          "Name: Devi <br>Position: 578 <br>Count: 35",
          "Name: Fran <br>Position: 579 <br>Count: 35",
          "Name: Luigi <br>Position: 580 <br>Count: 35",
          "Name: Chandra <br>Position: 581 <br>Count: 35",
          "Name: Fritz <br>Position: 582 <br>Count: 35",
          "Name: Biker <br>Position: 583 <br>Count: 35",
          "Name: Sofia <br>Position: 584 <br>Count: 35",
          "Name: Bradley <br>Position: 585 <br>Count: 35",
          "Name: Georgia <br>Position: 586 <br>Count: 35",
          "Name: Sydney <br>Position: 587 <br>Count: 35",
          "Name: Stefan <br>Position: 588 <br>Count: 35",
          "Name: Ahmed <br>Position: 589 <br>Count: 35",
          "Name: Peterson <br>Position: 590 <br>Count: 35",
          "Name: Rupert <br>Position: 591 <br>Count: 35",
          "Name: Meenakshi <br>Position: 592 <br>Count: 34",
          "Name: Margo <br>Position: 593 <br>Count: 34",
          "Name: Gil <br>Position: 594 <br>Count: 34",
          "Name: Naomi <br>Position: 595 <br>Count: 34",
          "Name: Choi <br>Position: 596 <br>Count: 34",
          "Name: Jerome <br>Position: 597 <br>Count: 34",
          "Name: Meredith <br>Position: 598 <br>Count: 34",
          "Name: Glenn <br>Position: 599 <br>Count: 34",
          "Name: Wells <br>Position: 600 <br>Count: 34",
          "Name: Blanche <br>Position: 601 <br>Count: 34",
          "Name: Burns <br>Position: 602 <br>Count: 34",
          "Name: Erik <br>Position: 603 <br>Count: 34",
          "Name: Moses <br>Position: 604 <br>Count: 33",
          "Name: Geoffrey <br>Position: 605 <br>Count: 33",
          "Name: Millie <br>Position: 606 <br>Count: 33",
          "Name: Roberta <br>Position: 607 <br>Count: 33",
          "Name: Louie <br>Position: 608 <br>Count: 33",
          "Name: Crawford <br>Position: 609 <br>Count: 33",
          "Name: Verma <br>Position: 610 <br>Count: 33",
          "Name: Marcia <br>Position: 611 <br>Count: 33",
          "Name: Montgomery <br>Position: 612 <br>Count: 33",
          "Name: Javier <br>Position: 613 <br>Count: 33",
          "Name: Jensen <br>Position: 614 <br>Count: 33",
          "Name: Kamini <br>Position: 615 <br>Count: 33",
          "Name: Lorraine <br>Position: 616 <br>Count: 33",
          "Name: Austin <br>Position: 617 <br>Count: 33",
          "Name: Meera <br>Position: 618 <br>Count: 33",
          "Name: Igor <br>Position: 619 <br>Count: 33",
          "Name: Finn <br>Position: 620 <br>Count: 33",
          "Name: Marta <br>Position: 621 <br>Count: 33",
          "Name: Yu <br>Position: 622 <br>Count: 33",
          "Name: Saxena <br>Position: 623 <br>Count: 32",
          "Name: Ellis <br>Position: 624 <br>Count: 32",
          "Name: Wesley <br>Position: 625 <br>Count: 32",
          "Name: Divya <br>Position: 626 <br>Count: 32",
          "Name: Sherman <br>Position: 627 <br>Count: 32",
          "Name: Briggs <br>Position: 628 <br>Count: 32",
          "Name: Milton <br>Position: 629 <br>Count: 32",
          "Name: Dwight <br>Position: 630 <br>Count: 32",
          "Name: Anu <br>Position: 631 <br>Count: 32",
          "Name: Elisabeth <br>Position: 632 <br>Count: 32",
          "Name: Renee <br>Position: 633 <br>Count: 32",
          "Name: Georgie <br>Position: 634 <br>Count: 32",
          "Name: Ajit <br>Position: 635 <br>Count: 32",
          "Name: Savitri <br>Position: 636 <br>Count: 32",
          "Name: Rico <br>Position: 637 <br>Count: 32",
          "Name: Hari <br>Position: 638 <br>Count: 32",
          "Name: Mildred <br>Position: 639 <br>Count: 32",
          "Name: Preeti <br>Position: 640 <br>Count: 32",
          "Name: Quentin <br>Position: 641 <br>Count: 32",
          "Name: Regina <br>Position: 642 <br>Count: 32",
          "Name: Suzie <br>Position: 643 <br>Count: 32",
          "Name: Siddharth <br>Position: 644 <br>Count: 32",
          "Name: Reynolds <br>Position: 645 <br>Count: 32",
          "Name: Francesca <br>Position: 646 <br>Count: 32",
          "Name: Harlan <br>Position: 647 <br>Count: 31",
          "Name: Dante <br>Position: 648 <br>Count: 31",
          "Name: Matthews <br>Position: 649 <br>Count: 31",
          "Name: Damien <br>Position: 650 <br>Count: 31",
          "Name: Lara <br>Position: 651 <br>Count: 31",
          "Name: Fernando <br>Position: 652 <br>Count: 31",
          "Name: Angus <br>Position: 653 <br>Count: 31",
          "Name: Tarzan <br>Position: 654 <br>Count: 31",
          "Name: Elise <br>Position: 655 <br>Count: 31",
          "Name: Serena <br>Position: 656 <br>Count: 31",
          "Name: Monty <br>Position: 657 <br>Count: 31",
          "Name: Rai <br>Position: 658 <br>Count: 31",
          "Name: Agatha <br>Position: 659 <br>Count: 31",
          "Name: Nadia <br>Position: 660 <br>Count: 31",
          "Name: Camille <br>Position: 661 <br>Count: 31",
          "Name: Jen <br>Position: 662 <br>Count: 31",
          "Name: Gabrielle <br>Position: 663 <br>Count: 31",
          "Name: Tess <br>Position: 664 <br>Count: 31",
          "Name: Wes <br>Position: 665 <br>Count: 31",
          "Name: Randolph <br>Position: 666 <br>Count: 31",
          "Name: Jared <br>Position: 667 <br>Count: 31",
          "Name: Yuri <br>Position: 668 <br>Count: 31",
          "Name: Ira <br>Position: 669 <br>Count: 31",
          "Name: Alexis <br>Position: 670 <br>Count: 31",
          "Name: Roman <br>Position: 671 <br>Count: 31",
          "Name: Theo <br>Position: 672 <br>Count: 31",
          "Name: Flynn <br>Position: 673 <br>Count: 30",
          "Name: Adele <br>Position: 674 <br>Count: 30",
          "Name: Alvin <br>Position: 675 <br>Count: 30",
          "Name: Madge <br>Position: 676 <br>Count: 30",
          "Name: Sanjana <br>Position: 677 <br>Count: 30",
          "Name: Timmy <br>Position: 678 <br>Count: 30",
          "Name: Monique <br>Position: 679 <br>Count: 30",
          "Name: Francisco <br>Position: 680 <br>Count: 30",
          "Name: Gretchen <br>Position: 681 <br>Count: 30",
          "Name: Simpson <br>Position: 682 <br>Count: 30",
          "Name: Morton <br>Position: 683 <br>Count: 30",
          "Name: Havaldar <br>Position: 684 <br>Count: 30",
          "Name: Cecil <br>Position: 685 <br>Count: 30",
          "Name: Amos <br>Position: 686 <br>Count: 30",
          "Name: Abel <br>Position: 687 <br>Count: 30",
          "Name: Gopi <br>Position: 688 <br>Count: 30",
          "Name: Alberto <br>Position: 689 <br>Count: 30",
          "Name: Bates <br>Position: 690 <br>Count: 30",
          "Name: Artie <br>Position: 691 <br>Count: 30",
          "Name: Josef <br>Position: 692 <br>Count: 30",
          "Name: Cassandra <br>Position: 693 <br>Count: 30",
          "Name: Kirby <br>Position: 694 <br>Count: 30",
          "Name: Khanna <br>Position: 695 <br>Count: 30",
          "Name: Werner <br>Position: 696 <br>Count: 30",
          "Name: Willis <br>Position: 697 <br>Count: 30",
          "Name: Cookie <br>Position: 698 <br>Count: 30",
          "Name: Wu <br>Position: 699 <br>Count: 30",
          "Name: Stevie <br>Position: 700 <br>Count: 30",
          "Name: Janine <br>Position: 701 <br>Count: 30",
          "Name: Roopa <br>Position: 702 <br>Count: 30",
          "Name: Romeo <br>Position: 703 <br>Count: 30",
          "Name: Shannon <br>Position: 704 <br>Count: 30",
          "Name: Margot <br>Position: 705 <br>Count: 30",
          "Name: Rama <br>Position: 706 <br>Count: 30",
          "Name: Connor <br>Position: 707 <br>Count: 30",
          "Name: Chan <br>Position: 708 <br>Count: 30",
          "Name: Marian <br>Position: 709 <br>Count: 29",
          "Name: Dwayne <br>Position: 710 <br>Count: 29",
          "Name: Powell <br>Position: 711 <br>Count: 29",
          "Name: Salim <br>Position: 712 <br>Count: 29",
          "Name: Vinnie <br>Position: 713 <br>Count: 29",
          "Name: Vishal <br>Position: 714 <br>Count: 29",
          "Name: Emmett <br>Position: 715 <br>Count: 29",
          "Name: Bella <br>Position: 716 <br>Count: 29",
          "Name: Stacey <br>Position: 717 <br>Count: 29",
          "Name: Rene <br>Position: 718 <br>Count: 29",
          "Name: Monroe <br>Position: 719 <br>Count: 29",
          "Name: Mallory <br>Position: 720 <br>Count: 29",
          "Name: English <br>Position: 721 <br>Count: 29",
          "Name: Gavin <br>Position: 722 <br>Count: 29",
          "Name: Klaus <br>Position: 723 <br>Count: 29",
          "Name: Edwards <br>Position: 724 <br>Count: 29",
          "Name: Gerry <br>Position: 725 <br>Count: 29",
          "Name: Mikey <br>Position: 726 <br>Count: 29",
          "Name: Sunita <br>Position: 727 <br>Count: 29",
          "Name: Peters <br>Position: 728 <br>Count: 29",
          "Name: Durga <br>Position: 729 <br>Count: 29",
          "Name: Jennings <br>Position: 730 <br>Count: 29",
          "Name: Shobha <br>Position: 731 <br>Count: 28",
          "Name: Juliet <br>Position: 732 <br>Count: 28",
          "Name: Bryan <br>Position: 733 <br>Count: 28",
          "Name: Roxanne <br>Position: 734 <br>Count: 28",
          "Name: Hélène <br>Position: 735 <br>Count: 28",
          "Name: Kennedy <br>Position: 736 <br>Count: 28",
          "Name: Gupta <br>Position: 737 <br>Count: 28",
          "Name: Chelsea <br>Position: 738 <br>Count: 28",
          "Name: Jon <br>Position: 739 <br>Count: 28",
          "Name: Kimberly <br>Position: 740 <br>Count: 28",
          "Name: Morrison <br>Position: 741 <br>Count: 28",
          "Name: Darryl <br>Position: 742 <br>Count: 28",
          "Name: Andrews <br>Position: 743 <br>Count: 28",
          "Name: Clifford <br>Position: 744 <br>Count: 28",
          "Name: Trudy <br>Position: 745 <br>Count: 28",
          "Name: Georges <br>Position: 746 <br>Count: 28",
          "Name: Lincoln <br>Position: 747 <br>Count: 28",
          "Name: Erin <br>Position: 748 <br>Count: 28",
          "Name: Mahesh <br>Position: 749 <br>Count: 28",
          "Name: Suman <br>Position: 750 <br>Count: 28",
          "Name: Perkins <br>Position: 751 <br>Count: 28",
          "Name: Nadine <br>Position: 752 <br>Count: 28",
          "Name: Edwin <br>Position: 753 <br>Count: 28",
          "Name: Zach <br>Position: 754 <br>Count: 27",
          "Name: Juliette <br>Position: 755 <br>Count: 27",
          "Name: Manu <br>Position: 756 <br>Count: 27",
          "Name: Suzy <br>Position: 757 <br>Count: 27",
          "Name: Melvin <br>Position: 758 <br>Count: 27",
          "Name: Lorenzo <br>Position: 759 <br>Count: 27",
          "Name: Byron <br>Position: 760 <br>Count: 27",
          "Name: Lala <br>Position: 761 <br>Count: 27",
          "Name: Donnie <br>Position: 762 <br>Count: 27",
          "Name: Liu <br>Position: 763 <br>Count: 27",
          "Name: Simmons <br>Position: 764 <br>Count: 27",
          "Name: Rajiv <br>Position: 765 <br>Count: 27",
          "Name: Eliza <br>Position: 766 <br>Count: 27",
          "Name: Rakesh <br>Position: 767 <br>Count: 27",
          "Name: Ricardo <br>Position: 768 <br>Count: 27",
          "Name: Robby <br>Position: 769 <br>Count: 27",
          "Name: Donny <br>Position: 770 <br>Count: 27",
          "Name: Madre <br>Position: 771 <br>Count: 27",
          "Name: Lorna <br>Position: 772 <br>Count: 27",
          "Name: Muriel <br>Position: 773 <br>Count: 27",
          "Name: Banks <br>Position: 774 <br>Count: 27",
          "Name: Godzilla <br>Position: 775 <br>Count: 27",
          "Name: Chet <br>Position: 776 <br>Count: 27",
          "Name: Belinda <br>Position: 777 <br>Count: 27",
          "Name: Katrina <br>Position: 778 <br>Count: 26",
          "Name: Nell <br>Position: 779 <br>Count: 26",
          "Name: Prasad <br>Position: 780 <br>Count: 26",
          "Name: Elsie <br>Position: 781 <br>Count: 26",
          "Name: Doreen <br>Position: 782 <br>Count: 26",
          "Name: Christy <br>Position: 783 <br>Count: 26",
          "Name: Giovanni <br>Position: 784 <br>Count: 26",
          "Name: Ferdinand <br>Position: 785 <br>Count: 26",
          "Name: Abe <br>Position: 786 <br>Count: 26",
          "Name: Ramon <br>Position: 787 <br>Count: 26",
          "Name: Daniels <br>Position: 788 <br>Count: 26",
          "Name: Josephine <br>Position: 789 <br>Count: 26",
          "Name: Priscilla <br>Position: 790 <br>Count: 26",
          "Name: Otis <br>Position: 791 <br>Count: 26",
          "Name: Callahan <br>Position: 792 <br>Count: 26",
          "Name: Libby <br>Position: 793 <br>Count: 26",
          "Name: Yosemite <br>Position: 794 <br>Count: 26",
          "Name: Reginald <br>Position: 795 <br>Count: 26",
          "Name: Dawson <br>Position: 796 <br>Count: 26",
          "Name: Armand <br>Position: 797 <br>Count: 26",
          "Name: Dino <br>Position: 798 <br>Count: 26",
          "Name: Hilary <br>Position: 799 <br>Count: 26",
          "Name: Pandit <br>Position: 800 <br>Count: 26",
          "Name: Bianca <br>Position: 801 <br>Count: 26",
          "Name: Cassidy <br>Position: 802 <br>Count: 26",
          "Name: Les <br>Position: 803 <br>Count: 26",
          "Name: Suresh <br>Position: 804 <br>Count: 26",
          "Name: Higgins <br>Position: 805 <br>Count: 26",
          "Name: Francine <br>Position: 806 <br>Count: 26",
          "Name: Gabe <br>Position: 807 <br>Count: 26",
          "Name: Damon <br>Position: 808 <br>Count: 26",
          "Name: Tex <br>Position: 809 <br>Count: 25",
          "Name: Liza <br>Position: 810 <br>Count: 25",
          "Name: Luca <br>Position: 811 <br>Count: 25",
          "Name: Sheela <br>Position: 812 <br>Count: 25",
          "Name: Corey <br>Position: 813 <br>Count: 25",
          "Name: Adolf <br>Position: 814 <br>Count: 25",
          "Name: Paris <br>Position: 815 <br>Count: 25",
          "Name: Loretta <br>Position: 816 <br>Count: 25",
          "Name: Whitney <br>Position: 817 <br>Count: 25",
          "Name: Patterson <br>Position: 818 <br>Count: 25",
          "Name: Kishan <br>Position: 819 <br>Count: 25",
          "Name: Ada <br>Position: 820 <br>Count: 25",
          "Name: Ranjit <br>Position: 821 <br>Count: 25",
          "Name: Mann <br>Position: 822 <br>Count: 25",
          "Name: Hilda <br>Position: 823 <br>Count: 25",
          "Name: Lindsey <br>Position: 824 <br>Count: 25",
          "Name: Bryce <br>Position: 825 <br>Count: 25",
          "Name: Chambers <br>Position: 826 <br>Count: 25",
          "Name: Cornelius <br>Position: 827 <br>Count: 25",
          "Name: Barbie <br>Position: 828 <br>Count: 25",
          "Name: Cafe <br>Position: 829 <br>Count: 25",
          "Name: Sabrina <br>Position: 830 <br>Count: 25",
          "Name: Tante <br>Position: 831 <br>Count: 25",
          "Name: Zeke <br>Position: 832 <br>Count: 25",
          "Name: Lucien <br>Position: 833 <br>Count: 25",
          "Name: Boyd <br>Position: 834 <br>Count: 25",
          "Name: Wilbur <br>Position: 835 <br>Count: 25",
          "Name: Conway <br>Position: 836 <br>Count: 25",
          "Name: Lindsay <br>Position: 837 <br>Count: 25",
          "Name: Jonah <br>Position: 838 <br>Count: 25",
          "Name: Emil <br>Position: 839 <br>Count: 25",
          "Name: Shelby <br>Position: 840 <br>Count: 25",
          "Name: Elliott <br>Position: 841 <br>Count: 25",
          "Name: Xavier <br>Position: 842 <br>Count: 25",
          "Name: Donovan <br>Position: 843 <br>Count: 25",
          "Name: Viktor <br>Position: 844 <br>Count: 25",
          "Name: Dominique <br>Position: 845 <br>Count: 24",
          "Name: Ramu <br>Position: 846 <br>Count: 24",
          "Name: Lucia <br>Position: 847 <br>Count: 24",
          "Name: Brittany <br>Position: 848 <br>Count: 24",
          "Name: Amit <br>Position: 849 <br>Count: 24",
          "Name: Aubrey <br>Position: 850 <br>Count: 24",
          "Name: Lu <br>Position: 851 <br>Count: 24",
          "Name: Russ <br>Position: 852 <br>Count: 24",
          "Name: Jeannie <br>Position: 853 <br>Count: 24",
          "Name: Hawkins <br>Position: 854 <br>Count: 24",
          "Name: Scotty <br>Position: 855 <br>Count: 24",
          "Name: Sheetal <br>Position: 856 <br>Count: 24",
          "Name: Salvatore <br>Position: 857 <br>Count: 24",
          "Name: Akash <br>Position: 858 <br>Count: 24",
          "Name: Leroy <br>Position: 859 <br>Count: 24",
          "Name: Mara <br>Position: 860 <br>Count: 24",
          "Name: Lana <br>Position: 861 <br>Count: 24",
          "Name: Sinclair <br>Position: 862 <br>Count: 24",
          "Name: Woods <br>Position: 863 <br>Count: 24",
          "Name: Kara <br>Position: 864 <br>Count: 24",
          "Name: Hanson <br>Position: 865 <br>Count: 24",
          "Name: Coleman <br>Position: 866 <br>Count: 24",
          "Name: Dallas <br>Position: 867 <br>Count: 24",
          "Name: Patsy <br>Position: 868 <br>Count: 24",
          "Name: Wilhelm <br>Position: 869 <br>Count: 24",
          "Name: Luc <br>Position: 870 <br>Count: 24",
          "Name: Gerard <br>Position: 871 <br>Count: 24",
          "Name: Paige <br>Position: 872 <br>Count: 24",
          "Name: Lars <br>Position: 873 <br>Count: 24",
          "Name: Ernst <br>Position: 874 <br>Count: 24",
          "Name: Neville <br>Position: 875 <br>Count: 24",
          "Name: Bertha <br>Position: 876 <br>Count: 24",
          "Name: Lucinda <br>Position: 877 <br>Count: 24",
          "Name: Gillian <br>Position: 878 <br>Count: 24",
          "Name: Aman <br>Position: 879 <br>Count: 24",
          "Name: Vishnu <br>Position: 880 <br>Count: 24",
          "Name: Roma <br>Position: 881 <br>Count: 24",
          "Name: Kristen <br>Position: 882 <br>Count: 24",
          "Name: Garrett <br>Position: 883 <br>Count: 24",
          "Name: Malone <br>Position: 884 <br>Count: 24",
          "Name: Manju <br>Position: 885 <br>Count: 24",
          "Name: Pavel <br>Position: 886 <br>Count: 24",
          "Name: Arnie <br>Position: 887 <br>Count: 24",
          "Name: Rajan <br>Position: 888 <br>Count: 23",
          "Name: Malloy <br>Position: 889 <br>Count: 23",
          "Name: Wilma <br>Position: 890 <br>Count: 23",
          "Name: Rodriguez <br>Position: 891 <br>Count: 23",
          "Name: Willard <br>Position: 892 <br>Count: 23",
          "Name: Dimitri <br>Position: 893 <br>Count: 23",
          "Name: Shalini <br>Position: 894 <br>Count: 23",
          "Name: Julien <br>Position: 895 <br>Count: 23",
          "Name: Doña <br>Position: 896 <br>Count: 23",
          "Name: Munna <br>Position: 897 <br>Count: 23",
          "Name: Sergei <br>Position: 898 <br>Count: 23",
          "Name: Janie <br>Position: 899 <br>Count: 23",
          "Name: Dixon <br>Position: 900 <br>Count: 23",
          "Name: Kabir <br>Position: 901 <br>Count: 23",
          "Name: Val <br>Position: 902 <br>Count: 23",
          "Name: Liam <br>Position: 903 <br>Count: 23",
          "Name: Boyle <br>Position: 904 <br>Count: 23",
          "Name: Gustav <br>Position: 905 <br>Count: 23",
          "Name: Grady <br>Position: 906 <br>Count: 23",
          "Name: Macbeth <br>Position: 907 <br>Count: 23",
          "Name: Elvis <br>Position: 908 <br>Count: 23",
          "Name: Maddy <br>Position: 909 <br>Count: 23",
          "Name: Mills <br>Position: 910 <br>Count: 23",
          "Name: Lili <br>Position: 911 <br>Count: 23",
          "Name: Surya <br>Position: 912 <br>Count: 23",
          "Name: Ranjeet <br>Position: 913 <br>Count: 23",
          "Name: Hubert <br>Position: 914 <br>Count: 23",
          "Name: Richards <br>Position: 915 <br>Count: 23",
          "Name: Lizzie <br>Position: 916 <br>Count: 23",
          "Name: Ganesh <br>Position: 917 <br>Count: 23",
          "Name: Weston <br>Position: 918 <br>Count: 23",
          "Name: Dilip <br>Position: 919 <br>Count: 23",
          "Name: Moneypenny <br>Position: 920 <br>Count: 23",
          "Name: Tracey <br>Position: 921 <br>Count: 23",
          "Name: Ezra <br>Position: 922 <br>Count: 23",
          "Name: Ratan <br>Position: 923 <br>Count: 23",
          "Name: Jefferson <br>Position: 924 <br>Count: 23",
          "Name: Enrique <br>Position: 925 <br>Count: 23",
          "Name: Jude <br>Position: 926 <br>Count: 23",
          "Name: Olsen <br>Position: 927 <br>Count: 23",
          "Name: Felicia <br>Position: 928 <br>Count: 22",
          "Name: Seymour <br>Position: 929 <br>Count: 22",
          "Name: Lawson <br>Position: 930 <br>Count: 22",
          "Name: Alain <br>Position: 931 <br>Count: 22",
          "Name: Prescott <br>Position: 932 <br>Count: 22",
          "Name: Gunther <br>Position: 933 <br>Count: 22",
          "Name: Jyoti <br>Position: 934 <br>Count: 22",
          "Name: Sylvie <br>Position: 935 <br>Count: 22",
          "Name: Kendall <br>Position: 936 <br>Count: 22",
          "Name: Nemo <br>Position: 937 <br>Count: 22",
          "Name: Vance <br>Position: 938 <br>Count: 22",
          "Name: Christie <br>Position: 939 <br>Count: 22",
          "Name: Irma <br>Position: 940 <br>Count: 22",
          "Name: Willem <br>Position: 941 <br>Count: 22",
          "Name: Andreas <br>Position: 942 <br>Count: 22",
          "Name: Helga <br>Position: 943 <br>Count: 22",
          "Name: Gaston <br>Position: 944 <br>Count: 22",
          "Name: Chandni <br>Position: 945 <br>Count: 22",
          "Name: Malti <br>Position: 946 <br>Count: 22",
          "Name: Solomon <br>Position: 947 <br>Count: 22",
          "Name: Winters <br>Position: 948 <br>Count: 22",
          "Name: Sharda <br>Position: 949 <br>Count: 22",
          "Name: Brennan <br>Position: 950 <br>Count: 22",
          "Name: Naina <br>Position: 951 <br>Count: 22",
          "Name: Ernesto <br>Position: 952 <br>Count: 22",
          "Name: Cecilia <br>Position: 953 <br>Count: 22",
          "Name: Indu <br>Position: 954 <br>Count: 22",
          "Name: Nellie <br>Position: 955 <br>Count: 22",
          "Name: Terri <br>Position: 956 <br>Count: 22",
          "Name: Ferguson <br>Position: 957 <br>Count: 22",
          "Name: Sudha <br>Position: 958 <br>Count: 22",
          "Name: Ursula <br>Position: 959 <br>Count: 22",
          "Name: Nathalie <br>Position: 960 <br>Count: 22",
          "Name: Farrell <br>Position: 961 <br>Count: 22",
          "Name: Antony <br>Position: 962 <br>Count: 22",
          "Name: Magda <br>Position: 963 <br>Count: 22",
          "Name: Bea <br>Position: 964 <br>Count: 22",
          "Name: Sita <br>Position: 965 <br>Count: 22",
          "Name: Felipe <br>Position: 966 <br>Count: 22",
          "Name: Shelley <br>Position: 967 <br>Count: 22",
          "Name: Trixie <br>Position: 968 <br>Count: 22",
          "Name: Annabelle <br>Position: 969 <br>Count: 21",
          "Name: Padma <br>Position: 970 <br>Count: 21",
          "Name: Thelma <br>Position: 971 <br>Count: 21",
          "Name: Jaya <br>Position: 972 <br>Count: 21",
          "Name: Harding <br>Position: 973 <br>Count: 21",
          "Name: Thor <br>Position: 974 <br>Count: 21",
          "Name: Jeanette <br>Position: 975 <br>Count: 21",
          "Name: Mercedes <br>Position: 976 <br>Count: 21",
          "Name: Sonja <br>Position: 977 <br>Count: 21",
          "Name: Mathur <br>Position: 978 <br>Count: 21",
          "Name: Renu <br>Position: 979 <br>Count: 21",
          "Name: Xiao <br>Position: 980 <br>Count: 21",
          "Name: Loomis <br>Position: 981 <br>Count: 21",
          "Name: Anwar <br>Position: 982 <br>Count: 21",
          "Name: Lucius <br>Position: 983 <br>Count: 21",
          "Name: José <br>Position: 984 <br>Count: 21",
          "Name: Johan <br>Position: 985 <br>Count: 21",
          "Name: Huang <br>Position: 986 <br>Count: 21",
          "Name: Hammond <br>Position: 987 <br>Count: 21",
          "Name: Nino <br>Position: 988 <br>Count: 21",
          "Name: Vincenzo <br>Position: 989 <br>Count: 21",
          "Name: Esteban <br>Position: 990 <br>Count: 21",
          "Name: André <br>Position: 991 <br>Count: 21",
          "Name: Hansen <br>Position: 992 <br>Count: 21",
          "Name: Leopold <br>Position: 993 <br>Count: 21",
          "Name: Debra <br>Position: 994 <br>Count: 21",
          "Name: Harley <br>Position: 995 <br>Count: 21",
          "Name: Anju <br>Position: 996 <br>Count: 21",
          "Name: Harmon <br>Position: 997 <br>Count: 21",
          "Name: Lonnie <br>Position: 998 <br>Count: 21",
          "Name: Zeus <br>Position: 999 <br>Count: 21"
         ],
         "line": {
          "color": "skyblue"
         },
         "mode": "lines+markers",
         "name": "Character Count",
         "type": "scatter",
         "x": [
          0,
          1,
          2,
          3,
          4,
          5,
          6,
          7,
          8,
          9,
          10,
          11,
          12,
          13,
          14,
          15,
          16,
          17,
          18,
          19,
          20,
          21,
          22,
          23,
          24,
          25,
          26,
          27,
          28,
          29,
          30,
          31,
          32,
          33,
          34,
          35,
          36,
          37,
          38,
          39,
          40,
          41,
          42,
          43,
          44,
          45,
          46,
          47,
          48,
          49,
          50,
          51,
          52,
          53,
          54,
          55,
          56,
          57,
          58,
          59,
          60,
          61,
          62,
          63,
          64,
          65,
          66,
          67,
          68,
          69,
          70,
          71,
          72,
          73,
          74,
          75,
          76,
          77,
          78,
          79,
          80,
          81,
          82,
          83,
          84,
          85,
          86,
          87,
          88,
          89,
          90,
          91,
          92,
          93,
          94,
          95,
          96,
          97,
          98,
          99,
          100,
          101,
          102,
          103,
          104,
          105,
          106,
          107,
          108,
          109,
          110,
          111,
          112,
          113,
          114,
          115,
          116,
          117,
          118,
          119,
          120,
          121,
          122,
          123,
          124,
          125,
          126,
          127,
          128,
          129,
          130,
          131,
          132,
          133,
          134,
          135,
          136,
          137,
          138,
          139,
          140,
          141,
          142,
          143,
          144,
          145,
          146,
          147,
          148,
          149,
          150,
          151,
          152,
          153,
          154,
          155,
          156,
          157,
          158,
          159,
          160,
          161,
          162,
          163,
          164,
          165,
          166,
          167,
          168,
          169,
          170,
          171,
          172,
          173,
          174,
          175,
          176,
          177,
          178,
          179,
          180,
          181,
          182,
          183,
          184,
          185,
          186,
          187,
          188,
          189,
          190,
          191,
          192,
          193,
          194,
          195,
          196,
          197,
          198,
          199,
          200,
          201,
          202,
          203,
          204,
          205,
          206,
          207,
          208,
          209,
          210,
          211,
          212,
          213,
          214,
          215,
          216,
          217,
          218,
          219,
          220,
          221,
          222,
          223,
          224,
          225,
          226,
          227,
          228,
          229,
          230,
          231,
          232,
          233,
          234,
          235,
          236,
          237,
          238,
          239,
          240,
          241,
          242,
          243,
          244,
          245,
          246,
          247,
          248,
          249,
          250,
          251,
          252,
          253,
          254,
          255,
          256,
          257,
          258,
          259,
          260,
          261,
          262,
          263,
          264,
          265,
          266,
          267,
          268,
          269,
          270,
          271,
          272,
          273,
          274,
          275,
          276,
          277,
          278,
          279,
          280,
          281,
          282,
          283,
          284,
          285,
          286,
          287,
          288,
          289,
          290,
          291,
          292,
          293,
          294,
          295,
          296,
          297,
          298,
          299,
          300,
          301,
          302,
          303,
          304,
          305,
          306,
          307,
          308,
          309,
          310,
          311,
          312,
          313,
          314,
          315,
          316,
          317,
          318,
          319,
          320,
          321,
          322,
          323,
          324,
          325,
          326,
          327,
          328,
          329,
          330,
          331,
          332,
          333,
          334,
          335,
          336,
          337,
          338,
          339,
          340,
          341,
          342,
          343,
          344,
          345,
          346,
          347,
          348,
          349,
          350,
          351,
          352,
          353,
          354,
          355,
          356,
          357,
          358,
          359,
          360,
          361,
          362,
          363,
          364,
          365,
          366,
          367,
          368,
          369,
          370,
          371,
          372,
          373,
          374,
          375,
          376,
          377,
          378,
          379,
          380,
          381,
          382,
          383,
          384,
          385,
          386,
          387,
          388,
          389,
          390,
          391,
          392,
          393,
          394,
          395,
          396,
          397,
          398,
          399,
          400,
          401,
          402,
          403,
          404,
          405,
          406,
          407,
          408,
          409,
          410,
          411,
          412,
          413,
          414,
          415,
          416,
          417,
          418,
          419,
          420,
          421,
          422,
          423,
          424,
          425,
          426,
          427,
          428,
          429,
          430,
          431,
          432,
          433,
          434,
          435,
          436,
          437,
          438,
          439,
          440,
          441,
          442,
          443,
          444,
          445,
          446,
          447,
          448,
          449,
          450,
          451,
          452,
          453,
          454,
          455,
          456,
          457,
          458,
          459,
          460,
          461,
          462,
          463,
          464,
          465,
          466,
          467,
          468,
          469,
          470,
          471,
          472,
          473,
          474,
          475,
          476,
          477,
          478,
          479,
          480,
          481,
          482,
          483,
          484,
          485,
          486,
          487,
          488,
          489,
          490,
          491,
          492,
          493,
          494,
          495,
          496,
          497,
          498,
          499,
          500,
          501,
          502,
          503,
          504,
          505,
          506,
          507,
          508,
          509,
          510,
          511,
          512,
          513,
          514,
          515,
          516,
          517,
          518,
          519,
          520,
          521,
          522,
          523,
          524,
          525,
          526,
          527,
          528,
          529,
          530,
          531,
          532,
          533,
          534,
          535,
          536,
          537,
          538,
          539,
          540,
          541,
          542,
          543,
          544,
          545,
          546,
          547,
          548,
          549,
          550,
          551,
          552,
          553,
          554,
          555,
          556,
          557,
          558,
          559,
          560,
          561,
          562,
          563,
          564,
          565,
          566,
          567,
          568,
          569,
          570,
          571,
          572,
          573,
          574,
          575,
          576,
          577,
          578,
          579,
          580,
          581,
          582,
          583,
          584,
          585,
          586,
          587,
          588,
          589,
          590,
          591,
          592,
          593,
          594,
          595,
          596,
          597,
          598,
          599,
          600,
          601,
          602,
          603,
          604,
          605,
          606,
          607,
          608,
          609,
          610,
          611,
          612,
          613,
          614,
          615,
          616,
          617,
          618,
          619,
          620,
          621,
          622,
          623,
          624,
          625,
          626,
          627,
          628,
          629,
          630,
          631,
          632,
          633,
          634,
          635,
          636,
          637,
          638,
          639,
          640,
          641,
          642,
          643,
          644,
          645,
          646,
          647,
          648,
          649,
          650,
          651,
          652,
          653,
          654,
          655,
          656,
          657,
          658,
          659,
          660,
          661,
          662,
          663,
          664,
          665,
          666,
          667,
          668,
          669,
          670,
          671,
          672,
          673,
          674,
          675,
          676,
          677,
          678,
          679,
          680,
          681,
          682,
          683,
          684,
          685,
          686,
          687,
          688,
          689,
          690,
          691,
          692,
          693,
          694,
          695,
          696,
          697,
          698,
          699,
          700,
          701,
          702,
          703,
          704,
          705,
          706,
          707,
          708,
          709,
          710,
          711,
          712,
          713,
          714,
          715,
          716,
          717,
          718,
          719,
          720,
          721,
          722,
          723,
          724,
          725,
          726,
          727,
          728,
          729,
          730,
          731,
          732,
          733,
          734,
          735,
          736,
          737,
          738,
          739,
          740,
          741,
          742,
          743,
          744,
          745,
          746,
          747,
          748,
          749,
          750,
          751,
          752,
          753,
          754,
          755,
          756,
          757,
          758,
          759,
          760,
          761,
          762,
          763,
          764,
          765,
          766,
          767,
          768,
          769,
          770,
          771,
          772,
          773,
          774,
          775,
          776,
          777,
          778,
          779,
          780,
          781,
          782,
          783,
          784,
          785,
          786,
          787,
          788,
          789,
          790,
          791,
          792,
          793,
          794,
          795,
          796,
          797,
          798,
          799,
          800,
          801,
          802,
          803,
          804,
          805,
          806,
          807,
          808,
          809,
          810,
          811,
          812,
          813,
          814,
          815,
          816,
          817,
          818,
          819,
          820,
          821,
          822,
          823,
          824,
          825,
          826,
          827,
          828,
          829,
          830,
          831,
          832,
          833,
          834,
          835,
          836,
          837,
          838,
          839,
          840,
          841,
          842,
          843,
          844,
          845,
          846,
          847,
          848,
          849,
          850,
          851,
          852,
          853,
          854,
          855,
          856,
          857,
          858,
          859,
          860,
          861,
          862,
          863,
          864,
          865,
          866,
          867,
          868,
          869,
          870,
          871,
          872,
          873,
          874,
          875,
          876,
          877,
          878,
          879,
          880,
          881,
          882,
          883,
          884,
          885,
          886,
          887,
          888,
          889,
          890,
          891,
          892,
          893,
          894,
          895,
          896,
          897,
          898,
          899,
          900,
          901,
          902,
          903,
          904,
          905,
          906,
          907,
          908,
          909,
          910,
          911,
          912,
          913,
          914,
          915,
          916,
          917,
          918,
          919,
          920,
          921,
          922,
          923,
          924,
          925,
          926,
          927,
          928,
          929,
          930,
          931,
          932,
          933,
          934,
          935,
          936,
          937,
          938,
          939,
          940,
          941,
          942,
          943,
          944,
          945,
          946,
          947,
          948,
          949,
          950,
          951,
          952,
          953,
          954,
          955,
          956,
          957,
          958,
          959,
          960,
          961,
          962,
          963,
          964,
          965,
          966,
          967,
          968,
          969,
          970,
          971,
          972,
          973,
          974,
          975,
          976,
          977,
          978,
          979,
          980,
          981,
          982,
          983,
          984,
          985,
          986,
          987,
          988,
          989,
          990,
          991,
          992,
          993,
          994,
          995,
          996,
          997,
          998,
          999
         ],
         "y": [
          1305,
          621,
          591,
          567,
          531,
          513,
          505,
          451,
          428,
          422,
          401,
          396,
          384,
          371,
          331,
          317,
          307,
          305,
          300,
          294,
          292,
          283,
          280,
          268,
          262,
          260,
          259,
          259,
          248,
          229,
          229,
          229,
          220,
          213,
          207,
          205,
          204,
          203,
          201,
          201,
          199,
          199,
          197,
          196,
          196,
          196,
          194,
          192,
          191,
          191,
          186,
          184,
          182,
          176,
          174,
          174,
          174,
          173,
          167,
          167,
          167,
          165,
          154,
          152,
          151,
          149,
          148,
          147,
          147,
          146,
          146,
          146,
          145,
          143,
          143,
          141,
          140,
          139,
          137,
          136,
          136,
          134,
          133,
          133,
          133,
          132,
          131,
          131,
          129,
          128,
          127,
          127,
          125,
          122,
          121,
          121,
          121,
          120,
          119,
          119,
          118,
          117,
          116,
          116,
          116,
          116,
          115,
          114,
          114,
          113,
          113,
          112,
          112,
          112,
          112,
          112,
          111,
          111,
          111,
          111,
          111,
          110,
          110,
          108,
          106,
          105,
          105,
          105,
          104,
          104,
          104,
          103,
          102,
          102,
          102,
          102,
          101,
          101,
          101,
          101,
          101,
          100,
          99,
          99,
          98,
          98,
          97,
          96,
          96,
          96,
          96,
          95,
          95,
          95,
          94,
          94,
          94,
          93,
          93,
          92,
          92,
          92,
          92,
          92,
          92,
          91,
          91,
          90,
          90,
          89,
          89,
          88,
          88,
          88,
          88,
          87,
          87,
          87,
          87,
          86,
          86,
          85,
          84,
          84,
          84,
          83,
          83,
          83,
          83,
          83,
          83,
          83,
          82,
          82,
          82,
          82,
          81,
          81,
          81,
          81,
          81,
          81,
          80,
          80,
          80,
          80,
          79,
          79,
          79,
          78,
          78,
          78,
          78,
          77,
          77,
          77,
          77,
          77,
          77,
          76,
          75,
          75,
          75,
          74,
          74,
          74,
          74,
          74,
          73,
          73,
          73,
          72,
          72,
          72,
          72,
          72,
          71,
          71,
          71,
          71,
          71,
          71,
          71,
          70,
          70,
          70,
          70,
          70,
          70,
          69,
          69,
          69,
          69,
          68,
          68,
          68,
          68,
          68,
          68,
          68,
          68,
          67,
          67,
          67,
          67,
          67,
          67,
          66,
          65,
          65,
          65,
          65,
          65,
          65,
          65,
          64,
          64,
          64,
          64,
          64,
          64,
          64,
          63,
          63,
          63,
          63,
          63,
          63,
          63,
          63,
          62,
          62,
          62,
          62,
          62,
          62,
          62,
          62,
          61,
          61,
          61,
          61,
          61,
          60,
          60,
          60,
          60,
          60,
          60,
          60,
          59,
          59,
          58,
          58,
          58,
          58,
          57,
          57,
          57,
          57,
          56,
          56,
          56,
          56,
          56,
          56,
          56,
          56,
          56,
          56,
          55,
          55,
          55,
          55,
          55,
          55,
          55,
          55,
          55,
          54,
          54,
          54,
          54,
          54,
          54,
          54,
          54,
          54,
          54,
          53,
          53,
          53,
          53,
          53,
          53,
          53,
          52,
          52,
          52,
          52,
          52,
          52,
          52,
          52,
          52,
          52,
          52,
          52,
          51,
          51,
          51,
          51,
          51,
          51,
          50,
          50,
          50,
          50,
          50,
          50,
          50,
          50,
          50,
          50,
          50,
          50,
          50,
          50,
          50,
          49,
          49,
          49,
          49,
          49,
          49,
          49,
          49,
          49,
          48,
          48,
          48,
          48,
          48,
          48,
          48,
          48,
          47,
          47,
          47,
          47,
          47,
          47,
          47,
          47,
          47,
          47,
          47,
          47,
          47,
          47,
          46,
          46,
          46,
          46,
          46,
          46,
          46,
          46,
          46,
          46,
          46,
          45,
          45,
          45,
          45,
          45,
          45,
          45,
          45,
          45,
          45,
          45,
          45,
          44,
          44,
          44,
          44,
          44,
          44,
          44,
          44,
          44,
          44,
          44,
          44,
          44,
          44,
          44,
          43,
          43,
          43,
          43,
          43,
          43,
          43,
          43,
          43,
          43,
          43,
          43,
          43,
          42,
          42,
          42,
          42,
          42,
          42,
          42,
          42,
          42,
          42,
          42,
          42,
          42,
          42,
          42,
          42,
          41,
          41,
          41,
          41,
          41,
          41,
          41,
          41,
          41,
          41,
          41,
          41,
          41,
          40,
          40,
          40,
          40,
          40,
          40,
          40,
          40,
          40,
          40,
          40,
          40,
          40,
          40,
          39,
          39,
          39,
          39,
          38,
          38,
          38,
          38,
          38,
          38,
          38,
          38,
          38,
          38,
          38,
          38,
          38,
          38,
          38,
          38,
          38,
          38,
          37,
          37,
          37,
          37,
          37,
          37,
          37,
          37,
          37,
          37,
          37,
          37,
          37,
          37,
          36,
          36,
          36,
          36,
          36,
          36,
          36,
          36,
          36,
          36,
          36,
          36,
          36,
          36,
          36,
          36,
          36,
          36,
          35,
          35,
          35,
          35,
          35,
          35,
          35,
          35,
          35,
          35,
          35,
          35,
          35,
          35,
          35,
          35,
          35,
          35,
          35,
          35,
          35,
          35,
          35,
          35,
          34,
          34,
          34,
          34,
          34,
          34,
          34,
          34,
          34,
          34,
          34,
          34,
          33,
          33,
          33,
          33,
          33,
          33,
          33,
          33,
          33,
          33,
          33,
          33,
          33,
          33,
          33,
          33,
          33,
          33,
          33,
          32,
          32,
          32,
          32,
          32,
          32,
          32,
          32,
          32,
          32,
          32,
          32,
          32,
          32,
          32,
          32,
          32,
          32,
          32,
          32,
          32,
          32,
          32,
          32,
          31,
          31,
          31,
          31,
          31,
          31,
          31,
          31,
          31,
          31,
          31,
          31,
          31,
          31,
          31,
          31,
          31,
          31,
          31,
          31,
          31,
          31,
          31,
          31,
          31,
          31,
          30,
          30,
          30,
          30,
          30,
          30,
          30,
          30,
          30,
          30,
          30,
          30,
          30,
          30,
          30,
          30,
          30,
          30,
          30,
          30,
          30,
          30,
          30,
          30,
          30,
          30,
          30,
          30,
          30,
          30,
          30,
          30,
          30,
          30,
          30,
          30,
          29,
          29,
          29,
          29,
          29,
          29,
          29,
          29,
          29,
          29,
          29,
          29,
          29,
          29,
          29,
          29,
          29,
          29,
          29,
          29,
          29,
          29,
          28,
          28,
          28,
          28,
          28,
          28,
          28,
          28,
          28,
          28,
          28,
          28,
          28,
          28,
          28,
          28,
          28,
          28,
          28,
          28,
          28,
          28,
          28,
          27,
          27,
          27,
          27,
          27,
          27,
          27,
          27,
          27,
          27,
          27,
          27,
          27,
          27,
          27,
          27,
          27,
          27,
          27,
          27,
          27,
          27,
          27,
          27,
          26,
          26,
          26,
          26,
          26,
          26,
          26,
          26,
          26,
          26,
          26,
          26,
          26,
          26,
          26,
          26,
          26,
          26,
          26,
          26,
          26,
          26,
          26,
          26,
          26,
          26,
          26,
          26,
          26,
          26,
          26,
          25,
          25,
          25,
          25,
          25,
          25,
          25,
          25,
          25,
          25,
          25,
          25,
          25,
          25,
          25,
          25,
          25,
          25,
          25,
          25,
          25,
          25,
          25,
          25,
          25,
          25,
          25,
          25,
          25,
          25,
          25,
          25,
          25,
          25,
          25,
          25,
          24,
          24,
          24,
          24,
          24,
          24,
          24,
          24,
          24,
          24,
          24,
          24,
          24,
          24,
          24,
          24,
          24,
          24,
          24,
          24,
          24,
          24,
          24,
          24,
          24,
          24,
          24,
          24,
          24,
          24,
          24,
          24,
          24,
          24,
          24,
          24,
          24,
          24,
          24,
          24,
          24,
          24,
          24,
          23,
          23,
          23,
          23,
          23,
          23,
          23,
          23,
          23,
          23,
          23,
          23,
          23,
          23,
          23,
          23,
          23,
          23,
          23,
          23,
          23,
          23,
          23,
          23,
          23,
          23,
          23,
          23,
          23,
          23,
          23,
          23,
          23,
          23,
          23,
          23,
          23,
          23,
          23,
          23,
          22,
          22,
          22,
          22,
          22,
          22,
          22,
          22,
          22,
          22,
          22,
          22,
          22,
          22,
          22,
          22,
          22,
          22,
          22,
          22,
          22,
          22,
          22,
          22,
          22,
          22,
          22,
          22,
          22,
          22,
          22,
          22,
          22,
          22,
          22,
          22,
          22,
          22,
          22,
          22,
          22,
          21,
          21,
          21,
          21,
          21,
          21,
          21,
          21,
          21,
          21,
          21,
          21,
          21,
          21,
          21,
          21,
          21,
          21,
          21,
          21,
          21,
          21,
          21,
          21,
          21,
          21,
          21,
          21,
          21,
          21,
          21
         ]
        }
       ],
       "layout": {
        "template": {
         "data": {
          "bar": [
           {
            "error_x": {
             "color": "#2a3f5f"
            },
            "error_y": {
             "color": "#2a3f5f"
            },
            "marker": {
             "line": {
              "color": "#E5ECF6",
              "width": 0.5
             },
             "pattern": {
              "fillmode": "overlay",
              "size": 10,
              "solidity": 0.2
             }
            },
            "type": "bar"
           }
          ],
          "barpolar": [
           {
            "marker": {
             "line": {
              "color": "#E5ECF6",
              "width": 0.5
             },
             "pattern": {
              "fillmode": "overlay",
              "size": 10,
              "solidity": 0.2
             }
            },
            "type": "barpolar"
           }
          ],
          "carpet": [
           {
            "aaxis": {
             "endlinecolor": "#2a3f5f",
             "gridcolor": "white",
             "linecolor": "white",
             "minorgridcolor": "white",
             "startlinecolor": "#2a3f5f"
            },
            "baxis": {
             "endlinecolor": "#2a3f5f",
             "gridcolor": "white",
             "linecolor": "white",
             "minorgridcolor": "white",
             "startlinecolor": "#2a3f5f"
            },
            "type": "carpet"
           }
          ],
          "choropleth": [
           {
            "colorbar": {
             "outlinewidth": 0,
             "ticks": ""
            },
            "type": "choropleth"
           }
          ],
          "contour": [
           {
            "colorbar": {
             "outlinewidth": 0,
             "ticks": ""
            },
            "colorscale": [
             [
              0,
              "#0d0887"
             ],
             [
              0.1111111111111111,
              "#46039f"
             ],
             [
              0.2222222222222222,
              "#7201a8"
             ],
             [
              0.3333333333333333,
              "#9c179e"
             ],
             [
              0.4444444444444444,
              "#bd3786"
             ],
             [
              0.5555555555555556,
              "#d8576b"
             ],
             [
              0.6666666666666666,
              "#ed7953"
             ],
             [
              0.7777777777777778,
              "#fb9f3a"
             ],
             [
              0.8888888888888888,
              "#fdca26"
             ],
             [
              1,
              "#f0f921"
             ]
            ],
            "type": "contour"
           }
          ],
          "contourcarpet": [
           {
            "colorbar": {
             "outlinewidth": 0,
             "ticks": ""
            },
            "type": "contourcarpet"
           }
          ],
          "heatmap": [
           {
            "colorbar": {
             "outlinewidth": 0,
             "ticks": ""
            },
            "colorscale": [
             [
              0,
              "#0d0887"
             ],
             [
              0.1111111111111111,
              "#46039f"
             ],
             [
              0.2222222222222222,
              "#7201a8"
             ],
             [
              0.3333333333333333,
              "#9c179e"
             ],
             [
              0.4444444444444444,
              "#bd3786"
             ],
             [
              0.5555555555555556,
              "#d8576b"
             ],
             [
              0.6666666666666666,
              "#ed7953"
             ],
             [
              0.7777777777777778,
              "#fb9f3a"
             ],
             [
              0.8888888888888888,
              "#fdca26"
             ],
             [
              1,
              "#f0f921"
             ]
            ],
            "type": "heatmap"
           }
          ],
          "heatmapgl": [
           {
            "colorbar": {
             "outlinewidth": 0,
             "ticks": ""
            },
            "colorscale": [
             [
              0,
              "#0d0887"
             ],
             [
              0.1111111111111111,
              "#46039f"
             ],
             [
              0.2222222222222222,
              "#7201a8"
             ],
             [
              0.3333333333333333,
              "#9c179e"
             ],
             [
              0.4444444444444444,
              "#bd3786"
             ],
             [
              0.5555555555555556,
              "#d8576b"
             ],
             [
              0.6666666666666666,
              "#ed7953"
             ],
             [
              0.7777777777777778,
              "#fb9f3a"
             ],
             [
              0.8888888888888888,
              "#fdca26"
             ],
             [
              1,
              "#f0f921"
             ]
            ],
            "type": "heatmapgl"
           }
          ],
          "histogram": [
           {
            "marker": {
             "pattern": {
              "fillmode": "overlay",
              "size": 10,
              "solidity": 0.2
             }
            },
            "type": "histogram"
           }
          ],
          "histogram2d": [
           {
            "colorbar": {
             "outlinewidth": 0,
             "ticks": ""
            },
            "colorscale": [
             [
              0,
              "#0d0887"
             ],
             [
              0.1111111111111111,
              "#46039f"
             ],
             [
              0.2222222222222222,
              "#7201a8"
             ],
             [
              0.3333333333333333,
              "#9c179e"
             ],
             [
              0.4444444444444444,
              "#bd3786"
             ],
             [
              0.5555555555555556,
              "#d8576b"
             ],
             [
              0.6666666666666666,
              "#ed7953"
             ],
             [
              0.7777777777777778,
              "#fb9f3a"
             ],
             [
              0.8888888888888888,
              "#fdca26"
             ],
             [
              1,
              "#f0f921"
             ]
            ],
            "type": "histogram2d"
           }
          ],
          "histogram2dcontour": [
           {
            "colorbar": {
             "outlinewidth": 0,
             "ticks": ""
            },
            "colorscale": [
             [
              0,
              "#0d0887"
             ],
             [
              0.1111111111111111,
              "#46039f"
             ],
             [
              0.2222222222222222,
              "#7201a8"
             ],
             [
              0.3333333333333333,
              "#9c179e"
             ],
             [
              0.4444444444444444,
              "#bd3786"
             ],
             [
              0.5555555555555556,
              "#d8576b"
             ],
             [
              0.6666666666666666,
              "#ed7953"
             ],
             [
              0.7777777777777778,
              "#fb9f3a"
             ],
             [
              0.8888888888888888,
              "#fdca26"
             ],
             [
              1,
              "#f0f921"
             ]
            ],
            "type": "histogram2dcontour"
           }
          ],
          "mesh3d": [
           {
            "colorbar": {
             "outlinewidth": 0,
             "ticks": ""
            },
            "type": "mesh3d"
           }
          ],
          "parcoords": [
           {
            "line": {
             "colorbar": {
              "outlinewidth": 0,
              "ticks": ""
             }
            },
            "type": "parcoords"
           }
          ],
          "pie": [
           {
            "automargin": true,
            "type": "pie"
           }
          ],
          "scatter": [
           {
            "fillpattern": {
             "fillmode": "overlay",
             "size": 10,
             "solidity": 0.2
            },
            "type": "scatter"
           }
          ],
          "scatter3d": [
           {
            "line": {
             "colorbar": {
              "outlinewidth": 0,
              "ticks": ""
             }
            },
            "marker": {
             "colorbar": {
              "outlinewidth": 0,
              "ticks": ""
             }
            },
            "type": "scatter3d"
           }
          ],
          "scattercarpet": [
           {
            "marker": {
             "colorbar": {
              "outlinewidth": 0,
              "ticks": ""
             }
            },
            "type": "scattercarpet"
           }
          ],
          "scattergeo": [
           {
            "marker": {
             "colorbar": {
              "outlinewidth": 0,
              "ticks": ""
             }
            },
            "type": "scattergeo"
           }
          ],
          "scattergl": [
           {
            "marker": {
             "colorbar": {
              "outlinewidth": 0,
              "ticks": ""
             }
            },
            "type": "scattergl"
           }
          ],
          "scattermapbox": [
           {
            "marker": {
             "colorbar": {
              "outlinewidth": 0,
              "ticks": ""
             }
            },
            "type": "scattermapbox"
           }
          ],
          "scatterpolar": [
           {
            "marker": {
             "colorbar": {
              "outlinewidth": 0,
              "ticks": ""
             }
            },
            "type": "scatterpolar"
           }
          ],
          "scatterpolargl": [
           {
            "marker": {
             "colorbar": {
              "outlinewidth": 0,
              "ticks": ""
             }
            },
            "type": "scatterpolargl"
           }
          ],
          "scatterternary": [
           {
            "marker": {
             "colorbar": {
              "outlinewidth": 0,
              "ticks": ""
             }
            },
            "type": "scatterternary"
           }
          ],
          "surface": [
           {
            "colorbar": {
             "outlinewidth": 0,
             "ticks": ""
            },
            "colorscale": [
             [
              0,
              "#0d0887"
             ],
             [
              0.1111111111111111,
              "#46039f"
             ],
             [
              0.2222222222222222,
              "#7201a8"
             ],
             [
              0.3333333333333333,
              "#9c179e"
             ],
             [
              0.4444444444444444,
              "#bd3786"
             ],
             [
              0.5555555555555556,
              "#d8576b"
             ],
             [
              0.6666666666666666,
              "#ed7953"
             ],
             [
              0.7777777777777778,
              "#fb9f3a"
             ],
             [
              0.8888888888888888,
              "#fdca26"
             ],
             [
              1,
              "#f0f921"
             ]
            ],
            "type": "surface"
           }
          ],
          "table": [
           {
            "cells": {
             "fill": {
              "color": "#EBF0F8"
             },
             "line": {
              "color": "white"
             }
            },
            "header": {
             "fill": {
              "color": "#C8D4E3"
             },
             "line": {
              "color": "white"
             }
            },
            "type": "table"
           }
          ]
         },
         "layout": {
          "annotationdefaults": {
           "arrowcolor": "#2a3f5f",
           "arrowhead": 0,
           "arrowwidth": 1
          },
          "autotypenumbers": "strict",
          "coloraxis": {
           "colorbar": {
            "outlinewidth": 0,
            "ticks": ""
           }
          },
          "colorscale": {
           "diverging": [
            [
             0,
             "#8e0152"
            ],
            [
             0.1,
             "#c51b7d"
            ],
            [
             0.2,
             "#de77ae"
            ],
            [
             0.3,
             "#f1b6da"
            ],
            [
             0.4,
             "#fde0ef"
            ],
            [
             0.5,
             "#f7f7f7"
            ],
            [
             0.6,
             "#e6f5d0"
            ],
            [
             0.7,
             "#b8e186"
            ],
            [
             0.8,
             "#7fbc41"
            ],
            [
             0.9,
             "#4d9221"
            ],
            [
             1,
             "#276419"
            ]
           ],
           "sequential": [
            [
             0,
             "#0d0887"
            ],
            [
             0.1111111111111111,
             "#46039f"
            ],
            [
             0.2222222222222222,
             "#7201a8"
            ],
            [
             0.3333333333333333,
             "#9c179e"
            ],
            [
             0.4444444444444444,
             "#bd3786"
            ],
            [
             0.5555555555555556,
             "#d8576b"
            ],
            [
             0.6666666666666666,
             "#ed7953"
            ],
            [
             0.7777777777777778,
             "#fb9f3a"
            ],
            [
             0.8888888888888888,
             "#fdca26"
            ],
            [
             1,
             "#f0f921"
            ]
           ],
           "sequentialminus": [
            [
             0,
             "#0d0887"
            ],
            [
             0.1111111111111111,
             "#46039f"
            ],
            [
             0.2222222222222222,
             "#7201a8"
            ],
            [
             0.3333333333333333,
             "#9c179e"
            ],
            [
             0.4444444444444444,
             "#bd3786"
            ],
            [
             0.5555555555555556,
             "#d8576b"
            ],
            [
             0.6666666666666666,
             "#ed7953"
            ],
            [
             0.7777777777777778,
             "#fb9f3a"
            ],
            [
             0.8888888888888888,
             "#fdca26"
            ],
            [
             1,
             "#f0f921"
            ]
           ]
          },
          "colorway": [
           "#636efa",
           "#EF553B",
           "#00cc96",
           "#ab63fa",
           "#FFA15A",
           "#19d3f3",
           "#FF6692",
           "#B6E880",
           "#FF97FF",
           "#FECB52"
          ],
          "font": {
           "color": "#2a3f5f"
          },
          "geo": {
           "bgcolor": "white",
           "lakecolor": "white",
           "landcolor": "#E5ECF6",
           "showlakes": true,
           "showland": true,
           "subunitcolor": "white"
          },
          "hoverlabel": {
           "align": "left"
          },
          "hovermode": "closest",
          "mapbox": {
           "style": "light"
          },
          "paper_bgcolor": "white",
          "plot_bgcolor": "#E5ECF6",
          "polar": {
           "angularaxis": {
            "gridcolor": "white",
            "linecolor": "white",
            "ticks": ""
           },
           "bgcolor": "#E5ECF6",
           "radialaxis": {
            "gridcolor": "white",
            "linecolor": "white",
            "ticks": ""
           }
          },
          "scene": {
           "xaxis": {
            "backgroundcolor": "#E5ECF6",
            "gridcolor": "white",
            "gridwidth": 2,
            "linecolor": "white",
            "showbackground": true,
            "ticks": "",
            "zerolinecolor": "white"
           },
           "yaxis": {
            "backgroundcolor": "#E5ECF6",
            "gridcolor": "white",
            "gridwidth": 2,
            "linecolor": "white",
            "showbackground": true,
            "ticks": "",
            "zerolinecolor": "white"
           },
           "zaxis": {
            "backgroundcolor": "#E5ECF6",
            "gridcolor": "white",
            "gridwidth": 2,
            "linecolor": "white",
            "showbackground": true,
            "ticks": "",
            "zerolinecolor": "white"
           }
          },
          "shapedefaults": {
           "line": {
            "color": "#2a3f5f"
           }
          },
          "ternary": {
           "aaxis": {
            "gridcolor": "white",
            "linecolor": "white",
            "ticks": ""
           },
           "baxis": {
            "gridcolor": "white",
            "linecolor": "white",
            "ticks": ""
           },
           "bgcolor": "#E5ECF6",
           "caxis": {
            "gridcolor": "white",
            "linecolor": "white",
            "ticks": ""
           }
          },
          "title": {
           "x": 0.05
          },
          "xaxis": {
           "automargin": true,
           "gridcolor": "white",
           "linecolor": "white",
           "ticks": "",
           "title": {
            "standoff": 15
           },
           "zerolinecolor": "white",
           "zerolinewidth": 2
          },
          "yaxis": {
           "automargin": true,
           "gridcolor": "white",
           "linecolor": "white",
           "ticks": "",
           "title": {
            "standoff": 15
           },
           "zerolinecolor": "white",
           "zerolinewidth": 2
          }
         }
        },
        "title": {
         "text": "1000 Most Popular Character Names"
        },
        "xaxis": {
         "showticklabels": false,
         "title": {
          "text": "Character Name"
         }
        },
        "yaxis": {
         "title": {
          "text": "Number of Apparitions"
         }
        }
       }
      }
     },
     "metadata": {},
     "output_type": "display_data"
    },
    {
     "data": {
      "text/html": [
       "<div>\n",
       "<style scoped>\n",
       "    .dataframe tbody tr th:only-of-type {\n",
       "        vertical-align: middle;\n",
       "    }\n",
       "\n",
       "    .dataframe tbody tr th {\n",
       "        vertical-align: top;\n",
       "    }\n",
       "\n",
       "    .dataframe thead th {\n",
       "        text-align: right;\n",
       "    }\n",
       "</style>\n",
       "<table border=\"1\" class=\"dataframe\">\n",
       "  <thead>\n",
       "    <tr style=\"text-align: right;\">\n",
       "      <th></th>\n",
       "      <th>Character_name</th>\n",
       "      <th>Count</th>\n",
       "      <th>Frequency (%)</th>\n",
       "    </tr>\n",
       "  </thead>\n",
       "  <tbody>\n",
       "    <tr>\n",
       "      <th>0</th>\n",
       "      <td>John</td>\n",
       "      <td>1305</td>\n",
       "      <td>0.947871</td>\n",
       "    </tr>\n",
       "    <tr>\n",
       "      <th>1</th>\n",
       "      <td>George</td>\n",
       "      <td>621</td>\n",
       "      <td>0.451056</td>\n",
       "    </tr>\n",
       "    <tr>\n",
       "      <th>2</th>\n",
       "      <td>Tom</td>\n",
       "      <td>591</td>\n",
       "      <td>0.429266</td>\n",
       "    </tr>\n",
       "    <tr>\n",
       "      <th>3</th>\n",
       "      <td>David</td>\n",
       "      <td>567</td>\n",
       "      <td>0.411833</td>\n",
       "    </tr>\n",
       "    <tr>\n",
       "      <th>4</th>\n",
       "      <td>Paul</td>\n",
       "      <td>531</td>\n",
       "      <td>0.385685</td>\n",
       "    </tr>\n",
       "  </tbody>\n",
       "</table>\n",
       "</div>"
      ],
      "text/plain": [
       "  Character_name  Count  Frequency (%)\n",
       "0           John   1305       0.947871\n",
       "1         George    621       0.451056\n",
       "2            Tom    591       0.429266\n",
       "3          David    567       0.411833\n",
       "4           Paul    531       0.385685"
      ]
     },
     "execution_count": 32,
     "metadata": {},
     "output_type": "execute_result"
    }
   ],
   "source": [
    "# Calling the function to calculate name frequencies in the 'Character_name' column\n",
    "result_df = calculate_column_freq(df_char_cleaned, 'Character_name')\n",
    "\n",
    "result_df_1000 = result_df.head(1000)\n",
    "\n",
    "# Creating the interactive line plot with hover information\n",
    "fig = go.Figure()\n",
    "\n",
    "# Adding trace for the line plot with hover text\n",
    "fig.add_trace(go.Scatter(\n",
    "    x=result_df_1000['Character_name'].index,\n",
    "    y=result_df_1000['Count'].values,\n",
    "    mode='lines+markers',\n",
    "    name='Character Count',\n",
    "    line=dict(color='skyblue'),\n",
    "    hovertext=[f\"Name: {name} <br>Position: {index} <br>Count: {count}\" for name, index, count in zip(result_df_1000['Character_name'], result_df_1000['Character_name'].index, result_df_1000['Count'].values)],\n",
    "    hoverinfo=\"text\"\n",
    "))\n",
    "\n",
    "# Setting up layout for the figure\n",
    "fig.update_layout(\n",
    "    title='1000 Most Popular Character Names',\n",
    "    xaxis_title='Character Name',\n",
    "    yaxis_title='Number of Apparitions',\n",
    "    xaxis=dict(showticklabels=False)\n",
    ")\n",
    "\n",
    "fig.show()\n",
    "\n",
    "result_df_1000.head()"
   ]
  },
  {
   "cell_type": "code",
   "execution_count": null,
   "metadata": {},
   "outputs": [],
   "source": []
  },
  {
   "cell_type": "markdown",
   "metadata": {},
   "source": [
    "## Movie Genre Analysis"
   ]
  },
  {
   "cell_type": "code",
   "execution_count": 33,
   "metadata": {},
   "outputs": [],
   "source": [
    "#Let's make a list of the genres we are interested in and assign one of them to each character\n",
    "genres_list = ['Action & Adventure', 'Drama', 'Comedy', 'Horror & Thriller', \n",
    "              'Fantasy & Sci-Fi', 'Historical & War', 'Romance', 'Documentary', \n",
    "              'Music & Performance', 'Cult & B-Movies', 'Other']\n",
    "df_char_cleaned['Genre_Category'] = df_char_cleaned['Genres'].apply(lambda x: categorize_genre(x))"
   ]
  },
  {
   "cell_type": "code",
   "execution_count": 34,
   "metadata": {},
   "outputs": [],
   "source": [
    "#Let's see the most frequent names in each genre and for each gender\n",
    "frequent_names_m, frequent_names_f = get_top_names_by_genre(df_char_cleaned)"
   ]
  },
  {
   "cell_type": "code",
   "execution_count": 35,
   "metadata": {},
   "outputs": [
    {
     "data": {
      "text/html": [
       "<div>\n",
       "<style scoped>\n",
       "    .dataframe tbody tr th:only-of-type {\n",
       "        vertical-align: middle;\n",
       "    }\n",
       "\n",
       "    .dataframe tbody tr th {\n",
       "        vertical-align: top;\n",
       "    }\n",
       "\n",
       "    .dataframe thead th {\n",
       "        text-align: right;\n",
       "    }\n",
       "</style>\n",
       "<table border=\"1\" class=\"dataframe\">\n",
       "  <thead>\n",
       "    <tr style=\"text-align: right;\">\n",
       "      <th></th>\n",
       "      <th>Action &amp; Adventure</th>\n",
       "      <th>Drama</th>\n",
       "      <th>Comedy</th>\n",
       "      <th>Horror &amp; Thriller</th>\n",
       "      <th>Fantasy &amp; Sci-Fi</th>\n",
       "      <th>Historical &amp; War</th>\n",
       "      <th>Romance</th>\n",
       "      <th>Documentary</th>\n",
       "      <th>Music &amp; Performance</th>\n",
       "      <th>Cult &amp; B-Movies</th>\n",
       "      <th>Other</th>\n",
       "    </tr>\n",
       "  </thead>\n",
       "  <tbody>\n",
       "    <tr>\n",
       "      <th>0</th>\n",
       "      <td>Sarah</td>\n",
       "      <td>Sarah</td>\n",
       "      <td>Sarah</td>\n",
       "      <td>Sarah</td>\n",
       "      <td>Susan</td>\n",
       "      <td>Elizabeth</td>\n",
       "      <td>Sarah</td>\n",
       "      <td>Elizabeth</td>\n",
       "      <td>Pooja</td>\n",
       "      <td>Sarah</td>\n",
       "      <td>Radha</td>\n",
       "    </tr>\n",
       "    <tr>\n",
       "      <th>1</th>\n",
       "      <td>Susan</td>\n",
       "      <td>Helen</td>\n",
       "      <td>Kate</td>\n",
       "      <td>Rachel</td>\n",
       "      <td>Alice</td>\n",
       "      <td>Sarah</td>\n",
       "      <td>Helen</td>\n",
       "      <td>Margaret</td>\n",
       "      <td>Priya</td>\n",
       "      <td>Helen</td>\n",
       "      <td>Rachel</td>\n",
       "    </tr>\n",
       "    <tr>\n",
       "      <th>2</th>\n",
       "      <td>Alice</td>\n",
       "      <td>Alice</td>\n",
       "      <td>Julie</td>\n",
       "      <td>Susan</td>\n",
       "      <td>Sarah</td>\n",
       "      <td>Anne</td>\n",
       "      <td>Elizabeth</td>\n",
       "      <td>Helen</td>\n",
       "      <td>Anjali</td>\n",
       "      <td>Kate</td>\n",
       "      <td>Pooja</td>\n",
       "    </tr>\n",
       "    <tr>\n",
       "      <th>3</th>\n",
       "      <td>Rachel</td>\n",
       "      <td>Susan</td>\n",
       "      <td>Alice</td>\n",
       "      <td>Alice</td>\n",
       "      <td>Elizabeth</td>\n",
       "      <td>Helen</td>\n",
       "      <td>Julie</td>\n",
       "      <td>Barbara</td>\n",
       "      <td>Tina</td>\n",
       "      <td>Rachel</td>\n",
       "      <td>Priya</td>\n",
       "    </tr>\n",
       "    <tr>\n",
       "      <th>4</th>\n",
       "      <td>Lisa</td>\n",
       "      <td>Elizabeth</td>\n",
       "      <td>Susan</td>\n",
       "      <td>Karen</td>\n",
       "      <td>Claire</td>\n",
       "      <td>Margaret</td>\n",
       "      <td>Susan</td>\n",
       "      <td>Marie</td>\n",
       "      <td>Julie</td>\n",
       "      <td>Alice</td>\n",
       "      <td>Shanti</td>\n",
       "    </tr>\n",
       "  </tbody>\n",
       "</table>\n",
       "</div>"
      ],
      "text/plain": [
       "  Action & Adventure      Drama Comedy Horror & Thriller Fantasy & Sci-Fi  \\\n",
       "0              Sarah      Sarah  Sarah             Sarah            Susan   \n",
       "1              Susan      Helen   Kate            Rachel            Alice   \n",
       "2              Alice      Alice  Julie             Susan            Sarah   \n",
       "3             Rachel      Susan  Alice             Alice        Elizabeth   \n",
       "4               Lisa  Elizabeth  Susan             Karen           Claire   \n",
       "\n",
       "  Historical & War    Romance Documentary Music & Performance Cult & B-Movies  \\\n",
       "0        Elizabeth      Sarah   Elizabeth               Pooja           Sarah   \n",
       "1            Sarah      Helen    Margaret               Priya           Helen   \n",
       "2             Anne  Elizabeth       Helen              Anjali            Kate   \n",
       "3            Helen      Julie     Barbara                Tina          Rachel   \n",
       "4         Margaret      Susan       Marie               Julie           Alice   \n",
       "\n",
       "    Other  \n",
       "0   Radha  \n",
       "1  Rachel  \n",
       "2   Pooja  \n",
       "3   Priya  \n",
       "4  Shanti  "
      ]
     },
     "execution_count": 35,
     "metadata": {},
     "output_type": "execute_result"
    }
   ],
   "source": [
    "frequent_names_f.head(5)"
   ]
  },
  {
   "cell_type": "code",
   "execution_count": 36,
   "metadata": {},
   "outputs": [
    {
     "data": {
      "text/html": [
       "<div>\n",
       "<style scoped>\n",
       "    .dataframe tbody tr th:only-of-type {\n",
       "        vertical-align: middle;\n",
       "    }\n",
       "\n",
       "    .dataframe tbody tr th {\n",
       "        vertical-align: top;\n",
       "    }\n",
       "\n",
       "    .dataframe thead th {\n",
       "        text-align: right;\n",
       "    }\n",
       "</style>\n",
       "<table border=\"1\" class=\"dataframe\">\n",
       "  <thead>\n",
       "    <tr style=\"text-align: right;\">\n",
       "      <th></th>\n",
       "      <th>Action &amp; Adventure</th>\n",
       "      <th>Drama</th>\n",
       "      <th>Comedy</th>\n",
       "      <th>Horror &amp; Thriller</th>\n",
       "      <th>Fantasy &amp; Sci-Fi</th>\n",
       "      <th>Historical &amp; War</th>\n",
       "      <th>Romance</th>\n",
       "      <th>Documentary</th>\n",
       "      <th>Music &amp; Performance</th>\n",
       "      <th>Cult &amp; B-Movies</th>\n",
       "      <th>Other</th>\n",
       "    </tr>\n",
       "  </thead>\n",
       "  <tbody>\n",
       "    <tr>\n",
       "      <th>0</th>\n",
       "      <td>John</td>\n",
       "      <td>John</td>\n",
       "      <td>John</td>\n",
       "      <td>John</td>\n",
       "      <td>John</td>\n",
       "      <td>John</td>\n",
       "      <td>John</td>\n",
       "      <td>John</td>\n",
       "      <td>John</td>\n",
       "      <td>John</td>\n",
       "      <td>John</td>\n",
       "    </tr>\n",
       "    <tr>\n",
       "      <th>1</th>\n",
       "      <td>Tom</td>\n",
       "      <td>David</td>\n",
       "      <td>George</td>\n",
       "      <td>Michael</td>\n",
       "      <td>George</td>\n",
       "      <td>William</td>\n",
       "      <td>Paul</td>\n",
       "      <td>George</td>\n",
       "      <td>George</td>\n",
       "      <td>Tom</td>\n",
       "      <td>George</td>\n",
       "    </tr>\n",
       "    <tr>\n",
       "      <th>2</th>\n",
       "      <td>James</td>\n",
       "      <td>George</td>\n",
       "      <td>Tom</td>\n",
       "      <td>David</td>\n",
       "      <td>David</td>\n",
       "      <td>George</td>\n",
       "      <td>David</td>\n",
       "      <td>Robert</td>\n",
       "      <td>Paul</td>\n",
       "      <td>David</td>\n",
       "      <td>Christmas</td>\n",
       "    </tr>\n",
       "    <tr>\n",
       "      <th>3</th>\n",
       "      <td>David</td>\n",
       "      <td>Tom</td>\n",
       "      <td>Paul</td>\n",
       "      <td>Tom</td>\n",
       "      <td>Tom</td>\n",
       "      <td>Robert</td>\n",
       "      <td>George</td>\n",
       "      <td>William</td>\n",
       "      <td>Vijay</td>\n",
       "      <td>George</td>\n",
       "      <td>Mickey</td>\n",
       "    </tr>\n",
       "    <tr>\n",
       "      <th>4</th>\n",
       "      <td>George</td>\n",
       "      <td>Paul</td>\n",
       "      <td>Charlie</td>\n",
       "      <td>Paul</td>\n",
       "      <td>James</td>\n",
       "      <td>Charles</td>\n",
       "      <td>Tom</td>\n",
       "      <td>Charles</td>\n",
       "      <td>Shekhar</td>\n",
       "      <td>Paul</td>\n",
       "      <td>James</td>\n",
       "    </tr>\n",
       "  </tbody>\n",
       "</table>\n",
       "</div>"
      ],
      "text/plain": [
       "  Action & Adventure   Drama   Comedy Horror & Thriller Fantasy & Sci-Fi  \\\n",
       "0               John    John     John              John             John   \n",
       "1                Tom   David   George           Michael           George   \n",
       "2              James  George      Tom             David            David   \n",
       "3              David     Tom     Paul               Tom              Tom   \n",
       "4             George    Paul  Charlie              Paul            James   \n",
       "\n",
       "  Historical & War Romance Documentary Music & Performance Cult & B-Movies  \\\n",
       "0             John    John        John                John            John   \n",
       "1          William    Paul      George              George             Tom   \n",
       "2           George   David      Robert                Paul           David   \n",
       "3           Robert  George     William               Vijay          George   \n",
       "4          Charles     Tom     Charles             Shekhar            Paul   \n",
       "\n",
       "       Other  \n",
       "0       John  \n",
       "1     George  \n",
       "2  Christmas  \n",
       "3     Mickey  \n",
       "4      James  "
      ]
     },
     "execution_count": 36,
     "metadata": {},
     "output_type": "execute_result"
    }
   ],
   "source": [
    "frequent_names_m.head(5)"
   ]
  },
  {
   "cell_type": "code",
   "execution_count": 37,
   "metadata": {},
   "outputs": [
    {
     "data": {
      "text/html": [
       "<div>\n",
       "<style scoped>\n",
       "    .dataframe tbody tr th:only-of-type {\n",
       "        vertical-align: middle;\n",
       "    }\n",
       "\n",
       "    .dataframe tbody tr th {\n",
       "        vertical-align: top;\n",
       "    }\n",
       "\n",
       "    .dataframe thead th {\n",
       "        text-align: right;\n",
       "    }\n",
       "</style>\n",
       "<table border=\"1\" class=\"dataframe\">\n",
       "  <thead>\n",
       "    <tr style=\"text-align: right;\">\n",
       "      <th></th>\n",
       "      <th>Genre_Category</th>\n",
       "      <th>Count</th>\n",
       "    </tr>\n",
       "  </thead>\n",
       "  <tbody>\n",
       "    <tr>\n",
       "      <th>0</th>\n",
       "      <td>Action &amp; Adventure</td>\n",
       "      <td>166</td>\n",
       "    </tr>\n",
       "    <tr>\n",
       "      <th>1</th>\n",
       "      <td>Drama</td>\n",
       "      <td>250</td>\n",
       "    </tr>\n",
       "    <tr>\n",
       "      <th>2</th>\n",
       "      <td>Comedy</td>\n",
       "      <td>142</td>\n",
       "    </tr>\n",
       "    <tr>\n",
       "      <th>3</th>\n",
       "      <td>Horror &amp; Thriller</td>\n",
       "      <td>111</td>\n",
       "    </tr>\n",
       "    <tr>\n",
       "      <th>4</th>\n",
       "      <td>Fantasy &amp; Sci-Fi</td>\n",
       "      <td>66</td>\n",
       "    </tr>\n",
       "    <tr>\n",
       "      <th>5</th>\n",
       "      <td>Historical &amp; War</td>\n",
       "      <td>56</td>\n",
       "    </tr>\n",
       "    <tr>\n",
       "      <th>6</th>\n",
       "      <td>Romance</td>\n",
       "      <td>84</td>\n",
       "    </tr>\n",
       "    <tr>\n",
       "      <th>7</th>\n",
       "      <td>Documentary</td>\n",
       "      <td>21</td>\n",
       "    </tr>\n",
       "    <tr>\n",
       "      <th>8</th>\n",
       "      <td>Music &amp; Performance</td>\n",
       "      <td>15</td>\n",
       "    </tr>\n",
       "    <tr>\n",
       "      <th>9</th>\n",
       "      <td>Cult &amp; B-Movies</td>\n",
       "      <td>49</td>\n",
       "    </tr>\n",
       "    <tr>\n",
       "      <th>10</th>\n",
       "      <td>Other</td>\n",
       "      <td>3</td>\n",
       "    </tr>\n",
       "    <tr>\n",
       "      <th>0</th>\n",
       "      <td>Total</td>\n",
       "      <td>370</td>\n",
       "    </tr>\n",
       "  </tbody>\n",
       "</table>\n",
       "</div>"
      ],
      "text/plain": [
       "         Genre_Category  Count\n",
       "0    Action & Adventure    166\n",
       "1                 Drama    250\n",
       "2                Comedy    142\n",
       "3     Horror & Thriller    111\n",
       "4      Fantasy & Sci-Fi     66\n",
       "5      Historical & War     56\n",
       "6               Romance     84\n",
       "7           Documentary     21\n",
       "8   Music & Performance     15\n",
       "9       Cult & B-Movies     49\n",
       "10                Other      3\n",
       "0                 Total    370"
      ]
     },
     "execution_count": 37,
     "metadata": {},
     "output_type": "execute_result"
    }
   ],
   "source": [
    "#Now, let's see the number of appearences of each name in our dataset, and in which genres they appear\n",
    "genre_counts_result, movies_with_name = count_name_appearance_by_genre(df_char_cleaned, genres_list, 'Leo')\n",
    "genre_counts_result.head(15)"
   ]
  },
  {
   "cell_type": "code",
   "execution_count": 38,
   "metadata": {},
   "outputs": [
    {
     "data": {
      "text/html": [
       "<div>\n",
       "<style scoped>\n",
       "    .dataframe tbody tr th:only-of-type {\n",
       "        vertical-align: middle;\n",
       "    }\n",
       "\n",
       "    .dataframe tbody tr th {\n",
       "        vertical-align: top;\n",
       "    }\n",
       "\n",
       "    .dataframe thead th {\n",
       "        text-align: right;\n",
       "    }\n",
       "</style>\n",
       "<table border=\"1\" class=\"dataframe\">\n",
       "  <thead>\n",
       "    <tr style=\"text-align: right;\">\n",
       "      <th></th>\n",
       "      <th>Wikipedia_ID</th>\n",
       "      <th>Name</th>\n",
       "      <th>Languages</th>\n",
       "      <th>Country</th>\n",
       "      <th>Genres</th>\n",
       "      <th>Character_name</th>\n",
       "      <th>Sex</th>\n",
       "      <th>Actor_age</th>\n",
       "      <th>Genre_Category</th>\n",
       "    </tr>\n",
       "  </thead>\n",
       "  <tbody>\n",
       "    <tr>\n",
       "      <th>83</th>\n",
       "      <td>27611999</td>\n",
       "      <td>Special Effects</td>\n",
       "      <td>[]</td>\n",
       "      <td>[United States of America, United Kingdom]</td>\n",
       "      <td>[Thriller, Horror, Psychological thriller, Sus...</td>\n",
       "      <td>Leon</td>\n",
       "      <td>NaN</td>\n",
       "      <td>NaN</td>\n",
       "      <td>[Action &amp; Adventure, Horror &amp; Thriller, Drama,...</td>\n",
       "    </tr>\n",
       "    <tr>\n",
       "      <th>466</th>\n",
       "      <td>21271533</td>\n",
       "      <td>Bleeder</td>\n",
       "      <td>[Danish Language]</td>\n",
       "      <td>[Denmark]</td>\n",
       "      <td>[Thriller, Drama]</td>\n",
       "      <td>Leo</td>\n",
       "      <td>M</td>\n",
       "      <td>34.0</td>\n",
       "      <td>[Action &amp; Adventure, Horror &amp; Thriller, Drama]</td>\n",
       "    </tr>\n",
       "    <tr>\n",
       "      <th>487</th>\n",
       "      <td>17379289</td>\n",
       "      <td>Without Warning</td>\n",
       "      <td>[English Language]</td>\n",
       "      <td>[United States of America]</td>\n",
       "      <td>[Science Fiction, Horror]</td>\n",
       "      <td>Leo</td>\n",
       "      <td>M</td>\n",
       "      <td>60.0</td>\n",
       "      <td>[Fantasy &amp; Sci-Fi, Horror &amp; Thriller]</td>\n",
       "    </tr>\n",
       "    <tr>\n",
       "      <th>637</th>\n",
       "      <td>13911991</td>\n",
       "      <td>A Sereia de Pedra</td>\n",
       "      <td>[French Language]</td>\n",
       "      <td>[France, Portugal]</td>\n",
       "      <td>[Silent film, Drama]</td>\n",
       "      <td>Leonor</td>\n",
       "      <td>F</td>\n",
       "      <td>NaN</td>\n",
       "      <td>[Drama]</td>\n",
       "    </tr>\n",
       "    <tr>\n",
       "      <th>1799</th>\n",
       "      <td>20927265</td>\n",
       "      <td>Camões</td>\n",
       "      <td>[Portuguese Language]</td>\n",
       "      <td>[Portugal]</td>\n",
       "      <td>[Biography, Drama]</td>\n",
       "      <td>Leonor</td>\n",
       "      <td>F</td>\n",
       "      <td>24.0</td>\n",
       "      <td>[Documentary, Drama]</td>\n",
       "    </tr>\n",
       "  </tbody>\n",
       "</table>\n",
       "</div>"
      ],
      "text/plain": [
       "      Wikipedia_ID               Name              Languages  \\\n",
       "83        27611999    Special Effects                     []   \n",
       "466       21271533            Bleeder      [Danish Language]   \n",
       "487       17379289    Without Warning     [English Language]   \n",
       "637       13911991  A Sereia de Pedra      [French Language]   \n",
       "1799      20927265             Camões  [Portuguese Language]   \n",
       "\n",
       "                                         Country  \\\n",
       "83    [United States of America, United Kingdom]   \n",
       "466                                    [Denmark]   \n",
       "487                   [United States of America]   \n",
       "637                           [France, Portugal]   \n",
       "1799                                  [Portugal]   \n",
       "\n",
       "                                                 Genres Character_name  Sex  \\\n",
       "83    [Thriller, Horror, Psychological thriller, Sus...           Leon  NaN   \n",
       "466                                   [Thriller, Drama]            Leo    M   \n",
       "487                           [Science Fiction, Horror]            Leo    M   \n",
       "637                                [Silent film, Drama]         Leonor    F   \n",
       "1799                                 [Biography, Drama]         Leonor    F   \n",
       "\n",
       "      Actor_age                                     Genre_Category  \n",
       "83          NaN  [Action & Adventure, Horror & Thriller, Drama,...  \n",
       "466        34.0     [Action & Adventure, Horror & Thriller, Drama]  \n",
       "487        60.0              [Fantasy & Sci-Fi, Horror & Thriller]  \n",
       "637         NaN                                            [Drama]  \n",
       "1799       24.0                               [Documentary, Drama]  "
      ]
     },
     "execution_count": 38,
     "metadata": {},
     "output_type": "execute_result"
    }
   ],
   "source": [
    "movies_with_name.head(5)"
   ]
  },
  {
   "cell_type": "markdown",
   "metadata": {},
   "source": [
    "On va "
   ]
  },
  {
   "cell_type": "code",
   "execution_count": null,
   "metadata": {},
   "outputs": [
    {
     "name": "stdout",
     "output_type": "stream",
     "text": [
      "0.010168728255264133\n",
      "Chi2 Stat: 10929.588681328192\n",
      "P-Value: 1.0\n",
      "Degrees of Freedom: 20063\n",
      "Expected Frequencies:\n",
      "[[0.61837349 0.38162651]\n",
      " [0.61837349 0.38162651]\n",
      " [0.61837349 0.38162651]\n",
      " ...\n",
      " [0.61837349 0.38162651]\n",
      " [0.61837349 0.38162651]\n",
      " [1.23674697 0.76325303]]\n"
     ]
    },
    {
     "data": {
      "text/html": [
       "<div>\n",
       "<style scoped>\n",
       "    .dataframe tbody tr th:only-of-type {\n",
       "        vertical-align: middle;\n",
       "    }\n",
       "\n",
       "    .dataframe tbody tr th {\n",
       "        vertical-align: top;\n",
       "    }\n",
       "\n",
       "    .dataframe thead th {\n",
       "        text-align: right;\n",
       "    }\n",
       "</style>\n",
       "<table border=\"1\" class=\"dataframe\">\n",
       "  <thead>\n",
       "    <tr style=\"text-align: right;\">\n",
       "      <th></th>\n",
       "      <th>Character_name</th>\n",
       "      <th>Action &amp; Adventure Count</th>\n",
       "      <th>Horror &amp; Thriller Count</th>\n",
       "    </tr>\n",
       "  </thead>\n",
       "  <tbody>\n",
       "    <tr>\n",
       "      <th>0</th>\n",
       "      <td>Aabid</td>\n",
       "      <td>1.0</td>\n",
       "      <td>0.0</td>\n",
       "    </tr>\n",
       "    <tr>\n",
       "      <th>1</th>\n",
       "      <td>Aachi</td>\n",
       "      <td>1.0</td>\n",
       "      <td>0.0</td>\n",
       "    </tr>\n",
       "    <tr>\n",
       "      <th>2</th>\n",
       "      <td>Aadhavan</td>\n",
       "      <td>1.0</td>\n",
       "      <td>0.0</td>\n",
       "    </tr>\n",
       "    <tr>\n",
       "      <th>3</th>\n",
       "      <td>Aadhi</td>\n",
       "      <td>1.0</td>\n",
       "      <td>0.0</td>\n",
       "    </tr>\n",
       "    <tr>\n",
       "      <th>4</th>\n",
       "      <td>Aadikesavan</td>\n",
       "      <td>1.0</td>\n",
       "      <td>0.0</td>\n",
       "    </tr>\n",
       "  </tbody>\n",
       "</table>\n",
       "</div>"
      ],
      "text/plain": [
       "  Character_name  Action & Adventure Count  Horror & Thriller Count\n",
       "0          Aabid                       1.0                      0.0\n",
       "1          Aachi                       1.0                      0.0\n",
       "2       Aadhavan                       1.0                      0.0\n",
       "3          Aadhi                       1.0                      0.0\n",
       "4    Aadikesavan                       1.0                      0.0"
      ]
     },
     "execution_count": 44,
     "metadata": {},
     "output_type": "execute_result"
    }
   ],
   "source": [
    "# Filtrer les lignes où le genre inclut \"Thriller\"\n",
    "horror_thriller_df = df_char_cleaned[df_char_cleaned['Genre_Category'].apply(lambda genres: 'Horror & Thriller' in genres)]\n",
    "horror_thriller_merged_df = horror_thriller_df.groupby('Character_name').size().reset_index(name='Horror & Thriller Count')\n",
    "\n",
    "action_adventure_df = df_char_cleaned[df_char_cleaned['Genre_Category'].apply(lambda genres: 'Action & Adventure' in genres)]\n",
    "action_adventure_merged_df = action_adventure_df.groupby('Character_name').size().reset_index(name='Action & Adventure Count')\n",
    "\n",
    "\n",
    "\n",
    "# reprendre\n",
    "cutoff_frequency = result_df['Frequency (%)'].quantile(0.99)\n",
    "print(cutoff_frequency)\n",
    "result_df = result_df[result_df['Frequency (%)'] <= cutoff_frequency]\n",
    "\n",
    "# Assuming result_df is a DataFrame containing the filtered names in a column called 'Character_name'\n",
    "filtered_names_list = result_df['Character_name'].tolist()\n",
    "\n",
    "# Filter df_char_cleaned to keep only rows with names in filtered_names_list\n",
    "filtered_df_char_98 = df_char_cleaned[df_char_cleaned['Character_name'].isin(filtered_names_list)]\n",
    "\n",
    "\n",
    "\n",
    "# Grouper par 'Character_name' et compter le nombre d'occurrences\n",
    "merged_df = pd.merge(\n",
    "    action_adventure_merged_df, \n",
    "    horror_thriller_merged_df, \n",
    "    on='Character_name', \n",
    "    how='outer'  # Use outer join to include all names\n",
    ")\n",
    "\n",
    "merged_df = merged_df.fillna(0)\n",
    "\n",
    "from scipy.stats import chi2_contingency\n",
    "\n",
    "contingency_table = merged_df.drop(columns=['Character_name']).values\n",
    "\n",
    "chi2, p, dof, expected = chi2_contingency(contingency_table)\n",
    "\n",
    "print(f\"Chi2 Stat: {chi2}\")\n",
    "print(f\"P-Value: {p}\")\n",
    "print(f\"Degrees of Freedom: {dof}\")\n",
    "print(\"Expected Frequencies:\")\n",
    "print(expected)\n",
    "\n",
    "merged_df.head()"
   ]
  },
  {
   "cell_type": "markdown",
   "metadata": {},
   "source": [
    "## Gender Analysis"
   ]
  },
  {
   "cell_type": "code",
   "execution_count": 156,
   "metadata": {},
   "outputs": [
    {
     "name": "stdout",
     "output_type": "stream",
     "text": [
      "Stats for vowels in character names by sex:\n"
     ]
    },
    {
     "data": {
      "text/html": [
       "<div>\n",
       "<style scoped>\n",
       "    .dataframe tbody tr th:only-of-type {\n",
       "        vertical-align: middle;\n",
       "    }\n",
       "\n",
       "    .dataframe tbody tr th {\n",
       "        vertical-align: top;\n",
       "    }\n",
       "\n",
       "    .dataframe thead th {\n",
       "        text-align: right;\n",
       "    }\n",
       "</style>\n",
       "<table border=\"1\" class=\"dataframe\">\n",
       "  <thead>\n",
       "    <tr style=\"text-align: right;\">\n",
       "      <th></th>\n",
       "      <th>mean</th>\n",
       "      <th>std</th>\n",
       "    </tr>\n",
       "    <tr>\n",
       "      <th>Sex</th>\n",
       "      <th></th>\n",
       "      <th></th>\n",
       "    </tr>\n",
       "  </thead>\n",
       "  <tbody>\n",
       "    <tr>\n",
       "      <th>F</th>\n",
       "      <td>2.712791</td>\n",
       "      <td>0.819139</td>\n",
       "    </tr>\n",
       "    <tr>\n",
       "      <th>M</th>\n",
       "      <td>2.408568</td>\n",
       "      <td>0.890082</td>\n",
       "    </tr>\n",
       "  </tbody>\n",
       "</table>\n",
       "</div>"
      ],
      "text/plain": [
       "         mean       std\n",
       "Sex                    \n",
       "F    2.712791  0.819139\n",
       "M    2.408568  0.890082"
      ]
     },
     "execution_count": 156,
     "metadata": {},
     "output_type": "execute_result"
    }
   ],
   "source": [
    "df_vowels, df_consonants = get_vowel_stats(df_char_cleaned)\n",
    "\n",
    "print('Stats for vowels in character names by sex:')\n",
    "df_vowels.head()"
   ]
  },
  {
   "cell_type": "code",
   "execution_count": 157,
   "metadata": {},
   "outputs": [
    {
     "name": "stdout",
     "output_type": "stream",
     "text": [
      "Stats for consonants in character names by sex:\n"
     ]
    },
    {
     "data": {
      "text/html": [
       "<div>\n",
       "<style scoped>\n",
       "    .dataframe tbody tr th:only-of-type {\n",
       "        vertical-align: middle;\n",
       "    }\n",
       "\n",
       "    .dataframe tbody tr th {\n",
       "        vertical-align: top;\n",
       "    }\n",
       "\n",
       "    .dataframe thead th {\n",
       "        text-align: right;\n",
       "    }\n",
       "</style>\n",
       "<table border=\"1\" class=\"dataframe\">\n",
       "  <thead>\n",
       "    <tr style=\"text-align: right;\">\n",
       "      <th></th>\n",
       "      <th>mean</th>\n",
       "      <th>std</th>\n",
       "    </tr>\n",
       "    <tr>\n",
       "      <th>Sex</th>\n",
       "      <th></th>\n",
       "      <th></th>\n",
       "    </tr>\n",
       "  </thead>\n",
       "  <tbody>\n",
       "    <tr>\n",
       "      <th>F</th>\n",
       "      <td>3.348056</td>\n",
       "      <td>1.253225</td>\n",
       "    </tr>\n",
       "    <tr>\n",
       "      <th>M</th>\n",
       "      <td>3.669876</td>\n",
       "      <td>1.356432</td>\n",
       "    </tr>\n",
       "  </tbody>\n",
       "</table>\n",
       "</div>"
      ],
      "text/plain": [
       "         mean       std\n",
       "Sex                    \n",
       "F    3.348056  1.253225\n",
       "M    3.669876  1.356432"
      ]
     },
     "execution_count": 157,
     "metadata": {},
     "output_type": "execute_result"
    }
   ],
   "source": [
    "print('Stats for consonants in character names by sex:')\n",
    "df_consonants.head()"
   ]
  },
  {
   "cell_type": "code",
   "execution_count": 158,
   "metadata": {},
   "outputs": [
    {
     "data": {
      "image/png": "[encoded data removed]",
      "text/plain": [
       "<Figure size 1400x600 with 2 Axes>"
      ]
     },
     "metadata": {},
     "output_type": "display_data"
    }
   ],
   "source": [
    "fig, axes = plt.subplots(1, 2, figsize=(14, 6))\n",
    "\n",
    "# Boxplot for vowel count by sex\n",
    "sns.boxenplot(data=df_char_cleaned, x='Sex', y='vowel_count', ax=axes[0])\n",
    "axes[0].set_title('Vowel Count by Sex')\n",
    "axes[0].set_xlabel('Gender')\n",
    "axes[0].set_ylabel('Vowel Count')\n",
    "\n",
    "# Boxplot for consonant count by sex\n",
    "sns.boxenplot(data=df_char_cleaned, x='Sex', y='consonant_count', ax=axes[1])\n",
    "axes[1].set_title('Consonant Count by Sex')\n",
    "axes[1].set_xlabel('Gender')\n",
    "axes[1].set_ylabel('Consonant Count')\n",
    "\n",
    "plt.tight_layout()"
   ]
  },
  {
   "cell_type": "code",
   "execution_count": 159,
   "metadata": {},
   "outputs": [
    {
     "name": "stdout",
     "output_type": "stream",
     "text": [
      "Length stats for character names by sex:\n",
      "         mean       std\n",
      "Sex                    \n",
      "F    6.060847  1.653263\n",
      "M    6.078445  1.849723\n"
     ]
    }
   ],
   "source": [
    "df_length = get_length_stats(df_char_cleaned)\n",
    "\n",
    "print('Length stats for character names by sex:')\n",
    "print(df_length)"
   ]
  },
  {
   "cell_type": "code",
   "execution_count": 160,
   "metadata": {},
   "outputs": [
    {
     "name": "stdout",
     "output_type": "stream",
     "text": [
      "Vowel percentage stats for character names by sex:\n",
      "         mean       std\n",
      "Sex                    \n",
      "F    0.455334  0.107061\n",
      "M    0.401031  0.107929\n"
     ]
    }
   ],
   "source": [
    "df_percent_vowel = get_vowel_percentage(df_char_cleaned)\n",
    "\n",
    "print('Vowel percentage stats for character names by sex:')\n",
    "print(df_percent_vowel)"
   ]
  },
  {
   "cell_type": "code",
   "execution_count": 161,
   "metadata": {},
   "outputs": [],
   "source": [
    "first_letter_counts = create_letter_count_df(df_char_cleaned,0)\n",
    "last_letter_counts = create_letter_count_df(df_char_cleaned,-1)"
   ]
  },
  {
   "cell_type": "code",
   "execution_count": 162,
   "metadata": {},
   "outputs": [
    {
     "data": {
      "application/vnd.plotly.v1+json": {
       "config": {
        "plotlyServerURL": "https://plot.ly"
       },
       "data": [
        {
         "hoverinfo": "text",
         "hovertext": [
          "Top names: Steve, Simon, Scott",
          "Top names: Michael, Max, Moe",
          "Top names: John, James, Jim",
          "Top names: Arthur, Alex, Adam",
          "Top names: Robert, Richard, Roy",
          "Top names: Charlie, Charles, Chris",
          "Top names: David, Danny, Dave",
          "Top names: Brian, Bugs, Bruce",
          "Top names: George, Gary, Gordon",
          "Top names: Paul, Phil, Philip",
          "Top names: Tom, Thomas, Tim",
          "Top names: Howard, Harold, Harvey",
          "Top names: Kevin, Karl, Kid",
          "Top names: Louis, Leo, Lawrence",
          "Top names: Fred, Francis, Frankie",
          "Top names: Eddie, Ed, Edward",
          "Top names: William, Wilson, Wayne",
          "Top names: Vijay, Vikram, Vince",
          "Top names: Norman, Neil, Nicholas",
          "Top names: Oliver, Oscar, Owen",
          "Top names: Ivan, Il, Ian",
          "Top names: Yosemite, Yuri, Yu",
          "Top names: Zack, Zach, Zeke",
          "Top names: Uday, Ulysses, Usman",
          "Top names: Quentin, Quinn, Quincy",
          "Top names: Xavier, Xiao, Xander"
         ],
         "marker": {
          "color": "skyblue"
         },
         "name": "Male",
         "type": "bar",
         "x": [
          "s",
          "m",
          "j",
          "a",
          "r",
          "c",
          "d",
          "b",
          "g",
          "p",
          "t",
          "h",
          "k",
          "l",
          "f",
          "e",
          "w",
          "v",
          "n",
          "o",
          "i",
          "y",
          "z",
          "u",
          "q",
          "x"
         ],
         "y": [
          0.0848366825165468,
          0.07707103772908652,
          0.07536259587584526,
          0.0681584669422475,
          0.06732216673436715,
          0.06278225132015962,
          0.06158753673747342,
          0.05557812238656185,
          0.04897135074430718,
          0.047131490286970446,
          0.04449117105923395,
          0.04432391101765788,
          0.04339203364316265,
          0.03856538672911042,
          0.03041743327519056,
          0.029987336025423528,
          0.026331509402403766,
          0.024384124632625265,
          0.024181023153568612,
          0.012329454493321545,
          0.01144536570213376,
          0.0069173974337530765,
          0.006642613079735251,
          0.003560249456404865,
          0.0024133234570261164,
          0.0009199302286683711
         ]
        },
        {
         "hoverinfo": "text",
         "hovertext": [
          "Top names: Sarah, Susan, Sara",
          "Top names: Marie, Maggie, Margaret",
          "Top names: Julie, Jennifer, Julia",
          "Top names: Alice, Anne, Annie",
          "Top names: Rachel, Rebecca, Radha",
          "Top names: Claire, Charlotte, Catherine",
          "Top names: Diane, Diana, Dorothy",
          "Top names: Barbara, Brenda, Becky",
          "Top names: Gloria, Gina, Gwen",
          "Top names: Priya, Pooja, Paula",
          "Top names: Tina, Tanya, Tracy",
          "Top names: Helen, Hannah, Harriet",
          "Top names: Kate, Karen, Katie",
          "Top names: Lisa, Linda, Louise",
          "Top names: Frau, Frances, Fiona",
          "Top names: Elizabeth, Emily, Ellen",
          "Top names: Wendy, Wanda, Williams",
          "Top names: Victoria, Vanessa, Valerie",
          "Top names: Nina, Nicole, Nora",
          "Top names: Olivia, Olga, Ophelia",
          "Top names: Isabel, Isabelle, Isabella",
          "Top names: Yvonne, Yvette, Yolanda",
          "Top names: Zoe, Zoey, Zora",
          "Top names: Ursula, Usha, Uma",
          "Top names: Queenie, Quinn, Qiu",
          "Top names: Xiao, Xu, Ximena"
         ],
         "marker": {
          "color": "salmon"
         },
         "name": "Female",
         "type": "bar",
         "x": [
          "s",
          "m",
          "j",
          "a",
          "r",
          "c",
          "d",
          "b",
          "g",
          "p",
          "t",
          "h",
          "k",
          "l",
          "f",
          "e",
          "w",
          "v",
          "n",
          "o",
          "i",
          "y",
          "z",
          "u",
          "q",
          "x"
         ],
         "y": [
          0.10863028726991995,
          0.10716752671569624,
          0.05871358335703547,
          0.07777010279956117,
          0.04595506074519524,
          0.0774247287798139,
          0.04412661005241559,
          0.0473975051806103,
          0.037869245459347445,
          0.03654869773678437,
          0.03435455690544878,
          0.032485473975051804,
          0.04662549266588111,
          0.06407703872252245,
          0.021941408313355816,
          0.04495957092357076,
          0.015298037462923084,
          0.022733736946893665,
          0.034293608549022796,
          0.008349924830360409,
          0.012860103205883548,
          0.007232538295883955,
          0.006744951444476047,
          0.00363658526675064,
          0.0010970704156677909,
          0.0009954898216244768
         ]
        }
       ],
       "layout": {
        "barmode": "group",
        "legend": {
         "title": {
          "text": "Gender"
         }
        },
        "template": {
         "data": {
          "bar": [
           {
            "error_x": {
             "color": "#2a3f5f"
            },
            "error_y": {
             "color": "#2a3f5f"
            },
            "marker": {
             "line": {
              "color": "#E5ECF6",
              "width": 0.5
             },
             "pattern": {
              "fillmode": "overlay",
              "size": 10,
              "solidity": 0.2
             }
            },
            "type": "bar"
           }
          ],
          "barpolar": [
           {
            "marker": {
             "line": {
              "color": "#E5ECF6",
              "width": 0.5
             },
             "pattern": {
              "fillmode": "overlay",
              "size": 10,
              "solidity": 0.2
             }
            },
            "type": "barpolar"
           }
          ],
          "carpet": [
           {
            "aaxis": {
             "endlinecolor": "#2a3f5f",
             "gridcolor": "white",
             "linecolor": "white",
             "minorgridcolor": "white",
             "startlinecolor": "#2a3f5f"
            },
            "baxis": {
             "endlinecolor": "#2a3f5f",
             "gridcolor": "white",
             "linecolor": "white",
             "minorgridcolor": "white",
             "startlinecolor": "#2a3f5f"
            },
            "type": "carpet"
           }
          ],
          "choropleth": [
           {
            "colorbar": {
             "outlinewidth": 0,
             "ticks": ""
            },
            "type": "choropleth"
           }
          ],
          "contour": [
           {
            "colorbar": {
             "outlinewidth": 0,
             "ticks": ""
            },
            "colorscale": [
             [
              0,
              "#0d0887"
             ],
             [
              0.1111111111111111,
              "#46039f"
             ],
             [
              0.2222222222222222,
              "#7201a8"
             ],
             [
              0.3333333333333333,
              "#9c179e"
             ],
             [
              0.4444444444444444,
              "#bd3786"
             ],
             [
              0.5555555555555556,
              "#d8576b"
             ],
             [
              0.6666666666666666,
              "#ed7953"
             ],
             [
              0.7777777777777778,
              "#fb9f3a"
             ],
             [
              0.8888888888888888,
              "#fdca26"
             ],
             [
              1,
              "#f0f921"
             ]
            ],
            "type": "contour"
           }
          ],
          "contourcarpet": [
           {
            "colorbar": {
             "outlinewidth": 0,
             "ticks": ""
            },
            "type": "contourcarpet"
           }
          ],
          "heatmap": [
           {
            "colorbar": {
             "outlinewidth": 0,
             "ticks": ""
            },
            "colorscale": [
             [
              0,
              "#0d0887"
             ],
             [
              0.1111111111111111,
              "#46039f"
             ],
             [
              0.2222222222222222,
              "#7201a8"
             ],
             [
              0.3333333333333333,
              "#9c179e"
             ],
             [
              0.4444444444444444,
              "#bd3786"
             ],
             [
              0.5555555555555556,
              "#d8576b"
             ],
             [
              0.6666666666666666,
              "#ed7953"
             ],
             [
              0.7777777777777778,
              "#fb9f3a"
             ],
             [
              0.8888888888888888,
              "#fdca26"
             ],
             [
              1,
              "#f0f921"
             ]
            ],
            "type": "heatmap"
           }
          ],
          "heatmapgl": [
           {
            "colorbar": {
             "outlinewidth": 0,
             "ticks": ""
            },
            "colorscale": [
             [
              0,
              "#0d0887"
             ],
             [
              0.1111111111111111,
              "#46039f"
             ],
             [
              0.2222222222222222,
              "#7201a8"
             ],
             [
              0.3333333333333333,
              "#9c179e"
             ],
             [
              0.4444444444444444,
              "#bd3786"
             ],
             [
              0.5555555555555556,
              "#d8576b"
             ],
             [
              0.6666666666666666,
              "#ed7953"
             ],
             [
              0.7777777777777778,
              "#fb9f3a"
             ],
             [
              0.8888888888888888,
              "#fdca26"
             ],
             [
              1,
              "#f0f921"
             ]
            ],
            "type": "heatmapgl"
           }
          ],
          "histogram": [
           {
            "marker": {
             "pattern": {
              "fillmode": "overlay",
              "size": 10,
              "solidity": 0.2
             }
            },
            "type": "histogram"
           }
          ],
          "histogram2d": [
           {
            "colorbar": {
             "outlinewidth": 0,
             "ticks": ""
            },
            "colorscale": [
             [
              0,
              "#0d0887"
             ],
             [
              0.1111111111111111,
              "#46039f"
             ],
             [
              0.2222222222222222,
              "#7201a8"
             ],
             [
              0.3333333333333333,
              "#9c179e"
             ],
             [
              0.4444444444444444,
              "#bd3786"
             ],
             [
              0.5555555555555556,
              "#d8576b"
             ],
             [
              0.6666666666666666,
              "#ed7953"
             ],
             [
              0.7777777777777778,
              "#fb9f3a"
             ],
             [
              0.8888888888888888,
              "#fdca26"
             ],
             [
              1,
              "#f0f921"
             ]
            ],
            "type": "histogram2d"
           }
          ],
          "histogram2dcontour": [
           {
            "colorbar": {
             "outlinewidth": 0,
             "ticks": ""
            },
            "colorscale": [
             [
              0,
              "#0d0887"
             ],
             [
              0.1111111111111111,
              "#46039f"
             ],
             [
              0.2222222222222222,
              "#7201a8"
             ],
             [
              0.3333333333333333,
              "#9c179e"
             ],
             [
              0.4444444444444444,
              "#bd3786"
             ],
             [
              0.5555555555555556,
              "#d8576b"
             ],
             [
              0.6666666666666666,
              "#ed7953"
             ],
             [
              0.7777777777777778,
              "#fb9f3a"
             ],
             [
              0.8888888888888888,
              "#fdca26"
             ],
             [
              1,
              "#f0f921"
             ]
            ],
            "type": "histogram2dcontour"
           }
          ],
          "mesh3d": [
           {
            "colorbar": {
             "outlinewidth": 0,
             "ticks": ""
            },
            "type": "mesh3d"
           }
          ],
          "parcoords": [
           {
            "line": {
             "colorbar": {
              "outlinewidth": 0,
              "ticks": ""
             }
            },
            "type": "parcoords"
           }
          ],
          "pie": [
           {
            "automargin": true,
            "type": "pie"
           }
          ],
          "scatter": [
           {
            "fillpattern": {
             "fillmode": "overlay",
             "size": 10,
             "solidity": 0.2
            },
            "type": "scatter"
           }
          ],
          "scatter3d": [
           {
            "line": {
             "colorbar": {
              "outlinewidth": 0,
              "ticks": ""
             }
            },
            "marker": {
             "colorbar": {
              "outlinewidth": 0,
              "ticks": ""
             }
            },
            "type": "scatter3d"
           }
          ],
          "scattercarpet": [
           {
            "marker": {
             "colorbar": {
              "outlinewidth": 0,
              "ticks": ""
             }
            },
            "type": "scattercarpet"
           }
          ],
          "scattergeo": [
           {
            "marker": {
             "colorbar": {
              "outlinewidth": 0,
              "ticks": ""
             }
            },
            "type": "scattergeo"
           }
          ],
          "scattergl": [
           {
            "marker": {
             "colorbar": {
              "outlinewidth": 0,
              "ticks": ""
             }
            },
            "type": "scattergl"
           }
          ],
          "scattermapbox": [
           {
            "marker": {
             "colorbar": {
              "outlinewidth": 0,
              "ticks": ""
             }
            },
            "type": "scattermapbox"
           }
          ],
          "scatterpolar": [
           {
            "marker": {
             "colorbar": {
              "outlinewidth": 0,
              "ticks": ""
             }
            },
            "type": "scatterpolar"
           }
          ],
          "scatterpolargl": [
           {
            "marker": {
             "colorbar": {
              "outlinewidth": 0,
              "ticks": ""
             }
            },
            "type": "scatterpolargl"
           }
          ],
          "scatterternary": [
           {
            "marker": {
             "colorbar": {
              "outlinewidth": 0,
              "ticks": ""
             }
            },
            "type": "scatterternary"
           }
          ],
          "surface": [
           {
            "colorbar": {
             "outlinewidth": 0,
             "ticks": ""
            },
            "colorscale": [
             [
              0,
              "#0d0887"
             ],
             [
              0.1111111111111111,
              "#46039f"
             ],
             [
              0.2222222222222222,
              "#7201a8"
             ],
             [
              0.3333333333333333,
              "#9c179e"
             ],
             [
              0.4444444444444444,
              "#bd3786"
             ],
             [
              0.5555555555555556,
              "#d8576b"
             ],
             [
              0.6666666666666666,
              "#ed7953"
             ],
             [
              0.7777777777777778,
              "#fb9f3a"
             ],
             [
              0.8888888888888888,
              "#fdca26"
             ],
             [
              1,
              "#f0f921"
             ]
            ],
            "type": "surface"
           }
          ],
          "table": [
           {
            "cells": {
             "fill": {
              "color": "#EBF0F8"
             },
             "line": {
              "color": "white"
             }
            },
            "header": {
             "fill": {
              "color": "#C8D4E3"
             },
             "line": {
              "color": "white"
             }
            },
            "type": "table"
           }
          ]
         },
         "layout": {
          "annotationdefaults": {
           "arrowcolor": "#2a3f5f",
           "arrowhead": 0,
           "arrowwidth": 1
          },
          "autotypenumbers": "strict",
          "coloraxis": {
           "colorbar": {
            "outlinewidth": 0,
            "ticks": ""
           }
          },
          "colorscale": {
           "diverging": [
            [
             0,
             "#8e0152"
            ],
            [
             0.1,
             "#c51b7d"
            ],
            [
             0.2,
             "#de77ae"
            ],
            [
             0.3,
             "#f1b6da"
            ],
            [
             0.4,
             "#fde0ef"
            ],
            [
             0.5,
             "#f7f7f7"
            ],
            [
             0.6,
             "#e6f5d0"
            ],
            [
             0.7,
             "#b8e186"
            ],
            [
             0.8,
             "#7fbc41"
            ],
            [
             0.9,
             "#4d9221"
            ],
            [
             1,
             "#276419"
            ]
           ],
           "sequential": [
            [
             0,
             "#0d0887"
            ],
            [
             0.1111111111111111,
             "#46039f"
            ],
            [
             0.2222222222222222,
             "#7201a8"
            ],
            [
             0.3333333333333333,
             "#9c179e"
            ],
            [
             0.4444444444444444,
             "#bd3786"
            ],
            [
             0.5555555555555556,
             "#d8576b"
            ],
            [
             0.6666666666666666,
             "#ed7953"
            ],
            [
             0.7777777777777778,
             "#fb9f3a"
            ],
            [
             0.8888888888888888,
             "#fdca26"
            ],
            [
             1,
             "#f0f921"
            ]
           ],
           "sequentialminus": [
            [
             0,
             "#0d0887"
            ],
            [
             0.1111111111111111,
             "#46039f"
            ],
            [
             0.2222222222222222,
             "#7201a8"
            ],
            [
             0.3333333333333333,
             "#9c179e"
            ],
            [
             0.4444444444444444,
             "#bd3786"
            ],
            [
             0.5555555555555556,
             "#d8576b"
            ],
            [
             0.6666666666666666,
             "#ed7953"
            ],
            [
             0.7777777777777778,
             "#fb9f3a"
            ],
            [
             0.8888888888888888,
             "#fdca26"
            ],
            [
             1,
             "#f0f921"
            ]
           ]
          },
          "colorway": [
           "#636efa",
           "#EF553B",
           "#00cc96",
           "#ab63fa",
           "#FFA15A",
           "#19d3f3",
           "#FF6692",
           "#B6E880",
           "#FF97FF",
           "#FECB52"
          ],
          "font": {
           "color": "#2a3f5f"
          },
          "geo": {
           "bgcolor": "white",
           "lakecolor": "white",
           "landcolor": "#E5ECF6",
           "showlakes": true,
           "showland": true,
           "subunitcolor": "white"
          },
          "hoverlabel": {
           "align": "left"
          },
          "hovermode": "closest",
          "mapbox": {
           "style": "light"
          },
          "paper_bgcolor": "white",
          "plot_bgcolor": "#E5ECF6",
          "polar": {
           "angularaxis": {
            "gridcolor": "white",
            "linecolor": "white",
            "ticks": ""
           },
           "bgcolor": "#E5ECF6",
           "radialaxis": {
            "gridcolor": "white",
            "linecolor": "white",
            "ticks": ""
           }
          },
          "scene": {
           "xaxis": {
            "backgroundcolor": "#E5ECF6",
            "gridcolor": "white",
            "gridwidth": 2,
            "linecolor": "white",
            "showbackground": true,
            "ticks": "",
            "zerolinecolor": "white"
           },
           "yaxis": {
            "backgroundcolor": "#E5ECF6",
            "gridcolor": "white",
            "gridwidth": 2,
            "linecolor": "white",
            "showbackground": true,
            "ticks": "",
            "zerolinecolor": "white"
           },
           "zaxis": {
            "backgroundcolor": "#E5ECF6",
            "gridcolor": "white",
            "gridwidth": 2,
            "linecolor": "white",
            "showbackground": true,
            "ticks": "",
            "zerolinecolor": "white"
           }
          },
          "shapedefaults": {
           "line": {
            "color": "#2a3f5f"
           }
          },
          "ternary": {
           "aaxis": {
            "gridcolor": "white",
            "linecolor": "white",
            "ticks": ""
           },
           "baxis": {
            "gridcolor": "white",
            "linecolor": "white",
            "ticks": ""
           },
           "bgcolor": "#E5ECF6",
           "caxis": {
            "gridcolor": "white",
            "linecolor": "white",
            "ticks": ""
           }
          },
          "title": {
           "x": 0.05
          },
          "xaxis": {
           "automargin": true,
           "gridcolor": "white",
           "linecolor": "white",
           "ticks": "",
           "title": {
            "standoff": 15
           },
           "zerolinecolor": "white",
           "zerolinewidth": 2
          },
          "yaxis": {
           "automargin": true,
           "gridcolor": "white",
           "linecolor": "white",
           "ticks": "",
           "title": {
            "standoff": 15
           },
           "zerolinecolor": "white",
           "zerolinewidth": 2
          }
         }
        },
        "title": {
         "text": "Percentage of Names Starting by Each Letter by Gender"
        },
        "xaxis": {
         "title": {
          "text": "Letter of the Name"
         }
        },
        "yaxis": {
         "ticksuffix": "%",
         "title": {
          "text": "% of Total Names by Gender"
         }
        }
       }
      }
     },
     "metadata": {},
     "output_type": "display_data"
    },
    {
     "data": {
      "application/vnd.plotly.v1+json": {
       "config": {
        "plotlyServerURL": "https://plot.ly"
       },
       "data": [
        {
         "hoverinfo": "text",
         "hovertext": [
          "Top names: John, Simon, Kevin",
          "Top names: James, Charles, Thomas",
          "Top names: George, Charlie, Steve",
          "Top names: Johnny, Danny, Andy",
          "Top names: Arthur, Alexander, Oliver",
          "Top names: David, Richard, Ed",
          "Top names: Paul, Michael, Daniel",
          "Top names: Leo, Antonio, Bruno",
          "Top names: Ravi, Ali, Jai",
          "Top names: Krishna, Santa, Joshua",
          "Top names: Robert, Matt, Scott",
          "Top names: Tom, Jim, William",
          "Top names: Joseph, Mitch, Keith",
          "Top names: Lou, Raju, Stu",
          "Top names: Patrick, Derek, Ashok",
          "Top names: Doug, Greg, Craig",
          "Top names: Max, Alex, Felix",
          "Top names: Franz, Fritz, Heinz",
          "Top names: Philip, Phillip, Pratap",
          "Top names: Rajiv, Gustav, Yadav",
          "Top names: Vic, Isaac, Dominic",
          "Top names: Andrew, Matthew, Winslow",
          "Top names: Josef, Adolf, Rudolf",
          "Top names: Jacob, Caleb, Jeb",
          "Top names: Suraj, Manoj, Balraj",
          "Top names: André, José, René"
         ],
         "marker": {
          "color": "skyblue"
         },
         "name": "Male",
         "type": "bar",
         "x": [
          "n",
          "s",
          "e",
          "y",
          "r",
          "d",
          "l",
          "o",
          "i",
          "a",
          "t",
          "m",
          "h",
          "u",
          "k",
          "g",
          "x",
          "z",
          "p",
          "v",
          "c",
          "w",
          "f",
          "b",
          "j",
          "é"
         ],
         "y": [
          0.16776182170079568,
          0.10538577333874938,
          0.10129984946596259,
          0.07225633796086114,
          0.06981912021218131,
          0.062447731237007476,
          0.05975962342596354,
          0.058218441614298344,
          0.04353539939308499,
          0.04342787508064323,
          0.04327256218489403,
          0.03849370385414924,
          0.027836849776588374,
          0.019557477718573035,
          0.01765788153210198,
          0.014133473513177702,
          0.009701082411411913,
          0.008637786432821199,
          0.006069150080045877,
          0.005364268476261021,
          0.005101431268070058,
          0.00505364268476261,
          0.004922224080667129,
          0.004050082435306205,
          0.0029748393108886286,
          0.0014575517908771594
         ]
        },
        {
         "hoverinfo": "text",
         "hovertext": [
          "Top names: Helen, Susan, Karen",
          "Top names: Doris, Frances, Agnes",
          "Top names: Alice, Kate, Julie",
          "Top names: Emily, Wendy, Judy",
          "Top names: Jennifer, Eleanor, Esther",
          "Top names: Girlfriend, Ingrid, Mildred",
          "Top names: Rachel, Jill, Gail",
          "Top names: Margo, Flo, Cleo",
          "Top names: Anjali, Shanti, Nikki",
          "Top names: Lisa, Barbara, Linda",
          "Top names: Margaret, Janet, Harriet",
          "Top names: Miriam, Neelam, Shabnam",
          "Top names: Sarah, Elizabeth, Hannah",
          "Top names: Frau, Madhu, Lou",
          "Top names: Chadwick, Mak, Indisk",
          "Top names: Meg, Ying, Craig",
          "Top names: Alex, Max, Beatrix",
          "Top names: Liz, Inez, Roz",
          "Top names: Boop, Lemp, Miep",
          "Top names: Bev, Viv, Liv",
          "Top names: Vic, Isaac, Gothic",
          "Top names: Mevrouw, Vrouw, Winslow",
          "Top names: Sif, Metcalf, Wolff",
          "Top names: Nightclub, Zainab, Cobb",
          "Top names: Saroj, Asajj, Yuvraj",
          "Top names: Chloé, Zoé, Padmé"
         ],
         "marker": {
          "color": "salmon"
         },
         "name": "Female",
         "type": "bar",
         "x": [
          "n",
          "s",
          "e",
          "y",
          "r",
          "d",
          "l",
          "o",
          "i",
          "a",
          "t",
          "m",
          "h",
          "u",
          "k",
          "g",
          "x",
          "z",
          "p",
          "v",
          "c",
          "w",
          "f",
          "b",
          "j",
          "é"
         ],
         "y": [
          0.09971151111291698,
          0.04189183698346268,
          0.21297387347121205,
          0.06935922961277477,
          0.02486692942180326,
          0.013327373938482791,
          0.02968184957945634,
          0.01832513916541384,
          0.07472268497826175,
          0.3189630652960059,
          0.01972695136321157,
          0.005729145504042908,
          0.028869204827109828,
          0.014383812116533258,
          0.004083539880541221,
          0.0058713583357035476,
          0.003047417821299419,
          0.005810409979277559,
          0.0010970704156677909,
          0.0008329608711551745,
          0.000690748039494535,
          0.0017065539799276746,
          0.0009954898216244768,
          0.0008939092275811629,
          0.0003047417821299419,
          0.0009142253463898257
         ]
        }
       ],
       "layout": {
        "barmode": "group",
        "legend": {
         "title": {
          "text": "Gender"
         }
        },
        "template": {
         "data": {
          "bar": [
           {
            "error_x": {
             "color": "#2a3f5f"
            },
            "error_y": {
             "color": "#2a3f5f"
            },
            "marker": {
             "line": {
              "color": "#E5ECF6",
              "width": 0.5
             },
             "pattern": {
              "fillmode": "overlay",
              "size": 10,
              "solidity": 0.2
             }
            },
            "type": "bar"
           }
          ],
          "barpolar": [
           {
            "marker": {
             "line": {
              "color": "#E5ECF6",
              "width": 0.5
             },
             "pattern": {
              "fillmode": "overlay",
              "size": 10,
              "solidity": 0.2
             }
            },
            "type": "barpolar"
           }
          ],
          "carpet": [
           {
            "aaxis": {
             "endlinecolor": "#2a3f5f",
             "gridcolor": "white",
             "linecolor": "white",
             "minorgridcolor": "white",
             "startlinecolor": "#2a3f5f"
            },
            "baxis": {
             "endlinecolor": "#2a3f5f",
             "gridcolor": "white",
             "linecolor": "white",
             "minorgridcolor": "white",
             "startlinecolor": "#2a3f5f"
            },
            "type": "carpet"
           }
          ],
          "choropleth": [
           {
            "colorbar": {
             "outlinewidth": 0,
             "ticks": ""
            },
            "type": "choropleth"
           }
          ],
          "contour": [
           {
            "colorbar": {
             "outlinewidth": 0,
             "ticks": ""
            },
            "colorscale": [
             [
              0,
              "#0d0887"
             ],
             [
              0.1111111111111111,
              "#46039f"
             ],
             [
              0.2222222222222222,
              "#7201a8"
             ],
             [
              0.3333333333333333,
              "#9c179e"
             ],
             [
              0.4444444444444444,
              "#bd3786"
             ],
             [
              0.5555555555555556,
              "#d8576b"
             ],
             [
              0.6666666666666666,
              "#ed7953"
             ],
             [
              0.7777777777777778,
              "#fb9f3a"
             ],
             [
              0.8888888888888888,
              "#fdca26"
             ],
             [
              1,
              "#f0f921"
             ]
            ],
            "type": "contour"
           }
          ],
          "contourcarpet": [
           {
            "colorbar": {
             "outlinewidth": 0,
             "ticks": ""
            },
            "type": "contourcarpet"
           }
          ],
          "heatmap": [
           {
            "colorbar": {
             "outlinewidth": 0,
             "ticks": ""
            },
            "colorscale": [
             [
              0,
              "#0d0887"
             ],
             [
              0.1111111111111111,
              "#46039f"
             ],
             [
              0.2222222222222222,
              "#7201a8"
             ],
             [
              0.3333333333333333,
              "#9c179e"
             ],
             [
              0.4444444444444444,
              "#bd3786"
             ],
             [
              0.5555555555555556,
              "#d8576b"
             ],
             [
              0.6666666666666666,
              "#ed7953"
             ],
             [
              0.7777777777777778,
              "#fb9f3a"
             ],
             [
              0.8888888888888888,
              "#fdca26"
             ],
             [
              1,
              "#f0f921"
             ]
            ],
            "type": "heatmap"
           }
          ],
          "heatmapgl": [
           {
            "colorbar": {
             "outlinewidth": 0,
             "ticks": ""
            },
            "colorscale": [
             [
              0,
              "#0d0887"
             ],
             [
              0.1111111111111111,
              "#46039f"
             ],
             [
              0.2222222222222222,
              "#7201a8"
             ],
             [
              0.3333333333333333,
              "#9c179e"
             ],
             [
              0.4444444444444444,
              "#bd3786"
             ],
             [
              0.5555555555555556,
              "#d8576b"
             ],
             [
              0.6666666666666666,
              "#ed7953"
             ],
             [
              0.7777777777777778,
              "#fb9f3a"
             ],
             [
              0.8888888888888888,
              "#fdca26"
             ],
             [
              1,
              "#f0f921"
             ]
            ],
            "type": "heatmapgl"
           }
          ],
          "histogram": [
           {
            "marker": {
             "pattern": {
              "fillmode": "overlay",
              "size": 10,
              "solidity": 0.2
             }
            },
            "type": "histogram"
           }
          ],
          "histogram2d": [
           {
            "colorbar": {
             "outlinewidth": 0,
             "ticks": ""
            },
            "colorscale": [
             [
              0,
              "#0d0887"
             ],
             [
              0.1111111111111111,
              "#46039f"
             ],
             [
              0.2222222222222222,
              "#7201a8"
             ],
             [
              0.3333333333333333,
              "#9c179e"
             ],
             [
              0.4444444444444444,
              "#bd3786"
             ],
             [
              0.5555555555555556,
              "#d8576b"
             ],
             [
              0.6666666666666666,
              "#ed7953"
             ],
             [
              0.7777777777777778,
              "#fb9f3a"
             ],
             [
              0.8888888888888888,
              "#fdca26"
             ],
             [
              1,
              "#f0f921"
             ]
            ],
            "type": "histogram2d"
           }
          ],
          "histogram2dcontour": [
           {
            "colorbar": {
             "outlinewidth": 0,
             "ticks": ""
            },
            "colorscale": [
             [
              0,
              "#0d0887"
             ],
             [
              0.1111111111111111,
              "#46039f"
             ],
             [
              0.2222222222222222,
              "#7201a8"
             ],
             [
              0.3333333333333333,
              "#9c179e"
             ],
             [
              0.4444444444444444,
              "#bd3786"
             ],
             [
              0.5555555555555556,
              "#d8576b"
             ],
             [
              0.6666666666666666,
              "#ed7953"
             ],
             [
              0.7777777777777778,
              "#fb9f3a"
             ],
             [
              0.8888888888888888,
              "#fdca26"
             ],
             [
              1,
              "#f0f921"
             ]
            ],
            "type": "histogram2dcontour"
           }
          ],
          "mesh3d": [
           {
            "colorbar": {
             "outlinewidth": 0,
             "ticks": ""
            },
            "type": "mesh3d"
           }
          ],
          "parcoords": [
           {
            "line": {
             "colorbar": {
              "outlinewidth": 0,
              "ticks": ""
             }
            },
            "type": "parcoords"
           }
          ],
          "pie": [
           {
            "automargin": true,
            "type": "pie"
           }
          ],
          "scatter": [
           {
            "fillpattern": {
             "fillmode": "overlay",
             "size": 10,
             "solidity": 0.2
            },
            "type": "scatter"
           }
          ],
          "scatter3d": [
           {
            "line": {
             "colorbar": {
              "outlinewidth": 0,
              "ticks": ""
             }
            },
            "marker": {
             "colorbar": {
              "outlinewidth": 0,
              "ticks": ""
             }
            },
            "type": "scatter3d"
           }
          ],
          "scattercarpet": [
           {
            "marker": {
             "colorbar": {
              "outlinewidth": 0,
              "ticks": ""
             }
            },
            "type": "scattercarpet"
           }
          ],
          "scattergeo": [
           {
            "marker": {
             "colorbar": {
              "outlinewidth": 0,
              "ticks": ""
             }
            },
            "type": "scattergeo"
           }
          ],
          "scattergl": [
           {
            "marker": {
             "colorbar": {
              "outlinewidth": 0,
              "ticks": ""
             }
            },
            "type": "scattergl"
           }
          ],
          "scattermapbox": [
           {
            "marker": {
             "colorbar": {
              "outlinewidth": 0,
              "ticks": ""
             }
            },
            "type": "scattermapbox"
           }
          ],
          "scatterpolar": [
           {
            "marker": {
             "colorbar": {
              "outlinewidth": 0,
              "ticks": ""
             }
            },
            "type": "scatterpolar"
           }
          ],
          "scatterpolargl": [
           {
            "marker": {
             "colorbar": {
              "outlinewidth": 0,
              "ticks": ""
             }
            },
            "type": "scatterpolargl"
           }
          ],
          "scatterternary": [
           {
            "marker": {
             "colorbar": {
              "outlinewidth": 0,
              "ticks": ""
             }
            },
            "type": "scatterternary"
           }
          ],
          "surface": [
           {
            "colorbar": {
             "outlinewidth": 0,
             "ticks": ""
            },
            "colorscale": [
             [
              0,
              "#0d0887"
             ],
             [
              0.1111111111111111,
              "#46039f"
             ],
             [
              0.2222222222222222,
              "#7201a8"
             ],
             [
              0.3333333333333333,
              "#9c179e"
             ],
             [
              0.4444444444444444,
              "#bd3786"
             ],
             [
              0.5555555555555556,
              "#d8576b"
             ],
             [
              0.6666666666666666,
              "#ed7953"
             ],
             [
              0.7777777777777778,
              "#fb9f3a"
             ],
             [
              0.8888888888888888,
              "#fdca26"
             ],
             [
              1,
              "#f0f921"
             ]
            ],
            "type": "surface"
           }
          ],
          "table": [
           {
            "cells": {
             "fill": {
              "color": "#EBF0F8"
             },
             "line": {
              "color": "white"
             }
            },
            "header": {
             "fill": {
              "color": "#C8D4E3"
             },
             "line": {
              "color": "white"
             }
            },
            "type": "table"
           }
          ]
         },
         "layout": {
          "annotationdefaults": {
           "arrowcolor": "#2a3f5f",
           "arrowhead": 0,
           "arrowwidth": 1
          },
          "autotypenumbers": "strict",
          "coloraxis": {
           "colorbar": {
            "outlinewidth": 0,
            "ticks": ""
           }
          },
          "colorscale": {
           "diverging": [
            [
             0,
             "#8e0152"
            ],
            [
             0.1,
             "#c51b7d"
            ],
            [
             0.2,
             "#de77ae"
            ],
            [
             0.3,
             "#f1b6da"
            ],
            [
             0.4,
             "#fde0ef"
            ],
            [
             0.5,
             "#f7f7f7"
            ],
            [
             0.6,
             "#e6f5d0"
            ],
            [
             0.7,
             "#b8e186"
            ],
            [
             0.8,
             "#7fbc41"
            ],
            [
             0.9,
             "#4d9221"
            ],
            [
             1,
             "#276419"
            ]
           ],
           "sequential": [
            [
             0,
             "#0d0887"
            ],
            [
             0.1111111111111111,
             "#46039f"
            ],
            [
             0.2222222222222222,
             "#7201a8"
            ],
            [
             0.3333333333333333,
             "#9c179e"
            ],
            [
             0.4444444444444444,
             "#bd3786"
            ],
            [
             0.5555555555555556,
             "#d8576b"
            ],
            [
             0.6666666666666666,
             "#ed7953"
            ],
            [
             0.7777777777777778,
             "#fb9f3a"
            ],
            [
             0.8888888888888888,
             "#fdca26"
            ],
            [
             1,
             "#f0f921"
            ]
           ],
           "sequentialminus": [
            [
             0,
             "#0d0887"
            ],
            [
             0.1111111111111111,
             "#46039f"
            ],
            [
             0.2222222222222222,
             "#7201a8"
            ],
            [
             0.3333333333333333,
             "#9c179e"
            ],
            [
             0.4444444444444444,
             "#bd3786"
            ],
            [
             0.5555555555555556,
             "#d8576b"
            ],
            [
             0.6666666666666666,
             "#ed7953"
            ],
            [
             0.7777777777777778,
             "#fb9f3a"
            ],
            [
             0.8888888888888888,
             "#fdca26"
            ],
            [
             1,
             "#f0f921"
            ]
           ]
          },
          "colorway": [
           "#636efa",
           "#EF553B",
           "#00cc96",
           "#ab63fa",
           "#FFA15A",
           "#19d3f3",
           "#FF6692",
           "#B6E880",
           "#FF97FF",
           "#FECB52"
          ],
          "font": {
           "color": "#2a3f5f"
          },
          "geo": {
           "bgcolor": "white",
           "lakecolor": "white",
           "landcolor": "#E5ECF6",
           "showlakes": true,
           "showland": true,
           "subunitcolor": "white"
          },
          "hoverlabel": {
           "align": "left"
          },
          "hovermode": "closest",
          "mapbox": {
           "style": "light"
          },
          "paper_bgcolor": "white",
          "plot_bgcolor": "#E5ECF6",
          "polar": {
           "angularaxis": {
            "gridcolor": "white",
            "linecolor": "white",
            "ticks": ""
           },
           "bgcolor": "#E5ECF6",
           "radialaxis": {
            "gridcolor": "white",
            "linecolor": "white",
            "ticks": ""
           }
          },
          "scene": {
           "xaxis": {
            "backgroundcolor": "#E5ECF6",
            "gridcolor": "white",
            "gridwidth": 2,
            "linecolor": "white",
            "showbackground": true,
            "ticks": "",
            "zerolinecolor": "white"
           },
           "yaxis": {
            "backgroundcolor": "#E5ECF6",
            "gridcolor": "white",
            "gridwidth": 2,
            "linecolor": "white",
            "showbackground": true,
            "ticks": "",
            "zerolinecolor": "white"
           },
           "zaxis": {
            "backgroundcolor": "#E5ECF6",
            "gridcolor": "white",
            "gridwidth": 2,
            "linecolor": "white",
            "showbackground": true,
            "ticks": "",
            "zerolinecolor": "white"
           }
          },
          "shapedefaults": {
           "line": {
            "color": "#2a3f5f"
           }
          },
          "ternary": {
           "aaxis": {
            "gridcolor": "white",
            "linecolor": "white",
            "ticks": ""
           },
           "baxis": {
            "gridcolor": "white",
            "linecolor": "white",
            "ticks": ""
           },
           "bgcolor": "#E5ECF6",
           "caxis": {
            "gridcolor": "white",
            "linecolor": "white",
            "ticks": ""
           }
          },
          "title": {
           "x": 0.05
          },
          "xaxis": {
           "automargin": true,
           "gridcolor": "white",
           "linecolor": "white",
           "ticks": "",
           "title": {
            "standoff": 15
           },
           "zerolinecolor": "white",
           "zerolinewidth": 2
          },
          "yaxis": {
           "automargin": true,
           "gridcolor": "white",
           "linecolor": "white",
           "ticks": "",
           "title": {
            "standoff": 15
           },
           "zerolinecolor": "white",
           "zerolinewidth": 2
          }
         }
        },
        "title": {
         "text": "Percentage of Names Ending by Each Letter by Gender"
        },
        "xaxis": {
         "title": {
          "text": "Letter of the Name"
         }
        },
        "yaxis": {
         "ticksuffix": "%",
         "title": {
          "text": "% of Total Names by Gender"
         }
        }
       }
      }
     },
     "metadata": {},
     "output_type": "display_data"
    }
   ],
   "source": [
    "plot_letter_name_percentage(df_char_cleaned, 0)\n",
    "plot_letter_name_percentage(df_char_cleaned, -1)"
   ]
  },
  {
   "cell_type": "code",
   "execution_count": 163,
   "metadata": {},
   "outputs": [
    {
     "data": {
      "image/png": "[encoded data removed]",
      "text/plain": [
       "<Figure size 2000x700 with 1 Axes>"
      ]
     },
     "metadata": {},
     "output_type": "display_data"
    }
   ],
   "source": [
    "fig, ax = plt.subplots(figsize=(20, 7))\n",
    "\n",
    "last_letter_counts.plot(kind='bar', ax=ax, color=['skyblue', 'salmon'], width=0.8)\n",
    "\n",
    "ax.set_title('Percentage of names finishing by each letter per Gender', fontsize=16)\n",
    "ax.set_xlabel('Last letter of the name', fontsize=12)\n",
    "ax.set_ylabel('% of the total names by Gender', fontsize=12)\n",
    "ax.yaxis.set_major_formatter(ticker.FuncFormatter(lambda y, _: f'{y*100:.0f}%'))\n",
    "\n",
    "ax.legend(['Hommes', 'Femmes'])\n",
    "\n",
    "plt.xticks(rotation=0)\n",
    "plt.tight_layout()\n",
    "plt.show()"
   ]
  },
  {
   "cell_type": "code",
   "execution_count": 173,
   "metadata": {},
   "outputs": [
    {
     "name": "stderr",
     "output_type": "stream",
     "text": [
      "d:\\ada-2024-project-adadasurmonbidet2024\\src\\utils\\results_utils.py:235: FutureWarning:\n",
      "\n",
      "The default of observed=False is deprecated and will be changed to True in a future version of pandas. Pass observed=False to retain current behavior or observed=True to adopt the future default and silence this warning.\n",
      "\n",
      "C:\\Users\\amaur\\AppData\\Local\\Temp\\ipykernel_1884\\1270236452.py:4: FutureWarning:\n",
      "\n",
      "The default of observed=False is deprecated and will be changed to True in a future version of pandas. Pass observed=False to retain current behavior or observed=True to adopt the future default and silence this warning.\n",
      "\n"
     ]
    }
   ],
   "source": [
    "age_sex_percentage, age_labels = get_age_sex_percentage(df_char_cleaned)\n",
    "\n",
    "top_names = (\n",
    "    df_char_cleaned.groupby(['age_category', 'Sex'])['Character_name']\n",
    "    .apply(lambda x: x.value_counts().head(3).index.tolist())\n",
    "    .unstack(fill_value=[])\n",
    ")"
   ]
  },
  {
   "cell_type": "code",
   "execution_count": 165,
   "metadata": {},
   "outputs": [
    {
     "data": {
      "application/vnd.plotly.v1+json": {
       "config": {
        "plotlyServerURL": "https://plot.ly"
       },
       "data": [
        {
         "hoverinfo": "text",
         "hovertext": [
          "Top names: Michael, Mickey, Kid",
          "Top names: Kid, Charlie, Michael",
          "Top names: Paul, Danny, Michael",
          "Top names: John, David, Tom",
          "Top names: John, David, Tom",
          "Top names: John, George, Robert",
          "Top names: John, George, James",
          "Top names: John, George, Charles",
          "Top names: John, Arthur, Max",
          "Top names: Donald, Smurf, Gus"
         ],
         "marker": {
          "color": "skyblue"
         },
         "name": "Male",
         "type": "bar",
         "x": [
          "<12y",
          "13y-17y",
          "18y-24y",
          "25y-34y",
          "35y-44y",
          "45y-54y",
          "55y-64y",
          "65y-74y",
          "75y-84y",
          ">85y"
         ],
         "y": [
          0.9139566557549401,
          1.4109579221523978,
          4.367876514300733,
          18.28032782968149,
          20.962462067811998,
          14.797734821151225,
          8.287735060094144,
          3.2579866669852575,
          0.9223196578337435,
          0.13739217700891257
         ]
        },
        {
         "hoverinfo": "text",
         "hovertext": [
          "Top names: Susan, Katie, Samantha",
          "Top names: Sarah, Alice, Samantha",
          "Top names: Priya, Julie, Pooja",
          "Top names: Sarah, Kate, Lisa",
          "Top names: Sarah, Susan, Kate",
          "Top names: Helen, Sarah, Martha",
          "Top names: Helen, Margaret, Barbara",
          "Top names: Martha, Helen, mère",
          "Top names: Jessica, Helen, Gloria",
          "Top names: Annie, Mme, Chopra"
         ],
         "marker": {
          "color": "salmon"
         },
         "name": "Female",
         "type": "bar",
         "x": [
          "<12y",
          "13y-17y",
          "18y-24y",
          "25y-34y",
          "35y-44y",
          "45y-54y",
          "55y-64y",
          "65y-74y",
          "75y-84y",
          ">85y"
         ],
         "y": [
          1.6496688472634187,
          2.5720206411767097,
          14.243630896753483,
          28.86920482710983,
          15.395554833204663,
          7.492584616634838,
          3.788956157815611,
          1.6334159522164886,
          0.6460525781154769,
          0.14424444354150584
         ]
        }
       ],
       "layout": {
        "barmode": "group",
        "legend": {
         "title": {
          "text": "Gender"
         }
        },
        "template": {
         "data": {
          "bar": [
           {
            "error_x": {
             "color": "#2a3f5f"
            },
            "error_y": {
             "color": "#2a3f5f"
            },
            "marker": {
             "line": {
              "color": "#E5ECF6",
              "width": 0.5
             },
             "pattern": {
              "fillmode": "overlay",
              "size": 10,
              "solidity": 0.2
             }
            },
            "type": "bar"
           }
          ],
          "barpolar": [
           {
            "marker": {
             "line": {
              "color": "#E5ECF6",
              "width": 0.5
             },
             "pattern": {
              "fillmode": "overlay",
              "size": 10,
              "solidity": 0.2
             }
            },
            "type": "barpolar"
           }
          ],
          "carpet": [
           {
            "aaxis": {
             "endlinecolor": "#2a3f5f",
             "gridcolor": "white",
             "linecolor": "white",
             "minorgridcolor": "white",
             "startlinecolor": "#2a3f5f"
            },
            "baxis": {
             "endlinecolor": "#2a3f5f",
             "gridcolor": "white",
             "linecolor": "white",
             "minorgridcolor": "white",
             "startlinecolor": "#2a3f5f"
            },
            "type": "carpet"
           }
          ],
          "choropleth": [
           {
            "colorbar": {
             "outlinewidth": 0,
             "ticks": ""
            },
            "type": "choropleth"
           }
          ],
          "contour": [
           {
            "colorbar": {
             "outlinewidth": 0,
             "ticks": ""
            },
            "colorscale": [
             [
              0,
              "#0d0887"
             ],
             [
              0.1111111111111111,
              "#46039f"
             ],
             [
              0.2222222222222222,
              "#7201a8"
             ],
             [
              0.3333333333333333,
              "#9c179e"
             ],
             [
              0.4444444444444444,
              "#bd3786"
             ],
             [
              0.5555555555555556,
              "#d8576b"
             ],
             [
              0.6666666666666666,
              "#ed7953"
             ],
             [
              0.7777777777777778,
              "#fb9f3a"
             ],
             [
              0.8888888888888888,
              "#fdca26"
             ],
             [
              1,
              "#f0f921"
             ]
            ],
            "type": "contour"
           }
          ],
          "contourcarpet": [
           {
            "colorbar": {
             "outlinewidth": 0,
             "ticks": ""
            },
            "type": "contourcarpet"
           }
          ],
          "heatmap": [
           {
            "colorbar": {
             "outlinewidth": 0,
             "ticks": ""
            },
            "colorscale": [
             [
              0,
              "#0d0887"
             ],
             [
              0.1111111111111111,
              "#46039f"
             ],
             [
              0.2222222222222222,
              "#7201a8"
             ],
             [
              0.3333333333333333,
              "#9c179e"
             ],
             [
              0.4444444444444444,
              "#bd3786"
             ],
             [
              0.5555555555555556,
              "#d8576b"
             ],
             [
              0.6666666666666666,
              "#ed7953"
             ],
             [
              0.7777777777777778,
              "#fb9f3a"
             ],
             [
              0.8888888888888888,
              "#fdca26"
             ],
             [
              1,
              "#f0f921"
             ]
            ],
            "type": "heatmap"
           }
          ],
          "heatmapgl": [
           {
            "colorbar": {
             "outlinewidth": 0,
             "ticks": ""
            },
            "colorscale": [
             [
              0,
              "#0d0887"
             ],
             [
              0.1111111111111111,
              "#46039f"
             ],
             [
              0.2222222222222222,
              "#7201a8"
             ],
             [
              0.3333333333333333,
              "#9c179e"
             ],
             [
              0.4444444444444444,
              "#bd3786"
             ],
             [
              0.5555555555555556,
              "#d8576b"
             ],
             [
              0.6666666666666666,
              "#ed7953"
             ],
             [
              0.7777777777777778,
              "#fb9f3a"
             ],
             [
              0.8888888888888888,
              "#fdca26"
             ],
             [
              1,
              "#f0f921"
             ]
            ],
            "type": "heatmapgl"
           }
          ],
          "histogram": [
           {
            "marker": {
             "pattern": {
              "fillmode": "overlay",
              "size": 10,
              "solidity": 0.2
             }
            },
            "type": "histogram"
           }
          ],
          "histogram2d": [
           {
            "colorbar": {
             "outlinewidth": 0,
             "ticks": ""
            },
            "colorscale": [
             [
              0,
              "#0d0887"
             ],
             [
              0.1111111111111111,
              "#46039f"
             ],
             [
              0.2222222222222222,
              "#7201a8"
             ],
             [
              0.3333333333333333,
              "#9c179e"
             ],
             [
              0.4444444444444444,
              "#bd3786"
             ],
             [
              0.5555555555555556,
              "#d8576b"
             ],
             [
              0.6666666666666666,
              "#ed7953"
             ],
             [
              0.7777777777777778,
              "#fb9f3a"
             ],
             [
              0.8888888888888888,
              "#fdca26"
             ],
             [
              1,
              "#f0f921"
             ]
            ],
            "type": "histogram2d"
           }
          ],
          "histogram2dcontour": [
           {
            "colorbar": {
             "outlinewidth": 0,
             "ticks": ""
            },
            "colorscale": [
             [
              0,
              "#0d0887"
             ],
             [
              0.1111111111111111,
              "#46039f"
             ],
             [
              0.2222222222222222,
              "#7201a8"
             ],
             [
              0.3333333333333333,
              "#9c179e"
             ],
             [
              0.4444444444444444,
              "#bd3786"
             ],
             [
              0.5555555555555556,
              "#d8576b"
             ],
             [
              0.6666666666666666,
              "#ed7953"
             ],
             [
              0.7777777777777778,
              "#fb9f3a"
             ],
             [
              0.8888888888888888,
              "#fdca26"
             ],
             [
              1,
              "#f0f921"
             ]
            ],
            "type": "histogram2dcontour"
           }
          ],
          "mesh3d": [
           {
            "colorbar": {
             "outlinewidth": 0,
             "ticks": ""
            },
            "type": "mesh3d"
           }
          ],
          "parcoords": [
           {
            "line": {
             "colorbar": {
              "outlinewidth": 0,
              "ticks": ""
             }
            },
            "type": "parcoords"
           }
          ],
          "pie": [
           {
            "automargin": true,
            "type": "pie"
           }
          ],
          "scatter": [
           {
            "fillpattern": {
             "fillmode": "overlay",
             "size": 10,
             "solidity": 0.2
            },
            "type": "scatter"
           }
          ],
          "scatter3d": [
           {
            "line": {
             "colorbar": {
              "outlinewidth": 0,
              "ticks": ""
             }
            },
            "marker": {
             "colorbar": {
              "outlinewidth": 0,
              "ticks": ""
             }
            },
            "type": "scatter3d"
           }
          ],
          "scattercarpet": [
           {
            "marker": {
             "colorbar": {
              "outlinewidth": 0,
              "ticks": ""
             }
            },
            "type": "scattercarpet"
           }
          ],
          "scattergeo": [
           {
            "marker": {
             "colorbar": {
              "outlinewidth": 0,
              "ticks": ""
             }
            },
            "type": "scattergeo"
           }
          ],
          "scattergl": [
           {
            "marker": {
             "colorbar": {
              "outlinewidth": 0,
              "ticks": ""
             }
            },
            "type": "scattergl"
           }
          ],
          "scattermapbox": [
           {
            "marker": {
             "colorbar": {
              "outlinewidth": 0,
              "ticks": ""
             }
            },
            "type": "scattermapbox"
           }
          ],
          "scatterpolar": [
           {
            "marker": {
             "colorbar": {
              "outlinewidth": 0,
              "ticks": ""
             }
            },
            "type": "scatterpolar"
           }
          ],
          "scatterpolargl": [
           {
            "marker": {
             "colorbar": {
              "outlinewidth": 0,
              "ticks": ""
             }
            },
            "type": "scatterpolargl"
           }
          ],
          "scatterternary": [
           {
            "marker": {
             "colorbar": {
              "outlinewidth": 0,
              "ticks": ""
             }
            },
            "type": "scatterternary"
           }
          ],
          "surface": [
           {
            "colorbar": {
             "outlinewidth": 0,
             "ticks": ""
            },
            "colorscale": [
             [
              0,
              "#0d0887"
             ],
             [
              0.1111111111111111,
              "#46039f"
             ],
             [
              0.2222222222222222,
              "#7201a8"
             ],
             [
              0.3333333333333333,
              "#9c179e"
             ],
             [
              0.4444444444444444,
              "#bd3786"
             ],
             [
              0.5555555555555556,
              "#d8576b"
             ],
             [
              0.6666666666666666,
              "#ed7953"
             ],
             [
              0.7777777777777778,
              "#fb9f3a"
             ],
             [
              0.8888888888888888,
              "#fdca26"
             ],
             [
              1,
              "#f0f921"
             ]
            ],
            "type": "surface"
           }
          ],
          "table": [
           {
            "cells": {
             "fill": {
              "color": "#EBF0F8"
             },
             "line": {
              "color": "white"
             }
            },
            "header": {
             "fill": {
              "color": "#C8D4E3"
             },
             "line": {
              "color": "white"
             }
            },
            "type": "table"
           }
          ]
         },
         "layout": {
          "annotationdefaults": {
           "arrowcolor": "#2a3f5f",
           "arrowhead": 0,
           "arrowwidth": 1
          },
          "autotypenumbers": "strict",
          "coloraxis": {
           "colorbar": {
            "outlinewidth": 0,
            "ticks": ""
           }
          },
          "colorscale": {
           "diverging": [
            [
             0,
             "#8e0152"
            ],
            [
             0.1,
             "#c51b7d"
            ],
            [
             0.2,
             "#de77ae"
            ],
            [
             0.3,
             "#f1b6da"
            ],
            [
             0.4,
             "#fde0ef"
            ],
            [
             0.5,
             "#f7f7f7"
            ],
            [
             0.6,
             "#e6f5d0"
            ],
            [
             0.7,
             "#b8e186"
            ],
            [
             0.8,
             "#7fbc41"
            ],
            [
             0.9,
             "#4d9221"
            ],
            [
             1,
             "#276419"
            ]
           ],
           "sequential": [
            [
             0,
             "#0d0887"
            ],
            [
             0.1111111111111111,
             "#46039f"
            ],
            [
             0.2222222222222222,
             "#7201a8"
            ],
            [
             0.3333333333333333,
             "#9c179e"
            ],
            [
             0.4444444444444444,
             "#bd3786"
            ],
            [
             0.5555555555555556,
             "#d8576b"
            ],
            [
             0.6666666666666666,
             "#ed7953"
            ],
            [
             0.7777777777777778,
             "#fb9f3a"
            ],
            [
             0.8888888888888888,
             "#fdca26"
            ],
            [
             1,
             "#f0f921"
            ]
           ],
           "sequentialminus": [
            [
             0,
             "#0d0887"
            ],
            [
             0.1111111111111111,
             "#46039f"
            ],
            [
             0.2222222222222222,
             "#7201a8"
            ],
            [
             0.3333333333333333,
             "#9c179e"
            ],
            [
             0.4444444444444444,
             "#bd3786"
            ],
            [
             0.5555555555555556,
             "#d8576b"
            ],
            [
             0.6666666666666666,
             "#ed7953"
            ],
            [
             0.7777777777777778,
             "#fb9f3a"
            ],
            [
             0.8888888888888888,
             "#fdca26"
            ],
            [
             1,
             "#f0f921"
            ]
           ]
          },
          "colorway": [
           "#636efa",
           "#EF553B",
           "#00cc96",
           "#ab63fa",
           "#FFA15A",
           "#19d3f3",
           "#FF6692",
           "#B6E880",
           "#FF97FF",
           "#FECB52"
          ],
          "font": {
           "color": "#2a3f5f"
          },
          "geo": {
           "bgcolor": "white",
           "lakecolor": "white",
           "landcolor": "#E5ECF6",
           "showlakes": true,
           "showland": true,
           "subunitcolor": "white"
          },
          "hoverlabel": {
           "align": "left"
          },
          "hovermode": "closest",
          "mapbox": {
           "style": "light"
          },
          "paper_bgcolor": "white",
          "plot_bgcolor": "#E5ECF6",
          "polar": {
           "angularaxis": {
            "gridcolor": "white",
            "linecolor": "white",
            "ticks": ""
           },
           "bgcolor": "#E5ECF6",
           "radialaxis": {
            "gridcolor": "white",
            "linecolor": "white",
            "ticks": ""
           }
          },
          "scene": {
           "xaxis": {
            "backgroundcolor": "#E5ECF6",
            "gridcolor": "white",
            "gridwidth": 2,
            "linecolor": "white",
            "showbackground": true,
            "ticks": "",
            "zerolinecolor": "white"
           },
           "yaxis": {
            "backgroundcolor": "#E5ECF6",
            "gridcolor": "white",
            "gridwidth": 2,
            "linecolor": "white",
            "showbackground": true,
            "ticks": "",
            "zerolinecolor": "white"
           },
           "zaxis": {
            "backgroundcolor": "#E5ECF6",
            "gridcolor": "white",
            "gridwidth": 2,
            "linecolor": "white",
            "showbackground": true,
            "ticks": "",
            "zerolinecolor": "white"
           }
          },
          "shapedefaults": {
           "line": {
            "color": "#2a3f5f"
           }
          },
          "ternary": {
           "aaxis": {
            "gridcolor": "white",
            "linecolor": "white",
            "ticks": ""
           },
           "baxis": {
            "gridcolor": "white",
            "linecolor": "white",
            "ticks": ""
           },
           "bgcolor": "#E5ECF6",
           "caxis": {
            "gridcolor": "white",
            "linecolor": "white",
            "ticks": ""
           }
          },
          "title": {
           "x": 0.05
          },
          "xaxis": {
           "automargin": true,
           "gridcolor": "white",
           "linecolor": "white",
           "ticks": "",
           "title": {
            "standoff": 15
           },
           "zerolinecolor": "white",
           "zerolinewidth": 2
          },
          "yaxis": {
           "automargin": true,
           "gridcolor": "white",
           "linecolor": "white",
           "ticks": "",
           "title": {
            "standoff": 15
           },
           "zerolinecolor": "white",
           "zerolinewidth": 2
          }
         }
        },
        "title": {
         "text": "Percentage of Males and Females in Each Age Category"
        },
        "xaxis": {
         "tickangle": 0,
         "tickvals": [
          "<12y",
          "13y-17y",
          "18y-24y",
          "25y-34y",
          "35y-44y",
          "45y-54y",
          "55y-64y",
          "65y-74y",
          "75y-84y",
          ">85y"
         ],
         "title": {
          "text": "Age Category"
         }
        },
        "yaxis": {
         "ticksuffix": "%",
         "title": {
          "text": "% of Total Males/Females"
         }
        }
       }
      }
     },
     "metadata": {},
     "output_type": "display_data"
    }
   ],
   "source": [
    "fig = go.Figure()\n",
    "\n",
    "for sex in ['M', 'F']:\n",
    "    fig.add_trace(go.Bar(\n",
    "        x=age_labels,\n",
    "        y=age_sex_percentage[sex],\n",
    "        name='Male' if sex == 'M' else 'Female',\n",
    "        marker_color='skyblue' if sex == 'M' else 'salmon',\n",
    "        hovertext=[f\"Top names: {', '.join(top_names.loc[age, sex])}\" for age in age_labels],\n",
    "        hoverinfo=\"text\"\n",
    "    ))\n",
    "\n",
    "fig.update_layout(\n",
    "    title='Percentage of Males and Females in Each Age Category',\n",
    "    xaxis_title='Age Category',\n",
    "    yaxis_title='% of Total Males/Females',\n",
    "    barmode='group',\n",
    "    xaxis=dict(tickvals=age_labels, tickangle=0),\n",
    "    yaxis=dict(ticksuffix='%'),\n",
    "    legend=dict(title=\"Gender\")\n",
    ")\n",
    "\n",
    "fig.show()"
   ]
  },
  {
   "cell_type": "markdown",
   "metadata": {},
   "source": [
    "## Country Analysis"
   ]
  },
  {
   "cell_type": "code",
   "execution_count": 166,
   "metadata": {},
   "outputs": [
    {
     "name": "stdout",
     "output_type": "stream",
     "text": [
      "       Continent Female_name Male_name\n",
      "0         Africa      Amina*     Omar*\n",
      "1           Asia       Priya     Vijay\n",
      "2         Europe       Marie      John\n",
      "3  North America       Sarah      John\n",
      "4        Oceania       Angie      John\n",
      "5  South America        Dona      João\n"
     ]
    }
   ],
   "source": [
    "countries_code = []\n",
    "\n",
    "df_continent = create_continent_df(df_char_cleaned,countries_code)\n",
    "print(df_continent)"
   ]
  },
  {
   "cell_type": "markdown",
   "metadata": {},
   "source": [
    "In this table we see the most recurrent character names for each continent. For Asia, we see that the most common names are indian names. Is it because other nearby countries are influenced by the bollywood industry or because India's movies are predominent in this dataset? \n",
    "We will try to answer the question by plotting the most common character names per country and reting it with the number of movies from this country in the dataset."
   ]
  },
  {
   "cell_type": "code",
   "execution_count": 167,
   "metadata": {},
   "outputs": [
    {
     "ename": "TypeError",
     "evalue": "country_to_continent() missing 1 required positional argument: 'countries_code'",
     "output_type": "error",
     "traceback": [
      "\u001b[0;31m---------------------------------------------------------------------------\u001b[0m",
      "\u001b[0;31mTypeError\u001b[0m                                 Traceback (most recent call last)",
      "Cell \u001b[0;32mIn[167], line 2\u001b[0m\n\u001b[1;32m      1\u001b[0m df_top_names \u001b[38;5;241m=\u001b[39m create_top_names_df(df_char_cleaned)\n\u001b[0;32m----> 2\u001b[0m df_nb_movies \u001b[38;5;241m=\u001b[39m create_nb_movie_df(df_char_cleaned)\n",
      "File \u001b[0;32m~/Desktop/ada-2024-project-adadasurmonbidet2024/src/utils/results_utils.py:239\u001b[0m, in \u001b[0;36mcreate_nb_movie_df\u001b[0;34m(movies_df)\u001b[0m\n\u001b[1;32m    237\u001b[0m \u001b[38;5;28;01mdef\u001b[39;00m \u001b[38;5;21mcreate_nb_movie_df\u001b[39m(movies_df:pd\u001b[38;5;241m.\u001b[39mDataFrame)\u001b[38;5;241m-\u001b[39m\u001b[38;5;241m>\u001b[39mpd\u001b[38;5;241m.\u001b[39mDataFrame:\n\u001b[1;32m    238\u001b[0m     movies_df[\u001b[38;5;124m'\u001b[39m\u001b[38;5;124mprimary_country\u001b[39m\u001b[38;5;124m'\u001b[39m] \u001b[38;5;241m=\u001b[39m movies_df[\u001b[38;5;124m'\u001b[39m\u001b[38;5;124mCountry\u001b[39m\u001b[38;5;124m'\u001b[39m]\u001b[38;5;241m.\u001b[39mstr[\u001b[38;5;241m0\u001b[39m]\n\u001b[0;32m--> 239\u001b[0m     movies_df[\u001b[38;5;124m'\u001b[39m\u001b[38;5;124mContinent\u001b[39m\u001b[38;5;124m'\u001b[39m] \u001b[38;5;241m=\u001b[39m movies_df[\u001b[38;5;124m'\u001b[39m\u001b[38;5;124mprimary_country\u001b[39m\u001b[38;5;124m'\u001b[39m]\u001b[38;5;241m.\u001b[39mapply(country_to_continent)\n\u001b[1;32m    240\u001b[0m     proportion_country \u001b[38;5;241m=\u001b[39m movies_df\u001b[38;5;241m.\u001b[39mgroupby([\u001b[38;5;124m'\u001b[39m\u001b[38;5;124mContinent\u001b[39m\u001b[38;5;124m'\u001b[39m, \u001b[38;5;124m'\u001b[39m\u001b[38;5;124mprimary_country\u001b[39m\u001b[38;5;124m'\u001b[39m])[\u001b[38;5;124m'\u001b[39m\u001b[38;5;124mprimary_country\u001b[39m\u001b[38;5;124m'\u001b[39m]\u001b[38;5;241m.\u001b[39mcount()\n\u001b[1;32m    241\u001b[0m     df_nb_movie \u001b[38;5;241m=\u001b[39m proportion_country\u001b[38;5;241m.\u001b[39mto_frame()\n",
      "File \u001b[0;32m/opt/anaconda3/envs/ada/lib/python3.11/site-packages/pandas/core/series.py:4924\u001b[0m, in \u001b[0;36mSeries.apply\u001b[0;34m(self, func, convert_dtype, args, by_row, **kwargs)\u001b[0m\n\u001b[1;32m   4789\u001b[0m \u001b[38;5;28;01mdef\u001b[39;00m \u001b[38;5;21mapply\u001b[39m(\n\u001b[1;32m   4790\u001b[0m     \u001b[38;5;28mself\u001b[39m,\n\u001b[1;32m   4791\u001b[0m     func: AggFuncType,\n\u001b[0;32m   (...)\u001b[0m\n\u001b[1;32m   4796\u001b[0m     \u001b[38;5;241m*\u001b[39m\u001b[38;5;241m*\u001b[39mkwargs,\n\u001b[1;32m   4797\u001b[0m ) \u001b[38;5;241m-\u001b[39m\u001b[38;5;241m>\u001b[39m DataFrame \u001b[38;5;241m|\u001b[39m Series:\n\u001b[1;32m   4798\u001b[0m \u001b[38;5;250m    \u001b[39m\u001b[38;5;124;03m\"\"\"\u001b[39;00m\n\u001b[1;32m   4799\u001b[0m \u001b[38;5;124;03m    Invoke function on values of Series.\u001b[39;00m\n\u001b[1;32m   4800\u001b[0m \n\u001b[0;32m   (...)\u001b[0m\n\u001b[1;32m   4915\u001b[0m \u001b[38;5;124;03m    dtype: float64\u001b[39;00m\n\u001b[1;32m   4916\u001b[0m \u001b[38;5;124;03m    \"\"\"\u001b[39;00m\n\u001b[1;32m   4917\u001b[0m     \u001b[38;5;28;01mreturn\u001b[39;00m SeriesApply(\n\u001b[1;32m   4918\u001b[0m         \u001b[38;5;28mself\u001b[39m,\n\u001b[1;32m   4919\u001b[0m         func,\n\u001b[1;32m   4920\u001b[0m         convert_dtype\u001b[38;5;241m=\u001b[39mconvert_dtype,\n\u001b[1;32m   4921\u001b[0m         by_row\u001b[38;5;241m=\u001b[39mby_row,\n\u001b[1;32m   4922\u001b[0m         args\u001b[38;5;241m=\u001b[39margs,\n\u001b[1;32m   4923\u001b[0m         kwargs\u001b[38;5;241m=\u001b[39mkwargs,\n\u001b[0;32m-> 4924\u001b[0m     )\u001b[38;5;241m.\u001b[39mapply()\n",
      "File \u001b[0;32m/opt/anaconda3/envs/ada/lib/python3.11/site-packages/pandas/core/apply.py:1427\u001b[0m, in \u001b[0;36mSeriesApply.apply\u001b[0;34m(self)\u001b[0m\n\u001b[1;32m   1424\u001b[0m     \u001b[38;5;28;01mreturn\u001b[39;00m \u001b[38;5;28mself\u001b[39m\u001b[38;5;241m.\u001b[39mapply_compat()\n\u001b[1;32m   1426\u001b[0m \u001b[38;5;66;03m# self.func is Callable\u001b[39;00m\n\u001b[0;32m-> 1427\u001b[0m \u001b[38;5;28;01mreturn\u001b[39;00m \u001b[38;5;28mself\u001b[39m\u001b[38;5;241m.\u001b[39mapply_standard()\n",
      "File \u001b[0;32m/opt/anaconda3/envs/ada/lib/python3.11/site-packages/pandas/core/apply.py:1507\u001b[0m, in \u001b[0;36mSeriesApply.apply_standard\u001b[0;34m(self)\u001b[0m\n\u001b[1;32m   1501\u001b[0m \u001b[38;5;66;03m# row-wise access\u001b[39;00m\n\u001b[1;32m   1502\u001b[0m \u001b[38;5;66;03m# apply doesn't have a `na_action` keyword and for backward compat reasons\u001b[39;00m\n\u001b[1;32m   1503\u001b[0m \u001b[38;5;66;03m# we need to give `na_action=\"ignore\"` for categorical data.\u001b[39;00m\n\u001b[1;32m   1504\u001b[0m \u001b[38;5;66;03m# TODO: remove the `na_action=\"ignore\"` when that default has been changed in\u001b[39;00m\n\u001b[1;32m   1505\u001b[0m \u001b[38;5;66;03m#  Categorical (GH51645).\u001b[39;00m\n\u001b[1;32m   1506\u001b[0m action \u001b[38;5;241m=\u001b[39m \u001b[38;5;124m\"\u001b[39m\u001b[38;5;124mignore\u001b[39m\u001b[38;5;124m\"\u001b[39m \u001b[38;5;28;01mif\u001b[39;00m \u001b[38;5;28misinstance\u001b[39m(obj\u001b[38;5;241m.\u001b[39mdtype, CategoricalDtype) \u001b[38;5;28;01melse\u001b[39;00m \u001b[38;5;28;01mNone\u001b[39;00m\n\u001b[0;32m-> 1507\u001b[0m mapped \u001b[38;5;241m=\u001b[39m obj\u001b[38;5;241m.\u001b[39m_map_values(\n\u001b[1;32m   1508\u001b[0m     mapper\u001b[38;5;241m=\u001b[39mcurried, na_action\u001b[38;5;241m=\u001b[39maction, convert\u001b[38;5;241m=\u001b[39m\u001b[38;5;28mself\u001b[39m\u001b[38;5;241m.\u001b[39mconvert_dtype\n\u001b[1;32m   1509\u001b[0m )\n\u001b[1;32m   1511\u001b[0m \u001b[38;5;28;01mif\u001b[39;00m \u001b[38;5;28mlen\u001b[39m(mapped) \u001b[38;5;129;01mand\u001b[39;00m \u001b[38;5;28misinstance\u001b[39m(mapped[\u001b[38;5;241m0\u001b[39m], ABCSeries):\n\u001b[1;32m   1512\u001b[0m     \u001b[38;5;66;03m# GH#43986 Need to do list(mapped) in order to get treated as nested\u001b[39;00m\n\u001b[1;32m   1513\u001b[0m     \u001b[38;5;66;03m#  See also GH#25959 regarding EA support\u001b[39;00m\n\u001b[1;32m   1514\u001b[0m     \u001b[38;5;28;01mreturn\u001b[39;00m obj\u001b[38;5;241m.\u001b[39m_constructor_expanddim(\u001b[38;5;28mlist\u001b[39m(mapped), index\u001b[38;5;241m=\u001b[39mobj\u001b[38;5;241m.\u001b[39mindex)\n",
      "File \u001b[0;32m/opt/anaconda3/envs/ada/lib/python3.11/site-packages/pandas/core/base.py:921\u001b[0m, in \u001b[0;36mIndexOpsMixin._map_values\u001b[0;34m(self, mapper, na_action, convert)\u001b[0m\n\u001b[1;32m    918\u001b[0m \u001b[38;5;28;01mif\u001b[39;00m \u001b[38;5;28misinstance\u001b[39m(arr, ExtensionArray):\n\u001b[1;32m    919\u001b[0m     \u001b[38;5;28;01mreturn\u001b[39;00m arr\u001b[38;5;241m.\u001b[39mmap(mapper, na_action\u001b[38;5;241m=\u001b[39mna_action)\n\u001b[0;32m--> 921\u001b[0m \u001b[38;5;28;01mreturn\u001b[39;00m algorithms\u001b[38;5;241m.\u001b[39mmap_array(arr, mapper, na_action\u001b[38;5;241m=\u001b[39mna_action, convert\u001b[38;5;241m=\u001b[39mconvert)\n",
      "File \u001b[0;32m/opt/anaconda3/envs/ada/lib/python3.11/site-packages/pandas/core/algorithms.py:1743\u001b[0m, in \u001b[0;36mmap_array\u001b[0;34m(arr, mapper, na_action, convert)\u001b[0m\n\u001b[1;32m   1741\u001b[0m values \u001b[38;5;241m=\u001b[39m arr\u001b[38;5;241m.\u001b[39mastype(\u001b[38;5;28mobject\u001b[39m, copy\u001b[38;5;241m=\u001b[39m\u001b[38;5;28;01mFalse\u001b[39;00m)\n\u001b[1;32m   1742\u001b[0m \u001b[38;5;28;01mif\u001b[39;00m na_action \u001b[38;5;129;01mis\u001b[39;00m \u001b[38;5;28;01mNone\u001b[39;00m:\n\u001b[0;32m-> 1743\u001b[0m     \u001b[38;5;28;01mreturn\u001b[39;00m lib\u001b[38;5;241m.\u001b[39mmap_infer(values, mapper, convert\u001b[38;5;241m=\u001b[39mconvert)\n\u001b[1;32m   1744\u001b[0m \u001b[38;5;28;01melse\u001b[39;00m:\n\u001b[1;32m   1745\u001b[0m     \u001b[38;5;28;01mreturn\u001b[39;00m lib\u001b[38;5;241m.\u001b[39mmap_infer_mask(\n\u001b[1;32m   1746\u001b[0m         values, mapper, mask\u001b[38;5;241m=\u001b[39misna(values)\u001b[38;5;241m.\u001b[39mview(np\u001b[38;5;241m.\u001b[39muint8), convert\u001b[38;5;241m=\u001b[39mconvert\n\u001b[1;32m   1747\u001b[0m     )\n",
      "File \u001b[0;32mlib.pyx:2972\u001b[0m, in \u001b[0;36mpandas._libs.lib.map_infer\u001b[0;34m()\u001b[0m\n",
      "\u001b[0;31mTypeError\u001b[0m: country_to_continent() missing 1 required positional argument: 'countries_code'"
     ]
    }
   ],
   "source": [
    "df_top_names = create_top_names_df(df_char_cleaned)\n",
    "df_nb_movies = create_nb_movie_df(df_char_cleaned)"
   ]
  },
  {
   "cell_type": "code",
   "execution_count": null,
   "metadata": {},
   "outputs": [],
   "source": [
    "df_map_names = pd.merge(df_nb_movies,df_top_names,on='primary_country',how='inner')"
   ]
  },
  {
   "cell_type": "code",
   "execution_count": null,
   "metadata": {},
   "outputs": [],
   "source": [
    "fig = go.Figure(go.Scattergeo(\n",
    "))\n",
    "fig.add_trace(go.Choropleth(\n",
    "    locations= df_map_names['primary_country'],\n",
    "    locationmode='country names',\n",
    "    showscale= True,\n",
    "    colorscale='YlOrRd',\n",
    "    z=np.log10(df_map_names['Number_of_movies']),\n",
    "    colorbar=dict(title=\"Number of movies (Log Scale)\", tickvals=np.arange(0, 5), ticktext=[f\"10^{i}\" for i in range(0, 5)]),\n",
    "    text= [f\"Top female name: {female}<br>Top male name: {male}<br>Movies: {movies:,}\" \n",
    "           for female, male, movies in zip(df_map_names['Female_name'], df_map_names['Male_name'], df_map_names['Number_of_movies'])],\n",
    "    hovertemplate=\"%{location}<br>%{text}\"\n",
    "))\n",
    "fig.update_geos(\n",
    "    projection_scale=1,center={'lat': 30},\n",
    "    visible=False,\n",
    "    showcountries=True, countrycolor=\"RebeccaPurple\"\n",
    ")\n",
    "fig.update_layout(\n",
    "    geo=dict(\n",
    "        projection_type=\"mercator\",\n",
    "        lakecolor=\"aqua\"\n",
    "    ),\n",
    "    height=500,\n",
    "    margin={\"r\":0,\"t\":5,\"l\":0,\"b\":0},\n",
    "    title=\"Most Common Male and Female Names by Continent\"\n",
    ")\n",
    "fig.show()"
   ]
  },
  {
   "cell_type": "markdown",
   "metadata": {},
   "source": [
    "## 5.c) N-Gram for genres"
   ]
  },
  {
   "cell_type": "code",
   "execution_count": null,
   "metadata": {},
   "outputs": [],
   "source": [
    "#Let's compute the two first principal components of the phonetic features\n",
    "df_genre = df_char_cleaned.copy()\n",
    "df_genre['pca_one'] = pca_result[:, 0]\n",
    "df_genre['pca_two'] = pca_result[:, 1]"
   ]
  },
  {
   "cell_type": "code",
   "execution_count": null,
   "metadata": {},
   "outputs": [],
   "source": [
    "#Lets create a df with the 10 top genres\n",
    "top_genres=df_genre['Genres'].explode().value_counts().head(11)\n",
    "df_genre['top_genre'] = df_genre['Genres'].apply(top_genre_search)"
   ]
  },
  {
   "cell_type": "code",
   "execution_count": null,
   "metadata": {},
   "outputs": [],
   "source": [
    "#Let's plot the projection of the phonetic features in the two first principal components\n",
    "plt.figure(figsize=(12, 8))\n",
    "sns.scatterplot(x=\"pca_one\", y=\"pca_two\", hue=\"top_genre\", data=df_genre, palette=\"viridis\", size=2,linewidth=0.3)\n",
    "plt.title(\"PCA of Character N-grams in Names by Genre\")\n",
    "plt.show()"
   ]
  }
 ],
 "metadata": {
  "kernelspec": {
   "display_name": "ada",
   "language": "python",
   "name": "python3"
  },
  "language_info": {
   "codemirror_mode": {
    "name": "ipython",
    "version": 3
   },
   "file_extension": ".py",
   "mimetype": "text/x-python",
   "name": "python",
   "nbconvert_exporter": "python",
   "pygments_lexer": "ipython3",
   "version": "3.11.9"
  }
 },
 "nbformat": 4,
 "nbformat_minor": 2
}
