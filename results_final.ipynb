{
 "cells": [
  {
   "cell_type": "code",
   "execution_count": 407,
   "metadata": {},
   "outputs": [],
   "source": [
    "from src.utils.data_utils import str_dict_to_values\n",
    "from src.utils.results_utils import *\n",
    "from src.utils.ml_utils import *\n",
    "\n",
    "import plotly.colors as pco\n",
    "import plotly.graph_objects as go\n",
    "import plotly.express as px\n",
    "from plotly.subplots import make_subplots\n",
    "import matplotlib.pyplot as plt\n",
    "import seaborn as sns\n",
    "from scipy import stats\n",
    "import pandas as pd\n",
    "from scipy.stats import chi2_contingency\n",
    "import nbformat\n",
    "import os"
   ]
  },
  {
   "cell_type": "markdown",
   "metadata": {},
   "source": [
    "# 0. Loading the cleaned dataset"
   ]
  },
  {
   "cell_type": "code",
   "execution_count": 317,
   "metadata": {},
   "outputs": [],
   "source": [
    "df_char_cleaned = pd.read_csv('data/cleaned.csv')\n",
    "\n",
    "df_char_cleaned['Languages'] = df_char_cleaned['Languages'].apply(str_dict_to_values)\n",
    "df_char_cleaned['Country'] = df_char_cleaned['Country'].apply(str_dict_to_values)"
   ]
  },
  {
   "cell_type": "markdown",
   "metadata": {},
   "source": [
    "# 1. Presenting the Data\n",
    "## 1.a. General "
   ]
  },
  {
   "cell_type": "markdown",
   "metadata": {},
   "source": [
    "The cleaned dataset looks like this : "
   ]
  },
  {
   "cell_type": "code",
   "execution_count": 318,
   "metadata": {},
   "outputs": [
    {
     "data": {
      "text/html": [
       "<div>\n",
       "<style scoped>\n",
       "    .dataframe tbody tr th:only-of-type {\n",
       "        vertical-align: middle;\n",
       "    }\n",
       "\n",
       "    .dataframe tbody tr th {\n",
       "        vertical-align: top;\n",
       "    }\n",
       "\n",
       "    .dataframe thead th {\n",
       "        text-align: right;\n",
       "    }\n",
       "</style>\n",
       "<table border=\"1\" class=\"dataframe\">\n",
       "  <thead>\n",
       "    <tr style=\"text-align: right;\">\n",
       "      <th></th>\n",
       "      <th>Wikipedia ID</th>\n",
       "      <th>Movie Name</th>\n",
       "      <th>Languages</th>\n",
       "      <th>Production Country</th>\n",
       "      <th>Movie Genre</th>\n",
       "      <th>Character Name</th>\n",
       "      <th>Gender</th>\n",
       "      <th>Actor Age</th>\n",
       "      <th>Release Date</th>\n",
       "    </tr>\n",
       "  </thead>\n",
       "  <tbody>\n",
       "    <tr>\n",
       "      <th>5512</th>\n",
       "      <td>24158189</td>\n",
       "      <td>Winter People</td>\n",
       "      <td>[English Language]</td>\n",
       "      <td>[United States of America]</td>\n",
       "      <td>William</td>\n",
       "      <td>M</td>\n",
       "      <td>76.0</td>\n",
       "      <td>1989-04-14</td>\n",
       "      <td>['Romance', 'Drama', 'Historical &amp; War']</td>\n",
       "    </tr>\n",
       "    <tr>\n",
       "      <th>148673</th>\n",
       "      <td>16258940</td>\n",
       "      <td>Aaja Nachle</td>\n",
       "      <td>[Hindi Language]</td>\n",
       "      <td>[India]</td>\n",
       "      <td>Dia</td>\n",
       "      <td>F</td>\n",
       "      <td>40.0</td>\n",
       "      <td>2007-11-30</td>\n",
       "      <td>['Comedy', 'Music &amp; Performance', 'Drama', 'Ro...</td>\n",
       "    </tr>\n",
       "    <tr>\n",
       "      <th>37569</th>\n",
       "      <td>158982</td>\n",
       "      <td>You've Got Mail</td>\n",
       "      <td>[English Language]</td>\n",
       "      <td>[United States of America]</td>\n",
       "      <td>Kevin</td>\n",
       "      <td>M</td>\n",
       "      <td>25.0</td>\n",
       "      <td>1998-12-18</td>\n",
       "      <td>['Comedy', 'Romance']</td>\n",
       "    </tr>\n",
       "    <tr>\n",
       "      <th>115397</th>\n",
       "      <td>27285282</td>\n",
       "      <td>The People I've Slept With</td>\n",
       "      <td>[English Language]</td>\n",
       "      <td>[United States of America, Hong Kong, Canada]</td>\n",
       "      <td>Ron</td>\n",
       "      <td>M</td>\n",
       "      <td>NaN</td>\n",
       "      <td>2010-08-13</td>\n",
       "      <td>['Comedy', 'Cult &amp; B-Movies', 'Romance']</td>\n",
       "    </tr>\n",
       "    <tr>\n",
       "      <th>24989</th>\n",
       "      <td>35647254</td>\n",
       "      <td>Alyah</td>\n",
       "      <td>[French Language]</td>\n",
       "      <td>[France]</td>\n",
       "      <td>Esther</td>\n",
       "      <td>F</td>\n",
       "      <td>NaN</td>\n",
       "      <td>2012-05-18</td>\n",
       "      <td>['Drama']</td>\n",
       "    </tr>\n",
       "  </tbody>\n",
       "</table>\n",
       "</div>"
      ],
      "text/plain": [
       "        Wikipedia ID                  Movie Name           Languages  \\\n",
       "5512        24158189               Winter People  [English Language]   \n",
       "148673      16258940                 Aaja Nachle    [Hindi Language]   \n",
       "37569         158982             You've Got Mail  [English Language]   \n",
       "115397      27285282  The People I've Slept With  [English Language]   \n",
       "24989       35647254                       Alyah   [French Language]   \n",
       "\n",
       "                                   Production Country Movie Genre  \\\n",
       "5512                       [United States of America]     William   \n",
       "148673                                        [India]         Dia   \n",
       "37569                      [United States of America]       Kevin   \n",
       "115397  [United States of America, Hong Kong, Canada]         Ron   \n",
       "24989                                        [France]      Esther   \n",
       "\n",
       "       Character Name  Gender   Actor Age  \\\n",
       "5512                M    76.0  1989-04-14   \n",
       "148673              F    40.0  2007-11-30   \n",
       "37569               M    25.0  1998-12-18   \n",
       "115397              M     NaN  2010-08-13   \n",
       "24989               F     NaN  2012-05-18   \n",
       "\n",
       "                                             Release Date  \n",
       "5512             ['Romance', 'Drama', 'Historical & War']  \n",
       "148673  ['Comedy', 'Music & Performance', 'Drama', 'Ro...  \n",
       "37569                               ['Comedy', 'Romance']  \n",
       "115397           ['Comedy', 'Cult & B-Movies', 'Romance']  \n",
       "24989                                           ['Drama']  "
      ]
     },
     "execution_count": 318,
     "metadata": {},
     "output_type": "execute_result"
    }
   ],
   "source": [
    "# Create a copy of the original DataFrame to rename columns\n",
    "df_char_cleaned_column = df_char_cleaned.copy()\n",
    "\n",
    "# Rename columns to be clearer\n",
    "df_char_cleaned_column.columns = [\n",
    "    'Wikipedia ID', 'Movie Name', 'Languages', 'Production Country', \n",
    "    'Movie Genre', 'Character Name', 'Gender', 'Actor Age', 'Release Date'\n",
    "]\n",
    "\n",
    "# Display a random sample of 5 rows from the new DataFrame\n",
    "df_char_cleaned_column.sample(5)"
   ]
  },
  {
   "cell_type": "code",
   "execution_count": 319,
   "metadata": {},
   "outputs": [
    {
     "data": {
      "application/vnd.plotly.v1+json": {
       "config": {
        "plotlyServerURL": "https://plot.ly"
       },
       "data": [
        {
         "hoverinfo": "text",
         "marker": {
          "color": "#A9D6C3"
         },
         "text": [
          "Count: 159691",
          "Count: 159691",
          "Count: 159691",
          "Count: 159691",
          "Count: 159691",
          "Count: 154185",
          "Count: 115076",
          "Count: 158166",
          "Count: 159691"
         ],
         "textposition": "none",
         "type": "bar",
         "x": [
          "Wikipedia_ID",
          "Name",
          "Languages",
          "Country",
          "Character_name",
          "Sex",
          "Actor_age",
          "Release_date",
          "Genre_Category"
         ],
         "y": [
          159691,
          159691,
          159691,
          159691,
          159691,
          154185,
          115076,
          158166,
          159691
         ]
        }
       ],
       "layout": {
        "barmode": "group",
        "template": {
         "data": {
          "bar": [
           {
            "error_x": {
             "color": "#2a3f5f"
            },
            "error_y": {
             "color": "#2a3f5f"
            },
            "marker": {
             "line": {
              "color": "#E5ECF6",
              "width": 0.5
             },
             "pattern": {
              "fillmode": "overlay",
              "size": 10,
              "solidity": 0.2
             }
            },
            "type": "bar"
           }
          ],
          "barpolar": [
           {
            "marker": {
             "line": {
              "color": "#E5ECF6",
              "width": 0.5
             },
             "pattern": {
              "fillmode": "overlay",
              "size": 10,
              "solidity": 0.2
             }
            },
            "type": "barpolar"
           }
          ],
          "carpet": [
           {
            "aaxis": {
             "endlinecolor": "#2a3f5f",
             "gridcolor": "white",
             "linecolor": "white",
             "minorgridcolor": "white",
             "startlinecolor": "#2a3f5f"
            },
            "baxis": {
             "endlinecolor": "#2a3f5f",
             "gridcolor": "white",
             "linecolor": "white",
             "minorgridcolor": "white",
             "startlinecolor": "#2a3f5f"
            },
            "type": "carpet"
           }
          ],
          "choropleth": [
           {
            "colorbar": {
             "outlinewidth": 0,
             "ticks": ""
            },
            "type": "choropleth"
           }
          ],
          "contour": [
           {
            "colorbar": {
             "outlinewidth": 0,
             "ticks": ""
            },
            "colorscale": [
             [
              0,
              "#0d0887"
             ],
             [
              0.1111111111111111,
              "#46039f"
             ],
             [
              0.2222222222222222,
              "#7201a8"
             ],
             [
              0.3333333333333333,
              "#9c179e"
             ],
             [
              0.4444444444444444,
              "#bd3786"
             ],
             [
              0.5555555555555556,
              "#d8576b"
             ],
             [
              0.6666666666666666,
              "#ed7953"
             ],
             [
              0.7777777777777778,
              "#fb9f3a"
             ],
             [
              0.8888888888888888,
              "#fdca26"
             ],
             [
              1,
              "#f0f921"
             ]
            ],
            "type": "contour"
           }
          ],
          "contourcarpet": [
           {
            "colorbar": {
             "outlinewidth": 0,
             "ticks": ""
            },
            "type": "contourcarpet"
           }
          ],
          "heatmap": [
           {
            "colorbar": {
             "outlinewidth": 0,
             "ticks": ""
            },
            "colorscale": [
             [
              0,
              "#0d0887"
             ],
             [
              0.1111111111111111,
              "#46039f"
             ],
             [
              0.2222222222222222,
              "#7201a8"
             ],
             [
              0.3333333333333333,
              "#9c179e"
             ],
             [
              0.4444444444444444,
              "#bd3786"
             ],
             [
              0.5555555555555556,
              "#d8576b"
             ],
             [
              0.6666666666666666,
              "#ed7953"
             ],
             [
              0.7777777777777778,
              "#fb9f3a"
             ],
             [
              0.8888888888888888,
              "#fdca26"
             ],
             [
              1,
              "#f0f921"
             ]
            ],
            "type": "heatmap"
           }
          ],
          "heatmapgl": [
           {
            "colorbar": {
             "outlinewidth": 0,
             "ticks": ""
            },
            "colorscale": [
             [
              0,
              "#0d0887"
             ],
             [
              0.1111111111111111,
              "#46039f"
             ],
             [
              0.2222222222222222,
              "#7201a8"
             ],
             [
              0.3333333333333333,
              "#9c179e"
             ],
             [
              0.4444444444444444,
              "#bd3786"
             ],
             [
              0.5555555555555556,
              "#d8576b"
             ],
             [
              0.6666666666666666,
              "#ed7953"
             ],
             [
              0.7777777777777778,
              "#fb9f3a"
             ],
             [
              0.8888888888888888,
              "#fdca26"
             ],
             [
              1,
              "#f0f921"
             ]
            ],
            "type": "heatmapgl"
           }
          ],
          "histogram": [
           {
            "marker": {
             "pattern": {
              "fillmode": "overlay",
              "size": 10,
              "solidity": 0.2
             }
            },
            "type": "histogram"
           }
          ],
          "histogram2d": [
           {
            "colorbar": {
             "outlinewidth": 0,
             "ticks": ""
            },
            "colorscale": [
             [
              0,
              "#0d0887"
             ],
             [
              0.1111111111111111,
              "#46039f"
             ],
             [
              0.2222222222222222,
              "#7201a8"
             ],
             [
              0.3333333333333333,
              "#9c179e"
             ],
             [
              0.4444444444444444,
              "#bd3786"
             ],
             [
              0.5555555555555556,
              "#d8576b"
             ],
             [
              0.6666666666666666,
              "#ed7953"
             ],
             [
              0.7777777777777778,
              "#fb9f3a"
             ],
             [
              0.8888888888888888,
              "#fdca26"
             ],
             [
              1,
              "#f0f921"
             ]
            ],
            "type": "histogram2d"
           }
          ],
          "histogram2dcontour": [
           {
            "colorbar": {
             "outlinewidth": 0,
             "ticks": ""
            },
            "colorscale": [
             [
              0,
              "#0d0887"
             ],
             [
              0.1111111111111111,
              "#46039f"
             ],
             [
              0.2222222222222222,
              "#7201a8"
             ],
             [
              0.3333333333333333,
              "#9c179e"
             ],
             [
              0.4444444444444444,
              "#bd3786"
             ],
             [
              0.5555555555555556,
              "#d8576b"
             ],
             [
              0.6666666666666666,
              "#ed7953"
             ],
             [
              0.7777777777777778,
              "#fb9f3a"
             ],
             [
              0.8888888888888888,
              "#fdca26"
             ],
             [
              1,
              "#f0f921"
             ]
            ],
            "type": "histogram2dcontour"
           }
          ],
          "mesh3d": [
           {
            "colorbar": {
             "outlinewidth": 0,
             "ticks": ""
            },
            "type": "mesh3d"
           }
          ],
          "parcoords": [
           {
            "line": {
             "colorbar": {
              "outlinewidth": 0,
              "ticks": ""
             }
            },
            "type": "parcoords"
           }
          ],
          "pie": [
           {
            "automargin": true,
            "type": "pie"
           }
          ],
          "scatter": [
           {
            "fillpattern": {
             "fillmode": "overlay",
             "size": 10,
             "solidity": 0.2
            },
            "type": "scatter"
           }
          ],
          "scatter3d": [
           {
            "line": {
             "colorbar": {
              "outlinewidth": 0,
              "ticks": ""
             }
            },
            "marker": {
             "colorbar": {
              "outlinewidth": 0,
              "ticks": ""
             }
            },
            "type": "scatter3d"
           }
          ],
          "scattercarpet": [
           {
            "marker": {
             "colorbar": {
              "outlinewidth": 0,
              "ticks": ""
             }
            },
            "type": "scattercarpet"
           }
          ],
          "scattergeo": [
           {
            "marker": {
             "colorbar": {
              "outlinewidth": 0,
              "ticks": ""
             }
            },
            "type": "scattergeo"
           }
          ],
          "scattergl": [
           {
            "marker": {
             "colorbar": {
              "outlinewidth": 0,
              "ticks": ""
             }
            },
            "type": "scattergl"
           }
          ],
          "scattermapbox": [
           {
            "marker": {
             "colorbar": {
              "outlinewidth": 0,
              "ticks": ""
             }
            },
            "type": "scattermapbox"
           }
          ],
          "scatterpolar": [
           {
            "marker": {
             "colorbar": {
              "outlinewidth": 0,
              "ticks": ""
             }
            },
            "type": "scatterpolar"
           }
          ],
          "scatterpolargl": [
           {
            "marker": {
             "colorbar": {
              "outlinewidth": 0,
              "ticks": ""
             }
            },
            "type": "scatterpolargl"
           }
          ],
          "scatterternary": [
           {
            "marker": {
             "colorbar": {
              "outlinewidth": 0,
              "ticks": ""
             }
            },
            "type": "scatterternary"
           }
          ],
          "surface": [
           {
            "colorbar": {
             "outlinewidth": 0,
             "ticks": ""
            },
            "colorscale": [
             [
              0,
              "#0d0887"
             ],
             [
              0.1111111111111111,
              "#46039f"
             ],
             [
              0.2222222222222222,
              "#7201a8"
             ],
             [
              0.3333333333333333,
              "#9c179e"
             ],
             [
              0.4444444444444444,
              "#bd3786"
             ],
             [
              0.5555555555555556,
              "#d8576b"
             ],
             [
              0.6666666666666666,
              "#ed7953"
             ],
             [
              0.7777777777777778,
              "#fb9f3a"
             ],
             [
              0.8888888888888888,
              "#fdca26"
             ],
             [
              1,
              "#f0f921"
             ]
            ],
            "type": "surface"
           }
          ],
          "table": [
           {
            "cells": {
             "fill": {
              "color": "#EBF0F8"
             },
             "line": {
              "color": "white"
             }
            },
            "header": {
             "fill": {
              "color": "#C8D4E3"
             },
             "line": {
              "color": "white"
             }
            },
            "type": "table"
           }
          ]
         },
         "layout": {
          "annotationdefaults": {
           "arrowcolor": "#2a3f5f",
           "arrowhead": 0,
           "arrowwidth": 1
          },
          "autotypenumbers": "strict",
          "coloraxis": {
           "colorbar": {
            "outlinewidth": 0,
            "ticks": ""
           }
          },
          "colorscale": {
           "diverging": [
            [
             0,
             "#8e0152"
            ],
            [
             0.1,
             "#c51b7d"
            ],
            [
             0.2,
             "#de77ae"
            ],
            [
             0.3,
             "#f1b6da"
            ],
            [
             0.4,
             "#fde0ef"
            ],
            [
             0.5,
             "#f7f7f7"
            ],
            [
             0.6,
             "#e6f5d0"
            ],
            [
             0.7,
             "#b8e186"
            ],
            [
             0.8,
             "#7fbc41"
            ],
            [
             0.9,
             "#4d9221"
            ],
            [
             1,
             "#276419"
            ]
           ],
           "sequential": [
            [
             0,
             "#0d0887"
            ],
            [
             0.1111111111111111,
             "#46039f"
            ],
            [
             0.2222222222222222,
             "#7201a8"
            ],
            [
             0.3333333333333333,
             "#9c179e"
            ],
            [
             0.4444444444444444,
             "#bd3786"
            ],
            [
             0.5555555555555556,
             "#d8576b"
            ],
            [
             0.6666666666666666,
             "#ed7953"
            ],
            [
             0.7777777777777778,
             "#fb9f3a"
            ],
            [
             0.8888888888888888,
             "#fdca26"
            ],
            [
             1,
             "#f0f921"
            ]
           ],
           "sequentialminus": [
            [
             0,
             "#0d0887"
            ],
            [
             0.1111111111111111,
             "#46039f"
            ],
            [
             0.2222222222222222,
             "#7201a8"
            ],
            [
             0.3333333333333333,
             "#9c179e"
            ],
            [
             0.4444444444444444,
             "#bd3786"
            ],
            [
             0.5555555555555556,
             "#d8576b"
            ],
            [
             0.6666666666666666,
             "#ed7953"
            ],
            [
             0.7777777777777778,
             "#fb9f3a"
            ],
            [
             0.8888888888888888,
             "#fdca26"
            ],
            [
             1,
             "#f0f921"
            ]
           ]
          },
          "colorway": [
           "#636efa",
           "#EF553B",
           "#00cc96",
           "#ab63fa",
           "#FFA15A",
           "#19d3f3",
           "#FF6692",
           "#B6E880",
           "#FF97FF",
           "#FECB52"
          ],
          "font": {
           "color": "#2a3f5f"
          },
          "geo": {
           "bgcolor": "white",
           "lakecolor": "white",
           "landcolor": "#E5ECF6",
           "showlakes": true,
           "showland": true,
           "subunitcolor": "white"
          },
          "hoverlabel": {
           "align": "left"
          },
          "hovermode": "closest",
          "mapbox": {
           "style": "light"
          },
          "paper_bgcolor": "white",
          "plot_bgcolor": "#E5ECF6",
          "polar": {
           "angularaxis": {
            "gridcolor": "white",
            "linecolor": "white",
            "ticks": ""
           },
           "bgcolor": "#E5ECF6",
           "radialaxis": {
            "gridcolor": "white",
            "linecolor": "white",
            "ticks": ""
           }
          },
          "scene": {
           "xaxis": {
            "backgroundcolor": "#E5ECF6",
            "gridcolor": "white",
            "gridwidth": 2,
            "linecolor": "white",
            "showbackground": true,
            "ticks": "",
            "zerolinecolor": "white"
           },
           "yaxis": {
            "backgroundcolor": "#E5ECF6",
            "gridcolor": "white",
            "gridwidth": 2,
            "linecolor": "white",
            "showbackground": true,
            "ticks": "",
            "zerolinecolor": "white"
           },
           "zaxis": {
            "backgroundcolor": "#E5ECF6",
            "gridcolor": "white",
            "gridwidth": 2,
            "linecolor": "white",
            "showbackground": true,
            "ticks": "",
            "zerolinecolor": "white"
           }
          },
          "shapedefaults": {
           "line": {
            "color": "#2a3f5f"
           }
          },
          "ternary": {
           "aaxis": {
            "gridcolor": "white",
            "linecolor": "white",
            "ticks": ""
           },
           "baxis": {
            "gridcolor": "white",
            "linecolor": "white",
            "ticks": ""
           },
           "bgcolor": "#E5ECF6",
           "caxis": {
            "gridcolor": "white",
            "linecolor": "white",
            "ticks": ""
           }
          },
          "title": {
           "x": 0.05
          },
          "xaxis": {
           "automargin": true,
           "gridcolor": "white",
           "linecolor": "white",
           "ticks": "",
           "title": {
            "standoff": 15
           },
           "zerolinecolor": "white",
           "zerolinewidth": 2
          },
          "yaxis": {
           "automargin": true,
           "gridcolor": "white",
           "linecolor": "white",
           "ticks": "",
           "title": {
            "standoff": 15
           },
           "zerolinecolor": "white",
           "zerolinewidth": 2
          }
         }
        },
        "title": {
         "text": "Number of Values in Each Category of the Cleaned Dataset"
        },
        "xaxis": {
         "title": {
          "text": "Dataset Columns"
         }
        },
        "yaxis": {
         "title": {
          "text": "Number of Values"
         }
        }
       }
      }
     },
     "metadata": {},
     "output_type": "display_data"
    }
   ],
   "source": [
    "# Calculer le nombre de valeurs non nulles par colonne\n",
    "value_count_per_column = df_char_cleaned.notnull().sum()\n",
    "\n",
    "# Définir les données du graphique\n",
    "data = go.Bar(\n",
    "    x=df_char_cleaned.columns,\n",
    "    y=value_count_per_column.values,\n",
    "    marker=dict(\n",
    "        color='#A9D6C3'  # Utiliser une couleur vert clair\n",
    "    ),\n",
    "    text=[f\"Count: {count}\" for count in value_count_per_column.values],\n",
    "    hoverinfo='text',\n",
    "    textposition='none'\n",
    ")\n",
    "\n",
    "# Créer la mise en page\n",
    "layout = go.Layout(\n",
    "    title='Number of Values in Each Category of the Cleaned Dataset',\n",
    "    xaxis=dict(title='Dataset Columns'),\n",
    "    yaxis=dict(title='Number of Values'),\n",
    "    barmode='group'\n",
    ")\n",
    "\n",
    "# Créer et afficher le graphique\n",
    "fig = go.Figure(data=[data], layout=layout)\n",
    "fig.show()\n"
   ]
  },
  {
   "cell_type": "markdown",
   "metadata": {},
   "source": [
    "We observe that the dataset contains 160,432 entries. Some values are missing in the columns Gender, Actor Age, and Release Date."
   ]
  },
  {
   "cell_type": "code",
   "execution_count": 320,
   "metadata": {},
   "outputs": [
    {
     "data": {
      "text/html": [
       "<div>\n",
       "<style scoped>\n",
       "    .dataframe tbody tr th:only-of-type {\n",
       "        vertical-align: middle;\n",
       "    }\n",
       "\n",
       "    .dataframe tbody tr th {\n",
       "        vertical-align: top;\n",
       "    }\n",
       "\n",
       "    .dataframe thead th {\n",
       "        text-align: right;\n",
       "    }\n",
       "</style>\n",
       "<table border=\"1\" class=\"dataframe\">\n",
       "  <thead>\n",
       "    <tr style=\"text-align: right;\">\n",
       "      <th></th>\n",
       "      <th>Category</th>\n",
       "      <th>Count</th>\n",
       "    </tr>\n",
       "  </thead>\n",
       "  <tbody>\n",
       "    <tr>\n",
       "      <th>0</th>\n",
       "      <td>Total Character Names</td>\n",
       "      <td>159691</td>\n",
       "    </tr>\n",
       "    <tr>\n",
       "      <th>1</th>\n",
       "      <td>Unique Character Names</td>\n",
       "      <td>37883</td>\n",
       "    </tr>\n",
       "    <tr>\n",
       "      <th>2</th>\n",
       "      <td>Unique Movies</td>\n",
       "      <td>31072</td>\n",
       "    </tr>\n",
       "  </tbody>\n",
       "</table>\n",
       "</div>"
      ],
      "text/plain": [
       "                 Category   Count\n",
       "0   Total Character Names  159691\n",
       "1  Unique Character Names   37883\n",
       "2           Unique Movies   31072"
      ]
     },
     "execution_count": 320,
     "metadata": {},
     "output_type": "execute_result"
    }
   ],
   "source": [
    "total_count = len(df_char_cleaned['Character_name'])\n",
    "name_count = df_char_cleaned['Character_name'].nunique()\n",
    "movie_count = df_char_cleaned['Wikipedia_ID'].nunique()\n",
    "\n",
    "summary_df = pd.DataFrame({\n",
    "    'Category': ['Total Character Names','Unique Character Names', 'Unique Movies'],\n",
    "    'Count': [total_count, name_count, movie_count]\n",
    "})\n",
    "\n",
    "summary_df.head()"
   ]
  },
  {
   "cell_type": "code",
   "execution_count": 321,
   "metadata": {},
   "outputs": [
    {
     "data": {
      "application/vnd.plotly.v1+json": {
       "config": {
        "plotlyServerURL": "https://plot.ly"
       },
       "data": [
        {
         "hoverinfo": "text",
         "hovertext": [
          "Count: 97491<br>Top Names: John, George, Tom"
         ],
         "marker": {
          "color": "skyblue"
         },
         "name": "Male",
         "type": "bar",
         "x": [
          "Male"
         ],
         "y": [
          97491
         ]
        },
        {
         "hoverinfo": "text",
         "hovertext": [
          "Count: 56694<br>Top Names: Sarah, Mary, Alice"
         ],
         "marker": {
          "color": "salmon"
         },
         "name": "Female",
         "type": "bar",
         "x": [
          "Female"
         ],
         "y": [
          56694
         ]
        }
       ],
       "layout": {
        "template": {
         "data": {
          "bar": [
           {
            "error_x": {
             "color": "#2a3f5f"
            },
            "error_y": {
             "color": "#2a3f5f"
            },
            "marker": {
             "line": {
              "color": "#E5ECF6",
              "width": 0.5
             },
             "pattern": {
              "fillmode": "overlay",
              "size": 10,
              "solidity": 0.2
             }
            },
            "type": "bar"
           }
          ],
          "barpolar": [
           {
            "marker": {
             "line": {
              "color": "#E5ECF6",
              "width": 0.5
             },
             "pattern": {
              "fillmode": "overlay",
              "size": 10,
              "solidity": 0.2
             }
            },
            "type": "barpolar"
           }
          ],
          "carpet": [
           {
            "aaxis": {
             "endlinecolor": "#2a3f5f",
             "gridcolor": "white",
             "linecolor": "white",
             "minorgridcolor": "white",
             "startlinecolor": "#2a3f5f"
            },
            "baxis": {
             "endlinecolor": "#2a3f5f",
             "gridcolor": "white",
             "linecolor": "white",
             "minorgridcolor": "white",
             "startlinecolor": "#2a3f5f"
            },
            "type": "carpet"
           }
          ],
          "choropleth": [
           {
            "colorbar": {
             "outlinewidth": 0,
             "ticks": ""
            },
            "type": "choropleth"
           }
          ],
          "contour": [
           {
            "colorbar": {
             "outlinewidth": 0,
             "ticks": ""
            },
            "colorscale": [
             [
              0,
              "#0d0887"
             ],
             [
              0.1111111111111111,
              "#46039f"
             ],
             [
              0.2222222222222222,
              "#7201a8"
             ],
             [
              0.3333333333333333,
              "#9c179e"
             ],
             [
              0.4444444444444444,
              "#bd3786"
             ],
             [
              0.5555555555555556,
              "#d8576b"
             ],
             [
              0.6666666666666666,
              "#ed7953"
             ],
             [
              0.7777777777777778,
              "#fb9f3a"
             ],
             [
              0.8888888888888888,
              "#fdca26"
             ],
             [
              1,
              "#f0f921"
             ]
            ],
            "type": "contour"
           }
          ],
          "contourcarpet": [
           {
            "colorbar": {
             "outlinewidth": 0,
             "ticks": ""
            },
            "type": "contourcarpet"
           }
          ],
          "heatmap": [
           {
            "colorbar": {
             "outlinewidth": 0,
             "ticks": ""
            },
            "colorscale": [
             [
              0,
              "#0d0887"
             ],
             [
              0.1111111111111111,
              "#46039f"
             ],
             [
              0.2222222222222222,
              "#7201a8"
             ],
             [
              0.3333333333333333,
              "#9c179e"
             ],
             [
              0.4444444444444444,
              "#bd3786"
             ],
             [
              0.5555555555555556,
              "#d8576b"
             ],
             [
              0.6666666666666666,
              "#ed7953"
             ],
             [
              0.7777777777777778,
              "#fb9f3a"
             ],
             [
              0.8888888888888888,
              "#fdca26"
             ],
             [
              1,
              "#f0f921"
             ]
            ],
            "type": "heatmap"
           }
          ],
          "heatmapgl": [
           {
            "colorbar": {
             "outlinewidth": 0,
             "ticks": ""
            },
            "colorscale": [
             [
              0,
              "#0d0887"
             ],
             [
              0.1111111111111111,
              "#46039f"
             ],
             [
              0.2222222222222222,
              "#7201a8"
             ],
             [
              0.3333333333333333,
              "#9c179e"
             ],
             [
              0.4444444444444444,
              "#bd3786"
             ],
             [
              0.5555555555555556,
              "#d8576b"
             ],
             [
              0.6666666666666666,
              "#ed7953"
             ],
             [
              0.7777777777777778,
              "#fb9f3a"
             ],
             [
              0.8888888888888888,
              "#fdca26"
             ],
             [
              1,
              "#f0f921"
             ]
            ],
            "type": "heatmapgl"
           }
          ],
          "histogram": [
           {
            "marker": {
             "pattern": {
              "fillmode": "overlay",
              "size": 10,
              "solidity": 0.2
             }
            },
            "type": "histogram"
           }
          ],
          "histogram2d": [
           {
            "colorbar": {
             "outlinewidth": 0,
             "ticks": ""
            },
            "colorscale": [
             [
              0,
              "#0d0887"
             ],
             [
              0.1111111111111111,
              "#46039f"
             ],
             [
              0.2222222222222222,
              "#7201a8"
             ],
             [
              0.3333333333333333,
              "#9c179e"
             ],
             [
              0.4444444444444444,
              "#bd3786"
             ],
             [
              0.5555555555555556,
              "#d8576b"
             ],
             [
              0.6666666666666666,
              "#ed7953"
             ],
             [
              0.7777777777777778,
              "#fb9f3a"
             ],
             [
              0.8888888888888888,
              "#fdca26"
             ],
             [
              1,
              "#f0f921"
             ]
            ],
            "type": "histogram2d"
           }
          ],
          "histogram2dcontour": [
           {
            "colorbar": {
             "outlinewidth": 0,
             "ticks": ""
            },
            "colorscale": [
             [
              0,
              "#0d0887"
             ],
             [
              0.1111111111111111,
              "#46039f"
             ],
             [
              0.2222222222222222,
              "#7201a8"
             ],
             [
              0.3333333333333333,
              "#9c179e"
             ],
             [
              0.4444444444444444,
              "#bd3786"
             ],
             [
              0.5555555555555556,
              "#d8576b"
             ],
             [
              0.6666666666666666,
              "#ed7953"
             ],
             [
              0.7777777777777778,
              "#fb9f3a"
             ],
             [
              0.8888888888888888,
              "#fdca26"
             ],
             [
              1,
              "#f0f921"
             ]
            ],
            "type": "histogram2dcontour"
           }
          ],
          "mesh3d": [
           {
            "colorbar": {
             "outlinewidth": 0,
             "ticks": ""
            },
            "type": "mesh3d"
           }
          ],
          "parcoords": [
           {
            "line": {
             "colorbar": {
              "outlinewidth": 0,
              "ticks": ""
             }
            },
            "type": "parcoords"
           }
          ],
          "pie": [
           {
            "automargin": true,
            "type": "pie"
           }
          ],
          "scatter": [
           {
            "fillpattern": {
             "fillmode": "overlay",
             "size": 10,
             "solidity": 0.2
            },
            "type": "scatter"
           }
          ],
          "scatter3d": [
           {
            "line": {
             "colorbar": {
              "outlinewidth": 0,
              "ticks": ""
             }
            },
            "marker": {
             "colorbar": {
              "outlinewidth": 0,
              "ticks": ""
             }
            },
            "type": "scatter3d"
           }
          ],
          "scattercarpet": [
           {
            "marker": {
             "colorbar": {
              "outlinewidth": 0,
              "ticks": ""
             }
            },
            "type": "scattercarpet"
           }
          ],
          "scattergeo": [
           {
            "marker": {
             "colorbar": {
              "outlinewidth": 0,
              "ticks": ""
             }
            },
            "type": "scattergeo"
           }
          ],
          "scattergl": [
           {
            "marker": {
             "colorbar": {
              "outlinewidth": 0,
              "ticks": ""
             }
            },
            "type": "scattergl"
           }
          ],
          "scattermapbox": [
           {
            "marker": {
             "colorbar": {
              "outlinewidth": 0,
              "ticks": ""
             }
            },
            "type": "scattermapbox"
           }
          ],
          "scatterpolar": [
           {
            "marker": {
             "colorbar": {
              "outlinewidth": 0,
              "ticks": ""
             }
            },
            "type": "scatterpolar"
           }
          ],
          "scatterpolargl": [
           {
            "marker": {
             "colorbar": {
              "outlinewidth": 0,
              "ticks": ""
             }
            },
            "type": "scatterpolargl"
           }
          ],
          "scatterternary": [
           {
            "marker": {
             "colorbar": {
              "outlinewidth": 0,
              "ticks": ""
             }
            },
            "type": "scatterternary"
           }
          ],
          "surface": [
           {
            "colorbar": {
             "outlinewidth": 0,
             "ticks": ""
            },
            "colorscale": [
             [
              0,
              "#0d0887"
             ],
             [
              0.1111111111111111,
              "#46039f"
             ],
             [
              0.2222222222222222,
              "#7201a8"
             ],
             [
              0.3333333333333333,
              "#9c179e"
             ],
             [
              0.4444444444444444,
              "#bd3786"
             ],
             [
              0.5555555555555556,
              "#d8576b"
             ],
             [
              0.6666666666666666,
              "#ed7953"
             ],
             [
              0.7777777777777778,
              "#fb9f3a"
             ],
             [
              0.8888888888888888,
              "#fdca26"
             ],
             [
              1,
              "#f0f921"
             ]
            ],
            "type": "surface"
           }
          ],
          "table": [
           {
            "cells": {
             "fill": {
              "color": "#EBF0F8"
             },
             "line": {
              "color": "white"
             }
            },
            "header": {
             "fill": {
              "color": "#C8D4E3"
             },
             "line": {
              "color": "white"
             }
            },
            "type": "table"
           }
          ]
         },
         "layout": {
          "annotationdefaults": {
           "arrowcolor": "#2a3f5f",
           "arrowhead": 0,
           "arrowwidth": 1
          },
          "autotypenumbers": "strict",
          "coloraxis": {
           "colorbar": {
            "outlinewidth": 0,
            "ticks": ""
           }
          },
          "colorscale": {
           "diverging": [
            [
             0,
             "#8e0152"
            ],
            [
             0.1,
             "#c51b7d"
            ],
            [
             0.2,
             "#de77ae"
            ],
            [
             0.3,
             "#f1b6da"
            ],
            [
             0.4,
             "#fde0ef"
            ],
            [
             0.5,
             "#f7f7f7"
            ],
            [
             0.6,
             "#e6f5d0"
            ],
            [
             0.7,
             "#b8e186"
            ],
            [
             0.8,
             "#7fbc41"
            ],
            [
             0.9,
             "#4d9221"
            ],
            [
             1,
             "#276419"
            ]
           ],
           "sequential": [
            [
             0,
             "#0d0887"
            ],
            [
             0.1111111111111111,
             "#46039f"
            ],
            [
             0.2222222222222222,
             "#7201a8"
            ],
            [
             0.3333333333333333,
             "#9c179e"
            ],
            [
             0.4444444444444444,
             "#bd3786"
            ],
            [
             0.5555555555555556,
             "#d8576b"
            ],
            [
             0.6666666666666666,
             "#ed7953"
            ],
            [
             0.7777777777777778,
             "#fb9f3a"
            ],
            [
             0.8888888888888888,
             "#fdca26"
            ],
            [
             1,
             "#f0f921"
            ]
           ],
           "sequentialminus": [
            [
             0,
             "#0d0887"
            ],
            [
             0.1111111111111111,
             "#46039f"
            ],
            [
             0.2222222222222222,
             "#7201a8"
            ],
            [
             0.3333333333333333,
             "#9c179e"
            ],
            [
             0.4444444444444444,
             "#bd3786"
            ],
            [
             0.5555555555555556,
             "#d8576b"
            ],
            [
             0.6666666666666666,
             "#ed7953"
            ],
            [
             0.7777777777777778,
             "#fb9f3a"
            ],
            [
             0.8888888888888888,
             "#fdca26"
            ],
            [
             1,
             "#f0f921"
            ]
           ]
          },
          "colorway": [
           "#636efa",
           "#EF553B",
           "#00cc96",
           "#ab63fa",
           "#FFA15A",
           "#19d3f3",
           "#FF6692",
           "#B6E880",
           "#FF97FF",
           "#FECB52"
          ],
          "font": {
           "color": "#2a3f5f"
          },
          "geo": {
           "bgcolor": "white",
           "lakecolor": "white",
           "landcolor": "#E5ECF6",
           "showlakes": true,
           "showland": true,
           "subunitcolor": "white"
          },
          "hoverlabel": {
           "align": "left"
          },
          "hovermode": "closest",
          "mapbox": {
           "style": "light"
          },
          "paper_bgcolor": "white",
          "plot_bgcolor": "#E5ECF6",
          "polar": {
           "angularaxis": {
            "gridcolor": "white",
            "linecolor": "white",
            "ticks": ""
           },
           "bgcolor": "#E5ECF6",
           "radialaxis": {
            "gridcolor": "white",
            "linecolor": "white",
            "ticks": ""
           }
          },
          "scene": {
           "xaxis": {
            "backgroundcolor": "#E5ECF6",
            "gridcolor": "white",
            "gridwidth": 2,
            "linecolor": "white",
            "showbackground": true,
            "ticks": "",
            "zerolinecolor": "white"
           },
           "yaxis": {
            "backgroundcolor": "#E5ECF6",
            "gridcolor": "white",
            "gridwidth": 2,
            "linecolor": "white",
            "showbackground": true,
            "ticks": "",
            "zerolinecolor": "white"
           },
           "zaxis": {
            "backgroundcolor": "#E5ECF6",
            "gridcolor": "white",
            "gridwidth": 2,
            "linecolor": "white",
            "showbackground": true,
            "ticks": "",
            "zerolinecolor": "white"
           }
          },
          "shapedefaults": {
           "line": {
            "color": "#2a3f5f"
           }
          },
          "ternary": {
           "aaxis": {
            "gridcolor": "white",
            "linecolor": "white",
            "ticks": ""
           },
           "baxis": {
            "gridcolor": "white",
            "linecolor": "white",
            "ticks": ""
           },
           "bgcolor": "#E5ECF6",
           "caxis": {
            "gridcolor": "white",
            "linecolor": "white",
            "ticks": ""
           }
          },
          "title": {
           "x": 0.05
          },
          "xaxis": {
           "automargin": true,
           "gridcolor": "white",
           "linecolor": "white",
           "ticks": "",
           "title": {
            "standoff": 15
           },
           "zerolinecolor": "white",
           "zerolinewidth": 2
          },
          "yaxis": {
           "automargin": true,
           "gridcolor": "white",
           "linecolor": "white",
           "ticks": "",
           "title": {
            "standoff": 15
           },
           "zerolinecolor": "white",
           "zerolinewidth": 2
          }
         }
        },
        "title": {
         "text": "Total Names Count by Gender with Top 3 Names"
        },
        "xaxis": {
         "tickangle": 0,
         "title": {
          "text": "Gender"
         }
        },
        "yaxis": {
         "title": {
          "text": "Name Count"
         }
        }
       }
      }
     },
     "metadata": {},
     "output_type": "display_data"
    }
   ],
   "source": [
    "plot_sex_distribution_with_top_names(df_char_cleaned)"
   ]
  },
  {
   "cell_type": "code",
   "execution_count": 322,
   "metadata": {},
   "outputs": [
    {
     "data": {
      "text/html": [
       "<div>\n",
       "<style scoped>\n",
       "    .dataframe tbody tr th:only-of-type {\n",
       "        vertical-align: middle;\n",
       "    }\n",
       "\n",
       "    .dataframe tbody tr th {\n",
       "        vertical-align: top;\n",
       "    }\n",
       "\n",
       "    .dataframe thead th {\n",
       "        text-align: right;\n",
       "    }\n",
       "</style>\n",
       "<table border=\"1\" class=\"dataframe\">\n",
       "  <thead>\n",
       "    <tr style=\"text-align: right;\">\n",
       "      <th></th>\n",
       "      <th>Gender</th>\n",
       "      <th>Distribution (%)</th>\n",
       "    </tr>\n",
       "  </thead>\n",
       "  <tbody>\n",
       "    <tr>\n",
       "      <th>0</th>\n",
       "      <td>F</td>\n",
       "      <td>36.770114</td>\n",
       "    </tr>\n",
       "    <tr>\n",
       "      <th>1</th>\n",
       "      <td>M</td>\n",
       "      <td>63.229886</td>\n",
       "    </tr>\n",
       "  </tbody>\n",
       "</table>\n",
       "</div>"
      ],
      "text/plain": [
       "  Gender  Distribution (%)\n",
       "0      F         36.770114\n",
       "1      M         63.229886"
      ]
     },
     "execution_count": 322,
     "metadata": {},
     "output_type": "execute_result"
    }
   ],
   "source": [
    "# Create a df with the name count per gender\n",
    "df_count_gender = df_char_cleaned.groupby('Sex')['Character_name'].count()\n",
    "\n",
    "# Create a df that show the distribution \n",
    "summary_df = pd.DataFrame({\n",
    "    'Gender': df_count_gender.index,\n",
    "    'Distribution (%)': df_count_gender.values/value_count_per_column['Sex']*100\n",
    "})\n",
    "\n",
    "summary_df.head()"
   ]
  },
  {
   "cell_type": "markdown",
   "metadata": {},
   "source": [
    "The dataset shows a slight imbalance between genders, with about half as many female entries as male. However, since there is still a substantial amount of data, this imbalance is unlikely to significantly impact the results. \n",
    "\n",
    "Additionally, according to a 2022 study by the Center for the Study of Women in Television and Film at San Diego State University, 34 % of leading characters in the top 100 popular films were women, compared to 66 % men. This supports the dataset's gender distribution as representative of broader industry trends."
   ]
  },
  {
   "cell_type": "code",
   "execution_count": 323,
   "metadata": {},
   "outputs": [
    {
     "data": {
      "application/vnd.plotly.v1+json": {
       "config": {
        "plotlyServerURL": "https://plot.ly"
       },
       "data": [
        {
         "hoverinfo": "text",
         "hovertext": [
          "Name: John<br>Count: 1306",
          "Name: George<br>Count: 621",
          "Name: Tom<br>Count: 591",
          "Name: David<br>Count: 567",
          "Name: Paul<br>Count: 532",
          "Name: James<br>Count: 513",
          "Name: Michael<br>Count: 505",
          "Name: Robert<br>Count: 451",
          "Name: Jack<br>Count: 440",
          "Name: Jim<br>Count: 428",
          "Name: Charlie<br>Count: 422",
          "Name: Richard<br>Count: 401",
          "Name: Charles<br>Count: 396",
          "Name: William<br>Count: 384",
          "Name: Sarah<br>Count: 371",
          "Name: Mary<br>Count: 338",
          "Name: Joe<br>Count: 336",
          "Name: Thomas<br>Count: 331",
          "Name: Steve<br>Count: 317",
          "Name: Frank<br>Count: 314",
          "Name: Eddie<br>Count: 307",
          "Name: Alex<br>Count: 305",
          "Name: Max<br>Count: 300",
          "Name: Helen<br>Count: 294",
          "Name: Alice<br>Count: 292",
          "Name: Sam<br>Count: 285",
          "Name: Susan<br>Count: 283",
          "Name: Johnny<br>Count: 281",
          "Name: Kate<br>Count: 269",
          "Name: Danny<br>Count: 262",
          "Name: Julie<br>Count: 260",
          "Name: Elizabeth<br>Count: 259",
          "Name: Arthur<br>Count: 259",
          "Name: Peter<br>Count: 252",
          "Name: Rachel<br>Count: 250",
          "Name: Harry<br>Count: 244",
          "Name: Bob<br>Count: 239",
          "Name: Mike<br>Count: 236",
          "Name: Lisa<br>Count: 230",
          "Name: Chris<br>Count: 229",
          "Name: Dave<br>Count: 229",
          "Name: Jimmy<br>Count: 225",
          "Name: Simon<br>Count: 220",
          "Name: Billy<br>Count: 218",
          "Name: Bill<br>Count: 214",
          "Name: Joseph<br>Count: 213",
          "Name: Anna<br>Count: 211",
          "Name: La<br>Count: 207",
          "Name: Daniel<br>Count: 207",
          "Name: Ben<br>Count: 206",
          "Name: Claire<br>Count: 205",
          "Name: Barbara<br>Count: 204",
          "Name: Karen<br>Count: 203",
          "Name: Kevin<br>Count: 201",
          "Name: Jason<br>Count: 201",
          "Name: Marie<br>Count: 200",
          "Name: Tony<br>Count: 200",
          "Name: Fred<br>Count: 199",
          "Name: Linda<br>Count: 197",
          "Name: Brian<br>Count: 196",
          "Name: Anne<br>Count: 196",
          "Name: Annie<br>Count: 196",
          "Name: Ed<br>Count: 194",
          "Name: Maria<br>Count: 193",
          "Name: Phil<br>Count: 192",
          "Name: Maggie<br>Count: 191",
          "Name: Henry<br>Count: 191",
          "Name: Adam<br>Count: 191",
          "Name: Andy<br>Count: 186",
          "Name: Guy<br>Count: 185",
          "Name: Margaret<br>Count: 184",
          "Name: Emily<br>Count: 182",
          "Name: Jones<br>Count: 176",
          "Name: Moe<br>Count: 174",
          "Name: Tim<br>Count: 174",
          "Name: Roy<br>Count: 174",
          "Name: Matt<br>Count: 173",
          "Name: Louis<br>Count: 169",
          "Name: Scott<br>Count: 167",
          "Name: Edward<br>Count: 167",
          "Name: Howard<br>Count: 165",
          "Name: Jane<br>Count: 164",
          "Name: Nick<br>Count: 164",
          "Name: Bobby<br>Count: 159",
          "Name: Mark<br>Count: 159",
          "Name: Kim<br>Count: 157",
          "Name: Laura<br>Count: 154",
          "Name: Jennifer<br>Count: 154",
          "Name: Martin<br>Count: 153",
          "Name: Ellen<br>Count: 152",
          "Name: Sara<br>Count: 151",
          "Name: Tommy<br>Count: 150",
          "Name: Charlotte<br>Count: 150",
          "Name: Angela<br>Count: 149",
          "Name: Mickey<br>Count: 148",
          "Name: Johnson<br>Count: 148",
          "Name: Lee<br>Count: 147",
          "Name: Vijay<br>Count: 146",
          "Name: Martha<br>Count: 146",
          "Name: Julia<br>Count: 146",
          "Name: Philip<br>Count: 145",
          "Name: Jerry<br>Count: 143",
          "Name: Ryan<br>Count: 143",
          "Name: Louise<br>Count: 143",
          "Name: Amy<br>Count: 142",
          "Name: Andrew<br>Count: 141",
          "Name: Gloria<br>Count: 141",
          "Name: Lucy<br>Count: 140",
          "Name: Albert<br>Count: 139",
          "Name: Pete<br>Count: 138",
          "Name: Wilson<br>Count: 137",
          "Name: Jake<br>Count: 137",
          "Name: Jessica<br>Count: 137",
          "Name: Samantha<br>Count: 136",
          "Name: Gary<br>Count: 134",
          "Name: Harold<br>Count: 133",
          "Name: Taylor<br>Count: 133",
          "Name: Amanda<br>Count: 133",
          "Name: Kelly<br>Count: 132",
          "Name: Catherine<br>Count: 132",
          "Name: Jonathan<br>Count: 131",
          "Name: Dan<br>Count: 131",
          "Name: Diane<br>Count: 131",
          "Name: Kid<br>Count: 129",
          "Name: Ray<br>Count: 128",
          "Name: Jenny<br>Count: 128",
          "Name: Anthony<br>Count: 128",
          "Name: Lou<br>Count: 127",
          "Name: Tina<br>Count: 127",
          "Name: Larry<br>Count: 126",
          "Name: Bugs<br>Count: 125",
          "Name: Jackson<br>Count: 122",
          "Name: Rose<br>Count: 122",
          "Name: Gordon<br>Count: 121",
          "Name: Sean<br>Count: 121",
          "Name: Red<br>Count: 121",
          "Name: Alexander<br>Count: 121",
          "Name: Leo<br>Count: 120",
          "Name: Karl<br>Count: 119",
          "Name: Walter<br>Count: 119",
          "Name: Sophie<br>Count: 119",
          "Name: Sergeant<br>Count: 118",
          "Name: Dennis<br>Count: 118",
          "Name: Jackie<br>Count: 117",
          "Name: Betty<br>Count: 117",
          "Name: Patrick<br>Count: 116",
          "Name: Rebecca<br>Count: 116",
          "Name: Katie<br>Count: 116",
          "Name: Donald<br>Count: 116",
          "Name: Carol<br>Count: 116",
          "Name: Sally<br>Count: 115",
          "Name: Priya<br>Count: 115",
          "Name: Wendy<br>Count: 114",
          "Name: Jill<br>Count: 114",
          "Name: Frankie<br>Count: 113",
          "Name: Joan<br>Count: 113",
          "Name: Ravi<br>Count: 113",
          "Name: Marty<br>Count: 112",
          "Name: Stanley<br>Count: 112",
          "Name: Stephen<br>Count: 112",
          "Name: Francis<br>Count: 112",
          "Name: Carl<br>Count: 112",
          "Name: Nina<br>Count: 111",
          "Name: Judy<br>Count: 111",
          "Name: Eva<br>Count: 111",
          "Name: Doug<br>Count: 111",
          "Name: Nicole<br>Count: 111",
          "Name: Carlos<br>Count: 110",
          "Name: Christine<br>Count: 110",
          "Name: Roger<br>Count: 109",
          "Name: Norman<br>Count: 108",
          "Name: Radha<br>Count: 106",
          "Name: Williams<br>Count: 106",
          "Name: Raymond<br>Count: 105",
          "Name: Connie<br>Count: 105",
          "Name: Samuel<br>Count: 105",
          "Name: Terry<br>Count: 105",
          "Name: Grace<br>Count: 105",
          "Name: King<br>Count: 105",
          "Name: Marcus<br>Count: 104",
          "Name: Ron<br>Count: 104",
          "Name: Oliver<br>Count: 104",
          "Name: Gus<br>Count: 103",
          "Name: Pierre<br>Count: 103",
          "Name: Stan<br>Count: 102",
          "Name: Michelle<br>Count: 102",
          "Name: Jacob<br>Count: 102",
          "Name: Eric<br>Count: 101",
          "Name: Davis<br>Count: 101",
          "Name: Matthew<br>Count: 101",
          "Name: Pooja<br>Count: 101",
          "Name: Diana<br>Count: 101",
          "Name: Monica<br>Count: 100",
          "Name: Nancy<br>Count: 100",
          "Name: Rita<br>Count: 99",
          "Name: Vikram<br>Count: 99",
          "Name: Sonia<br>Count: 99",
          "Name: Ivan<br>Count: 98",
          "Name: Molly<br>Count: 98",
          "Name: Cindy<br>Count: 98",
          "Name: Russell<br>Count: 97",
          "Name: Gina<br>Count: 96",
          "Name: Katherine<br>Count: 96",
          "Name: Janet<br>Count: 96",
          "Name: Jamie<br>Count: 96",
          "Name: Todd<br>Count: 96",
          "Name: Beth<br>Count: 95",
          "Name: Lily<br>Count: 95",
          "Name: Bruce<br>Count: 95",
          "Name: Greg<br>Count: 95",
          "Name: Jesse<br>Count: 94",
          "Name: Dorothy<br>Count: 94",
          "Name: Nora<br>Count: 94",
          "Name: Juan<br>Count: 94",
          "Name: Sharon<br>Count: 93",
          "Name: Ted<br>Count: 93",
          "Name: Jan<br>Count: 92",
          "Name: Hannah<br>Count: 92",
          "Name: Christopher<br>Count: 92",
          "Name: Waiter<br>Count: 92",
          "Name: Leslie<br>Count: 92",
          "Name: Liz<br>Count: 92",
          "Name: Lawrence<br>Count: 92",
          "Name: Victoria<br>Count: 91",
          "Name: Ajay<br>Count: 91",
          "Name: Ali<br>Count: 90",
          "Name: Carla<br>Count: 90",
          "Name: Jeff<br>Count: 89",
          "Name: Derek<br>Count: 89",
          "Name: Debbie<br>Count: 89",
          "Name: Tracy<br>Count: 88",
          "Name: Neil<br>Count: 88",
          "Name: Sandra<br>Count: 88",
          "Name: Anjali<br>Count: 88",
          "Name: Buddy<br>Count: 87",
          "Name: Tanya<br>Count: 87",
          "Name: Jean<br>Count: 87",
          "Name: Emma<br>Count: 87",
          "Name: Miles<br>Count: 87",
          "Name: Harris<br>Count: 87",
          "Name: Sylvia<br>Count: 87",
          "Name: Felix<br>Count: 86",
          "Name: Wayne<br>Count: 86",
          "Name: Smith<br>Count: 86",
          "Name: Luke<br>Count: 85",
          "Name: Gwen<br>Count: 85",
          "Name: Don<br>Count: 85",
          "Name: Anita<br>Count: 84",
          "Name: Paula<br>Count: 84",
          "Name: Daffy<br>Count: 84",
          "Name: Lola<br>Count: 84",
          "Name: Harvey<br>Count: 83",
          "Name: Cynthia<br>Count: 83",
          "Name: Nicholas<br>Count: 83",
          "Name: Sheila<br>Count: 83",
          "Name: Victor<br>Count: 83",
          "Name: Kenny<br>Count: 83",
          "Name: Stephanie<br>Count: 83",
          "Name: Douglas<br>Count: 83",
          "Name: Bernard<br>Count: 82",
          "Name: Nathan<br>Count: 82",
          "Name: Josh<br>Count: 82",
          "Name: Evelyn<br>Count: 82",
          "Name: Natalie<br>Count: 82",
          "Name: Ned<br>Count: 81",
          "Name: Maya<br>Count: 81",
          "Name: Mitch<br>Count: 81",
          "Name: Shankar<br>Count: 81",
          "Name: Justin<br>Count: 81",
          "Name: Craig<br>Count: 81",
          "Name: Alan<br>Count: 81",
          "Name: Ricky<br>Count: 81",
          "Name: Il<br>Count: 80",
          "Name: Maurice<br>Count: 80",
          "Name: Marshall<br>Count: 80",
          "Name: Brenda<br>Count: 80",
          "Name: Jay<br>Count: 79",
          "Name: Angel<br>Count: 79",
          "Name: Robin<br>Count: 79",
          "Name: Ashley<br>Count: 79",
          "Name: Will<br>Count: 79",
          "Name: Kyle<br>Count: 79",
          "Name: Denise<br>Count: 79",
          "Name: Vicky<br>Count: 79",
          "Name: Alfred<br>Count: 78",
          "Name: Kathy<br>Count: 78",
          "Name: Kumar<br>Count: 78",
          "Name: Al<br>Count: 78",
          "Name: Tyler<br>Count: 78",
          "Name: Patricia<br>Count: 77",
          "Name: Anderson<br>Count: 77",
          "Name: Vanessa<br>Count: 77",
          "Name: Hans<br>Count: 77",
          "Name: Ian<br>Count: 77",
          "Name: Rick<br>Count: 77",
          "Name: Casey<br>Count: 77",
          "Name: Lynn<br>Count: 76",
          "Name: Park<br>Count: 76",
          "Name: Sandy<br>Count: 75",
          "Name: Chuck<br>Count: 75",
          "Name: Antonio<br>Count: 75",
          "Name: Oscar<br>Count: 75",
          "Name: Rosa<br>Count: 75",
          "Name: Prince<br>Count: 75",
          "Name: Freddy<br>Count: 74",
          "Name: Rahul<br>Count: 74",
          "Name: Lloyd<br>Count: 74",
          "Name: Karan<br>Count: 74",
          "Name: Arnold<br>Count: 74",
          "Name: Teresa<br>Count: 73",
          "Name: Joyce<br>Count: 73",
          "Name: Barry<br>Count: 73",
          "Name: Lauren<br>Count: 73",
          "Name: Andrea<br>Count: 72",
          "Name: Leonard<br>Count: 72",
          "Name: Leon<br>Count: 72",
          "Name: Teddy<br>Count: 72",
          "Name: Jeremy<br>Count: 72",
          "Name: Mama<br>Count: 71",
          "Name: Thompson<br>Count: 71",
          "Name: Doris<br>Count: 71",
          "Name: Frau<br>Count: 71",
          "Name: Morgan<br>Count: 71",
          "Name: Allen<br>Count: 71",
          "Name: Melissa<br>Count: 71",
          "Name: Ronnie<br>Count: 71",
          "Name: Jessie<br>Count: 70",
          "Name: Randy<br>Count: 70",
          "Name: Audrey<br>Count: 70",
          "Name: Marion<br>Count: 70",
          "Name: Pamela<br>Count: 70",
          "Name: Valerie<br>Count: 70",
          "Name: Veronica<br>Count: 70",
          "Name: Becky<br>Count: 69",
          "Name: Bruno<br>Count: 69",
          "Name: Gabriel<br>Count: 69",
          "Name: Heather<br>Count: 69",
          "Name: Mitchell<br>Count: 69",
          "Name: Raju<br>Count: 68",
          "Name: Allison<br>Count: 68",
          "Name: Elena<br>Count: 68",
          "Name: Lenny<br>Count: 68",
          "Name: Girlfriend<br>Count: 68",
          "Name: Abby<br>Count: 68",
          "Name: Keith<br>Count: 68",
          "Name: Ann<br>Count: 68",
          "Name: Suzanne<br>Count: 68",
          "Name: Donna<br>Count: 68",
          "Name: Carmen<br>Count: 68",
          "Name: Rosie<br>Count: 67",
          "Name: Ernie<br>Count: 67",
          "Name: Clara<br>Count: 67",
          "Name: Megan<br>Count: 67",
          "Name: Ashok<br>Count: 67",
          "Name: Ruth<br>Count: 66",
          "Name: Eugene<br>Count: 66",
          "Name: Evans<br>Count: 65",
          "Name: Bonnie<br>Count: 65",
          "Name: Carrie<br>Count: 65",
          "Name: Lester<br>Count: 65",
          "Name: Vincent<br>Count: 65",
          "Name: Angie<br>Count: 65",
          "Name: Julian<br>Count: 65",
          "Name: Ralph<br>Count: 65",
          "Name: Chloe<br>Count: 65",
          "Name: Eve<br>Count: 65",
          "Name: Caroline<br>Count: 64",
          "Name: Abraham<br>Count: 64",
          "Name: Janice<br>Count: 64",
          "Name: Mohan<br>Count: 64",
          "Name: Olivia<br>Count: 64",
          "Name: Vince<br>Count: 64",
          "Name: Malcolm<br>Count: 64",
          "Name: Vic<br>Count: 64",
          "Name: Aaron<br>Count: 63",
          "Name: Virginia<br>Count: 63",
          "Name: Herbert<br>Count: 63",
          "Name: Willie<br>Count: 63",
          "Name: Eleanor<br>Count: 63",
          "Name: Hunter<br>Count: 63",
          "Name: Nikki<br>Count: 63",
          "Name: Santa<br>Count: 63",
          "Name: Marvin<br>Count: 63",
          "Name: Claude<br>Count: 62",
          "Name: Edgar<br>Count: 62",
          "Name: Anand<br>Count: 62",
          "Name: Brooke<br>Count: 62",
          "Name: Christian<br>Count: 62",
          "Name: Vivian<br>Count: 62",
          "Name: Ethan<br>Count: 62",
          "Name: Krishna<br>Count: 62",
          "Name: Shekhar<br>Count: 61",
          "Name: Mario<br>Count: 61",
          "Name: Shanti<br>Count: 61",
          "Name: Steven<br>Count: 61",
          "Name: Lena<br>Count: 61",
          "Name: Natasha<br>Count: 61",
          "Name: Claudia<br>Count: 61",
          "Name: Mona<br>Count: 61",
          "Name: Anton<br>Count: 60",
          "Name: Brad<br>Count: 60",
          "Name: Cathy<br>Count: 60",
          "Name: Ellie<br>Count: 60",
          "Name: Sebastian<br>Count: 60",
          "Name: Curtis<br>Count: 60",
          "Name: Dick<br>Count: 60",
          "Name: Wallace<br>Count: 60",
          "Name: Ram<br>Count: 60",
          "Name: Adams<br>Count: 59",
          "Name: Polly<br>Count: 59",
          "Name: Olga<br>Count: 58",
          "Name: Ken<br>Count: 58",
          "Name: Prem<br>Count: 58",
          "Name: Joey<br>Count: 58",
          "Name: Miguel<br>Count: 58",
          "Name: Nigel<br>Count: 58",
          "Name: Duke<br>Count: 58",
          "Name: Mac<br>Count: 58",
          "Name: Herman<br>Count: 57",
          "Name: Zoe<br>Count: 57",
          "Name: Stella<br>Count: 57",
          "Name: Wolf<br>Count: 57",
          "Name: Mayor<br>Count: 57",
          "Name: Gail<br>Count: 57",
          "Name: Watson<br>Count: 57",
          "Name: Kenneth<br>Count: 56",
          "Name: Hank<br>Count: 56",
          "Name: Lucas<br>Count: 56",
          "Name: Bernie<br>Count: 56",
          "Name: Gregory<br>Count: 56",
          "Name: Miranda<br>Count: 56",
          "Name: Noah<br>Count: 56",
          "Name: Elliot<br>Count: 56",
          "Name: Geeta<br>Count: 56",
          "Name: Winston<br>Count: 56",
          "Name: Shirley<br>Count: 56",
          "Name: Hal<br>Count: 56",
          "Name: Randall<br>Count: 55",
          "Name: Laurie<br>Count: 55",
          "Name: Seema<br>Count: 55",
          "Name: Daisy<br>Count: 55",
          "Name: Sue<br>Count: 55",
          "Name: Jai<br>Count: 55",
          "Name: Owen<br>Count: 55",
          "Name: Nisha<br>Count: 55",
          "Name: Boris<br>Count: 55",
          "Name: Holly<br>Count: 55",
          "Name: Sid<br>Count: 54",
          "Name: Phillip<br>Count: 54",
          "Name: Henri<br>Count: 54",
          "Name: Frances<br>Count: 54",
          "Name: Hugo<br>Count: 54",
          "Name: Ronald<br>Count: 54",
          "Name: Cheryl<br>Count: 54",
          "Name: Earl<br>Count: 54",
          "Name: Sapna<br>Count: 54",
          "Name: Bert<br>Count: 54",
          "Name: Alicia<br>Count: 54",
          "Name: Lakshmi<br>Count: 53",
          "Name: Sullivan<br>Count: 53",
          "Name: Butler<br>Count: 53",
          "Name: April<br>Count: 53",
          "Name: Joanna<br>Count: 53",
          "Name: Cameron<br>Count: 53",
          "Name: Shyam<br>Count: 53",
          "Name: Ernest<br>Count: 53",
          "Name: Lydia<br>Count: 53",
          "Name: Son<br>Count: 53",
          "Name: Jesus<br>Count: 52",
          "Name: Roberts<br>Count: 52",
          "Name: Judith<br>Count: 52",
          "Name: Dana<br>Count: 52",
          "Name: Freddie<br>Count: 52",
          "Name: Marianne<br>Count: 52",
          "Name: Duncan<br>Count: 52",
          "Name: Suraj<br>Count: 52",
          "Name: Carson<br>Count: 52",
          "Name: Kitty<br>Count: 52",
          "Name: Kapoor<br>Count: 52",
          "Name: Jacques<br>Count: 52",
          "Name: Rudy<br>Count: 52",
          "Name: Asha<br>Count: 52",
          "Name: Lillian<br>Count: 51",
          "Name: Rocky<br>Count: 51",
          "Name: Dean<br>Count: 51",
          "Name: Frederick<br>Count: 51",
          "Name: Lewis<br>Count: 51",
          "Name: Calvin<br>Count: 51",
          "Name: Esther<br>Count: 51",
          "Name: Pat<br>Count: 51",
          "Name: Susie<br>Count: 51",
          "Name: Andre<br>Count: 50",
          "Name: Von<br>Count: 50",
          "Name: Sidney<br>Count: 50",
          "Name: Isabel<br>Count: 50",
          "Name: Harrison<br>Count: 50",
          "Name: Gerald<br>Count: 50",
          "Name: Agnes<br>Count: 50",
          "Name: Clyde<br>Count: 50",
          "Name: Dylan<br>Count: 50",
          "Name: Joel<br>Count: 50",
          "Name: Sasha<br>Count: 50",
          "Name: Hugh<br>Count: 50",
          "Name: Luther<br>Count: 50",
          "Name: Major<br>Count: 50",
          "Name: Bennett<br>Count: 49",
          "Name: Theresa<br>Count: 49",
          "Name: Ruby<br>Count: 49",
          "Name: Percy<br>Count: 49",
          "Name: Beatrice<br>Count: 49",
          "Name: Stuart<br>Count: 49",
          "Name: Wanda<br>Count: 49",
          "Name: Mandy<br>Count: 49",
          "Name: Fan<br>Count: 49",
          "Name: Penny<br>Count: 49",
          "Name: Jose<br>Count: 49",
          "Name: Angelo<br>Count: 49",
          "Name: Der<br>Count: 48",
          "Name: Fiona<br>Count: 48",
          "Name: Malhotra<br>Count: 48",
          "Name: Hamilton<br>Count: 48",
          "Name: Jo<br>Count: 48",
          "Name: Rob<br>Count: 48",
          "Name: Mia<br>Count: 48",
          "Name: Franz<br>Count: 48",
          "Name: Irene<br>Count: 48",
          "Name: Chen<br>Count: 48",
          "Name: Kurt<br>Count: 48",
          "Name: Miriam<br>Count: 48",
          "Name: Mabel<br>Count: 47",
          "Name: Isabelle<br>Count: 47",
          "Name: Candy<br>Count: 47",
          "Name: Melanie<br>Count: 47",
          "Name: Gopal<br>Count: 47",
          "Name: François<br>Count: 47",
          "Name: Meena<br>Count: 47",
          "Name: Yvonne<br>Count: 47",
          "Name: Richie<br>Count: 47",
          "Name: Peggy<br>Count: 47",
          "Name: Murphy<br>Count: 47",
          "Name: Constance<br>Count: 47",
          "Name: Adrian<br>Count: 47",
          "Name: Antoine<br>Count: 47",
          "Name: Omar<br>Count: 47",
          "Name: Phyllis<br>Count: 47",
          "Name: Porter<br>Count: 47",
          "Name: Lois<br>Count: 47",
          "Name: Philippe<br>Count: 47",
          "Name: Preston<br>Count: 47",
          "Name: Raj<br>Count: 47",
          "Name: Woody<br>Count: 46",
          "Name: Campbell<br>Count: 46",
          "Name: Lucky<br>Count: 46",
          "Name: Erica<br>Count: 46",
          "Name: Helena<br>Count: 46",
          "Name: Harriet<br>Count: 46",
          "Name: Iris<br>Count: 46",
          "Name: Edith<br>Count: 46",
          "Name: Bear<br>Count: 46",
          "Name: Rani<br>Count: 46",
          "Name: Lilly<br>Count: 46",
          "Name: Simone<br>Count: 46",
          "Name: Jeanne<br>Count: 46",
          "Name: Jeffrey<br>Count: 46",
          "Name: Zack<br>Count: 46",
          "Name: Trevor<br>Count: 46",
          "Name: Maureen<br>Count: 45",
          "Name: Dolores<br>Count: 45",
          "Name: Moore<br>Count: 45",
          "Name: Patty<br>Count: 45",
          "Name: Stevens<br>Count: 45",
          "Name: Rajesh<br>Count: 45",
          "Name: Tara<br>Count: 45",
          "Name: Rogers<br>Count: 45",
          "Name: Roland<br>Count: 45",
          "Name: Manuel<br>Count: 45",
          "Name: Carlo<br>Count: 45",
          "Name: Barney<br>Count: 45",
          "Name: Madeleine<br>Count: 45",
          "Name: Mimi<br>Count: 45",
          "Name: Marilyn<br>Count: 45",
          "Name: Amber<br>Count: 45",
          "Name: Brandon<br>Count: 44",
          "Name: Vernon<br>Count: 44",
          "Name: Kathleen<br>Count: 44",
          "Name: Sadie<br>Count: 44",
          "Name: Julius<br>Count: 44",
          "Name: Christmas<br>Count: 44",
          "Name: Daphne<br>Count: 44",
          "Name: Mme<br>Count: 44",
          "Name: Luis<br>Count: 44",
          "Name: Holmes<br>Count: 44",
          "Name: Parvati<br>Count: 44",
          "Name: Colin<br>Count: 44",
          "Name: Warden<br>Count: 44",
          "Name: Stewart<br>Count: 44",
          "Name: Elmer<br>Count: 43",
          "Name: Alexandra<br>Count: 43",
          "Name: Celia<br>Count: 43",
          "Name: Cat<br>Count: 43",
          "Name: Pauline<br>Count: 43",
          "Name: Charley<br>Count: 43",
          "Name: Meg<br>Count: 43",
          "Name: Carter<br>Count: 43",
          "Name: French<br>Count: 43",
          "Name: Seth<br>Count: 43",
          "Name: Benny<br>Count: 43",
          "Name: Boyfriend<br>Count: 43",
          "Name: Deborah<br>Count: 43",
          "Name: Evan<br>Count: 43",
          "Name: Clarence<br>Count: 43",
          "Name: Hector<br>Count: 43",
          "Name: Joshua<br>Count: 43",
          "Name: Elsa<br>Count: 43",
          "Name: Eli<br>Count: 43",
          "Name: Theodore<br>Count: 42",
          "Name: Riley<br>Count: 42",
          "Name: June<br>Count: 42",
          "Name: Prakash<br>Count: 42",
          "Name: Jonas<br>Count: 42",
          "Name: Virgil<br>Count: 42",
          "Name: Carolyn<br>Count: 42",
          "Name: Abdul<br>Count: 42",
          "Name: Madhu<br>Count: 42",
          "Name: Gauri<br>Count: 42",
          "Name: Sanjay<br>Count: 42",
          "Name: Floyd<br>Count: 42",
          "Name: Marjorie<br>Count: 42",
          "Name: Beverly<br>Count: 42",
          "Name: Murray<br>Count: 42",
          "Name: Lance<br>Count: 42",
          "Name: Phillips<br>Count: 42",
          "Name: Ella<br>Count: 42",
          "Name: Laxmi<br>Count: 42",
          "Name: Sammy<br>Count: 42",
          "Name: Eileen<br>Count: 41",
          "Name: Toby<br>Count: 41",
          "Name: Elaine<br>Count: 41",
          "Name: Jordan<br>Count: 41",
          "Name: Tiffany<br>Count: 41",
          "Name: Han<br>Count: 41",
          "Name: Reggie<br>Count: 41",
          "Name: Nandini<br>Count: 41",
          "Name: Nelson<br>Count: 41",
          "Name: Jules<br>Count: 41",
          "Name: Pratap<br>Count: 41",
          "Name: Kiran<br>Count: 41",
          "Name: Danielle<br>Count: 41",
          "Name: Ramesh<br>Count: 41",
          "Name: Stacy<br>Count: 41",
          "Name: Robinson<br>Count: 41",
          "Name: Pedro<br>Count: 41",
          "Name: Logan<br>Count: 41",
          "Name: Fanny<br>Count: 41",
          "Name: Graham<br>Count: 41",
          "Name: Bridget<br>Count: 41",
          "Name: Michel<br>Count: 40",
          "Name: Neha<br>Count: 40",
          "Name: Deepak<br>Count: 40",
          "Name: Archie<br>Count: 40",
          "Name: Isabella<br>Count: 40",
          "Name: Quinn<br>Count: 40",
          "Name: Raoul<br>Count: 40",
          "Name: Arun<br>Count: 40",
          "Name: Art<br>Count: 40",
          "Name: Jenkins<br>Count: 40",
          "Name: Courtney<br>Count: 40",
          "Name: Trish<br>Count: 40",
          "Name: Betsy<br>Count: 40",
          "Name: Penelope<br>Count: 40",
          "Name: Darcy<br>Count: 40",
          "Name: Rohit<br>Count: 40",
          "Name: Blake<br>Count: 40",
          "Name: Brady<br>Count: 39",
          "Name: Troy<br>Count: 39",
          "Name: Vera<br>Count: 39",
          "Name: Benson<br>Count: 39",
          "Name: Sonny<br>Count: 39",
          "Name: Sandhya<br>Count: 39",
          "Name: Parker<br>Count: 39",
          "Name: Mason<br>Count: 39",
          "Name: Bud<br>Count: 39",
          "Name: Robbie<br>Count: 39",
          "Name: Sylvester<br>Count: 39",
          "Name: Darren<br>Count: 38",
          "Name: Gertrude<br>Count: 38",
          "Name: Travis<br>Count: 38",
          "Name: Dracula<br>Count: 38",
          "Name: Clayton<br>Count: 38",
          "Name: Edna<br>Count: 38",
          "Name: Ingrid<br>Count: 38",
          "Name: Benjamin<br>Count: 38",
          "Name: Shane<br>Count: 38",
          "Name: Doyle<br>Count: 38",
          "Name: Voices<br>Count: 38",
          "Name: Bart<br>Count: 38",
          "Name: Sharma<br>Count: 38",
          "Name: Del<br>Count: 38",
          "Name: Brooks<br>Count: 38",
          "Name: Wyatt<br>Count: 38",
          "Name: Christina<br>Count: 38",
          "Name: Isaac<br>Count: 38",
          "Name: Jorge<br>Count: 38",
          "Name: Cooper<br>Count: 37",
          "Name: Joy<br>Count: 37",
          "Name: Vinod<br>Count: 37",
          "Name: Aarti<br>Count: 37",
          "Name: Nate<br>Count: 37",
          "Name: Stu<br>Count: 37",
          "Name: Dora<br>Count: 37",
          "Name: Billie<br>Count: 37",
          "Name: Pam<br>Count: 37",
          "Name: Barnes<br>Count: 37",
          "Name: Lyle<br>Count: 37",
          "Name: Hayes<br>Count: 37",
          "Name: Ida<br>Count: 37",
          "Name: Leah<br>Count: 37",
          "Name: Horace<br>Count: 37",
          "Name: Violet<br>Count: 37",
          "Name: Cody<br>Count: 37",
          "Name: Aditya<br>Count: 37",
          "Name: May<br>Count: 37",
          "Name: Gladys<br>Count: 36",
          "Name: Hudson<br>Count: 36",
          "Name: Greta<br>Count: 36",
          "Name: Dominic<br>Count: 36",
          "Name: Rhonda<br>Count: 36",
          "Name: Camille<br>Count: 36",
          "Name: Annette<br>Count: 36",
          "Name: Lila<br>Count: 36",
          "Name: Roberto<br>Count: 36",
          "Name: Dale<br>Count: 36",
          "Name: Fox<br>Count: 36",
          "Name: Vicki<br>Count: 36",
          "Name: Lucille<br>Count: 36",
          "Name: Kane<br>Count: 36",
          "Name: Trent<br>Count: 36",
          "Name: Sameer<br>Count: 36",
          "Name: Conrad<br>Count: 36",
          "Name: Madison<br>Count: 36",
          "Name: Shiva<br>Count: 36",
          "Name: Nolan<br>Count: 36",
          "Name: Luigi<br>Count: 36",
          "Name: Rex<br>Count: 35",
          "Name: Wells<br>Count: 35",
          "Name: Ahmed<br>Count: 35",
          "Name: Raghu<br>Count: 35",
          "Name: Sofia<br>Count: 35",
          "Name: Sunil<br>Count: 35",
          "Name: Rupert<br>Count: 35",
          "Name: Chandra<br>Count: 35",
          "Name: Georgia<br>Count: 35",
          "Name: Peterson<br>Count: 35",
          "Name: Joanne<br>Count: 35",
          "Name: Biker<br>Count: 35",
          "Name: Diego<br>Count: 35",
          "Name: Stanton<br>Count: 35",
          "Name: Rekha<br>Count: 35",
          "Name: Jamal<br>Count: 35",
          "Name: Devi<br>Count: 35",
          "Name: Bride<br>Count: 35",
          "Name: Bradley<br>Count: 35",
          "Name: Toni<br>Count: 35",
          "Name: Henderson<br>Count: 35",
          "Name: Clark<br>Count: 35",
          "Name: Fran<br>Count: 35",
          "Name: Herr<br>Count: 35",
          "Name: Fritz<br>Count: 35",
          "Name: Sydney<br>Count: 35",
          "Name: Stefan<br>Count: 35",
          "Name: Blanche<br>Count: 34",
          "Name: Franklin<br>Count: 34",
          "Name: Jerome<br>Count: 34",
          "Name: Erik<br>Count: 34",
          "Name: Wally<br>Count: 34",
          "Name: Glenn<br>Count: 34",
          "Name: Wade<br>Count: 34",
          "Name: Naomi<br>Count: 34",
          "Name: Meredith<br>Count: 34",
          "Name: Meenakshi<br>Count: 34",
          "Name: Van<br>Count: 34",
          "Name: Ana<br>Count: 34",
          "Name: Cole<br>Count: 34",
          "Name: Margo<br>Count: 34",
          "Name: Walker<br>Count: 34",
          "Name: Choi<br>Count: 34",
          "Name: Burns<br>Count: 34",
          "Name: Gil<br>Count: 34",
          "Name: Dolly<br>Count: 34",
          "Name: Yu<br>Count: 33",
          "Name: Grant<br>Count: 33",
          "Name: Montgomery<br>Count: 33",
          "Name: Lorraine<br>Count: 33",
          "Name: Elisabeth<br>Count: 33",
          "Name: Louie<br>Count: 33",
          "Name: Marcia<br>Count: 33",
          "Name: Crawford<br>Count: 33",
          "Name: Marta<br>Count: 33",
          "Name: Kamini<br>Count: 33",
          "Name: Kay<br>Count: 33",
          "Name: Marco<br>Count: 33",
          "Name: Millie<br>Count: 33",
          "Name: Warren<br>Count: 33",
          "Name: Buck<br>Count: 33",
          "Name: Geoffrey<br>Count: 33",
          "Name: Javier<br>Count: 33",
          "Name: Igor<br>Count: 33",
          "Name: Jensen<br>Count: 33",
          "Name: Finn<br>Count: 33",
          "Name: Meera<br>Count: 33",
          "Name: Morris<br>Count: 33",
          "Name: Roberta<br>Count: 33",
          "Name: Moses<br>Count: 33",
          "Name: Verma<br>Count: 33",
          "Name: Austin<br>Count: 33",
          "Name: Gypsy<br>Count: 33",
          "Name: Renee<br>Count: 32",
          "Name: Saxena<br>Count: 32",
          "Name: Quentin<br>Count: 32",
          "Name: Reynolds<br>Count: 32",
          "Name: Sal<br>Count: 32",
          "Name: Savitri<br>Count: 32",
          "Name: Mildred<br>Count: 32",
          "Name: Alison<br>Count: 32",
          "Name: Rico<br>Count: 32",
          "Name: Preeti<br>Count: 32",
          "Name: Ross<br>Count: 32",
          "Name: Divya<br>Count: 32",
          "Name: Anu<br>Count: 32",
          "Name: Regina<br>Count: 32",
          "Name: Briggs<br>Count: 32",
          "Name: Dwight<br>Count: 32",
          "Name: Nicky<br>Count: 32",
          "Name: Milton<br>Count: 32",
          "Name: Georgie<br>Count: 32",
          "Name: Ellis<br>Count: 32",
          "Name: Siddharth<br>Count: 32",
          "Name: Dee<br>Count: 32",
          "Name: Ajit<br>Count: 32",
          "Name: Francesca<br>Count: 32",
          "Name: Hari<br>Count: 32",
          "Name: Suzie<br>Count: 32",
          "Name: Sherman<br>Count: 32",
          "Name: Wesley<br>Count: 32",
          "Name: Agatha<br>Count: 31",
          "Name: Tess<br>Count: 31",
          "Name: Lara<br>Count: 31",
          "Name: Fernando<br>Count: 31",
          "Name: Spencer<br>Count: 31",
          "Name: Alberto<br>Count: 31",
          "Name: Tarzan<br>Count: 31",
          "Name: Gabrielle<br>Count: 31",
          "Name: Ira<br>Count: 31",
          "Name: Damien<br>Count: 31",
          "Name: Alexis<br>Count: 31",
          "Name: Bunny<br>Count: 31",
          "Name: Gilbert<br>Count: 31",
          "Name: Dante<br>Count: 31",
          "Name: Yuri<br>Count: 31",
          "Name: Roman<br>Count: 31",
          "Name: Monty<br>Count: 31",
          "Name: Angus<br>Count: 31",
          "Name: Harlan<br>Count: 31",
          "Name: Butch<br>Count: 31",
          "Name: Jen<br>Count: 31",
          "Name: Elise<br>Count: 31",
          "Name: Nadia<br>Count: 31",
          "Name: Serena<br>Count: 31",
          "Name: Jared<br>Count: 31",
          "Name: Theo<br>Count: 31",
          "Name: Randolph<br>Count: 31",
          "Name: Rai<br>Count: 31",
          "Name: Wes<br>Count: 31",
          "Name: Otto<br>Count: 31",
          "Name: Shelly<br>Count: 31",
          "Name: Matthews<br>Count: 31",
          "Name: Cecil<br>Count: 30",
          "Name: Gopi<br>Count: 30",
          "Name: Romeo<br>Count: 30",
          "Name: Alvin<br>Count: 30",
          "Name: Chan<br>Count: 30",
          "Name: Amos<br>Count: 30",
          "Name: Khanna<br>Count: 30",
          "Name: Simpson<br>Count: 30",
          "Name: Abel<br>Count: 30",
          "Name: Janine<br>Count: 30",
          "Name: Kirby<br>Count: 30",
          "Name: Rama<br>Count: 30",
          "Name: Madge<br>Count: 30",
          "Name: Margot<br>Count: 30",
          "Name: Stevie<br>Count: 30",
          "Name: Mala<br>Count: 30",
          "Name: Morton<br>Count: 30",
          "Name: Artie<br>Count: 30",
          "Name: Timmy<br>Count: 30",
          "Name: Josef<br>Count: 30",
          "Name: Flynn<br>Count: 30",
          "Name: Francisco<br>Count: 30",
          "Name: Manu<br>Count: 30",
          "Name: Cassandra<br>Count: 30",
          "Name: Cookie<br>Count: 30",
          "Name: Roopa<br>Count: 30",
          "Name: Wu<br>Count: 30",
          "Name: Shannon<br>Count: 30",
          "Name: Willis<br>Count: 30",
          "Name: Monique<br>Count: 30",
          "Name: Wang<br>Count: 30",
          "Name: Bates<br>Count: 30",
          "Name: Belle<br>Count: 30",
          "Name: Werner<br>Count: 30",
          "Name: Havaldar<br>Count: 30",
          "Name: Perry<br>Count: 30",
          "Name: Gretchen<br>Count: 30",
          "Name: Sanjana<br>Count: 30",
          "Name: Adele<br>Count: 30",
          "Name: Connor<br>Count: 30",
          "Name: Nadine<br>Count: 30",
          "Name: Peters<br>Count: 29",
          "Name: Rene<br>Count: 29",
          "Name: Vishal<br>Count: 29",
          "Name: Monroe<br>Count: 29",
          "Name: Powell<br>Count: 29",
          "Name: Manny<br>Count: 29",
          "Name: English<br>Count: 29",
          "Name: Bella<br>Count: 29",
          "Name: Marian<br>Count: 29",
          "Name: Jennings<br>Count: 29",
          "Name: Vinnie<br>Count: 29",
          "Name: Klaus<br>Count: 29",
          "Name: Sunita<br>Count: 29",
          "Name: Gerry<br>Count: 29",
          "Name: Pearl<br>Count: 29",
          "Name: Rich<br>Count: 29",
          "Name: Emmett<br>Count: 29",
          "Name: Mikey<br>Count: 29",
          "Name: Durga<br>Count: 29",
          "Name: Dawn<br>Count: 29",
          "Name: Chad<br>Count: 29",
          "Name: Gavin<br>Count: 29",
          "Name: Salim<br>Count: 29",
          "Name: Edwards<br>Count: 29",
          "Name: Dwayne<br>Count: 29",
          "Name: Jasmine<br>Count: 29",
          "Name: Mallory<br>Count: 29",
          "Name: Stacey<br>Count: 29",
          "Name: Suman<br>Count: 28",
          "Name: Erin<br>Count: 28",
          "Name: Bishop<br>Count: 28",
          "Name: Banks<br>Count: 28",
          "Name: Gupta<br>Count: 28",
          "Name: Juliet<br>Count: 28",
          "Name: Jon<br>Count: 28",
          "Name: Andrews<br>Count: 28",
          "Name: Spike<br>Count: 28",
          "Name: Kimberly<br>Count: 28",
          "Name: Perkins<br>Count: 28",
          "Name: Mahesh<br>Count: 28",
          "Name: Edwin<br>Count: 28",
          "Name: Bryan<br>Count: 28",
          "Name: Juliette<br>Count: 28",
          "Name: Jasper<br>Count: 28",
          "Name: Marcel<br>Count: 28",
          "Name: Lincoln<br>Count: 28",
          "Name: Turner<br>Count: 28",
          "Name: Sherry<br>Count: 28",
          "Name: Star<br>Count: 28",
          "Name: Darryl<br>Count: 28",
          "Name: Kennedy<br>Count: 28",
          "Name: Trudy<br>Count: 28",
          "Name: Milo<br>Count: 28",
          "Name: Georges<br>Count: 28",
          "Name: Morrison<br>Count: 28",
          "Name: Roxanne<br>Count: 28",
          "Name: Bailey<br>Count: 28",
          "Name: Clifford<br>Count: 28",
          "Name: Chelsea<br>Count: 28",
          "Name: Hélène<br>Count: 28",
          "Name: Shobha<br>Count: 28",
          "Name: Norma<br>Count: 27",
          "Name: Lorna<br>Count: 27",
          "Name: Melvin<br>Count: 27",
          "Name: Rusty<br>Count: 27",
          "Name: Eliza<br>Count: 27",
          "Name: Suzy<br>Count: 27",
          "Name: Simmons<br>Count: 27",
          "Name: Donny<br>Count: 27",
          "Name: Ricardo<br>Count: 27",
          "Name: Lala<br>Count: 27",
          "Name: Chet<br>Count: 27",
          "Name: Ginger<br>Count: 27",
          "Name: Rajiv<br>Count: 27",
          "Name: Alma<br>Count: 27",
          "Name: Tammy<br>Count: 27",
          "Name: Robby<br>Count: 27",
          "Name: Donnie<br>Count: 27",
          "Name: Willy<br>Count: 27",
          "Name: Burke<br>Count: 27",
          "Name: Jess<br>Count: 27",
          "Name: Muriel<br>Count: 27",
          "Name: Belinda<br>Count: 27"
         ],
         "line": {
          "color": "#A9D6C3"
         },
         "marker": {
          "color": "#A9D6C3"
         },
         "mode": "lines+markers",
         "name": "Character Count",
         "type": "scatter",
         "x": [
          "John",
          "George",
          "Tom",
          "David",
          "Paul",
          "James",
          "Michael",
          "Robert",
          "Jack",
          "Jim",
          "Charlie",
          "Richard",
          "Charles",
          "William",
          "Sarah",
          "Mary",
          "Joe",
          "Thomas",
          "Steve",
          "Frank",
          "Eddie",
          "Alex",
          "Max",
          "Helen",
          "Alice",
          "Sam",
          "Susan",
          "Johnny",
          "Kate",
          "Danny",
          "Julie",
          "Elizabeth",
          "Arthur",
          "Peter",
          "Rachel",
          "Harry",
          "Bob",
          "Mike",
          "Lisa",
          "Chris",
          "Dave",
          "Jimmy",
          "Simon",
          "Billy",
          "Bill",
          "Joseph",
          "Anna",
          "La",
          "Daniel",
          "Ben",
          "Claire",
          "Barbara",
          "Karen",
          "Kevin",
          "Jason",
          "Marie",
          "Tony",
          "Fred",
          "Linda",
          "Brian",
          "Anne",
          "Annie",
          "Ed",
          "Maria",
          "Phil",
          "Maggie",
          "Henry",
          "Adam",
          "Andy",
          "Guy",
          "Margaret",
          "Emily",
          "Jones",
          "Moe",
          "Tim",
          "Roy",
          "Matt",
          "Louis",
          "Scott",
          "Edward",
          "Howard",
          "Jane",
          "Nick",
          "Bobby",
          "Mark",
          "Kim",
          "Laura",
          "Jennifer",
          "Martin",
          "Ellen",
          "Sara",
          "Tommy",
          "Charlotte",
          "Angela",
          "Mickey",
          "Johnson",
          "Lee",
          "Vijay",
          "Martha",
          "Julia",
          "Philip",
          "Jerry",
          "Ryan",
          "Louise",
          "Amy",
          "Andrew",
          "Gloria",
          "Lucy",
          "Albert",
          "Pete",
          "Wilson",
          "Jake",
          "Jessica",
          "Samantha",
          "Gary",
          "Harold",
          "Taylor",
          "Amanda",
          "Kelly",
          "Catherine",
          "Jonathan",
          "Dan",
          "Diane",
          "Kid",
          "Ray",
          "Jenny",
          "Anthony",
          "Lou",
          "Tina",
          "Larry",
          "Bugs",
          "Jackson",
          "Rose",
          "Gordon",
          "Sean",
          "Red",
          "Alexander",
          "Leo",
          "Karl",
          "Walter",
          "Sophie",
          "Sergeant",
          "Dennis",
          "Jackie",
          "Betty",
          "Patrick",
          "Rebecca",
          "Katie",
          "Donald",
          "Carol",
          "Sally",
          "Priya",
          "Wendy",
          "Jill",
          "Frankie",
          "Joan",
          "Ravi",
          "Marty",
          "Stanley",
          "Stephen",
          "Francis",
          "Carl",
          "Nina",
          "Judy",
          "Eva",
          "Doug",
          "Nicole",
          "Carlos",
          "Christine",
          "Roger",
          "Norman",
          "Radha",
          "Williams",
          "Raymond",
          "Connie",
          "Samuel",
          "Terry",
          "Grace",
          "King",
          "Marcus",
          "Ron",
          "Oliver",
          "Gus",
          "Pierre",
          "Stan",
          "Michelle",
          "Jacob",
          "Eric",
          "Davis",
          "Matthew",
          "Pooja",
          "Diana",
          "Monica",
          "Nancy",
          "Rita",
          "Vikram",
          "Sonia",
          "Ivan",
          "Molly",
          "Cindy",
          "Russell",
          "Gina",
          "Katherine",
          "Janet",
          "Jamie",
          "Todd",
          "Beth",
          "Lily",
          "Bruce",
          "Greg",
          "Jesse",
          "Dorothy",
          "Nora",
          "Juan",
          "Sharon",
          "Ted",
          "Jan",
          "Hannah",
          "Christopher",
          "Waiter",
          "Leslie",
          "Liz",
          "Lawrence",
          "Victoria",
          "Ajay",
          "Ali",
          "Carla",
          "Jeff",
          "Derek",
          "Debbie",
          "Tracy",
          "Neil",
          "Sandra",
          "Anjali",
          "Buddy",
          "Tanya",
          "Jean",
          "Emma",
          "Miles",
          "Harris",
          "Sylvia",
          "Felix",
          "Wayne",
          "Smith",
          "Luke",
          "Gwen",
          "Don",
          "Anita",
          "Paula",
          "Daffy",
          "Lola",
          "Harvey",
          "Cynthia",
          "Nicholas",
          "Sheila",
          "Victor",
          "Kenny",
          "Stephanie",
          "Douglas",
          "Bernard",
          "Nathan",
          "Josh",
          "Evelyn",
          "Natalie",
          "Ned",
          "Maya",
          "Mitch",
          "Shankar",
          "Justin",
          "Craig",
          "Alan",
          "Ricky",
          "Il",
          "Maurice",
          "Marshall",
          "Brenda",
          "Jay",
          "Angel",
          "Robin",
          "Ashley",
          "Will",
          "Kyle",
          "Denise",
          "Vicky",
          "Alfred",
          "Kathy",
          "Kumar",
          "Al",
          "Tyler",
          "Patricia",
          "Anderson",
          "Vanessa",
          "Hans",
          "Ian",
          "Rick",
          "Casey",
          "Lynn",
          "Park",
          "Sandy",
          "Chuck",
          "Antonio",
          "Oscar",
          "Rosa",
          "Prince",
          "Freddy",
          "Rahul",
          "Lloyd",
          "Karan",
          "Arnold",
          "Teresa",
          "Joyce",
          "Barry",
          "Lauren",
          "Andrea",
          "Leonard",
          "Leon",
          "Teddy",
          "Jeremy",
          "Mama",
          "Thompson",
          "Doris",
          "Frau",
          "Morgan",
          "Allen",
          "Melissa",
          "Ronnie",
          "Jessie",
          "Randy",
          "Audrey",
          "Marion",
          "Pamela",
          "Valerie",
          "Veronica",
          "Becky",
          "Bruno",
          "Gabriel",
          "Heather",
          "Mitchell",
          "Raju",
          "Allison",
          "Elena",
          "Lenny",
          "Girlfriend",
          "Abby",
          "Keith",
          "Ann",
          "Suzanne",
          "Donna",
          "Carmen",
          "Rosie",
          "Ernie",
          "Clara",
          "Megan",
          "Ashok",
          "Ruth",
          "Eugene",
          "Evans",
          "Bonnie",
          "Carrie",
          "Lester",
          "Vincent",
          "Angie",
          "Julian",
          "Ralph",
          "Chloe",
          "Eve",
          "Caroline",
          "Abraham",
          "Janice",
          "Mohan",
          "Olivia",
          "Vince",
          "Malcolm",
          "Vic",
          "Aaron",
          "Virginia",
          "Herbert",
          "Willie",
          "Eleanor",
          "Hunter",
          "Nikki",
          "Santa",
          "Marvin",
          "Claude",
          "Edgar",
          "Anand",
          "Brooke",
          "Christian",
          "Vivian",
          "Ethan",
          "Krishna",
          "Shekhar",
          "Mario",
          "Shanti",
          "Steven",
          "Lena",
          "Natasha",
          "Claudia",
          "Mona",
          "Anton",
          "Brad",
          "Cathy",
          "Ellie",
          "Sebastian",
          "Curtis",
          "Dick",
          "Wallace",
          "Ram",
          "Adams",
          "Polly",
          "Olga",
          "Ken",
          "Prem",
          "Joey",
          "Miguel",
          "Nigel",
          "Duke",
          "Mac",
          "Herman",
          "Zoe",
          "Stella",
          "Wolf",
          "Mayor",
          "Gail",
          "Watson",
          "Kenneth",
          "Hank",
          "Lucas",
          "Bernie",
          "Gregory",
          "Miranda",
          "Noah",
          "Elliot",
          "Geeta",
          "Winston",
          "Shirley",
          "Hal",
          "Randall",
          "Laurie",
          "Seema",
          "Daisy",
          "Sue",
          "Jai",
          "Owen",
          "Nisha",
          "Boris",
          "Holly",
          "Sid",
          "Phillip",
          "Henri",
          "Frances",
          "Hugo",
          "Ronald",
          "Cheryl",
          "Earl",
          "Sapna",
          "Bert",
          "Alicia",
          "Lakshmi",
          "Sullivan",
          "Butler",
          "April",
          "Joanna",
          "Cameron",
          "Shyam",
          "Ernest",
          "Lydia",
          "Son",
          "Jesus",
          "Roberts",
          "Judith",
          "Dana",
          "Freddie",
          "Marianne",
          "Duncan",
          "Suraj",
          "Carson",
          "Kitty",
          "Kapoor",
          "Jacques",
          "Rudy",
          "Asha",
          "Lillian",
          "Rocky",
          "Dean",
          "Frederick",
          "Lewis",
          "Calvin",
          "Esther",
          "Pat",
          "Susie",
          "Andre",
          "Von",
          "Sidney",
          "Isabel",
          "Harrison",
          "Gerald",
          "Agnes",
          "Clyde",
          "Dylan",
          "Joel",
          "Sasha",
          "Hugh",
          "Luther",
          "Major",
          "Bennett",
          "Theresa",
          "Ruby",
          "Percy",
          "Beatrice",
          "Stuart",
          "Wanda",
          "Mandy",
          "Fan",
          "Penny",
          "Jose",
          "Angelo",
          "Der",
          "Fiona",
          "Malhotra",
          "Hamilton",
          "Jo",
          "Rob",
          "Mia",
          "Franz",
          "Irene",
          "Chen",
          "Kurt",
          "Miriam",
          "Mabel",
          "Isabelle",
          "Candy",
          "Melanie",
          "Gopal",
          "François",
          "Meena",
          "Yvonne",
          "Richie",
          "Peggy",
          "Murphy",
          "Constance",
          "Adrian",
          "Antoine",
          "Omar",
          "Phyllis",
          "Porter",
          "Lois",
          "Philippe",
          "Preston",
          "Raj",
          "Woody",
          "Campbell",
          "Lucky",
          "Erica",
          "Helena",
          "Harriet",
          "Iris",
          "Edith",
          "Bear",
          "Rani",
          "Lilly",
          "Simone",
          "Jeanne",
          "Jeffrey",
          "Zack",
          "Trevor",
          "Maureen",
          "Dolores",
          "Moore",
          "Patty",
          "Stevens",
          "Rajesh",
          "Tara",
          "Rogers",
          "Roland",
          "Manuel",
          "Carlo",
          "Barney",
          "Madeleine",
          "Mimi",
          "Marilyn",
          "Amber",
          "Brandon",
          "Vernon",
          "Kathleen",
          "Sadie",
          "Julius",
          "Christmas",
          "Daphne",
          "Mme",
          "Luis",
          "Holmes",
          "Parvati",
          "Colin",
          "Warden",
          "Stewart",
          "Elmer",
          "Alexandra",
          "Celia",
          "Cat",
          "Pauline",
          "Charley",
          "Meg",
          "Carter",
          "French",
          "Seth",
          "Benny",
          "Boyfriend",
          "Deborah",
          "Evan",
          "Clarence",
          "Hector",
          "Joshua",
          "Elsa",
          "Eli",
          "Theodore",
          "Riley",
          "June",
          "Prakash",
          "Jonas",
          "Virgil",
          "Carolyn",
          "Abdul",
          "Madhu",
          "Gauri",
          "Sanjay",
          "Floyd",
          "Marjorie",
          "Beverly",
          "Murray",
          "Lance",
          "Phillips",
          "Ella",
          "Laxmi",
          "Sammy",
          "Eileen",
          "Toby",
          "Elaine",
          "Jordan",
          "Tiffany",
          "Han",
          "Reggie",
          "Nandini",
          "Nelson",
          "Jules",
          "Pratap",
          "Kiran",
          "Danielle",
          "Ramesh",
          "Stacy",
          "Robinson",
          "Pedro",
          "Logan",
          "Fanny",
          "Graham",
          "Bridget",
          "Michel",
          "Neha",
          "Deepak",
          "Archie",
          "Isabella",
          "Quinn",
          "Raoul",
          "Arun",
          "Art",
          "Jenkins",
          "Courtney",
          "Trish",
          "Betsy",
          "Penelope",
          "Darcy",
          "Rohit",
          "Blake",
          "Brady",
          "Troy",
          "Vera",
          "Benson",
          "Sonny",
          "Sandhya",
          "Parker",
          "Mason",
          "Bud",
          "Robbie",
          "Sylvester",
          "Darren",
          "Gertrude",
          "Travis",
          "Dracula",
          "Clayton",
          "Edna",
          "Ingrid",
          "Benjamin",
          "Shane",
          "Doyle",
          "Voices",
          "Bart",
          "Sharma",
          "Del",
          "Brooks",
          "Wyatt",
          "Christina",
          "Isaac",
          "Jorge",
          "Cooper",
          "Joy",
          "Vinod",
          "Aarti",
          "Nate",
          "Stu",
          "Dora",
          "Billie",
          "Pam",
          "Barnes",
          "Lyle",
          "Hayes",
          "Ida",
          "Leah",
          "Horace",
          "Violet",
          "Cody",
          "Aditya",
          "May",
          "Gladys",
          "Hudson",
          "Greta",
          "Dominic",
          "Rhonda",
          "Camille",
          "Annette",
          "Lila",
          "Roberto",
          "Dale",
          "Fox",
          "Vicki",
          "Lucille",
          "Kane",
          "Trent",
          "Sameer",
          "Conrad",
          "Madison",
          "Shiva",
          "Nolan",
          "Luigi",
          "Rex",
          "Wells",
          "Ahmed",
          "Raghu",
          "Sofia",
          "Sunil",
          "Rupert",
          "Chandra",
          "Georgia",
          "Peterson",
          "Joanne",
          "Biker",
          "Diego",
          "Stanton",
          "Rekha",
          "Jamal",
          "Devi",
          "Bride",
          "Bradley",
          "Toni",
          "Henderson",
          "Clark",
          "Fran",
          "Herr",
          "Fritz",
          "Sydney",
          "Stefan",
          "Blanche",
          "Franklin",
          "Jerome",
          "Erik",
          "Wally",
          "Glenn",
          "Wade",
          "Naomi",
          "Meredith",
          "Meenakshi",
          "Van",
          "Ana",
          "Cole",
          "Margo",
          "Walker",
          "Choi",
          "Burns",
          "Gil",
          "Dolly",
          "Yu",
          "Grant",
          "Montgomery",
          "Lorraine",
          "Elisabeth",
          "Louie",
          "Marcia",
          "Crawford",
          "Marta",
          "Kamini",
          "Kay",
          "Marco",
          "Millie",
          "Warren",
          "Buck",
          "Geoffrey",
          "Javier",
          "Igor",
          "Jensen",
          "Finn",
          "Meera",
          "Morris",
          "Roberta",
          "Moses",
          "Verma",
          "Austin",
          "Gypsy",
          "Renee",
          "Saxena",
          "Quentin",
          "Reynolds",
          "Sal",
          "Savitri",
          "Mildred",
          "Alison",
          "Rico",
          "Preeti",
          "Ross",
          "Divya",
          "Anu",
          "Regina",
          "Briggs",
          "Dwight",
          "Nicky",
          "Milton",
          "Georgie",
          "Ellis",
          "Siddharth",
          "Dee",
          "Ajit",
          "Francesca",
          "Hari",
          "Suzie",
          "Sherman",
          "Wesley",
          "Agatha",
          "Tess",
          "Lara",
          "Fernando",
          "Spencer",
          "Alberto",
          "Tarzan",
          "Gabrielle",
          "Ira",
          "Damien",
          "Alexis",
          "Bunny",
          "Gilbert",
          "Dante",
          "Yuri",
          "Roman",
          "Monty",
          "Angus",
          "Harlan",
          "Butch",
          "Jen",
          "Elise",
          "Nadia",
          "Serena",
          "Jared",
          "Theo",
          "Randolph",
          "Rai",
          "Wes",
          "Otto",
          "Shelly",
          "Matthews",
          "Cecil",
          "Gopi",
          "Romeo",
          "Alvin",
          "Chan",
          "Amos",
          "Khanna",
          "Simpson",
          "Abel",
          "Janine",
          "Kirby",
          "Rama",
          "Madge",
          "Margot",
          "Stevie",
          "Mala",
          "Morton",
          "Artie",
          "Timmy",
          "Josef",
          "Flynn",
          "Francisco",
          "Manu",
          "Cassandra",
          "Cookie",
          "Roopa",
          "Wu",
          "Shannon",
          "Willis",
          "Monique",
          "Wang",
          "Bates",
          "Belle",
          "Werner",
          "Havaldar",
          "Perry",
          "Gretchen",
          "Sanjana",
          "Adele",
          "Connor",
          "Nadine",
          "Peters",
          "Rene",
          "Vishal",
          "Monroe",
          "Powell",
          "Manny",
          "English",
          "Bella",
          "Marian",
          "Jennings",
          "Vinnie",
          "Klaus",
          "Sunita",
          "Gerry",
          "Pearl",
          "Rich",
          "Emmett",
          "Mikey",
          "Durga",
          "Dawn",
          "Chad",
          "Gavin",
          "Salim",
          "Edwards",
          "Dwayne",
          "Jasmine",
          "Mallory",
          "Stacey",
          "Suman",
          "Erin",
          "Bishop",
          "Banks",
          "Gupta",
          "Juliet",
          "Jon",
          "Andrews",
          "Spike",
          "Kimberly",
          "Perkins",
          "Mahesh",
          "Edwin",
          "Bryan",
          "Juliette",
          "Jasper",
          "Marcel",
          "Lincoln",
          "Turner",
          "Sherry",
          "Star",
          "Darryl",
          "Kennedy",
          "Trudy",
          "Milo",
          "Georges",
          "Morrison",
          "Roxanne",
          "Bailey",
          "Clifford",
          "Chelsea",
          "Hélène",
          "Shobha",
          "Norma",
          "Lorna",
          "Melvin",
          "Rusty",
          "Eliza",
          "Suzy",
          "Simmons",
          "Donny",
          "Ricardo",
          "Lala",
          "Chet",
          "Ginger",
          "Rajiv",
          "Alma",
          "Tammy",
          "Robby",
          "Donnie",
          "Willy",
          "Burke",
          "Jess",
          "Muriel",
          "Belinda"
         ],
         "y": [
          1306,
          621,
          591,
          567,
          532,
          513,
          505,
          451,
          440,
          428,
          422,
          401,
          396,
          384,
          371,
          338,
          336,
          331,
          317,
          314,
          307,
          305,
          300,
          294,
          292,
          285,
          283,
          281,
          269,
          262,
          260,
          259,
          259,
          252,
          250,
          244,
          239,
          236,
          230,
          229,
          229,
          225,
          220,
          218,
          214,
          213,
          211,
          207,
          207,
          206,
          205,
          204,
          203,
          201,
          201,
          200,
          200,
          199,
          197,
          196,
          196,
          196,
          194,
          193,
          192,
          191,
          191,
          191,
          186,
          185,
          184,
          182,
          176,
          174,
          174,
          174,
          173,
          169,
          167,
          167,
          165,
          164,
          164,
          159,
          159,
          157,
          154,
          154,
          153,
          152,
          151,
          150,
          150,
          149,
          148,
          148,
          147,
          146,
          146,
          146,
          145,
          143,
          143,
          143,
          142,
          141,
          141,
          140,
          139,
          138,
          137,
          137,
          137,
          136,
          134,
          133,
          133,
          133,
          132,
          132,
          131,
          131,
          131,
          129,
          128,
          128,
          128,
          127,
          127,
          126,
          125,
          122,
          122,
          121,
          121,
          121,
          121,
          120,
          119,
          119,
          119,
          118,
          118,
          117,
          117,
          116,
          116,
          116,
          116,
          116,
          115,
          115,
          114,
          114,
          113,
          113,
          113,
          112,
          112,
          112,
          112,
          112,
          111,
          111,
          111,
          111,
          111,
          110,
          110,
          109,
          108,
          106,
          106,
          105,
          105,
          105,
          105,
          105,
          105,
          104,
          104,
          104,
          103,
          103,
          102,
          102,
          102,
          101,
          101,
          101,
          101,
          101,
          100,
          100,
          99,
          99,
          99,
          98,
          98,
          98,
          97,
          96,
          96,
          96,
          96,
          96,
          95,
          95,
          95,
          95,
          94,
          94,
          94,
          94,
          93,
          93,
          92,
          92,
          92,
          92,
          92,
          92,
          92,
          91,
          91,
          90,
          90,
          89,
          89,
          89,
          88,
          88,
          88,
          88,
          87,
          87,
          87,
          87,
          87,
          87,
          87,
          86,
          86,
          86,
          85,
          85,
          85,
          84,
          84,
          84,
          84,
          83,
          83,
          83,
          83,
          83,
          83,
          83,
          83,
          82,
          82,
          82,
          82,
          82,
          81,
          81,
          81,
          81,
          81,
          81,
          81,
          81,
          80,
          80,
          80,
          80,
          79,
          79,
          79,
          79,
          79,
          79,
          79,
          79,
          78,
          78,
          78,
          78,
          78,
          77,
          77,
          77,
          77,
          77,
          77,
          77,
          76,
          76,
          75,
          75,
          75,
          75,
          75,
          75,
          74,
          74,
          74,
          74,
          74,
          73,
          73,
          73,
          73,
          72,
          72,
          72,
          72,
          72,
          71,
          71,
          71,
          71,
          71,
          71,
          71,
          71,
          70,
          70,
          70,
          70,
          70,
          70,
          70,
          69,
          69,
          69,
          69,
          69,
          68,
          68,
          68,
          68,
          68,
          68,
          68,
          68,
          68,
          68,
          68,
          67,
          67,
          67,
          67,
          67,
          66,
          66,
          65,
          65,
          65,
          65,
          65,
          65,
          65,
          65,
          65,
          65,
          64,
          64,
          64,
          64,
          64,
          64,
          64,
          64,
          63,
          63,
          63,
          63,
          63,
          63,
          63,
          63,
          63,
          62,
          62,
          62,
          62,
          62,
          62,
          62,
          62,
          61,
          61,
          61,
          61,
          61,
          61,
          61,
          61,
          60,
          60,
          60,
          60,
          60,
          60,
          60,
          60,
          60,
          59,
          59,
          58,
          58,
          58,
          58,
          58,
          58,
          58,
          58,
          57,
          57,
          57,
          57,
          57,
          57,
          57,
          56,
          56,
          56,
          56,
          56,
          56,
          56,
          56,
          56,
          56,
          56,
          56,
          55,
          55,
          55,
          55,
          55,
          55,
          55,
          55,
          55,
          55,
          54,
          54,
          54,
          54,
          54,
          54,
          54,
          54,
          54,
          54,
          54,
          53,
          53,
          53,
          53,
          53,
          53,
          53,
          53,
          53,
          53,
          52,
          52,
          52,
          52,
          52,
          52,
          52,
          52,
          52,
          52,
          52,
          52,
          52,
          52,
          51,
          51,
          51,
          51,
          51,
          51,
          51,
          51,
          51,
          50,
          50,
          50,
          50,
          50,
          50,
          50,
          50,
          50,
          50,
          50,
          50,
          50,
          50,
          49,
          49,
          49,
          49,
          49,
          49,
          49,
          49,
          49,
          49,
          49,
          49,
          48,
          48,
          48,
          48,
          48,
          48,
          48,
          48,
          48,
          48,
          48,
          48,
          47,
          47,
          47,
          47,
          47,
          47,
          47,
          47,
          47,
          47,
          47,
          47,
          47,
          47,
          47,
          47,
          47,
          47,
          47,
          47,
          47,
          46,
          46,
          46,
          46,
          46,
          46,
          46,
          46,
          46,
          46,
          46,
          46,
          46,
          46,
          46,
          46,
          45,
          45,
          45,
          45,
          45,
          45,
          45,
          45,
          45,
          45,
          45,
          45,
          45,
          45,
          45,
          45,
          44,
          44,
          44,
          44,
          44,
          44,
          44,
          44,
          44,
          44,
          44,
          44,
          44,
          44,
          43,
          43,
          43,
          43,
          43,
          43,
          43,
          43,
          43,
          43,
          43,
          43,
          43,
          43,
          43,
          43,
          43,
          43,
          43,
          42,
          42,
          42,
          42,
          42,
          42,
          42,
          42,
          42,
          42,
          42,
          42,
          42,
          42,
          42,
          42,
          42,
          42,
          42,
          42,
          41,
          41,
          41,
          41,
          41,
          41,
          41,
          41,
          41,
          41,
          41,
          41,
          41,
          41,
          41,
          41,
          41,
          41,
          41,
          41,
          41,
          40,
          40,
          40,
          40,
          40,
          40,
          40,
          40,
          40,
          40,
          40,
          40,
          40,
          40,
          40,
          40,
          40,
          39,
          39,
          39,
          39,
          39,
          39,
          39,
          39,
          39,
          39,
          39,
          38,
          38,
          38,
          38,
          38,
          38,
          38,
          38,
          38,
          38,
          38,
          38,
          38,
          38,
          38,
          38,
          38,
          38,
          38,
          37,
          37,
          37,
          37,
          37,
          37,
          37,
          37,
          37,
          37,
          37,
          37,
          37,
          37,
          37,
          37,
          37,
          37,
          37,
          36,
          36,
          36,
          36,
          36,
          36,
          36,
          36,
          36,
          36,
          36,
          36,
          36,
          36,
          36,
          36,
          36,
          36,
          36,
          36,
          36,
          35,
          35,
          35,
          35,
          35,
          35,
          35,
          35,
          35,
          35,
          35,
          35,
          35,
          35,
          35,
          35,
          35,
          35,
          35,
          35,
          35,
          35,
          35,
          35,
          35,
          35,
          35,
          34,
          34,
          34,
          34,
          34,
          34,
          34,
          34,
          34,
          34,
          34,
          34,
          34,
          34,
          34,
          34,
          34,
          34,
          34,
          33,
          33,
          33,
          33,
          33,
          33,
          33,
          33,
          33,
          33,
          33,
          33,
          33,
          33,
          33,
          33,
          33,
          33,
          33,
          33,
          33,
          33,
          33,
          33,
          33,
          33,
          33,
          32,
          32,
          32,
          32,
          32,
          32,
          32,
          32,
          32,
          32,
          32,
          32,
          32,
          32,
          32,
          32,
          32,
          32,
          32,
          32,
          32,
          32,
          32,
          32,
          32,
          32,
          32,
          32,
          31,
          31,
          31,
          31,
          31,
          31,
          31,
          31,
          31,
          31,
          31,
          31,
          31,
          31,
          31,
          31,
          31,
          31,
          31,
          31,
          31,
          31,
          31,
          31,
          31,
          31,
          31,
          31,
          31,
          31,
          31,
          31,
          30,
          30,
          30,
          30,
          30,
          30,
          30,
          30,
          30,
          30,
          30,
          30,
          30,
          30,
          30,
          30,
          30,
          30,
          30,
          30,
          30,
          30,
          30,
          30,
          30,
          30,
          30,
          30,
          30,
          30,
          30,
          30,
          30,
          30,
          30,
          30,
          30,
          30,
          30,
          30,
          30,
          29,
          29,
          29,
          29,
          29,
          29,
          29,
          29,
          29,
          29,
          29,
          29,
          29,
          29,
          29,
          29,
          29,
          29,
          29,
          29,
          29,
          29,
          29,
          29,
          29,
          29,
          29,
          29,
          28,
          28,
          28,
          28,
          28,
          28,
          28,
          28,
          28,
          28,
          28,
          28,
          28,
          28,
          28,
          28,
          28,
          28,
          28,
          28,
          28,
          28,
          28,
          28,
          28,
          28,
          28,
          28,
          28,
          28,
          28,
          28,
          28,
          27,
          27,
          27,
          27,
          27,
          27,
          27,
          27,
          27,
          27,
          27,
          27,
          27,
          27,
          27,
          27,
          27,
          27,
          27,
          27,
          27,
          27
         ]
        }
       ],
       "layout": {
        "template": {
         "data": {
          "bar": [
           {
            "error_x": {
             "color": "#2a3f5f"
            },
            "error_y": {
             "color": "#2a3f5f"
            },
            "marker": {
             "line": {
              "color": "#E5ECF6",
              "width": 0.5
             },
             "pattern": {
              "fillmode": "overlay",
              "size": 10,
              "solidity": 0.2
             }
            },
            "type": "bar"
           }
          ],
          "barpolar": [
           {
            "marker": {
             "line": {
              "color": "#E5ECF6",
              "width": 0.5
             },
             "pattern": {
              "fillmode": "overlay",
              "size": 10,
              "solidity": 0.2
             }
            },
            "type": "barpolar"
           }
          ],
          "carpet": [
           {
            "aaxis": {
             "endlinecolor": "#2a3f5f",
             "gridcolor": "white",
             "linecolor": "white",
             "minorgridcolor": "white",
             "startlinecolor": "#2a3f5f"
            },
            "baxis": {
             "endlinecolor": "#2a3f5f",
             "gridcolor": "white",
             "linecolor": "white",
             "minorgridcolor": "white",
             "startlinecolor": "#2a3f5f"
            },
            "type": "carpet"
           }
          ],
          "choropleth": [
           {
            "colorbar": {
             "outlinewidth": 0,
             "ticks": ""
            },
            "type": "choropleth"
           }
          ],
          "contour": [
           {
            "colorbar": {
             "outlinewidth": 0,
             "ticks": ""
            },
            "colorscale": [
             [
              0,
              "#0d0887"
             ],
             [
              0.1111111111111111,
              "#46039f"
             ],
             [
              0.2222222222222222,
              "#7201a8"
             ],
             [
              0.3333333333333333,
              "#9c179e"
             ],
             [
              0.4444444444444444,
              "#bd3786"
             ],
             [
              0.5555555555555556,
              "#d8576b"
             ],
             [
              0.6666666666666666,
              "#ed7953"
             ],
             [
              0.7777777777777778,
              "#fb9f3a"
             ],
             [
              0.8888888888888888,
              "#fdca26"
             ],
             [
              1,
              "#f0f921"
             ]
            ],
            "type": "contour"
           }
          ],
          "contourcarpet": [
           {
            "colorbar": {
             "outlinewidth": 0,
             "ticks": ""
            },
            "type": "contourcarpet"
           }
          ],
          "heatmap": [
           {
            "colorbar": {
             "outlinewidth": 0,
             "ticks": ""
            },
            "colorscale": [
             [
              0,
              "#0d0887"
             ],
             [
              0.1111111111111111,
              "#46039f"
             ],
             [
              0.2222222222222222,
              "#7201a8"
             ],
             [
              0.3333333333333333,
              "#9c179e"
             ],
             [
              0.4444444444444444,
              "#bd3786"
             ],
             [
              0.5555555555555556,
              "#d8576b"
             ],
             [
              0.6666666666666666,
              "#ed7953"
             ],
             [
              0.7777777777777778,
              "#fb9f3a"
             ],
             [
              0.8888888888888888,
              "#fdca26"
             ],
             [
              1,
              "#f0f921"
             ]
            ],
            "type": "heatmap"
           }
          ],
          "heatmapgl": [
           {
            "colorbar": {
             "outlinewidth": 0,
             "ticks": ""
            },
            "colorscale": [
             [
              0,
              "#0d0887"
             ],
             [
              0.1111111111111111,
              "#46039f"
             ],
             [
              0.2222222222222222,
              "#7201a8"
             ],
             [
              0.3333333333333333,
              "#9c179e"
             ],
             [
              0.4444444444444444,
              "#bd3786"
             ],
             [
              0.5555555555555556,
              "#d8576b"
             ],
             [
              0.6666666666666666,
              "#ed7953"
             ],
             [
              0.7777777777777778,
              "#fb9f3a"
             ],
             [
              0.8888888888888888,
              "#fdca26"
             ],
             [
              1,
              "#f0f921"
             ]
            ],
            "type": "heatmapgl"
           }
          ],
          "histogram": [
           {
            "marker": {
             "pattern": {
              "fillmode": "overlay",
              "size": 10,
              "solidity": 0.2
             }
            },
            "type": "histogram"
           }
          ],
          "histogram2d": [
           {
            "colorbar": {
             "outlinewidth": 0,
             "ticks": ""
            },
            "colorscale": [
             [
              0,
              "#0d0887"
             ],
             [
              0.1111111111111111,
              "#46039f"
             ],
             [
              0.2222222222222222,
              "#7201a8"
             ],
             [
              0.3333333333333333,
              "#9c179e"
             ],
             [
              0.4444444444444444,
              "#bd3786"
             ],
             [
              0.5555555555555556,
              "#d8576b"
             ],
             [
              0.6666666666666666,
              "#ed7953"
             ],
             [
              0.7777777777777778,
              "#fb9f3a"
             ],
             [
              0.8888888888888888,
              "#fdca26"
             ],
             [
              1,
              "#f0f921"
             ]
            ],
            "type": "histogram2d"
           }
          ],
          "histogram2dcontour": [
           {
            "colorbar": {
             "outlinewidth": 0,
             "ticks": ""
            },
            "colorscale": [
             [
              0,
              "#0d0887"
             ],
             [
              0.1111111111111111,
              "#46039f"
             ],
             [
              0.2222222222222222,
              "#7201a8"
             ],
             [
              0.3333333333333333,
              "#9c179e"
             ],
             [
              0.4444444444444444,
              "#bd3786"
             ],
             [
              0.5555555555555556,
              "#d8576b"
             ],
             [
              0.6666666666666666,
              "#ed7953"
             ],
             [
              0.7777777777777778,
              "#fb9f3a"
             ],
             [
              0.8888888888888888,
              "#fdca26"
             ],
             [
              1,
              "#f0f921"
             ]
            ],
            "type": "histogram2dcontour"
           }
          ],
          "mesh3d": [
           {
            "colorbar": {
             "outlinewidth": 0,
             "ticks": ""
            },
            "type": "mesh3d"
           }
          ],
          "parcoords": [
           {
            "line": {
             "colorbar": {
              "outlinewidth": 0,
              "ticks": ""
             }
            },
            "type": "parcoords"
           }
          ],
          "pie": [
           {
            "automargin": true,
            "type": "pie"
           }
          ],
          "scatter": [
           {
            "fillpattern": {
             "fillmode": "overlay",
             "size": 10,
             "solidity": 0.2
            },
            "type": "scatter"
           }
          ],
          "scatter3d": [
           {
            "line": {
             "colorbar": {
              "outlinewidth": 0,
              "ticks": ""
             }
            },
            "marker": {
             "colorbar": {
              "outlinewidth": 0,
              "ticks": ""
             }
            },
            "type": "scatter3d"
           }
          ],
          "scattercarpet": [
           {
            "marker": {
             "colorbar": {
              "outlinewidth": 0,
              "ticks": ""
             }
            },
            "type": "scattercarpet"
           }
          ],
          "scattergeo": [
           {
            "marker": {
             "colorbar": {
              "outlinewidth": 0,
              "ticks": ""
             }
            },
            "type": "scattergeo"
           }
          ],
          "scattergl": [
           {
            "marker": {
             "colorbar": {
              "outlinewidth": 0,
              "ticks": ""
             }
            },
            "type": "scattergl"
           }
          ],
          "scattermapbox": [
           {
            "marker": {
             "colorbar": {
              "outlinewidth": 0,
              "ticks": ""
             }
            },
            "type": "scattermapbox"
           }
          ],
          "scatterpolar": [
           {
            "marker": {
             "colorbar": {
              "outlinewidth": 0,
              "ticks": ""
             }
            },
            "type": "scatterpolar"
           }
          ],
          "scatterpolargl": [
           {
            "marker": {
             "colorbar": {
              "outlinewidth": 0,
              "ticks": ""
             }
            },
            "type": "scatterpolargl"
           }
          ],
          "scatterternary": [
           {
            "marker": {
             "colorbar": {
              "outlinewidth": 0,
              "ticks": ""
             }
            },
            "type": "scatterternary"
           }
          ],
          "surface": [
           {
            "colorbar": {
             "outlinewidth": 0,
             "ticks": ""
            },
            "colorscale": [
             [
              0,
              "#0d0887"
             ],
             [
              0.1111111111111111,
              "#46039f"
             ],
             [
              0.2222222222222222,
              "#7201a8"
             ],
             [
              0.3333333333333333,
              "#9c179e"
             ],
             [
              0.4444444444444444,
              "#bd3786"
             ],
             [
              0.5555555555555556,
              "#d8576b"
             ],
             [
              0.6666666666666666,
              "#ed7953"
             ],
             [
              0.7777777777777778,
              "#fb9f3a"
             ],
             [
              0.8888888888888888,
              "#fdca26"
             ],
             [
              1,
              "#f0f921"
             ]
            ],
            "type": "surface"
           }
          ],
          "table": [
           {
            "cells": {
             "fill": {
              "color": "#EBF0F8"
             },
             "line": {
              "color": "white"
             }
            },
            "header": {
             "fill": {
              "color": "#C8D4E3"
             },
             "line": {
              "color": "white"
             }
            },
            "type": "table"
           }
          ]
         },
         "layout": {
          "annotationdefaults": {
           "arrowcolor": "#2a3f5f",
           "arrowhead": 0,
           "arrowwidth": 1
          },
          "autotypenumbers": "strict",
          "coloraxis": {
           "colorbar": {
            "outlinewidth": 0,
            "ticks": ""
           }
          },
          "colorscale": {
           "diverging": [
            [
             0,
             "#8e0152"
            ],
            [
             0.1,
             "#c51b7d"
            ],
            [
             0.2,
             "#de77ae"
            ],
            [
             0.3,
             "#f1b6da"
            ],
            [
             0.4,
             "#fde0ef"
            ],
            [
             0.5,
             "#f7f7f7"
            ],
            [
             0.6,
             "#e6f5d0"
            ],
            [
             0.7,
             "#b8e186"
            ],
            [
             0.8,
             "#7fbc41"
            ],
            [
             0.9,
             "#4d9221"
            ],
            [
             1,
             "#276419"
            ]
           ],
           "sequential": [
            [
             0,
             "#0d0887"
            ],
            [
             0.1111111111111111,
             "#46039f"
            ],
            [
             0.2222222222222222,
             "#7201a8"
            ],
            [
             0.3333333333333333,
             "#9c179e"
            ],
            [
             0.4444444444444444,
             "#bd3786"
            ],
            [
             0.5555555555555556,
             "#d8576b"
            ],
            [
             0.6666666666666666,
             "#ed7953"
            ],
            [
             0.7777777777777778,
             "#fb9f3a"
            ],
            [
             0.8888888888888888,
             "#fdca26"
            ],
            [
             1,
             "#f0f921"
            ]
           ],
           "sequentialminus": [
            [
             0,
             "#0d0887"
            ],
            [
             0.1111111111111111,
             "#46039f"
            ],
            [
             0.2222222222222222,
             "#7201a8"
            ],
            [
             0.3333333333333333,
             "#9c179e"
            ],
            [
             0.4444444444444444,
             "#bd3786"
            ],
            [
             0.5555555555555556,
             "#d8576b"
            ],
            [
             0.6666666666666666,
             "#ed7953"
            ],
            [
             0.7777777777777778,
             "#fb9f3a"
            ],
            [
             0.8888888888888888,
             "#fdca26"
            ],
            [
             1,
             "#f0f921"
            ]
           ]
          },
          "colorway": [
           "#636efa",
           "#EF553B",
           "#00cc96",
           "#ab63fa",
           "#FFA15A",
           "#19d3f3",
           "#FF6692",
           "#B6E880",
           "#FF97FF",
           "#FECB52"
          ],
          "font": {
           "color": "#2a3f5f"
          },
          "geo": {
           "bgcolor": "white",
           "lakecolor": "white",
           "landcolor": "#E5ECF6",
           "showlakes": true,
           "showland": true,
           "subunitcolor": "white"
          },
          "hoverlabel": {
           "align": "left"
          },
          "hovermode": "closest",
          "mapbox": {
           "style": "light"
          },
          "paper_bgcolor": "white",
          "plot_bgcolor": "#E5ECF6",
          "polar": {
           "angularaxis": {
            "gridcolor": "white",
            "linecolor": "white",
            "ticks": ""
           },
           "bgcolor": "#E5ECF6",
           "radialaxis": {
            "gridcolor": "white",
            "linecolor": "white",
            "ticks": ""
           }
          },
          "scene": {
           "xaxis": {
            "backgroundcolor": "#E5ECF6",
            "gridcolor": "white",
            "gridwidth": 2,
            "linecolor": "white",
            "showbackground": true,
            "ticks": "",
            "zerolinecolor": "white"
           },
           "yaxis": {
            "backgroundcolor": "#E5ECF6",
            "gridcolor": "white",
            "gridwidth": 2,
            "linecolor": "white",
            "showbackground": true,
            "ticks": "",
            "zerolinecolor": "white"
           },
           "zaxis": {
            "backgroundcolor": "#E5ECF6",
            "gridcolor": "white",
            "gridwidth": 2,
            "linecolor": "white",
            "showbackground": true,
            "ticks": "",
            "zerolinecolor": "white"
           }
          },
          "shapedefaults": {
           "line": {
            "color": "#2a3f5f"
           }
          },
          "ternary": {
           "aaxis": {
            "gridcolor": "white",
            "linecolor": "white",
            "ticks": ""
           },
           "baxis": {
            "gridcolor": "white",
            "linecolor": "white",
            "ticks": ""
           },
           "bgcolor": "#E5ECF6",
           "caxis": {
            "gridcolor": "white",
            "linecolor": "white",
            "ticks": ""
           }
          },
          "title": {
           "x": 0.05
          },
          "xaxis": {
           "automargin": true,
           "gridcolor": "white",
           "linecolor": "white",
           "ticks": "",
           "title": {
            "standoff": 15
           },
           "zerolinecolor": "white",
           "zerolinewidth": 2
          },
          "yaxis": {
           "automargin": true,
           "gridcolor": "white",
           "linecolor": "white",
           "ticks": "",
           "title": {
            "standoff": 15
           },
           "zerolinecolor": "white",
           "zerolinewidth": 2
          }
         }
        },
        "title": {
         "text": "1000 Most Popular Character Names"
        },
        "xaxis": {
         "showticklabels": false,
         "title": {
          "text": "Character Name"
         }
        },
        "yaxis": {
         "title": {
          "text": "Count"
         }
        }
       }
      }
     },
     "metadata": {},
     "output_type": "display_data"
    }
   ],
   "source": [
    "# Creating the top 1000 most popular character names set\n",
    "name_counts = df_char_cleaned['Character_name'].value_counts()\n",
    "top_100_names = name_counts.head(1000)\n",
    "\n",
    "fig = go.Figure()\n",
    "\n",
    "fig.add_trace(go.Scatter(\n",
    "    x=top_100_names.index,\n",
    "    y=top_100_names.values,\n",
    "    mode='lines+markers',\n",
    "    name='Character Count',\n",
    "    line=dict(color='#A9D6C3'),\n",
    "    hovertext=[f\"Name: {name}<br>Count: {count}\" for name, count in zip(top_100_names.index, top_100_names.values)],\n",
    "    hoverinfo=\"text\",\n",
    "    marker=dict(\n",
    "        color='#A9D6C3'  # Utiliser une couleur vert clair\n",
    "    )\n",
    "))\n",
    "\n",
    "fig.update_layout(\n",
    "    title='1000 Most Popular Character Names',\n",
    "    xaxis_title='Character Name',\n",
    "    yaxis_title='Count',\n",
    "    xaxis=dict(showticklabels=False)\n",
    ")\n",
    "\n",
    "fig.show()"
   ]
  },
  {
   "cell_type": "markdown",
   "metadata": {},
   "source": [
    "We can clearly see that John is the most popular name given to characters, with 1305 appartitions. One possible explanation is that John Doe was used in North America to refer to “any man whose name is unknown”. This could explain its appearance in this many movies, far ahead of the second most common name, Georges, with 621 appearances."
   ]
  },
  {
   "cell_type": "code",
   "execution_count": 324,
   "metadata": {},
   "outputs": [
    {
     "data": {
      "text/html": [
       "<div>\n",
       "<style scoped>\n",
       "    .dataframe tbody tr th:only-of-type {\n",
       "        vertical-align: middle;\n",
       "    }\n",
       "\n",
       "    .dataframe tbody tr th {\n",
       "        vertical-align: top;\n",
       "    }\n",
       "\n",
       "    .dataframe thead th {\n",
       "        text-align: right;\n",
       "    }\n",
       "</style>\n",
       "<table border=\"1\" class=\"dataframe\">\n",
       "  <thead>\n",
       "    <tr style=\"text-align: right;\">\n",
       "      <th></th>\n",
       "      <th>Wikipedia_ID</th>\n",
       "      <th>Name</th>\n",
       "      <th>Languages</th>\n",
       "      <th>Country</th>\n",
       "      <th>Character_name</th>\n",
       "      <th>Sex</th>\n",
       "      <th>Actor_age</th>\n",
       "      <th>Release_date</th>\n",
       "      <th>Genre_Category</th>\n",
       "    </tr>\n",
       "  </thead>\n",
       "  <tbody>\n",
       "    <tr>\n",
       "      <th>0</th>\n",
       "      <td>975900</td>\n",
       "      <td>Ghosts of Mars</td>\n",
       "      <td>[English Language]</td>\n",
       "      <td>[United States of America]</td>\n",
       "      <td>Akooshay</td>\n",
       "      <td>F</td>\n",
       "      <td>42.0</td>\n",
       "      <td>2001-08-24</td>\n",
       "      <td>['Action &amp; Adventure', 'Horror &amp; Thriller', 'F...</td>\n",
       "    </tr>\n",
       "    <tr>\n",
       "      <th>1</th>\n",
       "      <td>975900</td>\n",
       "      <td>Ghosts of Mars</td>\n",
       "      <td>[English Language]</td>\n",
       "      <td>[United States of America]</td>\n",
       "      <td>Melanie</td>\n",
       "      <td>F</td>\n",
       "      <td>27.0</td>\n",
       "      <td>2001-08-24</td>\n",
       "      <td>['Action &amp; Adventure', 'Horror &amp; Thriller', 'F...</td>\n",
       "    </tr>\n",
       "    <tr>\n",
       "      <th>2</th>\n",
       "      <td>975900</td>\n",
       "      <td>Ghosts of Mars</td>\n",
       "      <td>[English Language]</td>\n",
       "      <td>[United States of America]</td>\n",
       "      <td>Williams</td>\n",
       "      <td>M</td>\n",
       "      <td>32.0</td>\n",
       "      <td>2001-08-24</td>\n",
       "      <td>['Action &amp; Adventure', 'Horror &amp; Thriller', 'F...</td>\n",
       "    </tr>\n",
       "    <tr>\n",
       "      <th>3</th>\n",
       "      <td>975900</td>\n",
       "      <td>Ghosts of Mars</td>\n",
       "      <td>[English Language]</td>\n",
       "      <td>[United States of America]</td>\n",
       "      <td>Jericho</td>\n",
       "      <td>M</td>\n",
       "      <td>33.0</td>\n",
       "      <td>2001-08-24</td>\n",
       "      <td>['Action &amp; Adventure', 'Horror &amp; Thriller', 'F...</td>\n",
       "    </tr>\n",
       "    <tr>\n",
       "      <th>4</th>\n",
       "      <td>975900</td>\n",
       "      <td>Ghosts of Mars</td>\n",
       "      <td>[English Language]</td>\n",
       "      <td>[United States of America]</td>\n",
       "      <td>Bashira</td>\n",
       "      <td>F</td>\n",
       "      <td>23.0</td>\n",
       "      <td>2001-08-24</td>\n",
       "      <td>['Action &amp; Adventure', 'Horror &amp; Thriller', 'F...</td>\n",
       "    </tr>\n",
       "  </tbody>\n",
       "</table>\n",
       "</div>"
      ],
      "text/plain": [
       "   Wikipedia_ID            Name           Languages  \\\n",
       "0        975900  Ghosts of Mars  [English Language]   \n",
       "1        975900  Ghosts of Mars  [English Language]   \n",
       "2        975900  Ghosts of Mars  [English Language]   \n",
       "3        975900  Ghosts of Mars  [English Language]   \n",
       "4        975900  Ghosts of Mars  [English Language]   \n",
       "\n",
       "                      Country Character_name Sex  Actor_age Release_date  \\\n",
       "0  [United States of America]       Akooshay   F       42.0   2001-08-24   \n",
       "1  [United States of America]        Melanie   F       27.0   2001-08-24   \n",
       "2  [United States of America]       Williams   M       32.0   2001-08-24   \n",
       "3  [United States of America]        Jericho   M       33.0   2001-08-24   \n",
       "4  [United States of America]        Bashira   F       23.0   2001-08-24   \n",
       "\n",
       "                                      Genre_Category  \n",
       "0  ['Action & Adventure', 'Horror & Thriller', 'F...  \n",
       "1  ['Action & Adventure', 'Horror & Thriller', 'F...  \n",
       "2  ['Action & Adventure', 'Horror & Thriller', 'F...  \n",
       "3  ['Action & Adventure', 'Horror & Thriller', 'F...  \n",
       "4  ['Action & Adventure', 'Horror & Thriller', 'F...  "
      ]
     },
     "execution_count": 324,
     "metadata": {},
     "output_type": "execute_result"
    }
   ],
   "source": [
    "# df_char_cleaned.head()\n",
    "df_char_cleaned_SA = df_char_cleaned.copy()\n",
    "df_char_cleaned_SA.head()"
   ]
  },
  {
   "cell_type": "markdown",
   "metadata": {},
   "source": [
    "## 1.b. Research Questions"
   ]
  },
  {
   "cell_type": "markdown",
   "metadata": {},
   "source": [
    "faire une partie ou on pose nos research questions avec quelques plots qui nous poussent à se poser ces questions là"
   ]
  },
  {
   "cell_type": "markdown",
   "metadata": {},
   "source": [
    "In this study, we aim to explore the factors that influence the naming of characters in movies and uncover potential patterns. Names often carry meaning, cultural significance, and symbolic associations, making them an integral part of storytelling. By analyzing character names, we seek to determine whether they are assigned randomly or if they reflect specific traits such as gender, age, origin, or moral alignment **(est ce qu'on met movie genre ?)**. Additionally, we will investigate how naming conventions differ across contexts, with a particular focus on comparing movie productions from the United States during the Cold War. In this context, we hope to uncover strong correlations between the portrayal of \"good guys\" and \"bad guys,\" particularly in how Soviet characters were named and depicted in contrast to American characters. This analysis aims to reveal how ideological narratives and cultural biases influenced character naming during this period.  \n",
    "\n",
    "Our research is guided by the following questions:\n",
    "\n",
    "- Is there a correlation between a character's name and their **gender**?  \n",
    "- Can we observe a relationship between a character's name and their **age**?  \n",
    "- How does a character's **origin** influence their name?  \n",
    "- Are character names linked to the **movie genre** they appear in?  \n",
    "- Is there a pattern in character names that distinguishes **good characters** from **villains**?  \n",
    "\n",
    "- Are specific name characteristics (e.g., **length**, **syllables**, or **cultural roots**) consistently associated with certain **character features**?  \n",
    "\n",
    "- How do naming conventions in U.S. movie productions during the Cold War reflect ideological narratives, particularly in the portrayal of Soviet characters as \"good guys\" or \"bad guys\"?  "
   ]
  },
  {
   "cell_type": "markdown",
   "metadata": {},
   "source": [
    "# 2. Identifying Patterns: Origins of the Hypothesis"
   ]
  },
  {
   "cell_type": "markdown",
   "metadata": {},
   "source": [
    "Intro à écrire sur le Name Feature processor, les features qu'on a decidé d'utiliser etc"
   ]
  },
  {
   "cell_type": "code",
   "execution_count": 325,
   "metadata": {},
   "outputs": [],
   "source": [
    "# Extracting the name's characteristics \n",
    "processor = NameFeatureProcessor('Name',ngram_range=(2, 3))\n",
    "character_names_processed = processor.process(df_char_cleaned)"
   ]
  },
  {
   "cell_type": "code",
   "execution_count": 326,
   "metadata": {},
   "outputs": [
    {
     "data": {
      "text/html": [
       "<div>\n",
       "<style scoped>\n",
       "    .dataframe tbody tr th:only-of-type {\n",
       "        vertical-align: middle;\n",
       "    }\n",
       "\n",
       "    .dataframe tbody tr th {\n",
       "        vertical-align: top;\n",
       "    }\n",
       "\n",
       "    .dataframe thead th {\n",
       "        text-align: right;\n",
       "    }\n",
       "</style>\n",
       "<table border=\"1\" class=\"dataframe\">\n",
       "  <thead>\n",
       "    <tr style=\"text-align: right;\">\n",
       "      <th></th>\n",
       "      <th>Wikipedia_ID</th>\n",
       "      <th>Name</th>\n",
       "      <th>Languages</th>\n",
       "      <th>Country</th>\n",
       "      <th>Character_name</th>\n",
       "      <th>Sex</th>\n",
       "      <th>Actor_age</th>\n",
       "      <th>Release_date</th>\n",
       "      <th>Genre_Category</th>\n",
       "      <th>Length</th>\n",
       "      <th>...</th>\n",
       "      <th>ž_l</th>\n",
       "      <th>â_l</th>\n",
       "      <th>Í_l</th>\n",
       "      <th>È_l</th>\n",
       "      <th>ō_l</th>\n",
       "      <th>î_l</th>\n",
       "      <th>ñ_l</th>\n",
       "      <th>ó_l</th>\n",
       "      <th>Õ_l</th>\n",
       "      <th>ò_l</th>\n",
       "    </tr>\n",
       "  </thead>\n",
       "  <tbody>\n",
       "    <tr>\n",
       "      <th>0</th>\n",
       "      <td>975900</td>\n",
       "      <td>Ghosts of Mars</td>\n",
       "      <td>[English Language]</td>\n",
       "      <td>[United States of America]</td>\n",
       "      <td>Akooshay</td>\n",
       "      <td>F</td>\n",
       "      <td>42.0</td>\n",
       "      <td>2001-08-24</td>\n",
       "      <td>['Action &amp; Adventure', 'Horror &amp; Thriller', 'F...</td>\n",
       "      <td>14.0</td>\n",
       "      <td>...</td>\n",
       "      <td>0</td>\n",
       "      <td>0</td>\n",
       "      <td>0</td>\n",
       "      <td>0</td>\n",
       "      <td>0</td>\n",
       "      <td>0</td>\n",
       "      <td>0</td>\n",
       "      <td>0</td>\n",
       "      <td>0</td>\n",
       "      <td>0</td>\n",
       "    </tr>\n",
       "    <tr>\n",
       "      <th>1</th>\n",
       "      <td>975900</td>\n",
       "      <td>Ghosts of Mars</td>\n",
       "      <td>[English Language]</td>\n",
       "      <td>[United States of America]</td>\n",
       "      <td>Melanie</td>\n",
       "      <td>F</td>\n",
       "      <td>27.0</td>\n",
       "      <td>2001-08-24</td>\n",
       "      <td>['Action &amp; Adventure', 'Horror &amp; Thriller', 'F...</td>\n",
       "      <td>14.0</td>\n",
       "      <td>...</td>\n",
       "      <td>0</td>\n",
       "      <td>0</td>\n",
       "      <td>0</td>\n",
       "      <td>0</td>\n",
       "      <td>0</td>\n",
       "      <td>0</td>\n",
       "      <td>0</td>\n",
       "      <td>0</td>\n",
       "      <td>0</td>\n",
       "      <td>0</td>\n",
       "    </tr>\n",
       "    <tr>\n",
       "      <th>2</th>\n",
       "      <td>975900</td>\n",
       "      <td>Ghosts of Mars</td>\n",
       "      <td>[English Language]</td>\n",
       "      <td>[United States of America]</td>\n",
       "      <td>Williams</td>\n",
       "      <td>M</td>\n",
       "      <td>32.0</td>\n",
       "      <td>2001-08-24</td>\n",
       "      <td>['Action &amp; Adventure', 'Horror &amp; Thriller', 'F...</td>\n",
       "      <td>14.0</td>\n",
       "      <td>...</td>\n",
       "      <td>0</td>\n",
       "      <td>0</td>\n",
       "      <td>0</td>\n",
       "      <td>0</td>\n",
       "      <td>0</td>\n",
       "      <td>0</td>\n",
       "      <td>0</td>\n",
       "      <td>0</td>\n",
       "      <td>0</td>\n",
       "      <td>0</td>\n",
       "    </tr>\n",
       "    <tr>\n",
       "      <th>3</th>\n",
       "      <td>975900</td>\n",
       "      <td>Ghosts of Mars</td>\n",
       "      <td>[English Language]</td>\n",
       "      <td>[United States of America]</td>\n",
       "      <td>Jericho</td>\n",
       "      <td>M</td>\n",
       "      <td>33.0</td>\n",
       "      <td>2001-08-24</td>\n",
       "      <td>['Action &amp; Adventure', 'Horror &amp; Thriller', 'F...</td>\n",
       "      <td>14.0</td>\n",
       "      <td>...</td>\n",
       "      <td>0</td>\n",
       "      <td>0</td>\n",
       "      <td>0</td>\n",
       "      <td>0</td>\n",
       "      <td>0</td>\n",
       "      <td>0</td>\n",
       "      <td>0</td>\n",
       "      <td>0</td>\n",
       "      <td>0</td>\n",
       "      <td>0</td>\n",
       "    </tr>\n",
       "    <tr>\n",
       "      <th>4</th>\n",
       "      <td>975900</td>\n",
       "      <td>Ghosts of Mars</td>\n",
       "      <td>[English Language]</td>\n",
       "      <td>[United States of America]</td>\n",
       "      <td>Bashira</td>\n",
       "      <td>F</td>\n",
       "      <td>23.0</td>\n",
       "      <td>2001-08-24</td>\n",
       "      <td>['Action &amp; Adventure', 'Horror &amp; Thriller', 'F...</td>\n",
       "      <td>14.0</td>\n",
       "      <td>...</td>\n",
       "      <td>0</td>\n",
       "      <td>0</td>\n",
       "      <td>0</td>\n",
       "      <td>0</td>\n",
       "      <td>0</td>\n",
       "      <td>0</td>\n",
       "      <td>0</td>\n",
       "      <td>0</td>\n",
       "      <td>0</td>\n",
       "      <td>0</td>\n",
       "    </tr>\n",
       "  </tbody>\n",
       "</table>\n",
       "<p>5 rows × 4854 columns</p>\n",
       "</div>"
      ],
      "text/plain": [
       "   Wikipedia_ID            Name           Languages  \\\n",
       "0        975900  Ghosts of Mars  [English Language]   \n",
       "1        975900  Ghosts of Mars  [English Language]   \n",
       "2        975900  Ghosts of Mars  [English Language]   \n",
       "3        975900  Ghosts of Mars  [English Language]   \n",
       "4        975900  Ghosts of Mars  [English Language]   \n",
       "\n",
       "                      Country Character_name Sex  Actor_age Release_date  \\\n",
       "0  [United States of America]       Akooshay   F       42.0   2001-08-24   \n",
       "1  [United States of America]        Melanie   F       27.0   2001-08-24   \n",
       "2  [United States of America]       Williams   M       32.0   2001-08-24   \n",
       "3  [United States of America]        Jericho   M       33.0   2001-08-24   \n",
       "4  [United States of America]        Bashira   F       23.0   2001-08-24   \n",
       "\n",
       "                                      Genre_Category  Length  ...  ž_l  â_l  \\\n",
       "0  ['Action & Adventure', 'Horror & Thriller', 'F...    14.0  ...    0    0   \n",
       "1  ['Action & Adventure', 'Horror & Thriller', 'F...    14.0  ...    0    0   \n",
       "2  ['Action & Adventure', 'Horror & Thriller', 'F...    14.0  ...    0    0   \n",
       "3  ['Action & Adventure', 'Horror & Thriller', 'F...    14.0  ...    0    0   \n",
       "4  ['Action & Adventure', 'Horror & Thriller', 'F...    14.0  ...    0    0   \n",
       "\n",
       "   Í_l  È_l  ō_l  î_l  ñ_l  ó_l  Õ_l  ò_l  \n",
       "0    0    0    0    0    0    0    0    0  \n",
       "1    0    0    0    0    0    0    0    0  \n",
       "2    0    0    0    0    0    0    0    0  \n",
       "3    0    0    0    0    0    0    0    0  \n",
       "4    0    0    0    0    0    0    0    0  \n",
       "\n",
       "[5 rows x 4854 columns]"
      ]
     },
     "execution_count": 326,
     "metadata": {},
     "output_type": "execute_result"
    }
   ],
   "source": [
    "character_names_processed.head()"
   ]
  },
  {
   "cell_type": "markdown",
   "metadata": {},
   "source": [
    "## 2.a Name/Gender Statistics"
   ]
  },
  {
   "cell_type": "markdown",
   "metadata": {},
   "source": [
    "The purpose of this section is to conjecture if wether or not a correlation between characters' names and their gender can be found. For that, we analyzed length, vowels and consonants' counts distributions in the names and compared it depending on character's gender."
   ]
  },
  {
   "cell_type": "code",
   "execution_count": 327,
   "metadata": {},
   "outputs": [
    {
     "name": "stdout",
     "output_type": "stream",
     "text": [
      "Chi: 32232.71060002092\n",
      "p-value 1.1047667187548633e-34\n",
      "Cramér's V: 0.45722224516141746\n"
     ]
    }
   ],
   "source": [
    "# Chi-Squared\n",
    "contingency_table = pd.crosstab(character_names_processed['Name'], character_names_processed['Sex'])\n",
    "chi2, p, dof, expected = chi2_contingency(contingency_table)\n",
    "\n",
    "# Cramér's V\n",
    "n = contingency_table.sum().sum()  \n",
    "min_dim = min(contingency_table.shape) - 1  \n",
    "cramer_v = np.sqrt(chi2 / (n * min_dim)) if min_dim > 0 else 0\n",
    "\n",
    "# Results\n",
    "results = {'chi2': chi2, 'p_value': p, 'v_cramer': cramer_v}\n",
    "print(\"Chi:\", chi2)\n",
    "print(\"p-value\", p)\n",
    "print(\"Cramér's V:\", cramer_v)"
   ]
  },
  {
   "cell_type": "markdown",
   "metadata": {},
   "source": [
    "These results show that the distribution of names is strongly associated with gender. Certain names appear non-randomly within specific gender groups. The statistical significance (p-value) and the strength of the association (Cramér's V) confirm that names can be used, at least partially, to distinguish the gender of the characters."
   ]
  },
  {
   "cell_type": "code",
   "execution_count": 328,
   "metadata": {},
   "outputs": [
    {
     "data": {
      "text/html": [
       "<div>\n",
       "<style scoped>\n",
       "    .dataframe tbody tr th:only-of-type {\n",
       "        vertical-align: middle;\n",
       "    }\n",
       "\n",
       "    .dataframe tbody tr th {\n",
       "        vertical-align: top;\n",
       "    }\n",
       "\n",
       "    .dataframe thead th {\n",
       "        text-align: right;\n",
       "    }\n",
       "</style>\n",
       "<table border=\"1\" class=\"dataframe\">\n",
       "  <thead>\n",
       "    <tr style=\"text-align: right;\">\n",
       "      <th></th>\n",
       "      <th>mean</th>\n",
       "      <th>std</th>\n",
       "    </tr>\n",
       "    <tr>\n",
       "      <th>Sex</th>\n",
       "      <th></th>\n",
       "      <th></th>\n",
       "    </tr>\n",
       "  </thead>\n",
       "  <tbody>\n",
       "    <tr>\n",
       "      <th>F</th>\n",
       "      <td>5.862596</td>\n",
       "      <td>1.672915</td>\n",
       "    </tr>\n",
       "    <tr>\n",
       "      <th>M</th>\n",
       "      <td>5.847955</td>\n",
       "      <td>1.845403</td>\n",
       "    </tr>\n",
       "  </tbody>\n",
       "</table>\n",
       "</div>"
      ],
      "text/plain": [
       "         mean       std\n",
       "Sex                    \n",
       "F    5.862596  1.672915\n",
       "M    5.847955  1.845403"
      ]
     },
     "execution_count": 328,
     "metadata": {},
     "output_type": "execute_result"
    }
   ],
   "source": [
    "analyze_gender = GenderAnalyzer(character_names_processed)\n",
    "df_length = analyze_gender.get_length_stats()\n",
    "df_length.head()"
   ]
  },
  {
   "cell_type": "code",
   "execution_count": 329,
   "metadata": {},
   "outputs": [
    {
     "data": {
      "application/vnd.plotly.v1+json": {
       "config": {
        "plotlyServerURL": "https://plot.ly"
       },
       "data": [
        {
         "hovertemplate": "%{y}",
         "line": {
          "color": "skyblue",
          "dash": "solid"
         },
         "mode": "lines",
         "name": "M - Length",
         "type": "scatter",
         "x": [
          1,
          2,
          3,
          4,
          5,
          6,
          7,
          8,
          9,
          10,
          11,
          12,
          13,
          14,
          15,
          16,
          17,
          18,
          19,
          20,
          21,
          22,
          23,
          24,
          25,
          26,
          27,
          28,
          29,
          30,
          31,
          32,
          33,
          34,
          35,
          36,
          37,
          38,
          39,
          40,
          41,
          42,
          43,
          44,
          45,
          46,
          47,
          48,
          49,
          50,
          51,
          52,
          53,
          54,
          55,
          56,
          57,
          58,
          59,
          60,
          61,
          62,
          63,
          64,
          65,
          67,
          68,
          71,
          72,
          75,
          76,
          77,
          79,
          81,
          83,
          94
         ],
         "y": [
          0.0004102942835748941,
          0.001866838990265768,
          0.004482465048055718,
          0.016534859628068232,
          0.027612805284590373,
          0.03593152188407135,
          0.0428860099906658,
          0.05089700587746561,
          0.05324594065093188,
          0.05796432491204316,
          0.05711296427362526,
          0.05876439876501421,
          0.05934906811910843,
          0.05829256033890308,
          0.056671897918782244,
          0.054322963145315976,
          0.04689663661261039,
          0.045542665476813245,
          0.0373983239478516,
          0.031100306694976973,
          0.02737688607153481,
          0.02172508231529064,
          0.01861710311721082,
          0.016463058128442624,
          0.014688535351981209,
          0.012565262434481132,
          0.010236842375193608,
          0.009231621380435116,
          0.007057061677488178,
          0.00885209916812834,
          0.006851914535700731,
          0.004656840118575048,
          0.0046465827614856755,
          0.0059082376834784745,
          0.004000369264855218,
          0.003200295411884174,
          0.0035695602671015785,
          0.002564339272343088,
          0.0027181996286836734,
          0.0031900380547948016,
          0.0018258095619082787,
          0.0017540080622826723,
          0.0011693387081884482,
          0.0010872798514734694,
          0.0018155522048189064,
          0.0012103681365459376,
          0.0006564708537198305,
          0.0007487870675241817,
          0.0006359561395410858,
          0.00046158106902175584,
          0.00026669128432368113,
          0.0002564339272343088,
          0.0001538603563405853,
          0.00024617657014493644,
          0.000010257357089372352,
          0.00029746335559179823,
          0.00009231621380435116,
          0.00040003692648552175,
          0.00032823542685991527,
          0.00008205885671497882,
          0.000010257357089372352,
          0.0002154044988768194,
          0.000010257357089372352,
          0.00011283092798309587,
          0.00007180149962560647,
          0.0002564339272343088,
          0.00016411771342995764,
          0.000010257357089372352,
          0.00006154414253623411,
          0.000020514714178744704,
          null,
          null,
          0.000010257357089372352,
          0.00006154414253623411,
          0.000020514714178744704,
          0.00007180149962560647
         ]
        },
        {
         "hovertemplate": "%{y}",
         "line": {
          "color": "salmon",
          "dash": "solid"
         },
         "mode": "lines",
         "name": "F - Length",
         "type": "scatter",
         "x": [
          1,
          2,
          3,
          4,
          5,
          6,
          7,
          8,
          9,
          10,
          11,
          12,
          13,
          14,
          15,
          16,
          17,
          18,
          19,
          20,
          21,
          22,
          23,
          24,
          25,
          26,
          27,
          28,
          29,
          30,
          31,
          32,
          33,
          34,
          35,
          36,
          37,
          38,
          39,
          40,
          41,
          42,
          43,
          44,
          45,
          46,
          47,
          48,
          49,
          50,
          51,
          52,
          53,
          54,
          55,
          56,
          57,
          58,
          59,
          60,
          61,
          62,
          63,
          64,
          65,
          67,
          68,
          71,
          72,
          75,
          76,
          77,
          79,
          81,
          83,
          94
         ],
         "y": [
          0.00022930116061664374,
          0.0015698310226831763,
          0.00446255335661622,
          0.017215225597064947,
          0.030056090591596994,
          0.03622958337742971,
          0.04263237732387907,
          0.04986418315871168,
          0.05108124316506156,
          0.05522630260697781,
          0.0579955550851942,
          0.05833068755071083,
          0.06106466292729389,
          0.059053868134194096,
          0.05792500088192754,
          0.05280982114509472,
          0.04720076198539528,
          0.046671605460895334,
          0.03644124598722969,
          0.03164356016509683,
          0.02910360884749709,
          0.02259498359614774,
          0.01957879140649804,
          0.016915370233181643,
          0.013952093695981937,
          0.011782551945532155,
          0.010565491939182277,
          0.009048576568949095,
          0.007549299749532578,
          0.00892510671323244,
          0.006755564962782658,
          0.004885878576216178,
          0.004250890746816242,
          0.005344480897449466,
          0.003122023494549688,
          0.0030514692912830283,
          0.0031573005961830175,
          0.002381204360249762,
          0.0026634211733164003,
          0.0025575898684164107,
          0.0019578791406498043,
          0.0015169153702331815,
          0.001269975658799873,
          0.0008113733375665856,
          0.0019578791406498043,
          0.0009877588457332346,
          0.0008290118883832505,
          0.0006526263802166014,
          0.0004938794228666173,
          0.0005997107277666067,
          0.00017638550816664902,
          0.00028221681306663844,
          0.0004233252195999577,
          0.00021166260979997884,
          null,
          0.00028221681306663844,
          0.00010583130489998942,
          0.00021166260979997884,
          0.00038804811796662784,
          0.00015874695734998412,
          null,
          0.00010583130489998942,
          null,
          0.00014110840653331922,
          0.000017638550816664903,
          0.00008819275408332451,
          0.00005291565244999471,
          0.000017638550816664903,
          0.00005291565244999471,
          null,
          0.000017638550816664903,
          0.000017638550816664903,
          0.000017638550816664903,
          0.00010583130489998942,
          0.000017638550816664903,
          0.00014110840653331922
         ]
        },
        {
         "hovertemplate": "%{y}",
         "line": {
          "color": "skyblue",
          "dash": "dot"
         },
         "mode": "lines",
         "name": "M - Vowels",
         "type": "scatter",
         "x": [
          0,
          1,
          2,
          3,
          4,
          5,
          6,
          7,
          8,
          9,
          10,
          11,
          12,
          13,
          14,
          15,
          16,
          17,
          18,
          19,
          20,
          21,
          22,
          23,
          24,
          25,
          26,
          28,
          30,
          34
         ],
         "y": [
          0.004903016688719984,
          0.01837092654706588,
          0.08817224154024474,
          0.14962406786267451,
          0.17739073350360546,
          0.16518447856725235,
          0.1309249058887487,
          0.09313680237150096,
          0.05868233990829923,
          0.037747074088890255,
          0.02253541352535106,
          0.0166579479131407,
          0.012452431506498036,
          0.010031695233406161,
          0.0044722076909663455,
          0.004092685478659569,
          0.0018360669189976511,
          0.0008616179955072776,
          0.0007898164958816712,
          0.0008103312100604159,
          0.0008411032813285329,
          0.00016411771342995764,
          0.00005128678544686176,
          0.000010257357089372352,
          0.000030772071268117055,
          0.00005128678544686176,
          0.00008205885671497882,
          null,
          0.000020514714178744704,
          0.00007180149962560647
         ]
        },
        {
         "hovertemplate": "%{y}",
         "line": {
          "color": "salmon",
          "dash": "dot"
         },
         "mode": "lines",
         "name": "F - Vowels",
         "type": "scatter",
         "x": [
          0,
          1,
          2,
          3,
          4,
          5,
          6,
          7,
          8,
          9,
          10,
          11,
          12,
          13,
          14,
          15,
          16,
          17,
          18,
          19,
          20,
          21,
          22,
          23,
          24,
          25,
          26,
          28,
          30,
          34
         ],
         "y": [
          0.0038804811796662787,
          0.018873249373831447,
          0.08993897061417434,
          0.14412459872296893,
          0.17707341164849896,
          0.16412671534906692,
          0.1336296609870533,
          0.09422513846262391,
          0.061329241189543866,
          0.03820510106889618,
          0.023582742441880977,
          0.015804141531731753,
          0.01255864818146541,
          0.009083853670582426,
          0.004550746110699545,
          0.0034042403076163263,
          0.0017991321832998201,
          0.0011288672522665538,
          0.0008995660916499101,
          0.0005644336261332769,
          0.0005291565244999471,
          0.00010583130489998942,
          0.00015874695734998412,
          0.000035277101633329805,
          0.000035277101633329805,
          0.00007055420326665961,
          0.00010583130489998942,
          0.000017638550816664903,
          0.000017638550816664903,
          0.00014110840653331922
         ]
        },
        {
         "hovertemplate": "%{y}",
         "line": {
          "color": "skyblue",
          "dash": "dash"
         },
         "mode": "lines",
         "name": "M - Consonants",
         "type": "scatter",
         "x": [
          0,
          1,
          2,
          3,
          4,
          5,
          6,
          7,
          8,
          9,
          10,
          11,
          12,
          13,
          14,
          15,
          16,
          17,
          18,
          19,
          20,
          21,
          22,
          23,
          24,
          25,
          26,
          27,
          28,
          29,
          30,
          31,
          32,
          33,
          34,
          35,
          37,
          38,
          39,
          41,
          42,
          43,
          46
         ],
         "y": [
          0.0031182365551691953,
          0.0037747074088890255,
          0.022084089813418674,
          0.05818998676800936,
          0.08664389533392826,
          0.10114779825830077,
          0.11885199659455745,
          0.11896482752254055,
          0.10497379245263665,
          0.09390610415320388,
          0.07103219784390354,
          0.05517432378373388,
          0.03901898636797243,
          0.02825901878122083,
          0.01930434604219877,
          0.016904124483285637,
          0.014196182211691336,
          0.010431732159891682,
          0.007313495604722487,
          0.005518458114082326,
          0.004636325404396303,
          0.004779928403647517,
          0.003210552768973546,
          0.0021643023458575664,
          0.0017027212768358105,
          0.0008103312100604159,
          0.0005641546399154794,
          0.0013334564216184058,
          0.0003077207126811706,
          0.00026669128432368113,
          0.00014360299925121294,
          0.0002359192130555641,
          0.00022566185596619175,
          0.00016411771342995764,
          0.00016411771342995764,
          0.0002872059985024259,
          0.000020514714178744704,
          0.00006154414253623411,
          null,
          0.000020514714178744704,
          0.000010257357089372352,
          0.000010257357089372352,
          0.00007180149962560647
         ]
        },
        {
         "hovertemplate": "%{y}",
         "line": {
          "color": "salmon",
          "dash": "dash"
         },
         "mode": "lines",
         "name": "F - Consonants",
         "type": "scatter",
         "x": [
          0,
          1,
          2,
          3,
          4,
          5,
          6,
          7,
          8,
          9,
          10,
          11,
          12,
          13,
          14,
          15,
          16,
          17,
          18,
          19,
          20,
          21,
          22,
          23,
          24,
          25,
          26,
          27,
          28,
          29,
          30,
          31,
          32,
          33,
          34,
          35,
          37,
          38,
          39,
          41,
          42,
          43,
          46
         ],
         "y": [
          0.002575228419233076,
          0.004003951035382933,
          0.025170212015380816,
          0.06007690408156066,
          0.08526475464775814,
          0.10119236603520655,
          0.12064768758598793,
          0.11680248350795498,
          0.10701308780470596,
          0.093378488023424,
          0.07173598617137616,
          0.05321550781387801,
          0.03822273961971284,
          0.030444138709563622,
          0.019120189085264756,
          0.016597876318481673,
          0.013475852823931985,
          0.009577733093449042,
          0.007020143225032631,
          0.005079902635199492,
          0.003774649874766289,
          0.00453310755988288,
          0.0028045295798497195,
          0.0023106501569831023,
          0.0016933008783998308,
          0.0008113733375665856,
          0.0005291565244999471,
          0.001111228701449889,
          0.0005644336261332769,
          0.00029985536388330334,
          0.00010583130489998942,
          0.00021166260979997884,
          0.00014110840653331922,
          0.00007055420326665961,
          0.000017638550816664903,
          0.00008819275408332451,
          null,
          0.00010583130489998942,
          0.00005291565244999471,
          0.000017638550816664903,
          null,
          null,
          0.00014110840653331922
         ]
        }
       ],
       "layout": {
        "hovermode": "x unified",
        "template": {
         "data": {
          "bar": [
           {
            "error_x": {
             "color": "#2a3f5f"
            },
            "error_y": {
             "color": "#2a3f5f"
            },
            "marker": {
             "line": {
              "color": "#E5ECF6",
              "width": 0.5
             },
             "pattern": {
              "fillmode": "overlay",
              "size": 10,
              "solidity": 0.2
             }
            },
            "type": "bar"
           }
          ],
          "barpolar": [
           {
            "marker": {
             "line": {
              "color": "#E5ECF6",
              "width": 0.5
             },
             "pattern": {
              "fillmode": "overlay",
              "size": 10,
              "solidity": 0.2
             }
            },
            "type": "barpolar"
           }
          ],
          "carpet": [
           {
            "aaxis": {
             "endlinecolor": "#2a3f5f",
             "gridcolor": "white",
             "linecolor": "white",
             "minorgridcolor": "white",
             "startlinecolor": "#2a3f5f"
            },
            "baxis": {
             "endlinecolor": "#2a3f5f",
             "gridcolor": "white",
             "linecolor": "white",
             "minorgridcolor": "white",
             "startlinecolor": "#2a3f5f"
            },
            "type": "carpet"
           }
          ],
          "choropleth": [
           {
            "colorbar": {
             "outlinewidth": 0,
             "ticks": ""
            },
            "type": "choropleth"
           }
          ],
          "contour": [
           {
            "colorbar": {
             "outlinewidth": 0,
             "ticks": ""
            },
            "colorscale": [
             [
              0,
              "#0d0887"
             ],
             [
              0.1111111111111111,
              "#46039f"
             ],
             [
              0.2222222222222222,
              "#7201a8"
             ],
             [
              0.3333333333333333,
              "#9c179e"
             ],
             [
              0.4444444444444444,
              "#bd3786"
             ],
             [
              0.5555555555555556,
              "#d8576b"
             ],
             [
              0.6666666666666666,
              "#ed7953"
             ],
             [
              0.7777777777777778,
              "#fb9f3a"
             ],
             [
              0.8888888888888888,
              "#fdca26"
             ],
             [
              1,
              "#f0f921"
             ]
            ],
            "type": "contour"
           }
          ],
          "contourcarpet": [
           {
            "colorbar": {
             "outlinewidth": 0,
             "ticks": ""
            },
            "type": "contourcarpet"
           }
          ],
          "heatmap": [
           {
            "colorbar": {
             "outlinewidth": 0,
             "ticks": ""
            },
            "colorscale": [
             [
              0,
              "#0d0887"
             ],
             [
              0.1111111111111111,
              "#46039f"
             ],
             [
              0.2222222222222222,
              "#7201a8"
             ],
             [
              0.3333333333333333,
              "#9c179e"
             ],
             [
              0.4444444444444444,
              "#bd3786"
             ],
             [
              0.5555555555555556,
              "#d8576b"
             ],
             [
              0.6666666666666666,
              "#ed7953"
             ],
             [
              0.7777777777777778,
              "#fb9f3a"
             ],
             [
              0.8888888888888888,
              "#fdca26"
             ],
             [
              1,
              "#f0f921"
             ]
            ],
            "type": "heatmap"
           }
          ],
          "heatmapgl": [
           {
            "colorbar": {
             "outlinewidth": 0,
             "ticks": ""
            },
            "colorscale": [
             [
              0,
              "#0d0887"
             ],
             [
              0.1111111111111111,
              "#46039f"
             ],
             [
              0.2222222222222222,
              "#7201a8"
             ],
             [
              0.3333333333333333,
              "#9c179e"
             ],
             [
              0.4444444444444444,
              "#bd3786"
             ],
             [
              0.5555555555555556,
              "#d8576b"
             ],
             [
              0.6666666666666666,
              "#ed7953"
             ],
             [
              0.7777777777777778,
              "#fb9f3a"
             ],
             [
              0.8888888888888888,
              "#fdca26"
             ],
             [
              1,
              "#f0f921"
             ]
            ],
            "type": "heatmapgl"
           }
          ],
          "histogram": [
           {
            "marker": {
             "pattern": {
              "fillmode": "overlay",
              "size": 10,
              "solidity": 0.2
             }
            },
            "type": "histogram"
           }
          ],
          "histogram2d": [
           {
            "colorbar": {
             "outlinewidth": 0,
             "ticks": ""
            },
            "colorscale": [
             [
              0,
              "#0d0887"
             ],
             [
              0.1111111111111111,
              "#46039f"
             ],
             [
              0.2222222222222222,
              "#7201a8"
             ],
             [
              0.3333333333333333,
              "#9c179e"
             ],
             [
              0.4444444444444444,
              "#bd3786"
             ],
             [
              0.5555555555555556,
              "#d8576b"
             ],
             [
              0.6666666666666666,
              "#ed7953"
             ],
             [
              0.7777777777777778,
              "#fb9f3a"
             ],
             [
              0.8888888888888888,
              "#fdca26"
             ],
             [
              1,
              "#f0f921"
             ]
            ],
            "type": "histogram2d"
           }
          ],
          "histogram2dcontour": [
           {
            "colorbar": {
             "outlinewidth": 0,
             "ticks": ""
            },
            "colorscale": [
             [
              0,
              "#0d0887"
             ],
             [
              0.1111111111111111,
              "#46039f"
             ],
             [
              0.2222222222222222,
              "#7201a8"
             ],
             [
              0.3333333333333333,
              "#9c179e"
             ],
             [
              0.4444444444444444,
              "#bd3786"
             ],
             [
              0.5555555555555556,
              "#d8576b"
             ],
             [
              0.6666666666666666,
              "#ed7953"
             ],
             [
              0.7777777777777778,
              "#fb9f3a"
             ],
             [
              0.8888888888888888,
              "#fdca26"
             ],
             [
              1,
              "#f0f921"
             ]
            ],
            "type": "histogram2dcontour"
           }
          ],
          "mesh3d": [
           {
            "colorbar": {
             "outlinewidth": 0,
             "ticks": ""
            },
            "type": "mesh3d"
           }
          ],
          "parcoords": [
           {
            "line": {
             "colorbar": {
              "outlinewidth": 0,
              "ticks": ""
             }
            },
            "type": "parcoords"
           }
          ],
          "pie": [
           {
            "automargin": true,
            "type": "pie"
           }
          ],
          "scatter": [
           {
            "fillpattern": {
             "fillmode": "overlay",
             "size": 10,
             "solidity": 0.2
            },
            "type": "scatter"
           }
          ],
          "scatter3d": [
           {
            "line": {
             "colorbar": {
              "outlinewidth": 0,
              "ticks": ""
             }
            },
            "marker": {
             "colorbar": {
              "outlinewidth": 0,
              "ticks": ""
             }
            },
            "type": "scatter3d"
           }
          ],
          "scattercarpet": [
           {
            "marker": {
             "colorbar": {
              "outlinewidth": 0,
              "ticks": ""
             }
            },
            "type": "scattercarpet"
           }
          ],
          "scattergeo": [
           {
            "marker": {
             "colorbar": {
              "outlinewidth": 0,
              "ticks": ""
             }
            },
            "type": "scattergeo"
           }
          ],
          "scattergl": [
           {
            "marker": {
             "colorbar": {
              "outlinewidth": 0,
              "ticks": ""
             }
            },
            "type": "scattergl"
           }
          ],
          "scattermapbox": [
           {
            "marker": {
             "colorbar": {
              "outlinewidth": 0,
              "ticks": ""
             }
            },
            "type": "scattermapbox"
           }
          ],
          "scatterpolar": [
           {
            "marker": {
             "colorbar": {
              "outlinewidth": 0,
              "ticks": ""
             }
            },
            "type": "scatterpolar"
           }
          ],
          "scatterpolargl": [
           {
            "marker": {
             "colorbar": {
              "outlinewidth": 0,
              "ticks": ""
             }
            },
            "type": "scatterpolargl"
           }
          ],
          "scatterternary": [
           {
            "marker": {
             "colorbar": {
              "outlinewidth": 0,
              "ticks": ""
             }
            },
            "type": "scatterternary"
           }
          ],
          "surface": [
           {
            "colorbar": {
             "outlinewidth": 0,
             "ticks": ""
            },
            "colorscale": [
             [
              0,
              "#0d0887"
             ],
             [
              0.1111111111111111,
              "#46039f"
             ],
             [
              0.2222222222222222,
              "#7201a8"
             ],
             [
              0.3333333333333333,
              "#9c179e"
             ],
             [
              0.4444444444444444,
              "#bd3786"
             ],
             [
              0.5555555555555556,
              "#d8576b"
             ],
             [
              0.6666666666666666,
              "#ed7953"
             ],
             [
              0.7777777777777778,
              "#fb9f3a"
             ],
             [
              0.8888888888888888,
              "#fdca26"
             ],
             [
              1,
              "#f0f921"
             ]
            ],
            "type": "surface"
           }
          ],
          "table": [
           {
            "cells": {
             "fill": {
              "color": "#EBF0F8"
             },
             "line": {
              "color": "white"
             }
            },
            "header": {
             "fill": {
              "color": "#C8D4E3"
             },
             "line": {
              "color": "white"
             }
            },
            "type": "table"
           }
          ]
         },
         "layout": {
          "annotationdefaults": {
           "arrowcolor": "#2a3f5f",
           "arrowhead": 0,
           "arrowwidth": 1
          },
          "autotypenumbers": "strict",
          "coloraxis": {
           "colorbar": {
            "outlinewidth": 0,
            "ticks": ""
           }
          },
          "colorscale": {
           "diverging": [
            [
             0,
             "#8e0152"
            ],
            [
             0.1,
             "#c51b7d"
            ],
            [
             0.2,
             "#de77ae"
            ],
            [
             0.3,
             "#f1b6da"
            ],
            [
             0.4,
             "#fde0ef"
            ],
            [
             0.5,
             "#f7f7f7"
            ],
            [
             0.6,
             "#e6f5d0"
            ],
            [
             0.7,
             "#b8e186"
            ],
            [
             0.8,
             "#7fbc41"
            ],
            [
             0.9,
             "#4d9221"
            ],
            [
             1,
             "#276419"
            ]
           ],
           "sequential": [
            [
             0,
             "#0d0887"
            ],
            [
             0.1111111111111111,
             "#46039f"
            ],
            [
             0.2222222222222222,
             "#7201a8"
            ],
            [
             0.3333333333333333,
             "#9c179e"
            ],
            [
             0.4444444444444444,
             "#bd3786"
            ],
            [
             0.5555555555555556,
             "#d8576b"
            ],
            [
             0.6666666666666666,
             "#ed7953"
            ],
            [
             0.7777777777777778,
             "#fb9f3a"
            ],
            [
             0.8888888888888888,
             "#fdca26"
            ],
            [
             1,
             "#f0f921"
            ]
           ],
           "sequentialminus": [
            [
             0,
             "#0d0887"
            ],
            [
             0.1111111111111111,
             "#46039f"
            ],
            [
             0.2222222222222222,
             "#7201a8"
            ],
            [
             0.3333333333333333,
             "#9c179e"
            ],
            [
             0.4444444444444444,
             "#bd3786"
            ],
            [
             0.5555555555555556,
             "#d8576b"
            ],
            [
             0.6666666666666666,
             "#ed7953"
            ],
            [
             0.7777777777777778,
             "#fb9f3a"
            ],
            [
             0.8888888888888888,
             "#fdca26"
            ],
            [
             1,
             "#f0f921"
            ]
           ]
          },
          "colorway": [
           "#636efa",
           "#EF553B",
           "#00cc96",
           "#ab63fa",
           "#FFA15A",
           "#19d3f3",
           "#FF6692",
           "#B6E880",
           "#FF97FF",
           "#FECB52"
          ],
          "font": {
           "color": "#2a3f5f"
          },
          "geo": {
           "bgcolor": "white",
           "lakecolor": "white",
           "landcolor": "#E5ECF6",
           "showlakes": true,
           "showland": true,
           "subunitcolor": "white"
          },
          "hoverlabel": {
           "align": "left"
          },
          "hovermode": "closest",
          "mapbox": {
           "style": "light"
          },
          "paper_bgcolor": "white",
          "plot_bgcolor": "#E5ECF6",
          "polar": {
           "angularaxis": {
            "gridcolor": "white",
            "linecolor": "white",
            "ticks": ""
           },
           "bgcolor": "#E5ECF6",
           "radialaxis": {
            "gridcolor": "white",
            "linecolor": "white",
            "ticks": ""
           }
          },
          "scene": {
           "xaxis": {
            "backgroundcolor": "#E5ECF6",
            "gridcolor": "white",
            "gridwidth": 2,
            "linecolor": "white",
            "showbackground": true,
            "ticks": "",
            "zerolinecolor": "white"
           },
           "yaxis": {
            "backgroundcolor": "#E5ECF6",
            "gridcolor": "white",
            "gridwidth": 2,
            "linecolor": "white",
            "showbackground": true,
            "ticks": "",
            "zerolinecolor": "white"
           },
           "zaxis": {
            "backgroundcolor": "#E5ECF6",
            "gridcolor": "white",
            "gridwidth": 2,
            "linecolor": "white",
            "showbackground": true,
            "ticks": "",
            "zerolinecolor": "white"
           }
          },
          "shapedefaults": {
           "line": {
            "color": "#2a3f5f"
           }
          },
          "ternary": {
           "aaxis": {
            "gridcolor": "white",
            "linecolor": "white",
            "ticks": ""
           },
           "baxis": {
            "gridcolor": "white",
            "linecolor": "white",
            "ticks": ""
           },
           "bgcolor": "#E5ECF6",
           "caxis": {
            "gridcolor": "white",
            "linecolor": "white",
            "ticks": ""
           }
          },
          "title": {
           "x": 0.05
          },
          "xaxis": {
           "automargin": true,
           "gridcolor": "white",
           "linecolor": "white",
           "ticks": "",
           "title": {
            "standoff": 15
           },
           "zerolinecolor": "white",
           "zerolinewidth": 2
          },
          "yaxis": {
           "automargin": true,
           "gridcolor": "white",
           "linecolor": "white",
           "ticks": "",
           "title": {
            "standoff": 15
           },
           "zerolinecolor": "white",
           "zerolinewidth": 2
          }
         }
        },
        "title": {
         "text": "Distribution of Length, Vowel and Consonant Counts by Gender"
        },
        "xaxis": {
         "title": {
          "text": "Length, Vowel or Consonant Count"
         }
        },
        "yaxis": {
         "title": {
          "text": "Normalized Count"
         }
        }
       }
      }
     },
     "metadata": {},
     "output_type": "display_data"
    }
   ],
   "source": [
    "# Grouping by length, vowel count and consonant count \n",
    "length_gender = character_names_processed.groupby(['Length', 'Sex']).size().unstack()\n",
    "length_gender = length_gender.div(length_gender.sum(axis=0), axis=1)\n",
    "\n",
    "vowels_gender = character_names_processed.groupby(['Vowel Count', 'Sex']).size().unstack()\n",
    "vowels_gender = vowels_gender.div(vowels_gender.sum(axis=0), axis=1)\n",
    "\n",
    "consonant_gender = character_names_processed.groupby(['Consonant Count', 'Sex']).size().unstack()\n",
    "consonant_gender = consonant_gender.div(consonant_gender.sum(axis=0), axis=1)\n",
    "\n",
    "# # Filtrer les données pour n'inclure que x <= 40\n",
    "# length_gender = length_gender[length_gender.index <= 40]\n",
    "# vowels_gender = vowels_gender[vowels_gender.index <= 40]\n",
    "# consonant_gender = consonant_gender[consonant_gender.index <= 40]\n",
    "\n",
    "# Couleurs pour chaque genre et marqueurs\n",
    "colors = {'M': 'skyblue', 'F': 'salmon'}\n",
    "\n",
    "fig = go.Figure()\n",
    "\n",
    "# Ajouter des lignes pour \"Length\" sans marqueurs\n",
    "for gender, color in colors.items():\n",
    "    fig.add_trace(go.Scatter(\n",
    "        x=length_gender.index,\n",
    "        y=length_gender[gender],\n",
    "        mode='lines',  # Supprime les marqueurs\n",
    "        name=f'{gender} - Length',\n",
    "        line=dict(dash='solid', color=color),\n",
    "        hovertemplate=f\"%{{y}}\"\n",
    "    ))\n",
    "\n",
    "# Ajouter des lignes pour \"Vowels\" sans marqueurs\n",
    "for gender, color in colors.items():\n",
    "    fig.add_trace(go.Scatter(\n",
    "        x=vowels_gender.index,\n",
    "        y=vowels_gender[gender],\n",
    "        mode='lines',  # Supprime les marqueurs\n",
    "        name=f'{gender} - Vowels',\n",
    "        line=dict(dash='dot', color=color),\n",
    "        hovertemplate=f\"%{{y}}\"\n",
    "    ))\n",
    "\n",
    "# Ajouter des lignes pour \"Consonants\" sans marqueurs\n",
    "for gender, color in colors.items():\n",
    "    fig.add_trace(go.Scatter(\n",
    "        x=consonant_gender.index,\n",
    "        y=consonant_gender[gender],\n",
    "        mode='lines',  # Supprime les marqueurs\n",
    "        name=f'{gender} - Consonants',\n",
    "        line=dict(dash='dash', color=color),\n",
    "        hovertemplate=f\"%{{y}}\"\n",
    "    ))\n",
    "\n",
    "# Mettre à jour la mise en page\n",
    "fig.update_layout(\n",
    "    title='Distribution of Length, Vowel and Consonant Counts by Gender',\n",
    "    xaxis_title='Length, Vowel or Consonant Count',\n",
    "    yaxis_title='Normalized Count',\n",
    "    hovermode='x unified'\n",
    ")\n",
    "\n",
    "\n",
    "fig.show()"
   ]
  },
  {
   "cell_type": "code",
   "execution_count": 330,
   "metadata": {},
   "outputs": [
    {
     "name": "stdout",
     "output_type": "stream",
     "text": [
      "Length:\n",
      "T-statistique : 1.3597\n",
      "P-value : 0.17392236377217554\n",
      "\n",
      "Vowel Count:\n",
      "T-statistique : -0.7951\n",
      "P-value : 0.4265463990282511\n",
      "\n",
      "Consonant Count:\n",
      "T-statistique : 3.1889\n",
      "P-value : 0.0014285630148382817\n"
     ]
    }
   ],
   "source": [
    "from scipy.stats import ttest_ind\n",
    "\n",
    "length_m = character_names_processed[character_names_processed['Sex'] == 'M']['Length']\n",
    "length_f = character_names_processed[character_names_processed['Sex'] == 'F']['Length']\n",
    "\n",
    "vow_m = character_names_processed[character_names_processed['Sex'] == 'M']['Vowel Count']\n",
    "vow_f = character_names_processed[character_names_processed['Sex'] == 'F']['Vowel Count']\n",
    "\n",
    "cons_m = character_names_processed[character_names_processed['Sex'] == 'M']['Consonant Count']\n",
    "cons_f = character_names_processed[character_names_processed['Sex'] == 'F']['Consonant Count']\n",
    "\n",
    "\n",
    "# T-Test\n",
    "print(\"Length:\")\n",
    "t_stat, p_value = ttest_ind(length_m, length_f, equal_var=False)  \n",
    "print(f\"T-statistique : {t_stat:.4f}\")\n",
    "print(f\"P-value : {p_value}\\n\")\n",
    "\n",
    "print(\"Vowel Count:\")\n",
    "t_stat, p_value = ttest_ind(vow_m, vow_f, equal_var=False)  \n",
    "print(f\"T-statistique : {t_stat:.4f}\")\n",
    "print(f\"P-value : {p_value}\\n\")\n",
    "\n",
    "print(\"Consonant Count:\")\n",
    "t_stat, p_value = ttest_ind(cons_m, cons_f, equal_var=False)  \n",
    "print(f\"T-statistique : {t_stat:.4f}\")\n",
    "print(f\"P-value : {p_value}\")"
   ]
  },
  {
   "cell_type": "markdown",
   "metadata": {},
   "source": [
    "Visually, the distributions shown on the graph do not reveal any obvious differences between the two groups, male (M) and female (F), for name length, vowel count, and consonant count. This visual overlap might suggest that these variables do not differentiate the two groups effectively. However, when performing t-tests for each variable, the results tell a different story.\n",
    "\n",
    "For name length and vowel count, the t-tests confirm that there is no statistically significant difference between the groups. This aligns with the visual observation where the distributions largely overlap. In contrast, the t-test for consonant count reveals a statistically significant difference between the means of the two groups. This indicates that the consonant count is a meaningful factor in distinguishing between males and females.\n",
    "\n",
    "While the visual representation may appear unconvincing, statistical testing demonstrates that subtle differences exist for consonant count. This highlights the importance of complementing visual analysis with statistical tests to uncover meaningful patterns that might not be immediately apparent."
   ]
  },
  {
   "cell_type": "code",
   "execution_count": 331,
   "metadata": {},
   "outputs": [
    {
     "name": "stderr",
     "output_type": "stream",
     "text": [
      "/var/folders/5n/10j2bk_d6_5d_78gychkbs6m0000gn/T/ipykernel_23140/1507161570.py:14: FutureWarning:\n",
      "\n",
      "The default of observed=False is deprecated and will be changed to True in a future version of pandas. Pass observed=False to retain current behavior or observed=True to adopt the future default and silence this warning.\n",
      "\n"
     ]
    },
    {
     "data": {
      "application/vnd.plotly.v1+json": {
       "config": {
        "plotlyServerURL": "https://plot.ly"
       },
       "data": [
        {
         "hovertemplate": "Male<br>Ratio: %{x}<br>Normalized Count: %{y:.4f}",
         "marker": {
          "color": "skyblue"
         },
         "name": "Male",
         "type": "bar",
         "x": [
          "0.0-0.2",
          "0.2-0.4",
          "0.4-0.6",
          "0.6-0.8",
          "0.8-1.0",
          "1.0-1.2",
          "1.2-1.4",
          "1.4-1.6",
          "1.6-1.8",
          "1.8-2.0",
          "2.0-2.2",
          "2.4-2.6",
          "3.0-3.2"
         ],
         "y": [
          0.002592992745794104,
          0.05959767453825179,
          0.3578432885733395,
          0.2973607038123167,
          0.12305396923393527,
          0.11574831506919792,
          0.02319287955960282,
          0.00877707465143798,
          0.0042393373462982975,
          0.0003601378813602922,
          0.005309461336626023,
          0.0006379585326953748,
          0.0006894068014611308
         ]
        },
        {
         "hovertemplate": "Female<br>Ratio Bin: %{x}<br>Normalized Count: %{y:.4f}",
         "marker": {
          "color": "salmon"
         },
         "name": "Female",
         "type": "bar",
         "x": [
          "0.0-0.2",
          "0.2-0.4",
          "0.4-0.6",
          "0.6-0.8",
          "0.8-1.0",
          "1.0-1.2",
          "1.2-1.4",
          "1.4-1.6",
          "1.6-1.8",
          "1.8-2.0",
          "2.0-2.2",
          "2.4-2.6",
          "3.0-3.2"
         ],
         "y": [
          0.002281409168081494,
          0.058273203169213354,
          0.3465265987549519,
          0.294089558573854,
          0.12713992642897567,
          0.12259479343520091,
          0.024458828522920202,
          0.010735002829654783,
          0.004757357102433503,
          0.0007074136955291454,
          0.006048387096774193,
          0.0006720430107526882,
          0.0008665817770232032
         ]
        }
       ],
       "layout": {
        "barmode": "group",
        "font": {
         "size": 14
        },
        "margin": {
         "b": 50,
         "l": 50,
         "r": 50,
         "t": 50
        },
        "template": {
         "data": {
          "bar": [
           {
            "error_x": {
             "color": "#2a3f5f"
            },
            "error_y": {
             "color": "#2a3f5f"
            },
            "marker": {
             "line": {
              "color": "#E5ECF6",
              "width": 0.5
             },
             "pattern": {
              "fillmode": "overlay",
              "size": 10,
              "solidity": 0.2
             }
            },
            "type": "bar"
           }
          ],
          "barpolar": [
           {
            "marker": {
             "line": {
              "color": "#E5ECF6",
              "width": 0.5
             },
             "pattern": {
              "fillmode": "overlay",
              "size": 10,
              "solidity": 0.2
             }
            },
            "type": "barpolar"
           }
          ],
          "carpet": [
           {
            "aaxis": {
             "endlinecolor": "#2a3f5f",
             "gridcolor": "white",
             "linecolor": "white",
             "minorgridcolor": "white",
             "startlinecolor": "#2a3f5f"
            },
            "baxis": {
             "endlinecolor": "#2a3f5f",
             "gridcolor": "white",
             "linecolor": "white",
             "minorgridcolor": "white",
             "startlinecolor": "#2a3f5f"
            },
            "type": "carpet"
           }
          ],
          "choropleth": [
           {
            "colorbar": {
             "outlinewidth": 0,
             "ticks": ""
            },
            "type": "choropleth"
           }
          ],
          "contour": [
           {
            "colorbar": {
             "outlinewidth": 0,
             "ticks": ""
            },
            "colorscale": [
             [
              0,
              "#0d0887"
             ],
             [
              0.1111111111111111,
              "#46039f"
             ],
             [
              0.2222222222222222,
              "#7201a8"
             ],
             [
              0.3333333333333333,
              "#9c179e"
             ],
             [
              0.4444444444444444,
              "#bd3786"
             ],
             [
              0.5555555555555556,
              "#d8576b"
             ],
             [
              0.6666666666666666,
              "#ed7953"
             ],
             [
              0.7777777777777778,
              "#fb9f3a"
             ],
             [
              0.8888888888888888,
              "#fdca26"
             ],
             [
              1,
              "#f0f921"
             ]
            ],
            "type": "contour"
           }
          ],
          "contourcarpet": [
           {
            "colorbar": {
             "outlinewidth": 0,
             "ticks": ""
            },
            "type": "contourcarpet"
           }
          ],
          "heatmap": [
           {
            "colorbar": {
             "outlinewidth": 0,
             "ticks": ""
            },
            "colorscale": [
             [
              0,
              "#0d0887"
             ],
             [
              0.1111111111111111,
              "#46039f"
             ],
             [
              0.2222222222222222,
              "#7201a8"
             ],
             [
              0.3333333333333333,
              "#9c179e"
             ],
             [
              0.4444444444444444,
              "#bd3786"
             ],
             [
              0.5555555555555556,
              "#d8576b"
             ],
             [
              0.6666666666666666,
              "#ed7953"
             ],
             [
              0.7777777777777778,
              "#fb9f3a"
             ],
             [
              0.8888888888888888,
              "#fdca26"
             ],
             [
              1,
              "#f0f921"
             ]
            ],
            "type": "heatmap"
           }
          ],
          "heatmapgl": [
           {
            "colorbar": {
             "outlinewidth": 0,
             "ticks": ""
            },
            "colorscale": [
             [
              0,
              "#0d0887"
             ],
             [
              0.1111111111111111,
              "#46039f"
             ],
             [
              0.2222222222222222,
              "#7201a8"
             ],
             [
              0.3333333333333333,
              "#9c179e"
             ],
             [
              0.4444444444444444,
              "#bd3786"
             ],
             [
              0.5555555555555556,
              "#d8576b"
             ],
             [
              0.6666666666666666,
              "#ed7953"
             ],
             [
              0.7777777777777778,
              "#fb9f3a"
             ],
             [
              0.8888888888888888,
              "#fdca26"
             ],
             [
              1,
              "#f0f921"
             ]
            ],
            "type": "heatmapgl"
           }
          ],
          "histogram": [
           {
            "marker": {
             "pattern": {
              "fillmode": "overlay",
              "size": 10,
              "solidity": 0.2
             }
            },
            "type": "histogram"
           }
          ],
          "histogram2d": [
           {
            "colorbar": {
             "outlinewidth": 0,
             "ticks": ""
            },
            "colorscale": [
             [
              0,
              "#0d0887"
             ],
             [
              0.1111111111111111,
              "#46039f"
             ],
             [
              0.2222222222222222,
              "#7201a8"
             ],
             [
              0.3333333333333333,
              "#9c179e"
             ],
             [
              0.4444444444444444,
              "#bd3786"
             ],
             [
              0.5555555555555556,
              "#d8576b"
             ],
             [
              0.6666666666666666,
              "#ed7953"
             ],
             [
              0.7777777777777778,
              "#fb9f3a"
             ],
             [
              0.8888888888888888,
              "#fdca26"
             ],
             [
              1,
              "#f0f921"
             ]
            ],
            "type": "histogram2d"
           }
          ],
          "histogram2dcontour": [
           {
            "colorbar": {
             "outlinewidth": 0,
             "ticks": ""
            },
            "colorscale": [
             [
              0,
              "#0d0887"
             ],
             [
              0.1111111111111111,
              "#46039f"
             ],
             [
              0.2222222222222222,
              "#7201a8"
             ],
             [
              0.3333333333333333,
              "#9c179e"
             ],
             [
              0.4444444444444444,
              "#bd3786"
             ],
             [
              0.5555555555555556,
              "#d8576b"
             ],
             [
              0.6666666666666666,
              "#ed7953"
             ],
             [
              0.7777777777777778,
              "#fb9f3a"
             ],
             [
              0.8888888888888888,
              "#fdca26"
             ],
             [
              1,
              "#f0f921"
             ]
            ],
            "type": "histogram2dcontour"
           }
          ],
          "mesh3d": [
           {
            "colorbar": {
             "outlinewidth": 0,
             "ticks": ""
            },
            "type": "mesh3d"
           }
          ],
          "parcoords": [
           {
            "line": {
             "colorbar": {
              "outlinewidth": 0,
              "ticks": ""
             }
            },
            "type": "parcoords"
           }
          ],
          "pie": [
           {
            "automargin": true,
            "type": "pie"
           }
          ],
          "scatter": [
           {
            "fillpattern": {
             "fillmode": "overlay",
             "size": 10,
             "solidity": 0.2
            },
            "type": "scatter"
           }
          ],
          "scatter3d": [
           {
            "line": {
             "colorbar": {
              "outlinewidth": 0,
              "ticks": ""
             }
            },
            "marker": {
             "colorbar": {
              "outlinewidth": 0,
              "ticks": ""
             }
            },
            "type": "scatter3d"
           }
          ],
          "scattercarpet": [
           {
            "marker": {
             "colorbar": {
              "outlinewidth": 0,
              "ticks": ""
             }
            },
            "type": "scattercarpet"
           }
          ],
          "scattergeo": [
           {
            "marker": {
             "colorbar": {
              "outlinewidth": 0,
              "ticks": ""
             }
            },
            "type": "scattergeo"
           }
          ],
          "scattergl": [
           {
            "marker": {
             "colorbar": {
              "outlinewidth": 0,
              "ticks": ""
             }
            },
            "type": "scattergl"
           }
          ],
          "scattermapbox": [
           {
            "marker": {
             "colorbar": {
              "outlinewidth": 0,
              "ticks": ""
             }
            },
            "type": "scattermapbox"
           }
          ],
          "scatterpolar": [
           {
            "marker": {
             "colorbar": {
              "outlinewidth": 0,
              "ticks": ""
             }
            },
            "type": "scatterpolar"
           }
          ],
          "scatterpolargl": [
           {
            "marker": {
             "colorbar": {
              "outlinewidth": 0,
              "ticks": ""
             }
            },
            "type": "scatterpolargl"
           }
          ],
          "scatterternary": [
           {
            "marker": {
             "colorbar": {
              "outlinewidth": 0,
              "ticks": ""
             }
            },
            "type": "scatterternary"
           }
          ],
          "surface": [
           {
            "colorbar": {
             "outlinewidth": 0,
             "ticks": ""
            },
            "colorscale": [
             [
              0,
              "#0d0887"
             ],
             [
              0.1111111111111111,
              "#46039f"
             ],
             [
              0.2222222222222222,
              "#7201a8"
             ],
             [
              0.3333333333333333,
              "#9c179e"
             ],
             [
              0.4444444444444444,
              "#bd3786"
             ],
             [
              0.5555555555555556,
              "#d8576b"
             ],
             [
              0.6666666666666666,
              "#ed7953"
             ],
             [
              0.7777777777777778,
              "#fb9f3a"
             ],
             [
              0.8888888888888888,
              "#fdca26"
             ],
             [
              1,
              "#f0f921"
             ]
            ],
            "type": "surface"
           }
          ],
          "table": [
           {
            "cells": {
             "fill": {
              "color": "#EBF0F8"
             },
             "line": {
              "color": "white"
             }
            },
            "header": {
             "fill": {
              "color": "#C8D4E3"
             },
             "line": {
              "color": "white"
             }
            },
            "type": "table"
           }
          ]
         },
         "layout": {
          "annotationdefaults": {
           "arrowcolor": "#2a3f5f",
           "arrowhead": 0,
           "arrowwidth": 1
          },
          "autotypenumbers": "strict",
          "coloraxis": {
           "colorbar": {
            "outlinewidth": 0,
            "ticks": ""
           }
          },
          "colorscale": {
           "diverging": [
            [
             0,
             "#8e0152"
            ],
            [
             0.1,
             "#c51b7d"
            ],
            [
             0.2,
             "#de77ae"
            ],
            [
             0.3,
             "#f1b6da"
            ],
            [
             0.4,
             "#fde0ef"
            ],
            [
             0.5,
             "#f7f7f7"
            ],
            [
             0.6,
             "#e6f5d0"
            ],
            [
             0.7,
             "#b8e186"
            ],
            [
             0.8,
             "#7fbc41"
            ],
            [
             0.9,
             "#4d9221"
            ],
            [
             1,
             "#276419"
            ]
           ],
           "sequential": [
            [
             0,
             "#0d0887"
            ],
            [
             0.1111111111111111,
             "#46039f"
            ],
            [
             0.2222222222222222,
             "#7201a8"
            ],
            [
             0.3333333333333333,
             "#9c179e"
            ],
            [
             0.4444444444444444,
             "#bd3786"
            ],
            [
             0.5555555555555556,
             "#d8576b"
            ],
            [
             0.6666666666666666,
             "#ed7953"
            ],
            [
             0.7777777777777778,
             "#fb9f3a"
            ],
            [
             0.8888888888888888,
             "#fdca26"
            ],
            [
             1,
             "#f0f921"
            ]
           ],
           "sequentialminus": [
            [
             0,
             "#0d0887"
            ],
            [
             0.1111111111111111,
             "#46039f"
            ],
            [
             0.2222222222222222,
             "#7201a8"
            ],
            [
             0.3333333333333333,
             "#9c179e"
            ],
            [
             0.4444444444444444,
             "#bd3786"
            ],
            [
             0.5555555555555556,
             "#d8576b"
            ],
            [
             0.6666666666666666,
             "#ed7953"
            ],
            [
             0.7777777777777778,
             "#fb9f3a"
            ],
            [
             0.8888888888888888,
             "#fdca26"
            ],
            [
             1,
             "#f0f921"
            ]
           ]
          },
          "colorway": [
           "#636efa",
           "#EF553B",
           "#00cc96",
           "#ab63fa",
           "#FFA15A",
           "#19d3f3",
           "#FF6692",
           "#B6E880",
           "#FF97FF",
           "#FECB52"
          ],
          "font": {
           "color": "#2a3f5f"
          },
          "geo": {
           "bgcolor": "white",
           "lakecolor": "white",
           "landcolor": "#E5ECF6",
           "showlakes": true,
           "showland": true,
           "subunitcolor": "white"
          },
          "hoverlabel": {
           "align": "left"
          },
          "hovermode": "closest",
          "mapbox": {
           "style": "light"
          },
          "paper_bgcolor": "white",
          "plot_bgcolor": "#E5ECF6",
          "polar": {
           "angularaxis": {
            "gridcolor": "white",
            "linecolor": "white",
            "ticks": ""
           },
           "bgcolor": "#E5ECF6",
           "radialaxis": {
            "gridcolor": "white",
            "linecolor": "white",
            "ticks": ""
           }
          },
          "scene": {
           "xaxis": {
            "backgroundcolor": "#E5ECF6",
            "gridcolor": "white",
            "gridwidth": 2,
            "linecolor": "white",
            "showbackground": true,
            "ticks": "",
            "zerolinecolor": "white"
           },
           "yaxis": {
            "backgroundcolor": "#E5ECF6",
            "gridcolor": "white",
            "gridwidth": 2,
            "linecolor": "white",
            "showbackground": true,
            "ticks": "",
            "zerolinecolor": "white"
           },
           "zaxis": {
            "backgroundcolor": "#E5ECF6",
            "gridcolor": "white",
            "gridwidth": 2,
            "linecolor": "white",
            "showbackground": true,
            "ticks": "",
            "zerolinecolor": "white"
           }
          },
          "shapedefaults": {
           "line": {
            "color": "#2a3f5f"
           }
          },
          "ternary": {
           "aaxis": {
            "gridcolor": "white",
            "linecolor": "white",
            "ticks": ""
           },
           "baxis": {
            "gridcolor": "white",
            "linecolor": "white",
            "ticks": ""
           },
           "bgcolor": "#E5ECF6",
           "caxis": {
            "gridcolor": "white",
            "linecolor": "white",
            "ticks": ""
           }
          },
          "title": {
           "x": 0.05
          },
          "xaxis": {
           "automargin": true,
           "gridcolor": "white",
           "linecolor": "white",
           "ticks": "",
           "title": {
            "standoff": 15
           },
           "zerolinecolor": "white",
           "zerolinewidth": 2
          },
          "yaxis": {
           "automargin": true,
           "gridcolor": "white",
           "linecolor": "white",
           "ticks": "",
           "title": {
            "standoff": 15
           },
           "zerolinecolor": "white",
           "zerolinewidth": 2
          }
         }
        },
        "title": {
         "text": "Vowel/Consonant Ratio in Names by Gender"
        },
        "xaxis": {
         "tickangle": 0,
         "title": {
          "text": "Vowel/Consonant Ratio"
         }
        },
        "yaxis": {
         "title": {
          "text": "Normalized Count"
         }
        }
       }
      }
     },
     "metadata": {},
     "output_type": "display_data"
    }
   ],
   "source": [
    "import pandas as pd\n",
    "import plotly.graph_objects as go\n",
    "\n",
    "# Créer des bacs de 0.2 unités pour le ratio voyelles/consonnes\n",
    "bin_edges = pd.interval_range(start=0, freq=0.2, end=6, closed='left')\n",
    "\n",
    "# Ajouter une colonne avec les bacs\n",
    "character_names_processed['Ratio Binned'] = pd.cut(\n",
    "    character_names_processed['Vowel Count'] / character_names_processed['Consonant Count'],\n",
    "    bins=bin_edges\n",
    ")\n",
    "\n",
    "# Grouper par les bacs et le genre\n",
    "ratio_gender = character_names_processed.groupby(['Ratio Binned', 'Sex']).size().unstack(fill_value=0)\n",
    "\n",
    "# Normaliser les données\n",
    "ratio_gender = ratio_gender.div(ratio_gender.sum(axis=0), axis=1)\n",
    "\n",
    "# Filtrer les lignes où la somme des valeurs est supérieure à un seuil (ex: 0.001)\n",
    "threshold = 0.001\n",
    "ratio_gender = ratio_gender.loc[ratio_gender.sum(axis=1) > threshold]\n",
    "\n",
    "# Convertir les bacs en chaîne pour l'affichage\n",
    "ratio_gender = ratio_gender.reset_index()\n",
    "ratio_gender['Ratio Binned'] = ratio_gender['Ratio Binned'].apply(lambda x: f\"{x.left:.1f}-{x.right:.1f}\")\n",
    "\n",
    "# Créer un bar plot\n",
    "fig = go.Figure()\n",
    "\n",
    "fig.add_trace(go.Bar(\n",
    "    x=ratio_gender['Ratio Binned'],\n",
    "    y=ratio_gender['M'],\n",
    "    name='Male',\n",
    "    marker_color='skyblue',\n",
    "    hovertemplate=\"Male<br>Ratio: %{x}<br>Normalized Count: %{y:.4f}\"\n",
    "))\n",
    "\n",
    "# Ajouter des barres pour chaque genre avec des couleurs cohérentes\n",
    "fig.add_trace(go.Bar(\n",
    "    x=ratio_gender['Ratio Binned'],\n",
    "    y=ratio_gender['F'],\n",
    "    name='Female',\n",
    "    marker_color='salmon',\n",
    "    hovertemplate=\"Female<br>Ratio Bin: %{x}<br>Normalized Count: %{y:.4f}\"\n",
    "))\n",
    "\n",
    "# Mettre à jour la mise en page\n",
    "fig.update_layout(\n",
    "    title='Vowel/Consonant Ratio in Names by Gender',\n",
    "    xaxis_title='Vowel/Consonant Ratio',\n",
    "    yaxis_title='Normalized Count',\n",
    "    barmode='group',\n",
    "    xaxis=dict(tickangle=0),\n",
    "    font=dict(size=14),\n",
    "    margin=dict(l=50, r=50, t=50, b=50)\n",
    ")\n",
    "\n",
    "fig.show()"
   ]
  },
  {
   "cell_type": "code",
   "execution_count": 332,
   "metadata": {},
   "outputs": [
    {
     "name": "stdout",
     "output_type": "stream",
     "text": [
      "Length:\n",
      "T-statistique : 3.1889\n",
      "P-value : 0.0014285630148382817\n",
      "\n"
     ]
    }
   ],
   "source": [
    "ratio_m = character_names_processed[character_names_processed['Sex'] == 'M']['Consonant Count']\n",
    "ratio_f = character_names_processed[character_names_processed['Sex'] == 'F']['Consonant Count']\n",
    "\n",
    "# T-Test\n",
    "print(\"Length:\")\n",
    "t_stat, p_value = ttest_ind(ratio_m, ratio_f, equal_var=False)  \n",
    "print(f\"T-statistique : {t_stat:.4f}\")\n",
    "print(f\"P-value : {p_value}\\n\")"
   ]
  },
  {
   "cell_type": "markdown",
   "metadata": {},
   "source": [
    "The t-test reveals a significant difference between the two groups. This suggests that, on average, female names contain a relatively higher proportion of vowels compared to male names. Although the difference might seem subtle visually, statistical analysis confirms its significance."
   ]
  },
  {
   "cell_type": "code",
   "execution_count": 333,
   "metadata": {},
   "outputs": [
    {
     "data": {
      "application/vnd.plotly.v1+json": {
       "config": {
        "plotlyServerURL": "https://plot.ly"
       },
       "data": [
        {
         "hoverinfo": "text",
         "hovertext": [
          "Top names: Steve, Sam, Simon",
          "Top names: John, James, Jack",
          "Top names: Michael, Max, Mike",
          "Top names: Robert, Richard, Roy",
          "Top names: Bob, Bill, Billy",
          "Top names: Arthur, Alex, Adam",
          "Top names: Charlie, Charles, Chris",
          "Top names: David, Danny, Dave",
          "Top names: Paul, Peter, Phil",
          "Top names: George, Guy, Gary",
          "Top names: Tom, Thomas, Tony",
          "Top names: Harry, Henry, Howard",
          "Top names: Kevin, Karl, Kid",
          "Top names: Louis, Larry, Leo",
          "Top names: Frank, Fred, Francis",
          "Top names: William, Walter, Wilson",
          "Top names: Eddie, Ed, Edward",
          "Top names: Nick, Norman, Neil",
          "Top names: Vijay, Vikram, Victor",
          "Top names: Oliver, Oscar, Owen",
          "Top names: Ivan, Il, Ian",
          "Top names: Yosemite, Yuri, Yu",
          "Top names: Zack, Zach, Zeke",
          "Top names: Uday, Ulysses, Usman",
          "Top names: Quentin, Quinn, Quincy",
          "Top names: Xavier, Xiao, Xander"
         ],
         "marker": {
          "color": "skyblue"
         },
         "name": "Male",
         "type": "bar",
         "x": [
          "s",
          "j",
          "m",
          "r",
          "b",
          "a",
          "c",
          "d",
          "p",
          "g",
          "t",
          "h",
          "k",
          "l",
          "f",
          "w",
          "e",
          "n",
          "v",
          "o",
          "i",
          "y",
          "z",
          "u",
          "q",
          "x"
         ],
         "y": [
          0.08327948220861413,
          0.08191525371572761,
          0.07744304602476126,
          0.0691551014965484,
          0.06674462258054589,
          0.06223138546122206,
          0.06033377439968818,
          0.05885671497881856,
          0.0478608281790114,
          0.046629945328286716,
          0.04638376875814178,
          0.04519391533577458,
          0.041275604927634345,
          0.03871126565529126,
          0.031192622908781324,
          0.03024894605655907,
          0.027499974356607275,
          0.023735524304807624,
          0.02214563395595491,
          0.010831769086377204,
          0.009713717163635617,
          0.006010811254372198,
          0.005990296540193453,
          0.0030669497697223334,
          0.0021950744171256834,
          0.0007898164958816712
         ]
        },
        {
         "hoverinfo": "text",
         "hovertext": [
          "Top names: Sarah, Susan, Sara",
          "Top names: Julie, Jane, Jennifer",
          "Top names: Mary, Marie, Maggie",
          "Top names: Rachel, Rose, Rebecca",
          "Top names: Barbara, Betty, Beth",
          "Top names: Alice, Anna, Anne",
          "Top names: Claire, Charlotte, Catherine",
          "Top names: Diane, Diana, Dorothy",
          "Top names: Priya, Pooja, Paula",
          "Top names: Gloria, Grace, Gina",
          "Top names: Tina, Tanya, Tracy",
          "Top names: Helen, Hannah, Heather",
          "Top names: Kate, Karen, Katie",
          "Top names: Lisa, Linda, La",
          "Top names: Frau, Frances, Fiona",
          "Top names: Wendy, Wanda, Williams",
          "Top names: Elizabeth, Emily, Ellen",
          "Top names: Nina, Nicole, Nancy",
          "Top names: Victoria, Vanessa, Valerie",
          "Top names: Olivia, Olga, Ophelia",
          "Top names: Isabelle, Isabel, Irene",
          "Top names: Yvonne, Yvette, Yolanda",
          "Top names: Zoe, Zoey, Zora",
          "Top names: Ursula, Usha, Uma",
          "Top names: Quinn, Queenie, Qiu",
          "Top names: Xiao, Xu, Ximena"
         ],
         "marker": {
          "color": "salmon"
         },
         "name": "Female",
         "type": "bar",
         "x": [
          "s",
          "j",
          "m",
          "r",
          "b",
          "a",
          "c",
          "d",
          "p",
          "g",
          "t",
          "h",
          "k",
          "l",
          "f",
          "w",
          "e",
          "n",
          "v",
          "o",
          "i",
          "y",
          "z",
          "u",
          "q",
          "x"
         ],
         "y": [
          0.10330899213320634,
          0.06141743394362719,
          0.11122870144988888,
          0.04958196634564504,
          0.04940558083747839,
          0.08037887607154197,
          0.07436413024305923,
          0.04321444950082901,
          0.0383462094754295,
          0.03637069178396303,
          0.033513246551663316,
          0.032349102197763435,
          0.045930786326595405,
          0.06826119166049317,
          0.021466116343881188,
          0.014516527322115214,
          0.04351430486471231,
          0.03310755988288002,
          0.021342646488164533,
          0.007566938300349243,
          0.013105443256782022,
          0.006314601192366035,
          0.005820721769499418,
          0.0031396620453663527,
          0.0009701202949165697,
          0.0008995660916499101
         ]
        }
       ],
       "layout": {
        "barmode": "group",
        "template": {
         "data": {
          "bar": [
           {
            "error_x": {
             "color": "#2a3f5f"
            },
            "error_y": {
             "color": "#2a3f5f"
            },
            "marker": {
             "line": {
              "color": "#E5ECF6",
              "width": 0.5
             },
             "pattern": {
              "fillmode": "overlay",
              "size": 10,
              "solidity": 0.2
             }
            },
            "type": "bar"
           }
          ],
          "barpolar": [
           {
            "marker": {
             "line": {
              "color": "#E5ECF6",
              "width": 0.5
             },
             "pattern": {
              "fillmode": "overlay",
              "size": 10,
              "solidity": 0.2
             }
            },
            "type": "barpolar"
           }
          ],
          "carpet": [
           {
            "aaxis": {
             "endlinecolor": "#2a3f5f",
             "gridcolor": "white",
             "linecolor": "white",
             "minorgridcolor": "white",
             "startlinecolor": "#2a3f5f"
            },
            "baxis": {
             "endlinecolor": "#2a3f5f",
             "gridcolor": "white",
             "linecolor": "white",
             "minorgridcolor": "white",
             "startlinecolor": "#2a3f5f"
            },
            "type": "carpet"
           }
          ],
          "choropleth": [
           {
            "colorbar": {
             "outlinewidth": 0,
             "ticks": ""
            },
            "type": "choropleth"
           }
          ],
          "contour": [
           {
            "colorbar": {
             "outlinewidth": 0,
             "ticks": ""
            },
            "colorscale": [
             [
              0,
              "#0d0887"
             ],
             [
              0.1111111111111111,
              "#46039f"
             ],
             [
              0.2222222222222222,
              "#7201a8"
             ],
             [
              0.3333333333333333,
              "#9c179e"
             ],
             [
              0.4444444444444444,
              "#bd3786"
             ],
             [
              0.5555555555555556,
              "#d8576b"
             ],
             [
              0.6666666666666666,
              "#ed7953"
             ],
             [
              0.7777777777777778,
              "#fb9f3a"
             ],
             [
              0.8888888888888888,
              "#fdca26"
             ],
             [
              1,
              "#f0f921"
             ]
            ],
            "type": "contour"
           }
          ],
          "contourcarpet": [
           {
            "colorbar": {
             "outlinewidth": 0,
             "ticks": ""
            },
            "type": "contourcarpet"
           }
          ],
          "heatmap": [
           {
            "colorbar": {
             "outlinewidth": 0,
             "ticks": ""
            },
            "colorscale": [
             [
              0,
              "#0d0887"
             ],
             [
              0.1111111111111111,
              "#46039f"
             ],
             [
              0.2222222222222222,
              "#7201a8"
             ],
             [
              0.3333333333333333,
              "#9c179e"
             ],
             [
              0.4444444444444444,
              "#bd3786"
             ],
             [
              0.5555555555555556,
              "#d8576b"
             ],
             [
              0.6666666666666666,
              "#ed7953"
             ],
             [
              0.7777777777777778,
              "#fb9f3a"
             ],
             [
              0.8888888888888888,
              "#fdca26"
             ],
             [
              1,
              "#f0f921"
             ]
            ],
            "type": "heatmap"
           }
          ],
          "heatmapgl": [
           {
            "colorbar": {
             "outlinewidth": 0,
             "ticks": ""
            },
            "colorscale": [
             [
              0,
              "#0d0887"
             ],
             [
              0.1111111111111111,
              "#46039f"
             ],
             [
              0.2222222222222222,
              "#7201a8"
             ],
             [
              0.3333333333333333,
              "#9c179e"
             ],
             [
              0.4444444444444444,
              "#bd3786"
             ],
             [
              0.5555555555555556,
              "#d8576b"
             ],
             [
              0.6666666666666666,
              "#ed7953"
             ],
             [
              0.7777777777777778,
              "#fb9f3a"
             ],
             [
              0.8888888888888888,
              "#fdca26"
             ],
             [
              1,
              "#f0f921"
             ]
            ],
            "type": "heatmapgl"
           }
          ],
          "histogram": [
           {
            "marker": {
             "pattern": {
              "fillmode": "overlay",
              "size": 10,
              "solidity": 0.2
             }
            },
            "type": "histogram"
           }
          ],
          "histogram2d": [
           {
            "colorbar": {
             "outlinewidth": 0,
             "ticks": ""
            },
            "colorscale": [
             [
              0,
              "#0d0887"
             ],
             [
              0.1111111111111111,
              "#46039f"
             ],
             [
              0.2222222222222222,
              "#7201a8"
             ],
             [
              0.3333333333333333,
              "#9c179e"
             ],
             [
              0.4444444444444444,
              "#bd3786"
             ],
             [
              0.5555555555555556,
              "#d8576b"
             ],
             [
              0.6666666666666666,
              "#ed7953"
             ],
             [
              0.7777777777777778,
              "#fb9f3a"
             ],
             [
              0.8888888888888888,
              "#fdca26"
             ],
             [
              1,
              "#f0f921"
             ]
            ],
            "type": "histogram2d"
           }
          ],
          "histogram2dcontour": [
           {
            "colorbar": {
             "outlinewidth": 0,
             "ticks": ""
            },
            "colorscale": [
             [
              0,
              "#0d0887"
             ],
             [
              0.1111111111111111,
              "#46039f"
             ],
             [
              0.2222222222222222,
              "#7201a8"
             ],
             [
              0.3333333333333333,
              "#9c179e"
             ],
             [
              0.4444444444444444,
              "#bd3786"
             ],
             [
              0.5555555555555556,
              "#d8576b"
             ],
             [
              0.6666666666666666,
              "#ed7953"
             ],
             [
              0.7777777777777778,
              "#fb9f3a"
             ],
             [
              0.8888888888888888,
              "#fdca26"
             ],
             [
              1,
              "#f0f921"
             ]
            ],
            "type": "histogram2dcontour"
           }
          ],
          "mesh3d": [
           {
            "colorbar": {
             "outlinewidth": 0,
             "ticks": ""
            },
            "type": "mesh3d"
           }
          ],
          "parcoords": [
           {
            "line": {
             "colorbar": {
              "outlinewidth": 0,
              "ticks": ""
             }
            },
            "type": "parcoords"
           }
          ],
          "pie": [
           {
            "automargin": true,
            "type": "pie"
           }
          ],
          "scatter": [
           {
            "fillpattern": {
             "fillmode": "overlay",
             "size": 10,
             "solidity": 0.2
            },
            "type": "scatter"
           }
          ],
          "scatter3d": [
           {
            "line": {
             "colorbar": {
              "outlinewidth": 0,
              "ticks": ""
             }
            },
            "marker": {
             "colorbar": {
              "outlinewidth": 0,
              "ticks": ""
             }
            },
            "type": "scatter3d"
           }
          ],
          "scattercarpet": [
           {
            "marker": {
             "colorbar": {
              "outlinewidth": 0,
              "ticks": ""
             }
            },
            "type": "scattercarpet"
           }
          ],
          "scattergeo": [
           {
            "marker": {
             "colorbar": {
              "outlinewidth": 0,
              "ticks": ""
             }
            },
            "type": "scattergeo"
           }
          ],
          "scattergl": [
           {
            "marker": {
             "colorbar": {
              "outlinewidth": 0,
              "ticks": ""
             }
            },
            "type": "scattergl"
           }
          ],
          "scattermapbox": [
           {
            "marker": {
             "colorbar": {
              "outlinewidth": 0,
              "ticks": ""
             }
            },
            "type": "scattermapbox"
           }
          ],
          "scatterpolar": [
           {
            "marker": {
             "colorbar": {
              "outlinewidth": 0,
              "ticks": ""
             }
            },
            "type": "scatterpolar"
           }
          ],
          "scatterpolargl": [
           {
            "marker": {
             "colorbar": {
              "outlinewidth": 0,
              "ticks": ""
             }
            },
            "type": "scatterpolargl"
           }
          ],
          "scatterternary": [
           {
            "marker": {
             "colorbar": {
              "outlinewidth": 0,
              "ticks": ""
             }
            },
            "type": "scatterternary"
           }
          ],
          "surface": [
           {
            "colorbar": {
             "outlinewidth": 0,
             "ticks": ""
            },
            "colorscale": [
             [
              0,
              "#0d0887"
             ],
             [
              0.1111111111111111,
              "#46039f"
             ],
             [
              0.2222222222222222,
              "#7201a8"
             ],
             [
              0.3333333333333333,
              "#9c179e"
             ],
             [
              0.4444444444444444,
              "#bd3786"
             ],
             [
              0.5555555555555556,
              "#d8576b"
             ],
             [
              0.6666666666666666,
              "#ed7953"
             ],
             [
              0.7777777777777778,
              "#fb9f3a"
             ],
             [
              0.8888888888888888,
              "#fdca26"
             ],
             [
              1,
              "#f0f921"
             ]
            ],
            "type": "surface"
           }
          ],
          "table": [
           {
            "cells": {
             "fill": {
              "color": "#EBF0F8"
             },
             "line": {
              "color": "white"
             }
            },
            "header": {
             "fill": {
              "color": "#C8D4E3"
             },
             "line": {
              "color": "white"
             }
            },
            "type": "table"
           }
          ]
         },
         "layout": {
          "annotationdefaults": {
           "arrowcolor": "#2a3f5f",
           "arrowhead": 0,
           "arrowwidth": 1
          },
          "autotypenumbers": "strict",
          "coloraxis": {
           "colorbar": {
            "outlinewidth": 0,
            "ticks": ""
           }
          },
          "colorscale": {
           "diverging": [
            [
             0,
             "#8e0152"
            ],
            [
             0.1,
             "#c51b7d"
            ],
            [
             0.2,
             "#de77ae"
            ],
            [
             0.3,
             "#f1b6da"
            ],
            [
             0.4,
             "#fde0ef"
            ],
            [
             0.5,
             "#f7f7f7"
            ],
            [
             0.6,
             "#e6f5d0"
            ],
            [
             0.7,
             "#b8e186"
            ],
            [
             0.8,
             "#7fbc41"
            ],
            [
             0.9,
             "#4d9221"
            ],
            [
             1,
             "#276419"
            ]
           ],
           "sequential": [
            [
             0,
             "#0d0887"
            ],
            [
             0.1111111111111111,
             "#46039f"
            ],
            [
             0.2222222222222222,
             "#7201a8"
            ],
            [
             0.3333333333333333,
             "#9c179e"
            ],
            [
             0.4444444444444444,
             "#bd3786"
            ],
            [
             0.5555555555555556,
             "#d8576b"
            ],
            [
             0.6666666666666666,
             "#ed7953"
            ],
            [
             0.7777777777777778,
             "#fb9f3a"
            ],
            [
             0.8888888888888888,
             "#fdca26"
            ],
            [
             1,
             "#f0f921"
            ]
           ],
           "sequentialminus": [
            [
             0,
             "#0d0887"
            ],
            [
             0.1111111111111111,
             "#46039f"
            ],
            [
             0.2222222222222222,
             "#7201a8"
            ],
            [
             0.3333333333333333,
             "#9c179e"
            ],
            [
             0.4444444444444444,
             "#bd3786"
            ],
            [
             0.5555555555555556,
             "#d8576b"
            ],
            [
             0.6666666666666666,
             "#ed7953"
            ],
            [
             0.7777777777777778,
             "#fb9f3a"
            ],
            [
             0.8888888888888888,
             "#fdca26"
            ],
            [
             1,
             "#f0f921"
            ]
           ]
          },
          "colorway": [
           "#636efa",
           "#EF553B",
           "#00cc96",
           "#ab63fa",
           "#FFA15A",
           "#19d3f3",
           "#FF6692",
           "#B6E880",
           "#FF97FF",
           "#FECB52"
          ],
          "font": {
           "color": "#2a3f5f"
          },
          "geo": {
           "bgcolor": "white",
           "lakecolor": "white",
           "landcolor": "#E5ECF6",
           "showlakes": true,
           "showland": true,
           "subunitcolor": "white"
          },
          "hoverlabel": {
           "align": "left"
          },
          "hovermode": "closest",
          "mapbox": {
           "style": "light"
          },
          "paper_bgcolor": "white",
          "plot_bgcolor": "#E5ECF6",
          "polar": {
           "angularaxis": {
            "gridcolor": "white",
            "linecolor": "white",
            "ticks": ""
           },
           "bgcolor": "#E5ECF6",
           "radialaxis": {
            "gridcolor": "white",
            "linecolor": "white",
            "ticks": ""
           }
          },
          "scene": {
           "xaxis": {
            "backgroundcolor": "#E5ECF6",
            "gridcolor": "white",
            "gridwidth": 2,
            "linecolor": "white",
            "showbackground": true,
            "ticks": "",
            "zerolinecolor": "white"
           },
           "yaxis": {
            "backgroundcolor": "#E5ECF6",
            "gridcolor": "white",
            "gridwidth": 2,
            "linecolor": "white",
            "showbackground": true,
            "ticks": "",
            "zerolinecolor": "white"
           },
           "zaxis": {
            "backgroundcolor": "#E5ECF6",
            "gridcolor": "white",
            "gridwidth": 2,
            "linecolor": "white",
            "showbackground": true,
            "ticks": "",
            "zerolinecolor": "white"
           }
          },
          "shapedefaults": {
           "line": {
            "color": "#2a3f5f"
           }
          },
          "ternary": {
           "aaxis": {
            "gridcolor": "white",
            "linecolor": "white",
            "ticks": ""
           },
           "baxis": {
            "gridcolor": "white",
            "linecolor": "white",
            "ticks": ""
           },
           "bgcolor": "#E5ECF6",
           "caxis": {
            "gridcolor": "white",
            "linecolor": "white",
            "ticks": ""
           }
          },
          "title": {
           "x": 0.05
          },
          "xaxis": {
           "automargin": true,
           "gridcolor": "white",
           "linecolor": "white",
           "ticks": "",
           "title": {
            "standoff": 15
           },
           "zerolinecolor": "white",
           "zerolinewidth": 2
          },
          "yaxis": {
           "automargin": true,
           "gridcolor": "white",
           "linecolor": "white",
           "ticks": "",
           "title": {
            "standoff": 15
           },
           "zerolinecolor": "white",
           "zerolinewidth": 2
          }
         }
        },
        "title": {
         "text": "Distribution of Names Starting by each Letter by Gender"
        },
        "xaxis": {
         "title": {
          "text": "Letter"
         }
        },
        "yaxis": {
         "ticksuffix": "%",
         "title": {
          "text": "Normalized Count"
         }
        }
       }
      }
     },
     "metadata": {},
     "output_type": "display_data"
    },
    {
     "data": {
      "application/vnd.plotly.v1+json": {
       "config": {
        "plotlyServerURL": "https://plot.ly"
       },
       "data": [
        {
         "hoverinfo": "text",
         "hovertext": [
          "Top names: John, Simon, Kevin",
          "Top names: George, Charlie, Joe",
          "Top names: Johnny, Danny, Harry",
          "Top names: James, Charles, Thomas",
          "Top names: Arthur, Peter, Walter",
          "Top names: Paul, Michael, Bill",
          "Top names: David, Richard, Ed",
          "Top names: Leo, Antonio, Bruno",
          "Top names: Robert, Matt, Scott",
          "Top names: Santa, Krishna, Joshua",
          "Top names: Tom, Jim, William",
          "Top names: Ravi, Ali, Jai",
          "Top names: Jack, Frank, Nick",
          "Top names: Joseph, Josh, Mitch",
          "Top names: Lou, Raju, Stu",
          "Top names: Doug, King, Greg",
          "Top names: Max, Alex, Felix",
          "Top names: Franz, Fritz, Heinz",
          "Top names: Bob, Jacob, Rob",
          "Top names: Philip, Phillip, Pratap",
          "Top names: Eric, Vic, Mac",
          "Top names: Jeff, Wolf, Josef",
          "Top names: Andrew, Matthew, Drew",
          "Top names: Rajiv, Gustav, Yadav",
          "Top names: Suraj, Raj, Manoj",
          "Top names: André, José, René"
         ],
         "marker": {
          "color": "skyblue"
         },
         "name": "Male",
         "type": "bar",
         "x": [
          "n",
          "e",
          "y",
          "s",
          "r",
          "l",
          "d",
          "o",
          "t",
          "a",
          "m",
          "i",
          "k",
          "h",
          "u",
          "g",
          "x",
          "z",
          "b",
          "p",
          "c",
          "f",
          "w",
          "v",
          "j",
          "é"
         ],
         "y": [
          0.15987116759495748,
          0.10437886574145305,
          0.09667559056733442,
          0.0927162507308367,
          0.07326830168938671,
          0.0597696197597727,
          0.05836436183852869,
          0.05248689622631832,
          0.043162958632078856,
          0.03812659630119703,
          0.037921449159409586,
          0.037757331445979626,
          0.031069534623708855,
          0.027807695069288447,
          0.016709234698587563,
          0.013478167215435271,
          0.008944415381932691,
          0.007446841246884328,
          0.006544193823019561,
          0.006226215753249018,
          0.006174928967802156,
          0.0061031274681765495,
          0.004800443117826261,
          0.004615810690217558,
          0.0030464350555435885,
          0.0011180519227415864
         ]
        },
        {
         "hoverinfo": "text",
         "hovertext": [
          "Top names: Helen, Susan, Karen",
          "Top names: Alice, Kate, Julie",
          "Top names: Mary, Emily, Amy",
          "Top names: Doris, Frances, Iris",
          "Top names: Jennifer, Heather, Eleanor",
          "Top names: Rachel, Carol, Jill",
          "Top names: Girlfriend, Ingrid, Red",
          "Top names: Margo, Jo, Flo",
          "Top names: Margaret, Janet, Harriet",
          "Top names: Lisa, Barbara, Anna",
          "Top names: Kim, Miriam, Pam",
          "Top names: Anjali, Shanti, Nikki",
          "Top names: Park, Jack, Chadwick",
          "Top names: Sarah, Elizabeth, Beth",
          "Top names: Frau, Madhu, Lou",
          "Top names: Meg, Peg, Ying",
          "Top names: Alex, Max, Beatrix",
          "Top names: Liz, Inez, Roz",
          "Top names: Barb, Deb, Nightclub",
          "Top names: Boop, Miep, Lemp",
          "Top names: Mac, Vic, Isaac",
          "Top names: Sif, Wolff, Lamonsoff",
          "Top names: Willow, Vrouw, Mevrouw",
          "Top names: Bev, Viv, Liv",
          "Top names: Saroj, Asajj, Yuvraj",
          "Top names: Chloé, Zoé, Padmé"
         ],
         "marker": {
          "color": "salmon"
         },
         "name": "Female",
         "type": "bar",
         "x": [
          "n",
          "e",
          "y",
          "s",
          "r",
          "l",
          "d",
          "o",
          "t",
          "a",
          "m",
          "i",
          "k",
          "h",
          "u",
          "g",
          "x",
          "z",
          "b",
          "p",
          "c",
          "f",
          "w",
          "v",
          "j",
          "é"
         ],
         "y": [
          0.09366070483649064,
          0.20483649063392953,
          0.10524923272303947,
          0.03792288425582954,
          0.02571700709069743,
          0.032331463646946765,
          0.012470455427382086,
          0.016756623275831658,
          0.020160863583447985,
          0.30855116943591915,
          0.008237203231382509,
          0.06644442092637669,
          0.004303806399266237,
          0.029050693195047095,
          0.012752672240448725,
          0.005520866405616115,
          0.00276925247821639,
          0.0050622640843828275,
          0.0011641443538998836,
          0.0010759515998165592,
          0.0006173492785832716,
          0.000917204642466575,
          0.0017462165308498253,
          0.000723180583483261,
          0.00026457826224997354,
          0.0007760962359332557
         ]
        }
       ],
       "layout": {
        "barmode": "group",
        "template": {
         "data": {
          "bar": [
           {
            "error_x": {
             "color": "#2a3f5f"
            },
            "error_y": {
             "color": "#2a3f5f"
            },
            "marker": {
             "line": {
              "color": "#E5ECF6",
              "width": 0.5
             },
             "pattern": {
              "fillmode": "overlay",
              "size": 10,
              "solidity": 0.2
             }
            },
            "type": "bar"
           }
          ],
          "barpolar": [
           {
            "marker": {
             "line": {
              "color": "#E5ECF6",
              "width": 0.5
             },
             "pattern": {
              "fillmode": "overlay",
              "size": 10,
              "solidity": 0.2
             }
            },
            "type": "barpolar"
           }
          ],
          "carpet": [
           {
            "aaxis": {
             "endlinecolor": "#2a3f5f",
             "gridcolor": "white",
             "linecolor": "white",
             "minorgridcolor": "white",
             "startlinecolor": "#2a3f5f"
            },
            "baxis": {
             "endlinecolor": "#2a3f5f",
             "gridcolor": "white",
             "linecolor": "white",
             "minorgridcolor": "white",
             "startlinecolor": "#2a3f5f"
            },
            "type": "carpet"
           }
          ],
          "choropleth": [
           {
            "colorbar": {
             "outlinewidth": 0,
             "ticks": ""
            },
            "type": "choropleth"
           }
          ],
          "contour": [
           {
            "colorbar": {
             "outlinewidth": 0,
             "ticks": ""
            },
            "colorscale": [
             [
              0,
              "#0d0887"
             ],
             [
              0.1111111111111111,
              "#46039f"
             ],
             [
              0.2222222222222222,
              "#7201a8"
             ],
             [
              0.3333333333333333,
              "#9c179e"
             ],
             [
              0.4444444444444444,
              "#bd3786"
             ],
             [
              0.5555555555555556,
              "#d8576b"
             ],
             [
              0.6666666666666666,
              "#ed7953"
             ],
             [
              0.7777777777777778,
              "#fb9f3a"
             ],
             [
              0.8888888888888888,
              "#fdca26"
             ],
             [
              1,
              "#f0f921"
             ]
            ],
            "type": "contour"
           }
          ],
          "contourcarpet": [
           {
            "colorbar": {
             "outlinewidth": 0,
             "ticks": ""
            },
            "type": "contourcarpet"
           }
          ],
          "heatmap": [
           {
            "colorbar": {
             "outlinewidth": 0,
             "ticks": ""
            },
            "colorscale": [
             [
              0,
              "#0d0887"
             ],
             [
              0.1111111111111111,
              "#46039f"
             ],
             [
              0.2222222222222222,
              "#7201a8"
             ],
             [
              0.3333333333333333,
              "#9c179e"
             ],
             [
              0.4444444444444444,
              "#bd3786"
             ],
             [
              0.5555555555555556,
              "#d8576b"
             ],
             [
              0.6666666666666666,
              "#ed7953"
             ],
             [
              0.7777777777777778,
              "#fb9f3a"
             ],
             [
              0.8888888888888888,
              "#fdca26"
             ],
             [
              1,
              "#f0f921"
             ]
            ],
            "type": "heatmap"
           }
          ],
          "heatmapgl": [
           {
            "colorbar": {
             "outlinewidth": 0,
             "ticks": ""
            },
            "colorscale": [
             [
              0,
              "#0d0887"
             ],
             [
              0.1111111111111111,
              "#46039f"
             ],
             [
              0.2222222222222222,
              "#7201a8"
             ],
             [
              0.3333333333333333,
              "#9c179e"
             ],
             [
              0.4444444444444444,
              "#bd3786"
             ],
             [
              0.5555555555555556,
              "#d8576b"
             ],
             [
              0.6666666666666666,
              "#ed7953"
             ],
             [
              0.7777777777777778,
              "#fb9f3a"
             ],
             [
              0.8888888888888888,
              "#fdca26"
             ],
             [
              1,
              "#f0f921"
             ]
            ],
            "type": "heatmapgl"
           }
          ],
          "histogram": [
           {
            "marker": {
             "pattern": {
              "fillmode": "overlay",
              "size": 10,
              "solidity": 0.2
             }
            },
            "type": "histogram"
           }
          ],
          "histogram2d": [
           {
            "colorbar": {
             "outlinewidth": 0,
             "ticks": ""
            },
            "colorscale": [
             [
              0,
              "#0d0887"
             ],
             [
              0.1111111111111111,
              "#46039f"
             ],
             [
              0.2222222222222222,
              "#7201a8"
             ],
             [
              0.3333333333333333,
              "#9c179e"
             ],
             [
              0.4444444444444444,
              "#bd3786"
             ],
             [
              0.5555555555555556,
              "#d8576b"
             ],
             [
              0.6666666666666666,
              "#ed7953"
             ],
             [
              0.7777777777777778,
              "#fb9f3a"
             ],
             [
              0.8888888888888888,
              "#fdca26"
             ],
             [
              1,
              "#f0f921"
             ]
            ],
            "type": "histogram2d"
           }
          ],
          "histogram2dcontour": [
           {
            "colorbar": {
             "outlinewidth": 0,
             "ticks": ""
            },
            "colorscale": [
             [
              0,
              "#0d0887"
             ],
             [
              0.1111111111111111,
              "#46039f"
             ],
             [
              0.2222222222222222,
              "#7201a8"
             ],
             [
              0.3333333333333333,
              "#9c179e"
             ],
             [
              0.4444444444444444,
              "#bd3786"
             ],
             [
              0.5555555555555556,
              "#d8576b"
             ],
             [
              0.6666666666666666,
              "#ed7953"
             ],
             [
              0.7777777777777778,
              "#fb9f3a"
             ],
             [
              0.8888888888888888,
              "#fdca26"
             ],
             [
              1,
              "#f0f921"
             ]
            ],
            "type": "histogram2dcontour"
           }
          ],
          "mesh3d": [
           {
            "colorbar": {
             "outlinewidth": 0,
             "ticks": ""
            },
            "type": "mesh3d"
           }
          ],
          "parcoords": [
           {
            "line": {
             "colorbar": {
              "outlinewidth": 0,
              "ticks": ""
             }
            },
            "type": "parcoords"
           }
          ],
          "pie": [
           {
            "automargin": true,
            "type": "pie"
           }
          ],
          "scatter": [
           {
            "fillpattern": {
             "fillmode": "overlay",
             "size": 10,
             "solidity": 0.2
            },
            "type": "scatter"
           }
          ],
          "scatter3d": [
           {
            "line": {
             "colorbar": {
              "outlinewidth": 0,
              "ticks": ""
             }
            },
            "marker": {
             "colorbar": {
              "outlinewidth": 0,
              "ticks": ""
             }
            },
            "type": "scatter3d"
           }
          ],
          "scattercarpet": [
           {
            "marker": {
             "colorbar": {
              "outlinewidth": 0,
              "ticks": ""
             }
            },
            "type": "scattercarpet"
           }
          ],
          "scattergeo": [
           {
            "marker": {
             "colorbar": {
              "outlinewidth": 0,
              "ticks": ""
             }
            },
            "type": "scattergeo"
           }
          ],
          "scattergl": [
           {
            "marker": {
             "colorbar": {
              "outlinewidth": 0,
              "ticks": ""
             }
            },
            "type": "scattergl"
           }
          ],
          "scattermapbox": [
           {
            "marker": {
             "colorbar": {
              "outlinewidth": 0,
              "ticks": ""
             }
            },
            "type": "scattermapbox"
           }
          ],
          "scatterpolar": [
           {
            "marker": {
             "colorbar": {
              "outlinewidth": 0,
              "ticks": ""
             }
            },
            "type": "scatterpolar"
           }
          ],
          "scatterpolargl": [
           {
            "marker": {
             "colorbar": {
              "outlinewidth": 0,
              "ticks": ""
             }
            },
            "type": "scatterpolargl"
           }
          ],
          "scatterternary": [
           {
            "marker": {
             "colorbar": {
              "outlinewidth": 0,
              "ticks": ""
             }
            },
            "type": "scatterternary"
           }
          ],
          "surface": [
           {
            "colorbar": {
             "outlinewidth": 0,
             "ticks": ""
            },
            "colorscale": [
             [
              0,
              "#0d0887"
             ],
             [
              0.1111111111111111,
              "#46039f"
             ],
             [
              0.2222222222222222,
              "#7201a8"
             ],
             [
              0.3333333333333333,
              "#9c179e"
             ],
             [
              0.4444444444444444,
              "#bd3786"
             ],
             [
              0.5555555555555556,
              "#d8576b"
             ],
             [
              0.6666666666666666,
              "#ed7953"
             ],
             [
              0.7777777777777778,
              "#fb9f3a"
             ],
             [
              0.8888888888888888,
              "#fdca26"
             ],
             [
              1,
              "#f0f921"
             ]
            ],
            "type": "surface"
           }
          ],
          "table": [
           {
            "cells": {
             "fill": {
              "color": "#EBF0F8"
             },
             "line": {
              "color": "white"
             }
            },
            "header": {
             "fill": {
              "color": "#C8D4E3"
             },
             "line": {
              "color": "white"
             }
            },
            "type": "table"
           }
          ]
         },
         "layout": {
          "annotationdefaults": {
           "arrowcolor": "#2a3f5f",
           "arrowhead": 0,
           "arrowwidth": 1
          },
          "autotypenumbers": "strict",
          "coloraxis": {
           "colorbar": {
            "outlinewidth": 0,
            "ticks": ""
           }
          },
          "colorscale": {
           "diverging": [
            [
             0,
             "#8e0152"
            ],
            [
             0.1,
             "#c51b7d"
            ],
            [
             0.2,
             "#de77ae"
            ],
            [
             0.3,
             "#f1b6da"
            ],
            [
             0.4,
             "#fde0ef"
            ],
            [
             0.5,
             "#f7f7f7"
            ],
            [
             0.6,
             "#e6f5d0"
            ],
            [
             0.7,
             "#b8e186"
            ],
            [
             0.8,
             "#7fbc41"
            ],
            [
             0.9,
             "#4d9221"
            ],
            [
             1,
             "#276419"
            ]
           ],
           "sequential": [
            [
             0,
             "#0d0887"
            ],
            [
             0.1111111111111111,
             "#46039f"
            ],
            [
             0.2222222222222222,
             "#7201a8"
            ],
            [
             0.3333333333333333,
             "#9c179e"
            ],
            [
             0.4444444444444444,
             "#bd3786"
            ],
            [
             0.5555555555555556,
             "#d8576b"
            ],
            [
             0.6666666666666666,
             "#ed7953"
            ],
            [
             0.7777777777777778,
             "#fb9f3a"
            ],
            [
             0.8888888888888888,
             "#fdca26"
            ],
            [
             1,
             "#f0f921"
            ]
           ],
           "sequentialminus": [
            [
             0,
             "#0d0887"
            ],
            [
             0.1111111111111111,
             "#46039f"
            ],
            [
             0.2222222222222222,
             "#7201a8"
            ],
            [
             0.3333333333333333,
             "#9c179e"
            ],
            [
             0.4444444444444444,
             "#bd3786"
            ],
            [
             0.5555555555555556,
             "#d8576b"
            ],
            [
             0.6666666666666666,
             "#ed7953"
            ],
            [
             0.7777777777777778,
             "#fb9f3a"
            ],
            [
             0.8888888888888888,
             "#fdca26"
            ],
            [
             1,
             "#f0f921"
            ]
           ]
          },
          "colorway": [
           "#636efa",
           "#EF553B",
           "#00cc96",
           "#ab63fa",
           "#FFA15A",
           "#19d3f3",
           "#FF6692",
           "#B6E880",
           "#FF97FF",
           "#FECB52"
          ],
          "font": {
           "color": "#2a3f5f"
          },
          "geo": {
           "bgcolor": "white",
           "lakecolor": "white",
           "landcolor": "#E5ECF6",
           "showlakes": true,
           "showland": true,
           "subunitcolor": "white"
          },
          "hoverlabel": {
           "align": "left"
          },
          "hovermode": "closest",
          "mapbox": {
           "style": "light"
          },
          "paper_bgcolor": "white",
          "plot_bgcolor": "#E5ECF6",
          "polar": {
           "angularaxis": {
            "gridcolor": "white",
            "linecolor": "white",
            "ticks": ""
           },
           "bgcolor": "#E5ECF6",
           "radialaxis": {
            "gridcolor": "white",
            "linecolor": "white",
            "ticks": ""
           }
          },
          "scene": {
           "xaxis": {
            "backgroundcolor": "#E5ECF6",
            "gridcolor": "white",
            "gridwidth": 2,
            "linecolor": "white",
            "showbackground": true,
            "ticks": "",
            "zerolinecolor": "white"
           },
           "yaxis": {
            "backgroundcolor": "#E5ECF6",
            "gridcolor": "white",
            "gridwidth": 2,
            "linecolor": "white",
            "showbackground": true,
            "ticks": "",
            "zerolinecolor": "white"
           },
           "zaxis": {
            "backgroundcolor": "#E5ECF6",
            "gridcolor": "white",
            "gridwidth": 2,
            "linecolor": "white",
            "showbackground": true,
            "ticks": "",
            "zerolinecolor": "white"
           }
          },
          "shapedefaults": {
           "line": {
            "color": "#2a3f5f"
           }
          },
          "ternary": {
           "aaxis": {
            "gridcolor": "white",
            "linecolor": "white",
            "ticks": ""
           },
           "baxis": {
            "gridcolor": "white",
            "linecolor": "white",
            "ticks": ""
           },
           "bgcolor": "#E5ECF6",
           "caxis": {
            "gridcolor": "white",
            "linecolor": "white",
            "ticks": ""
           }
          },
          "title": {
           "x": 0.05
          },
          "xaxis": {
           "automargin": true,
           "gridcolor": "white",
           "linecolor": "white",
           "ticks": "",
           "title": {
            "standoff": 15
           },
           "zerolinecolor": "white",
           "zerolinewidth": 2
          },
          "yaxis": {
           "automargin": true,
           "gridcolor": "white",
           "linecolor": "white",
           "ticks": "",
           "title": {
            "standoff": 15
           },
           "zerolinecolor": "white",
           "zerolinewidth": 2
          }
         }
        },
        "title": {
         "text": "Distribution of Names Ending by each Letter by Gender"
        },
        "xaxis": {
         "title": {
          "text": "Letter"
         }
        },
        "yaxis": {
         "ticksuffix": "%",
         "title": {
          "text": "Normalized Count"
         }
        }
       }
      }
     },
     "metadata": {},
     "output_type": "display_data"
    }
   ],
   "source": [
    "analyze_gender.plot_letter_name_percentage(0)\n",
    "analyze_gender.plot_letter_name_percentage(-1)"
   ]
  },
  {
   "cell_type": "code",
   "execution_count": 334,
   "metadata": {},
   "outputs": [
    {
     "name": "stdout",
     "output_type": "stream",
     "text": [
      "Columns with p < 0.05:\n",
      "a_f\tChi2: 11.92\tp-value: 0.0006\tCramér's V: 0.0088\n",
      "g_f\tChi2: 21.64\tp-value: 0.0000\tCramér's V: 0.0118\n",
      "i_f\tChi2: 5.01\tp-value: 0.0252\tCramér's V: 0.0057\n",
      "l_f\tChi2: 32.81\tp-value: 0.0000\tCramér's V: 0.0146\n",
      "p_f\tChi2: 8.31\tp-value: 0.0039\tCramér's V: 0.0073\n",
      "r_f\tChi2: 6.58\tp-value: 0.0103\tCramér's V: 0.0065\n",
      "t_f\tChi2: 44.59\tp-value: 0.0000\tCramér's V: 0.0170\n",
      "w_f\tChi2: 10.26\tp-value: 0.0014\tCramér's V: 0.0082\n",
      "ō_f\tChi2: 4.67\tp-value: 0.0307\tCramér's V: 0.0055\n",
      "d_l\tChi2: 4.30\tp-value: 0.0382\tCramér's V: 0.0053\n",
      "e_l\tChi2: 16.56\tp-value: 0.0000\tCramér's V: 0.0104\n",
      "g_l\tChi2: 14.58\tp-value: 0.0001\tCramér's V: 0.0097\n",
      "j_l\tChi2: 4.36\tp-value: 0.0369\tCramér's V: 0.0053\n",
      "k_l\tChi2: 6.79\tp-value: 0.0092\tCramér's V: 0.0066\n",
      "n_l\tChi2: 7.28\tp-value: 0.0070\tCramér's V: 0.0069\n",
      "o_l\tChi2: 8.20\tp-value: 0.0042\tCramér's V: 0.0073\n",
      "r_l\tChi2: 4.27\tp-value: 0.0388\tCramér's V: 0.0053\n",
      "t_l\tChi2: 6.98\tp-value: 0.0082\tCramér's V: 0.0067\n",
      "u_l\tChi2: 4.42\tp-value: 0.0356\tCramér's V: 0.0054\n"
     ]
    }
   ],
   "source": [
    "first_last_col = [col for col in character_names_processed.columns if (col.endswith('_f') or col.endswith('_l'))]\n",
    "\n",
    "# Chi-Square tests for each column\n",
    "results = {}\n",
    "for col in first_last_col:\n",
    "    # Create contingency table\n",
    "    contingency_table = pd.crosstab(character_names_processed[col], character_names_processed['Sex'])\n",
    "    chi2, p, dof, expected = chi2_contingency(contingency_table)\n",
    "    \n",
    "    # Gestion des erreurs : vérifier si la forme du tableau est valide\n",
    "    if contingency_table.shape[0] > 1 and contingency_table.shape[1] > 1:\n",
    "        n = contingency_table.sum().sum()\n",
    "        min_dim = min(contingency_table.shape) - 1\n",
    "        if n > 0 and min_dim > 0:  # Évite les divisions par zéro\n",
    "            cramers_v = np.sqrt(chi2 / (n * min_dim))\n",
    "        else:\n",
    "            cramers_v = np.nan  # Si la division est invalide\n",
    "    else:\n",
    "        cramers_v = np.nan\n",
    "\n",
    "    # Store results\n",
    "    results[col] = {'chi2': chi2, 'p_value': p, 'cramers_v': cramers_v}\n",
    "\n",
    "# Filter significant results \n",
    "significant_results = {k: v for k, v in results.items() if v['p_value'] < 0.05}\n",
    "\n",
    "print(\"Columns with p < 0.05:\")\n",
    "for col, stats in significant_results.items():\n",
    "    print(f\"{col}\\tChi2: {stats['chi2']:.2f}\\tp-value: {stats['p_value']:.4f}\\tCramér's V: {stats['cramers_v']:.4f}\")"
   ]
  },
  {
   "cell_type": "markdown",
   "metadata": {},
   "source": [
    "Add analysis"
   ]
  },
  {
   "cell_type": "code",
   "execution_count": 335,
   "metadata": {},
   "outputs": [
    {
     "name": "stdout",
     "output_type": "stream",
     "text": [
      "Columns corresponding to diacritics:\n",
      "['ú', 'ù', 'ï', 'â', 'ß', 'ê', 'ü', 'ò', 'è', 'æ', 'å', 'õ', 'ç', 'ū', 'ō', 'ž', 'é', 'ö', 'ø', 'ì', 'ã', 'ô', 'š', 'ä', 'ó', 'à', 'û', 'ñ', 'á', 'í', 'ë']\n",
      "\n",
      "Diacritics with a significant association with gender (p-value < 0.05):\n",
      "Diacritic: ï, Chi2: 6.89, p-value: 0.0086\n",
      "Diacritic: ö, Chi2: 5.27, p-value: 0.0217\n",
      "Diacritic: š, Chi2: 9.64, p-value: 0.0019\n",
      "Diacritic: ó, Chi2: 6.84, p-value: 0.0089\n",
      "Diacritic: à, Chi2: 4.59, p-value: 0.0321\n"
     ]
    }
   ],
   "source": [
    "# Specified string of diacritics\n",
    "diacritics_str = \"üéèäöÃëçÖïáéäÔþçÁøõãæšáàÂùðìôêÖØÀûßýÉïåÓúśíłÅÞūžâÍÈëōîñüèóöÕò\"\n",
    "\n",
    "# Extract diacritic characters\n",
    "diacritics_set = set(diacritics_str)\n",
    "\n",
    "# Step 2: Select columns corresponding to diacritics\n",
    "selected_columns = [col for col in character_names_processed.columns if col in diacritics_set]\n",
    "\n",
    "# Check if any columns match the diacritics\n",
    "if not selected_columns:\n",
    "    print(\"No columns match the specified diacritics.\")\n",
    "else:\n",
    "    print(\"Columns corresponding to diacritics:\")\n",
    "    print(selected_columns)\n",
    "\n",
    "    # Step 3: Perform Chi-Square test for each column\n",
    "    results = {}\n",
    "    for diacritic in selected_columns:\n",
    "        # Corrected: Use the actual DataFrame column for 'gender'\n",
    "        contingency_table = pd.crosstab(character_names_processed[diacritic], character_names_processed['Sex'])\n",
    "        chi2, p, dof, expected = chi2_contingency(contingency_table)  # Perform Chi-Square test\n",
    "        \n",
    "        results[diacritic] = {'chi2': chi2, 'p_value': p}\n",
    "\n",
    "    # Step 4: Display significant results (p-value < 0.05)\n",
    "    significant_results = {k: v for k, v in results.items() if v['p_value'] < 0.05}\n",
    "    print(\"\\nDiacritics with a significant association with gender (p-value < 0.05):\")\n",
    "    for diacritic, stats in significant_results.items():\n",
    "        print(f\"Diacritic: {diacritic}, Chi2: {stats['chi2']:.2f}, p-value: {stats['p_value']:.4f}\")"
   ]
  },
  {
   "cell_type": "code",
   "execution_count": 336,
   "metadata": {},
   "outputs": [
    {
     "name": "stdout",
     "output_type": "stream",
     "text": [
      "\n",
      "Soundex encodings with a significant association with gender (p-value < 0.05):\n",
      "Soundex: Soundex_1000, Chi2: 14.70, p-value: 0.0001\n",
      "Soundex: Soundex_1225, Chi2: 7.79, p-value: 0.0053\n",
      "Soundex: Soundex_1264, Chi2: 4.43, p-value: 0.0354\n",
      "Soundex: Soundex_1612, Chi2: 4.62, p-value: 0.0315\n",
      "Soundex: Soundex_2422, Chi2: 4.09, p-value: 0.0432\n",
      "Soundex: Soundex_2635, Chi2: 4.91, p-value: 0.0266\n",
      "Soundex: Soundex_5126, Chi2: 4.87, p-value: 0.0274\n",
      "Soundex: Soundex_8550, Chi2: 11.64, p-value: 0.0006\n",
      "Soundex: Soundex_A125, Chi2: 11.82, p-value: 0.0006\n",
      "Soundex: Soundex_A136, Chi2: 5.42, p-value: 0.0199\n",
      "Soundex: Soundex_A152, Chi2: 14.84, p-value: 0.0001\n",
      "Soundex: Soundex_A153, Chi2: 4.81, p-value: 0.0284\n",
      "Soundex: Soundex_A161, Chi2: 6.91, p-value: 0.0086\n",
      "Soundex: Soundex_A165, Chi2: 6.27, p-value: 0.0123\n",
      "Soundex: Soundex_A214, Chi2: 4.60, p-value: 0.0320\n",
      "Soundex: Soundex_A236, Chi2: 5.64, p-value: 0.0176\n",
      "Soundex: Soundex_A265, Chi2: 7.30, p-value: 0.0069\n",
      "Soundex: Soundex_A413, Chi2: 8.57, p-value: 0.0034\n",
      "Soundex: Soundex_A420, Chi2: 3.92, p-value: 0.0478\n",
      "Soundex: Soundex_A421, Chi2: 4.48, p-value: 0.0344\n",
      "Soundex: Soundex_A434, Chi2: 9.75, p-value: 0.0018\n",
      "Soundex: Soundex_A511, Chi2: 9.28, p-value: 0.0023\n",
      "Soundex: Soundex_A512, Chi2: 7.55, p-value: 0.0060\n",
      "Soundex: Soundex_A522, Chi2: 5.38, p-value: 0.0203\n",
      "Soundex: Soundex_A553, Chi2: 5.16, p-value: 0.0230\n",
      "Soundex: Soundex_A556, Chi2: 5.64, p-value: 0.0176\n",
      "Soundex: Soundex_A652, Chi2: 4.67, p-value: 0.0307\n",
      "Soundex: Soundex_A655, Chi2: 5.05, p-value: 0.0246\n",
      "Soundex: Soundex_A660, Chi2: 4.67, p-value: 0.0307\n",
      "Soundex: Soundex_B145, Chi2: 6.56, p-value: 0.0104\n",
      "Soundex: Soundex_B220, Chi2: 4.04, p-value: 0.0444\n",
      "Soundex: Soundex_B246, Chi2: 4.27, p-value: 0.0388\n",
      "Soundex: Soundex_B324, Chi2: 5.95, p-value: 0.0147\n",
      "Soundex: Soundex_B341, Chi2: 5.68, p-value: 0.0171\n",
      "Soundex: Soundex_B421, Chi2: 6.95, p-value: 0.0084\n",
      "Soundex: Soundex_B526, Chi2: 4.57, p-value: 0.0326\n",
      "Soundex: Soundex_B611, Chi2: 19.66, p-value: 0.0000\n",
      "Soundex: Soundex_B615, Chi2: 31.27, p-value: 0.0000\n",
      "Soundex: Soundex_B632, Chi2: 15.93, p-value: 0.0001\n",
      "Soundex: Soundex_B636, Chi2: 4.06, p-value: 0.0439\n",
      "Soundex: Soundex_B652, Chi2: 4.98, p-value: 0.0257\n",
      "Soundex: Soundex_B653, Chi2: 5.53, p-value: 0.0187\n",
      "Soundex: Soundex_C135, Chi2: 15.63, p-value: 0.0001\n",
      "Soundex: Soundex_C153, Chi2: 6.12, p-value: 0.0134\n",
      "Soundex: Soundex_C224, Chi2: 10.32, p-value: 0.0013\n",
      "Soundex: Soundex_C250, Chi2: 4.33, p-value: 0.0374\n",
      "Soundex: Soundex_C313, Chi2: 4.54, p-value: 0.0332\n",
      "Soundex: Soundex_C453, Chi2: 11.08, p-value: 0.0009\n",
      "Soundex: Soundex_C516, Chi2: 8.52, p-value: 0.0035\n",
      "Soundex: Soundex_C525, Chi2: 6.82, p-value: 0.0090\n",
      "Soundex: Soundex_C534, Chi2: 5.26, p-value: 0.0218\n",
      "Soundex: Soundex_C553, Chi2: 5.20, p-value: 0.0225\n",
      "Soundex: Soundex_C600, Chi2: 18.22, p-value: 0.0000\n",
      "Soundex: Soundex_C645, Chi2: 5.06, p-value: 0.0245\n",
      "Soundex: Soundex_C654, Chi2: 12.74, p-value: 0.0004\n",
      "Soundex: Soundex_D124, Chi2: 6.97, p-value: 0.0083\n",
      "Soundex: Soundex_D125, Chi2: 4.96, p-value: 0.0259\n",
      "Soundex: Soundex_D252, Chi2: 3.97, p-value: 0.0463\n",
      "Soundex: Soundex_D526, Chi2: 3.95, p-value: 0.0467\n",
      "Soundex: Soundex_D534, Chi2: 7.78, p-value: 0.0053\n",
      "Soundex: Soundex_D624, Chi2: 7.59, p-value: 0.0059\n",
      "Soundex: Soundex_D630, Chi2: 8.37, p-value: 0.0038\n",
      "Soundex: Soundex_D645, Chi2: 4.16, p-value: 0.0414\n",
      "Soundex: Soundex_D650, Chi2: 4.16, p-value: 0.0414\n",
      "Soundex: Soundex_E235, Chi2: 6.08, p-value: 0.0137\n",
      "Soundex: Soundex_E420, Chi2: 3.91, p-value: 0.0481\n",
      "Soundex: Soundex_E432, Chi2: 3.95, p-value: 0.0467\n",
      "Soundex: Soundex_E500, Chi2: 4.61, p-value: 0.0317\n",
      "Soundex: Soundex_E554, Chi2: 24.81, p-value: 0.0000\n",
      "Soundex: Soundex_F131, Chi2: 5.99, p-value: 0.0144\n",
      "Soundex: Soundex_F412, Chi2: 4.09, p-value: 0.0432\n",
      "Soundex: Soundex_F463, Chi2: 3.92, p-value: 0.0478\n",
      "Soundex: Soundex_F542, Chi2: 4.19, p-value: 0.0408\n",
      "Soundex: Soundex_G233, Chi2: 4.69, p-value: 0.0303\n",
      "Soundex: Soundex_G322, Chi2: 4.68, p-value: 0.0306\n",
      "Soundex: Soundex_G324, Chi2: 7.46, p-value: 0.0063\n",
      "Soundex: Soundex_G325, Chi2: 6.77, p-value: 0.0093\n",
      "Soundex: Soundex_G326, Chi2: 4.21, p-value: 0.0402\n",
      "Soundex: Soundex_G332, Chi2: 4.05, p-value: 0.0441\n",
      "Soundex: Soundex_G430, Chi2: 4.24, p-value: 0.0396\n",
      "Soundex: Soundex_G452, Chi2: 6.11, p-value: 0.0135\n",
      "Soundex: Soundex_G525, Chi2: 4.56, p-value: 0.0328\n",
      "Soundex: Soundex_H213, Chi2: 7.14, p-value: 0.0075\n",
      "Soundex: Soundex_H312, Chi2: 5.03, p-value: 0.0249\n",
      "Soundex: Soundex_H322, Chi2: 6.05, p-value: 0.0139\n",
      "Soundex: Soundex_H436, Chi2: 4.92, p-value: 0.0266\n",
      "Soundex: Soundex_H453, Chi2: 5.35, p-value: 0.0208\n",
      "Soundex: Soundex_H514, Chi2: 8.00, p-value: 0.0047\n",
      "Soundex: Soundex_H523, Chi2: 5.17, p-value: 0.0230\n",
      "Soundex: Soundex_H543, Chi2: 7.24, p-value: 0.0071\n",
      "Soundex: Soundex_H621, Chi2: 5.91, p-value: 0.0150\n",
      "Soundex: Soundex_H630, Chi2: 4.68, p-value: 0.0306\n",
      "Soundex: Soundex_H631, Chi2: 4.58, p-value: 0.0324\n",
      "Soundex: Soundex_H636, Chi2: 4.74, p-value: 0.0294\n",
      "Soundex: Soundex_I132, Chi2: 17.10, p-value: 0.0000\n",
      "Soundex: Soundex_I142, Chi2: 5.26, p-value: 0.0218\n",
      "Soundex: Soundex_I352, Chi2: 4.67, p-value: 0.0307\n",
      "Soundex: Soundex_I412, Chi2: 5.70, p-value: 0.0170\n",
      "Soundex: Soundex_I416, Chi2: 4.85, p-value: 0.0277\n",
      "Soundex: Soundex_I525, Chi2: 4.75, p-value: 0.0292\n",
      "Soundex: Soundex_J234, Chi2: 5.70, p-value: 0.0170\n",
      "Soundex: Soundex_J253, Chi2: 4.06, p-value: 0.0440\n",
      "Soundex: Soundex_J316, Chi2: 7.12, p-value: 0.0076\n",
      "Soundex: Soundex_J424, Chi2: 8.48, p-value: 0.0036\n",
      "Soundex: Soundex_J560, Chi2: 12.95, p-value: 0.0003\n",
      "Soundex: Soundex_K335, Chi2: 11.26, p-value: 0.0008\n",
      "Soundex: Soundex_K450, Chi2: 6.30, p-value: 0.0120\n",
      "Soundex: Soundex_K526, Chi2: 5.40, p-value: 0.0201\n",
      "Soundex: Soundex_L113, Chi2: 5.72, p-value: 0.0167\n",
      "Soundex: Soundex_L122, Chi2: 4.72, p-value: 0.0298\n",
      "Soundex: Soundex_L140, Chi2: 7.12, p-value: 0.0076\n",
      "Soundex: Soundex_L145, Chi2: 4.96, p-value: 0.0259\n",
      "Soundex: Soundex_L152, Chi2: 21.81, p-value: 0.0000\n",
      "Soundex: Soundex_L153, Chi2: 9.10, p-value: 0.0026\n",
      "Soundex: Soundex_L214, Chi2: 4.76, p-value: 0.0292\n",
      "Soundex: Soundex_L232, Chi2: 5.16, p-value: 0.0232\n",
      "Soundex: Soundex_L241, Chi2: 5.21, p-value: 0.0224\n",
      "Soundex: Soundex_L321, Chi2: 4.42, p-value: 0.0355\n",
      "Soundex: Soundex_L322, Chi2: 15.72, p-value: 0.0001\n",
      "Soundex: Soundex_L325, Chi2: 5.73, p-value: 0.0167\n",
      "Soundex: Soundex_L360, Chi2: 8.29, p-value: 0.0040\n",
      "Soundex: Soundex_L400, Chi2: 4.55, p-value: 0.0329\n",
      "Soundex: Soundex_L412, Chi2: 6.81, p-value: 0.0091\n",
      "Soundex: Soundex_L420, Chi2: 8.13, p-value: 0.0043\n",
      "Soundex: Soundex_L536, Chi2: 4.55, p-value: 0.0329\n",
      "Soundex: Soundex_L552, Chi2: 7.99, p-value: 0.0047\n",
      "Soundex: Soundex_M132, Chi2: 5.95, p-value: 0.0147\n",
      "Soundex: Soundex_M236, Chi2: 10.24, p-value: 0.0014\n",
      "Soundex: Soundex_M251, Chi2: 4.40, p-value: 0.0359\n",
      "Soundex: Soundex_M255, Chi2: 7.49, p-value: 0.0062\n",
      "Soundex: Soundex_M355, Chi2: 3.87, p-value: 0.0491\n",
      "Soundex: Soundex_M360, Chi2: 5.81, p-value: 0.0159\n",
      "Soundex: Soundex_M366, Chi2: 4.67, p-value: 0.0307\n",
      "Soundex: Soundex_M410, Chi2: 6.85, p-value: 0.0089\n",
      "Soundex: Soundex_M414, Chi2: 4.16, p-value: 0.0414\n",
      "Soundex: Soundex_M434, Chi2: 4.29, p-value: 0.0384\n",
      "Soundex: Soundex_M521, Chi2: 8.64, p-value: 0.0033\n",
      "Soundex: Soundex_M525, Chi2: 5.84, p-value: 0.0157\n",
      "Soundex: Soundex_M531, Chi2: 5.78, p-value: 0.0162\n",
      "Soundex: Soundex_M542, Chi2: 5.67, p-value: 0.0173\n",
      "Soundex: Soundex_M551, Chi2: 6.97, p-value: 0.0083\n",
      "Soundex: Soundex_N164, Chi2: 4.04, p-value: 0.0445\n",
      "Soundex: Soundex_N500, Chi2: 4.29, p-value: 0.0384\n",
      "Soundex: Soundex_N522, Chi2: 5.16, p-value: 0.0231\n",
      "Soundex: Soundex_N541, Chi2: 4.58, p-value: 0.0324\n",
      "Soundex: Soundex_N622, Chi2: 4.58, p-value: 0.0324\n",
      "Soundex: Soundex_N626, Chi2: 4.58, p-value: 0.0324\n",
      "Soundex: Soundex_O123, Chi2: 4.05, p-value: 0.0441\n",
      "Soundex: Soundex_O200, Chi2: 4.67, p-value: 0.0307\n",
      "Soundex: Soundex_O252, Chi2: 10.33, p-value: 0.0013\n",
      "Soundex: Soundex_O342, Chi2: 6.64, p-value: 0.0100\n",
      "Soundex: Soundex_O362, Chi2: 6.11, p-value: 0.0135\n",
      "Soundex: Soundex_O521, Chi2: 9.63, p-value: 0.0019\n",
      "Soundex: Soundex_O535, Chi2: 4.90, p-value: 0.0269\n",
      "Soundex: Soundex_O552, Chi2: 5.02, p-value: 0.0251\n",
      "Soundex: Soundex_O616, Chi2: 5.69, p-value: 0.0170\n",
      "Soundex: Soundex_P313, Chi2: 5.69, p-value: 0.0170\n",
      "Soundex: Soundex_P422, Chi2: 4.92, p-value: 0.0265\n",
      "Soundex: Soundex_P452, Chi2: 13.48, p-value: 0.0002\n",
      "Soundex: Soundex_P500, Chi2: 5.69, p-value: 0.0170\n",
      "Soundex: Soundex_P600, Chi2: 4.96, p-value: 0.0260\n",
      "Soundex: Soundex_P614, Chi2: 4.06, p-value: 0.0440\n",
      "Soundex: Soundex_P620, Chi2: 5.86, p-value: 0.0155\n",
      "Soundex: Soundex_P631, Chi2: 7.59, p-value: 0.0059\n",
      "Soundex: Soundex_P645, Chi2: 4.24, p-value: 0.0396\n",
      "Soundex: Soundex_Q452, Chi2: 4.09, p-value: 0.0432\n",
      "Soundex: Soundex_R152, Chi2: 9.13, p-value: 0.0025\n",
      "Soundex: Soundex_R153, Chi2: 8.98, p-value: 0.0027\n",
      "Soundex: Soundex_R331, Chi2: 4.60, p-value: 0.0320\n",
      "Soundex: Soundex_R334, Chi2: 17.14, p-value: 0.0000\n",
      "Soundex: Soundex_R363, Chi2: 5.05, p-value: 0.0247\n",
      "Soundex: Soundex_R365, Chi2: 4.89, p-value: 0.0270\n",
      "Soundex: Soundex_R511, Chi2: 5.58, p-value: 0.0182\n",
      "Soundex: Soundex_S220, Chi2: 8.80, p-value: 0.0030\n",
      "Soundex: Soundex_S222, Chi2: 4.36, p-value: 0.0368\n",
      "Soundex: Soundex_S244, Chi2: 4.43, p-value: 0.0354\n",
      "Soundex: Soundex_S323, Chi2: 9.04, p-value: 0.0026\n",
      "Soundex: Soundex_S336, Chi2: 19.10, p-value: 0.0000\n",
      "Soundex: Soundex_S363, Chi2: 5.61, p-value: 0.0179\n",
      "Soundex: Soundex_S366, Chi2: 24.88, p-value: 0.0000\n",
      "Soundex: Soundex_S430, Chi2: 4.09, p-value: 0.0432\n",
      "Soundex: Soundex_S465, Chi2: 22.90, p-value: 0.0000\n",
      "Soundex: Soundex_S513, Chi2: 4.07, p-value: 0.0436\n",
      "Soundex: Soundex_S532, Chi2: 8.80, p-value: 0.0030\n",
      "Soundex: Soundex_S642, Chi2: 9.06, p-value: 0.0026\n",
      "Soundex: Soundex_S663, Chi2: 5.72, p-value: 0.0167\n",
      "Soundex: Soundex_T112, Chi2: 11.64, p-value: 0.0006\n",
      "Soundex: Soundex_T115, Chi2: 7.78, p-value: 0.0053\n",
      "Soundex: Soundex_T120, Chi2: 8.71, p-value: 0.0032\n",
      "Soundex: Soundex_T130, Chi2: 7.15, p-value: 0.0075\n",
      "Soundex: Soundex_T152, Chi2: 7.87, p-value: 0.0050\n",
      "Soundex: Soundex_T214, Chi2: 3.97, p-value: 0.0463\n",
      "Soundex: Soundex_T225, Chi2: 11.57, p-value: 0.0007\n",
      "Soundex: Soundex_T252, Chi2: 4.09, p-value: 0.0432\n",
      "Soundex: Soundex_T256, Chi2: 7.61, p-value: 0.0058\n",
      "Soundex: Soundex_T265, Chi2: 6.04, p-value: 0.0140\n",
      "Soundex: Soundex_T350, Chi2: 9.39, p-value: 0.0022\n",
      "Soundex: Soundex_T351, Chi2: 4.64, p-value: 0.0313\n",
      "Soundex: Soundex_T366, Chi2: 4.96, p-value: 0.0259\n",
      "Soundex: Soundex_T410, Chi2: 5.92, p-value: 0.0150\n",
      "Soundex: Soundex_T414, Chi2: 7.45, p-value: 0.0064\n",
      "Soundex: Soundex_T452, Chi2: 4.25, p-value: 0.0393\n",
      "Soundex: Soundex_T463, Chi2: 23.41, p-value: 0.0000\n",
      "Soundex: Soundex_T513, Chi2: 5.72, p-value: 0.0168\n",
      "Soundex: Soundex_T523, Chi2: 4.64, p-value: 0.0312\n",
      "Soundex: Soundex_T536, Chi2: 8.84, p-value: 0.0029\n",
      "Soundex: Soundex_T556, Chi2: 4.93, p-value: 0.0264\n",
      "Soundex: Soundex_T622, Chi2: 4.50, p-value: 0.0338\n",
      "Soundex: Soundex_T636, Chi2: 4.55, p-value: 0.0329\n",
      "Soundex: Soundex_U133, Chi2: 10.83, p-value: 0.0010\n",
      "Soundex: Soundex_U523, Chi2: 4.20, p-value: 0.0404\n",
      "Soundex: Soundex_V433, Chi2: 5.84, p-value: 0.0157\n",
      "Soundex: Soundex_V521, Chi2: 9.61, p-value: 0.0019\n",
      "Soundex: Soundex_V551, Chi2: 4.62, p-value: 0.0315\n",
      "Soundex: Soundex_W130, Chi2: 10.27, p-value: 0.0014\n",
      "Soundex: Soundex_W141, Chi2: 5.07, p-value: 0.0244\n",
      "Soundex: Soundex_W236, Chi2: 5.71, p-value: 0.0169\n",
      "Soundex: Soundex_W322, Chi2: 6.68, p-value: 0.0098\n",
      "Soundex: Soundex_W326, Chi2: 6.91, p-value: 0.0086\n",
      "Soundex: Soundex_W355, Chi2: 4.55, p-value: 0.0329\n",
      "Soundex: Soundex_W451, Chi2: 4.12, p-value: 0.0424\n",
      "Soundex: Soundex_W541, Chi2: 8.12, p-value: 0.0044\n",
      "Soundex: Soundex_W555, Chi2: 5.02, p-value: 0.0251\n",
      "Soundex: Soundex_W624, Chi2: 13.67, p-value: 0.0002\n",
      "Soundex: Soundex_W631, Chi2: 4.69, p-value: 0.0303\n",
      "Soundex: Soundex_W641, Chi2: 7.78, p-value: 0.0053\n",
      "Soundex: Soundex_X553, Chi2: 4.57, p-value: 0.0326\n",
      "Soundex: Soundex_Y136, Chi2: 7.78, p-value: 0.0053\n",
      "Soundex: Soundex_Y250, Chi2: 4.95, p-value: 0.0261\n",
      "Soundex: Soundex_Y421, Chi2: 4.34, p-value: 0.0372\n",
      "Soundex: Soundex_Y522, Chi2: 8.61, p-value: 0.0033\n",
      "Soundex: Soundex_Z240, Chi2: 5.26, p-value: 0.0218\n"
     ]
    }
   ],
   "source": [
    "# Step 1: Select Soundex-encoded columns (they start with 'Soundex_')\n",
    "soundex_columns = [col for col in character_names_processed.columns if col.startswith('Soundex_')]\n",
    "\n",
    "# Step 2: Perform Chi-Square tests for each Soundex column\n",
    "results = {}\n",
    "for col in soundex_columns:\n",
    "    # Create a contingency table between the Soundex column and 'gender'\n",
    "    contingency_table = pd.crosstab(character_names_processed[col], character_names_processed['Sex'])\n",
    "    chi2, p, dof, expected = chi2_contingency(contingency_table)\n",
    "    \n",
    "    results[col] = {'chi2': chi2, 'p_value': p}\n",
    "\n",
    "# Step 3: Filter significant results (p-value < 0.05)\n",
    "significant_results = {k: v for k, v in results.items() if v['p_value'] < 0.05}\n",
    "\n",
    "# Step 4: Display significant results\n",
    "print(\"\\nSoundex encodings with a significant association with gender (p-value < 0.05):\")\n",
    "for soundex_code, stats in significant_results.items():\n",
    "    print(f\"Soundex: {soundex_code}, Chi2: {stats['chi2']:.2f}, p-value: {stats['p_value']:.4f}\")"
   ]
  },
  {
   "cell_type": "code",
   "execution_count": 337,
   "metadata": {},
   "outputs": [
    {
     "name": "stdout",
     "output_type": "stream",
     "text": [
      "Number of Soundex encodings with significant association: 232\n"
     ]
    }
   ],
   "source": [
    "print(f\"Number of Soundex encodings with significant association: {len(significant_results)}\")"
   ]
  },
  {
   "cell_type": "code",
   "execution_count": 338,
   "metadata": {},
   "outputs": [
    {
     "name": "stdout",
     "output_type": "stream",
     "text": [
      "Colonne ignorée (contingence invalide) : Soundex_C333\n",
      "Colonne ignorée (contingence invalide) : Soundex_F000\n",
      "Colonne ignorée (contingence invalide) : Soundex_M344\n",
      "Colonne ignorée (contingence invalide) : Soundex_N212\n",
      "Colonne ignorée (constante) : ä_f\n",
      "Colonne ignorée (constante) : Ã_f\n",
      "Colonne ignorée (constante) : ë_f\n",
      "Colonne ignorée (constante) : ç_f\n",
      "Colonne ignorée (constante) : Ö_f\n",
      "Colonne ignorée (constante) : ï_f\n",
      "Colonne ignorée (constante) : á_f\n",
      "Colonne ignorée (constante) : Ô_f\n",
      "Colonne ignorée (constante) : þ_f\n",
      "Colonne ignorée (constante) : Á_f\n",
      "Colonne ignorée (constante) : ø_f\n",
      "Colonne ignorée (constante) : õ_f\n",
      "Colonne ignorée (constante) : ã_f\n",
      "Colonne ignorée (constante) : š_f\n",
      "Colonne ignorée (constante) : Â_f\n",
      "Colonne ignorée (constante) : ù_f\n",
      "Colonne ignorée (constante) : ð_f\n",
      "Colonne ignorée (constante) : ì_f\n",
      "Colonne ignorée (constante) : ô_f\n",
      "Colonne ignorée (constante) : ê_f\n",
      "Colonne ignorée (constante) : Ø_f\n",
      "Colonne ignorée (constante) : À_f\n",
      "Colonne ignorée (constante) : û_f\n",
      "Colonne ignorée (constante) : ß_f\n",
      "Colonne ignorée (constante) : ý_f\n",
      "Colonne ignorée (constante) : É_f\n",
      "Colonne ignorée (constante) : å_f\n",
      "Colonne ignorée (constante) : Ó_f\n",
      "Colonne ignorée (constante) : ú_f\n",
      "Colonne ignorée (constante) : ś_f\n",
      "Colonne ignorée (constante) : í_f\n",
      "Colonne ignorée (constante) : ł_f\n",
      "Colonne ignorée (constante) : Å_f\n",
      "Colonne ignorée (constante) : Þ_f\n",
      "Colonne ignorée (constante) : ū_f\n",
      "Colonne ignorée (constante) : ž_f\n",
      "Colonne ignorée (constante) : â_f\n",
      "Colonne ignorée (constante) : Í_f\n",
      "Colonne ignorée (constante) : È_f\n",
      "Colonne ignorée (constante) : î_f\n",
      "Colonne ignorée (constante) : ñ_f\n",
      "Colonne ignorée (constante) : Õ_f\n",
      "Colonne ignorée (constante) : ò_f\n",
      "Colonne ignorée (constante) : ü_l\n",
      "Colonne ignorée (constante) : è_l\n",
      "Colonne ignorée (constante) : ö_l\n",
      "Colonne ignorée (constante) : Ã_l\n",
      "Colonne ignorée (constante) : ë_l\n",
      "Colonne ignorée (constante) : ç_l\n",
      "Colonne ignorée (constante) : Ö_l\n",
      "Colonne ignorée (constante) : Ô_l\n",
      "Colonne ignorée (constante) : þ_l\n",
      "Colonne ignorée (constante) : Á_l\n",
      "Colonne ignorée (constante) : ø_l\n",
      "Colonne ignorée (constante) : õ_l\n",
      "Colonne ignorée (constante) : ã_l\n",
      "Colonne ignorée (constante) : æ_l\n",
      "Colonne ignorée (constante) : Â_l\n",
      "Colonne ignorée (constante) : ð_l\n",
      "Colonne ignorée (constante) : ì_l\n",
      "Colonne ignorée (constante) : ô_l\n",
      "Colonne ignorée (constante) : ê_l\n",
      "Colonne ignorée (constante) : Ø_l\n",
      "Colonne ignorée (constante) : À_l\n",
      "Colonne ignorée (constante) : û_l\n",
      "Colonne ignorée (constante) : ý_l\n",
      "Colonne ignorée (constante) : É_l\n",
      "Colonne ignorée (constante) : å_l\n",
      "Colonne ignorée (constante) : Ó_l\n",
      "Colonne ignorée (constante) : ś_l\n",
      "Colonne ignorée (constante) : ł_l\n",
      "Colonne ignorée (constante) : Å_l\n",
      "Colonne ignorée (constante) : Þ_l\n",
      "Colonne ignorée (constante) : ū_l\n",
      "Colonne ignorée (constante) : ž_l\n",
      "Colonne ignorée (constante) : â_l\n",
      "Colonne ignorée (constante) : Í_l\n",
      "Colonne ignorée (constante) : È_l\n",
      "Colonne ignorée (constante) : î_l\n",
      "Colonne ignorée (constante) : ñ_l\n",
      "Colonne ignorée (constante) : Õ_l\n",
      "Colonne ignorée (constante) : ò_l\n",
      "\n",
      "Colonnes avec p-value < 0.05 et V de Cramer > 0.1 :\n",
      "\n",
      "Nombre total de colonnes qui passent les deux tests : 0\n"
     ]
    }
   ],
   "source": [
    "import pandas as pd\n",
    "import numpy as np\n",
    "from scipy.stats import chi2_contingency\n",
    "\n",
    "# Étape 1 : Sélectionner les colonnes à partir de l'indice 9\n",
    "target_column = 'Sex'  # Colonne cible\n",
    "start_index = 9  # Index pour la 9ème colonne (base 0)\n",
    "columns_to_test = character_names_processed.columns[start_index:]\n",
    "\n",
    "# Étape 2 : Calculer p-value et V de Cramer, avec des vérifications\n",
    "filtered_results = {}\n",
    "\n",
    "for col in columns_to_test:\n",
    "    try:\n",
    "        # Vérification : Ignorer les colonnes constantes (1 seule valeur unique)\n",
    "        if character_names_processed[col].nunique() <= 1:\n",
    "            print(f\"Colonne ignorée (constante) : {col}\")\n",
    "            continue\n",
    "        \n",
    "        # Créer la table de contingence\n",
    "        contingency_table = pd.crosstab(character_names_processed[col], character_names_processed[target_column])\n",
    "        \n",
    "        # Vérification : Ignorer les tables de contingence invalides\n",
    "        if contingency_table.shape[0] < 2 or contingency_table.shape[1] < 2:\n",
    "            print(f\"Colonne ignorée (contingence invalide) : {col}\")\n",
    "            continue\n",
    "        \n",
    "        # Effectuer le test du Chi-Carré\n",
    "        chi2, p, dof, expected = chi2_contingency(contingency_table)\n",
    "        \n",
    "        # Vérification : Ignorer les calculs invalides\n",
    "        n = np.sum(contingency_table.values)\n",
    "        if n == 0:\n",
    "            print(f\"Colonne ignorée (somme totale nulle) : {col}\")\n",
    "            continue\n",
    "        \n",
    "        # Calculer V de Cramer\n",
    "        cramer_v = np.sqrt(chi2 / (n * (min(contingency_table.shape) - 1)))\n",
    "        \n",
    "        # Filtrer par p-value et V de Cramer\n",
    "        if p < 0.05 and cramer_v > 0.1:\n",
    "            filtered_results[col] = {'chi2': chi2, 'p_value': p, 'cramer_v': cramer_v}\n",
    "    except Exception as e:\n",
    "        print(f\"Erreur avec la colonne {col}: {e}\")\n",
    "\n",
    "# Étape 3 : Afficher les résultats filtrés\n",
    "print(\"\\nColonnes avec p-value < 0.05 et V de Cramer > 0.1 :\")\n",
    "for col, stats in sorted(filtered_results.items(), key=lambda x: x[1]['cramer_v'], reverse=True):\n",
    "    print(f\"Colonne: '{col}', Chi2: {stats['chi2']:.2f}, p-value: {stats['p_value']:.4f}, V de Cramer: {stats['cramer_v']:.4f}\")\n",
    "\n",
    "# Résumé final\n",
    "print(f\"\\nNombre total de colonnes qui passent les deux tests : {len(filtered_results)}\")\n"
   ]
  },
  {
   "cell_type": "code",
   "execution_count": 339,
   "metadata": {},
   "outputs": [
    {
     "name": "stdout",
     "output_type": "stream",
     "text": [
      "T-statistique : -7.4734\n",
      "P-value : 7.868290339382451e-14\n",
      "Les moyennes des deux groupes sont significativement différentes.\n"
     ]
    }
   ],
   "source": [
    "from scipy.stats import ttest_ind\n",
    "\n",
    "# Filtrer les données pour chaque groupe\n",
    "group_m = character_names_processed[character_names_processed['Sex'] == 'M']['Vowel/Consonant Ratio']\n",
    "group_f = character_names_processed[character_names_processed['Sex'] == 'F']['Vowel/Consonant Ratio']\n",
    "\n",
    "# Effectuer le t-test pour échantillons indépendants\n",
    "t_stat, p_value = ttest_ind(group_m, group_f, equal_var=False)  # Welch's t-test\n",
    "\n",
    "# Afficher les résultats\n",
    "print(f\"T-statistique : {t_stat:.4f}\")\n",
    "print(f\"P-value : {p_value}\")\n",
    "\n",
    "if p_value < 0.05:\n",
    "    print(\"Les moyennes des deux groupes sont significativement différentes.\")\n",
    "else:\n",
    "    print(\"Aucune différence significative entre les moyennes des deux groupes.\")"
   ]
  },
  {
   "cell_type": "code",
   "execution_count": 340,
   "metadata": {},
   "outputs": [
    {
     "name": "stdout",
     "output_type": "stream",
     "text": [
      "T-statistique : 3.1889\n",
      "P-value : 0.0014\n",
      "Les moyennes des deux groupes sont significativement différentes.\n"
     ]
    }
   ],
   "source": [
    "from scipy.stats import ttest_ind\n",
    "\n",
    "# Filtrer les données pour chaque groupe\n",
    "group_m = character_names_processed[character_names_processed['Sex'] == 'M']['Consonant Count']\n",
    "group_f = character_names_processed[character_names_processed['Sex'] == 'F']['Consonant Count']\n",
    "\n",
    "# Effectuer le t-test pour échantillons indépendants\n",
    "t_stat, p_value = ttest_ind(group_m, group_f, equal_var=False)  # Welch's t-test\n",
    "\n",
    "# Afficher les résultats\n",
    "print(f\"T-statistique : {t_stat:.4f}\")\n",
    "print(f\"P-value : {p_value:.4f}\")\n",
    "\n",
    "if p_value < 0.05:\n",
    "    print(\"Les moyennes des deux groupes sont significativement différentes.\")\n",
    "else:\n",
    "    print(\"Aucune différence significative entre les moyennes des deux groupes.\")"
   ]
  },
  {
   "cell_type": "markdown",
   "metadata": {},
   "source": [
    "## 2.d Name/Movie Genre Statistics"
   ]
  },
  {
   "cell_type": "code",
   "execution_count": 341,
   "metadata": {},
   "outputs": [],
   "source": [
    "analyze_genre = GenreAnalyzer(df_char_cleaned)\n",
    "\n",
    "frequent_names_m, frequent_names_f = analyze_genre.get_top_names_by_genre(10)\n",
    "\n",
    "data_f = analyze_genre.create_sunburst_data(frequent_names_f)\n",
    "data_m = analyze_genre.create_sunburst_data(frequent_names_m)"
   ]
  },
  {
   "cell_type": "code",
   "execution_count": 342,
   "metadata": {},
   "outputs": [
    {
     "data": {
      "application/vnd.plotly.v1+json": {
       "config": {
        "plotlyServerURL": "https://plot.ly"
       },
       "data": [
        {
         "domain": {
          "column": 1,
          "x": [
           0,
           0.45
          ],
          "y": [
           0,
           1
          ]
         },
         "labels": [
          "Movies' Genres",
          "Action & Adventure",
          "Drama",
          "Comedy",
          "Horror & Thriller",
          "Fantasy & Sci-Fi",
          "Historical & War",
          "Romance",
          "Documentary",
          "Music & Performance",
          "Cult & B-Movies",
          "Other",
          "Sarah",
          "Susan",
          "Alice",
          "Rachel",
          "Mary",
          "Lisa",
          "Julie",
          "Kate",
          "Helen",
          "Elizabeth",
          "Sarah",
          "Mary",
          "Helen",
          "Alice",
          "Susan",
          "Elizabeth",
          "Kate",
          "Rachel",
          "Julie",
          "Marie",
          "Sarah",
          "Mary",
          "Kate",
          "Julie",
          "Alice",
          "Susan",
          "Helen",
          "Lisa",
          "Elizabeth",
          "Barbara",
          "Sarah",
          "Rachel",
          "Susan",
          "Alice",
          "Karen",
          "Helen",
          "Lisa",
          "Elizabeth",
          "Kate",
          "Claire",
          "Susan",
          "Alice",
          "Sarah",
          "Elizabeth",
          "Mary",
          "Claire",
          "Kate",
          "Jane",
          "Lisa",
          "Rachel",
          "Elizabeth",
          "Sarah",
          "Anne",
          "Mary",
          "Margaret",
          "Helen",
          "Marie",
          "Alice",
          "Catherine",
          "Charlotte",
          "Sarah",
          "Helen",
          "Elizabeth",
          "Julie",
          "Susan",
          "Mary",
          "Kate",
          "Alice",
          "Marie",
          "Maggie",
          "Elizabeth",
          "Margaret",
          "Helen",
          "Barbara",
          "Marie",
          "Mary",
          "Alice",
          "Dorothy",
          "Sarah",
          "Louise",
          "Pooja",
          "Priya",
          "Anjali",
          "Tina",
          "Mary",
          "Julie",
          "Sonia",
          "Radha",
          "Sarah",
          "Anita",
          "Mary",
          "Sarah",
          "Helen",
          "Kate",
          "Rachel",
          "Alice",
          "Linda",
          "Maggie",
          "Lisa",
          "Karen",
          "Radha",
          "Rachel",
          "Pooja",
          "Anna",
          "Priya",
          "Shanti",
          "Neha",
          "Frau",
          "Geeta",
          "Aarti"
         ],
         "maxdepth": 2,
         "parents": [
          "",
          "Movies' Genres",
          "Movies' Genres",
          "Movies' Genres",
          "Movies' Genres",
          "Movies' Genres",
          "Movies' Genres",
          "Movies' Genres",
          "Movies' Genres",
          "Movies' Genres",
          "Movies' Genres",
          "Movies' Genres",
          "Action & Adventure",
          "Action & Adventure",
          "Action & Adventure",
          "Action & Adventure",
          "Action & Adventure",
          "Action & Adventure",
          "Action & Adventure",
          "Action & Adventure",
          "Action & Adventure",
          "Action & Adventure",
          "Drama",
          "Drama",
          "Drama",
          "Drama",
          "Drama",
          "Drama",
          "Drama",
          "Drama",
          "Drama",
          "Drama",
          "Comedy",
          "Comedy",
          "Comedy",
          "Comedy",
          "Comedy",
          "Comedy",
          "Comedy",
          "Comedy",
          "Comedy",
          "Comedy",
          "Horror & Thriller",
          "Horror & Thriller",
          "Horror & Thriller",
          "Horror & Thriller",
          "Horror & Thriller",
          "Horror & Thriller",
          "Horror & Thriller",
          "Horror & Thriller",
          "Horror & Thriller",
          "Horror & Thriller",
          "Fantasy & Sci-Fi",
          "Fantasy & Sci-Fi",
          "Fantasy & Sci-Fi",
          "Fantasy & Sci-Fi",
          "Fantasy & Sci-Fi",
          "Fantasy & Sci-Fi",
          "Fantasy & Sci-Fi",
          "Fantasy & Sci-Fi",
          "Fantasy & Sci-Fi",
          "Fantasy & Sci-Fi",
          "Historical & War",
          "Historical & War",
          "Historical & War",
          "Historical & War",
          "Historical & War",
          "Historical & War",
          "Historical & War",
          "Historical & War",
          "Historical & War",
          "Historical & War",
          "Romance",
          "Romance",
          "Romance",
          "Romance",
          "Romance",
          "Romance",
          "Romance",
          "Romance",
          "Romance",
          "Romance",
          "Documentary",
          "Documentary",
          "Documentary",
          "Documentary",
          "Documentary",
          "Documentary",
          "Documentary",
          "Documentary",
          "Documentary",
          "Documentary",
          "Music & Performance",
          "Music & Performance",
          "Music & Performance",
          "Music & Performance",
          "Music & Performance",
          "Music & Performance",
          "Music & Performance",
          "Music & Performance",
          "Music & Performance",
          "Music & Performance",
          "Cult & B-Movies",
          "Cult & B-Movies",
          "Cult & B-Movies",
          "Cult & B-Movies",
          "Cult & B-Movies",
          "Cult & B-Movies",
          "Cult & B-Movies",
          "Cult & B-Movies",
          "Cult & B-Movies",
          "Cult & B-Movies",
          "Other",
          "Other",
          "Other",
          "Other",
          "Other",
          "Other",
          "Other",
          "Other",
          "Other",
          "Other"
         ],
         "type": "sunburst"
        },
        {
         "domain": {
          "column": 1,
          "x": [
           0.55,
           1
          ],
          "y": [
           0,
           1
          ]
         },
         "labels": [
          "Movies' Genres",
          "Action & Adventure",
          "Drama",
          "Comedy",
          "Horror & Thriller",
          "Fantasy & Sci-Fi",
          "Historical & War",
          "Romance",
          "Documentary",
          "Music & Performance",
          "Cult & B-Movies",
          "Other",
          "John",
          "Tom",
          "James",
          "David",
          "George",
          "Michael",
          "Robert",
          "William",
          "Jim",
          "Paul",
          "John",
          "David",
          "George",
          "Tom",
          "Paul",
          "James",
          "Michael",
          "Robert",
          "Charles",
          "Jack",
          "John",
          "George",
          "Tom",
          "Paul",
          "Charlie",
          "Jack",
          "Michael",
          "David",
          "Moe",
          "Joe",
          "John",
          "Michael",
          "David",
          "Tom",
          "Paul",
          "James",
          "Robert",
          "George",
          "Jack",
          "Richard",
          "John",
          "George",
          "David",
          "Tom",
          "James",
          "Michael",
          "Charlie",
          "Jack",
          "Robert",
          "William",
          "John",
          "William",
          "George",
          "Robert",
          "Charles",
          "Thomas",
          "James",
          "David",
          "Richard",
          "Tom",
          "John",
          "Paul",
          "David",
          "George",
          "Tom",
          "Michael",
          "Richard",
          "Charlie",
          "Robert",
          "James",
          "John",
          "George",
          "Robert",
          "William",
          "Charles",
          "David",
          "Richard",
          "James",
          "Paul",
          "Jim",
          "John",
          "George",
          "Paul",
          "Vijay",
          "Joe",
          "Charlie",
          "Johnny",
          "Rahul",
          "Shekhar",
          "David",
          "John",
          "Jack",
          "Tom",
          "David",
          "George",
          "Paul",
          "Michael",
          "Charlie",
          "Jim",
          "James",
          "John",
          "George",
          "Christmas",
          "James",
          "Mickey",
          "Tom",
          "Philip",
          "Richard",
          "Vijay",
          "Robert"
         ],
         "maxdepth": 2,
         "parents": [
          "",
          "Movies' Genres",
          "Movies' Genres",
          "Movies' Genres",
          "Movies' Genres",
          "Movies' Genres",
          "Movies' Genres",
          "Movies' Genres",
          "Movies' Genres",
          "Movies' Genres",
          "Movies' Genres",
          "Movies' Genres",
          "Action & Adventure",
          "Action & Adventure",
          "Action & Adventure",
          "Action & Adventure",
          "Action & Adventure",
          "Action & Adventure",
          "Action & Adventure",
          "Action & Adventure",
          "Action & Adventure",
          "Action & Adventure",
          "Drama",
          "Drama",
          "Drama",
          "Drama",
          "Drama",
          "Drama",
          "Drama",
          "Drama",
          "Drama",
          "Drama",
          "Comedy",
          "Comedy",
          "Comedy",
          "Comedy",
          "Comedy",
          "Comedy",
          "Comedy",
          "Comedy",
          "Comedy",
          "Comedy",
          "Horror & Thriller",
          "Horror & Thriller",
          "Horror & Thriller",
          "Horror & Thriller",
          "Horror & Thriller",
          "Horror & Thriller",
          "Horror & Thriller",
          "Horror & Thriller",
          "Horror & Thriller",
          "Horror & Thriller",
          "Fantasy & Sci-Fi",
          "Fantasy & Sci-Fi",
          "Fantasy & Sci-Fi",
          "Fantasy & Sci-Fi",
          "Fantasy & Sci-Fi",
          "Fantasy & Sci-Fi",
          "Fantasy & Sci-Fi",
          "Fantasy & Sci-Fi",
          "Fantasy & Sci-Fi",
          "Fantasy & Sci-Fi",
          "Historical & War",
          "Historical & War",
          "Historical & War",
          "Historical & War",
          "Historical & War",
          "Historical & War",
          "Historical & War",
          "Historical & War",
          "Historical & War",
          "Historical & War",
          "Romance",
          "Romance",
          "Romance",
          "Romance",
          "Romance",
          "Romance",
          "Romance",
          "Romance",
          "Romance",
          "Romance",
          "Documentary",
          "Documentary",
          "Documentary",
          "Documentary",
          "Documentary",
          "Documentary",
          "Documentary",
          "Documentary",
          "Documentary",
          "Documentary",
          "Music & Performance",
          "Music & Performance",
          "Music & Performance",
          "Music & Performance",
          "Music & Performance",
          "Music & Performance",
          "Music & Performance",
          "Music & Performance",
          "Music & Performance",
          "Music & Performance",
          "Cult & B-Movies",
          "Cult & B-Movies",
          "Cult & B-Movies",
          "Cult & B-Movies",
          "Cult & B-Movies",
          "Cult & B-Movies",
          "Cult & B-Movies",
          "Cult & B-Movies",
          "Cult & B-Movies",
          "Cult & B-Movies",
          "Other",
          "Other",
          "Other",
          "Other",
          "Other",
          "Other",
          "Other",
          "Other",
          "Other",
          "Other"
         ],
         "type": "sunburst"
        }
       ],
       "layout": {
        "annotations": [
         {
          "font": {
           "size": 16
          },
          "showarrow": false,
          "text": "Females",
          "x": 0.225,
          "xanchor": "center",
          "xref": "paper",
          "y": 1,
          "yanchor": "bottom",
          "yref": "paper"
         },
         {
          "font": {
           "size": 16
          },
          "showarrow": false,
          "text": "Males",
          "x": 0.775,
          "xanchor": "center",
          "xref": "paper",
          "y": 1,
          "yanchor": "bottom",
          "yref": "paper"
         }
        ],
        "font": {
         "size": 13
        },
        "height": 800,
        "showlegend": false,
        "template": {
         "data": {
          "bar": [
           {
            "error_x": {
             "color": "#2a3f5f"
            },
            "error_y": {
             "color": "#2a3f5f"
            },
            "marker": {
             "line": {
              "color": "#E5ECF6",
              "width": 0.5
             },
             "pattern": {
              "fillmode": "overlay",
              "size": 10,
              "solidity": 0.2
             }
            },
            "type": "bar"
           }
          ],
          "barpolar": [
           {
            "marker": {
             "line": {
              "color": "#E5ECF6",
              "width": 0.5
             },
             "pattern": {
              "fillmode": "overlay",
              "size": 10,
              "solidity": 0.2
             }
            },
            "type": "barpolar"
           }
          ],
          "carpet": [
           {
            "aaxis": {
             "endlinecolor": "#2a3f5f",
             "gridcolor": "white",
             "linecolor": "white",
             "minorgridcolor": "white",
             "startlinecolor": "#2a3f5f"
            },
            "baxis": {
             "endlinecolor": "#2a3f5f",
             "gridcolor": "white",
             "linecolor": "white",
             "minorgridcolor": "white",
             "startlinecolor": "#2a3f5f"
            },
            "type": "carpet"
           }
          ],
          "choropleth": [
           {
            "colorbar": {
             "outlinewidth": 0,
             "ticks": ""
            },
            "type": "choropleth"
           }
          ],
          "contour": [
           {
            "colorbar": {
             "outlinewidth": 0,
             "ticks": ""
            },
            "colorscale": [
             [
              0,
              "#0d0887"
             ],
             [
              0.1111111111111111,
              "#46039f"
             ],
             [
              0.2222222222222222,
              "#7201a8"
             ],
             [
              0.3333333333333333,
              "#9c179e"
             ],
             [
              0.4444444444444444,
              "#bd3786"
             ],
             [
              0.5555555555555556,
              "#d8576b"
             ],
             [
              0.6666666666666666,
              "#ed7953"
             ],
             [
              0.7777777777777778,
              "#fb9f3a"
             ],
             [
              0.8888888888888888,
              "#fdca26"
             ],
             [
              1,
              "#f0f921"
             ]
            ],
            "type": "contour"
           }
          ],
          "contourcarpet": [
           {
            "colorbar": {
             "outlinewidth": 0,
             "ticks": ""
            },
            "type": "contourcarpet"
           }
          ],
          "heatmap": [
           {
            "colorbar": {
             "outlinewidth": 0,
             "ticks": ""
            },
            "colorscale": [
             [
              0,
              "#0d0887"
             ],
             [
              0.1111111111111111,
              "#46039f"
             ],
             [
              0.2222222222222222,
              "#7201a8"
             ],
             [
              0.3333333333333333,
              "#9c179e"
             ],
             [
              0.4444444444444444,
              "#bd3786"
             ],
             [
              0.5555555555555556,
              "#d8576b"
             ],
             [
              0.6666666666666666,
              "#ed7953"
             ],
             [
              0.7777777777777778,
              "#fb9f3a"
             ],
             [
              0.8888888888888888,
              "#fdca26"
             ],
             [
              1,
              "#f0f921"
             ]
            ],
            "type": "heatmap"
           }
          ],
          "heatmapgl": [
           {
            "colorbar": {
             "outlinewidth": 0,
             "ticks": ""
            },
            "colorscale": [
             [
              0,
              "#0d0887"
             ],
             [
              0.1111111111111111,
              "#46039f"
             ],
             [
              0.2222222222222222,
              "#7201a8"
             ],
             [
              0.3333333333333333,
              "#9c179e"
             ],
             [
              0.4444444444444444,
              "#bd3786"
             ],
             [
              0.5555555555555556,
              "#d8576b"
             ],
             [
              0.6666666666666666,
              "#ed7953"
             ],
             [
              0.7777777777777778,
              "#fb9f3a"
             ],
             [
              0.8888888888888888,
              "#fdca26"
             ],
             [
              1,
              "#f0f921"
             ]
            ],
            "type": "heatmapgl"
           }
          ],
          "histogram": [
           {
            "marker": {
             "pattern": {
              "fillmode": "overlay",
              "size": 10,
              "solidity": 0.2
             }
            },
            "type": "histogram"
           }
          ],
          "histogram2d": [
           {
            "colorbar": {
             "outlinewidth": 0,
             "ticks": ""
            },
            "colorscale": [
             [
              0,
              "#0d0887"
             ],
             [
              0.1111111111111111,
              "#46039f"
             ],
             [
              0.2222222222222222,
              "#7201a8"
             ],
             [
              0.3333333333333333,
              "#9c179e"
             ],
             [
              0.4444444444444444,
              "#bd3786"
             ],
             [
              0.5555555555555556,
              "#d8576b"
             ],
             [
              0.6666666666666666,
              "#ed7953"
             ],
             [
              0.7777777777777778,
              "#fb9f3a"
             ],
             [
              0.8888888888888888,
              "#fdca26"
             ],
             [
              1,
              "#f0f921"
             ]
            ],
            "type": "histogram2d"
           }
          ],
          "histogram2dcontour": [
           {
            "colorbar": {
             "outlinewidth": 0,
             "ticks": ""
            },
            "colorscale": [
             [
              0,
              "#0d0887"
             ],
             [
              0.1111111111111111,
              "#46039f"
             ],
             [
              0.2222222222222222,
              "#7201a8"
             ],
             [
              0.3333333333333333,
              "#9c179e"
             ],
             [
              0.4444444444444444,
              "#bd3786"
             ],
             [
              0.5555555555555556,
              "#d8576b"
             ],
             [
              0.6666666666666666,
              "#ed7953"
             ],
             [
              0.7777777777777778,
              "#fb9f3a"
             ],
             [
              0.8888888888888888,
              "#fdca26"
             ],
             [
              1,
              "#f0f921"
             ]
            ],
            "type": "histogram2dcontour"
           }
          ],
          "mesh3d": [
           {
            "colorbar": {
             "outlinewidth": 0,
             "ticks": ""
            },
            "type": "mesh3d"
           }
          ],
          "parcoords": [
           {
            "line": {
             "colorbar": {
              "outlinewidth": 0,
              "ticks": ""
             }
            },
            "type": "parcoords"
           }
          ],
          "pie": [
           {
            "automargin": true,
            "type": "pie"
           }
          ],
          "scatter": [
           {
            "fillpattern": {
             "fillmode": "overlay",
             "size": 10,
             "solidity": 0.2
            },
            "type": "scatter"
           }
          ],
          "scatter3d": [
           {
            "line": {
             "colorbar": {
              "outlinewidth": 0,
              "ticks": ""
             }
            },
            "marker": {
             "colorbar": {
              "outlinewidth": 0,
              "ticks": ""
             }
            },
            "type": "scatter3d"
           }
          ],
          "scattercarpet": [
           {
            "marker": {
             "colorbar": {
              "outlinewidth": 0,
              "ticks": ""
             }
            },
            "type": "scattercarpet"
           }
          ],
          "scattergeo": [
           {
            "marker": {
             "colorbar": {
              "outlinewidth": 0,
              "ticks": ""
             }
            },
            "type": "scattergeo"
           }
          ],
          "scattergl": [
           {
            "marker": {
             "colorbar": {
              "outlinewidth": 0,
              "ticks": ""
             }
            },
            "type": "scattergl"
           }
          ],
          "scattermapbox": [
           {
            "marker": {
             "colorbar": {
              "outlinewidth": 0,
              "ticks": ""
             }
            },
            "type": "scattermapbox"
           }
          ],
          "scatterpolar": [
           {
            "marker": {
             "colorbar": {
              "outlinewidth": 0,
              "ticks": ""
             }
            },
            "type": "scatterpolar"
           }
          ],
          "scatterpolargl": [
           {
            "marker": {
             "colorbar": {
              "outlinewidth": 0,
              "ticks": ""
             }
            },
            "type": "scatterpolargl"
           }
          ],
          "scatterternary": [
           {
            "marker": {
             "colorbar": {
              "outlinewidth": 0,
              "ticks": ""
             }
            },
            "type": "scatterternary"
           }
          ],
          "surface": [
           {
            "colorbar": {
             "outlinewidth": 0,
             "ticks": ""
            },
            "colorscale": [
             [
              0,
              "#0d0887"
             ],
             [
              0.1111111111111111,
              "#46039f"
             ],
             [
              0.2222222222222222,
              "#7201a8"
             ],
             [
              0.3333333333333333,
              "#9c179e"
             ],
             [
              0.4444444444444444,
              "#bd3786"
             ],
             [
              0.5555555555555556,
              "#d8576b"
             ],
             [
              0.6666666666666666,
              "#ed7953"
             ],
             [
              0.7777777777777778,
              "#fb9f3a"
             ],
             [
              0.8888888888888888,
              "#fdca26"
             ],
             [
              1,
              "#f0f921"
             ]
            ],
            "type": "surface"
           }
          ],
          "table": [
           {
            "cells": {
             "fill": {
              "color": "#EBF0F8"
             },
             "line": {
              "color": "white"
             }
            },
            "header": {
             "fill": {
              "color": "#C8D4E3"
             },
             "line": {
              "color": "white"
             }
            },
            "type": "table"
           }
          ]
         },
         "layout": {
          "annotationdefaults": {
           "arrowcolor": "#2a3f5f",
           "arrowhead": 0,
           "arrowwidth": 1
          },
          "autotypenumbers": "strict",
          "coloraxis": {
           "colorbar": {
            "outlinewidth": 0,
            "ticks": ""
           }
          },
          "colorscale": {
           "diverging": [
            [
             0,
             "#8e0152"
            ],
            [
             0.1,
             "#c51b7d"
            ],
            [
             0.2,
             "#de77ae"
            ],
            [
             0.3,
             "#f1b6da"
            ],
            [
             0.4,
             "#fde0ef"
            ],
            [
             0.5,
             "#f7f7f7"
            ],
            [
             0.6,
             "#e6f5d0"
            ],
            [
             0.7,
             "#b8e186"
            ],
            [
             0.8,
             "#7fbc41"
            ],
            [
             0.9,
             "#4d9221"
            ],
            [
             1,
             "#276419"
            ]
           ],
           "sequential": [
            [
             0,
             "#0d0887"
            ],
            [
             0.1111111111111111,
             "#46039f"
            ],
            [
             0.2222222222222222,
             "#7201a8"
            ],
            [
             0.3333333333333333,
             "#9c179e"
            ],
            [
             0.4444444444444444,
             "#bd3786"
            ],
            [
             0.5555555555555556,
             "#d8576b"
            ],
            [
             0.6666666666666666,
             "#ed7953"
            ],
            [
             0.7777777777777778,
             "#fb9f3a"
            ],
            [
             0.8888888888888888,
             "#fdca26"
            ],
            [
             1,
             "#f0f921"
            ]
           ],
           "sequentialminus": [
            [
             0,
             "#0d0887"
            ],
            [
             0.1111111111111111,
             "#46039f"
            ],
            [
             0.2222222222222222,
             "#7201a8"
            ],
            [
             0.3333333333333333,
             "#9c179e"
            ],
            [
             0.4444444444444444,
             "#bd3786"
            ],
            [
             0.5555555555555556,
             "#d8576b"
            ],
            [
             0.6666666666666666,
             "#ed7953"
            ],
            [
             0.7777777777777778,
             "#fb9f3a"
            ],
            [
             0.8888888888888888,
             "#fdca26"
            ],
            [
             1,
             "#f0f921"
            ]
           ]
          },
          "colorway": [
           "#636efa",
           "#EF553B",
           "#00cc96",
           "#ab63fa",
           "#FFA15A",
           "#19d3f3",
           "#FF6692",
           "#B6E880",
           "#FF97FF",
           "#FECB52"
          ],
          "font": {
           "color": "#2a3f5f"
          },
          "geo": {
           "bgcolor": "white",
           "lakecolor": "white",
           "landcolor": "#E5ECF6",
           "showlakes": true,
           "showland": true,
           "subunitcolor": "white"
          },
          "hoverlabel": {
           "align": "left"
          },
          "hovermode": "closest",
          "mapbox": {
           "style": "light"
          },
          "paper_bgcolor": "white",
          "plot_bgcolor": "#E5ECF6",
          "polar": {
           "angularaxis": {
            "gridcolor": "white",
            "linecolor": "white",
            "ticks": ""
           },
           "bgcolor": "#E5ECF6",
           "radialaxis": {
            "gridcolor": "white",
            "linecolor": "white",
            "ticks": ""
           }
          },
          "scene": {
           "xaxis": {
            "backgroundcolor": "#E5ECF6",
            "gridcolor": "white",
            "gridwidth": 2,
            "linecolor": "white",
            "showbackground": true,
            "ticks": "",
            "zerolinecolor": "white"
           },
           "yaxis": {
            "backgroundcolor": "#E5ECF6",
            "gridcolor": "white",
            "gridwidth": 2,
            "linecolor": "white",
            "showbackground": true,
            "ticks": "",
            "zerolinecolor": "white"
           },
           "zaxis": {
            "backgroundcolor": "#E5ECF6",
            "gridcolor": "white",
            "gridwidth": 2,
            "linecolor": "white",
            "showbackground": true,
            "ticks": "",
            "zerolinecolor": "white"
           }
          },
          "shapedefaults": {
           "line": {
            "color": "#2a3f5f"
           }
          },
          "ternary": {
           "aaxis": {
            "gridcolor": "white",
            "linecolor": "white",
            "ticks": ""
           },
           "baxis": {
            "gridcolor": "white",
            "linecolor": "white",
            "ticks": ""
           },
           "bgcolor": "#E5ECF6",
           "caxis": {
            "gridcolor": "white",
            "linecolor": "white",
            "ticks": ""
           }
          },
          "title": {
           "x": 0.05
          },
          "xaxis": {
           "automargin": true,
           "gridcolor": "white",
           "linecolor": "white",
           "ticks": "",
           "title": {
            "standoff": 15
           },
           "zerolinecolor": "white",
           "zerolinewidth": 2
          },
          "yaxis": {
           "automargin": true,
           "gridcolor": "white",
           "linecolor": "white",
           "ticks": "",
           "title": {
            "standoff": 15
           },
           "zerolinecolor": "white",
           "zerolinewidth": 2
          }
         }
        },
        "title": {
         "text": "TOP 10 Names by Genre and Gender (Press on the Genre to see the names)"
        },
        "width": 1600
       }
      }
     },
     "metadata": {},
     "output_type": "display_data"
    }
   ],
   "source": [
    "# Create the sunburst plots for females and males\n",
    "fig_females = go.Figure(go.Sunburst(\n",
    "    labels=data_f['character'],\n",
    "    parents=data_f['parent'],\n",
    "    domain=dict(column=1),\n",
    "    maxdepth=2\n",
    "))\n",
    "\n",
    "fig_males = go.Figure(go.Sunburst(\n",
    "    labels=data_m['character'],\n",
    "    parents=data_m['parent'],\n",
    "    domain=dict(column=1),\n",
    "    maxdepth=2\n",
    "))\n",
    "\n",
    "fig = make_subplots(\n",
    "    rows=1, cols=2,\n",
    "    subplot_titles=[\"Females\", \"Males\"],\n",
    "    specs=[[{\"type\": \"sunburst\"}, {\"type\": \"sunburst\"}]]\n",
    ")\n",
    "\n",
    "fig.add_trace(fig_females['data'][0], row=1, col=1)\n",
    "fig.add_trace(fig_males['data'][0], row=1, col=2)\n",
    "\n",
    "fig.update_layout(\n",
    "    title_text=\"TOP 10 Names by Genre and Gender (Press on the Genre to see the names)\",\n",
    "    showlegend=False,\n",
    "    width=1600,\n",
    "    height=800,\n",
    "    font=dict(size=13),\n",
    ")\n",
    "\n",
    "fig.show()"
   ]
  },
  {
   "cell_type": "markdown",
   "metadata": {},
   "source": [
    "### 2.1.b Character Search Engine"
   ]
  },
  {
   "cell_type": "markdown",
   "metadata": {},
   "source": [
    "We created a movie finder where a specific string can be found in one of the characters name within our dataset."
   ]
  },
  {
   "cell_type": "code",
   "execution_count": 343,
   "metadata": {},
   "outputs": [
    {
     "data": {
      "text/html": [
       "<div>\n",
       "<style scoped>\n",
       "    .dataframe tbody tr th:only-of-type {\n",
       "        vertical-align: middle;\n",
       "    }\n",
       "\n",
       "    .dataframe tbody tr th {\n",
       "        vertical-align: top;\n",
       "    }\n",
       "\n",
       "    .dataframe thead th {\n",
       "        text-align: right;\n",
       "    }\n",
       "</style>\n",
       "<table border=\"1\" class=\"dataframe\">\n",
       "  <thead>\n",
       "    <tr style=\"text-align: right;\">\n",
       "      <th></th>\n",
       "      <th>Genre_Category</th>\n",
       "      <th>Count</th>\n",
       "    </tr>\n",
       "  </thead>\n",
       "  <tbody>\n",
       "    <tr>\n",
       "      <th>0</th>\n",
       "      <td>Action &amp; Adventure</td>\n",
       "      <td>0</td>\n",
       "    </tr>\n",
       "    <tr>\n",
       "      <th>1</th>\n",
       "      <td>Drama</td>\n",
       "      <td>0</td>\n",
       "    </tr>\n",
       "    <tr>\n",
       "      <th>2</th>\n",
       "      <td>Comedy</td>\n",
       "      <td>0</td>\n",
       "    </tr>\n",
       "    <tr>\n",
       "      <th>3</th>\n",
       "      <td>Horror &amp; Thriller</td>\n",
       "      <td>0</td>\n",
       "    </tr>\n",
       "    <tr>\n",
       "      <th>4</th>\n",
       "      <td>Fantasy &amp; Sci-Fi</td>\n",
       "      <td>0</td>\n",
       "    </tr>\n",
       "    <tr>\n",
       "      <th>5</th>\n",
       "      <td>Historical &amp; War</td>\n",
       "      <td>0</td>\n",
       "    </tr>\n",
       "    <tr>\n",
       "      <th>6</th>\n",
       "      <td>Romance</td>\n",
       "      <td>0</td>\n",
       "    </tr>\n",
       "    <tr>\n",
       "      <th>7</th>\n",
       "      <td>Documentary</td>\n",
       "      <td>0</td>\n",
       "    </tr>\n",
       "    <tr>\n",
       "      <th>8</th>\n",
       "      <td>Music &amp; Performance</td>\n",
       "      <td>0</td>\n",
       "    </tr>\n",
       "    <tr>\n",
       "      <th>9</th>\n",
       "      <td>Cult &amp; B-Movies</td>\n",
       "      <td>0</td>\n",
       "    </tr>\n",
       "    <tr>\n",
       "      <th>10</th>\n",
       "      <td>Other</td>\n",
       "      <td>0</td>\n",
       "    </tr>\n",
       "    <tr>\n",
       "      <th>11</th>\n",
       "      <td>Total different movies</td>\n",
       "      <td>0</td>\n",
       "    </tr>\n",
       "  </tbody>\n",
       "</table>\n",
       "</div>"
      ],
      "text/plain": [
       "            Genre_Category  Count\n",
       "0       Action & Adventure      0\n",
       "1                    Drama      0\n",
       "2                   Comedy      0\n",
       "3        Horror & Thriller      0\n",
       "4         Fantasy & Sci-Fi      0\n",
       "5         Historical & War      0\n",
       "6                  Romance      0\n",
       "7              Documentary      0\n",
       "8      Music & Performance      0\n",
       "9          Cult & B-Movies      0\n",
       "10                   Other      0\n",
       "11  Total different movies      0"
      ]
     },
     "execution_count": 343,
     "metadata": {},
     "output_type": "execute_result"
    }
   ],
   "source": [
    "# Looking for the appearance of all the character with a name starting by the selected string\n",
    "\n",
    "genre_counts_result, movies_with_name = analyze_genre.count_name_appearance_by_genre('Leo')\n",
    "genre_counts_result.head(15)    # Print the genre of the movies where this character exists"
   ]
  },
  {
   "cell_type": "code",
   "execution_count": 344,
   "metadata": {},
   "outputs": [
    {
     "data": {
      "text/html": [
       "<div>\n",
       "<style scoped>\n",
       "    .dataframe tbody tr th:only-of-type {\n",
       "        vertical-align: middle;\n",
       "    }\n",
       "\n",
       "    .dataframe tbody tr th {\n",
       "        vertical-align: top;\n",
       "    }\n",
       "\n",
       "    .dataframe thead th {\n",
       "        text-align: right;\n",
       "    }\n",
       "</style>\n",
       "<table border=\"1\" class=\"dataframe\">\n",
       "  <thead>\n",
       "    <tr style=\"text-align: right;\">\n",
       "      <th></th>\n",
       "      <th>Wikipedia_ID</th>\n",
       "      <th>Name</th>\n",
       "      <th>Languages</th>\n",
       "      <th>Country</th>\n",
       "      <th>Character_name</th>\n",
       "      <th>Sex</th>\n",
       "      <th>Actor_age</th>\n",
       "      <th>Release_date</th>\n",
       "      <th>Genre_Category</th>\n",
       "    </tr>\n",
       "  </thead>\n",
       "  <tbody>\n",
       "    <tr>\n",
       "      <th>99</th>\n",
       "      <td>27611999</td>\n",
       "      <td>Special Effects</td>\n",
       "      <td>[]</td>\n",
       "      <td>[United States of America, United Kingdom]</td>\n",
       "      <td>Leon</td>\n",
       "      <td>NaN</td>\n",
       "      <td>NaN</td>\n",
       "      <td>1984</td>\n",
       "      <td>['Action &amp; Adventure', 'Horror &amp; Thriller', 'D...</td>\n",
       "    </tr>\n",
       "    <tr>\n",
       "      <th>539</th>\n",
       "      <td>21271533</td>\n",
       "      <td>Bleeder</td>\n",
       "      <td>[Danish Language]</td>\n",
       "      <td>[Denmark]</td>\n",
       "      <td>Leo</td>\n",
       "      <td>M</td>\n",
       "      <td>34.0</td>\n",
       "      <td>1999-08-06</td>\n",
       "      <td>['Action &amp; Adventure', 'Horror &amp; Thriller', 'D...</td>\n",
       "    </tr>\n",
       "    <tr>\n",
       "      <th>567</th>\n",
       "      <td>17379289</td>\n",
       "      <td>Without Warning</td>\n",
       "      <td>[English Language]</td>\n",
       "      <td>[United States of America]</td>\n",
       "      <td>Leo</td>\n",
       "      <td>M</td>\n",
       "      <td>60.0</td>\n",
       "      <td>1980-11-26</td>\n",
       "      <td>['Fantasy &amp; Sci-Fi', 'Horror &amp; Thriller']</td>\n",
       "    </tr>\n",
       "    <tr>\n",
       "      <th>731</th>\n",
       "      <td>13911991</td>\n",
       "      <td>A Sereia de Pedra</td>\n",
       "      <td>[French Language]</td>\n",
       "      <td>[France, Portugal]</td>\n",
       "      <td>Leonor</td>\n",
       "      <td>F</td>\n",
       "      <td>NaN</td>\n",
       "      <td>1923-04-02</td>\n",
       "      <td>['Drama']</td>\n",
       "    </tr>\n",
       "    <tr>\n",
       "      <th>2046</th>\n",
       "      <td>20927265</td>\n",
       "      <td>Camões</td>\n",
       "      <td>[Portuguese Language]</td>\n",
       "      <td>[Portugal]</td>\n",
       "      <td>Leonor</td>\n",
       "      <td>F</td>\n",
       "      <td>24.0</td>\n",
       "      <td>1946-09-20</td>\n",
       "      <td>['Documentary', 'Drama']</td>\n",
       "    </tr>\n",
       "  </tbody>\n",
       "</table>\n",
       "</div>"
      ],
      "text/plain": [
       "      Wikipedia_ID               Name              Languages  \\\n",
       "99        27611999    Special Effects                     []   \n",
       "539       21271533            Bleeder      [Danish Language]   \n",
       "567       17379289    Without Warning     [English Language]   \n",
       "731       13911991  A Sereia de Pedra      [French Language]   \n",
       "2046      20927265             Camões  [Portuguese Language]   \n",
       "\n",
       "                                         Country Character_name  Sex  \\\n",
       "99    [United States of America, United Kingdom]           Leon  NaN   \n",
       "539                                    [Denmark]            Leo    M   \n",
       "567                   [United States of America]            Leo    M   \n",
       "731                           [France, Portugal]         Leonor    F   \n",
       "2046                                  [Portugal]         Leonor    F   \n",
       "\n",
       "      Actor_age Release_date  \\\n",
       "99          NaN         1984   \n",
       "539        34.0   1999-08-06   \n",
       "567        60.0   1980-11-26   \n",
       "731         NaN   1923-04-02   \n",
       "2046       24.0   1946-09-20   \n",
       "\n",
       "                                         Genre_Category  \n",
       "99    ['Action & Adventure', 'Horror & Thriller', 'D...  \n",
       "539   ['Action & Adventure', 'Horror & Thriller', 'D...  \n",
       "567           ['Fantasy & Sci-Fi', 'Horror & Thriller']  \n",
       "731                                           ['Drama']  \n",
       "2046                           ['Documentary', 'Drama']  "
      ]
     },
     "execution_count": 344,
     "metadata": {},
     "output_type": "execute_result"
    }
   ],
   "source": [
    "# General list of the movies where this character is\n",
    "movies_with_name.head(5)"
   ]
  },
  {
   "cell_type": "markdown",
   "metadata": {},
   "source": [
    "### 2.1.c Statistical analysis for Genre"
   ]
  },
  {
   "cell_type": "markdown",
   "metadata": {},
   "source": [
    "In order to compare the influence of genre on the characters' names, we decided to run chi2 tests and a Cramér's V test. This will allow us to highlight a possible influence."
   ]
  },
  {
   "cell_type": "code",
   "execution_count": 345,
   "metadata": {},
   "outputs": [
    {
     "name": "stdout",
     "output_type": "stream",
     "text": [
      "Chi-Square Statistic: 49985178.499720074\n",
      "p-value: 0.0\n"
     ]
    }
   ],
   "source": [
    "df_expanded = df_char_cleaned.explode('Genre_Category')\n",
    "\n",
    "contingency_table = create_contingency_table(df_expanded,'Character_name','Genre_Category')\n",
    "chi2, p_value, dof, expected = chi2_contingency(contingency_table)\n",
    "\n",
    "print(f\"Chi-Square Statistic: {chi2}\")\n",
    "print(f\"p-value: {p_value}\")"
   ]
  },
  {
   "cell_type": "markdown",
   "metadata": {},
   "source": [
    "The p-value is very close to zero, hence we can say taht there is an association between character names and genres. We will now try to quantify this association using Cramér's V."
   ]
  },
  {
   "cell_type": "code",
   "execution_count": 346,
   "metadata": {},
   "outputs": [
    {
     "name": "stdout",
     "output_type": "stream",
     "text": [
      "Cramér's V: 0.494897177000879\n"
     ]
    }
   ],
   "source": [
    "n = contingency_table.sum().sum()\n",
    "k = min(contingency_table.shape)\n",
    "cramers_v = np.sqrt(chi2 / (n * (k - 1)))\n",
    "\n",
    "print(f\"Cramér's V: {cramers_v}\")"
   ]
  },
  {
   "cell_type": "markdown",
   "metadata": {},
   "source": [
    "The Cramér's V is close to 0.35, meaning there is a moderate association between genres and character names."
   ]
  },
  {
   "cell_type": "markdown",
   "metadata": {},
   "source": [
    "## 2.2 Gender Analysis"
   ]
  },
  {
   "cell_type": "markdown",
   "metadata": {},
   "source": [
    "The purpose of this section is to conjecture if wether or not a correlation between characters' names and their gender can be found. For that, we analyzed length, vowels and consonants' counts distributions in the names and compared it depending on character's gender."
   ]
  },
  {
   "cell_type": "code",
   "execution_count": 347,
   "metadata": {},
   "outputs": [],
   "source": [
    "analyze_gender = GenderAnalyzer(df_char_cleaned)\n",
    "df_vowels, df_consonants = analyze_gender.get_vowel_stats()"
   ]
  },
  {
   "cell_type": "markdown",
   "metadata": {},
   "source": [
    "### 2.2.a Vowels and consonants count"
   ]
  },
  {
   "cell_type": "code",
   "execution_count": 348,
   "metadata": {},
   "outputs": [
    {
     "data": {
      "image/png": "[encoded data removed]",
      "text/plain": [
       "<Figure size 1400x600 with 2 Axes>"
      ]
     },
     "metadata": {},
     "output_type": "display_data"
    }
   ],
   "source": [
    "fig, axes = plt.subplots(1, 2, figsize=(14, 6))\n",
    "\n",
    "# Boxplot for vowel count by sex\n",
    "sns.boxenplot(data=df_char_cleaned, x='Sex', y='vowel_count', ax=axes[0])\n",
    "axes[0].set_title('Vowel Count by Gender')\n",
    "axes[0].set_xlabel('Gender')\n",
    "axes[0].set_ylabel('Vowel Count')\n",
    "\n",
    "# Boxplot for consonant count by sex\n",
    "sns.boxenplot(data=df_char_cleaned, x='Sex', y='consonant_count', ax=axes[1])\n",
    "axes[1].set_title('Consonant Count by Gender')\n",
    "axes[1].set_xlabel('Gender')\n",
    "axes[1].set_ylabel('Consonant Count')\n",
    "\n",
    "plt.tight_layout()"
   ]
  },
  {
   "cell_type": "markdown",
   "metadata": {},
   "source": [
    "### 2.2.b Name Length per gender"
   ]
  },
  {
   "cell_type": "markdown",
   "metadata": {},
   "source": [
    "### 2.2.c First and last letters of the characters' name depending on the gender"
   ]
  },
  {
   "cell_type": "markdown",
   "metadata": {},
   "source": [
    "*Interactive hover plot in this section*"
   ]
  },
  {
   "cell_type": "markdown",
   "metadata": {},
   "source": [
    "#### 2.2.d Top names of characters across Age and Gender"
   ]
  },
  {
   "cell_type": "markdown",
   "metadata": {},
   "source": [
    "*Interactive hover plot in this section*"
   ]
  },
  {
   "cell_type": "code",
   "execution_count": 349,
   "metadata": {},
   "outputs": [
    {
     "data": {
      "application/vnd.plotly.v1+json": {
       "config": {
        "plotlyServerURL": "https://plot.ly"
       },
       "data": [
        {
         "hoverinfo": "text",
         "hovertext": [
          "Top names: Michael, Mickey, Kid",
          "Top names: Kid, Charlie, Tom",
          "Top names: Paul, Danny, Michael",
          "Top names: John, David, Tom",
          "Top names: John, David, Tom",
          "Top names: John, George, Robert",
          "Top names: John, George, James",
          "Top names: John, George, Charles",
          "Top names: John, George, Arthur",
          "Top names: Donald, Wallace, Edward"
         ],
         "marker": {
          "color": "skyblue"
         },
         "name": "Male",
         "type": "bar",
         "x": [
          "<12y",
          "13y-17y",
          "18y-24y",
          "25y-34y",
          "35y-44y",
          "45y-54y",
          "55y-64y",
          "65y-74y",
          "75y-84y",
          ">85y"
         ],
         "y": [
          0.9436768522222564,
          1.495522663630489,
          4.556318019099199,
          18.681724466873863,
          20.901416541014044,
          14.534674995640623,
          8.065359879373482,
          3.191063790503739,
          0.8995702167379552,
          0.13847432070652677
         ]
        },
        {
         "hoverinfo": "text",
         "hovertext": [
          "Top names: Susan, Katie, Emily",
          "Top names: Sarah, Alice, Samantha",
          "Top names: Priya, Mary, Julie",
          "Top names: Sarah, Kate, Lisa",
          "Top names: Sarah, Susan, Kate",
          "Top names: Helen, Sarah, Martha",
          "Top names: Helen, Margaret, Barbara",
          "Top names: Martha, Helen, Grace",
          "Top names: La, Mary, Dorothy",
          "Top names: Mme, Annie, Barbara"
         ],
         "marker": {
          "color": "salmon"
         },
         "name": "Female",
         "type": "bar",
         "x": [
          "<12y",
          "13y-17y",
          "18y-24y",
          "25y-34y",
          "35y-44y",
          "45y-54y",
          "55y-64y",
          "65y-74y",
          "75y-84y",
          ">85y"
         ],
         "y": [
          1.6756623275831657,
          2.5664091438247434,
          14.163756305781916,
          28.82315588951212,
          15.343775355416799,
          7.46287085053092,
          3.751719758704625,
          1.6209828200515044,
          0.626168553991604,
          0.14110840653331921
         ]
        }
       ],
       "layout": {
        "barmode": "group",
        "legend": {
         "title": {
          "text": "Gender"
         }
        },
        "template": {
         "data": {
          "bar": [
           {
            "error_x": {
             "color": "#2a3f5f"
            },
            "error_y": {
             "color": "#2a3f5f"
            },
            "marker": {
             "line": {
              "color": "#E5ECF6",
              "width": 0.5
             },
             "pattern": {
              "fillmode": "overlay",
              "size": 10,
              "solidity": 0.2
             }
            },
            "type": "bar"
           }
          ],
          "barpolar": [
           {
            "marker": {
             "line": {
              "color": "#E5ECF6",
              "width": 0.5
             },
             "pattern": {
              "fillmode": "overlay",
              "size": 10,
              "solidity": 0.2
             }
            },
            "type": "barpolar"
           }
          ],
          "carpet": [
           {
            "aaxis": {
             "endlinecolor": "#2a3f5f",
             "gridcolor": "white",
             "linecolor": "white",
             "minorgridcolor": "white",
             "startlinecolor": "#2a3f5f"
            },
            "baxis": {
             "endlinecolor": "#2a3f5f",
             "gridcolor": "white",
             "linecolor": "white",
             "minorgridcolor": "white",
             "startlinecolor": "#2a3f5f"
            },
            "type": "carpet"
           }
          ],
          "choropleth": [
           {
            "colorbar": {
             "outlinewidth": 0,
             "ticks": ""
            },
            "type": "choropleth"
           }
          ],
          "contour": [
           {
            "colorbar": {
             "outlinewidth": 0,
             "ticks": ""
            },
            "colorscale": [
             [
              0,
              "#0d0887"
             ],
             [
              0.1111111111111111,
              "#46039f"
             ],
             [
              0.2222222222222222,
              "#7201a8"
             ],
             [
              0.3333333333333333,
              "#9c179e"
             ],
             [
              0.4444444444444444,
              "#bd3786"
             ],
             [
              0.5555555555555556,
              "#d8576b"
             ],
             [
              0.6666666666666666,
              "#ed7953"
             ],
             [
              0.7777777777777778,
              "#fb9f3a"
             ],
             [
              0.8888888888888888,
              "#fdca26"
             ],
             [
              1,
              "#f0f921"
             ]
            ],
            "type": "contour"
           }
          ],
          "contourcarpet": [
           {
            "colorbar": {
             "outlinewidth": 0,
             "ticks": ""
            },
            "type": "contourcarpet"
           }
          ],
          "heatmap": [
           {
            "colorbar": {
             "outlinewidth": 0,
             "ticks": ""
            },
            "colorscale": [
             [
              0,
              "#0d0887"
             ],
             [
              0.1111111111111111,
              "#46039f"
             ],
             [
              0.2222222222222222,
              "#7201a8"
             ],
             [
              0.3333333333333333,
              "#9c179e"
             ],
             [
              0.4444444444444444,
              "#bd3786"
             ],
             [
              0.5555555555555556,
              "#d8576b"
             ],
             [
              0.6666666666666666,
              "#ed7953"
             ],
             [
              0.7777777777777778,
              "#fb9f3a"
             ],
             [
              0.8888888888888888,
              "#fdca26"
             ],
             [
              1,
              "#f0f921"
             ]
            ],
            "type": "heatmap"
           }
          ],
          "heatmapgl": [
           {
            "colorbar": {
             "outlinewidth": 0,
             "ticks": ""
            },
            "colorscale": [
             [
              0,
              "#0d0887"
             ],
             [
              0.1111111111111111,
              "#46039f"
             ],
             [
              0.2222222222222222,
              "#7201a8"
             ],
             [
              0.3333333333333333,
              "#9c179e"
             ],
             [
              0.4444444444444444,
              "#bd3786"
             ],
             [
              0.5555555555555556,
              "#d8576b"
             ],
             [
              0.6666666666666666,
              "#ed7953"
             ],
             [
              0.7777777777777778,
              "#fb9f3a"
             ],
             [
              0.8888888888888888,
              "#fdca26"
             ],
             [
              1,
              "#f0f921"
             ]
            ],
            "type": "heatmapgl"
           }
          ],
          "histogram": [
           {
            "marker": {
             "pattern": {
              "fillmode": "overlay",
              "size": 10,
              "solidity": 0.2
             }
            },
            "type": "histogram"
           }
          ],
          "histogram2d": [
           {
            "colorbar": {
             "outlinewidth": 0,
             "ticks": ""
            },
            "colorscale": [
             [
              0,
              "#0d0887"
             ],
             [
              0.1111111111111111,
              "#46039f"
             ],
             [
              0.2222222222222222,
              "#7201a8"
             ],
             [
              0.3333333333333333,
              "#9c179e"
             ],
             [
              0.4444444444444444,
              "#bd3786"
             ],
             [
              0.5555555555555556,
              "#d8576b"
             ],
             [
              0.6666666666666666,
              "#ed7953"
             ],
             [
              0.7777777777777778,
              "#fb9f3a"
             ],
             [
              0.8888888888888888,
              "#fdca26"
             ],
             [
              1,
              "#f0f921"
             ]
            ],
            "type": "histogram2d"
           }
          ],
          "histogram2dcontour": [
           {
            "colorbar": {
             "outlinewidth": 0,
             "ticks": ""
            },
            "colorscale": [
             [
              0,
              "#0d0887"
             ],
             [
              0.1111111111111111,
              "#46039f"
             ],
             [
              0.2222222222222222,
              "#7201a8"
             ],
             [
              0.3333333333333333,
              "#9c179e"
             ],
             [
              0.4444444444444444,
              "#bd3786"
             ],
             [
              0.5555555555555556,
              "#d8576b"
             ],
             [
              0.6666666666666666,
              "#ed7953"
             ],
             [
              0.7777777777777778,
              "#fb9f3a"
             ],
             [
              0.8888888888888888,
              "#fdca26"
             ],
             [
              1,
              "#f0f921"
             ]
            ],
            "type": "histogram2dcontour"
           }
          ],
          "mesh3d": [
           {
            "colorbar": {
             "outlinewidth": 0,
             "ticks": ""
            },
            "type": "mesh3d"
           }
          ],
          "parcoords": [
           {
            "line": {
             "colorbar": {
              "outlinewidth": 0,
              "ticks": ""
             }
            },
            "type": "parcoords"
           }
          ],
          "pie": [
           {
            "automargin": true,
            "type": "pie"
           }
          ],
          "scatter": [
           {
            "fillpattern": {
             "fillmode": "overlay",
             "size": 10,
             "solidity": 0.2
            },
            "type": "scatter"
           }
          ],
          "scatter3d": [
           {
            "line": {
             "colorbar": {
              "outlinewidth": 0,
              "ticks": ""
             }
            },
            "marker": {
             "colorbar": {
              "outlinewidth": 0,
              "ticks": ""
             }
            },
            "type": "scatter3d"
           }
          ],
          "scattercarpet": [
           {
            "marker": {
             "colorbar": {
              "outlinewidth": 0,
              "ticks": ""
             }
            },
            "type": "scattercarpet"
           }
          ],
          "scattergeo": [
           {
            "marker": {
             "colorbar": {
              "outlinewidth": 0,
              "ticks": ""
             }
            },
            "type": "scattergeo"
           }
          ],
          "scattergl": [
           {
            "marker": {
             "colorbar": {
              "outlinewidth": 0,
              "ticks": ""
             }
            },
            "type": "scattergl"
           }
          ],
          "scattermapbox": [
           {
            "marker": {
             "colorbar": {
              "outlinewidth": 0,
              "ticks": ""
             }
            },
            "type": "scattermapbox"
           }
          ],
          "scatterpolar": [
           {
            "marker": {
             "colorbar": {
              "outlinewidth": 0,
              "ticks": ""
             }
            },
            "type": "scatterpolar"
           }
          ],
          "scatterpolargl": [
           {
            "marker": {
             "colorbar": {
              "outlinewidth": 0,
              "ticks": ""
             }
            },
            "type": "scatterpolargl"
           }
          ],
          "scatterternary": [
           {
            "marker": {
             "colorbar": {
              "outlinewidth": 0,
              "ticks": ""
             }
            },
            "type": "scatterternary"
           }
          ],
          "surface": [
           {
            "colorbar": {
             "outlinewidth": 0,
             "ticks": ""
            },
            "colorscale": [
             [
              0,
              "#0d0887"
             ],
             [
              0.1111111111111111,
              "#46039f"
             ],
             [
              0.2222222222222222,
              "#7201a8"
             ],
             [
              0.3333333333333333,
              "#9c179e"
             ],
             [
              0.4444444444444444,
              "#bd3786"
             ],
             [
              0.5555555555555556,
              "#d8576b"
             ],
             [
              0.6666666666666666,
              "#ed7953"
             ],
             [
              0.7777777777777778,
              "#fb9f3a"
             ],
             [
              0.8888888888888888,
              "#fdca26"
             ],
             [
              1,
              "#f0f921"
             ]
            ],
            "type": "surface"
           }
          ],
          "table": [
           {
            "cells": {
             "fill": {
              "color": "#EBF0F8"
             },
             "line": {
              "color": "white"
             }
            },
            "header": {
             "fill": {
              "color": "#C8D4E3"
             },
             "line": {
              "color": "white"
             }
            },
            "type": "table"
           }
          ]
         },
         "layout": {
          "annotationdefaults": {
           "arrowcolor": "#2a3f5f",
           "arrowhead": 0,
           "arrowwidth": 1
          },
          "autotypenumbers": "strict",
          "coloraxis": {
           "colorbar": {
            "outlinewidth": 0,
            "ticks": ""
           }
          },
          "colorscale": {
           "diverging": [
            [
             0,
             "#8e0152"
            ],
            [
             0.1,
             "#c51b7d"
            ],
            [
             0.2,
             "#de77ae"
            ],
            [
             0.3,
             "#f1b6da"
            ],
            [
             0.4,
             "#fde0ef"
            ],
            [
             0.5,
             "#f7f7f7"
            ],
            [
             0.6,
             "#e6f5d0"
            ],
            [
             0.7,
             "#b8e186"
            ],
            [
             0.8,
             "#7fbc41"
            ],
            [
             0.9,
             "#4d9221"
            ],
            [
             1,
             "#276419"
            ]
           ],
           "sequential": [
            [
             0,
             "#0d0887"
            ],
            [
             0.1111111111111111,
             "#46039f"
            ],
            [
             0.2222222222222222,
             "#7201a8"
            ],
            [
             0.3333333333333333,
             "#9c179e"
            ],
            [
             0.4444444444444444,
             "#bd3786"
            ],
            [
             0.5555555555555556,
             "#d8576b"
            ],
            [
             0.6666666666666666,
             "#ed7953"
            ],
            [
             0.7777777777777778,
             "#fb9f3a"
            ],
            [
             0.8888888888888888,
             "#fdca26"
            ],
            [
             1,
             "#f0f921"
            ]
           ],
           "sequentialminus": [
            [
             0,
             "#0d0887"
            ],
            [
             0.1111111111111111,
             "#46039f"
            ],
            [
             0.2222222222222222,
             "#7201a8"
            ],
            [
             0.3333333333333333,
             "#9c179e"
            ],
            [
             0.4444444444444444,
             "#bd3786"
            ],
            [
             0.5555555555555556,
             "#d8576b"
            ],
            [
             0.6666666666666666,
             "#ed7953"
            ],
            [
             0.7777777777777778,
             "#fb9f3a"
            ],
            [
             0.8888888888888888,
             "#fdca26"
            ],
            [
             1,
             "#f0f921"
            ]
           ]
          },
          "colorway": [
           "#636efa",
           "#EF553B",
           "#00cc96",
           "#ab63fa",
           "#FFA15A",
           "#19d3f3",
           "#FF6692",
           "#B6E880",
           "#FF97FF",
           "#FECB52"
          ],
          "font": {
           "color": "#2a3f5f"
          },
          "geo": {
           "bgcolor": "white",
           "lakecolor": "white",
           "landcolor": "#E5ECF6",
           "showlakes": true,
           "showland": true,
           "subunitcolor": "white"
          },
          "hoverlabel": {
           "align": "left"
          },
          "hovermode": "closest",
          "mapbox": {
           "style": "light"
          },
          "paper_bgcolor": "white",
          "plot_bgcolor": "#E5ECF6",
          "polar": {
           "angularaxis": {
            "gridcolor": "white",
            "linecolor": "white",
            "ticks": ""
           },
           "bgcolor": "#E5ECF6",
           "radialaxis": {
            "gridcolor": "white",
            "linecolor": "white",
            "ticks": ""
           }
          },
          "scene": {
           "xaxis": {
            "backgroundcolor": "#E5ECF6",
            "gridcolor": "white",
            "gridwidth": 2,
            "linecolor": "white",
            "showbackground": true,
            "ticks": "",
            "zerolinecolor": "white"
           },
           "yaxis": {
            "backgroundcolor": "#E5ECF6",
            "gridcolor": "white",
            "gridwidth": 2,
            "linecolor": "white",
            "showbackground": true,
            "ticks": "",
            "zerolinecolor": "white"
           },
           "zaxis": {
            "backgroundcolor": "#E5ECF6",
            "gridcolor": "white",
            "gridwidth": 2,
            "linecolor": "white",
            "showbackground": true,
            "ticks": "",
            "zerolinecolor": "white"
           }
          },
          "shapedefaults": {
           "line": {
            "color": "#2a3f5f"
           }
          },
          "ternary": {
           "aaxis": {
            "gridcolor": "white",
            "linecolor": "white",
            "ticks": ""
           },
           "baxis": {
            "gridcolor": "white",
            "linecolor": "white",
            "ticks": ""
           },
           "bgcolor": "#E5ECF6",
           "caxis": {
            "gridcolor": "white",
            "linecolor": "white",
            "ticks": ""
           }
          },
          "title": {
           "x": 0.05
          },
          "xaxis": {
           "automargin": true,
           "gridcolor": "white",
           "linecolor": "white",
           "ticks": "",
           "title": {
            "standoff": 15
           },
           "zerolinecolor": "white",
           "zerolinewidth": 2
          },
          "yaxis": {
           "automargin": true,
           "gridcolor": "white",
           "linecolor": "white",
           "ticks": "",
           "title": {
            "standoff": 15
           },
           "zerolinecolor": "white",
           "zerolinewidth": 2
          }
         }
        },
        "title": {
         "text": "Percentage of Males and Females in Each Age Category"
        },
        "xaxis": {
         "tickangle": 0,
         "tickvals": [
          "<12y",
          "13y-17y",
          "18y-24y",
          "25y-34y",
          "35y-44y",
          "45y-54y",
          "55y-64y",
          "65y-74y",
          "75y-84y",
          ">85y"
         ],
         "title": {
          "text": "Age Category"
         }
        },
        "yaxis": {
         "ticksuffix": "%",
         "title": {
          "text": "% of Total Males/Females"
         }
        }
       }
      }
     },
     "metadata": {},
     "output_type": "display_data"
    }
   ],
   "source": [
    "analyze_gender.plot_age_sex_distribution_with_top_names()"
   ]
  },
  {
   "cell_type": "markdown",
   "metadata": {},
   "source": [
    "## 2.3 Geographical Analysis"
   ]
  },
  {
   "cell_type": "markdown",
   "metadata": {},
   "source": [
    "The aim of this section is to present the distribution of top character names across continents and countries."
   ]
  },
  {
   "cell_type": "markdown",
   "metadata": {},
   "source": [
    "### 2.3.a Continent Analysis"
   ]
  },
  {
   "cell_type": "code",
   "execution_count": 350,
   "metadata": {},
   "outputs": [
    {
     "data": {
      "text/html": [
       "<div>\n",
       "<style scoped>\n",
       "    .dataframe tbody tr th:only-of-type {\n",
       "        vertical-align: middle;\n",
       "    }\n",
       "\n",
       "    .dataframe tbody tr th {\n",
       "        vertical-align: top;\n",
       "    }\n",
       "\n",
       "    .dataframe thead th {\n",
       "        text-align: right;\n",
       "    }\n",
       "</style>\n",
       "<table border=\"1\" class=\"dataframe\">\n",
       "  <thead>\n",
       "    <tr style=\"text-align: right;\">\n",
       "      <th></th>\n",
       "      <th>Continent</th>\n",
       "      <th>Female_name</th>\n",
       "      <th>Male_name</th>\n",
       "    </tr>\n",
       "  </thead>\n",
       "  <tbody>\n",
       "    <tr>\n",
       "      <th>0</th>\n",
       "      <td>Africa</td>\n",
       "      <td>Amina*</td>\n",
       "      <td>Omar*</td>\n",
       "    </tr>\n",
       "    <tr>\n",
       "      <th>1</th>\n",
       "      <td>Asia</td>\n",
       "      <td>Priya</td>\n",
       "      <td>Vijay</td>\n",
       "    </tr>\n",
       "    <tr>\n",
       "      <th>2</th>\n",
       "      <td>Europe</td>\n",
       "      <td>La</td>\n",
       "      <td>John</td>\n",
       "    </tr>\n",
       "    <tr>\n",
       "      <th>3</th>\n",
       "      <td>North America</td>\n",
       "      <td>Sarah</td>\n",
       "      <td>John</td>\n",
       "    </tr>\n",
       "    <tr>\n",
       "      <th>4</th>\n",
       "      <td>Oceania</td>\n",
       "      <td>Angie</td>\n",
       "      <td>John</td>\n",
       "    </tr>\n",
       "  </tbody>\n",
       "</table>\n",
       "</div>"
      ],
      "text/plain": [
       "       Continent Female_name Male_name\n",
       "0         Africa      Amina*     Omar*\n",
       "1           Asia       Priya     Vijay\n",
       "2         Europe          La      John\n",
       "3  North America       Sarah      John\n",
       "4        Oceania       Angie      John"
      ]
     },
     "execution_count": 350,
     "metadata": {},
     "output_type": "execute_result"
    }
   ],
   "source": [
    "# Let's generate a table containing the most recurrent names for each continent\n",
    "analyze_countries = CountryAnalyzer(df_char_cleaned)\n",
    "df_continent = analyze_countries.create_continent_df()\n",
    "df_continent.head()"
   ]
  },
  {
   "cell_type": "markdown",
   "metadata": {},
   "source": [
    "\\* 3 other names are in a tie for this category. We choose to display only one name for readability"
   ]
  },
  {
   "cell_type": "markdown",
   "metadata": {},
   "source": [
    "In the table above we see the most recurrent character names for each continent. For Asia, we see that the most common names are indian names. Is it because other nearby countries are influenced by the bollywood industry or because India's movies are predominent in this dataset? \n",
    "We will try to answer the question by plotting the most common character names per country and reting it with the number of movies from this country in the dataset."
   ]
  },
  {
   "cell_type": "markdown",
   "metadata": {},
   "source": [
    "### 2.3.b Country Analysis (Interractive World map)"
   ]
  },
  {
   "cell_type": "markdown",
   "metadata": {},
   "source": [
    "*Interactive hover plot in this section*"
   ]
  },
  {
   "cell_type": "code",
   "execution_count": 351,
   "metadata": {},
   "outputs": [],
   "source": [
    "df_top_names = analyze_countries.create_top_names_df()\n",
    "analyze_countries.add_movie_count(df_top_names)\n",
    "df_top_names = analyze_countries.cleaning_non_countries(df_top_names)"
   ]
  },
  {
   "cell_type": "code",
   "execution_count": 352,
   "metadata": {},
   "outputs": [
    {
     "data": {
      "application/vnd.plotly.v1+json": {
       "config": {
        "plotlyServerURL": "https://plot.ly"
       },
       "data": [
        {
         "type": "scattergeo"
        },
        {
         "colorbar": {
          "ticktext": [
           "10^0",
           "10^1",
           "10^2",
           "10^3",
           "10^4"
          ],
          "tickvals": [
           0,
           1,
           2,
           3,
           4
          ],
          "title": {
           "text": "Number of movies (Log Scale)"
          }
         },
         "colorscale": [
          [
           0,
           "rgb(255,255,204)"
          ],
          [
           0.125,
           "rgb(255,237,160)"
          ],
          [
           0.25,
           "rgb(254,217,118)"
          ],
          [
           0.375,
           "rgb(254,178,76)"
          ],
          [
           0.5,
           "rgb(253,141,60)"
          ],
          [
           0.625,
           "rgb(252,78,42)"
          ],
          [
           0.75,
           "rgb(227,26,28)"
          ],
          [
           0.875,
           "rgb(189,0,38)"
          ],
          [
           1,
           "rgb(128,0,38)"
          ]
         ],
         "hovertemplate": "%{location}<br>%{text}",
         "locationmode": "country names",
         "locations": [
          "Afghanistan",
          "Albania",
          "Algeria",
          "Argentina",
          "Australia",
          "Austria",
          "Bahamas",
          "Bangladesh",
          "Belgium",
          "Bolivia",
          "Bosnia and Herzegovina",
          "Brazil",
          "Bulgaria",
          "Burma",
          "Cambodia",
          "Canada",
          "Chile",
          "China",
          "Colombia",
          "Costa Rica",
          "Croatia",
          "Cyprus",
          "Czech Republic",
          "Czechoslovakia",
          "Denmark",
          "Egypt",
          "Estonia",
          "Finland",
          "France",
          "Georgia",
          "Germany",
          "Greece",
          "Hong Kong",
          "Hungary",
          "Iceland",
          "India",
          "Indonesia",
          "Iran",
          "Ireland",
          "Isle of Man",
          "Israel",
          "Italy",
          "Jamaica",
          "Japan",
          "Korea",
          "Lebanon",
          "Lithuania",
          "Luxembourg",
          "Malayalam Language",
          "Malaysia",
          "Malta",
          "Mexico",
          "Mongolia",
          "Nepal",
          "Netherlands",
          "New Zealand",
          "Norway",
          "Pakistan",
          "Palestinian territories",
          "Peru",
          "Philippines",
          "Poland",
          "Portugal",
          "Puerto Rico",
          "Republic of Macedonia",
          "Romania",
          "Russia",
          "Senegal",
          "Serbia",
          "Serbia and Montenegro",
          "Singapore",
          "Slovak Republic",
          "Slovakia",
          "Slovenia",
          "South Africa",
          "South Korea",
          "Spain",
          "Sri Lanka",
          "Sweden",
          "Switzerland",
          "Taiwan",
          "Thailand",
          "Turkey",
          "Ukraine",
          "Ukrainian SSR",
          "Ukranian SSR",
          "United Arab Emirates",
          "United Kingdom",
          "United States of America",
          "Uruguay",
          "Uzbekistan",
          "Venezuela",
          "Vietnam",
          "Yugoslavia",
          "Zambia",
          "Zimbabwe"
         ],
         "showscale": true,
         "text": [
          "Top female name: Benazir<br>Top male name: Baadshah<br>Nb Movies: 3",
          "Top female name: Agnes<br>Top male name: Apotheker<br>Nb Movies: 2",
          "Top female name: Khadidja<br>Top male name: Adel<br>Nb Movies: 1",
          "Top female name: Susana<br>Top male name: Pedro<br>Nb Movies: 31",
          "Top female name: Angie<br>Top male name: John<br>Nb Movies: 301",
          "Top female name: Frau<br>Top male name: Ein<br>Nb Movies: 49",
          "Top female name: None<br>Top male name: Clyde<br>Nb Movies: 1",
          "Top female name: Meher<br>Top male name: Abdul<br>Nb Movies: 8",
          "Top female name: Christine<br>Top male name: Johan<br>Nb Movies: 39",
          "Top female name: Actriz<br>Top male name: Amigo<br>Nb Movies: 2",
          "Top female name: Cemile<br>Top male name: Vojnik<br>Nb Movies: 2",
          "Top female name: Dona<br>Top male name: João<br>Nb Movies: 55",
          "Top female name: Ave<br>Top male name: Maystor<br>Nb Movies: 10",
          "Top female name: None<br>Top male name: Okkar<br>Nb Movies: 1",
          "Top female name: Kaly<br>Top male name: Chalawan<br>Nb Movies: 6",
          "Top female name: Sarah<br>Top male name: John<br>Nb Movies: 544",
          "Top female name: Carmen<br>Top male name: Marciano<br>Nb Movies: 5",
          "Top female name: Xiao<br>Top male name: Chen<br>Nb Movies: 73",
          "Top female name: Adela<br>Top male name: Jairo<br>Nb Movies: 8",
          "Top female name: Alejandra<br>Top male name: Bernardo<br>Nb Movies: 1",
          "Top female name: Begovica<br>Top male name: Taksist<br>Nb Movies: 9",
          "Top female name: Aphrodite<br>Top male name: Andreas<br>Nb Movies: 1",
          "Top female name: Deti<br>Top male name: Frantisek<br>Nb Movies: 23",
          "Top female name: Alena<br>Top male name: Jan<br>Nb Movies: 17",
          "Top female name: Fru<br>Top male name: Christian<br>Nb Movies: 71",
          "Top female name: Amina<br>Top male name: Ahmed<br>Nb Movies: 24",
          "Top female name: Mari<br>Top male name: Margus<br>Nb Movies: 4",
          "Top female name: Shemeikan<br>Top male name: Poliisi<br>Nb Movies: 40",
          "Top female name: La<br>Top male name: Pierre<br>Nb Movies: 1,402",
          "Top female name: Jenna<br>Top male name: Beau<br>Nb Movies: 1",
          "Top female name: Frau<br>Top male name: Der<br>Nb Movies: 130",
          "Top female name: Liza<br>Top male name: Alexis<br>Nb Movies: 28",
          "Top female name: May<br>Top male name: Cheung<br>Nb Movies: 342",
          "Top female name: Lány<br>Top male name: Gielgud<br>Nb Movies: 39",
          "Top female name: Anna<br>Top male name: Albert<br>Nb Movies: 10",
          "Top female name: Priya<br>Top male name: Vijay<br>Nb Movies: 4,568",
          "Top female name: Nenek<br>Top male name: Jin<br>Nb Movies: 14",
          "Top female name: Mina<br>Top male name: Nader<br>Nb Movies: 16",
          "Top female name: Mary<br>Top male name: John<br>Nb Movies: 92",
          "Top female name: Annie<br>Top male name: Brendy<br>Nb Movies: 2",
          "Top female name: Dikla<br>Top male name: James<br>Nb Movies: 15",
          "Top female name: La<br>Top male name: Il<br>Nb Movies: 362",
          "Top female name: None<br>Top male name: Aaron<br>Nb Movies: 1",
          "Top female name: Rachel<br>Top male name: Godzilla<br>Nb Movies: 450",
          "Top female name: Lee<br>Top male name: Lee<br>Nb Movies: 2",
          "Top female name: Nadine<br>Top male name: Bruno<br>Nb Movies: 4",
          "Top female name: Grace<br>Top male name: Thomas<br>Nb Movies: 2",
          "Top female name: Bernadette<br>Top male name: Gothic<br>Nb Movies: 6",
          "Top female name: None<br>Top male name: Ali<br>Nb Movies: 1",
          "Top female name: Maria<br>Top male name: Ahmad<br>Nb Movies: 21",
          "Top female name: Grace<br>Top male name: None<br>Nb Movies: 1",
          "Top female name: Carmen<br>Top male name: Fernando<br>Nb Movies: 118",
          "Top female name: Börte<br>Top male name: Altan<br>Nb Movies: 1",
          "Top female name: Anjali<br>Top male name: Bhaire<br>Nb Movies: 4",
          "Top female name: Mevrouw<br>Top male name: Willem<br>Nb Movies: 145",
          "Top female name: Alice<br>Top male name: Doug<br>Nb Movies: 27",
          "Top female name: Wenche<br>Top male name: Mann<br>Nb Movies: 36",
          "Top female name: Pinki<br>Top male name: Aslam<br>Nb Movies: 23",
          "Top female name: Suha<br>Top male name: Barhoum<br>Nb Movies: 1",
          "Top female name: Anita<br>Top male name: Enrique<br>Nb Movies: 2",
          "Top female name: Sanchez<br>Top male name: Dennis<br>Nb Movies: 96",
          "Top female name: Hanka<br>Top male name: Andrzej<br>Nb Movies: 49",
          "Top female name: Freira<br>Top male name: João<br>Nb Movies: 16",
          "Top female name: America<br>Top male name: Beepers<br>Nb Movies: 5",
          "Top female name: Mimi<br>Top male name: Gzim<br>Nb Movies: 3",
          "Top female name: Eva<br>Top male name: Cristi<br>Nb Movies: 17",
          "Top female name: Olga<br>Top male name: Anton<br>Nb Movies: 158",
          "Top female name: Amasatou<br>Top male name: Abdou<br>Nb Movies: 2",
          "Top female name: Boginja<br>Top male name: Bosko<br>Nb Movies: 10",
          "Top female name: Biljarica<br>Top male name: Agim<br>Nb Movies: 1",
          "Top female name: Wendy<br>Top male name: Chan<br>Nb Movies: 25",
          "Top female name: Bertha<br>Top male name: Wachek<br>Nb Movies: 1",
          "Top female name: Anezka<br>Top male name: Jan<br>Nb Movies: 8",
          "Top female name: Ana<br>Top male name: Ivan<br>Nb Movies: 7",
          "Top female name: Elsa<br>Top male name: Abraham<br>Nb Movies: 47",
          "Top female name: Kim<br>Top male name: Kim<br>Nb Movies: 191",
          "Top female name: Chica<br>Top male name: Juan<br>Nb Movies: 194",
          "Top female name: Haminey<br>Top male name: Kumar<br>Nb Movies: 14",
          "Top female name: Marianne<br>Top male name: Anders<br>Nb Movies: 90",
          "Top female name: La<br>Top male name: Rekrut<br>Nb Movies: 39",
          "Top female name: Obing<br>Top male name: Crippled<br>Nb Movies: 13",
          "Top female name: Marisa<br>Top male name: Kham<br>Nb Movies: 35",
          "Top female name: Ayla<br>Top male name: Ali<br>Nb Movies: 36",
          "Top female name: Tatar<br>Top male name: Tatar<br>Nb Movies: 6",
          "Top female name: None<br>Top male name: Cossack<br>Nb Movies: 1",
          "Top female name: Oksana<br>Top male name: Boris<br>Nb Movies: 1",
          "Top female name: Amber<br>Top male name: Ahmed<br>Nb Movies: 5",
          "Top female name: Mary<br>Top male name: John<br>Nb Movies: 1,715",
          "Top female name: Sarah<br>Top male name: John<br>Nb Movies: 16,720",
          "Top female name: Ana<br>Top male name: Rodolfo<br>Nb Movies: 1",
          "Top female name: None<br>Top male name: Abdul<br>Nb Movies: 1",
          "Top female name: Angela<br>Top male name: Arcadio<br>Nb Movies: 4",
          "Top female name: Hanh<br>Top male name: Cuoi<br>Nb Movies: 2",
          "Top female name: Eva<br>Top male name: Ivan<br>Nb Movies: 35",
          "Top female name: None<br>Top male name: Dick<br>Nb Movies: 1",
          "Top female name: Ambuya<br>Top male name: Chigwanzi<br>Nb Movies: 1"
         ],
         "type": "choropleth",
         "z": [
          0.47712125471966244,
          0.3010299956639812,
          0,
          1.4913616938342726,
          2.4785664955938436,
          1.6901960800285136,
          0,
          0.9030899869919435,
          1.591064607026499,
          0.3010299956639812,
          0.3010299956639812,
          1.7403626894942439,
          1,
          0,
          0.7781512503836436,
          2.73559889969818,
          0.6989700043360189,
          1.863322860120456,
          0.9030899869919435,
          0,
          0.9542425094393249,
          0,
          1.3617278360175928,
          1.2304489213782739,
          1.8512583487190752,
          1.380211241711606,
          0.6020599913279624,
          1.6020599913279623,
          3.14674801363064,
          0,
          2.113943352306837,
          1.4471580313422192,
          2.534026106056135,
          1.591064607026499,
          1,
          3.6597260952377915,
          1.146128035678238,
          1.2041199826559248,
          1.9637878273455553,
          0.3010299956639812,
          1.1760912590556813,
          2.558708570533166,
          0,
          2.6532125137753435,
          0.3010299956639812,
          0.6020599913279624,
          0.3010299956639812,
          0.7781512503836436,
          0,
          1.3222192947339193,
          0,
          2.0718820073061255,
          0,
          0.6020599913279624,
          2.161368002234975,
          1.4313637641589874,
          1.5563025007672873,
          1.3617278360175928,
          0,
          0.3010299956639812,
          1.9822712330395684,
          1.6901960800285136,
          1.2041199826559248,
          0.6989700043360189,
          0.47712125471966244,
          1.2304489213782739,
          2.1986570869544226,
          0.3010299956639812,
          1,
          0,
          1.3979400086720377,
          0,
          0.9030899869919435,
          0.8450980400142568,
          1.6720978579357175,
          2.2810333672477277,
          2.287801729930226,
          1.146128035678238,
          1.954242509439325,
          1.591064607026499,
          1.1139433523068367,
          1.5440680443502757,
          1.5563025007672873,
          0.7781512503836436,
          0,
          0,
          0.6989700043360189,
          3.2342641243787895,
          4.223236273102998,
          0,
          0,
          0.6020599913279624,
          0.3010299956639812,
          1.5440680443502757,
          0,
          0
         ]
        }
       ],
       "layout": {
        "geo": {
         "center": {
          "lat": 30
         },
         "countrycolor": "RebeccaPurple",
         "lakecolor": "aqua",
         "projection": {
          "scale": 1,
          "type": "mercator"
         },
         "showcountries": true,
         "visible": false
        },
        "height": 500,
        "margin": {
         "b": 0,
         "l": 0,
         "r": 0,
         "t": 5
        },
        "template": {
         "data": {
          "bar": [
           {
            "error_x": {
             "color": "#2a3f5f"
            },
            "error_y": {
             "color": "#2a3f5f"
            },
            "marker": {
             "line": {
              "color": "#E5ECF6",
              "width": 0.5
             },
             "pattern": {
              "fillmode": "overlay",
              "size": 10,
              "solidity": 0.2
             }
            },
            "type": "bar"
           }
          ],
          "barpolar": [
           {
            "marker": {
             "line": {
              "color": "#E5ECF6",
              "width": 0.5
             },
             "pattern": {
              "fillmode": "overlay",
              "size": 10,
              "solidity": 0.2
             }
            },
            "type": "barpolar"
           }
          ],
          "carpet": [
           {
            "aaxis": {
             "endlinecolor": "#2a3f5f",
             "gridcolor": "white",
             "linecolor": "white",
             "minorgridcolor": "white",
             "startlinecolor": "#2a3f5f"
            },
            "baxis": {
             "endlinecolor": "#2a3f5f",
             "gridcolor": "white",
             "linecolor": "white",
             "minorgridcolor": "white",
             "startlinecolor": "#2a3f5f"
            },
            "type": "carpet"
           }
          ],
          "choropleth": [
           {
            "colorbar": {
             "outlinewidth": 0,
             "ticks": ""
            },
            "type": "choropleth"
           }
          ],
          "contour": [
           {
            "colorbar": {
             "outlinewidth": 0,
             "ticks": ""
            },
            "colorscale": [
             [
              0,
              "#0d0887"
             ],
             [
              0.1111111111111111,
              "#46039f"
             ],
             [
              0.2222222222222222,
              "#7201a8"
             ],
             [
              0.3333333333333333,
              "#9c179e"
             ],
             [
              0.4444444444444444,
              "#bd3786"
             ],
             [
              0.5555555555555556,
              "#d8576b"
             ],
             [
              0.6666666666666666,
              "#ed7953"
             ],
             [
              0.7777777777777778,
              "#fb9f3a"
             ],
             [
              0.8888888888888888,
              "#fdca26"
             ],
             [
              1,
              "#f0f921"
             ]
            ],
            "type": "contour"
           }
          ],
          "contourcarpet": [
           {
            "colorbar": {
             "outlinewidth": 0,
             "ticks": ""
            },
            "type": "contourcarpet"
           }
          ],
          "heatmap": [
           {
            "colorbar": {
             "outlinewidth": 0,
             "ticks": ""
            },
            "colorscale": [
             [
              0,
              "#0d0887"
             ],
             [
              0.1111111111111111,
              "#46039f"
             ],
             [
              0.2222222222222222,
              "#7201a8"
             ],
             [
              0.3333333333333333,
              "#9c179e"
             ],
             [
              0.4444444444444444,
              "#bd3786"
             ],
             [
              0.5555555555555556,
              "#d8576b"
             ],
             [
              0.6666666666666666,
              "#ed7953"
             ],
             [
              0.7777777777777778,
              "#fb9f3a"
             ],
             [
              0.8888888888888888,
              "#fdca26"
             ],
             [
              1,
              "#f0f921"
             ]
            ],
            "type": "heatmap"
           }
          ],
          "heatmapgl": [
           {
            "colorbar": {
             "outlinewidth": 0,
             "ticks": ""
            },
            "colorscale": [
             [
              0,
              "#0d0887"
             ],
             [
              0.1111111111111111,
              "#46039f"
             ],
             [
              0.2222222222222222,
              "#7201a8"
             ],
             [
              0.3333333333333333,
              "#9c179e"
             ],
             [
              0.4444444444444444,
              "#bd3786"
             ],
             [
              0.5555555555555556,
              "#d8576b"
             ],
             [
              0.6666666666666666,
              "#ed7953"
             ],
             [
              0.7777777777777778,
              "#fb9f3a"
             ],
             [
              0.8888888888888888,
              "#fdca26"
             ],
             [
              1,
              "#f0f921"
             ]
            ],
            "type": "heatmapgl"
           }
          ],
          "histogram": [
           {
            "marker": {
             "pattern": {
              "fillmode": "overlay",
              "size": 10,
              "solidity": 0.2
             }
            },
            "type": "histogram"
           }
          ],
          "histogram2d": [
           {
            "colorbar": {
             "outlinewidth": 0,
             "ticks": ""
            },
            "colorscale": [
             [
              0,
              "#0d0887"
             ],
             [
              0.1111111111111111,
              "#46039f"
             ],
             [
              0.2222222222222222,
              "#7201a8"
             ],
             [
              0.3333333333333333,
              "#9c179e"
             ],
             [
              0.4444444444444444,
              "#bd3786"
             ],
             [
              0.5555555555555556,
              "#d8576b"
             ],
             [
              0.6666666666666666,
              "#ed7953"
             ],
             [
              0.7777777777777778,
              "#fb9f3a"
             ],
             [
              0.8888888888888888,
              "#fdca26"
             ],
             [
              1,
              "#f0f921"
             ]
            ],
            "type": "histogram2d"
           }
          ],
          "histogram2dcontour": [
           {
            "colorbar": {
             "outlinewidth": 0,
             "ticks": ""
            },
            "colorscale": [
             [
              0,
              "#0d0887"
             ],
             [
              0.1111111111111111,
              "#46039f"
             ],
             [
              0.2222222222222222,
              "#7201a8"
             ],
             [
              0.3333333333333333,
              "#9c179e"
             ],
             [
              0.4444444444444444,
              "#bd3786"
             ],
             [
              0.5555555555555556,
              "#d8576b"
             ],
             [
              0.6666666666666666,
              "#ed7953"
             ],
             [
              0.7777777777777778,
              "#fb9f3a"
             ],
             [
              0.8888888888888888,
              "#fdca26"
             ],
             [
              1,
              "#f0f921"
             ]
            ],
            "type": "histogram2dcontour"
           }
          ],
          "mesh3d": [
           {
            "colorbar": {
             "outlinewidth": 0,
             "ticks": ""
            },
            "type": "mesh3d"
           }
          ],
          "parcoords": [
           {
            "line": {
             "colorbar": {
              "outlinewidth": 0,
              "ticks": ""
             }
            },
            "type": "parcoords"
           }
          ],
          "pie": [
           {
            "automargin": true,
            "type": "pie"
           }
          ],
          "scatter": [
           {
            "fillpattern": {
             "fillmode": "overlay",
             "size": 10,
             "solidity": 0.2
            },
            "type": "scatter"
           }
          ],
          "scatter3d": [
           {
            "line": {
             "colorbar": {
              "outlinewidth": 0,
              "ticks": ""
             }
            },
            "marker": {
             "colorbar": {
              "outlinewidth": 0,
              "ticks": ""
             }
            },
            "type": "scatter3d"
           }
          ],
          "scattercarpet": [
           {
            "marker": {
             "colorbar": {
              "outlinewidth": 0,
              "ticks": ""
             }
            },
            "type": "scattercarpet"
           }
          ],
          "scattergeo": [
           {
            "marker": {
             "colorbar": {
              "outlinewidth": 0,
              "ticks": ""
             }
            },
            "type": "scattergeo"
           }
          ],
          "scattergl": [
           {
            "marker": {
             "colorbar": {
              "outlinewidth": 0,
              "ticks": ""
             }
            },
            "type": "scattergl"
           }
          ],
          "scattermapbox": [
           {
            "marker": {
             "colorbar": {
              "outlinewidth": 0,
              "ticks": ""
             }
            },
            "type": "scattermapbox"
           }
          ],
          "scatterpolar": [
           {
            "marker": {
             "colorbar": {
              "outlinewidth": 0,
              "ticks": ""
             }
            },
            "type": "scatterpolar"
           }
          ],
          "scatterpolargl": [
           {
            "marker": {
             "colorbar": {
              "outlinewidth": 0,
              "ticks": ""
             }
            },
            "type": "scatterpolargl"
           }
          ],
          "scatterternary": [
           {
            "marker": {
             "colorbar": {
              "outlinewidth": 0,
              "ticks": ""
             }
            },
            "type": "scatterternary"
           }
          ],
          "surface": [
           {
            "colorbar": {
             "outlinewidth": 0,
             "ticks": ""
            },
            "colorscale": [
             [
              0,
              "#0d0887"
             ],
             [
              0.1111111111111111,
              "#46039f"
             ],
             [
              0.2222222222222222,
              "#7201a8"
             ],
             [
              0.3333333333333333,
              "#9c179e"
             ],
             [
              0.4444444444444444,
              "#bd3786"
             ],
             [
              0.5555555555555556,
              "#d8576b"
             ],
             [
              0.6666666666666666,
              "#ed7953"
             ],
             [
              0.7777777777777778,
              "#fb9f3a"
             ],
             [
              0.8888888888888888,
              "#fdca26"
             ],
             [
              1,
              "#f0f921"
             ]
            ],
            "type": "surface"
           }
          ],
          "table": [
           {
            "cells": {
             "fill": {
              "color": "#EBF0F8"
             },
             "line": {
              "color": "white"
             }
            },
            "header": {
             "fill": {
              "color": "#C8D4E3"
             },
             "line": {
              "color": "white"
             }
            },
            "type": "table"
           }
          ]
         },
         "layout": {
          "annotationdefaults": {
           "arrowcolor": "#2a3f5f",
           "arrowhead": 0,
           "arrowwidth": 1
          },
          "autotypenumbers": "strict",
          "coloraxis": {
           "colorbar": {
            "outlinewidth": 0,
            "ticks": ""
           }
          },
          "colorscale": {
           "diverging": [
            [
             0,
             "#8e0152"
            ],
            [
             0.1,
             "#c51b7d"
            ],
            [
             0.2,
             "#de77ae"
            ],
            [
             0.3,
             "#f1b6da"
            ],
            [
             0.4,
             "#fde0ef"
            ],
            [
             0.5,
             "#f7f7f7"
            ],
            [
             0.6,
             "#e6f5d0"
            ],
            [
             0.7,
             "#b8e186"
            ],
            [
             0.8,
             "#7fbc41"
            ],
            [
             0.9,
             "#4d9221"
            ],
            [
             1,
             "#276419"
            ]
           ],
           "sequential": [
            [
             0,
             "#0d0887"
            ],
            [
             0.1111111111111111,
             "#46039f"
            ],
            [
             0.2222222222222222,
             "#7201a8"
            ],
            [
             0.3333333333333333,
             "#9c179e"
            ],
            [
             0.4444444444444444,
             "#bd3786"
            ],
            [
             0.5555555555555556,
             "#d8576b"
            ],
            [
             0.6666666666666666,
             "#ed7953"
            ],
            [
             0.7777777777777778,
             "#fb9f3a"
            ],
            [
             0.8888888888888888,
             "#fdca26"
            ],
            [
             1,
             "#f0f921"
            ]
           ],
           "sequentialminus": [
            [
             0,
             "#0d0887"
            ],
            [
             0.1111111111111111,
             "#46039f"
            ],
            [
             0.2222222222222222,
             "#7201a8"
            ],
            [
             0.3333333333333333,
             "#9c179e"
            ],
            [
             0.4444444444444444,
             "#bd3786"
            ],
            [
             0.5555555555555556,
             "#d8576b"
            ],
            [
             0.6666666666666666,
             "#ed7953"
            ],
            [
             0.7777777777777778,
             "#fb9f3a"
            ],
            [
             0.8888888888888888,
             "#fdca26"
            ],
            [
             1,
             "#f0f921"
            ]
           ]
          },
          "colorway": [
           "#636efa",
           "#EF553B",
           "#00cc96",
           "#ab63fa",
           "#FFA15A",
           "#19d3f3",
           "#FF6692",
           "#B6E880",
           "#FF97FF",
           "#FECB52"
          ],
          "font": {
           "color": "#2a3f5f"
          },
          "geo": {
           "bgcolor": "white",
           "lakecolor": "white",
           "landcolor": "#E5ECF6",
           "showlakes": true,
           "showland": true,
           "subunitcolor": "white"
          },
          "hoverlabel": {
           "align": "left"
          },
          "hovermode": "closest",
          "mapbox": {
           "style": "light"
          },
          "paper_bgcolor": "white",
          "plot_bgcolor": "#E5ECF6",
          "polar": {
           "angularaxis": {
            "gridcolor": "white",
            "linecolor": "white",
            "ticks": ""
           },
           "bgcolor": "#E5ECF6",
           "radialaxis": {
            "gridcolor": "white",
            "linecolor": "white",
            "ticks": ""
           }
          },
          "scene": {
           "xaxis": {
            "backgroundcolor": "#E5ECF6",
            "gridcolor": "white",
            "gridwidth": 2,
            "linecolor": "white",
            "showbackground": true,
            "ticks": "",
            "zerolinecolor": "white"
           },
           "yaxis": {
            "backgroundcolor": "#E5ECF6",
            "gridcolor": "white",
            "gridwidth": 2,
            "linecolor": "white",
            "showbackground": true,
            "ticks": "",
            "zerolinecolor": "white"
           },
           "zaxis": {
            "backgroundcolor": "#E5ECF6",
            "gridcolor": "white",
            "gridwidth": 2,
            "linecolor": "white",
            "showbackground": true,
            "ticks": "",
            "zerolinecolor": "white"
           }
          },
          "shapedefaults": {
           "line": {
            "color": "#2a3f5f"
           }
          },
          "ternary": {
           "aaxis": {
            "gridcolor": "white",
            "linecolor": "white",
            "ticks": ""
           },
           "baxis": {
            "gridcolor": "white",
            "linecolor": "white",
            "ticks": ""
           },
           "bgcolor": "#E5ECF6",
           "caxis": {
            "gridcolor": "white",
            "linecolor": "white",
            "ticks": ""
           }
          },
          "title": {
           "x": 0.05
          },
          "xaxis": {
           "automargin": true,
           "gridcolor": "white",
           "linecolor": "white",
           "ticks": "",
           "title": {
            "standoff": 15
           },
           "zerolinecolor": "white",
           "zerolinewidth": 2
          },
          "yaxis": {
           "automargin": true,
           "gridcolor": "white",
           "linecolor": "white",
           "ticks": "",
           "title": {
            "standoff": 15
           },
           "zerolinecolor": "white",
           "zerolinewidth": 2
          }
         }
        },
        "title": {
         "text": "Most Common Male and Female Character Names by Country",
         "x": 0.4,
         "y": 0.9
        }
       }
      }
     },
     "metadata": {},
     "output_type": "display_data"
    }
   ],
   "source": [
    "fig = go.Figure(go.Scattergeo(\n",
    "))\n",
    "fig.add_trace(go.Choropleth(\n",
    "    locations= df_top_names['primary_country'],\n",
    "    locationmode='country names',\n",
    "    showscale= True,\n",
    "    colorscale='YlOrRd',\n",
    "    z=np.log10(df_top_names['Number_of_movies']),\n",
    "    colorbar=dict(title=\"Number of movies (Log Scale)\", tickvals=np.arange(0, 5), ticktext=[f\"10^{i}\" for i in range(0, 5)]),\n",
    "    text= [f\"Top female name: {female}<br>Top male name: {male}<br>Nb Movies: {movies:,}\" \n",
    "           for female, male, movies in zip(df_top_names['Female_name'], df_top_names['Male_name'], df_top_names['Number_of_movies'])],\n",
    "    hovertemplate=\"%{location}<br>%{text}\"\n",
    "))\n",
    "fig.update_geos(\n",
    "    projection_scale=1,center={'lat': 30},\n",
    "    visible=False,\n",
    "    showcountries=True, countrycolor=\"RebeccaPurple\"\n",
    ")\n",
    "fig.update_layout(\n",
    "    geo=dict(\n",
    "        projection_type=\"mercator\",\n",
    "        lakecolor=\"aqua\"\n",
    "    ),\n",
    "    height=500,\n",
    "    margin={\"r\":0,\"t\":5,\"l\":0,\"b\":0},\n",
    "    title_text=\"Most Common Male and Female Character Names by Country\",\n",
    "    title_x=0.4,\n",
    "    title_y=0.90\n",
    ")\n",
    "fig.show()"
   ]
  },
  {
   "cell_type": "markdown",
   "metadata": {},
   "source": [
    "### 2.3.c Statistical analysis (Geography)"
   ]
  },
  {
   "cell_type": "code",
   "execution_count": null,
   "metadata": {},
   "outputs": [],
   "source": []
  },
  {
   "cell_type": "markdown",
   "metadata": {},
   "source": [
    "We are going to run a chi2 test in order to verify that there is noticeable correlation between geography and characters' names"
   ]
  },
  {
   "cell_type": "code",
   "execution_count": 353,
   "metadata": {},
   "outputs": [
    {
     "name": "stdout",
     "output_type": "stream",
     "text": [
      "Chi-Square Statistic: 7796708.1732684765\n",
      "p-value: 0.0\n"
     ]
    }
   ],
   "source": [
    "# Chi2 test\n",
    "contingency_table = create_contingency_table(df_char_cleaned,'Character_name','primary_country')\n",
    "chi2, p_value, dof, expected = chi2_contingency(contingency_table)\n",
    "\n",
    "print(f\"Chi-Square Statistic: {chi2}\")\n",
    "print(f\"p-value: {p_value}\")"
   ]
  },
  {
   "cell_type": "markdown",
   "metadata": {},
   "source": [
    "Looking the results above, we see that we have a p-value equal to 0, meaning that there is a statistically significant association between the country of movie production and the character names in the movie. We will now investigate the strength of this association using Cramér's V."
   ]
  },
  {
   "cell_type": "code",
   "execution_count": 354,
   "metadata": {},
   "outputs": [
    {
     "name": "stdout",
     "output_type": "stream",
     "text": [
      "Cramér's V: 0.6900272760393569\n"
     ]
    }
   ],
   "source": [
    "n = contingency_table.sum().sum()\n",
    "k = min(contingency_table.shape)\n",
    "cramers_v = np.sqrt(chi2 / (n * (k - 1)))\n",
    "\n",
    "print(f\"Cramér's V: {cramers_v}\")"
   ]
  },
  {
   "cell_type": "markdown",
   "metadata": {},
   "source": [
    "The Cramér's V is superior to 0.5 meaning that there is a strong association between the country of production of the movie and the name of the characters in the movies."
   ]
  },
  {
   "cell_type": "markdown",
   "metadata": {},
   "source": [
    "## Phonetics"
   ]
  },
  {
   "cell_type": "code",
   "execution_count": 355,
   "metadata": {},
   "outputs": [],
   "source": [
    "# We will divide consonants by their manner of articulation\n",
    "plosive = ['P','T','B','K']\n",
    "fricative = ['F','X','0','S','H']\n",
    "affricate = ['J']\n",
    "nasal =['M','N']\n",
    "liquid = ['L','R']\n",
    "manner_groups = [plosive,fricative,affricate,nasal,liquid]\n",
    "manner_names = ['plosive','fricative','affricate','nasal','liquid']\n"
   ]
  },
  {
   "cell_type": "code",
   "execution_count": 356,
   "metadata": {},
   "outputs": [],
   "source": [
    "analyze_phonetics = PhoneticAnalyzer(df_char_cleaned,manner_groups,manner_names)\n"
   ]
  },
  {
   "cell_type": "markdown",
   "metadata": {},
   "source": [
    "### Gender"
   ]
  },
  {
   "cell_type": "code",
   "execution_count": 357,
   "metadata": {},
   "outputs": [
    {
     "name": "stderr",
     "output_type": "stream",
     "text": [
      "/Users/luca/Desktop/ada-2024-project-adadasurmonbidet2024/src/utils/results_utils.py:528: FutureWarning:\n",
      "\n",
      "Series.__getitem__ treating keys as positions is deprecated. In a future version, integer keys will always be treated as labels (consistent with DataFrame behavior). To access a value by position, use `ser.iloc[pos]`\n",
      "\n"
     ]
    }
   ],
   "source": [
    "manner_df = analyze_phonetics.phonetics_by_gender()"
   ]
  },
  {
   "cell_type": "code",
   "execution_count": 401,
   "metadata": {},
   "outputs": [
    {
     "data": {
      "application/vnd.plotly.v1+json": {
       "config": {
        "plotlyServerURL": "https://plot.ly"
       },
       "data": [
        {
         "marker": {
          "color": "#FA8072"
         },
         "name": "F",
         "type": "bar",
         "x": [
          "affricate",
          "fricative",
          "liquid",
          "nasal",
          "plosive"
         ],
         "y": [
          10.260345010053975,
          47.950400395103536,
          62.18823861431545,
          54.30909796451123,
          56.04649521995273
         ]
        },
        {
         "marker": {
          "color": "#87CEEB"
         },
         "name": "M",
         "type": "bar",
         "x": [
          "affricate",
          "fricative",
          "liquid",
          "nasal",
          "plosive"
         ],
         "y": [
          12.551927870264947,
          51.36781856786781,
          60.648675262331906,
          52.07455047132555,
          67.78164138228145
         ]
        }
       ],
       "layout": {
        "barmode": "group",
        "legend": {
         "title": {
          "text": "Sex"
         }
        },
        "template": {
         "data": {
          "bar": [
           {
            "error_x": {
             "color": "#2a3f5f"
            },
            "error_y": {
             "color": "#2a3f5f"
            },
            "marker": {
             "line": {
              "color": "white",
              "width": 0.5
             },
             "pattern": {
              "fillmode": "overlay",
              "size": 10,
              "solidity": 0.2
             }
            },
            "type": "bar"
           }
          ],
          "barpolar": [
           {
            "marker": {
             "line": {
              "color": "white",
              "width": 0.5
             },
             "pattern": {
              "fillmode": "overlay",
              "size": 10,
              "solidity": 0.2
             }
            },
            "type": "barpolar"
           }
          ],
          "carpet": [
           {
            "aaxis": {
             "endlinecolor": "#2a3f5f",
             "gridcolor": "#C8D4E3",
             "linecolor": "#C8D4E3",
             "minorgridcolor": "#C8D4E3",
             "startlinecolor": "#2a3f5f"
            },
            "baxis": {
             "endlinecolor": "#2a3f5f",
             "gridcolor": "#C8D4E3",
             "linecolor": "#C8D4E3",
             "minorgridcolor": "#C8D4E3",
             "startlinecolor": "#2a3f5f"
            },
            "type": "carpet"
           }
          ],
          "choropleth": [
           {
            "colorbar": {
             "outlinewidth": 0,
             "ticks": ""
            },
            "type": "choropleth"
           }
          ],
          "contour": [
           {
            "colorbar": {
             "outlinewidth": 0,
             "ticks": ""
            },
            "colorscale": [
             [
              0,
              "#0d0887"
             ],
             [
              0.1111111111111111,
              "#46039f"
             ],
             [
              0.2222222222222222,
              "#7201a8"
             ],
             [
              0.3333333333333333,
              "#9c179e"
             ],
             [
              0.4444444444444444,
              "#bd3786"
             ],
             [
              0.5555555555555556,
              "#d8576b"
             ],
             [
              0.6666666666666666,
              "#ed7953"
             ],
             [
              0.7777777777777778,
              "#fb9f3a"
             ],
             [
              0.8888888888888888,
              "#fdca26"
             ],
             [
              1,
              "#f0f921"
             ]
            ],
            "type": "contour"
           }
          ],
          "contourcarpet": [
           {
            "colorbar": {
             "outlinewidth": 0,
             "ticks": ""
            },
            "type": "contourcarpet"
           }
          ],
          "heatmap": [
           {
            "colorbar": {
             "outlinewidth": 0,
             "ticks": ""
            },
            "colorscale": [
             [
              0,
              "#0d0887"
             ],
             [
              0.1111111111111111,
              "#46039f"
             ],
             [
              0.2222222222222222,
              "#7201a8"
             ],
             [
              0.3333333333333333,
              "#9c179e"
             ],
             [
              0.4444444444444444,
              "#bd3786"
             ],
             [
              0.5555555555555556,
              "#d8576b"
             ],
             [
              0.6666666666666666,
              "#ed7953"
             ],
             [
              0.7777777777777778,
              "#fb9f3a"
             ],
             [
              0.8888888888888888,
              "#fdca26"
             ],
             [
              1,
              "#f0f921"
             ]
            ],
            "type": "heatmap"
           }
          ],
          "heatmapgl": [
           {
            "colorbar": {
             "outlinewidth": 0,
             "ticks": ""
            },
            "colorscale": [
             [
              0,
              "#0d0887"
             ],
             [
              0.1111111111111111,
              "#46039f"
             ],
             [
              0.2222222222222222,
              "#7201a8"
             ],
             [
              0.3333333333333333,
              "#9c179e"
             ],
             [
              0.4444444444444444,
              "#bd3786"
             ],
             [
              0.5555555555555556,
              "#d8576b"
             ],
             [
              0.6666666666666666,
              "#ed7953"
             ],
             [
              0.7777777777777778,
              "#fb9f3a"
             ],
             [
              0.8888888888888888,
              "#fdca26"
             ],
             [
              1,
              "#f0f921"
             ]
            ],
            "type": "heatmapgl"
           }
          ],
          "histogram": [
           {
            "marker": {
             "pattern": {
              "fillmode": "overlay",
              "size": 10,
              "solidity": 0.2
             }
            },
            "type": "histogram"
           }
          ],
          "histogram2d": [
           {
            "colorbar": {
             "outlinewidth": 0,
             "ticks": ""
            },
            "colorscale": [
             [
              0,
              "#0d0887"
             ],
             [
              0.1111111111111111,
              "#46039f"
             ],
             [
              0.2222222222222222,
              "#7201a8"
             ],
             [
              0.3333333333333333,
              "#9c179e"
             ],
             [
              0.4444444444444444,
              "#bd3786"
             ],
             [
              0.5555555555555556,
              "#d8576b"
             ],
             [
              0.6666666666666666,
              "#ed7953"
             ],
             [
              0.7777777777777778,
              "#fb9f3a"
             ],
             [
              0.8888888888888888,
              "#fdca26"
             ],
             [
              1,
              "#f0f921"
             ]
            ],
            "type": "histogram2d"
           }
          ],
          "histogram2dcontour": [
           {
            "colorbar": {
             "outlinewidth": 0,
             "ticks": ""
            },
            "colorscale": [
             [
              0,
              "#0d0887"
             ],
             [
              0.1111111111111111,
              "#46039f"
             ],
             [
              0.2222222222222222,
              "#7201a8"
             ],
             [
              0.3333333333333333,
              "#9c179e"
             ],
             [
              0.4444444444444444,
              "#bd3786"
             ],
             [
              0.5555555555555556,
              "#d8576b"
             ],
             [
              0.6666666666666666,
              "#ed7953"
             ],
             [
              0.7777777777777778,
              "#fb9f3a"
             ],
             [
              0.8888888888888888,
              "#fdca26"
             ],
             [
              1,
              "#f0f921"
             ]
            ],
            "type": "histogram2dcontour"
           }
          ],
          "mesh3d": [
           {
            "colorbar": {
             "outlinewidth": 0,
             "ticks": ""
            },
            "type": "mesh3d"
           }
          ],
          "parcoords": [
           {
            "line": {
             "colorbar": {
              "outlinewidth": 0,
              "ticks": ""
             }
            },
            "type": "parcoords"
           }
          ],
          "pie": [
           {
            "automargin": true,
            "type": "pie"
           }
          ],
          "scatter": [
           {
            "fillpattern": {
             "fillmode": "overlay",
             "size": 10,
             "solidity": 0.2
            },
            "type": "scatter"
           }
          ],
          "scatter3d": [
           {
            "line": {
             "colorbar": {
              "outlinewidth": 0,
              "ticks": ""
             }
            },
            "marker": {
             "colorbar": {
              "outlinewidth": 0,
              "ticks": ""
             }
            },
            "type": "scatter3d"
           }
          ],
          "scattercarpet": [
           {
            "marker": {
             "colorbar": {
              "outlinewidth": 0,
              "ticks": ""
             }
            },
            "type": "scattercarpet"
           }
          ],
          "scattergeo": [
           {
            "marker": {
             "colorbar": {
              "outlinewidth": 0,
              "ticks": ""
             }
            },
            "type": "scattergeo"
           }
          ],
          "scattergl": [
           {
            "marker": {
             "colorbar": {
              "outlinewidth": 0,
              "ticks": ""
             }
            },
            "type": "scattergl"
           }
          ],
          "scattermapbox": [
           {
            "marker": {
             "colorbar": {
              "outlinewidth": 0,
              "ticks": ""
             }
            },
            "type": "scattermapbox"
           }
          ],
          "scatterpolar": [
           {
            "marker": {
             "colorbar": {
              "outlinewidth": 0,
              "ticks": ""
             }
            },
            "type": "scatterpolar"
           }
          ],
          "scatterpolargl": [
           {
            "marker": {
             "colorbar": {
              "outlinewidth": 0,
              "ticks": ""
             }
            },
            "type": "scatterpolargl"
           }
          ],
          "scatterternary": [
           {
            "marker": {
             "colorbar": {
              "outlinewidth": 0,
              "ticks": ""
             }
            },
            "type": "scatterternary"
           }
          ],
          "surface": [
           {
            "colorbar": {
             "outlinewidth": 0,
             "ticks": ""
            },
            "colorscale": [
             [
              0,
              "#0d0887"
             ],
             [
              0.1111111111111111,
              "#46039f"
             ],
             [
              0.2222222222222222,
              "#7201a8"
             ],
             [
              0.3333333333333333,
              "#9c179e"
             ],
             [
              0.4444444444444444,
              "#bd3786"
             ],
             [
              0.5555555555555556,
              "#d8576b"
             ],
             [
              0.6666666666666666,
              "#ed7953"
             ],
             [
              0.7777777777777778,
              "#fb9f3a"
             ],
             [
              0.8888888888888888,
              "#fdca26"
             ],
             [
              1,
              "#f0f921"
             ]
            ],
            "type": "surface"
           }
          ],
          "table": [
           {
            "cells": {
             "fill": {
              "color": "#EBF0F8"
             },
             "line": {
              "color": "white"
             }
            },
            "header": {
             "fill": {
              "color": "#C8D4E3"
             },
             "line": {
              "color": "white"
             }
            },
            "type": "table"
           }
          ]
         },
         "layout": {
          "annotationdefaults": {
           "arrowcolor": "#2a3f5f",
           "arrowhead": 0,
           "arrowwidth": 1
          },
          "autotypenumbers": "strict",
          "coloraxis": {
           "colorbar": {
            "outlinewidth": 0,
            "ticks": ""
           }
          },
          "colorscale": {
           "diverging": [
            [
             0,
             "#8e0152"
            ],
            [
             0.1,
             "#c51b7d"
            ],
            [
             0.2,
             "#de77ae"
            ],
            [
             0.3,
             "#f1b6da"
            ],
            [
             0.4,
             "#fde0ef"
            ],
            [
             0.5,
             "#f7f7f7"
            ],
            [
             0.6,
             "#e6f5d0"
            ],
            [
             0.7,
             "#b8e186"
            ],
            [
             0.8,
             "#7fbc41"
            ],
            [
             0.9,
             "#4d9221"
            ],
            [
             1,
             "#276419"
            ]
           ],
           "sequential": [
            [
             0,
             "#0d0887"
            ],
            [
             0.1111111111111111,
             "#46039f"
            ],
            [
             0.2222222222222222,
             "#7201a8"
            ],
            [
             0.3333333333333333,
             "#9c179e"
            ],
            [
             0.4444444444444444,
             "#bd3786"
            ],
            [
             0.5555555555555556,
             "#d8576b"
            ],
            [
             0.6666666666666666,
             "#ed7953"
            ],
            [
             0.7777777777777778,
             "#fb9f3a"
            ],
            [
             0.8888888888888888,
             "#fdca26"
            ],
            [
             1,
             "#f0f921"
            ]
           ],
           "sequentialminus": [
            [
             0,
             "#0d0887"
            ],
            [
             0.1111111111111111,
             "#46039f"
            ],
            [
             0.2222222222222222,
             "#7201a8"
            ],
            [
             0.3333333333333333,
             "#9c179e"
            ],
            [
             0.4444444444444444,
             "#bd3786"
            ],
            [
             0.5555555555555556,
             "#d8576b"
            ],
            [
             0.6666666666666666,
             "#ed7953"
            ],
            [
             0.7777777777777778,
             "#fb9f3a"
            ],
            [
             0.8888888888888888,
             "#fdca26"
            ],
            [
             1,
             "#f0f921"
            ]
           ]
          },
          "colorway": [
           "#636efa",
           "#EF553B",
           "#00cc96",
           "#ab63fa",
           "#FFA15A",
           "#19d3f3",
           "#FF6692",
           "#B6E880",
           "#FF97FF",
           "#FECB52"
          ],
          "font": {
           "color": "#2a3f5f"
          },
          "geo": {
           "bgcolor": "white",
           "lakecolor": "white",
           "landcolor": "white",
           "showlakes": true,
           "showland": true,
           "subunitcolor": "#C8D4E3"
          },
          "hoverlabel": {
           "align": "left"
          },
          "hovermode": "closest",
          "mapbox": {
           "style": "light"
          },
          "paper_bgcolor": "white",
          "plot_bgcolor": "white",
          "polar": {
           "angularaxis": {
            "gridcolor": "#EBF0F8",
            "linecolor": "#EBF0F8",
            "ticks": ""
           },
           "bgcolor": "white",
           "radialaxis": {
            "gridcolor": "#EBF0F8",
            "linecolor": "#EBF0F8",
            "ticks": ""
           }
          },
          "scene": {
           "xaxis": {
            "backgroundcolor": "white",
            "gridcolor": "#DFE8F3",
            "gridwidth": 2,
            "linecolor": "#EBF0F8",
            "showbackground": true,
            "ticks": "",
            "zerolinecolor": "#EBF0F8"
           },
           "yaxis": {
            "backgroundcolor": "white",
            "gridcolor": "#DFE8F3",
            "gridwidth": 2,
            "linecolor": "#EBF0F8",
            "showbackground": true,
            "ticks": "",
            "zerolinecolor": "#EBF0F8"
           },
           "zaxis": {
            "backgroundcolor": "white",
            "gridcolor": "#DFE8F3",
            "gridwidth": 2,
            "linecolor": "#EBF0F8",
            "showbackground": true,
            "ticks": "",
            "zerolinecolor": "#EBF0F8"
           }
          },
          "shapedefaults": {
           "line": {
            "color": "#2a3f5f"
           }
          },
          "ternary": {
           "aaxis": {
            "gridcolor": "#DFE8F3",
            "linecolor": "#A2B1C6",
            "ticks": ""
           },
           "baxis": {
            "gridcolor": "#DFE8F3",
            "linecolor": "#A2B1C6",
            "ticks": ""
           },
           "bgcolor": "white",
           "caxis": {
            "gridcolor": "#DFE8F3",
            "linecolor": "#A2B1C6",
            "ticks": ""
           }
          },
          "title": {
           "x": 0.05
          },
          "xaxis": {
           "automargin": true,
           "gridcolor": "#EBF0F8",
           "linecolor": "#EBF0F8",
           "ticks": "",
           "title": {
            "standoff": 15
           },
           "zerolinecolor": "#EBF0F8",
           "zerolinewidth": 2
          },
          "yaxis": {
           "automargin": true,
           "gridcolor": "#EBF0F8",
           "linecolor": "#EBF0F8",
           "ticks": "",
           "title": {
            "standoff": 15
           },
           "zerolinecolor": "#EBF0F8",
           "zerolinewidth": 2
          }
         }
        },
        "title": {
         "text": "Distribution of Phonetic Names by Consonant Groups and Sex"
        },
        "xaxis": {
         "title": {
          "text": "Consonant Groups"
         }
        },
        "yaxis": {
         "title": {
          "text": "Percentage"
         }
        }
       }
      }
     },
     "metadata": {},
     "output_type": "display_data"
    }
   ],
   "source": [
    "fig = go.Figure()\n",
    "\n",
    "# Get unique sexes and loop through them\n",
    "sexes = manner_df['Sex'].unique()\n",
    "\n",
    "color_map ={\n",
    "    'M':'#87CEEB', \n",
    "    'F':'#FA8072'\n",
    "}\n",
    "for sex in sexes:\n",
    "    filtered_df = manner_df[manner_df['Sex'] == sex]\n",
    "    fig.add_trace(go.Bar(\n",
    "        x=filtered_df['Consonant_Group'],\n",
    "        y=filtered_df['Percent'],\n",
    "        name=sex,\n",
    "        marker_color=color_map[sex]\n",
    "    ))\n",
    "\n",
    "# Customize layout for grouped bars\n",
    "fig.update_layout(\n",
    "    title='Distribution of Phonetic Names by Consonant Groups and Sex',\n",
    "    xaxis_title='Consonant Groups',\n",
    "    yaxis_title='Percentage',\n",
    "    barmode='group',  # This ensures bars are grouped side by side\n",
    "    legend_title='Sex',\n",
    "    template='plotly_white'\n",
    ")\n",
    "\n",
    "# Display the plot\n",
    "fig.show()"
   ]
  },
  {
   "cell_type": "markdown",
   "metadata": {},
   "source": [
    "The plot above show that plosives, fricatives and affricates sounds are more common in male character names while nasal and liquid names are more common for female character names. Although not formally defined on a linguistic point of view, we can regroup plosives, fricatives and affricates sounds as 'hard' sounds and nasal and liquid sounds as 'soft' sounds. From this we can deduce that male names are more likely to contain 'hard' sounds and female names 'soft' sounds. "
   ]
  },
  {
   "cell_type": "markdown",
   "metadata": {},
   "source": [
    "### Age"
   ]
  },
  {
   "cell_type": "code",
   "execution_count": 359,
   "metadata": {},
   "outputs": [],
   "source": [
    "manner_age_df = analyze_phonetics.phonetics_by_age()\n"
   ]
  },
  {
   "cell_type": "code",
   "execution_count": 360,
   "metadata": {},
   "outputs": [],
   "source": [
    "#let's place the age groups in the correct order\n",
    "\n",
    "age_order = ['<12y','13y-17y','18y-24y','25y-34y','35y-44y','45y-54y','55y-64y','65y-74y','75y-84y','>85y']\n",
    "manner_age_df['age_category'] = pd.Categorical(\n",
    "    manner_age_df['age_category'],\n",
    "    categories=age_order,\n",
    "    ordered=True\n",
    ")"
   ]
  },
  {
   "cell_type": "code",
   "execution_count": 361,
   "metadata": {},
   "outputs": [
    {
     "data": {
      "text/html": [
       "<div>\n",
       "<style scoped>\n",
       "    .dataframe tbody tr th:only-of-type {\n",
       "        vertical-align: middle;\n",
       "    }\n",
       "\n",
       "    .dataframe tbody tr th {\n",
       "        vertical-align: top;\n",
       "    }\n",
       "\n",
       "    .dataframe thead th {\n",
       "        text-align: right;\n",
       "    }\n",
       "</style>\n",
       "<table border=\"1\" class=\"dataframe\">\n",
       "  <thead>\n",
       "    <tr style=\"text-align: right;\">\n",
       "      <th></th>\n",
       "      <th>Consonant_Group</th>\n",
       "      <th>age_category</th>\n",
       "      <th>Count</th>\n",
       "      <th>Percent</th>\n",
       "    </tr>\n",
       "  </thead>\n",
       "  <tbody>\n",
       "    <tr>\n",
       "      <th>0</th>\n",
       "      <td>affricate</td>\n",
       "      <td>13y-17y</td>\n",
       "      <td>351</td>\n",
       "      <td>11.959114</td>\n",
       "    </tr>\n",
       "    <tr>\n",
       "      <th>1</th>\n",
       "      <td>affricate</td>\n",
       "      <td>18y-24y</td>\n",
       "      <td>1496</td>\n",
       "      <td>11.955566</td>\n",
       "    </tr>\n",
       "    <tr>\n",
       "      <th>2</th>\n",
       "      <td>affricate</td>\n",
       "      <td>25y-34y</td>\n",
       "      <td>4175</td>\n",
       "      <td>12.059852</td>\n",
       "    </tr>\n",
       "    <tr>\n",
       "      <th>3</th>\n",
       "      <td>affricate</td>\n",
       "      <td>35y-44y</td>\n",
       "      <td>3405</td>\n",
       "      <td>11.687376</td>\n",
       "    </tr>\n",
       "    <tr>\n",
       "      <th>4</th>\n",
       "      <td>affricate</td>\n",
       "      <td>45y-54y</td>\n",
       "      <td>2129</td>\n",
       "      <td>11.549938</td>\n",
       "    </tr>\n",
       "  </tbody>\n",
       "</table>\n",
       "</div>"
      ],
      "text/plain": [
       "  Consonant_Group age_category  Count    Percent\n",
       "0       affricate      13y-17y    351  11.959114\n",
       "1       affricate      18y-24y   1496  11.955566\n",
       "2       affricate      25y-34y   4175  12.059852\n",
       "3       affricate      35y-44y   3405  11.687376\n",
       "4       affricate      45y-54y   2129  11.549938"
      ]
     },
     "execution_count": 361,
     "metadata": {},
     "output_type": "execute_result"
    }
   ],
   "source": [
    "manner_age_df.head()"
   ]
  },
  {
   "cell_type": "code",
   "execution_count": 410,
   "metadata": {},
   "outputs": [
    {
     "data": {
      "application/vnd.plotly.v1+json": {
       "config": {
        "plotlyServerURL": "https://plot.ly"
       },
       "data": [
        {
         "hovertemplate": "Consonant_Group=affricate<br>age_category=%{x}<br>Percent=%{y}<extra></extra>",
         "legendgroup": "affricate",
         "line": {
          "color": "#386641",
          "dash": "solid"
         },
         "marker": {
          "symbol": "circle"
         },
         "mode": "lines+markers",
         "name": "affricate",
         "orientation": "v",
         "showlegend": true,
         "type": "scatter",
         "x": [
          "13y-17y",
          "18y-24y",
          "25y-34y",
          "35y-44y",
          "45y-54y",
          "55y-64y",
          "65y-74y",
          "75y-84y",
          "<12y",
          ">85y"
         ],
         "xaxis": "x",
         "y": [
          11.959114139693357,
          11.955566211140415,
          12.059851526618331,
          11.687375574929636,
          11.549937611891716,
          11.478521478521477,
          10.24245423057892,
          10.016155088852988,
          11.217437533227006,
          9.30232558139535
         ],
         "yaxis": "y"
        },
        {
         "hovertemplate": "Consonant_Group=fricative<br>age_category=%{x}<br>Percent=%{y}<extra></extra>",
         "legendgroup": "fricative",
         "line": {
          "color": "#6a994e",
          "dash": "solid"
         },
         "marker": {
          "symbol": "circle"
         },
         "mode": "lines+markers",
         "name": "fricative",
         "orientation": "v",
         "showlegend": true,
         "type": "scatter",
         "x": [
          "13y-17y",
          "18y-24y",
          "25y-34y",
          "35y-44y",
          "45y-54y",
          "55y-64y",
          "65y-74y",
          "75y-84y",
          "<12y",
          ">85y"
         ],
         "xaxis": "x",
         "y": [
          48.38160136286201,
          47.134979621193956,
          48.386724053265546,
          50.549186517471,
          51.61937828893832,
          53.97602397602398,
          53.43889163780307,
          56.219709208400644,
          45.29505582137161,
          41.3953488372093
         ],
         "yaxis": "y"
        },
        {
         "hovertemplate": "Consonant_Group=liquid<br>age_category=%{x}<br>Percent=%{y}<extra></extra>",
         "legendgroup": "liquid",
         "line": {
          "color": "#a7c957",
          "dash": "solid"
         },
         "marker": {
          "symbol": "circle"
         },
         "mode": "lines+markers",
         "name": "liquid",
         "orientation": "v",
         "showlegend": true,
         "type": "scatter",
         "x": [
          "13y-17y",
          "18y-24y",
          "25y-34y",
          "35y-44y",
          "45y-54y",
          "55y-64y",
          "65y-74y",
          "75y-84y",
          "<12y",
          ">85y"
         ],
         "xaxis": "x",
         "y": [
          58.05792163543442,
          58.34731878846,
          59.59444235824258,
          61.47456579940962,
          64.14582542179787,
          64.8951048951049,
          66.05640771895102,
          63.48949919224556,
          56.35300372142478,
          60.93023255813953
         ],
         "yaxis": "y"
        },
        {
         "hovertemplate": "Consonant_Group=nasal<br>age_category=%{x}<br>Percent=%{y}<extra></extra>",
         "legendgroup": "nasal",
         "line": {
          "color": "#f2e8cf",
          "dash": "solid"
         },
         "marker": {
          "symbol": "circle"
         },
         "mode": "lines+markers",
         "name": "nasal",
         "orientation": "v",
         "showlegend": true,
         "type": "scatter",
         "x": [
          "13y-17y",
          "18y-24y",
          "25y-34y",
          "35y-44y",
          "45y-54y",
          "55y-64y",
          "65y-74y",
          "75y-84y",
          "<12y",
          ">85y"
         ],
         "xaxis": "x",
         "y": [
          51.89097103918229,
          52.52137776712219,
          52.82070539299228,
          52.4576096656827,
          52.73693918515705,
          54.225774225774224,
          52.57298367144978,
          52.34248788368336,
          50.505050505050505,
          48.837209302325576
         ],
         "yaxis": "y"
        },
        {
         "hovertemplate": "Consonant_Group=plosive<br>age_category=%{x}<br>Percent=%{y}<extra></extra>",
         "legendgroup": "plosive",
         "line": {
          "color": "#bc4749",
          "dash": "solid"
         },
         "marker": {
          "symbol": "circle"
         },
         "mode": "lines+markers",
         "name": "plosive",
         "orientation": "v",
         "showlegend": true,
         "type": "scatter",
         "x": [
          "13y-17y",
          "18y-24y",
          "25y-34y",
          "35y-44y",
          "45y-54y",
          "55y-64y",
          "65y-74y",
          "75y-84y",
          "<12y",
          ">85y"
         ],
         "xaxis": "x",
         "y": [
          60.61328790459966,
          60.768800447534566,
          61.31315173748519,
          64.09006658886524,
          65.8330168719145,
          65.89410589410589,
          65.6605640771895,
          64.94345718901454,
          62.46677299308878,
          61.86046511627907
         ],
         "yaxis": "y"
        }
       ],
       "layout": {
        "legend": {
         "title": {
          "text": "Consonant Group"
         },
         "tracegroupgap": 0
        },
        "margin": {
         "t": 60
        },
        "template": {
         "data": {
          "bar": [
           {
            "error_x": {
             "color": "#2a3f5f"
            },
            "error_y": {
             "color": "#2a3f5f"
            },
            "marker": {
             "line": {
              "color": "white",
              "width": 0.5
             },
             "pattern": {
              "fillmode": "overlay",
              "size": 10,
              "solidity": 0.2
             }
            },
            "type": "bar"
           }
          ],
          "barpolar": [
           {
            "marker": {
             "line": {
              "color": "white",
              "width": 0.5
             },
             "pattern": {
              "fillmode": "overlay",
              "size": 10,
              "solidity": 0.2
             }
            },
            "type": "barpolar"
           }
          ],
          "carpet": [
           {
            "aaxis": {
             "endlinecolor": "#2a3f5f",
             "gridcolor": "#C8D4E3",
             "linecolor": "#C8D4E3",
             "minorgridcolor": "#C8D4E3",
             "startlinecolor": "#2a3f5f"
            },
            "baxis": {
             "endlinecolor": "#2a3f5f",
             "gridcolor": "#C8D4E3",
             "linecolor": "#C8D4E3",
             "minorgridcolor": "#C8D4E3",
             "startlinecolor": "#2a3f5f"
            },
            "type": "carpet"
           }
          ],
          "choropleth": [
           {
            "colorbar": {
             "outlinewidth": 0,
             "ticks": ""
            },
            "type": "choropleth"
           }
          ],
          "contour": [
           {
            "colorbar": {
             "outlinewidth": 0,
             "ticks": ""
            },
            "colorscale": [
             [
              0,
              "#0d0887"
             ],
             [
              0.1111111111111111,
              "#46039f"
             ],
             [
              0.2222222222222222,
              "#7201a8"
             ],
             [
              0.3333333333333333,
              "#9c179e"
             ],
             [
              0.4444444444444444,
              "#bd3786"
             ],
             [
              0.5555555555555556,
              "#d8576b"
             ],
             [
              0.6666666666666666,
              "#ed7953"
             ],
             [
              0.7777777777777778,
              "#fb9f3a"
             ],
             [
              0.8888888888888888,
              "#fdca26"
             ],
             [
              1,
              "#f0f921"
             ]
            ],
            "type": "contour"
           }
          ],
          "contourcarpet": [
           {
            "colorbar": {
             "outlinewidth": 0,
             "ticks": ""
            },
            "type": "contourcarpet"
           }
          ],
          "heatmap": [
           {
            "colorbar": {
             "outlinewidth": 0,
             "ticks": ""
            },
            "colorscale": [
             [
              0,
              "#0d0887"
             ],
             [
              0.1111111111111111,
              "#46039f"
             ],
             [
              0.2222222222222222,
              "#7201a8"
             ],
             [
              0.3333333333333333,
              "#9c179e"
             ],
             [
              0.4444444444444444,
              "#bd3786"
             ],
             [
              0.5555555555555556,
              "#d8576b"
             ],
             [
              0.6666666666666666,
              "#ed7953"
             ],
             [
              0.7777777777777778,
              "#fb9f3a"
             ],
             [
              0.8888888888888888,
              "#fdca26"
             ],
             [
              1,
              "#f0f921"
             ]
            ],
            "type": "heatmap"
           }
          ],
          "heatmapgl": [
           {
            "colorbar": {
             "outlinewidth": 0,
             "ticks": ""
            },
            "colorscale": [
             [
              0,
              "#0d0887"
             ],
             [
              0.1111111111111111,
              "#46039f"
             ],
             [
              0.2222222222222222,
              "#7201a8"
             ],
             [
              0.3333333333333333,
              "#9c179e"
             ],
             [
              0.4444444444444444,
              "#bd3786"
             ],
             [
              0.5555555555555556,
              "#d8576b"
             ],
             [
              0.6666666666666666,
              "#ed7953"
             ],
             [
              0.7777777777777778,
              "#fb9f3a"
             ],
             [
              0.8888888888888888,
              "#fdca26"
             ],
             [
              1,
              "#f0f921"
             ]
            ],
            "type": "heatmapgl"
           }
          ],
          "histogram": [
           {
            "marker": {
             "pattern": {
              "fillmode": "overlay",
              "size": 10,
              "solidity": 0.2
             }
            },
            "type": "histogram"
           }
          ],
          "histogram2d": [
           {
            "colorbar": {
             "outlinewidth": 0,
             "ticks": ""
            },
            "colorscale": [
             [
              0,
              "#0d0887"
             ],
             [
              0.1111111111111111,
              "#46039f"
             ],
             [
              0.2222222222222222,
              "#7201a8"
             ],
             [
              0.3333333333333333,
              "#9c179e"
             ],
             [
              0.4444444444444444,
              "#bd3786"
             ],
             [
              0.5555555555555556,
              "#d8576b"
             ],
             [
              0.6666666666666666,
              "#ed7953"
             ],
             [
              0.7777777777777778,
              "#fb9f3a"
             ],
             [
              0.8888888888888888,
              "#fdca26"
             ],
             [
              1,
              "#f0f921"
             ]
            ],
            "type": "histogram2d"
           }
          ],
          "histogram2dcontour": [
           {
            "colorbar": {
             "outlinewidth": 0,
             "ticks": ""
            },
            "colorscale": [
             [
              0,
              "#0d0887"
             ],
             [
              0.1111111111111111,
              "#46039f"
             ],
             [
              0.2222222222222222,
              "#7201a8"
             ],
             [
              0.3333333333333333,
              "#9c179e"
             ],
             [
              0.4444444444444444,
              "#bd3786"
             ],
             [
              0.5555555555555556,
              "#d8576b"
             ],
             [
              0.6666666666666666,
              "#ed7953"
             ],
             [
              0.7777777777777778,
              "#fb9f3a"
             ],
             [
              0.8888888888888888,
              "#fdca26"
             ],
             [
              1,
              "#f0f921"
             ]
            ],
            "type": "histogram2dcontour"
           }
          ],
          "mesh3d": [
           {
            "colorbar": {
             "outlinewidth": 0,
             "ticks": ""
            },
            "type": "mesh3d"
           }
          ],
          "parcoords": [
           {
            "line": {
             "colorbar": {
              "outlinewidth": 0,
              "ticks": ""
             }
            },
            "type": "parcoords"
           }
          ],
          "pie": [
           {
            "automargin": true,
            "type": "pie"
           }
          ],
          "scatter": [
           {
            "fillpattern": {
             "fillmode": "overlay",
             "size": 10,
             "solidity": 0.2
            },
            "type": "scatter"
           }
          ],
          "scatter3d": [
           {
            "line": {
             "colorbar": {
              "outlinewidth": 0,
              "ticks": ""
             }
            },
            "marker": {
             "colorbar": {
              "outlinewidth": 0,
              "ticks": ""
             }
            },
            "type": "scatter3d"
           }
          ],
          "scattercarpet": [
           {
            "marker": {
             "colorbar": {
              "outlinewidth": 0,
              "ticks": ""
             }
            },
            "type": "scattercarpet"
           }
          ],
          "scattergeo": [
           {
            "marker": {
             "colorbar": {
              "outlinewidth": 0,
              "ticks": ""
             }
            },
            "type": "scattergeo"
           }
          ],
          "scattergl": [
           {
            "marker": {
             "colorbar": {
              "outlinewidth": 0,
              "ticks": ""
             }
            },
            "type": "scattergl"
           }
          ],
          "scattermapbox": [
           {
            "marker": {
             "colorbar": {
              "outlinewidth": 0,
              "ticks": ""
             }
            },
            "type": "scattermapbox"
           }
          ],
          "scatterpolar": [
           {
            "marker": {
             "colorbar": {
              "outlinewidth": 0,
              "ticks": ""
             }
            },
            "type": "scatterpolar"
           }
          ],
          "scatterpolargl": [
           {
            "marker": {
             "colorbar": {
              "outlinewidth": 0,
              "ticks": ""
             }
            },
            "type": "scatterpolargl"
           }
          ],
          "scatterternary": [
           {
            "marker": {
             "colorbar": {
              "outlinewidth": 0,
              "ticks": ""
             }
            },
            "type": "scatterternary"
           }
          ],
          "surface": [
           {
            "colorbar": {
             "outlinewidth": 0,
             "ticks": ""
            },
            "colorscale": [
             [
              0,
              "#0d0887"
             ],
             [
              0.1111111111111111,
              "#46039f"
             ],
             [
              0.2222222222222222,
              "#7201a8"
             ],
             [
              0.3333333333333333,
              "#9c179e"
             ],
             [
              0.4444444444444444,
              "#bd3786"
             ],
             [
              0.5555555555555556,
              "#d8576b"
             ],
             [
              0.6666666666666666,
              "#ed7953"
             ],
             [
              0.7777777777777778,
              "#fb9f3a"
             ],
             [
              0.8888888888888888,
              "#fdca26"
             ],
             [
              1,
              "#f0f921"
             ]
            ],
            "type": "surface"
           }
          ],
          "table": [
           {
            "cells": {
             "fill": {
              "color": "#EBF0F8"
             },
             "line": {
              "color": "white"
             }
            },
            "header": {
             "fill": {
              "color": "#C8D4E3"
             },
             "line": {
              "color": "white"
             }
            },
            "type": "table"
           }
          ]
         },
         "layout": {
          "annotationdefaults": {
           "arrowcolor": "#2a3f5f",
           "arrowhead": 0,
           "arrowwidth": 1
          },
          "autotypenumbers": "strict",
          "coloraxis": {
           "colorbar": {
            "outlinewidth": 0,
            "ticks": ""
           }
          },
          "colorscale": {
           "diverging": [
            [
             0,
             "#8e0152"
            ],
            [
             0.1,
             "#c51b7d"
            ],
            [
             0.2,
             "#de77ae"
            ],
            [
             0.3,
             "#f1b6da"
            ],
            [
             0.4,
             "#fde0ef"
            ],
            [
             0.5,
             "#f7f7f7"
            ],
            [
             0.6,
             "#e6f5d0"
            ],
            [
             0.7,
             "#b8e186"
            ],
            [
             0.8,
             "#7fbc41"
            ],
            [
             0.9,
             "#4d9221"
            ],
            [
             1,
             "#276419"
            ]
           ],
           "sequential": [
            [
             0,
             "#0d0887"
            ],
            [
             0.1111111111111111,
             "#46039f"
            ],
            [
             0.2222222222222222,
             "#7201a8"
            ],
            [
             0.3333333333333333,
             "#9c179e"
            ],
            [
             0.4444444444444444,
             "#bd3786"
            ],
            [
             0.5555555555555556,
             "#d8576b"
            ],
            [
             0.6666666666666666,
             "#ed7953"
            ],
            [
             0.7777777777777778,
             "#fb9f3a"
            ],
            [
             0.8888888888888888,
             "#fdca26"
            ],
            [
             1,
             "#f0f921"
            ]
           ],
           "sequentialminus": [
            [
             0,
             "#0d0887"
            ],
            [
             0.1111111111111111,
             "#46039f"
            ],
            [
             0.2222222222222222,
             "#7201a8"
            ],
            [
             0.3333333333333333,
             "#9c179e"
            ],
            [
             0.4444444444444444,
             "#bd3786"
            ],
            [
             0.5555555555555556,
             "#d8576b"
            ],
            [
             0.6666666666666666,
             "#ed7953"
            ],
            [
             0.7777777777777778,
             "#fb9f3a"
            ],
            [
             0.8888888888888888,
             "#fdca26"
            ],
            [
             1,
             "#f0f921"
            ]
           ]
          },
          "colorway": [
           "#636efa",
           "#EF553B",
           "#00cc96",
           "#ab63fa",
           "#FFA15A",
           "#19d3f3",
           "#FF6692",
           "#B6E880",
           "#FF97FF",
           "#FECB52"
          ],
          "font": {
           "color": "#2a3f5f"
          },
          "geo": {
           "bgcolor": "white",
           "lakecolor": "white",
           "landcolor": "white",
           "showlakes": true,
           "showland": true,
           "subunitcolor": "#C8D4E3"
          },
          "hoverlabel": {
           "align": "left"
          },
          "hovermode": "closest",
          "mapbox": {
           "style": "light"
          },
          "paper_bgcolor": "white",
          "plot_bgcolor": "white",
          "polar": {
           "angularaxis": {
            "gridcolor": "#EBF0F8",
            "linecolor": "#EBF0F8",
            "ticks": ""
           },
           "bgcolor": "white",
           "radialaxis": {
            "gridcolor": "#EBF0F8",
            "linecolor": "#EBF0F8",
            "ticks": ""
           }
          },
          "scene": {
           "xaxis": {
            "backgroundcolor": "white",
            "gridcolor": "#DFE8F3",
            "gridwidth": 2,
            "linecolor": "#EBF0F8",
            "showbackground": true,
            "ticks": "",
            "zerolinecolor": "#EBF0F8"
           },
           "yaxis": {
            "backgroundcolor": "white",
            "gridcolor": "#DFE8F3",
            "gridwidth": 2,
            "linecolor": "#EBF0F8",
            "showbackground": true,
            "ticks": "",
            "zerolinecolor": "#EBF0F8"
           },
           "zaxis": {
            "backgroundcolor": "white",
            "gridcolor": "#DFE8F3",
            "gridwidth": 2,
            "linecolor": "#EBF0F8",
            "showbackground": true,
            "ticks": "",
            "zerolinecolor": "#EBF0F8"
           }
          },
          "shapedefaults": {
           "line": {
            "color": "#2a3f5f"
           }
          },
          "ternary": {
           "aaxis": {
            "gridcolor": "#DFE8F3",
            "linecolor": "#A2B1C6",
            "ticks": ""
           },
           "baxis": {
            "gridcolor": "#DFE8F3",
            "linecolor": "#A2B1C6",
            "ticks": ""
           },
           "bgcolor": "white",
           "caxis": {
            "gridcolor": "#DFE8F3",
            "linecolor": "#A2B1C6",
            "ticks": ""
           }
          },
          "title": {
           "x": 0.05
          },
          "xaxis": {
           "automargin": true,
           "gridcolor": "#EBF0F8",
           "linecolor": "#EBF0F8",
           "ticks": "",
           "title": {
            "standoff": 15
           },
           "zerolinecolor": "#EBF0F8",
           "zerolinewidth": 2
          },
          "yaxis": {
           "automargin": true,
           "gridcolor": "#EBF0F8",
           "linecolor": "#EBF0F8",
           "ticks": "",
           "title": {
            "standoff": 15
           },
           "zerolinecolor": "#EBF0F8",
           "zerolinewidth": 2
          }
         }
        },
        "title": {
         "text": "Percentage of Names Containing Each Consonant Group Across Age Categories"
        },
        "xaxis": {
         "anchor": "y",
         "domain": [
          0,
          1
         ],
         "title": {
          "text": "Age Category"
         }
        },
        "yaxis": {
         "anchor": "x",
         "domain": [
          0,
          1
         ],
         "title": {
          "text": "Percentage"
         }
        }
       }
      }
     },
     "metadata": {},
     "output_type": "display_data"
    }
   ],
   "source": [
    "custom_colors = {\n",
    "    'affricate': '#386641',\n",
    "    'fricative': '#6a994e',\n",
    "    'liquid': '#a7c957',\n",
    "    'nasal': '#f2e8cf',\n",
    "    'plosive': '#bc4749'\n",
    "}\n",
    "\n",
    "fig = px.line(\n",
    "    manner_age_df,\n",
    "    x='age_category',\n",
    "    y='Percent',\n",
    "    color='Consonant_Group',\n",
    "    markers=True,  # Adds markers to the line\n",
    "    color_discrete_map=custom_colors\n",
    ")\n",
    "\n",
    "# Customize layout\n",
    "fig.update_layout(\n",
    "    title='Percentage of Names Containing Each Consonant Group Across Age Categories',\n",
    "    xaxis_title='Age Category',\n",
    "    yaxis_title='Percentage',\n",
    "    legend_title='Consonant Group',\n",
    "    template='plotly_white'\n",
    ")\n",
    "\n",
    "# Display the plot\n",
    "fig.show()"
   ]
  },
  {
   "cell_type": "markdown",
   "metadata": {},
   "source": [
    "# 3 Sentimental Analysis"
   ]
  },
  {
   "cell_type": "markdown",
   "metadata": {},
   "source": [
    "This section marks the beginning of the sentiment analysis, focusing particularly on the preprocessing of the movies synopsies dataset. For each character in every movie, the goal was to identify the sentences involving them directly in the summaries using natural language processing (NLP).\n",
    "\n",
    "To run this part, you will need to download the “corenlp_plot_summaries” locally, as we couldn't import it in the repository. You can find the result of our prepropccessing as \"sentences_by_characters.csv\" in the \"data\" folder. \n",
    "\n",
    "**P3 :**  Find a solution to import the \"corenlp_plot_summaries\" file directly on the github repository."
   ]
  },
  {
   "cell_type": "code",
   "execution_count": 363,
   "metadata": {},
   "outputs": [
    {
     "name": "stdout",
     "output_type": "stream",
     "text": [
      "(55863, 4)\n"
     ]
    }
   ],
   "source": [
    "\n",
    "df = pd.read_csv('data/sentences_by_character.csv')\n",
    "print(df.shape)"
   ]
  },
  {
   "cell_type": "code",
   "execution_count": 364,
   "metadata": {},
   "outputs": [
    {
     "data": {
      "text/html": [
       "<div>\n",
       "<style scoped>\n",
       "    .dataframe tbody tr th:only-of-type {\n",
       "        vertical-align: middle;\n",
       "    }\n",
       "\n",
       "    .dataframe tbody tr th {\n",
       "        vertical-align: top;\n",
       "    }\n",
       "\n",
       "    .dataframe thead th {\n",
       "        text-align: right;\n",
       "    }\n",
       "</style>\n",
       "<table border=\"1\" class=\"dataframe\">\n",
       "  <thead>\n",
       "    <tr style=\"text-align: right;\">\n",
       "      <th></th>\n",
       "      <th>Character_Name</th>\n",
       "      <th>Wikipedia_id</th>\n",
       "      <th>Polarity</th>\n",
       "      <th>Subjectivity</th>\n",
       "    </tr>\n",
       "  </thead>\n",
       "  <tbody>\n",
       "    <tr>\n",
       "      <th>0</th>\n",
       "      <td>Williams</td>\n",
       "      <td>3217</td>\n",
       "      <td>0.196667</td>\n",
       "      <td>0.450000</td>\n",
       "    </tr>\n",
       "    <tr>\n",
       "      <th>1</th>\n",
       "      <td>Sheila</td>\n",
       "      <td>3217</td>\n",
       "      <td>0.042172</td>\n",
       "      <td>0.308838</td>\n",
       "    </tr>\n",
       "    <tr>\n",
       "      <th>2</th>\n",
       "      <td>Arthur</td>\n",
       "      <td>3217</td>\n",
       "      <td>0.040338</td>\n",
       "      <td>0.295411</td>\n",
       "    </tr>\n",
       "    <tr>\n",
       "      <th>3</th>\n",
       "      <td>Ash</td>\n",
       "      <td>3217</td>\n",
       "      <td>0.040338</td>\n",
       "      <td>0.295411</td>\n",
       "    </tr>\n",
       "    <tr>\n",
       "      <th>4</th>\n",
       "      <td>Duke</td>\n",
       "      <td>3217</td>\n",
       "      <td>0.044180</td>\n",
       "      <td>0.323545</td>\n",
       "    </tr>\n",
       "  </tbody>\n",
       "</table>\n",
       "</div>"
      ],
      "text/plain": [
       "  Character_Name  Wikipedia_id  Polarity  Subjectivity\n",
       "0       Williams          3217  0.196667      0.450000\n",
       "1         Sheila          3217  0.042172      0.308838\n",
       "2         Arthur          3217  0.040338      0.295411\n",
       "3            Ash          3217  0.040338      0.295411\n",
       "4           Duke          3217  0.044180      0.323545"
      ]
     },
     "execution_count": 364,
     "metadata": {},
     "output_type": "execute_result"
    }
   ],
   "source": [
    "df_sentiment_analysis_textblob = pd.read_csv('data/sentimental_analysis.csv')\n",
    "df_sentiment_analysis_textblob.head()"
   ]
  },
  {
   "cell_type": "markdown",
   "metadata": {},
   "source": [
    "## Interpretation of the results"
   ]
  },
  {
   "cell_type": "markdown",
   "metadata": {},
   "source": [
    "TextBlob uses two key metrics for sentiment analysis: Polarity and Subjectivity.\n",
    "\n",
    "- **Polarity (P):** Measures sentiment on a scale from **-1** (most negative) to **1** (most positive).\n",
    "- **Subjectivity (S):** Measures how subjective or objective the sentiment is, ranging from **0** (most objective) to **1** (most subjective).\n",
    "\n",
    "\n",
    "| Polarity (P)    | Subjectivity (S) | Interpretation                |\n",
    "|---------------------|------------------------|------------------------------------|\n",
    "| [-1; -0.5]      | [0.5; 1]           | Very Negative & Subjective        |\n",
    "| [-0.5; 0]       | [0; 0.5]           | Negative but Fairly Objective     |\n",
    "| 0               | [0; 1]             | Neutral                           |\n",
    "| [0; 0.5]        | [0; 0.5]           | Positive but Fairly Objective     |\n",
    "| [0.5; 1]        | [0.5; 1]           | Very Positive & Subjective        |\n"
   ]
  },
  {
   "cell_type": "code",
   "execution_count": 365,
   "metadata": {},
   "outputs": [
    {
     "data": {
      "image/png": "[encoded data removed]",
      "text/plain": [
       "<Figure size 1600x800 with 2 Axes>"
      ]
     },
     "metadata": {},
     "output_type": "display_data"
    }
   ],
   "source": [
    "sns.set_theme(style=\"whitegrid\")\n",
    "\n",
    "# Create the figure\n",
    "plt.figure(figsize=(16, 8))\n",
    "\n",
    "# Polarity Distribution Plot\n",
    "plt.subplot(1, 2, 1)\n",
    "sns.histplot(\n",
    "    df_sentiment_analysis_textblob['Polarity'], \n",
    "    kde=True, color='#4472C4', bins=30, stat='density', alpha=0.7\n",
    ")\n",
    "mean_pol = df_sentiment_analysis_textblob['Polarity'].mean()\n",
    "median_pol = df_sentiment_analysis_textblob['Polarity'].median()\n",
    "\n",
    "# Add statistical annotations\n",
    "plt.axvline(mean_pol, color='crimson', linestyle='--', linewidth=2, label=f'Mean: {mean_pol:.2f}')\n",
    "plt.axvline(median_pol, color='forestgreen', linestyle='--', linewidth=2, label=f'Median: {median_pol:.2f}')\n",
    "plt.title('Polarity Distribution of Movie Characters', fontsize=18, weight='bold')\n",
    "plt.xlabel('Polarity (TextBlob)', fontsize=14)\n",
    "plt.ylabel('Density', fontsize=14)\n",
    "plt.xticks(fontsize=12)\n",
    "plt.yticks(fontsize=12)\n",
    "plt.legend(fontsize=12, loc='upper left')\n",
    "\n",
    "# Subjectivity Distribution Plot\n",
    "plt.subplot(1, 2, 2)\n",
    "sns.histplot(\n",
    "    df_sentiment_analysis_textblob['Subjectivity'], \n",
    "    kde=True, color='#F28E2B', bins=30, stat='density', alpha=0.7\n",
    ")\n",
    "mean_sub = df_sentiment_analysis_textblob['Subjectivity'].mean()\n",
    "median_sub = df_sentiment_analysis_textblob['Subjectivity'].median()\n",
    "\n",
    "# Add statistical annotations\n",
    "plt.axvline(mean_sub, color='crimson', linestyle='--', linewidth=2, label=f'Mean: {mean_sub:.2f}')\n",
    "plt.axvline(median_sub, color='forestgreen', linestyle='--', linewidth=2, label=f'Median: {median_sub:.2f}')\n",
    "plt.title('Subjectivity Distribution of Movie Characters', fontsize=18, weight='bold')\n",
    "plt.xlabel('Subjectivity (TextBlob)', fontsize=14)\n",
    "plt.ylabel('Density', fontsize=14)\n",
    "plt.xticks(fontsize=12)\n",
    "plt.yticks(fontsize=12)\n",
    "plt.legend(fontsize=12, loc='upper left')\n",
    "\n",
    "# Adjust layout and show\n",
    "plt.tight_layout()\n",
    "plt.show()"
   ]
  },
  {
   "cell_type": "code",
   "execution_count": 366,
   "metadata": {},
   "outputs": [
    {
     "name": "stdout",
     "output_type": "stream",
     "text": [
      "Pearson Correlation: 0.19\n"
     ]
    }
   ],
   "source": [
    "from scipy.stats import pearsonr, shapiro\n",
    "\n",
    "# Calcul du coefficient de corrélation de Pearson\n",
    "correlation, _ = pearsonr(df_sentiment_analysis_textblob[\"Polarity\"], df_sentiment_analysis_textblob[\"Subjectivity\"])\n",
    "print(f\"Pearson Correlation: {correlation:.2f}\")"
   ]
  },
  {
   "cell_type": "markdown",
   "metadata": {},
   "source": [
    "The weak **Pearson correlation** of 0.19 between polarity and subjectivity indicates that these two variables are not strongly related. While there may be some minor associations, they largely function independently. Given this independence, we will now primarily focus on polarity in our analysis as follow:\n",
    "\n",
    "| Polarity (P)    | Interpretation                |\n",
    "|---------------------|------------------------|\n",
    "| [-1; -0.5]      | Very bad guy: You arch-nemesis, you'd rather fight a bear than run into him/her !        |\n",
    "| [-0.5; 0]       | Bad guy: That person you politely tolerate, but \"let's not get too close\".     |\n",
    "| 0               | Neutral, that random person in the elevator you nod at.                          |\n",
    "| [0; 0.5]        | Nice guy: Your chill buddy you'd grab coffee with :)      |\n",
    "| [0.5; 1]        | Very nice guy: Your ultimate-ride-or-die BFF, partner in crime !        |"
   ]
  },
  {
   "cell_type": "code",
   "execution_count": 367,
   "metadata": {},
   "outputs": [
    {
     "data": {
      "text/html": [
       "<div>\n",
       "<style scoped>\n",
       "    .dataframe tbody tr th:only-of-type {\n",
       "        vertical-align: middle;\n",
       "    }\n",
       "\n",
       "    .dataframe tbody tr th {\n",
       "        vertical-align: top;\n",
       "    }\n",
       "\n",
       "    .dataframe thead th {\n",
       "        text-align: right;\n",
       "    }\n",
       "</style>\n",
       "<table border=\"1\" class=\"dataframe\">\n",
       "  <thead>\n",
       "    <tr style=\"text-align: right;\">\n",
       "      <th></th>\n",
       "      <th>Character_Name</th>\n",
       "      <th>Wikipedia_id</th>\n",
       "      <th>Polarity</th>\n",
       "      <th>Subjectivity</th>\n",
       "      <th>Interpretation_SA</th>\n",
       "    </tr>\n",
       "  </thead>\n",
       "  <tbody>\n",
       "    <tr>\n",
       "      <th>0</th>\n",
       "      <td>Williams</td>\n",
       "      <td>3217</td>\n",
       "      <td>0.196667</td>\n",
       "      <td>0.450000</td>\n",
       "      <td>Nice guy</td>\n",
       "    </tr>\n",
       "    <tr>\n",
       "      <th>1</th>\n",
       "      <td>Sheila</td>\n",
       "      <td>3217</td>\n",
       "      <td>0.042172</td>\n",
       "      <td>0.308838</td>\n",
       "      <td>Nice guy</td>\n",
       "    </tr>\n",
       "    <tr>\n",
       "      <th>2</th>\n",
       "      <td>Arthur</td>\n",
       "      <td>3217</td>\n",
       "      <td>0.040338</td>\n",
       "      <td>0.295411</td>\n",
       "      <td>Nice guy</td>\n",
       "    </tr>\n",
       "    <tr>\n",
       "      <th>3</th>\n",
       "      <td>Ash</td>\n",
       "      <td>3217</td>\n",
       "      <td>0.040338</td>\n",
       "      <td>0.295411</td>\n",
       "      <td>Nice guy</td>\n",
       "    </tr>\n",
       "    <tr>\n",
       "      <th>4</th>\n",
       "      <td>Duke</td>\n",
       "      <td>3217</td>\n",
       "      <td>0.044180</td>\n",
       "      <td>0.323545</td>\n",
       "      <td>Nice guy</td>\n",
       "    </tr>\n",
       "  </tbody>\n",
       "</table>\n",
       "</div>"
      ],
      "text/plain": [
       "  Character_Name  Wikipedia_id  Polarity  Subjectivity Interpretation_SA\n",
       "0       Williams          3217  0.196667      0.450000          Nice guy\n",
       "1         Sheila          3217  0.042172      0.308838          Nice guy\n",
       "2         Arthur          3217  0.040338      0.295411          Nice guy\n",
       "3            Ash          3217  0.040338      0.295411          Nice guy\n",
       "4           Duke          3217  0.044180      0.323545          Nice guy"
      ]
     },
     "execution_count": 367,
     "metadata": {},
     "output_type": "execute_result"
    }
   ],
   "source": [
    "df_sentiment_analysis_textblob['Interpretation_SA'] = df_sentiment_analysis_textblob['Polarity'].apply(interpret_polarity)\n",
    "df_sentiment_analysis_textblob.head()"
   ]
  },
  {
   "cell_type": "markdown",
   "metadata": {},
   "source": [
    "## Good Guy/ Bad Guy distribution"
   ]
  },
  {
   "cell_type": "code",
   "execution_count": 368,
   "metadata": {},
   "outputs": [
    {
     "data": {
      "image/png": "[encoded data removed]",
      "text/plain": [
       "<Figure size 1200x800 with 1 Axes>"
      ]
     },
     "metadata": {},
     "output_type": "display_data"
    }
   ],
   "source": [
    "# Define the desired order of categories\n",
    "desired_order = [\"Very nice guy\", \"Nice guy\", \"Neutral\", \"Bad guy\", \"Very bad guy\"]\n",
    "\n",
    "# Count interpretations and reorder\n",
    "interpretation_counts = df_sentiment_analysis_textblob['Interpretation_SA'].value_counts()\n",
    "\n",
    "# Reindex interpretation_counts to match the desired order\n",
    "interpretation_counts = interpretation_counts.reindex(desired_order)\n",
    "\n",
    "# Create a prettier plot\n",
    "plt.figure(figsize=(12, 8))\n",
    "bars = plt.bar(\n",
    "    interpretation_counts.index, \n",
    "    interpretation_counts.values, \n",
    "    color=['#4575b4', '#91bfdb', '#fee08b', '#fc8d59', '#d73027']  # Colors reordered for consistency\n",
    ")\n",
    "\n",
    "# Add annotations\n",
    "for bar in bars:\n",
    "    height = bar.get_height()\n",
    "    plt.text(bar.get_x() + bar.get_width() / 2, height, f'{height:,}', \n",
    "             ha='center', va='bottom', fontsize=12, fontweight='bold')\n",
    "\n",
    "# Customize appearance\n",
    "plt.title('Distribution of Character Interpretations', fontsize=16, fontweight='bold')\n",
    "plt.xlabel('Interpretation', fontsize=14)\n",
    "plt.ylabel('Number of Names', fontsize=14)\n",
    "plt.xticks(rotation=25, ha='right', fontsize=12, fontweight='bold')\n",
    "plt.grid(axis='y', linestyle='--', alpha=0.6)\n",
    "\n",
    "plt.show()"
   ]
  },
  {
   "cell_type": "markdown",
   "metadata": {},
   "source": [
    "## Addition of the sentimental analysis to the original cleaned dataset"
   ]
  },
  {
   "cell_type": "code",
   "execution_count": 369,
   "metadata": {},
   "outputs": [
    {
     "data": {
      "text/html": [
       "<div>\n",
       "<style scoped>\n",
       "    .dataframe tbody tr th:only-of-type {\n",
       "        vertical-align: middle;\n",
       "    }\n",
       "\n",
       "    .dataframe tbody tr th {\n",
       "        vertical-align: top;\n",
       "    }\n",
       "\n",
       "    .dataframe thead th {\n",
       "        text-align: right;\n",
       "    }\n",
       "</style>\n",
       "<table border=\"1\" class=\"dataframe\">\n",
       "  <thead>\n",
       "    <tr style=\"text-align: right;\">\n",
       "      <th></th>\n",
       "      <th>Wikipedia_id</th>\n",
       "      <th>Name</th>\n",
       "      <th>Languages</th>\n",
       "      <th>Country</th>\n",
       "      <th>Character_Name</th>\n",
       "      <th>Sex</th>\n",
       "      <th>Actor_age</th>\n",
       "      <th>Release_date</th>\n",
       "      <th>Genre_Category</th>\n",
       "      <th>Polarity</th>\n",
       "      <th>Interpretation_SA</th>\n",
       "    </tr>\n",
       "  </thead>\n",
       "  <tbody>\n",
       "    <tr>\n",
       "      <th>0</th>\n",
       "      <td>975900</td>\n",
       "      <td>Ghosts of Mars</td>\n",
       "      <td>[English Language]</td>\n",
       "      <td>[United States of America]</td>\n",
       "      <td>Melanie</td>\n",
       "      <td>F</td>\n",
       "      <td>27.0</td>\n",
       "      <td>2001-08-24</td>\n",
       "      <td>['Action &amp; Adventure', 'Horror &amp; Thriller', 'F...</td>\n",
       "      <td>-0.021759</td>\n",
       "      <td>Bad guy</td>\n",
       "    </tr>\n",
       "    <tr>\n",
       "      <th>1</th>\n",
       "      <td>975900</td>\n",
       "      <td>Ghosts of Mars</td>\n",
       "      <td>[English Language]</td>\n",
       "      <td>[United States of America]</td>\n",
       "      <td>Williams</td>\n",
       "      <td>M</td>\n",
       "      <td>32.0</td>\n",
       "      <td>2001-08-24</td>\n",
       "      <td>['Action &amp; Adventure', 'Horror &amp; Thriller', 'F...</td>\n",
       "      <td>-0.021759</td>\n",
       "      <td>Bad guy</td>\n",
       "    </tr>\n",
       "    <tr>\n",
       "      <th>2</th>\n",
       "      <td>975900</td>\n",
       "      <td>Ghosts of Mars</td>\n",
       "      <td>[English Language]</td>\n",
       "      <td>[United States of America]</td>\n",
       "      <td>Jericho</td>\n",
       "      <td>M</td>\n",
       "      <td>33.0</td>\n",
       "      <td>2001-08-24</td>\n",
       "      <td>['Action &amp; Adventure', 'Horror &amp; Thriller', 'F...</td>\n",
       "      <td>-0.021759</td>\n",
       "      <td>Bad guy</td>\n",
       "    </tr>\n",
       "    <tr>\n",
       "      <th>3</th>\n",
       "      <td>975900</td>\n",
       "      <td>Ghosts of Mars</td>\n",
       "      <td>[English Language]</td>\n",
       "      <td>[United States of America]</td>\n",
       "      <td>Helena</td>\n",
       "      <td>F</td>\n",
       "      <td>52.0</td>\n",
       "      <td>2001-08-24</td>\n",
       "      <td>['Action &amp; Adventure', 'Horror &amp; Thriller', 'F...</td>\n",
       "      <td>-0.096875</td>\n",
       "      <td>Bad guy</td>\n",
       "    </tr>\n",
       "    <tr>\n",
       "      <th>4</th>\n",
       "      <td>975900</td>\n",
       "      <td>Ghosts of Mars</td>\n",
       "      <td>[English Language]</td>\n",
       "      <td>[United States of America]</td>\n",
       "      <td>Mars</td>\n",
       "      <td>M</td>\n",
       "      <td>NaN</td>\n",
       "      <td>2001-08-24</td>\n",
       "      <td>['Action &amp; Adventure', 'Horror &amp; Thriller', 'F...</td>\n",
       "      <td>0.041667</td>\n",
       "      <td>Nice guy</td>\n",
       "    </tr>\n",
       "  </tbody>\n",
       "</table>\n",
       "</div>"
      ],
      "text/plain": [
       "   Wikipedia_id            Name           Languages  \\\n",
       "0        975900  Ghosts of Mars  [English Language]   \n",
       "1        975900  Ghosts of Mars  [English Language]   \n",
       "2        975900  Ghosts of Mars  [English Language]   \n",
       "3        975900  Ghosts of Mars  [English Language]   \n",
       "4        975900  Ghosts of Mars  [English Language]   \n",
       "\n",
       "                      Country Character_Name Sex  Actor_age Release_date  \\\n",
       "0  [United States of America]        Melanie   F       27.0   2001-08-24   \n",
       "1  [United States of America]       Williams   M       32.0   2001-08-24   \n",
       "2  [United States of America]        Jericho   M       33.0   2001-08-24   \n",
       "3  [United States of America]         Helena   F       52.0   2001-08-24   \n",
       "4  [United States of America]           Mars   M        NaN   2001-08-24   \n",
       "\n",
       "                                      Genre_Category  Polarity  \\\n",
       "0  ['Action & Adventure', 'Horror & Thriller', 'F... -0.021759   \n",
       "1  ['Action & Adventure', 'Horror & Thriller', 'F... -0.021759   \n",
       "2  ['Action & Adventure', 'Horror & Thriller', 'F... -0.021759   \n",
       "3  ['Action & Adventure', 'Horror & Thriller', 'F... -0.096875   \n",
       "4  ['Action & Adventure', 'Horror & Thriller', 'F...  0.041667   \n",
       "\n",
       "  Interpretation_SA  \n",
       "0           Bad guy  \n",
       "1           Bad guy  \n",
       "2           Bad guy  \n",
       "3           Bad guy  \n",
       "4          Nice guy  "
      ]
     },
     "execution_count": 369,
     "metadata": {},
     "output_type": "execute_result"
    }
   ],
   "source": [
    "df_char_cleaned_SA.rename(columns={'Character_name': 'Character_Name', 'Wikipedia_ID': 'Wikipedia_id'}, inplace=True)\n",
    "df_merged = pd.merge(df_char_cleaned_SA, df_sentiment_analysis_textblob, left_on=['Wikipedia_id', 'Character_Name'], right_on=['Wikipedia_id', 'Character_Name'], how='inner')\n",
    "df_merged.drop('Subjectivity', axis=1, inplace=True)\n",
    "df_merged.head()"
   ]
  },
  {
   "cell_type": "markdown",
   "metadata": {},
   "source": [
    "## Kindness Analysis"
   ]
  },
  {
   "cell_type": "code",
   "execution_count": 370,
   "metadata": {},
   "outputs": [
    {
     "data": {
      "text/html": [
       "<div>\n",
       "<style scoped>\n",
       "    .dataframe tbody tr th:only-of-type {\n",
       "        vertical-align: middle;\n",
       "    }\n",
       "\n",
       "    .dataframe tbody tr th {\n",
       "        vertical-align: top;\n",
       "    }\n",
       "\n",
       "    .dataframe thead th {\n",
       "        text-align: right;\n",
       "    }\n",
       "</style>\n",
       "<table border=\"1\" class=\"dataframe\">\n",
       "  <thead>\n",
       "    <tr style=\"text-align: right;\">\n",
       "      <th></th>\n",
       "      <th>Wikipedia_id</th>\n",
       "      <th>Name</th>\n",
       "      <th>Languages</th>\n",
       "      <th>Country</th>\n",
       "      <th>Character_Name</th>\n",
       "      <th>Sex</th>\n",
       "      <th>Actor_age</th>\n",
       "      <th>Release_date</th>\n",
       "      <th>Genre_Category</th>\n",
       "      <th>Polarity</th>\n",
       "      <th>Interpretation_SA</th>\n",
       "      <th>kindness</th>\n",
       "    </tr>\n",
       "  </thead>\n",
       "  <tbody>\n",
       "    <tr>\n",
       "      <th>56344</th>\n",
       "      <td>9825500</td>\n",
       "      <td>Fifty Pills</td>\n",
       "      <td>[English Language]</td>\n",
       "      <td>[United States of America]</td>\n",
       "      <td>Gracie</td>\n",
       "      <td>F</td>\n",
       "      <td>26.0</td>\n",
       "      <td>2007</td>\n",
       "      <td>['Comedy', 'Cult &amp; B-Movies']</td>\n",
       "      <td>1.0</td>\n",
       "      <td>Very nice guy</td>\n",
       "      <td>1</td>\n",
       "    </tr>\n",
       "    <tr>\n",
       "      <th>45165</th>\n",
       "      <td>24436496</td>\n",
       "      <td>Equinox</td>\n",
       "      <td>[English Language]</td>\n",
       "      <td>[United States of America]</td>\n",
       "      <td>Beverly</td>\n",
       "      <td>F</td>\n",
       "      <td>22.0</td>\n",
       "      <td>1992-09-18</td>\n",
       "      <td>['Drama', 'Cult &amp; B-Movies']</td>\n",
       "      <td>1.0</td>\n",
       "      <td>Very nice guy</td>\n",
       "      <td>1</td>\n",
       "    </tr>\n",
       "    <tr>\n",
       "      <th>18369</th>\n",
       "      <td>19136103</td>\n",
       "      <td>The Cold Room</td>\n",
       "      <td>[German Language, English Language]</td>\n",
       "      <td>[United Kingdom]</td>\n",
       "      <td>Sophie</td>\n",
       "      <td>F</td>\n",
       "      <td>NaN</td>\n",
       "      <td>1984-03-24</td>\n",
       "      <td>['Action &amp; Adventure', 'Horror &amp; Thriller', 'F...</td>\n",
       "      <td>1.0</td>\n",
       "      <td>Very nice guy</td>\n",
       "      <td>1</td>\n",
       "    </tr>\n",
       "    <tr>\n",
       "      <th>47424</th>\n",
       "      <td>11063492</td>\n",
       "      <td>Saving Shiloh</td>\n",
       "      <td>[English Language]</td>\n",
       "      <td>[United States of America]</td>\n",
       "      <td>Samantha</td>\n",
       "      <td>F</td>\n",
       "      <td>12.0</td>\n",
       "      <td>2006-05-12</td>\n",
       "      <td>['Drama']</td>\n",
       "      <td>1.0</td>\n",
       "      <td>Very nice guy</td>\n",
       "      <td>1</td>\n",
       "    </tr>\n",
       "    <tr>\n",
       "      <th>35806</th>\n",
       "      <td>15513119</td>\n",
       "      <td>Who Loves the Sun</td>\n",
       "      <td>[English Language]</td>\n",
       "      <td>[Canada]</td>\n",
       "      <td>Maggie</td>\n",
       "      <td>F</td>\n",
       "      <td>33.0</td>\n",
       "      <td>2006-06-06</td>\n",
       "      <td>['Romance', 'Drama', 'Cult &amp; B-Movies', 'Comedy']</td>\n",
       "      <td>1.0</td>\n",
       "      <td>Very nice guy</td>\n",
       "      <td>1</td>\n",
       "    </tr>\n",
       "  </tbody>\n",
       "</table>\n",
       "</div>"
      ],
      "text/plain": [
       "       Wikipedia_id               Name                            Languages  \\\n",
       "56344       9825500        Fifty Pills                   [English Language]   \n",
       "45165      24436496            Equinox                   [English Language]   \n",
       "18369      19136103      The Cold Room  [German Language, English Language]   \n",
       "47424      11063492      Saving Shiloh                   [English Language]   \n",
       "35806      15513119  Who Loves the Sun                   [English Language]   \n",
       "\n",
       "                          Country Character_Name Sex  Actor_age Release_date  \\\n",
       "56344  [United States of America]         Gracie   F       26.0         2007   \n",
       "45165  [United States of America]        Beverly   F       22.0   1992-09-18   \n",
       "18369            [United Kingdom]         Sophie   F        NaN   1984-03-24   \n",
       "47424  [United States of America]       Samantha   F       12.0   2006-05-12   \n",
       "35806                    [Canada]         Maggie   F       33.0   2006-06-06   \n",
       "\n",
       "                                          Genre_Category  Polarity  \\\n",
       "56344                      ['Comedy', 'Cult & B-Movies']       1.0   \n",
       "45165                       ['Drama', 'Cult & B-Movies']       1.0   \n",
       "18369  ['Action & Adventure', 'Horror & Thriller', 'F...       1.0   \n",
       "47424                                          ['Drama']       1.0   \n",
       "35806  ['Romance', 'Drama', 'Cult & B-Movies', 'Comedy']       1.0   \n",
       "\n",
       "      Interpretation_SA kindness  \n",
       "56344     Very nice guy        1  \n",
       "45165     Very nice guy        1  \n",
       "18369     Very nice guy        1  \n",
       "47424     Very nice guy        1  \n",
       "35806     Very nice guy        1  "
      ]
     },
     "execution_count": 370,
     "metadata": {},
     "output_type": "execute_result"
    }
   ],
   "source": [
    "df_SA_analysis = df_merged.copy()\n",
    "df_SA_analysis['kindness'] = df_merged['Polarity'].apply(good_guy_detector)\n",
    "df_SA_analysis = df_SA_analysis[df_SA_analysis['kindness'] != 'Not significant']\n",
    "#df_SA_analysis.head(50)\n",
    "df_sorted = df_SA_analysis[df_SA_analysis['Sex']=='F'].sort_values(by='Polarity', ascending=False)\n",
    "df_sorted.head(5)"
   ]
  },
  {
   "cell_type": "code",
   "execution_count": 371,
   "metadata": {},
   "outputs": [],
   "source": [
    "df_SA_analysis = df_SA_analysis.rename(columns={'Character_Name': 'Character_name'})\n",
    "analyze_SA = GoodBadGuyAnalyzer(df_SA_analysis)\n",
    "\n",
    "bad_guys_names, bad_girls_names = analyze_SA.get_bad_guys_girls_names_SA(8)\n",
    "good_guys_names, good_girls_names = analyze_SA.get_good_guys_girls_names_SA(8)\n",
    "\n",
    "data_f_bad = analyze_SA.create_sunburst_data_SA(bad_girls_names)\n",
    "data_f_good = analyze_SA.create_sunburst_data_SA(good_girls_names)\n",
    "\n",
    "data_m_bad = analyze_SA.create_sunburst_data_SA(bad_guys_names)\n",
    "data_m_good = analyze_SA.create_sunburst_data_SA(good_guys_names)"
   ]
  },
  {
   "cell_type": "code",
   "execution_count": 90,
   "metadata": {},
   "outputs": [],
   "source": []
  },
  {
   "cell_type": "code",
   "execution_count": 372,
   "metadata": {},
   "outputs": [
    {
     "data": {
      "application/vnd.plotly.v1+json": {
       "config": {
        "plotlyServerURL": "https://plot.ly"
       },
       "data": [
        {
         "domain": {
          "column": 1,
          "x": [
           0,
           0.45
          ],
          "y": [
           0,
           1
          ]
         },
         "labels": [
          "Movies' Genres",
          "Action & Adventure",
          "Drama",
          "Comedy",
          "Horror & Thriller",
          "Fantasy & Sci-Fi",
          "Historical & War",
          "Romance",
          "Documentary",
          "Music & Performance",
          "Cult & B-Movies",
          "Other",
          "Sophie",
          "Marks",
          "Talleah",
          "Sheherazade",
          "Zafir",
          "Pet",
          "Izumi",
          "Fan",
          "Sophie",
          "Marks",
          "Maggie",
          "Beverly",
          "Samantha",
          "Brooke",
          "Grace",
          "Jill",
          "Casey",
          "Ayanda",
          "Maggie",
          "Michelle",
          "Carrie",
          "Erica",
          "Gussie",
          "Gracie",
          "Sophie",
          "Marks",
          "Sridevi",
          "Izumi",
          "Watson",
          "Sutton",
          "Watson",
          "Haley",
          "Sophie",
          "Talleah",
          "Sheherazade",
          "Zafir",
          "Fan",
          "Faye",
          "Faye",
          "Watson",
          "Alice",
          "Lol",
          "Eleanor",
          "Damon",
          "Annie",
          "Elizabeth",
          "Annie",
          "Austen",
          "Casey",
          "Sophie",
          "Ayanda",
          "Marks",
          "Maggie",
          "Michelle",
          "Carrie",
          "Gussie",
          "Alice",
          "Elizabeth",
          "Austen",
          "Austen",
          "Beulah",
          "Masha",
          "Fan",
          "Mariane",
          "Manjari",
          "Summers",
          "Roxy",
          "Ellen",
          "Eileen",
          "Carmen",
          "Minerva",
          "Dee",
          "Maggie",
          "Michelle",
          "Carrie",
          "Beverly",
          "Gracie",
          "Brooke",
          "Grace",
          "Talleah",
          "Murphy",
          "Dai",
          "Sharma",
          "Lakshmi",
          "Nami",
          "Selvi",
          "Dolores",
          "Narmada"
         ],
         "maxdepth": 2,
         "parents": [
          "",
          "Movies' Genres",
          "Movies' Genres",
          "Movies' Genres",
          "Movies' Genres",
          "Movies' Genres",
          "Movies' Genres",
          "Movies' Genres",
          "Movies' Genres",
          "Movies' Genres",
          "Movies' Genres",
          "Movies' Genres",
          "Action & Adventure",
          "Action & Adventure",
          "Action & Adventure",
          "Action & Adventure",
          "Action & Adventure",
          "Action & Adventure",
          "Action & Adventure",
          "Action & Adventure",
          "Drama",
          "Drama",
          "Drama",
          "Drama",
          "Drama",
          "Drama",
          "Drama",
          "Drama",
          "Comedy",
          "Comedy",
          "Comedy",
          "Comedy",
          "Comedy",
          "Comedy",
          "Comedy",
          "Comedy",
          "Horror & Thriller",
          "Horror & Thriller",
          "Horror & Thriller",
          "Horror & Thriller",
          "Horror & Thriller",
          "Horror & Thriller",
          "Horror & Thriller",
          "Horror & Thriller",
          "Fantasy & Sci-Fi",
          "Fantasy & Sci-Fi",
          "Fantasy & Sci-Fi",
          "Fantasy & Sci-Fi",
          "Fantasy & Sci-Fi",
          "Fantasy & Sci-Fi",
          "Fantasy & Sci-Fi",
          "Fantasy & Sci-Fi",
          "Historical & War",
          "Historical & War",
          "Historical & War",
          "Historical & War",
          "Historical & War",
          "Historical & War",
          "Historical & War",
          "Historical & War",
          "Romance",
          "Romance",
          "Romance",
          "Romance",
          "Romance",
          "Romance",
          "Romance",
          "Romance",
          "Documentary",
          "Documentary",
          "Documentary",
          "Documentary",
          "Documentary",
          "Documentary",
          "Documentary",
          "Documentary",
          "Music & Performance",
          "Music & Performance",
          "Music & Performance",
          "Music & Performance",
          "Music & Performance",
          "Music & Performance",
          "Music & Performance",
          "Music & Performance",
          "Cult & B-Movies",
          "Cult & B-Movies",
          "Cult & B-Movies",
          "Cult & B-Movies",
          "Cult & B-Movies",
          "Cult & B-Movies",
          "Cult & B-Movies",
          "Cult & B-Movies",
          "Other",
          "Other",
          "Other",
          "Other",
          "Other",
          "Other",
          "Other",
          "Other"
         ],
         "type": "sunburst"
        },
        {
         "domain": {
          "column": 1,
          "x": [
           0.55,
           1
          ],
          "y": [
           0,
           1
          ]
         },
         "labels": [
          "Movies' Genres",
          "Action & Adventure",
          "Drama",
          "Comedy",
          "Horror & Thriller",
          "Fantasy & Sci-Fi",
          "Historical & War",
          "Romance",
          "Documentary",
          "Music & Performance",
          "Cult & B-Movies",
          "Other",
          "Susan",
          "Dee",
          "Cates",
          "Foley",
          "Williams",
          "Carla",
          "Lucy",
          "Macheeba",
          "Farrell",
          "Babyface",
          "Watuna",
          "Peiot",
          "Ane",
          "Cates",
          "Denise",
          "Roz",
          "Fields",
          "Farrell",
          "Babyface",
          "Becky",
          "Foley",
          "Macheeba",
          "Frau",
          "Rosie",
          "Wolfe",
          "Susan",
          "Dee",
          "Cates",
          "Williams",
          "Carla",
          "Lucy",
          "Margarita",
          "Susan",
          "Watuna",
          "Peiot",
          "Ane",
          "Williams",
          "Frau",
          "Pascal",
          "Mercury",
          "Susan",
          "Foley",
          "Williams",
          "Diana",
          "Caroline",
          "Abigail",
          "Kathleen",
          "Sonia",
          "Norma",
          "Dracula",
          "Oyl",
          "Mercury",
          "Abigail",
          "Kathleen",
          "Mulford",
          "Suzanne",
          "Diana",
          "Abigail",
          "Carrie",
          "Sharon",
          "Marie",
          "Marie",
          "Gertrude",
          "Margaret",
          "Louise",
          "Gauri",
          "Morton",
          "Hathaway",
          "Bianca",
          "Hadie",
          "Spungen",
          "Lila",
          "Diana",
          "Norma",
          "Carol",
          "Mulford",
          "Lucy",
          "Ellie",
          "Spungen",
          "Lila",
          "Boop",
          "Hannah",
          "Seema",
          "Lorrison",
          "Lucy",
          "Kajal",
          "Rukmani",
          "Susan"
         ],
         "maxdepth": 2,
         "parents": [
          "",
          "Movies' Genres",
          "Movies' Genres",
          "Movies' Genres",
          "Movies' Genres",
          "Movies' Genres",
          "Movies' Genres",
          "Movies' Genres",
          "Movies' Genres",
          "Movies' Genres",
          "Movies' Genres",
          "Movies' Genres",
          "Action & Adventure",
          "Action & Adventure",
          "Action & Adventure",
          "Action & Adventure",
          "Action & Adventure",
          "Action & Adventure",
          "Action & Adventure",
          "Action & Adventure",
          "Drama",
          "Drama",
          "Drama",
          "Drama",
          "Drama",
          "Drama",
          "Drama",
          "Drama",
          "Comedy",
          "Comedy",
          "Comedy",
          "Comedy",
          "Comedy",
          "Comedy",
          "Comedy",
          "Comedy",
          "Horror & Thriller",
          "Horror & Thriller",
          "Horror & Thriller",
          "Horror & Thriller",
          "Horror & Thriller",
          "Horror & Thriller",
          "Horror & Thriller",
          "Horror & Thriller",
          "Fantasy & Sci-Fi",
          "Fantasy & Sci-Fi",
          "Fantasy & Sci-Fi",
          "Fantasy & Sci-Fi",
          "Fantasy & Sci-Fi",
          "Fantasy & Sci-Fi",
          "Fantasy & Sci-Fi",
          "Fantasy & Sci-Fi",
          "Historical & War",
          "Historical & War",
          "Historical & War",
          "Historical & War",
          "Historical & War",
          "Historical & War",
          "Historical & War",
          "Historical & War",
          "Romance",
          "Romance",
          "Romance",
          "Romance",
          "Romance",
          "Romance",
          "Romance",
          "Romance",
          "Documentary",
          "Documentary",
          "Documentary",
          "Documentary",
          "Documentary",
          "Documentary",
          "Documentary",
          "Documentary",
          "Music & Performance",
          "Music & Performance",
          "Music & Performance",
          "Music & Performance",
          "Music & Performance",
          "Music & Performance",
          "Music & Performance",
          "Music & Performance",
          "Cult & B-Movies",
          "Cult & B-Movies",
          "Cult & B-Movies",
          "Cult & B-Movies",
          "Cult & B-Movies",
          "Cult & B-Movies",
          "Cult & B-Movies",
          "Cult & B-Movies",
          "Other",
          "Other",
          "Other",
          "Other",
          "Other",
          "Other",
          "Other",
          "Other"
         ],
         "type": "sunburst"
        }
       ],
       "layout": {
        "annotations": [
         {
          "font": {
           "size": 16
          },
          "showarrow": false,
          "text": "BAD GIRLS",
          "x": 0.225,
          "xanchor": "center",
          "xref": "paper",
          "y": 1,
          "yanchor": "bottom",
          "yref": "paper"
         },
         {
          "font": {
           "size": 16
          },
          "showarrow": false,
          "text": "GOOD GIRLS",
          "x": 0.775,
          "xanchor": "center",
          "xref": "paper",
          "y": 1,
          "yanchor": "bottom",
          "yref": "paper"
         }
        ],
        "font": {
         "size": 13
        },
        "height": 800,
        "showlegend": false,
        "template": {
         "data": {
          "bar": [
           {
            "error_x": {
             "color": "#2a3f5f"
            },
            "error_y": {
             "color": "#2a3f5f"
            },
            "marker": {
             "line": {
              "color": "#E5ECF6",
              "width": 0.5
             },
             "pattern": {
              "fillmode": "overlay",
              "size": 10,
              "solidity": 0.2
             }
            },
            "type": "bar"
           }
          ],
          "barpolar": [
           {
            "marker": {
             "line": {
              "color": "#E5ECF6",
              "width": 0.5
             },
             "pattern": {
              "fillmode": "overlay",
              "size": 10,
              "solidity": 0.2
             }
            },
            "type": "barpolar"
           }
          ],
          "carpet": [
           {
            "aaxis": {
             "endlinecolor": "#2a3f5f",
             "gridcolor": "white",
             "linecolor": "white",
             "minorgridcolor": "white",
             "startlinecolor": "#2a3f5f"
            },
            "baxis": {
             "endlinecolor": "#2a3f5f",
             "gridcolor": "white",
             "linecolor": "white",
             "minorgridcolor": "white",
             "startlinecolor": "#2a3f5f"
            },
            "type": "carpet"
           }
          ],
          "choropleth": [
           {
            "colorbar": {
             "outlinewidth": 0,
             "ticks": ""
            },
            "type": "choropleth"
           }
          ],
          "contour": [
           {
            "colorbar": {
             "outlinewidth": 0,
             "ticks": ""
            },
            "colorscale": [
             [
              0,
              "#0d0887"
             ],
             [
              0.1111111111111111,
              "#46039f"
             ],
             [
              0.2222222222222222,
              "#7201a8"
             ],
             [
              0.3333333333333333,
              "#9c179e"
             ],
             [
              0.4444444444444444,
              "#bd3786"
             ],
             [
              0.5555555555555556,
              "#d8576b"
             ],
             [
              0.6666666666666666,
              "#ed7953"
             ],
             [
              0.7777777777777778,
              "#fb9f3a"
             ],
             [
              0.8888888888888888,
              "#fdca26"
             ],
             [
              1,
              "#f0f921"
             ]
            ],
            "type": "contour"
           }
          ],
          "contourcarpet": [
           {
            "colorbar": {
             "outlinewidth": 0,
             "ticks": ""
            },
            "type": "contourcarpet"
           }
          ],
          "heatmap": [
           {
            "colorbar": {
             "outlinewidth": 0,
             "ticks": ""
            },
            "colorscale": [
             [
              0,
              "#0d0887"
             ],
             [
              0.1111111111111111,
              "#46039f"
             ],
             [
              0.2222222222222222,
              "#7201a8"
             ],
             [
              0.3333333333333333,
              "#9c179e"
             ],
             [
              0.4444444444444444,
              "#bd3786"
             ],
             [
              0.5555555555555556,
              "#d8576b"
             ],
             [
              0.6666666666666666,
              "#ed7953"
             ],
             [
              0.7777777777777778,
              "#fb9f3a"
             ],
             [
              0.8888888888888888,
              "#fdca26"
             ],
             [
              1,
              "#f0f921"
             ]
            ],
            "type": "heatmap"
           }
          ],
          "heatmapgl": [
           {
            "colorbar": {
             "outlinewidth": 0,
             "ticks": ""
            },
            "colorscale": [
             [
              0,
              "#0d0887"
             ],
             [
              0.1111111111111111,
              "#46039f"
             ],
             [
              0.2222222222222222,
              "#7201a8"
             ],
             [
              0.3333333333333333,
              "#9c179e"
             ],
             [
              0.4444444444444444,
              "#bd3786"
             ],
             [
              0.5555555555555556,
              "#d8576b"
             ],
             [
              0.6666666666666666,
              "#ed7953"
             ],
             [
              0.7777777777777778,
              "#fb9f3a"
             ],
             [
              0.8888888888888888,
              "#fdca26"
             ],
             [
              1,
              "#f0f921"
             ]
            ],
            "type": "heatmapgl"
           }
          ],
          "histogram": [
           {
            "marker": {
             "pattern": {
              "fillmode": "overlay",
              "size": 10,
              "solidity": 0.2
             }
            },
            "type": "histogram"
           }
          ],
          "histogram2d": [
           {
            "colorbar": {
             "outlinewidth": 0,
             "ticks": ""
            },
            "colorscale": [
             [
              0,
              "#0d0887"
             ],
             [
              0.1111111111111111,
              "#46039f"
             ],
             [
              0.2222222222222222,
              "#7201a8"
             ],
             [
              0.3333333333333333,
              "#9c179e"
             ],
             [
              0.4444444444444444,
              "#bd3786"
             ],
             [
              0.5555555555555556,
              "#d8576b"
             ],
             [
              0.6666666666666666,
              "#ed7953"
             ],
             [
              0.7777777777777778,
              "#fb9f3a"
             ],
             [
              0.8888888888888888,
              "#fdca26"
             ],
             [
              1,
              "#f0f921"
             ]
            ],
            "type": "histogram2d"
           }
          ],
          "histogram2dcontour": [
           {
            "colorbar": {
             "outlinewidth": 0,
             "ticks": ""
            },
            "colorscale": [
             [
              0,
              "#0d0887"
             ],
             [
              0.1111111111111111,
              "#46039f"
             ],
             [
              0.2222222222222222,
              "#7201a8"
             ],
             [
              0.3333333333333333,
              "#9c179e"
             ],
             [
              0.4444444444444444,
              "#bd3786"
             ],
             [
              0.5555555555555556,
              "#d8576b"
             ],
             [
              0.6666666666666666,
              "#ed7953"
             ],
             [
              0.7777777777777778,
              "#fb9f3a"
             ],
             [
              0.8888888888888888,
              "#fdca26"
             ],
             [
              1,
              "#f0f921"
             ]
            ],
            "type": "histogram2dcontour"
           }
          ],
          "mesh3d": [
           {
            "colorbar": {
             "outlinewidth": 0,
             "ticks": ""
            },
            "type": "mesh3d"
           }
          ],
          "parcoords": [
           {
            "line": {
             "colorbar": {
              "outlinewidth": 0,
              "ticks": ""
             }
            },
            "type": "parcoords"
           }
          ],
          "pie": [
           {
            "automargin": true,
            "type": "pie"
           }
          ],
          "scatter": [
           {
            "fillpattern": {
             "fillmode": "overlay",
             "size": 10,
             "solidity": 0.2
            },
            "type": "scatter"
           }
          ],
          "scatter3d": [
           {
            "line": {
             "colorbar": {
              "outlinewidth": 0,
              "ticks": ""
             }
            },
            "marker": {
             "colorbar": {
              "outlinewidth": 0,
              "ticks": ""
             }
            },
            "type": "scatter3d"
           }
          ],
          "scattercarpet": [
           {
            "marker": {
             "colorbar": {
              "outlinewidth": 0,
              "ticks": ""
             }
            },
            "type": "scattercarpet"
           }
          ],
          "scattergeo": [
           {
            "marker": {
             "colorbar": {
              "outlinewidth": 0,
              "ticks": ""
             }
            },
            "type": "scattergeo"
           }
          ],
          "scattergl": [
           {
            "marker": {
             "colorbar": {
              "outlinewidth": 0,
              "ticks": ""
             }
            },
            "type": "scattergl"
           }
          ],
          "scattermapbox": [
           {
            "marker": {
             "colorbar": {
              "outlinewidth": 0,
              "ticks": ""
             }
            },
            "type": "scattermapbox"
           }
          ],
          "scatterpolar": [
           {
            "marker": {
             "colorbar": {
              "outlinewidth": 0,
              "ticks": ""
             }
            },
            "type": "scatterpolar"
           }
          ],
          "scatterpolargl": [
           {
            "marker": {
             "colorbar": {
              "outlinewidth": 0,
              "ticks": ""
             }
            },
            "type": "scatterpolargl"
           }
          ],
          "scatterternary": [
           {
            "marker": {
             "colorbar": {
              "outlinewidth": 0,
              "ticks": ""
             }
            },
            "type": "scatterternary"
           }
          ],
          "surface": [
           {
            "colorbar": {
             "outlinewidth": 0,
             "ticks": ""
            },
            "colorscale": [
             [
              0,
              "#0d0887"
             ],
             [
              0.1111111111111111,
              "#46039f"
             ],
             [
              0.2222222222222222,
              "#7201a8"
             ],
             [
              0.3333333333333333,
              "#9c179e"
             ],
             [
              0.4444444444444444,
              "#bd3786"
             ],
             [
              0.5555555555555556,
              "#d8576b"
             ],
             [
              0.6666666666666666,
              "#ed7953"
             ],
             [
              0.7777777777777778,
              "#fb9f3a"
             ],
             [
              0.8888888888888888,
              "#fdca26"
             ],
             [
              1,
              "#f0f921"
             ]
            ],
            "type": "surface"
           }
          ],
          "table": [
           {
            "cells": {
             "fill": {
              "color": "#EBF0F8"
             },
             "line": {
              "color": "white"
             }
            },
            "header": {
             "fill": {
              "color": "#C8D4E3"
             },
             "line": {
              "color": "white"
             }
            },
            "type": "table"
           }
          ]
         },
         "layout": {
          "annotationdefaults": {
           "arrowcolor": "#2a3f5f",
           "arrowhead": 0,
           "arrowwidth": 1
          },
          "autotypenumbers": "strict",
          "coloraxis": {
           "colorbar": {
            "outlinewidth": 0,
            "ticks": ""
           }
          },
          "colorscale": {
           "diverging": [
            [
             0,
             "#8e0152"
            ],
            [
             0.1,
             "#c51b7d"
            ],
            [
             0.2,
             "#de77ae"
            ],
            [
             0.3,
             "#f1b6da"
            ],
            [
             0.4,
             "#fde0ef"
            ],
            [
             0.5,
             "#f7f7f7"
            ],
            [
             0.6,
             "#e6f5d0"
            ],
            [
             0.7,
             "#b8e186"
            ],
            [
             0.8,
             "#7fbc41"
            ],
            [
             0.9,
             "#4d9221"
            ],
            [
             1,
             "#276419"
            ]
           ],
           "sequential": [
            [
             0,
             "#0d0887"
            ],
            [
             0.1111111111111111,
             "#46039f"
            ],
            [
             0.2222222222222222,
             "#7201a8"
            ],
            [
             0.3333333333333333,
             "#9c179e"
            ],
            [
             0.4444444444444444,
             "#bd3786"
            ],
            [
             0.5555555555555556,
             "#d8576b"
            ],
            [
             0.6666666666666666,
             "#ed7953"
            ],
            [
             0.7777777777777778,
             "#fb9f3a"
            ],
            [
             0.8888888888888888,
             "#fdca26"
            ],
            [
             1,
             "#f0f921"
            ]
           ],
           "sequentialminus": [
            [
             0,
             "#0d0887"
            ],
            [
             0.1111111111111111,
             "#46039f"
            ],
            [
             0.2222222222222222,
             "#7201a8"
            ],
            [
             0.3333333333333333,
             "#9c179e"
            ],
            [
             0.4444444444444444,
             "#bd3786"
            ],
            [
             0.5555555555555556,
             "#d8576b"
            ],
            [
             0.6666666666666666,
             "#ed7953"
            ],
            [
             0.7777777777777778,
             "#fb9f3a"
            ],
            [
             0.8888888888888888,
             "#fdca26"
            ],
            [
             1,
             "#f0f921"
            ]
           ]
          },
          "colorway": [
           "#636efa",
           "#EF553B",
           "#00cc96",
           "#ab63fa",
           "#FFA15A",
           "#19d3f3",
           "#FF6692",
           "#B6E880",
           "#FF97FF",
           "#FECB52"
          ],
          "font": {
           "color": "#2a3f5f"
          },
          "geo": {
           "bgcolor": "white",
           "lakecolor": "white",
           "landcolor": "#E5ECF6",
           "showlakes": true,
           "showland": true,
           "subunitcolor": "white"
          },
          "hoverlabel": {
           "align": "left"
          },
          "hovermode": "closest",
          "mapbox": {
           "style": "light"
          },
          "paper_bgcolor": "white",
          "plot_bgcolor": "#E5ECF6",
          "polar": {
           "angularaxis": {
            "gridcolor": "white",
            "linecolor": "white",
            "ticks": ""
           },
           "bgcolor": "#E5ECF6",
           "radialaxis": {
            "gridcolor": "white",
            "linecolor": "white",
            "ticks": ""
           }
          },
          "scene": {
           "xaxis": {
            "backgroundcolor": "#E5ECF6",
            "gridcolor": "white",
            "gridwidth": 2,
            "linecolor": "white",
            "showbackground": true,
            "ticks": "",
            "zerolinecolor": "white"
           },
           "yaxis": {
            "backgroundcolor": "#E5ECF6",
            "gridcolor": "white",
            "gridwidth": 2,
            "linecolor": "white",
            "showbackground": true,
            "ticks": "",
            "zerolinecolor": "white"
           },
           "zaxis": {
            "backgroundcolor": "#E5ECF6",
            "gridcolor": "white",
            "gridwidth": 2,
            "linecolor": "white",
            "showbackground": true,
            "ticks": "",
            "zerolinecolor": "white"
           }
          },
          "shapedefaults": {
           "line": {
            "color": "#2a3f5f"
           }
          },
          "ternary": {
           "aaxis": {
            "gridcolor": "white",
            "linecolor": "white",
            "ticks": ""
           },
           "baxis": {
            "gridcolor": "white",
            "linecolor": "white",
            "ticks": ""
           },
           "bgcolor": "#E5ECF6",
           "caxis": {
            "gridcolor": "white",
            "linecolor": "white",
            "ticks": ""
           }
          },
          "title": {
           "x": 0.05
          },
          "xaxis": {
           "automargin": true,
           "gridcolor": "white",
           "linecolor": "white",
           "ticks": "",
           "title": {
            "standoff": 15
           },
           "zerolinecolor": "white",
           "zerolinewidth": 2
          },
          "yaxis": {
           "automargin": true,
           "gridcolor": "white",
           "linecolor": "white",
           "ticks": "",
           "title": {
            "standoff": 15
           },
           "zerolinecolor": "white",
           "zerolinewidth": 2
          }
         }
        },
        "title": {
         "text": "Good Girls VS Bad Girls Names by Genre"
        },
        "width": 1600
       }
      }
     },
     "metadata": {},
     "output_type": "display_data"
    }
   ],
   "source": [
    "# Create the sunburst plots for females and males\n",
    "fig_bad_girls = go.Figure(go.Sunburst(\n",
    "    labels=data_f_bad['character'],\n",
    "    parents=data_f_bad['parent'],\n",
    "    domain=dict(column=1),\n",
    "    maxdepth=2\n",
    "))\n",
    "\n",
    "fig_good_girls = go.Figure(go.Sunburst(\n",
    "    labels=data_f_good['character'],\n",
    "    parents=data_f_good['parent'],\n",
    "    domain=dict(column=1),\n",
    "    maxdepth=2\n",
    "))\n",
    "\n",
    "fig = make_subplots(\n",
    "    rows=1, cols=2,\n",
    "    subplot_titles=[\"BAD GIRLS\", \"GOOD GIRLS\"],\n",
    "    specs=[[{\"type\": \"sunburst\"}, {\"type\": \"sunburst\"}]]\n",
    ")\n",
    "\n",
    "fig.add_trace(fig_good_girls['data'][0], row=1, col=1)\n",
    "fig.add_trace(fig_bad_girls['data'][0], row=1, col=2)\n",
    "\n",
    "fig.update_layout(\n",
    "    title_text=\"Good Girls VS Bad Girls Names by Genre\",\n",
    "    showlegend=False,\n",
    "    width=1600,\n",
    "    height=800,\n",
    "    font=dict(size=13),\n",
    ")\n",
    "\n",
    "fig.show()"
   ]
  },
  {
   "cell_type": "code",
   "execution_count": 373,
   "metadata": {},
   "outputs": [],
   "source": [
    "# from textblob import TextBlob\n",
    "\n",
    "# def get_sentiment_with_textblob(sentence):\n",
    "#     analysis = TextBlob(sentence)\n",
    "#     return analysis.sentiment.polarity, analysis.sentiment.subjectivity\n",
    "\n",
    "# def process_character_sentiments_textblob(sentences):\n",
    "#     polarity_textblob = []\n",
    "#     subjectivity_textblob = []\n",
    "    \n",
    "#     for sentence in sentences:\n",
    "#         polarity, subjectivity = get_sentiment_with_textblob(sentence)\n",
    "#         polarity_textblob.append(polarity)\n",
    "#         subjectivity_textblob.append(subjectivity)\n",
    "    \n",
    "#     mean_polarity_textblob = np.mean(polarity_textblob) if polarity_textblob else None\n",
    "#     mean_subjectivity_textblob = np.mean(subjectivity_textblob) if subjectivity_textblob else None\n",
    "\n",
    "#     return mean_polarity_textblob, mean_subjectivity_textblob\n"
   ]
  },
  {
   "cell_type": "code",
   "execution_count": 374,
   "metadata": {},
   "outputs": [
    {
     "data": {
      "application/vnd.plotly.v1+json": {
       "config": {
        "plotlyServerURL": "https://plot.ly"
       },
       "data": [
        {
         "domain": {
          "column": 1,
          "x": [
           0,
           0.45
          ],
          "y": [
           0,
           1
          ]
         },
         "labels": [
          "Movies' Genres",
          "Action & Adventure",
          "Drama",
          "Comedy",
          "Horror & Thriller",
          "Fantasy & Sci-Fi",
          "Historical & War",
          "Romance",
          "Documentary",
          "Music & Performance",
          "Cult & B-Movies",
          "Other",
          "Werner",
          "Kitchell",
          "Frank",
          "Eeyore",
          "Montgomery",
          "Hagan",
          "Marks",
          "Kumar",
          "Dan",
          "Werner",
          "Kitchell",
          "Marlon",
          "Eeyore",
          "Hagan",
          "Marks",
          "Austin",
          "Dan",
          "Frank",
          "Tom",
          "Marlon",
          "Eeyore",
          "Elvis",
          "Tumi",
          "Nolan",
          "Montgomery",
          "Marks",
          "Joseph",
          "Dixon",
          "Goodall",
          "Freddy",
          "Starczek",
          "Otsuka",
          "Marlon",
          "Eeyore",
          "Pecos",
          "Sinbad",
          "Aladdin",
          "Norman",
          "Spike",
          "Spike",
          "Werner",
          "Kitchell",
          "Patrick",
          "Rustom",
          "Max",
          "Lowe",
          "Starczek",
          "Abraham",
          "Kitchell",
          "Frank",
          "Tom",
          "Elvis",
          "Tumi",
          "Marks",
          "Austin",
          "Ortega",
          "Werner",
          "Max",
          "Lowe",
          "Abraham",
          "Adolph",
          "Wilson",
          "Austen",
          "Austen",
          "Oliver",
          "Rico",
          "Dexter",
          "Happy",
          "Amit",
          "Chopra",
          "Wilson",
          "Cahill",
          "Dan",
          "Kitchell",
          "Frank",
          "Matt",
          "Sophie",
          "Oswaldo",
          "Sam",
          "Oz",
          "Philip",
          "Jasper",
          "Malhotra",
          "Anwar",
          "Raju",
          "Morpheus",
          "Lloyd",
          "Tatsuya"
         ],
         "maxdepth": 2,
         "parents": [
          "",
          "Movies' Genres",
          "Movies' Genres",
          "Movies' Genres",
          "Movies' Genres",
          "Movies' Genres",
          "Movies' Genres",
          "Movies' Genres",
          "Movies' Genres",
          "Movies' Genres",
          "Movies' Genres",
          "Movies' Genres",
          "Action & Adventure",
          "Action & Adventure",
          "Action & Adventure",
          "Action & Adventure",
          "Action & Adventure",
          "Action & Adventure",
          "Action & Adventure",
          "Action & Adventure",
          "Drama",
          "Drama",
          "Drama",
          "Drama",
          "Drama",
          "Drama",
          "Drama",
          "Drama",
          "Comedy",
          "Comedy",
          "Comedy",
          "Comedy",
          "Comedy",
          "Comedy",
          "Comedy",
          "Comedy",
          "Horror & Thriller",
          "Horror & Thriller",
          "Horror & Thriller",
          "Horror & Thriller",
          "Horror & Thriller",
          "Horror & Thriller",
          "Horror & Thriller",
          "Horror & Thriller",
          "Fantasy & Sci-Fi",
          "Fantasy & Sci-Fi",
          "Fantasy & Sci-Fi",
          "Fantasy & Sci-Fi",
          "Fantasy & Sci-Fi",
          "Fantasy & Sci-Fi",
          "Fantasy & Sci-Fi",
          "Fantasy & Sci-Fi",
          "Historical & War",
          "Historical & War",
          "Historical & War",
          "Historical & War",
          "Historical & War",
          "Historical & War",
          "Historical & War",
          "Historical & War",
          "Romance",
          "Romance",
          "Romance",
          "Romance",
          "Romance",
          "Romance",
          "Romance",
          "Romance",
          "Documentary",
          "Documentary",
          "Documentary",
          "Documentary",
          "Documentary",
          "Documentary",
          "Documentary",
          "Documentary",
          "Music & Performance",
          "Music & Performance",
          "Music & Performance",
          "Music & Performance",
          "Music & Performance",
          "Music & Performance",
          "Music & Performance",
          "Music & Performance",
          "Cult & B-Movies",
          "Cult & B-Movies",
          "Cult & B-Movies",
          "Cult & B-Movies",
          "Cult & B-Movies",
          "Cult & B-Movies",
          "Cult & B-Movies",
          "Cult & B-Movies",
          "Other",
          "Other",
          "Other",
          "Other",
          "Other",
          "Other",
          "Other",
          "Other"
         ],
         "type": "sunburst"
        },
        {
         "domain": {
          "column": 1,
          "x": [
           0.55,
           1
          ],
          "y": [
           0,
           1
          ]
         },
         "labels": [
          "Movies' Genres",
          "Action & Adventure",
          "Drama",
          "Comedy",
          "Horror & Thriller",
          "Fantasy & Sci-Fi",
          "Historical & War",
          "Romance",
          "Documentary",
          "Music & Performance",
          "Cult & B-Movies",
          "Other",
          "Tobor",
          "Vultura",
          "Dudley",
          "Matthew",
          "John",
          "Donkeys",
          "Ironhide",
          "Foley",
          "Hill",
          "Sikander",
          "Athanasius",
          "Paul",
          "Dudley",
          "Matthew",
          "John",
          "Donkeys",
          "Sikander",
          "Ronnie",
          "Mark",
          "Foley",
          "Guy",
          "Khalil",
          "Rajput",
          "Jim",
          "Legendre",
          "Ethan",
          "Dudley",
          "Matthew",
          "John",
          "Guy",
          "Mattelli",
          "George",
          "Tobor",
          "Vultura",
          "Athanasius",
          "Donkeys",
          "Ironhide",
          "Shadowseat",
          "Leonardo",
          "Tyler",
          "Paul",
          "Foley",
          "Hinrich",
          "Frenssen",
          "Cyfartha",
          "Jonas",
          "Lee",
          "Charles",
          "Sikander",
          "Sam",
          "Rajput",
          "Bluto",
          "Tem",
          "Jim",
          "Lazer",
          "Mark",
          "Charles",
          "John",
          "Albert",
          "David",
          "Ferguson",
          "Wayne",
          "Cahill",
          "Merrit",
          "Sikander",
          "Ronnie",
          "Donkeys",
          "Khalil",
          "Rajput",
          "Abdul",
          "Mozo",
          "Nolan",
          "Hill",
          "Ronnie",
          "Legendre",
          "Mark",
          "Guy",
          "Mattelli",
          "Anton",
          "Marshall",
          "Myron",
          "Vronsky",
          "Malaichami",
          "Santa",
          "Comsat",
          "Pasupathi",
          "Nick",
          "Ramesh"
         ],
         "maxdepth": 2,
         "parents": [
          "",
          "Movies' Genres",
          "Movies' Genres",
          "Movies' Genres",
          "Movies' Genres",
          "Movies' Genres",
          "Movies' Genres",
          "Movies' Genres",
          "Movies' Genres",
          "Movies' Genres",
          "Movies' Genres",
          "Movies' Genres",
          "Action & Adventure",
          "Action & Adventure",
          "Action & Adventure",
          "Action & Adventure",
          "Action & Adventure",
          "Action & Adventure",
          "Action & Adventure",
          "Action & Adventure",
          "Drama",
          "Drama",
          "Drama",
          "Drama",
          "Drama",
          "Drama",
          "Drama",
          "Drama",
          "Comedy",
          "Comedy",
          "Comedy",
          "Comedy",
          "Comedy",
          "Comedy",
          "Comedy",
          "Comedy",
          "Horror & Thriller",
          "Horror & Thriller",
          "Horror & Thriller",
          "Horror & Thriller",
          "Horror & Thriller",
          "Horror & Thriller",
          "Horror & Thriller",
          "Horror & Thriller",
          "Fantasy & Sci-Fi",
          "Fantasy & Sci-Fi",
          "Fantasy & Sci-Fi",
          "Fantasy & Sci-Fi",
          "Fantasy & Sci-Fi",
          "Fantasy & Sci-Fi",
          "Fantasy & Sci-Fi",
          "Fantasy & Sci-Fi",
          "Historical & War",
          "Historical & War",
          "Historical & War",
          "Historical & War",
          "Historical & War",
          "Historical & War",
          "Historical & War",
          "Historical & War",
          "Romance",
          "Romance",
          "Romance",
          "Romance",
          "Romance",
          "Romance",
          "Romance",
          "Romance",
          "Documentary",
          "Documentary",
          "Documentary",
          "Documentary",
          "Documentary",
          "Documentary",
          "Documentary",
          "Documentary",
          "Music & Performance",
          "Music & Performance",
          "Music & Performance",
          "Music & Performance",
          "Music & Performance",
          "Music & Performance",
          "Music & Performance",
          "Music & Performance",
          "Cult & B-Movies",
          "Cult & B-Movies",
          "Cult & B-Movies",
          "Cult & B-Movies",
          "Cult & B-Movies",
          "Cult & B-Movies",
          "Cult & B-Movies",
          "Cult & B-Movies",
          "Other",
          "Other",
          "Other",
          "Other",
          "Other",
          "Other",
          "Other",
          "Other"
         ],
         "type": "sunburst"
        }
       ],
       "layout": {
        "annotations": [
         {
          "font": {
           "size": 16
          },
          "showarrow": false,
          "text": "BAD GUYS",
          "x": 0.225,
          "xanchor": "center",
          "xref": "paper",
          "y": 1,
          "yanchor": "bottom",
          "yref": "paper"
         },
         {
          "font": {
           "size": 16
          },
          "showarrow": false,
          "text": "GOOD GUYS",
          "x": 0.775,
          "xanchor": "center",
          "xref": "paper",
          "y": 1,
          "yanchor": "bottom",
          "yref": "paper"
         }
        ],
        "font": {
         "size": 13
        },
        "height": 800,
        "showlegend": false,
        "template": {
         "data": {
          "bar": [
           {
            "error_x": {
             "color": "#2a3f5f"
            },
            "error_y": {
             "color": "#2a3f5f"
            },
            "marker": {
             "line": {
              "color": "#E5ECF6",
              "width": 0.5
             },
             "pattern": {
              "fillmode": "overlay",
              "size": 10,
              "solidity": 0.2
             }
            },
            "type": "bar"
           }
          ],
          "barpolar": [
           {
            "marker": {
             "line": {
              "color": "#E5ECF6",
              "width": 0.5
             },
             "pattern": {
              "fillmode": "overlay",
              "size": 10,
              "solidity": 0.2
             }
            },
            "type": "barpolar"
           }
          ],
          "carpet": [
           {
            "aaxis": {
             "endlinecolor": "#2a3f5f",
             "gridcolor": "white",
             "linecolor": "white",
             "minorgridcolor": "white",
             "startlinecolor": "#2a3f5f"
            },
            "baxis": {
             "endlinecolor": "#2a3f5f",
             "gridcolor": "white",
             "linecolor": "white",
             "minorgridcolor": "white",
             "startlinecolor": "#2a3f5f"
            },
            "type": "carpet"
           }
          ],
          "choropleth": [
           {
            "colorbar": {
             "outlinewidth": 0,
             "ticks": ""
            },
            "type": "choropleth"
           }
          ],
          "contour": [
           {
            "colorbar": {
             "outlinewidth": 0,
             "ticks": ""
            },
            "colorscale": [
             [
              0,
              "#0d0887"
             ],
             [
              0.1111111111111111,
              "#46039f"
             ],
             [
              0.2222222222222222,
              "#7201a8"
             ],
             [
              0.3333333333333333,
              "#9c179e"
             ],
             [
              0.4444444444444444,
              "#bd3786"
             ],
             [
              0.5555555555555556,
              "#d8576b"
             ],
             [
              0.6666666666666666,
              "#ed7953"
             ],
             [
              0.7777777777777778,
              "#fb9f3a"
             ],
             [
              0.8888888888888888,
              "#fdca26"
             ],
             [
              1,
              "#f0f921"
             ]
            ],
            "type": "contour"
           }
          ],
          "contourcarpet": [
           {
            "colorbar": {
             "outlinewidth": 0,
             "ticks": ""
            },
            "type": "contourcarpet"
           }
          ],
          "heatmap": [
           {
            "colorbar": {
             "outlinewidth": 0,
             "ticks": ""
            },
            "colorscale": [
             [
              0,
              "#0d0887"
             ],
             [
              0.1111111111111111,
              "#46039f"
             ],
             [
              0.2222222222222222,
              "#7201a8"
             ],
             [
              0.3333333333333333,
              "#9c179e"
             ],
             [
              0.4444444444444444,
              "#bd3786"
             ],
             [
              0.5555555555555556,
              "#d8576b"
             ],
             [
              0.6666666666666666,
              "#ed7953"
             ],
             [
              0.7777777777777778,
              "#fb9f3a"
             ],
             [
              0.8888888888888888,
              "#fdca26"
             ],
             [
              1,
              "#f0f921"
             ]
            ],
            "type": "heatmap"
           }
          ],
          "heatmapgl": [
           {
            "colorbar": {
             "outlinewidth": 0,
             "ticks": ""
            },
            "colorscale": [
             [
              0,
              "#0d0887"
             ],
             [
              0.1111111111111111,
              "#46039f"
             ],
             [
              0.2222222222222222,
              "#7201a8"
             ],
             [
              0.3333333333333333,
              "#9c179e"
             ],
             [
              0.4444444444444444,
              "#bd3786"
             ],
             [
              0.5555555555555556,
              "#d8576b"
             ],
             [
              0.6666666666666666,
              "#ed7953"
             ],
             [
              0.7777777777777778,
              "#fb9f3a"
             ],
             [
              0.8888888888888888,
              "#fdca26"
             ],
             [
              1,
              "#f0f921"
             ]
            ],
            "type": "heatmapgl"
           }
          ],
          "histogram": [
           {
            "marker": {
             "pattern": {
              "fillmode": "overlay",
              "size": 10,
              "solidity": 0.2
             }
            },
            "type": "histogram"
           }
          ],
          "histogram2d": [
           {
            "colorbar": {
             "outlinewidth": 0,
             "ticks": ""
            },
            "colorscale": [
             [
              0,
              "#0d0887"
             ],
             [
              0.1111111111111111,
              "#46039f"
             ],
             [
              0.2222222222222222,
              "#7201a8"
             ],
             [
              0.3333333333333333,
              "#9c179e"
             ],
             [
              0.4444444444444444,
              "#bd3786"
             ],
             [
              0.5555555555555556,
              "#d8576b"
             ],
             [
              0.6666666666666666,
              "#ed7953"
             ],
             [
              0.7777777777777778,
              "#fb9f3a"
             ],
             [
              0.8888888888888888,
              "#fdca26"
             ],
             [
              1,
              "#f0f921"
             ]
            ],
            "type": "histogram2d"
           }
          ],
          "histogram2dcontour": [
           {
            "colorbar": {
             "outlinewidth": 0,
             "ticks": ""
            },
            "colorscale": [
             [
              0,
              "#0d0887"
             ],
             [
              0.1111111111111111,
              "#46039f"
             ],
             [
              0.2222222222222222,
              "#7201a8"
             ],
             [
              0.3333333333333333,
              "#9c179e"
             ],
             [
              0.4444444444444444,
              "#bd3786"
             ],
             [
              0.5555555555555556,
              "#d8576b"
             ],
             [
              0.6666666666666666,
              "#ed7953"
             ],
             [
              0.7777777777777778,
              "#fb9f3a"
             ],
             [
              0.8888888888888888,
              "#fdca26"
             ],
             [
              1,
              "#f0f921"
             ]
            ],
            "type": "histogram2dcontour"
           }
          ],
          "mesh3d": [
           {
            "colorbar": {
             "outlinewidth": 0,
             "ticks": ""
            },
            "type": "mesh3d"
           }
          ],
          "parcoords": [
           {
            "line": {
             "colorbar": {
              "outlinewidth": 0,
              "ticks": ""
             }
            },
            "type": "parcoords"
           }
          ],
          "pie": [
           {
            "automargin": true,
            "type": "pie"
           }
          ],
          "scatter": [
           {
            "fillpattern": {
             "fillmode": "overlay",
             "size": 10,
             "solidity": 0.2
            },
            "type": "scatter"
           }
          ],
          "scatter3d": [
           {
            "line": {
             "colorbar": {
              "outlinewidth": 0,
              "ticks": ""
             }
            },
            "marker": {
             "colorbar": {
              "outlinewidth": 0,
              "ticks": ""
             }
            },
            "type": "scatter3d"
           }
          ],
          "scattercarpet": [
           {
            "marker": {
             "colorbar": {
              "outlinewidth": 0,
              "ticks": ""
             }
            },
            "type": "scattercarpet"
           }
          ],
          "scattergeo": [
           {
            "marker": {
             "colorbar": {
              "outlinewidth": 0,
              "ticks": ""
             }
            },
            "type": "scattergeo"
           }
          ],
          "scattergl": [
           {
            "marker": {
             "colorbar": {
              "outlinewidth": 0,
              "ticks": ""
             }
            },
            "type": "scattergl"
           }
          ],
          "scattermapbox": [
           {
            "marker": {
             "colorbar": {
              "outlinewidth": 0,
              "ticks": ""
             }
            },
            "type": "scattermapbox"
           }
          ],
          "scatterpolar": [
           {
            "marker": {
             "colorbar": {
              "outlinewidth": 0,
              "ticks": ""
             }
            },
            "type": "scatterpolar"
           }
          ],
          "scatterpolargl": [
           {
            "marker": {
             "colorbar": {
              "outlinewidth": 0,
              "ticks": ""
             }
            },
            "type": "scatterpolargl"
           }
          ],
          "scatterternary": [
           {
            "marker": {
             "colorbar": {
              "outlinewidth": 0,
              "ticks": ""
             }
            },
            "type": "scatterternary"
           }
          ],
          "surface": [
           {
            "colorbar": {
             "outlinewidth": 0,
             "ticks": ""
            },
            "colorscale": [
             [
              0,
              "#0d0887"
             ],
             [
              0.1111111111111111,
              "#46039f"
             ],
             [
              0.2222222222222222,
              "#7201a8"
             ],
             [
              0.3333333333333333,
              "#9c179e"
             ],
             [
              0.4444444444444444,
              "#bd3786"
             ],
             [
              0.5555555555555556,
              "#d8576b"
             ],
             [
              0.6666666666666666,
              "#ed7953"
             ],
             [
              0.7777777777777778,
              "#fb9f3a"
             ],
             [
              0.8888888888888888,
              "#fdca26"
             ],
             [
              1,
              "#f0f921"
             ]
            ],
            "type": "surface"
           }
          ],
          "table": [
           {
            "cells": {
             "fill": {
              "color": "#EBF0F8"
             },
             "line": {
              "color": "white"
             }
            },
            "header": {
             "fill": {
              "color": "#C8D4E3"
             },
             "line": {
              "color": "white"
             }
            },
            "type": "table"
           }
          ]
         },
         "layout": {
          "annotationdefaults": {
           "arrowcolor": "#2a3f5f",
           "arrowhead": 0,
           "arrowwidth": 1
          },
          "autotypenumbers": "strict",
          "coloraxis": {
           "colorbar": {
            "outlinewidth": 0,
            "ticks": ""
           }
          },
          "colorscale": {
           "diverging": [
            [
             0,
             "#8e0152"
            ],
            [
             0.1,
             "#c51b7d"
            ],
            [
             0.2,
             "#de77ae"
            ],
            [
             0.3,
             "#f1b6da"
            ],
            [
             0.4,
             "#fde0ef"
            ],
            [
             0.5,
             "#f7f7f7"
            ],
            [
             0.6,
             "#e6f5d0"
            ],
            [
             0.7,
             "#b8e186"
            ],
            [
             0.8,
             "#7fbc41"
            ],
            [
             0.9,
             "#4d9221"
            ],
            [
             1,
             "#276419"
            ]
           ],
           "sequential": [
            [
             0,
             "#0d0887"
            ],
            [
             0.1111111111111111,
             "#46039f"
            ],
            [
             0.2222222222222222,
             "#7201a8"
            ],
            [
             0.3333333333333333,
             "#9c179e"
            ],
            [
             0.4444444444444444,
             "#bd3786"
            ],
            [
             0.5555555555555556,
             "#d8576b"
            ],
            [
             0.6666666666666666,
             "#ed7953"
            ],
            [
             0.7777777777777778,
             "#fb9f3a"
            ],
            [
             0.8888888888888888,
             "#fdca26"
            ],
            [
             1,
             "#f0f921"
            ]
           ],
           "sequentialminus": [
            [
             0,
             "#0d0887"
            ],
            [
             0.1111111111111111,
             "#46039f"
            ],
            [
             0.2222222222222222,
             "#7201a8"
            ],
            [
             0.3333333333333333,
             "#9c179e"
            ],
            [
             0.4444444444444444,
             "#bd3786"
            ],
            [
             0.5555555555555556,
             "#d8576b"
            ],
            [
             0.6666666666666666,
             "#ed7953"
            ],
            [
             0.7777777777777778,
             "#fb9f3a"
            ],
            [
             0.8888888888888888,
             "#fdca26"
            ],
            [
             1,
             "#f0f921"
            ]
           ]
          },
          "colorway": [
           "#636efa",
           "#EF553B",
           "#00cc96",
           "#ab63fa",
           "#FFA15A",
           "#19d3f3",
           "#FF6692",
           "#B6E880",
           "#FF97FF",
           "#FECB52"
          ],
          "font": {
           "color": "#2a3f5f"
          },
          "geo": {
           "bgcolor": "white",
           "lakecolor": "white",
           "landcolor": "#E5ECF6",
           "showlakes": true,
           "showland": true,
           "subunitcolor": "white"
          },
          "hoverlabel": {
           "align": "left"
          },
          "hovermode": "closest",
          "mapbox": {
           "style": "light"
          },
          "paper_bgcolor": "white",
          "plot_bgcolor": "#E5ECF6",
          "polar": {
           "angularaxis": {
            "gridcolor": "white",
            "linecolor": "white",
            "ticks": ""
           },
           "bgcolor": "#E5ECF6",
           "radialaxis": {
            "gridcolor": "white",
            "linecolor": "white",
            "ticks": ""
           }
          },
          "scene": {
           "xaxis": {
            "backgroundcolor": "#E5ECF6",
            "gridcolor": "white",
            "gridwidth": 2,
            "linecolor": "white",
            "showbackground": true,
            "ticks": "",
            "zerolinecolor": "white"
           },
           "yaxis": {
            "backgroundcolor": "#E5ECF6",
            "gridcolor": "white",
            "gridwidth": 2,
            "linecolor": "white",
            "showbackground": true,
            "ticks": "",
            "zerolinecolor": "white"
           },
           "zaxis": {
            "backgroundcolor": "#E5ECF6",
            "gridcolor": "white",
            "gridwidth": 2,
            "linecolor": "white",
            "showbackground": true,
            "ticks": "",
            "zerolinecolor": "white"
           }
          },
          "shapedefaults": {
           "line": {
            "color": "#2a3f5f"
           }
          },
          "ternary": {
           "aaxis": {
            "gridcolor": "white",
            "linecolor": "white",
            "ticks": ""
           },
           "baxis": {
            "gridcolor": "white",
            "linecolor": "white",
            "ticks": ""
           },
           "bgcolor": "#E5ECF6",
           "caxis": {
            "gridcolor": "white",
            "linecolor": "white",
            "ticks": ""
           }
          },
          "title": {
           "x": 0.05
          },
          "xaxis": {
           "automargin": true,
           "gridcolor": "white",
           "linecolor": "white",
           "ticks": "",
           "title": {
            "standoff": 15
           },
           "zerolinecolor": "white",
           "zerolinewidth": 2
          },
          "yaxis": {
           "automargin": true,
           "gridcolor": "white",
           "linecolor": "white",
           "ticks": "",
           "title": {
            "standoff": 15
           },
           "zerolinecolor": "white",
           "zerolinewidth": 2
          }
         }
        },
        "title": {
         "text": "Good Guys VS Bad Guys Names by Genre"
        },
        "width": 1600
       }
      }
     },
     "metadata": {},
     "output_type": "display_data"
    }
   ],
   "source": [
    "# Create the sunburst plots for females and males\n",
    "fig_bad_guys = go.Figure(go.Sunburst(\n",
    "    labels=data_m_bad['character'],\n",
    "    parents=data_m_bad['parent'],\n",
    "    domain=dict(column=1),\n",
    "    maxdepth=2\n",
    "))\n",
    "\n",
    "fig_good_guys = go.Figure(go.Sunburst(\n",
    "    labels=data_m_good['character'],\n",
    "    parents=data_m_good['parent'],\n",
    "    domain=dict(column=1),\n",
    "    maxdepth=2\n",
    "))\n",
    "\n",
    "fig = make_subplots(\n",
    "    rows=1, cols=2,\n",
    "    subplot_titles=[\"BAD GUYS\", \"GOOD GUYS\"],\n",
    "    specs=[[{\"type\": \"sunburst\"}, {\"type\": \"sunburst\"}]]\n",
    ")\n",
    "\n",
    "fig.add_trace(fig_good_guys['data'][0], row=1, col=1)\n",
    "fig.add_trace(fig_bad_guys['data'][0], row=1, col=2)\n",
    "\n",
    "fig.update_layout(\n",
    "    title_text=\"Good Guys VS Bad Guys Names by Genre\",\n",
    "    showlegend=False,\n",
    "    width=1600,\n",
    "    height=800,\n",
    "    font=dict(size=13),\n",
    ")\n",
    "\n",
    "fig.show()"
   ]
  },
  {
   "cell_type": "markdown",
   "metadata": {},
   "source": [
    "---"
   ]
  },
  {
   "cell_type": "markdown",
   "metadata": {},
   "source": [
    "## Russia vs USA"
   ]
  },
  {
   "cell_type": "code",
   "execution_count": 375,
   "metadata": {},
   "outputs": [
    {
     "data": {
      "text/html": [
       "<div>\n",
       "<style scoped>\n",
       "    .dataframe tbody tr th:only-of-type {\n",
       "        vertical-align: middle;\n",
       "    }\n",
       "\n",
       "    .dataframe tbody tr th {\n",
       "        vertical-align: top;\n",
       "    }\n",
       "\n",
       "    .dataframe thead th {\n",
       "        text-align: right;\n",
       "    }\n",
       "</style>\n",
       "<table border=\"1\" class=\"dataframe\">\n",
       "  <thead>\n",
       "    <tr style=\"text-align: right;\">\n",
       "      <th></th>\n",
       "      <th>Name</th>\n",
       "      <th>Ethnicity</th>\n",
       "    </tr>\n",
       "  </thead>\n",
       "  <tbody>\n",
       "    <tr>\n",
       "      <th>0</th>\n",
       "      <td>Akooshay</td>\n",
       "      <td>Germanic</td>\n",
       "    </tr>\n",
       "    <tr>\n",
       "      <th>1</th>\n",
       "      <td>Melanie</td>\n",
       "      <td>English-Speaking</td>\n",
       "    </tr>\n",
       "    <tr>\n",
       "      <th>2</th>\n",
       "      <td>Williams</td>\n",
       "      <td>Southern and Western Slavic</td>\n",
       "    </tr>\n",
       "    <tr>\n",
       "      <th>3</th>\n",
       "      <td>Jericho</td>\n",
       "      <td>English-Speaking</td>\n",
       "    </tr>\n",
       "    <tr>\n",
       "      <th>4</th>\n",
       "      <td>Bashira</td>\n",
       "      <td>Germanic</td>\n",
       "    </tr>\n",
       "  </tbody>\n",
       "</table>\n",
       "</div>"
      ],
      "text/plain": [
       "       Name                    Ethnicity\n",
       "0  Akooshay                     Germanic\n",
       "1   Melanie             English-Speaking\n",
       "2  Williams  Southern and Western Slavic\n",
       "3   Jericho             English-Speaking\n",
       "4   Bashira                     Germanic"
      ]
     },
     "execution_count": 375,
     "metadata": {},
     "output_type": "execute_result"
    }
   ],
   "source": [
    "df_ethnicity = pd.read_csv('data/movie_character_ethnicity.csv')\n",
    "df_ethnicity.head()"
   ]
  },
  {
   "cell_type": "code",
   "execution_count": 376,
   "metadata": {},
   "outputs": [
    {
     "data": {
      "text/html": [
       "<div>\n",
       "<style scoped>\n",
       "    .dataframe tbody tr th:only-of-type {\n",
       "        vertical-align: middle;\n",
       "    }\n",
       "\n",
       "    .dataframe tbody tr th {\n",
       "        vertical-align: top;\n",
       "    }\n",
       "\n",
       "    .dataframe thead th {\n",
       "        text-align: right;\n",
       "    }\n",
       "</style>\n",
       "<table border=\"1\" class=\"dataframe\">\n",
       "  <thead>\n",
       "    <tr style=\"text-align: right;\">\n",
       "      <th></th>\n",
       "      <th>Wikipedia_id</th>\n",
       "      <th>Name_x</th>\n",
       "      <th>Languages</th>\n",
       "      <th>Country</th>\n",
       "      <th>Character_Name</th>\n",
       "      <th>Sex</th>\n",
       "      <th>Actor_age</th>\n",
       "      <th>Release_date</th>\n",
       "      <th>Genre_Category</th>\n",
       "      <th>Polarity</th>\n",
       "      <th>Interpretation_SA</th>\n",
       "      <th>Name_y</th>\n",
       "      <th>Ethnicity</th>\n",
       "    </tr>\n",
       "  </thead>\n",
       "  <tbody>\n",
       "    <tr>\n",
       "      <th>0</th>\n",
       "      <td>975900</td>\n",
       "      <td>Ghosts of Mars</td>\n",
       "      <td>[English Language]</td>\n",
       "      <td>[United States of America]</td>\n",
       "      <td>Melanie</td>\n",
       "      <td>F</td>\n",
       "      <td>27.0</td>\n",
       "      <td>2001-08-24</td>\n",
       "      <td>['Action &amp; Adventure', 'Horror &amp; Thriller', 'F...</td>\n",
       "      <td>-0.021759</td>\n",
       "      <td>Bad guy</td>\n",
       "      <td>Melanie</td>\n",
       "      <td>English-Speaking</td>\n",
       "    </tr>\n",
       "    <tr>\n",
       "      <th>1</th>\n",
       "      <td>975900</td>\n",
       "      <td>Ghosts of Mars</td>\n",
       "      <td>[English Language]</td>\n",
       "      <td>[United States of America]</td>\n",
       "      <td>Williams</td>\n",
       "      <td>M</td>\n",
       "      <td>32.0</td>\n",
       "      <td>2001-08-24</td>\n",
       "      <td>['Action &amp; Adventure', 'Horror &amp; Thriller', 'F...</td>\n",
       "      <td>-0.021759</td>\n",
       "      <td>Bad guy</td>\n",
       "      <td>Williams</td>\n",
       "      <td>Southern and Western Slavic</td>\n",
       "    </tr>\n",
       "    <tr>\n",
       "      <th>2</th>\n",
       "      <td>975900</td>\n",
       "      <td>Ghosts of Mars</td>\n",
       "      <td>[English Language]</td>\n",
       "      <td>[United States of America]</td>\n",
       "      <td>Jericho</td>\n",
       "      <td>M</td>\n",
       "      <td>33.0</td>\n",
       "      <td>2001-08-24</td>\n",
       "      <td>['Action &amp; Adventure', 'Horror &amp; Thriller', 'F...</td>\n",
       "      <td>-0.021759</td>\n",
       "      <td>Bad guy</td>\n",
       "      <td>Jericho</td>\n",
       "      <td>English-Speaking</td>\n",
       "    </tr>\n",
       "    <tr>\n",
       "      <th>3</th>\n",
       "      <td>975900</td>\n",
       "      <td>Ghosts of Mars</td>\n",
       "      <td>[English Language]</td>\n",
       "      <td>[United States of America]</td>\n",
       "      <td>Helena</td>\n",
       "      <td>F</td>\n",
       "      <td>52.0</td>\n",
       "      <td>2001-08-24</td>\n",
       "      <td>['Action &amp; Adventure', 'Horror &amp; Thriller', 'F...</td>\n",
       "      <td>-0.096875</td>\n",
       "      <td>Bad guy</td>\n",
       "      <td>Helena</td>\n",
       "      <td>Germanic</td>\n",
       "    </tr>\n",
       "    <tr>\n",
       "      <th>4</th>\n",
       "      <td>975900</td>\n",
       "      <td>Ghosts of Mars</td>\n",
       "      <td>[English Language]</td>\n",
       "      <td>[United States of America]</td>\n",
       "      <td>Mars</td>\n",
       "      <td>M</td>\n",
       "      <td>NaN</td>\n",
       "      <td>2001-08-24</td>\n",
       "      <td>['Action &amp; Adventure', 'Horror &amp; Thriller', 'F...</td>\n",
       "      <td>0.041667</td>\n",
       "      <td>Nice guy</td>\n",
       "      <td>Mars</td>\n",
       "      <td>English-Speaking</td>\n",
       "    </tr>\n",
       "  </tbody>\n",
       "</table>\n",
       "</div>"
      ],
      "text/plain": [
       "   Wikipedia_id          Name_x           Languages  \\\n",
       "0        975900  Ghosts of Mars  [English Language]   \n",
       "1        975900  Ghosts of Mars  [English Language]   \n",
       "2        975900  Ghosts of Mars  [English Language]   \n",
       "3        975900  Ghosts of Mars  [English Language]   \n",
       "4        975900  Ghosts of Mars  [English Language]   \n",
       "\n",
       "                      Country Character_Name Sex  Actor_age Release_date  \\\n",
       "0  [United States of America]        Melanie   F       27.0   2001-08-24   \n",
       "1  [United States of America]       Williams   M       32.0   2001-08-24   \n",
       "2  [United States of America]        Jericho   M       33.0   2001-08-24   \n",
       "3  [United States of America]         Helena   F       52.0   2001-08-24   \n",
       "4  [United States of America]           Mars   M        NaN   2001-08-24   \n",
       "\n",
       "                                      Genre_Category  Polarity  \\\n",
       "0  ['Action & Adventure', 'Horror & Thriller', 'F... -0.021759   \n",
       "1  ['Action & Adventure', 'Horror & Thriller', 'F... -0.021759   \n",
       "2  ['Action & Adventure', 'Horror & Thriller', 'F... -0.021759   \n",
       "3  ['Action & Adventure', 'Horror & Thriller', 'F... -0.096875   \n",
       "4  ['Action & Adventure', 'Horror & Thriller', 'F...  0.041667   \n",
       "\n",
       "  Interpretation_SA    Name_y                    Ethnicity  \n",
       "0           Bad guy   Melanie             English-Speaking  \n",
       "1           Bad guy  Williams  Southern and Western Slavic  \n",
       "2           Bad guy   Jericho             English-Speaking  \n",
       "3           Bad guy    Helena                     Germanic  \n",
       "4          Nice guy      Mars             English-Speaking  "
      ]
     },
     "execution_count": 376,
     "metadata": {},
     "output_type": "execute_result"
    }
   ],
   "source": [
    "# Merge ethnicity dataset with sentimental analysis dataset\n",
    "\n",
    "df_ethn_SA = pd.merge(df_merged, df_ethnicity, left_on='Character_Name', right_on='Name', how='inner')\n",
    "df_ethn_SA.head()"
   ]
  },
  {
   "cell_type": "code",
   "execution_count": 377,
   "metadata": {},
   "outputs": [
    {
     "data": {
      "text/html": [
       "<div>\n",
       "<style scoped>\n",
       "    .dataframe tbody tr th:only-of-type {\n",
       "        vertical-align: middle;\n",
       "    }\n",
       "\n",
       "    .dataframe tbody tr th {\n",
       "        vertical-align: top;\n",
       "    }\n",
       "\n",
       "    .dataframe thead th {\n",
       "        text-align: right;\n",
       "    }\n",
       "</style>\n",
       "<table border=\"1\" class=\"dataframe\">\n",
       "  <thead>\n",
       "    <tr style=\"text-align: right;\">\n",
       "      <th></th>\n",
       "      <th>Country</th>\n",
       "      <th>Character_Name</th>\n",
       "      <th>Interpretation_SA</th>\n",
       "      <th>Ethnicity</th>\n",
       "    </tr>\n",
       "  </thead>\n",
       "  <tbody>\n",
       "    <tr>\n",
       "      <th>0</th>\n",
       "      <td>[United States of America]</td>\n",
       "      <td>Melanie</td>\n",
       "      <td>Bad guy</td>\n",
       "      <td>English-Speaking</td>\n",
       "    </tr>\n",
       "    <tr>\n",
       "      <th>1</th>\n",
       "      <td>[United States of America]</td>\n",
       "      <td>Williams</td>\n",
       "      <td>Bad guy</td>\n",
       "      <td>Southern and Western Slavic</td>\n",
       "    </tr>\n",
       "    <tr>\n",
       "      <th>2</th>\n",
       "      <td>[United States of America]</td>\n",
       "      <td>Jericho</td>\n",
       "      <td>Bad guy</td>\n",
       "      <td>English-Speaking</td>\n",
       "    </tr>\n",
       "    <tr>\n",
       "      <th>3</th>\n",
       "      <td>[United States of America]</td>\n",
       "      <td>Helena</td>\n",
       "      <td>Bad guy</td>\n",
       "      <td>Germanic</td>\n",
       "    </tr>\n",
       "    <tr>\n",
       "      <th>4</th>\n",
       "      <td>[United States of America]</td>\n",
       "      <td>Mars</td>\n",
       "      <td>Nice guy</td>\n",
       "      <td>English-Speaking</td>\n",
       "    </tr>\n",
       "  </tbody>\n",
       "</table>\n",
       "</div>"
      ],
      "text/plain": [
       "                      Country Character_Name Interpretation_SA  \\\n",
       "0  [United States of America]        Melanie           Bad guy   \n",
       "1  [United States of America]       Williams           Bad guy   \n",
       "2  [United States of America]        Jericho           Bad guy   \n",
       "3  [United States of America]         Helena           Bad guy   \n",
       "4  [United States of America]           Mars          Nice guy   \n",
       "\n",
       "                     Ethnicity  \n",
       "0             English-Speaking  \n",
       "1  Southern and Western Slavic  \n",
       "2             English-Speaking  \n",
       "3                     Germanic  \n",
       "4             English-Speaking  "
      ]
     },
     "execution_count": 377,
     "metadata": {},
     "output_type": "execute_result"
    }
   ],
   "source": [
    "df_ethn_SA_dates = df_ethn_SA.drop(columns=['Wikipedia_id','Name_x','Languages','Sex',\n",
    "                         'Actor_age','Genre_Category','Polarity','Name_y'])\n",
    "\n",
    "df_ethn_SA.drop(columns=['Wikipedia_id','Name_x','Languages','Sex',\n",
    "                         'Actor_age','Release_date','Genre_Category','Polarity','Name_y'], inplace=True)\n",
    "df_ethn_SA.head()"
   ]
  },
  {
   "cell_type": "code",
   "execution_count": 378,
   "metadata": {},
   "outputs": [],
   "source": [
    "df_ethn_SA['Country'] = df_ethn_SA['Country'].str[0]"
   ]
  },
  {
   "cell_type": "code",
   "execution_count": 379,
   "metadata": {},
   "outputs": [],
   "source": [
    "#Filtering dataframe to only movies from Russia and USA\n",
    "\n",
    "df_usa = df_ethn_SA[df_ethn_SA['Country']=='United States of America']\n",
    "df_rus = df_ethn_SA[df_ethn_SA['Country']=='Russia']"
   ]
  },
  {
   "cell_type": "code",
   "execution_count": 380,
   "metadata": {},
   "outputs": [
    {
     "data": {
      "text/html": [
       "<div>\n",
       "<style scoped>\n",
       "    .dataframe tbody tr th:only-of-type {\n",
       "        vertical-align: middle;\n",
       "    }\n",
       "\n",
       "    .dataframe tbody tr th {\n",
       "        vertical-align: top;\n",
       "    }\n",
       "\n",
       "    .dataframe thead th {\n",
       "        text-align: right;\n",
       "    }\n",
       "</style>\n",
       "<table border=\"1\" class=\"dataframe\">\n",
       "  <thead>\n",
       "    <tr style=\"text-align: right;\">\n",
       "      <th></th>\n",
       "      <th>Country</th>\n",
       "      <th>Character_Name</th>\n",
       "      <th>Interpretation_SA</th>\n",
       "      <th>Ethnicity</th>\n",
       "    </tr>\n",
       "  </thead>\n",
       "  <tbody>\n",
       "    <tr>\n",
       "      <th>1280</th>\n",
       "      <td>Russia</td>\n",
       "      <td>Karl</td>\n",
       "      <td>Nice guy</td>\n",
       "      <td>Romance</td>\n",
       "    </tr>\n",
       "    <tr>\n",
       "      <th>1731</th>\n",
       "      <td>Russia</td>\n",
       "      <td>Jesus</td>\n",
       "      <td>Nice guy</td>\n",
       "      <td>Southern and Western Slavic</td>\n",
       "    </tr>\n",
       "    <tr>\n",
       "      <th>1732</th>\n",
       "      <td>Russia</td>\n",
       "      <td>Rachel</td>\n",
       "      <td>Nice guy</td>\n",
       "      <td>Romance</td>\n",
       "    </tr>\n",
       "    <tr>\n",
       "      <th>1733</th>\n",
       "      <td>Russia</td>\n",
       "      <td>Magdalene</td>\n",
       "      <td>Bad guy</td>\n",
       "      <td>English-Speaking</td>\n",
       "    </tr>\n",
       "    <tr>\n",
       "      <th>1734</th>\n",
       "      <td>Russia</td>\n",
       "      <td>Jairus</td>\n",
       "      <td>Nice guy</td>\n",
       "      <td>English-Speaking</td>\n",
       "    </tr>\n",
       "  </tbody>\n",
       "</table>\n",
       "</div>"
      ],
      "text/plain": [
       "     Country Character_Name Interpretation_SA                    Ethnicity\n",
       "1280  Russia           Karl          Nice guy                      Romance\n",
       "1731  Russia          Jesus          Nice guy  Southern and Western Slavic\n",
       "1732  Russia         Rachel          Nice guy                      Romance\n",
       "1733  Russia      Magdalene           Bad guy             English-Speaking\n",
       "1734  Russia         Jairus          Nice guy             English-Speaking"
      ]
     },
     "execution_count": 380,
     "metadata": {},
     "output_type": "execute_result"
    }
   ],
   "source": [
    "df_rus.head()"
   ]
  },
  {
   "cell_type": "code",
   "execution_count": 381,
   "metadata": {},
   "outputs": [
    {
     "name": "stderr",
     "output_type": "stream",
     "text": [
      "/var/folders/5n/10j2bk_d6_5d_78gychkbs6m0000gn/T/ipykernel_23140/3471601852.py:1: SettingWithCopyWarning:\n",
      "\n",
      "\n",
      "A value is trying to be set on a copy of a slice from a DataFrame.\n",
      "Try using .loc[row_indexer,col_indexer] = value instead\n",
      "\n",
      "See the caveats in the documentation: https://pandas.pydata.org/pandas-docs/stable/user_guide/indexing.html#returning-a-view-versus-a-copy\n",
      "\n"
     ]
    },
    {
     "data": {
      "text/html": [
       "<div>\n",
       "<style scoped>\n",
       "    .dataframe tbody tr th:only-of-type {\n",
       "        vertical-align: middle;\n",
       "    }\n",
       "\n",
       "    .dataframe tbody tr th {\n",
       "        vertical-align: top;\n",
       "    }\n",
       "\n",
       "    .dataframe thead th {\n",
       "        text-align: right;\n",
       "    }\n",
       "</style>\n",
       "<table border=\"1\" class=\"dataframe\">\n",
       "  <thead>\n",
       "    <tr style=\"text-align: right;\">\n",
       "      <th></th>\n",
       "      <th>Interpretation_SA</th>\n",
       "      <th>Ethnicity</th>\n",
       "      <th>Count</th>\n",
       "      <th>Proportion</th>\n",
       "    </tr>\n",
       "  </thead>\n",
       "  <tbody>\n",
       "    <tr>\n",
       "      <th>1</th>\n",
       "      <td>Bad guy</td>\n",
       "      <td>Eastern Slavic</td>\n",
       "      <td>264</td>\n",
       "      <td>1.882085</td>\n",
       "    </tr>\n",
       "    <tr>\n",
       "      <th>2</th>\n",
       "      <td>Bad guy</td>\n",
       "      <td>English-Speaking</td>\n",
       "      <td>8280</td>\n",
       "      <td>59.029015</td>\n",
       "    </tr>\n",
       "    <tr>\n",
       "      <th>3</th>\n",
       "      <td>Bad guy</td>\n",
       "      <td>Germanic</td>\n",
       "      <td>3185</td>\n",
       "      <td>22.706209</td>\n",
       "    </tr>\n",
       "    <tr>\n",
       "      <th>6</th>\n",
       "      <td>Bad guy</td>\n",
       "      <td>Romance</td>\n",
       "      <td>1429</td>\n",
       "      <td>10.187496</td>\n",
       "    </tr>\n",
       "    <tr>\n",
       "      <th>7</th>\n",
       "      <td>Bad guy</td>\n",
       "      <td>Southern and Western Slavic</td>\n",
       "      <td>869</td>\n",
       "      <td>6.195195</td>\n",
       "    </tr>\n",
       "  </tbody>\n",
       "</table>\n",
       "</div>"
      ],
      "text/plain": [
       "  Interpretation_SA                    Ethnicity  Count  Proportion\n",
       "1           Bad guy               Eastern Slavic    264    1.882085\n",
       "2           Bad guy             English-Speaking   8280   59.029015\n",
       "3           Bad guy                     Germanic   3185   22.706209\n",
       "6           Bad guy                      Romance   1429   10.187496\n",
       "7           Bad guy  Southern and Western Slavic    869    6.195195"
      ]
     },
     "execution_count": 381,
     "metadata": {},
     "output_type": "execute_result"
    }
   ],
   "source": [
    "df_usa['Count']=1\n",
    "df_usa1 = df_usa.groupby(['Interpretation_SA', 'Ethnicity'])['Count'].sum().reset_index()\n",
    "\n",
    "#We drop rows with really small counts\n",
    "df_usa1 = df_usa1.loc[df_usa1['Ethnicity']!='Nordic'].copy()\n",
    "df_usa1 = df_usa1.loc[df_usa1['Ethnicity']!='Hispanic'].copy()\n",
    "df_usa1 = df_usa1.loc[df_usa1['Ethnicity']!='East Asian'].copy()\n",
    "df_usa1['Proportion'] = df_usa1.groupby('Interpretation_SA')['Count'].transform(lambda x: x / x.sum())*100\n",
    "\n",
    "#We only want the bad guys\n",
    "df_usa1 = df_usa1.loc[df_usa1['Interpretation_SA']=='Bad guy'].copy()\n",
    "df_usa1.head(12)"
   ]
  },
  {
   "cell_type": "code",
   "execution_count": 382,
   "metadata": {},
   "outputs": [
    {
     "name": "stderr",
     "output_type": "stream",
     "text": [
      "/var/folders/5n/10j2bk_d6_5d_78gychkbs6m0000gn/T/ipykernel_23140/1859100495.py:1: SettingWithCopyWarning:\n",
      "\n",
      "\n",
      "A value is trying to be set on a copy of a slice from a DataFrame.\n",
      "Try using .loc[row_indexer,col_indexer] = value instead\n",
      "\n",
      "See the caveats in the documentation: https://pandas.pydata.org/pandas-docs/stable/user_guide/indexing.html#returning-a-view-versus-a-copy\n",
      "\n"
     ]
    },
    {
     "data": {
      "text/html": [
       "<div>\n",
       "<style scoped>\n",
       "    .dataframe tbody tr th:only-of-type {\n",
       "        vertical-align: middle;\n",
       "    }\n",
       "\n",
       "    .dataframe tbody tr th {\n",
       "        vertical-align: top;\n",
       "    }\n",
       "\n",
       "    .dataframe thead th {\n",
       "        text-align: right;\n",
       "    }\n",
       "</style>\n",
       "<table border=\"1\" class=\"dataframe\">\n",
       "  <thead>\n",
       "    <tr style=\"text-align: right;\">\n",
       "      <th></th>\n",
       "      <th>Interpretation_SA</th>\n",
       "      <th>Ethnicity</th>\n",
       "      <th>Count</th>\n",
       "      <th>Proportion</th>\n",
       "    </tr>\n",
       "  </thead>\n",
       "  <tbody>\n",
       "    <tr>\n",
       "      <th>0</th>\n",
       "      <td>Bad guy</td>\n",
       "      <td>Eastern Slavic</td>\n",
       "      <td>2</td>\n",
       "      <td>9.523810</td>\n",
       "    </tr>\n",
       "    <tr>\n",
       "      <th>1</th>\n",
       "      <td>Bad guy</td>\n",
       "      <td>English-Speaking</td>\n",
       "      <td>12</td>\n",
       "      <td>57.142857</td>\n",
       "    </tr>\n",
       "    <tr>\n",
       "      <th>2</th>\n",
       "      <td>Bad guy</td>\n",
       "      <td>Germanic</td>\n",
       "      <td>5</td>\n",
       "      <td>23.809524</td>\n",
       "    </tr>\n",
       "    <tr>\n",
       "      <th>11</th>\n",
       "      <td>Bad guy</td>\n",
       "      <td>Romance</td>\n",
       "      <td>0</td>\n",
       "      <td>0.000000</td>\n",
       "    </tr>\n",
       "    <tr>\n",
       "      <th>3</th>\n",
       "      <td>Bad guy</td>\n",
       "      <td>Southern and Western Slavic</td>\n",
       "      <td>2</td>\n",
       "      <td>9.523810</td>\n",
       "    </tr>\n",
       "  </tbody>\n",
       "</table>\n",
       "</div>"
      ],
      "text/plain": [
       "   Interpretation_SA                    Ethnicity  Count  Proportion\n",
       "0            Bad guy               Eastern Slavic      2    9.523810\n",
       "1            Bad guy             English-Speaking     12   57.142857\n",
       "2            Bad guy                     Germanic      5   23.809524\n",
       "11           Bad guy                      Romance      0    0.000000\n",
       "3            Bad guy  Southern and Western Slavic      2    9.523810"
      ]
     },
     "execution_count": 382,
     "metadata": {},
     "output_type": "execute_result"
    }
   ],
   "source": [
    "df_rus['Count']=1\n",
    "df_rus1 = df_rus.groupby(['Interpretation_SA', 'Ethnicity'])['Count'].sum().reset_index()\n",
    "\n",
    "#We add rows for each of themissing ethnicities\n",
    "added_rows =pd.DataFrame({'Interpretation_SA': ['Bad guy'],\n",
    "               'Ethnicity': ['Romance'], \n",
    "               'Count': [0]})\n",
    "df_rus1 = pd.concat([df_rus1, added_rows], ignore_index=True)\n",
    "\n",
    "df_rus1['Proportion'] = df_rus1.groupby('Interpretation_SA')['Count'].transform(lambda x: x / x.sum())*100\n",
    "\n",
    "#We only want the bad guys\n",
    "\n",
    "df_rus1 = df_rus1.loc[df_rus1['Interpretation_SA']=='Bad guy'].copy()\n",
    "#We sort to have same order as fro usa\n",
    "\n",
    "df_rus1 = df_rus1.sort_values(by='Ethnicity',ascending=True)\n",
    "df_rus1.head(20)"
   ]
  },
  {
   "cell_type": "code",
   "execution_count": 383,
   "metadata": {},
   "outputs": [
    {
     "data": {
      "image/png": "[encoded data removed]",
      "text/plain": [
       "<Figure size 1000x600 with 1 Axes>"
      ]
     },
     "metadata": {},
     "output_type": "display_data"
    }
   ],
   "source": [
    "fig, ax = plt.subplots(figsize=(10, 6))\n",
    "\n",
    "ethnicities = ['Eastern Slavic','English-Speaking','Germanic','Romance','Southern and Western Slavic']\n",
    "\n",
    "# Bar plots for Male and Female\n",
    "ax.barh(ethnicities, df_usa1['Proportion'], color='deepskyblue', label='USA')\n",
    "ax.barh(ethnicities, -df_rus1['Proportion'], color='tomato', label='Russia')\n",
    "\n",
    "# Labels and title\n",
    "ax.set_xlabel('Percentage')\n",
    "ax.set_ylabel('Ethnicity')\n",
    "ax.set_title('Distribution of bad guys ethnicities for russian and american movies', fontsize=15)\n",
    "ax.legend()\n",
    "\n",
    "# Adjust x-axis for symmetry\n",
    "max_population = max(df_rus1['Proportion'].max(), abs(df_usa1['Proportion'].min()))\n",
    "ax.set_xlim(-max_population - 50, max_population + 50)\n",
    "\n",
    "plt.tight_layout()\n",
    "plt.show()"
   ]
  },
  {
   "cell_type": "code",
   "execution_count": 384,
   "metadata": {},
   "outputs": [
    {
     "data": {
      "text/html": [
       "<div>\n",
       "<style scoped>\n",
       "    .dataframe tbody tr th:only-of-type {\n",
       "        vertical-align: middle;\n",
       "    }\n",
       "\n",
       "    .dataframe tbody tr th {\n",
       "        vertical-align: top;\n",
       "    }\n",
       "\n",
       "    .dataframe thead th {\n",
       "        text-align: right;\n",
       "    }\n",
       "</style>\n",
       "<table border=\"1\" class=\"dataframe\">\n",
       "  <thead>\n",
       "    <tr style=\"text-align: right;\">\n",
       "      <th></th>\n",
       "      <th>Ethnicity</th>\n",
       "      <th>Interpretation_SA</th>\n",
       "      <th>Count</th>\n",
       "      <th>Proportion</th>\n",
       "    </tr>\n",
       "  </thead>\n",
       "  <tbody>\n",
       "    <tr>\n",
       "      <th>0</th>\n",
       "      <td>East Asian</td>\n",
       "      <td>Bad guy</td>\n",
       "      <td>34</td>\n",
       "      <td>27.200000</td>\n",
       "    </tr>\n",
       "    <tr>\n",
       "      <th>1</th>\n",
       "      <td>East Asian</td>\n",
       "      <td>Neutral</td>\n",
       "      <td>7</td>\n",
       "      <td>5.600000</td>\n",
       "    </tr>\n",
       "    <tr>\n",
       "      <th>2</th>\n",
       "      <td>East Asian</td>\n",
       "      <td>Nice guy</td>\n",
       "      <td>84</td>\n",
       "      <td>67.200000</td>\n",
       "    </tr>\n",
       "    <tr>\n",
       "      <th>3</th>\n",
       "      <td>Eastern Slavic</td>\n",
       "      <td>Bad guy</td>\n",
       "      <td>264</td>\n",
       "      <td>31.730769</td>\n",
       "    </tr>\n",
       "    <tr>\n",
       "      <th>4</th>\n",
       "      <td>Eastern Slavic</td>\n",
       "      <td>Neutral</td>\n",
       "      <td>45</td>\n",
       "      <td>5.408654</td>\n",
       "    </tr>\n",
       "    <tr>\n",
       "      <th>5</th>\n",
       "      <td>Eastern Slavic</td>\n",
       "      <td>Nice guy</td>\n",
       "      <td>523</td>\n",
       "      <td>62.860577</td>\n",
       "    </tr>\n",
       "    <tr>\n",
       "      <th>8</th>\n",
       "      <td>English-Speaking</td>\n",
       "      <td>Bad guy</td>\n",
       "      <td>8280</td>\n",
       "      <td>35.046136</td>\n",
       "    </tr>\n",
       "    <tr>\n",
       "      <th>9</th>\n",
       "      <td>English-Speaking</td>\n",
       "      <td>Neutral</td>\n",
       "      <td>1408</td>\n",
       "      <td>5.959536</td>\n",
       "    </tr>\n",
       "    <tr>\n",
       "      <th>10</th>\n",
       "      <td>English-Speaking</td>\n",
       "      <td>Nice guy</td>\n",
       "      <td>13938</td>\n",
       "      <td>58.994328</td>\n",
       "    </tr>\n",
       "    <tr>\n",
       "      <th>13</th>\n",
       "      <td>Germanic</td>\n",
       "      <td>Bad guy</td>\n",
       "      <td>3185</td>\n",
       "      <td>36.312849</td>\n",
       "    </tr>\n",
       "    <tr>\n",
       "      <th>14</th>\n",
       "      <td>Germanic</td>\n",
       "      <td>Neutral</td>\n",
       "      <td>529</td>\n",
       "      <td>6.031239</td>\n",
       "    </tr>\n",
       "    <tr>\n",
       "      <th>15</th>\n",
       "      <td>Germanic</td>\n",
       "      <td>Nice guy</td>\n",
       "      <td>5057</td>\n",
       "      <td>57.655912</td>\n",
       "    </tr>\n",
       "    <tr>\n",
       "      <th>18</th>\n",
       "      <td>Hispanic</td>\n",
       "      <td>Bad guy</td>\n",
       "      <td>77</td>\n",
       "      <td>34.841629</td>\n",
       "    </tr>\n",
       "    <tr>\n",
       "      <th>19</th>\n",
       "      <td>Hispanic</td>\n",
       "      <td>Neutral</td>\n",
       "      <td>22</td>\n",
       "      <td>9.954751</td>\n",
       "    </tr>\n",
       "    <tr>\n",
       "      <th>20</th>\n",
       "      <td>Hispanic</td>\n",
       "      <td>Nice guy</td>\n",
       "      <td>122</td>\n",
       "      <td>55.203620</td>\n",
       "    </tr>\n",
       "    <tr>\n",
       "      <th>22</th>\n",
       "      <td>Nordic</td>\n",
       "      <td>Bad guy</td>\n",
       "      <td>9</td>\n",
       "      <td>52.941176</td>\n",
       "    </tr>\n",
       "    <tr>\n",
       "      <th>23</th>\n",
       "      <td>Nordic</td>\n",
       "      <td>Neutral</td>\n",
       "      <td>1</td>\n",
       "      <td>5.882353</td>\n",
       "    </tr>\n",
       "    <tr>\n",
       "      <th>24</th>\n",
       "      <td>Nordic</td>\n",
       "      <td>Nice guy</td>\n",
       "      <td>7</td>\n",
       "      <td>41.176471</td>\n",
       "    </tr>\n",
       "    <tr>\n",
       "      <th>26</th>\n",
       "      <td>Romance</td>\n",
       "      <td>Bad guy</td>\n",
       "      <td>1429</td>\n",
       "      <td>36.278243</td>\n",
       "    </tr>\n",
       "    <tr>\n",
       "      <th>27</th>\n",
       "      <td>Romance</td>\n",
       "      <td>Neutral</td>\n",
       "      <td>242</td>\n",
       "      <td>6.143691</td>\n",
       "    </tr>\n",
       "  </tbody>\n",
       "</table>\n",
       "</div>"
      ],
      "text/plain": [
       "           Ethnicity Interpretation_SA  Count  Proportion\n",
       "0         East Asian           Bad guy     34   27.200000\n",
       "1         East Asian           Neutral      7    5.600000\n",
       "2         East Asian          Nice guy     84   67.200000\n",
       "3     Eastern Slavic           Bad guy    264   31.730769\n",
       "4     Eastern Slavic           Neutral     45    5.408654\n",
       "5     Eastern Slavic          Nice guy    523   62.860577\n",
       "8   English-Speaking           Bad guy   8280   35.046136\n",
       "9   English-Speaking           Neutral   1408    5.959536\n",
       "10  English-Speaking          Nice guy  13938   58.994328\n",
       "13          Germanic           Bad guy   3185   36.312849\n",
       "14          Germanic           Neutral    529    6.031239\n",
       "15          Germanic          Nice guy   5057   57.655912\n",
       "18          Hispanic           Bad guy     77   34.841629\n",
       "19          Hispanic           Neutral     22    9.954751\n",
       "20          Hispanic          Nice guy    122   55.203620\n",
       "22            Nordic           Bad guy      9   52.941176\n",
       "23            Nordic           Neutral      1    5.882353\n",
       "24            Nordic          Nice guy      7   41.176471\n",
       "26           Romance           Bad guy   1429   36.278243\n",
       "27           Romance           Neutral    242    6.143691"
      ]
     },
     "execution_count": 384,
     "metadata": {},
     "output_type": "execute_result"
    }
   ],
   "source": [
    "df_usa2 = df_usa.groupby(['Ethnicity','Interpretation_SA'])['Count'].sum().reset_index().copy()\n",
    "\n",
    "#Remove Very nice and very bad guys since they are an extreme minority\n",
    "df_usa2 = df_usa2.loc[df_usa2['Interpretation_SA']!='Very nice guy'].copy()\n",
    "df_usa2 = df_usa2.loc[df_usa2['Interpretation_SA']!='Very bad guy'].copy()\n",
    "\n",
    "df_usa2['Proportion'] = df_usa2.groupby('Ethnicity')['Count'].transform(lambda x: x / x.sum())*100\n",
    "df_usa2.head(20)"
   ]
  },
  {
   "cell_type": "code",
   "execution_count": 385,
   "metadata": {},
   "outputs": [],
   "source": [
    "def proportion_plot(df):   \n",
    "    pivot_df = df.pivot_table(index='Ethnicity', columns='Interpretation_SA', values='Proportion')\n",
    "\n",
    "    pivot_df = pivot_df.reset_index()\n",
    "\n",
    "    long_df = pivot_df.reset_index().melt(id_vars='Ethnicity', value_vars=pivot_df.columns, \n",
    "                                        var_name='Interpretation_SA', value_name='Proportion')\n",
    "\n",
    "    color_map = {\n",
    "        'Bad guy': 'tomato',\n",
    "        'Neutral': 'lightgray',\n",
    "        'Nice guy': 'lightgreen'\n",
    "    }\n",
    "\n",
    "\n",
    "    # Plot \n",
    "    fig = px.bar(long_df, \n",
    "                x='Proportion',\n",
    "                y='Ethnicity', \n",
    "                color='Interpretation_SA', \n",
    "                orientation='h', \n",
    "                title=\"Proportion of Bad, Neutral, and Nice by Ethnicity in american movies\",\n",
    "                labels={'Proportion': 'Proportion (%)', 'Ethnicity': 'Ethnicity'},\n",
    "                barmode='stack', \n",
    "                hover_data=['Proportion'], \n",
    "                color_discrete_map=color_map\n",
    "                )\n",
    "\n",
    "    fig.update_layout(\n",
    "        xaxis=dict(showgrid=False),  # Remove x-axis gridlines\n",
    "        yaxis=dict(showgrid=False),\n",
    "        plot_bgcolor='white',\n",
    "        bargap=0.2\n",
    "    )\n",
    "    fig.show()"
   ]
  },
  {
   "cell_type": "code",
   "execution_count": 386,
   "metadata": {},
   "outputs": [
    {
     "data": {
      "application/vnd.plotly.v1+json": {
       "config": {
        "plotlyServerURL": "https://plot.ly"
       },
       "data": [
        {
         "alignmentgroup": "True",
         "hovertemplate": "Interpretation_SA=Bad guy<br>Proportion (%)=%{x}<br>Ethnicity=%{y}<extra></extra>",
         "legendgroup": "Bad guy",
         "marker": {
          "color": "tomato",
          "pattern": {
           "shape": ""
          }
         },
         "name": "Bad guy",
         "offsetgroup": "Bad guy",
         "orientation": "h",
         "showlegend": true,
         "textposition": "auto",
         "type": "bar",
         "x": [
          27.200000000000003,
          31.73076923076923,
          35.04613561330737,
          36.312849162011176,
          34.841628959276015,
          52.94117647058824,
          36.27824320893628,
          35.04032258064516
         ],
         "xaxis": "x",
         "y": [
          "East Asian",
          "Eastern Slavic",
          "English-Speaking",
          "Germanic",
          "Hispanic",
          "Nordic",
          "Romance",
          "Southern and Western Slavic"
         ],
         "yaxis": "y"
        },
        {
         "alignmentgroup": "True",
         "hovertemplate": "Interpretation_SA=Neutral<br>Proportion (%)=%{x}<br>Ethnicity=%{y}<extra></extra>",
         "legendgroup": "Neutral",
         "marker": {
          "color": "lightgray",
          "pattern": {
           "shape": ""
          }
         },
         "name": "Neutral",
         "offsetgroup": "Neutral",
         "orientation": "h",
         "showlegend": true,
         "textposition": "auto",
         "type": "bar",
         "x": [
          5.6000000000000005,
          5.408653846153847,
          5.959536104291882,
          6.031239311367005,
          9.95475113122172,
          5.88235294117647,
          6.143691292206144,
          6.169354838709677
         ],
         "xaxis": "x",
         "y": [
          "East Asian",
          "Eastern Slavic",
          "English-Speaking",
          "Germanic",
          "Hispanic",
          "Nordic",
          "Romance",
          "Southern and Western Slavic"
         ],
         "yaxis": "y"
        },
        {
         "alignmentgroup": "True",
         "hovertemplate": "Interpretation_SA=Nice guy<br>Proportion (%)=%{x}<br>Ethnicity=%{y}<extra></extra>",
         "legendgroup": "Nice guy",
         "marker": {
          "color": "lightgreen",
          "pattern": {
           "shape": ""
          }
         },
         "name": "Nice guy",
         "offsetgroup": "Nice guy",
         "orientation": "h",
         "showlegend": true,
         "textposition": "auto",
         "type": "bar",
         "x": [
          67.2,
          62.86057692307693,
          58.994328282400744,
          57.655911526621814,
          55.203619909502265,
          41.17647058823529,
          57.578065498857576,
          58.79032258064516
         ],
         "xaxis": "x",
         "y": [
          "East Asian",
          "Eastern Slavic",
          "English-Speaking",
          "Germanic",
          "Hispanic",
          "Nordic",
          "Romance",
          "Southern and Western Slavic"
         ],
         "yaxis": "y"
        }
       ],
       "layout": {
        "bargap": 0.2,
        "barmode": "stack",
        "legend": {
         "title": {
          "text": "Interpretation_SA"
         },
         "tracegroupgap": 0
        },
        "plot_bgcolor": "white",
        "template": {
         "data": {
          "bar": [
           {
            "error_x": {
             "color": "#2a3f5f"
            },
            "error_y": {
             "color": "#2a3f5f"
            },
            "marker": {
             "line": {
              "color": "#E5ECF6",
              "width": 0.5
             },
             "pattern": {
              "fillmode": "overlay",
              "size": 10,
              "solidity": 0.2
             }
            },
            "type": "bar"
           }
          ],
          "barpolar": [
           {
            "marker": {
             "line": {
              "color": "#E5ECF6",
              "width": 0.5
             },
             "pattern": {
              "fillmode": "overlay",
              "size": 10,
              "solidity": 0.2
             }
            },
            "type": "barpolar"
           }
          ],
          "carpet": [
           {
            "aaxis": {
             "endlinecolor": "#2a3f5f",
             "gridcolor": "white",
             "linecolor": "white",
             "minorgridcolor": "white",
             "startlinecolor": "#2a3f5f"
            },
            "baxis": {
             "endlinecolor": "#2a3f5f",
             "gridcolor": "white",
             "linecolor": "white",
             "minorgridcolor": "white",
             "startlinecolor": "#2a3f5f"
            },
            "type": "carpet"
           }
          ],
          "choropleth": [
           {
            "colorbar": {
             "outlinewidth": 0,
             "ticks": ""
            },
            "type": "choropleth"
           }
          ],
          "contour": [
           {
            "colorbar": {
             "outlinewidth": 0,
             "ticks": ""
            },
            "colorscale": [
             [
              0,
              "#0d0887"
             ],
             [
              0.1111111111111111,
              "#46039f"
             ],
             [
              0.2222222222222222,
              "#7201a8"
             ],
             [
              0.3333333333333333,
              "#9c179e"
             ],
             [
              0.4444444444444444,
              "#bd3786"
             ],
             [
              0.5555555555555556,
              "#d8576b"
             ],
             [
              0.6666666666666666,
              "#ed7953"
             ],
             [
              0.7777777777777778,
              "#fb9f3a"
             ],
             [
              0.8888888888888888,
              "#fdca26"
             ],
             [
              1,
              "#f0f921"
             ]
            ],
            "type": "contour"
           }
          ],
          "contourcarpet": [
           {
            "colorbar": {
             "outlinewidth": 0,
             "ticks": ""
            },
            "type": "contourcarpet"
           }
          ],
          "heatmap": [
           {
            "colorbar": {
             "outlinewidth": 0,
             "ticks": ""
            },
            "colorscale": [
             [
              0,
              "#0d0887"
             ],
             [
              0.1111111111111111,
              "#46039f"
             ],
             [
              0.2222222222222222,
              "#7201a8"
             ],
             [
              0.3333333333333333,
              "#9c179e"
             ],
             [
              0.4444444444444444,
              "#bd3786"
             ],
             [
              0.5555555555555556,
              "#d8576b"
             ],
             [
              0.6666666666666666,
              "#ed7953"
             ],
             [
              0.7777777777777778,
              "#fb9f3a"
             ],
             [
              0.8888888888888888,
              "#fdca26"
             ],
             [
              1,
              "#f0f921"
             ]
            ],
            "type": "heatmap"
           }
          ],
          "heatmapgl": [
           {
            "colorbar": {
             "outlinewidth": 0,
             "ticks": ""
            },
            "colorscale": [
             [
              0,
              "#0d0887"
             ],
             [
              0.1111111111111111,
              "#46039f"
             ],
             [
              0.2222222222222222,
              "#7201a8"
             ],
             [
              0.3333333333333333,
              "#9c179e"
             ],
             [
              0.4444444444444444,
              "#bd3786"
             ],
             [
              0.5555555555555556,
              "#d8576b"
             ],
             [
              0.6666666666666666,
              "#ed7953"
             ],
             [
              0.7777777777777778,
              "#fb9f3a"
             ],
             [
              0.8888888888888888,
              "#fdca26"
             ],
             [
              1,
              "#f0f921"
             ]
            ],
            "type": "heatmapgl"
           }
          ],
          "histogram": [
           {
            "marker": {
             "pattern": {
              "fillmode": "overlay",
              "size": 10,
              "solidity": 0.2
             }
            },
            "type": "histogram"
           }
          ],
          "histogram2d": [
           {
            "colorbar": {
             "outlinewidth": 0,
             "ticks": ""
            },
            "colorscale": [
             [
              0,
              "#0d0887"
             ],
             [
              0.1111111111111111,
              "#46039f"
             ],
             [
              0.2222222222222222,
              "#7201a8"
             ],
             [
              0.3333333333333333,
              "#9c179e"
             ],
             [
              0.4444444444444444,
              "#bd3786"
             ],
             [
              0.5555555555555556,
              "#d8576b"
             ],
             [
              0.6666666666666666,
              "#ed7953"
             ],
             [
              0.7777777777777778,
              "#fb9f3a"
             ],
             [
              0.8888888888888888,
              "#fdca26"
             ],
             [
              1,
              "#f0f921"
             ]
            ],
            "type": "histogram2d"
           }
          ],
          "histogram2dcontour": [
           {
            "colorbar": {
             "outlinewidth": 0,
             "ticks": ""
            },
            "colorscale": [
             [
              0,
              "#0d0887"
             ],
             [
              0.1111111111111111,
              "#46039f"
             ],
             [
              0.2222222222222222,
              "#7201a8"
             ],
             [
              0.3333333333333333,
              "#9c179e"
             ],
             [
              0.4444444444444444,
              "#bd3786"
             ],
             [
              0.5555555555555556,
              "#d8576b"
             ],
             [
              0.6666666666666666,
              "#ed7953"
             ],
             [
              0.7777777777777778,
              "#fb9f3a"
             ],
             [
              0.8888888888888888,
              "#fdca26"
             ],
             [
              1,
              "#f0f921"
             ]
            ],
            "type": "histogram2dcontour"
           }
          ],
          "mesh3d": [
           {
            "colorbar": {
             "outlinewidth": 0,
             "ticks": ""
            },
            "type": "mesh3d"
           }
          ],
          "parcoords": [
           {
            "line": {
             "colorbar": {
              "outlinewidth": 0,
              "ticks": ""
             }
            },
            "type": "parcoords"
           }
          ],
          "pie": [
           {
            "automargin": true,
            "type": "pie"
           }
          ],
          "scatter": [
           {
            "fillpattern": {
             "fillmode": "overlay",
             "size": 10,
             "solidity": 0.2
            },
            "type": "scatter"
           }
          ],
          "scatter3d": [
           {
            "line": {
             "colorbar": {
              "outlinewidth": 0,
              "ticks": ""
             }
            },
            "marker": {
             "colorbar": {
              "outlinewidth": 0,
              "ticks": ""
             }
            },
            "type": "scatter3d"
           }
          ],
          "scattercarpet": [
           {
            "marker": {
             "colorbar": {
              "outlinewidth": 0,
              "ticks": ""
             }
            },
            "type": "scattercarpet"
           }
          ],
          "scattergeo": [
           {
            "marker": {
             "colorbar": {
              "outlinewidth": 0,
              "ticks": ""
             }
            },
            "type": "scattergeo"
           }
          ],
          "scattergl": [
           {
            "marker": {
             "colorbar": {
              "outlinewidth": 0,
              "ticks": ""
             }
            },
            "type": "scattergl"
           }
          ],
          "scattermapbox": [
           {
            "marker": {
             "colorbar": {
              "outlinewidth": 0,
              "ticks": ""
             }
            },
            "type": "scattermapbox"
           }
          ],
          "scatterpolar": [
           {
            "marker": {
             "colorbar": {
              "outlinewidth": 0,
              "ticks": ""
             }
            },
            "type": "scatterpolar"
           }
          ],
          "scatterpolargl": [
           {
            "marker": {
             "colorbar": {
              "outlinewidth": 0,
              "ticks": ""
             }
            },
            "type": "scatterpolargl"
           }
          ],
          "scatterternary": [
           {
            "marker": {
             "colorbar": {
              "outlinewidth": 0,
              "ticks": ""
             }
            },
            "type": "scatterternary"
           }
          ],
          "surface": [
           {
            "colorbar": {
             "outlinewidth": 0,
             "ticks": ""
            },
            "colorscale": [
             [
              0,
              "#0d0887"
             ],
             [
              0.1111111111111111,
              "#46039f"
             ],
             [
              0.2222222222222222,
              "#7201a8"
             ],
             [
              0.3333333333333333,
              "#9c179e"
             ],
             [
              0.4444444444444444,
              "#bd3786"
             ],
             [
              0.5555555555555556,
              "#d8576b"
             ],
             [
              0.6666666666666666,
              "#ed7953"
             ],
             [
              0.7777777777777778,
              "#fb9f3a"
             ],
             [
              0.8888888888888888,
              "#fdca26"
             ],
             [
              1,
              "#f0f921"
             ]
            ],
            "type": "surface"
           }
          ],
          "table": [
           {
            "cells": {
             "fill": {
              "color": "#EBF0F8"
             },
             "line": {
              "color": "white"
             }
            },
            "header": {
             "fill": {
              "color": "#C8D4E3"
             },
             "line": {
              "color": "white"
             }
            },
            "type": "table"
           }
          ]
         },
         "layout": {
          "annotationdefaults": {
           "arrowcolor": "#2a3f5f",
           "arrowhead": 0,
           "arrowwidth": 1
          },
          "autotypenumbers": "strict",
          "coloraxis": {
           "colorbar": {
            "outlinewidth": 0,
            "ticks": ""
           }
          },
          "colorscale": {
           "diverging": [
            [
             0,
             "#8e0152"
            ],
            [
             0.1,
             "#c51b7d"
            ],
            [
             0.2,
             "#de77ae"
            ],
            [
             0.3,
             "#f1b6da"
            ],
            [
             0.4,
             "#fde0ef"
            ],
            [
             0.5,
             "#f7f7f7"
            ],
            [
             0.6,
             "#e6f5d0"
            ],
            [
             0.7,
             "#b8e186"
            ],
            [
             0.8,
             "#7fbc41"
            ],
            [
             0.9,
             "#4d9221"
            ],
            [
             1,
             "#276419"
            ]
           ],
           "sequential": [
            [
             0,
             "#0d0887"
            ],
            [
             0.1111111111111111,
             "#46039f"
            ],
            [
             0.2222222222222222,
             "#7201a8"
            ],
            [
             0.3333333333333333,
             "#9c179e"
            ],
            [
             0.4444444444444444,
             "#bd3786"
            ],
            [
             0.5555555555555556,
             "#d8576b"
            ],
            [
             0.6666666666666666,
             "#ed7953"
            ],
            [
             0.7777777777777778,
             "#fb9f3a"
            ],
            [
             0.8888888888888888,
             "#fdca26"
            ],
            [
             1,
             "#f0f921"
            ]
           ],
           "sequentialminus": [
            [
             0,
             "#0d0887"
            ],
            [
             0.1111111111111111,
             "#46039f"
            ],
            [
             0.2222222222222222,
             "#7201a8"
            ],
            [
             0.3333333333333333,
             "#9c179e"
            ],
            [
             0.4444444444444444,
             "#bd3786"
            ],
            [
             0.5555555555555556,
             "#d8576b"
            ],
            [
             0.6666666666666666,
             "#ed7953"
            ],
            [
             0.7777777777777778,
             "#fb9f3a"
            ],
            [
             0.8888888888888888,
             "#fdca26"
            ],
            [
             1,
             "#f0f921"
            ]
           ]
          },
          "colorway": [
           "#636efa",
           "#EF553B",
           "#00cc96",
           "#ab63fa",
           "#FFA15A",
           "#19d3f3",
           "#FF6692",
           "#B6E880",
           "#FF97FF",
           "#FECB52"
          ],
          "font": {
           "color": "#2a3f5f"
          },
          "geo": {
           "bgcolor": "white",
           "lakecolor": "white",
           "landcolor": "#E5ECF6",
           "showlakes": true,
           "showland": true,
           "subunitcolor": "white"
          },
          "hoverlabel": {
           "align": "left"
          },
          "hovermode": "closest",
          "mapbox": {
           "style": "light"
          },
          "paper_bgcolor": "white",
          "plot_bgcolor": "#E5ECF6",
          "polar": {
           "angularaxis": {
            "gridcolor": "white",
            "linecolor": "white",
            "ticks": ""
           },
           "bgcolor": "#E5ECF6",
           "radialaxis": {
            "gridcolor": "white",
            "linecolor": "white",
            "ticks": ""
           }
          },
          "scene": {
           "xaxis": {
            "backgroundcolor": "#E5ECF6",
            "gridcolor": "white",
            "gridwidth": 2,
            "linecolor": "white",
            "showbackground": true,
            "ticks": "",
            "zerolinecolor": "white"
           },
           "yaxis": {
            "backgroundcolor": "#E5ECF6",
            "gridcolor": "white",
            "gridwidth": 2,
            "linecolor": "white",
            "showbackground": true,
            "ticks": "",
            "zerolinecolor": "white"
           },
           "zaxis": {
            "backgroundcolor": "#E5ECF6",
            "gridcolor": "white",
            "gridwidth": 2,
            "linecolor": "white",
            "showbackground": true,
            "ticks": "",
            "zerolinecolor": "white"
           }
          },
          "shapedefaults": {
           "line": {
            "color": "#2a3f5f"
           }
          },
          "ternary": {
           "aaxis": {
            "gridcolor": "white",
            "linecolor": "white",
            "ticks": ""
           },
           "baxis": {
            "gridcolor": "white",
            "linecolor": "white",
            "ticks": ""
           },
           "bgcolor": "#E5ECF6",
           "caxis": {
            "gridcolor": "white",
            "linecolor": "white",
            "ticks": ""
           }
          },
          "title": {
           "x": 0.05
          },
          "xaxis": {
           "automargin": true,
           "gridcolor": "white",
           "linecolor": "white",
           "ticks": "",
           "title": {
            "standoff": 15
           },
           "zerolinecolor": "white",
           "zerolinewidth": 2
          },
          "yaxis": {
           "automargin": true,
           "gridcolor": "white",
           "linecolor": "white",
           "ticks": "",
           "title": {
            "standoff": 15
           },
           "zerolinecolor": "white",
           "zerolinewidth": 2
          }
         }
        },
        "title": {
         "text": "Proportion of Bad, Neutral, and Nice by Ethnicity in american movies"
        },
        "xaxis": {
         "anchor": "y",
         "domain": [
          0,
          1
         ],
         "showgrid": false,
         "title": {
          "text": "Proportion (%)"
         }
        },
        "yaxis": {
         "anchor": "x",
         "domain": [
          0,
          1
         ],
         "showgrid": false,
         "title": {
          "text": "Ethnicity"
         }
        }
       }
      }
     },
     "metadata": {},
     "output_type": "display_data"
    }
   ],
   "source": [
    "proportion_plot(df_usa2)"
   ]
  },
  {
   "cell_type": "markdown",
   "metadata": {},
   "source": [
    "### Cold War"
   ]
  },
  {
   "cell_type": "code",
   "execution_count": 387,
   "metadata": {},
   "outputs": [],
   "source": [
    "def get_year(date):\n",
    "    str_year = str(date)[:4]\n",
    "    year = int(str_year)\n",
    "    return year"
   ]
  },
  {
   "cell_type": "code",
   "execution_count": 388,
   "metadata": {},
   "outputs": [
    {
     "data": {
      "text/html": [
       "<div>\n",
       "<style scoped>\n",
       "    .dataframe tbody tr th:only-of-type {\n",
       "        vertical-align: middle;\n",
       "    }\n",
       "\n",
       "    .dataframe tbody tr th {\n",
       "        vertical-align: top;\n",
       "    }\n",
       "\n",
       "    .dataframe thead th {\n",
       "        text-align: right;\n",
       "    }\n",
       "</style>\n",
       "<table border=\"1\" class=\"dataframe\">\n",
       "  <thead>\n",
       "    <tr style=\"text-align: right;\">\n",
       "      <th></th>\n",
       "      <th>Country</th>\n",
       "      <th>Character_Name</th>\n",
       "      <th>Release_date</th>\n",
       "      <th>Interpretation_SA</th>\n",
       "      <th>Ethnicity</th>\n",
       "      <th>Year</th>\n",
       "    </tr>\n",
       "  </thead>\n",
       "  <tbody>\n",
       "    <tr>\n",
       "      <th>0</th>\n",
       "      <td>United States of America</td>\n",
       "      <td>Melanie</td>\n",
       "      <td>2001-08-24</td>\n",
       "      <td>Bad guy</td>\n",
       "      <td>English-Speaking</td>\n",
       "      <td>2001</td>\n",
       "    </tr>\n",
       "    <tr>\n",
       "      <th>1</th>\n",
       "      <td>United States of America</td>\n",
       "      <td>Williams</td>\n",
       "      <td>2001-08-24</td>\n",
       "      <td>Bad guy</td>\n",
       "      <td>Southern and Western Slavic</td>\n",
       "      <td>2001</td>\n",
       "    </tr>\n",
       "    <tr>\n",
       "      <th>2</th>\n",
       "      <td>United States of America</td>\n",
       "      <td>Jericho</td>\n",
       "      <td>2001-08-24</td>\n",
       "      <td>Bad guy</td>\n",
       "      <td>English-Speaking</td>\n",
       "      <td>2001</td>\n",
       "    </tr>\n",
       "    <tr>\n",
       "      <th>3</th>\n",
       "      <td>United States of America</td>\n",
       "      <td>Helena</td>\n",
       "      <td>2001-08-24</td>\n",
       "      <td>Bad guy</td>\n",
       "      <td>Germanic</td>\n",
       "      <td>2001</td>\n",
       "    </tr>\n",
       "    <tr>\n",
       "      <th>4</th>\n",
       "      <td>United States of America</td>\n",
       "      <td>Mars</td>\n",
       "      <td>2001-08-24</td>\n",
       "      <td>Nice guy</td>\n",
       "      <td>English-Speaking</td>\n",
       "      <td>2001</td>\n",
       "    </tr>\n",
       "  </tbody>\n",
       "</table>\n",
       "</div>"
      ],
      "text/plain": [
       "                    Country Character_Name Release_date Interpretation_SA  \\\n",
       "0  United States of America        Melanie   2001-08-24           Bad guy   \n",
       "1  United States of America       Williams   2001-08-24           Bad guy   \n",
       "2  United States of America        Jericho   2001-08-24           Bad guy   \n",
       "3  United States of America         Helena   2001-08-24           Bad guy   \n",
       "4  United States of America           Mars   2001-08-24          Nice guy   \n",
       "\n",
       "                     Ethnicity  Year  \n",
       "0             English-Speaking  2001  \n",
       "1  Southern and Western Slavic  2001  \n",
       "2             English-Speaking  2001  \n",
       "3                     Germanic  2001  \n",
       "4             English-Speaking  2001  "
      ]
     },
     "execution_count": 388,
     "metadata": {},
     "output_type": "execute_result"
    }
   ],
   "source": [
    "df_ethn_SA_dates.dropna(inplace=True)\n",
    "df_ethn_SA_dates['Country'] = df_ethn_SA_dates['Country'].str[0]\n",
    "df_ethn_SA_dates['Year'] = df_ethn_SA_dates['Release_date'].apply(get_year)\n",
    "df_ethn_SA_dates.head()"
   ]
  },
  {
   "cell_type": "code",
   "execution_count": 389,
   "metadata": {},
   "outputs": [
    {
     "data": {
      "text/plain": [
       "(1, 6)"
      ]
     },
     "execution_count": 389,
     "metadata": {},
     "output_type": "execute_result"
    }
   ],
   "source": [
    "# We filter american and russian movies\n",
    "df_usa = df_ethn_SA_dates[df_ethn_SA_dates['Country']=='United States of America']\n",
    "df_rus_cold = df_ethn_SA_dates[df_ethn_SA_dates['Country']=='Russia']\n",
    "\n",
    "# We filter movies to get only the noe released during the cold war\n",
    "\n",
    "df_usa_cold = df_usa.loc[(df_usa['Year']>1947) & (df_usa['Year']<1991)]\n",
    "df_rus_cold = df_rus_cold.loc[(df_rus_cold['Year']>1947) & (df_rus_cold['Year']<1991)]\n",
    "df_rus_cold.shape"
   ]
  },
  {
   "cell_type": "markdown",
   "metadata": {},
   "source": [
    "We only are left with 1 character for russian movies released during the cold war. :( Therfore we will only analyze american movies"
   ]
  },
  {
   "cell_type": "code",
   "execution_count": 390,
   "metadata": {},
   "outputs": [
    {
     "name": "stderr",
     "output_type": "stream",
     "text": [
      "/var/folders/5n/10j2bk_d6_5d_78gychkbs6m0000gn/T/ipykernel_23140/535080010.py:1: SettingWithCopyWarning:\n",
      "\n",
      "\n",
      "A value is trying to be set on a copy of a slice from a DataFrame.\n",
      "Try using .loc[row_indexer,col_indexer] = value instead\n",
      "\n",
      "See the caveats in the documentation: https://pandas.pydata.org/pandas-docs/stable/user_guide/indexing.html#returning-a-view-versus-a-copy\n",
      "\n"
     ]
    }
   ],
   "source": [
    "df_usa_cold['Count']=1\n",
    "df_usa_cold_plot = df_usa_cold.groupby(['Ethnicity','Interpretation_SA'])['Count'].sum().reset_index().copy()\n",
    "\n",
    "#Remove Very nice and very bad guys since they are an extreme minority\n",
    "df_usa_cold_plot = df_usa_cold_plot.loc[df_usa_cold_plot['Interpretation_SA']!='Very nice guy'].copy()\n",
    "df_usa_cold_plot = df_usa_cold_plot.loc[df_usa_cold_plot['Interpretation_SA']!='Very bad guy'].copy()\n",
    "\n",
    "df_usa_cold_plot['Proportion'] = df_usa_cold_plot.groupby('Ethnicity')['Count'].transform(lambda x: x / x.sum())*100"
   ]
  },
  {
   "cell_type": "code",
   "execution_count": 391,
   "metadata": {},
   "outputs": [
    {
     "data": {
      "application/vnd.plotly.v1+json": {
       "config": {
        "plotlyServerURL": "https://plot.ly"
       },
       "data": [
        {
         "alignmentgroup": "True",
         "hovertemplate": "Interpretation_SA=Bad guy<br>Proportion (%)=%{x}<br>Ethnicity=%{y}<extra></extra>",
         "legendgroup": "Bad guy",
         "marker": {
          "color": "tomato",
          "pattern": {
           "shape": ""
          }
         },
         "name": "Bad guy",
         "offsetgroup": "Bad guy",
         "orientation": "h",
         "showlegend": true,
         "textposition": "auto",
         "type": "bar",
         "x": [
          27.500000000000004,
          26.96078431372549,
          35.45470056304385,
          35.08403361344538,
          37.5,
          100,
          37.27272727272727,
          37.42424242424243
         ],
         "xaxis": "x",
         "y": [
          "East Asian",
          "Eastern Slavic",
          "English-Speaking",
          "Germanic",
          "Hispanic",
          "Nordic",
          "Romance",
          "Southern and Western Slavic"
         ],
         "yaxis": "y"
        },
        {
         "alignmentgroup": "True",
         "hovertemplate": "Interpretation_SA=Neutral<br>Proportion (%)=%{x}<br>Ethnicity=%{y}<extra></extra>",
         "legendgroup": "Neutral",
         "marker": {
          "color": "lightgray",
          "pattern": {
           "shape": ""
          }
         },
         "name": "Neutral",
         "offsetgroup": "Neutral",
         "orientation": "h",
         "showlegend": true,
         "textposition": "auto",
         "type": "bar",
         "x": [
          5,
          7.352941176470589,
          6.415287493601775,
          5.966386554621849,
          10.416666666666668,
          null,
          5.353535353535353,
          6.666666666666667
         ],
         "xaxis": "x",
         "y": [
          "East Asian",
          "Eastern Slavic",
          "English-Speaking",
          "Germanic",
          "Hispanic",
          "Nordic",
          "Romance",
          "Southern and Western Slavic"
         ],
         "yaxis": "y"
        },
        {
         "alignmentgroup": "True",
         "hovertemplate": "Interpretation_SA=Nice guy<br>Proportion (%)=%{x}<br>Ethnicity=%{y}<extra></extra>",
         "legendgroup": "Nice guy",
         "marker": {
          "color": "lightgreen",
          "pattern": {
           "shape": ""
          }
         },
         "name": "Nice guy",
         "offsetgroup": "Nice guy",
         "orientation": "h",
         "showlegend": true,
         "textposition": "auto",
         "type": "bar",
         "x": [
          67.5,
          65.68627450980392,
          58.130011943354376,
          58.94957983193277,
          52.083333333333336,
          null,
          57.37373737373738,
          55.90909090909091
         ],
         "xaxis": "x",
         "y": [
          "East Asian",
          "Eastern Slavic",
          "English-Speaking",
          "Germanic",
          "Hispanic",
          "Nordic",
          "Romance",
          "Southern and Western Slavic"
         ],
         "yaxis": "y"
        }
       ],
       "layout": {
        "bargap": 0.2,
        "barmode": "stack",
        "legend": {
         "title": {
          "text": "Interpretation_SA"
         },
         "tracegroupgap": 0
        },
        "plot_bgcolor": "white",
        "template": {
         "data": {
          "bar": [
           {
            "error_x": {
             "color": "#2a3f5f"
            },
            "error_y": {
             "color": "#2a3f5f"
            },
            "marker": {
             "line": {
              "color": "#E5ECF6",
              "width": 0.5
             },
             "pattern": {
              "fillmode": "overlay",
              "size": 10,
              "solidity": 0.2
             }
            },
            "type": "bar"
           }
          ],
          "barpolar": [
           {
            "marker": {
             "line": {
              "color": "#E5ECF6",
              "width": 0.5
             },
             "pattern": {
              "fillmode": "overlay",
              "size": 10,
              "solidity": 0.2
             }
            },
            "type": "barpolar"
           }
          ],
          "carpet": [
           {
            "aaxis": {
             "endlinecolor": "#2a3f5f",
             "gridcolor": "white",
             "linecolor": "white",
             "minorgridcolor": "white",
             "startlinecolor": "#2a3f5f"
            },
            "baxis": {
             "endlinecolor": "#2a3f5f",
             "gridcolor": "white",
             "linecolor": "white",
             "minorgridcolor": "white",
             "startlinecolor": "#2a3f5f"
            },
            "type": "carpet"
           }
          ],
          "choropleth": [
           {
            "colorbar": {
             "outlinewidth": 0,
             "ticks": ""
            },
            "type": "choropleth"
           }
          ],
          "contour": [
           {
            "colorbar": {
             "outlinewidth": 0,
             "ticks": ""
            },
            "colorscale": [
             [
              0,
              "#0d0887"
             ],
             [
              0.1111111111111111,
              "#46039f"
             ],
             [
              0.2222222222222222,
              "#7201a8"
             ],
             [
              0.3333333333333333,
              "#9c179e"
             ],
             [
              0.4444444444444444,
              "#bd3786"
             ],
             [
              0.5555555555555556,
              "#d8576b"
             ],
             [
              0.6666666666666666,
              "#ed7953"
             ],
             [
              0.7777777777777778,
              "#fb9f3a"
             ],
             [
              0.8888888888888888,
              "#fdca26"
             ],
             [
              1,
              "#f0f921"
             ]
            ],
            "type": "contour"
           }
          ],
          "contourcarpet": [
           {
            "colorbar": {
             "outlinewidth": 0,
             "ticks": ""
            },
            "type": "contourcarpet"
           }
          ],
          "heatmap": [
           {
            "colorbar": {
             "outlinewidth": 0,
             "ticks": ""
            },
            "colorscale": [
             [
              0,
              "#0d0887"
             ],
             [
              0.1111111111111111,
              "#46039f"
             ],
             [
              0.2222222222222222,
              "#7201a8"
             ],
             [
              0.3333333333333333,
              "#9c179e"
             ],
             [
              0.4444444444444444,
              "#bd3786"
             ],
             [
              0.5555555555555556,
              "#d8576b"
             ],
             [
              0.6666666666666666,
              "#ed7953"
             ],
             [
              0.7777777777777778,
              "#fb9f3a"
             ],
             [
              0.8888888888888888,
              "#fdca26"
             ],
             [
              1,
              "#f0f921"
             ]
            ],
            "type": "heatmap"
           }
          ],
          "heatmapgl": [
           {
            "colorbar": {
             "outlinewidth": 0,
             "ticks": ""
            },
            "colorscale": [
             [
              0,
              "#0d0887"
             ],
             [
              0.1111111111111111,
              "#46039f"
             ],
             [
              0.2222222222222222,
              "#7201a8"
             ],
             [
              0.3333333333333333,
              "#9c179e"
             ],
             [
              0.4444444444444444,
              "#bd3786"
             ],
             [
              0.5555555555555556,
              "#d8576b"
             ],
             [
              0.6666666666666666,
              "#ed7953"
             ],
             [
              0.7777777777777778,
              "#fb9f3a"
             ],
             [
              0.8888888888888888,
              "#fdca26"
             ],
             [
              1,
              "#f0f921"
             ]
            ],
            "type": "heatmapgl"
           }
          ],
          "histogram": [
           {
            "marker": {
             "pattern": {
              "fillmode": "overlay",
              "size": 10,
              "solidity": 0.2
             }
            },
            "type": "histogram"
           }
          ],
          "histogram2d": [
           {
            "colorbar": {
             "outlinewidth": 0,
             "ticks": ""
            },
            "colorscale": [
             [
              0,
              "#0d0887"
             ],
             [
              0.1111111111111111,
              "#46039f"
             ],
             [
              0.2222222222222222,
              "#7201a8"
             ],
             [
              0.3333333333333333,
              "#9c179e"
             ],
             [
              0.4444444444444444,
              "#bd3786"
             ],
             [
              0.5555555555555556,
              "#d8576b"
             ],
             [
              0.6666666666666666,
              "#ed7953"
             ],
             [
              0.7777777777777778,
              "#fb9f3a"
             ],
             [
              0.8888888888888888,
              "#fdca26"
             ],
             [
              1,
              "#f0f921"
             ]
            ],
            "type": "histogram2d"
           }
          ],
          "histogram2dcontour": [
           {
            "colorbar": {
             "outlinewidth": 0,
             "ticks": ""
            },
            "colorscale": [
             [
              0,
              "#0d0887"
             ],
             [
              0.1111111111111111,
              "#46039f"
             ],
             [
              0.2222222222222222,
              "#7201a8"
             ],
             [
              0.3333333333333333,
              "#9c179e"
             ],
             [
              0.4444444444444444,
              "#bd3786"
             ],
             [
              0.5555555555555556,
              "#d8576b"
             ],
             [
              0.6666666666666666,
              "#ed7953"
             ],
             [
              0.7777777777777778,
              "#fb9f3a"
             ],
             [
              0.8888888888888888,
              "#fdca26"
             ],
             [
              1,
              "#f0f921"
             ]
            ],
            "type": "histogram2dcontour"
           }
          ],
          "mesh3d": [
           {
            "colorbar": {
             "outlinewidth": 0,
             "ticks": ""
            },
            "type": "mesh3d"
           }
          ],
          "parcoords": [
           {
            "line": {
             "colorbar": {
              "outlinewidth": 0,
              "ticks": ""
             }
            },
            "type": "parcoords"
           }
          ],
          "pie": [
           {
            "automargin": true,
            "type": "pie"
           }
          ],
          "scatter": [
           {
            "fillpattern": {
             "fillmode": "overlay",
             "size": 10,
             "solidity": 0.2
            },
            "type": "scatter"
           }
          ],
          "scatter3d": [
           {
            "line": {
             "colorbar": {
              "outlinewidth": 0,
              "ticks": ""
             }
            },
            "marker": {
             "colorbar": {
              "outlinewidth": 0,
              "ticks": ""
             }
            },
            "type": "scatter3d"
           }
          ],
          "scattercarpet": [
           {
            "marker": {
             "colorbar": {
              "outlinewidth": 0,
              "ticks": ""
             }
            },
            "type": "scattercarpet"
           }
          ],
          "scattergeo": [
           {
            "marker": {
             "colorbar": {
              "outlinewidth": 0,
              "ticks": ""
             }
            },
            "type": "scattergeo"
           }
          ],
          "scattergl": [
           {
            "marker": {
             "colorbar": {
              "outlinewidth": 0,
              "ticks": ""
             }
            },
            "type": "scattergl"
           }
          ],
          "scattermapbox": [
           {
            "marker": {
             "colorbar": {
              "outlinewidth": 0,
              "ticks": ""
             }
            },
            "type": "scattermapbox"
           }
          ],
          "scatterpolar": [
           {
            "marker": {
             "colorbar": {
              "outlinewidth": 0,
              "ticks": ""
             }
            },
            "type": "scatterpolar"
           }
          ],
          "scatterpolargl": [
           {
            "marker": {
             "colorbar": {
              "outlinewidth": 0,
              "ticks": ""
             }
            },
            "type": "scatterpolargl"
           }
          ],
          "scatterternary": [
           {
            "marker": {
             "colorbar": {
              "outlinewidth": 0,
              "ticks": ""
             }
            },
            "type": "scatterternary"
           }
          ],
          "surface": [
           {
            "colorbar": {
             "outlinewidth": 0,
             "ticks": ""
            },
            "colorscale": [
             [
              0,
              "#0d0887"
             ],
             [
              0.1111111111111111,
              "#46039f"
             ],
             [
              0.2222222222222222,
              "#7201a8"
             ],
             [
              0.3333333333333333,
              "#9c179e"
             ],
             [
              0.4444444444444444,
              "#bd3786"
             ],
             [
              0.5555555555555556,
              "#d8576b"
             ],
             [
              0.6666666666666666,
              "#ed7953"
             ],
             [
              0.7777777777777778,
              "#fb9f3a"
             ],
             [
              0.8888888888888888,
              "#fdca26"
             ],
             [
              1,
              "#f0f921"
             ]
            ],
            "type": "surface"
           }
          ],
          "table": [
           {
            "cells": {
             "fill": {
              "color": "#EBF0F8"
             },
             "line": {
              "color": "white"
             }
            },
            "header": {
             "fill": {
              "color": "#C8D4E3"
             },
             "line": {
              "color": "white"
             }
            },
            "type": "table"
           }
          ]
         },
         "layout": {
          "annotationdefaults": {
           "arrowcolor": "#2a3f5f",
           "arrowhead": 0,
           "arrowwidth": 1
          },
          "autotypenumbers": "strict",
          "coloraxis": {
           "colorbar": {
            "outlinewidth": 0,
            "ticks": ""
           }
          },
          "colorscale": {
           "diverging": [
            [
             0,
             "#8e0152"
            ],
            [
             0.1,
             "#c51b7d"
            ],
            [
             0.2,
             "#de77ae"
            ],
            [
             0.3,
             "#f1b6da"
            ],
            [
             0.4,
             "#fde0ef"
            ],
            [
             0.5,
             "#f7f7f7"
            ],
            [
             0.6,
             "#e6f5d0"
            ],
            [
             0.7,
             "#b8e186"
            ],
            [
             0.8,
             "#7fbc41"
            ],
            [
             0.9,
             "#4d9221"
            ],
            [
             1,
             "#276419"
            ]
           ],
           "sequential": [
            [
             0,
             "#0d0887"
            ],
            [
             0.1111111111111111,
             "#46039f"
            ],
            [
             0.2222222222222222,
             "#7201a8"
            ],
            [
             0.3333333333333333,
             "#9c179e"
            ],
            [
             0.4444444444444444,
             "#bd3786"
            ],
            [
             0.5555555555555556,
             "#d8576b"
            ],
            [
             0.6666666666666666,
             "#ed7953"
            ],
            [
             0.7777777777777778,
             "#fb9f3a"
            ],
            [
             0.8888888888888888,
             "#fdca26"
            ],
            [
             1,
             "#f0f921"
            ]
           ],
           "sequentialminus": [
            [
             0,
             "#0d0887"
            ],
            [
             0.1111111111111111,
             "#46039f"
            ],
            [
             0.2222222222222222,
             "#7201a8"
            ],
            [
             0.3333333333333333,
             "#9c179e"
            ],
            [
             0.4444444444444444,
             "#bd3786"
            ],
            [
             0.5555555555555556,
             "#d8576b"
            ],
            [
             0.6666666666666666,
             "#ed7953"
            ],
            [
             0.7777777777777778,
             "#fb9f3a"
            ],
            [
             0.8888888888888888,
             "#fdca26"
            ],
            [
             1,
             "#f0f921"
            ]
           ]
          },
          "colorway": [
           "#636efa",
           "#EF553B",
           "#00cc96",
           "#ab63fa",
           "#FFA15A",
           "#19d3f3",
           "#FF6692",
           "#B6E880",
           "#FF97FF",
           "#FECB52"
          ],
          "font": {
           "color": "#2a3f5f"
          },
          "geo": {
           "bgcolor": "white",
           "lakecolor": "white",
           "landcolor": "#E5ECF6",
           "showlakes": true,
           "showland": true,
           "subunitcolor": "white"
          },
          "hoverlabel": {
           "align": "left"
          },
          "hovermode": "closest",
          "mapbox": {
           "style": "light"
          },
          "paper_bgcolor": "white",
          "plot_bgcolor": "#E5ECF6",
          "polar": {
           "angularaxis": {
            "gridcolor": "white",
            "linecolor": "white",
            "ticks": ""
           },
           "bgcolor": "#E5ECF6",
           "radialaxis": {
            "gridcolor": "white",
            "linecolor": "white",
            "ticks": ""
           }
          },
          "scene": {
           "xaxis": {
            "backgroundcolor": "#E5ECF6",
            "gridcolor": "white",
            "gridwidth": 2,
            "linecolor": "white",
            "showbackground": true,
            "ticks": "",
            "zerolinecolor": "white"
           },
           "yaxis": {
            "backgroundcolor": "#E5ECF6",
            "gridcolor": "white",
            "gridwidth": 2,
            "linecolor": "white",
            "showbackground": true,
            "ticks": "",
            "zerolinecolor": "white"
           },
           "zaxis": {
            "backgroundcolor": "#E5ECF6",
            "gridcolor": "white",
            "gridwidth": 2,
            "linecolor": "white",
            "showbackground": true,
            "ticks": "",
            "zerolinecolor": "white"
           }
          },
          "shapedefaults": {
           "line": {
            "color": "#2a3f5f"
           }
          },
          "ternary": {
           "aaxis": {
            "gridcolor": "white",
            "linecolor": "white",
            "ticks": ""
           },
           "baxis": {
            "gridcolor": "white",
            "linecolor": "white",
            "ticks": ""
           },
           "bgcolor": "#E5ECF6",
           "caxis": {
            "gridcolor": "white",
            "linecolor": "white",
            "ticks": ""
           }
          },
          "title": {
           "x": 0.05
          },
          "xaxis": {
           "automargin": true,
           "gridcolor": "white",
           "linecolor": "white",
           "ticks": "",
           "title": {
            "standoff": 15
           },
           "zerolinecolor": "white",
           "zerolinewidth": 2
          },
          "yaxis": {
           "automargin": true,
           "gridcolor": "white",
           "linecolor": "white",
           "ticks": "",
           "title": {
            "standoff": 15
           },
           "zerolinecolor": "white",
           "zerolinewidth": 2
          }
         }
        },
        "title": {
         "text": "Proportion of Bad, Neutral, and Nice by Ethnicity in american movies"
        },
        "xaxis": {
         "anchor": "y",
         "domain": [
          0,
          1
         ],
         "showgrid": false,
         "title": {
          "text": "Proportion (%)"
         }
        },
        "yaxis": {
         "anchor": "x",
         "domain": [
          0,
          1
         ],
         "showgrid": false,
         "title": {
          "text": "Ethnicity"
         }
        }
       }
      }
     },
     "metadata": {},
     "output_type": "display_data"
    }
   ],
   "source": [
    "proportion_plot(df_usa_cold_plot)"
   ]
  },
  {
   "cell_type": "markdown",
   "metadata": {},
   "source": [
    "We don't see a big different with the precedent plot. The only difference is for Nordic ethnicity but it is due to an unsufficient number of datapoints for this class. Our theory that 'villains' in american movies released during the cold war tend to have slavic names is not confirmed. "
   ]
  },
  {
   "cell_type": "code",
   "execution_count": 393,
   "metadata": {},
   "outputs": [
    {
     "name": "stderr",
     "output_type": "stream",
     "text": [
      "/var/folders/5n/10j2bk_d6_5d_78gychkbs6m0000gn/T/ipykernel_23140/3753918766.py:1: SettingWithCopyWarning:\n",
      "\n",
      "\n",
      "A value is trying to be set on a copy of a slice from a DataFrame.\n",
      "Try using .loc[row_indexer,col_indexer] = value instead\n",
      "\n",
      "See the caveats in the documentation: https://pandas.pydata.org/pandas-docs/stable/user_guide/indexing.html#returning-a-view-versus-a-copy\n",
      "\n"
     ]
    },
    {
     "data": {
      "text/html": [
       "<div>\n",
       "<style scoped>\n",
       "    .dataframe tbody tr th:only-of-type {\n",
       "        vertical-align: middle;\n",
       "    }\n",
       "\n",
       "    .dataframe tbody tr th {\n",
       "        vertical-align: top;\n",
       "    }\n",
       "\n",
       "    .dataframe thead th {\n",
       "        text-align: right;\n",
       "    }\n",
       "</style>\n",
       "<table border=\"1\" class=\"dataframe\">\n",
       "  <thead>\n",
       "    <tr style=\"text-align: right;\">\n",
       "      <th></th>\n",
       "      <th>Year_Category</th>\n",
       "      <th>Ethnicity</th>\n",
       "      <th>Count</th>\n",
       "    </tr>\n",
       "  </thead>\n",
       "  <tbody>\n",
       "    <tr>\n",
       "      <th>0</th>\n",
       "      <td>1930</td>\n",
       "      <td>Eastern Slavic</td>\n",
       "      <td>4</td>\n",
       "    </tr>\n",
       "    <tr>\n",
       "      <th>1</th>\n",
       "      <td>1930</td>\n",
       "      <td>English-Speaking</td>\n",
       "      <td>96</td>\n",
       "    </tr>\n",
       "    <tr>\n",
       "      <th>2</th>\n",
       "      <td>1930</td>\n",
       "      <td>Germanic</td>\n",
       "      <td>36</td>\n",
       "    </tr>\n",
       "    <tr>\n",
       "      <th>3</th>\n",
       "      <td>1930</td>\n",
       "      <td>Hispanic</td>\n",
       "      <td>1</td>\n",
       "    </tr>\n",
       "    <tr>\n",
       "      <th>4</th>\n",
       "      <td>1930</td>\n",
       "      <td>Romance</td>\n",
       "      <td>16</td>\n",
       "    </tr>\n",
       "    <tr>\n",
       "      <th>5</th>\n",
       "      <td>1930</td>\n",
       "      <td>Southern and Western Slavic</td>\n",
       "      <td>7</td>\n",
       "    </tr>\n",
       "    <tr>\n",
       "      <th>6</th>\n",
       "      <td>1935</td>\n",
       "      <td>Eastern Slavic</td>\n",
       "      <td>3</td>\n",
       "    </tr>\n",
       "    <tr>\n",
       "      <th>7</th>\n",
       "      <td>1935</td>\n",
       "      <td>English-Speaking</td>\n",
       "      <td>127</td>\n",
       "    </tr>\n",
       "    <tr>\n",
       "      <th>8</th>\n",
       "      <td>1935</td>\n",
       "      <td>Germanic</td>\n",
       "      <td>47</td>\n",
       "    </tr>\n",
       "    <tr>\n",
       "      <th>9</th>\n",
       "      <td>1935</td>\n",
       "      <td>Hispanic</td>\n",
       "      <td>1</td>\n",
       "    </tr>\n",
       "    <tr>\n",
       "      <th>10</th>\n",
       "      <td>1935</td>\n",
       "      <td>Romance</td>\n",
       "      <td>24</td>\n",
       "    </tr>\n",
       "    <tr>\n",
       "      <th>11</th>\n",
       "      <td>1935</td>\n",
       "      <td>Southern and Western Slavic</td>\n",
       "      <td>11</td>\n",
       "    </tr>\n",
       "    <tr>\n",
       "      <th>12</th>\n",
       "      <td>1940</td>\n",
       "      <td>East Asian</td>\n",
       "      <td>1</td>\n",
       "    </tr>\n",
       "    <tr>\n",
       "      <th>13</th>\n",
       "      <td>1940</td>\n",
       "      <td>Eastern Slavic</td>\n",
       "      <td>4</td>\n",
       "    </tr>\n",
       "    <tr>\n",
       "      <th>14</th>\n",
       "      <td>1940</td>\n",
       "      <td>English-Speaking</td>\n",
       "      <td>113</td>\n",
       "    </tr>\n",
       "    <tr>\n",
       "      <th>15</th>\n",
       "      <td>1940</td>\n",
       "      <td>Germanic</td>\n",
       "      <td>58</td>\n",
       "    </tr>\n",
       "    <tr>\n",
       "      <th>16</th>\n",
       "      <td>1940</td>\n",
       "      <td>Hispanic</td>\n",
       "      <td>2</td>\n",
       "    </tr>\n",
       "    <tr>\n",
       "      <th>17</th>\n",
       "      <td>1940</td>\n",
       "      <td>Romance</td>\n",
       "      <td>21</td>\n",
       "    </tr>\n",
       "    <tr>\n",
       "      <th>18</th>\n",
       "      <td>1940</td>\n",
       "      <td>Southern and Western Slavic</td>\n",
       "      <td>12</td>\n",
       "    </tr>\n",
       "    <tr>\n",
       "      <th>19</th>\n",
       "      <td>1945</td>\n",
       "      <td>East Asian</td>\n",
       "      <td>1</td>\n",
       "    </tr>\n",
       "  </tbody>\n",
       "</table>\n",
       "</div>"
      ],
      "text/plain": [
       "    Year_Category                    Ethnicity  Count\n",
       "0            1930               Eastern Slavic      4\n",
       "1            1930             English-Speaking     96\n",
       "2            1930                     Germanic     36\n",
       "3            1930                     Hispanic      1\n",
       "4            1930                      Romance     16\n",
       "5            1930  Southern and Western Slavic      7\n",
       "6            1935               Eastern Slavic      3\n",
       "7            1935             English-Speaking    127\n",
       "8            1935                     Germanic     47\n",
       "9            1935                     Hispanic      1\n",
       "10           1935                      Romance     24\n",
       "11           1935  Southern and Western Slavic     11\n",
       "12           1940                   East Asian      1\n",
       "13           1940               Eastern Slavic      4\n",
       "14           1940             English-Speaking    113\n",
       "15           1940                     Germanic     58\n",
       "16           1940                     Hispanic      2\n",
       "17           1940                      Romance     21\n",
       "18           1940  Southern and Western Slavic     12\n",
       "19           1945                   East Asian      1"
      ]
     },
     "execution_count": 393,
     "metadata": {},
     "output_type": "execute_result"
    }
   ],
   "source": [
    "df_usa['Count']=1\n",
    "df_usa_year = df_usa.loc[df_usa['Interpretation_SA']=='Bad guy'].copy()\n",
    "\n",
    "#We regroup years into spans of 5 years to be sure to have enough data in each category\n",
    "df_usa_year['Year_Category'] = (df_usa_year['Year'] // 5) * 5\n",
    "\n",
    "#We remove movies before 1930 because we don't have enough data\n",
    "df_usa_year = df_usa_year[df_usa_year['Year_Category']>=1930]\n",
    "\n",
    "df_usa_year = df_usa_year.groupby(['Year_Category', 'Ethnicity'])['Count'].sum().reset_index()\n",
    "df_usa_year.head(20)"
   ]
  },
  {
   "cell_type": "code",
   "execution_count": 394,
   "metadata": {},
   "outputs": [
    {
     "data": {
      "text/html": [
       "<div>\n",
       "<style scoped>\n",
       "    .dataframe tbody tr th:only-of-type {\n",
       "        vertical-align: middle;\n",
       "    }\n",
       "\n",
       "    .dataframe tbody tr th {\n",
       "        vertical-align: top;\n",
       "    }\n",
       "\n",
       "    .dataframe thead th {\n",
       "        text-align: right;\n",
       "    }\n",
       "</style>\n",
       "<table border=\"1\" class=\"dataframe\">\n",
       "  <thead>\n",
       "    <tr style=\"text-align: right;\">\n",
       "      <th>Ethnicity</th>\n",
       "      <th>Year_Category</th>\n",
       "      <th>East Asian</th>\n",
       "      <th>Eastern Slavic</th>\n",
       "      <th>English-Speaking</th>\n",
       "      <th>Germanic</th>\n",
       "      <th>Hispanic</th>\n",
       "      <th>Nordic</th>\n",
       "      <th>Romance</th>\n",
       "      <th>Southern and Western Slavic</th>\n",
       "    </tr>\n",
       "  </thead>\n",
       "  <tbody>\n",
       "    <tr>\n",
       "      <th>0</th>\n",
       "      <td>1930</td>\n",
       "      <td>0.0</td>\n",
       "      <td>4.0</td>\n",
       "      <td>96.0</td>\n",
       "      <td>36.0</td>\n",
       "      <td>1.0</td>\n",
       "      <td>0.0</td>\n",
       "      <td>16.0</td>\n",
       "      <td>7.0</td>\n",
       "    </tr>\n",
       "    <tr>\n",
       "      <th>1</th>\n",
       "      <td>1935</td>\n",
       "      <td>0.0</td>\n",
       "      <td>3.0</td>\n",
       "      <td>127.0</td>\n",
       "      <td>47.0</td>\n",
       "      <td>1.0</td>\n",
       "      <td>0.0</td>\n",
       "      <td>24.0</td>\n",
       "      <td>11.0</td>\n",
       "    </tr>\n",
       "    <tr>\n",
       "      <th>2</th>\n",
       "      <td>1940</td>\n",
       "      <td>1.0</td>\n",
       "      <td>4.0</td>\n",
       "      <td>113.0</td>\n",
       "      <td>58.0</td>\n",
       "      <td>2.0</td>\n",
       "      <td>0.0</td>\n",
       "      <td>21.0</td>\n",
       "      <td>12.0</td>\n",
       "    </tr>\n",
       "    <tr>\n",
       "      <th>3</th>\n",
       "      <td>1945</td>\n",
       "      <td>1.0</td>\n",
       "      <td>2.0</td>\n",
       "      <td>115.0</td>\n",
       "      <td>48.0</td>\n",
       "      <td>2.0</td>\n",
       "      <td>0.0</td>\n",
       "      <td>24.0</td>\n",
       "      <td>15.0</td>\n",
       "    </tr>\n",
       "    <tr>\n",
       "      <th>4</th>\n",
       "      <td>1950</td>\n",
       "      <td>0.0</td>\n",
       "      <td>3.0</td>\n",
       "      <td>140.0</td>\n",
       "      <td>68.0</td>\n",
       "      <td>1.0</td>\n",
       "      <td>0.0</td>\n",
       "      <td>39.0</td>\n",
       "      <td>17.0</td>\n",
       "    </tr>\n",
       "  </tbody>\n",
       "</table>\n",
       "</div>"
      ],
      "text/plain": [
       "Ethnicity  Year_Category  East Asian  Eastern Slavic  English-Speaking  \\\n",
       "0                   1930         0.0             4.0              96.0   \n",
       "1                   1935         0.0             3.0             127.0   \n",
       "2                   1940         1.0             4.0             113.0   \n",
       "3                   1945         1.0             2.0             115.0   \n",
       "4                   1950         0.0             3.0             140.0   \n",
       "\n",
       "Ethnicity  Germanic  Hispanic  Nordic  Romance  Southern and Western Slavic  \n",
       "0              36.0       1.0     0.0     16.0                          7.0  \n",
       "1              47.0       1.0     0.0     24.0                         11.0  \n",
       "2              58.0       2.0     0.0     21.0                         12.0  \n",
       "3              48.0       2.0     0.0     24.0                         15.0  \n",
       "4              68.0       1.0     0.0     39.0                         17.0  "
      ]
     },
     "execution_count": 394,
     "metadata": {},
     "output_type": "execute_result"
    }
   ],
   "source": [
    "pivot_df_year = df_usa_year.pivot_table(index='Year_Category', columns='Ethnicity', values='Count')\n",
    "pivot_df_year=pivot_df_year.fillna(value=0).reset_index()\n",
    "pivot_df_year.head()"
   ]
  },
  {
   "cell_type": "code",
   "execution_count": 395,
   "metadata": {},
   "outputs": [
    {
     "data": {
      "application/vnd.plotly.v1+json": {
       "config": {
        "plotlyServerURL": "https://plot.ly"
       },
       "data": [
        {
         "name": "Eastern Slavic",
         "stackgroup": "one",
         "type": "scatter",
         "x": [
          1930,
          1935,
          1940,
          1945,
          1950,
          1955,
          1960,
          1965,
          1970,
          1975,
          1980,
          1985,
          1990,
          1995,
          2000,
          2005,
          2010
         ],
         "y": [
          4,
          3,
          4,
          2,
          3,
          3,
          2,
          7,
          6,
          4,
          6,
          16,
          26,
          31,
          44,
          65,
          35
         ]
        },
        {
         "name": "English-Speaking",
         "stackgroup": "one",
         "type": "scatter",
         "x": [
          1930,
          1935,
          1940,
          1945,
          1950,
          1955,
          1960,
          1965,
          1970,
          1975,
          1980,
          1985,
          1990,
          1995,
          2000,
          2005,
          2010
         ],
         "y": [
          96,
          127,
          113,
          115,
          140,
          187,
          147,
          145,
          217,
          220,
          368,
          474,
          649,
          991,
          1300,
          1955,
          988
         ]
        },
        {
         "name": "Germanic",
         "stackgroup": "one",
         "type": "scatter",
         "x": [
          1930,
          1935,
          1940,
          1945,
          1950,
          1955,
          1960,
          1965,
          1970,
          1975,
          1980,
          1985,
          1990,
          1995,
          2000,
          2005,
          2010
         ],
         "y": [
          36,
          47,
          58,
          48,
          68,
          86,
          53,
          60,
          91,
          84,
          155,
          178,
          233,
          416,
          476,
          668,
          407
         ]
        },
        {
         "name": "Hispanic",
         "stackgroup": "one",
         "type": "scatter",
         "x": [
          1930,
          1935,
          1940,
          1945,
          1950,
          1955,
          1960,
          1965,
          1970,
          1975,
          1980,
          1985,
          1990,
          1995,
          2000,
          2005,
          2010
         ],
         "y": [
          1,
          1,
          2,
          2,
          1,
          1,
          2,
          2,
          0,
          2,
          2,
          4,
          7,
          12,
          9,
          16,
          13
         ]
        },
        {
         "name": "Nordic",
         "stackgroup": "one",
         "type": "scatter",
         "x": [
          1930,
          1935,
          1940,
          1945,
          1950,
          1955,
          1960,
          1965,
          1970,
          1975,
          1980,
          1985,
          1990,
          1995,
          2000,
          2005,
          2010
         ],
         "y": [
          0,
          0,
          0,
          0,
          0,
          0,
          0,
          2,
          0,
          0,
          2,
          0,
          0,
          1,
          2,
          1,
          1
         ]
        },
        {
         "name": "Romance",
         "stackgroup": "one",
         "type": "scatter",
         "x": [
          1930,
          1935,
          1940,
          1945,
          1950,
          1955,
          1960,
          1965,
          1970,
          1975,
          1980,
          1985,
          1990,
          1995,
          2000,
          2005,
          2010
         ],
         "y": [
          16,
          24,
          21,
          24,
          39,
          27,
          22,
          22,
          35,
          47,
          64,
          91,
          112,
          178,
          203,
          342,
          152
         ]
        },
        {
         "name": "Southern and Western Slavic",
         "stackgroup": "one",
         "type": "scatter",
         "x": [
          1930,
          1935,
          1940,
          1945,
          1950,
          1955,
          1960,
          1965,
          1970,
          1975,
          1980,
          1985,
          1990,
          1995,
          2000,
          2005,
          2010
         ],
         "y": [
          7,
          11,
          12,
          15,
          17,
          26,
          21,
          18,
          15,
          33,
          34,
          68,
          56,
          120,
          141,
          179,
          91
         ]
        }
       ],
       "layout": {
        "hovermode": "x unified",
        "legend": {
         "title": {
          "text": "Name ethnicity"
         }
        },
        "template": {
         "data": {
          "bar": [
           {
            "error_x": {
             "color": "#2a3f5f"
            },
            "error_y": {
             "color": "#2a3f5f"
            },
            "marker": {
             "line": {
              "color": "#E5ECF6",
              "width": 0.5
             },
             "pattern": {
              "fillmode": "overlay",
              "size": 10,
              "solidity": 0.2
             }
            },
            "type": "bar"
           }
          ],
          "barpolar": [
           {
            "marker": {
             "line": {
              "color": "#E5ECF6",
              "width": 0.5
             },
             "pattern": {
              "fillmode": "overlay",
              "size": 10,
              "solidity": 0.2
             }
            },
            "type": "barpolar"
           }
          ],
          "carpet": [
           {
            "aaxis": {
             "endlinecolor": "#2a3f5f",
             "gridcolor": "white",
             "linecolor": "white",
             "minorgridcolor": "white",
             "startlinecolor": "#2a3f5f"
            },
            "baxis": {
             "endlinecolor": "#2a3f5f",
             "gridcolor": "white",
             "linecolor": "white",
             "minorgridcolor": "white",
             "startlinecolor": "#2a3f5f"
            },
            "type": "carpet"
           }
          ],
          "choropleth": [
           {
            "colorbar": {
             "outlinewidth": 0,
             "ticks": ""
            },
            "type": "choropleth"
           }
          ],
          "contour": [
           {
            "colorbar": {
             "outlinewidth": 0,
             "ticks": ""
            },
            "colorscale": [
             [
              0,
              "#0d0887"
             ],
             [
              0.1111111111111111,
              "#46039f"
             ],
             [
              0.2222222222222222,
              "#7201a8"
             ],
             [
              0.3333333333333333,
              "#9c179e"
             ],
             [
              0.4444444444444444,
              "#bd3786"
             ],
             [
              0.5555555555555556,
              "#d8576b"
             ],
             [
              0.6666666666666666,
              "#ed7953"
             ],
             [
              0.7777777777777778,
              "#fb9f3a"
             ],
             [
              0.8888888888888888,
              "#fdca26"
             ],
             [
              1,
              "#f0f921"
             ]
            ],
            "type": "contour"
           }
          ],
          "contourcarpet": [
           {
            "colorbar": {
             "outlinewidth": 0,
             "ticks": ""
            },
            "type": "contourcarpet"
           }
          ],
          "heatmap": [
           {
            "colorbar": {
             "outlinewidth": 0,
             "ticks": ""
            },
            "colorscale": [
             [
              0,
              "#0d0887"
             ],
             [
              0.1111111111111111,
              "#46039f"
             ],
             [
              0.2222222222222222,
              "#7201a8"
             ],
             [
              0.3333333333333333,
              "#9c179e"
             ],
             [
              0.4444444444444444,
              "#bd3786"
             ],
             [
              0.5555555555555556,
              "#d8576b"
             ],
             [
              0.6666666666666666,
              "#ed7953"
             ],
             [
              0.7777777777777778,
              "#fb9f3a"
             ],
             [
              0.8888888888888888,
              "#fdca26"
             ],
             [
              1,
              "#f0f921"
             ]
            ],
            "type": "heatmap"
           }
          ],
          "heatmapgl": [
           {
            "colorbar": {
             "outlinewidth": 0,
             "ticks": ""
            },
            "colorscale": [
             [
              0,
              "#0d0887"
             ],
             [
              0.1111111111111111,
              "#46039f"
             ],
             [
              0.2222222222222222,
              "#7201a8"
             ],
             [
              0.3333333333333333,
              "#9c179e"
             ],
             [
              0.4444444444444444,
              "#bd3786"
             ],
             [
              0.5555555555555556,
              "#d8576b"
             ],
             [
              0.6666666666666666,
              "#ed7953"
             ],
             [
              0.7777777777777778,
              "#fb9f3a"
             ],
             [
              0.8888888888888888,
              "#fdca26"
             ],
             [
              1,
              "#f0f921"
             ]
            ],
            "type": "heatmapgl"
           }
          ],
          "histogram": [
           {
            "marker": {
             "pattern": {
              "fillmode": "overlay",
              "size": 10,
              "solidity": 0.2
             }
            },
            "type": "histogram"
           }
          ],
          "histogram2d": [
           {
            "colorbar": {
             "outlinewidth": 0,
             "ticks": ""
            },
            "colorscale": [
             [
              0,
              "#0d0887"
             ],
             [
              0.1111111111111111,
              "#46039f"
             ],
             [
              0.2222222222222222,
              "#7201a8"
             ],
             [
              0.3333333333333333,
              "#9c179e"
             ],
             [
              0.4444444444444444,
              "#bd3786"
             ],
             [
              0.5555555555555556,
              "#d8576b"
             ],
             [
              0.6666666666666666,
              "#ed7953"
             ],
             [
              0.7777777777777778,
              "#fb9f3a"
             ],
             [
              0.8888888888888888,
              "#fdca26"
             ],
             [
              1,
              "#f0f921"
             ]
            ],
            "type": "histogram2d"
           }
          ],
          "histogram2dcontour": [
           {
            "colorbar": {
             "outlinewidth": 0,
             "ticks": ""
            },
            "colorscale": [
             [
              0,
              "#0d0887"
             ],
             [
              0.1111111111111111,
              "#46039f"
             ],
             [
              0.2222222222222222,
              "#7201a8"
             ],
             [
              0.3333333333333333,
              "#9c179e"
             ],
             [
              0.4444444444444444,
              "#bd3786"
             ],
             [
              0.5555555555555556,
              "#d8576b"
             ],
             [
              0.6666666666666666,
              "#ed7953"
             ],
             [
              0.7777777777777778,
              "#fb9f3a"
             ],
             [
              0.8888888888888888,
              "#fdca26"
             ],
             [
              1,
              "#f0f921"
             ]
            ],
            "type": "histogram2dcontour"
           }
          ],
          "mesh3d": [
           {
            "colorbar": {
             "outlinewidth": 0,
             "ticks": ""
            },
            "type": "mesh3d"
           }
          ],
          "parcoords": [
           {
            "line": {
             "colorbar": {
              "outlinewidth": 0,
              "ticks": ""
             }
            },
            "type": "parcoords"
           }
          ],
          "pie": [
           {
            "automargin": true,
            "type": "pie"
           }
          ],
          "scatter": [
           {
            "fillpattern": {
             "fillmode": "overlay",
             "size": 10,
             "solidity": 0.2
            },
            "type": "scatter"
           }
          ],
          "scatter3d": [
           {
            "line": {
             "colorbar": {
              "outlinewidth": 0,
              "ticks": ""
             }
            },
            "marker": {
             "colorbar": {
              "outlinewidth": 0,
              "ticks": ""
             }
            },
            "type": "scatter3d"
           }
          ],
          "scattercarpet": [
           {
            "marker": {
             "colorbar": {
              "outlinewidth": 0,
              "ticks": ""
             }
            },
            "type": "scattercarpet"
           }
          ],
          "scattergeo": [
           {
            "marker": {
             "colorbar": {
              "outlinewidth": 0,
              "ticks": ""
             }
            },
            "type": "scattergeo"
           }
          ],
          "scattergl": [
           {
            "marker": {
             "colorbar": {
              "outlinewidth": 0,
              "ticks": ""
             }
            },
            "type": "scattergl"
           }
          ],
          "scattermapbox": [
           {
            "marker": {
             "colorbar": {
              "outlinewidth": 0,
              "ticks": ""
             }
            },
            "type": "scattermapbox"
           }
          ],
          "scatterpolar": [
           {
            "marker": {
             "colorbar": {
              "outlinewidth": 0,
              "ticks": ""
             }
            },
            "type": "scatterpolar"
           }
          ],
          "scatterpolargl": [
           {
            "marker": {
             "colorbar": {
              "outlinewidth": 0,
              "ticks": ""
             }
            },
            "type": "scatterpolargl"
           }
          ],
          "scatterternary": [
           {
            "marker": {
             "colorbar": {
              "outlinewidth": 0,
              "ticks": ""
             }
            },
            "type": "scatterternary"
           }
          ],
          "surface": [
           {
            "colorbar": {
             "outlinewidth": 0,
             "ticks": ""
            },
            "colorscale": [
             [
              0,
              "#0d0887"
             ],
             [
              0.1111111111111111,
              "#46039f"
             ],
             [
              0.2222222222222222,
              "#7201a8"
             ],
             [
              0.3333333333333333,
              "#9c179e"
             ],
             [
              0.4444444444444444,
              "#bd3786"
             ],
             [
              0.5555555555555556,
              "#d8576b"
             ],
             [
              0.6666666666666666,
              "#ed7953"
             ],
             [
              0.7777777777777778,
              "#fb9f3a"
             ],
             [
              0.8888888888888888,
              "#fdca26"
             ],
             [
              1,
              "#f0f921"
             ]
            ],
            "type": "surface"
           }
          ],
          "table": [
           {
            "cells": {
             "fill": {
              "color": "#EBF0F8"
             },
             "line": {
              "color": "white"
             }
            },
            "header": {
             "fill": {
              "color": "#C8D4E3"
             },
             "line": {
              "color": "white"
             }
            },
            "type": "table"
           }
          ]
         },
         "layout": {
          "annotationdefaults": {
           "arrowcolor": "#2a3f5f",
           "arrowhead": 0,
           "arrowwidth": 1
          },
          "autotypenumbers": "strict",
          "coloraxis": {
           "colorbar": {
            "outlinewidth": 0,
            "ticks": ""
           }
          },
          "colorscale": {
           "diverging": [
            [
             0,
             "#8e0152"
            ],
            [
             0.1,
             "#c51b7d"
            ],
            [
             0.2,
             "#de77ae"
            ],
            [
             0.3,
             "#f1b6da"
            ],
            [
             0.4,
             "#fde0ef"
            ],
            [
             0.5,
             "#f7f7f7"
            ],
            [
             0.6,
             "#e6f5d0"
            ],
            [
             0.7,
             "#b8e186"
            ],
            [
             0.8,
             "#7fbc41"
            ],
            [
             0.9,
             "#4d9221"
            ],
            [
             1,
             "#276419"
            ]
           ],
           "sequential": [
            [
             0,
             "#0d0887"
            ],
            [
             0.1111111111111111,
             "#46039f"
            ],
            [
             0.2222222222222222,
             "#7201a8"
            ],
            [
             0.3333333333333333,
             "#9c179e"
            ],
            [
             0.4444444444444444,
             "#bd3786"
            ],
            [
             0.5555555555555556,
             "#d8576b"
            ],
            [
             0.6666666666666666,
             "#ed7953"
            ],
            [
             0.7777777777777778,
             "#fb9f3a"
            ],
            [
             0.8888888888888888,
             "#fdca26"
            ],
            [
             1,
             "#f0f921"
            ]
           ],
           "sequentialminus": [
            [
             0,
             "#0d0887"
            ],
            [
             0.1111111111111111,
             "#46039f"
            ],
            [
             0.2222222222222222,
             "#7201a8"
            ],
            [
             0.3333333333333333,
             "#9c179e"
            ],
            [
             0.4444444444444444,
             "#bd3786"
            ],
            [
             0.5555555555555556,
             "#d8576b"
            ],
            [
             0.6666666666666666,
             "#ed7953"
            ],
            [
             0.7777777777777778,
             "#fb9f3a"
            ],
            [
             0.8888888888888888,
             "#fdca26"
            ],
            [
             1,
             "#f0f921"
            ]
           ]
          },
          "colorway": [
           "#636efa",
           "#EF553B",
           "#00cc96",
           "#ab63fa",
           "#FFA15A",
           "#19d3f3",
           "#FF6692",
           "#B6E880",
           "#FF97FF",
           "#FECB52"
          ],
          "font": {
           "color": "#2a3f5f"
          },
          "geo": {
           "bgcolor": "white",
           "lakecolor": "white",
           "landcolor": "#E5ECF6",
           "showlakes": true,
           "showland": true,
           "subunitcolor": "white"
          },
          "hoverlabel": {
           "align": "left"
          },
          "hovermode": "closest",
          "mapbox": {
           "style": "light"
          },
          "paper_bgcolor": "white",
          "plot_bgcolor": "#E5ECF6",
          "polar": {
           "angularaxis": {
            "gridcolor": "white",
            "linecolor": "white",
            "ticks": ""
           },
           "bgcolor": "#E5ECF6",
           "radialaxis": {
            "gridcolor": "white",
            "linecolor": "white",
            "ticks": ""
           }
          },
          "scene": {
           "xaxis": {
            "backgroundcolor": "#E5ECF6",
            "gridcolor": "white",
            "gridwidth": 2,
            "linecolor": "white",
            "showbackground": true,
            "ticks": "",
            "zerolinecolor": "white"
           },
           "yaxis": {
            "backgroundcolor": "#E5ECF6",
            "gridcolor": "white",
            "gridwidth": 2,
            "linecolor": "white",
            "showbackground": true,
            "ticks": "",
            "zerolinecolor": "white"
           },
           "zaxis": {
            "backgroundcolor": "#E5ECF6",
            "gridcolor": "white",
            "gridwidth": 2,
            "linecolor": "white",
            "showbackground": true,
            "ticks": "",
            "zerolinecolor": "white"
           }
          },
          "shapedefaults": {
           "line": {
            "color": "#2a3f5f"
           }
          },
          "ternary": {
           "aaxis": {
            "gridcolor": "white",
            "linecolor": "white",
            "ticks": ""
           },
           "baxis": {
            "gridcolor": "white",
            "linecolor": "white",
            "ticks": ""
           },
           "bgcolor": "#E5ECF6",
           "caxis": {
            "gridcolor": "white",
            "linecolor": "white",
            "ticks": ""
           }
          },
          "title": {
           "x": 0.05
          },
          "xaxis": {
           "automargin": true,
           "gridcolor": "white",
           "linecolor": "white",
           "ticks": "",
           "title": {
            "standoff": 15
           },
           "zerolinecolor": "white",
           "zerolinewidth": 2
          },
          "yaxis": {
           "automargin": true,
           "gridcolor": "white",
           "linecolor": "white",
           "ticks": "",
           "title": {
            "standoff": 15
           },
           "zerolinecolor": "white",
           "zerolinewidth": 2
          }
         }
        },
        "title": {
         "text": "Evolution of villains` name ethnicity in american movies over the year "
        },
        "xaxis": {
         "title": {
          "text": "Year"
         }
        },
        "yaxis": {
         "title": {
          "text": "Number of villains across the dataset"
         }
        }
       }
      }
     },
     "metadata": {},
     "output_type": "display_data"
    }
   ],
   "source": [
    "fig = go.Figure()\n",
    "\n",
    "# Add traces using a for loop\n",
    "for column in pivot_df_year.columns[2:]:  # Skip the 'Year' column\n",
    "    fig.add_trace(go.Scatter(\n",
    "        x=pivot_df_year['Year_Category'], y=pivot_df_year[column],\n",
    "        stackgroup='one', name=column\n",
    "    ))\n",
    "\n",
    "# Customize the layout\n",
    "fig.update_layout(\n",
    "    title='Evolution of villains` name ethnicity in american movies over the year ',\n",
    "    xaxis_title='Year',\n",
    "    yaxis_title='Number of villains across the dataset',\n",
    "    legend_title='Name ethnicity',\n",
    "    template='plotly',\n",
    "    hovermode='x unified'\n",
    ")\n",
    "\n",
    "# Show the figure\n",
    "fig.show()"
   ]
  },
  {
   "cell_type": "markdown",
   "metadata": {},
   "source": [
    "### Pre processing pour Roberta"
   ]
  },
  {
   "cell_type": "markdown",
   "metadata": {},
   "source": [
    "La fonction ci-dessous permet de réduire aléatoirement le nombre de phrases affiliées à un prénom. La valeur \"MAX_SENTENCES\" peut être fixée manuellement pour plus ou moins de précision. "
   ]
  },
  {
   "cell_type": "code",
   "execution_count": null,
   "metadata": {},
   "outputs": [],
   "source": [
    "# list_characters = df_sentences_by_names[\"Character_Name\"]\n",
    "# MAX_SENTENCES = 100  # À ajuster selon besoin\n",
    "\n",
    "# df_reduced = []\n",
    "\n",
    "# for idx, row in df_sentences_by_names.iterrows():\n",
    "#     if row[\"Sentence_Count\"] > MAX_SENTENCES:\n",
    "#         reduced_sentences = pd.Series(row[\"Sentences\"]).sample(MAX_SENTENCES, random_state=42).tolist()\n",
    "#     else:\n",
    "#         reduced_sentences = row[\"Sentences\"]\n",
    "    \n",
    "#     df_reduced.append({\n",
    "#         \"Character_Name\": row[\"Character_Name\"],\n",
    "#         \"Sentences\": reduced_sentences,\n",
    "#         \"Sentence_Count\": len(reduced_sentences)\n",
    "#     })\n",
    "\n",
    "df_reduced = pd.DataFrame(df_reduced)"
   ]
  },
  {
   "cell_type": "markdown",
   "metadata": {},
   "source": [
    "### Fonctions pour Hugging Face"
   ]
  },
  {
   "cell_type": "code",
   "execution_count": null,
   "metadata": {},
   "outputs": [
    {
     "name": "stderr",
     "output_type": "stream",
     "text": [
      "/opt/anaconda3/envs/ada/lib/python3.11/site-packages/huggingface_hub/file_download.py:1150: FutureWarning:\n",
      "\n",
      "`resume_download` is deprecated and will be removed in version 1.0.0. Downloads always resume when possible. If you want to force a new download, use `force_download=True`.\n",
      "\n"
     ]
    },
    {
     "name": "stdout",
     "output_type": "stream",
     "text": [
      "  Character_Name Emotion_Label  Emotion_Score\n",
      "0       Williams      approval       0.093403\n",
      "1         Sheila      approval       0.167935\n",
      "2         Arthur      approval       0.103182\n",
      "3            Ash      approval       0.087676\n",
      "4           Duke      approval       0.123284\n",
      "5      Sebastian      approval       0.116608\n",
      "6        Deckard      approval       0.077829\n"
     ]
    }
   ],
   "source": [
    "from transformers import pipeline\n",
    "import torch\n",
    "\n",
    "sentiment_pipeline = pipeline(task=\"text-classification\", model=\"SamLowe/roberta-base-go_emotions\", top_k=None)\n",
    "\n",
    "df_reduced_2 = df_reduced.head(7)\n",
    "\n",
    "df_HF = []\n",
    "\n",
    "for index, row in df_reduced_2.iterrows():\n",
    "    character_name = row['Character_Name']\n",
    "    sentences = row['Sentences']\n",
    "\n",
    "    emotion_labels = []\n",
    "    emotion_scores = []\n",
    "    \n",
    "    results = sentiment_pipeline(sentences)\n",
    "\n",
    "    for res in results:\n",
    "        sorted_emotions = sorted(res, key=lambda x: x['score'], reverse=True)\n",
    "\n",
    "        if sorted_emotions[0]['label'] == 'neutral' and len(sorted_emotions) > 1:\n",
    "            best_emotion = sorted_emotions[1]\n",
    "        else:\n",
    "            best_emotion = sorted_emotions[0]\n",
    "        \n",
    "        emotion_labels.append(best_emotion['label'])\n",
    "        emotion_scores.append(best_emotion['score'])\n",
    "    \n",
    "    mean_emotion_score = np.mean(emotion_scores) if emotion_scores else None\n",
    "    most_common_emotion = max(set(emotion_labels), key=emotion_labels.count)\n",
    "    \n",
    "    df_HF.append({\n",
    "        \"Character_Name\": character_name,\n",
    "        \"Emotion_Label\": most_common_emotion,\n",
    "        \"Emotion_Score\": mean_emotion_score\n",
    "    })\n",
    "\n",
    "df_HF = pd.DataFrame(df_HF)\n",
    "print(df_HF)"
   ]
  },
  {
   "cell_type": "code",
   "execution_count": null,
   "metadata": {},
   "outputs": [],
   "source": [
    "from transformers import pipeline\n",
    "\n",
    "sentiment_pipeline = pipeline('sentiment-analysis', model=\"roberta-goemotions\", tokenizer=\"roberta-goemotions\")\n",
    "\n",
    "def get_emotions_batch(sentences):\n",
    "    result = sentiment_pipeline(sentences, batch_size=8)  \n",
    "    return result\n",
    "\n",
    "df_HF = []\n",
    "\n",
    "for index, row in df_reduced.iterrows():\n",
    "    character_name = row['Character_Name']\n",
    "    sentences = row['Sentences']\n",
    "    \n",
    "    batch_size = 8  \n",
    "    emotion_labels = []\n",
    "    emotion_scores = []\n",
    "\n",
    "    for i in range(0, len(sentences), batch_size):\n",
    "        batch_sentences = sentences[i:i+batch_size]\n",
    "        \n",
    "        emotions = get_emotions_batch(batch_sentences)\n",
    "        \n",
    "        for emotion in emotions:\n",
    "            emotion_labels.append(emotion['label'])\n",
    "            emotion_scores.append(emotion['score'])\n",
    "    \n",
    "    mean_emotion_score = np.mean(emotion_scores) if emotion_scores else None\n",
    "    most_common_emotion = max(set(emotion_labels), key=emotion_labels.count)\n",
    "    \n",
    "    df_HF.append({\n",
    "        \"Character_Name\": character_name,\n",
    "        \"Emotion_Label\": most_common_emotion,\n",
    "        \"Emotion_Score\": mean_emotion_score\n",
    "    })\n",
    "\n",
    "df_HF = pd.DataFrame(df_HF)\n",
    "print(df_HF)"
   ]
  },
  {
   "cell_type": "markdown",
   "metadata": {},
   "source": [
    "### Fonctions pour Roberta SA"
   ]
  },
  {
   "cell_type": "code",
   "execution_count": null,
   "metadata": {},
   "outputs": [],
   "source": [
    "# from transformers import pipeline\n",
    "\n",
    "# def get_sentiment_with_roberta(sentence):\n",
    "#     sentiment_pipeline = pipeline('sentiment-analysis', model='roberta-large-mnli')\n",
    "#     result = sentiment_pipeline(sentence)\n",
    "#     return result[0][\"score\"]\n",
    "\n",
    "# def process_character_sentiments_roberta(sentences):\n",
    "#     sentences_roberta = []\n",
    "    \n",
    "#     for sentence in sentences:\n",
    "#         sentiment_with_roberta = get_sentiment_with_roberta(sentence)\n",
    "#         sentences_roberta.append(sentiment_with_roberta)\n",
    "    \n",
    "#     mean_sentiment_roberta = np.mean(sentences_roberta) if sentences_roberta else None\n",
    "    \n",
    "#     return mean_sentiment_roberta"
   ]
  },
  {
   "cell_type": "code",
   "execution_count": null,
   "metadata": {},
   "outputs": [],
   "source": [
    "# data_roberta = []\n",
    "\n",
    "# for index, character_name in enumerate(list_characters):\n",
    "#     list_sentences_by_character = df_reduced[\"Sentences\"].iloc[index]\n",
    "    \n",
    "#     mean_sentiment_roberta = process_character_sentiments_roberta(list_sentences_by_character)\n",
    "\n",
    "#     data_roberta.append({\n",
    "#         \"Character_Name\": character_name,\n",
    "#         \"Sentiment\": mean_sentiment_roberta\n",
    "#     })\n",
    "\n",
    "# df_sentiment_analysis_roberta = pd.DataFrame(data_roberta)\n",
    "# print(df_sentiment_analysis_roberta)"
   ]
  },
  {
   "cell_type": "markdown",
   "metadata": {},
   "source": [
    "### Regrouper les phrases par prénoms"
   ]
  },
  {
   "cell_type": "code",
   "execution_count": 98,
   "metadata": {},
   "outputs": [],
   "source": [
    "# # Rassemble les phrases par prénoms\n",
    "\n",
    "# df = pd.DataFrame(data)\n",
    "# df['Sentence_Count'] = df['Sentences'].apply(len)\n",
    "# df = df[df['Sentences'].apply(lambda x: len(x) > 0)]\n",
    "\n",
    "# grouped_sentences_by_names = {}\n",
    "\n",
    "# for index, row in df.iterrows():\n",
    "#     character_name = row['Character_Name']\n",
    "#     sentences = row['Sentences']\n",
    "    \n",
    "#     if character_name in grouped_sentences_by_names:\n",
    "#         grouped_sentences_by_names[character_name].extend(sentences)  \n",
    "#     else:\n",
    "#         grouped_sentences_by_names[character_name] = sentences \n",
    "\n",
    "# grouped_sentences_by_names_list = []\n",
    "\n",
    "# for character_name, sentences in grouped_sentences_by_names.items():\n",
    "#     grouped_sentences_by_names_list.append({\n",
    "#         'Character_Name': character_name,\n",
    "#         'Sentences': sentences,\n",
    "#         'Sentence_Count': len(sentences)\n",
    "#     })\n",
    "\n",
    "# df_sentences_by_names = pd.DataFrame(grouped_sentences_by_names_list)\n",
    "# print(df_sentences_by_names)"
   ]
  }
 ],
 "metadata": {
  "kernelspec": {
   "display_name": "ada_project",
   "language": "python",
   "name": "python3"
  },
  "language_info": {
   "codemirror_mode": {
    "name": "ipython",
    "version": 3
   },
   "file_extension": ".py",
   "mimetype": "text/x-python",
   "name": "python",
   "nbconvert_exporter": "python",
   "pygments_lexer": "ipython3",
   "version": "3.12.1"
  }
 },
 "nbformat": 4,
 "nbformat_minor": 2
}
